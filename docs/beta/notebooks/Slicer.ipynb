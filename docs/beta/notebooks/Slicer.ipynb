{
 "cells": [
  {
   "cell_type": "markdown",
   "metadata": {
    "button": false,
    "new_sheet": false,
    "run_control": {
     "read_only": false
    },
    "slideshow": {
     "slide_type": "slide"
    }
   },
   "source": [
    "# Tracking Failure Origins\n",
    "\n",
    "The question of \"Where does this value come from?\" is fundamental for debugging. Which earlier variables could possibly have influenced the current erroneous state? And how did their values come to be?\n",
    "\n",
    "When programmers read code during debugging, they scan it for potential _origins_ of given values. This can be a tedious experience, notably, if the origins spread across multiple separate locations, possibly even in different modules. In this chapter, we thus investigate means to _determine such origins_ automatically – by collecting data and control dependencies during program execution."
   ]
  },
  {
   "cell_type": "code",
   "execution_count": 1,
   "metadata": {
    "execution": {
     "iopub.execute_input": "2021-05-11T17:07:49.212773Z",
     "iopub.status.busy": "2021-05-11T17:07:49.212132Z",
     "iopub.status.idle": "2021-05-11T17:07:49.364853Z",
     "shell.execute_reply": "2021-05-11T17:07:49.365310Z"
    },
    "slideshow": {
     "slide_type": "skip"
    }
   },
   "outputs": [
    {
     "data": {
      "text/html": [
       "\n",
       "        <iframe\n",
       "            width=\"640\"\n",
       "            height=\"360\"\n",
       "            src=\"https://www.youtube-nocookie.com/embed/sjf3cOR0lcI\"\n",
       "            frameborder=\"0\"\n",
       "            allowfullscreen\n",
       "        ></iframe>\n",
       "        "
      ],
      "text/plain": [
       "<IPython.lib.display.IFrame at 0x7fe2452f9d30>"
      ]
     },
     "execution_count": 1,
     "metadata": {},
     "output_type": "execute_result"
    }
   ],
   "source": [
    "from bookutils import YouTubeVideo\n",
    "YouTubeVideo(\"sjf3cOR0lcI\")"
   ]
  },
  {
   "cell_type": "markdown",
   "metadata": {
    "button": false,
    "new_sheet": false,
    "run_control": {
     "read_only": false
    },
    "slideshow": {
     "slide_type": "subslide"
    }
   },
   "source": [
    "**Prerequisites**\n",
    "\n",
    "* You should have read the [Introduction to Debugging](Intro_Debugging).\n",
    "* To understand how to compute dependencies automatically (the second half of this chapter), you will need\n",
    "    * advanced knowledge of Python semantics\n",
    "    * knowledge on how to instrument and transform code\n",
    "    * knowledge on how an interpreter works"
   ]
  },
  {
   "cell_type": "code",
   "execution_count": 2,
   "metadata": {
    "button": false,
    "execution": {
     "iopub.execute_input": "2021-05-11T17:07:49.369405Z",
     "iopub.status.busy": "2021-05-11T17:07:49.368686Z",
     "iopub.status.idle": "2021-05-11T17:07:49.371019Z",
     "shell.execute_reply": "2021-05-11T17:07:49.371442Z"
    },
    "new_sheet": false,
    "run_control": {
     "read_only": false
    },
    "slideshow": {
     "slide_type": "skip"
    }
   },
   "outputs": [],
   "source": [
    "import bookutils"
   ]
  },
  {
   "cell_type": "code",
   "execution_count": 3,
   "metadata": {
    "execution": {
     "iopub.execute_input": "2021-05-11T17:07:49.374604Z",
     "iopub.status.busy": "2021-05-11T17:07:49.374076Z",
     "iopub.status.idle": "2021-05-11T17:07:49.375617Z",
     "shell.execute_reply": "2021-05-11T17:07:49.376208Z"
    },
    "slideshow": {
     "slide_type": "skip"
    }
   },
   "outputs": [],
   "source": [
    "from bookutils import quiz, next_inputs, print_content"
   ]
  },
  {
   "cell_type": "code",
   "execution_count": 4,
   "metadata": {
    "execution": {
     "iopub.execute_input": "2021-05-11T17:07:49.379284Z",
     "iopub.status.busy": "2021-05-11T17:07:49.378667Z",
     "iopub.status.idle": "2021-05-11T17:07:49.380221Z",
     "shell.execute_reply": "2021-05-11T17:07:49.380680Z"
    },
    "slideshow": {
     "slide_type": "skip"
    }
   },
   "outputs": [],
   "source": [
    "import inspect\n",
    "import warnings"
   ]
  },
  {
   "cell_type": "code",
   "execution_count": 5,
   "metadata": {
    "execution": {
     "iopub.execute_input": "2021-05-11T17:07:49.384145Z",
     "iopub.status.busy": "2021-05-11T17:07:49.383560Z",
     "iopub.status.idle": "2021-05-11T17:07:49.385785Z",
     "shell.execute_reply": "2021-05-11T17:07:49.385393Z"
    },
    "slideshow": {
     "slide_type": "fragment"
    }
   },
   "outputs": [],
   "source": [
    "# ignore\n",
    "from typing import Set, List, Tuple, Any, Callable, Dict, Optional\n",
    "from typing import Union, Type, Generator, cast"
   ]
  },
  {
   "cell_type": "markdown",
   "metadata": {
    "slideshow": {
     "slide_type": "skip"
    }
   },
   "source": [
    "## Synopsis\n",
    "<!-- Automatically generated. Do not edit. -->\n",
    "\n",
    "To [use the code provided in this chapter](Importing.ipynb), write\n",
    "\n",
    "```python\n",
    ">>> from debuggingbook.Slicer import <identifier>\n",
    "```\n",
    "\n",
    "and then make use of the following features.\n",
    "\n",
    "\n",
    "This chapter provides a `Slicer` class to automatically determine and visualize dynamic flows and dependencies. When we say that a variable $x$ _depends_ on a variable $y$ (and that $y$ _flows_ into $x$), we distinguish two kinds of dependencies:\n",
    "\n",
    "* **Data dependency**: $x$ is assigned a value computed from $y$.\n",
    "* **Control dependency**: A statement involving $x$ is executed _only_ because a _condition_ involving $y$ was evaluated, influencing the execution path.\n",
    "\n",
    "Such dependencies are crucial for debugging, as they allow to determine the origins of individual values (and notably incorrect values). \n",
    "\n",
    "To determine dynamic dependencies in a function `func`, use\n",
    "\n",
    "```python\n",
    "with Slicer() as slicer:\n",
    "    <Some call to func()>\n",
    "```\n",
    "\n",
    "and then `slicer.graph()` or `slicer.code()` to examine dependencies.\n",
    "\n",
    "You can also explicitly specify the functions to be instrumented, as in \n",
    "\n",
    "```python\n",
    "with Slicer(func, func_1, func_2) as slicer:\n",
    "    <Some call to func()>\n",
    "```\n",
    "\n",
    "Here is an example. The `demo()` function computes some number from `x`:\n",
    "\n",
    "```python\n",
    ">>> def demo(x: int) -> int:\n",
    ">>>     z = x\n",
    ">>>     while x <= z <= 64:\n",
    ">>>         z *= 2\n",
    ">>>     return z\n",
    "```\n",
    "By using `with Slicer()`, we first instrument `demo()` and then execute it:\n",
    "\n",
    "```python\n",
    ">>> with Slicer() as slicer:\n",
    ">>>     demo(10)\n",
    "```\n",
    "After execution is complete, you can output `slicer` to visualize the dependencies and flows as graph. Data dependencies are shown as black solid edges; control dependencies are shown as grey dashed edges. The arrows indicate influence: If $y$ depends on $x$ (and thus $x$ flows into $y$), then we have an arrow $x \\rightarrow y$.\n",
    "We see how the parameter `x` flows into `z`, which is returned after some computation that is control dependent on a `<test>` involving `z`.\n",
    "\n",
    "```python\n",
    ">>> slicer\n",
    "```\n",
    "![](PICS/Slicer-synopsis-1.svg)\n",
    "An alternate representation is `slicer.code()`, annotating the instrumented source code with (backward) dependencies. Data dependencies are shown with `<=`, control dependencies with `<-`; locations (lines) are shown in parentheses.\n",
    "\n",
    "```python\n",
    ">>> slicer.code()\n",
    "*    1 def demo(x: int) -> int:\n",
    "*    2     z = x  # <= x (1)\n",
    "*    3     while x <= z <= 64:  # <= z (4), z (2), x (1)\n",
    "*    4         z *= 2  # <= z (2), z (4); <- <test> (3)\n",
    "*    5     return z  # <= z (4)\n",
    "\n",
    "```\n",
    "Dependencies can also be retrieved programmatically. The `dependencies()` method returns a `Dependencies` object encapsulating the dependency graph.\n",
    "\n",
    "The method `all_vars()` returns all variables in the dependency graph. Each variable is encoded as a pair (_name_, _location_) where _location_ is a pair (_codename_, _lineno_).\n",
    "\n",
    "```python\n",
    ">>> slicer.dependencies().all_vars()\n",
    "{('<demo() return value>', (<function __main__.demo(x:int) -> int>, 5)),\n",
    " ('<test>', (<function __main__.demo(x:int) -> int>, 3)),\n",
    " ('x', (<function __main__.demo(x:int) -> int>, 1)),\n",
    " ('z', (<function __main__.demo(x:int) -> int>, 2)),\n",
    " ('z', (<function __main__.demo(x:int) -> int>, 4))}\n",
    "```\n",
    "`code()` and `graph()` methods can also be applied on dependencies. The method `backward_slice(var)` returns a backward slice for the given variable (again given as a pair (_name_, _location_). To retrieve where `z` in Line 2 came from, use:\n",
    "\n",
    "```python\n",
    ">>> _, start_demo = inspect.getsourcelines(demo)\n",
    ">>> start_demo\n",
    "1\n",
    ">>> slicer.dependencies().backward_slice(('z', (demo, start_demo + 1))).graph()  # type: ignore\n",
    "```\n",
    "![](PICS/Slicer-synopsis-2.svg)\n",
    "Here are the classes defined in this chapter. A `Slicer` instruments a program, using a `DependencyTracker` at run time to collect `Dependencies`.\n",
    "\n",
    "![](PICS/Slicer-synopsis-3.svg)\n"
   ]
  },
  {
   "cell_type": "markdown",
   "metadata": {
    "button": false,
    "new_sheet": true,
    "run_control": {
     "read_only": false
    },
    "slideshow": {
     "slide_type": "slide"
    }
   },
   "source": [
    "## Dependencies\n",
    "\n",
    "In the [Introduction to debugging](Intro_Debugging.ipynb), we have seen how faults in a program state propagate to eventually become visible as failures. This induces a debugging strategy called _tracking origins_:"
   ]
  },
  {
   "cell_type": "markdown",
   "metadata": {
    "button": false,
    "new_sheet": true,
    "run_control": {
     "read_only": false
    },
    "slideshow": {
     "slide_type": "subslide"
    }
   },
   "source": [
    "1. We start with a single faulty state _f_ – the failure.\n",
    "2. We determine _f_'s _origins_ – the parts of earlier states that could have caused the faulty state _f_.\n",
    "3. For each of these origins _e_, we determine whether they are faulty or not.\n",
    "4. For each of the faulty origins, we in turn determine _their_ origins.\n",
    "5. If we find a part of the state that is faulty, yet has only correct origins, we have found the defect."
   ]
  },
  {
   "cell_type": "markdown",
   "metadata": {
    "button": false,
    "new_sheet": true,
    "run_control": {
     "read_only": false
    },
    "slideshow": {
     "slide_type": "subslide"
    }
   },
   "source": [
    "In all generality, a \"part of the state\" can be anything that can influence the program – some configuration setting, some database content, or the state of a device. Almost always, though, it is through _individual variables_ that a part of the state manifests itself.\n",
    "\n",
    "The good news is that variables do not take arbitrary values at arbitrary times – instead, they are set and accessed at precise moments in time, as determined by the program's semantics. This allows us to determine their _origins_ by reading program code."
   ]
  },
  {
   "cell_type": "markdown",
   "metadata": {
    "button": false,
    "new_sheet": true,
    "run_control": {
     "read_only": false
    },
    "slideshow": {
     "slide_type": "fragment"
    }
   },
   "source": [
    "Let us assume you have a piece of code that reads as follows. The `middle()` function is supposed to return the \"middle\" number of three values `x`, `y`, and `z` – that is, the one number that neither is the minimum nor the maximum."
   ]
  },
  {
   "cell_type": "code",
   "execution_count": 6,
   "metadata": {
    "execution": {
     "iopub.execute_input": "2021-05-11T17:07:49.390878Z",
     "iopub.status.busy": "2021-05-11T17:07:49.390253Z",
     "iopub.status.idle": "2021-05-11T17:07:49.392382Z",
     "shell.execute_reply": "2021-05-11T17:07:49.392872Z"
    },
    "slideshow": {
     "slide_type": "subslide"
    }
   },
   "outputs": [],
   "source": [
    "def middle(x, y, z):  # type: ignore\n",
    "    if y < z:\n",
    "        if x < y:\n",
    "            return y\n",
    "        elif x < z:\n",
    "            return y\n",
    "    else:\n",
    "        if x > y:\n",
    "            return y\n",
    "        elif x > z:\n",
    "            return x\n",
    "    return z"
   ]
  },
  {
   "cell_type": "markdown",
   "metadata": {
    "slideshow": {
     "slide_type": "fragment"
    }
   },
   "source": [
    "In most cases, `middle()` runs just fine:"
   ]
  },
  {
   "cell_type": "code",
   "execution_count": 7,
   "metadata": {
    "execution": {
     "iopub.execute_input": "2021-05-11T17:07:49.396392Z",
     "iopub.status.busy": "2021-05-11T17:07:49.395740Z",
     "iopub.status.idle": "2021-05-11T17:07:49.397837Z",
     "shell.execute_reply": "2021-05-11T17:07:49.398208Z"
    },
    "slideshow": {
     "slide_type": "subslide"
    }
   },
   "outputs": [
    {
     "data": {
      "text/plain": [
       "2"
      ]
     },
     "execution_count": 1,
     "metadata": {},
     "output_type": "execute_result"
    }
   ],
   "source": [
    "m = middle(1, 2, 3)\n",
    "m"
   ]
  },
  {
   "cell_type": "markdown",
   "metadata": {
    "slideshow": {
     "slide_type": "fragment"
    }
   },
   "source": [
    "In others, however, it returns the wrong value:"
   ]
  },
  {
   "cell_type": "code",
   "execution_count": 8,
   "metadata": {
    "execution": {
     "iopub.execute_input": "2021-05-11T17:07:49.401592Z",
     "iopub.status.busy": "2021-05-11T17:07:49.400984Z",
     "iopub.status.idle": "2021-05-11T17:07:49.403566Z",
     "shell.execute_reply": "2021-05-11T17:07:49.404024Z"
    },
    "slideshow": {
     "slide_type": "fragment"
    }
   },
   "outputs": [
    {
     "data": {
      "text/plain": [
       "1"
      ]
     },
     "execution_count": 1,
     "metadata": {},
     "output_type": "execute_result"
    }
   ],
   "source": [
    "m = middle(2, 1, 3)\n",
    "m"
   ]
  },
  {
   "cell_type": "markdown",
   "metadata": {
    "slideshow": {
     "slide_type": "subslide"
    }
   },
   "source": [
    "This is a typical debugging situation: You see a value that is erroneous; and you want to find out where it came from. \n",
    "\n",
    "* In our case, we see that the erroneous value was returned from `middle()`, so we identify the five `return` statements in `middle()` that the value could have come from.\n",
    "* The value returned is the value of `y`, and neither `x`, `y`, nor `z` are altered during the execution of `middle()`. Hence, it must be one of the three `return y` statements that is the origin of `m`. But which one?\n",
    "\n",
    "For our small example, we can fire up an interactive debugger and simply step through the function; this reveals us the conditions evaluated and the `return` statement executed."
   ]
  },
  {
   "cell_type": "code",
   "execution_count": 9,
   "metadata": {
    "execution": {
     "iopub.execute_input": "2021-05-11T17:07:49.407081Z",
     "iopub.status.busy": "2021-05-11T17:07:49.406558Z",
     "iopub.status.idle": "2021-05-11T17:07:49.692217Z",
     "shell.execute_reply": "2021-05-11T17:07:49.692772Z"
    },
    "slideshow": {
     "slide_type": "skip"
    }
   },
   "outputs": [],
   "source": [
    "import Debugger  # minor dependency"
   ]
  },
  {
   "cell_type": "code",
   "execution_count": 10,
   "metadata": {
    "execution": {
     "iopub.execute_input": "2021-05-11T17:07:49.696420Z",
     "iopub.status.busy": "2021-05-11T17:07:49.695824Z",
     "iopub.status.idle": "2021-05-11T17:07:49.698005Z",
     "shell.execute_reply": "2021-05-11T17:07:49.698375Z"
    },
    "slideshow": {
     "slide_type": "subslide"
    }
   },
   "outputs": [
    {
     "data": {
      "text/plain": [
       "['step', 'step', 'step', 'step', 'quit']"
      ]
     },
     "execution_count": 1,
     "metadata": {},
     "output_type": "execute_result"
    }
   ],
   "source": [
    "# ignore\n",
    "next_inputs([\"step\", \"step\", \"step\", \"step\", \"quit\"]);"
   ]
  },
  {
   "cell_type": "code",
   "execution_count": 11,
   "metadata": {
    "execution": {
     "iopub.execute_input": "2021-05-11T17:07:49.701610Z",
     "iopub.status.busy": "2021-05-11T17:07:49.701021Z",
     "iopub.status.idle": "2021-05-11T17:07:49.811521Z",
     "shell.execute_reply": "2021-05-11T17:07:49.812014Z"
    },
    "slideshow": {
     "slide_type": "subslide"
    }
   },
   "outputs": [
    {
     "name": "stdout",
     "output_type": "stream",
     "text": [
      "Calling middle(z = 3, y = 1, x = 2)\n"
     ]
    },
    {
     "data": {
      "text/html": [
       "<samp>(debugger) <b>step</b></samp>"
      ],
      "text/plain": [
       "<IPython.core.display.HTML object>"
      ]
     },
     "metadata": {},
     "output_type": "display_data"
    },
    {
     "name": "stdout",
     "output_type": "stream",
     "text": [
      "2     if y < z:\n"
     ]
    },
    {
     "data": {
      "text/html": [
       "<samp>(debugger) <b>step</b></samp>"
      ],
      "text/plain": [
       "<IPython.core.display.HTML object>"
      ]
     },
     "metadata": {},
     "output_type": "display_data"
    },
    {
     "name": "stdout",
     "output_type": "stream",
     "text": [
      "3         if x < y:\n"
     ]
    },
    {
     "data": {
      "text/html": [
       "<samp>(debugger) <b>step</b></samp>"
      ],
      "text/plain": [
       "<IPython.core.display.HTML object>"
      ]
     },
     "metadata": {},
     "output_type": "display_data"
    },
    {
     "name": "stdout",
     "output_type": "stream",
     "text": [
      "5         elif x < z:\n"
     ]
    },
    {
     "data": {
      "text/html": [
       "<samp>(debugger) <b>step</b></samp>"
      ],
      "text/plain": [
       "<IPython.core.display.HTML object>"
      ]
     },
     "metadata": {},
     "output_type": "display_data"
    },
    {
     "name": "stdout",
     "output_type": "stream",
     "text": [
      "6             return y\n"
     ]
    },
    {
     "data": {
      "text/html": [
       "<samp>(debugger) <b>quit</b></samp>"
      ],
      "text/plain": [
       "<IPython.core.display.HTML object>"
      ]
     },
     "metadata": {},
     "output_type": "display_data"
    }
   ],
   "source": [
    "with Debugger.Debugger():\n",
    "    middle(2, 1, 3)"
   ]
  },
  {
   "cell_type": "markdown",
   "metadata": {
    "slideshow": {
     "slide_type": "subslide"
    }
   },
   "source": [
    "We now see that it was the second `return` statement that returned the incorrect value. But why was it executed after all? To this end, we can resort to the `middle()` source code and have a look at those conditions that caused the `return y` statement to be executed. Indeed, the conditions `y < z`, `x > y`, and finally `x < z` again are _origins_ of the returned value – and in turn have `x`, `y`, and `z` as origins."
   ]
  },
  {
   "cell_type": "markdown",
   "metadata": {
    "slideshow": {
     "slide_type": "subslide"
    }
   },
   "source": [
    "In our above reasoning about origins, we have encountered two kinds of origins:\n",
    "\n",
    "* earlier _data values_ (such as the value of `y` being returned) and\n",
    "* earlier _control conditions_ (such as the `if` conditions governing the `return y` statement).\n",
    "\n",
    "The later parts of the state that can be influenced by such origins are said to be _dependent_ on these origins. Speaking of variables, a variable $x$ _depends_ on the value of a variable $y$ (written as $x \\leftarrow y$) if a change in $y$ could affect the value of $x$."
   ]
  },
  {
   "cell_type": "markdown",
   "metadata": {
    "slideshow": {
     "slide_type": "subslide"
    }
   },
   "source": [
    "We distinguish two kinds of dependencies $x \\leftarrow y$, aligned with the two kinds of origins as outlined above:\n",
    "\n",
    "* **Data dependency**: $x$ is assigned a value computed from $y$. In our example, `m` is data dependent on the return value of `middle()`.\n",
    "* **Control dependency**: A statement involving $x$ is executed _only_ because a _condition_ involving $y$ was evaluated, influencing the execution path. In our example, the value returned by `return y` is control dependent on the several conditions along its path, which involve `x`, `y`, and `z`."
   ]
  },
  {
   "cell_type": "markdown",
   "metadata": {
    "slideshow": {
     "slide_type": "fragment"
    }
   },
   "source": [
    "Let us examine these dependencies in more detail."
   ]
  },
  {
   "cell_type": "markdown",
   "metadata": {
    "slideshow": {
     "slide_type": "subslide"
    }
   },
   "source": [
    "### Excursion: Visualizing Dependencies"
   ]
  },
  {
   "cell_type": "markdown",
   "metadata": {
    "slideshow": {
     "slide_type": "fragment"
    }
   },
   "source": [
    "Note: This is an excursion, diverting away from the main flow of the chapter. Unless you know what you are doing, you are encouraged to skip this part."
   ]
  },
  {
   "cell_type": "markdown",
   "metadata": {
    "slideshow": {
     "slide_type": "fragment"
    }
   },
   "source": [
    "To illustrate our examples, we introduce a `Dependencies` class that captures dependencies between variables at specific locations."
   ]
  },
  {
   "cell_type": "markdown",
   "metadata": {
    "slideshow": {
     "slide_type": "subslide"
    }
   },
   "source": [
    "#### A Class for Dependencies"
   ]
  },
  {
   "cell_type": "markdown",
   "metadata": {
    "slideshow": {
     "slide_type": "fragment"
    }
   },
   "source": [
    "`Dependencies` holds two dependency graphs. `data` holds data dependencies, `control` holds control dependencies."
   ]
  },
  {
   "cell_type": "markdown",
   "metadata": {
    "slideshow": {
     "slide_type": "subslide"
    }
   },
   "source": [
    "Each of the two is organized as a dictionary holding _nodes_ as keys and sets of nodes as values. Each node comes as a tuple\n",
    "\n",
    "```python\n",
    "(variable_name, location)\n",
    " ```\n",
    " \n",
    "where `variable_name` is a string and `location` is a pair\n",
    "\n",
    "\n",
    "```python\n",
    "(func, lineno)\n",
    " ```\n",
    " \n",
    "denoting a unique location in the code."
   ]
  },
  {
   "cell_type": "markdown",
   "metadata": {
    "slideshow": {
     "slide_type": "subslide"
    }
   },
   "source": [
    "This is also reflected in the following type definitions:"
   ]
  },
  {
   "cell_type": "code",
   "execution_count": 12,
   "metadata": {
    "execution": {
     "iopub.execute_input": "2021-05-11T17:07:49.817070Z",
     "iopub.status.busy": "2021-05-11T17:07:49.816432Z",
     "iopub.status.idle": "2021-05-11T17:07:49.818248Z",
     "shell.execute_reply": "2021-05-11T17:07:49.818743Z"
    },
    "slideshow": {
     "slide_type": "fragment"
    }
   },
   "outputs": [],
   "source": [
    "Location = Tuple[Callable, int]\n",
    "Node = Tuple[str, Location]\n",
    "Dependency = Dict[Node, Set[Node]]"
   ]
  },
  {
   "cell_type": "markdown",
   "metadata": {
    "slideshow": {
     "slide_type": "fragment"
    }
   },
   "source": [
    "In this chapter, for many purposes, we need to lookup a function's location, source code, or simply definition. The class `StackInspector` provides a number of convenience functions for this purpose."
   ]
  },
  {
   "cell_type": "code",
   "execution_count": 13,
   "metadata": {
    "execution": {
     "iopub.execute_input": "2021-05-11T17:07:49.822902Z",
     "iopub.status.busy": "2021-05-11T17:07:49.822206Z",
     "iopub.status.idle": "2021-05-11T17:07:49.823815Z",
     "shell.execute_reply": "2021-05-11T17:07:49.824188Z"
    },
    "slideshow": {
     "slide_type": "skip"
    }
   },
   "outputs": [],
   "source": [
    "from StackInspector import StackInspector"
   ]
  },
  {
   "cell_type": "markdown",
   "metadata": {
    "slideshow": {
     "slide_type": "fragment"
    }
   },
   "source": [
    "The `Dependencies` class builds on `StackInspector` to capture dependencies."
   ]
  },
  {
   "cell_type": "code",
   "execution_count": 14,
   "metadata": {
    "execution": {
     "iopub.execute_input": "2021-05-11T17:07:49.830372Z",
     "iopub.status.busy": "2021-05-11T17:07:49.829690Z",
     "iopub.status.idle": "2021-05-11T17:07:49.831531Z",
     "shell.execute_reply": "2021-05-11T17:07:49.832007Z"
    },
    "slideshow": {
     "slide_type": "subslide"
    }
   },
   "outputs": [],
   "source": [
    "class Dependencies(StackInspector):\n",
    "    \"\"\"A dependency graph\"\"\"\n",
    "\n",
    "    def __init__(self, \n",
    "                 data: Optional[Dependency] = None,\n",
    "                 control: Optional[Dependency] = None) -> None:\n",
    "        \"\"\"\n",
    "        Create a dependency graph from `data` and `control`.\n",
    "        Both `data` and `control` are dictionaries\n",
    "        holding _nodes_ as keys and sets of nodes as values.\n",
    "        Each node comes as a tuple (variable_name, location)\n",
    "        where `variable_name` is a string \n",
    "        and `location` is a pair (function, lineno)\n",
    "        where `function` is a callable and `lineno` is a line number\n",
    "        denoting a unique location in the code.\n",
    "        \"\"\"\n",
    "\n",
    "        if data is None:\n",
    "            data = {}\n",
    "        if control is None:\n",
    "            control = {}\n",
    "\n",
    "        self.data = data\n",
    "        self.control = control\n",
    "\n",
    "        for var in self.data:\n",
    "            self.control.setdefault(var, set())\n",
    "        for var in self.control:\n",
    "            self.data.setdefault(var, set())\n",
    "\n",
    "        self.validate()"
   ]
  },
  {
   "cell_type": "markdown",
   "metadata": {
    "slideshow": {
     "slide_type": "subslide"
    }
   },
   "source": [
    "The `validate()` method checks for consistency."
   ]
  },
  {
   "cell_type": "code",
   "execution_count": 15,
   "metadata": {
    "execution": {
     "iopub.execute_input": "2021-05-11T17:07:49.840570Z",
     "iopub.status.busy": "2021-05-11T17:07:49.838456Z",
     "iopub.status.idle": "2021-05-11T17:07:49.841786Z",
     "shell.execute_reply": "2021-05-11T17:07:49.842955Z"
    },
    "slideshow": {
     "slide_type": "fragment"
    }
   },
   "outputs": [],
   "source": [
    "class Dependencies(Dependencies):\n",
    "    def validate(self) -> None:\n",
    "        \"\"\"Check dependency structure.\"\"\"\n",
    "        assert isinstance(self.data, dict)\n",
    "        assert isinstance(self.control, dict)\n",
    "\n",
    "        for node in (self.data.keys()) | set(self.control.keys()):\n",
    "            var_name, location = node\n",
    "            assert isinstance(var_name, str)\n",
    "            func, lineno = location\n",
    "            assert callable(func)\n",
    "            assert isinstance(lineno, int)"
   ]
  },
  {
   "cell_type": "markdown",
   "metadata": {
    "slideshow": {
     "slide_type": "fragment"
    }
   },
   "source": [
    "The `source()` method returns the source code for a given node."
   ]
  },
  {
   "cell_type": "code",
   "execution_count": 16,
   "metadata": {
    "execution": {
     "iopub.execute_input": "2021-05-11T17:07:49.851806Z",
     "iopub.status.busy": "2021-05-11T17:07:49.850914Z",
     "iopub.status.idle": "2021-05-11T17:07:49.852862Z",
     "shell.execute_reply": "2021-05-11T17:07:49.853280Z"
    },
    "ipub": {
     "ignore": true
    },
    "slideshow": {
     "slide_type": "subslide"
    }
   },
   "outputs": [],
   "source": [
    "class Dependencies(Dependencies):\n",
    "    def _source(self, node: Node) -> str:\n",
    "        # Return source line, or ''\n",
    "        (name, location) = node\n",
    "        func, lineno = location\n",
    "        if not func:\n",
    "            # No source\n",
    "            return ''\n",
    "\n",
    "        try:\n",
    "            source_lines, first_lineno = inspect.getsourcelines(func)\n",
    "        except OSError:\n",
    "            warnings.warn(f\"Couldn't find source \"\n",
    "                          f\"for {func} ({func.__name__})\")\n",
    "            return ''\n",
    "\n",
    "        try:\n",
    "            line = source_lines[lineno - first_lineno].strip()\n",
    "        except IndexError:\n",
    "            return ''\n",
    "\n",
    "        return line\n",
    "\n",
    "    def source(self, node: Node) -> str:\n",
    "        \"\"\"Return the source code for a given node.\"\"\"\n",
    "        line = self._source(node)\n",
    "        if line:\n",
    "            return line\n",
    "\n",
    "        (name, location) = node\n",
    "        func, lineno = location\n",
    "        code_name = func.__name__\n",
    "\n",
    "        if code_name.startswith('<'):\n",
    "            return code_name\n",
    "        else:\n",
    "            return f'<{code_name}()>'"
   ]
  },
  {
   "cell_type": "code",
   "execution_count": 17,
   "metadata": {
    "execution": {
     "iopub.execute_input": "2021-05-11T17:07:49.859550Z",
     "iopub.status.busy": "2021-05-11T17:07:49.858347Z",
     "iopub.status.idle": "2021-05-11T17:07:49.861173Z",
     "shell.execute_reply": "2021-05-11T17:07:49.861545Z"
    },
    "slideshow": {
     "slide_type": "subslide"
    }
   },
   "outputs": [
    {
     "data": {
      "text/plain": [
       "'def middle(x, y, z):  # type: ignore'"
      ]
     },
     "execution_count": 1,
     "metadata": {},
     "output_type": "execute_result"
    }
   ],
   "source": [
    "test_deps = Dependencies()\n",
    "test_deps.source(('z', (middle, 1)))"
   ]
  },
  {
   "cell_type": "markdown",
   "metadata": {
    "slideshow": {
     "slide_type": "subslide"
    }
   },
   "source": [
    "#### Drawing Dependencies"
   ]
  },
  {
   "cell_type": "markdown",
   "metadata": {
    "slideshow": {
     "slide_type": "fragment"
    }
   },
   "source": [
    "Both data and control form a graph between nodes, and can be visualized as such. We use the `graphviz` package for creating such visualizations."
   ]
  },
  {
   "cell_type": "code",
   "execution_count": 18,
   "metadata": {
    "execution": {
     "iopub.execute_input": "2021-05-11T17:07:49.864925Z",
     "iopub.status.busy": "2021-05-11T17:07:49.864245Z",
     "iopub.status.idle": "2021-05-11T17:07:49.865944Z",
     "shell.execute_reply": "2021-05-11T17:07:49.866312Z"
    },
    "ipub": {
     "ignore": true
    },
    "slideshow": {
     "slide_type": "skip"
    }
   },
   "outputs": [],
   "source": [
    "from graphviz import Digraph, nohtml"
   ]
  },
  {
   "cell_type": "markdown",
   "metadata": {
    "slideshow": {
     "slide_type": "fragment"
    }
   },
   "source": [
    "`make_graph()` sets the basic graph attributes."
   ]
  },
  {
   "cell_type": "code",
   "execution_count": 19,
   "metadata": {
    "execution": {
     "iopub.execute_input": "2021-05-11T17:07:49.869418Z",
     "iopub.status.busy": "2021-05-11T17:07:49.868885Z",
     "iopub.status.idle": "2021-05-11T17:07:49.871117Z",
     "shell.execute_reply": "2021-05-11T17:07:49.871597Z"
    },
    "slideshow": {
     "slide_type": "skip"
    }
   },
   "outputs": [],
   "source": [
    "import html"
   ]
  },
  {
   "cell_type": "code",
   "execution_count": 20,
   "metadata": {
    "execution": {
     "iopub.execute_input": "2021-05-11T17:07:49.877075Z",
     "iopub.status.busy": "2021-05-11T17:07:49.876382Z",
     "iopub.status.idle": "2021-05-11T17:07:49.878135Z",
     "shell.execute_reply": "2021-05-11T17:07:49.878661Z"
    },
    "slideshow": {
     "slide_type": "subslide"
    }
   },
   "outputs": [],
   "source": [
    "class Dependencies(Dependencies):\n",
    "    NODE_COLOR = 'peachpuff'\n",
    "    FONT_NAME = 'Fira Mono, Courier, monospace'\n",
    "\n",
    "    def make_graph(self, \n",
    "                   name: str = \"dependencies\", \n",
    "                   comment: str = \"Dependencies\") -> Digraph:\n",
    "        return Digraph(name=name, comment=comment,\n",
    "            graph_attr={\n",
    "            },\n",
    "            node_attr={\n",
    "                'style': 'filled',\n",
    "                'shape': 'box',\n",
    "                'fillcolor': self.NODE_COLOR,\n",
    "                'fontname': self.FONT_NAME\n",
    "            },\n",
    "            edge_attr={\n",
    "                'fontname': self.FONT_NAME\n",
    "            })"
   ]
  },
  {
   "cell_type": "markdown",
   "metadata": {
    "slideshow": {
     "slide_type": "subslide"
    }
   },
   "source": [
    "`graph()` returns a graph visualization."
   ]
  },
  {
   "cell_type": "code",
   "execution_count": 21,
   "metadata": {
    "execution": {
     "iopub.execute_input": "2021-05-11T17:07:49.884307Z",
     "iopub.status.busy": "2021-05-11T17:07:49.883588Z",
     "iopub.status.idle": "2021-05-11T17:07:49.885159Z",
     "shell.execute_reply": "2021-05-11T17:07:49.885537Z"
    },
    "slideshow": {
     "slide_type": "subslide"
    }
   },
   "outputs": [],
   "source": [
    "class Dependencies(Dependencies):\n",
    "    def graph(self, *, mode : str = 'flow') -> Digraph:\n",
    "        \"\"\"\n",
    "        Draw dependencies. `mode` is either\n",
    "        * `'flow'`: arrows indicate information flow (from A to B); or\n",
    "        * `'depend'`: arrows indicate dependencies (B depends on A)\n",
    "        \"\"\"\n",
    "        self.validate()\n",
    "\n",
    "        g = self.make_graph()\n",
    "        self.draw_dependencies(g, mode)\n",
    "        self.add_hierarchy(g)\n",
    "        return g\n",
    "\n",
    "    def _repr_svg_(self) -> Any:\n",
    "        \"\"\"If the object is output in Jupyter, render dependencies as a SVG graph\"\"\"\n",
    "        return self.graph()._repr_svg_()"
   ]
  },
  {
   "cell_type": "markdown",
   "metadata": {
    "slideshow": {
     "slide_type": "subslide"
    }
   },
   "source": [
    "The main part of graph drawing takes place in two methods, `draw_dependencies()` and `add_hierarchy()`."
   ]
  },
  {
   "cell_type": "markdown",
   "metadata": {
    "slideshow": {
     "slide_type": "fragment"
    }
   },
   "source": [
    "`draw_dependencies()` processes through the graph, adding nodes and edges from the dependencies."
   ]
  },
  {
   "cell_type": "code",
   "execution_count": 22,
   "metadata": {
    "execution": {
     "iopub.execute_input": "2021-05-11T17:07:49.893268Z",
     "iopub.status.busy": "2021-05-11T17:07:49.892507Z",
     "iopub.status.idle": "2021-05-11T17:07:49.894263Z",
     "shell.execute_reply": "2021-05-11T17:07:49.894671Z"
    },
    "slideshow": {
     "slide_type": "subslide"
    }
   },
   "outputs": [],
   "source": [
    "class Dependencies(Dependencies):\n",
    "    def all_vars(self) -> Set[Node]:\n",
    "        \"\"\"Return a set of all variables (as `var_name`, `location`) in the dependencies\"\"\"\n",
    "        all_vars = set()\n",
    "        for var in self.data:\n",
    "            all_vars.add(var)\n",
    "            for source in self.data[var]:\n",
    "                all_vars.add(source)\n",
    "\n",
    "        for var in self.control:\n",
    "            all_vars.add(var)\n",
    "            for source in self.control[var]:\n",
    "                all_vars.add(source)\n",
    "\n",
    "        return all_vars"
   ]
  },
  {
   "cell_type": "code",
   "execution_count": 23,
   "metadata": {
    "execution": {
     "iopub.execute_input": "2021-05-11T17:07:49.901972Z",
     "iopub.status.busy": "2021-05-11T17:07:49.901340Z",
     "iopub.status.idle": "2021-05-11T17:07:49.902870Z",
     "shell.execute_reply": "2021-05-11T17:07:49.903768Z"
    },
    "slideshow": {
     "slide_type": "subslide"
    }
   },
   "outputs": [],
   "source": [
    "class Dependencies(Dependencies):\n",
    "    def draw_edge(self, g: Digraph, mode: str,\n",
    "                  node_from: str, node_to: str, **kwargs: Any) -> None:\n",
    "        if mode == 'flow':\n",
    "            g.edge(node_from, node_to, **kwargs)\n",
    "        elif mode == 'depend':\n",
    "            g.edge(node_from, node_to, dir=\"back\", **kwargs)\n",
    "        else:\n",
    "            raise ValueError(\"`mode` must be 'flow' or 'depend'\")\n",
    "\n",
    "    def draw_dependencies(self, g: Digraph, mode: str) -> None:\n",
    "        for var in self.all_vars():\n",
    "            g.node(self.id(var),\n",
    "                   label=self.label(var),\n",
    "                   tooltip=self.tooltip(var))\n",
    "\n",
    "            if var in self.data:\n",
    "                for source in self.data[var]:\n",
    "                    self.draw_edge(g, mode, self.id(source), self.id(var))\n",
    "\n",
    "            if var in self.control:\n",
    "                for source in self.control[var]:\n",
    "                    self.draw_edge(g, mode, self.id(source), self.id(var),\n",
    "                           style='dashed', color='grey')"
   ]
  },
  {
   "cell_type": "markdown",
   "metadata": {
    "slideshow": {
     "slide_type": "subslide"
    }
   },
   "source": [
    "`draw_dependencies()` makes use of a few helper functions."
   ]
  },
  {
   "cell_type": "code",
   "execution_count": 24,
   "metadata": {
    "execution": {
     "iopub.execute_input": "2021-05-11T17:07:49.911449Z",
     "iopub.status.busy": "2021-05-11T17:07:49.910883Z",
     "iopub.status.idle": "2021-05-11T17:07:49.912563Z",
     "shell.execute_reply": "2021-05-11T17:07:49.913001Z"
    },
    "slideshow": {
     "slide_type": "subslide"
    }
   },
   "outputs": [],
   "source": [
    "class Dependencies(Dependencies):\n",
    "    def id(self, var: Node) -> str:\n",
    "        \"\"\"Return a unique ID for `var`.\"\"\"\n",
    "        id = \"\"\n",
    "        # Avoid non-identifier characters\n",
    "        for c in repr(var):\n",
    "            if c.isalnum() or c == '_':\n",
    "                id += c\n",
    "            if c == ':' or c == ',':\n",
    "                id += '_'\n",
    "        return id\n",
    "\n",
    "    def label(self, var: Node) -> str:\n",
    "        \"\"\"Render node `var` using HTML style.\"\"\"\n",
    "        (name, location) = var\n",
    "        source = self.source(var)\n",
    "\n",
    "        title = html.escape(name)\n",
    "        if name.startswith('<'):\n",
    "            title = f'<I>{title}</I>'\n",
    "\n",
    "        label = f'<B>{title}</B>'\n",
    "        if source:\n",
    "            label += (f'<FONT POINT-SIZE=\"9.0\"><BR/><BR/>'\n",
    "                    f'{html.escape(source)}'\n",
    "                    f'</FONT>')\n",
    "        label = f'<{label}>'\n",
    "        return label\n",
    "\n",
    "    def tooltip(self, var: Node) -> str:\n",
    "        \"\"\"Return a tooltip for node `var`.\"\"\"\n",
    "        (name, location) = var\n",
    "        func, lineno = location\n",
    "        return f\"{func.__name__}:{lineno}\""
   ]
  },
  {
   "cell_type": "markdown",
   "metadata": {
    "slideshow": {
     "slide_type": "subslide"
    }
   },
   "source": [
    "In the second part of graph drawing, `add_hierarchy()` adds invisible edges to ensure that nodes with lower line numbers are drawn above nodes with higher line numbers."
   ]
  },
  {
   "cell_type": "code",
   "execution_count": 25,
   "metadata": {
    "execution": {
     "iopub.execute_input": "2021-05-11T17:07:49.918139Z",
     "iopub.status.busy": "2021-05-11T17:07:49.917605Z",
     "iopub.status.idle": "2021-05-11T17:07:49.919247Z",
     "shell.execute_reply": "2021-05-11T17:07:49.919734Z"
    },
    "slideshow": {
     "slide_type": "subslide"
    }
   },
   "outputs": [],
   "source": [
    "class Dependencies(Dependencies):\n",
    "    def add_hierarchy(self, g: Digraph) -> Digraph:\n",
    "        \"\"\"Add invisible edges for a proper hierarchy.\"\"\"\n",
    "        functions = self.all_functions()\n",
    "        for func in functions:\n",
    "            last_var = None\n",
    "            last_lineno = 0\n",
    "            for (lineno, var) in functions[func]:\n",
    "                if last_var is not None and lineno > last_lineno:\n",
    "                    g.edge(self.id(last_var),\n",
    "                           self.id(var),\n",
    "                           style='invis')\n",
    "\n",
    "                last_var = var\n",
    "                last_lineno = lineno\n",
    "\n",
    "        return g"
   ]
  },
  {
   "cell_type": "code",
   "execution_count": 26,
   "metadata": {
    "execution": {
     "iopub.execute_input": "2021-05-11T17:07:49.925705Z",
     "iopub.status.busy": "2021-05-11T17:07:49.925050Z",
     "iopub.status.idle": "2021-05-11T17:07:49.927033Z",
     "shell.execute_reply": "2021-05-11T17:07:49.927537Z"
    },
    "slideshow": {
     "slide_type": "subslide"
    }
   },
   "outputs": [],
   "source": [
    "class Dependencies(Dependencies):\n",
    "    def all_functions(self) -> Dict[Callable, List[Tuple[int, Node]]]:\n",
    "        \"\"\"\n",
    "        Return mapping \n",
    "        {`function`: [(`lineno`, `var`), (`lineno`, `var`), ...], ...}\n",
    "        for all functions in the dependencies.\n",
    "        \"\"\"\n",
    "        functions: Dict[Callable, List[Tuple[int, Node]]] = {}\n",
    "        for var in self.all_vars():\n",
    "            (name, location) = var\n",
    "            func, lineno = location\n",
    "            if func not in functions:\n",
    "                functions[func] = []\n",
    "            functions[func].append((lineno, var))\n",
    "\n",
    "        for func in functions:\n",
    "            functions[func].sort()\n",
    "\n",
    "        return functions"
   ]
  },
  {
   "cell_type": "markdown",
   "metadata": {
    "slideshow": {
     "slide_type": "subslide"
    }
   },
   "source": [
    "Here comes the graph in all its glory:"
   ]
  },
  {
   "cell_type": "code",
   "execution_count": 27,
   "metadata": {
    "execution": {
     "iopub.execute_input": "2021-05-11T17:07:49.937358Z",
     "iopub.status.busy": "2021-05-11T17:07:49.936355Z",
     "iopub.status.idle": "2021-05-11T17:07:49.938493Z",
     "shell.execute_reply": "2021-05-11T17:07:49.938878Z"
    },
    "slideshow": {
     "slide_type": "fragment"
    }
   },
   "outputs": [],
   "source": [
    "def middle_deps() -> Dependencies:\n",
    "    return Dependencies({('z', (middle, 1)): set(), ('y', (middle, 1)): set(), ('x', (middle, 1)): set(), ('<test>', (middle, 2)): {('y', (middle, 1)), ('z', (middle, 1))}, ('<test>', (middle, 3)): {('y', (middle, 1)), ('x', (middle, 1))}, ('<test>', (middle, 5)): {('z', (middle, 1)), ('x', (middle, 1))}, ('<middle() return value>', (middle, 6)): {('y', (middle, 1))}}, {('z', (middle, 1)): set(), ('y', (middle, 1)): set(), ('x', (middle, 1)): set(), ('<test>', (middle, 2)): set(), ('<test>', (middle, 3)): {('<test>', (middle, 2))}, ('<test>', (middle, 5)): {('<test>', (middle, 3))}, ('<middle() return value>', (middle, 6)): {('<test>', (middle, 5))}})"
   ]
  },
  {
   "cell_type": "code",
   "execution_count": 28,
   "metadata": {
    "execution": {
     "iopub.execute_input": "2021-05-11T17:07:49.943857Z",
     "iopub.status.busy": "2021-05-11T17:07:49.942778Z",
     "iopub.status.idle": "2021-05-11T17:07:50.825141Z",
     "shell.execute_reply": "2021-05-11T17:07:50.826053Z"
    },
    "slideshow": {
     "slide_type": "fragment"
    }
   },
   "outputs": [
    {
     "data": {
      "image/svg+xml": [
       "<?xml version=\"1.0\" encoding=\"UTF-8\" standalone=\"no\"?>\n",
       "<!DOCTYPE svg PUBLIC \"-//W3C//DTD SVG 1.1//EN\"\n",
       " \"http://www.w3.org/Graphics/SVG/1.1/DTD/svg11.dtd\">\n",
       "<!-- Generated by graphviz version 2.40.1 (20161225.0304)\n",
       " -->\n",
       "<!-- Title: dependencies Pages: 1 -->\n",
       "<svg width=\"474pt\" height=\"352pt\"\n",
       " viewBox=\"0.00 0.00 473.67 352.00\" xmlns=\"http://www.w3.org/2000/svg\" xmlns:xlink=\"http://www.w3.org/1999/xlink\">\n",
       "<g id=\"graph0\" class=\"graph\" transform=\"scale(1 1) rotate(0) translate(4 348)\">\n",
       "<title>dependencies</title>\n",
       "<polygon fill=\"#ffffff\" stroke=\"transparent\" points=\"-4,4 -4,-348 469.6674,-348 469.6674,4 -4,4\"/>\n",
       "<!-- test_functionmiddleat0x7fe2455bbe18_5 -->\n",
       "<g id=\"node1\" class=\"node\">\n",
       "<title>test_functionmiddleat0x7fe2455bbe18_5</title>\n",
       "<g id=\"a_node1\"><a xlink:title=\"middle:5\">\n",
       "<polygon fill=\"#ffdab9\" stroke=\"#000000\" points=\"224.5,-116 148.5,-116 148.5,-76 224.5,-76 224.5,-116\"/>\n",
       "<text text-anchor=\"start\" x=\"161\" y=\"-101.8\" font-family=\"Fira Mono, Courier, monospace\" font-weight=\"bold\" font-style=\"italic\" font-size=\"14.00\" fill=\"#000000\">&lt;test&gt;</text>\n",
       "<text text-anchor=\"start\" x=\"156.5\" y=\"-82.8\" font-family=\"Fira Mono, Courier, monospace\" font-size=\"9.00\" fill=\"#000000\">elif x &lt; z:</text>\n",
       "</a>\n",
       "</g>\n",
       "</g>\n",
       "<!-- middlereturnvalue_functionmiddleat0x7fe2455bbe18_6 -->\n",
       "<g id=\"node7\" class=\"node\">\n",
       "<title>middlereturnvalue_functionmiddleat0x7fe2455bbe18_6</title>\n",
       "<g id=\"a_node7\"><a xlink:title=\"middle:6\">\n",
       "<polygon fill=\"#ffdab9\" stroke=\"#000000\" points=\"291.5,-40 81.5,-40 81.5,0 291.5,0 291.5,-40\"/>\n",
       "<text text-anchor=\"start\" x=\"89.5\" y=\"-25.8\" font-family=\"Fira Mono, Courier, monospace\" font-weight=\"bold\" font-style=\"italic\" font-size=\"14.00\" fill=\"#000000\">&lt;middle() return value&gt;</text>\n",
       "<text text-anchor=\"start\" x=\"164.5\" y=\"-6.8\" font-family=\"Fira Mono, Courier, monospace\" font-size=\"9.00\" fill=\"#000000\">return y</text>\n",
       "</a>\n",
       "</g>\n",
       "</g>\n",
       "<!-- test_functionmiddleat0x7fe2455bbe18_5&#45;&gt;middlereturnvalue_functionmiddleat0x7fe2455bbe18_6 -->\n",
       "<g id=\"edge7\" class=\"edge\">\n",
       "<title>test_functionmiddleat0x7fe2455bbe18_5&#45;&gt;middlereturnvalue_functionmiddleat0x7fe2455bbe18_6</title>\n",
       "<path fill=\"none\" stroke=\"#c0c0c0\" stroke-dasharray=\"5,2\" d=\"M180.4426,-75.6334C179.7819,-67.8186 179.5939,-58.7253 179.8786,-50.183\"/>\n",
       "<polygon fill=\"#c0c0c0\" stroke=\"#c0c0c0\" points=\"183.375,-50.3453 180.4602,-40.1593 176.3867,-49.9397 183.375,-50.3453\"/>\n",
       "</g>\n",
       "<!-- test_functionmiddleat0x7fe2455bbe18_5&#45;&gt;middlereturnvalue_functionmiddleat0x7fe2455bbe18_6 -->\n",
       "<!-- z_functionmiddleat0x7fe2455bbe18_1 -->\n",
       "<g id=\"node2\" class=\"node\">\n",
       "<title>z_functionmiddleat0x7fe2455bbe18_1</title>\n",
       "<g id=\"a_node2\"><a xlink:title=\"middle:1\">\n",
       "<polygon fill=\"#ffdab9\" stroke=\"#000000\" points=\"440,-344 229,-344 229,-304 440,-304 440,-344\"/>\n",
       "<text text-anchor=\"start\" x=\"330\" y=\"-329.8\" font-family=\"Fira Mono, Courier, monospace\" font-weight=\"bold\" font-size=\"14.00\" fill=\"#000000\">z</text>\n",
       "<text text-anchor=\"start\" x=\"237\" y=\"-310.8\" font-family=\"Fira Mono, Courier, monospace\" font-size=\"9.00\" fill=\"#000000\">def middle(x, y, z): &#160;# type: ignore</text>\n",
       "</a>\n",
       "</g>\n",
       "</g>\n",
       "<!-- z_functionmiddleat0x7fe2455bbe18_1&#45;&gt;test_functionmiddleat0x7fe2455bbe18_5 -->\n",
       "<g id=\"edge1\" class=\"edge\">\n",
       "<title>z_functionmiddleat0x7fe2455bbe18_1&#45;&gt;test_functionmiddleat0x7fe2455bbe18_5</title>\n",
       "<path fill=\"none\" stroke=\"#000000\" d=\"M414.2436,-303.9575C431.6967,-295.7246 448.0579,-284.1734 458.5,-268 468.1428,-253.0646 467.9356,-243.0671 458.5,-228 409.3138,-149.4581 298.5976,-116.4672 234.6168,-103.5549\"/>\n",
       "<polygon fill=\"#000000\" stroke=\"#000000\" points=\"235.2486,-100.1123 224.7661,-101.6511 233.9202,-106.9851 235.2486,-100.1123\"/>\n",
       "</g>\n",
       "<!-- test_functionmiddleat0x7fe2455bbe18_2 -->\n",
       "<g id=\"node6\" class=\"node\">\n",
       "<title>test_functionmiddleat0x7fe2455bbe18_2</title>\n",
       "<g id=\"a_node6\"><a xlink:title=\"middle:2\">\n",
       "<polygon fill=\"#ffdab9\" stroke=\"#000000\" points=\"220,-268 153,-268 153,-228 220,-228 220,-268\"/>\n",
       "<text text-anchor=\"start\" x=\"161\" y=\"-253.8\" font-family=\"Fira Mono, Courier, monospace\" font-weight=\"bold\" font-style=\"italic\" font-size=\"14.00\" fill=\"#000000\">&lt;test&gt;</text>\n",
       "<text text-anchor=\"start\" x=\"162\" y=\"-234.8\" font-family=\"Fira Mono, Courier, monospace\" font-size=\"9.00\" fill=\"#000000\">if y &lt; z:</text>\n",
       "</a>\n",
       "</g>\n",
       "</g>\n",
       "<!-- z_functionmiddleat0x7fe2455bbe18_1&#45;&gt;test_functionmiddleat0x7fe2455bbe18_2 -->\n",
       "<g id=\"edge4\" class=\"edge\">\n",
       "<title>z_functionmiddleat0x7fe2455bbe18_1&#45;&gt;test_functionmiddleat0x7fe2455bbe18_2</title>\n",
       "<path fill=\"none\" stroke=\"#000000\" d=\"M289.1868,-303.8329C269.9777,-294.3851 247.7594,-283.0352 228.8798,-273.0432\"/>\n",
       "<polygon fill=\"#000000\" stroke=\"#000000\" points=\"230.3788,-269.876 219.9077,-268.2613 227.0864,-276.0534 230.3788,-269.876\"/>\n",
       "</g>\n",
       "<!-- z_functionmiddleat0x7fe2455bbe18_1&#45;&gt;test_functionmiddleat0x7fe2455bbe18_2 -->\n",
       "<!-- x_functionmiddleat0x7fe2455bbe18_1 -->\n",
       "<g id=\"node3\" class=\"node\">\n",
       "<title>x_functionmiddleat0x7fe2455bbe18_1</title>\n",
       "<g id=\"a_node3\"><a xlink:title=\"middle:1\">\n",
       "<polygon fill=\"#ffdab9\" stroke=\"#000000\" points=\"449,-268 238,-268 238,-228 449,-228 449,-268\"/>\n",
       "<text text-anchor=\"start\" x=\"339\" y=\"-253.8\" font-family=\"Fira Mono, Courier, monospace\" font-weight=\"bold\" font-size=\"14.00\" fill=\"#000000\">x</text>\n",
       "<text text-anchor=\"start\" x=\"246\" y=\"-234.8\" font-family=\"Fira Mono, Courier, monospace\" font-size=\"9.00\" fill=\"#000000\">def middle(x, y, z): &#160;# type: ignore</text>\n",
       "</a>\n",
       "</g>\n",
       "</g>\n",
       "<!-- x_functionmiddleat0x7fe2455bbe18_1&#45;&gt;test_functionmiddleat0x7fe2455bbe18_5 -->\n",
       "<g id=\"edge2\" class=\"edge\">\n",
       "<title>x_functionmiddleat0x7fe2455bbe18_1&#45;&gt;test_functionmiddleat0x7fe2455bbe18_5</title>\n",
       "<path fill=\"none\" stroke=\"#000000\" d=\"M322.6516,-227.8156C294.9692,-201.0147 245.9691,-153.5752 214.9183,-123.5132\"/>\n",
       "<polygon fill=\"#000000\" stroke=\"#000000\" points=\"217.0537,-120.7091 207.4346,-116.2679 212.1847,-125.7383 217.0537,-120.7091\"/>\n",
       "</g>\n",
       "<!-- test_functionmiddleat0x7fe2455bbe18_3 -->\n",
       "<g id=\"node4\" class=\"node\">\n",
       "<title>test_functionmiddleat0x7fe2455bbe18_3</title>\n",
       "<g id=\"a_node4\"><a xlink:title=\"middle:3\">\n",
       "<polygon fill=\"#ffdab9\" stroke=\"#000000\" points=\"220,-192 153,-192 153,-152 220,-152 220,-192\"/>\n",
       "<text text-anchor=\"start\" x=\"161\" y=\"-177.8\" font-family=\"Fira Mono, Courier, monospace\" font-weight=\"bold\" font-style=\"italic\" font-size=\"14.00\" fill=\"#000000\">&lt;test&gt;</text>\n",
       "<text text-anchor=\"start\" x=\"162\" y=\"-158.8\" font-family=\"Fira Mono, Courier, monospace\" font-size=\"9.00\" fill=\"#000000\">if x &lt; y:</text>\n",
       "</a>\n",
       "</g>\n",
       "</g>\n",
       "<!-- x_functionmiddleat0x7fe2455bbe18_1&#45;&gt;test_functionmiddleat0x7fe2455bbe18_3 -->\n",
       "<g id=\"edge8\" class=\"edge\">\n",
       "<title>x_functionmiddleat0x7fe2455bbe18_1&#45;&gt;test_functionmiddleat0x7fe2455bbe18_3</title>\n",
       "<path fill=\"none\" stroke=\"#000000\" d=\"M301.8391,-227.8329C279.4031,-216.9722 251.775,-203.5981 229.1841,-192.6623\"/>\n",
       "<polygon fill=\"#000000\" stroke=\"#000000\" points=\"230.686,-189.5009 220.1601,-188.2941 227.636,-195.8015 230.686,-189.5009\"/>\n",
       "</g>\n",
       "<!-- test_functionmiddleat0x7fe2455bbe18_3&#45;&gt;test_functionmiddleat0x7fe2455bbe18_5 -->\n",
       "<g id=\"edge3\" class=\"edge\">\n",
       "<title>test_functionmiddleat0x7fe2455bbe18_3&#45;&gt;test_functionmiddleat0x7fe2455bbe18_5</title>\n",
       "<path fill=\"none\" stroke=\"#c0c0c0\" stroke-dasharray=\"5,2\" d=\"M180.4426,-151.6334C179.7819,-143.8186 179.5939,-134.7253 179.8786,-126.183\"/>\n",
       "<polygon fill=\"#c0c0c0\" stroke=\"#c0c0c0\" points=\"183.375,-126.3453 180.4602,-116.1593 176.3867,-125.9397 183.375,-126.3453\"/>\n",
       "</g>\n",
       "<!-- test_functionmiddleat0x7fe2455bbe18_3&#45;&gt;test_functionmiddleat0x7fe2455bbe18_5 -->\n",
       "<!-- y_functionmiddleat0x7fe2455bbe18_1 -->\n",
       "<g id=\"node5\" class=\"node\">\n",
       "<title>y_functionmiddleat0x7fe2455bbe18_1</title>\n",
       "<g id=\"a_node5\"><a xlink:title=\"middle:1\">\n",
       "<polygon fill=\"#ffdab9\" stroke=\"#000000\" points=\"211,-344 0,-344 0,-304 211,-304 211,-344\"/>\n",
       "<text text-anchor=\"start\" x=\"101\" y=\"-329.8\" font-family=\"Fira Mono, Courier, monospace\" font-weight=\"bold\" font-size=\"14.00\" fill=\"#000000\">y</text>\n",
       "<text text-anchor=\"start\" x=\"8\" y=\"-310.8\" font-family=\"Fira Mono, Courier, monospace\" font-size=\"9.00\" fill=\"#000000\">def middle(x, y, z): &#160;# type: ignore</text>\n",
       "</a>\n",
       "</g>\n",
       "</g>\n",
       "<!-- y_functionmiddleat0x7fe2455bbe18_1&#45;&gt;test_functionmiddleat0x7fe2455bbe18_3 -->\n",
       "<g id=\"edge9\" class=\"edge\">\n",
       "<title>y_functionmiddleat0x7fe2455bbe18_1&#45;&gt;test_functionmiddleat0x7fe2455bbe18_3</title>\n",
       "<path fill=\"none\" stroke=\"#000000\" d=\"M111.6772,-303.7746C118.1871,-283.8201 129.4409,-252.7916 143.5,-228 148.9528,-218.3845 155.8999,-208.5944 162.6118,-199.9458\"/>\n",
       "<polygon fill=\"#000000\" stroke=\"#000000\" points=\"165.4143,-202.0453 168.9184,-192.0466 159.9439,-197.6777 165.4143,-202.0453\"/>\n",
       "</g>\n",
       "<!-- y_functionmiddleat0x7fe2455bbe18_1&#45;&gt;test_functionmiddleat0x7fe2455bbe18_2 -->\n",
       "<g id=\"edge5\" class=\"edge\">\n",
       "<title>y_functionmiddleat0x7fe2455bbe18_1&#45;&gt;test_functionmiddleat0x7fe2455bbe18_2</title>\n",
       "<path fill=\"none\" stroke=\"#000000\" d=\"M127.2065,-303.6334C136.5422,-294.8739 147.5898,-284.5083 157.6037,-275.1125\"/>\n",
       "<polygon fill=\"#000000\" stroke=\"#000000\" points=\"160.1167,-277.5541 165.0144,-268.1593 155.327,-272.4493 160.1167,-277.5541\"/>\n",
       "</g>\n",
       "<!-- y_functionmiddleat0x7fe2455bbe18_1&#45;&gt;middlereturnvalue_functionmiddleat0x7fe2455bbe18_6 -->\n",
       "<g id=\"edge6\" class=\"edge\">\n",
       "<title>y_functionmiddleat0x7fe2455bbe18_1&#45;&gt;middlereturnvalue_functionmiddleat0x7fe2455bbe18_6</title>\n",
       "<path fill=\"none\" stroke=\"#000000\" d=\"M104.5752,-303.6921C103.3605,-260.0002 104.6299,-154.6654 139.5,-76 143.9826,-65.8875 150.8599,-56.1704 157.9821,-47.7513\"/>\n",
       "<polygon fill=\"#000000\" stroke=\"#000000\" points=\"160.7606,-49.8948 164.8155,-40.1066 155.5416,-45.2297 160.7606,-49.8948\"/>\n",
       "</g>\n",
       "<!-- test_functionmiddleat0x7fe2455bbe18_2&#45;&gt;test_functionmiddleat0x7fe2455bbe18_3 -->\n",
       "<g id=\"edge10\" class=\"edge\">\n",
       "<title>test_functionmiddleat0x7fe2455bbe18_2&#45;&gt;test_functionmiddleat0x7fe2455bbe18_3</title>\n",
       "<path fill=\"none\" stroke=\"#c0c0c0\" stroke-dasharray=\"5,2\" d=\"M180.4426,-227.6334C179.7819,-219.8186 179.5939,-210.7253 179.8786,-202.183\"/>\n",
       "<polygon fill=\"#c0c0c0\" stroke=\"#c0c0c0\" points=\"183.375,-202.3453 180.4602,-192.1593 176.3867,-201.9397 183.375,-202.3453\"/>\n",
       "</g>\n",
       "<!-- test_functionmiddleat0x7fe2455bbe18_2&#45;&gt;test_functionmiddleat0x7fe2455bbe18_3 -->\n",
       "</g>\n",
       "</svg>\n"
      ],
      "text/plain": [
       "<__main__.Dependencies at 0x7fe24562e4a8>"
      ]
     },
     "execution_count": 1,
     "metadata": {},
     "output_type": "execute_result"
    }
   ],
   "source": [
    "middle_deps()"
   ]
  },
  {
   "cell_type": "markdown",
   "metadata": {
    "slideshow": {
     "slide_type": "fragment"
    }
   },
   "source": [
    "By default, the arrow direction indicates _flows_ – an arrow _A_ → _B_ indicates that information from _A_ _flows_ into _B_ (and thus the state in _A_ _causes_ the state in _B_). By setting the extra keyword parameter `mode` to `depend` instead of `flow` (default), you can reverse these arrows; then an arrow _A_ → _B_ indicates _A_ _depends_ on _B_."
   ]
  },
  {
   "cell_type": "code",
   "execution_count": 29,
   "metadata": {
    "execution": {
     "iopub.execute_input": "2021-05-11T17:07:50.832350Z",
     "iopub.status.busy": "2021-05-11T17:07:50.830181Z",
     "iopub.status.idle": "2021-05-11T17:07:51.734670Z",
     "shell.execute_reply": "2021-05-11T17:07:51.735275Z"
    },
    "slideshow": {
     "slide_type": "fragment"
    }
   },
   "outputs": [
    {
     "data": {
      "image/svg+xml": [
       "<?xml version=\"1.0\" encoding=\"UTF-8\" standalone=\"no\"?>\n",
       "<!DOCTYPE svg PUBLIC \"-//W3C//DTD SVG 1.1//EN\"\n",
       " \"http://www.w3.org/Graphics/SVG/1.1/DTD/svg11.dtd\">\n",
       "<!-- Generated by graphviz version 2.40.1 (20161225.0304)\n",
       " -->\n",
       "<!-- Title: dependencies Pages: 1 -->\n",
       "<svg width=\"474pt\" height=\"352pt\"\n",
       " viewBox=\"0.00 0.00 473.67 352.00\" xmlns=\"http://www.w3.org/2000/svg\" xmlns:xlink=\"http://www.w3.org/1999/xlink\">\n",
       "<g id=\"graph0\" class=\"graph\" transform=\"scale(1 1) rotate(0) translate(4 348)\">\n",
       "<title>dependencies</title>\n",
       "<polygon fill=\"#ffffff\" stroke=\"transparent\" points=\"-4,4 -4,-348 469.6674,-348 469.6674,4 -4,4\"/>\n",
       "<!-- test_functionmiddleat0x7fe2455bbe18_5 -->\n",
       "<g id=\"node1\" class=\"node\">\n",
       "<title>test_functionmiddleat0x7fe2455bbe18_5</title>\n",
       "<g id=\"a_node1\"><a xlink:title=\"middle:5\">\n",
       "<polygon fill=\"#ffdab9\" stroke=\"#000000\" points=\"224.5,-116 148.5,-116 148.5,-76 224.5,-76 224.5,-116\"/>\n",
       "<text text-anchor=\"start\" x=\"161\" y=\"-101.8\" font-family=\"Fira Mono, Courier, monospace\" font-weight=\"bold\" font-style=\"italic\" font-size=\"14.00\" fill=\"#000000\">&lt;test&gt;</text>\n",
       "<text text-anchor=\"start\" x=\"156.5\" y=\"-82.8\" font-family=\"Fira Mono, Courier, monospace\" font-size=\"9.00\" fill=\"#000000\">elif x &lt; z:</text>\n",
       "</a>\n",
       "</g>\n",
       "</g>\n",
       "<!-- middlereturnvalue_functionmiddleat0x7fe2455bbe18_6 -->\n",
       "<g id=\"node7\" class=\"node\">\n",
       "<title>middlereturnvalue_functionmiddleat0x7fe2455bbe18_6</title>\n",
       "<g id=\"a_node7\"><a xlink:title=\"middle:6\">\n",
       "<polygon fill=\"#ffdab9\" stroke=\"#000000\" points=\"291.5,-40 81.5,-40 81.5,0 291.5,0 291.5,-40\"/>\n",
       "<text text-anchor=\"start\" x=\"89.5\" y=\"-25.8\" font-family=\"Fira Mono, Courier, monospace\" font-weight=\"bold\" font-style=\"italic\" font-size=\"14.00\" fill=\"#000000\">&lt;middle() return value&gt;</text>\n",
       "<text text-anchor=\"start\" x=\"164.5\" y=\"-6.8\" font-family=\"Fira Mono, Courier, monospace\" font-size=\"9.00\" fill=\"#000000\">return y</text>\n",
       "</a>\n",
       "</g>\n",
       "</g>\n",
       "<!-- test_functionmiddleat0x7fe2455bbe18_5&#45;&gt;middlereturnvalue_functionmiddleat0x7fe2455bbe18_6 -->\n",
       "<g id=\"edge7\" class=\"edge\">\n",
       "<title>test_functionmiddleat0x7fe2455bbe18_5&#45;&gt;middlereturnvalue_functionmiddleat0x7fe2455bbe18_6</title>\n",
       "<path fill=\"none\" stroke=\"#c0c0c0\" stroke-dasharray=\"5,2\" d=\"M179.8711,-65.59C179.5948,-57.038 179.7912,-47.9513 180.4602,-40.1593\"/>\n",
       "<polygon fill=\"#c0c0c0\" stroke=\"#c0c0c0\" points=\"176.3801,-65.8484 180.4426,-75.6334 183.3688,-65.4507 176.3801,-65.8484\"/>\n",
       "</g>\n",
       "<!-- test_functionmiddleat0x7fe2455bbe18_5&#45;&gt;middlereturnvalue_functionmiddleat0x7fe2455bbe18_6 -->\n",
       "<!-- z_functionmiddleat0x7fe2455bbe18_1 -->\n",
       "<g id=\"node2\" class=\"node\">\n",
       "<title>z_functionmiddleat0x7fe2455bbe18_1</title>\n",
       "<g id=\"a_node2\"><a xlink:title=\"middle:1\">\n",
       "<polygon fill=\"#ffdab9\" stroke=\"#000000\" points=\"440,-344 229,-344 229,-304 440,-304 440,-344\"/>\n",
       "<text text-anchor=\"start\" x=\"330\" y=\"-329.8\" font-family=\"Fira Mono, Courier, monospace\" font-weight=\"bold\" font-size=\"14.00\" fill=\"#000000\">z</text>\n",
       "<text text-anchor=\"start\" x=\"237\" y=\"-310.8\" font-family=\"Fira Mono, Courier, monospace\" font-size=\"9.00\" fill=\"#000000\">def middle(x, y, z): &#160;# type: ignore</text>\n",
       "</a>\n",
       "</g>\n",
       "</g>\n",
       "<!-- z_functionmiddleat0x7fe2455bbe18_1&#45;&gt;test_functionmiddleat0x7fe2455bbe18_5 -->\n",
       "<g id=\"edge1\" class=\"edge\">\n",
       "<title>z_functionmiddleat0x7fe2455bbe18_1&#45;&gt;test_functionmiddleat0x7fe2455bbe18_5</title>\n",
       "<path fill=\"none\" stroke=\"#000000\" d=\"M423.5182,-299.1905C437.3854,-291.4241 449.9342,-281.2672 458.5,-268 468.1428,-253.0646 467.9356,-243.0671 458.5,-228 406.6825,-145.2562 286.5754,-113.0676 224.7661,-101.6511\"/>\n",
       "<polygon fill=\"#000000\" stroke=\"#000000\" points=\"421.5376,-296.2731 414.2436,-303.9575 424.7376,-302.4989 421.5376,-296.2731\"/>\n",
       "</g>\n",
       "<!-- test_functionmiddleat0x7fe2455bbe18_2 -->\n",
       "<g id=\"node6\" class=\"node\">\n",
       "<title>test_functionmiddleat0x7fe2455bbe18_2</title>\n",
       "<g id=\"a_node6\"><a xlink:title=\"middle:2\">\n",
       "<polygon fill=\"#ffdab9\" stroke=\"#000000\" points=\"220,-268 153,-268 153,-228 220,-228 220,-268\"/>\n",
       "<text text-anchor=\"start\" x=\"161\" y=\"-253.8\" font-family=\"Fira Mono, Courier, monospace\" font-weight=\"bold\" font-style=\"italic\" font-size=\"14.00\" fill=\"#000000\">&lt;test&gt;</text>\n",
       "<text text-anchor=\"start\" x=\"162\" y=\"-234.8\" font-family=\"Fira Mono, Courier, monospace\" font-size=\"9.00\" fill=\"#000000\">if y &lt; z:</text>\n",
       "</a>\n",
       "</g>\n",
       "</g>\n",
       "<!-- z_functionmiddleat0x7fe2455bbe18_1&#45;&gt;test_functionmiddleat0x7fe2455bbe18_2 -->\n",
       "<g id=\"edge4\" class=\"edge\">\n",
       "<title>z_functionmiddleat0x7fe2455bbe18_1&#45;&gt;test_functionmiddleat0x7fe2455bbe18_2</title>\n",
       "<path fill=\"none\" stroke=\"#000000\" d=\"M280.0886,-299.3283C259.9193,-289.2799 237.6847,-277.8077 219.9077,-268.2613\"/>\n",
       "<polygon fill=\"#000000\" stroke=\"#000000\" points=\"278.6721,-302.5325 289.1868,-303.8329 281.7781,-296.2592 278.6721,-302.5325\"/>\n",
       "</g>\n",
       "<!-- z_functionmiddleat0x7fe2455bbe18_1&#45;&gt;test_functionmiddleat0x7fe2455bbe18_2 -->\n",
       "<!-- x_functionmiddleat0x7fe2455bbe18_1 -->\n",
       "<g id=\"node3\" class=\"node\">\n",
       "<title>x_functionmiddleat0x7fe2455bbe18_1</title>\n",
       "<g id=\"a_node3\"><a xlink:title=\"middle:1\">\n",
       "<polygon fill=\"#ffdab9\" stroke=\"#000000\" points=\"449,-268 238,-268 238,-228 449,-228 449,-268\"/>\n",
       "<text text-anchor=\"start\" x=\"339\" y=\"-253.8\" font-family=\"Fira Mono, Courier, monospace\" font-weight=\"bold\" font-size=\"14.00\" fill=\"#000000\">x</text>\n",
       "<text text-anchor=\"start\" x=\"246\" y=\"-234.8\" font-family=\"Fira Mono, Courier, monospace\" font-size=\"9.00\" fill=\"#000000\">def middle(x, y, z): &#160;# type: ignore</text>\n",
       "</a>\n",
       "</g>\n",
       "</g>\n",
       "<!-- x_functionmiddleat0x7fe2455bbe18_1&#45;&gt;test_functionmiddleat0x7fe2455bbe18_5 -->\n",
       "<g id=\"edge2\" class=\"edge\">\n",
       "<title>x_functionmiddleat0x7fe2455bbe18_1&#45;&gt;test_functionmiddleat0x7fe2455bbe18_5</title>\n",
       "<path fill=\"none\" stroke=\"#000000\" d=\"M315.1783,-220.5803C284.1647,-190.5544 235.1612,-143.1115 207.4346,-116.2679\"/>\n",
       "<polygon fill=\"#000000\" stroke=\"#000000\" points=\"313.0325,-223.3744 322.6516,-227.8156 317.9016,-218.3452 313.0325,-223.3744\"/>\n",
       "</g>\n",
       "<!-- test_functionmiddleat0x7fe2455bbe18_3 -->\n",
       "<g id=\"node4\" class=\"node\">\n",
       "<title>test_functionmiddleat0x7fe2455bbe18_3</title>\n",
       "<g id=\"a_node4\"><a xlink:title=\"middle:3\">\n",
       "<polygon fill=\"#ffdab9\" stroke=\"#000000\" points=\"220,-192 153,-192 153,-152 220,-152 220,-192\"/>\n",
       "<text text-anchor=\"start\" x=\"161\" y=\"-177.8\" font-family=\"Fira Mono, Courier, monospace\" font-weight=\"bold\" font-style=\"italic\" font-size=\"14.00\" fill=\"#000000\">&lt;test&gt;</text>\n",
       "<text text-anchor=\"start\" x=\"162\" y=\"-158.8\" font-family=\"Fira Mono, Courier, monospace\" font-size=\"9.00\" fill=\"#000000\">if x &lt; y:</text>\n",
       "</a>\n",
       "</g>\n",
       "</g>\n",
       "<!-- x_functionmiddleat0x7fe2455bbe18_1&#45;&gt;test_functionmiddleat0x7fe2455bbe18_3 -->\n",
       "<g id=\"edge8\" class=\"edge\">\n",
       "<title>x_functionmiddleat0x7fe2455bbe18_1&#45;&gt;test_functionmiddleat0x7fe2455bbe18_3</title>\n",
       "<path fill=\"none\" stroke=\"#000000\" d=\"M292.612,-223.3663C268.8683,-211.8725 241.2621,-198.5091 220.1601,-188.2941\"/>\n",
       "<polygon fill=\"#000000\" stroke=\"#000000\" points=\"291.3132,-226.6261 301.8391,-227.8329 294.3632,-220.3255 291.3132,-226.6261\"/>\n",
       "</g>\n",
       "<!-- test_functionmiddleat0x7fe2455bbe18_3&#45;&gt;test_functionmiddleat0x7fe2455bbe18_5 -->\n",
       "<g id=\"edge3\" class=\"edge\">\n",
       "<title>test_functionmiddleat0x7fe2455bbe18_3&#45;&gt;test_functionmiddleat0x7fe2455bbe18_5</title>\n",
       "<path fill=\"none\" stroke=\"#c0c0c0\" stroke-dasharray=\"5,2\" d=\"M179.8711,-141.59C179.5948,-133.038 179.7912,-123.9513 180.4602,-116.1593\"/>\n",
       "<polygon fill=\"#c0c0c0\" stroke=\"#c0c0c0\" points=\"176.3801,-141.8484 180.4426,-151.6334 183.3688,-141.4507 176.3801,-141.8484\"/>\n",
       "</g>\n",
       "<!-- test_functionmiddleat0x7fe2455bbe18_3&#45;&gt;test_functionmiddleat0x7fe2455bbe18_5 -->\n",
       "<!-- y_functionmiddleat0x7fe2455bbe18_1 -->\n",
       "<g id=\"node5\" class=\"node\">\n",
       "<title>y_functionmiddleat0x7fe2455bbe18_1</title>\n",
       "<g id=\"a_node5\"><a xlink:title=\"middle:1\">\n",
       "<polygon fill=\"#ffdab9\" stroke=\"#000000\" points=\"211,-344 0,-344 0,-304 211,-304 211,-344\"/>\n",
       "<text text-anchor=\"start\" x=\"101\" y=\"-329.8\" font-family=\"Fira Mono, Courier, monospace\" font-weight=\"bold\" font-size=\"14.00\" fill=\"#000000\">y</text>\n",
       "<text text-anchor=\"start\" x=\"8\" y=\"-310.8\" font-family=\"Fira Mono, Courier, monospace\" font-size=\"9.00\" fill=\"#000000\">def middle(x, y, z): &#160;# type: ignore</text>\n",
       "</a>\n",
       "</g>\n",
       "</g>\n",
       "<!-- y_functionmiddleat0x7fe2455bbe18_1&#45;&gt;test_functionmiddleat0x7fe2455bbe18_3 -->\n",
       "<g id=\"edge9\" class=\"edge\">\n",
       "<title>y_functionmiddleat0x7fe2455bbe18_1&#45;&gt;test_functionmiddleat0x7fe2455bbe18_3</title>\n",
       "<path fill=\"none\" stroke=\"#000000\" d=\"M114.8834,-294.2132C121.5898,-274.7459 131.5278,-249.1116 143.5,-228 150.6955,-215.3116 160.4929,-202.3189 168.9184,-192.0466\"/>\n",
       "<polygon fill=\"#000000\" stroke=\"#000000\" points=\"111.5381,-293.1806 111.6772,-303.7746 118.1749,-295.4062 111.5381,-293.1806\"/>\n",
       "</g>\n",
       "<!-- y_functionmiddleat0x7fe2455bbe18_1&#45;&gt;test_functionmiddleat0x7fe2455bbe18_2 -->\n",
       "<g id=\"edge5\" class=\"edge\">\n",
       "<title>y_functionmiddleat0x7fe2455bbe18_1&#45;&gt;test_functionmiddleat0x7fe2455bbe18_2</title>\n",
       "<path fill=\"none\" stroke=\"#000000\" d=\"M134.6338,-296.6646C144.6639,-287.2537 155.7059,-276.8932 165.0144,-268.1593\"/>\n",
       "<polygon fill=\"#000000\" stroke=\"#000000\" points=\"132.1043,-294.2386 127.2065,-303.6334 136.894,-299.3434 132.1043,-294.2386\"/>\n",
       "</g>\n",
       "<!-- y_functionmiddleat0x7fe2455bbe18_1&#45;&gt;middlereturnvalue_functionmiddleat0x7fe2455bbe18_6 -->\n",
       "<g id=\"edge6\" class=\"edge\">\n",
       "<title>y_functionmiddleat0x7fe2455bbe18_1&#45;&gt;middlereturnvalue_functionmiddleat0x7fe2455bbe18_6</title>\n",
       "<path fill=\"none\" stroke=\"#000000\" d=\"M104.3666,-293.5923C103.7051,-245.3194 107.0817,-149.1342 139.5,-76 145.4151,-62.6557 155.5004,-49.9998 164.8155,-40.1066\"/>\n",
       "<polygon fill=\"#000000\" stroke=\"#000000\" points=\"100.8694,-293.7666 104.5752,-303.6921 107.8679,-293.622 100.8694,-293.7666\"/>\n",
       "</g>\n",
       "<!-- test_functionmiddleat0x7fe2455bbe18_2&#45;&gt;test_functionmiddleat0x7fe2455bbe18_3 -->\n",
       "<g id=\"edge10\" class=\"edge\">\n",
       "<title>test_functionmiddleat0x7fe2455bbe18_2&#45;&gt;test_functionmiddleat0x7fe2455bbe18_3</title>\n",
       "<path fill=\"none\" stroke=\"#c0c0c0\" stroke-dasharray=\"5,2\" d=\"M179.8711,-217.59C179.5948,-209.038 179.7912,-199.9513 180.4602,-192.1593\"/>\n",
       "<polygon fill=\"#c0c0c0\" stroke=\"#c0c0c0\" points=\"176.3801,-217.8484 180.4426,-227.6334 183.3688,-217.4507 176.3801,-217.8484\"/>\n",
       "</g>\n",
       "<!-- test_functionmiddleat0x7fe2455bbe18_2&#45;&gt;test_functionmiddleat0x7fe2455bbe18_3 -->\n",
       "</g>\n",
       "</svg>\n"
      ],
      "text/plain": [
       "<graphviz.dot.Digraph at 0x7fe24562e940>"
      ]
     },
     "execution_count": 1,
     "metadata": {},
     "output_type": "execute_result"
    }
   ],
   "source": [
    "middle_deps().graph(mode='depend')"
   ]
  },
  {
   "cell_type": "markdown",
   "metadata": {
    "slideshow": {
     "slide_type": "subslide"
    }
   },
   "source": [
    "#### Slices\n",
    "\n",
    "The method `backward_slice(*critera, mode='cd')` returns a subset of dependencies, following dependencies backward from the given *slicing criteria* `criteria`. These criteria can be\n",
    "\n",
    "* variable names (such as `<test>`); or\n",
    "* `(function, lineno)` pairs (such as `(middle, 3)`); or\n",
    "* `(var_name, (function, lineno))` (such as `(`x`, (middle, 1))`) locations.\n",
    "\n",
    "The extra parameter `mode` controls which dependencies are to be followed:\n",
    "\n",
    "* **`d`** = data dependencies\n",
    "* **`c`** = control dependencies"
   ]
  },
  {
   "cell_type": "code",
   "execution_count": 30,
   "metadata": {
    "execution": {
     "iopub.execute_input": "2021-05-11T17:07:51.740799Z",
     "iopub.status.busy": "2021-05-11T17:07:51.740197Z",
     "iopub.status.idle": "2021-05-11T17:07:51.742108Z",
     "shell.execute_reply": "2021-05-11T17:07:51.742975Z"
    },
    "slideshow": {
     "slide_type": "subslide"
    }
   },
   "outputs": [],
   "source": [
    "Criterion = Union[str, Location, Node]"
   ]
  },
  {
   "cell_type": "code",
   "execution_count": 31,
   "metadata": {
    "execution": {
     "iopub.execute_input": "2021-05-11T17:07:51.755835Z",
     "iopub.status.busy": "2021-05-11T17:07:51.755232Z",
     "iopub.status.idle": "2021-05-11T17:07:51.756890Z",
     "shell.execute_reply": "2021-05-11T17:07:51.757262Z"
    },
    "slideshow": {
     "slide_type": "subslide"
    }
   },
   "outputs": [],
   "source": [
    "class Dependencies(Dependencies):\n",
    "    def expand_criteria(self, criteria: List[Criterion]) -> List[Node]:\n",
    "        \"\"\"Return list of vars matched by `criteria`.\"\"\"\n",
    "        all_vars = []\n",
    "        for criterion in criteria:\n",
    "            criterion_var = None\n",
    "            criterion_func = None\n",
    "            criterion_lineno = None\n",
    "\n",
    "            if isinstance(criterion, str):\n",
    "                criterion_var = criterion\n",
    "            elif len(criterion) == 2 and callable(criterion[0]):\n",
    "                criterion_func, criterion_lineno = criterion\n",
    "            elif len(criterion) == 2 and isinstance(criterion[0], str):\n",
    "                criterion_var = criterion[0]\n",
    "                criterion_func, criterion_lineno = criterion[1]\n",
    "            else:\n",
    "                raise ValueError(\"Invalid argument\")\n",
    "\n",
    "            for var in self.all_vars():\n",
    "                (var_name, location) = var\n",
    "                func, lineno = location\n",
    "\n",
    "                name_matches = (criterion_func is None or\n",
    "                                criterion_func == func or\n",
    "                                criterion_func.__name__ == func.__name__)\n",
    "\n",
    "                location_matches = (criterion_lineno is None or\n",
    "                                    criterion_lineno == lineno)\n",
    "\n",
    "                var_matches = (criterion_var is None or\n",
    "                               criterion_var == var_name)\n",
    "\n",
    "                if name_matches and location_matches and var_matches:\n",
    "                    all_vars.append(var)\n",
    "\n",
    "        return all_vars\n",
    "\n",
    "    def backward_slice(self, *criteria: Criterion, \n",
    "                       mode: str = 'cd', depth: int = -1) -> Dependencies:\n",
    "        \"\"\"\n",
    "        Create a backward slice from nodes `criteria`.\n",
    "        `mode` can contain 'c' (draw control dependencies)\n",
    "        and 'd' (draw data dependencies) (default: 'cd')\n",
    "        \"\"\"\n",
    "        data = {}\n",
    "        control = {}\n",
    "        queue = self.expand_criteria(criteria)  # type: ignore\n",
    "        seen = set()\n",
    "\n",
    "        while len(queue) > 0 and depth != 0:\n",
    "            var = queue[0]\n",
    "            queue = queue[1:]\n",
    "            seen.add(var)\n",
    "\n",
    "            if 'd' in mode:\n",
    "                # Follow data dependencies\n",
    "                data[var] = self.data[var]\n",
    "                for next_var in data[var]:\n",
    "                    if next_var not in seen:\n",
    "                        queue.append(next_var)\n",
    "            else:\n",
    "                data[var] = set()\n",
    "\n",
    "            if 'c' in mode:\n",
    "                # Follow control dependencies\n",
    "                control[var] = self.control[var]\n",
    "                for next_var in control[var]:\n",
    "                    if next_var not in seen:\n",
    "                        queue.append(next_var)\n",
    "            else:\n",
    "                control[var] = set()\n",
    "\n",
    "            depth -= 1\n",
    "\n",
    "        return Dependencies(data, control)"
   ]
  },
  {
   "cell_type": "markdown",
   "metadata": {
    "slideshow": {
     "slide_type": "subslide"
    }
   },
   "source": [
    "### End of Excursion"
   ]
  },
  {
   "cell_type": "markdown",
   "metadata": {
    "slideshow": {
     "slide_type": "subslide"
    }
   },
   "source": [
    "### Data Dependencies\n",
    "\n",
    "Here is an example of a data dependency in our `middle()` program. The value `y` returned by `middle()` comes from the value `y` as originally passed as argument. We use arrows $x \\leftarrow y$ to indicate that a variable $x$ depends on an earlier variable $y$:"
   ]
  },
  {
   "cell_type": "code",
   "execution_count": 32,
   "metadata": {
    "execution": {
     "iopub.execute_input": "2021-05-11T17:07:51.761535Z",
     "iopub.status.busy": "2021-05-11T17:07:51.760784Z",
     "iopub.status.idle": "2021-05-11T17:07:52.569537Z",
     "shell.execute_reply": "2021-05-11T17:07:52.569954Z"
    },
    "slideshow": {
     "slide_type": "fragment"
    }
   },
   "outputs": [
    {
     "data": {
      "image/svg+xml": [
       "<?xml version=\"1.0\" encoding=\"UTF-8\" standalone=\"no\"?>\n",
       "<!DOCTYPE svg PUBLIC \"-//W3C//DTD SVG 1.1//EN\"\n",
       " \"http://www.w3.org/Graphics/SVG/1.1/DTD/svg11.dtd\">\n",
       "<!-- Generated by graphviz version 2.40.1 (20161225.0304)\n",
       " -->\n",
       "<!-- Title: dependencies Pages: 1 -->\n",
       "<svg width=\"219pt\" height=\"124pt\"\n",
       " viewBox=\"0.00 0.00 219.00 124.00\" xmlns=\"http://www.w3.org/2000/svg\" xmlns:xlink=\"http://www.w3.org/1999/xlink\">\n",
       "<g id=\"graph0\" class=\"graph\" transform=\"scale(1 1) rotate(0) translate(4 120)\">\n",
       "<title>dependencies</title>\n",
       "<polygon fill=\"#ffffff\" stroke=\"transparent\" points=\"-4,4 -4,-120 215,-120 215,4 -4,4\"/>\n",
       "<!-- middlereturnvalue_functionmiddleat0x7fe2455bbe18_6 -->\n",
       "<g id=\"node1\" class=\"node\">\n",
       "<title>middlereturnvalue_functionmiddleat0x7fe2455bbe18_6</title>\n",
       "<g id=\"a_node1\"><a xlink:title=\"middle:6\">\n",
       "<polygon fill=\"#ffdab9\" stroke=\"#000000\" points=\"210.5,-40 .5,-40 .5,0 210.5,0 210.5,-40\"/>\n",
       "<text text-anchor=\"start\" x=\"8.5\" y=\"-25.8\" font-family=\"Fira Mono, Courier, monospace\" font-weight=\"bold\" font-style=\"italic\" font-size=\"14.00\" fill=\"#000000\">&lt;middle() return value&gt;</text>\n",
       "<text text-anchor=\"start\" x=\"83.5\" y=\"-6.8\" font-family=\"Fira Mono, Courier, monospace\" font-size=\"9.00\" fill=\"#000000\">return y</text>\n",
       "</a>\n",
       "</g>\n",
       "</g>\n",
       "<!-- y_functionmiddleat0x7fe2455bbe18_1 -->\n",
       "<g id=\"node2\" class=\"node\">\n",
       "<title>y_functionmiddleat0x7fe2455bbe18_1</title>\n",
       "<g id=\"a_node2\"><a xlink:title=\"middle:1\">\n",
       "<polygon fill=\"#ffdab9\" stroke=\"#000000\" points=\"211,-116 0,-116 0,-76 211,-76 211,-116\"/>\n",
       "<text text-anchor=\"start\" x=\"101\" y=\"-101.8\" font-family=\"Fira Mono, Courier, monospace\" font-weight=\"bold\" font-size=\"14.00\" fill=\"#000000\">y</text>\n",
       "<text text-anchor=\"start\" x=\"8\" y=\"-82.8\" font-family=\"Fira Mono, Courier, monospace\" font-size=\"9.00\" fill=\"#000000\">def middle(x, y, z): &#160;# type: ignore</text>\n",
       "</a>\n",
       "</g>\n",
       "</g>\n",
       "<!-- y_functionmiddleat0x7fe2455bbe18_1&#45;&gt;middlereturnvalue_functionmiddleat0x7fe2455bbe18_6 -->\n",
       "<g id=\"edge1\" class=\"edge\">\n",
       "<title>y_functionmiddleat0x7fe2455bbe18_1&#45;&gt;middlereturnvalue_functionmiddleat0x7fe2455bbe18_6</title>\n",
       "<path fill=\"none\" stroke=\"#000000\" d=\"M99.4426,-75.6334C98.7819,-67.8186 98.5939,-58.7253 98.8786,-50.183\"/>\n",
       "<polygon fill=\"#000000\" stroke=\"#000000\" points=\"102.375,-50.3453 99.4602,-40.1593 95.3867,-49.9397 102.375,-50.3453\"/>\n",
       "</g>\n",
       "<!-- y_functionmiddleat0x7fe2455bbe18_1&#45;&gt;middlereturnvalue_functionmiddleat0x7fe2455bbe18_6 -->\n",
       "</g>\n",
       "</svg>\n"
      ],
      "text/plain": [
       "<__main__.Dependencies at 0x7fe245552e48>"
      ]
     },
     "execution_count": 1,
     "metadata": {},
     "output_type": "execute_result"
    }
   ],
   "source": [
    "# ignore\n",
    "middle_deps().backward_slice('<middle() return value>', mode='d')  # type: ignore"
   ]
  },
  {
   "cell_type": "markdown",
   "metadata": {
    "slideshow": {
     "slide_type": "fragment"
    }
   },
   "source": [
    "Here, we can see that the value `y` in the return statement is data dependent on the value of `y` as passed to `middle()`. An alternate interpretation of this graph is a *data flow*: The value of `y` in the upper node _flows_ into the value of `y` in the lower node."
   ]
  },
  {
   "cell_type": "markdown",
   "metadata": {
    "slideshow": {
     "slide_type": "subslide"
    }
   },
   "source": [
    "Since we consider the values of variables at specific locations in the program, such data dependencies can also be interpreted as dependencies between _statements_ – the above `return` statement thus is data dependent on the initialization of `y` in the upper node."
   ]
  },
  {
   "cell_type": "markdown",
   "metadata": {
    "slideshow": {
     "slide_type": "subslide"
    }
   },
   "source": [
    "### Control Dependencies\n",
    "\n",
    "Here is an example of a control dependency. The execution of the above `return` statement is controlled by the earlier test `x < z`. We use grey dashed lines to indicate control dependencies:"
   ]
  },
  {
   "cell_type": "code",
   "execution_count": 33,
   "metadata": {
    "execution": {
     "iopub.execute_input": "2021-05-11T17:07:52.575430Z",
     "iopub.status.busy": "2021-05-11T17:07:52.574601Z",
     "iopub.status.idle": "2021-05-11T17:07:53.383946Z",
     "shell.execute_reply": "2021-05-11T17:07:53.384685Z"
    },
    "slideshow": {
     "slide_type": "fragment"
    }
   },
   "outputs": [
    {
     "data": {
      "image/svg+xml": [
       "<?xml version=\"1.0\" encoding=\"UTF-8\" standalone=\"no\"?>\n",
       "<!DOCTYPE svg PUBLIC \"-//W3C//DTD SVG 1.1//EN\"\n",
       " \"http://www.w3.org/Graphics/SVG/1.1/DTD/svg11.dtd\">\n",
       "<!-- Generated by graphviz version 2.40.1 (20161225.0304)\n",
       " -->\n",
       "<!-- Title: dependencies Pages: 1 -->\n",
       "<svg width=\"218pt\" height=\"124pt\"\n",
       " viewBox=\"0.00 0.00 218.00 124.00\" xmlns=\"http://www.w3.org/2000/svg\" xmlns:xlink=\"http://www.w3.org/1999/xlink\">\n",
       "<g id=\"graph0\" class=\"graph\" transform=\"scale(1 1) rotate(0) translate(4 120)\">\n",
       "<title>dependencies</title>\n",
       "<polygon fill=\"#ffffff\" stroke=\"transparent\" points=\"-4,4 -4,-120 214,-120 214,4 -4,4\"/>\n",
       "<!-- test_functionmiddleat0x7fe2455bbe18_5 -->\n",
       "<g id=\"node1\" class=\"node\">\n",
       "<title>test_functionmiddleat0x7fe2455bbe18_5</title>\n",
       "<g id=\"a_node1\"><a xlink:title=\"middle:5\">\n",
       "<polygon fill=\"#ffdab9\" stroke=\"#000000\" points=\"143,-116 67,-116 67,-76 143,-76 143,-116\"/>\n",
       "<text text-anchor=\"start\" x=\"79.5\" y=\"-101.8\" font-family=\"Fira Mono, Courier, monospace\" font-weight=\"bold\" font-style=\"italic\" font-size=\"14.00\" fill=\"#000000\">&lt;test&gt;</text>\n",
       "<text text-anchor=\"start\" x=\"75\" y=\"-82.8\" font-family=\"Fira Mono, Courier, monospace\" font-size=\"9.00\" fill=\"#000000\">elif x &lt; z:</text>\n",
       "</a>\n",
       "</g>\n",
       "</g>\n",
       "<!-- middlereturnvalue_functionmiddleat0x7fe2455bbe18_6 -->\n",
       "<g id=\"node2\" class=\"node\">\n",
       "<title>middlereturnvalue_functionmiddleat0x7fe2455bbe18_6</title>\n",
       "<g id=\"a_node2\"><a xlink:title=\"middle:6\">\n",
       "<polygon fill=\"#ffdab9\" stroke=\"#000000\" points=\"210,-40 0,-40 0,0 210,0 210,-40\"/>\n",
       "<text text-anchor=\"start\" x=\"8\" y=\"-25.8\" font-family=\"Fira Mono, Courier, monospace\" font-weight=\"bold\" font-style=\"italic\" font-size=\"14.00\" fill=\"#000000\">&lt;middle() return value&gt;</text>\n",
       "<text text-anchor=\"start\" x=\"83\" y=\"-6.8\" font-family=\"Fira Mono, Courier, monospace\" font-size=\"9.00\" fill=\"#000000\">return y</text>\n",
       "</a>\n",
       "</g>\n",
       "</g>\n",
       "<!-- test_functionmiddleat0x7fe2455bbe18_5&#45;&gt;middlereturnvalue_functionmiddleat0x7fe2455bbe18_6 -->\n",
       "<g id=\"edge1\" class=\"edge\">\n",
       "<title>test_functionmiddleat0x7fe2455bbe18_5&#45;&gt;middlereturnvalue_functionmiddleat0x7fe2455bbe18_6</title>\n",
       "<path fill=\"none\" stroke=\"#c0c0c0\" stroke-dasharray=\"5,2\" d=\"M98.9426,-75.6334C98.2819,-67.8186 98.0939,-58.7253 98.3786,-50.183\"/>\n",
       "<polygon fill=\"#c0c0c0\" stroke=\"#c0c0c0\" points=\"101.875,-50.3453 98.9602,-40.1593 94.8867,-49.9397 101.875,-50.3453\"/>\n",
       "</g>\n",
       "<!-- test_functionmiddleat0x7fe2455bbe18_5&#45;&gt;middlereturnvalue_functionmiddleat0x7fe2455bbe18_6 -->\n",
       "</g>\n",
       "</svg>\n"
      ],
      "text/plain": [
       "<__main__.Dependencies at 0x7fe245552208>"
      ]
     },
     "execution_count": 1,
     "metadata": {},
     "output_type": "execute_result"
    }
   ],
   "source": [
    "# ignore\n",
    "middle_deps().backward_slice('<middle() return value>', mode='c', depth=1)  # type: ignore"
   ]
  },
  {
   "cell_type": "markdown",
   "metadata": {
    "slideshow": {
     "slide_type": "fragment"
    }
   },
   "source": [
    "This test in turn is controlled by earlier tests, so the full chain of control dependencies looks like this:"
   ]
  },
  {
   "cell_type": "code",
   "execution_count": 34,
   "metadata": {
    "execution": {
     "iopub.execute_input": "2021-05-11T17:07:53.394715Z",
     "iopub.status.busy": "2021-05-11T17:07:53.390155Z",
     "iopub.status.idle": "2021-05-11T17:07:54.218913Z",
     "shell.execute_reply": "2021-05-11T17:07:54.219622Z"
    },
    "slideshow": {
     "slide_type": "fragment"
    }
   },
   "outputs": [
    {
     "data": {
      "image/svg+xml": [
       "<?xml version=\"1.0\" encoding=\"UTF-8\" standalone=\"no\"?>\n",
       "<!DOCTYPE svg PUBLIC \"-//W3C//DTD SVG 1.1//EN\"\n",
       " \"http://www.w3.org/Graphics/SVG/1.1/DTD/svg11.dtd\">\n",
       "<!-- Generated by graphviz version 2.40.1 (20161225.0304)\n",
       " -->\n",
       "<!-- Title: dependencies Pages: 1 -->\n",
       "<svg width=\"218pt\" height=\"276pt\"\n",
       " viewBox=\"0.00 0.00 218.00 276.00\" xmlns=\"http://www.w3.org/2000/svg\" xmlns:xlink=\"http://www.w3.org/1999/xlink\">\n",
       "<g id=\"graph0\" class=\"graph\" transform=\"scale(1 1) rotate(0) translate(4 272)\">\n",
       "<title>dependencies</title>\n",
       "<polygon fill=\"#ffffff\" stroke=\"transparent\" points=\"-4,4 -4,-272 214,-272 214,4 -4,4\"/>\n",
       "<!-- test_functionmiddleat0x7fe2455bbe18_5 -->\n",
       "<g id=\"node1\" class=\"node\">\n",
       "<title>test_functionmiddleat0x7fe2455bbe18_5</title>\n",
       "<g id=\"a_node1\"><a xlink:title=\"middle:5\">\n",
       "<polygon fill=\"#ffdab9\" stroke=\"#000000\" points=\"143,-116 67,-116 67,-76 143,-76 143,-116\"/>\n",
       "<text text-anchor=\"start\" x=\"79.5\" y=\"-101.8\" font-family=\"Fira Mono, Courier, monospace\" font-weight=\"bold\" font-style=\"italic\" font-size=\"14.00\" fill=\"#000000\">&lt;test&gt;</text>\n",
       "<text text-anchor=\"start\" x=\"75\" y=\"-82.8\" font-family=\"Fira Mono, Courier, monospace\" font-size=\"9.00\" fill=\"#000000\">elif x &lt; z:</text>\n",
       "</a>\n",
       "</g>\n",
       "</g>\n",
       "<!-- middlereturnvalue_functionmiddleat0x7fe2455bbe18_6 -->\n",
       "<g id=\"node3\" class=\"node\">\n",
       "<title>middlereturnvalue_functionmiddleat0x7fe2455bbe18_6</title>\n",
       "<g id=\"a_node3\"><a xlink:title=\"middle:6\">\n",
       "<polygon fill=\"#ffdab9\" stroke=\"#000000\" points=\"210,-40 0,-40 0,0 210,0 210,-40\"/>\n",
       "<text text-anchor=\"start\" x=\"8\" y=\"-25.8\" font-family=\"Fira Mono, Courier, monospace\" font-weight=\"bold\" font-style=\"italic\" font-size=\"14.00\" fill=\"#000000\">&lt;middle() return value&gt;</text>\n",
       "<text text-anchor=\"start\" x=\"83\" y=\"-6.8\" font-family=\"Fira Mono, Courier, monospace\" font-size=\"9.00\" fill=\"#000000\">return y</text>\n",
       "</a>\n",
       "</g>\n",
       "</g>\n",
       "<!-- test_functionmiddleat0x7fe2455bbe18_5&#45;&gt;middlereturnvalue_functionmiddleat0x7fe2455bbe18_6 -->\n",
       "<g id=\"edge2\" class=\"edge\">\n",
       "<title>test_functionmiddleat0x7fe2455bbe18_5&#45;&gt;middlereturnvalue_functionmiddleat0x7fe2455bbe18_6</title>\n",
       "<path fill=\"none\" stroke=\"#c0c0c0\" stroke-dasharray=\"5,2\" d=\"M98.9426,-75.6334C98.2819,-67.8186 98.0939,-58.7253 98.3786,-50.183\"/>\n",
       "<polygon fill=\"#c0c0c0\" stroke=\"#c0c0c0\" points=\"101.875,-50.3453 98.9602,-40.1593 94.8867,-49.9397 101.875,-50.3453\"/>\n",
       "</g>\n",
       "<!-- test_functionmiddleat0x7fe2455bbe18_5&#45;&gt;middlereturnvalue_functionmiddleat0x7fe2455bbe18_6 -->\n",
       "<!-- test_functionmiddleat0x7fe2455bbe18_3 -->\n",
       "<g id=\"node2\" class=\"node\">\n",
       "<title>test_functionmiddleat0x7fe2455bbe18_3</title>\n",
       "<g id=\"a_node2\"><a xlink:title=\"middle:3\">\n",
       "<polygon fill=\"#ffdab9\" stroke=\"#000000\" points=\"138.5,-192 71.5,-192 71.5,-152 138.5,-152 138.5,-192\"/>\n",
       "<text text-anchor=\"start\" x=\"79.5\" y=\"-177.8\" font-family=\"Fira Mono, Courier, monospace\" font-weight=\"bold\" font-style=\"italic\" font-size=\"14.00\" fill=\"#000000\">&lt;test&gt;</text>\n",
       "<text text-anchor=\"start\" x=\"80.5\" y=\"-158.8\" font-family=\"Fira Mono, Courier, monospace\" font-size=\"9.00\" fill=\"#000000\">if x &lt; y:</text>\n",
       "</a>\n",
       "</g>\n",
       "</g>\n",
       "<!-- test_functionmiddleat0x7fe2455bbe18_3&#45;&gt;test_functionmiddleat0x7fe2455bbe18_5 -->\n",
       "<g id=\"edge1\" class=\"edge\">\n",
       "<title>test_functionmiddleat0x7fe2455bbe18_3&#45;&gt;test_functionmiddleat0x7fe2455bbe18_5</title>\n",
       "<path fill=\"none\" stroke=\"#c0c0c0\" stroke-dasharray=\"5,2\" d=\"M98.9426,-151.6334C98.2819,-143.8186 98.0939,-134.7253 98.3786,-126.183\"/>\n",
       "<polygon fill=\"#c0c0c0\" stroke=\"#c0c0c0\" points=\"101.875,-126.3453 98.9602,-116.1593 94.8867,-125.9397 101.875,-126.3453\"/>\n",
       "</g>\n",
       "<!-- test_functionmiddleat0x7fe2455bbe18_3&#45;&gt;test_functionmiddleat0x7fe2455bbe18_5 -->\n",
       "<!-- test_functionmiddleat0x7fe2455bbe18_2 -->\n",
       "<g id=\"node4\" class=\"node\">\n",
       "<title>test_functionmiddleat0x7fe2455bbe18_2</title>\n",
       "<g id=\"a_node4\"><a xlink:title=\"middle:2\">\n",
       "<polygon fill=\"#ffdab9\" stroke=\"#000000\" points=\"138.5,-268 71.5,-268 71.5,-228 138.5,-228 138.5,-268\"/>\n",
       "<text text-anchor=\"start\" x=\"79.5\" y=\"-253.8\" font-family=\"Fira Mono, Courier, monospace\" font-weight=\"bold\" font-style=\"italic\" font-size=\"14.00\" fill=\"#000000\">&lt;test&gt;</text>\n",
       "<text text-anchor=\"start\" x=\"80.5\" y=\"-234.8\" font-family=\"Fira Mono, Courier, monospace\" font-size=\"9.00\" fill=\"#000000\">if y &lt; z:</text>\n",
       "</a>\n",
       "</g>\n",
       "</g>\n",
       "<!-- test_functionmiddleat0x7fe2455bbe18_2&#45;&gt;test_functionmiddleat0x7fe2455bbe18_3 -->\n",
       "<g id=\"edge3\" class=\"edge\">\n",
       "<title>test_functionmiddleat0x7fe2455bbe18_2&#45;&gt;test_functionmiddleat0x7fe2455bbe18_3</title>\n",
       "<path fill=\"none\" stroke=\"#c0c0c0\" stroke-dasharray=\"5,2\" d=\"M98.9426,-227.6334C98.2819,-219.8186 98.0939,-210.7253 98.3786,-202.183\"/>\n",
       "<polygon fill=\"#c0c0c0\" stroke=\"#c0c0c0\" points=\"101.875,-202.3453 98.9602,-192.1593 94.8867,-201.9397 101.875,-202.3453\"/>\n",
       "</g>\n",
       "<!-- test_functionmiddleat0x7fe2455bbe18_2&#45;&gt;test_functionmiddleat0x7fe2455bbe18_3 -->\n",
       "</g>\n",
       "</svg>\n"
      ],
      "text/plain": [
       "<__main__.Dependencies at 0x7fe245552a20>"
      ]
     },
     "execution_count": 1,
     "metadata": {},
     "output_type": "execute_result"
    }
   ],
   "source": [
    "# ignore\n",
    "middle_deps().backward_slice('<middle() return value>', mode='c')  # type: ignore"
   ]
  },
  {
   "cell_type": "markdown",
   "metadata": {
    "slideshow": {
     "slide_type": "subslide"
    }
   },
   "source": [
    "### Dependency Graphs\n",
    "\n",
    "The above `<test>` values (and their statements) are in turn also dependent on earlier data, namely the `x`, `y`, and `z` values as originally passed. We can draw all data and control dependencies in a single graph, called a _program dependency graph_:"
   ]
  },
  {
   "cell_type": "code",
   "execution_count": 35,
   "metadata": {
    "execution": {
     "iopub.execute_input": "2021-05-11T17:07:54.227014Z",
     "iopub.status.busy": "2021-05-11T17:07:54.226080Z",
     "iopub.status.idle": "2021-05-11T17:07:55.061437Z",
     "shell.execute_reply": "2021-05-11T17:07:55.061992Z"
    },
    "slideshow": {
     "slide_type": "fragment"
    }
   },
   "outputs": [
    {
     "data": {
      "image/svg+xml": [
       "<?xml version=\"1.0\" encoding=\"UTF-8\" standalone=\"no\"?>\n",
       "<!DOCTYPE svg PUBLIC \"-//W3C//DTD SVG 1.1//EN\"\n",
       " \"http://www.w3.org/Graphics/SVG/1.1/DTD/svg11.dtd\">\n",
       "<!-- Generated by graphviz version 2.40.1 (20161225.0304)\n",
       " -->\n",
       "<!-- Title: dependencies Pages: 1 -->\n",
       "<svg width=\"474pt\" height=\"352pt\"\n",
       " viewBox=\"0.00 0.00 473.67 352.00\" xmlns=\"http://www.w3.org/2000/svg\" xmlns:xlink=\"http://www.w3.org/1999/xlink\">\n",
       "<g id=\"graph0\" class=\"graph\" transform=\"scale(1 1) rotate(0) translate(4 348)\">\n",
       "<title>dependencies</title>\n",
       "<polygon fill=\"#ffffff\" stroke=\"transparent\" points=\"-4,4 -4,-348 469.6674,-348 469.6674,4 -4,4\"/>\n",
       "<!-- test_functionmiddleat0x7fe2455bbe18_5 -->\n",
       "<g id=\"node1\" class=\"node\">\n",
       "<title>test_functionmiddleat0x7fe2455bbe18_5</title>\n",
       "<g id=\"a_node1\"><a xlink:title=\"middle:5\">\n",
       "<polygon fill=\"#ffdab9\" stroke=\"#000000\" points=\"224.5,-116 148.5,-116 148.5,-76 224.5,-76 224.5,-116\"/>\n",
       "<text text-anchor=\"start\" x=\"161\" y=\"-101.8\" font-family=\"Fira Mono, Courier, monospace\" font-weight=\"bold\" font-style=\"italic\" font-size=\"14.00\" fill=\"#000000\">&lt;test&gt;</text>\n",
       "<text text-anchor=\"start\" x=\"156.5\" y=\"-82.8\" font-family=\"Fira Mono, Courier, monospace\" font-size=\"9.00\" fill=\"#000000\">elif x &lt; z:</text>\n",
       "</a>\n",
       "</g>\n",
       "</g>\n",
       "<!-- middlereturnvalue_functionmiddleat0x7fe2455bbe18_6 -->\n",
       "<g id=\"node7\" class=\"node\">\n",
       "<title>middlereturnvalue_functionmiddleat0x7fe2455bbe18_6</title>\n",
       "<g id=\"a_node7\"><a xlink:title=\"middle:6\">\n",
       "<polygon fill=\"#ffdab9\" stroke=\"#000000\" points=\"291.5,-40 81.5,-40 81.5,0 291.5,0 291.5,-40\"/>\n",
       "<text text-anchor=\"start\" x=\"89.5\" y=\"-25.8\" font-family=\"Fira Mono, Courier, monospace\" font-weight=\"bold\" font-style=\"italic\" font-size=\"14.00\" fill=\"#000000\">&lt;middle() return value&gt;</text>\n",
       "<text text-anchor=\"start\" x=\"164.5\" y=\"-6.8\" font-family=\"Fira Mono, Courier, monospace\" font-size=\"9.00\" fill=\"#000000\">return y</text>\n",
       "</a>\n",
       "</g>\n",
       "</g>\n",
       "<!-- test_functionmiddleat0x7fe2455bbe18_5&#45;&gt;middlereturnvalue_functionmiddleat0x7fe2455bbe18_6 -->\n",
       "<g id=\"edge7\" class=\"edge\">\n",
       "<title>test_functionmiddleat0x7fe2455bbe18_5&#45;&gt;middlereturnvalue_functionmiddleat0x7fe2455bbe18_6</title>\n",
       "<path fill=\"none\" stroke=\"#c0c0c0\" stroke-dasharray=\"5,2\" d=\"M180.4426,-75.6334C179.7819,-67.8186 179.5939,-58.7253 179.8786,-50.183\"/>\n",
       "<polygon fill=\"#c0c0c0\" stroke=\"#c0c0c0\" points=\"183.375,-50.3453 180.4602,-40.1593 176.3867,-49.9397 183.375,-50.3453\"/>\n",
       "</g>\n",
       "<!-- test_functionmiddleat0x7fe2455bbe18_5&#45;&gt;middlereturnvalue_functionmiddleat0x7fe2455bbe18_6 -->\n",
       "<!-- z_functionmiddleat0x7fe2455bbe18_1 -->\n",
       "<g id=\"node2\" class=\"node\">\n",
       "<title>z_functionmiddleat0x7fe2455bbe18_1</title>\n",
       "<g id=\"a_node2\"><a xlink:title=\"middle:1\">\n",
       "<polygon fill=\"#ffdab9\" stroke=\"#000000\" points=\"440,-344 229,-344 229,-304 440,-304 440,-344\"/>\n",
       "<text text-anchor=\"start\" x=\"330\" y=\"-329.8\" font-family=\"Fira Mono, Courier, monospace\" font-weight=\"bold\" font-size=\"14.00\" fill=\"#000000\">z</text>\n",
       "<text text-anchor=\"start\" x=\"237\" y=\"-310.8\" font-family=\"Fira Mono, Courier, monospace\" font-size=\"9.00\" fill=\"#000000\">def middle(x, y, z): &#160;# type: ignore</text>\n",
       "</a>\n",
       "</g>\n",
       "</g>\n",
       "<!-- z_functionmiddleat0x7fe2455bbe18_1&#45;&gt;test_functionmiddleat0x7fe2455bbe18_5 -->\n",
       "<g id=\"edge1\" class=\"edge\">\n",
       "<title>z_functionmiddleat0x7fe2455bbe18_1&#45;&gt;test_functionmiddleat0x7fe2455bbe18_5</title>\n",
       "<path fill=\"none\" stroke=\"#000000\" d=\"M414.2436,-303.9575C431.6967,-295.7246 448.0579,-284.1734 458.5,-268 468.1428,-253.0646 467.9356,-243.0671 458.5,-228 409.3138,-149.4581 298.5976,-116.4672 234.6168,-103.5549\"/>\n",
       "<polygon fill=\"#000000\" stroke=\"#000000\" points=\"235.2486,-100.1123 224.7661,-101.6511 233.9202,-106.9851 235.2486,-100.1123\"/>\n",
       "</g>\n",
       "<!-- test_functionmiddleat0x7fe2455bbe18_2 -->\n",
       "<g id=\"node6\" class=\"node\">\n",
       "<title>test_functionmiddleat0x7fe2455bbe18_2</title>\n",
       "<g id=\"a_node6\"><a xlink:title=\"middle:2\">\n",
       "<polygon fill=\"#ffdab9\" stroke=\"#000000\" points=\"220,-268 153,-268 153,-228 220,-228 220,-268\"/>\n",
       "<text text-anchor=\"start\" x=\"161\" y=\"-253.8\" font-family=\"Fira Mono, Courier, monospace\" font-weight=\"bold\" font-style=\"italic\" font-size=\"14.00\" fill=\"#000000\">&lt;test&gt;</text>\n",
       "<text text-anchor=\"start\" x=\"162\" y=\"-234.8\" font-family=\"Fira Mono, Courier, monospace\" font-size=\"9.00\" fill=\"#000000\">if y &lt; z:</text>\n",
       "</a>\n",
       "</g>\n",
       "</g>\n",
       "<!-- z_functionmiddleat0x7fe2455bbe18_1&#45;&gt;test_functionmiddleat0x7fe2455bbe18_2 -->\n",
       "<g id=\"edge4\" class=\"edge\">\n",
       "<title>z_functionmiddleat0x7fe2455bbe18_1&#45;&gt;test_functionmiddleat0x7fe2455bbe18_2</title>\n",
       "<path fill=\"none\" stroke=\"#000000\" d=\"M289.1868,-303.8329C269.9777,-294.3851 247.7594,-283.0352 228.8798,-273.0432\"/>\n",
       "<polygon fill=\"#000000\" stroke=\"#000000\" points=\"230.3788,-269.876 219.9077,-268.2613 227.0864,-276.0534 230.3788,-269.876\"/>\n",
       "</g>\n",
       "<!-- z_functionmiddleat0x7fe2455bbe18_1&#45;&gt;test_functionmiddleat0x7fe2455bbe18_2 -->\n",
       "<!-- x_functionmiddleat0x7fe2455bbe18_1 -->\n",
       "<g id=\"node3\" class=\"node\">\n",
       "<title>x_functionmiddleat0x7fe2455bbe18_1</title>\n",
       "<g id=\"a_node3\"><a xlink:title=\"middle:1\">\n",
       "<polygon fill=\"#ffdab9\" stroke=\"#000000\" points=\"449,-268 238,-268 238,-228 449,-228 449,-268\"/>\n",
       "<text text-anchor=\"start\" x=\"339\" y=\"-253.8\" font-family=\"Fira Mono, Courier, monospace\" font-weight=\"bold\" font-size=\"14.00\" fill=\"#000000\">x</text>\n",
       "<text text-anchor=\"start\" x=\"246\" y=\"-234.8\" font-family=\"Fira Mono, Courier, monospace\" font-size=\"9.00\" fill=\"#000000\">def middle(x, y, z): &#160;# type: ignore</text>\n",
       "</a>\n",
       "</g>\n",
       "</g>\n",
       "<!-- x_functionmiddleat0x7fe2455bbe18_1&#45;&gt;test_functionmiddleat0x7fe2455bbe18_5 -->\n",
       "<g id=\"edge2\" class=\"edge\">\n",
       "<title>x_functionmiddleat0x7fe2455bbe18_1&#45;&gt;test_functionmiddleat0x7fe2455bbe18_5</title>\n",
       "<path fill=\"none\" stroke=\"#000000\" d=\"M322.6516,-227.8156C294.9692,-201.0147 245.9691,-153.5752 214.9183,-123.5132\"/>\n",
       "<polygon fill=\"#000000\" stroke=\"#000000\" points=\"217.0537,-120.7091 207.4346,-116.2679 212.1847,-125.7383 217.0537,-120.7091\"/>\n",
       "</g>\n",
       "<!-- test_functionmiddleat0x7fe2455bbe18_3 -->\n",
       "<g id=\"node4\" class=\"node\">\n",
       "<title>test_functionmiddleat0x7fe2455bbe18_3</title>\n",
       "<g id=\"a_node4\"><a xlink:title=\"middle:3\">\n",
       "<polygon fill=\"#ffdab9\" stroke=\"#000000\" points=\"220,-192 153,-192 153,-152 220,-152 220,-192\"/>\n",
       "<text text-anchor=\"start\" x=\"161\" y=\"-177.8\" font-family=\"Fira Mono, Courier, monospace\" font-weight=\"bold\" font-style=\"italic\" font-size=\"14.00\" fill=\"#000000\">&lt;test&gt;</text>\n",
       "<text text-anchor=\"start\" x=\"162\" y=\"-158.8\" font-family=\"Fira Mono, Courier, monospace\" font-size=\"9.00\" fill=\"#000000\">if x &lt; y:</text>\n",
       "</a>\n",
       "</g>\n",
       "</g>\n",
       "<!-- x_functionmiddleat0x7fe2455bbe18_1&#45;&gt;test_functionmiddleat0x7fe2455bbe18_3 -->\n",
       "<g id=\"edge8\" class=\"edge\">\n",
       "<title>x_functionmiddleat0x7fe2455bbe18_1&#45;&gt;test_functionmiddleat0x7fe2455bbe18_3</title>\n",
       "<path fill=\"none\" stroke=\"#000000\" d=\"M301.8391,-227.8329C279.4031,-216.9722 251.775,-203.5981 229.1841,-192.6623\"/>\n",
       "<polygon fill=\"#000000\" stroke=\"#000000\" points=\"230.686,-189.5009 220.1601,-188.2941 227.636,-195.8015 230.686,-189.5009\"/>\n",
       "</g>\n",
       "<!-- test_functionmiddleat0x7fe2455bbe18_3&#45;&gt;test_functionmiddleat0x7fe2455bbe18_5 -->\n",
       "<g id=\"edge3\" class=\"edge\">\n",
       "<title>test_functionmiddleat0x7fe2455bbe18_3&#45;&gt;test_functionmiddleat0x7fe2455bbe18_5</title>\n",
       "<path fill=\"none\" stroke=\"#c0c0c0\" stroke-dasharray=\"5,2\" d=\"M180.4426,-151.6334C179.7819,-143.8186 179.5939,-134.7253 179.8786,-126.183\"/>\n",
       "<polygon fill=\"#c0c0c0\" stroke=\"#c0c0c0\" points=\"183.375,-126.3453 180.4602,-116.1593 176.3867,-125.9397 183.375,-126.3453\"/>\n",
       "</g>\n",
       "<!-- test_functionmiddleat0x7fe2455bbe18_3&#45;&gt;test_functionmiddleat0x7fe2455bbe18_5 -->\n",
       "<!-- y_functionmiddleat0x7fe2455bbe18_1 -->\n",
       "<g id=\"node5\" class=\"node\">\n",
       "<title>y_functionmiddleat0x7fe2455bbe18_1</title>\n",
       "<g id=\"a_node5\"><a xlink:title=\"middle:1\">\n",
       "<polygon fill=\"#ffdab9\" stroke=\"#000000\" points=\"211,-344 0,-344 0,-304 211,-304 211,-344\"/>\n",
       "<text text-anchor=\"start\" x=\"101\" y=\"-329.8\" font-family=\"Fira Mono, Courier, monospace\" font-weight=\"bold\" font-size=\"14.00\" fill=\"#000000\">y</text>\n",
       "<text text-anchor=\"start\" x=\"8\" y=\"-310.8\" font-family=\"Fira Mono, Courier, monospace\" font-size=\"9.00\" fill=\"#000000\">def middle(x, y, z): &#160;# type: ignore</text>\n",
       "</a>\n",
       "</g>\n",
       "</g>\n",
       "<!-- y_functionmiddleat0x7fe2455bbe18_1&#45;&gt;test_functionmiddleat0x7fe2455bbe18_3 -->\n",
       "<g id=\"edge9\" class=\"edge\">\n",
       "<title>y_functionmiddleat0x7fe2455bbe18_1&#45;&gt;test_functionmiddleat0x7fe2455bbe18_3</title>\n",
       "<path fill=\"none\" stroke=\"#000000\" d=\"M111.6772,-303.7746C118.1871,-283.8201 129.4409,-252.7916 143.5,-228 148.9528,-218.3845 155.8999,-208.5944 162.6118,-199.9458\"/>\n",
       "<polygon fill=\"#000000\" stroke=\"#000000\" points=\"165.4143,-202.0453 168.9184,-192.0466 159.9439,-197.6777 165.4143,-202.0453\"/>\n",
       "</g>\n",
       "<!-- y_functionmiddleat0x7fe2455bbe18_1&#45;&gt;test_functionmiddleat0x7fe2455bbe18_2 -->\n",
       "<g id=\"edge5\" class=\"edge\">\n",
       "<title>y_functionmiddleat0x7fe2455bbe18_1&#45;&gt;test_functionmiddleat0x7fe2455bbe18_2</title>\n",
       "<path fill=\"none\" stroke=\"#000000\" d=\"M127.2065,-303.6334C136.5422,-294.8739 147.5898,-284.5083 157.6037,-275.1125\"/>\n",
       "<polygon fill=\"#000000\" stroke=\"#000000\" points=\"160.1167,-277.5541 165.0144,-268.1593 155.327,-272.4493 160.1167,-277.5541\"/>\n",
       "</g>\n",
       "<!-- y_functionmiddleat0x7fe2455bbe18_1&#45;&gt;middlereturnvalue_functionmiddleat0x7fe2455bbe18_6 -->\n",
       "<g id=\"edge6\" class=\"edge\">\n",
       "<title>y_functionmiddleat0x7fe2455bbe18_1&#45;&gt;middlereturnvalue_functionmiddleat0x7fe2455bbe18_6</title>\n",
       "<path fill=\"none\" stroke=\"#000000\" d=\"M104.5752,-303.6921C103.3605,-260.0002 104.6299,-154.6654 139.5,-76 143.9826,-65.8875 150.8599,-56.1704 157.9821,-47.7513\"/>\n",
       "<polygon fill=\"#000000\" stroke=\"#000000\" points=\"160.7606,-49.8948 164.8155,-40.1066 155.5416,-45.2297 160.7606,-49.8948\"/>\n",
       "</g>\n",
       "<!-- test_functionmiddleat0x7fe2455bbe18_2&#45;&gt;test_functionmiddleat0x7fe2455bbe18_3 -->\n",
       "<g id=\"edge10\" class=\"edge\">\n",
       "<title>test_functionmiddleat0x7fe2455bbe18_2&#45;&gt;test_functionmiddleat0x7fe2455bbe18_3</title>\n",
       "<path fill=\"none\" stroke=\"#c0c0c0\" stroke-dasharray=\"5,2\" d=\"M180.4426,-227.6334C179.7819,-219.8186 179.5939,-210.7253 179.8786,-202.183\"/>\n",
       "<polygon fill=\"#c0c0c0\" stroke=\"#c0c0c0\" points=\"183.375,-202.3453 180.4602,-192.1593 176.3867,-201.9397 183.375,-202.3453\"/>\n",
       "</g>\n",
       "<!-- test_functionmiddleat0x7fe2455bbe18_2&#45;&gt;test_functionmiddleat0x7fe2455bbe18_3 -->\n",
       "</g>\n",
       "</svg>\n"
      ],
      "text/plain": [
       "<__main__.Dependencies at 0x7fe2455526d8>"
      ]
     },
     "execution_count": 1,
     "metadata": {},
     "output_type": "execute_result"
    }
   ],
   "source": [
    "# ignore\n",
    "middle_deps()"
   ]
  },
  {
   "cell_type": "markdown",
   "metadata": {
    "slideshow": {
     "slide_type": "fragment"
    }
   },
   "source": [
    "This graph now gives us an idea on how to proceed to track the origins of the `middle()` return value at the bottom. Its value can come from any of the origins – namely the initialization of `y` at the function call, or from the `<test>` that controls it. This test in turn depends on `x` and `z` and their associated statements, which we now can check one after the other."
   ]
  },
  {
   "cell_type": "markdown",
   "metadata": {
    "slideshow": {
     "slide_type": "subslide"
    }
   },
   "source": [
    "Note that all these dependencies in the graph are _dynamic_ dependencies – that is, they refer to statements actually evaluated in the run at hand, as well as the decisions made in that very run. There also are _static_ dependency graphs coming from static analysis of the code; but for debugging, _dynamic_ dependencies specific to the failing run are more useful."
   ]
  },
  {
   "cell_type": "markdown",
   "metadata": {
    "slideshow": {
     "slide_type": "subslide"
    }
   },
   "source": [
    "### Showing Dependencies with Code\n",
    "\n",
    "While a graph gives us a representation about which possible data and control flows to track, integrating dependencies with actual program code results in a compact representation that is easy to reason about."
   ]
  },
  {
   "cell_type": "markdown",
   "metadata": {
    "slideshow": {
     "slide_type": "subslide"
    }
   },
   "source": [
    "#### Excursion: Listing Dependencies"
   ]
  },
  {
   "cell_type": "markdown",
   "metadata": {
    "slideshow": {
     "slide_type": "subslide"
    }
   },
   "source": [
    "To show dependencies as text, we introduce a method `format_var()` that shows a single node (a variable) as text. By default, a node is referenced as\n",
    "\n",
    "```python\n",
    "NAME (FUNCTION:LINENO)\n",
    "```\n",
    "\n",
    "However, within a given function, it makes no sense to re-state the function name again and again, so we have a shorthand\n",
    "\n",
    "```python\n",
    "NAME (LINENO)\n",
    "```\n",
    "\n",
    "to state a dependency to variable `NAME` in line `LINENO`."
   ]
  },
  {
   "cell_type": "code",
   "execution_count": 36,
   "metadata": {
    "execution": {
     "iopub.execute_input": "2021-05-11T17:07:55.068597Z",
     "iopub.status.busy": "2021-05-11T17:07:55.067709Z",
     "iopub.status.idle": "2021-05-11T17:07:55.069684Z",
     "shell.execute_reply": "2021-05-11T17:07:55.070086Z"
    },
    "slideshow": {
     "slide_type": "subslide"
    }
   },
   "outputs": [],
   "source": [
    "class Dependencies(Dependencies):\n",
    "    def format_var(self, var: Node, current_func: Optional[Callable] = None) -> str:\n",
    "        \"\"\"Return string for `var` in `current_func`.\"\"\"\n",
    "        name, location = var\n",
    "        func, lineno = location\n",
    "        if current_func and (func == current_func or func.__name__ == current_func.__name__):\n",
    "            return f\"{name} ({lineno})\"\n",
    "        else:\n",
    "            return f\"{name} ({func.__name__}:{lineno})\""
   ]
  },
  {
   "cell_type": "markdown",
   "metadata": {
    "slideshow": {
     "slide_type": "fragment"
    }
   },
   "source": [
    "`format_var()` is used extensively in the `__str__()` string representation of dependencies, listing all nodes and their data (`<=`) and control (`<-`) dependencies."
   ]
  },
  {
   "cell_type": "code",
   "execution_count": 37,
   "metadata": {
    "execution": {
     "iopub.execute_input": "2021-05-11T17:07:55.079658Z",
     "iopub.status.busy": "2021-05-11T17:07:55.079025Z",
     "iopub.status.idle": "2021-05-11T17:07:55.080820Z",
     "shell.execute_reply": "2021-05-11T17:07:55.081288Z"
    },
    "slideshow": {
     "slide_type": "subslide"
    }
   },
   "outputs": [],
   "source": [
    "class Dependencies(Dependencies):\n",
    "    def __str__(self) -> str:\n",
    "        \"\"\"Return string representation of dependencies\"\"\"\n",
    "        self.validate()\n",
    "\n",
    "        out = \"\"\n",
    "        for func in self.all_functions():\n",
    "            code_name = func.__name__\n",
    "\n",
    "            if out != \"\":\n",
    "                out += \"\\n\"\n",
    "            out += f\"{code_name}():\\n\"\n",
    "\n",
    "            all_vars = list(set(self.data.keys()) | set(self.control.keys()))\n",
    "            all_vars.sort(key=lambda var: var[1][1])\n",
    "\n",
    "            for var in all_vars:\n",
    "                (name, location) = var\n",
    "                var_func, var_lineno = location\n",
    "                var_code_name = var_func.__name__\n",
    "\n",
    "                if var_code_name != code_name:\n",
    "                    continue\n",
    "\n",
    "                all_deps = \"\"\n",
    "                for (source, arrow) in [(self.data, \"<=\"), (self.control, \"<-\")]:\n",
    "                    deps = \"\"\n",
    "                    for data_dep in source[var]:\n",
    "                        if deps == \"\":\n",
    "                            deps = f\" {arrow} \"\n",
    "                        else:\n",
    "                            deps += \", \"\n",
    "                        deps += self.format_var(data_dep, func)\n",
    "\n",
    "                    if deps != \"\":\n",
    "                        if all_deps != \"\":\n",
    "                            all_deps += \";\"\n",
    "                        all_deps += deps\n",
    "\n",
    "                if all_deps == \"\":\n",
    "                    continue\n",
    "\n",
    "                out += (\"    \" + \n",
    "                        self.format_var(var, func) +\n",
    "                        all_deps + \"\\n\")\n",
    "\n",
    "        return out"
   ]
  },
  {
   "cell_type": "markdown",
   "metadata": {
    "slideshow": {
     "slide_type": "subslide"
    }
   },
   "source": [
    "Here is a compact string representation of dependencies. We see how the (last) `middle() return value` has a data dependency to `y` in Line 1, and to the `<test>` in Line 5."
   ]
  },
  {
   "cell_type": "code",
   "execution_count": 38,
   "metadata": {
    "execution": {
     "iopub.execute_input": "2021-05-11T17:07:55.085710Z",
     "iopub.status.busy": "2021-05-11T17:07:55.085063Z",
     "iopub.status.idle": "2021-05-11T17:07:55.087484Z",
     "shell.execute_reply": "2021-05-11T17:07:55.089233Z"
    },
    "slideshow": {
     "slide_type": "fragment"
    }
   },
   "outputs": [
    {
     "name": "stdout",
     "output_type": "stream",
     "text": [
      "middle():\n",
      "    <test> (2) <= z (1), y (1)\n",
      "    <test> (3) <= x (1), y (1); <- <test> (2)\n",
      "    <test> (5) <= z (1), x (1); <- <test> (3)\n",
      "    <middle() return value> (6) <= y (1); <- <test> (5)\n",
      "\n"
     ]
    }
   ],
   "source": [
    "print(middle_deps())"
   ]
  },
  {
   "cell_type": "markdown",
   "metadata": {
    "slideshow": {
     "slide_type": "fragment"
    }
   },
   "source": [
    "The `__repr__()` method shows a raw form of dependencies, useful for creating dependencies from scratch."
   ]
  },
  {
   "cell_type": "code",
   "execution_count": 39,
   "metadata": {
    "execution": {
     "iopub.execute_input": "2021-05-11T17:07:55.098551Z",
     "iopub.status.busy": "2021-05-11T17:07:55.097888Z",
     "iopub.status.idle": "2021-05-11T17:07:55.099781Z",
     "shell.execute_reply": "2021-05-11T17:07:55.100190Z"
    },
    "slideshow": {
     "slide_type": "subslide"
    }
   },
   "outputs": [],
   "source": [
    "class Dependencies(Dependencies):\n",
    "    def repr_var(self, var: Node) -> str:\n",
    "        name, location = var\n",
    "        func, lineno = location\n",
    "        return f\"({repr(name)}, ({func.__name__}, {lineno}))\"\n",
    "\n",
    "    def repr_deps(self, var_set: Set[Node]) -> str:\n",
    "        if len(var_set) == 0:\n",
    "            return \"set()\"\n",
    "\n",
    "        return (\"{\" +\n",
    "                \", \".join(f\"{self.repr_var(var)}\"\n",
    "                          for var in var_set) +\n",
    "                \"}\")\n",
    "\n",
    "    def repr_dependencies(self, vars: Dependency) -> str:\n",
    "        return (\"{\\n        \" +\n",
    "                \",\\n        \".join(\n",
    "                    f\"{self.repr_var(var)}: {self.repr_deps(vars[var])}\"\n",
    "                    for var in vars) +\n",
    "                \"}\")\n",
    "\n",
    "    def __repr__(self) -> str:\n",
    "        \"\"\"Represent dependencies as a Python expression\"\"\"\n",
    "        # Useful for saving and restoring values\n",
    "        return (f\"Dependencies(\\n\" +\n",
    "                f\"    data={self.repr_dependencies(self.data)},\\n\" +\n",
    "                f\" control={self.repr_dependencies(self.control)})\")"
   ]
  },
  {
   "cell_type": "code",
   "execution_count": 40,
   "metadata": {
    "execution": {
     "iopub.execute_input": "2021-05-11T17:07:55.104031Z",
     "iopub.status.busy": "2021-05-11T17:07:55.103442Z",
     "iopub.status.idle": "2021-05-11T17:07:55.106067Z",
     "shell.execute_reply": "2021-05-11T17:07:55.106619Z"
    },
    "slideshow": {
     "slide_type": "subslide"
    }
   },
   "outputs": [
    {
     "name": "stdout",
     "output_type": "stream",
     "text": [
      "Dependencies(\n",
      "    data={\n",
      "        ('z', (middle, 1)): set(),\n",
      "        ('y', (middle, 1)): set(),\n",
      "        ('x', (middle, 1)): set(),\n",
      "        ('<test>', (middle, 2)): {('z', (middle, 1)), ('y', (middle, 1))},\n",
      "        ('<test>', (middle, 3)): {('x', (middle, 1)), ('y', (middle, 1))},\n",
      "        ('<test>', (middle, 5)): {('z', (middle, 1)), ('x', (middle, 1))},\n",
      "        ('<middle() return value>', (middle, 6)): {('y', (middle, 1))}},\n",
      " control={\n",
      "        ('z', (middle, 1)): set(),\n",
      "        ('y', (middle, 1)): set(),\n",
      "        ('x', (middle, 1)): set(),\n",
      "        ('<test>', (middle, 2)): set(),\n",
      "        ('<test>', (middle, 3)): {('<test>', (middle, 2))},\n",
      "        ('<test>', (middle, 5)): {('<test>', (middle, 3))},\n",
      "        ('<middle() return value>', (middle, 6)): {('<test>', (middle, 5))}})\n"
     ]
    }
   ],
   "source": [
    "print(repr(middle_deps()))"
   ]
  },
  {
   "cell_type": "markdown",
   "metadata": {
    "slideshow": {
     "slide_type": "subslide"
    }
   },
   "source": [
    "An even more useful representation comes when integrating these dependencies as comments into the code. The method `code(item_1, item_2, ...)` lists the given (function) items, including their dependencies; `code()` lists _all_ functions contained in the dependencies."
   ]
  },
  {
   "cell_type": "code",
   "execution_count": 41,
   "metadata": {
    "execution": {
     "iopub.execute_input": "2021-05-11T17:07:55.118138Z",
     "iopub.status.busy": "2021-05-11T17:07:55.117388Z",
     "iopub.status.idle": "2021-05-11T17:07:55.119015Z",
     "shell.execute_reply": "2021-05-11T17:07:55.119476Z"
    },
    "slideshow": {
     "slide_type": "subslide"
    }
   },
   "outputs": [],
   "source": [
    "class Dependencies(Dependencies):\n",
    "    def code(self, *items: Callable, mode: str = 'cd') -> None:\n",
    "        \"\"\"\n",
    "        List `items` on standard output, including dependencies as comments. \n",
    "        If `items` is empty, all included functions are listed.\n",
    "        `mode` can contain 'c' (draw control dependencies) and 'd' (draw data dependencies)\n",
    "        (default: 'cd').\n",
    "        \"\"\"\n",
    "\n",
    "        if len(items) == 0:\n",
    "            items = cast(Tuple[Callable], self.all_functions().keys())\n",
    "\n",
    "        for i, item in enumerate(items):\n",
    "            if i > 0:\n",
    "                print()\n",
    "            self._code(item, mode)\n",
    "\n",
    "    def _code(self, item: Callable, mode: str) -> None:\n",
    "        # The functions in dependencies may be (instrumented) copies\n",
    "        # of the original function. Find the function with the same name.\n",
    "        func = item\n",
    "        for fn in self.all_functions():\n",
    "            if fn == item or fn.__name__ == item.__name__:\n",
    "                func = fn\n",
    "                break\n",
    "\n",
    "        all_vars = self.all_vars()\n",
    "        slice_locations = set(location for (name, location) in all_vars)\n",
    "\n",
    "        source_lines, first_lineno = inspect.getsourcelines(func)\n",
    "\n",
    "        n = first_lineno\n",
    "        for line in source_lines:\n",
    "            line_location = (func, n)\n",
    "            if line_location in slice_locations:\n",
    "                prefix = \"* \"\n",
    "            else:\n",
    "                prefix = \"  \"\n",
    "\n",
    "            print(f\"{prefix}{n:4} \", end=\"\")\n",
    "\n",
    "            comment = \"\"\n",
    "            for (mode_control, source, arrow) in [\n",
    "                ('d', self.data, '<='),\n",
    "                ('c', self.control, '<-')\n",
    "            ]:\n",
    "                if mode_control not in mode:\n",
    "                    continue\n",
    "\n",
    "                deps = \"\"\n",
    "                for var in source:\n",
    "                    name, location = var\n",
    "                    if location == line_location:\n",
    "                        for dep_var in source[var]:\n",
    "                            if deps == \"\":\n",
    "                                deps = arrow + \" \"\n",
    "                            else:\n",
    "                                deps += \", \"\n",
    "                            deps += self.format_var(dep_var, item)\n",
    "\n",
    "                if deps != \"\":\n",
    "                    if comment != \"\":\n",
    "                        comment += \"; \"\n",
    "                    comment += deps\n",
    "\n",
    "            if comment != \"\":\n",
    "                line = line.rstrip() + \"  # \" + comment\n",
    "\n",
    "            print_content(line.rstrip(), '.py')\n",
    "            print()\n",
    "            n += 1"
   ]
  },
  {
   "cell_type": "markdown",
   "metadata": {
    "slideshow": {
     "slide_type": "subslide"
    }
   },
   "source": [
    "#### End of Excursion"
   ]
  },
  {
   "cell_type": "markdown",
   "metadata": {
    "slideshow": {
     "slide_type": "subslide"
    }
   },
   "source": [
    "The following listing shows such an integration. For each executed line (`*`), we see its data (`<=`) and control (`<-`) dependencies, listing the associated variables and line numbers. The comment\n",
    "\n",
    "```python\n",
    "# <= y (1); <- <test> (5)\n",
    "```\n",
    "\n",
    "for Line 6, for instance, states that the return value is data dependent on the value of `y` in Line 1, and control dependent on the test in Line 5.\n",
    "\n",
    "Again, one can easily follow these dependencies back to track where a value came from (data dependencies) and why a statement was executed (control dependency)."
   ]
  },
  {
   "cell_type": "code",
   "execution_count": 42,
   "metadata": {
    "execution": {
     "iopub.execute_input": "2021-05-11T17:07:55.124116Z",
     "iopub.status.busy": "2021-05-11T17:07:55.123518Z",
     "iopub.status.idle": "2021-05-11T17:07:55.663112Z",
     "shell.execute_reply": "2021-05-11T17:07:55.663580Z"
    },
    "slideshow": {
     "slide_type": "subslide"
    }
   },
   "outputs": [
    {
     "name": "stdout",
     "output_type": "stream",
     "text": [
      "*    1 \u001b[34mdef\u001b[39;49;00m \u001b[32mmiddle\u001b[39;49;00m(x, y, z):  \u001b[37m# type: ignore\u001b[39;49;00m\n",
      "*    2     \u001b[34mif\u001b[39;49;00m y < z:  \u001b[37m# <= z (1), y (1)\u001b[39;49;00m\n",
      "*    3         \u001b[34mif\u001b[39;49;00m x < y:  \u001b[37m# <= x (1), y (1); <- <test> (2)\u001b[39;49;00m\n",
      "     4             \u001b[34mreturn\u001b[39;49;00m y\n",
      "*    5         \u001b[34melif\u001b[39;49;00m x < z:  \u001b[37m# <= z (1), x (1); <- <test> (3)\u001b[39;49;00m\n",
      "*    6             \u001b[34mreturn\u001b[39;49;00m y  \u001b[37m# <= y (1); <- <test> (5)\u001b[39;49;00m\n",
      "     7     \u001b[34melse\u001b[39;49;00m:\n",
      "     8         \u001b[34mif\u001b[39;49;00m x > y:\n",
      "     9             \u001b[34mreturn\u001b[39;49;00m y\n",
      "    10         \u001b[34melif\u001b[39;49;00m x > z:\n",
      "    11             \u001b[34mreturn\u001b[39;49;00m x\n",
      "    12     \u001b[34mreturn\u001b[39;49;00m z\n"
     ]
    }
   ],
   "source": [
    "# ignore\n",
    "middle_deps().code()  # type: ignore"
   ]
  },
  {
   "cell_type": "markdown",
   "metadata": {
    "slideshow": {
     "slide_type": "subslide"
    }
   },
   "source": [
    "One important aspect of dependencies is that they not only point to specific sources and causes of failures – but that they also _rule out_ parts of program and state as failures.\n",
    "\n",
    "* In the above code, Lines 8 and later have no influence on the output, simply because they were not executed.\n",
    "* Furthermore, we see that we can start our investigation with Line 6, because that is the last one executed.\n",
    "* The data dependencies tell us that no statement has interfered with the value of `y` between the function call and its return.\n",
    "* Hence, the error must be in the conditions or the final `return` statement.\n",
    "\n",
    "With this in mind, recall that our original invocation was `middle(2, 1, 3)`. Why and how is the above code wrong?"
   ]
  },
  {
   "cell_type": "code",
   "execution_count": 43,
   "metadata": {
    "execution": {
     "iopub.execute_input": "2021-05-11T17:07:55.673311Z",
     "iopub.status.busy": "2021-05-11T17:07:55.672036Z",
     "iopub.status.idle": "2021-05-11T17:07:55.695080Z",
     "shell.execute_reply": "2021-05-11T17:07:55.695499Z"
    },
    "slideshow": {
     "slide_type": "subslide"
    }
   },
   "outputs": [
    {
     "data": {
      "text/html": [
       "\n",
       "    \n",
       "    <script>\n",
       "    var bad_answers = new Map();\n",
       "\n",
       "    function answer(quiz_id) {\n",
       "        ans = 0;\n",
       "        for (i = 1;; i++) {\n",
       "            checkbox = document.getElementById(quiz_id + \"-\" + i.toString());\n",
       "            if (!checkbox)\n",
       "                break;\n",
       "            if (checkbox.checked)\n",
       "                ans |= (1 << i);\n",
       "        }\n",
       "        return ans;\n",
       "    }\n",
       "    function check_selection(quiz_id, correct_answer, multiple_choice, hint) {\n",
       "        given_answer = answer(quiz_id);\n",
       "        if (given_answer == correct_answer)\n",
       "        {\n",
       "            document.getElementById(quiz_id + \"-submit\").value = \"Correct!\";\n",
       "            document.getElementById(quiz_id + \"-hint\").innerHTML = \"\";\n",
       "\n",
       "            for (i = 1;; i++) {\n",
       "                checkbox = document.getElementById(quiz_id + \"-\" + i.toString());\n",
       "                label = document.getElementById(quiz_id + \"-\" + i.toString() + \"-label\")\n",
       "                if (!checkbox)\n",
       "                    break;\n",
       "    \n",
       "                if (checkbox.checked) {\n",
       "                    label.style.fontWeight = \"bold\";\n",
       "                }\n",
       "                else {\n",
       "                    label.style.textDecoration = \"line-through\";\n",
       "                }\n",
       "            }\n",
       "        }\n",
       "        else \n",
       "        {\n",
       "            document.getElementById(quiz_id + \"-submit\").value = \"Try again\";\n",
       "            \n",
       "            if (!bad_answers.has(quiz_id)) {\n",
       "                bad_answers.set(quiz_id, 1);\n",
       "            }\n",
       "            else {\n",
       "                bad_answers.set(quiz_id, bad_answers.get(quiz_id) + 1);\n",
       "            }\n",
       "\n",
       "            if (bad_answers.get(quiz_id) >= 2 && hint.length > 0) {\n",
       "                document.getElementById(quiz_id + \"-hint\").innerHTML = \n",
       "                    \"&nbsp;&nbsp;(Hint: <code>\" + hint + \"</code>)\";\n",
       "            }\n",
       "\n",
       "            if (!multiple_choice) {\n",
       "                for (i = 1;; i++) {\n",
       "                    checkbox = document.getElementById(quiz_id + \"-\" + i.toString());\n",
       "                    label = document.getElementById(quiz_id + \"-\" + i.toString() + \"-label\")\n",
       "\n",
       "                    if (!checkbox)\n",
       "                        break;\n",
       "                    if (checkbox.checked) {\n",
       "                        label.style.textDecoration = \"line-through\";\n",
       "                    }\n",
       "                }\n",
       "            }\n",
       "        }\n",
       "    }\n",
       "    function clear_selection(quiz_id) {\n",
       "        document.getElementById(quiz_id + \"-submit\").value = \"Submit\";\n",
       "        document.getElementById(quiz_id + \"-hint\").innerHTML = \"\";\n",
       "    }\n",
       "    </script>\n",
       "    \n",
       "    <div class=\"quiz\">\n",
       "    <h3 class=\"quiz_title\">Quiz</h3>\n",
       "    <p>\n",
       "    <div class=\"quiz_question\">Which of the following <code>middle()</code> code lines should be fixed?</div>\n",
       "    </p>\n",
       "    <p>\n",
       "    <div class=\"quiz_options\" title=\"Pick a choice.\">\n",
       "    \n",
       "        <input type=\"radio\" name=\"6dbc35a8-b27b-11eb-a588-acde48001122\" id=\"6dbc35a8-b27b-11eb-a588-acde48001122-1\" onclick=\"clear_selection('6dbc35a8-b27b-11eb-a588-acde48001122')\">\n",
       "        <label id=\"6dbc35a8-b27b-11eb-a588-acde48001122-1-label\" for=\"6dbc35a8-b27b-11eb-a588-acde48001122-1\">Line 2: <code>if y &lt; z:</code></label><br>\n",
       "    \n",
       "        <input type=\"radio\" name=\"6dbc35a8-b27b-11eb-a588-acde48001122\" id=\"6dbc35a8-b27b-11eb-a588-acde48001122-2\" onclick=\"clear_selection('6dbc35a8-b27b-11eb-a588-acde48001122')\">\n",
       "        <label id=\"6dbc35a8-b27b-11eb-a588-acde48001122-2-label\" for=\"6dbc35a8-b27b-11eb-a588-acde48001122-2\">Line 3: <code>if x &lt; y:</code></label><br>\n",
       "    \n",
       "        <input type=\"radio\" name=\"6dbc35a8-b27b-11eb-a588-acde48001122\" id=\"6dbc35a8-b27b-11eb-a588-acde48001122-3\" onclick=\"clear_selection('6dbc35a8-b27b-11eb-a588-acde48001122')\">\n",
       "        <label id=\"6dbc35a8-b27b-11eb-a588-acde48001122-3-label\" for=\"6dbc35a8-b27b-11eb-a588-acde48001122-3\">Line 5: <code>elif x &lt; z:</code></label><br>\n",
       "    \n",
       "        <input type=\"radio\" name=\"6dbc35a8-b27b-11eb-a588-acde48001122\" id=\"6dbc35a8-b27b-11eb-a588-acde48001122-4\" onclick=\"clear_selection('6dbc35a8-b27b-11eb-a588-acde48001122')\">\n",
       "        <label id=\"6dbc35a8-b27b-11eb-a588-acde48001122-4-label\" for=\"6dbc35a8-b27b-11eb-a588-acde48001122-4\">Line 6: <code>return z</code></label><br>\n",
       "    \n",
       "    </div>\n",
       "    </p>\n",
       "    <input id=\"6dbc35a8-b27b-11eb-a588-acde48001122-submit\" type=\"submit\" value=\"Submit\" onclick=\"check_selection('6dbc35a8-b27b-11eb-a588-acde48001122', 16, 0, '(1 ** 0 + 1 ** 1) ** (1 ** 2 + 1 ** 3)')\">\n",
       "    <span class=\"quiz_hint\" id=\"6dbc35a8-b27b-11eb-a588-acde48001122-hint\"></span>\n",
       "    </div>\n",
       "    "
      ],
      "text/plain": [
       "<IPython.core.display.HTML object>"
      ]
     },
     "execution_count": 1,
     "metadata": {},
     "output_type": "execute_result"
    }
   ],
   "source": [
    "quiz(\"Which of the following `middle()` code lines should be fixed?\",\n",
    "    [\n",
    "        \"Line 2: `if y < z:`\",\n",
    "        \"Line 3: `if x < y:`\",\n",
    "        \"Line 5: `elif x < z:`\",\n",
    "        \"Line 6: `return z`\",\n",
    "    ], '(1 ** 0 + 1 ** 1) ** (1 ** 2 + 1 ** 3)')"
   ]
  },
  {
   "cell_type": "markdown",
   "metadata": {
    "slideshow": {
     "slide_type": "fragment"
    }
   },
   "source": [
    "Indeed, from the controlling conditions, we see that `y < z`, `x >= y`, and `x < z` all hold. Hence, `y <= x < z` holds, and it is `x`, not `y`, that should be returned."
   ]
  },
  {
   "cell_type": "markdown",
   "metadata": {
    "slideshow": {
     "slide_type": "slide"
    }
   },
   "source": [
    "## Slices\n",
    "\n",
    "Given a dependency graph for a particular variable, we can identify the subset of the program that could have influenced it – the so-called _slice_. In the above code listing, these code locations are highlighted with `*` characters. Only these locations are part of the slice."
   ]
  },
  {
   "cell_type": "markdown",
   "metadata": {
    "slideshow": {
     "slide_type": "subslide"
    }
   },
   "source": [
    "Slices are central to debugging for two reasons:\n",
    "\n",
    "* First, they _rule out_ those locations of the program that could _not_ have an effect on the failure. Hence, these locations need not be investigated as it comes to searching for the defect. Nor do they need to be considered for a fix, as any change outside of the program slice by construction cannot affect the failure.\n",
    "* Second, they bring together possible origins that may be scattered across the code. Many dependencies in program code are _non-local_, with references to functions, classes, and modules defined in other locations, files, or libraries. A slice brings together all those locations in a single whole."
   ]
  },
  {
   "cell_type": "markdown",
   "metadata": {
    "slideshow": {
     "slide_type": "subslide"
    }
   },
   "source": [
    "Here is an example of a slice – this time for our well-known `remove_html_markup()` function from [the introduction to debugging](Intro_Debugging.ipynb):"
   ]
  },
  {
   "cell_type": "code",
   "execution_count": 44,
   "metadata": {
    "execution": {
     "iopub.execute_input": "2021-05-11T17:07:55.699724Z",
     "iopub.status.busy": "2021-05-11T17:07:55.699092Z",
     "iopub.status.idle": "2021-05-11T17:07:55.700898Z",
     "shell.execute_reply": "2021-05-11T17:07:55.701357Z"
    },
    "slideshow": {
     "slide_type": "skip"
    }
   },
   "outputs": [],
   "source": [
    "from Intro_Debugging import remove_html_markup"
   ]
  },
  {
   "cell_type": "code",
   "execution_count": 45,
   "metadata": {
    "execution": {
     "iopub.execute_input": "2021-05-11T17:07:55.717204Z",
     "iopub.status.busy": "2021-05-11T17:07:55.716631Z",
     "iopub.status.idle": "2021-05-11T17:07:55.718792Z",
     "shell.execute_reply": "2021-05-11T17:07:55.719193Z"
    },
    "slideshow": {
     "slide_type": "subslide"
    }
   },
   "outputs": [
    {
     "name": "stdout",
     "output_type": "stream",
     "text": [
      "\u001b[34mdef\u001b[39;49;00m \u001b[32mremove_html_markup\u001b[39;49;00m(s):  \u001b[37m# type: ignore\u001b[39;49;00m\n",
      "    tag = \u001b[34mFalse\u001b[39;49;00m\n",
      "    quote = \u001b[34mFalse\u001b[39;49;00m\n",
      "    out = \u001b[33m\"\u001b[39;49;00m\u001b[33m\"\u001b[39;49;00m\n",
      "\n",
      "    \u001b[34mfor\u001b[39;49;00m c \u001b[35min\u001b[39;49;00m s:\n",
      "        \u001b[34massert\u001b[39;49;00m tag \u001b[35mor\u001b[39;49;00m \u001b[35mnot\u001b[39;49;00m quote\n",
      "\n",
      "        \u001b[34mif\u001b[39;49;00m c == \u001b[33m'\u001b[39;49;00m\u001b[33m<\u001b[39;49;00m\u001b[33m'\u001b[39;49;00m \u001b[35mand\u001b[39;49;00m \u001b[35mnot\u001b[39;49;00m quote:\n",
      "            tag = \u001b[34mTrue\u001b[39;49;00m\n",
      "        \u001b[34melif\u001b[39;49;00m c == \u001b[33m'\u001b[39;49;00m\u001b[33m>\u001b[39;49;00m\u001b[33m'\u001b[39;49;00m \u001b[35mand\u001b[39;49;00m \u001b[35mnot\u001b[39;49;00m quote:\n",
      "            tag = \u001b[34mFalse\u001b[39;49;00m\n",
      "        \u001b[34melif\u001b[39;49;00m (c == \u001b[33m'\u001b[39;49;00m\u001b[33m\"\u001b[39;49;00m\u001b[33m'\u001b[39;49;00m \u001b[35mor\u001b[39;49;00m c == \u001b[33m\"\u001b[39;49;00m\u001b[33m'\u001b[39;49;00m\u001b[33m\"\u001b[39;49;00m) \u001b[35mand\u001b[39;49;00m tag:\n",
      "            quote = \u001b[35mnot\u001b[39;49;00m quote\n",
      "        \u001b[34melif\u001b[39;49;00m \u001b[35mnot\u001b[39;49;00m tag:\n",
      "            out = out + c\n",
      "\n",
      "    \u001b[34mreturn\u001b[39;49;00m out"
     ]
    }
   ],
   "source": [
    "print_content(inspect.getsource(remove_html_markup), '.py')"
   ]
  },
  {
   "cell_type": "markdown",
   "metadata": {
    "slideshow": {
     "slide_type": "subslide"
    }
   },
   "source": [
    "When we invoke `remove_html_markup()` as follows..."
   ]
  },
  {
   "cell_type": "code",
   "execution_count": 46,
   "metadata": {
    "execution": {
     "iopub.execute_input": "2021-05-11T17:07:55.723503Z",
     "iopub.status.busy": "2021-05-11T17:07:55.722857Z",
     "iopub.status.idle": "2021-05-11T17:07:55.724940Z",
     "shell.execute_reply": "2021-05-11T17:07:55.725334Z"
    },
    "slideshow": {
     "slide_type": "fragment"
    }
   },
   "outputs": [
    {
     "data": {
      "text/plain": [
       "'bar'"
      ]
     },
     "execution_count": 1,
     "metadata": {},
     "output_type": "execute_result"
    }
   ],
   "source": [
    "remove_html_markup('<foo>bar</foo>')"
   ]
  },
  {
   "cell_type": "markdown",
   "metadata": {
    "slideshow": {
     "slide_type": "fragment"
    }
   },
   "source": [
    "... we obtain the following dependencies:"
   ]
  },
  {
   "cell_type": "code",
   "execution_count": 47,
   "metadata": {
    "execution": {
     "iopub.execute_input": "2021-05-11T17:07:55.737590Z",
     "iopub.status.busy": "2021-05-11T17:07:55.736855Z",
     "iopub.status.idle": "2021-05-11T17:07:55.739306Z",
     "shell.execute_reply": "2021-05-11T17:07:55.739720Z"
    },
    "slideshow": {
     "slide_type": "fragment"
    }
   },
   "outputs": [],
   "source": [
    "# ignore\n",
    "def remove_html_markup_deps() -> Dependencies:\n",
    "    return Dependencies({('s', (remove_html_markup, 136)): set(), ('tag', (remove_html_markup, 137)): set(), ('quote', (remove_html_markup, 138)): set(), ('out', (remove_html_markup, 139)): set(), ('c', (remove_html_markup, 141)): {('s', (remove_html_markup, 136))}, ('<test>', (remove_html_markup, 144)): {('quote', (remove_html_markup, 138)), ('c', (remove_html_markup, 141))}, ('tag', (remove_html_markup, 145)): set(), ('<test>', (remove_html_markup, 146)): {('quote', (remove_html_markup, 138)), ('c', (remove_html_markup, 141))}, ('<test>', (remove_html_markup, 148)): {('c', (remove_html_markup, 141))}, ('<test>', (remove_html_markup, 150)): {('tag', (remove_html_markup, 147)), ('tag', (remove_html_markup, 145))}, ('tag', (remove_html_markup, 147)): set(), ('out', (remove_html_markup, 151)): {('out', (remove_html_markup, 151)), ('c', (remove_html_markup, 141)), ('out', (remove_html_markup, 139))}, ('<remove_html_markup() return value>', (remove_html_markup, 153)): {('<test>', (remove_html_markup, 146)), ('out', (remove_html_markup, 151))}}, {('s', (remove_html_markup, 136)): set(), ('tag', (remove_html_markup, 137)): set(), ('quote', (remove_html_markup, 138)): set(), ('out', (remove_html_markup, 139)): set(), ('c', (remove_html_markup, 141)): set(), ('<test>', (remove_html_markup, 144)): set(), ('tag', (remove_html_markup, 145)): {('<test>', (remove_html_markup, 144))}, ('<test>', (remove_html_markup, 146)): {('<test>', (remove_html_markup, 144))}, ('<test>', (remove_html_markup, 148)): {('<test>', (remove_html_markup, 146))}, ('<test>', (remove_html_markup, 150)): {('<test>', (remove_html_markup, 148))}, ('tag', (remove_html_markup, 147)): {('<test>', (remove_html_markup, 146))}, ('out', (remove_html_markup, 151)): {('<test>', (remove_html_markup, 150))}, ('<remove_html_markup() return value>', (remove_html_markup, 153)): set()})"
   ]
  },
  {
   "cell_type": "code",
   "execution_count": 48,
   "metadata": {
    "execution": {
     "iopub.execute_input": "2021-05-11T17:07:55.753844Z",
     "iopub.status.busy": "2021-05-11T17:07:55.753129Z",
     "iopub.status.idle": "2021-05-11T17:07:56.540317Z",
     "shell.execute_reply": "2021-05-11T17:07:56.540769Z"
    },
    "slideshow": {
     "slide_type": "fragment"
    }
   },
   "outputs": [
    {
     "data": {
      "image/svg+xml": [
       "<?xml version=\"1.0\" encoding=\"UTF-8\" standalone=\"no\"?>\n",
       "<!DOCTYPE svg PUBLIC \"-//W3C//DTD SVG 1.1//EN\"\n",
       " \"http://www.w3.org/Graphics/SVG/1.1/DTD/svg11.dtd\">\n",
       "<!-- Generated by graphviz version 2.40.1 (20161225.0304)\n",
       " -->\n",
       "<!-- Title: dependencies Pages: 1 -->\n",
       "<svg width=\"403pt\" height=\"960pt\"\n",
       " viewBox=\"0.00 0.00 402.61 960.00\" xmlns=\"http://www.w3.org/2000/svg\" xmlns:xlink=\"http://www.w3.org/1999/xlink\">\n",
       "<g id=\"graph0\" class=\"graph\" transform=\"scale(1 1) rotate(0) translate(4 956)\">\n",
       "<title>dependencies</title>\n",
       "<polygon fill=\"#ffffff\" stroke=\"transparent\" points=\"-4,4 -4,-956 398.6058,-956 398.6058,4 -4,4\"/>\n",
       "<!-- out_functionremove_html_markupat0x7fe24566d158_139 -->\n",
       "<g id=\"node1\" class=\"node\">\n",
       "<title>out_functionremove_html_markupat0x7fe24566d158_139</title>\n",
       "<g id=\"a_node1\"><a xlink:title=\"remove_html_markup:139\">\n",
       "<polygon fill=\"#ffdab9\" stroke=\"#000000\" points=\"394.6058,-724 259.6058,-724 259.6058,-684 394.6058,-684 394.6058,-724\"/>\n",
       "<text text-anchor=\"start\" x=\"314.1058\" y=\"-709.8\" font-family=\"Fira Mono, Courier, monospace\" font-weight=\"bold\" font-size=\"14.00\" fill=\"#000000\">out</text>\n",
       "<text text-anchor=\"start\" x=\"267.6058\" y=\"-690.8\" font-family=\"Fira Mono, Courier, monospace\" font-size=\"9.00\" fill=\"#000000\">&lt;remove_html_markup()&gt;</text>\n",
       "</a>\n",
       "</g>\n",
       "</g>\n",
       "<!-- out_functionremove_html_markupat0x7fe24566d158_151 -->\n",
       "<g id=\"node6\" class=\"node\">\n",
       "<title>out_functionremove_html_markupat0x7fe24566d158_151</title>\n",
       "<g id=\"a_node6\"><a xlink:title=\"remove_html_markup:151\">\n",
       "<polygon fill=\"#ffdab9\" stroke=\"#000000\" points=\"260.6058,-116 125.6058,-116 125.6058,-76 260.6058,-76 260.6058,-116\"/>\n",
       "<text text-anchor=\"start\" x=\"180.1058\" y=\"-101.8\" font-family=\"Fira Mono, Courier, monospace\" font-weight=\"bold\" font-size=\"14.00\" fill=\"#000000\">out</text>\n",
       "<text text-anchor=\"start\" x=\"133.6058\" y=\"-82.8\" font-family=\"Fira Mono, Courier, monospace\" font-size=\"9.00\" fill=\"#000000\">&lt;remove_html_markup()&gt;</text>\n",
       "</a>\n",
       "</g>\n",
       "</g>\n",
       "<!-- out_functionremove_html_markupat0x7fe24566d158_139&#45;&gt;out_functionremove_html_markupat0x7fe24566d158_151 -->\n",
       "<g id=\"edge8\" class=\"edge\">\n",
       "<title>out_functionremove_html_markupat0x7fe24566d158_139&#45;&gt;out_functionremove_html_markupat0x7fe24566d158_151</title>\n",
       "<path fill=\"none\" stroke=\"#000000\" d=\"M335.5392,-683.7508C346.7343,-654.9905 365.1058,-600.4179 365.1058,-552 365.1058,-552 365.1058,-552 365.1058,-248 365.1058,-198.1508 343.8518,-185.6848 307.1058,-152 293.1853,-139.2392 275.8205,-128.7491 258.8738,-120.4386\"/>\n",
       "<polygon fill=\"#000000\" stroke=\"#000000\" points=\"260.0655,-117.1314 249.5264,-116.0453 257.0879,-123.4666 260.0655,-117.1314\"/>\n",
       "</g>\n",
       "<!-- c_functionremove_html_markupat0x7fe24566d158_141 -->\n",
       "<g id=\"node7\" class=\"node\">\n",
       "<title>c_functionremove_html_markupat0x7fe24566d158_141</title>\n",
       "<g id=\"a_node7\"><a xlink:title=\"remove_html_markup:141\">\n",
       "<polygon fill=\"#ffdab9\" stroke=\"#000000\" points=\"298.6058,-648 163.6058,-648 163.6058,-608 298.6058,-608 298.6058,-648\"/>\n",
       "<text text-anchor=\"start\" x=\"226.6058\" y=\"-633.8\" font-family=\"Fira Mono, Courier, monospace\" font-weight=\"bold\" font-size=\"14.00\" fill=\"#000000\">c</text>\n",
       "<text text-anchor=\"start\" x=\"171.6058\" y=\"-614.8\" font-family=\"Fira Mono, Courier, monospace\" font-size=\"9.00\" fill=\"#000000\">&lt;remove_html_markup()&gt;</text>\n",
       "</a>\n",
       "</g>\n",
       "</g>\n",
       "<!-- out_functionremove_html_markupat0x7fe24566d158_139&#45;&gt;c_functionremove_html_markupat0x7fe24566d158_141 -->\n",
       "<!-- tag_functionremove_html_markupat0x7fe24566d158_145 -->\n",
       "<g id=\"node2\" class=\"node\">\n",
       "<title>tag_functionremove_html_markupat0x7fe24566d158_145</title>\n",
       "<g id=\"a_node2\"><a xlink:title=\"remove_html_markup:145\">\n",
       "<polygon fill=\"#ffdab9\" stroke=\"#000000\" points=\"260.6058,-496 125.6058,-496 125.6058,-456 260.6058,-456 260.6058,-496\"/>\n",
       "<text text-anchor=\"start\" x=\"180.1058\" y=\"-481.8\" font-family=\"Fira Mono, Courier, monospace\" font-weight=\"bold\" font-size=\"14.00\" fill=\"#000000\">tag</text>\n",
       "<text text-anchor=\"start\" x=\"133.6058\" y=\"-462.8\" font-family=\"Fira Mono, Courier, monospace\" font-size=\"9.00\" fill=\"#000000\">&lt;remove_html_markup()&gt;</text>\n",
       "</a>\n",
       "</g>\n",
       "</g>\n",
       "<!-- test_functionremove_html_markupat0x7fe24566d158_146 -->\n",
       "<g id=\"node5\" class=\"node\">\n",
       "<title>test_functionremove_html_markupat0x7fe24566d158_146</title>\n",
       "<g id=\"a_node5\"><a xlink:title=\"remove_html_markup:146\">\n",
       "<polygon fill=\"#ffdab9\" stroke=\"#000000\" points=\"164.6058,-420 29.6058,-420 29.6058,-380 164.6058,-380 164.6058,-420\"/>\n",
       "<text text-anchor=\"start\" x=\"71.6058\" y=\"-405.8\" font-family=\"Fira Mono, Courier, monospace\" font-weight=\"bold\" font-style=\"italic\" font-size=\"14.00\" fill=\"#000000\">&lt;test&gt;</text>\n",
       "<text text-anchor=\"start\" x=\"37.6058\" y=\"-386.8\" font-family=\"Fira Mono, Courier, monospace\" font-size=\"9.00\" fill=\"#000000\">&lt;remove_html_markup()&gt;</text>\n",
       "</a>\n",
       "</g>\n",
       "</g>\n",
       "<!-- tag_functionremove_html_markupat0x7fe24566d158_145&#45;&gt;test_functionremove_html_markupat0x7fe24566d158_146 -->\n",
       "<!-- test_functionremove_html_markupat0x7fe24566d158_150 -->\n",
       "<g id=\"node10\" class=\"node\">\n",
       "<title>test_functionremove_html_markupat0x7fe24566d158_150</title>\n",
       "<g id=\"a_node10\"><a xlink:title=\"remove_html_markup:150\">\n",
       "<polygon fill=\"#ffdab9\" stroke=\"#000000\" points=\"260.6058,-192 125.6058,-192 125.6058,-152 260.6058,-152 260.6058,-192\"/>\n",
       "<text text-anchor=\"start\" x=\"167.6058\" y=\"-177.8\" font-family=\"Fira Mono, Courier, monospace\" font-weight=\"bold\" font-style=\"italic\" font-size=\"14.00\" fill=\"#000000\">&lt;test&gt;</text>\n",
       "<text text-anchor=\"start\" x=\"133.6058\" y=\"-158.8\" font-family=\"Fira Mono, Courier, monospace\" font-size=\"9.00\" fill=\"#000000\">&lt;remove_html_markup()&gt;</text>\n",
       "</a>\n",
       "</g>\n",
       "</g>\n",
       "<!-- tag_functionremove_html_markupat0x7fe24566d158_145&#45;&gt;test_functionremove_html_markupat0x7fe24566d158_150 -->\n",
       "<g id=\"edge18\" class=\"edge\">\n",
       "<title>tag_functionremove_html_markupat0x7fe24566d158_145&#45;&gt;test_functionremove_html_markupat0x7fe24566d158_150</title>\n",
       "<path fill=\"none\" stroke=\"#000000\" d=\"M209.4098,-455.8276C242.3983,-412.3988 310.612,-307.545 270.1058,-228 264.0091,-216.0275 254.0215,-206.0123 243.2285,-197.9185\"/>\n",
       "<polygon fill=\"#000000\" stroke=\"#000000\" points=\"245.0768,-194.9407 234.869,-192.103 241.0792,-200.687 245.0768,-194.9407\"/>\n",
       "</g>\n",
       "<!-- test_functionremove_html_markupat0x7fe24566d158_144 -->\n",
       "<g id=\"node3\" class=\"node\">\n",
       "<title>test_functionremove_html_markupat0x7fe24566d158_144</title>\n",
       "<g id=\"a_node3\"><a xlink:title=\"remove_html_markup:144\">\n",
       "<polygon fill=\"#ffdab9\" stroke=\"#000000\" points=\"260.6058,-572 125.6058,-572 125.6058,-532 260.6058,-532 260.6058,-572\"/>\n",
       "<text text-anchor=\"start\" x=\"167.6058\" y=\"-557.8\" font-family=\"Fira Mono, Courier, monospace\" font-weight=\"bold\" font-style=\"italic\" font-size=\"14.00\" fill=\"#000000\">&lt;test&gt;</text>\n",
       "<text text-anchor=\"start\" x=\"133.6058\" y=\"-538.8\" font-family=\"Fira Mono, Courier, monospace\" font-size=\"9.00\" fill=\"#000000\">&lt;remove_html_markup()&gt;</text>\n",
       "</a>\n",
       "</g>\n",
       "</g>\n",
       "<!-- test_functionremove_html_markupat0x7fe24566d158_144&#45;&gt;tag_functionremove_html_markupat0x7fe24566d158_145 -->\n",
       "<g id=\"edge1\" class=\"edge\">\n",
       "<title>test_functionremove_html_markupat0x7fe24566d158_144&#45;&gt;tag_functionremove_html_markupat0x7fe24566d158_145</title>\n",
       "<path fill=\"none\" stroke=\"#c0c0c0\" stroke-dasharray=\"5,2\" d=\"M187.0483,-531.6334C186.3877,-523.8186 186.1997,-514.7253 186.4844,-506.183\"/>\n",
       "<polygon fill=\"#c0c0c0\" stroke=\"#c0c0c0\" points=\"189.9807,-506.3453 187.066,-496.1593 182.9925,-505.9397 189.9807,-506.3453\"/>\n",
       "</g>\n",
       "<!-- test_functionremove_html_markupat0x7fe24566d158_144&#45;&gt;tag_functionremove_html_markupat0x7fe24566d158_145 -->\n",
       "<!-- test_functionremove_html_markupat0x7fe24566d158_144&#45;&gt;test_functionremove_html_markupat0x7fe24566d158_146 -->\n",
       "<g id=\"edge14\" class=\"edge\">\n",
       "<title>test_functionremove_html_markupat0x7fe24566d158_144&#45;&gt;test_functionremove_html_markupat0x7fe24566d158_146</title>\n",
       "<path fill=\"none\" stroke=\"#c0c0c0\" stroke-dasharray=\"5,2\" d=\"M155.07,-531.9112C141.1321,-522.7348 126.4892,-510.6208 117.1058,-496 104.5567,-476.4467 99.7035,-450.4586 97.9073,-430.4533\"/>\n",
       "<polygon fill=\"#c0c0c0\" stroke=\"#c0c0c0\" points=\"101.3881,-430.0542 97.2081,-420.3189 94.4047,-430.5361 101.3881,-430.0542\"/>\n",
       "</g>\n",
       "<!-- remove_html_markupreturnvalue_functionremove_html_markupat0x7fe24566d158_153 -->\n",
       "<g id=\"node4\" class=\"node\">\n",
       "<title>remove_html_markupreturnvalue_functionremove_html_markupat0x7fe24566d158_153</title>\n",
       "<g id=\"a_node4\"><a xlink:title=\"remove_html_markup:153\">\n",
       "<polygon fill=\"#ffdab9\" stroke=\"#000000\" points=\"348.6058,-40 37.6058,-40 37.6058,0 348.6058,0 348.6058,-40\"/>\n",
       "<text text-anchor=\"start\" x=\"45.6058\" y=\"-25.8\" font-family=\"Fira Mono, Courier, monospace\" font-weight=\"bold\" font-style=\"italic\" font-size=\"14.00\" fill=\"#000000\">&lt;remove_html_markup() return value&gt;</text>\n",
       "<text text-anchor=\"start\" x=\"133.6058\" y=\"-6.8\" font-family=\"Fira Mono, Courier, monospace\" font-size=\"9.00\" fill=\"#000000\">&lt;remove_html_markup()&gt;</text>\n",
       "</a>\n",
       "</g>\n",
       "</g>\n",
       "<!-- test_functionremove_html_markupat0x7fe24566d158_146&#45;&gt;remove_html_markupreturnvalue_functionremove_html_markupat0x7fe24566d158_153 -->\n",
       "<g id=\"edge2\" class=\"edge\">\n",
       "<title>test_functionremove_html_markupat0x7fe24566d158_146&#45;&gt;remove_html_markupreturnvalue_functionremove_html_markupat0x7fe24566d158_153</title>\n",
       "<path fill=\"none\" stroke=\"#000000\" d=\"M58.0962,-379.7984C44.0857,-370.6728 29.4526,-358.6243 20.1058,-344 -3.3174,-307.3515 1.1058,-291.4943 1.1058,-248 1.1058,-248 1.1058,-248 1.1058,-172 1.1058,-108.2996 66.8762,-67.0963 121.4286,-43.8766\"/>\n",
       "<polygon fill=\"#000000\" stroke=\"#000000\" points=\"122.8574,-47.0734 130.7689,-40.0265 120.1897,-40.6017 122.8574,-47.0734\"/>\n",
       "</g>\n",
       "<!-- tag_functionremove_html_markupat0x7fe24566d158_147 -->\n",
       "<g id=\"node9\" class=\"node\">\n",
       "<title>tag_functionremove_html_markupat0x7fe24566d158_147</title>\n",
       "<g id=\"a_node9\"><a xlink:title=\"remove_html_markup:147\">\n",
       "<polygon fill=\"#ffdab9\" stroke=\"#000000\" points=\"164.6058,-344 29.6058,-344 29.6058,-304 164.6058,-304 164.6058,-344\"/>\n",
       "<text text-anchor=\"start\" x=\"84.1058\" y=\"-329.8\" font-family=\"Fira Mono, Courier, monospace\" font-weight=\"bold\" font-size=\"14.00\" fill=\"#000000\">tag</text>\n",
       "<text text-anchor=\"start\" x=\"37.6058\" y=\"-310.8\" font-family=\"Fira Mono, Courier, monospace\" font-size=\"9.00\" fill=\"#000000\">&lt;remove_html_markup()&gt;</text>\n",
       "</a>\n",
       "</g>\n",
       "</g>\n",
       "<!-- test_functionremove_html_markupat0x7fe24566d158_146&#45;&gt;tag_functionremove_html_markupat0x7fe24566d158_147 -->\n",
       "<g id=\"edge5\" class=\"edge\">\n",
       "<title>test_functionremove_html_markupat0x7fe24566d158_146&#45;&gt;tag_functionremove_html_markupat0x7fe24566d158_147</title>\n",
       "<path fill=\"none\" stroke=\"#c0c0c0\" stroke-dasharray=\"5,2\" d=\"M91.0483,-379.6334C90.3877,-371.8186 90.1997,-362.7253 90.4844,-354.183\"/>\n",
       "<polygon fill=\"#c0c0c0\" stroke=\"#c0c0c0\" points=\"93.9807,-354.3453 91.066,-344.1593 86.9925,-353.9397 93.9807,-354.3453\"/>\n",
       "</g>\n",
       "<!-- test_functionremove_html_markupat0x7fe24566d158_146&#45;&gt;tag_functionremove_html_markupat0x7fe24566d158_147 -->\n",
       "<!-- test_functionremove_html_markupat0x7fe24566d158_148 -->\n",
       "<g id=\"node13\" class=\"node\">\n",
       "<title>test_functionremove_html_markupat0x7fe24566d158_148</title>\n",
       "<g id=\"a_node13\"><a xlink:title=\"remove_html_markup:148\">\n",
       "<polygon fill=\"#ffdab9\" stroke=\"#000000\" points=\"260.6058,-268 125.6058,-268 125.6058,-228 260.6058,-228 260.6058,-268\"/>\n",
       "<text text-anchor=\"start\" x=\"167.6058\" y=\"-253.8\" font-family=\"Fira Mono, Courier, monospace\" font-weight=\"bold\" font-style=\"italic\" font-size=\"14.00\" fill=\"#000000\">&lt;test&gt;</text>\n",
       "<text text-anchor=\"start\" x=\"133.6058\" y=\"-234.8\" font-family=\"Fira Mono, Courier, monospace\" font-size=\"9.00\" fill=\"#000000\">&lt;remove_html_markup()&gt;</text>\n",
       "</a>\n",
       "</g>\n",
       "</g>\n",
       "<!-- test_functionremove_html_markupat0x7fe24566d158_146&#45;&gt;test_functionremove_html_markupat0x7fe24566d158_148 -->\n",
       "<g id=\"edge16\" class=\"edge\">\n",
       "<title>test_functionremove_html_markupat0x7fe24566d158_146&#45;&gt;test_functionremove_html_markupat0x7fe24566d158_148</title>\n",
       "<path fill=\"none\" stroke=\"#c0c0c0\" stroke-dasharray=\"5,2\" d=\"M136.1153,-379.7984C150.1259,-370.6728 164.759,-358.6243 174.1058,-344 186.5926,-324.4628 191.1657,-298.4737 192.714,-278.4638\"/>\n",
       "<polygon fill=\"#c0c0c0\" stroke=\"#c0c0c0\" points=\"196.217,-278.5075 193.284,-268.3267 189.228,-278.1144 196.217,-278.5075\"/>\n",
       "</g>\n",
       "<!-- out_functionremove_html_markupat0x7fe24566d158_151&#45;&gt;remove_html_markupreturnvalue_functionremove_html_markupat0x7fe24566d158_153 -->\n",
       "<g id=\"edge3\" class=\"edge\">\n",
       "<title>out_functionremove_html_markupat0x7fe24566d158_151&#45;&gt;remove_html_markupreturnvalue_functionremove_html_markupat0x7fe24566d158_153</title>\n",
       "<path fill=\"none\" stroke=\"#000000\" d=\"M187.0483,-75.6334C186.3877,-67.8186 186.1997,-58.7253 186.4844,-50.183\"/>\n",
       "<polygon fill=\"#000000\" stroke=\"#000000\" points=\"189.9807,-50.3453 187.066,-40.1593 182.9925,-49.9397 189.9807,-50.3453\"/>\n",
       "</g>\n",
       "<!-- out_functionremove_html_markupat0x7fe24566d158_151&#45;&gt;remove_html_markupreturnvalue_functionremove_html_markupat0x7fe24566d158_153 -->\n",
       "<!-- out_functionremove_html_markupat0x7fe24566d158_151&#45;&gt;out_functionremove_html_markupat0x7fe24566d158_151 -->\n",
       "<g id=\"edge7\" class=\"edge\">\n",
       "<title>out_functionremove_html_markupat0x7fe24566d158_151&#45;&gt;out_functionremove_html_markupat0x7fe24566d158_151</title>\n",
       "<path fill=\"none\" stroke=\"#000000\" d=\"M260.8389,-109.0593C271.4034,-107.107 278.6058,-102.7539 278.6058,-96 278.6058,-91.6733 275.6499,-88.3318 270.7478,-85.9757\"/>\n",
       "<polygon fill=\"#000000\" stroke=\"#000000\" points=\"271.4255,-82.5228 260.8389,-82.9407 269.3754,-89.2159 271.4255,-82.5228\"/>\n",
       "</g>\n",
       "<!-- c_functionremove_html_markupat0x7fe24566d158_141&#45;&gt;test_functionremove_html_markupat0x7fe24566d158_144 -->\n",
       "<g id=\"edge10\" class=\"edge\">\n",
       "<title>c_functionremove_html_markupat0x7fe24566d158_141&#45;&gt;test_functionremove_html_markupat0x7fe24566d158_144</title>\n",
       "<path fill=\"none\" stroke=\"#000000\" d=\"M214.865,-607.6334C210.1464,-599.561 205.25,-590.1244 201.184,-581.34\"/>\n",
       "<polygon fill=\"#000000\" stroke=\"#000000\" points=\"204.3759,-579.9036 197.1456,-572.1593 197.9684,-582.7221 204.3759,-579.9036\"/>\n",
       "</g>\n",
       "<!-- c_functionremove_html_markupat0x7fe24566d158_141&#45;&gt;test_functionremove_html_markupat0x7fe24566d158_144 -->\n",
       "<!-- c_functionremove_html_markupat0x7fe24566d158_141&#45;&gt;test_functionremove_html_markupat0x7fe24566d158_146 -->\n",
       "<g id=\"edge12\" class=\"edge\">\n",
       "<title>c_functionremove_html_markupat0x7fe24566d158_141&#45;&gt;test_functionremove_html_markupat0x7fe24566d158_146</title>\n",
       "<path fill=\"none\" stroke=\"#000000\" d=\"M166.8069,-607.9676C148.4882,-599.4753 130.0223,-587.7859 117.1058,-572 84.358,-531.9772 86.5897,-468.08 91.5781,-430.4642\"/>\n",
       "<polygon fill=\"#000000\" stroke=\"#000000\" points=\"95.104,-430.5458 93.1049,-420.1413 88.1793,-429.5216 95.104,-430.5458\"/>\n",
       "</g>\n",
       "<!-- c_functionremove_html_markupat0x7fe24566d158_141&#45;&gt;out_functionremove_html_markupat0x7fe24566d158_151 -->\n",
       "<g id=\"edge6\" class=\"edge\">\n",
       "<title>c_functionremove_html_markupat0x7fe24566d158_141&#45;&gt;out_functionremove_html_markupat0x7fe24566d158_151</title>\n",
       "<path fill=\"none\" stroke=\"#000000\" d=\"M255.8541,-607.8129C266.825,-597.9028 279.229,-585.2558 288.1058,-572 313.7304,-533.7343 327.1058,-522.0531 327.1058,-476 327.1058,-476 327.1058,-476 327.1058,-248 327.1058,-192.7273 276.6313,-148.0459 237.6386,-121.7752\"/>\n",
       "<polygon fill=\"#000000\" stroke=\"#000000\" points=\"239.2998,-118.6795 229.0153,-116.1339 235.4676,-124.5374 239.2998,-118.6795\"/>\n",
       "</g>\n",
       "<!-- c_functionremove_html_markupat0x7fe24566d158_141&#45;&gt;test_functionremove_html_markupat0x7fe24566d158_148 -->\n",
       "<g id=\"edge15\" class=\"edge\">\n",
       "<title>c_functionremove_html_markupat0x7fe24566d158_141&#45;&gt;test_functionremove_html_markupat0x7fe24566d158_148</title>\n",
       "<path fill=\"none\" stroke=\"#000000\" d=\"M249.647,-607.8387C257.5963,-597.8397 265.9898,-585.1124 270.1058,-572 285.5464,-522.8109 279.1975,-506.7476 270.1058,-456 258.2432,-389.7859 226.7138,-317.081 207.8831,-277.5782\"/>\n",
       "<polygon fill=\"#000000\" stroke=\"#000000\" points=\"210.8902,-275.7566 203.3889,-268.2746 204.5871,-278.8015 210.8902,-275.7566\"/>\n",
       "</g>\n",
       "<!-- s_functionremove_html_markupat0x7fe24566d158_136 -->\n",
       "<g id=\"node8\" class=\"node\">\n",
       "<title>s_functionremove_html_markupat0x7fe24566d158_136</title>\n",
       "<g id=\"a_node8\"><a xlink:title=\"remove_html_markup:136\">\n",
       "<polygon fill=\"#ffdab9\" stroke=\"#000000\" points=\"250.6058,-952 115.6058,-952 115.6058,-912 250.6058,-912 250.6058,-952\"/>\n",
       "<text text-anchor=\"start\" x=\"178.6058\" y=\"-937.8\" font-family=\"Fira Mono, Courier, monospace\" font-weight=\"bold\" font-size=\"14.00\" fill=\"#000000\">s</text>\n",
       "<text text-anchor=\"start\" x=\"123.6058\" y=\"-918.8\" font-family=\"Fira Mono, Courier, monospace\" font-size=\"9.00\" fill=\"#000000\">&lt;remove_html_markup()&gt;</text>\n",
       "</a>\n",
       "</g>\n",
       "</g>\n",
       "<!-- s_functionremove_html_markupat0x7fe24566d158_136&#45;&gt;c_functionremove_html_markupat0x7fe24566d158_141 -->\n",
       "<g id=\"edge4\" class=\"edge\">\n",
       "<title>s_functionremove_html_markupat0x7fe24566d158_136&#45;&gt;c_functionremove_html_markupat0x7fe24566d158_141</title>\n",
       "<path fill=\"none\" stroke=\"#000000\" d=\"M196.0697,-911.8186C202.024,-901.5131 208.541,-888.5316 212.1058,-876 233.7543,-799.8984 234.1469,-705.6899 232.6207,-658.2786\"/>\n",
       "<polygon fill=\"#000000\" stroke=\"#000000\" points=\"236.1107,-657.9437 232.2383,-648.0819 229.1156,-658.2061 236.1107,-657.9437\"/>\n",
       "</g>\n",
       "<!-- tag_functionremove_html_markupat0x7fe24566d158_137 -->\n",
       "<g id=\"node12\" class=\"node\">\n",
       "<title>tag_functionremove_html_markupat0x7fe24566d158_137</title>\n",
       "<g id=\"a_node12\"><a xlink:title=\"remove_html_markup:137\">\n",
       "<polygon fill=\"#ffdab9\" stroke=\"#000000\" points=\"202.6058,-876 67.6058,-876 67.6058,-836 202.6058,-836 202.6058,-876\"/>\n",
       "<text text-anchor=\"start\" x=\"122.1058\" y=\"-861.8\" font-family=\"Fira Mono, Courier, monospace\" font-weight=\"bold\" font-size=\"14.00\" fill=\"#000000\">tag</text>\n",
       "<text text-anchor=\"start\" x=\"75.6058\" y=\"-842.8\" font-family=\"Fira Mono, Courier, monospace\" font-size=\"9.00\" fill=\"#000000\">&lt;remove_html_markup()&gt;</text>\n",
       "</a>\n",
       "</g>\n",
       "</g>\n",
       "<!-- s_functionremove_html_markupat0x7fe24566d158_136&#45;&gt;tag_functionremove_html_markupat0x7fe24566d158_137 -->\n",
       "<!-- tag_functionremove_html_markupat0x7fe24566d158_147&#45;&gt;test_functionremove_html_markupat0x7fe24566d158_150 -->\n",
       "<g id=\"edge17\" class=\"edge\">\n",
       "<title>tag_functionremove_html_markupat0x7fe24566d158_147&#45;&gt;test_functionremove_html_markupat0x7fe24566d158_150</title>\n",
       "<path fill=\"none\" stroke=\"#000000\" d=\"M97.2081,-303.6811C98.2076,-283.0906 102.3013,-251.0674 117.1058,-228 124.5832,-216.3491 135.4004,-206.29 146.5393,-198.0407\"/>\n",
       "<polygon fill=\"#000000\" stroke=\"#000000\" points=\"148.8716,-200.6812 155.07,-192.0888 144.8662,-194.9404 148.8716,-200.6812\"/>\n",
       "</g>\n",
       "<!-- tag_functionremove_html_markupat0x7fe24566d158_147&#45;&gt;test_functionremove_html_markupat0x7fe24566d158_148 -->\n",
       "<!-- test_functionremove_html_markupat0x7fe24566d158_150&#45;&gt;out_functionremove_html_markupat0x7fe24566d158_151 -->\n",
       "<g id=\"edge9\" class=\"edge\">\n",
       "<title>test_functionremove_html_markupat0x7fe24566d158_150&#45;&gt;out_functionremove_html_markupat0x7fe24566d158_151</title>\n",
       "<path fill=\"none\" stroke=\"#c0c0c0\" stroke-dasharray=\"5,2\" d=\"M187.0483,-151.6334C186.3877,-143.8186 186.1997,-134.7253 186.4844,-126.183\"/>\n",
       "<polygon fill=\"#c0c0c0\" stroke=\"#c0c0c0\" points=\"189.9807,-126.3453 187.066,-116.1593 182.9925,-125.9397 189.9807,-126.3453\"/>\n",
       "</g>\n",
       "<!-- test_functionremove_html_markupat0x7fe24566d158_150&#45;&gt;out_functionremove_html_markupat0x7fe24566d158_151 -->\n",
       "<!-- quote_functionremove_html_markupat0x7fe24566d158_138 -->\n",
       "<g id=\"node11\" class=\"node\">\n",
       "<title>quote_functionremove_html_markupat0x7fe24566d158_138</title>\n",
       "<g id=\"a_node11\"><a xlink:title=\"remove_html_markup:138\">\n",
       "<polygon fill=\"#ffdab9\" stroke=\"#000000\" points=\"202.6058,-800 67.6058,-800 67.6058,-760 202.6058,-760 202.6058,-800\"/>\n",
       "<text text-anchor=\"start\" x=\"113.6058\" y=\"-785.8\" font-family=\"Fira Mono, Courier, monospace\" font-weight=\"bold\" font-size=\"14.00\" fill=\"#000000\">quote</text>\n",
       "<text text-anchor=\"start\" x=\"75.6058\" y=\"-766.8\" font-family=\"Fira Mono, Courier, monospace\" font-size=\"9.00\" fill=\"#000000\">&lt;remove_html_markup()&gt;</text>\n",
       "</a>\n",
       "</g>\n",
       "</g>\n",
       "<!-- quote_functionremove_html_markupat0x7fe24566d158_138&#45;&gt;out_functionremove_html_markupat0x7fe24566d158_139 -->\n",
       "<!-- quote_functionremove_html_markupat0x7fe24566d158_138&#45;&gt;test_functionremove_html_markupat0x7fe24566d158_144 -->\n",
       "<g id=\"edge11\" class=\"edge\">\n",
       "<title>quote_functionremove_html_markupat0x7fe24566d158_138&#45;&gt;test_functionremove_html_markupat0x7fe24566d158_144</title>\n",
       "<path fill=\"none\" stroke=\"#000000\" d=\"M134.399,-759.9435C133.9003,-727.0991 135.671,-660.2694 155.1058,-608 158.6615,-598.4371 164.1772,-588.9184 169.9141,-580.5143\"/>\n",
       "<polygon fill=\"#000000\" stroke=\"#000000\" points=\"172.8949,-582.3644 175.8998,-572.2046 167.215,-578.273 172.8949,-582.3644\"/>\n",
       "</g>\n",
       "<!-- quote_functionremove_html_markupat0x7fe24566d158_138&#45;&gt;test_functionremove_html_markupat0x7fe24566d158_146 -->\n",
       "<g id=\"edge13\" class=\"edge\">\n",
       "<title>quote_functionremove_html_markupat0x7fe24566d158_138&#45;&gt;test_functionremove_html_markupat0x7fe24566d158_146</title>\n",
       "<path fill=\"none\" stroke=\"#000000\" d=\"M106.3388,-759.9696C72.5672,-733.8483 21.1058,-684.7361 21.1058,-628 21.1058,-628 21.1058,-628 21.1058,-552 21.1058,-504.7388 50.8629,-457.1091 73.1372,-428.0767\"/>\n",
       "<polygon fill=\"#000000\" stroke=\"#000000\" points=\"76.0312,-430.0593 79.4788,-420.0411 70.5362,-425.7227 76.0312,-430.0593\"/>\n",
       "</g>\n",
       "<!-- tag_functionremove_html_markupat0x7fe24566d158_137&#45;&gt;quote_functionremove_html_markupat0x7fe24566d158_138 -->\n",
       "<!-- test_functionremove_html_markupat0x7fe24566d158_148&#45;&gt;test_functionremove_html_markupat0x7fe24566d158_150 -->\n",
       "<g id=\"edge19\" class=\"edge\">\n",
       "<title>test_functionremove_html_markupat0x7fe24566d158_148&#45;&gt;test_functionremove_html_markupat0x7fe24566d158_150</title>\n",
       "<path fill=\"none\" stroke=\"#c0c0c0\" stroke-dasharray=\"5,2\" d=\"M187.0483,-227.6334C186.3877,-219.8186 186.1997,-210.7253 186.4844,-202.183\"/>\n",
       "<polygon fill=\"#c0c0c0\" stroke=\"#c0c0c0\" points=\"189.9807,-202.3453 187.066,-192.1593 182.9925,-201.9397 189.9807,-202.3453\"/>\n",
       "</g>\n",
       "<!-- test_functionremove_html_markupat0x7fe24566d158_148&#45;&gt;test_functionremove_html_markupat0x7fe24566d158_150 -->\n",
       "</g>\n",
       "</svg>\n"
      ],
      "text/plain": [
       "<graphviz.dot.Digraph at 0x7fe245ce5dd8>"
      ]
     },
     "execution_count": 1,
     "metadata": {},
     "output_type": "execute_result"
    }
   ],
   "source": [
    "# ignore\n",
    "remove_html_markup_deps().graph()"
   ]
  },
  {
   "cell_type": "markdown",
   "metadata": {
    "slideshow": {
     "slide_type": "subslide"
    }
   },
   "source": [
    "Again, we can read such a graph _forward_ (starting from, say, `s`) or _backward_ (starting from the return value). Starting forward, we see how the passed string `s` flows into the `for` loop, breaking `s` into individual characters `c` that are then checked on various occasions, before flowing into the `out` return value. We also see how the various `if` conditions are all influenced by `c`, `tag`, and `quote`."
   ]
  },
  {
   "cell_type": "code",
   "execution_count": 49,
   "metadata": {
    "execution": {
     "iopub.execute_input": "2021-05-11T17:07:56.550568Z",
     "iopub.status.busy": "2021-05-11T17:07:56.550014Z",
     "iopub.status.idle": "2021-05-11T17:07:56.553072Z",
     "shell.execute_reply": "2021-05-11T17:07:56.553481Z"
    },
    "slideshow": {
     "slide_type": "fragment"
    }
   },
   "outputs": [
    {
     "data": {
      "text/html": [
       "\n",
       "    \n",
       "    <script>\n",
       "    var bad_answers = new Map();\n",
       "\n",
       "    function answer(quiz_id) {\n",
       "        ans = 0;\n",
       "        for (i = 1;; i++) {\n",
       "            checkbox = document.getElementById(quiz_id + \"-\" + i.toString());\n",
       "            if (!checkbox)\n",
       "                break;\n",
       "            if (checkbox.checked)\n",
       "                ans |= (1 << i);\n",
       "        }\n",
       "        return ans;\n",
       "    }\n",
       "    function check_selection(quiz_id, correct_answer, multiple_choice, hint) {\n",
       "        given_answer = answer(quiz_id);\n",
       "        if (given_answer == correct_answer)\n",
       "        {\n",
       "            document.getElementById(quiz_id + \"-submit\").value = \"Correct!\";\n",
       "            document.getElementById(quiz_id + \"-hint\").innerHTML = \"\";\n",
       "\n",
       "            for (i = 1;; i++) {\n",
       "                checkbox = document.getElementById(quiz_id + \"-\" + i.toString());\n",
       "                label = document.getElementById(quiz_id + \"-\" + i.toString() + \"-label\")\n",
       "                if (!checkbox)\n",
       "                    break;\n",
       "    \n",
       "                if (checkbox.checked) {\n",
       "                    label.style.fontWeight = \"bold\";\n",
       "                }\n",
       "                else {\n",
       "                    label.style.textDecoration = \"line-through\";\n",
       "                }\n",
       "            }\n",
       "        }\n",
       "        else \n",
       "        {\n",
       "            document.getElementById(quiz_id + \"-submit\").value = \"Try again\";\n",
       "            \n",
       "            if (!bad_answers.has(quiz_id)) {\n",
       "                bad_answers.set(quiz_id, 1);\n",
       "            }\n",
       "            else {\n",
       "                bad_answers.set(quiz_id, bad_answers.get(quiz_id) + 1);\n",
       "            }\n",
       "\n",
       "            if (bad_answers.get(quiz_id) >= 2 && hint.length > 0) {\n",
       "                document.getElementById(quiz_id + \"-hint\").innerHTML = \n",
       "                    \"&nbsp;&nbsp;(Hint: <code>\" + hint + \"</code>)\";\n",
       "            }\n",
       "\n",
       "            if (!multiple_choice) {\n",
       "                for (i = 1;; i++) {\n",
       "                    checkbox = document.getElementById(quiz_id + \"-\" + i.toString());\n",
       "                    label = document.getElementById(quiz_id + \"-\" + i.toString() + \"-label\")\n",
       "\n",
       "                    if (!checkbox)\n",
       "                        break;\n",
       "                    if (checkbox.checked) {\n",
       "                        label.style.textDecoration = \"line-through\";\n",
       "                    }\n",
       "                }\n",
       "            }\n",
       "        }\n",
       "    }\n",
       "    function clear_selection(quiz_id) {\n",
       "        document.getElementById(quiz_id + \"-submit\").value = \"Submit\";\n",
       "        document.getElementById(quiz_id + \"-hint\").innerHTML = \"\";\n",
       "    }\n",
       "    </script>\n",
       "    \n",
       "    <div class=\"quiz\">\n",
       "    <h3 class=\"quiz_title\">Quiz</h3>\n",
       "    <p>\n",
       "    <div class=\"quiz_question\">Why does the first line <code>tag = False</code> not influence anything?</div>\n",
       "    </p>\n",
       "    <p>\n",
       "    <div class=\"quiz_options\" title=\"Pick a choice.\">\n",
       "    \n",
       "        <input type=\"radio\" name=\"6e416e6c-b27b-11eb-8163-acde48001122\" id=\"6e416e6c-b27b-11eb-8163-acde48001122-1\" onclick=\"clear_selection('6e416e6c-b27b-11eb-8163-acde48001122')\">\n",
       "        <label id=\"6e416e6c-b27b-11eb-8163-acde48001122-1-label\" for=\"6e416e6c-b27b-11eb-8163-acde48001122-1\">Because the input contains only tags</label><br>\n",
       "    \n",
       "        <input type=\"radio\" name=\"6e416e6c-b27b-11eb-8163-acde48001122\" id=\"6e416e6c-b27b-11eb-8163-acde48001122-2\" onclick=\"clear_selection('6e416e6c-b27b-11eb-8163-acde48001122')\">\n",
       "        <label id=\"6e416e6c-b27b-11eb-8163-acde48001122-2-label\" for=\"6e416e6c-b27b-11eb-8163-acde48001122-2\">Because <code>tag</code> is set to True with the first character</label><br>\n",
       "    \n",
       "        <input type=\"radio\" name=\"6e416e6c-b27b-11eb-8163-acde48001122\" id=\"6e416e6c-b27b-11eb-8163-acde48001122-3\" onclick=\"clear_selection('6e416e6c-b27b-11eb-8163-acde48001122')\">\n",
       "        <label id=\"6e416e6c-b27b-11eb-8163-acde48001122-3-label\" for=\"6e416e6c-b27b-11eb-8163-acde48001122-3\">Because <code>tag</code> is not read by any variable</label><br>\n",
       "    \n",
       "        <input type=\"radio\" name=\"6e416e6c-b27b-11eb-8163-acde48001122\" id=\"6e416e6c-b27b-11eb-8163-acde48001122-4\" onclick=\"clear_selection('6e416e6c-b27b-11eb-8163-acde48001122')\">\n",
       "        <label id=\"6e416e6c-b27b-11eb-8163-acde48001122-4-label\" for=\"6e416e6c-b27b-11eb-8163-acde48001122-4\">Because the input contains no tags</label><br>\n",
       "    \n",
       "    </div>\n",
       "    </p>\n",
       "    <input id=\"6e416e6c-b27b-11eb-8163-acde48001122-submit\" type=\"submit\" value=\"Submit\" onclick=\"check_selection('6e416e6c-b27b-11eb-8163-acde48001122', 4, 0, '(1 &lt;&lt; 1 + 1 &gt;&gt; 1)')\">\n",
       "    <span class=\"quiz_hint\" id=\"6e416e6c-b27b-11eb-8163-acde48001122-hint\"></span>\n",
       "    </div>\n",
       "    "
      ],
      "text/plain": [
       "<IPython.core.display.HTML object>"
      ]
     },
     "execution_count": 1,
     "metadata": {},
     "output_type": "execute_result"
    }
   ],
   "source": [
    "quiz(\"Why does the first line `tag = False` not influence anything?\",\n",
    "    [\n",
    "        \"Because the input contains only tags\",\n",
    "        \"Because `tag` is set to True with the first character\",\n",
    "        \"Because `tag` is not read by any variable\",\n",
    "        \"Because the input contains no tags\",\n",
    "    ], '(1 << 1 + 1 >> 1)')"
   ]
  },
  {
   "cell_type": "markdown",
   "metadata": {
    "slideshow": {
     "slide_type": "subslide"
    }
   },
   "source": [
    "Which are the locations that set `tag` to True? To this end, we compute the slice of `tag` at `tag = True`:"
   ]
  },
  {
   "cell_type": "code",
   "execution_count": 50,
   "metadata": {
    "execution": {
     "iopub.execute_input": "2021-05-11T17:07:56.562625Z",
     "iopub.status.busy": "2021-05-11T17:07:56.561142Z",
     "iopub.status.idle": "2021-05-11T17:07:57.316990Z",
     "shell.execute_reply": "2021-05-11T17:07:57.317370Z"
    },
    "slideshow": {
     "slide_type": "subslide"
    }
   },
   "outputs": [
    {
     "data": {
      "image/svg+xml": [
       "<?xml version=\"1.0\" encoding=\"UTF-8\" standalone=\"no\"?>\n",
       "<!DOCTYPE svg PUBLIC \"-//W3C//DTD SVG 1.1//EN\"\n",
       " \"http://www.w3.org/Graphics/SVG/1.1/DTD/svg11.dtd\">\n",
       "<!-- Generated by graphviz version 2.40.1 (20161225.0304)\n",
       " -->\n",
       "<!-- Title: dependencies Pages: 1 -->\n",
       "<svg width=\"239pt\" height=\"352pt\"\n",
       " viewBox=\"0.00 0.00 239.00 352.00\" xmlns=\"http://www.w3.org/2000/svg\" xmlns:xlink=\"http://www.w3.org/1999/xlink\">\n",
       "<g id=\"graph0\" class=\"graph\" transform=\"scale(1 1) rotate(0) translate(4 348)\">\n",
       "<title>dependencies</title>\n",
       "<polygon fill=\"#ffffff\" stroke=\"transparent\" points=\"-4,4 -4,-348 235,-348 235,4 -4,4\"/>\n",
       "<!-- tag_functionremove_html_markupat0x7fe24566d158_145 -->\n",
       "<g id=\"node1\" class=\"node\">\n",
       "<title>tag_functionremove_html_markupat0x7fe24566d158_145</title>\n",
       "<g id=\"a_node1\"><a xlink:title=\"remove_html_markup:145\">\n",
       "<polygon fill=\"#ffdab9\" stroke=\"#000000\" points=\"135,-40 0,-40 0,0 135,0 135,-40\"/>\n",
       "<text text-anchor=\"start\" x=\"54.5\" y=\"-25.8\" font-family=\"Fira Mono, Courier, monospace\" font-weight=\"bold\" font-size=\"14.00\" fill=\"#000000\">tag</text>\n",
       "<text text-anchor=\"start\" x=\"8\" y=\"-6.8\" font-family=\"Fira Mono, Courier, monospace\" font-size=\"9.00\" fill=\"#000000\">&lt;remove_html_markup()&gt;</text>\n",
       "</a>\n",
       "</g>\n",
       "</g>\n",
       "<!-- test_functionremove_html_markupat0x7fe24566d158_144 -->\n",
       "<g id=\"node2\" class=\"node\">\n",
       "<title>test_functionremove_html_markupat0x7fe24566d158_144</title>\n",
       "<g id=\"a_node2\"><a xlink:title=\"remove_html_markup:144\">\n",
       "<polygon fill=\"#ffdab9\" stroke=\"#000000\" points=\"135,-116 0,-116 0,-76 135,-76 135,-116\"/>\n",
       "<text text-anchor=\"start\" x=\"42\" y=\"-101.8\" font-family=\"Fira Mono, Courier, monospace\" font-weight=\"bold\" font-style=\"italic\" font-size=\"14.00\" fill=\"#000000\">&lt;test&gt;</text>\n",
       "<text text-anchor=\"start\" x=\"8\" y=\"-82.8\" font-family=\"Fira Mono, Courier, monospace\" font-size=\"9.00\" fill=\"#000000\">&lt;remove_html_markup()&gt;</text>\n",
       "</a>\n",
       "</g>\n",
       "</g>\n",
       "<!-- test_functionremove_html_markupat0x7fe24566d158_144&#45;&gt;tag_functionremove_html_markupat0x7fe24566d158_145 -->\n",
       "<g id=\"edge1\" class=\"edge\">\n",
       "<title>test_functionremove_html_markupat0x7fe24566d158_144&#45;&gt;tag_functionremove_html_markupat0x7fe24566d158_145</title>\n",
       "<path fill=\"none\" stroke=\"#c0c0c0\" stroke-dasharray=\"5,2\" d=\"M61.4426,-75.6334C60.7819,-67.8186 60.5939,-58.7253 60.8786,-50.183\"/>\n",
       "<polygon fill=\"#c0c0c0\" stroke=\"#c0c0c0\" points=\"64.375,-50.3453 61.4602,-40.1593 57.3867,-49.9397 64.375,-50.3453\"/>\n",
       "</g>\n",
       "<!-- test_functionremove_html_markupat0x7fe24566d158_144&#45;&gt;tag_functionremove_html_markupat0x7fe24566d158_145 -->\n",
       "<!-- c_functionremove_html_markupat0x7fe24566d158_141 -->\n",
       "<g id=\"node3\" class=\"node\">\n",
       "<title>c_functionremove_html_markupat0x7fe24566d158_141</title>\n",
       "<g id=\"a_node3\"><a xlink:title=\"remove_html_markup:141\">\n",
       "<polygon fill=\"#ffdab9\" stroke=\"#000000\" points=\"135,-192 0,-192 0,-152 135,-152 135,-192\"/>\n",
       "<text text-anchor=\"start\" x=\"63\" y=\"-177.8\" font-family=\"Fira Mono, Courier, monospace\" font-weight=\"bold\" font-size=\"14.00\" fill=\"#000000\">c</text>\n",
       "<text text-anchor=\"start\" x=\"8\" y=\"-158.8\" font-family=\"Fira Mono, Courier, monospace\" font-size=\"9.00\" fill=\"#000000\">&lt;remove_html_markup()&gt;</text>\n",
       "</a>\n",
       "</g>\n",
       "</g>\n",
       "<!-- c_functionremove_html_markupat0x7fe24566d158_141&#45;&gt;test_functionremove_html_markupat0x7fe24566d158_144 -->\n",
       "<g id=\"edge3\" class=\"edge\">\n",
       "<title>c_functionremove_html_markupat0x7fe24566d158_141&#45;&gt;test_functionremove_html_markupat0x7fe24566d158_144</title>\n",
       "<path fill=\"none\" stroke=\"#000000\" d=\"M61.4426,-151.6334C60.7819,-143.8186 60.5939,-134.7253 60.8786,-126.183\"/>\n",
       "<polygon fill=\"#000000\" stroke=\"#000000\" points=\"64.375,-126.3453 61.4602,-116.1593 57.3867,-125.9397 64.375,-126.3453\"/>\n",
       "</g>\n",
       "<!-- c_functionremove_html_markupat0x7fe24566d158_141&#45;&gt;test_functionremove_html_markupat0x7fe24566d158_144 -->\n",
       "<!-- s_functionremove_html_markupat0x7fe24566d158_136 -->\n",
       "<g id=\"node4\" class=\"node\">\n",
       "<title>s_functionremove_html_markupat0x7fe24566d158_136</title>\n",
       "<g id=\"a_node4\"><a xlink:title=\"remove_html_markup:136\">\n",
       "<polygon fill=\"#ffdab9\" stroke=\"#000000\" points=\"183,-344 48,-344 48,-304 183,-304 183,-344\"/>\n",
       "<text text-anchor=\"start\" x=\"111\" y=\"-329.8\" font-family=\"Fira Mono, Courier, monospace\" font-weight=\"bold\" font-size=\"14.00\" fill=\"#000000\">s</text>\n",
       "<text text-anchor=\"start\" x=\"56\" y=\"-310.8\" font-family=\"Fira Mono, Courier, monospace\" font-size=\"9.00\" fill=\"#000000\">&lt;remove_html_markup()&gt;</text>\n",
       "</a>\n",
       "</g>\n",
       "</g>\n",
       "<!-- s_functionremove_html_markupat0x7fe24566d158_136&#45;&gt;c_functionremove_html_markupat0x7fe24566d158_141 -->\n",
       "<g id=\"edge2\" class=\"edge\">\n",
       "<title>s_functionremove_html_markupat0x7fe24566d158_136&#45;&gt;c_functionremove_html_markupat0x7fe24566d158_141</title>\n",
       "<path fill=\"none\" stroke=\"#000000\" d=\"M103.3165,-303.878C97.4827,-293.4806 90.8394,-280.4009 86.5,-268 79.019,-246.6214 74.177,-221.4751 71.2542,-202.2828\"/>\n",
       "<polygon fill=\"#000000\" stroke=\"#000000\" points=\"74.7062,-201.6972 69.8233,-192.2947 67.7769,-202.69 74.7062,-201.6972\"/>\n",
       "</g>\n",
       "<!-- quote_functionremove_html_markupat0x7fe24566d158_138 -->\n",
       "<g id=\"node5\" class=\"node\">\n",
       "<title>quote_functionremove_html_markupat0x7fe24566d158_138</title>\n",
       "<g id=\"a_node5\"><a xlink:title=\"remove_html_markup:138\">\n",
       "<polygon fill=\"#ffdab9\" stroke=\"#000000\" points=\"231,-268 96,-268 96,-228 231,-228 231,-268\"/>\n",
       "<text text-anchor=\"start\" x=\"142\" y=\"-253.8\" font-family=\"Fira Mono, Courier, monospace\" font-weight=\"bold\" font-size=\"14.00\" fill=\"#000000\">quote</text>\n",
       "<text text-anchor=\"start\" x=\"104\" y=\"-234.8\" font-family=\"Fira Mono, Courier, monospace\" font-size=\"9.00\" fill=\"#000000\">&lt;remove_html_markup()&gt;</text>\n",
       "</a>\n",
       "</g>\n",
       "</g>\n",
       "<!-- s_functionremove_html_markupat0x7fe24566d158_136&#45;&gt;quote_functionremove_html_markupat0x7fe24566d158_138 -->\n",
       "<!-- quote_functionremove_html_markupat0x7fe24566d158_138&#45;&gt;test_functionremove_html_markupat0x7fe24566d158_144 -->\n",
       "<g id=\"edge4\" class=\"edge\">\n",
       "<title>quote_functionremove_html_markupat0x7fe24566d158_138&#45;&gt;test_functionremove_html_markupat0x7fe24566d158_144</title>\n",
       "<path fill=\"none\" stroke=\"#000000\" d=\"M163.3977,-227.6811C162.3982,-207.0906 158.3045,-175.0674 143.5,-152 136.0226,-140.3491 125.2054,-130.29 114.0665,-122.0407\"/>\n",
       "<polygon fill=\"#000000\" stroke=\"#000000\" points=\"115.7396,-118.9404 105.5357,-116.0888 111.7342,-124.6812 115.7396,-118.9404\"/>\n",
       "</g>\n",
       "<!-- quote_functionremove_html_markupat0x7fe24566d158_138&#45;&gt;c_functionremove_html_markupat0x7fe24566d158_141 -->\n",
       "</g>\n",
       "</svg>\n"
      ],
      "text/plain": [
       "Dependencies(\n",
       "    data={\n",
       "        ('tag', (remove_html_markup, 145)): set(),\n",
       "        ('<test>', (remove_html_markup, 144)): {('c', (remove_html_markup, 141)), ('quote', (remove_html_markup, 138))},\n",
       "        ('quote', (remove_html_markup, 138)): set(),\n",
       "        ('c', (remove_html_markup, 141)): {('s', (remove_html_markup, 136))},\n",
       "        ('s', (remove_html_markup, 136)): set()},\n",
       " control={\n",
       "        ('tag', (remove_html_markup, 145)): {('<test>', (remove_html_markup, 144))},\n",
       "        ('<test>', (remove_html_markup, 144)): set(),\n",
       "        ('quote', (remove_html_markup, 138)): set(),\n",
       "        ('c', (remove_html_markup, 141)): set(),\n",
       "        ('s', (remove_html_markup, 136)): set()})"
      ]
     },
     "execution_count": 1,
     "metadata": {},
     "output_type": "execute_result"
    }
   ],
   "source": [
    "# ignore\n",
    "tag_deps = Dependencies({('tag', (remove_html_markup, 145)): set(), ('<test>', (remove_html_markup, 144)): {('quote', (remove_html_markup, 138)), ('c', (remove_html_markup, 141))}, ('quote', (remove_html_markup, 138)): set(), ('c', (remove_html_markup, 141)): {('s', (remove_html_markup, 136))}, ('s', (remove_html_markup, 136)): set()}, {('tag', (remove_html_markup, 145)): {('<test>', (remove_html_markup, 144))}, ('<test>', (remove_html_markup, 144)): set(), ('quote', (remove_html_markup, 138)): set(), ('c', (remove_html_markup, 141)): set(), ('s', (remove_html_markup, 136)): set()})\n",
    "tag_deps"
   ]
  },
  {
   "cell_type": "markdown",
   "metadata": {
    "slideshow": {
     "slide_type": "subslide"
    }
   },
   "source": [
    "We see where the value of `tag` comes from: from the characters `c` in `s` as well as `quote`, which all cause it to be set. Again, we can combine these dependencies and the listing in a single, compact view. Note, again, that there are no other locations in the code that could possibly have affected `tag` in our run."
   ]
  },
  {
   "cell_type": "code",
   "execution_count": 51,
   "metadata": {
    "execution": {
     "iopub.execute_input": "2021-05-11T17:07:57.347185Z",
     "iopub.status.busy": "2021-05-11T17:07:57.321231Z",
     "iopub.status.idle": "2021-05-11T17:07:57.394937Z",
     "shell.execute_reply": "2021-05-11T17:07:57.395391Z"
    },
    "slideshow": {
     "slide_type": "subslide"
    }
   },
   "outputs": [
    {
     "name": "stdout",
     "output_type": "stream",
     "text": [
      "   238 \u001b[34mdef\u001b[39;49;00m \u001b[32mremove_html_markup\u001b[39;49;00m(s):  \u001b[37m# type: ignore\u001b[39;49;00m\n",
      "   239     tag = \u001b[34mFalse\u001b[39;49;00m\n",
      "   240     quote = \u001b[34mFalse\u001b[39;49;00m\n",
      "   241     out = \u001b[33m\"\u001b[39;49;00m\u001b[33m\"\u001b[39;49;00m\n",
      "   242 \n",
      "   243     \u001b[34mfor\u001b[39;49;00m c \u001b[35min\u001b[39;49;00m s:\n",
      "   244         \u001b[34massert\u001b[39;49;00m tag \u001b[35mor\u001b[39;49;00m \u001b[35mnot\u001b[39;49;00m quote\n",
      "   245 \n",
      "   246         \u001b[34mif\u001b[39;49;00m c == \u001b[33m'\u001b[39;49;00m\u001b[33m<\u001b[39;49;00m\u001b[33m'\u001b[39;49;00m \u001b[35mand\u001b[39;49;00m \u001b[35mnot\u001b[39;49;00m quote:\n",
      "   247             tag = \u001b[34mTrue\u001b[39;49;00m\n",
      "   248         \u001b[34melif\u001b[39;49;00m c == \u001b[33m'\u001b[39;49;00m\u001b[33m>\u001b[39;49;00m\u001b[33m'\u001b[39;49;00m \u001b[35mand\u001b[39;49;00m \u001b[35mnot\u001b[39;49;00m quote:\n",
      "   249             tag = \u001b[34mFalse\u001b[39;49;00m\n",
      "   250         \u001b[34melif\u001b[39;49;00m (c == \u001b[33m'\u001b[39;49;00m\u001b[33m\"\u001b[39;49;00m\u001b[33m'\u001b[39;49;00m \u001b[35mor\u001b[39;49;00m c == \u001b[33m\"\u001b[39;49;00m\u001b[33m'\u001b[39;49;00m\u001b[33m\"\u001b[39;49;00m) \u001b[35mand\u001b[39;49;00m tag:\n",
      "   251             quote = \u001b[35mnot\u001b[39;49;00m quote\n",
      "   252         \u001b[34melif\u001b[39;49;00m \u001b[35mnot\u001b[39;49;00m tag:\n",
      "   253             out = out + c\n",
      "   254 \n",
      "   255     \u001b[34mreturn\u001b[39;49;00m out\n"
     ]
    }
   ],
   "source": [
    "# ignore\n",
    "tag_deps.code()"
   ]
  },
  {
   "cell_type": "code",
   "execution_count": 52,
   "metadata": {
    "execution": {
     "iopub.execute_input": "2021-05-11T17:07:57.401998Z",
     "iopub.status.busy": "2021-05-11T17:07:57.401289Z",
     "iopub.status.idle": "2021-05-11T17:07:57.404166Z",
     "shell.execute_reply": "2021-05-11T17:07:57.404682Z"
    },
    "slideshow": {
     "slide_type": "subslide"
    }
   },
   "outputs": [
    {
     "data": {
      "text/html": [
       "\n",
       "    \n",
       "    <script>\n",
       "    var bad_answers = new Map();\n",
       "\n",
       "    function answer(quiz_id) {\n",
       "        ans = 0;\n",
       "        for (i = 1;; i++) {\n",
       "            checkbox = document.getElementById(quiz_id + \"-\" + i.toString());\n",
       "            if (!checkbox)\n",
       "                break;\n",
       "            if (checkbox.checked)\n",
       "                ans |= (1 << i);\n",
       "        }\n",
       "        return ans;\n",
       "    }\n",
       "    function check_selection(quiz_id, correct_answer, multiple_choice, hint) {\n",
       "        given_answer = answer(quiz_id);\n",
       "        if (given_answer == correct_answer)\n",
       "        {\n",
       "            document.getElementById(quiz_id + \"-submit\").value = \"Correct!\";\n",
       "            document.getElementById(quiz_id + \"-hint\").innerHTML = \"\";\n",
       "\n",
       "            for (i = 1;; i++) {\n",
       "                checkbox = document.getElementById(quiz_id + \"-\" + i.toString());\n",
       "                label = document.getElementById(quiz_id + \"-\" + i.toString() + \"-label\")\n",
       "                if (!checkbox)\n",
       "                    break;\n",
       "    \n",
       "                if (checkbox.checked) {\n",
       "                    label.style.fontWeight = \"bold\";\n",
       "                }\n",
       "                else {\n",
       "                    label.style.textDecoration = \"line-through\";\n",
       "                }\n",
       "            }\n",
       "        }\n",
       "        else \n",
       "        {\n",
       "            document.getElementById(quiz_id + \"-submit\").value = \"Try again\";\n",
       "            \n",
       "            if (!bad_answers.has(quiz_id)) {\n",
       "                bad_answers.set(quiz_id, 1);\n",
       "            }\n",
       "            else {\n",
       "                bad_answers.set(quiz_id, bad_answers.get(quiz_id) + 1);\n",
       "            }\n",
       "\n",
       "            if (bad_answers.get(quiz_id) >= 2 && hint.length > 0) {\n",
       "                document.getElementById(quiz_id + \"-hint\").innerHTML = \n",
       "                    \"&nbsp;&nbsp;(Hint: <code>\" + hint + \"</code>)\";\n",
       "            }\n",
       "\n",
       "            if (!multiple_choice) {\n",
       "                for (i = 1;; i++) {\n",
       "                    checkbox = document.getElementById(quiz_id + \"-\" + i.toString());\n",
       "                    label = document.getElementById(quiz_id + \"-\" + i.toString() + \"-label\")\n",
       "\n",
       "                    if (!checkbox)\n",
       "                        break;\n",
       "                    if (checkbox.checked) {\n",
       "                        label.style.textDecoration = \"line-through\";\n",
       "                    }\n",
       "                }\n",
       "            }\n",
       "        }\n",
       "    }\n",
       "    function clear_selection(quiz_id) {\n",
       "        document.getElementById(quiz_id + \"-submit\").value = \"Submit\";\n",
       "        document.getElementById(quiz_id + \"-hint\").innerHTML = \"\";\n",
       "    }\n",
       "    </script>\n",
       "    \n",
       "    <div class=\"quiz\">\n",
       "    <h3 class=\"quiz_title\">Quiz</h3>\n",
       "    <p>\n",
       "    <div class=\"quiz_question\">How does the slice of <code>tag = True</code> change for a different value of <code>s</code>?</div>\n",
       "    </p>\n",
       "    <p>\n",
       "    <div class=\"quiz_options\" title=\"Check all that apply.\">\n",
       "    \n",
       "        <input type=\"checkbox\" name=\"6ec3bc78-b27b-11eb-9732-acde48001122\" id=\"6ec3bc78-b27b-11eb-9732-acde48001122-1\" onclick=\"clear_selection('6ec3bc78-b27b-11eb-9732-acde48001122')\">\n",
       "        <label id=\"6ec3bc78-b27b-11eb-9732-acde48001122-1-label\" for=\"6ec3bc78-b27b-11eb-9732-acde48001122-1\">Not at all</label><br>\n",
       "    \n",
       "        <input type=\"checkbox\" name=\"6ec3bc78-b27b-11eb-9732-acde48001122\" id=\"6ec3bc78-b27b-11eb-9732-acde48001122-2\" onclick=\"clear_selection('6ec3bc78-b27b-11eb-9732-acde48001122')\">\n",
       "        <label id=\"6ec3bc78-b27b-11eb-9732-acde48001122-2-label\" for=\"6ec3bc78-b27b-11eb-9732-acde48001122-2\">If <code>s</code> contains a quote, the <code>quote</code> slice is included, too</label><br>\n",
       "    \n",
       "        <input type=\"checkbox\" name=\"6ec3bc78-b27b-11eb-9732-acde48001122\" id=\"6ec3bc78-b27b-11eb-9732-acde48001122-3\" onclick=\"clear_selection('6ec3bc78-b27b-11eb-9732-acde48001122')\">\n",
       "        <label id=\"6ec3bc78-b27b-11eb-9732-acde48001122-3-label\" for=\"6ec3bc78-b27b-11eb-9732-acde48001122-3\">If <code>s</code> contains no HTML tag, the slice will be empty</label><br>\n",
       "    \n",
       "    </div>\n",
       "    </p>\n",
       "    <input id=\"6ec3bc78-b27b-11eb-9732-acde48001122-submit\" type=\"submit\" value=\"Submit\" onclick=\"check_selection('6ec3bc78-b27b-11eb-9732-acde48001122', 12, 1, '[1, 2, 3][1:]')\">\n",
       "    <span class=\"quiz_hint\" id=\"6ec3bc78-b27b-11eb-9732-acde48001122-hint\"></span>\n",
       "    </div>\n",
       "    "
      ],
      "text/plain": [
       "<IPython.core.display.HTML object>"
      ]
     },
     "execution_count": 1,
     "metadata": {},
     "output_type": "execute_result"
    }
   ],
   "source": [
    "quiz(\"How does the slice of `tag = True` change \"\n",
    "     \"for a different value of `s`?\",\n",
    "    [\n",
    "        \"Not at all\",\n",
    "        \"If `s` contains a quote, the `quote` slice is included, too\",\n",
    "        \"If `s` contains no HTML tag, the slice will be empty\"\n",
    "    ], '[1, 2, 3][1:]')"
   ]
  },
  {
   "cell_type": "markdown",
   "metadata": {
    "slideshow": {
     "slide_type": "fragment"
    }
   },
   "source": [
    "Indeed, our dynamic slices reflect dependencies as they occurred within a single execution. As the execution changes, so do the dependencies."
   ]
  },
  {
   "cell_type": "markdown",
   "metadata": {
    "slideshow": {
     "slide_type": "slide"
    }
   },
   "source": [
    "## Tracking Techniques\n",
    "\n",
    "For the remainder of this chapter, let us investigate means to _determine such dependencies_ automatically – by _collecting_ them during program execution. The idea is that with a single Python call, we can collect the dependencies for some computation, and present them to programmers – as graphs or as code annotations, as shown above."
   ]
  },
  {
   "cell_type": "markdown",
   "metadata": {
    "slideshow": {
     "slide_type": "fragment"
    }
   },
   "source": [
    "To track dependencies, for every variable, we need to keep track of its _origins_ – where it obtained its value, and which tests controlled its assignments. There are two ways to do so:\n",
    "\n",
    "* Wrapping Data Objects\n",
    "* Wrapping Data Accesses"
   ]
  },
  {
   "cell_type": "markdown",
   "metadata": {
    "slideshow": {
     "slide_type": "subslide"
    }
   },
   "source": [
    "### Wrapping Data Objects"
   ]
  },
  {
   "cell_type": "markdown",
   "metadata": {
    "slideshow": {
     "slide_type": "subslide"
    }
   },
   "source": [
    "One way to track origins is to _wrap_ each value in a class that stores both a value and the origin of the value. If a variable `x` is initialized to zero in Line 3, for instance, we could store it as\n",
    "```\n",
    "x = (value=0, origin=<Line 3>)\n",
    "```\n",
    "and if it is copied in, say, Line 5 to another variable `y`, we could store this as\n",
    "```\n",
    "y = (value=0, origin=<Line 3, Line 5>)\n",
    "```\n",
    "Such a scheme would allow us to track origins and dependencies right within the variable."
   ]
  },
  {
   "cell_type": "markdown",
   "metadata": {
    "slideshow": {
     "slide_type": "subslide"
    }
   },
   "source": [
    "In a language like Python, it is actually possibly to subclass from basic types. Here's how we create a `MyInt` subclass of `int`:"
   ]
  },
  {
   "cell_type": "code",
   "execution_count": 53,
   "metadata": {
    "execution": {
     "iopub.execute_input": "2021-05-11T17:07:57.409573Z",
     "iopub.status.busy": "2021-05-11T17:07:57.408963Z",
     "iopub.status.idle": "2021-05-11T17:07:57.410913Z",
     "shell.execute_reply": "2021-05-11T17:07:57.411538Z"
    },
    "slideshow": {
     "slide_type": "fragment"
    }
   },
   "outputs": [],
   "source": [
    "class MyInt(int):\n",
    "    def __new__(cls: Type, value: Any, *args: Any, **kwargs: Any) -> Any:\n",
    "        return super(cls, cls).__new__(cls, value)\n",
    "\n",
    "    def __repr__(self) -> str:\n",
    "        return f\"{int(self)}\""
   ]
  },
  {
   "cell_type": "code",
   "execution_count": 54,
   "metadata": {
    "execution": {
     "iopub.execute_input": "2021-05-11T17:07:57.414902Z",
     "iopub.status.busy": "2021-05-11T17:07:57.414279Z",
     "iopub.status.idle": "2021-05-11T17:07:57.416084Z",
     "shell.execute_reply": "2021-05-11T17:07:57.416469Z"
    },
    "slideshow": {
     "slide_type": "fragment"
    }
   },
   "outputs": [],
   "source": [
    "n: MyInt = MyInt(5)"
   ]
  },
  {
   "cell_type": "markdown",
   "metadata": {
    "slideshow": {
     "slide_type": "fragment"
    }
   },
   "source": [
    "We can access `n` just like any integer:"
   ]
  },
  {
   "cell_type": "code",
   "execution_count": 55,
   "metadata": {
    "execution": {
     "iopub.execute_input": "2021-05-11T17:07:57.420138Z",
     "iopub.status.busy": "2021-05-11T17:07:57.419437Z",
     "iopub.status.idle": "2021-05-11T17:07:57.421847Z",
     "shell.execute_reply": "2021-05-11T17:07:57.422341Z"
    },
    "slideshow": {
     "slide_type": "fragment"
    }
   },
   "outputs": [
    {
     "data": {
      "text/plain": [
       "(5, 6)"
      ]
     },
     "execution_count": 1,
     "metadata": {},
     "output_type": "execute_result"
    }
   ],
   "source": [
    "n, n + 1"
   ]
  },
  {
   "cell_type": "markdown",
   "metadata": {
    "slideshow": {
     "slide_type": "fragment"
    }
   },
   "source": [
    "However, we can also add extra attributes to it:"
   ]
  },
  {
   "cell_type": "code",
   "execution_count": 56,
   "metadata": {
    "execution": {
     "iopub.execute_input": "2021-05-11T17:07:57.425649Z",
     "iopub.status.busy": "2021-05-11T17:07:57.425041Z",
     "iopub.status.idle": "2021-05-11T17:07:57.426824Z",
     "shell.execute_reply": "2021-05-11T17:07:57.427242Z"
    },
    "slideshow": {
     "slide_type": "fragment"
    }
   },
   "outputs": [],
   "source": [
    "n.origin = \"Line 5\"  # type: ignore"
   ]
  },
  {
   "cell_type": "code",
   "execution_count": 57,
   "metadata": {
    "execution": {
     "iopub.execute_input": "2021-05-11T17:07:57.430801Z",
     "iopub.status.busy": "2021-05-11T17:07:57.430132Z",
     "iopub.status.idle": "2021-05-11T17:07:57.432768Z",
     "shell.execute_reply": "2021-05-11T17:07:57.433152Z"
    },
    "slideshow": {
     "slide_type": "subslide"
    }
   },
   "outputs": [
    {
     "data": {
      "text/plain": [
       "'Line 5'"
      ]
     },
     "execution_count": 1,
     "metadata": {},
     "output_type": "execute_result"
    }
   ],
   "source": [
    "n.origin  # type: ignore"
   ]
  },
  {
   "cell_type": "markdown",
   "metadata": {
    "slideshow": {
     "slide_type": "subslide"
    }
   },
   "source": [
    "Such a \"wrapping\" scheme has the advantage of _leaving program code untouched_ – simply pass \"wrapped\" objects instead of the original values. However, it also has a number of drawbacks.\n",
    "\n",
    "* First, we must make sure that the \"wrapper\" objects are still compatible with the original values – notably by converting them back whenever needed. (What happens if an internal Python function expects an `int` and gets a `MyInt` instead?)\n",
    "* Second, we have to make sure that origins do not get lost during computations – which involves overloading operators such as `+`, `-`, `*`, and so on. (Right now, `MyInt(1) + 1` gives us an `int` object, not a `MyInt`.)\n",
    "* Third, we have to do this for _all_ data types of a language, which is pretty tedious.\n",
    "* Fourth and last, however, we want to track whenever a value is assigned to another variable. Python has no support for this, and thus our dependencies will necessarily be incomplete."
   ]
  },
  {
   "cell_type": "markdown",
   "metadata": {
    "slideshow": {
     "slide_type": "subslide"
    }
   },
   "source": [
    "### Wrapping Data Accesses"
   ]
  },
  {
   "cell_type": "markdown",
   "metadata": {
    "slideshow": {
     "slide_type": "subslide"
    }
   },
   "source": [
    "An alternate way of tracking origins is to _instrument_ the source code such that all _data read and write operations are tracked_. That is, the original data stays unchanged, but we change the code instead.\n",
    "\n",
    "In essence, for every occurrence of a variable `x` being _read_, we replace it with\n",
    "\n",
    "```python\n",
    "_data.get('x', x)  # returns x\n",
    "```\n",
    "\n",
    "and for every occurrence of a value being _written_ to `x`, we replace the value with\n",
    "\n",
    "```python\n",
    "_data.set('x', value)  # returns value\n",
    "```\n",
    "\n",
    "and let the `_data` object track these reads and writes.\n",
    "\n",
    "Hence, an assignment such as \n",
    "\n",
    "```python\n",
    "a = b + c\n",
    "```\n",
    "\n",
    "would get rewritten to\n",
    "\n",
    "```python\n",
    "a = _data.set('a', _data.get('b', b) + _data.get('c', c))\n",
    "```\n",
    "\n",
    "and with every access to `_data`, we would track \n",
    "\n",
    "1. the current _location_ in the code, and \n",
    "2. whether the respective variable was read or written.\n",
    "\n",
    "For the above statement, we could deduce that `b` and `c` were read, and `a` was written – which makes `a` data dependent on `b` and `c`."
   ]
  },
  {
   "cell_type": "markdown",
   "metadata": {
    "slideshow": {
     "slide_type": "subslide"
    }
   },
   "source": [
    "The advantage of such instrumentation is that it works with _arbitrary objects_ (in Python, that is) – we do not care whether `a`, `b`, and `c` would be integers, floats, strings, lists or any other type for which `+` would be defined. Also, the code semantics remain entirely unchanged.\n",
    "\n",
    "The disadvantage, however, is that it takes a bit of effort to exactly separate reads and writes into individual groups, and that a number of language features have to be handled separately. This is what we do in the remainder of this chapter."
   ]
  },
  {
   "cell_type": "markdown",
   "metadata": {
    "slideshow": {
     "slide_type": "slide"
    }
   },
   "source": [
    "## A Data Tracker\n",
    "\n",
    "To implement `_data` accesses as shown above, we introduce the `DataTracker` class. As its name suggests, it keeps track of variables being read and written, and provides methods to determine the code location where this took place."
   ]
  },
  {
   "cell_type": "code",
   "execution_count": 58,
   "metadata": {
    "execution": {
     "iopub.execute_input": "2021-05-11T17:07:57.437597Z",
     "iopub.status.busy": "2021-05-11T17:07:57.437014Z",
     "iopub.status.idle": "2021-05-11T17:07:57.439683Z",
     "shell.execute_reply": "2021-05-11T17:07:57.439240Z"
    },
    "slideshow": {
     "slide_type": "fragment"
    }
   },
   "outputs": [],
   "source": [
    "class DataTracker(StackInspector):\n",
    "    \"\"\"Track data accesses during execution\"\"\"\n",
    "\n",
    "    def __init__(self, log: bool = False) -> None:\n",
    "        \"\"\"Constructor. If `log` is set, turn on logging.\"\"\"\n",
    "        self.log = log"
   ]
  },
  {
   "cell_type": "markdown",
   "metadata": {
    "slideshow": {
     "slide_type": "subslide"
    }
   },
   "source": [
    "`set()` is invoked when a variable is set, as in\n",
    "\n",
    "```python\n",
    "pi = _data.set('pi', 3.1415)\n",
    "```\n",
    "\n",
    "By default, we simply log the access using name and value. (`loads` will be used later.)"
   ]
  },
  {
   "cell_type": "code",
   "execution_count": 59,
   "metadata": {
    "execution": {
     "iopub.execute_input": "2021-05-11T17:07:57.444731Z",
     "iopub.status.busy": "2021-05-11T17:07:57.444058Z",
     "iopub.status.idle": "2021-05-11T17:07:57.445664Z",
     "shell.execute_reply": "2021-05-11T17:07:57.446076Z"
    },
    "slideshow": {
     "slide_type": "subslide"
    }
   },
   "outputs": [],
   "source": [
    "class DataTracker(DataTracker):\n",
    "    def set(self, name: str, value: Any, loads: Optional[Set[str]] = None) -> Any:\n",
    "        \"\"\"Track setting `name` to `value`.\"\"\"\n",
    "        if self.log:\n",
    "            caller_func, lineno = self.caller_location()\n",
    "            print(f\"{caller_func.__name__}:{lineno}: setting {name}\")\n",
    "\n",
    "        return value"
   ]
  },
  {
   "cell_type": "markdown",
   "metadata": {
    "slideshow": {
     "slide_type": "fragment"
    }
   },
   "source": [
    "`get()` is invoked when a variable is retrieved, as in\n",
    "\n",
    "```python\n",
    "print(_data.get('pi', pi))\n",
    "```\n",
    "By default, we simply log the access."
   ]
  },
  {
   "cell_type": "code",
   "execution_count": 60,
   "metadata": {
    "execution": {
     "iopub.execute_input": "2021-05-11T17:07:57.450424Z",
     "iopub.status.busy": "2021-05-11T17:07:57.449879Z",
     "iopub.status.idle": "2021-05-11T17:07:57.451571Z",
     "shell.execute_reply": "2021-05-11T17:07:57.451965Z"
    },
    "slideshow": {
     "slide_type": "subslide"
    }
   },
   "outputs": [],
   "source": [
    "class DataTracker(DataTracker):\n",
    "    def get(self, name: str, value: Any) -> Any:\n",
    "        \"\"\"Track getting `value` from `name`.\"\"\"\n",
    "\n",
    "        if self.log:\n",
    "            caller_func, lineno = self.caller_location()\n",
    "            print(f\"{caller_func.__name__}:{lineno}: getting {name}\")\n",
    "\n",
    "        return value"
   ]
  },
  {
   "cell_type": "markdown",
   "metadata": {
    "slideshow": {
     "slide_type": "fragment"
    }
   },
   "source": [
    "Here's an example of a logging `DataTracker`:"
   ]
  },
  {
   "cell_type": "code",
   "execution_count": 61,
   "metadata": {
    "execution": {
     "iopub.execute_input": "2021-05-11T17:07:57.455809Z",
     "iopub.status.busy": "2021-05-11T17:07:57.454956Z",
     "iopub.status.idle": "2021-05-11T17:07:57.457312Z",
     "shell.execute_reply": "2021-05-11T17:07:57.457684Z"
    },
    "slideshow": {
     "slide_type": "fragment"
    }
   },
   "outputs": [
    {
     "name": "stdout",
     "output_type": "stream",
     "text": [
      "<module>:2: setting x\n"
     ]
    }
   ],
   "source": [
    "_test_data = DataTracker(log=True)\n",
    "x = _test_data.set('x', 1)"
   ]
  },
  {
   "cell_type": "code",
   "execution_count": 62,
   "metadata": {
    "execution": {
     "iopub.execute_input": "2021-05-11T17:07:57.461871Z",
     "iopub.status.busy": "2021-05-11T17:07:57.461248Z",
     "iopub.status.idle": "2021-05-11T17:07:57.464465Z",
     "shell.execute_reply": "2021-05-11T17:07:57.464899Z"
    },
    "slideshow": {
     "slide_type": "subslide"
    }
   },
   "outputs": [
    {
     "name": "stdout",
     "output_type": "stream",
     "text": [
      "<module>:1: getting x\n"
     ]
    },
    {
     "data": {
      "text/plain": [
       "1"
      ]
     },
     "execution_count": 1,
     "metadata": {},
     "output_type": "execute_result"
    }
   ],
   "source": [
    "_test_data.get('x', x)"
   ]
  },
  {
   "cell_type": "markdown",
   "metadata": {
    "slideshow": {
     "slide_type": "slide"
    }
   },
   "source": [
    "## Instrumenting Source Code\n",
    "\n",
    "How do we transform source code such that read and write accesses to variables would be automatically rewritten?  To this end, we inspect the internal representation of source code, namely the _abstract syntax trees_ (ASTs). An AST represents the code as a tree, with specific node types for each syntactical element."
   ]
  },
  {
   "cell_type": "code",
   "execution_count": 63,
   "metadata": {
    "execution": {
     "iopub.execute_input": "2021-05-11T17:07:57.468328Z",
     "iopub.status.busy": "2021-05-11T17:07:57.467702Z",
     "iopub.status.idle": "2021-05-11T17:07:57.469357Z",
     "shell.execute_reply": "2021-05-11T17:07:57.469742Z"
    },
    "slideshow": {
     "slide_type": "skip"
    }
   },
   "outputs": [],
   "source": [
    "import ast\n",
    "import astor"
   ]
  },
  {
   "cell_type": "code",
   "execution_count": 64,
   "metadata": {
    "execution": {
     "iopub.execute_input": "2021-05-11T17:07:57.473431Z",
     "iopub.status.busy": "2021-05-11T17:07:57.472728Z",
     "iopub.status.idle": "2021-05-11T17:07:57.474289Z",
     "shell.execute_reply": "2021-05-11T17:07:57.474668Z"
    },
    "slideshow": {
     "slide_type": "skip"
    }
   },
   "outputs": [],
   "source": [
    "from bookutils import show_ast"
   ]
  },
  {
   "cell_type": "markdown",
   "metadata": {
    "slideshow": {
     "slide_type": "fragment"
    }
   },
   "source": [
    "Here is the tree representation for our `middle()` function. It starts with a `FunctionDef` node at the top (with the name `\"middle\"` and the three arguments `x`, `y`, `z` as children), followed by a subtree for each of the `If` statements, each of which contains a branch for when their condition evaluates to `True` and a branch for when their condition evaluates to `False`."
   ]
  },
  {
   "cell_type": "code",
   "execution_count": 65,
   "metadata": {
    "execution": {
     "iopub.execute_input": "2021-05-11T17:07:57.478131Z",
     "iopub.status.busy": "2021-05-11T17:07:57.477502Z",
     "iopub.status.idle": "2021-05-11T17:07:58.250199Z",
     "shell.execute_reply": "2021-05-11T17:07:58.250634Z"
    },
    "slideshow": {
     "slide_type": "subslide"
    }
   },
   "outputs": [
    {
     "data": {
      "image/svg+xml": [
       "<svg height=\"476pt\" viewBox=\"0.00 0.00 1862.00 476.00\" width=\"1862pt\" xmlns=\"http://www.w3.org/2000/svg\" xmlns:xlink=\"http://www.w3.org/1999/xlink\">\n",
       "<g class=\"graph\" id=\"graph0\" transform=\"scale(1 1) rotate(0) translate(4 472)\">\n",
       "<title>%3</title>\n",
       "<polygon fill=\"#ffffff\" points=\"-4,4 -4,-472 1858,-472 1858,4 -4,4\" stroke=\"transparent\"/>\n",
       "<!-- 0 -->\n",
       "<g class=\"node\" id=\"node1\">\n",
       "<title>0</title>\n",
       "<text fill=\"#004080\" font-family=\"Courier,monospace\" font-size=\"14.00\" font-weight=\"bold\" text-anchor=\"start\" x=\"196.5\" y=\"-447.3\">FunctionDef</text>\n",
       "</g>\n",
       "<!-- 1 -->\n",
       "<g class=\"node\" id=\"node2\">\n",
       "<title>1</title>\n",
       "<text fill=\"#008040\" font-family=\"Courier,monospace\" font-size=\"14.00\" text-anchor=\"middle\" x=\"65\" y=\"-374.3\">&quot;middle&quot;</text>\n",
       "</g>\n",
       "<!-- 0&#45;&#45;1 -->\n",
       "<g class=\"edge\" id=\"edge1\">\n",
       "<title>0--1</title>\n",
       "<path d=\"M247,-432C247,-432 173.6167,-414.0594 116,-396 113.1329,-395.1013 110.1857,-394.1461 107.2233,-393.1625\" fill=\"none\" stroke=\"#000000\"/>\n",
       "</g>\n",
       "<!-- 2 -->\n",
       "<g class=\"node\" id=\"node3\">\n",
       "<title>2</title>\n",
       "<text fill=\"#004080\" font-family=\"Courier,monospace\" font-size=\"14.00\" font-weight=\"bold\" text-anchor=\"start\" x=\"133\" y=\"-375.3\">arguments</text>\n",
       "</g>\n",
       "<!-- 0&#45;&#45;2 -->\n",
       "<g class=\"edge\" id=\"edge2\">\n",
       "<title>0--2</title>\n",
       "<path d=\"M247,-432C247,-432 218.7783,-411.9478 196.7301,-396.2819\" fill=\"none\" stroke=\"#000000\"/>\n",
       "</g>\n",
       "<!-- 9 -->\n",
       "<g class=\"node\" id=\"node10\">\n",
       "<title>9</title>\n",
       "<text fill=\"#004080\" font-family=\"Courier,monospace\" font-size=\"14.00\" font-weight=\"bold\" text-anchor=\"start\" x=\"464.5\" y=\"-375.3\">If</text>\n",
       "</g>\n",
       "<!-- 0&#45;&#45;9 -->\n",
       "<g class=\"edge\" id=\"edge9\">\n",
       "<title>0--9</title>\n",
       "<path d=\"M247,-432C247,-432 385.63,-398.876 445.7391,-384.5137\" fill=\"none\" stroke=\"#000000\"/>\n",
       "</g>\n",
       "<!-- 70 -->\n",
       "<g class=\"node\" id=\"node71\">\n",
       "<title>70</title>\n",
       "<text fill=\"#004080\" font-family=\"Courier,monospace\" font-size=\"14.00\" font-weight=\"bold\" text-anchor=\"start\" x=\"1129.5\" y=\"-375.3\">Return</text>\n",
       "</g>\n",
       "<!-- 0&#45;&#45;70 -->\n",
       "<g class=\"edge\" id=\"edge70\">\n",
       "<title>0--70</title>\n",
       "<path d=\"M247,-432C247,-432 957.0073,-389.7749 1121.3352,-380.0021\" fill=\"none\" stroke=\"#000000\"/>\n",
       "</g>\n",
       "<!-- 3 -->\n",
       "<g class=\"node\" id=\"node4\">\n",
       "<title>3</title>\n",
       "<text fill=\"#004080\" font-family=\"Courier,monospace\" font-size=\"14.00\" font-weight=\"bold\" text-anchor=\"start\" x=\"14\" y=\"-303.3\">arg</text>\n",
       "</g>\n",
       "<!-- 2&#45;&#45;3 -->\n",
       "<g class=\"edge\" id=\"edge3\">\n",
       "<title>2--3</title>\n",
       "<path d=\"M157,-360C157,-360 103.9448,-342.025 63,-324 60.186,-322.7612 57.2759,-321.4165 54.3857,-320.0389\" fill=\"none\" stroke=\"#000000\"/>\n",
       "</g>\n",
       "<!-- 5 -->\n",
       "<g class=\"node\" id=\"node6\">\n",
       "<title>5</title>\n",
       "<text fill=\"#004080\" font-family=\"Courier,monospace\" font-size=\"14.00\" font-weight=\"bold\" text-anchor=\"start\" x=\"86\" y=\"-303.3\">arg</text>\n",
       "</g>\n",
       "<!-- 2&#45;&#45;5 -->\n",
       "<g class=\"edge\" id=\"edge5\">\n",
       "<title>2--5</title>\n",
       "<path d=\"M157,-360C157,-360 135.4624,-339.9478 118.6362,-324.2819\" fill=\"none\" stroke=\"#000000\"/>\n",
       "</g>\n",
       "<!-- 7 -->\n",
       "<g class=\"node\" id=\"node8\">\n",
       "<title>7</title>\n",
       "<text fill=\"#004080\" font-family=\"Courier,monospace\" font-size=\"14.00\" font-weight=\"bold\" text-anchor=\"start\" x=\"158\" y=\"-303.3\">arg</text>\n",
       "</g>\n",
       "<!-- 2&#45;&#45;7 -->\n",
       "<g class=\"edge\" id=\"edge7\">\n",
       "<title>2--7</title>\n",
       "<path d=\"M157,-360C157,-360 162.1987,-339.9478 166.2602,-324.2819\" fill=\"none\" stroke=\"#000000\"/>\n",
       "</g>\n",
       "<!-- 4 -->\n",
       "<g class=\"node\" id=\"node5\">\n",
       "<title>4</title>\n",
       "<text fill=\"#008040\" font-family=\"Courier,monospace\" font-size=\"14.00\" text-anchor=\"middle\" x=\"27\" y=\"-230.3\">&quot;x&quot;</text>\n",
       "</g>\n",
       "<!-- 3&#45;&#45;4 -->\n",
       "<g class=\"edge\" id=\"edge4\">\n",
       "<title>3--4</title>\n",
       "<path d=\"M27,-287.8314C27,-277 27,-263.2876 27,-252.4133\" fill=\"none\" stroke=\"#000000\"/>\n",
       "</g>\n",
       "<!-- 6 -->\n",
       "<g class=\"node\" id=\"node7\">\n",
       "<title>6</title>\n",
       "<text fill=\"#008040\" font-family=\"Courier,monospace\" font-size=\"14.00\" text-anchor=\"middle\" x=\"99\" y=\"-230.3\">&quot;y&quot;</text>\n",
       "</g>\n",
       "<!-- 5&#45;&#45;6 -->\n",
       "<g class=\"edge\" id=\"edge6\">\n",
       "<title>5--6</title>\n",
       "<path d=\"M99,-287.8314C99,-277 99,-263.2876 99,-252.4133\" fill=\"none\" stroke=\"#000000\"/>\n",
       "</g>\n",
       "<!-- 8 -->\n",
       "<g class=\"node\" id=\"node9\">\n",
       "<title>8</title>\n",
       "<text fill=\"#008040\" font-family=\"Courier,monospace\" font-size=\"14.00\" text-anchor=\"middle\" x=\"171\" y=\"-230.3\">&quot;z&quot;</text>\n",
       "</g>\n",
       "<!-- 7&#45;&#45;8 -->\n",
       "<g class=\"edge\" id=\"edge8\">\n",
       "<title>7--8</title>\n",
       "<path d=\"M171,-287.8314C171,-277 171,-263.2876 171,-252.4133\" fill=\"none\" stroke=\"#000000\"/>\n",
       "</g>\n",
       "<!-- 10 -->\n",
       "<g class=\"node\" id=\"node11\">\n",
       "<title>10</title>\n",
       "<text fill=\"#004080\" font-family=\"Courier,monospace\" font-size=\"14.00\" font-weight=\"bold\" text-anchor=\"start\" x=\"321.5\" y=\"-303.3\">Compare</text>\n",
       "</g>\n",
       "<!-- 9&#45;&#45;10 -->\n",
       "<g class=\"edge\" id=\"edge10\">\n",
       "<title>9--10</title>\n",
       "<path d=\"M490,-360C490,-360 429.7808,-336.6055 388.6154,-320.6132\" fill=\"none\" stroke=\"#000000\"/>\n",
       "</g>\n",
       "<!-- 18 -->\n",
       "<g class=\"node\" id=\"node19\">\n",
       "<title>18</title>\n",
       "<text fill=\"#004080\" font-family=\"Courier,monospace\" font-size=\"14.00\" font-weight=\"bold\" text-anchor=\"start\" x=\"594.5\" y=\"-303.3\">If</text>\n",
       "</g>\n",
       "<!-- 9&#45;&#45;18 -->\n",
       "<g class=\"edge\" id=\"edge18\">\n",
       "<title>9--18</title>\n",
       "<path d=\"M490,-360C490,-360 542.5036,-334.9098 575.9337,-318.9343\" fill=\"none\" stroke=\"#000000\"/>\n",
       "</g>\n",
       "<!-- 44 -->\n",
       "<g class=\"node\" id=\"node45\">\n",
       "<title>44</title>\n",
       "<text fill=\"#004080\" font-family=\"Courier,monospace\" font-size=\"14.00\" font-weight=\"bold\" text-anchor=\"start\" x=\"1314.5\" y=\"-303.3\">If</text>\n",
       "</g>\n",
       "<!-- 9&#45;&#45;44 -->\n",
       "<g class=\"edge\" id=\"edge44\">\n",
       "<title>9--44</title>\n",
       "<path d=\"M490,-360C490,-360 1152.1961,-317.0725 1295.7582,-307.766\" fill=\"none\" stroke=\"#000000\"/>\n",
       "</g>\n",
       "<!-- 11 -->\n",
       "<g class=\"node\" id=\"node12\">\n",
       "<title>11</title>\n",
       "<text fill=\"#004080\" font-family=\"Courier,monospace\" font-size=\"14.00\" font-weight=\"bold\" text-anchor=\"start\" x=\"226\" y=\"-231.3\">Name</text>\n",
       "</g>\n",
       "<!-- 10&#45;&#45;11 -->\n",
       "<g class=\"edge\" id=\"edge11\">\n",
       "<title>10--11</title>\n",
       "<path d=\"M345,-288C345,-288 300.2843,-264.327 270.0663,-248.3292\" fill=\"none\" stroke=\"#000000\"/>\n",
       "</g>\n",
       "<!-- 14 -->\n",
       "<g class=\"node\" id=\"node15\">\n",
       "<title>14</title>\n",
       "<text fill=\"#008040\" font-family=\"Courier,monospace\" font-size=\"14.00\" text-anchor=\"middle\" x=\"315\" y=\"-230.3\">Lt</text>\n",
       "</g>\n",
       "<!-- 10&#45;&#45;14 -->\n",
       "<g class=\"edge\" id=\"edge14\">\n",
       "<title>10--14</title>\n",
       "<path d=\"M345,-288C345,-288 333.8599,-267.9478 325.1566,-252.2819\" fill=\"none\" stroke=\"#000000\"/>\n",
       "</g>\n",
       "<!-- 15 -->\n",
       "<g class=\"node\" id=\"node16\">\n",
       "<title>15</title>\n",
       "<text fill=\"#004080\" font-family=\"Courier,monospace\" font-size=\"14.00\" font-weight=\"bold\" text-anchor=\"start\" x=\"370\" y=\"-231.3\">Name</text>\n",
       "</g>\n",
       "<!-- 10&#45;&#45;15 -->\n",
       "<g class=\"edge\" id=\"edge15\">\n",
       "<title>10--15</title>\n",
       "<path d=\"M345,-288C345,-288 360.5962,-267.9478 372.7807,-252.2819\" fill=\"none\" stroke=\"#000000\"/>\n",
       "</g>\n",
       "<!-- 12 -->\n",
       "<g class=\"node\" id=\"node13\">\n",
       "<title>12</title>\n",
       "<text fill=\"#008040\" font-family=\"Courier,monospace\" font-size=\"14.00\" text-anchor=\"middle\" x=\"171\" y=\"-158.3\">&quot;y&quot;</text>\n",
       "</g>\n",
       "<!-- 11&#45;&#45;12 -->\n",
       "<g class=\"edge\" id=\"edge12\">\n",
       "<title>11--12</title>\n",
       "<path d=\"M235,-216C235,-216 211.2344,-195.9478 192.6675,-180.2819\" fill=\"none\" stroke=\"#000000\"/>\n",
       "</g>\n",
       "<!-- 13 -->\n",
       "<g class=\"node\" id=\"node14\">\n",
       "<title>13</title>\n",
       "<text fill=\"#008040\" font-family=\"Courier,monospace\" font-size=\"14.00\" text-anchor=\"middle\" x=\"243\" y=\"-158.3\">Load</text>\n",
       "</g>\n",
       "<!-- 11&#45;&#45;13 -->\n",
       "<g class=\"edge\" id=\"edge13\">\n",
       "<title>11--13</title>\n",
       "<path d=\"M235,-216C235,-216 237.9707,-195.9478 240.2916,-180.2819\" fill=\"none\" stroke=\"#000000\"/>\n",
       "</g>\n",
       "<!-- 16 -->\n",
       "<g class=\"node\" id=\"node17\">\n",
       "<title>16</title>\n",
       "<text fill=\"#008040\" font-family=\"Courier,monospace\" font-size=\"14.00\" text-anchor=\"middle\" x=\"315\" y=\"-158.3\">&quot;z&quot;</text>\n",
       "</g>\n",
       "<!-- 15&#45;&#45;16 -->\n",
       "<g class=\"edge\" id=\"edge16\">\n",
       "<title>15--16</title>\n",
       "<path d=\"M379,-216C379,-216 355.2344,-195.9478 336.6675,-180.2819\" fill=\"none\" stroke=\"#000000\"/>\n",
       "</g>\n",
       "<!-- 17 -->\n",
       "<g class=\"node\" id=\"node18\">\n",
       "<title>17</title>\n",
       "<text fill=\"#008040\" font-family=\"Courier,monospace\" font-size=\"14.00\" text-anchor=\"middle\" x=\"387\" y=\"-158.3\">Load</text>\n",
       "</g>\n",
       "<!-- 15&#45;&#45;17 -->\n",
       "<g class=\"edge\" id=\"edge17\">\n",
       "<title>15--17</title>\n",
       "<path d=\"M379,-216C379,-216 381.9707,-195.9478 384.2916,-180.2819\" fill=\"none\" stroke=\"#000000\"/>\n",
       "</g>\n",
       "<!-- 19 -->\n",
       "<g class=\"node\" id=\"node20\">\n",
       "<title>19</title>\n",
       "<text fill=\"#004080\" font-family=\"Courier,monospace\" font-size=\"14.00\" font-weight=\"bold\" text-anchor=\"start\" x=\"515.5\" y=\"-231.3\">Compare</text>\n",
       "</g>\n",
       "<!-- 18&#45;&#45;19 -->\n",
       "<g class=\"edge\" id=\"edge19\">\n",
       "<title>18--19</title>\n",
       "<path d=\"M613,-288C613,-288 587.749,-267.9478 568.0217,-252.2819\" fill=\"none\" stroke=\"#000000\"/>\n",
       "</g>\n",
       "<!-- 27 -->\n",
       "<g class=\"node\" id=\"node28\">\n",
       "<title>27</title>\n",
       "<text fill=\"#004080\" font-family=\"Courier,monospace\" font-size=\"14.00\" font-weight=\"bold\" text-anchor=\"start\" x=\"635.5\" y=\"-231.3\">Return</text>\n",
       "</g>\n",
       "<!-- 18&#45;&#45;27 -->\n",
       "<g class=\"edge\" id=\"edge27\">\n",
       "<title>18--27</title>\n",
       "<path d=\"M613,-288C613,-288 630.8242,-267.9478 644.7494,-252.2819\" fill=\"none\" stroke=\"#000000\"/>\n",
       "</g>\n",
       "<!-- 31 -->\n",
       "<g class=\"node\" id=\"node32\">\n",
       "<title>31</title>\n",
       "<text fill=\"#004080\" font-family=\"Courier,monospace\" font-size=\"14.00\" font-weight=\"bold\" text-anchor=\"start\" x=\"882.5\" y=\"-231.3\">If</text>\n",
       "</g>\n",
       "<!-- 18&#45;&#45;31 -->\n",
       "<g class=\"edge\" id=\"edge31\">\n",
       "<title>18--31</title>\n",
       "<path d=\"M613,-288C613,-288 793.886,-252.8639 863.838,-239.2761\" fill=\"none\" stroke=\"#000000\"/>\n",
       "</g>\n",
       "<!-- 20 -->\n",
       "<g class=\"node\" id=\"node21\">\n",
       "<title>20</title>\n",
       "<text fill=\"#004080\" font-family=\"Courier,monospace\" font-size=\"14.00\" font-weight=\"bold\" text-anchor=\"start\" x=\"442\" y=\"-159.3\">Name</text>\n",
       "</g>\n",
       "<!-- 19&#45;&#45;20 -->\n",
       "<g class=\"edge\" id=\"edge20\">\n",
       "<title>19--20</title>\n",
       "<path d=\"M542,-216C542,-216 510.3836,-195.4303 486.1773,-179.6816\" fill=\"none\" stroke=\"#000000\"/>\n",
       "</g>\n",
       "<!-- 23 -->\n",
       "<g class=\"node\" id=\"node24\">\n",
       "<title>23</title>\n",
       "<text fill=\"#008040\" font-family=\"Courier,monospace\" font-size=\"14.00\" text-anchor=\"middle\" x=\"531\" y=\"-158.3\">Lt</text>\n",
       "</g>\n",
       "<!-- 19&#45;&#45;23 -->\n",
       "<g class=\"edge\" id=\"edge23\">\n",
       "<title>19--23</title>\n",
       "<path d=\"M542,-216C542,-216 537.9153,-195.9478 534.7241,-180.2819\" fill=\"none\" stroke=\"#000000\"/>\n",
       "</g>\n",
       "<!-- 24 -->\n",
       "<g class=\"node\" id=\"node25\">\n",
       "<title>24</title>\n",
       "<text fill=\"#004080\" font-family=\"Courier,monospace\" font-size=\"14.00\" font-weight=\"bold\" text-anchor=\"start\" x=\"586\" y=\"-159.3\">Name</text>\n",
       "</g>\n",
       "<!-- 19&#45;&#45;24 -->\n",
       "<g class=\"edge\" id=\"edge24\">\n",
       "<title>19--24</title>\n",
       "<path d=\"M542,-216C542,-216 564.6516,-195.9478 582.3482,-180.2819\" fill=\"none\" stroke=\"#000000\"/>\n",
       "</g>\n",
       "<!-- 21 -->\n",
       "<g class=\"node\" id=\"node22\">\n",
       "<title>21</title>\n",
       "<text fill=\"#008040\" font-family=\"Courier,monospace\" font-size=\"14.00\" text-anchor=\"middle\" x=\"387\" y=\"-86.3\">&quot;x&quot;</text>\n",
       "</g>\n",
       "<!-- 20&#45;&#45;21 -->\n",
       "<g class=\"edge\" id=\"edge21\">\n",
       "<title>20--21</title>\n",
       "<path d=\"M451,-144C451,-144 427.2344,-123.9478 408.6675,-108.2819\" fill=\"none\" stroke=\"#000000\"/>\n",
       "</g>\n",
       "<!-- 22 -->\n",
       "<g class=\"node\" id=\"node23\">\n",
       "<title>22</title>\n",
       "<text fill=\"#008040\" font-family=\"Courier,monospace\" font-size=\"14.00\" text-anchor=\"middle\" x=\"459\" y=\"-86.3\">Load</text>\n",
       "</g>\n",
       "<!-- 20&#45;&#45;22 -->\n",
       "<g class=\"edge\" id=\"edge22\">\n",
       "<title>20--22</title>\n",
       "<path d=\"M451,-144C451,-144 453.9707,-123.9478 456.2916,-108.2819\" fill=\"none\" stroke=\"#000000\"/>\n",
       "</g>\n",
       "<!-- 25 -->\n",
       "<g class=\"node\" id=\"node26\">\n",
       "<title>25</title>\n",
       "<text fill=\"#008040\" font-family=\"Courier,monospace\" font-size=\"14.00\" text-anchor=\"middle\" x=\"531\" y=\"-86.3\">&quot;y&quot;</text>\n",
       "</g>\n",
       "<!-- 24&#45;&#45;25 -->\n",
       "<g class=\"edge\" id=\"edge25\">\n",
       "<title>24--25</title>\n",
       "<path d=\"M595,-144C595,-144 571.2344,-123.9478 552.6675,-108.2819\" fill=\"none\" stroke=\"#000000\"/>\n",
       "</g>\n",
       "<!-- 26 -->\n",
       "<g class=\"node\" id=\"node27\">\n",
       "<title>26</title>\n",
       "<text fill=\"#008040\" font-family=\"Courier,monospace\" font-size=\"14.00\" text-anchor=\"middle\" x=\"603\" y=\"-86.3\">Load</text>\n",
       "</g>\n",
       "<!-- 24&#45;&#45;26 -->\n",
       "<g class=\"edge\" id=\"edge26\">\n",
       "<title>24--26</title>\n",
       "<path d=\"M595,-144C595,-144 597.9707,-123.9478 600.2916,-108.2819\" fill=\"none\" stroke=\"#000000\"/>\n",
       "</g>\n",
       "<!-- 28 -->\n",
       "<g class=\"node\" id=\"node29\">\n",
       "<title>28</title>\n",
       "<text fill=\"#004080\" font-family=\"Courier,monospace\" font-size=\"14.00\" font-weight=\"bold\" text-anchor=\"start\" x=\"658\" y=\"-159.3\">Name</text>\n",
       "</g>\n",
       "<!-- 27&#45;&#45;28 -->\n",
       "<g class=\"edge\" id=\"edge28\">\n",
       "<title>27--28</title>\n",
       "<path d=\"M664.5328,-215.8314C666.6389,-205 669.3052,-191.2876 671.4196,-180.4133\" fill=\"none\" stroke=\"#000000\"/>\n",
       "</g>\n",
       "<!-- 29 -->\n",
       "<g class=\"node\" id=\"node30\">\n",
       "<title>29</title>\n",
       "<text fill=\"#008040\" font-family=\"Courier,monospace\" font-size=\"14.00\" text-anchor=\"middle\" x=\"675\" y=\"-86.3\">&quot;y&quot;</text>\n",
       "</g>\n",
       "<!-- 28&#45;&#45;29 -->\n",
       "<g class=\"edge\" id=\"edge29\">\n",
       "<title>28--29</title>\n",
       "<path d=\"M683,-144C683,-144 680.0293,-123.9478 677.7084,-108.2819\" fill=\"none\" stroke=\"#000000\"/>\n",
       "</g>\n",
       "<!-- 30 -->\n",
       "<g class=\"node\" id=\"node31\">\n",
       "<title>30</title>\n",
       "<text fill=\"#008040\" font-family=\"Courier,monospace\" font-size=\"14.00\" text-anchor=\"middle\" x=\"747\" y=\"-86.3\">Load</text>\n",
       "</g>\n",
       "<!-- 28&#45;&#45;30 -->\n",
       "<g class=\"edge\" id=\"edge30\">\n",
       "<title>28--30</title>\n",
       "<path d=\"M683,-144C683,-144 706.7656,-123.9478 725.3325,-108.2819\" fill=\"none\" stroke=\"#000000\"/>\n",
       "</g>\n",
       "<!-- 32 -->\n",
       "<g class=\"node\" id=\"node33\">\n",
       "<title>32</title>\n",
       "<text fill=\"#004080\" font-family=\"Courier,monospace\" font-size=\"14.00\" font-weight=\"bold\" text-anchor=\"start\" x=\"861.5\" y=\"-159.3\">Compare</text>\n",
       "</g>\n",
       "<!-- 31&#45;&#45;32 -->\n",
       "<g class=\"edge\" id=\"edge32\">\n",
       "<title>31--32</title>\n",
       "<path d=\"M901,-216C901,-216 897.2866,-195.9478 894.3855,-180.2819\" fill=\"none\" stroke=\"#000000\"/>\n",
       "</g>\n",
       "<!-- 40 -->\n",
       "<g class=\"node\" id=\"node41\">\n",
       "<title>40</title>\n",
       "<text fill=\"#004080\" font-family=\"Courier,monospace\" font-size=\"14.00\" font-weight=\"bold\" text-anchor=\"start\" x=\"982.5\" y=\"-159.3\">Return</text>\n",
       "</g>\n",
       "<!-- 31&#45;&#45;40 -->\n",
       "<g class=\"edge\" id=\"edge40\">\n",
       "<title>31--40</title>\n",
       "<path d=\"M901,-216C901,-216 943.0585,-194.7742 974.4381,-178.9378\" fill=\"none\" stroke=\"#000000\"/>\n",
       "</g>\n",
       "<!-- 33 -->\n",
       "<g class=\"node\" id=\"node34\">\n",
       "<title>33</title>\n",
       "<text fill=\"#004080\" font-family=\"Courier,monospace\" font-size=\"14.00\" font-weight=\"bold\" text-anchor=\"start\" x=\"802\" y=\"-87.3\">Name</text>\n",
       "</g>\n",
       "<!-- 32&#45;&#45;33 -->\n",
       "<g class=\"edge\" id=\"edge33\">\n",
       "<title>32--33</title>\n",
       "<path d=\"M891,-144C891,-144 864.2637,-123.9478 843.3759,-108.2819\" fill=\"none\" stroke=\"#000000\"/>\n",
       "</g>\n",
       "<!-- 36 -->\n",
       "<g class=\"node\" id=\"node37\">\n",
       "<title>36</title>\n",
       "<text fill=\"#008040\" font-family=\"Courier,monospace\" font-size=\"14.00\" text-anchor=\"middle\" x=\"891\" y=\"-86.3\">Lt</text>\n",
       "</g>\n",
       "<!-- 32&#45;&#45;36 -->\n",
       "<g class=\"edge\" id=\"edge36\">\n",
       "<title>32--36</title>\n",
       "<path d=\"M891,-144C891,-144 891,-123.9478 891,-108.2819\" fill=\"none\" stroke=\"#000000\"/>\n",
       "</g>\n",
       "<!-- 37 -->\n",
       "<g class=\"node\" id=\"node38\">\n",
       "<title>37</title>\n",
       "<text fill=\"#004080\" font-family=\"Courier,monospace\" font-size=\"14.00\" font-weight=\"bold\" text-anchor=\"start\" x=\"946\" y=\"-87.3\">Name</text>\n",
       "</g>\n",
       "<!-- 32&#45;&#45;37 -->\n",
       "<g class=\"edge\" id=\"edge37\">\n",
       "<title>32--37</title>\n",
       "<path d=\"M891,-144C891,-144 917.7363,-123.9478 938.6241,-108.2819\" fill=\"none\" stroke=\"#000000\"/>\n",
       "</g>\n",
       "<!-- 34 -->\n",
       "<g class=\"node\" id=\"node35\">\n",
       "<title>34</title>\n",
       "<text fill=\"#008040\" font-family=\"Courier,monospace\" font-size=\"14.00\" text-anchor=\"middle\" x=\"747\" y=\"-14.3\">&quot;x&quot;</text>\n",
       "</g>\n",
       "<!-- 33&#45;&#45;34 -->\n",
       "<g class=\"edge\" id=\"edge34\">\n",
       "<title>33--34</title>\n",
       "<path d=\"M811,-72C811,-72 787.2344,-51.9478 768.6675,-36.2819\" fill=\"none\" stroke=\"#000000\"/>\n",
       "</g>\n",
       "<!-- 35 -->\n",
       "<g class=\"node\" id=\"node36\">\n",
       "<title>35</title>\n",
       "<text fill=\"#008040\" font-family=\"Courier,monospace\" font-size=\"14.00\" text-anchor=\"middle\" x=\"819\" y=\"-14.3\">Load</text>\n",
       "</g>\n",
       "<!-- 33&#45;&#45;35 -->\n",
       "<g class=\"edge\" id=\"edge35\">\n",
       "<title>33--35</title>\n",
       "<path d=\"M811,-72C811,-72 813.9707,-51.9478 816.2916,-36.2819\" fill=\"none\" stroke=\"#000000\"/>\n",
       "</g>\n",
       "<!-- 38 -->\n",
       "<g class=\"node\" id=\"node39\">\n",
       "<title>38</title>\n",
       "<text fill=\"#008040\" font-family=\"Courier,monospace\" font-size=\"14.00\" text-anchor=\"middle\" x=\"891\" y=\"-14.3\">&quot;z&quot;</text>\n",
       "</g>\n",
       "<!-- 37&#45;&#45;38 -->\n",
       "<g class=\"edge\" id=\"edge38\">\n",
       "<title>37--38</title>\n",
       "<path d=\"M955,-72C955,-72 931.2344,-51.9478 912.6675,-36.2819\" fill=\"none\" stroke=\"#000000\"/>\n",
       "</g>\n",
       "<!-- 39 -->\n",
       "<g class=\"node\" id=\"node40\">\n",
       "<title>39</title>\n",
       "<text fill=\"#008040\" font-family=\"Courier,monospace\" font-size=\"14.00\" text-anchor=\"middle\" x=\"963\" y=\"-14.3\">Load</text>\n",
       "</g>\n",
       "<!-- 37&#45;&#45;39 -->\n",
       "<g class=\"edge\" id=\"edge39\">\n",
       "<title>37--39</title>\n",
       "<path d=\"M955,-72C955,-72 957.9707,-51.9478 960.2916,-36.2819\" fill=\"none\" stroke=\"#000000\"/>\n",
       "</g>\n",
       "<!-- 41 -->\n",
       "<g class=\"node\" id=\"node42\">\n",
       "<title>41</title>\n",
       "<text fill=\"#004080\" font-family=\"Courier,monospace\" font-size=\"14.00\" font-weight=\"bold\" text-anchor=\"start\" x=\"1018\" y=\"-87.3\">Name</text>\n",
       "</g>\n",
       "<!-- 40&#45;&#45;41 -->\n",
       "<g class=\"edge\" id=\"edge41\">\n",
       "<title>40--41</title>\n",
       "<path d=\"M1014.8132,-143.8314C1018.875,-133 1024.0172,-119.2876 1028.095,-108.4133\" fill=\"none\" stroke=\"#000000\"/>\n",
       "</g>\n",
       "<!-- 42 -->\n",
       "<g class=\"node\" id=\"node43\">\n",
       "<title>42</title>\n",
       "<text fill=\"#008040\" font-family=\"Courier,monospace\" font-size=\"14.00\" text-anchor=\"middle\" x=\"1035\" y=\"-14.3\">&quot;y&quot;</text>\n",
       "</g>\n",
       "<!-- 41&#45;&#45;42 -->\n",
       "<g class=\"edge\" id=\"edge42\">\n",
       "<title>41--42</title>\n",
       "<path d=\"M1043,-72C1043,-72 1040.0293,-51.9478 1037.7084,-36.2819\" fill=\"none\" stroke=\"#000000\"/>\n",
       "</g>\n",
       "<!-- 43 -->\n",
       "<g class=\"node\" id=\"node44\">\n",
       "<title>43</title>\n",
       "<text fill=\"#008040\" font-family=\"Courier,monospace\" font-size=\"14.00\" text-anchor=\"middle\" x=\"1107\" y=\"-14.3\">Load</text>\n",
       "</g>\n",
       "<!-- 41&#45;&#45;43 -->\n",
       "<g class=\"edge\" id=\"edge43\">\n",
       "<title>41--43</title>\n",
       "<path d=\"M1043,-72C1043,-72 1066.7656,-51.9478 1085.3325,-36.2819\" fill=\"none\" stroke=\"#000000\"/>\n",
       "</g>\n",
       "<!-- 45 -->\n",
       "<g class=\"node\" id=\"node46\">\n",
       "<title>45</title>\n",
       "<text fill=\"#004080\" font-family=\"Courier,monospace\" font-size=\"14.00\" font-weight=\"bold\" text-anchor=\"start\" x=\"1235.5\" y=\"-231.3\">Compare</text>\n",
       "</g>\n",
       "<!-- 44&#45;&#45;45 -->\n",
       "<g class=\"edge\" id=\"edge45\">\n",
       "<title>44--45</title>\n",
       "<path d=\"M1332,-288C1332,-288 1307.1204,-267.9478 1287.6831,-252.2819\" fill=\"none\" stroke=\"#000000\"/>\n",
       "</g>\n",
       "<!-- 53 -->\n",
       "<g class=\"node\" id=\"node54\">\n",
       "<title>53</title>\n",
       "<text fill=\"#004080\" font-family=\"Courier,monospace\" font-size=\"14.00\" font-weight=\"bold\" text-anchor=\"start\" x=\"1355.5\" y=\"-231.3\">Return</text>\n",
       "</g>\n",
       "<!-- 44&#45;&#45;53 -->\n",
       "<g class=\"edge\" id=\"edge53\">\n",
       "<title>44--53</title>\n",
       "<path d=\"M1332,-288C1332,-288 1350.1956,-267.9478 1364.4108,-252.2819\" fill=\"none\" stroke=\"#000000\"/>\n",
       "</g>\n",
       "<!-- 57 -->\n",
       "<g class=\"node\" id=\"node58\">\n",
       "<title>57</title>\n",
       "<text fill=\"#004080\" font-family=\"Courier,monospace\" font-size=\"14.00\" font-weight=\"bold\" text-anchor=\"start\" x=\"1533.5\" y=\"-231.3\">If</text>\n",
       "</g>\n",
       "<!-- 44&#45;&#45;57 -->\n",
       "<g class=\"edge\" id=\"edge57\">\n",
       "<title>44--57</title>\n",
       "<path d=\"M1332,-288C1332,-288 1458.2584,-255.5335 1514.9761,-240.949\" fill=\"none\" stroke=\"#000000\"/>\n",
       "</g>\n",
       "<!-- 46 -->\n",
       "<g class=\"node\" id=\"node47\">\n",
       "<title>46</title>\n",
       "<text fill=\"#004080\" font-family=\"Courier,monospace\" font-size=\"14.00\" font-weight=\"bold\" text-anchor=\"start\" x=\"1162\" y=\"-159.3\">Name</text>\n",
       "</g>\n",
       "<!-- 45&#45;&#45;46 -->\n",
       "<g class=\"edge\" id=\"edge46\">\n",
       "<title>45--46</title>\n",
       "<path d=\"M1262,-216C1262,-216 1230.3836,-195.4303 1206.1773,-179.6816\" fill=\"none\" stroke=\"#000000\"/>\n",
       "</g>\n",
       "<!-- 49 -->\n",
       "<g class=\"node\" id=\"node50\">\n",
       "<title>49</title>\n",
       "<text fill=\"#008040\" font-family=\"Courier,monospace\" font-size=\"14.00\" text-anchor=\"middle\" x=\"1251\" y=\"-158.3\">Gt</text>\n",
       "</g>\n",
       "<!-- 45&#45;&#45;49 -->\n",
       "<g class=\"edge\" id=\"edge49\">\n",
       "<title>45--49</title>\n",
       "<path d=\"M1262,-216C1262,-216 1257.9153,-195.9478 1254.7241,-180.2819\" fill=\"none\" stroke=\"#000000\"/>\n",
       "</g>\n",
       "<!-- 50 -->\n",
       "<g class=\"node\" id=\"node51\">\n",
       "<title>50</title>\n",
       "<text fill=\"#004080\" font-family=\"Courier,monospace\" font-size=\"14.00\" font-weight=\"bold\" text-anchor=\"start\" x=\"1306\" y=\"-159.3\">Name</text>\n",
       "</g>\n",
       "<!-- 45&#45;&#45;50 -->\n",
       "<g class=\"edge\" id=\"edge50\">\n",
       "<title>45--50</title>\n",
       "<path d=\"M1262,-216C1262,-216 1284.6516,-195.9478 1302.3482,-180.2819\" fill=\"none\" stroke=\"#000000\"/>\n",
       "</g>\n",
       "<!-- 47 -->\n",
       "<g class=\"node\" id=\"node48\">\n",
       "<title>47</title>\n",
       "<text fill=\"#008040\" font-family=\"Courier,monospace\" font-size=\"14.00\" text-anchor=\"middle\" x=\"1107\" y=\"-86.3\">&quot;x&quot;</text>\n",
       "</g>\n",
       "<!-- 46&#45;&#45;47 -->\n",
       "<g class=\"edge\" id=\"edge47\">\n",
       "<title>46--47</title>\n",
       "<path d=\"M1171,-144C1171,-144 1147.2344,-123.9478 1128.6675,-108.2819\" fill=\"none\" stroke=\"#000000\"/>\n",
       "</g>\n",
       "<!-- 48 -->\n",
       "<g class=\"node\" id=\"node49\">\n",
       "<title>48</title>\n",
       "<text fill=\"#008040\" font-family=\"Courier,monospace\" font-size=\"14.00\" text-anchor=\"middle\" x=\"1179\" y=\"-86.3\">Load</text>\n",
       "</g>\n",
       "<!-- 46&#45;&#45;48 -->\n",
       "<g class=\"edge\" id=\"edge48\">\n",
       "<title>46--48</title>\n",
       "<path d=\"M1171,-144C1171,-144 1173.9707,-123.9478 1176.2916,-108.2819\" fill=\"none\" stroke=\"#000000\"/>\n",
       "</g>\n",
       "<!-- 51 -->\n",
       "<g class=\"node\" id=\"node52\">\n",
       "<title>51</title>\n",
       "<text fill=\"#008040\" font-family=\"Courier,monospace\" font-size=\"14.00\" text-anchor=\"middle\" x=\"1251\" y=\"-86.3\">&quot;y&quot;</text>\n",
       "</g>\n",
       "<!-- 50&#45;&#45;51 -->\n",
       "<g class=\"edge\" id=\"edge51\">\n",
       "<title>50--51</title>\n",
       "<path d=\"M1315,-144C1315,-144 1291.2344,-123.9478 1272.6675,-108.2819\" fill=\"none\" stroke=\"#000000\"/>\n",
       "</g>\n",
       "<!-- 52 -->\n",
       "<g class=\"node\" id=\"node53\">\n",
       "<title>52</title>\n",
       "<text fill=\"#008040\" font-family=\"Courier,monospace\" font-size=\"14.00\" text-anchor=\"middle\" x=\"1323\" y=\"-86.3\">Load</text>\n",
       "</g>\n",
       "<!-- 50&#45;&#45;52 -->\n",
       "<g class=\"edge\" id=\"edge52\">\n",
       "<title>50--52</title>\n",
       "<path d=\"M1315,-144C1315,-144 1317.9707,-123.9478 1320.2916,-108.2819\" fill=\"none\" stroke=\"#000000\"/>\n",
       "</g>\n",
       "<!-- 54 -->\n",
       "<g class=\"node\" id=\"node55\">\n",
       "<title>54</title>\n",
       "<text fill=\"#004080\" font-family=\"Courier,monospace\" font-size=\"14.00\" font-weight=\"bold\" text-anchor=\"start\" x=\"1378\" y=\"-159.3\">Name</text>\n",
       "</g>\n",
       "<!-- 53&#45;&#45;54 -->\n",
       "<g class=\"edge\" id=\"edge54\">\n",
       "<title>53--54</title>\n",
       "<path d=\"M1384.5328,-215.8314C1386.6389,-205 1389.3052,-191.2876 1391.4196,-180.4133\" fill=\"none\" stroke=\"#000000\"/>\n",
       "</g>\n",
       "<!-- 55 -->\n",
       "<g class=\"node\" id=\"node56\">\n",
       "<title>55</title>\n",
       "<text fill=\"#008040\" font-family=\"Courier,monospace\" font-size=\"14.00\" text-anchor=\"middle\" x=\"1395\" y=\"-86.3\">&quot;y&quot;</text>\n",
       "</g>\n",
       "<!-- 54&#45;&#45;55 -->\n",
       "<g class=\"edge\" id=\"edge55\">\n",
       "<title>54--55</title>\n",
       "<path d=\"M1403,-144C1403,-144 1400.0293,-123.9478 1397.7084,-108.2819\" fill=\"none\" stroke=\"#000000\"/>\n",
       "</g>\n",
       "<!-- 56 -->\n",
       "<g class=\"node\" id=\"node57\">\n",
       "<title>56</title>\n",
       "<text fill=\"#008040\" font-family=\"Courier,monospace\" font-size=\"14.00\" text-anchor=\"middle\" x=\"1467\" y=\"-86.3\">Load</text>\n",
       "</g>\n",
       "<!-- 54&#45;&#45;56 -->\n",
       "<g class=\"edge\" id=\"edge56\">\n",
       "<title>54--56</title>\n",
       "<path d=\"M1403,-144C1403,-144 1426.7656,-123.9478 1445.3325,-108.2819\" fill=\"none\" stroke=\"#000000\"/>\n",
       "</g>\n",
       "<!-- 58 -->\n",
       "<g class=\"node\" id=\"node59\">\n",
       "<title>58</title>\n",
       "<text fill=\"#004080\" font-family=\"Courier,monospace\" font-size=\"14.00\" font-weight=\"bold\" text-anchor=\"start\" x=\"1547.5\" y=\"-159.3\">Compare</text>\n",
       "</g>\n",
       "<!-- 57&#45;&#45;58 -->\n",
       "<g class=\"edge\" id=\"edge58\">\n",
       "<title>57--58</title>\n",
       "<path d=\"M1561,-216C1561,-216 1566.9414,-195.9478 1571.5831,-180.2819\" fill=\"none\" stroke=\"#000000\"/>\n",
       "</g>\n",
       "<!-- 66 -->\n",
       "<g class=\"node\" id=\"node67\">\n",
       "<title>66</title>\n",
       "<text fill=\"#004080\" font-family=\"Courier,monospace\" font-size=\"14.00\" font-weight=\"bold\" text-anchor=\"start\" x=\"1685.5\" y=\"-159.3\">Return</text>\n",
       "</g>\n",
       "<!-- 57&#45;&#45;66 -->\n",
       "<g class=\"edge\" id=\"edge66\">\n",
       "<title>57--66</title>\n",
       "<path d=\"M1561,-216C1561,-216 1633.1121,-190.0396 1677.3371,-174.1187\" fill=\"none\" stroke=\"#000000\"/>\n",
       "</g>\n",
       "<!-- 59 -->\n",
       "<g class=\"node\" id=\"node60\">\n",
       "<title>59</title>\n",
       "<text fill=\"#004080\" font-family=\"Courier,monospace\" font-size=\"14.00\" font-weight=\"bold\" text-anchor=\"start\" x=\"1522\" y=\"-87.3\">Name</text>\n",
       "</g>\n",
       "<!-- 58&#45;&#45;59 -->\n",
       "<g class=\"edge\" id=\"edge59\">\n",
       "<title>58--59</title>\n",
       "<path d=\"M1583,-144C1583,-144 1566.6611,-123.9478 1553.8964,-108.2819\" fill=\"none\" stroke=\"#000000\"/>\n",
       "</g>\n",
       "<!-- 62 -->\n",
       "<g class=\"node\" id=\"node63\">\n",
       "<title>62</title>\n",
       "<text fill=\"#008040\" font-family=\"Courier,monospace\" font-size=\"14.00\" text-anchor=\"middle\" x=\"1611\" y=\"-86.3\">Gt</text>\n",
       "</g>\n",
       "<!-- 58&#45;&#45;62 -->\n",
       "<g class=\"edge\" id=\"edge62\">\n",
       "<title>58--62</title>\n",
       "<path d=\"M1583,-144C1583,-144 1593.3975,-123.9478 1601.5205,-108.2819\" fill=\"none\" stroke=\"#000000\"/>\n",
       "</g>\n",
       "<!-- 63 -->\n",
       "<g class=\"node\" id=\"node64\">\n",
       "<title>63</title>\n",
       "<text fill=\"#004080\" font-family=\"Courier,monospace\" font-size=\"14.00\" font-weight=\"bold\" text-anchor=\"start\" x=\"1666\" y=\"-87.3\">Name</text>\n",
       "</g>\n",
       "<!-- 58&#45;&#45;63 -->\n",
       "<g class=\"edge\" id=\"edge63\">\n",
       "<title>58--63</title>\n",
       "<path d=\"M1583,-144C1583,-144 1626.3231,-120.6055 1655.9386,-104.6132\" fill=\"none\" stroke=\"#000000\"/>\n",
       "</g>\n",
       "<!-- 60 -->\n",
       "<g class=\"node\" id=\"node61\">\n",
       "<title>60</title>\n",
       "<text fill=\"#008040\" font-family=\"Courier,monospace\" font-size=\"14.00\" text-anchor=\"middle\" x=\"1467\" y=\"-14.3\">&quot;x&quot;</text>\n",
       "</g>\n",
       "<!-- 59&#45;&#45;60 -->\n",
       "<g class=\"edge\" id=\"edge60\">\n",
       "<title>59--60</title>\n",
       "<path d=\"M1531,-72C1531,-72 1507.2344,-51.9478 1488.6675,-36.2819\" fill=\"none\" stroke=\"#000000\"/>\n",
       "</g>\n",
       "<!-- 61 -->\n",
       "<g class=\"node\" id=\"node62\">\n",
       "<title>61</title>\n",
       "<text fill=\"#008040\" font-family=\"Courier,monospace\" font-size=\"14.00\" text-anchor=\"middle\" x=\"1539\" y=\"-14.3\">Load</text>\n",
       "</g>\n",
       "<!-- 59&#45;&#45;61 -->\n",
       "<g class=\"edge\" id=\"edge61\">\n",
       "<title>59--61</title>\n",
       "<path d=\"M1531,-72C1531,-72 1533.9707,-51.9478 1536.2916,-36.2819\" fill=\"none\" stroke=\"#000000\"/>\n",
       "</g>\n",
       "<!-- 64 -->\n",
       "<g class=\"node\" id=\"node65\">\n",
       "<title>64</title>\n",
       "<text fill=\"#008040\" font-family=\"Courier,monospace\" font-size=\"14.00\" text-anchor=\"middle\" x=\"1611\" y=\"-14.3\">&quot;z&quot;</text>\n",
       "</g>\n",
       "<!-- 63&#45;&#45;64 -->\n",
       "<g class=\"edge\" id=\"edge64\">\n",
       "<title>63--64</title>\n",
       "<path d=\"M1675,-72C1675,-72 1651.2344,-51.9478 1632.6675,-36.2819\" fill=\"none\" stroke=\"#000000\"/>\n",
       "</g>\n",
       "<!-- 65 -->\n",
       "<g class=\"node\" id=\"node66\">\n",
       "<title>65</title>\n",
       "<text fill=\"#008040\" font-family=\"Courier,monospace\" font-size=\"14.00\" text-anchor=\"middle\" x=\"1683\" y=\"-14.3\">Load</text>\n",
       "</g>\n",
       "<!-- 63&#45;&#45;65 -->\n",
       "<g class=\"edge\" id=\"edge65\">\n",
       "<title>63--65</title>\n",
       "<path d=\"M1675,-72C1675,-72 1677.9707,-51.9478 1680.2916,-36.2819\" fill=\"none\" stroke=\"#000000\"/>\n",
       "</g>\n",
       "<!-- 67 -->\n",
       "<g class=\"node\" id=\"node68\">\n",
       "<title>67</title>\n",
       "<text fill=\"#004080\" font-family=\"Courier,monospace\" font-size=\"14.00\" font-weight=\"bold\" text-anchor=\"start\" x=\"1738\" y=\"-87.3\">Name</text>\n",
       "</g>\n",
       "<!-- 66&#45;&#45;67 -->\n",
       "<g class=\"edge\" id=\"edge67\">\n",
       "<title>66--67</title>\n",
       "<path d=\"M1722.1031,-143.8314C1728.7222,-133 1737.102,-119.2876 1743.7474,-108.4133\" fill=\"none\" stroke=\"#000000\"/>\n",
       "</g>\n",
       "<!-- 68 -->\n",
       "<g class=\"node\" id=\"node69\">\n",
       "<title>68</title>\n",
       "<text fill=\"#008040\" font-family=\"Courier,monospace\" font-size=\"14.00\" text-anchor=\"middle\" x=\"1755\" y=\"-14.3\">&quot;x&quot;</text>\n",
       "</g>\n",
       "<!-- 67&#45;&#45;68 -->\n",
       "<g class=\"edge\" id=\"edge68\">\n",
       "<title>67--68</title>\n",
       "<path d=\"M1763,-72C1763,-72 1760.0293,-51.9478 1757.7084,-36.2819\" fill=\"none\" stroke=\"#000000\"/>\n",
       "</g>\n",
       "<!-- 69 -->\n",
       "<g class=\"node\" id=\"node70\">\n",
       "<title>69</title>\n",
       "<text fill=\"#008040\" font-family=\"Courier,monospace\" font-size=\"14.00\" text-anchor=\"middle\" x=\"1827\" y=\"-14.3\">Load</text>\n",
       "</g>\n",
       "<!-- 67&#45;&#45;69 -->\n",
       "<g class=\"edge\" id=\"edge69\">\n",
       "<title>67--69</title>\n",
       "<path d=\"M1763,-72C1763,-72 1786.7656,-51.9478 1805.3325,-36.2819\" fill=\"none\" stroke=\"#000000\"/>\n",
       "</g>\n",
       "<!-- 71 -->\n",
       "<g class=\"node\" id=\"node72\">\n",
       "<title>71</title>\n",
       "<text fill=\"#004080\" font-family=\"Courier,monospace\" font-size=\"14.00\" font-weight=\"bold\" text-anchor=\"start\" x=\"1597\" y=\"-303.3\">Name</text>\n",
       "</g>\n",
       "<!-- 70&#45;&#45;71 -->\n",
       "<g class=\"edge\" id=\"edge71\">\n",
       "<title>70--71</title>\n",
       "<path d=\"M1188.7514,-372.7057C1275.9118,-359.0334 1507.2536,-322.7445 1586.735,-310.2769\" fill=\"none\" stroke=\"#000000\"/>\n",
       "</g>\n",
       "<!-- 72 -->\n",
       "<g class=\"node\" id=\"node73\">\n",
       "<title>72</title>\n",
       "<text fill=\"#008040\" font-family=\"Courier,monospace\" font-size=\"14.00\" text-anchor=\"middle\" x=\"1614\" y=\"-230.3\">&quot;z&quot;</text>\n",
       "</g>\n",
       "<!-- 71&#45;&#45;72 -->\n",
       "<g class=\"edge\" id=\"edge72\">\n",
       "<title>71--72</title>\n",
       "<path d=\"M1622,-288C1622,-288 1619.0293,-267.9478 1616.7084,-252.2819\" fill=\"none\" stroke=\"#000000\"/>\n",
       "</g>\n",
       "<!-- 73 -->\n",
       "<g class=\"node\" id=\"node74\">\n",
       "<title>73</title>\n",
       "<text fill=\"#008040\" font-family=\"Courier,monospace\" font-size=\"14.00\" text-anchor=\"middle\" x=\"1686\" y=\"-230.3\">Load</text>\n",
       "</g>\n",
       "<!-- 71&#45;&#45;73 -->\n",
       "<g class=\"edge\" id=\"edge73\">\n",
       "<title>71--73</title>\n",
       "<path d=\"M1622,-288C1622,-288 1645.7656,-267.9478 1664.3325,-252.2819\" fill=\"none\" stroke=\"#000000\"/>\n",
       "</g>\n",
       "</g>\n",
       "</svg>"
      ],
      "text/plain": [
       "<IPython.core.display.SVG object>"
      ]
     },
     "metadata": {},
     "output_type": "display_data"
    }
   ],
   "source": [
    "middle_tree = ast.parse(inspect.getsource(middle))\n",
    "show_ast(middle_tree)"
   ]
  },
  {
   "cell_type": "markdown",
   "metadata": {
    "slideshow": {
     "slide_type": "fragment"
    }
   },
   "source": [
    "At the very bottom of the tree, you can see a number of `Name` nodes, referring individual variables. These are the ones we want to transform."
   ]
  },
  {
   "cell_type": "markdown",
   "metadata": {
    "slideshow": {
     "slide_type": "subslide"
    }
   },
   "source": [
    "### Tracking Variable Accesses\n",
    "\n",
    "Our goal is to _traverse_ the tree, identify all `Name` nodes, and convert them to respective `_data` accesses.\n",
    "To this end, we manipulate the AST through the Python modules `ast` and `astor`. The [official Python `ast` reference](http://docs.python.org/3/library/ast) is complete, but a bit brief; the documentation [\"Green Tree Snakes - the missing Python AST docs\"](https://greentreesnakes.readthedocs.io/en/latest/) provides an excellent introduction."
   ]
  },
  {
   "cell_type": "markdown",
   "metadata": {
    "slideshow": {
     "slide_type": "fragment"
    }
   },
   "source": [
    "The Python `ast` module provides a class `NodeTransformer` that allows such transformations. By subclassing from it, we provide a method `visit_Name()` that will be invoked for all `Name` nodes – and replace it by a new subtree from `make_get_data()`:"
   ]
  },
  {
   "cell_type": "code",
   "execution_count": 66,
   "metadata": {
    "execution": {
     "iopub.execute_input": "2021-05-11T17:07:58.254926Z",
     "iopub.status.busy": "2021-05-11T17:07:58.254325Z",
     "iopub.status.idle": "2021-05-11T17:07:58.256050Z",
     "shell.execute_reply": "2021-05-11T17:07:58.256426Z"
    },
    "slideshow": {
     "slide_type": "skip"
    }
   },
   "outputs": [],
   "source": [
    "from ast import NodeTransformer, NodeVisitor, Name, AST"
   ]
  },
  {
   "cell_type": "code",
   "execution_count": 67,
   "metadata": {
    "execution": {
     "iopub.execute_input": "2021-05-11T17:07:58.261584Z",
     "iopub.status.busy": "2021-05-11T17:07:58.260603Z",
     "iopub.status.idle": "2021-05-11T17:07:58.262508Z",
     "shell.execute_reply": "2021-05-11T17:07:58.262879Z"
    },
    "slideshow": {
     "slide_type": "skip"
    }
   },
   "outputs": [],
   "source": [
    "import typing"
   ]
  },
  {
   "cell_type": "code",
   "execution_count": 68,
   "metadata": {
    "execution": {
     "iopub.execute_input": "2021-05-11T17:07:58.265938Z",
     "iopub.status.busy": "2021-05-11T17:07:58.265415Z",
     "iopub.status.idle": "2021-05-11T17:07:58.266866Z",
     "shell.execute_reply": "2021-05-11T17:07:58.267240Z"
    },
    "slideshow": {
     "slide_type": "fragment"
    }
   },
   "outputs": [],
   "source": [
    "DATA_TRACKER = '_data'"
   ]
  },
  {
   "cell_type": "code",
   "execution_count": 69,
   "metadata": {
    "execution": {
     "iopub.execute_input": "2021-05-11T17:07:58.271708Z",
     "iopub.status.busy": "2021-05-11T17:07:58.271111Z",
     "iopub.status.idle": "2021-05-11T17:07:58.272616Z",
     "shell.execute_reply": "2021-05-11T17:07:58.272990Z"
    },
    "slideshow": {
     "slide_type": "subslide"
    }
   },
   "outputs": [],
   "source": [
    "def is_internal(id: str) -> bool:\n",
    "    \"\"\"Return True if `id` is a built-in function or type\"\"\"\n",
    "    return (id in dir(__builtins__) or \n",
    "            id in dir(typing))"
   ]
  },
  {
   "cell_type": "code",
   "execution_count": 70,
   "metadata": {
    "execution": {
     "iopub.execute_input": "2021-05-11T17:07:58.279214Z",
     "iopub.status.busy": "2021-05-11T17:07:58.278627Z",
     "iopub.status.idle": "2021-05-11T17:07:58.280374Z",
     "shell.execute_reply": "2021-05-11T17:07:58.280827Z"
    },
    "slideshow": {
     "slide_type": "subslide"
    }
   },
   "outputs": [],
   "source": [
    "class TrackGetTransformer(NodeTransformer):\n",
    "    def visit_Name(self, node: Name) -> AST:\n",
    "        self.generic_visit(node)\n",
    "\n",
    "        if is_internal(node.id):\n",
    "            # Do not change built-in names and types\n",
    "            return node\n",
    "\n",
    "        if node.id == DATA_TRACKER:\n",
    "            # Do not change own accesses\n",
    "            return node\n",
    "\n",
    "        if not isinstance(node.ctx, Load):\n",
    "            # Only change loads (not stores, not deletions)\n",
    "            return node\n",
    "\n",
    "        new_node = make_get_data(node.id)\n",
    "        ast.copy_location(new_node, node)\n",
    "        return new_node"
   ]
  },
  {
   "cell_type": "markdown",
   "metadata": {
    "slideshow": {
     "slide_type": "subslide"
    }
   },
   "source": [
    "Our function `make_get_data(id, method)` returns a new subtree equivalent to the Python code `_data.method('id', id)`."
   ]
  },
  {
   "cell_type": "code",
   "execution_count": 71,
   "metadata": {
    "execution": {
     "iopub.execute_input": "2021-05-11T17:07:58.284298Z",
     "iopub.status.busy": "2021-05-11T17:07:58.283782Z",
     "iopub.status.idle": "2021-05-11T17:07:58.285499Z",
     "shell.execute_reply": "2021-05-11T17:07:58.285882Z"
    },
    "slideshow": {
     "slide_type": "skip"
    }
   },
   "outputs": [],
   "source": [
    "from ast import Module, Load, Store, \\\n",
    "    Attribute, With, withitem, keyword, Call, Expr, \\\n",
    "    Assign, AugAssign, AnnAssign, Assert"
   ]
  },
  {
   "cell_type": "code",
   "execution_count": 72,
   "metadata": {
    "execution": {
     "iopub.execute_input": "2021-05-11T17:07:58.289534Z",
     "iopub.status.busy": "2021-05-11T17:07:58.288898Z",
     "iopub.status.idle": "2021-05-11T17:07:58.290478Z",
     "shell.execute_reply": "2021-05-11T17:07:58.290966Z"
    },
    "slideshow": {
     "slide_type": "fragment"
    }
   },
   "outputs": [],
   "source": [
    "# Starting with Python 3.8, these will become Constant.\n",
    "# from ast import Num, Str, NameConstant\n",
    "# Use `ast.Num`, `ast.Str`, and `ast.NameConstant` for compatibility"
   ]
  },
  {
   "cell_type": "code",
   "execution_count": 73,
   "metadata": {
    "execution": {
     "iopub.execute_input": "2021-05-11T17:07:58.295761Z",
     "iopub.status.busy": "2021-05-11T17:07:58.295106Z",
     "iopub.status.idle": "2021-05-11T17:07:58.296712Z",
     "shell.execute_reply": "2021-05-11T17:07:58.297264Z"
    },
    "slideshow": {
     "slide_type": "fragment"
    }
   },
   "outputs": [],
   "source": [
    "def make_get_data(id: str, method: str = 'get') -> Call:\n",
    "    return Call(func=Attribute(value=Name(id=DATA_TRACKER, ctx=Load()), \n",
    "                               attr=method, ctx=Load()),\n",
    "                args=[ast.Str(s=id), Name(id=id, ctx=Load())],\n",
    "                keywords=[])"
   ]
  },
  {
   "cell_type": "markdown",
   "metadata": {
    "slideshow": {
     "slide_type": "fragment"
    }
   },
   "source": [
    "This is the tree that `make_get_data()` produces:"
   ]
  },
  {
   "cell_type": "code",
   "execution_count": 74,
   "metadata": {
    "execution": {
     "iopub.execute_input": "2021-05-11T17:07:58.300571Z",
     "iopub.status.busy": "2021-05-11T17:07:58.300055Z",
     "iopub.status.idle": "2021-05-11T17:07:59.017598Z",
     "shell.execute_reply": "2021-05-11T17:07:59.018235Z"
    },
    "slideshow": {
     "slide_type": "fragment"
    }
   },
   "outputs": [
    {
     "data": {
      "image/svg+xml": [
       "<svg height=\"260pt\" viewBox=\"0.00 0.00 479.50 260.00\" width=\"480pt\" xmlns=\"http://www.w3.org/2000/svg\" xmlns:xlink=\"http://www.w3.org/1999/xlink\">\n",
       "<g class=\"graph\" id=\"graph0\" transform=\"scale(1 1) rotate(0) translate(4 256)\">\n",
       "<title>%3</title>\n",
       "<polygon fill=\"#ffffff\" points=\"-4,4 -4,-256 475.5,-256 475.5,4 -4,4\" stroke=\"transparent\"/>\n",
       "<!-- 0 -->\n",
       "<g class=\"node\" id=\"node1\">\n",
       "<title>0</title>\n",
       "<text fill=\"#004080\" font-family=\"Courier,monospace\" font-size=\"14.00\" font-weight=\"bold\" text-anchor=\"start\" x=\"283.5\" y=\"-231.3\">Call</text>\n",
       "</g>\n",
       "<!-- 1 -->\n",
       "<g class=\"node\" id=\"node2\">\n",
       "<title>1</title>\n",
       "<text fill=\"#004080\" font-family=\"Courier,monospace\" font-size=\"14.00\" font-weight=\"bold\" text-anchor=\"start\" x=\"143.5\" y=\"-159.3\">Attribute</text>\n",
       "</g>\n",
       "<!-- 0&#45;&#45;1 -->\n",
       "<g class=\"edge\" id=\"edge1\">\n",
       "<title>0--1</title>\n",
       "<path d=\"M299.5,-216C299.5,-216 255.4008,-195.819 221.1206,-180.1314\" fill=\"none\" stroke=\"#000000\"/>\n",
       "</g>\n",
       "<!-- 7 -->\n",
       "<g class=\"node\" id=\"node8\">\n",
       "<title>7</title>\n",
       "<text fill=\"#004080\" font-family=\"Courier,monospace\" font-size=\"14.00\" font-weight=\"bold\" text-anchor=\"start\" x=\"287.5\" y=\"-159.3\">Str</text>\n",
       "</g>\n",
       "<!-- 0&#45;&#45;7 -->\n",
       "<g class=\"edge\" id=\"edge7\">\n",
       "<title>0--7</title>\n",
       "<path d=\"M299.5,-216C299.5,-216 299.8713,-195.9478 300.1614,-180.2819\" fill=\"none\" stroke=\"#000000\"/>\n",
       "</g>\n",
       "<!-- 9 -->\n",
       "<g class=\"node\" id=\"node10\">\n",
       "<title>9</title>\n",
       "<text fill=\"#004080\" font-family=\"Courier,monospace\" font-size=\"14.00\" font-weight=\"bold\" text-anchor=\"start\" x=\"355.5\" y=\"-159.3\">Name</text>\n",
       "</g>\n",
       "<!-- 0&#45;&#45;9 -->\n",
       "<g class=\"edge\" id=\"edge9\">\n",
       "<title>0--9</title>\n",
       "<path d=\"M299.5,-216C299.5,-216 326.6077,-195.9478 347.7855,-180.2819\" fill=\"none\" stroke=\"#000000\"/>\n",
       "</g>\n",
       "<!-- 2 -->\n",
       "<g class=\"node\" id=\"node3\">\n",
       "<title>2</title>\n",
       "<text fill=\"#004080\" font-family=\"Courier,monospace\" font-size=\"14.00\" font-weight=\"bold\" text-anchor=\"start\" x=\"61.5\" y=\"-87.3\">Name</text>\n",
       "</g>\n",
       "<!-- 1&#45;&#45;2 -->\n",
       "<g class=\"edge\" id=\"edge2\">\n",
       "<title>1--2</title>\n",
       "<path d=\"M176.5,-144C176.5,-144 134.5458,-120.8824 105.5384,-104.8987\" fill=\"none\" stroke=\"#000000\"/>\n",
       "</g>\n",
       "<!-- 5 -->\n",
       "<g class=\"node\" id=\"node6\">\n",
       "<title>5</title>\n",
       "<text fill=\"#008040\" font-family=\"Courier,monospace\" font-size=\"14.00\" text-anchor=\"middle\" x=\"153.5\" y=\"-86.3\">&quot;get&quot;</text>\n",
       "</g>\n",
       "<!-- 1&#45;&#45;5 -->\n",
       "<g class=\"edge\" id=\"edge5\">\n",
       "<title>1--5</title>\n",
       "<path d=\"M176.5,-144C176.5,-144 167.9592,-123.9478 161.2868,-108.2819\" fill=\"none\" stroke=\"#000000\"/>\n",
       "</g>\n",
       "<!-- 6 -->\n",
       "<g class=\"node\" id=\"node7\">\n",
       "<title>6</title>\n",
       "<text fill=\"#008040\" font-family=\"Courier,monospace\" font-size=\"14.00\" text-anchor=\"middle\" x=\"228.5\" y=\"-86.3\">Load</text>\n",
       "</g>\n",
       "<!-- 1&#45;&#45;6 -->\n",
       "<g class=\"edge\" id=\"edge6\">\n",
       "<title>1--6</title>\n",
       "<path d=\"M176.5,-144C176.5,-144 195.8096,-123.9478 210.8952,-108.2819\" fill=\"none\" stroke=\"#000000\"/>\n",
       "</g>\n",
       "<!-- 3 -->\n",
       "<g class=\"node\" id=\"node4\">\n",
       "<title>3</title>\n",
       "<text fill=\"#008040\" font-family=\"Courier,monospace\" font-size=\"14.00\" text-anchor=\"middle\" x=\"37.5\" y=\"-14.3\">&quot;_data&quot;</text>\n",
       "</g>\n",
       "<!-- 2&#45;&#45;3 -->\n",
       "<g class=\"edge\" id=\"edge3\">\n",
       "<title>2--3</title>\n",
       "<path d=\"M78.5,-72C78.5,-72 63.2751,-51.9478 51.3807,-36.2819\" fill=\"none\" stroke=\"#000000\"/>\n",
       "</g>\n",
       "<!-- 4 -->\n",
       "<g class=\"node\" id=\"node5\">\n",
       "<title>4</title>\n",
       "<text fill=\"#008040\" font-family=\"Courier,monospace\" font-size=\"14.00\" text-anchor=\"middle\" x=\"120.5\" y=\"-14.3\">Load</text>\n",
       "</g>\n",
       "<!-- 2&#45;&#45;4 -->\n",
       "<g class=\"edge\" id=\"edge4\">\n",
       "<title>2--4</title>\n",
       "<path d=\"M78.5,-72C78.5,-72 94.0962,-51.9478 106.2807,-36.2819\" fill=\"none\" stroke=\"#000000\"/>\n",
       "</g>\n",
       "<!-- 8 -->\n",
       "<g class=\"node\" id=\"node9\">\n",
       "<title>8</title>\n",
       "<text fill=\"#008040\" font-family=\"Courier,monospace\" font-size=\"14.00\" text-anchor=\"middle\" x=\"300.5\" y=\"-86.3\">&quot;x&quot;</text>\n",
       "</g>\n",
       "<!-- 7&#45;&#45;8 -->\n",
       "<g class=\"edge\" id=\"edge8\">\n",
       "<title>7--8</title>\n",
       "<path d=\"M300.5,-143.8314C300.5,-133 300.5,-119.2876 300.5,-108.4133\" fill=\"none\" stroke=\"#000000\"/>\n",
       "</g>\n",
       "<!-- 10 -->\n",
       "<g class=\"node\" id=\"node11\">\n",
       "<title>10</title>\n",
       "<text fill=\"#008040\" font-family=\"Courier,monospace\" font-size=\"14.00\" text-anchor=\"middle\" x=\"372.5\" y=\"-86.3\">&quot;x&quot;</text>\n",
       "</g>\n",
       "<!-- 9&#45;&#45;10 -->\n",
       "<g class=\"edge\" id=\"edge10\">\n",
       "<title>9--10</title>\n",
       "<path d=\"M380.5,-144C380.5,-144 377.5293,-123.9478 375.2084,-108.2819\" fill=\"none\" stroke=\"#000000\"/>\n",
       "</g>\n",
       "<!-- 11 -->\n",
       "<g class=\"node\" id=\"node12\">\n",
       "<title>11</title>\n",
       "<text fill=\"#008040\" font-family=\"Courier,monospace\" font-size=\"14.00\" text-anchor=\"middle\" x=\"444.5\" y=\"-86.3\">Load</text>\n",
       "</g>\n",
       "<!-- 9&#45;&#45;11 -->\n",
       "<g class=\"edge\" id=\"edge11\">\n",
       "<title>9--11</title>\n",
       "<path d=\"M380.5,-144C380.5,-144 404.2656,-123.9478 422.8325,-108.2819\" fill=\"none\" stroke=\"#000000\"/>\n",
       "</g>\n",
       "</g>\n",
       "</svg>"
      ],
      "text/plain": [
       "<IPython.core.display.SVG object>"
      ]
     },
     "metadata": {},
     "output_type": "display_data"
    }
   ],
   "source": [
    "show_ast(Module(body=[make_get_data(\"x\")]))"
   ]
  },
  {
   "cell_type": "markdown",
   "metadata": {
    "slideshow": {
     "slide_type": "subslide"
    }
   },
   "source": [
    "How do we know that this is a correct subtree? We can carefully read the [official Python `ast` reference](http://docs.python.org/3/library/ast) and then proceed by trial and error (and apply [delta debugging](DeltaDebugger.ipynb) to determine error causes). Or – pro tip! – we can simply take a piece of Python code, parse it and use `ast.dump()` to print out how to construct the resulting AST:"
   ]
  },
  {
   "cell_type": "code",
   "execution_count": 75,
   "metadata": {
    "execution": {
     "iopub.execute_input": "2021-05-11T17:07:59.024854Z",
     "iopub.status.busy": "2021-05-11T17:07:59.024170Z",
     "iopub.status.idle": "2021-05-11T17:07:59.026239Z",
     "shell.execute_reply": "2021-05-11T17:07:59.026621Z"
    },
    "slideshow": {
     "slide_type": "fragment"
    }
   },
   "outputs": [
    {
     "name": "stdout",
     "output_type": "stream",
     "text": [
      "Module(body=[Expr(value=Call(func=Attribute(value=Name(id='_data', ctx=Load()), attr='get', ctx=Load()), args=[Str(s='x'), Name(id='x', ctx=Load())], keywords=[]))])\n"
     ]
    }
   ],
   "source": [
    "print(ast.dump(ast.parse(\"_data.get('x', x)\")))"
   ]
  },
  {
   "cell_type": "markdown",
   "metadata": {
    "slideshow": {
     "slide_type": "fragment"
    }
   },
   "source": [
    "If you compare the above output with the code of `make_get_data()`, above, you will find out where the source of `make_get_data()` comes from."
   ]
  },
  {
   "cell_type": "markdown",
   "metadata": {
    "slideshow": {
     "slide_type": "fragment"
    }
   },
   "source": [
    "Let us put `TrackGetTransformer` to action. Its `visit()` method calls `visit_Name()`, which then in turn transforms the `Name` nodes as we want it. This happens in place."
   ]
  },
  {
   "cell_type": "code",
   "execution_count": 76,
   "metadata": {
    "execution": {
     "iopub.execute_input": "2021-05-11T17:07:59.031836Z",
     "iopub.status.busy": "2021-05-11T17:07:59.031267Z",
     "iopub.status.idle": "2021-05-11T17:07:59.033816Z",
     "shell.execute_reply": "2021-05-11T17:07:59.034191Z"
    },
    "slideshow": {
     "slide_type": "subslide"
    }
   },
   "outputs": [
    {
     "data": {
      "text/plain": [
       "<_ast.Module at 0x7fe2455cdbe0>"
      ]
     },
     "execution_count": 1,
     "metadata": {},
     "output_type": "execute_result"
    }
   ],
   "source": [
    "TrackGetTransformer().visit(middle_tree);"
   ]
  },
  {
   "cell_type": "markdown",
   "metadata": {
    "slideshow": {
     "slide_type": "fragment"
    }
   },
   "source": [
    "To see the effect of our transformations, we introduce a method `dump_tree()` which outputs the tree – and also compiles it to check for any inconsistencies."
   ]
  },
  {
   "cell_type": "code",
   "execution_count": 77,
   "metadata": {
    "execution": {
     "iopub.execute_input": "2021-05-11T17:07:59.038790Z",
     "iopub.status.busy": "2021-05-11T17:07:59.037726Z",
     "iopub.status.idle": "2021-05-11T17:07:59.039911Z",
     "shell.execute_reply": "2021-05-11T17:07:59.040401Z"
    },
    "slideshow": {
     "slide_type": "fragment"
    }
   },
   "outputs": [],
   "source": [
    "def dump_tree(tree: AST) -> None:\n",
    "    print_content(astor.to_source(tree), '.py')\n",
    "    ast.fix_missing_locations(tree)  # Must run this before compiling\n",
    "    _ = compile(tree, '<dump_tree>', 'exec')"
   ]
  },
  {
   "cell_type": "markdown",
   "metadata": {
    "slideshow": {
     "slide_type": "fragment"
    }
   },
   "source": [
    "We see that our transformer has properly replaced all variable accesses:"
   ]
  },
  {
   "cell_type": "code",
   "execution_count": 78,
   "metadata": {
    "execution": {
     "iopub.execute_input": "2021-05-11T17:07:59.052914Z",
     "iopub.status.busy": "2021-05-11T17:07:59.052179Z",
     "iopub.status.idle": "2021-05-11T17:07:59.054579Z",
     "shell.execute_reply": "2021-05-11T17:07:59.054995Z"
    },
    "slideshow": {
     "slide_type": "subslide"
    }
   },
   "outputs": [
    {
     "name": "stdout",
     "output_type": "stream",
     "text": [
      "\u001b[34mdef\u001b[39;49;00m \u001b[32mmiddle\u001b[39;49;00m(x, y, z):\n",
      "    \u001b[34mif\u001b[39;49;00m _data.get(\u001b[33m'\u001b[39;49;00m\u001b[33my\u001b[39;49;00m\u001b[33m'\u001b[39;49;00m, y) < _data.get(\u001b[33m'\u001b[39;49;00m\u001b[33mz\u001b[39;49;00m\u001b[33m'\u001b[39;49;00m, z):\n",
      "        \u001b[34mif\u001b[39;49;00m _data.get(\u001b[33m'\u001b[39;49;00m\u001b[33mx\u001b[39;49;00m\u001b[33m'\u001b[39;49;00m, x) < _data.get(\u001b[33m'\u001b[39;49;00m\u001b[33my\u001b[39;49;00m\u001b[33m'\u001b[39;49;00m, y):\n",
      "            \u001b[34mreturn\u001b[39;49;00m _data.get(\u001b[33m'\u001b[39;49;00m\u001b[33my\u001b[39;49;00m\u001b[33m'\u001b[39;49;00m, y)\n",
      "        \u001b[34melif\u001b[39;49;00m _data.get(\u001b[33m'\u001b[39;49;00m\u001b[33mx\u001b[39;49;00m\u001b[33m'\u001b[39;49;00m, x) < _data.get(\u001b[33m'\u001b[39;49;00m\u001b[33mz\u001b[39;49;00m\u001b[33m'\u001b[39;49;00m, z):\n",
      "            \u001b[34mreturn\u001b[39;49;00m _data.get(\u001b[33m'\u001b[39;49;00m\u001b[33my\u001b[39;49;00m\u001b[33m'\u001b[39;49;00m, y)\n",
      "    \u001b[34melif\u001b[39;49;00m _data.get(\u001b[33m'\u001b[39;49;00m\u001b[33mx\u001b[39;49;00m\u001b[33m'\u001b[39;49;00m, x) > _data.get(\u001b[33m'\u001b[39;49;00m\u001b[33my\u001b[39;49;00m\u001b[33m'\u001b[39;49;00m, y):\n",
      "        \u001b[34mreturn\u001b[39;49;00m _data.get(\u001b[33m'\u001b[39;49;00m\u001b[33my\u001b[39;49;00m\u001b[33m'\u001b[39;49;00m, y)\n",
      "    \u001b[34melif\u001b[39;49;00m _data.get(\u001b[33m'\u001b[39;49;00m\u001b[33mx\u001b[39;49;00m\u001b[33m'\u001b[39;49;00m, x) > _data.get(\u001b[33m'\u001b[39;49;00m\u001b[33mz\u001b[39;49;00m\u001b[33m'\u001b[39;49;00m, z):\n",
      "        \u001b[34mreturn\u001b[39;49;00m _data.get(\u001b[33m'\u001b[39;49;00m\u001b[33mx\u001b[39;49;00m\u001b[33m'\u001b[39;49;00m, x)\n",
      "    \u001b[34mreturn\u001b[39;49;00m _data.get(\u001b[33m'\u001b[39;49;00m\u001b[33mz\u001b[39;49;00m\u001b[33m'\u001b[39;49;00m, z)"
     ]
    }
   ],
   "source": [
    "dump_tree(middle_tree)"
   ]
  },
  {
   "cell_type": "markdown",
   "metadata": {
    "slideshow": {
     "slide_type": "subslide"
    }
   },
   "source": [
    "Let us now execute this code together with the `DataTracker()` class we previously introduced. The class `DataTrackerTester()` takes a (transformed) tree and a function. Using it as\n",
    "\n",
    "```python\n",
    "with DataTrackerTester(tree, func):\n",
    "    func(...)\n",
    "```\n",
    "\n",
    "first executes the code in _tree_ (possibly instrumenting `func`) and then the `with` body. At the end, `func` is restored to its previous (non-instrumented) version."
   ]
  },
  {
   "cell_type": "code",
   "execution_count": 79,
   "metadata": {
    "execution": {
     "iopub.execute_input": "2021-05-11T17:07:59.058690Z",
     "iopub.status.busy": "2021-05-11T17:07:59.058104Z",
     "iopub.status.idle": "2021-05-11T17:07:59.059590Z",
     "shell.execute_reply": "2021-05-11T17:07:59.059959Z"
    },
    "slideshow": {
     "slide_type": "skip"
    }
   },
   "outputs": [],
   "source": [
    "from types import TracebackType"
   ]
  },
  {
   "cell_type": "code",
   "execution_count": 80,
   "metadata": {
    "execution": {
     "iopub.execute_input": "2021-05-11T17:07:59.066637Z",
     "iopub.status.busy": "2021-05-11T17:07:59.066037Z",
     "iopub.status.idle": "2021-05-11T17:07:59.067783Z",
     "shell.execute_reply": "2021-05-11T17:07:59.068200Z"
    },
    "slideshow": {
     "slide_type": "subslide"
    }
   },
   "outputs": [],
   "source": [
    "class DataTrackerTester:\n",
    "    def __init__(self, tree: AST, func: Callable, log: bool = True) -> None:\n",
    "        \"\"\"Constructor. Execute the code in `tree` while instrumenting `func`.\"\"\"\n",
    "        # We pass the source file of `func` such that we can retrieve it\n",
    "        # when accessing the location of the new compiled code\n",
    "        source = cast(str, inspect.getsourcefile(func))\n",
    "        self.code = compile(tree, source, 'exec')\n",
    "        self.func = func\n",
    "        self.log = log\n",
    "\n",
    "    def make_data_tracker(self) -> Any:\n",
    "        return DataTracker(log=self.log)\n",
    "\n",
    "    def __enter__(self) -> Any:\n",
    "        \"\"\"Rewrite function\"\"\"\n",
    "        tracker = self.make_data_tracker()\n",
    "        globals()[DATA_TRACKER] = tracker\n",
    "        exec(self.code, globals())\n",
    "        return tracker\n",
    "\n",
    "    def __exit__(self, exc_type: Type, exc_value: BaseException,\n",
    "                 traceback: TracebackType) -> Optional[bool]:\n",
    "        \"\"\"Restore function\"\"\"\n",
    "        globals()[self.func.__name__] = self.func\n",
    "        del globals()[DATA_TRACKER]\n",
    "        return None"
   ]
  },
  {
   "cell_type": "markdown",
   "metadata": {
    "slideshow": {
     "slide_type": "subslide"
    }
   },
   "source": [
    "Here is our `middle()` function:"
   ]
  },
  {
   "cell_type": "code",
   "execution_count": 81,
   "metadata": {
    "execution": {
     "iopub.execute_input": "2021-05-11T17:07:59.077092Z",
     "iopub.status.busy": "2021-05-11T17:07:59.076554Z",
     "iopub.status.idle": "2021-05-11T17:07:59.078725Z",
     "shell.execute_reply": "2021-05-11T17:07:59.079097Z"
    },
    "slideshow": {
     "slide_type": "fragment"
    }
   },
   "outputs": [
    {
     "name": "stdout",
     "output_type": "stream",
     "text": [
      " 1  \u001b[34mdef\u001b[39;49;00m \u001b[32mmiddle\u001b[39;49;00m(x, y, z):  \u001b[37m# type: ignore\u001b[39;49;00m\n",
      " 2      \u001b[34mif\u001b[39;49;00m y < z:\n",
      " 3          \u001b[34mif\u001b[39;49;00m x < y:\n",
      " 4              \u001b[34mreturn\u001b[39;49;00m y\n",
      " 5          \u001b[34melif\u001b[39;49;00m x < z:\n",
      " 6              \u001b[34mreturn\u001b[39;49;00m y\n",
      " 7      \u001b[34melse\u001b[39;49;00m:\n",
      " 8          \u001b[34mif\u001b[39;49;00m x > y:\n",
      " 9              \u001b[34mreturn\u001b[39;49;00m y\n",
      "10          \u001b[34melif\u001b[39;49;00m x > z:\n",
      "11              \u001b[34mreturn\u001b[39;49;00m x\n",
      "12      \u001b[34mreturn\u001b[39;49;00m z"
     ]
    }
   ],
   "source": [
    "print_content(inspect.getsource(middle), '.py', start_line_number=1)"
   ]
  },
  {
   "cell_type": "markdown",
   "metadata": {
    "slideshow": {
     "slide_type": "subslide"
    }
   },
   "source": [
    "And here is our instrumented `middle_tree` executed with a `DataTracker` object. We see how the `middle()` tests access one argument after another."
   ]
  },
  {
   "cell_type": "code",
   "execution_count": 82,
   "metadata": {
    "execution": {
     "iopub.execute_input": "2021-05-11T17:07:59.083598Z",
     "iopub.status.busy": "2021-05-11T17:07:59.082936Z",
     "iopub.status.idle": "2021-05-11T17:07:59.085204Z",
     "shell.execute_reply": "2021-05-11T17:07:59.085717Z"
    },
    "slideshow": {
     "slide_type": "fragment"
    }
   },
   "outputs": [
    {
     "name": "stdout",
     "output_type": "stream",
     "text": [
      "middle:2: getting y\n",
      "middle:2: getting z\n",
      "middle:3: getting x\n",
      "middle:3: getting y\n",
      "middle:5: getting x\n",
      "middle:5: getting z\n",
      "middle:6: getting y\n"
     ]
    }
   ],
   "source": [
    "with DataTrackerTester(middle_tree, middle):\n",
    "    middle(2, 1, 3)"
   ]
  },
  {
   "cell_type": "markdown",
   "metadata": {
    "slideshow": {
     "slide_type": "fragment"
    }
   },
   "source": [
    "After `DataTrackerTester` is done, `middle` is reverted to its non-instrumented version:"
   ]
  },
  {
   "cell_type": "code",
   "execution_count": 83,
   "metadata": {
    "execution": {
     "iopub.execute_input": "2021-05-11T17:07:59.090076Z",
     "iopub.status.busy": "2021-05-11T17:07:59.089063Z",
     "iopub.status.idle": "2021-05-11T17:07:59.091753Z",
     "shell.execute_reply": "2021-05-11T17:07:59.092126Z"
    },
    "slideshow": {
     "slide_type": "subslide"
    }
   },
   "outputs": [
    {
     "data": {
      "text/plain": [
       "1"
      ]
     },
     "execution_count": 1,
     "metadata": {},
     "output_type": "execute_result"
    }
   ],
   "source": [
    "middle(2, 1, 3)"
   ]
  },
  {
   "cell_type": "markdown",
   "metadata": {
    "slideshow": {
     "slide_type": "fragment"
    }
   },
   "source": [
    "For a complete picture of what happens during executions, we implement a number of additional code transformers."
   ]
  },
  {
   "cell_type": "markdown",
   "metadata": {
    "slideshow": {
     "slide_type": "fragment"
    }
   },
   "source": [
    "For each assignment statement `x = y`, we change it to `x = _data.set('x', y)`. This allows to __track assignments__."
   ]
  },
  {
   "cell_type": "markdown",
   "metadata": {
    "slideshow": {
     "slide_type": "subslide"
    }
   },
   "source": [
    "### Excursion: Tracking Assignments and Assertions"
   ]
  },
  {
   "cell_type": "markdown",
   "metadata": {
    "slideshow": {
     "slide_type": "fragment"
    }
   },
   "source": [
    "For the remaining transformers, we follow the same steps as for `TrackGetTransformer`, except that our `visit_...()` methods focus on different nodes, and return different subtrees. Here, we focus on assignment nodes."
   ]
  },
  {
   "cell_type": "markdown",
   "metadata": {
    "slideshow": {
     "slide_type": "fragment"
    }
   },
   "source": [
    "We want to transform assignments `x = value` into `_data.set('x', value)` to track assignments to `x`."
   ]
  },
  {
   "cell_type": "markdown",
   "metadata": {
    "slideshow": {
     "slide_type": "fragment"
    }
   },
   "source": [
    "If the left hand side of the assignment is more complex, as in `x[y] = value`, we want to ensure the read access to `x` and `y` is also tracked. By transforming `x[y] = value` into `_data.set('x', value, loads=(x, y))`, we ensure that `x` and `y` are marked as read (as the otherwise ignored `loads` argument would be changed to `_data.get()` calls for `x` and `y`)."
   ]
  },
  {
   "cell_type": "markdown",
   "metadata": {
    "slideshow": {
     "slide_type": "fragment"
    }
   },
   "source": [
    "Using `ast.dump()`, we reveal what the corresponding syntax tree has to look like:"
   ]
  },
  {
   "cell_type": "code",
   "execution_count": 84,
   "metadata": {
    "execution": {
     "iopub.execute_input": "2021-05-11T17:07:59.096044Z",
     "iopub.status.busy": "2021-05-11T17:07:59.095515Z",
     "iopub.status.idle": "2021-05-11T17:07:59.097561Z",
     "shell.execute_reply": "2021-05-11T17:07:59.097932Z"
    },
    "slideshow": {
     "slide_type": "subslide"
    }
   },
   "outputs": [
    {
     "name": "stdout",
     "output_type": "stream",
     "text": [
      "Module(body=[Expr(value=Call(func=Attribute(value=Name(id='_data', ctx=Load()), attr='set', ctx=Load()), args=[Str(s='x'), Name(id='value', ctx=Load())], keywords=[keyword(arg='loads', value=Tuple(elts=[Name(id='a', ctx=Load()), Name(id='b', ctx=Load())], ctx=Load()))]))])\n"
     ]
    }
   ],
   "source": [
    "print(ast.dump(ast.parse(\"_data.set('x', value, loads=(a, b))\")))"
   ]
  },
  {
   "cell_type": "markdown",
   "metadata": {
    "slideshow": {
     "slide_type": "fragment"
    }
   },
   "source": [
    "Using this structure, we can write a function `make_set_data()` which constructs such a subtree."
   ]
  },
  {
   "cell_type": "code",
   "execution_count": 85,
   "metadata": {
    "execution": {
     "iopub.execute_input": "2021-05-11T17:07:59.104070Z",
     "iopub.status.busy": "2021-05-11T17:07:59.103513Z",
     "iopub.status.idle": "2021-05-11T17:07:59.105397Z",
     "shell.execute_reply": "2021-05-11T17:07:59.105907Z"
    },
    "slideshow": {
     "slide_type": "subslide"
    }
   },
   "outputs": [],
   "source": [
    "def make_set_data(id: str, value: Any, \n",
    "                  loads: Optional[Set[str]] = None, method: str = 'set') -> Call:\n",
    "    \"\"\"\n",
    "    Construct a subtree _data.`method`('`id`', `value`). \n",
    "    If `loads` is set to [X1, X2, ...], make it\n",
    "    _data.`method`('`id`', `value`, loads=(X1, X2, ...))\n",
    "    \"\"\"\n",
    "\n",
    "    keywords=[]\n",
    "\n",
    "    if loads:\n",
    "        keywords = [\n",
    "            keyword(arg='loads',\n",
    "                    value=ast.Tuple(\n",
    "                        elts=[Name(id=load, ctx=Load()) for load in loads],\n",
    "                        ctx=Load()\n",
    "                    ))\n",
    "        ]\n",
    "\n",
    "    new_node = Call(func=Attribute(value=Name(id=DATA_TRACKER, ctx=Load()),\n",
    "                                   attr=method, ctx=Load()),\n",
    "                    args=[ast.Str(s=id), value],\n",
    "                    keywords=keywords)\n",
    "\n",
    "    ast.copy_location(new_node, value)\n",
    "\n",
    "    return new_node"
   ]
  },
  {
   "cell_type": "markdown",
   "metadata": {
    "slideshow": {
     "slide_type": "subslide"
    }
   },
   "source": [
    "The problem is, however: How do we get the name of the variable being assigned to? The left hand side of an assignment can be a complex expression such as `x[i]`. We use the leftmost name of the left hand side as name to be assigned to."
   ]
  },
  {
   "cell_type": "code",
   "execution_count": 86,
   "metadata": {
    "execution": {
     "iopub.execute_input": "2021-05-11T17:07:59.110484Z",
     "iopub.status.busy": "2021-05-11T17:07:59.109908Z",
     "iopub.status.idle": "2021-05-11T17:07:59.111708Z",
     "shell.execute_reply": "2021-05-11T17:07:59.112084Z"
    },
    "slideshow": {
     "slide_type": "fragment"
    }
   },
   "outputs": [],
   "source": [
    "class LeftmostNameVisitor(NodeVisitor):\n",
    "    def __init__(self) -> None:\n",
    "        super().__init__()\n",
    "        self.leftmost_name: Optional[str] = None\n",
    "\n",
    "    def visit_Name(self, node: Name) -> None:\n",
    "        if self.leftmost_name is None:\n",
    "            self.leftmost_name = node.id\n",
    "        self.generic_visit(node)"
   ]
  },
  {
   "cell_type": "code",
   "execution_count": 87,
   "metadata": {
    "execution": {
     "iopub.execute_input": "2021-05-11T17:07:59.115747Z",
     "iopub.status.busy": "2021-05-11T17:07:59.115112Z",
     "iopub.status.idle": "2021-05-11T17:07:59.116796Z",
     "shell.execute_reply": "2021-05-11T17:07:59.117167Z"
    },
    "slideshow": {
     "slide_type": "subslide"
    }
   },
   "outputs": [],
   "source": [
    "def leftmost_name(tree: AST) -> Optional[str]:\n",
    "    visitor = LeftmostNameVisitor()\n",
    "    visitor.visit(tree)\n",
    "    return visitor.leftmost_name"
   ]
  },
  {
   "cell_type": "code",
   "execution_count": 88,
   "metadata": {
    "execution": {
     "iopub.execute_input": "2021-05-11T17:07:59.120544Z",
     "iopub.status.busy": "2021-05-11T17:07:59.119935Z",
     "iopub.status.idle": "2021-05-11T17:07:59.122492Z",
     "shell.execute_reply": "2021-05-11T17:07:59.122936Z"
    },
    "slideshow": {
     "slide_type": "fragment"
    }
   },
   "outputs": [
    {
     "data": {
      "text/plain": [
       "'a'"
      ]
     },
     "execution_count": 1,
     "metadata": {},
     "output_type": "execute_result"
    }
   ],
   "source": [
    "leftmost_name(ast.parse('a[x] = 25'))"
   ]
  },
  {
   "cell_type": "markdown",
   "metadata": {
    "slideshow": {
     "slide_type": "fragment"
    }
   },
   "source": [
    "Python also allows _tuple assignments_, as in `(a, b, c) = (1, 2, 3)`. We extract all variables being stored (that is, expressions whose `ctx` attribute is `Store()`) and extract their (leftmost) names."
   ]
  },
  {
   "cell_type": "code",
   "execution_count": 89,
   "metadata": {
    "execution": {
     "iopub.execute_input": "2021-05-11T17:07:59.128400Z",
     "iopub.status.busy": "2021-05-11T17:07:59.127379Z",
     "iopub.status.idle": "2021-05-11T17:07:59.129509Z",
     "shell.execute_reply": "2021-05-11T17:07:59.129888Z"
    },
    "slideshow": {
     "slide_type": "subslide"
    }
   },
   "outputs": [],
   "source": [
    "class StoreVisitor(NodeVisitor):\n",
    "    def __init__(self) -> None:\n",
    "        super().__init__()\n",
    "        self.names: Set[str] = set()\n",
    "\n",
    "    def visit(self, node: AST) -> None:\n",
    "        if hasattr(node, 'ctx') and isinstance(node.ctx, Store):  # type: ignore\n",
    "            name = leftmost_name(node)\n",
    "            if name:\n",
    "                self.names.add(name)\n",
    "\n",
    "        self.generic_visit(node)"
   ]
  },
  {
   "cell_type": "code",
   "execution_count": 90,
   "metadata": {
    "execution": {
     "iopub.execute_input": "2021-05-11T17:07:59.133970Z",
     "iopub.status.busy": "2021-05-11T17:07:59.133338Z",
     "iopub.status.idle": "2021-05-11T17:07:59.135006Z",
     "shell.execute_reply": "2021-05-11T17:07:59.135445Z"
    },
    "slideshow": {
     "slide_type": "subslide"
    }
   },
   "outputs": [],
   "source": [
    "def store_names(tree: AST) -> Set[str]:\n",
    "    visitor = StoreVisitor()\n",
    "    visitor.visit(tree)\n",
    "    return visitor.names"
   ]
  },
  {
   "cell_type": "code",
   "execution_count": 91,
   "metadata": {
    "execution": {
     "iopub.execute_input": "2021-05-11T17:07:59.139678Z",
     "iopub.status.busy": "2021-05-11T17:07:59.138599Z",
     "iopub.status.idle": "2021-05-11T17:07:59.141220Z",
     "shell.execute_reply": "2021-05-11T17:07:59.141626Z"
    },
    "slideshow": {
     "slide_type": "fragment"
    }
   },
   "outputs": [
    {
     "data": {
      "text/plain": [
       "{'a', 'b', 'c'}"
      ]
     },
     "execution_count": 1,
     "metadata": {},
     "output_type": "execute_result"
    }
   ],
   "source": [
    "store_names(ast.parse('a[x], b[y], c = 1, 2, 3'))"
   ]
  },
  {
   "cell_type": "markdown",
   "metadata": {
    "slideshow": {
     "slide_type": "fragment"
    }
   },
   "source": [
    "For complex assignments, we also want to access the names read in the left hand side of an expression."
   ]
  },
  {
   "cell_type": "code",
   "execution_count": 92,
   "metadata": {
    "execution": {
     "iopub.execute_input": "2021-05-11T17:07:59.146657Z",
     "iopub.status.busy": "2021-05-11T17:07:59.146130Z",
     "iopub.status.idle": "2021-05-11T17:07:59.147961Z",
     "shell.execute_reply": "2021-05-11T17:07:59.148450Z"
    },
    "slideshow": {
     "slide_type": "subslide"
    }
   },
   "outputs": [],
   "source": [
    "class LoadVisitor(NodeVisitor):\n",
    "    def __init__(self) -> None:\n",
    "        super().__init__()\n",
    "        self.names: Set[str] = set()\n",
    "\n",
    "    def visit(self, node: AST) -> None:\n",
    "        if hasattr(node, 'ctx') and isinstance(node.ctx, Load):  # type: ignore\n",
    "            name = leftmost_name(node)\n",
    "            if name is not None:\n",
    "                self.names.add(name)\n",
    "\n",
    "        self.generic_visit(node)"
   ]
  },
  {
   "cell_type": "code",
   "execution_count": 93,
   "metadata": {
    "execution": {
     "iopub.execute_input": "2021-05-11T17:07:59.152175Z",
     "iopub.status.busy": "2021-05-11T17:07:59.151571Z",
     "iopub.status.idle": "2021-05-11T17:07:59.153430Z",
     "shell.execute_reply": "2021-05-11T17:07:59.153826Z"
    },
    "slideshow": {
     "slide_type": "subslide"
    }
   },
   "outputs": [],
   "source": [
    "def load_names(tree: AST) -> Set[str]:\n",
    "    visitor = LoadVisitor()\n",
    "    visitor.visit(tree)\n",
    "    return visitor.names"
   ]
  },
  {
   "cell_type": "code",
   "execution_count": 94,
   "metadata": {
    "execution": {
     "iopub.execute_input": "2021-05-11T17:07:59.157861Z",
     "iopub.status.busy": "2021-05-11T17:07:59.157331Z",
     "iopub.status.idle": "2021-05-11T17:07:59.160133Z",
     "shell.execute_reply": "2021-05-11T17:07:59.160537Z"
    },
    "slideshow": {
     "slide_type": "fragment"
    }
   },
   "outputs": [
    {
     "data": {
      "text/plain": [
       "{'a', 'b', 'x', 'y'}"
      ]
     },
     "execution_count": 1,
     "metadata": {},
     "output_type": "execute_result"
    }
   ],
   "source": [
    "load_names(ast.parse('a[x], b[y], c = 1, 2, 3'))"
   ]
  },
  {
   "cell_type": "markdown",
   "metadata": {
    "slideshow": {
     "slide_type": "fragment"
    }
   },
   "source": [
    "With this, we can now define `TrackSetTransformer` as a transformer for regular assignments. Note that in Python, an assignment can have multiple targets, as in `a = b = c`; we assign the data dependencies of `c` to them all."
   ]
  },
  {
   "cell_type": "code",
   "execution_count": 95,
   "metadata": {
    "execution": {
     "iopub.execute_input": "2021-05-11T17:07:59.165637Z",
     "iopub.status.busy": "2021-05-11T17:07:59.165029Z",
     "iopub.status.idle": "2021-05-11T17:07:59.166563Z",
     "shell.execute_reply": "2021-05-11T17:07:59.166939Z"
    },
    "slideshow": {
     "slide_type": "subslide"
    }
   },
   "outputs": [],
   "source": [
    "class TrackSetTransformer(NodeTransformer):\n",
    "    def visit_Assign(self, node: Assign) -> Assign:\n",
    "        value = astor.to_source(node.value)\n",
    "        if value.startswith(DATA_TRACKER + '.set'):\n",
    "            return node  # Do not apply twice\n",
    "\n",
    "        for target in node.targets:\n",
    "            loads = load_names(target)\n",
    "            for store_name in store_names(target):\n",
    "                node.value = make_set_data(store_name, node.value, \n",
    "                                           loads=loads)\n",
    "                loads = set()\n",
    "\n",
    "        return node"
   ]
  },
  {
   "cell_type": "markdown",
   "metadata": {
    "slideshow": {
     "slide_type": "subslide"
    }
   },
   "source": [
    "The special form of \"augmented assign\" needs special treatment. We change statements of the form `x += y` to `x += _data.augment('x', y)`."
   ]
  },
  {
   "cell_type": "code",
   "execution_count": 96,
   "metadata": {
    "execution": {
     "iopub.execute_input": "2021-05-11T17:07:59.171567Z",
     "iopub.status.busy": "2021-05-11T17:07:59.170915Z",
     "iopub.status.idle": "2021-05-11T17:07:59.172738Z",
     "shell.execute_reply": "2021-05-11T17:07:59.173283Z"
    },
    "slideshow": {
     "slide_type": "fragment"
    }
   },
   "outputs": [],
   "source": [
    "class TrackSetTransformer(TrackSetTransformer):\n",
    "    def visit_AugAssign(self, node: AugAssign) -> AugAssign:\n",
    "        value = astor.to_source(node.value)\n",
    "        if value.startswith(DATA_TRACKER):\n",
    "            return node  # Do not apply twice\n",
    "\n",
    "        id = cast(str, leftmost_name(node.target))\n",
    "        node.value = make_set_data(id, node.value, method='augment')\n",
    "\n",
    "        return node"
   ]
  },
  {
   "cell_type": "markdown",
   "metadata": {
    "slideshow": {
     "slide_type": "fragment"
    }
   },
   "source": [
    "The corresponding `augment()` method uses a combination of `set()` and `get()` to reflect the semantics."
   ]
  },
  {
   "cell_type": "code",
   "execution_count": 97,
   "metadata": {
    "execution": {
     "iopub.execute_input": "2021-05-11T17:07:59.177221Z",
     "iopub.status.busy": "2021-05-11T17:07:59.176647Z",
     "iopub.status.idle": "2021-05-11T17:07:59.178560Z",
     "shell.execute_reply": "2021-05-11T17:07:59.178934Z"
    },
    "slideshow": {
     "slide_type": "subslide"
    }
   },
   "outputs": [],
   "source": [
    "class DataTracker(DataTracker):\n",
    "    def augment(self, name: str, value: Any) -> Any:\n",
    "        \"\"\"\n",
    "        Track augmenting `name` with `value`.\n",
    "        To be overloaded in subclasses.\n",
    "        \"\"\"\n",
    "        self.set(name, self.get(name, value))\n",
    "        return value"
   ]
  },
  {
   "cell_type": "markdown",
   "metadata": {
    "slideshow": {
     "slide_type": "fragment"
    }
   },
   "source": [
    "\"Annotated\" assignments come with a type, as in `x: int = 3`. We treat them like regular assignments."
   ]
  },
  {
   "cell_type": "code",
   "execution_count": 98,
   "metadata": {
    "execution": {
     "iopub.execute_input": "2021-05-11T17:07:59.184489Z",
     "iopub.status.busy": "2021-05-11T17:07:59.183938Z",
     "iopub.status.idle": "2021-05-11T17:07:59.185999Z",
     "shell.execute_reply": "2021-05-11T17:07:59.186481Z"
    },
    "slideshow": {
     "slide_type": "subslide"
    }
   },
   "outputs": [],
   "source": [
    "class TrackSetTransformer(TrackSetTransformer):\n",
    "    def visit_AnnAssign(self, node: AnnAssign) -> AnnAssign:\n",
    "        if node.value is None:\n",
    "            return node  # just <var>: <type> without value\n",
    "\n",
    "        value = astor.to_source(node.value)\n",
    "        if value.startswith(DATA_TRACKER + '.set'):\n",
    "            return node  # Do not apply twice\n",
    "\n",
    "        loads = load_names(node.target)\n",
    "        for store_name in store_names(node.target):\n",
    "            node.value = make_set_data(store_name, node.value, \n",
    "                                       loads=loads)\n",
    "            loads = set()\n",
    "\n",
    "        return node"
   ]
  },
  {
   "cell_type": "markdown",
   "metadata": {
    "slideshow": {
     "slide_type": "subslide"
    }
   },
   "source": [
    "Finally, we treat _assertions_ just as if they were assignments to special variables:"
   ]
  },
  {
   "cell_type": "code",
   "execution_count": 99,
   "metadata": {
    "execution": {
     "iopub.execute_input": "2021-05-11T17:07:59.191761Z",
     "iopub.status.busy": "2021-05-11T17:07:59.191070Z",
     "iopub.status.idle": "2021-05-11T17:07:59.192770Z",
     "shell.execute_reply": "2021-05-11T17:07:59.193152Z"
    },
    "slideshow": {
     "slide_type": "fragment"
    }
   },
   "outputs": [],
   "source": [
    "class TrackSetTransformer(TrackSetTransformer):\n",
    "    def visit_Assert(self, node: Assert) -> Assert:\n",
    "        value = astor.to_source(node.test)\n",
    "        if value.startswith(DATA_TRACKER + '.set'):\n",
    "            return node  # Do not apply twice\n",
    "\n",
    "        loads = load_names(node.test)\n",
    "        node.test = make_set_data(\"<assertion>\", node.test, loads=loads)\n",
    "        return node"
   ]
  },
  {
   "cell_type": "markdown",
   "metadata": {
    "slideshow": {
     "slide_type": "fragment"
    }
   },
   "source": [
    "Here's all of these transformers in action. Our original function has a number of assignments:"
   ]
  },
  {
   "cell_type": "code",
   "execution_count": 100,
   "metadata": {
    "execution": {
     "iopub.execute_input": "2021-05-11T17:07:59.197632Z",
     "iopub.status.busy": "2021-05-11T17:07:59.197064Z",
     "iopub.status.idle": "2021-05-11T17:07:59.198813Z",
     "shell.execute_reply": "2021-05-11T17:07:59.199185Z"
    },
    "slideshow": {
     "slide_type": "subslide"
    }
   },
   "outputs": [],
   "source": [
    "def assign_test(x: int) -> Tuple[int, str]:  # type: ignore\n",
    "    fourty_two: int = 42\n",
    "    fourty_two = forty_two = 42\n",
    "    a, b = 1, 2\n",
    "    c = d = [a, b]\n",
    "    c[d[a]].attr = 47  # type: ignore\n",
    "    a *= b + 1\n",
    "    assert a > 0\n",
    "    return forty_two, \"Forty-Two\""
   ]
  },
  {
   "cell_type": "code",
   "execution_count": 101,
   "metadata": {
    "execution": {
     "iopub.execute_input": "2021-05-11T17:07:59.202327Z",
     "iopub.status.busy": "2021-05-11T17:07:59.201722Z",
     "iopub.status.idle": "2021-05-11T17:07:59.204149Z",
     "shell.execute_reply": "2021-05-11T17:07:59.204621Z"
    },
    "slideshow": {
     "slide_type": "fragment"
    }
   },
   "outputs": [],
   "source": [
    "assign_tree = ast.parse(inspect.getsource(assign_test))"
   ]
  },
  {
   "cell_type": "code",
   "execution_count": 102,
   "metadata": {
    "execution": {
     "iopub.execute_input": "2021-05-11T17:07:59.215675Z",
     "iopub.status.busy": "2021-05-11T17:07:59.215018Z",
     "iopub.status.idle": "2021-05-11T17:07:59.217059Z",
     "shell.execute_reply": "2021-05-11T17:07:59.217470Z"
    },
    "slideshow": {
     "slide_type": "subslide"
    }
   },
   "outputs": [
    {
     "name": "stdout",
     "output_type": "stream",
     "text": [
      "\u001b[34mdef\u001b[39;49;00m \u001b[32massign_test\u001b[39;49;00m(x: \u001b[36mint\u001b[39;49;00m) ->Tuple[\u001b[36mint\u001b[39;49;00m, \u001b[36mstr\u001b[39;49;00m]:\n",
      "    fourty_two: \u001b[36mint\u001b[39;49;00m = _data.set(\u001b[33m'\u001b[39;49;00m\u001b[33mfourty_two\u001b[39;49;00m\u001b[33m'\u001b[39;49;00m, \u001b[34m42\u001b[39;49;00m)\n",
      "    fourty_two = forty_two = _data.set(\u001b[33m'\u001b[39;49;00m\u001b[33mforty_two\u001b[39;49;00m\u001b[33m'\u001b[39;49;00m, _data.set(\u001b[33m'\u001b[39;49;00m\u001b[33mfourty_two\u001b[39;49;00m\u001b[33m'\u001b[39;49;00m, \u001b[34m42\u001b[39;49;00m)\n",
      "        )\n",
      "    a, b = _data.set(\u001b[33m'\u001b[39;49;00m\u001b[33mb\u001b[39;49;00m\u001b[33m'\u001b[39;49;00m, _data.set(\u001b[33m'\u001b[39;49;00m\u001b[33ma\u001b[39;49;00m\u001b[33m'\u001b[39;49;00m, (\u001b[34m1\u001b[39;49;00m, \u001b[34m2\u001b[39;49;00m)))\n",
      "    c = d = _data.set(\u001b[33m'\u001b[39;49;00m\u001b[33md\u001b[39;49;00m\u001b[33m'\u001b[39;49;00m, _data.set(\u001b[33m'\u001b[39;49;00m\u001b[33mc\u001b[39;49;00m\u001b[33m'\u001b[39;49;00m, [a, b]))\n",
      "    c[d[a]].attr = _data.set(\u001b[33m'\u001b[39;49;00m\u001b[33mc\u001b[39;49;00m\u001b[33m'\u001b[39;49;00m, \u001b[34m47\u001b[39;49;00m, loads=(a, c, d))\n",
      "    a *= _data.augment(\u001b[33m'\u001b[39;49;00m\u001b[33ma\u001b[39;49;00m\u001b[33m'\u001b[39;49;00m, b + \u001b[34m1\u001b[39;49;00m)\n",
      "    \u001b[34massert\u001b[39;49;00m _data.set(\u001b[33m'\u001b[39;49;00m\u001b[33m<assertion>\u001b[39;49;00m\u001b[33m'\u001b[39;49;00m, a > \u001b[34m0\u001b[39;49;00m, loads=(a,))\n",
      "    \u001b[34mreturn\u001b[39;49;00m forty_two, \u001b[33m'\u001b[39;49;00m\u001b[33mForty-Two\u001b[39;49;00m\u001b[33m'\u001b[39;49;00m"
     ]
    }
   ],
   "source": [
    "TrackSetTransformer().visit(assign_tree)\n",
    "dump_tree(assign_tree)"
   ]
  },
  {
   "cell_type": "markdown",
   "metadata": {
    "slideshow": {
     "slide_type": "fragment"
    }
   },
   "source": [
    "If we later apply our transformer for data accesses, we can see that we track all variable reads and writes."
   ]
  },
  {
   "cell_type": "code",
   "execution_count": 103,
   "metadata": {
    "execution": {
     "iopub.execute_input": "2021-05-11T17:07:59.231796Z",
     "iopub.status.busy": "2021-05-11T17:07:59.231127Z",
     "iopub.status.idle": "2021-05-11T17:07:59.233408Z",
     "shell.execute_reply": "2021-05-11T17:07:59.233832Z"
    },
    "slideshow": {
     "slide_type": "subslide"
    }
   },
   "outputs": [
    {
     "name": "stdout",
     "output_type": "stream",
     "text": [
      "\u001b[34mdef\u001b[39;49;00m \u001b[32massign_test\u001b[39;49;00m(x: \u001b[36mint\u001b[39;49;00m) ->Tuple[\u001b[36mint\u001b[39;49;00m, \u001b[36mstr\u001b[39;49;00m]:\n",
      "    fourty_two: \u001b[36mint\u001b[39;49;00m = _data.set(\u001b[33m'\u001b[39;49;00m\u001b[33mfourty_two\u001b[39;49;00m\u001b[33m'\u001b[39;49;00m, \u001b[34m42\u001b[39;49;00m)\n",
      "    fourty_two = forty_two = _data.set(\u001b[33m'\u001b[39;49;00m\u001b[33mforty_two\u001b[39;49;00m\u001b[33m'\u001b[39;49;00m, _data.set(\u001b[33m'\u001b[39;49;00m\u001b[33mfourty_two\u001b[39;49;00m\u001b[33m'\u001b[39;49;00m, \u001b[34m42\u001b[39;49;00m)\n",
      "        )\n",
      "    a, b = _data.set(\u001b[33m'\u001b[39;49;00m\u001b[33mb\u001b[39;49;00m\u001b[33m'\u001b[39;49;00m, _data.set(\u001b[33m'\u001b[39;49;00m\u001b[33ma\u001b[39;49;00m\u001b[33m'\u001b[39;49;00m, (\u001b[34m1\u001b[39;49;00m, \u001b[34m2\u001b[39;49;00m)))\n",
      "    c = d = _data.set(\u001b[33m'\u001b[39;49;00m\u001b[33md\u001b[39;49;00m\u001b[33m'\u001b[39;49;00m, _data.set(\u001b[33m'\u001b[39;49;00m\u001b[33mc\u001b[39;49;00m\u001b[33m'\u001b[39;49;00m, [_data.get(\u001b[33m'\u001b[39;49;00m\u001b[33ma\u001b[39;49;00m\u001b[33m'\u001b[39;49;00m, a), _data.get(\u001b[33m'\u001b[39;49;00m\u001b[33mb\u001b[39;49;00m\u001b[33m'\u001b[39;49;00m,\n",
      "        b)]))\n",
      "    _data.get(\u001b[33m'\u001b[39;49;00m\u001b[33mc\u001b[39;49;00m\u001b[33m'\u001b[39;49;00m, c)[_data.get(\u001b[33m'\u001b[39;49;00m\u001b[33md\u001b[39;49;00m\u001b[33m'\u001b[39;49;00m, d)[_data.get(\u001b[33m'\u001b[39;49;00m\u001b[33ma\u001b[39;49;00m\u001b[33m'\u001b[39;49;00m, a)]].attr = _data.set(\n",
      "        \u001b[33m'\u001b[39;49;00m\u001b[33mc\u001b[39;49;00m\u001b[33m'\u001b[39;49;00m, \u001b[34m47\u001b[39;49;00m, loads=(_data.get(\u001b[33m'\u001b[39;49;00m\u001b[33ma\u001b[39;49;00m\u001b[33m'\u001b[39;49;00m, a), _data.get(\u001b[33m'\u001b[39;49;00m\u001b[33mc\u001b[39;49;00m\u001b[33m'\u001b[39;49;00m, c), _data.get(\u001b[33m'\u001b[39;49;00m\u001b[33md\u001b[39;49;00m\u001b[33m'\u001b[39;49;00m,\n",
      "        d)))\n",
      "    a *= _data.augment(\u001b[33m'\u001b[39;49;00m\u001b[33ma\u001b[39;49;00m\u001b[33m'\u001b[39;49;00m, _data.get(\u001b[33m'\u001b[39;49;00m\u001b[33mb\u001b[39;49;00m\u001b[33m'\u001b[39;49;00m, b) + \u001b[34m1\u001b[39;49;00m)\n",
      "    \u001b[34massert\u001b[39;49;00m _data.set(\u001b[33m'\u001b[39;49;00m\u001b[33m<assertion>\u001b[39;49;00m\u001b[33m'\u001b[39;49;00m, _data.get(\u001b[33m'\u001b[39;49;00m\u001b[33ma\u001b[39;49;00m\u001b[33m'\u001b[39;49;00m, a) > \u001b[34m0\u001b[39;49;00m, loads=(_data.get\n",
      "        (\u001b[33m'\u001b[39;49;00m\u001b[33ma\u001b[39;49;00m\u001b[33m'\u001b[39;49;00m, a),))\n",
      "    \u001b[34mreturn\u001b[39;49;00m _data.get(\u001b[33m'\u001b[39;49;00m\u001b[33mforty_two\u001b[39;49;00m\u001b[33m'\u001b[39;49;00m, forty_two), \u001b[33m'\u001b[39;49;00m\u001b[33mForty-Two\u001b[39;49;00m\u001b[33m'\u001b[39;49;00m"
     ]
    }
   ],
   "source": [
    "TrackGetTransformer().visit(assign_tree)\n",
    "dump_tree(assign_tree)"
   ]
  },
  {
   "cell_type": "markdown",
   "metadata": {
    "slideshow": {
     "slide_type": "subslide"
    }
   },
   "source": [
    "### End of Excursion"
   ]
  },
  {
   "cell_type": "markdown",
   "metadata": {
    "slideshow": {
     "slide_type": "fragment"
    }
   },
   "source": [
    "Each return statement `return x` is transformed to `return _data.set('<return_value>', x)`. This allows to __track return values__."
   ]
  },
  {
   "cell_type": "markdown",
   "metadata": {
    "slideshow": {
     "slide_type": "subslide"
    }
   },
   "source": [
    "### Excursion: Tracking Return Values"
   ]
  },
  {
   "cell_type": "markdown",
   "metadata": {
    "slideshow": {
     "slide_type": "fragment"
    }
   },
   "source": [
    "Our `TrackReturnTransformer` also makes use of `make_set_data()`."
   ]
  },
  {
   "cell_type": "code",
   "execution_count": 104,
   "metadata": {
    "execution": {
     "iopub.execute_input": "2021-05-11T17:07:59.243309Z",
     "iopub.status.busy": "2021-05-11T17:07:59.242763Z",
     "iopub.status.idle": "2021-05-11T17:07:59.244869Z",
     "shell.execute_reply": "2021-05-11T17:07:59.245322Z"
    },
    "slideshow": {
     "slide_type": "subslide"
    }
   },
   "outputs": [],
   "source": [
    "class TrackReturnTransformer(NodeTransformer):\n",
    "    def __init__(self) -> None:\n",
    "        self.function_name: Optional[str] = None\n",
    "        super().__init__()\n",
    "\n",
    "    def visit_FunctionDef(self, node: Union[ast.FunctionDef, ast.AsyncFunctionDef]) -> AST:\n",
    "        outer_name = self.function_name\n",
    "        self.function_name = node.name  # Save current name\n",
    "        self.generic_visit(node)\n",
    "        self.function_name = outer_name\n",
    "        return node\n",
    "\n",
    "    def visit_AsyncFunctionDef(self, node: ast.AsyncFunctionDef) -> AST:\n",
    "        return self.visit_FunctionDef(node)\n",
    "\n",
    "    def return_value(self, tp: str = \"return\") -> str:\n",
    "        if self.function_name is None:\n",
    "            return f\"<{tp} value>\"\n",
    "        else:\n",
    "            return f\"<{self.function_name}() {tp} value>\"\n",
    "\n",
    "    def visit_return_or_yield(self, node: Union[ast.Return, ast.Yield, ast.YieldFrom],\n",
    "                              tp: str = \"return\") -> AST:\n",
    "\n",
    "        if node.value is not None:\n",
    "            value = astor.to_source(node.value)\n",
    "            if not value.startswith(DATA_TRACKER + '.set'):\n",
    "                node.value = make_set_data(self.return_value(tp), node.value)\n",
    "\n",
    "        return node\n",
    "\n",
    "    def visit_Return(self, node: ast.Return) -> AST:\n",
    "        return self.visit_return_or_yield(node, tp=\"return\")\n",
    "\n",
    "    def visit_Yield(self, node: ast.Yield) -> AST:\n",
    "        return self.visit_return_or_yield(node, tp=\"yield\")\n",
    "\n",
    "    def visit_YieldFrom(self, node: ast.YieldFrom) -> AST:\n",
    "        return self.visit_return_or_yield(node, tp=\"yield\")"
   ]
  },
  {
   "cell_type": "markdown",
   "metadata": {
    "slideshow": {
     "slide_type": "subslide"
    }
   },
   "source": [
    "This is the effect of `TrackReturnTransformer`. We see that all return values are saved, and thus all locations of the corresponding return statements are tracked."
   ]
  },
  {
   "cell_type": "code",
   "execution_count": 105,
   "metadata": {
    "execution": {
     "iopub.execute_input": "2021-05-11T17:07:59.257916Z",
     "iopub.status.busy": "2021-05-11T17:07:59.257242Z",
     "iopub.status.idle": "2021-05-11T17:07:59.259234Z",
     "shell.execute_reply": "2021-05-11T17:07:59.259604Z"
    },
    "slideshow": {
     "slide_type": "subslide"
    }
   },
   "outputs": [
    {
     "name": "stdout",
     "output_type": "stream",
     "text": [
      "\u001b[34mdef\u001b[39;49;00m \u001b[32mmiddle\u001b[39;49;00m(x, y, z):\n",
      "    \u001b[34mif\u001b[39;49;00m _data.get(\u001b[33m'\u001b[39;49;00m\u001b[33my\u001b[39;49;00m\u001b[33m'\u001b[39;49;00m, y) < _data.get(\u001b[33m'\u001b[39;49;00m\u001b[33mz\u001b[39;49;00m\u001b[33m'\u001b[39;49;00m, z):\n",
      "        \u001b[34mif\u001b[39;49;00m _data.get(\u001b[33m'\u001b[39;49;00m\u001b[33mx\u001b[39;49;00m\u001b[33m'\u001b[39;49;00m, x) < _data.get(\u001b[33m'\u001b[39;49;00m\u001b[33my\u001b[39;49;00m\u001b[33m'\u001b[39;49;00m, y):\n",
      "            \u001b[34mreturn\u001b[39;49;00m _data.set(\u001b[33m'\u001b[39;49;00m\u001b[33m<middle() return value>\u001b[39;49;00m\u001b[33m'\u001b[39;49;00m, _data.get(\u001b[33m'\u001b[39;49;00m\u001b[33my\u001b[39;49;00m\u001b[33m'\u001b[39;49;00m, y))\n",
      "        \u001b[34melif\u001b[39;49;00m _data.get(\u001b[33m'\u001b[39;49;00m\u001b[33mx\u001b[39;49;00m\u001b[33m'\u001b[39;49;00m, x) < _data.get(\u001b[33m'\u001b[39;49;00m\u001b[33mz\u001b[39;49;00m\u001b[33m'\u001b[39;49;00m, z):\n",
      "            \u001b[34mreturn\u001b[39;49;00m _data.set(\u001b[33m'\u001b[39;49;00m\u001b[33m<middle() return value>\u001b[39;49;00m\u001b[33m'\u001b[39;49;00m, _data.get(\u001b[33m'\u001b[39;49;00m\u001b[33my\u001b[39;49;00m\u001b[33m'\u001b[39;49;00m, y))\n",
      "    \u001b[34melif\u001b[39;49;00m _data.get(\u001b[33m'\u001b[39;49;00m\u001b[33mx\u001b[39;49;00m\u001b[33m'\u001b[39;49;00m, x) > _data.get(\u001b[33m'\u001b[39;49;00m\u001b[33my\u001b[39;49;00m\u001b[33m'\u001b[39;49;00m, y):\n",
      "        \u001b[34mreturn\u001b[39;49;00m _data.set(\u001b[33m'\u001b[39;49;00m\u001b[33m<middle() return value>\u001b[39;49;00m\u001b[33m'\u001b[39;49;00m, _data.get(\u001b[33m'\u001b[39;49;00m\u001b[33my\u001b[39;49;00m\u001b[33m'\u001b[39;49;00m, y))\n",
      "    \u001b[34melif\u001b[39;49;00m _data.get(\u001b[33m'\u001b[39;49;00m\u001b[33mx\u001b[39;49;00m\u001b[33m'\u001b[39;49;00m, x) > _data.get(\u001b[33m'\u001b[39;49;00m\u001b[33mz\u001b[39;49;00m\u001b[33m'\u001b[39;49;00m, z):\n",
      "        \u001b[34mreturn\u001b[39;49;00m _data.set(\u001b[33m'\u001b[39;49;00m\u001b[33m<middle() return value>\u001b[39;49;00m\u001b[33m'\u001b[39;49;00m, _data.get(\u001b[33m'\u001b[39;49;00m\u001b[33mx\u001b[39;49;00m\u001b[33m'\u001b[39;49;00m, x))\n",
      "    \u001b[34mreturn\u001b[39;49;00m _data.set(\u001b[33m'\u001b[39;49;00m\u001b[33m<middle() return value>\u001b[39;49;00m\u001b[33m'\u001b[39;49;00m, _data.get(\u001b[33m'\u001b[39;49;00m\u001b[33mz\u001b[39;49;00m\u001b[33m'\u001b[39;49;00m, z))"
     ]
    }
   ],
   "source": [
    "TrackReturnTransformer().visit(middle_tree)\n",
    "dump_tree(middle_tree)"
   ]
  },
  {
   "cell_type": "code",
   "execution_count": 106,
   "metadata": {
    "execution": {
     "iopub.execute_input": "2021-05-11T17:07:59.263020Z",
     "iopub.status.busy": "2021-05-11T17:07:59.262417Z",
     "iopub.status.idle": "2021-05-11T17:07:59.264646Z",
     "shell.execute_reply": "2021-05-11T17:07:59.265034Z"
    },
    "slideshow": {
     "slide_type": "subslide"
    }
   },
   "outputs": [
    {
     "name": "stdout",
     "output_type": "stream",
     "text": [
      "middle:2: getting y\n",
      "middle:2: getting z\n",
      "middle:3: getting x\n",
      "middle:3: getting y\n",
      "middle:5: getting x\n",
      "middle:5: getting z\n",
      "middle:6: getting y\n",
      "middle:6: setting <middle() return value>\n"
     ]
    }
   ],
   "source": [
    "with DataTrackerTester(middle_tree, middle):\n",
    "    middle(2, 1, 3)"
   ]
  },
  {
   "cell_type": "markdown",
   "metadata": {
    "slideshow": {
     "slide_type": "subslide"
    }
   },
   "source": [
    "### End of Excursion"
   ]
  },
  {
   "cell_type": "markdown",
   "metadata": {
    "slideshow": {
     "slide_type": "subslide"
    }
   },
   "source": [
    "To track __control dependencies__, for every block controlled by an `if`, `while`, or `for`:\n",
    "\n",
    "1. We wrap their tests in a `_data.test()` wrapper. This allows us to assign pseudo-variables like `<test>` which hold the conditions.\n",
    "2. We wrap their controlled blocks in a `with` statement. This allows us to track the variables read right before the `with` (= the controlling variables), and to restore the current controlling variables when the block is left.\n",
    "\n",
    "A statement\n",
    "\n",
    "```python\n",
    "if cond:\n",
    "    body\n",
    "```\n",
    "\n",
    "thus becomes\n",
    "\n",
    "```python\n",
    "if _data.test(cond):\n",
    "    with _data:\n",
    "        body\n",
    "```"
   ]
  },
  {
   "cell_type": "markdown",
   "metadata": {
    "slideshow": {
     "slide_type": "subslide"
    }
   },
   "source": [
    "### Excursion: Tracking Control"
   ]
  },
  {
   "cell_type": "markdown",
   "metadata": {
    "slideshow": {
     "slide_type": "fragment"
    }
   },
   "source": [
    "To modify control statements, we traverse the tree, looking for `If` nodes:"
   ]
  },
  {
   "cell_type": "code",
   "execution_count": 107,
   "metadata": {
    "execution": {
     "iopub.execute_input": "2021-05-11T17:07:59.269742Z",
     "iopub.status.busy": "2021-05-11T17:07:59.269164Z",
     "iopub.status.idle": "2021-05-11T17:07:59.271141Z",
     "shell.execute_reply": "2021-05-11T17:07:59.271938Z"
    },
    "slideshow": {
     "slide_type": "fragment"
    }
   },
   "outputs": [],
   "source": [
    "class TrackControlTransformer(NodeTransformer):\n",
    "    def visit_If(self, node: ast.If) -> ast.If:\n",
    "        self.generic_visit(node)\n",
    "        node.test = self.make_test(node.test)\n",
    "        node.body = self.make_with(node.body)\n",
    "        node.orelse = self.make_with(node.orelse)\n",
    "        return node"
   ]
  },
  {
   "cell_type": "markdown",
   "metadata": {
    "slideshow": {
     "slide_type": "fragment"
    }
   },
   "source": [
    "The subtrees come from helper functions `make_with()` and `make_test()`. Again, all these subtrees are obtained via `ast.dump()`."
   ]
  },
  {
   "cell_type": "code",
   "execution_count": 108,
   "metadata": {
    "execution": {
     "iopub.execute_input": "2021-05-11T17:07:59.278592Z",
     "iopub.status.busy": "2021-05-11T17:07:59.278010Z",
     "iopub.status.idle": "2021-05-11T17:07:59.279443Z",
     "shell.execute_reply": "2021-05-11T17:07:59.279819Z"
    },
    "slideshow": {
     "slide_type": "subslide"
    }
   },
   "outputs": [],
   "source": [
    "class TrackControlTransformer(TrackControlTransformer):\n",
    "    def make_with(self, block: List[ast.stmt]) -> List[ast.stmt]:\n",
    "        \"\"\"Create a subtree 'with _data: `block`'\"\"\"\n",
    "        if len(block) == 0:\n",
    "            return []\n",
    "\n",
    "        block_as_text = astor.to_source(block[0])\n",
    "        if block_as_text.startswith('with ' + DATA_TRACKER):\n",
    "            return block  # Do not apply twice\n",
    "\n",
    "        new_node = With(\n",
    "            items=[\n",
    "                withitem(\n",
    "                    context_expr=Name(id=DATA_TRACKER, ctx=Load()),\n",
    "                    optional_vars=None)\n",
    "            ],\n",
    "            body=block\n",
    "        )\n",
    "        ast.copy_location(new_node, block[0])\n",
    "        return [new_node]"
   ]
  },
  {
   "cell_type": "code",
   "execution_count": 109,
   "metadata": {
    "execution": {
     "iopub.execute_input": "2021-05-11T17:07:59.285460Z",
     "iopub.status.busy": "2021-05-11T17:07:59.284718Z",
     "iopub.status.idle": "2021-05-11T17:07:59.286530Z",
     "shell.execute_reply": "2021-05-11T17:07:59.286973Z"
    },
    "slideshow": {
     "slide_type": "subslide"
    }
   },
   "outputs": [],
   "source": [
    "class TrackControlTransformer(TrackControlTransformer):\n",
    "    def make_test(self, test: ast.expr) -> ast.expr:\n",
    "        test_as_text = astor.to_source(test)\n",
    "        if test_as_text.startswith(DATA_TRACKER + '.test'):\n",
    "            return test  # Do not apply twice\n",
    "\n",
    "        new_test = Call(func=Attribute(value=Name(id=DATA_TRACKER, ctx=Load()),\n",
    "                                       attr='test',\n",
    "                                       ctx=Load()),\n",
    "                         args=[test],\n",
    "                         keywords=[])\n",
    "        ast.copy_location(new_test, test)\n",
    "        return new_test"
   ]
  },
  {
   "cell_type": "markdown",
   "metadata": {
    "slideshow": {
     "slide_type": "fragment"
    }
   },
   "source": [
    "`while` loops are handled just like `if` constructs."
   ]
  },
  {
   "cell_type": "code",
   "execution_count": 110,
   "metadata": {
    "execution": {
     "iopub.execute_input": "2021-05-11T17:07:59.295772Z",
     "iopub.status.busy": "2021-05-11T17:07:59.295075Z",
     "iopub.status.idle": "2021-05-11T17:07:59.296928Z",
     "shell.execute_reply": "2021-05-11T17:07:59.297327Z"
    },
    "slideshow": {
     "slide_type": "subslide"
    }
   },
   "outputs": [],
   "source": [
    "class TrackControlTransformer(TrackControlTransformer):\n",
    "    def visit_While(self, node: ast.While) -> ast.While:\n",
    "        self.generic_visit(node)\n",
    "        node.test = self.make_test(node.test)\n",
    "        node.body = self.make_with(node.body)\n",
    "        node.orelse = self.make_with(node.orelse)\n",
    "        return node"
   ]
  },
  {
   "cell_type": "markdown",
   "metadata": {
    "slideshow": {
     "slide_type": "fragment"
    }
   },
   "source": [
    "`for` loops gets a different treatment, as there is no condition that would control the body. Still, we ensure that setting the iterator variable is properly tracked."
   ]
  },
  {
   "cell_type": "code",
   "execution_count": 111,
   "metadata": {
    "execution": {
     "iopub.execute_input": "2021-05-11T17:07:59.303233Z",
     "iopub.status.busy": "2021-05-11T17:07:59.302613Z",
     "iopub.status.idle": "2021-05-11T17:07:59.304323Z",
     "shell.execute_reply": "2021-05-11T17:07:59.304812Z"
    },
    "slideshow": {
     "slide_type": "subslide"
    }
   },
   "outputs": [],
   "source": [
    "class TrackControlTransformer(TrackControlTransformer):\n",
    "    # regular `for` loop\n",
    "    def visit_For(self, node: Union[ast.For, ast.AsyncFor]) -> AST:\n",
    "        self.generic_visit(node)\n",
    "        id = astor.to_source(node.target).strip()\n",
    "        node.iter = make_set_data(id, node.iter)\n",
    "\n",
    "        # Uncomment if you want iterators to control their bodies\n",
    "        # node.body = self.make_with(node.body)\n",
    "        # node.orelse = self.make_with(node.orelse)\n",
    "        return node\n",
    "\n",
    "    # `for` loops in async functions\n",
    "    def visit_AsyncFor(self, node: ast.AsyncFor) -> AST:\n",
    "        return self.visit_For(node)\n",
    "\n",
    "    # `for` clause in comprehensions\n",
    "    def visit_comprehension(self, node: ast.comprehension) -> AST:\n",
    "        self.generic_visit(node)\n",
    "        id = astor.to_source(node.target).strip()\n",
    "        node.iter = make_set_data(id, node.iter)\n",
    "        return node"
   ]
  },
  {
   "cell_type": "markdown",
   "metadata": {
    "slideshow": {
     "slide_type": "subslide"
    }
   },
   "source": [
    "Here is the effect of `TrackControlTransformer`:"
   ]
  },
  {
   "cell_type": "code",
   "execution_count": 112,
   "metadata": {
    "execution": {
     "iopub.execute_input": "2021-05-11T17:07:59.318701Z",
     "iopub.status.busy": "2021-05-11T17:07:59.318167Z",
     "iopub.status.idle": "2021-05-11T17:07:59.320833Z",
     "shell.execute_reply": "2021-05-11T17:07:59.321246Z"
    },
    "slideshow": {
     "slide_type": "subslide"
    }
   },
   "outputs": [
    {
     "name": "stdout",
     "output_type": "stream",
     "text": [
      "\u001b[34mdef\u001b[39;49;00m \u001b[32mmiddle\u001b[39;49;00m(x, y, z):\n",
      "    \u001b[34mif\u001b[39;49;00m _data.test(_data.get(\u001b[33m'\u001b[39;49;00m\u001b[33my\u001b[39;49;00m\u001b[33m'\u001b[39;49;00m, y) < _data.get(\u001b[33m'\u001b[39;49;00m\u001b[33mz\u001b[39;49;00m\u001b[33m'\u001b[39;49;00m, z)):\n",
      "        \u001b[34mwith\u001b[39;49;00m _data:\n",
      "            \u001b[34mif\u001b[39;49;00m _data.test(_data.get(\u001b[33m'\u001b[39;49;00m\u001b[33mx\u001b[39;49;00m\u001b[33m'\u001b[39;49;00m, x) < _data.get(\u001b[33m'\u001b[39;49;00m\u001b[33my\u001b[39;49;00m\u001b[33m'\u001b[39;49;00m, y)):\n",
      "                \u001b[34mwith\u001b[39;49;00m _data:\n",
      "                    \u001b[34mreturn\u001b[39;49;00m _data.set(\u001b[33m'\u001b[39;49;00m\u001b[33m<middle() return value>\u001b[39;49;00m\u001b[33m'\u001b[39;49;00m, _data.get(\n",
      "                        \u001b[33m'\u001b[39;49;00m\u001b[33my\u001b[39;49;00m\u001b[33m'\u001b[39;49;00m, y))\n",
      "            \u001b[34melse\u001b[39;49;00m:\n",
      "                \u001b[34mwith\u001b[39;49;00m _data:\n",
      "                    \u001b[34mif\u001b[39;49;00m _data.test(_data.get(\u001b[33m'\u001b[39;49;00m\u001b[33mx\u001b[39;49;00m\u001b[33m'\u001b[39;49;00m, x) < _data.get(\u001b[33m'\u001b[39;49;00m\u001b[33mz\u001b[39;49;00m\u001b[33m'\u001b[39;49;00m, z)):\n",
      "                        \u001b[34mwith\u001b[39;49;00m _data:\n",
      "                            \u001b[34mreturn\u001b[39;49;00m _data.set(\u001b[33m'\u001b[39;49;00m\u001b[33m<middle() return value>\u001b[39;49;00m\u001b[33m'\u001b[39;49;00m,\n",
      "                                _data.get(\u001b[33m'\u001b[39;49;00m\u001b[33my\u001b[39;49;00m\u001b[33m'\u001b[39;49;00m, y))\n",
      "    \u001b[34melse\u001b[39;49;00m:\n",
      "        \u001b[34mwith\u001b[39;49;00m _data:\n",
      "            \u001b[34mif\u001b[39;49;00m _data.test(_data.get(\u001b[33m'\u001b[39;49;00m\u001b[33mx\u001b[39;49;00m\u001b[33m'\u001b[39;49;00m, x) > _data.get(\u001b[33m'\u001b[39;49;00m\u001b[33my\u001b[39;49;00m\u001b[33m'\u001b[39;49;00m, y)):\n",
      "                \u001b[34mwith\u001b[39;49;00m _data:\n",
      "                    \u001b[34mreturn\u001b[39;49;00m _data.set(\u001b[33m'\u001b[39;49;00m\u001b[33m<middle() return value>\u001b[39;49;00m\u001b[33m'\u001b[39;49;00m, _data.get(\n",
      "                        \u001b[33m'\u001b[39;49;00m\u001b[33my\u001b[39;49;00m\u001b[33m'\u001b[39;49;00m, y))\n",
      "            \u001b[34melse\u001b[39;49;00m:\n",
      "                \u001b[34mwith\u001b[39;49;00m _data:\n",
      "                    \u001b[34mif\u001b[39;49;00m _data.test(_data.get(\u001b[33m'\u001b[39;49;00m\u001b[33mx\u001b[39;49;00m\u001b[33m'\u001b[39;49;00m, x) > _data.get(\u001b[33m'\u001b[39;49;00m\u001b[33mz\u001b[39;49;00m\u001b[33m'\u001b[39;49;00m, z)):\n",
      "                        \u001b[34mwith\u001b[39;49;00m _data:\n",
      "                            \u001b[34mreturn\u001b[39;49;00m _data.set(\u001b[33m'\u001b[39;49;00m\u001b[33m<middle() return value>\u001b[39;49;00m\u001b[33m'\u001b[39;49;00m,\n",
      "                                _data.get(\u001b[33m'\u001b[39;49;00m\u001b[33mx\u001b[39;49;00m\u001b[33m'\u001b[39;49;00m, x))\n",
      "    \u001b[34mreturn\u001b[39;49;00m _data.set(\u001b[33m'\u001b[39;49;00m\u001b[33m<middle() return value>\u001b[39;49;00m\u001b[33m'\u001b[39;49;00m, _data.get(\u001b[33m'\u001b[39;49;00m\u001b[33mz\u001b[39;49;00m\u001b[33m'\u001b[39;49;00m, z))"
     ]
    }
   ],
   "source": [
    "TrackControlTransformer().visit(middle_tree)\n",
    "dump_tree(middle_tree)"
   ]
  },
  {
   "cell_type": "markdown",
   "metadata": {
    "slideshow": {
     "slide_type": "subslide"
    }
   },
   "source": [
    "We extend `DataTracker` to also log these events:"
   ]
  },
  {
   "cell_type": "code",
   "execution_count": 113,
   "metadata": {
    "execution": {
     "iopub.execute_input": "2021-05-11T17:07:59.325953Z",
     "iopub.status.busy": "2021-05-11T17:07:59.325312Z",
     "iopub.status.idle": "2021-05-11T17:07:59.326891Z",
     "shell.execute_reply": "2021-05-11T17:07:59.327259Z"
    },
    "slideshow": {
     "slide_type": "fragment"
    }
   },
   "outputs": [],
   "source": [
    "class DataTracker(DataTracker):\n",
    "    def test(self, cond: AST) -> AST:\n",
    "        \"\"\"Test condition `cond`. To be overloaded in subclasses.\"\"\"\n",
    "        if self.log:\n",
    "            caller_func, lineno = self.caller_location()\n",
    "            print(f\"{caller_func.__name__}:{lineno}: testing condition\")\n",
    "\n",
    "        return cond"
   ]
  },
  {
   "cell_type": "code",
   "execution_count": 114,
   "metadata": {
    "execution": {
     "iopub.execute_input": "2021-05-11T17:07:59.332816Z",
     "iopub.status.busy": "2021-05-11T17:07:59.332217Z",
     "iopub.status.idle": "2021-05-11T17:07:59.333833Z",
     "shell.execute_reply": "2021-05-11T17:07:59.334208Z"
    },
    "slideshow": {
     "slide_type": "subslide"
    }
   },
   "outputs": [],
   "source": [
    "class DataTracker(DataTracker):\n",
    "    def __enter__(self) -> Any:\n",
    "        \"\"\"Enter `with` block. To be overloaded in subclasses.\"\"\"\n",
    "        if self.log:\n",
    "            caller_func, lineno = self.caller_location()\n",
    "            print(f\"{caller_func.__name__}:{lineno}: entering block\")\n",
    "        return self\n",
    "\n",
    "    def __exit__(self, exc_type: Type, exc_value: BaseException, \n",
    "                 traceback: TracebackType) -> Optional[bool]:\n",
    "        \"\"\"Exit `with` block. To be overloaded in subclasses.\"\"\"\n",
    "        if self.log:\n",
    "            caller_func, lineno = self.caller_location()\n",
    "            print(f\"{caller_func.__name__}:{lineno}: exiting block\")\n",
    "        return None"
   ]
  },
  {
   "cell_type": "code",
   "execution_count": 115,
   "metadata": {
    "execution": {
     "iopub.execute_input": "2021-05-11T17:07:59.337667Z",
     "iopub.status.busy": "2021-05-11T17:07:59.336998Z",
     "iopub.status.idle": "2021-05-11T17:07:59.340394Z",
     "shell.execute_reply": "2021-05-11T17:07:59.340971Z"
    },
    "slideshow": {
     "slide_type": "subslide"
    }
   },
   "outputs": [
    {
     "name": "stdout",
     "output_type": "stream",
     "text": [
      "middle:2: getting y\n",
      "middle:2: getting z\n",
      "middle:2: testing condition\n",
      "middle:3: entering block\n",
      "middle:3: getting x\n",
      "middle:3: getting y\n",
      "middle:3: testing condition\n",
      "middle:5: entering block\n",
      "middle:5: getting x\n",
      "middle:5: getting z\n",
      "middle:5: testing condition\n",
      "middle:6: entering block\n",
      "middle:6: getting y\n",
      "middle:6: setting <middle() return value>\n",
      "middle:6: exiting block\n",
      "middle:6: exiting block\n",
      "middle:6: exiting block\n"
     ]
    }
   ],
   "source": [
    "with DataTrackerTester(middle_tree, middle):\n",
    "    middle(2, 1, 3)"
   ]
  },
  {
   "cell_type": "markdown",
   "metadata": {
    "slideshow": {
     "slide_type": "subslide"
    }
   },
   "source": [
    "### End of Excursion"
   ]
  },
  {
   "cell_type": "markdown",
   "metadata": {
    "slideshow": {
     "slide_type": "subslide"
    }
   },
   "source": [
    "We also want to be able to __track calls__ across multiple functions. To this end, we wrap each call\n",
    "\n",
    "```python\n",
    "func(arg1, arg2, ...)\n",
    "```\n",
    "\n",
    "into\n",
    "\n",
    "```python\n",
    "_data.ret(_data.call(func)(_data.arg(arg1), _data.arg(arg2), ...))\n",
    "```\n",
    "\n",
    "each of which simply pass through their given argument, but which allow to track the beginning of calls (`call()`), the computation of arguments (`arg()`), and the return of the call (`ret()`), respectively."
   ]
  },
  {
   "cell_type": "markdown",
   "metadata": {
    "slideshow": {
     "slide_type": "subslide"
    }
   },
   "source": [
    "### Excursion: Tracking Calls and Arguments"
   ]
  },
  {
   "cell_type": "markdown",
   "metadata": {
    "slideshow": {
     "slide_type": "fragment"
    }
   },
   "source": [
    "Our `TrackCallTransformer` visits all `Call` nodes, applying the transformations as shown above."
   ]
  },
  {
   "cell_type": "code",
   "execution_count": 116,
   "metadata": {
    "execution": {
     "iopub.execute_input": "2021-05-11T17:07:59.350468Z",
     "iopub.status.busy": "2021-05-11T17:07:59.349878Z",
     "iopub.status.idle": "2021-05-11T17:07:59.351535Z",
     "shell.execute_reply": "2021-05-11T17:07:59.351906Z"
    },
    "slideshow": {
     "slide_type": "subslide"
    }
   },
   "outputs": [],
   "source": [
    "class TrackCallTransformer(NodeTransformer):\n",
    "    def make_call(self, node: AST, func: str, \n",
    "                  pos: Optional[int] = None, kw: Optional[str] = None) -> Call:\n",
    "        \"\"\"Return _data.call(`func`)(`node`)\"\"\"\n",
    "        keywords = []\n",
    "\n",
    "        # `Num()` and `Str()` are deprecated in favor of `Constant()`\n",
    "        if pos:\n",
    "            keywords.append(keyword(arg='pos', value=ast.Num(pos)))\n",
    "        if kw:\n",
    "            keywords.append(keyword(arg='kw', value=ast.Str(kw)))\n",
    "\n",
    "        return Call(func=Attribute(value=Name(id=DATA_TRACKER,\n",
    "                                              ctx=Load()),\n",
    "                                   attr=func,\n",
    "                                   ctx=Load()),\n",
    "                     args=[node],\n",
    "                     keywords=keywords)\n",
    "\n",
    "    def visit_Call(self, node: Call) -> Call:\n",
    "        self.generic_visit(node)\n",
    "\n",
    "        call_as_text = astor.to_source(node)\n",
    "        if call_as_text.startswith(DATA_TRACKER + '.ret'):\n",
    "            return node  # Already applied\n",
    "\n",
    "        func_as_text = astor.to_source(node)\n",
    "        if func_as_text.startswith(DATA_TRACKER + '.'):\n",
    "            return node  # Own function\n",
    "\n",
    "        new_args = []\n",
    "        for n, arg in enumerate(node.args):\n",
    "            new_args.append(self.make_call(arg, 'arg', pos=n + 1))\n",
    "        node.args = cast(List[ast.expr], new_args)\n",
    "\n",
    "        for kw in node.keywords:\n",
    "            id = kw.arg if hasattr(kw, 'arg') else None\n",
    "            kw.value = self.make_call(kw.value, 'arg', kw=id)\n",
    "\n",
    "        node.func = self.make_call(node.func, 'call')\n",
    "        return self.make_call(node, 'ret')"
   ]
  },
  {
   "cell_type": "markdown",
   "metadata": {
    "slideshow": {
     "slide_type": "subslide"
    }
   },
   "source": [
    "Our example function `middle()` does not contain any calls, but here is a function that invokes `middle()` twice:"
   ]
  },
  {
   "cell_type": "code",
   "execution_count": 117,
   "metadata": {
    "execution": {
     "iopub.execute_input": "2021-05-11T17:07:59.355306Z",
     "iopub.status.busy": "2021-05-11T17:07:59.354749Z",
     "iopub.status.idle": "2021-05-11T17:07:59.356764Z",
     "shell.execute_reply": "2021-05-11T17:07:59.357157Z"
    },
    "slideshow": {
     "slide_type": "fragment"
    }
   },
   "outputs": [],
   "source": [
    "def test_call() -> int:\n",
    "    x = middle(1, 2, z=middle(1, 2, 3))\n",
    "    return x"
   ]
  },
  {
   "cell_type": "code",
   "execution_count": 118,
   "metadata": {
    "execution": {
     "iopub.execute_input": "2021-05-11T17:07:59.364682Z",
     "iopub.status.busy": "2021-05-11T17:07:59.359886Z",
     "iopub.status.idle": "2021-05-11T17:07:59.366467Z",
     "shell.execute_reply": "2021-05-11T17:07:59.366843Z"
    },
    "slideshow": {
     "slide_type": "fragment"
    }
   },
   "outputs": [
    {
     "name": "stdout",
     "output_type": "stream",
     "text": [
      "\u001b[34mdef\u001b[39;49;00m \u001b[32mtest_call\u001b[39;49;00m() ->\u001b[36mint\u001b[39;49;00m:\n",
      "    x = middle(\u001b[34m1\u001b[39;49;00m, \u001b[34m2\u001b[39;49;00m, z=middle(\u001b[34m1\u001b[39;49;00m, \u001b[34m2\u001b[39;49;00m, \u001b[34m3\u001b[39;49;00m))\n",
      "    \u001b[34mreturn\u001b[39;49;00m x"
     ]
    }
   ],
   "source": [
    "call_tree = ast.parse(inspect.getsource(test_call))\n",
    "dump_tree(call_tree)"
   ]
  },
  {
   "cell_type": "markdown",
   "metadata": {
    "slideshow": {
     "slide_type": "fragment"
    }
   },
   "source": [
    "If we invoke `TrackCallTransformer` on this testing function, we get the following transformed code:"
   ]
  },
  {
   "cell_type": "code",
   "execution_count": 119,
   "metadata": {
    "execution": {
     "iopub.execute_input": "2021-05-11T17:07:59.371659Z",
     "iopub.status.busy": "2021-05-11T17:07:59.370709Z",
     "iopub.status.idle": "2021-05-11T17:07:59.373480Z",
     "shell.execute_reply": "2021-05-11T17:07:59.373851Z"
    },
    "slideshow": {
     "slide_type": "fragment"
    }
   },
   "outputs": [
    {
     "data": {
      "text/plain": [
       "<_ast.Module at 0x7fe245bf6278>"
      ]
     },
     "execution_count": 1,
     "metadata": {},
     "output_type": "execute_result"
    }
   ],
   "source": [
    "TrackCallTransformer().visit(call_tree);"
   ]
  },
  {
   "cell_type": "code",
   "execution_count": 120,
   "metadata": {
    "execution": {
     "iopub.execute_input": "2021-05-11T17:07:59.382072Z",
     "iopub.status.busy": "2021-05-11T17:07:59.381387Z",
     "iopub.status.idle": "2021-05-11T17:07:59.384063Z",
     "shell.execute_reply": "2021-05-11T17:07:59.384460Z"
    },
    "slideshow": {
     "slide_type": "subslide"
    }
   },
   "outputs": [
    {
     "name": "stdout",
     "output_type": "stream",
     "text": [
      "\u001b[34mdef\u001b[39;49;00m \u001b[32mtest_call\u001b[39;49;00m() ->\u001b[36mint\u001b[39;49;00m:\n",
      "    x = _data.ret(_data.call(middle)(_data.arg(\u001b[34m1\u001b[39;49;00m, pos=\u001b[34m1\u001b[39;49;00m), _data.arg(\u001b[34m2\u001b[39;49;00m, pos=\n",
      "        \u001b[34m2\u001b[39;49;00m), z=_data.arg(_data.ret(_data.call(middle)(_data.arg(\u001b[34m1\u001b[39;49;00m, pos=\u001b[34m1\u001b[39;49;00m),\n",
      "        _data.arg(\u001b[34m2\u001b[39;49;00m, pos=\u001b[34m2\u001b[39;49;00m), _data.arg(\u001b[34m3\u001b[39;49;00m, pos=\u001b[34m3\u001b[39;49;00m))), kw=\u001b[33m'\u001b[39;49;00m\u001b[33mz\u001b[39;49;00m\u001b[33m'\u001b[39;49;00m)))\n",
      "    \u001b[34mreturn\u001b[39;49;00m x"
     ]
    }
   ],
   "source": [
    "dump_tree(call_tree)"
   ]
  },
  {
   "cell_type": "code",
   "execution_count": 121,
   "metadata": {
    "execution": {
     "iopub.execute_input": "2021-05-11T17:07:59.388203Z",
     "iopub.status.busy": "2021-05-11T17:07:59.387334Z",
     "iopub.status.idle": "2021-05-11T17:07:59.390063Z",
     "shell.execute_reply": "2021-05-11T17:07:59.390458Z"
    },
    "slideshow": {
     "slide_type": "fragment"
    }
   },
   "outputs": [],
   "source": [
    "def f() -> bool:\n",
    "    return math.isclose(1, 1.0)"
   ]
  },
  {
   "cell_type": "code",
   "execution_count": 122,
   "metadata": {
    "execution": {
     "iopub.execute_input": "2021-05-11T17:07:59.398462Z",
     "iopub.status.busy": "2021-05-11T17:07:59.397823Z",
     "iopub.status.idle": "2021-05-11T17:07:59.399890Z",
     "shell.execute_reply": "2021-05-11T17:07:59.400306Z"
    },
    "slideshow": {
     "slide_type": "fragment"
    }
   },
   "outputs": [
    {
     "name": "stdout",
     "output_type": "stream",
     "text": [
      "\u001b[34mdef\u001b[39;49;00m \u001b[32mf\u001b[39;49;00m() ->\u001b[36mbool\u001b[39;49;00m:\n",
      "    \u001b[34mreturn\u001b[39;49;00m math.isclose(\u001b[34m1\u001b[39;49;00m, \u001b[34m1.0\u001b[39;49;00m)"
     ]
    }
   ],
   "source": [
    "f_tree = ast.parse(inspect.getsource(f))\n",
    "dump_tree(f_tree)"
   ]
  },
  {
   "cell_type": "code",
   "execution_count": 123,
   "metadata": {
    "execution": {
     "iopub.execute_input": "2021-05-11T17:07:59.404050Z",
     "iopub.status.busy": "2021-05-11T17:07:59.403483Z",
     "iopub.status.idle": "2021-05-11T17:07:59.406150Z",
     "shell.execute_reply": "2021-05-11T17:07:59.406534Z"
    },
    "slideshow": {
     "slide_type": "fragment"
    }
   },
   "outputs": [
    {
     "data": {
      "text/plain": [
       "<_ast.Module at 0x7fe245e994a8>"
      ]
     },
     "execution_count": 1,
     "metadata": {},
     "output_type": "execute_result"
    }
   ],
   "source": [
    "TrackCallTransformer().visit(f_tree);"
   ]
  },
  {
   "cell_type": "code",
   "execution_count": 124,
   "metadata": {
    "execution": {
     "iopub.execute_input": "2021-05-11T17:07:59.414274Z",
     "iopub.status.busy": "2021-05-11T17:07:59.413740Z",
     "iopub.status.idle": "2021-05-11T17:07:59.415753Z",
     "shell.execute_reply": "2021-05-11T17:07:59.416126Z"
    },
    "slideshow": {
     "slide_type": "subslide"
    }
   },
   "outputs": [
    {
     "name": "stdout",
     "output_type": "stream",
     "text": [
      "\u001b[34mdef\u001b[39;49;00m \u001b[32mf\u001b[39;49;00m() ->\u001b[36mbool\u001b[39;49;00m:\n",
      "    \u001b[34mreturn\u001b[39;49;00m _data.ret(_data.call(math.isclose)(_data.arg(\u001b[34m1\u001b[39;49;00m, pos=\u001b[34m1\u001b[39;49;00m), _data.\n",
      "        arg(\u001b[34m1.0\u001b[39;49;00m, pos=\u001b[34m2\u001b[39;49;00m)))"
     ]
    }
   ],
   "source": [
    "dump_tree(f_tree)"
   ]
  },
  {
   "cell_type": "markdown",
   "metadata": {
    "slideshow": {
     "slide_type": "fragment"
    }
   },
   "source": [
    "As before, our default `arg()`, `ret()`, and `call()` methods simply log the event and pass through the given value."
   ]
  },
  {
   "cell_type": "code",
   "execution_count": 125,
   "metadata": {
    "execution": {
     "iopub.execute_input": "2021-05-11T17:07:59.420847Z",
     "iopub.status.busy": "2021-05-11T17:07:59.420303Z",
     "iopub.status.idle": "2021-05-11T17:07:59.422092Z",
     "shell.execute_reply": "2021-05-11T17:07:59.422496Z"
    },
    "slideshow": {
     "slide_type": "subslide"
    }
   },
   "outputs": [],
   "source": [
    "class DataTracker(DataTracker):\n",
    "    def arg(self, value: Any, pos: Optional[int] = None, kw: Optional[str] = None) -> Any:\n",
    "        \"\"\"\n",
    "        Track `value` being passed as argument.\n",
    "        `pos` (if given) is the argument position (starting with 1).\n",
    "        `kw` (if given) is the argument keyword.\n",
    "        \"\"\"\n",
    "\n",
    "        if self.log:\n",
    "            caller_func, lineno = self.caller_location()\n",
    "            info = \"\"\n",
    "            if pos:\n",
    "                info += f\" #{pos}\"\n",
    "            if kw:\n",
    "                info += f\" {repr(kw)}\"\n",
    "\n",
    "            print(f\"{caller_func.__name__}:{lineno}: pushing arg{info}\")\n",
    "\n",
    "        return value"
   ]
  },
  {
   "cell_type": "code",
   "execution_count": 126,
   "metadata": {
    "execution": {
     "iopub.execute_input": "2021-05-11T17:07:59.426395Z",
     "iopub.status.busy": "2021-05-11T17:07:59.425851Z",
     "iopub.status.idle": "2021-05-11T17:07:59.427473Z",
     "shell.execute_reply": "2021-05-11T17:07:59.428035Z"
    },
    "slideshow": {
     "slide_type": "subslide"
    }
   },
   "outputs": [],
   "source": [
    "class DataTracker(DataTracker):\n",
    "    def ret(self, value: Any) -> Any:\n",
    "        \"\"\"Track `value` being used as return value.\"\"\"\n",
    "        if self.log:\n",
    "            caller_func, lineno = self.caller_location()\n",
    "            print(f\"{caller_func.__name__}:{lineno}: returned from call\")\n",
    "\n",
    "        return value"
   ]
  },
  {
   "cell_type": "code",
   "execution_count": 127,
   "metadata": {
    "execution": {
     "iopub.execute_input": "2021-05-11T17:07:59.433082Z",
     "iopub.status.busy": "2021-05-11T17:07:59.432371Z",
     "iopub.status.idle": "2021-05-11T17:07:59.434084Z",
     "shell.execute_reply": "2021-05-11T17:07:59.434540Z"
    },
    "slideshow": {
     "slide_type": "subslide"
    }
   },
   "outputs": [],
   "source": [
    "class DataTracker(DataTracker):\n",
    "    def instrument_call(self, func: Callable) -> Callable:\n",
    "        \"\"\"Instrument a call to `func`. To be implemented in subclasses.\"\"\"\n",
    "        return func\n",
    "\n",
    "    def call(self, func: Callable) -> Callable:\n",
    "        \"\"\"Track a call to `func`.\"\"\"\n",
    "        if self.log:\n",
    "            caller_func, lineno = self.caller_location()\n",
    "            print(f\"{caller_func.__name__}:{lineno}: calling {func}\")\n",
    "\n",
    "        return self.instrument_call(func)"
   ]
  },
  {
   "cell_type": "code",
   "execution_count": 128,
   "metadata": {
    "execution": {
     "iopub.execute_input": "2021-05-11T17:07:59.443259Z",
     "iopub.status.busy": "2021-05-11T17:07:59.442671Z",
     "iopub.status.idle": "2021-05-11T17:07:59.445283Z",
     "shell.execute_reply": "2021-05-11T17:07:59.445689Z"
    },
    "slideshow": {
     "slide_type": "subslide"
    }
   },
   "outputs": [
    {
     "name": "stdout",
     "output_type": "stream",
     "text": [
      "\u001b[34mdef\u001b[39;49;00m \u001b[32mtest_call\u001b[39;49;00m() ->\u001b[36mint\u001b[39;49;00m:\n",
      "    x = _data.ret(_data.call(middle)(_data.arg(\u001b[34m1\u001b[39;49;00m, pos=\u001b[34m1\u001b[39;49;00m), _data.arg(\u001b[34m2\u001b[39;49;00m, pos=\n",
      "        \u001b[34m2\u001b[39;49;00m), z=_data.arg(_data.ret(_data.call(middle)(_data.arg(\u001b[34m1\u001b[39;49;00m, pos=\u001b[34m1\u001b[39;49;00m),\n",
      "        _data.arg(\u001b[34m2\u001b[39;49;00m, pos=\u001b[34m2\u001b[39;49;00m), _data.arg(\u001b[34m3\u001b[39;49;00m, pos=\u001b[34m3\u001b[39;49;00m))), kw=\u001b[33m'\u001b[39;49;00m\u001b[33mz\u001b[39;49;00m\u001b[33m'\u001b[39;49;00m)))\n",
      "    \u001b[34mreturn\u001b[39;49;00m x"
     ]
    }
   ],
   "source": [
    "dump_tree(call_tree)"
   ]
  },
  {
   "cell_type": "code",
   "execution_count": 129,
   "metadata": {
    "execution": {
     "iopub.execute_input": "2021-05-11T17:07:59.449171Z",
     "iopub.status.busy": "2021-05-11T17:07:59.448565Z",
     "iopub.status.idle": "2021-05-11T17:07:59.450615Z",
     "shell.execute_reply": "2021-05-11T17:07:59.451026Z"
    },
    "slideshow": {
     "slide_type": "subslide"
    }
   },
   "outputs": [
    {
     "name": "stdout",
     "output_type": "stream",
     "text": [
      "test_call:2: calling <function middle at 0x7fe2455bbe18>\n",
      "test_call:2: pushing arg #1\n",
      "test_call:2: pushing arg #2\n",
      "test_call:2: calling <function middle at 0x7fe2455bbe18>\n",
      "test_call:2: pushing arg #1\n",
      "test_call:2: pushing arg #2\n",
      "test_call:2: pushing arg #3\n",
      "test_call:2: returned from call\n",
      "test_call:2: pushing arg 'z'\n",
      "test_call:2: returned from call\n"
     ]
    }
   ],
   "source": [
    "with DataTrackerTester(call_tree, test_call):\n",
    "    test_call()"
   ]
  },
  {
   "cell_type": "code",
   "execution_count": 130,
   "metadata": {
    "execution": {
     "iopub.execute_input": "2021-05-11T17:07:59.454197Z",
     "iopub.status.busy": "2021-05-11T17:07:59.453674Z",
     "iopub.status.idle": "2021-05-11T17:07:59.456193Z",
     "shell.execute_reply": "2021-05-11T17:07:59.456575Z"
    },
    "slideshow": {
     "slide_type": "fragment"
    }
   },
   "outputs": [
    {
     "data": {
      "text/plain": [
       "2"
      ]
     },
     "execution_count": 1,
     "metadata": {},
     "output_type": "execute_result"
    }
   ],
   "source": [
    "test_call()"
   ]
  },
  {
   "cell_type": "markdown",
   "metadata": {
    "slideshow": {
     "slide_type": "subslide"
    }
   },
   "source": [
    "### End of Excursion"
   ]
  },
  {
   "cell_type": "markdown",
   "metadata": {
    "slideshow": {
     "slide_type": "fragment"
    }
   },
   "source": [
    "On the receiving end, for each function argument `x`, we insert a call `_data.param('x', x, [position info])` to initialize `x`. This is useful for __tracking parameters across function calls.__"
   ]
  },
  {
   "cell_type": "markdown",
   "metadata": {
    "slideshow": {
     "slide_type": "subslide"
    }
   },
   "source": [
    "### Excursion: Tracking Parameters"
   ]
  },
  {
   "cell_type": "markdown",
   "metadata": {
    "slideshow": {
     "slide_type": "fragment"
    }
   },
   "source": [
    "Again, we use `ast.dump()` to determine the correct syntax tree:"
   ]
  },
  {
   "cell_type": "code",
   "execution_count": 131,
   "metadata": {
    "execution": {
     "iopub.execute_input": "2021-05-11T17:07:59.460288Z",
     "iopub.status.busy": "2021-05-11T17:07:59.459687Z",
     "iopub.status.idle": "2021-05-11T17:07:59.462087Z",
     "shell.execute_reply": "2021-05-11T17:07:59.462518Z"
    },
    "slideshow": {
     "slide_type": "fragment"
    }
   },
   "outputs": [
    {
     "name": "stdout",
     "output_type": "stream",
     "text": [
      "Module(body=[Expr(value=Call(func=Attribute(value=Name(id='_data', ctx=Load()), attr='param', ctx=Load()), args=[Str(s='x'), Name(id='x', ctx=Load())], keywords=[keyword(arg='pos', value=Num(n=1)), keyword(arg='last', value=NameConstant(value=True))]))])\n"
     ]
    }
   ],
   "source": [
    "print(ast.dump(ast.parse(\"_data.param('x', x, pos=1, last=True)\")))"
   ]
  },
  {
   "cell_type": "code",
   "execution_count": 132,
   "metadata": {
    "execution": {
     "iopub.execute_input": "2021-05-11T17:07:59.471296Z",
     "iopub.status.busy": "2021-05-11T17:07:59.470625Z",
     "iopub.status.idle": "2021-05-11T17:07:59.473205Z",
     "shell.execute_reply": "2021-05-11T17:07:59.472679Z"
    },
    "slideshow": {
     "slide_type": "subslide"
    }
   },
   "outputs": [],
   "source": [
    "class TrackParamsTransformer(NodeTransformer):\n",
    "    def visit_FunctionDef(self, node: ast.FunctionDef) -> ast.FunctionDef:\n",
    "        self.generic_visit(node)\n",
    "\n",
    "        named_args = []\n",
    "        for child in ast.iter_child_nodes(node.args):\n",
    "            if isinstance(child, ast.arg):\n",
    "                named_args.append(child)\n",
    "\n",
    "        create_stmts = []\n",
    "        for n, child in enumerate(named_args):\n",
    "            keywords=[keyword(arg='pos', value=ast.Num(n=n + 1))]\n",
    "            if child is node.args.vararg:\n",
    "                keywords.append(keyword(arg='vararg', value=ast.Str(s='*')))\n",
    "            if child is node.args.kwarg:\n",
    "                keywords.append(keyword(arg='vararg', value=ast.Str(s='**')))\n",
    "            if n == len(named_args) - 1:\n",
    "                keywords.append(keyword(arg='last',\n",
    "                                        value=ast.NameConstant(value=True)))\n",
    "\n",
    "            create_stmt = Expr(\n",
    "                value=Call(\n",
    "                    func=Attribute(value=Name(id=DATA_TRACKER, ctx=Load()),\n",
    "                                   attr='param', ctx=Load()),\n",
    "                    args=[ast.Str(s=child.arg),\n",
    "                          Name(id=child.arg, ctx=Load())\n",
    "                         ],\n",
    "                    keywords=keywords\n",
    "                )\n",
    "            )\n",
    "            ast.copy_location(create_stmt, node)\n",
    "            create_stmts.append(create_stmt)\n",
    "\n",
    "        node.body = cast(List[ast.stmt], create_stmts) + node.body\n",
    "        return node"
   ]
  },
  {
   "cell_type": "markdown",
   "metadata": {
    "slideshow": {
     "slide_type": "subslide"
    }
   },
   "source": [
    "This is the effect of `TrackParamsTransformer()`. You see how the first three parameters are all initialized."
   ]
  },
  {
   "cell_type": "code",
   "execution_count": 133,
   "metadata": {
    "execution": {
     "iopub.execute_input": "2021-05-11T17:07:59.486361Z",
     "iopub.status.busy": "2021-05-11T17:07:59.485412Z",
     "iopub.status.idle": "2021-05-11T17:07:59.488204Z",
     "shell.execute_reply": "2021-05-11T17:07:59.488687Z"
    },
    "slideshow": {
     "slide_type": "subslide"
    }
   },
   "outputs": [
    {
     "name": "stdout",
     "output_type": "stream",
     "text": [
      "\u001b[34mdef\u001b[39;49;00m \u001b[32mmiddle\u001b[39;49;00m(x, y, z):\n",
      "    _data.param(\u001b[33m'\u001b[39;49;00m\u001b[33mx\u001b[39;49;00m\u001b[33m'\u001b[39;49;00m, x, pos=\u001b[34m1\u001b[39;49;00m)\n",
      "    _data.param(\u001b[33m'\u001b[39;49;00m\u001b[33my\u001b[39;49;00m\u001b[33m'\u001b[39;49;00m, y, pos=\u001b[34m2\u001b[39;49;00m)\n",
      "    _data.param(\u001b[33m'\u001b[39;49;00m\u001b[33mz\u001b[39;49;00m\u001b[33m'\u001b[39;49;00m, z, pos=\u001b[34m3\u001b[39;49;00m, last=\u001b[34mTrue\u001b[39;49;00m)\n",
      "    \u001b[34mif\u001b[39;49;00m _data.test(_data.get(\u001b[33m'\u001b[39;49;00m\u001b[33my\u001b[39;49;00m\u001b[33m'\u001b[39;49;00m, y) < _data.get(\u001b[33m'\u001b[39;49;00m\u001b[33mz\u001b[39;49;00m\u001b[33m'\u001b[39;49;00m, z)):\n",
      "        \u001b[34mwith\u001b[39;49;00m _data:\n",
      "            \u001b[34mif\u001b[39;49;00m _data.test(_data.get(\u001b[33m'\u001b[39;49;00m\u001b[33mx\u001b[39;49;00m\u001b[33m'\u001b[39;49;00m, x) < _data.get(\u001b[33m'\u001b[39;49;00m\u001b[33my\u001b[39;49;00m\u001b[33m'\u001b[39;49;00m, y)):\n",
      "                \u001b[34mwith\u001b[39;49;00m _data:\n",
      "                    \u001b[34mreturn\u001b[39;49;00m _data.set(\u001b[33m'\u001b[39;49;00m\u001b[33m<middle() return value>\u001b[39;49;00m\u001b[33m'\u001b[39;49;00m, _data.get(\n",
      "                        \u001b[33m'\u001b[39;49;00m\u001b[33my\u001b[39;49;00m\u001b[33m'\u001b[39;49;00m, y))\n",
      "            \u001b[34melse\u001b[39;49;00m:\n",
      "                \u001b[34mwith\u001b[39;49;00m _data:\n",
      "                    \u001b[34mif\u001b[39;49;00m _data.test(_data.get(\u001b[33m'\u001b[39;49;00m\u001b[33mx\u001b[39;49;00m\u001b[33m'\u001b[39;49;00m, x) < _data.get(\u001b[33m'\u001b[39;49;00m\u001b[33mz\u001b[39;49;00m\u001b[33m'\u001b[39;49;00m, z)):\n",
      "                        \u001b[34mwith\u001b[39;49;00m _data:\n",
      "                            \u001b[34mreturn\u001b[39;49;00m _data.set(\u001b[33m'\u001b[39;49;00m\u001b[33m<middle() return value>\u001b[39;49;00m\u001b[33m'\u001b[39;49;00m,\n",
      "                                _data.get(\u001b[33m'\u001b[39;49;00m\u001b[33my\u001b[39;49;00m\u001b[33m'\u001b[39;49;00m, y))\n",
      "    \u001b[34melse\u001b[39;49;00m:\n",
      "        \u001b[34mwith\u001b[39;49;00m _data:\n",
      "            \u001b[34mif\u001b[39;49;00m _data.test(_data.get(\u001b[33m'\u001b[39;49;00m\u001b[33mx\u001b[39;49;00m\u001b[33m'\u001b[39;49;00m, x) > _data.get(\u001b[33m'\u001b[39;49;00m\u001b[33my\u001b[39;49;00m\u001b[33m'\u001b[39;49;00m, y)):\n",
      "                \u001b[34mwith\u001b[39;49;00m _data:\n",
      "                    \u001b[34mreturn\u001b[39;49;00m _data.set(\u001b[33m'\u001b[39;49;00m\u001b[33m<middle() return value>\u001b[39;49;00m\u001b[33m'\u001b[39;49;00m, _data.get(\n",
      "                        \u001b[33m'\u001b[39;49;00m\u001b[33my\u001b[39;49;00m\u001b[33m'\u001b[39;49;00m, y))\n",
      "            \u001b[34melse\u001b[39;49;00m:\n",
      "                \u001b[34mwith\u001b[39;49;00m _data:\n",
      "                    \u001b[34mif\u001b[39;49;00m _data.test(_data.get(\u001b[33m'\u001b[39;49;00m\u001b[33mx\u001b[39;49;00m\u001b[33m'\u001b[39;49;00m, x) > _data.get(\u001b[33m'\u001b[39;49;00m\u001b[33mz\u001b[39;49;00m\u001b[33m'\u001b[39;49;00m, z)):\n",
      "                        \u001b[34mwith\u001b[39;49;00m _data:\n",
      "                            \u001b[34mreturn\u001b[39;49;00m _data.set(\u001b[33m'\u001b[39;49;00m\u001b[33m<middle() return value>\u001b[39;49;00m\u001b[33m'\u001b[39;49;00m,\n",
      "                                _data.get(\u001b[33m'\u001b[39;49;00m\u001b[33mx\u001b[39;49;00m\u001b[33m'\u001b[39;49;00m, x))\n",
      "    \u001b[34mreturn\u001b[39;49;00m _data.set(\u001b[33m'\u001b[39;49;00m\u001b[33m<middle() return value>\u001b[39;49;00m\u001b[33m'\u001b[39;49;00m, _data.get(\u001b[33m'\u001b[39;49;00m\u001b[33mz\u001b[39;49;00m\u001b[33m'\u001b[39;49;00m, z))"
     ]
    }
   ],
   "source": [
    "TrackParamsTransformer().visit(middle_tree)\n",
    "dump_tree(middle_tree)"
   ]
  },
  {
   "cell_type": "markdown",
   "metadata": {
    "slideshow": {
     "slide_type": "subslide"
    }
   },
   "source": [
    "By default, the `DataTracker` `param()` method simply calls `set()` to set variables."
   ]
  },
  {
   "cell_type": "code",
   "execution_count": 134,
   "metadata": {
    "execution": {
     "iopub.execute_input": "2021-05-11T17:07:59.495039Z",
     "iopub.status.busy": "2021-05-11T17:07:59.494091Z",
     "iopub.status.idle": "2021-05-11T17:07:59.495941Z",
     "shell.execute_reply": "2021-05-11T17:07:59.496316Z"
    },
    "slideshow": {
     "slide_type": "subslide"
    }
   },
   "outputs": [],
   "source": [
    "class DataTracker(DataTracker):\n",
    "    def param(self, name: str, value: Any, \n",
    "              pos: Optional[int] = None, vararg: str = '', last: bool = False) -> Any:\n",
    "        \"\"\"\n",
    "        At the beginning of a function, track parameter `name` being set to `value`.\n",
    "        `pos` is the position of the argument (starting with 1).\n",
    "        `vararg` is \"*\" if `name` is a vararg parameter (as in *args),\n",
    "        and \"**\" is `name` is a kwargs parameter (as in *kwargs).\n",
    "        `last` is True if `name` is the last parameter.\n",
    "        \"\"\"\n",
    "        if self.log:\n",
    "            caller_func, lineno = self.caller_location()\n",
    "            info = \"\"\n",
    "            if pos is not None:\n",
    "                info += f\" #{pos}\"\n",
    "\n",
    "            print(f\"{caller_func.__name__}:{lineno}: initializing {vararg}{name}{info}\")\n",
    "\n",
    "        return self.set(name, value)"
   ]
  },
  {
   "cell_type": "code",
   "execution_count": 135,
   "metadata": {
    "execution": {
     "iopub.execute_input": "2021-05-11T17:07:59.500012Z",
     "iopub.status.busy": "2021-05-11T17:07:59.499142Z",
     "iopub.status.idle": "2021-05-11T17:07:59.501853Z",
     "shell.execute_reply": "2021-05-11T17:07:59.502398Z"
    },
    "slideshow": {
     "slide_type": "subslide"
    }
   },
   "outputs": [
    {
     "name": "stdout",
     "output_type": "stream",
     "text": [
      "middle:1: initializing x #1\n",
      "middle:1: setting x\n",
      "middle:1: initializing y #2\n",
      "middle:1: setting y\n",
      "middle:1: initializing z #3\n",
      "middle:1: setting z\n",
      "middle:2: getting y\n",
      "middle:2: getting z\n",
      "middle:2: testing condition\n",
      "middle:3: entering block\n",
      "middle:3: getting x\n",
      "middle:3: getting y\n",
      "middle:3: testing condition\n",
      "middle:5: entering block\n",
      "middle:5: getting x\n",
      "middle:5: getting z\n",
      "middle:5: testing condition\n",
      "middle:6: entering block\n",
      "middle:6: getting y\n",
      "middle:6: setting <middle() return value>\n",
      "middle:6: exiting block\n",
      "middle:6: exiting block\n",
      "middle:6: exiting block\n"
     ]
    }
   ],
   "source": [
    "with DataTrackerTester(middle_tree, middle):\n",
    "    middle(2, 1, 3)"
   ]
  },
  {
   "cell_type": "code",
   "execution_count": 136,
   "metadata": {
    "execution": {
     "iopub.execute_input": "2021-05-11T17:07:59.506717Z",
     "iopub.status.busy": "2021-05-11T17:07:59.505448Z",
     "iopub.status.idle": "2021-05-11T17:07:59.507902Z",
     "shell.execute_reply": "2021-05-11T17:07:59.508451Z"
    },
    "slideshow": {
     "slide_type": "subslide"
    }
   },
   "outputs": [],
   "source": [
    "def args_test(x, *args, **kwargs):  # type: ignore\n",
    "    print(x, *args, **kwargs)"
   ]
  },
  {
   "cell_type": "code",
   "execution_count": 137,
   "metadata": {
    "execution": {
     "iopub.execute_input": "2021-05-11T17:07:59.512007Z",
     "iopub.status.busy": "2021-05-11T17:07:59.511443Z",
     "iopub.status.idle": "2021-05-11T17:07:59.519039Z",
     "shell.execute_reply": "2021-05-11T17:07:59.519515Z"
    },
    "slideshow": {
     "slide_type": "fragment"
    }
   },
   "outputs": [
    {
     "name": "stdout",
     "output_type": "stream",
     "text": [
      "\u001b[34mdef\u001b[39;49;00m \u001b[32margs_test\u001b[39;49;00m(x, *args, **kwargs):\n",
      "    _data.param(\u001b[33m'\u001b[39;49;00m\u001b[33mx\u001b[39;49;00m\u001b[33m'\u001b[39;49;00m, x, pos=\u001b[34m1\u001b[39;49;00m)\n",
      "    _data.param(\u001b[33m'\u001b[39;49;00m\u001b[33margs\u001b[39;49;00m\u001b[33m'\u001b[39;49;00m, args, pos=\u001b[34m2\u001b[39;49;00m, vararg=\u001b[33m'\u001b[39;49;00m\u001b[33m*\u001b[39;49;00m\u001b[33m'\u001b[39;49;00m)\n",
      "    _data.param(\u001b[33m'\u001b[39;49;00m\u001b[33mkwargs\u001b[39;49;00m\u001b[33m'\u001b[39;49;00m, kwargs, pos=\u001b[34m3\u001b[39;49;00m, vararg=\u001b[33m'\u001b[39;49;00m\u001b[33m**\u001b[39;49;00m\u001b[33m'\u001b[39;49;00m, last=\u001b[34mTrue\u001b[39;49;00m)\n",
      "    \u001b[36mprint\u001b[39;49;00m(x, *args, **kwargs)"
     ]
    }
   ],
   "source": [
    "args_tree = ast.parse(inspect.getsource(args_test))\n",
    "TrackParamsTransformer().visit(args_tree)\n",
    "dump_tree(args_tree)"
   ]
  },
  {
   "cell_type": "code",
   "execution_count": 138,
   "metadata": {
    "execution": {
     "iopub.execute_input": "2021-05-11T17:07:59.523812Z",
     "iopub.status.busy": "2021-05-11T17:07:59.522993Z",
     "iopub.status.idle": "2021-05-11T17:07:59.525177Z",
     "shell.execute_reply": "2021-05-11T17:07:59.525613Z"
    },
    "slideshow": {
     "slide_type": "subslide"
    }
   },
   "outputs": [
    {
     "name": "stdout",
     "output_type": "stream",
     "text": [
      "args_test:1: initializing x #1\n",
      "args_test:1: setting x\n",
      "args_test:1: initializing *args #2\n",
      "args_test:1: setting args\n",
      "args_test:1: initializing **kwargs #3\n",
      "args_test:1: setting kwargs\n",
      "1 2 3\n"
     ]
    }
   ],
   "source": [
    "with DataTrackerTester(args_tree, args_test):\n",
    "    args_test(1, 2, 3)"
   ]
  },
  {
   "cell_type": "markdown",
   "metadata": {
    "slideshow": {
     "slide_type": "subslide"
    }
   },
   "source": [
    "### End of Excursion"
   ]
  },
  {
   "cell_type": "markdown",
   "metadata": {
    "slideshow": {
     "slide_type": "fragment"
    }
   },
   "source": [
    "What do we obtain after we have applied all these transformers on `middle()`? We see that the code now contains quite a load of instrumentation."
   ]
  },
  {
   "cell_type": "code",
   "execution_count": 139,
   "metadata": {
    "execution": {
     "iopub.execute_input": "2021-05-11T17:07:59.538297Z",
     "iopub.status.busy": "2021-05-11T17:07:59.537745Z",
     "iopub.status.idle": "2021-05-11T17:07:59.540664Z",
     "shell.execute_reply": "2021-05-11T17:07:59.541042Z"
    },
    "slideshow": {
     "slide_type": "subslide"
    }
   },
   "outputs": [
    {
     "name": "stdout",
     "output_type": "stream",
     "text": [
      "\u001b[34mdef\u001b[39;49;00m \u001b[32mmiddle\u001b[39;49;00m(x, y, z):\n",
      "    _data.param(\u001b[33m'\u001b[39;49;00m\u001b[33mx\u001b[39;49;00m\u001b[33m'\u001b[39;49;00m, x, pos=\u001b[34m1\u001b[39;49;00m)\n",
      "    _data.param(\u001b[33m'\u001b[39;49;00m\u001b[33my\u001b[39;49;00m\u001b[33m'\u001b[39;49;00m, y, pos=\u001b[34m2\u001b[39;49;00m)\n",
      "    _data.param(\u001b[33m'\u001b[39;49;00m\u001b[33mz\u001b[39;49;00m\u001b[33m'\u001b[39;49;00m, z, pos=\u001b[34m3\u001b[39;49;00m, last=\u001b[34mTrue\u001b[39;49;00m)\n",
      "    \u001b[34mif\u001b[39;49;00m _data.test(_data.get(\u001b[33m'\u001b[39;49;00m\u001b[33my\u001b[39;49;00m\u001b[33m'\u001b[39;49;00m, y) < _data.get(\u001b[33m'\u001b[39;49;00m\u001b[33mz\u001b[39;49;00m\u001b[33m'\u001b[39;49;00m, z)):\n",
      "        \u001b[34mwith\u001b[39;49;00m _data:\n",
      "            \u001b[34mif\u001b[39;49;00m _data.test(_data.get(\u001b[33m'\u001b[39;49;00m\u001b[33mx\u001b[39;49;00m\u001b[33m'\u001b[39;49;00m, x) < _data.get(\u001b[33m'\u001b[39;49;00m\u001b[33my\u001b[39;49;00m\u001b[33m'\u001b[39;49;00m, y)):\n",
      "                \u001b[34mwith\u001b[39;49;00m _data:\n",
      "                    \u001b[34mreturn\u001b[39;49;00m _data.set(\u001b[33m'\u001b[39;49;00m\u001b[33m<middle() return value>\u001b[39;49;00m\u001b[33m'\u001b[39;49;00m, _data.get(\n",
      "                        \u001b[33m'\u001b[39;49;00m\u001b[33my\u001b[39;49;00m\u001b[33m'\u001b[39;49;00m, y))\n",
      "            \u001b[34melse\u001b[39;49;00m:\n",
      "                \u001b[34mwith\u001b[39;49;00m _data:\n",
      "                    \u001b[34mif\u001b[39;49;00m _data.test(_data.get(\u001b[33m'\u001b[39;49;00m\u001b[33mx\u001b[39;49;00m\u001b[33m'\u001b[39;49;00m, x) < _data.get(\u001b[33m'\u001b[39;49;00m\u001b[33mz\u001b[39;49;00m\u001b[33m'\u001b[39;49;00m, z)):\n",
      "                        \u001b[34mwith\u001b[39;49;00m _data:\n",
      "                            \u001b[34mreturn\u001b[39;49;00m _data.set(\u001b[33m'\u001b[39;49;00m\u001b[33m<middle() return value>\u001b[39;49;00m\u001b[33m'\u001b[39;49;00m,\n",
      "                                _data.get(\u001b[33m'\u001b[39;49;00m\u001b[33my\u001b[39;49;00m\u001b[33m'\u001b[39;49;00m, y))\n",
      "    \u001b[34melse\u001b[39;49;00m:\n",
      "        \u001b[34mwith\u001b[39;49;00m _data:\n",
      "            \u001b[34mif\u001b[39;49;00m _data.test(_data.get(\u001b[33m'\u001b[39;49;00m\u001b[33mx\u001b[39;49;00m\u001b[33m'\u001b[39;49;00m, x) > _data.get(\u001b[33m'\u001b[39;49;00m\u001b[33my\u001b[39;49;00m\u001b[33m'\u001b[39;49;00m, y)):\n",
      "                \u001b[34mwith\u001b[39;49;00m _data:\n",
      "                    \u001b[34mreturn\u001b[39;49;00m _data.set(\u001b[33m'\u001b[39;49;00m\u001b[33m<middle() return value>\u001b[39;49;00m\u001b[33m'\u001b[39;49;00m, _data.get(\n",
      "                        \u001b[33m'\u001b[39;49;00m\u001b[33my\u001b[39;49;00m\u001b[33m'\u001b[39;49;00m, y))\n",
      "            \u001b[34melse\u001b[39;49;00m:\n",
      "                \u001b[34mwith\u001b[39;49;00m _data:\n",
      "                    \u001b[34mif\u001b[39;49;00m _data.test(_data.get(\u001b[33m'\u001b[39;49;00m\u001b[33mx\u001b[39;49;00m\u001b[33m'\u001b[39;49;00m, x) > _data.get(\u001b[33m'\u001b[39;49;00m\u001b[33mz\u001b[39;49;00m\u001b[33m'\u001b[39;49;00m, z)):\n",
      "                        \u001b[34mwith\u001b[39;49;00m _data:\n",
      "                            \u001b[34mreturn\u001b[39;49;00m _data.set(\u001b[33m'\u001b[39;49;00m\u001b[33m<middle() return value>\u001b[39;49;00m\u001b[33m'\u001b[39;49;00m,\n",
      "                                _data.get(\u001b[33m'\u001b[39;49;00m\u001b[33mx\u001b[39;49;00m\u001b[33m'\u001b[39;49;00m, x))\n",
      "    \u001b[34mreturn\u001b[39;49;00m _data.set(\u001b[33m'\u001b[39;49;00m\u001b[33m<middle() return value>\u001b[39;49;00m\u001b[33m'\u001b[39;49;00m, _data.get(\u001b[33m'\u001b[39;49;00m\u001b[33mz\u001b[39;49;00m\u001b[33m'\u001b[39;49;00m, z))"
     ]
    }
   ],
   "source": [
    "dump_tree(middle_tree)"
   ]
  },
  {
   "cell_type": "markdown",
   "metadata": {
    "slideshow": {
     "slide_type": "subslide"
    }
   },
   "source": [
    "And when we execute this code, we see that we can track quite a number of events, while the code semantics stay unchanged."
   ]
  },
  {
   "cell_type": "code",
   "execution_count": 140,
   "metadata": {
    "execution": {
     "iopub.execute_input": "2021-05-11T17:07:59.545934Z",
     "iopub.status.busy": "2021-05-11T17:07:59.545348Z",
     "iopub.status.idle": "2021-05-11T17:07:59.548317Z",
     "shell.execute_reply": "2021-05-11T17:07:59.548775Z"
    },
    "slideshow": {
     "slide_type": "subslide"
    }
   },
   "outputs": [
    {
     "name": "stdout",
     "output_type": "stream",
     "text": [
      "middle:1: initializing x #1\n",
      "middle:1: setting x\n",
      "middle:1: initializing y #2\n",
      "middle:1: setting y\n",
      "middle:1: initializing z #3\n",
      "middle:1: setting z\n",
      "middle:2: getting y\n",
      "middle:2: getting z\n",
      "middle:2: testing condition\n",
      "middle:3: entering block\n",
      "middle:3: getting x\n",
      "middle:3: getting y\n",
      "middle:3: testing condition\n",
      "middle:5: entering block\n",
      "middle:5: getting x\n",
      "middle:5: getting z\n",
      "middle:5: testing condition\n",
      "middle:6: entering block\n",
      "middle:6: getting y\n",
      "middle:6: setting <middle() return value>\n",
      "middle:6: exiting block\n",
      "middle:6: exiting block\n",
      "middle:6: exiting block\n"
     ]
    },
    {
     "data": {
      "text/plain": [
       "1"
      ]
     },
     "execution_count": 1,
     "metadata": {},
     "output_type": "execute_result"
    }
   ],
   "source": [
    "with DataTrackerTester(middle_tree, middle):\n",
    "    m = middle(2, 1, 3)\n",
    "m"
   ]
  },
  {
   "cell_type": "markdown",
   "metadata": {
    "slideshow": {
     "slide_type": "subslide"
    }
   },
   "source": [
    "### Excursion: Transformer Stress Test"
   ]
  },
  {
   "cell_type": "markdown",
   "metadata": {
    "slideshow": {
     "slide_type": "fragment"
    }
   },
   "source": [
    "We stress test our transformers by instrumenting, transforming, and compiling a number of modules."
   ]
  },
  {
   "cell_type": "code",
   "execution_count": 141,
   "metadata": {
    "execution": {
     "iopub.execute_input": "2021-05-11T17:07:59.552470Z",
     "iopub.status.busy": "2021-05-11T17:07:59.551769Z",
     "iopub.status.idle": "2021-05-11T17:07:59.700980Z",
     "shell.execute_reply": "2021-05-11T17:07:59.701353Z"
    },
    "slideshow": {
     "slide_type": "skip"
    }
   },
   "outputs": [],
   "source": [
    "import Assertions  # minor dependency\n",
    "import Debugger  # minor dependency"
   ]
  },
  {
   "cell_type": "code",
   "execution_count": 142,
   "metadata": {
    "execution": {
     "iopub.execute_input": "2021-05-11T17:07:59.783453Z",
     "iopub.status.busy": "2021-05-11T17:07:59.745091Z",
     "iopub.status.idle": "2021-05-11T17:08:01.632363Z",
     "shell.execute_reply": "2021-05-11T17:08:01.631910Z"
    },
    "slideshow": {
     "slide_type": "subslide"
    }
   },
   "outputs": [
    {
     "name": "stdout",
     "output_type": "stream",
     "text": [
      "'Assertions' instrumented successfully.\n",
      "'Debugger' instrumented successfully.\n",
      "'inspect' instrumented successfully.\n",
      "'ast' instrumented successfully.\n",
      "'astor' instrumented successfully.\n"
     ]
    }
   ],
   "source": [
    "for module in [Assertions, Debugger, inspect, ast, astor]:\n",
    "    module_tree = ast.parse(inspect.getsource(module))\n",
    "    TrackCallTransformer().visit(module_tree)\n",
    "    TrackSetTransformer().visit(module_tree)\n",
    "    TrackGetTransformer().visit(module_tree)\n",
    "    TrackControlTransformer().visit(module_tree)\n",
    "    TrackReturnTransformer().visit(module_tree)\n",
    "    TrackParamsTransformer().visit(module_tree)\n",
    "    # dump_tree(module_tree)\n",
    "    ast.fix_missing_locations(module_tree)  # Must run this before compiling\n",
    "    module_code = compile(module_tree, '<stress_test>', 'exec')\n",
    "    print(f\"{repr(module.__name__)} instrumented successfully.\")"
   ]
  },
  {
   "cell_type": "markdown",
   "metadata": {
    "slideshow": {
     "slide_type": "subslide"
    }
   },
   "source": [
    "### End of Excursion"
   ]
  },
  {
   "cell_type": "markdown",
   "metadata": {
    "slideshow": {
     "slide_type": "fragment"
    }
   },
   "source": [
    "Our next step will now be not only to _log_ these events, but to actually construct _dependencies_ from them."
   ]
  },
  {
   "cell_type": "markdown",
   "metadata": {
    "slideshow": {
     "slide_type": "slide"
    }
   },
   "source": [
    "## Tracking Dependencies"
   ]
  },
  {
   "cell_type": "markdown",
   "metadata": {
    "slideshow": {
     "slide_type": "fragment"
    }
   },
   "source": [
    "To construct dependencies from variable accesses, we subclass `DataTracker` into `DependencyTracker` – a class that actually keeps track of all these dependencies.  Its constructor initializes a number of variables we will discuss below."
   ]
  },
  {
   "cell_type": "code",
   "execution_count": 143,
   "metadata": {
    "execution": {
     "iopub.execute_input": "2021-05-11T17:08:01.639770Z",
     "iopub.status.busy": "2021-05-11T17:08:01.638679Z",
     "iopub.status.idle": "2021-05-11T17:08:01.641045Z",
     "shell.execute_reply": "2021-05-11T17:08:01.641526Z"
    },
    "slideshow": {
     "slide_type": "subslide"
    }
   },
   "outputs": [],
   "source": [
    "class DependencyTracker(DataTracker):\n",
    "    \"\"\"Track dependencies during execution\"\"\"\n",
    "\n",
    "    def __init__(self, *args: Any, **kwargs: Any) -> None:\n",
    "        \"\"\"Constructor. Arguments are passed to DataTracker.__init__()\"\"\"\n",
    "        super().__init__(*args, **kwargs)\n",
    "\n",
    "        self.origins: Dict[str, Location] = {}  # Where current variables were last set\n",
    "        self.data_dependencies: Dependency = {}  # As with Dependencies, above\n",
    "        self.control_dependencies: Dependency = {}\n",
    "\n",
    "        self.last_read: List[str] = []  # List of last read variables\n",
    "        self.last_checked_location = (StackInspector.unknown, 1)\n",
    "        self._ignore_location_change = False\n",
    "\n",
    "        self.data: List[List[str]] = [[]]  # Data stack\n",
    "        self.control: List[List[str]] = [[]]  # Control stack\n",
    "\n",
    "        self.frames: List[Dict[Union[int, str], Any]] = [{}]  # Argument stack\n",
    "        self.args: Dict[Union[int, str], Any] = {}  # Current args"
   ]
  },
  {
   "cell_type": "markdown",
   "metadata": {
    "slideshow": {
     "slide_type": "subslide"
    }
   },
   "source": [
    "### Data Dependencies\n",
    "\n",
    "The first job of our `DependencyTracker` is to construct dependencies between _read_ and _written_ variables."
   ]
  },
  {
   "cell_type": "markdown",
   "metadata": {
    "slideshow": {
     "slide_type": "subslide"
    }
   },
   "source": [
    "#### Reading Variables\n",
    "\n",
    "As in `DataTracker`, the key method of `DependencyTracker` again is `get()`, invoked as `_data.get('x', x)` whenever a variable `x` is read. First and foremost, it appends the name of the read variable to the list `last_read`."
   ]
  },
  {
   "cell_type": "code",
   "execution_count": 144,
   "metadata": {
    "execution": {
     "iopub.execute_input": "2021-05-11T17:08:01.646128Z",
     "iopub.status.busy": "2021-05-11T17:08:01.645522Z",
     "iopub.status.idle": "2021-05-11T17:08:01.647054Z",
     "shell.execute_reply": "2021-05-11T17:08:01.647455Z"
    },
    "slideshow": {
     "slide_type": "fragment"
    }
   },
   "outputs": [],
   "source": [
    "class DependencyTracker(DependencyTracker):\n",
    "    def get(self, name: str, value: Any) -> Any:\n",
    "        \"\"\"Track a read access for variable `name` with value `value`\"\"\"\n",
    "        self.check_location()\n",
    "        self.last_read.append(name)\n",
    "        return super().get(name, value)\n",
    "\n",
    "    def check_location(self) -> None:\n",
    "        pass  # More on that below"
   ]
  },
  {
   "cell_type": "code",
   "execution_count": 145,
   "metadata": {
    "execution": {
     "iopub.execute_input": "2021-05-11T17:08:01.651724Z",
     "iopub.status.busy": "2021-05-11T17:08:01.651078Z",
     "iopub.status.idle": "2021-05-11T17:08:01.652403Z",
     "shell.execute_reply": "2021-05-11T17:08:01.652917Z"
    },
    "slideshow": {
     "slide_type": "subslide"
    }
   },
   "outputs": [],
   "source": [
    "x = 5\n",
    "y = 3"
   ]
  },
  {
   "cell_type": "code",
   "execution_count": 146,
   "metadata": {
    "execution": {
     "iopub.execute_input": "2021-05-11T17:08:01.657745Z",
     "iopub.status.busy": "2021-05-11T17:08:01.657127Z",
     "iopub.status.idle": "2021-05-11T17:08:01.660234Z",
     "shell.execute_reply": "2021-05-11T17:08:01.660645Z"
    },
    "slideshow": {
     "slide_type": "fragment"
    }
   },
   "outputs": [
    {
     "name": "stdout",
     "output_type": "stream",
     "text": [
      "<module>:2: getting x\n",
      "<module>:2: getting y\n"
     ]
    },
    {
     "data": {
      "text/plain": [
       "8"
      ]
     },
     "execution_count": 1,
     "metadata": {},
     "output_type": "execute_result"
    }
   ],
   "source": [
    "_test_data = DependencyTracker(log=True)\n",
    "_test_data.get('x', x) + _test_data.get('y', y)"
   ]
  },
  {
   "cell_type": "code",
   "execution_count": 147,
   "metadata": {
    "execution": {
     "iopub.execute_input": "2021-05-11T17:08:01.664622Z",
     "iopub.status.busy": "2021-05-11T17:08:01.663969Z",
     "iopub.status.idle": "2021-05-11T17:08:01.666224Z",
     "shell.execute_reply": "2021-05-11T17:08:01.666627Z"
    },
    "slideshow": {
     "slide_type": "fragment"
    }
   },
   "outputs": [
    {
     "data": {
      "text/plain": [
       "['x', 'y']"
      ]
     },
     "execution_count": 1,
     "metadata": {},
     "output_type": "execute_result"
    }
   ],
   "source": [
    "_test_data.last_read"
   ]
  },
  {
   "cell_type": "markdown",
   "metadata": {
    "slideshow": {
     "slide_type": "subslide"
    }
   },
   "source": [
    "#### Checking Locations"
   ]
  },
  {
   "cell_type": "markdown",
   "metadata": {
    "slideshow": {
     "slide_type": "fragment"
    }
   },
   "source": [
    "However, before appending the read variable to `last_read`, `_data.get()` does one more thing. By invoking `check_location()`, it clears the `last_read` list if we have reached a new line in the execution. This avoids situations such as\n",
    "\n",
    "```python\n",
    "x\n",
    "y\n",
    "z = a + b\n",
    "```\n",
    "where `x` and `y` are, well, read, but do not affect the last line. Therefore, with every new line, the list of last read lines is cleared."
   ]
  },
  {
   "cell_type": "code",
   "execution_count": 148,
   "metadata": {
    "execution": {
     "iopub.execute_input": "2021-05-11T17:08:01.674057Z",
     "iopub.status.busy": "2021-05-11T17:08:01.673198Z",
     "iopub.status.idle": "2021-05-11T17:08:01.674706Z",
     "shell.execute_reply": "2021-05-11T17:08:01.675161Z"
    },
    "slideshow": {
     "slide_type": "subslide"
    }
   },
   "outputs": [],
   "source": [
    "class DependencyTracker(DependencyTracker):\n",
    "    def clear_read(self) -> None:\n",
    "        \"\"\"Clear set of read variables\"\"\"\n",
    "        if self.log:\n",
    "            direct_caller = inspect.currentframe().f_back.f_code.co_name  # type: ignore\n",
    "            caller_func, lineno = self.caller_location()\n",
    "            print(f\"{caller_func.__name__}:{lineno}: \"\n",
    "                  f\"clearing read variables {self.last_read} \"\n",
    "                  f\"(from {direct_caller})\")\n",
    "\n",
    "        self.last_read = []\n",
    "\n",
    "    def check_location(self) -> None:\n",
    "        \"\"\"If we are in a new location, clear set of read variables\"\"\"\n",
    "        location = self.caller_location()\n",
    "        func, lineno = location\n",
    "        last_func, last_lineno = self.last_checked_location\n",
    "\n",
    "        if self.last_checked_location != location:\n",
    "            if self._ignore_location_change:\n",
    "                self._ignore_location_change = False\n",
    "            elif func.__name__.startswith('<'):\n",
    "                # Entering list comprehension, eval(), exec(), ...\n",
    "                pass\n",
    "            elif last_func.__name__.startswith('<'):\n",
    "                # Exiting list comprehension, eval(), exec(), ...\n",
    "                pass\n",
    "            else:\n",
    "                # Standard case\n",
    "                self.clear_read()\n",
    "\n",
    "        self.last_checked_location = location"
   ]
  },
  {
   "cell_type": "markdown",
   "metadata": {
    "slideshow": {
     "slide_type": "subslide"
    }
   },
   "source": [
    "Two methods can suppress this reset of the `last_read` list: \n",
    "\n",
    "* `ignore_next_location_change()` suppresses the reset for the next line. This is useful when returning from a function, when the return value is still in the list of \"read\" variables.\n",
    "* `ignore_location_change()` suppresses the reset for the current line. This is useful if we already have returned from a function call."
   ]
  },
  {
   "cell_type": "code",
   "execution_count": 149,
   "metadata": {
    "execution": {
     "iopub.execute_input": "2021-05-11T17:08:01.680568Z",
     "iopub.status.busy": "2021-05-11T17:08:01.679853Z",
     "iopub.status.idle": "2021-05-11T17:08:01.682137Z",
     "shell.execute_reply": "2021-05-11T17:08:01.682631Z"
    },
    "slideshow": {
     "slide_type": "fragment"
    }
   },
   "outputs": [],
   "source": [
    "class DependencyTracker(DependencyTracker):\n",
    "    def ignore_next_location_change(self) -> None:\n",
    "        self._ignore_location_change = True\n",
    "\n",
    "    def ignore_location_change(self) -> None:\n",
    "        self.last_checked_location = self.caller_location()"
   ]
  },
  {
   "cell_type": "markdown",
   "metadata": {
    "slideshow": {
     "slide_type": "subslide"
    }
   },
   "source": [
    "Watch how `DependencyTracker` resets `last_read` when a new line is executed:"
   ]
  },
  {
   "cell_type": "code",
   "execution_count": 150,
   "metadata": {
    "execution": {
     "iopub.execute_input": "2021-05-11T17:08:01.685840Z",
     "iopub.status.busy": "2021-05-11T17:08:01.685289Z",
     "iopub.status.idle": "2021-05-11T17:08:01.686927Z",
     "shell.execute_reply": "2021-05-11T17:08:01.687300Z"
    },
    "slideshow": {
     "slide_type": "fragment"
    }
   },
   "outputs": [],
   "source": [
    "_test_data = DependencyTracker()"
   ]
  },
  {
   "cell_type": "code",
   "execution_count": 151,
   "metadata": {
    "execution": {
     "iopub.execute_input": "2021-05-11T17:08:01.692196Z",
     "iopub.status.busy": "2021-05-11T17:08:01.691580Z",
     "iopub.status.idle": "2021-05-11T17:08:01.694102Z",
     "shell.execute_reply": "2021-05-11T17:08:01.694492Z"
    },
    "slideshow": {
     "slide_type": "fragment"
    }
   },
   "outputs": [
    {
     "data": {
      "text/plain": [
       "8"
      ]
     },
     "execution_count": 1,
     "metadata": {},
     "output_type": "execute_result"
    }
   ],
   "source": [
    "_test_data.get('x', x) + _test_data.get('y', y)"
   ]
  },
  {
   "cell_type": "code",
   "execution_count": 152,
   "metadata": {
    "execution": {
     "iopub.execute_input": "2021-05-11T17:08:01.698297Z",
     "iopub.status.busy": "2021-05-11T17:08:01.697631Z",
     "iopub.status.idle": "2021-05-11T17:08:01.700055Z",
     "shell.execute_reply": "2021-05-11T17:08:01.700462Z"
    },
    "slideshow": {
     "slide_type": "fragment"
    }
   },
   "outputs": [
    {
     "data": {
      "text/plain": [
       "['x', 'y']"
      ]
     },
     "execution_count": 1,
     "metadata": {},
     "output_type": "execute_result"
    }
   ],
   "source": [
    "_test_data.last_read"
   ]
  },
  {
   "cell_type": "code",
   "execution_count": 153,
   "metadata": {
    "execution": {
     "iopub.execute_input": "2021-05-11T17:08:01.704615Z",
     "iopub.status.busy": "2021-05-11T17:08:01.703750Z",
     "iopub.status.idle": "2021-05-11T17:08:01.706827Z",
     "shell.execute_reply": "2021-05-11T17:08:01.707386Z"
    },
    "slideshow": {
     "slide_type": "fragment"
    }
   },
   "outputs": [
    {
     "data": {
      "text/plain": [
       "41"
      ]
     },
     "execution_count": 1,
     "metadata": {},
     "output_type": "execute_result"
    }
   ],
   "source": [
    "a = 42\n",
    "b = -1\n",
    "_test_data.get('a', a) + _test_data.get('b', b)"
   ]
  },
  {
   "cell_type": "code",
   "execution_count": 154,
   "metadata": {
    "execution": {
     "iopub.execute_input": "2021-05-11T17:08:01.711785Z",
     "iopub.status.busy": "2021-05-11T17:08:01.710901Z",
     "iopub.status.idle": "2021-05-11T17:08:01.713373Z",
     "shell.execute_reply": "2021-05-11T17:08:01.713755Z"
    },
    "slideshow": {
     "slide_type": "fragment"
    }
   },
   "outputs": [
    {
     "data": {
      "text/plain": [
       "['x', 'y', 'a', 'b']"
      ]
     },
     "execution_count": 1,
     "metadata": {},
     "output_type": "execute_result"
    }
   ],
   "source": [
    "_test_data.last_read"
   ]
  },
  {
   "cell_type": "markdown",
   "metadata": {
    "slideshow": {
     "slide_type": "subslide"
    }
   },
   "source": [
    "#### Setting Variables\n",
    "\n",
    "The method `set()` creates dependencies. It is invoked as  `_data.set('x', value)` whenever a variable `x` is set. \n",
    "\n",
    "First and foremost, it takes the list of variables read `last_read`, and for each of the variables $v$, it takes their origin $o$ (the place where they were last set) and appends the pair ($v$, $o$) to the list of data dependencies. It then does a similar thing with control dependencies (more on these below), and finally marks (in `self.origins`) the current location of $v$."
   ]
  },
  {
   "cell_type": "code",
   "execution_count": 155,
   "metadata": {
    "execution": {
     "iopub.execute_input": "2021-05-11T17:08:01.717024Z",
     "iopub.status.busy": "2021-05-11T17:08:01.716422Z",
     "iopub.status.idle": "2021-05-11T17:08:01.717949Z",
     "shell.execute_reply": "2021-05-11T17:08:01.718365Z"
    },
    "slideshow": {
     "slide_type": "skip"
    }
   },
   "outputs": [],
   "source": [
    "import itertools"
   ]
  },
  {
   "cell_type": "code",
   "execution_count": 156,
   "metadata": {
    "execution": {
     "iopub.execute_input": "2021-05-11T17:08:01.729104Z",
     "iopub.status.busy": "2021-05-11T17:08:01.728157Z",
     "iopub.status.idle": "2021-05-11T17:08:01.730044Z",
     "shell.execute_reply": "2021-05-11T17:08:01.730551Z"
    },
    "slideshow": {
     "slide_type": "subslide"
    }
   },
   "outputs": [],
   "source": [
    "class DependencyTracker(DependencyTracker):\n",
    "    TEST = '<test>'  # Name of pseudo-variables for testing conditions\n",
    "\n",
    "    def set(self, name: str, value: Any, loads: Optional[Set[str]] = None) -> Any:\n",
    "        \"\"\"Add a dependency for `name` = `value`\"\"\"\n",
    "\n",
    "        def add_dependencies(dependencies: Set[Node], \n",
    "                             vars_read: List[str], tp: str) -> None:\n",
    "            \"\"\"Add origins of `vars_read` to `dependencies`.\"\"\"\n",
    "            for var_read in vars_read:\n",
    "                if var_read in self.origins:\n",
    "                    if var_read == self.TEST and tp == \"data\":\n",
    "                        # Can't have data dependencies on conditions\n",
    "                        continue\n",
    "\n",
    "                    origin = self.origins[var_read]\n",
    "                    dependencies.add((var_read, origin))\n",
    "\n",
    "                    if self.log:\n",
    "                        origin_func, origin_lineno = origin\n",
    "                        caller_func, lineno = self.caller_location()\n",
    "                        print(f\"{caller_func.__name__}:{lineno}: \"\n",
    "                              f\"new {tp} dependency: \"\n",
    "                              f\"{name} <= {var_read} \"\n",
    "                              f\"({origin_func.__name__}:{origin_lineno})\")\n",
    "\n",
    "        self.check_location()\n",
    "        ret = super().set(name, value)\n",
    "        location = self.caller_location()\n",
    "\n",
    "        add_dependencies(self.data_dependencies.setdefault\n",
    "                         ((name, location), set()),\n",
    "                         self.last_read, tp=\"data\")\n",
    "        add_dependencies(self.control_dependencies.setdefault\n",
    "                         ((name, location), set()),\n",
    "                         cast(List[str], itertools.chain.from_iterable(self.control)),\n",
    "                         tp=\"control\")\n",
    "\n",
    "        self.origins[name] = location\n",
    "\n",
    "        # Reset read info for next line\n",
    "        self.last_read = [name]\n",
    "\n",
    "        # Next line is a new location\n",
    "        self._ignore_location_change = False\n",
    "\n",
    "        return ret\n",
    "\n",
    "    def dependencies(self) -> Dependencies:\n",
    "        \"\"\"Return dependencies\"\"\"\n",
    "        return Dependencies(self.data_dependencies,\n",
    "                            self.control_dependencies)"
   ]
  },
  {
   "cell_type": "markdown",
   "metadata": {
    "slideshow": {
     "slide_type": "subslide"
    }
   },
   "source": [
    "Let us illustrate `set()` by example. Here's a set of variables read and written:"
   ]
  },
  {
   "cell_type": "code",
   "execution_count": 157,
   "metadata": {
    "execution": {
     "iopub.execute_input": "2021-05-11T17:08:01.735481Z",
     "iopub.status.busy": "2021-05-11T17:08:01.734867Z",
     "iopub.status.idle": "2021-05-11T17:08:01.736564Z",
     "shell.execute_reply": "2021-05-11T17:08:01.737066Z"
    },
    "slideshow": {
     "slide_type": "fragment"
    }
   },
   "outputs": [],
   "source": [
    "_test_data = DependencyTracker()\n",
    "x = _test_data.set('x', 1)\n",
    "y = _test_data.set('y', _test_data.get('x', x))\n",
    "z = _test_data.set('z', _test_data.get('x', x) + _test_data.get('y', y))"
   ]
  },
  {
   "cell_type": "markdown",
   "metadata": {
    "slideshow": {
     "slide_type": "fragment"
    }
   },
   "source": [
    "The attribute `origins` saves for each variable where it was last written:"
   ]
  },
  {
   "cell_type": "code",
   "execution_count": 158,
   "metadata": {
    "execution": {
     "iopub.execute_input": "2021-05-11T17:08:01.741996Z",
     "iopub.status.busy": "2021-05-11T17:08:01.741221Z",
     "iopub.status.idle": "2021-05-11T17:08:01.743748Z",
     "shell.execute_reply": "2021-05-11T17:08:01.744174Z"
    },
    "slideshow": {
     "slide_type": "fragment"
    }
   },
   "outputs": [
    {
     "data": {
      "text/plain": [
       "{'x': (<function __main__.<module>()>, 2),\n",
       " 'y': (<function __main__.<module>()>, 3),\n",
       " 'z': (<function __main__.<module>()>, 4)}"
      ]
     },
     "execution_count": 1,
     "metadata": {},
     "output_type": "execute_result"
    }
   ],
   "source": [
    "_test_data.origins"
   ]
  },
  {
   "cell_type": "markdown",
   "metadata": {
    "slideshow": {
     "slide_type": "fragment"
    }
   },
   "source": [
    "The attribute `data_dependencies` tracks for each variable the variables it was read from:"
   ]
  },
  {
   "cell_type": "code",
   "execution_count": 159,
   "metadata": {
    "execution": {
     "iopub.execute_input": "2021-05-11T17:08:01.748968Z",
     "iopub.status.busy": "2021-05-11T17:08:01.748227Z",
     "iopub.status.idle": "2021-05-11T17:08:01.750896Z",
     "shell.execute_reply": "2021-05-11T17:08:01.751297Z"
    },
    "slideshow": {
     "slide_type": "subslide"
    }
   },
   "outputs": [
    {
     "data": {
      "text/plain": [
       "{('x', (<function __main__.<module>()>, 2)): set(),\n",
       " ('y',\n",
       "  (<function __main__.<module>()>, 3)): {('x',\n",
       "   (<function __main__.<module>()>, 2))},\n",
       " ('z',\n",
       "  (<function __main__.<module>()>, 4)): {('x',\n",
       "   (<function __main__.<module>()>, 2)), ('y',\n",
       "   (<function __main__.<module>()>, 3))}}"
      ]
     },
     "execution_count": 1,
     "metadata": {},
     "output_type": "execute_result"
    }
   ],
   "source": [
    "_test_data.data_dependencies"
   ]
  },
  {
   "cell_type": "markdown",
   "metadata": {
    "slideshow": {
     "slide_type": "fragment"
    }
   },
   "source": [
    "Hence, the above code already gives us a small dependency graph:"
   ]
  },
  {
   "cell_type": "code",
   "execution_count": 160,
   "metadata": {
    "execution": {
     "iopub.execute_input": "2021-05-11T17:08:01.754797Z",
     "iopub.status.busy": "2021-05-11T17:08:01.754222Z",
     "iopub.status.idle": "2021-05-11T17:08:02.622274Z",
     "shell.execute_reply": "2021-05-11T17:08:02.622820Z"
    },
    "slideshow": {
     "slide_type": "fragment"
    }
   },
   "outputs": [
    {
     "data": {
      "image/svg+xml": [
       "<?xml version=\"1.0\" encoding=\"UTF-8\" standalone=\"no\"?>\n",
       "<!DOCTYPE svg PUBLIC \"-//W3C//DTD SVG 1.1//EN\"\n",
       " \"http://www.w3.org/Graphics/SVG/1.1/DTD/svg11.dtd\">\n",
       "<!-- Generated by graphviz version 2.40.1 (20161225.0304)\n",
       " -->\n",
       "<!-- Title: dependencies Pages: 1 -->\n",
       "<svg width=\"97pt\" height=\"200pt\"\n",
       " viewBox=\"0.00 0.00 97.00 200.00\" xmlns=\"http://www.w3.org/2000/svg\" xmlns:xlink=\"http://www.w3.org/1999/xlink\">\n",
       "<g id=\"graph0\" class=\"graph\" transform=\"scale(1 1) rotate(0) translate(4 196)\">\n",
       "<title>dependencies</title>\n",
       "<polygon fill=\"#ffffff\" stroke=\"transparent\" points=\"-4,4 -4,-196 93,-196 93,4 -4,4\"/>\n",
       "<!-- y_functionmoduleat0x7fe245f68c80_3 -->\n",
       "<g id=\"node1\" class=\"node\">\n",
       "<title>y_functionmoduleat0x7fe245f68c80_3</title>\n",
       "<g id=\"a_node1\"><a xlink:title=\"&lt;module&gt;:3\">\n",
       "<polygon fill=\"#ffdab9\" stroke=\"#000000\" points=\"60,-116 0,-116 0,-76 60,-76 60,-116\"/>\n",
       "<text text-anchor=\"start\" x=\"25.5\" y=\"-101.8\" font-family=\"Fira Mono, Courier, monospace\" font-weight=\"bold\" font-size=\"14.00\" fill=\"#000000\">y</text>\n",
       "<text text-anchor=\"start\" x=\"8\" y=\"-82.8\" font-family=\"Fira Mono, Courier, monospace\" font-size=\"9.00\" fill=\"#000000\">&lt;module&gt;</text>\n",
       "</a>\n",
       "</g>\n",
       "</g>\n",
       "<!-- z_functionmoduleat0x7fe245f68950_4 -->\n",
       "<g id=\"node3\" class=\"node\">\n",
       "<title>z_functionmoduleat0x7fe245f68950_4</title>\n",
       "<g id=\"a_node3\"><a xlink:title=\"&lt;module&gt;:4\">\n",
       "<polygon fill=\"#ffdab9\" stroke=\"#000000\" points=\"89,-40 29,-40 29,0 89,0 89,-40\"/>\n",
       "<text text-anchor=\"start\" x=\"54.5\" y=\"-25.8\" font-family=\"Fira Mono, Courier, monospace\" font-weight=\"bold\" font-size=\"14.00\" fill=\"#000000\">z</text>\n",
       "<text text-anchor=\"start\" x=\"37\" y=\"-6.8\" font-family=\"Fira Mono, Courier, monospace\" font-size=\"9.00\" fill=\"#000000\">&lt;module&gt;</text>\n",
       "</a>\n",
       "</g>\n",
       "</g>\n",
       "<!-- y_functionmoduleat0x7fe245f68c80_3&#45;&gt;z_functionmoduleat0x7fe245f68950_4 -->\n",
       "<g id=\"edge2\" class=\"edge\">\n",
       "<title>y_functionmoduleat0x7fe245f68c80_3&#45;&gt;z_functionmoduleat0x7fe245f68950_4</title>\n",
       "<path fill=\"none\" stroke=\"#000000\" d=\"M37.7715,-75.6334C40.819,-67.6468 44.376,-58.325 47.6974,-49.6205\"/>\n",
       "<polygon fill=\"#000000\" stroke=\"#000000\" points=\"51.0125,-50.75 51.3076,-40.1593 44.4725,-48.2544 51.0125,-50.75\"/>\n",
       "</g>\n",
       "<!-- x_functionmoduleat0x7fe245cd9d90_2 -->\n",
       "<g id=\"node2\" class=\"node\">\n",
       "<title>x_functionmoduleat0x7fe245cd9d90_2</title>\n",
       "<g id=\"a_node2\"><a xlink:title=\"&lt;module&gt;:2\">\n",
       "<polygon fill=\"#ffdab9\" stroke=\"#000000\" points=\"89,-192 29,-192 29,-152 89,-152 89,-192\"/>\n",
       "<text text-anchor=\"start\" x=\"54.5\" y=\"-177.8\" font-family=\"Fira Mono, Courier, monospace\" font-weight=\"bold\" font-size=\"14.00\" fill=\"#000000\">x</text>\n",
       "<text text-anchor=\"start\" x=\"37\" y=\"-158.8\" font-family=\"Fira Mono, Courier, monospace\" font-size=\"9.00\" fill=\"#000000\">&lt;module&gt;</text>\n",
       "</a>\n",
       "</g>\n",
       "</g>\n",
       "<!-- x_functionmoduleat0x7fe245cd9d90_2&#45;&gt;y_functionmoduleat0x7fe245f68c80_3 -->\n",
       "<g id=\"edge1\" class=\"edge\">\n",
       "<title>x_functionmoduleat0x7fe245cd9d90_2&#45;&gt;y_functionmoduleat0x7fe245f68c80_3</title>\n",
       "<path fill=\"none\" stroke=\"#000000\" d=\"M51.2285,-151.6334C48.181,-143.6468 44.624,-134.325 41.3026,-125.6205\"/>\n",
       "<polygon fill=\"#000000\" stroke=\"#000000\" points=\"44.5275,-124.2544 37.6924,-116.1593 37.9875,-126.75 44.5275,-124.2544\"/>\n",
       "</g>\n",
       "<!-- x_functionmoduleat0x7fe245cd9d90_2&#45;&gt;z_functionmoduleat0x7fe245f68950_4 -->\n",
       "<g id=\"edge3\" class=\"edge\">\n",
       "<title>x_functionmoduleat0x7fe245cd9d90_2&#45;&gt;z_functionmoduleat0x7fe245f68950_4</title>\n",
       "<path fill=\"none\" stroke=\"#000000\" d=\"M63.4774,-151.8976C65.6159,-141.2826 67.9368,-128.0017 69,-116 70.5687,-98.2916 70.5687,-93.7084 69,-76 68.2525,-67.5613 66.8831,-58.4902 65.3925,-50.158\"/>\n",
       "<polygon fill=\"#000000\" stroke=\"#000000\" points=\"68.7866,-49.2709 63.4774,-40.1024 61.9102,-50.5806 68.7866,-49.2709\"/>\n",
       "</g>\n",
       "</g>\n",
       "</svg>\n"
      ],
      "text/plain": [
       "<graphviz.dot.Digraph at 0x7fe246a180f0>"
      ]
     },
     "execution_count": 1,
     "metadata": {},
     "output_type": "execute_result"
    }
   ],
   "source": [
    "# ignore\n",
    "_test_data.dependencies().graph()"
   ]
  },
  {
   "cell_type": "markdown",
   "metadata": {
    "slideshow": {
     "slide_type": "subslide"
    }
   },
   "source": [
    "In the remainder of this section, we define methods to\n",
    "\n",
    "* track control dependencies (`test()`, `__enter__()`, `__exit__()`)\n",
    "* track function calls and returns (`call()`, `ret()`)\n",
    "* track function arguments (`arg()`, `param()`)\n",
    "* check the validity of our dependencies (`validate()`).\n",
    "\n",
    "Like our `get()` and `set()` methods above, these work by refining the appropriate methods defined in the `DataTracker` class, building on our `NodeTransformer` transformations."
   ]
  },
  {
   "cell_type": "markdown",
   "metadata": {
    "slideshow": {
     "slide_type": "subslide"
    }
   },
   "source": [
    "### Excursion: Control Dependencies"
   ]
  },
  {
   "cell_type": "markdown",
   "metadata": {
    "slideshow": {
     "slide_type": "fragment"
    }
   },
   "source": [
    "Let us detail control dependencies. As discussed with `DataTracker()`, we invoke `test()` methods for all control conditions, and place the controlled blocks into `with` clauses."
   ]
  },
  {
   "cell_type": "markdown",
   "metadata": {
    "slideshow": {
     "slide_type": "fragment"
    }
   },
   "source": [
    "The `test()` method simply sets a `<test>` variable; this also places it in `last_read`."
   ]
  },
  {
   "cell_type": "code",
   "execution_count": 161,
   "metadata": {
    "execution": {
     "iopub.execute_input": "2021-05-11T17:08:02.629272Z",
     "iopub.status.busy": "2021-05-11T17:08:02.628204Z",
     "iopub.status.idle": "2021-05-11T17:08:02.630607Z",
     "shell.execute_reply": "2021-05-11T17:08:02.631105Z"
    },
    "slideshow": {
     "slide_type": "fragment"
    }
   },
   "outputs": [],
   "source": [
    "class DependencyTracker(DependencyTracker):\n",
    "    def test(self, value: Any) -> Any:\n",
    "        \"\"\"Track a test for condition `value`\"\"\"\n",
    "        self.set(self.TEST, value)\n",
    "        return super().test(value)"
   ]
  },
  {
   "cell_type": "markdown",
   "metadata": {
    "slideshow": {
     "slide_type": "fragment"
    }
   },
   "source": [
    "When entering a `with` block, the set of `last_read` variables holds the `<test>` variable read. We save it in the `control` stack, with the effect of any further variables written now being marked as  controlled by `<test>`."
   ]
  },
  {
   "cell_type": "code",
   "execution_count": 162,
   "metadata": {
    "execution": {
     "iopub.execute_input": "2021-05-11T17:08:02.635483Z",
     "iopub.status.busy": "2021-05-11T17:08:02.634842Z",
     "iopub.status.idle": "2021-05-11T17:08:02.636661Z",
     "shell.execute_reply": "2021-05-11T17:08:02.637145Z"
    },
    "slideshow": {
     "slide_type": "subslide"
    }
   },
   "outputs": [],
   "source": [
    "class DependencyTracker(DependencyTracker):\n",
    "    def __enter__(self) -> Any:\n",
    "        \"\"\"Track entering an if/while/for block\"\"\"\n",
    "        self.control.append(self.last_read)\n",
    "        self.clear_read()\n",
    "        return super().__enter__()"
   ]
  },
  {
   "cell_type": "markdown",
   "metadata": {
    "slideshow": {
     "slide_type": "fragment"
    }
   },
   "source": [
    "When we exit the `with` block, we restore earlier `last_read` values, preparing for `else` blocks."
   ]
  },
  {
   "cell_type": "code",
   "execution_count": 163,
   "metadata": {
    "execution": {
     "iopub.execute_input": "2021-05-11T17:08:02.643474Z",
     "iopub.status.busy": "2021-05-11T17:08:02.642857Z",
     "iopub.status.idle": "2021-05-11T17:08:02.644413Z",
     "shell.execute_reply": "2021-05-11T17:08:02.644805Z"
    },
    "slideshow": {
     "slide_type": "subslide"
    }
   },
   "outputs": [],
   "source": [
    "class DependencyTracker(DependencyTracker):\n",
    "    def __exit__(self, exc_type: Type, exc_value: BaseException,\n",
    "                 traceback: TracebackType) -> Optional[bool]:\n",
    "        \"\"\"Track exiting an if/while/for block\"\"\"\n",
    "        self.clear_read()\n",
    "        self.last_read = self.control.pop()\n",
    "        self.ignore_next_location_change()\n",
    "        return super().__exit__(exc_type, exc_value, traceback)"
   ]
  },
  {
   "cell_type": "markdown",
   "metadata": {
    "slideshow": {
     "slide_type": "fragment"
    }
   },
   "source": [
    "Here's an example of all these parts in action:"
   ]
  },
  {
   "cell_type": "code",
   "execution_count": 164,
   "metadata": {
    "execution": {
     "iopub.execute_input": "2021-05-11T17:08:02.649725Z",
     "iopub.status.busy": "2021-05-11T17:08:02.649072Z",
     "iopub.status.idle": "2021-05-11T17:08:02.650806Z",
     "shell.execute_reply": "2021-05-11T17:08:02.651226Z"
    },
    "slideshow": {
     "slide_type": "fragment"
    }
   },
   "outputs": [],
   "source": [
    "_test_data = DependencyTracker()\n",
    "x = _test_data.set('x', 1)\n",
    "y = _test_data.set('y', _test_data.get('x', x))"
   ]
  },
  {
   "cell_type": "code",
   "execution_count": 165,
   "metadata": {
    "execution": {
     "iopub.execute_input": "2021-05-11T17:08:02.656015Z",
     "iopub.status.busy": "2021-05-11T17:08:02.655234Z",
     "iopub.status.idle": "2021-05-11T17:08:02.657640Z",
     "shell.execute_reply": "2021-05-11T17:08:02.658220Z"
    },
    "slideshow": {
     "slide_type": "subslide"
    }
   },
   "outputs": [],
   "source": [
    "if _test_data.test(_test_data.get('x', x) >= _test_data.get('y', y)):\n",
    "    with _test_data:\n",
    "        z = _test_data.set('z',\n",
    "                           _test_data.get('x', x) + _test_data.get('y', y))"
   ]
  },
  {
   "cell_type": "code",
   "execution_count": 166,
   "metadata": {
    "execution": {
     "iopub.execute_input": "2021-05-11T17:08:02.663252Z",
     "iopub.status.busy": "2021-05-11T17:08:02.662518Z",
     "iopub.status.idle": "2021-05-11T17:08:02.664981Z",
     "shell.execute_reply": "2021-05-11T17:08:02.665415Z"
    },
    "slideshow": {
     "slide_type": "fragment"
    }
   },
   "outputs": [
    {
     "data": {
      "text/plain": [
       "{('x', (<function __main__.<module>()>, 2)): set(),\n",
       " ('y', (<function __main__.<module>()>, 3)): set(),\n",
       " ('<test>', (<function __main__.<module>()>, 1)): set(),\n",
       " ('z',\n",
       "  (<function __main__.<module>()>, 4)): {('<test>',\n",
       "   (<function __main__.<module>()>, 1))}}"
      ]
     },
     "execution_count": 1,
     "metadata": {},
     "output_type": "execute_result"
    }
   ],
   "source": [
    "_test_data.control_dependencies"
   ]
  },
  {
   "cell_type": "markdown",
   "metadata": {
    "slideshow": {
     "slide_type": "fragment"
    }
   },
   "source": [
    "The control dependency for `z` is reflected in the dependency graph:"
   ]
  },
  {
   "cell_type": "code",
   "execution_count": 167,
   "metadata": {
    "execution": {
     "iopub.execute_input": "2021-05-11T17:08:02.669412Z",
     "iopub.status.busy": "2021-05-11T17:08:02.668716Z",
     "iopub.status.idle": "2021-05-11T17:08:03.527506Z",
     "shell.execute_reply": "2021-05-11T17:08:03.528019Z"
    },
    "slideshow": {
     "slide_type": "subslide"
    }
   },
   "outputs": [
    {
     "data": {
      "image/svg+xml": [
       "<?xml version=\"1.0\" encoding=\"UTF-8\" standalone=\"no\"?>\n",
       "<!DOCTYPE svg PUBLIC \"-//W3C//DTD SVG 1.1//EN\"\n",
       " \"http://www.w3.org/Graphics/SVG/1.1/DTD/svg11.dtd\">\n",
       "<!-- Generated by graphviz version 2.40.1 (20161225.0304)\n",
       " -->\n",
       "<!-- Title: dependencies Pages: 1 -->\n",
       "<svg width=\"202pt\" height=\"276pt\"\n",
       " viewBox=\"0.00 0.00 201.50 276.00\" xmlns=\"http://www.w3.org/2000/svg\" xmlns:xlink=\"http://www.w3.org/1999/xlink\">\n",
       "<g id=\"graph0\" class=\"graph\" transform=\"scale(1 1) rotate(0) translate(4 272)\">\n",
       "<title>dependencies</title>\n",
       "<polygon fill=\"#ffffff\" stroke=\"transparent\" points=\"-4,4 -4,-272 197.5,-272 197.5,4 -4,4\"/>\n",
       "<!-- y_functionmoduleat0x7fe245f68c80_3 -->\n",
       "<g id=\"node1\" class=\"node\">\n",
       "<title>y_functionmoduleat0x7fe245f68c80_3</title>\n",
       "<g id=\"a_node1\"><a xlink:title=\"&lt;module&gt;:3\">\n",
       "<polygon fill=\"#ffdab9\" stroke=\"#000000\" points=\"169.5,-192 109.5,-192 109.5,-152 169.5,-152 169.5,-192\"/>\n",
       "<text text-anchor=\"start\" x=\"135\" y=\"-177.8\" font-family=\"Fira Mono, Courier, monospace\" font-weight=\"bold\" font-size=\"14.00\" fill=\"#000000\">y</text>\n",
       "<text text-anchor=\"start\" x=\"117.5\" y=\"-158.8\" font-family=\"Fira Mono, Courier, monospace\" font-size=\"9.00\" fill=\"#000000\">&lt;module&gt;</text>\n",
       "</a>\n",
       "</g>\n",
       "</g>\n",
       "<!-- test_functionmoduleat0x7fe245cd9488_1 -->\n",
       "<g id=\"node3\" class=\"node\">\n",
       "<title>test_functionmoduleat0x7fe245cd9488_1</title>\n",
       "<g id=\"a_node3\"><a xlink:title=\"&lt;module&gt;:1\">\n",
       "<polygon fill=\"#ffdab9\" stroke=\"#000000\" points=\"135,-116 0,-116 0,-76 135,-76 135,-116\"/>\n",
       "<text text-anchor=\"start\" x=\"42\" y=\"-101.8\" font-family=\"Fira Mono, Courier, monospace\" font-weight=\"bold\" font-style=\"italic\" font-size=\"14.00\" fill=\"#000000\">&lt;test&gt;</text>\n",
       "<text text-anchor=\"start\" x=\"8\" y=\"-82.8\" font-family=\"Fira Mono, Courier, monospace\" font-size=\"9.00\" fill=\"#000000\">_test_data.get(&#39;x&#39;, x)</text>\n",
       "</a>\n",
       "</g>\n",
       "</g>\n",
       "<!-- y_functionmoduleat0x7fe245f68c80_3&#45;&gt;test_functionmoduleat0x7fe245cd9488_1 -->\n",
       "<g id=\"edge2\" class=\"edge\">\n",
       "<title>y_functionmoduleat0x7fe245f68c80_3&#45;&gt;test_functionmoduleat0x7fe245cd9488_1</title>\n",
       "<path fill=\"none\" stroke=\"#000000\" d=\"M120.2053,-151.6334C112.0696,-143.0457 102.4713,-132.9142 93.7102,-123.6663\"/>\n",
       "<polygon fill=\"#000000\" stroke=\"#000000\" points=\"96.0166,-121.0117 86.5983,-116.1593 90.9349,-125.826 96.0166,-121.0117\"/>\n",
       "</g>\n",
       "<!-- z_functionmoduleat0x7fe245f68950_4 -->\n",
       "<g id=\"node4\" class=\"node\">\n",
       "<title>z_functionmoduleat0x7fe245f68950_4</title>\n",
       "<g id=\"a_node4\"><a xlink:title=\"&lt;module&gt;:4\">\n",
       "<polygon fill=\"#ffdab9\" stroke=\"#000000\" points=\"193.5,-40 133.5,-40 133.5,0 193.5,0 193.5,-40\"/>\n",
       "<text text-anchor=\"start\" x=\"159\" y=\"-25.8\" font-family=\"Fira Mono, Courier, monospace\" font-weight=\"bold\" font-size=\"14.00\" fill=\"#000000\">z</text>\n",
       "<text text-anchor=\"start\" x=\"141.5\" y=\"-6.8\" font-family=\"Fira Mono, Courier, monospace\" font-size=\"9.00\" fill=\"#000000\">&lt;module&gt;</text>\n",
       "</a>\n",
       "</g>\n",
       "</g>\n",
       "<!-- y_functionmoduleat0x7fe245f68c80_3&#45;&gt;z_functionmoduleat0x7fe245f68950_4 -->\n",
       "<g id=\"edge4\" class=\"edge\">\n",
       "<title>y_functionmoduleat0x7fe245f68c80_3&#45;&gt;z_functionmoduleat0x7fe245f68950_4</title>\n",
       "<path fill=\"none\" stroke=\"#000000\" d=\"M142.687,-151.8156C146.7932,-125.8097 153.9677,-80.3713 158.7263,-50.2331\"/>\n",
       "<polygon fill=\"#000000\" stroke=\"#000000\" points=\"162.1973,-50.6914 160.2998,-40.2679 155.2829,-49.5996 162.1973,-50.6914\"/>\n",
       "</g>\n",
       "<!-- x_functionmoduleat0x7fe245cd9d90_2 -->\n",
       "<g id=\"node2\" class=\"node\">\n",
       "<title>x_functionmoduleat0x7fe245cd9d90_2</title>\n",
       "<g id=\"a_node2\"><a xlink:title=\"&lt;module&gt;:2\">\n",
       "<polygon fill=\"#ffdab9\" stroke=\"#000000\" points=\"169.5,-268 109.5,-268 109.5,-228 169.5,-228 169.5,-268\"/>\n",
       "<text text-anchor=\"start\" x=\"135\" y=\"-253.8\" font-family=\"Fira Mono, Courier, monospace\" font-weight=\"bold\" font-size=\"14.00\" fill=\"#000000\">x</text>\n",
       "<text text-anchor=\"start\" x=\"117.5\" y=\"-234.8\" font-family=\"Fira Mono, Courier, monospace\" font-size=\"9.00\" fill=\"#000000\">&lt;module&gt;</text>\n",
       "</a>\n",
       "</g>\n",
       "</g>\n",
       "<!-- x_functionmoduleat0x7fe245cd9d90_2&#45;&gt;y_functionmoduleat0x7fe245f68c80_3 -->\n",
       "<g id=\"edge1\" class=\"edge\">\n",
       "<title>x_functionmoduleat0x7fe245cd9d90_2&#45;&gt;y_functionmoduleat0x7fe245f68c80_3</title>\n",
       "<path fill=\"none\" stroke=\"#000000\" d=\"M139.5,-227.6334C139.5,-219.8186 139.5,-210.7253 139.5,-202.183\"/>\n",
       "<polygon fill=\"#000000\" stroke=\"#000000\" points=\"143.0001,-202.1593 139.5,-192.1593 136.0001,-202.1593 143.0001,-202.1593\"/>\n",
       "</g>\n",
       "<!-- x_functionmoduleat0x7fe245cd9d90_2&#45;&gt;test_functionmoduleat0x7fe245cd9488_1 -->\n",
       "<g id=\"edge3\" class=\"edge\">\n",
       "<title>x_functionmoduleat0x7fe245cd9d90_2&#45;&gt;test_functionmoduleat0x7fe245cd9488_1</title>\n",
       "<path fill=\"none\" stroke=\"#000000\" d=\"M123.4295,-227.8531C115.7573,-217.5562 106.8814,-204.5718 100.5,-192 89.7487,-170.8195 81.1712,-145.3321 75.4586,-125.9436\"/>\n",
       "<polygon fill=\"#000000\" stroke=\"#000000\" points=\"78.7709,-124.7962 72.6601,-116.1412 72.0399,-126.7179 78.7709,-124.7962\"/>\n",
       "</g>\n",
       "<!-- x_functionmoduleat0x7fe245cd9d90_2&#45;&gt;z_functionmoduleat0x7fe245f68950_4 -->\n",
       "<g id=\"edge5\" class=\"edge\">\n",
       "<title>x_functionmoduleat0x7fe245cd9d90_2&#45;&gt;z_functionmoduleat0x7fe245f68950_4</title>\n",
       "<path fill=\"none\" stroke=\"#000000\" d=\"M158.0412,-227.8387C165.9905,-217.8397 174.384,-205.1124 178.5,-192 193.5508,-144.0527 182.4543,-85.1361 173.0033,-50.1827\"/>\n",
       "<polygon fill=\"#000000\" stroke=\"#000000\" points=\"176.2512,-48.8074 170.1538,-40.1431 169.5172,-50.7188 176.2512,-48.8074\"/>\n",
       "</g>\n",
       "<!-- test_functionmoduleat0x7fe245cd9488_1&#45;&gt;z_functionmoduleat0x7fe245f68950_4 -->\n",
       "<g id=\"edge6\" class=\"edge\">\n",
       "<title>test_functionmoduleat0x7fe245cd9488_1&#45;&gt;z_functionmoduleat0x7fe245f68950_4</title>\n",
       "<path fill=\"none\" stroke=\"#c0c0c0\" stroke-dasharray=\"5,2\" d=\"M92.9742,-75.8329C104.2573,-66.9004 117.6881,-56.2678 129.7865,-46.6898\"/>\n",
       "<polygon fill=\"#c0c0c0\" stroke=\"#c0c0c0\" points=\"132.2388,-49.2125 137.9068,-40.2613 127.8938,-43.7242 132.2388,-49.2125\"/>\n",
       "</g>\n",
       "</g>\n",
       "</svg>\n"
      ],
      "text/plain": [
       "Dependencies(\n",
       "    data={\n",
       "        ('x', (<module>, 2)): set(),\n",
       "        ('y', (<module>, 3)): {('x', (<module>, 2))},\n",
       "        ('<test>', (<module>, 1)): {('y', (<module>, 3)), ('x', (<module>, 2))},\n",
       "        ('z', (<module>, 4)): {('y', (<module>, 3)), ('x', (<module>, 2))}},\n",
       " control={\n",
       "        ('x', (<module>, 2)): set(),\n",
       "        ('y', (<module>, 3)): set(),\n",
       "        ('<test>', (<module>, 1)): set(),\n",
       "        ('z', (<module>, 4)): {('<test>', (<module>, 1))}})"
      ]
     },
     "execution_count": 1,
     "metadata": {},
     "output_type": "execute_result"
    }
   ],
   "source": [
    "# ignore\n",
    "_test_data.dependencies()"
   ]
  },
  {
   "cell_type": "markdown",
   "metadata": {
    "slideshow": {
     "slide_type": "subslide"
    }
   },
   "source": [
    "### End of Excursion"
   ]
  },
  {
   "cell_type": "markdown",
   "metadata": {
    "slideshow": {
     "slide_type": "subslide"
    }
   },
   "source": [
    "### Excursion: Calls and Returns"
   ]
  },
  {
   "cell_type": "code",
   "execution_count": 168,
   "metadata": {
    "execution": {
     "iopub.execute_input": "2021-05-11T17:08:03.532751Z",
     "iopub.status.busy": "2021-05-11T17:08:03.531878Z",
     "iopub.status.idle": "2021-05-11T17:08:03.533911Z",
     "shell.execute_reply": "2021-05-11T17:08:03.534298Z"
    },
    "slideshow": {
     "slide_type": "skip"
    }
   },
   "outputs": [],
   "source": [
    "import copy"
   ]
  },
  {
   "cell_type": "markdown",
   "metadata": {
    "slideshow": {
     "slide_type": "fragment"
    }
   },
   "source": [
    "To handle complex expressions involving functions, we introduce a _data stack_. Every time we invoke a function `func` (`call()` is invoked), we save the list of current variables read `last_read` on the `data` stack; when we return (`ret()` is invoked), we restore `last_read`. This also ensures that only those variables read while evaluating arguments will flow into the function call."
   ]
  },
  {
   "cell_type": "code",
   "execution_count": 169,
   "metadata": {
    "execution": {
     "iopub.execute_input": "2021-05-11T17:08:03.540541Z",
     "iopub.status.busy": "2021-05-11T17:08:03.539852Z",
     "iopub.status.idle": "2021-05-11T17:08:03.541655Z",
     "shell.execute_reply": "2021-05-11T17:08:03.542033Z"
    },
    "slideshow": {
     "slide_type": "subslide"
    }
   },
   "outputs": [],
   "source": [
    "class DependencyTracker(DependencyTracker):\n",
    "    def call(self, func: Callable) -> Callable:\n",
    "        \"\"\"Track a call of function `func`\"\"\"\n",
    "        func = super().call(func)\n",
    "\n",
    "        if inspect.isgeneratorfunction(func):\n",
    "            return self.call_generator(func)\n",
    "\n",
    "        # Save context\n",
    "        if self.log:\n",
    "            caller_func, lineno = self.caller_location()\n",
    "            print(f\"{caller_func.__name__}:{lineno}: \"\n",
    "                  f\"saving read variables {self.last_read}\")\n",
    "\n",
    "        self.data.append(self.last_read)\n",
    "        self.clear_read()\n",
    "        self.ignore_next_location_change()\n",
    "\n",
    "        self.frames.append(self.args)\n",
    "        self.args = {}\n",
    "\n",
    "        return func"
   ]
  },
  {
   "cell_type": "code",
   "execution_count": 170,
   "metadata": {
    "execution": {
     "iopub.execute_input": "2021-05-11T17:08:03.549357Z",
     "iopub.status.busy": "2021-05-11T17:08:03.548632Z",
     "iopub.status.idle": "2021-05-11T17:08:03.550796Z",
     "shell.execute_reply": "2021-05-11T17:08:03.550346Z"
    },
    "slideshow": {
     "slide_type": "subslide"
    }
   },
   "outputs": [],
   "source": [
    "class DependencyTracker(DependencyTracker):\n",
    "    def ret(self, value: Any) -> Any:\n",
    "        \"\"\"Track a function return\"\"\"\n",
    "        value = super().ret(value)\n",
    "\n",
    "        if self.in_generator():\n",
    "            return self.ret_generator(value)\n",
    "\n",
    "        # Restore old context and add return value\n",
    "        ret_name = None\n",
    "        for var in self.last_read:\n",
    "            if var.startswith(\"<\"):  # \"<return value>\"\n",
    "                ret_name = var\n",
    "\n",
    "        self.last_read = self.data.pop()\n",
    "        if ret_name:\n",
    "            self.last_read.append(ret_name)\n",
    "\n",
    "        if self.args:\n",
    "            # We return from an uninstrumented function:\n",
    "            # Make return value depend on all args\n",
    "            for key, deps in self.args.items():\n",
    "                self.last_read += deps\n",
    "\n",
    "        self.ignore_location_change()\n",
    "\n",
    "        self.args = self.frames.pop()\n",
    "\n",
    "        if self.log:\n",
    "            caller_func, lineno = self.caller_location()\n",
    "            print(f\"{caller_func.__name__}:{lineno}: \"\n",
    "                  f\"restored read variables {self.last_read}\")\n",
    "\n",
    "        return value"
   ]
  },
  {
   "cell_type": "markdown",
   "metadata": {
    "slideshow": {
     "slide_type": "subslide"
    }
   },
   "source": [
    "Generator functions (those which `yield` a value) are not \"called\" in the sense that Python transfers control to them; instead, a \"call\" to a generator function creates a generator that is evaluated on demand. We mark generator function \"calls\" by saving `None` on the stacks. When the generator function returns the generator, we wrap the generator such that the arguments are being restored when it is invoked."
   ]
  },
  {
   "cell_type": "code",
   "execution_count": 171,
   "metadata": {
    "execution": {
     "iopub.execute_input": "2021-05-11T17:08:03.560202Z",
     "iopub.status.busy": "2021-05-11T17:08:03.559515Z",
     "iopub.status.idle": "2021-05-11T17:08:03.561324Z",
     "shell.execute_reply": "2021-05-11T17:08:03.561710Z"
    },
    "slideshow": {
     "slide_type": "subslide"
    }
   },
   "outputs": [],
   "source": [
    "class DependencyTracker(DependencyTracker):\n",
    "    def in_generator(self) -> bool:\n",
    "        \"\"\"True if we are calling a generator function\"\"\"\n",
    "        return len(self.data) > 0 and self.data[-1] is None\n",
    "\n",
    "    def call_generator(self, func: Callable) -> Callable:\n",
    "        \"\"\"Track a call of a generator function\"\"\"\n",
    "        # Mark the fact that we're in a generator with `None` values\n",
    "        self.data.append(None)  # type: ignore\n",
    "        self.frames.append(None)  # type: ignore\n",
    "        assert self.in_generator()\n",
    "\n",
    "        self.clear_read()\n",
    "        return func\n",
    "\n",
    "    def ret_generator(self, generator: Any) -> Any:\n",
    "        \"\"\"Track the return of a generator function\"\"\"\n",
    "        # Pop the two 'None' values pushed earlier\n",
    "        self.data.pop()\n",
    "        self.frames.pop()\n",
    "\n",
    "        if self.log:\n",
    "            caller_func, lineno = self.caller_location()\n",
    "            print(f\"{caller_func.__name__}:{lineno}: \"\n",
    "                  f\"wrapping generator {generator} (args={self.args})\")\n",
    "\n",
    "        # At this point, we already have collected the args.\n",
    "        # The returned generator depends on all of them.\n",
    "        for arg in self.args:\n",
    "            self.last_read += self.args[arg]\n",
    "\n",
    "        # Wrap the generator such that the args are restored \n",
    "        # when it is actually invoked, such that we can map them\n",
    "        # to parameters.\n",
    "        saved_args = copy.deepcopy(self.args)\n",
    "\n",
    "        def wrapper() -> Generator[Any, None, None]:\n",
    "            self.args = saved_args\n",
    "            if self.log:\n",
    "                caller_func, lineno = self.caller_location()\n",
    "                print(f\"{caller_func.__name__}:{lineno}: \"\n",
    "                  f\"calling generator (args={self.args})\")\n",
    "\n",
    "            self.ignore_next_location_change()\n",
    "            yield from generator\n",
    "\n",
    "        return wrapper()"
   ]
  },
  {
   "cell_type": "markdown",
   "metadata": {
    "slideshow": {
     "slide_type": "subslide"
    }
   },
   "source": [
    "We see an example of how function calls and returns work in conjunction with function arguments, discussed in the next section."
   ]
  },
  {
   "cell_type": "markdown",
   "metadata": {
    "slideshow": {
     "slide_type": "subslide"
    }
   },
   "source": [
    "### End of Excursion"
   ]
  },
  {
   "cell_type": "markdown",
   "metadata": {
    "slideshow": {
     "slide_type": "subslide"
    }
   },
   "source": [
    "### Excursion: Function Arguments"
   ]
  },
  {
   "cell_type": "markdown",
   "metadata": {
    "slideshow": {
     "slide_type": "fragment"
    }
   },
   "source": [
    "Finally, we handle parameters and arguments. The `args` stack holds the current stack of function arguments, holding the `last_read` variable for each argument."
   ]
  },
  {
   "cell_type": "code",
   "execution_count": 172,
   "metadata": {
    "execution": {
     "iopub.execute_input": "2021-05-11T17:08:03.568666Z",
     "iopub.status.busy": "2021-05-11T17:08:03.568063Z",
     "iopub.status.idle": "2021-05-11T17:08:03.569925Z",
     "shell.execute_reply": "2021-05-11T17:08:03.570491Z"
    },
    "slideshow": {
     "slide_type": "subslide"
    }
   },
   "outputs": [],
   "source": [
    "class DependencyTracker(DependencyTracker):\n",
    "    def arg(self, value: Any, pos: Optional[int] = None, kw: Optional[str] = None) -> Any:\n",
    "        \"\"\"\n",
    "        Track passing an argument `value`\n",
    "        (with given position `pos` 1..n or keyword `kw`)\n",
    "        \"\"\"\n",
    "        if self.log:\n",
    "            caller_func, lineno = self.caller_location()\n",
    "            print(f\"{caller_func.__name__}:{lineno}: \"\n",
    "                  f\"saving args read {self.last_read}\")\n",
    "\n",
    "        if pos:\n",
    "            self.args[pos] = self.last_read\n",
    "        if kw:\n",
    "            self.args[kw] = self.last_read\n",
    "\n",
    "        self.clear_read()\n",
    "        return super().arg(value, pos, kw)"
   ]
  },
  {
   "cell_type": "markdown",
   "metadata": {
    "slideshow": {
     "slide_type": "subslide"
    }
   },
   "source": [
    "When accessing the arguments (with `param()`), we can retrieve this set of read variables for each argument."
   ]
  },
  {
   "cell_type": "code",
   "execution_count": 173,
   "metadata": {
    "execution": {
     "iopub.execute_input": "2021-05-11T17:08:03.579480Z",
     "iopub.status.busy": "2021-05-11T17:08:03.578376Z",
     "iopub.status.idle": "2021-05-11T17:08:03.581314Z",
     "shell.execute_reply": "2021-05-11T17:08:03.581914Z"
    },
    "slideshow": {
     "slide_type": "subslide"
    }
   },
   "outputs": [],
   "source": [
    "class DependencyTracker(DependencyTracker):\n",
    "    def param(self, name: str, value: Any,\n",
    "              pos: Optional[int] = None, vararg: str = \"\", last: bool = False) -> Any:\n",
    "        \"\"\"\n",
    "        Track getting a parameter `name` with value `value`\n",
    "        (with given position `pos`).\n",
    "        vararg parameters are indicated by setting `varargs` to \n",
    "        '*' (*args) or '**' (**kwargs)\n",
    "        \"\"\"\n",
    "        self.clear_read()\n",
    "\n",
    "        if vararg == '*':\n",
    "            # We overapproximate by setting `args` to _all_ positional args\n",
    "            for index in self.args:\n",
    "                if isinstance(index, int) and pos is not None and index >= pos:\n",
    "                    self.last_read += self.args[index]\n",
    "        elif vararg == '**':\n",
    "            # We overapproximate by setting `kwargs` to _all_ passed keyword args\n",
    "            for index in self.args:\n",
    "                if isinstance(index, str):\n",
    "                    self.last_read += self.args[index]\n",
    "        elif name in self.args:\n",
    "            self.last_read = self.args[name]\n",
    "        elif pos in self.args:\n",
    "            self.last_read = self.args[pos]\n",
    "\n",
    "        if self.log:\n",
    "            caller_func, lineno = self.caller_location()\n",
    "            print(f\"{caller_func.__name__}:{lineno}: \"\n",
    "                  f\"restored params read {self.last_read}\")\n",
    "\n",
    "        self.ignore_location_change()\n",
    "        ret = super().param(name, value, pos)\n",
    "\n",
    "        if last:\n",
    "            self.clear_read()\n",
    "            self.args = {}  # Mark `args` as processed\n",
    "\n",
    "        return ret"
   ]
  },
  {
   "cell_type": "markdown",
   "metadata": {
    "slideshow": {
     "slide_type": "subslide"
    }
   },
   "source": [
    "Let us illustrate all these on a small example."
   ]
  },
  {
   "cell_type": "code",
   "execution_count": 174,
   "metadata": {
    "execution": {
     "iopub.execute_input": "2021-05-11T17:08:03.589644Z",
     "iopub.status.busy": "2021-05-11T17:08:03.588679Z",
     "iopub.status.idle": "2021-05-11T17:08:03.590809Z",
     "shell.execute_reply": "2021-05-11T17:08:03.591256Z"
    },
    "slideshow": {
     "slide_type": "subslide"
    }
   },
   "outputs": [],
   "source": [
    "def call_test() -> int:\n",
    "    c = 47\n",
    "\n",
    "    def sq(n: int) -> int:\n",
    "        return n * n\n",
    "\n",
    "    def gen(e: int) -> Generator[int, None, None]:\n",
    "        yield e * c\n",
    "\n",
    "    def just_x(x: Any, y: Any) -> Any:\n",
    "        return x\n",
    "\n",
    "    a = 42\n",
    "    b = gen(a)\n",
    "    d = list(b)[0]\n",
    "\n",
    "    xs = [1, 2, 3, 4]\n",
    "    ys = [sq(elem) for elem in xs if elem > 2]\n",
    "\n",
    "    return just_x(just_x(d, y=b), ys[0])"
   ]
  },
  {
   "cell_type": "code",
   "execution_count": 175,
   "metadata": {
    "execution": {
     "iopub.execute_input": "2021-05-11T17:08:03.595487Z",
     "iopub.status.busy": "2021-05-11T17:08:03.594717Z",
     "iopub.status.idle": "2021-05-11T17:08:03.597690Z",
     "shell.execute_reply": "2021-05-11T17:08:03.598362Z"
    },
    "slideshow": {
     "slide_type": "subslide"
    }
   },
   "outputs": [
    {
     "data": {
      "text/plain": [
       "1974"
      ]
     },
     "execution_count": 1,
     "metadata": {},
     "output_type": "execute_result"
    }
   ],
   "source": [
    "call_test()"
   ]
  },
  {
   "cell_type": "markdown",
   "metadata": {
    "slideshow": {
     "slide_type": "fragment"
    }
   },
   "source": [
    "We apply all our transformers on this code:"
   ]
  },
  {
   "cell_type": "code",
   "execution_count": 176,
   "metadata": {
    "execution": {
     "iopub.execute_input": "2021-05-11T17:08:03.629640Z",
     "iopub.status.busy": "2021-05-11T17:08:03.613534Z",
     "iopub.status.idle": "2021-05-11T17:08:03.632100Z",
     "shell.execute_reply": "2021-05-11T17:08:03.632544Z"
    },
    "slideshow": {
     "slide_type": "subslide"
    }
   },
   "outputs": [
    {
     "name": "stdout",
     "output_type": "stream",
     "text": [
      "\u001b[34mdef\u001b[39;49;00m \u001b[32mcall_test\u001b[39;49;00m() ->\u001b[36mint\u001b[39;49;00m:\n",
      "    c = _data.set(\u001b[33m'\u001b[39;49;00m\u001b[33mc\u001b[39;49;00m\u001b[33m'\u001b[39;49;00m, \u001b[34m47\u001b[39;49;00m)\n",
      "\n",
      "    \u001b[34mdef\u001b[39;49;00m \u001b[32msq\u001b[39;49;00m(n: \u001b[36mint\u001b[39;49;00m) ->\u001b[36mint\u001b[39;49;00m:\n",
      "        _data.param(\u001b[33m'\u001b[39;49;00m\u001b[33mn\u001b[39;49;00m\u001b[33m'\u001b[39;49;00m, n, pos=\u001b[34m1\u001b[39;49;00m, last=\u001b[34mTrue\u001b[39;49;00m)\n",
      "        \u001b[34mreturn\u001b[39;49;00m _data.set(\u001b[33m'\u001b[39;49;00m\u001b[33m<sq() return value>\u001b[39;49;00m\u001b[33m'\u001b[39;49;00m, _data.get(\u001b[33m'\u001b[39;49;00m\u001b[33mn\u001b[39;49;00m\u001b[33m'\u001b[39;49;00m, n) * _data.\n",
      "            get(\u001b[33m'\u001b[39;49;00m\u001b[33mn\u001b[39;49;00m\u001b[33m'\u001b[39;49;00m, n))\n",
      "\n",
      "    \u001b[34mdef\u001b[39;49;00m \u001b[32mgen\u001b[39;49;00m(e: \u001b[36mint\u001b[39;49;00m) ->Generator[\u001b[36mint\u001b[39;49;00m, \u001b[34mNone\u001b[39;49;00m, \u001b[34mNone\u001b[39;49;00m]:\n",
      "        _data.param(\u001b[33m'\u001b[39;49;00m\u001b[33me\u001b[39;49;00m\u001b[33m'\u001b[39;49;00m, e, pos=\u001b[34m1\u001b[39;49;00m, last=\u001b[34mTrue\u001b[39;49;00m)\n",
      "        \u001b[34myield\u001b[39;49;00m _data.set(\u001b[33m'\u001b[39;49;00m\u001b[33m<gen() yield value>\u001b[39;49;00m\u001b[33m'\u001b[39;49;00m, _data.get(\u001b[33m'\u001b[39;49;00m\u001b[33me\u001b[39;49;00m\u001b[33m'\u001b[39;49;00m, e) * _data.\n",
      "            get(\u001b[33m'\u001b[39;49;00m\u001b[33mc\u001b[39;49;00m\u001b[33m'\u001b[39;49;00m, c))\n",
      "\n",
      "    \u001b[34mdef\u001b[39;49;00m \u001b[32mjust_x\u001b[39;49;00m(x: Any, y: Any) ->Any:\n",
      "        _data.param(\u001b[33m'\u001b[39;49;00m\u001b[33mx\u001b[39;49;00m\u001b[33m'\u001b[39;49;00m, x, pos=\u001b[34m1\u001b[39;49;00m)\n",
      "        _data.param(\u001b[33m'\u001b[39;49;00m\u001b[33my\u001b[39;49;00m\u001b[33m'\u001b[39;49;00m, y, pos=\u001b[34m2\u001b[39;49;00m, last=\u001b[34mTrue\u001b[39;49;00m)\n",
      "        \u001b[34mreturn\u001b[39;49;00m _data.set(\u001b[33m'\u001b[39;49;00m\u001b[33m<just_x() return value>\u001b[39;49;00m\u001b[33m'\u001b[39;49;00m, _data.get(\u001b[33m'\u001b[39;49;00m\u001b[33mx\u001b[39;49;00m\u001b[33m'\u001b[39;49;00m, x))\n",
      "    a = _data.set(\u001b[33m'\u001b[39;49;00m\u001b[33ma\u001b[39;49;00m\u001b[33m'\u001b[39;49;00m, \u001b[34m42\u001b[39;49;00m)\n",
      "    b = _data.set(\u001b[33m'\u001b[39;49;00m\u001b[33mb\u001b[39;49;00m\u001b[33m'\u001b[39;49;00m, _data.ret(_data.call(_data.get(\u001b[33m'\u001b[39;49;00m\u001b[33mgen\u001b[39;49;00m\u001b[33m'\u001b[39;49;00m, gen))(_data.\n",
      "        arg(_data.get(\u001b[33m'\u001b[39;49;00m\u001b[33ma\u001b[39;49;00m\u001b[33m'\u001b[39;49;00m, a), pos=\u001b[34m1\u001b[39;49;00m))))\n",
      "    d = _data.set(\u001b[33m'\u001b[39;49;00m\u001b[33md\u001b[39;49;00m\u001b[33m'\u001b[39;49;00m, _data.ret(_data.call(\u001b[36mlist\u001b[39;49;00m)(_data.arg(_data.get(\u001b[33m'\u001b[39;49;00m\u001b[33mb\u001b[39;49;00m\u001b[33m'\u001b[39;49;00m,\n",
      "        b), pos=\u001b[34m1\u001b[39;49;00m)))[\u001b[34m0\u001b[39;49;00m])\n",
      "    xs = _data.set(\u001b[33m'\u001b[39;49;00m\u001b[33mxs\u001b[39;49;00m\u001b[33m'\u001b[39;49;00m, [\u001b[34m1\u001b[39;49;00m, \u001b[34m2\u001b[39;49;00m, \u001b[34m3\u001b[39;49;00m, \u001b[34m4\u001b[39;49;00m])\n",
      "    ys = _data.set(\u001b[33m'\u001b[39;49;00m\u001b[33mys\u001b[39;49;00m\u001b[33m'\u001b[39;49;00m, [_data.ret(_data.call(_data.get(\u001b[33m'\u001b[39;49;00m\u001b[33msq\u001b[39;49;00m\u001b[33m'\u001b[39;49;00m, sq))(_data.\n",
      "        arg(_data.get(\u001b[33m'\u001b[39;49;00m\u001b[33melem\u001b[39;49;00m\u001b[33m'\u001b[39;49;00m, elem), pos=\u001b[34m1\u001b[39;49;00m))) \u001b[34mfor\u001b[39;49;00m elem \u001b[35min\u001b[39;49;00m _data.set(\u001b[33m'\u001b[39;49;00m\u001b[33melem\u001b[39;49;00m\u001b[33m'\u001b[39;49;00m,\n",
      "        _data.get(\u001b[33m'\u001b[39;49;00m\u001b[33mxs\u001b[39;49;00m\u001b[33m'\u001b[39;49;00m, xs)) \u001b[34mif\u001b[39;49;00m _data.get(\u001b[33m'\u001b[39;49;00m\u001b[33melem\u001b[39;49;00m\u001b[33m'\u001b[39;49;00m, elem) > \u001b[34m2\u001b[39;49;00m])\n",
      "    \u001b[34mreturn\u001b[39;49;00m _data.set(\u001b[33m'\u001b[39;49;00m\u001b[33m<call_test() return value>\u001b[39;49;00m\u001b[33m'\u001b[39;49;00m, _data.ret(_data.call(\n",
      "        _data.get(\u001b[33m'\u001b[39;49;00m\u001b[33mjust_x\u001b[39;49;00m\u001b[33m'\u001b[39;49;00m, just_x))(_data.arg(_data.ret(_data.call(_data.\n",
      "        get(\u001b[33m'\u001b[39;49;00m\u001b[33mjust_x\u001b[39;49;00m\u001b[33m'\u001b[39;49;00m, just_x))(_data.arg(_data.get(\u001b[33m'\u001b[39;49;00m\u001b[33md\u001b[39;49;00m\u001b[33m'\u001b[39;49;00m, d), pos=\u001b[34m1\u001b[39;49;00m), y=_data\n",
      "        .arg(_data.get(\u001b[33m'\u001b[39;49;00m\u001b[33mb\u001b[39;49;00m\u001b[33m'\u001b[39;49;00m, b), kw=\u001b[33m'\u001b[39;49;00m\u001b[33my\u001b[39;49;00m\u001b[33m'\u001b[39;49;00m))), pos=\u001b[34m1\u001b[39;49;00m), _data.arg(_data.get(\u001b[33m'\u001b[39;49;00m\u001b[33mys\u001b[39;49;00m\u001b[33m'\u001b[39;49;00m,\n",
      "        ys)[\u001b[34m0\u001b[39;49;00m], pos=\u001b[34m2\u001b[39;49;00m))))"
     ]
    }
   ],
   "source": [
    "call_tree = ast.parse(inspect.getsource(call_test))\n",
    "TrackCallTransformer().visit(call_tree)\n",
    "TrackSetTransformer().visit(call_tree)\n",
    "TrackGetTransformer().visit(call_tree)\n",
    "TrackControlTransformer().visit(call_tree)\n",
    "TrackReturnTransformer().visit(call_tree)\n",
    "TrackParamsTransformer().visit(call_tree)\n",
    "dump_tree(call_tree)"
   ]
  },
  {
   "cell_type": "markdown",
   "metadata": {
    "slideshow": {
     "slide_type": "subslide"
    }
   },
   "source": [
    "Again, we capture the dependencies:"
   ]
  },
  {
   "cell_type": "code",
   "execution_count": 177,
   "metadata": {
    "execution": {
     "iopub.execute_input": "2021-05-11T17:08:03.636554Z",
     "iopub.status.busy": "2021-05-11T17:08:03.635849Z",
     "iopub.status.idle": "2021-05-11T17:08:03.637651Z",
     "shell.execute_reply": "2021-05-11T17:08:03.638109Z"
    },
    "slideshow": {
     "slide_type": "fragment"
    }
   },
   "outputs": [],
   "source": [
    "class DependencyTrackerTester(DataTrackerTester):\n",
    "    def make_data_tracker(self) -> DependencyTracker:\n",
    "        return DependencyTracker(log=self.log)"
   ]
  },
  {
   "cell_type": "code",
   "execution_count": 178,
   "metadata": {
    "execution": {
     "iopub.execute_input": "2021-05-11T17:08:03.645108Z",
     "iopub.status.busy": "2021-05-11T17:08:03.644475Z",
     "iopub.status.idle": "2021-05-11T17:08:03.646517Z",
     "shell.execute_reply": "2021-05-11T17:08:03.646922Z"
    },
    "slideshow": {
     "slide_type": "fragment"
    }
   },
   "outputs": [],
   "source": [
    "with DependencyTrackerTester(call_tree, call_test, log=False) as call_deps:\n",
    "    call_test()"
   ]
  },
  {
   "cell_type": "markdown",
   "metadata": {
    "slideshow": {
     "slide_type": "fragment"
    }
   },
   "source": [
    "We see how \n",
    "\n",
    "* `a` flows into the generator `b` and into the parameter `e` of `gen()`.\n",
    "* `xs` flows into `elem` which in turn flows into the parameter `n` of `sq()`. Both flow into `ys`.\n",
    "* `just_x()` returns only its `x` argument."
   ]
  },
  {
   "cell_type": "code",
   "execution_count": 179,
   "metadata": {
    "execution": {
     "iopub.execute_input": "2021-05-11T17:08:03.654798Z",
     "iopub.status.busy": "2021-05-11T17:08:03.651116Z",
     "iopub.status.idle": "2021-05-11T17:08:04.520315Z",
     "shell.execute_reply": "2021-05-11T17:08:04.520793Z"
    },
    "slideshow": {
     "slide_type": "subslide"
    }
   },
   "outputs": [
    {
     "data": {
      "image/svg+xml": [
       "<?xml version=\"1.0\" encoding=\"UTF-8\" standalone=\"no\"?>\n",
       "<!DOCTYPE svg PUBLIC \"-//W3C//DTD SVG 1.1//EN\"\n",
       " \"http://www.w3.org/Graphics/SVG/1.1/DTD/svg11.dtd\">\n",
       "<!-- Generated by graphviz version 2.40.1 (20161225.0304)\n",
       " -->\n",
       "<!-- Title: dependencies Pages: 1 -->\n",
       "<svg width=\"756pt\" height=\"656pt\"\n",
       " viewBox=\"0.00 0.00 756.00 656.00\" xmlns=\"http://www.w3.org/2000/svg\" xmlns:xlink=\"http://www.w3.org/1999/xlink\">\n",
       "<g id=\"graph0\" class=\"graph\" transform=\"scale(1 1) rotate(0) translate(4 652)\">\n",
       "<title>dependencies</title>\n",
       "<polygon fill=\"#ffffff\" stroke=\"transparent\" points=\"-4,4 -4,-652 752,-652 752,4 -4,4\"/>\n",
       "<!-- elem_functioncall_testat0x7fe245e89f28_18 -->\n",
       "<g id=\"node1\" class=\"node\">\n",
       "<title>elem_functioncall_testat0x7fe245e89f28_18</title>\n",
       "<g id=\"a_node1\"><a xlink:title=\"call_test:18\">\n",
       "<polygon fill=\"#ffdab9\" stroke=\"#000000\" points=\"748,-192 505,-192 505,-152 748,-152 748,-192\"/>\n",
       "<text text-anchor=\"start\" x=\"609.5\" y=\"-177.8\" font-family=\"Fira Mono, Courier, monospace\" font-weight=\"bold\" font-size=\"14.00\" fill=\"#000000\">elem</text>\n",
       "<text text-anchor=\"start\" x=\"513\" y=\"-158.8\" font-family=\"Fira Mono, Courier, monospace\" font-size=\"9.00\" fill=\"#000000\">ys = [sq(elem) for elem in xs if elem &gt; 2]</text>\n",
       "</a>\n",
       "</g>\n",
       "</g>\n",
       "<!-- n_functioncall_testlocalssqat0x7fe245e49400_4 -->\n",
       "<g id=\"node15\" class=\"node\">\n",
       "<title>n_functioncall_testlocalssqat0x7fe245e49400_4</title>\n",
       "<g id=\"a_node15\"><a xlink:title=\"sq:4\">\n",
       "<polygon fill=\"#ffdab9\" stroke=\"#000000\" points=\"694,-116 559,-116 559,-76 694,-76 694,-116\"/>\n",
       "<text text-anchor=\"start\" x=\"622\" y=\"-101.8\" font-family=\"Fira Mono, Courier, monospace\" font-weight=\"bold\" font-size=\"14.00\" fill=\"#000000\">n</text>\n",
       "<text text-anchor=\"start\" x=\"567\" y=\"-82.8\" font-family=\"Fira Mono, Courier, monospace\" font-size=\"9.00\" fill=\"#000000\">def sq(n: int) &#45;&gt; int:</text>\n",
       "</a>\n",
       "</g>\n",
       "</g>\n",
       "<!-- elem_functioncall_testat0x7fe245e89f28_18&#45;&gt;n_functioncall_testlocalssqat0x7fe245e49400_4 -->\n",
       "<g id=\"edge14\" class=\"edge\">\n",
       "<title>elem_functioncall_testat0x7fe245e89f28_18&#45;&gt;n_functioncall_testlocalssqat0x7fe245e49400_4</title>\n",
       "<path fill=\"none\" stroke=\"#000000\" d=\"M626.5,-151.6334C626.5,-143.8186 626.5,-134.7253 626.5,-126.183\"/>\n",
       "<polygon fill=\"#000000\" stroke=\"#000000\" points=\"630.0001,-126.1593 626.5,-116.1593 623.0001,-126.1593 630.0001,-126.1593\"/>\n",
       "</g>\n",
       "<!-- xs_functioncall_testat0x7fe245e89f28_17 -->\n",
       "<g id=\"node2\" class=\"node\">\n",
       "<title>xs_functioncall_testat0x7fe245e89f28_17</title>\n",
       "<g id=\"a_node2\"><a xlink:title=\"call_test:17\">\n",
       "<polygon fill=\"#ffdab9\" stroke=\"#000000\" points=\"680.5,-268 572.5,-268 572.5,-228 680.5,-228 680.5,-268\"/>\n",
       "<text text-anchor=\"start\" x=\"618\" y=\"-253.8\" font-family=\"Fira Mono, Courier, monospace\" font-weight=\"bold\" font-size=\"14.00\" fill=\"#000000\">xs</text>\n",
       "<text text-anchor=\"start\" x=\"580.5\" y=\"-234.8\" font-family=\"Fira Mono, Courier, monospace\" font-size=\"9.00\" fill=\"#000000\">xs = [1, 2, 3, 4]</text>\n",
       "</a>\n",
       "</g>\n",
       "</g>\n",
       "<!-- xs_functioncall_testat0x7fe245e89f28_17&#45;&gt;elem_functioncall_testat0x7fe245e89f28_18 -->\n",
       "<g id=\"edge1\" class=\"edge\">\n",
       "<title>xs_functioncall_testat0x7fe245e89f28_17&#45;&gt;elem_functioncall_testat0x7fe245e89f28_18</title>\n",
       "<path fill=\"none\" stroke=\"#000000\" d=\"M620.4426,-227.6334C619.7819,-219.8186 619.5939,-210.7253 619.8786,-202.183\"/>\n",
       "<polygon fill=\"#000000\" stroke=\"#000000\" points=\"623.375,-202.3453 620.4602,-192.1593 616.3867,-201.9397 623.375,-202.3453\"/>\n",
       "</g>\n",
       "<!-- xs_functioncall_testat0x7fe245e89f28_17&#45;&gt;elem_functioncall_testat0x7fe245e89f28_18 -->\n",
       "<!-- d_functioncall_testat0x7fe245e89f28_15 -->\n",
       "<g id=\"node3\" class=\"node\">\n",
       "<title>d_functioncall_testat0x7fe245e89f28_15</title>\n",
       "<g id=\"a_node3\"><a xlink:title=\"call_test:15\">\n",
       "<polygon fill=\"#ffdab9\" stroke=\"#000000\" points=\"500.5,-344 408.5,-344 408.5,-304 500.5,-304 500.5,-344\"/>\n",
       "<text text-anchor=\"start\" x=\"450\" y=\"-329.8\" font-family=\"Fira Mono, Courier, monospace\" font-weight=\"bold\" font-size=\"14.00\" fill=\"#000000\">d</text>\n",
       "<text text-anchor=\"start\" x=\"416.5\" y=\"-310.8\" font-family=\"Fira Mono, Courier, monospace\" font-size=\"9.00\" fill=\"#000000\">d = list(b)[0]</text>\n",
       "</a>\n",
       "</g>\n",
       "</g>\n",
       "<!-- d_functioncall_testat0x7fe245e89f28_15&#45;&gt;xs_functioncall_testat0x7fe245e89f28_17 -->\n",
       "<!-- x_functioncall_testlocalsjust_xat0x7fe245e2c268_10 -->\n",
       "<g id=\"node13\" class=\"node\">\n",
       "<title>x_functioncall_testlocalsjust_xat0x7fe245e2c268_10</title>\n",
       "<g id=\"a_node13\"><a xlink:title=\"just_x:10\">\n",
       "<polygon fill=\"#ffdab9\" stroke=\"#000000\" points=\"554.5,-268 354.5,-268 354.5,-228 554.5,-228 554.5,-268\"/>\n",
       "<text text-anchor=\"start\" x=\"450\" y=\"-253.8\" font-family=\"Fira Mono, Courier, monospace\" font-weight=\"bold\" font-size=\"14.00\" fill=\"#000000\">x</text>\n",
       "<text text-anchor=\"start\" x=\"362.5\" y=\"-234.8\" font-family=\"Fira Mono, Courier, monospace\" font-size=\"9.00\" fill=\"#000000\">def just_x(x: Any, y: Any) &#45;&gt; Any:</text>\n",
       "</a>\n",
       "</g>\n",
       "</g>\n",
       "<!-- d_functioncall_testat0x7fe245e89f28_15&#45;&gt;x_functioncall_testlocalsjust_xat0x7fe245e2c268_10 -->\n",
       "<g id=\"edge12\" class=\"edge\">\n",
       "<title>d_functioncall_testat0x7fe245e89f28_15&#45;&gt;x_functioncall_testlocalsjust_xat0x7fe245e2c268_10</title>\n",
       "<path fill=\"none\" stroke=\"#000000\" d=\"M454.5,-303.6334C454.5,-295.8186 454.5,-286.7253 454.5,-278.183\"/>\n",
       "<polygon fill=\"#000000\" stroke=\"#000000\" points=\"458.0001,-278.1593 454.5,-268.1593 451.0001,-278.1593 458.0001,-278.1593\"/>\n",
       "</g>\n",
       "<!-- b_functioncall_testat0x7fe245e89f28_14 -->\n",
       "<g id=\"node4\" class=\"node\">\n",
       "<title>b_functioncall_testat0x7fe245e89f28_14</title>\n",
       "<g id=\"a_node4\"><a xlink:title=\"call_test:14\">\n",
       "<polygon fill=\"#ffdab9\" stroke=\"#000000\" points=\"405,-420 334,-420 334,-380 405,-380 405,-420\"/>\n",
       "<text text-anchor=\"start\" x=\"365\" y=\"-405.8\" font-family=\"Fira Mono, Courier, monospace\" font-weight=\"bold\" font-size=\"14.00\" fill=\"#000000\">b</text>\n",
       "<text text-anchor=\"start\" x=\"342\" y=\"-386.8\" font-family=\"Fira Mono, Courier, monospace\" font-size=\"9.00\" fill=\"#000000\">b = gen(a)</text>\n",
       "</a>\n",
       "</g>\n",
       "</g>\n",
       "<!-- b_functioncall_testat0x7fe245e89f28_14&#45;&gt;d_functioncall_testat0x7fe245e89f28_15 -->\n",
       "<g id=\"edge2\" class=\"edge\">\n",
       "<title>b_functioncall_testat0x7fe245e89f28_14&#45;&gt;d_functioncall_testat0x7fe245e89f28_15</title>\n",
       "<path fill=\"none\" stroke=\"#000000\" d=\"M386.221,-379.6334C395.366,-370.7881 406.9484,-360.3049 418.0014,-350.8365\"/>\n",
       "<polygon fill=\"#000000\" stroke=\"#000000\" points=\"420.5286,-353.2835 425.9136,-344.1593 416.014,-347.9339 420.5286,-353.2835\"/>\n",
       "</g>\n",
       "<!-- b_functioncall_testat0x7fe245e89f28_14&#45;&gt;d_functioncall_testat0x7fe245e89f28_15 -->\n",
       "<!-- y_functioncall_testlocalsjust_xat0x7fe245e2c268_10 -->\n",
       "<g id=\"node8\" class=\"node\">\n",
       "<title>y_functioncall_testlocalsjust_xat0x7fe245e2c268_10</title>\n",
       "<g id=\"a_node8\"><a xlink:title=\"just_x:10\">\n",
       "<polygon fill=\"#ffdab9\" stroke=\"#000000\" points=\"336.5,-268 136.5,-268 136.5,-228 336.5,-228 336.5,-268\"/>\n",
       "<text text-anchor=\"start\" x=\"232\" y=\"-253.8\" font-family=\"Fira Mono, Courier, monospace\" font-weight=\"bold\" font-size=\"14.00\" fill=\"#000000\">y</text>\n",
       "<text text-anchor=\"start\" x=\"144.5\" y=\"-234.8\" font-family=\"Fira Mono, Courier, monospace\" font-size=\"9.00\" fill=\"#000000\">def just_x(x: Any, y: Any) &#45;&gt; Any:</text>\n",
       "</a>\n",
       "</g>\n",
       "</g>\n",
       "<!-- b_functioncall_testat0x7fe245e89f28_14&#45;&gt;y_functioncall_testlocalsjust_xat0x7fe245e2c268_10 -->\n",
       "<g id=\"edge6\" class=\"edge\">\n",
       "<title>b_functioncall_testat0x7fe245e89f28_14&#45;&gt;y_functioncall_testlocalsjust_xat0x7fe245e2c268_10</title>\n",
       "<path fill=\"none\" stroke=\"#000000\" d=\"M351.8386,-379.8156C328.4873,-353.1283 287.2298,-305.9769 260.9093,-275.8963\"/>\n",
       "<polygon fill=\"#000000\" stroke=\"#000000\" points=\"263.4535,-273.4889 254.2344,-268.2679 258.1855,-278.0985 263.4535,-273.4889\"/>\n",
       "</g>\n",
       "<!-- genyieldvalue_functioncall_testlocalsgenat0x7fe245ff6268_8 -->\n",
       "<g id=\"node5\" class=\"node\">\n",
       "<title>genyieldvalue_functioncall_testlocalsgenat0x7fe245ff6268_8</title>\n",
       "<g id=\"a_node5\"><a xlink:title=\"gen:8\">\n",
       "<polygon fill=\"#ffdab9\" stroke=\"#000000\" points=\"627.5,-420 451.5,-420 451.5,-380 627.5,-380 627.5,-420\"/>\n",
       "<text text-anchor=\"start\" x=\"459.5\" y=\"-405.8\" font-family=\"Fira Mono, Courier, monospace\" font-weight=\"bold\" font-style=\"italic\" font-size=\"14.00\" fill=\"#000000\">&lt;gen() yield value&gt;</text>\n",
       "<text text-anchor=\"start\" x=\"509.5\" y=\"-386.8\" font-family=\"Fira Mono, Courier, monospace\" font-size=\"9.00\" fill=\"#000000\">yield e * c</text>\n",
       "</a>\n",
       "</g>\n",
       "</g>\n",
       "<!-- genyieldvalue_functioncall_testlocalsgenat0x7fe245ff6268_8&#45;&gt;d_functioncall_testat0x7fe245e89f28_15 -->\n",
       "<g id=\"edge3\" class=\"edge\">\n",
       "<title>genyieldvalue_functioncall_testlocalsgenat0x7fe245ff6268_8&#45;&gt;d_functioncall_testat0x7fe245e89f28_15</title>\n",
       "<path fill=\"none\" stroke=\"#000000\" d=\"M516.7216,-379.6334C506.8288,-370.7881 495.1042,-360.3049 484.5145,-350.8365\"/>\n",
       "<polygon fill=\"#000000\" stroke=\"#000000\" points=\"486.8342,-348.2156 477.0466,-344.1593 482.1684,-353.4339 486.8342,-348.2156\"/>\n",
       "</g>\n",
       "<!-- e_functioncall_testlocalsgenat0x7fe245ff6268_7 -->\n",
       "<g id=\"node6\" class=\"node\">\n",
       "<title>e_functioncall_testlocalsgenat0x7fe245ff6268_7</title>\n",
       "<g id=\"a_node6\"><a xlink:title=\"gen:7\">\n",
       "<polygon fill=\"#ffdab9\" stroke=\"#000000\" points=\"672,-496 407,-496 407,-456 672,-456 672,-496\"/>\n",
       "<text text-anchor=\"start\" x=\"535\" y=\"-481.8\" font-family=\"Fira Mono, Courier, monospace\" font-weight=\"bold\" font-size=\"14.00\" fill=\"#000000\">e</text>\n",
       "<text text-anchor=\"start\" x=\"415\" y=\"-462.8\" font-family=\"Fira Mono, Courier, monospace\" font-size=\"9.00\" fill=\"#000000\">def gen(e: int) &#45;&gt; Generator[int, None, None]:</text>\n",
       "</a>\n",
       "</g>\n",
       "</g>\n",
       "<!-- e_functioncall_testlocalsgenat0x7fe245ff6268_7&#45;&gt;genyieldvalue_functioncall_testlocalsgenat0x7fe245ff6268_8 -->\n",
       "<g id=\"edge8\" class=\"edge\">\n",
       "<title>e_functioncall_testlocalsgenat0x7fe245ff6268_7&#45;&gt;genyieldvalue_functioncall_testlocalsgenat0x7fe245ff6268_8</title>\n",
       "<path fill=\"none\" stroke=\"#000000\" d=\"M533.4426,-455.6334C532.7819,-447.8186 532.5939,-438.7253 532.8786,-430.183\"/>\n",
       "<polygon fill=\"#000000\" stroke=\"#000000\" points=\"536.375,-430.3453 533.4602,-420.1593 529.3867,-429.9397 536.375,-430.3453\"/>\n",
       "</g>\n",
       "<!-- e_functioncall_testlocalsgenat0x7fe245ff6268_7&#45;&gt;genyieldvalue_functioncall_testlocalsgenat0x7fe245ff6268_8 -->\n",
       "<!-- a_functioncall_testat0x7fe245e89f28_13 -->\n",
       "<g id=\"node7\" class=\"node\">\n",
       "<title>a_functioncall_testat0x7fe245e89f28_13</title>\n",
       "<g id=\"a_node7\"><a xlink:title=\"call_test:13\">\n",
       "<polygon fill=\"#ffdab9\" stroke=\"#000000\" points=\"481.5,-572 427.5,-572 427.5,-532 481.5,-532 481.5,-572\"/>\n",
       "<text text-anchor=\"start\" x=\"450\" y=\"-557.8\" font-family=\"Fira Mono, Courier, monospace\" font-weight=\"bold\" font-size=\"14.00\" fill=\"#000000\">a</text>\n",
       "<text text-anchor=\"start\" x=\"438\" y=\"-538.8\" font-family=\"Fira Mono, Courier, monospace\" font-size=\"9.00\" fill=\"#000000\">a = 42</text>\n",
       "</a>\n",
       "</g>\n",
       "</g>\n",
       "<!-- a_functioncall_testat0x7fe245e89f28_13&#45;&gt;b_functioncall_testat0x7fe245e89f28_14 -->\n",
       "<g id=\"edge15\" class=\"edge\">\n",
       "<title>a_functioncall_testat0x7fe245e89f28_13&#45;&gt;b_functioncall_testat0x7fe245e89f28_14</title>\n",
       "<path fill=\"none\" stroke=\"#000000\" d=\"M427.4014,-537.2948C413.6659,-526.9844 398.1842,-512.1917 388.5,-496 376.4139,-475.7925 369.2751,-450.0518 366.572,-430.3123\"/>\n",
       "<polygon fill=\"#000000\" stroke=\"#000000\" points=\"370.0488,-429.9061 365.5415,-420.3178 363.0857,-430.6241 370.0488,-429.9061\"/>\n",
       "</g>\n",
       "<!-- a_functioncall_testat0x7fe245e89f28_13&#45;&gt;b_functioncall_testat0x7fe245e89f28_14 -->\n",
       "<!-- a_functioncall_testat0x7fe245e89f28_13&#45;&gt;e_functioncall_testlocalsgenat0x7fe245ff6268_7 -->\n",
       "<g id=\"edge4\" class=\"edge\">\n",
       "<title>a_functioncall_testat0x7fe245e89f28_13&#45;&gt;e_functioncall_testlocalsgenat0x7fe245ff6268_7</title>\n",
       "<path fill=\"none\" stroke=\"#000000\" d=\"M477.2784,-531.6334C487.1712,-522.7881 498.8958,-512.3049 509.4855,-502.8365\"/>\n",
       "<polygon fill=\"#000000\" stroke=\"#000000\" points=\"511.8316,-505.4339 516.9534,-496.1593 507.1658,-500.2156 511.8316,-505.4339\"/>\n",
       "</g>\n",
       "<!-- just_xreturnvalue_functioncall_testlocalsjust_xat0x7fe245e2c268_11 -->\n",
       "<g id=\"node11\" class=\"node\">\n",
       "<title>just_xreturnvalue_functioncall_testlocalsjust_xat0x7fe245e2c268_11</title>\n",
       "<g id=\"a_node11\"><a xlink:title=\"just_x:11\">\n",
       "<polygon fill=\"#ffdab9\" stroke=\"#000000\" points=\"418.5,-192 208.5,-192 208.5,-152 418.5,-152 418.5,-192\"/>\n",
       "<text text-anchor=\"start\" x=\"216.5\" y=\"-177.8\" font-family=\"Fira Mono, Courier, monospace\" font-weight=\"bold\" font-style=\"italic\" font-size=\"14.00\" fill=\"#000000\">&lt;just_x() return value&gt;</text>\n",
       "<text text-anchor=\"start\" x=\"291.5\" y=\"-158.8\" font-family=\"Fira Mono, Courier, monospace\" font-size=\"9.00\" fill=\"#000000\">return x</text>\n",
       "</a>\n",
       "</g>\n",
       "</g>\n",
       "<!-- y_functioncall_testlocalsjust_xat0x7fe245e2c268_10&#45;&gt;just_xreturnvalue_functioncall_testlocalsjust_xat0x7fe245e2c268_11 -->\n",
       "<!-- ys_functioncall_testat0x7fe245e89f28_18 -->\n",
       "<g id=\"node9\" class=\"node\">\n",
       "<title>ys_functioncall_testat0x7fe245e89f28_18</title>\n",
       "<g id=\"a_node9\"><a xlink:title=\"call_test:18\">\n",
       "<polygon fill=\"#ffdab9\" stroke=\"#000000\" points=\"243,-344 0,-344 0,-304 243,-304 243,-344\"/>\n",
       "<text text-anchor=\"start\" x=\"113\" y=\"-329.8\" font-family=\"Fira Mono, Courier, monospace\" font-weight=\"bold\" font-size=\"14.00\" fill=\"#000000\">ys</text>\n",
       "<text text-anchor=\"start\" x=\"8\" y=\"-310.8\" font-family=\"Fira Mono, Courier, monospace\" font-size=\"9.00\" fill=\"#000000\">ys = [sq(elem) for elem in xs if elem &gt; 2]</text>\n",
       "</a>\n",
       "</g>\n",
       "</g>\n",
       "<!-- ys_functioncall_testat0x7fe245e89f28_18&#45;&gt;y_functioncall_testlocalsjust_xat0x7fe245e2c268_10 -->\n",
       "<g id=\"edge5\" class=\"edge\">\n",
       "<title>ys_functioncall_testat0x7fe245e89f28_18&#45;&gt;y_functioncall_testlocalsjust_xat0x7fe245e2c268_10</title>\n",
       "<path fill=\"none\" stroke=\"#000000\" d=\"M152.016,-303.8329C165.9221,-294.6428 182.5515,-283.6529 197.3642,-273.8637\"/>\n",
       "<polygon fill=\"#000000\" stroke=\"#000000\" points=\"199.4284,-276.6948 205.8414,-268.2613 195.5689,-270.8549 199.4284,-276.6948\"/>\n",
       "</g>\n",
       "<!-- call_testreturnvalue_functioncall_testat0x7fe245e89f28_20 -->\n",
       "<g id=\"node10\" class=\"node\">\n",
       "<title>call_testreturnvalue_functioncall_testat0x7fe245e89f28_20</title>\n",
       "<g id=\"a_node10\"><a xlink:title=\"call_test:20\">\n",
       "<polygon fill=\"#ffdab9\" stroke=\"#000000\" points=\"295,-116 60,-116 60,-76 295,-76 295,-116\"/>\n",
       "<text text-anchor=\"start\" x=\"68\" y=\"-101.8\" font-family=\"Fira Mono, Courier, monospace\" font-weight=\"bold\" font-style=\"italic\" font-size=\"14.00\" fill=\"#000000\">&lt;call_test() return value&gt;</text>\n",
       "<text text-anchor=\"start\" x=\"80\" y=\"-82.8\" font-family=\"Fira Mono, Courier, monospace\" font-size=\"9.00\" fill=\"#000000\">return just_x(just_x(d, y=b), ys[0])</text>\n",
       "</a>\n",
       "</g>\n",
       "</g>\n",
       "<!-- ys_functioncall_testat0x7fe245e89f28_18&#45;&gt;call_testreturnvalue_functioncall_testat0x7fe245e89f28_20 -->\n",
       "<!-- just_xreturnvalue_functioncall_testlocalsjust_xat0x7fe245e2c268_11&#45;&gt;call_testreturnvalue_functioncall_testat0x7fe245e89f28_20 -->\n",
       "<g id=\"edge7\" class=\"edge\">\n",
       "<title>just_xreturnvalue_functioncall_testlocalsjust_xat0x7fe245e2c268_11&#45;&gt;call_testreturnvalue_functioncall_testat0x7fe245e89f28_20</title>\n",
       "<path fill=\"none\" stroke=\"#000000\" d=\"M277.4116,-151.8329C260.6586,-142.471 240.5636,-131.2414 222.8023,-121.316\"/>\n",
       "<polygon fill=\"#000000\" stroke=\"#000000\" points=\"224.1939,-118.0843 213.7571,-116.2613 220.7791,-124.1949 224.1939,-118.0843\"/>\n",
       "</g>\n",
       "<!-- just_xreturnvalue_functioncall_testlocalsjust_xat0x7fe245e2c268_11&#45;&gt;x_functioncall_testlocalsjust_xat0x7fe245e2c268_10 -->\n",
       "<g id=\"edge13\" class=\"edge\">\n",
       "<title>just_xreturnvalue_functioncall_testlocalsjust_xat0x7fe245e2c268_11&#45;&gt;x_functioncall_testlocalsjust_xat0x7fe245e2c268_10</title>\n",
       "<path fill=\"none\" stroke=\"#000000\" d=\"M356.8824,-192.1293C375.1198,-201.5237 396.1702,-212.8049 414.0784,-222.763\"/>\n",
       "<polygon fill=\"#000000\" stroke=\"#000000\" points=\"412.6906,-225.9974 423.1252,-227.8329 416.1127,-219.8909 412.6906,-225.9974\"/>\n",
       "</g>\n",
       "<!-- c_functioncall_testat0x7fe245e89f28_2 -->\n",
       "<g id=\"node12\" class=\"node\">\n",
       "<title>c_functioncall_testat0x7fe245e89f28_2</title>\n",
       "<g id=\"a_node12\"><a xlink:title=\"call_test:2\">\n",
       "<polygon fill=\"#ffdab9\" stroke=\"#000000\" points=\"561.5,-648 507.5,-648 507.5,-608 561.5,-608 561.5,-648\"/>\n",
       "<text text-anchor=\"start\" x=\"530\" y=\"-633.8\" font-family=\"Fira Mono, Courier, monospace\" font-weight=\"bold\" font-size=\"14.00\" fill=\"#000000\">c</text>\n",
       "<text text-anchor=\"start\" x=\"518\" y=\"-614.8\" font-family=\"Fira Mono, Courier, monospace\" font-size=\"9.00\" fill=\"#000000\">c = 47</text>\n",
       "</a>\n",
       "</g>\n",
       "</g>\n",
       "<!-- c_functioncall_testat0x7fe245e89f28_2&#45;&gt;genyieldvalue_functioncall_testlocalsgenat0x7fe245ff6268_8 -->\n",
       "<g id=\"edge9\" class=\"edge\">\n",
       "<title>c_functioncall_testat0x7fe245e89f28_2&#45;&gt;genyieldvalue_functioncall_testlocalsgenat0x7fe245ff6268_8</title>\n",
       "<path fill=\"none\" stroke=\"#000000\" d=\"M561.6909,-613.36C596.9922,-592.6111 656.9787,-550.9756 681.5,-496 688.7418,-479.7641 691.5025,-470.6969 681.5,-456 673.6307,-444.4375 648.1094,-432.8894 620.8305,-423.3096\"/>\n",
       "<polygon fill=\"#000000\" stroke=\"#000000\" points=\"621.7288,-419.9181 611.1344,-420.0064 619.4715,-426.5442 621.7288,-419.9181\"/>\n",
       "</g>\n",
       "<!-- c_functioncall_testat0x7fe245e89f28_2&#45;&gt;a_functioncall_testat0x7fe245e89f28_13 -->\n",
       "<!-- x_functioncall_testlocalsjust_xat0x7fe245e2c268_10&#45;&gt;just_xreturnvalue_functioncall_testlocalsjust_xat0x7fe245e2c268_11 -->\n",
       "<g id=\"edge10\" class=\"edge\">\n",
       "<title>x_functioncall_testlocalsjust_xat0x7fe245e2c268_10&#45;&gt;just_xreturnvalue_functioncall_testlocalsjust_xat0x7fe245e2c268_11</title>\n",
       "<path fill=\"none\" stroke=\"#000000\" d=\"M411.0443,-227.8329C392.8721,-218.471 371.9172,-207.2414 354.0638,-197.316\"/>\n",
       "<polygon fill=\"#000000\" stroke=\"#000000\" points=\"355.4764,-194.0956 345.0416,-192.2613 352.055,-200.2025 355.4764,-194.0956\"/>\n",
       "</g>\n",
       "<!-- sqreturnvalue_functioncall_testlocalssqat0x7fe245e49400_5 -->\n",
       "<g id=\"node14\" class=\"node\">\n",
       "<title>sqreturnvalue_functioncall_testlocalssqat0x7fe245e49400_5</title>\n",
       "<g id=\"a_node14\"><a xlink:title=\"sq:5\">\n",
       "<polygon fill=\"#ffdab9\" stroke=\"#000000\" points=\"714.5,-40 538.5,-40 538.5,0 714.5,0 714.5,-40\"/>\n",
       "<text text-anchor=\"start\" x=\"546.5\" y=\"-25.8\" font-family=\"Fira Mono, Courier, monospace\" font-weight=\"bold\" font-style=\"italic\" font-size=\"14.00\" fill=\"#000000\">&lt;sq() return value&gt;</text>\n",
       "<text text-anchor=\"start\" x=\"594\" y=\"-6.8\" font-family=\"Fira Mono, Courier, monospace\" font-size=\"9.00\" fill=\"#000000\">return n * n</text>\n",
       "</a>\n",
       "</g>\n",
       "</g>\n",
       "<!-- n_functioncall_testlocalssqat0x7fe245e49400_4&#45;&gt;sqreturnvalue_functioncall_testlocalssqat0x7fe245e49400_5 -->\n",
       "<g id=\"edge11\" class=\"edge\">\n",
       "<title>n_functioncall_testlocalssqat0x7fe245e49400_4&#45;&gt;sqreturnvalue_functioncall_testlocalssqat0x7fe245e49400_5</title>\n",
       "<path fill=\"none\" stroke=\"#000000\" d=\"M620.4426,-75.6334C619.7819,-67.8186 619.5939,-58.7253 619.8786,-50.183\"/>\n",
       "<polygon fill=\"#000000\" stroke=\"#000000\" points=\"623.375,-50.3453 620.4602,-40.1593 616.3867,-49.9397 623.375,-50.3453\"/>\n",
       "</g>\n",
       "<!-- n_functioncall_testlocalssqat0x7fe245e49400_4&#45;&gt;sqreturnvalue_functioncall_testlocalssqat0x7fe245e49400_5 -->\n",
       "</g>\n",
       "</svg>\n"
      ],
      "text/plain": [
       "Dependencies(\n",
       "    data={\n",
       "        ('c', (call_test, 2)): set(),\n",
       "        ('a', (call_test, 13)): set(),\n",
       "        ('b', (call_test, 14)): {('a', (call_test, 13))},\n",
       "        ('e', (gen, 7)): {('a', (call_test, 13))},\n",
       "        ('<gen() yield value>', (gen, 8)): {('e', (gen, 7)), ('c', (call_test, 2))},\n",
       "        ('d', (call_test, 15)): {('b', (call_test, 14)), ('<gen() yield value>', (gen, 8))},\n",
       "        ('xs', (call_test, 17)): set(),\n",
       "        ('elem', (call_test, 18)): {('xs', (call_test, 17))},\n",
       "        ('n', (sq, 4)): {('elem', (call_test, 18))},\n",
       "        ('<sq() return value>', (sq, 5)): {('n', (sq, 4))},\n",
       "        ('ys', (call_test, 18)): set(),\n",
       "        ('x', (just_x, 10)): {('d', (call_test, 15)), ('<just_x() return value>', (just_x, 11))},\n",
       "        ('y', (just_x, 10)): {('ys', (call_test, 18)), ('b', (call_test, 14))},\n",
       "        ('<just_x() return value>', (just_x, 11)): {('x', (just_x, 10))},\n",
       "        ('<call_test() return value>', (call_test, 20)): {('<just_x() return value>', (just_x, 11))}},\n",
       " control={\n",
       "        ('c', (call_test, 2)): set(),\n",
       "        ('a', (call_test, 13)): set(),\n",
       "        ('b', (call_test, 14)): set(),\n",
       "        ('e', (gen, 7)): set(),\n",
       "        ('<gen() yield value>', (gen, 8)): set(),\n",
       "        ('d', (call_test, 15)): set(),\n",
       "        ('xs', (call_test, 17)): set(),\n",
       "        ('elem', (call_test, 18)): set(),\n",
       "        ('n', (sq, 4)): set(),\n",
       "        ('<sq() return value>', (sq, 5)): set(),\n",
       "        ('ys', (call_test, 18)): set(),\n",
       "        ('x', (just_x, 10)): set(),\n",
       "        ('y', (just_x, 10)): set(),\n",
       "        ('<just_x() return value>', (just_x, 11)): set(),\n",
       "        ('<call_test() return value>', (call_test, 20)): set()})"
      ]
     },
     "execution_count": 1,
     "metadata": {},
     "output_type": "execute_result"
    }
   ],
   "source": [
    "call_deps.dependencies()"
   ]
  },
  {
   "cell_type": "markdown",
   "metadata": {
    "slideshow": {
     "slide_type": "subslide"
    }
   },
   "source": [
    "The `code()` view lists each function separately:"
   ]
  },
  {
   "cell_type": "code",
   "execution_count": 180,
   "metadata": {
    "execution": {
     "iopub.execute_input": "2021-05-11T17:08:04.546521Z",
     "iopub.status.busy": "2021-05-11T17:08:04.525121Z",
     "iopub.status.idle": "2021-05-11T17:08:04.645633Z",
     "shell.execute_reply": "2021-05-11T17:08:04.646281Z"
    },
    "slideshow": {
     "slide_type": "subslide"
    }
   },
   "outputs": [
    {
     "name": "stdout",
     "output_type": "stream",
     "text": [
      "     1 \u001b[34mdef\u001b[39;49;00m \u001b[32mcall_test\u001b[39;49;00m() -> \u001b[36mint\u001b[39;49;00m:\n",
      "*    2     c = \u001b[34m47\u001b[39;49;00m\n",
      "     3 \n",
      "     4     \u001b[34mdef\u001b[39;49;00m \u001b[32msq\u001b[39;49;00m(n: \u001b[36mint\u001b[39;49;00m) -> \u001b[36mint\u001b[39;49;00m:\n",
      "     5         \u001b[34mreturn\u001b[39;49;00m n * n\n",
      "     6 \n",
      "     7     \u001b[34mdef\u001b[39;49;00m \u001b[32mgen\u001b[39;49;00m(e: \u001b[36mint\u001b[39;49;00m) -> Generator[\u001b[36mint\u001b[39;49;00m, \u001b[34mNone\u001b[39;49;00m, \u001b[34mNone\u001b[39;49;00m]:\n",
      "     8         \u001b[34myield\u001b[39;49;00m e * c\n",
      "     9 \n",
      "    10     \u001b[34mdef\u001b[39;49;00m \u001b[32mjust_x\u001b[39;49;00m(x: Any, y: Any) -> Any:\n",
      "    11         \u001b[34mreturn\u001b[39;49;00m x\n",
      "    12 \n",
      "*   13     a = \u001b[34m42\u001b[39;49;00m\n",
      "*   14     b = gen(a)  \u001b[37m# <= a (13)\u001b[39;49;00m\n",
      "*   15     d = \u001b[36mlist\u001b[39;49;00m(b)[\u001b[34m0\u001b[39;49;00m]  \u001b[37m# <= b (14), <gen() yield value> (gen:8)\u001b[39;49;00m\n",
      "    16 \n",
      "*   17     xs = [\u001b[34m1\u001b[39;49;00m, \u001b[34m2\u001b[39;49;00m, \u001b[34m3\u001b[39;49;00m, \u001b[34m4\u001b[39;49;00m]\n",
      "*   18     ys = [sq(elem) \u001b[34mfor\u001b[39;49;00m elem \u001b[35min\u001b[39;49;00m xs \u001b[34mif\u001b[39;49;00m elem > \u001b[34m2\u001b[39;49;00m]  \u001b[37m# <= xs (17)\u001b[39;49;00m\n",
      "    19 \n",
      "*   20     \u001b[34mreturn\u001b[39;49;00m just_x(just_x(d, y=b), ys[\u001b[34m0\u001b[39;49;00m])  \u001b[37m# <= <just_x() return value> (just_x:11)\u001b[39;49;00m\n",
      "\n",
      "*    7     \u001b[34mdef\u001b[39;49;00m \u001b[32mgen\u001b[39;49;00m(e: \u001b[36mint\u001b[39;49;00m) -> Generator[\u001b[36mint\u001b[39;49;00m, \u001b[34mNone\u001b[39;49;00m, \u001b[34mNone\u001b[39;49;00m]:  \u001b[37m# <= a (call_test:13)\u001b[39;49;00m\n",
      "*    8         \u001b[34myield\u001b[39;49;00m e * c  \u001b[37m# <= e (7), c (call_test:2)\u001b[39;49;00m\n",
      "\n",
      "*   10     \u001b[34mdef\u001b[39;49;00m \u001b[32mjust_x\u001b[39;49;00m(x: Any, y: Any) -> Any:  \u001b[37m# <= d (call_test:15), <just_x() return value> (11), ys (call_test:18), b (call_test:14)\u001b[39;49;00m\n",
      "*   11         \u001b[34mreturn\u001b[39;49;00m x  \u001b[37m# <= x (10)\u001b[39;49;00m\n",
      "\n",
      "*    4     \u001b[34mdef\u001b[39;49;00m \u001b[32msq\u001b[39;49;00m(n: \u001b[36mint\u001b[39;49;00m) -> \u001b[36mint\u001b[39;49;00m:  \u001b[37m# <= elem (call_test:18)\u001b[39;49;00m\n",
      "*    5         \u001b[34mreturn\u001b[39;49;00m n * n  \u001b[37m# <= n (4)\u001b[39;49;00m\n"
     ]
    }
   ],
   "source": [
    "call_deps.dependencies().code()"
   ]
  },
  {
   "cell_type": "markdown",
   "metadata": {
    "slideshow": {
     "slide_type": "subslide"
    }
   },
   "source": [
    "### End of Excursion"
   ]
  },
  {
   "cell_type": "markdown",
   "metadata": {
    "slideshow": {
     "slide_type": "subslide"
    }
   },
   "source": [
    "### Excursion: Diagnostics"
   ]
  },
  {
   "cell_type": "markdown",
   "metadata": {
    "slideshow": {
     "slide_type": "fragment"
    }
   },
   "source": [
    "To check the dependencies we obtain, we perform some minimal checks on whether a referenced variable actually also occurs in the source code."
   ]
  },
  {
   "cell_type": "code",
   "execution_count": 181,
   "metadata": {
    "execution": {
     "iopub.execute_input": "2021-05-11T17:08:04.650714Z",
     "iopub.status.busy": "2021-05-11T17:08:04.650018Z",
     "iopub.status.idle": "2021-05-11T17:08:04.652327Z",
     "shell.execute_reply": "2021-05-11T17:08:04.652792Z"
    },
    "slideshow": {
     "slide_type": "skip"
    }
   },
   "outputs": [],
   "source": [
    "import re"
   ]
  },
  {
   "cell_type": "code",
   "execution_count": 182,
   "metadata": {
    "execution": {
     "iopub.execute_input": "2021-05-11T17:08:04.661149Z",
     "iopub.status.busy": "2021-05-11T17:08:04.660469Z",
     "iopub.status.idle": "2021-05-11T17:08:04.661999Z",
     "shell.execute_reply": "2021-05-11T17:08:04.662467Z"
    },
    "ipub": {
     "ignore": true
    },
    "slideshow": {
     "slide_type": "subslide"
    }
   },
   "outputs": [],
   "source": [
    "class Dependencies(Dependencies):\n",
    "    def validate(self) -> None:\n",
    "        \"\"\"Perform a simple syntactic validation of dependencies\"\"\"\n",
    "        super().validate()\n",
    "\n",
    "        for var in self.all_vars():\n",
    "            source = self.source(var)\n",
    "            if not source:\n",
    "                continue\n",
    "            if source.startswith('<'):\n",
    "                continue   # no source\n",
    "\n",
    "            for dep_var in self.data[var] | self.control[var]:\n",
    "                dep_name, dep_location = dep_var\n",
    "\n",
    "                if dep_name == DependencyTracker.TEST:\n",
    "                    continue  # dependency on <test>\n",
    "\n",
    "                if dep_name.endswith(' value>'):\n",
    "                    if source.find('(') < 0:\n",
    "                        warnings.warn(f\"Warning: {self.format_var(var)} \"\n",
    "                                  f\"depends on {self.format_var(dep_var)}, \"\n",
    "                                  f\"but {repr(source)} does not \"\n",
    "                                  f\"seem to have a call\")\n",
    "                    continue\n",
    "\n",
    "                if source.startswith('def'):\n",
    "                    continue   # function call\n",
    "\n",
    "                rx = re.compile(r'\\b' + dep_name + r'\\b')\n",
    "                if rx.search(source) is None:\n",
    "                    warnings.warn(f\"{self.format_var(var)} \"\n",
    "                              f\"depends on {self.format_var(dep_var)}, \"\n",
    "                              f\"but {repr(dep_name)} does not occur \"\n",
    "                              f\"in {repr(source)}\")"
   ]
  },
  {
   "cell_type": "markdown",
   "metadata": {
    "slideshow": {
     "slide_type": "subslide"
    }
   },
   "source": [
    "`validate()` is automatically called whenever dependencies are output, so if you see any of its error messages, something may be wrong."
   ]
  },
  {
   "cell_type": "markdown",
   "metadata": {
    "slideshow": {
     "slide_type": "subslide"
    }
   },
   "source": [
    "### End of Excursion"
   ]
  },
  {
   "cell_type": "markdown",
   "metadata": {
    "slideshow": {
     "slide_type": "fragment"
    }
   },
   "source": [
    "At this point, `DependencyTracker` is complete; we have all in place to track even complex dependencies in instrumented code."
   ]
  },
  {
   "cell_type": "markdown",
   "metadata": {
    "slideshow": {
     "slide_type": "slide"
    }
   },
   "source": [
    "## Slicing Code"
   ]
  },
  {
   "cell_type": "markdown",
   "metadata": {
    "slideshow": {
     "slide_type": "subslide"
    }
   },
   "source": [
    "Let us now put all these pieces together. We have a means to instrument the source code (our various `NodeTransformer` classes) and a means to track dependencies (the `DependencyTracker` class). Now comes the time to put all these things together in a single tool, which we call `Slicer`.\n",
    "\n",
    "The basic idea of `Slicer` is that you can use it as follows:\n",
    "\n",
    "```python\n",
    "with Slicer(func_1, func_2, ...) as slicer:\n",
    "    func(...)\n",
    "```\n",
    "\n",
    "which first _instruments_ the functions given in the constructor (i.e., replaces their definitions with instrumented counterparts), and then runs the code in the body, calling instrumented functions, and allowing the slicer to collect dependencies. When the body returns, the original definition of the instrumented functions is restored."
   ]
  },
  {
   "cell_type": "markdown",
   "metadata": {
    "slideshow": {
     "slide_type": "subslide"
    }
   },
   "source": [
    "### An Instrumenter Base Class"
   ]
  },
  {
   "cell_type": "markdown",
   "metadata": {
    "slideshow": {
     "slide_type": "fragment"
    }
   },
   "source": [
    "The basic functionality of instrumenting a number of functions (and restoring them at the end of the `with` block) comes in a `Instrumenter` base class. It invokes `instrument()` on all items to instrument; this is to be overloaded in subclasses."
   ]
  },
  {
   "cell_type": "code",
   "execution_count": 183,
   "metadata": {
    "execution": {
     "iopub.execute_input": "2021-05-11T17:08:04.671972Z",
     "iopub.status.busy": "2021-05-11T17:08:04.671123Z",
     "iopub.status.idle": "2021-05-11T17:08:04.673174Z",
     "shell.execute_reply": "2021-05-11T17:08:04.673749Z"
    },
    "slideshow": {
     "slide_type": "subslide"
    }
   },
   "outputs": [],
   "source": [
    "class Instrumenter(StackInspector):\n",
    "    \"\"\"Instrument functions for dynamic tracking\"\"\"\n",
    "\n",
    "    def __init__(self, *items_to_instrument: Callable,\n",
    "                 globals: Optional[Dict[str, Any]] = None,\n",
    "                 log: Union[bool, int] = False) -> None:\n",
    "        \"\"\"\n",
    "        Create an instrumenter.\n",
    "        `items_to_instrument` is a list of items to instrument.\n",
    "        `globals` is a namespace to use (default: caller's globals())\n",
    "        \"\"\"\n",
    "\n",
    "        self.log = log\n",
    "        self.items_to_instrument: List[Callable] = list(items_to_instrument)\n",
    "        self.instrumented_items: Set[Any] = set()\n",
    "\n",
    "        if globals is None:\n",
    "            globals = self.caller_globals()\n",
    "        self.globals = globals\n",
    "\n",
    "    def __enter__(self) -> Any:\n",
    "        \"\"\"Instrument sources\"\"\"\n",
    "        items = self.items_to_instrument\n",
    "        if not items:\n",
    "            items = self.default_items_to_instrument()\n",
    "\n",
    "        for item in items:\n",
    "            self.instrument(item)\n",
    "\n",
    "        return self\n",
    "\n",
    "    def default_items_to_instrument(self) -> List[Callable]:\n",
    "        return []\n",
    "\n",
    "    def instrument(self, item: Any) -> Any:\n",
    "        \"\"\"Instrument `item`. To be overloaded in subclasses.\"\"\"\n",
    "        if self.log:\n",
    "            print(\"Instrumenting\", item)\n",
    "        self.instrumented_items.add(item)\n",
    "        return item"
   ]
  },
  {
   "cell_type": "markdown",
   "metadata": {
    "slideshow": {
     "slide_type": "subslide"
    }
   },
   "source": [
    "At the end of the `with` block, we restore the given functions."
   ]
  },
  {
   "cell_type": "code",
   "execution_count": 184,
   "metadata": {
    "execution": {
     "iopub.execute_input": "2021-05-11T17:08:04.678768Z",
     "iopub.status.busy": "2021-05-11T17:08:04.676710Z",
     "iopub.status.idle": "2021-05-11T17:08:04.680978Z",
     "shell.execute_reply": "2021-05-11T17:08:04.681595Z"
    },
    "slideshow": {
     "slide_type": "fragment"
    }
   },
   "outputs": [],
   "source": [
    "class Instrumenter(Instrumenter):\n",
    "    def __exit__(self, exc_type: Type, exc_value: BaseException,\n",
    "                 traceback: TracebackType) -> Optional[bool]:\n",
    "        \"\"\"Restore sources\"\"\"\n",
    "        self.restore()\n",
    "        return None\n",
    "\n",
    "    def restore(self) -> None:\n",
    "        for item in self.instrumented_items:\n",
    "            self.globals[item.__name__] = item"
   ]
  },
  {
   "cell_type": "markdown",
   "metadata": {
    "slideshow": {
     "slide_type": "fragment"
    }
   },
   "source": [
    "By default, an `Instrumenter` simply outputs a log message:"
   ]
  },
  {
   "cell_type": "code",
   "execution_count": 185,
   "metadata": {
    "execution": {
     "iopub.execute_input": "2021-05-11T17:08:04.685446Z",
     "iopub.status.busy": "2021-05-11T17:08:04.684832Z",
     "iopub.status.idle": "2021-05-11T17:08:04.687034Z",
     "shell.execute_reply": "2021-05-11T17:08:04.687485Z"
    },
    "slideshow": {
     "slide_type": "subslide"
    }
   },
   "outputs": [
    {
     "name": "stdout",
     "output_type": "stream",
     "text": [
      "Instrumenting <function middle at 0x7fe2455bbe18>\n"
     ]
    }
   ],
   "source": [
    "with Instrumenter(middle, log=True) as ins:\n",
    "    pass"
   ]
  },
  {
   "cell_type": "markdown",
   "metadata": {
    "slideshow": {
     "slide_type": "subslide"
    }
   },
   "source": [
    "### The Slicer Class"
   ]
  },
  {
   "cell_type": "markdown",
   "metadata": {
    "slideshow": {
     "slide_type": "fragment"
    }
   },
   "source": [
    "The `Slicer` class comes as a subclass of `Instrumenter`. It sets its own dependency tracker (which can be overwritten by setting the `dependency_tracker` keyword argument)."
   ]
  },
  {
   "cell_type": "code",
   "execution_count": 186,
   "metadata": {
    "execution": {
     "iopub.execute_input": "2021-05-11T17:08:04.694622Z",
     "iopub.status.busy": "2021-05-11T17:08:04.693975Z",
     "iopub.status.idle": "2021-05-11T17:08:04.695477Z",
     "shell.execute_reply": "2021-05-11T17:08:04.696466Z"
    },
    "slideshow": {
     "slide_type": "subslide"
    }
   },
   "outputs": [],
   "source": [
    "class Slicer(Instrumenter):\n",
    "    \"\"\"Track dependencies in an execution\"\"\"\n",
    "\n",
    "    def __init__(self, *items_to_instrument: Any,\n",
    "                 dependency_tracker: Optional[DependencyTracker] = None,\n",
    "                 globals: Optional[Dict[str, Any]] = None,\n",
    "                 log: Union[bool, int] = False):\n",
    "        \"\"\"Create a slicer.\n",
    "        `items_to_instrument` are Python functions or modules with source code.\n",
    "        `dependency_tracker` is the tracker to be used (default: DependencyTracker).\n",
    "        `globals` is the namespace to be used(default: caller's `globals()`)\n",
    "        `log`=True or `log` > 0 turns on logging\n",
    "        \"\"\"\n",
    "        super().__init__(*items_to_instrument, globals=globals, log=log)\n",
    "\n",
    "        if dependency_tracker is None:\n",
    "            dependency_tracker = DependencyTracker(log=(log > 1))\n",
    "        self.dependency_tracker = dependency_tracker\n",
    "\n",
    "        self.saved_dependencies = None\n",
    "\n",
    "    def default_items_to_instrument(self) -> List[Callable]:\n",
    "        raise ValueError(\"Need one or more items to instrument\")"
   ]
  },
  {
   "cell_type": "markdown",
   "metadata": {
    "slideshow": {
     "slide_type": "subslide"
    }
   },
   "source": [
    "The `parse()` method parses a given item, returning its AST."
   ]
  },
  {
   "cell_type": "code",
   "execution_count": 187,
   "metadata": {
    "execution": {
     "iopub.execute_input": "2021-05-11T17:08:04.702282Z",
     "iopub.status.busy": "2021-05-11T17:08:04.701632Z",
     "iopub.status.idle": "2021-05-11T17:08:04.703218Z",
     "shell.execute_reply": "2021-05-11T17:08:04.703597Z"
    },
    "slideshow": {
     "slide_type": "fragment"
    }
   },
   "outputs": [],
   "source": [
    "class Slicer(Slicer):\n",
    "    def parse(self, item: Any) -> AST:\n",
    "        \"\"\"Parse `item`, returning its AST\"\"\"\n",
    "        source_lines, lineno = inspect.getsourcelines(item)\n",
    "        source = \"\".join(source_lines)\n",
    "\n",
    "        if self.log >= 2:\n",
    "            print_content(source, '.py', start_line_number=lineno)\n",
    "            print()\n",
    "            print()\n",
    "\n",
    "        tree = ast.parse(source)\n",
    "        ast.increment_lineno(tree, lineno - 1)\n",
    "        return tree"
   ]
  },
  {
   "cell_type": "markdown",
   "metadata": {
    "slideshow": {
     "slide_type": "subslide"
    }
   },
   "source": [
    "The `transform()` method applies the list of transformers defined earlier in this chapter."
   ]
  },
  {
   "cell_type": "code",
   "execution_count": 188,
   "metadata": {
    "execution": {
     "iopub.execute_input": "2021-05-11T17:08:04.711582Z",
     "iopub.status.busy": "2021-05-11T17:08:04.710690Z",
     "iopub.status.idle": "2021-05-11T17:08:04.712977Z",
     "shell.execute_reply": "2021-05-11T17:08:04.713644Z"
    },
    "slideshow": {
     "slide_type": "subslide"
    }
   },
   "outputs": [],
   "source": [
    "class Slicer(Slicer):\n",
    "    def transformers(self) -> List[NodeTransformer]:\n",
    "        \"\"\"List of transformers to apply. To be extended in subclasses.\"\"\"\n",
    "        return [\n",
    "            TrackCallTransformer(),\n",
    "            TrackSetTransformer(),\n",
    "            TrackGetTransformer(),\n",
    "            TrackControlTransformer(),\n",
    "            TrackReturnTransformer(),\n",
    "            TrackParamsTransformer()\n",
    "        ]\n",
    "\n",
    "    def transform(self, tree: AST) -> AST:\n",
    "        \"\"\"Apply transformers on `tree`. May be extended in subclasses.\"\"\"\n",
    "        # Apply transformers\n",
    "        for transformer in self.transformers():\n",
    "            if self.log >= 3:\n",
    "                print(transformer.__class__.__name__ + ':')\n",
    "\n",
    "            transformer.visit(tree)\n",
    "            ast.fix_missing_locations(tree)\n",
    "            if self.log >= 3:\n",
    "                print_content(\n",
    "                    astor.to_source(tree,\n",
    "                                    add_line_information=self.log >= 4),\n",
    "                              '.py')\n",
    "                print()\n",
    "                print()\n",
    "\n",
    "        if 0 < self.log < 3:\n",
    "            print_content(astor.to_source(tree), '.py')\n",
    "            print()\n",
    "            print()\n",
    "\n",
    "        return tree"
   ]
  },
  {
   "cell_type": "markdown",
   "metadata": {
    "slideshow": {
     "slide_type": "subslide"
    }
   },
   "source": [
    "The `execute()` method executes the transformed tree (such that we get the new definitions). We also make the dependency tracker available for the code in the `with` block."
   ]
  },
  {
   "cell_type": "code",
   "execution_count": 189,
   "metadata": {
    "execution": {
     "iopub.execute_input": "2021-05-11T17:08:04.718531Z",
     "iopub.status.busy": "2021-05-11T17:08:04.717925Z",
     "iopub.status.idle": "2021-05-11T17:08:04.719536Z",
     "shell.execute_reply": "2021-05-11T17:08:04.719912Z"
    },
    "slideshow": {
     "slide_type": "fragment"
    }
   },
   "outputs": [],
   "source": [
    "class Slicer(Slicer):\n",
    "    def execute(self, tree: AST, item: Any) -> None:\n",
    "        \"\"\"Compile and execute `tree`. May be extended in subclasses.\"\"\"\n",
    "\n",
    "        # We pass the source file of `item` such that we can retrieve it\n",
    "        # when accessing the location of the new compiled code\n",
    "        source = cast(str, inspect.getsourcefile(item))\n",
    "        code = compile(tree, source, 'exec')\n",
    "\n",
    "        # Execute the code, resulting in a redefinition of item\n",
    "        exec(code, self.globals)\n",
    "        self.globals[DATA_TRACKER] = self.dependency_tracker"
   ]
  },
  {
   "cell_type": "markdown",
   "metadata": {
    "slideshow": {
     "slide_type": "subslide"
    }
   },
   "source": [
    "The `instrument()` method puts all these together, first parsing the item into a tree, then transforming and executing the tree."
   ]
  },
  {
   "cell_type": "code",
   "execution_count": 190,
   "metadata": {
    "execution": {
     "iopub.execute_input": "2021-05-11T17:08:04.726026Z",
     "iopub.status.busy": "2021-05-11T17:08:04.725332Z",
     "iopub.status.idle": "2021-05-11T17:08:04.727136Z",
     "shell.execute_reply": "2021-05-11T17:08:04.727570Z"
    },
    "slideshow": {
     "slide_type": "subslide"
    }
   },
   "outputs": [],
   "source": [
    "class Slicer(Slicer):\n",
    "    def instrument(self, item: Any) -> Any:\n",
    "        \"\"\"Instrument `item`, transforming its source code, and re-defining it.\"\"\"\n",
    "        if is_internal(item.__name__):\n",
    "            return item  # Do not instrument `print()` and the like\n",
    "\n",
    "        if inspect.isbuiltin(item):\n",
    "            return item  # No source code\n",
    "\n",
    "        item = super().instrument(item)\n",
    "        tree = self.parse(item)\n",
    "        tree = self.transform(tree)\n",
    "        self.execute(tree, item)\n",
    "\n",
    "        new_item = self.globals[item.__name__]\n",
    "        return new_item"
   ]
  },
  {
   "cell_type": "markdown",
   "metadata": {
    "slideshow": {
     "slide_type": "subslide"
    }
   },
   "source": [
    "When we restore the original definition (after the `with` block), we save the dependency tracker again."
   ]
  },
  {
   "cell_type": "code",
   "execution_count": 191,
   "metadata": {
    "execution": {
     "iopub.execute_input": "2021-05-11T17:08:04.732263Z",
     "iopub.status.busy": "2021-05-11T17:08:04.731582Z",
     "iopub.status.idle": "2021-05-11T17:08:04.733573Z",
     "shell.execute_reply": "2021-05-11T17:08:04.734015Z"
    },
    "slideshow": {
     "slide_type": "fragment"
    }
   },
   "outputs": [],
   "source": [
    "class Slicer(Slicer):\n",
    "    def restore(self) -> None:\n",
    "        \"\"\"Restore original code.\"\"\"\n",
    "        if DATA_TRACKER in self.globals:\n",
    "            self.saved_dependencies = self.globals[DATA_TRACKER]\n",
    "            del self.globals[DATA_TRACKER]\n",
    "\n",
    "        super().restore()"
   ]
  },
  {
   "cell_type": "markdown",
   "metadata": {
    "slideshow": {
     "slide_type": "fragment"
    }
   },
   "source": [
    "Three convenience functions allow us to see the dependencies as (well) dependencies, as code, and as graph. These simply invoke the respective functions on the saved dependencies."
   ]
  },
  {
   "cell_type": "code",
   "execution_count": 192,
   "metadata": {
    "execution": {
     "iopub.execute_input": "2021-05-11T17:08:04.740981Z",
     "iopub.status.busy": "2021-05-11T17:08:04.740123Z",
     "iopub.status.idle": "2021-05-11T17:08:04.742219Z",
     "shell.execute_reply": "2021-05-11T17:08:04.742802Z"
    },
    "slideshow": {
     "slide_type": "subslide"
    }
   },
   "outputs": [],
   "source": [
    "class Slicer(Slicer):\n",
    "    def dependencies(self) -> Dependencies:\n",
    "        \"\"\"Return collected dependencies.\"\"\"\n",
    "        if self.saved_dependencies is None:\n",
    "            return Dependencies({}, {})\n",
    "        return self.saved_dependencies.dependencies()\n",
    "\n",
    "    def code(self, *args: Any, **kwargs: Any) -> None:\n",
    "        \"\"\"Show code of instrumented items, annotated with dependencies.\"\"\"\n",
    "        first = True\n",
    "        for item in self.instrumented_items:\n",
    "            if not first:\n",
    "                print()\n",
    "            self.dependencies().code(item, *args, **kwargs)  # type: ignore\n",
    "            first = False\n",
    "\n",
    "    def graph(self, *args: Any, **kwargs: Any) -> Digraph:\n",
    "        \"\"\"Show dependency graph.\"\"\"\n",
    "        return self.dependencies().graph(*args, **kwargs)  # type: ignore\n",
    "\n",
    "    def _repr_svg_(self) -> Any:\n",
    "        \"\"\"If the object is output in Jupyter, render dependencies as a SVG graph\"\"\"\n",
    "        return self.graph()._repr_svg_()"
   ]
  },
  {
   "cell_type": "markdown",
   "metadata": {
    "slideshow": {
     "slide_type": "subslide"
    }
   },
   "source": [
    "Let us put `Slicer` into action. We track our `middle()` function:"
   ]
  },
  {
   "cell_type": "code",
   "execution_count": 193,
   "metadata": {
    "execution": {
     "iopub.execute_input": "2021-05-11T17:08:04.754692Z",
     "iopub.status.busy": "2021-05-11T17:08:04.753989Z",
     "iopub.status.idle": "2021-05-11T17:08:04.756416Z",
     "shell.execute_reply": "2021-05-11T17:08:04.756982Z"
    },
    "slideshow": {
     "slide_type": "fragment"
    }
   },
   "outputs": [
    {
     "data": {
      "text/plain": [
       "1"
      ]
     },
     "execution_count": 1,
     "metadata": {},
     "output_type": "execute_result"
    }
   ],
   "source": [
    "with Slicer(middle) as slicer:\n",
    "    m = middle(2, 1, 3)\n",
    "m"
   ]
  },
  {
   "cell_type": "markdown",
   "metadata": {
    "slideshow": {
     "slide_type": "fragment"
    }
   },
   "source": [
    "These are the dependencies in string form (used when printed):"
   ]
  },
  {
   "cell_type": "code",
   "execution_count": 194,
   "metadata": {
    "execution": {
     "iopub.execute_input": "2021-05-11T17:08:04.764035Z",
     "iopub.status.busy": "2021-05-11T17:08:04.762708Z",
     "iopub.status.idle": "2021-05-11T17:08:04.768242Z",
     "shell.execute_reply": "2021-05-11T17:08:04.768695Z"
    },
    "slideshow": {
     "slide_type": "fragment"
    }
   },
   "outputs": [
    {
     "name": "stdout",
     "output_type": "stream",
     "text": [
      "middle():\n",
      "    <test> (2) <= z (1), y (1)\n",
      "    <test> (3) <= x (1), y (1); <- <test> (2)\n",
      "    <test> (5) <= z (1), x (1); <- <test> (3)\n",
      "    <middle() return value> (6) <= y (1); <- <test> (5)\n",
      "\n"
     ]
    }
   ],
   "source": [
    "print(slicer.dependencies())"
   ]
  },
  {
   "cell_type": "markdown",
   "metadata": {
    "slideshow": {
     "slide_type": "fragment"
    }
   },
   "source": [
    "This is the code form:"
   ]
  },
  {
   "cell_type": "code",
   "execution_count": 195,
   "metadata": {
    "execution": {
     "iopub.execute_input": "2021-05-11T17:08:04.774977Z",
     "iopub.status.busy": "2021-05-11T17:08:04.773834Z",
     "iopub.status.idle": "2021-05-11T17:08:04.827556Z",
     "shell.execute_reply": "2021-05-11T17:08:04.828017Z"
    },
    "slideshow": {
     "slide_type": "subslide"
    }
   },
   "outputs": [
    {
     "name": "stdout",
     "output_type": "stream",
     "text": [
      "*    1 \u001b[34mdef\u001b[39;49;00m \u001b[32mmiddle\u001b[39;49;00m(x, y, z):  \u001b[37m# type: ignore\u001b[39;49;00m\n",
      "*    2     \u001b[34mif\u001b[39;49;00m y < z:  \u001b[37m# <= z (1), y (1)\u001b[39;49;00m\n",
      "*    3         \u001b[34mif\u001b[39;49;00m x < y:  \u001b[37m# <= x (1), y (1); <- <test> (2)\u001b[39;49;00m\n",
      "     4             \u001b[34mreturn\u001b[39;49;00m y\n",
      "*    5         \u001b[34melif\u001b[39;49;00m x < z:  \u001b[37m# <= z (1), x (1); <- <test> (3)\u001b[39;49;00m\n",
      "*    6             \u001b[34mreturn\u001b[39;49;00m y  \u001b[37m# <= y (1); <- <test> (5)\u001b[39;49;00m\n",
      "     7     \u001b[34melse\u001b[39;49;00m:\n",
      "     8         \u001b[34mif\u001b[39;49;00m x > y:\n",
      "     9             \u001b[34mreturn\u001b[39;49;00m y\n",
      "    10         \u001b[34melif\u001b[39;49;00m x > z:\n",
      "    11             \u001b[34mreturn\u001b[39;49;00m x\n",
      "    12     \u001b[34mreturn\u001b[39;49;00m z\n"
     ]
    }
   ],
   "source": [
    "slicer.code()"
   ]
  },
  {
   "cell_type": "markdown",
   "metadata": {
    "slideshow": {
     "slide_type": "fragment"
    }
   },
   "source": [
    "And this is the graph form:"
   ]
  },
  {
   "cell_type": "code",
   "execution_count": 196,
   "metadata": {
    "execution": {
     "iopub.execute_input": "2021-05-11T17:08:04.833473Z",
     "iopub.status.busy": "2021-05-11T17:08:04.831974Z",
     "iopub.status.idle": "2021-05-11T17:08:05.717755Z",
     "shell.execute_reply": "2021-05-11T17:08:05.718174Z"
    },
    "slideshow": {
     "slide_type": "subslide"
    }
   },
   "outputs": [
    {
     "data": {
      "image/svg+xml": [
       "<?xml version=\"1.0\" encoding=\"UTF-8\" standalone=\"no\"?>\n",
       "<!DOCTYPE svg PUBLIC \"-//W3C//DTD SVG 1.1//EN\"\n",
       " \"http://www.w3.org/Graphics/SVG/1.1/DTD/svg11.dtd\">\n",
       "<!-- Generated by graphviz version 2.40.1 (20161225.0304)\n",
       " -->\n",
       "<!-- Title: dependencies Pages: 1 -->\n",
       "<svg width=\"474pt\" height=\"352pt\"\n",
       " viewBox=\"0.00 0.00 473.67 352.00\" xmlns=\"http://www.w3.org/2000/svg\" xmlns:xlink=\"http://www.w3.org/1999/xlink\">\n",
       "<g id=\"graph0\" class=\"graph\" transform=\"scale(1 1) rotate(0) translate(4 348)\">\n",
       "<title>dependencies</title>\n",
       "<polygon fill=\"#ffffff\" stroke=\"transparent\" points=\"-4,4 -4,-348 469.6674,-348 469.6674,4 -4,4\"/>\n",
       "<!-- middlereturnvalue_functionmiddleat0x7fe246b78840_6 -->\n",
       "<g id=\"node1\" class=\"node\">\n",
       "<title>middlereturnvalue_functionmiddleat0x7fe246b78840_6</title>\n",
       "<g id=\"a_node1\"><a xlink:title=\"middle:6\">\n",
       "<polygon fill=\"#ffdab9\" stroke=\"#000000\" points=\"384.1674,-40 174.1674,-40 174.1674,0 384.1674,0 384.1674,-40\"/>\n",
       "<text text-anchor=\"start\" x=\"182.1674\" y=\"-25.8\" font-family=\"Fira Mono, Courier, monospace\" font-weight=\"bold\" font-style=\"italic\" font-size=\"14.00\" fill=\"#000000\">&lt;middle() return value&gt;</text>\n",
       "<text text-anchor=\"start\" x=\"257.1674\" y=\"-6.8\" font-family=\"Fira Mono, Courier, monospace\" font-size=\"9.00\" fill=\"#000000\">return y</text>\n",
       "</a>\n",
       "</g>\n",
       "</g>\n",
       "<!-- y_functionmiddleat0x7fe246b78840_1 -->\n",
       "<g id=\"node2\" class=\"node\">\n",
       "<title>y_functionmiddleat0x7fe246b78840_1</title>\n",
       "<g id=\"a_node2\"><a xlink:title=\"middle:1\">\n",
       "<polygon fill=\"#ffdab9\" stroke=\"#000000\" points=\"465.6674,-344 254.6674,-344 254.6674,-304 465.6674,-304 465.6674,-344\"/>\n",
       "<text text-anchor=\"start\" x=\"355.6674\" y=\"-329.8\" font-family=\"Fira Mono, Courier, monospace\" font-weight=\"bold\" font-size=\"14.00\" fill=\"#000000\">y</text>\n",
       "<text text-anchor=\"start\" x=\"262.6674\" y=\"-310.8\" font-family=\"Fira Mono, Courier, monospace\" font-size=\"9.00\" fill=\"#000000\">def middle(x, y, z): &#160;# type: ignore</text>\n",
       "</a>\n",
       "</g>\n",
       "</g>\n",
       "<!-- y_functionmiddleat0x7fe246b78840_1&#45;&gt;middlereturnvalue_functionmiddleat0x7fe246b78840_6 -->\n",
       "<g id=\"edge1\" class=\"edge\">\n",
       "<title>y_functionmiddleat0x7fe246b78840_1&#45;&gt;middlereturnvalue_functionmiddleat0x7fe246b78840_6</title>\n",
       "<path fill=\"none\" stroke=\"#000000\" d=\"M361.0922,-303.6921C362.3069,-260.0002 361.0375,-154.6654 326.1674,-76 321.6848,-65.8875 314.8074,-56.1704 307.6852,-47.7513\"/>\n",
       "<polygon fill=\"#000000\" stroke=\"#000000\" points=\"310.1258,-45.2297 300.8519,-40.1066 304.9068,-49.8948 310.1258,-45.2297\"/>\n",
       "</g>\n",
       "<!-- test_functionmiddleat0x7fe246b78840_2 -->\n",
       "<g id=\"node5\" class=\"node\">\n",
       "<title>test_functionmiddleat0x7fe246b78840_2</title>\n",
       "<g id=\"a_node5\"><a xlink:title=\"middle:2\">\n",
       "<polygon fill=\"#ffdab9\" stroke=\"#000000\" points=\"312.6674,-268 245.6674,-268 245.6674,-228 312.6674,-228 312.6674,-268\"/>\n",
       "<text text-anchor=\"start\" x=\"253.6674\" y=\"-253.8\" font-family=\"Fira Mono, Courier, monospace\" font-weight=\"bold\" font-style=\"italic\" font-size=\"14.00\" fill=\"#000000\">&lt;test&gt;</text>\n",
       "<text text-anchor=\"start\" x=\"254.6674\" y=\"-234.8\" font-family=\"Fira Mono, Courier, monospace\" font-size=\"9.00\" fill=\"#000000\">if y &lt; z:</text>\n",
       "</a>\n",
       "</g>\n",
       "</g>\n",
       "<!-- y_functionmiddleat0x7fe246b78840_1&#45;&gt;test_functionmiddleat0x7fe246b78840_2 -->\n",
       "<g id=\"edge4\" class=\"edge\">\n",
       "<title>y_functionmiddleat0x7fe246b78840_1&#45;&gt;test_functionmiddleat0x7fe246b78840_2</title>\n",
       "<path fill=\"none\" stroke=\"#000000\" d=\"M338.4609,-303.6334C329.1251,-294.8739 318.0775,-284.5083 308.0636,-275.1125\"/>\n",
       "<polygon fill=\"#000000\" stroke=\"#000000\" points=\"310.3404,-272.4493 300.6529,-268.1593 305.5507,-277.5541 310.3404,-272.4493\"/>\n",
       "</g>\n",
       "<!-- test_functionmiddleat0x7fe246b78840_3 -->\n",
       "<g id=\"node6\" class=\"node\">\n",
       "<title>test_functionmiddleat0x7fe246b78840_3</title>\n",
       "<g id=\"a_node6\"><a xlink:title=\"middle:3\">\n",
       "<polygon fill=\"#ffdab9\" stroke=\"#000000\" points=\"312.6674,-192 245.6674,-192 245.6674,-152 312.6674,-152 312.6674,-192\"/>\n",
       "<text text-anchor=\"start\" x=\"253.6674\" y=\"-177.8\" font-family=\"Fira Mono, Courier, monospace\" font-weight=\"bold\" font-style=\"italic\" font-size=\"14.00\" fill=\"#000000\">&lt;test&gt;</text>\n",
       "<text text-anchor=\"start\" x=\"254.6674\" y=\"-158.8\" font-family=\"Fira Mono, Courier, monospace\" font-size=\"9.00\" fill=\"#000000\">if x &lt; y:</text>\n",
       "</a>\n",
       "</g>\n",
       "</g>\n",
       "<!-- y_functionmiddleat0x7fe246b78840_1&#45;&gt;test_functionmiddleat0x7fe246b78840_3 -->\n",
       "<g id=\"edge6\" class=\"edge\">\n",
       "<title>y_functionmiddleat0x7fe246b78840_1&#45;&gt;test_functionmiddleat0x7fe246b78840_3</title>\n",
       "<path fill=\"none\" stroke=\"#000000\" d=\"M353.9902,-303.7746C347.4803,-283.8201 336.2265,-252.7916 322.1674,-228 316.7145,-218.3845 309.7675,-208.5944 303.0556,-199.9458\"/>\n",
       "<polygon fill=\"#000000\" stroke=\"#000000\" points=\"305.7235,-197.6777 296.749,-192.0466 300.2531,-202.0453 305.7235,-197.6777\"/>\n",
       "</g>\n",
       "<!-- test_functionmiddleat0x7fe246b78840_5 -->\n",
       "<g id=\"node3\" class=\"node\">\n",
       "<title>test_functionmiddleat0x7fe246b78840_5</title>\n",
       "<g id=\"a_node3\"><a xlink:title=\"middle:5\">\n",
       "<polygon fill=\"#ffdab9\" stroke=\"#000000\" points=\"317.1674,-116 241.1674,-116 241.1674,-76 317.1674,-76 317.1674,-116\"/>\n",
       "<text text-anchor=\"start\" x=\"253.6674\" y=\"-101.8\" font-family=\"Fira Mono, Courier, monospace\" font-weight=\"bold\" font-style=\"italic\" font-size=\"14.00\" fill=\"#000000\">&lt;test&gt;</text>\n",
       "<text text-anchor=\"start\" x=\"249.1674\" y=\"-82.8\" font-family=\"Fira Mono, Courier, monospace\" font-size=\"9.00\" fill=\"#000000\">elif x &lt; z:</text>\n",
       "</a>\n",
       "</g>\n",
       "</g>\n",
       "<!-- test_functionmiddleat0x7fe246b78840_5&#45;&gt;middlereturnvalue_functionmiddleat0x7fe246b78840_6 -->\n",
       "<g id=\"edge2\" class=\"edge\">\n",
       "<title>test_functionmiddleat0x7fe246b78840_5&#45;&gt;middlereturnvalue_functionmiddleat0x7fe246b78840_6</title>\n",
       "<path fill=\"none\" stroke=\"#c0c0c0\" stroke-dasharray=\"5,2\" d=\"M273.1099,-75.6334C272.4493,-67.8186 272.2613,-58.7253 272.5459,-50.183\"/>\n",
       "<polygon fill=\"#c0c0c0\" stroke=\"#c0c0c0\" points=\"276.0423,-50.3453 273.1276,-40.1593 269.0541,-49.9397 276.0423,-50.3453\"/>\n",
       "</g>\n",
       "<!-- test_functionmiddleat0x7fe246b78840_5&#45;&gt;middlereturnvalue_functionmiddleat0x7fe246b78840_6 -->\n",
       "<!-- z_functionmiddleat0x7fe246b78840_1 -->\n",
       "<g id=\"node4\" class=\"node\">\n",
       "<title>z_functionmiddleat0x7fe246b78840_1</title>\n",
       "<g id=\"a_node4\"><a xlink:title=\"middle:1\">\n",
       "<polygon fill=\"#ffdab9\" stroke=\"#000000\" points=\"236.6674,-344 25.6674,-344 25.6674,-304 236.6674,-304 236.6674,-344\"/>\n",
       "<text text-anchor=\"start\" x=\"126.6674\" y=\"-329.8\" font-family=\"Fira Mono, Courier, monospace\" font-weight=\"bold\" font-size=\"14.00\" fill=\"#000000\">z</text>\n",
       "<text text-anchor=\"start\" x=\"33.6674\" y=\"-310.8\" font-family=\"Fira Mono, Courier, monospace\" font-size=\"9.00\" fill=\"#000000\">def middle(x, y, z): &#160;# type: ignore</text>\n",
       "</a>\n",
       "</g>\n",
       "</g>\n",
       "<!-- z_functionmiddleat0x7fe246b78840_1&#45;&gt;test_functionmiddleat0x7fe246b78840_5 -->\n",
       "<g id=\"edge8\" class=\"edge\">\n",
       "<title>z_functionmiddleat0x7fe246b78840_1&#45;&gt;test_functionmiddleat0x7fe246b78840_5</title>\n",
       "<path fill=\"none\" stroke=\"#000000\" d=\"M51.4237,-303.9575C33.9706,-295.7246 17.6095,-284.1734 7.1674,-268 -2.4754,-253.0646 -2.2683,-243.0671 7.1674,-228 56.3535,-149.4581 167.0697,-116.4672 231.0506,-103.5549\"/>\n",
       "<polygon fill=\"#000000\" stroke=\"#000000\" points=\"231.7471,-106.9851 240.9013,-101.6511 230.4188,-100.1123 231.7471,-106.9851\"/>\n",
       "</g>\n",
       "<!-- z_functionmiddleat0x7fe246b78840_1&#45;&gt;test_functionmiddleat0x7fe246b78840_2 -->\n",
       "<g id=\"edge3\" class=\"edge\">\n",
       "<title>z_functionmiddleat0x7fe246b78840_1&#45;&gt;test_functionmiddleat0x7fe246b78840_2</title>\n",
       "<path fill=\"none\" stroke=\"#000000\" d=\"M164.3996,-303.8329C185.6967,-292.3925 213.4436,-278.1631 236.3689,-266.9327\"/>\n",
       "<polygon fill=\"#000000\" stroke=\"#000000\" points=\"238.0755,-269.9948 245.5407,-262.4767 235.0165,-263.6986 238.0755,-269.9948\"/>\n",
       "</g>\n",
       "<!-- z_functionmiddleat0x7fe246b78840_1&#45;&gt;test_functionmiddleat0x7fe246b78840_2 -->\n",
       "<!-- test_functionmiddleat0x7fe246b78840_2&#45;&gt;test_functionmiddleat0x7fe246b78840_3 -->\n",
       "<g id=\"edge7\" class=\"edge\">\n",
       "<title>test_functionmiddleat0x7fe246b78840_2&#45;&gt;test_functionmiddleat0x7fe246b78840_3</title>\n",
       "<path fill=\"none\" stroke=\"#c0c0c0\" stroke-dasharray=\"5,2\" d=\"M273.1099,-227.6334C272.4493,-219.8186 272.2613,-210.7253 272.5459,-202.183\"/>\n",
       "<polygon fill=\"#c0c0c0\" stroke=\"#c0c0c0\" points=\"276.0423,-202.3453 273.1276,-192.1593 269.0541,-201.9397 276.0423,-202.3453\"/>\n",
       "</g>\n",
       "<!-- test_functionmiddleat0x7fe246b78840_2&#45;&gt;test_functionmiddleat0x7fe246b78840_3 -->\n",
       "<!-- test_functionmiddleat0x7fe246b78840_3&#45;&gt;test_functionmiddleat0x7fe246b78840_5 -->\n",
       "<g id=\"edge10\" class=\"edge\">\n",
       "<title>test_functionmiddleat0x7fe246b78840_3&#45;&gt;test_functionmiddleat0x7fe246b78840_5</title>\n",
       "<path fill=\"none\" stroke=\"#c0c0c0\" stroke-dasharray=\"5,2\" d=\"M273.1099,-151.6334C272.4493,-143.8186 272.2613,-134.7253 272.5459,-126.183\"/>\n",
       "<polygon fill=\"#c0c0c0\" stroke=\"#c0c0c0\" points=\"276.0423,-126.3453 273.1276,-116.1593 269.0541,-125.9397 276.0423,-126.3453\"/>\n",
       "</g>\n",
       "<!-- test_functionmiddleat0x7fe246b78840_3&#45;&gt;test_functionmiddleat0x7fe246b78840_5 -->\n",
       "<!-- x_functionmiddleat0x7fe246b78840_1 -->\n",
       "<g id=\"node7\" class=\"node\">\n",
       "<title>x_functionmiddleat0x7fe246b78840_1</title>\n",
       "<g id=\"a_node7\"><a xlink:title=\"middle:1\">\n",
       "<polygon fill=\"#ffdab9\" stroke=\"#000000\" points=\"227.6674,-268 16.6674,-268 16.6674,-228 227.6674,-228 227.6674,-268\"/>\n",
       "<text text-anchor=\"start\" x=\"117.6674\" y=\"-253.8\" font-family=\"Fira Mono, Courier, monospace\" font-weight=\"bold\" font-size=\"14.00\" fill=\"#000000\">x</text>\n",
       "<text text-anchor=\"start\" x=\"24.6674\" y=\"-234.8\" font-family=\"Fira Mono, Courier, monospace\" font-size=\"9.00\" fill=\"#000000\">def middle(x, y, z): &#160;# type: ignore</text>\n",
       "</a>\n",
       "</g>\n",
       "</g>\n",
       "<!-- x_functionmiddleat0x7fe246b78840_1&#45;&gt;test_functionmiddleat0x7fe246b78840_5 -->\n",
       "<g id=\"edge9\" class=\"edge\">\n",
       "<title>x_functionmiddleat0x7fe246b78840_1&#45;&gt;test_functionmiddleat0x7fe246b78840_5</title>\n",
       "<path fill=\"none\" stroke=\"#000000\" d=\"M143.0158,-227.8156C170.6982,-201.0147 219.6982,-153.5752 250.7491,-123.5132\"/>\n",
       "<polygon fill=\"#000000\" stroke=\"#000000\" points=\"253.4827,-125.7383 258.2328,-116.2679 248.6137,-120.7091 253.4827,-125.7383\"/>\n",
       "</g>\n",
       "<!-- x_functionmiddleat0x7fe246b78840_1&#45;&gt;test_functionmiddleat0x7fe246b78840_3 -->\n",
       "<g id=\"edge5\" class=\"edge\">\n",
       "<title>x_functionmiddleat0x7fe246b78840_1&#45;&gt;test_functionmiddleat0x7fe246b78840_3</title>\n",
       "<path fill=\"none\" stroke=\"#000000\" d=\"M163.8283,-227.8329C186.2642,-216.9722 213.8924,-203.5981 236.4833,-192.6623\"/>\n",
       "<polygon fill=\"#000000\" stroke=\"#000000\" points=\"238.0314,-195.8015 245.5073,-188.2941 234.9814,-189.5009 238.0314,-195.8015\"/>\n",
       "</g>\n",
       "</g>\n",
       "</svg>\n"
      ],
      "text/plain": [
       "<__main__.Slicer at 0x7fe246a18a20>"
      ]
     },
     "execution_count": 1,
     "metadata": {},
     "output_type": "execute_result"
    }
   ],
   "source": [
    "slicer"
   ]
  },
  {
   "cell_type": "markdown",
   "metadata": {
    "slideshow": {
     "slide_type": "fragment"
    }
   },
   "source": [
    "You can also access the raw `repr()` form, which allows you to reconstruct dependencies at any time. (This is how we showed off dependencies at the beginning of this chapter, before even introducing the code that computes them.)"
   ]
  },
  {
   "cell_type": "code",
   "execution_count": 197,
   "metadata": {
    "execution": {
     "iopub.execute_input": "2021-05-11T17:08:05.722890Z",
     "iopub.status.busy": "2021-05-11T17:08:05.722026Z",
     "iopub.status.idle": "2021-05-11T17:08:05.727868Z",
     "shell.execute_reply": "2021-05-11T17:08:05.728351Z"
    },
    "slideshow": {
     "slide_type": "subslide"
    }
   },
   "outputs": [
    {
     "name": "stdout",
     "output_type": "stream",
     "text": [
      "Dependencies(\n",
      "    data={\n",
      "        ('x', (middle, 1)): set(),\n",
      "        ('y', (middle, 1)): set(),\n",
      "        ('z', (middle, 1)): set(),\n",
      "        ('<test>', (middle, 2)): {('z', (middle, 1)), ('y', (middle, 1))},\n",
      "        ('<test>', (middle, 3)): {('x', (middle, 1)), ('y', (middle, 1))},\n",
      "        ('<test>', (middle, 5)): {('z', (middle, 1)), ('x', (middle, 1))},\n",
      "        ('<middle() return value>', (middle, 6)): {('y', (middle, 1))}},\n",
      " control={\n",
      "        ('x', (middle, 1)): set(),\n",
      "        ('y', (middle, 1)): set(),\n",
      "        ('z', (middle, 1)): set(),\n",
      "        ('<test>', (middle, 2)): set(),\n",
      "        ('<test>', (middle, 3)): {('<test>', (middle, 2))},\n",
      "        ('<test>', (middle, 5)): {('<test>', (middle, 3))},\n",
      "        ('<middle() return value>', (middle, 6)): {('<test>', (middle, 5))}})\n"
     ]
    }
   ],
   "source": [
    "print(repr(slicer.dependencies()))"
   ]
  },
  {
   "cell_type": "markdown",
   "metadata": {
    "slideshow": {
     "slide_type": "subslide"
    }
   },
   "source": [
    "### Diagnostics"
   ]
  },
  {
   "cell_type": "markdown",
   "metadata": {
    "slideshow": {
     "slide_type": "fragment"
    }
   },
   "source": [
    "The `Slicer` constructor accepts a `log` argument (default: False), which can be set to show various intermediate results:\n",
    "\n",
    "* `log=True` (or `log=1`): Show instrumented source code\n",
    "* `log=2`: Also log execution\n",
    "* `log=3`: Also log individual transformer steps\n",
    "* `log=4`: Also log source line numbers"
   ]
  },
  {
   "cell_type": "markdown",
   "metadata": {
    "slideshow": {
     "slide_type": "slide"
    }
   },
   "source": [
    "## More Examples"
   ]
  },
  {
   "cell_type": "markdown",
   "metadata": {
    "slideshow": {
     "slide_type": "fragment"
    }
   },
   "source": [
    "Let us demonstrate our `Slicer` class on a few more examples."
   ]
  },
  {
   "cell_type": "markdown",
   "metadata": {
    "slideshow": {
     "slide_type": "subslide"
    }
   },
   "source": [
    "### Square Root"
   ]
  },
  {
   "cell_type": "markdown",
   "metadata": {
    "slideshow": {
     "slide_type": "fragment"
    }
   },
   "source": [
    "The `square_root()` function from [the chapter on assertions](Assertions.ipynb) demonstrates a nice interplay between data and control dependencies."
   ]
  },
  {
   "cell_type": "code",
   "execution_count": 198,
   "metadata": {
    "execution": {
     "iopub.execute_input": "2021-05-11T17:08:05.733353Z",
     "iopub.status.busy": "2021-05-11T17:08:05.732560Z",
     "iopub.status.idle": "2021-05-11T17:08:05.734372Z",
     "shell.execute_reply": "2021-05-11T17:08:05.734777Z"
    },
    "slideshow": {
     "slide_type": "skip"
    }
   },
   "outputs": [],
   "source": [
    "import math"
   ]
  },
  {
   "cell_type": "code",
   "execution_count": 199,
   "metadata": {
    "execution": {
     "iopub.execute_input": "2021-05-11T17:08:05.738317Z",
     "iopub.status.busy": "2021-05-11T17:08:05.737652Z",
     "iopub.status.idle": "2021-05-11T17:08:05.739471Z",
     "shell.execute_reply": "2021-05-11T17:08:05.739855Z"
    },
    "slideshow": {
     "slide_type": "skip"
    }
   },
   "outputs": [],
   "source": [
    "from Assertions import square_root  # minor dependency"
   ]
  },
  {
   "cell_type": "markdown",
   "metadata": {
    "slideshow": {
     "slide_type": "fragment"
    }
   },
   "source": [
    "Here is the original source code:"
   ]
  },
  {
   "cell_type": "code",
   "execution_count": 200,
   "metadata": {
    "execution": {
     "iopub.execute_input": "2021-05-11T17:08:05.749994Z",
     "iopub.status.busy": "2021-05-11T17:08:05.749347Z",
     "iopub.status.idle": "2021-05-11T17:08:05.751755Z",
     "shell.execute_reply": "2021-05-11T17:08:05.752147Z"
    },
    "slideshow": {
     "slide_type": "subslide"
    }
   },
   "outputs": [
    {
     "name": "stdout",
     "output_type": "stream",
     "text": [
      "\u001b[34mdef\u001b[39;49;00m \u001b[32msquare_root\u001b[39;49;00m(x):  \u001b[37m# type: ignore\u001b[39;49;00m\n",
      "    \u001b[34massert\u001b[39;49;00m x >= \u001b[34m0\u001b[39;49;00m  \u001b[37m# precondition\u001b[39;49;00m\n",
      "\n",
      "    approx = \u001b[34mNone\u001b[39;49;00m\n",
      "    guess = x / \u001b[34m2\u001b[39;49;00m\n",
      "    \u001b[34mwhile\u001b[39;49;00m approx != guess:\n",
      "        approx = guess\n",
      "        guess = (approx + x / approx) / \u001b[34m2\u001b[39;49;00m\n",
      "\n",
      "    \u001b[34massert\u001b[39;49;00m math.isclose(approx * approx, x)\n",
      "    \u001b[34mreturn\u001b[39;49;00m approx"
     ]
    }
   ],
   "source": [
    "print_content(inspect.getsource(square_root), '.py')"
   ]
  },
  {
   "cell_type": "markdown",
   "metadata": {
    "slideshow": {
     "slide_type": "fragment"
    }
   },
   "source": [
    "Turning on logging shows the instrumented version:"
   ]
  },
  {
   "cell_type": "code",
   "execution_count": 201,
   "metadata": {
    "execution": {
     "iopub.execute_input": "2021-05-11T17:08:05.773723Z",
     "iopub.status.busy": "2021-05-11T17:08:05.772958Z",
     "iopub.status.idle": "2021-05-11T17:08:05.778354Z",
     "shell.execute_reply": "2021-05-11T17:08:05.778743Z"
    },
    "slideshow": {
     "slide_type": "subslide"
    }
   },
   "outputs": [
    {
     "name": "stdout",
     "output_type": "stream",
     "text": [
      "Instrumenting <function square_root at 0x7fe245e89510>\n",
      "\u001b[34mdef\u001b[39;49;00m \u001b[32msquare_root\u001b[39;49;00m(x):\n",
      "    _data.param(\u001b[33m'\u001b[39;49;00m\u001b[33mx\u001b[39;49;00m\u001b[33m'\u001b[39;49;00m, x, pos=\u001b[34m1\u001b[39;49;00m, last=\u001b[34mTrue\u001b[39;49;00m)\n",
      "    \u001b[34massert\u001b[39;49;00m _data.set(\u001b[33m'\u001b[39;49;00m\u001b[33m<assertion>\u001b[39;49;00m\u001b[33m'\u001b[39;49;00m, _data.get(\u001b[33m'\u001b[39;49;00m\u001b[33mx\u001b[39;49;00m\u001b[33m'\u001b[39;49;00m, x) >= \u001b[34m0\u001b[39;49;00m, loads=(_data.\n",
      "        get(\u001b[33m'\u001b[39;49;00m\u001b[33mx\u001b[39;49;00m\u001b[33m'\u001b[39;49;00m, x),))\n",
      "    approx = _data.set(\u001b[33m'\u001b[39;49;00m\u001b[33mapprox\u001b[39;49;00m\u001b[33m'\u001b[39;49;00m, \u001b[34mNone\u001b[39;49;00m)\n",
      "    guess = _data.set(\u001b[33m'\u001b[39;49;00m\u001b[33mguess\u001b[39;49;00m\u001b[33m'\u001b[39;49;00m, _data.get(\u001b[33m'\u001b[39;49;00m\u001b[33mx\u001b[39;49;00m\u001b[33m'\u001b[39;49;00m, x) / \u001b[34m2\u001b[39;49;00m)\n",
      "    \u001b[34mwhile\u001b[39;49;00m _data.test(_data.get(\u001b[33m'\u001b[39;49;00m\u001b[33mapprox\u001b[39;49;00m\u001b[33m'\u001b[39;49;00m, approx) != _data.get(\u001b[33m'\u001b[39;49;00m\u001b[33mguess\u001b[39;49;00m\u001b[33m'\u001b[39;49;00m, guess)):\n",
      "        \u001b[34mwith\u001b[39;49;00m _data:\n",
      "            approx = _data.set(\u001b[33m'\u001b[39;49;00m\u001b[33mapprox\u001b[39;49;00m\u001b[33m'\u001b[39;49;00m, _data.get(\u001b[33m'\u001b[39;49;00m\u001b[33mguess\u001b[39;49;00m\u001b[33m'\u001b[39;49;00m, guess))\n",
      "            guess = _data.set(\u001b[33m'\u001b[39;49;00m\u001b[33mguess\u001b[39;49;00m\u001b[33m'\u001b[39;49;00m, (_data.get(\u001b[33m'\u001b[39;49;00m\u001b[33mapprox\u001b[39;49;00m\u001b[33m'\u001b[39;49;00m, approx) + _data\n",
      "                .get(\u001b[33m'\u001b[39;49;00m\u001b[33mx\u001b[39;49;00m\u001b[33m'\u001b[39;49;00m, x) / _data.get(\u001b[33m'\u001b[39;49;00m\u001b[33mapprox\u001b[39;49;00m\u001b[33m'\u001b[39;49;00m, approx)) / \u001b[34m2\u001b[39;49;00m)\n",
      "    \u001b[34massert\u001b[39;49;00m _data.set(\u001b[33m'\u001b[39;49;00m\u001b[33m<assertion>\u001b[39;49;00m\u001b[33m'\u001b[39;49;00m, _data.ret(_data.call(_data.get(\u001b[33m'\u001b[39;49;00m\u001b[33mmath\u001b[39;49;00m\u001b[33m'\u001b[39;49;00m,\n",
      "        math).isclose)(_data.arg(_data.get(\u001b[33m'\u001b[39;49;00m\u001b[33mapprox\u001b[39;49;00m\u001b[33m'\u001b[39;49;00m, approx) * _data.get(\n",
      "        \u001b[33m'\u001b[39;49;00m\u001b[33mapprox\u001b[39;49;00m\u001b[33m'\u001b[39;49;00m, approx), pos=\u001b[34m1\u001b[39;49;00m), _data.arg(_data.get(\u001b[33m'\u001b[39;49;00m\u001b[33mx\u001b[39;49;00m\u001b[33m'\u001b[39;49;00m, x), pos=\u001b[34m2\u001b[39;49;00m))),\n",
      "        loads=(_data.get(\u001b[33m'\u001b[39;49;00m\u001b[33mapprox\u001b[39;49;00m\u001b[33m'\u001b[39;49;00m, approx), _data, _data.get(\u001b[33m'\u001b[39;49;00m\u001b[33mx\u001b[39;49;00m\u001b[33m'\u001b[39;49;00m, x), _data\n",
      "        .get(\u001b[33m'\u001b[39;49;00m\u001b[33mmath\u001b[39;49;00m\u001b[33m'\u001b[39;49;00m, math)))\n",
      "    \u001b[34mreturn\u001b[39;49;00m _data.set(\u001b[33m'\u001b[39;49;00m\u001b[33m<square_root() return value>\u001b[39;49;00m\u001b[33m'\u001b[39;49;00m, _data.get(\u001b[33m'\u001b[39;49;00m\u001b[33mapprox\u001b[39;49;00m\u001b[33m'\u001b[39;49;00m,\n",
      "        approx))\n",
      "\n"
     ]
    }
   ],
   "source": [
    "with Slicer(square_root, log=True) as root_slicer:\n",
    "    y = square_root(2.0)"
   ]
  },
  {
   "cell_type": "markdown",
   "metadata": {
    "slideshow": {
     "slide_type": "subslide"
    }
   },
   "source": [
    "The dependency graph shows how `guess` and `approx` flow into each other until they are the same."
   ]
  },
  {
   "cell_type": "code",
   "execution_count": 202,
   "metadata": {
    "execution": {
     "iopub.execute_input": "2021-05-11T17:08:05.783957Z",
     "iopub.status.busy": "2021-05-11T17:08:05.783250Z",
     "iopub.status.idle": "2021-05-11T17:08:06.669579Z",
     "shell.execute_reply": "2021-05-11T17:08:06.670086Z"
    },
    "slideshow": {
     "slide_type": "fragment"
    }
   },
   "outputs": [
    {
     "data": {
      "image/svg+xml": [
       "<?xml version=\"1.0\" encoding=\"UTF-8\" standalone=\"no\"?>\n",
       "<!DOCTYPE svg PUBLIC \"-//W3C//DTD SVG 1.1//EN\"\n",
       " \"http://www.w3.org/Graphics/SVG/1.1/DTD/svg11.dtd\">\n",
       "<!-- Generated by graphviz version 2.40.1 (20161225.0304)\n",
       " -->\n",
       "<!-- Title: dependencies Pages: 1 -->\n",
       "<svg width=\"492pt\" height=\"504pt\"\n",
       " viewBox=\"0.00 0.00 492.00 504.00\" xmlns=\"http://www.w3.org/2000/svg\" xmlns:xlink=\"http://www.w3.org/1999/xlink\">\n",
       "<g id=\"graph0\" class=\"graph\" transform=\"scale(1 1) rotate(0) translate(4 500)\">\n",
       "<title>dependencies</title>\n",
       "<polygon fill=\"#ffffff\" stroke=\"transparent\" points=\"-4,4 -4,-500 488,-500 488,4 -4,4\"/>\n",
       "<!-- x_functionsquare_rootat0x7fe246b782f0_54 -->\n",
       "<g id=\"node1\" class=\"node\">\n",
       "<title>x_functionsquare_rootat0x7fe246b782f0_54</title>\n",
       "<g id=\"a_node1\"><a xlink:title=\"square_root:54\">\n",
       "<polygon fill=\"#ffdab9\" stroke=\"#000000\" points=\"385.5,-496 179.5,-496 179.5,-456 385.5,-456 385.5,-496\"/>\n",
       "<text text-anchor=\"start\" x=\"278\" y=\"-481.8\" font-family=\"Fira Mono, Courier, monospace\" font-weight=\"bold\" font-size=\"14.00\" fill=\"#000000\">x</text>\n",
       "<text text-anchor=\"start\" x=\"187.5\" y=\"-462.8\" font-family=\"Fira Mono, Courier, monospace\" font-size=\"9.00\" fill=\"#000000\">def square_root(x): &#160;# type: ignore</text>\n",
       "</a>\n",
       "</g>\n",
       "</g>\n",
       "<!-- guess_functionsquare_rootat0x7fe246b782f0_61 -->\n",
       "<g id=\"node2\" class=\"node\">\n",
       "<title>guess_functionsquare_rootat0x7fe246b782f0_61</title>\n",
       "<g id=\"a_node2\"><a xlink:title=\"square_root:61\">\n",
       "<polygon fill=\"#ffdab9\" stroke=\"#000000\" points=\"337,-268 142,-268 142,-228 337,-228 337,-268\"/>\n",
       "<text text-anchor=\"start\" x=\"218\" y=\"-253.8\" font-family=\"Fira Mono, Courier, monospace\" font-weight=\"bold\" font-size=\"14.00\" fill=\"#000000\">guess</text>\n",
       "<text text-anchor=\"start\" x=\"150\" y=\"-234.8\" font-family=\"Fira Mono, Courier, monospace\" font-size=\"9.00\" fill=\"#000000\">guess = (approx + x / approx) / 2</text>\n",
       "</a>\n",
       "</g>\n",
       "</g>\n",
       "<!-- x_functionsquare_rootat0x7fe246b782f0_54&#45;&gt;guess_functionsquare_rootat0x7fe246b782f0_61 -->\n",
       "<g id=\"edge2\" class=\"edge\">\n",
       "<title>x_functionsquare_rootat0x7fe246b782f0_54&#45;&gt;guess_functionsquare_rootat0x7fe246b782f0_61</title>\n",
       "<path fill=\"none\" stroke=\"#000000\" d=\"M277.0638,-455.8696C274.2977,-445.2469 271.0009,-431.9676 268.5,-420 258.1709,-370.5715 248.9938,-312.5592 243.8503,-278.117\"/>\n",
       "<polygon fill=\"#000000\" stroke=\"#000000\" points=\"247.3121,-277.6007 242.3868,-268.2203 240.3874,-278.6248 247.3121,-277.6007\"/>\n",
       "</g>\n",
       "<!-- assertion_functionsquare_rootat0x7fe246b782f0_55 -->\n",
       "<g id=\"node6\" class=\"node\">\n",
       "<title>assertion_functionsquare_rootat0x7fe246b782f0_55</title>\n",
       "<g id=\"a_node6\"><a xlink:title=\"square_root:55\">\n",
       "<polygon fill=\"#ffdab9\" stroke=\"#000000\" points=\"484,-420 311,-420 311,-380 484,-380 484,-420\"/>\n",
       "<text text-anchor=\"start\" x=\"351\" y=\"-405.8\" font-family=\"Fira Mono, Courier, monospace\" font-weight=\"bold\" font-style=\"italic\" font-size=\"14.00\" fill=\"#000000\">&lt;assertion&gt;</text>\n",
       "<text text-anchor=\"start\" x=\"319\" y=\"-386.8\" font-family=\"Fira Mono, Courier, monospace\" font-size=\"9.00\" fill=\"#000000\">assert x &gt;= 0 &#160;# precondition</text>\n",
       "</a>\n",
       "</g>\n",
       "</g>\n",
       "<!-- x_functionsquare_rootat0x7fe246b782f0_54&#45;&gt;assertion_functionsquare_rootat0x7fe246b782f0_55 -->\n",
       "<g id=\"edge4\" class=\"edge\">\n",
       "<title>x_functionsquare_rootat0x7fe246b782f0_54&#45;&gt;assertion_functionsquare_rootat0x7fe246b782f0_55</title>\n",
       "<path fill=\"none\" stroke=\"#000000\" d=\"M306.9755,-455.8329C320.0931,-446.6428 336.5912,-435.6529 351.93,-425.8637\"/>\n",
       "<polygon fill=\"#000000\" stroke=\"#000000\" points=\"354.2102,-428.563 360.7929,-420.2613 350.4699,-422.646 354.2102,-428.563\"/>\n",
       "</g>\n",
       "<!-- x_functionsquare_rootat0x7fe246b782f0_54&#45;&gt;assertion_functionsquare_rootat0x7fe246b782f0_55 -->\n",
       "<!-- guess_functionsquare_rootat0x7fe246b782f0_58 -->\n",
       "<g id=\"node7\" class=\"node\">\n",
       "<title>guess_functionsquare_rootat0x7fe246b782f0_58</title>\n",
       "<g id=\"a_node7\"><a xlink:title=\"square_root:58\">\n",
       "<polygon fill=\"#ffdab9\" stroke=\"#000000\" points=\"442,-268 355,-268 355,-228 442,-228 442,-268\"/>\n",
       "<text text-anchor=\"start\" x=\"377\" y=\"-253.8\" font-family=\"Fira Mono, Courier, monospace\" font-weight=\"bold\" font-size=\"14.00\" fill=\"#000000\">guess</text>\n",
       "<text text-anchor=\"start\" x=\"363\" y=\"-234.8\" font-family=\"Fira Mono, Courier, monospace\" font-size=\"9.00\" fill=\"#000000\">guess = x / 2</text>\n",
       "</a>\n",
       "</g>\n",
       "</g>\n",
       "<!-- x_functionsquare_rootat0x7fe246b782f0_54&#45;&gt;guess_functionsquare_rootat0x7fe246b782f0_58 -->\n",
       "<g id=\"edge5\" class=\"edge\">\n",
       "<title>x_functionsquare_rootat0x7fe246b782f0_54&#45;&gt;guess_functionsquare_rootat0x7fe246b782f0_58</title>\n",
       "<path fill=\"none\" stroke=\"#000000\" d=\"M284.7755,-455.987C287.4608,-436.1939 292.8353,-405.2849 302.5,-380 316.4353,-343.5423 323.2983,-335.3853 346.5,-304 353.759,-294.1807 362.5199,-284.1834 370.7644,-275.4054\"/>\n",
       "<polygon fill=\"#000000\" stroke=\"#000000\" points=\"373.4315,-277.6809 377.826,-268.0404 368.3788,-272.8363 373.4315,-277.6809\"/>\n",
       "</g>\n",
       "<!-- assertion_functionsquare_rootat0x7fe246b782f0_63 -->\n",
       "<g id=\"node9\" class=\"node\">\n",
       "<title>assertion_functionsquare_rootat0x7fe246b782f0_63</title>\n",
       "<g id=\"a_node9\"><a xlink:title=\"square_root:63\">\n",
       "<polygon fill=\"#ffdab9\" stroke=\"#000000\" points=\"227,-116 0,-116 0,-76 227,-76 227,-116\"/>\n",
       "<text text-anchor=\"start\" x=\"67\" y=\"-101.8\" font-family=\"Fira Mono, Courier, monospace\" font-weight=\"bold\" font-style=\"italic\" font-size=\"14.00\" fill=\"#000000\">&lt;assertion&gt;</text>\n",
       "<text text-anchor=\"start\" x=\"8\" y=\"-82.8\" font-family=\"Fira Mono, Courier, monospace\" font-size=\"9.00\" fill=\"#000000\">assert math.isclose(approx * approx, x)</text>\n",
       "</a>\n",
       "</g>\n",
       "</g>\n",
       "<!-- x_functionsquare_rootat0x7fe246b782f0_54&#45;&gt;assertion_functionsquare_rootat0x7fe246b782f0_63 -->\n",
       "<g id=\"edge11\" class=\"edge\">\n",
       "<title>x_functionsquare_rootat0x7fe246b782f0_54&#45;&gt;assertion_functionsquare_rootat0x7fe246b782f0_63</title>\n",
       "<path fill=\"none\" stroke=\"#000000\" d=\"M231.7944,-455.8616C182.0144,-432.3568 113.5,-388.3226 113.5,-324 113.5,-324 113.5,-324 113.5,-248 113.5,-205.7458 113.5,-156.8844 113.5,-126.2116\"/>\n",
       "<polygon fill=\"#000000\" stroke=\"#000000\" points=\"117.0001,-126.1614 113.5,-116.1615 110.0001,-126.1615 117.0001,-126.1614\"/>\n",
       "</g>\n",
       "<!-- approx_functionsquare_rootat0x7fe246b782f0_60 -->\n",
       "<g id=\"node3\" class=\"node\">\n",
       "<title>approx_functionsquare_rootat0x7fe246b782f0_60</title>\n",
       "<g id=\"a_node3\"><a xlink:title=\"square_root:60\">\n",
       "<polygon fill=\"#ffdab9\" stroke=\"#000000\" points=\"301.5,-192 209.5,-192 209.5,-152 301.5,-152 301.5,-192\"/>\n",
       "<text text-anchor=\"start\" x=\"230\" y=\"-177.8\" font-family=\"Fira Mono, Courier, monospace\" font-weight=\"bold\" font-size=\"14.00\" fill=\"#000000\">approx</text>\n",
       "<text text-anchor=\"start\" x=\"217.5\" y=\"-158.8\" font-family=\"Fira Mono, Courier, monospace\" font-size=\"9.00\" fill=\"#000000\">approx = guess</text>\n",
       "</a>\n",
       "</g>\n",
       "</g>\n",
       "<!-- guess_functionsquare_rootat0x7fe246b782f0_61&#45;&gt;approx_functionsquare_rootat0x7fe246b782f0_60 -->\n",
       "<g id=\"edge7\" class=\"edge\">\n",
       "<title>guess_functionsquare_rootat0x7fe246b782f0_61&#45;&gt;approx_functionsquare_rootat0x7fe246b782f0_60</title>\n",
       "<path fill=\"none\" stroke=\"#000000\" d=\"M231.6728,-227.6334C232.0003,-219.7327 233.5691,-210.5253 235.9812,-201.9015\"/>\n",
       "<polygon fill=\"#000000\" stroke=\"#000000\" points=\"239.3856,-202.7521 239.1764,-192.1593 232.7342,-200.5706 239.3856,-202.7521\"/>\n",
       "</g>\n",
       "<!-- test_functionsquare_rootat0x7fe246b782f0_59 -->\n",
       "<g id=\"node4\" class=\"node\">\n",
       "<title>test_functionsquare_rootat0x7fe246b782f0_59</title>\n",
       "<g id=\"a_node4\"><a xlink:title=\"square_root:59\">\n",
       "<polygon fill=\"#ffdab9\" stroke=\"#000000\" points=\"419,-116 284,-116 284,-76 419,-76 419,-116\"/>\n",
       "<text text-anchor=\"start\" x=\"326\" y=\"-101.8\" font-family=\"Fira Mono, Courier, monospace\" font-weight=\"bold\" font-style=\"italic\" font-size=\"14.00\" fill=\"#000000\">&lt;test&gt;</text>\n",
       "<text text-anchor=\"start\" x=\"292\" y=\"-82.8\" font-family=\"Fira Mono, Courier, monospace\" font-size=\"9.00\" fill=\"#000000\">while approx != guess:</text>\n",
       "</a>\n",
       "</g>\n",
       "</g>\n",
       "<!-- guess_functionsquare_rootat0x7fe246b782f0_61&#45;&gt;test_functionsquare_rootat0x7fe246b782f0_59 -->\n",
       "<g id=\"edge13\" class=\"edge\">\n",
       "<title>guess_functionsquare_rootat0x7fe246b782f0_61&#45;&gt;test_functionsquare_rootat0x7fe246b782f0_59</title>\n",
       "<path fill=\"none\" stroke=\"#000000\" d=\"M263.5704,-227.7727C276.1534,-218.2037 290.9083,-205.8377 301.5,-192 316.7408,-172.0884 327.4836,-145.658 335.5593,-125.5713\"/>\n",
       "<polygon fill=\"#000000\" stroke=\"#000000\" points=\"338.8137,-126.8594 339.3176,-116.2766 332.3242,-124.2354 338.8137,-126.8594\"/>\n",
       "</g>\n",
       "<!-- guess_functionsquare_rootat0x7fe246b782f0_61&#45;&gt;assertion_functionsquare_rootat0x7fe246b782f0_63 -->\n",
       "<!-- approx_functionsquare_rootat0x7fe246b782f0_60&#45;&gt;guess_functionsquare_rootat0x7fe246b782f0_61 -->\n",
       "<g id=\"edge1\" class=\"edge\">\n",
       "<title>approx_functionsquare_rootat0x7fe246b782f0_60&#45;&gt;guess_functionsquare_rootat0x7fe246b782f0_61</title>\n",
       "<path fill=\"none\" stroke=\"#000000\" d=\"M251.2559,-192.1593C249.6155,-199.9513 247.7025,-209.038 245.9021,-217.59\"/>\n",
       "<polygon fill=\"#000000\" stroke=\"#000000\" points=\"242.423,-217.1268 243.7877,-227.6334 249.2728,-218.569 242.423,-217.1268\"/>\n",
       "</g>\n",
       "<!-- approx_functionsquare_rootat0x7fe246b782f0_60&#45;&gt;guess_functionsquare_rootat0x7fe246b782f0_61 -->\n",
       "<!-- approx_functionsquare_rootat0x7fe246b782f0_60&#45;&gt;test_functionsquare_rootat0x7fe246b782f0_59 -->\n",
       "<g id=\"edge14\" class=\"edge\">\n",
       "<title>approx_functionsquare_rootat0x7fe246b782f0_60&#45;&gt;test_functionsquare_rootat0x7fe246b782f0_59</title>\n",
       "<path fill=\"none\" stroke=\"#000000\" d=\"M269.1113,-151.6334C279.0707,-142.5304 292.5039,-131.6928 305.7587,-122.0118\"/>\n",
       "<polygon fill=\"#000000\" stroke=\"#000000\" points=\"307.8511,-124.8184 313.9561,-116.1593 303.7837,-119.1214 307.8511,-124.8184\"/>\n",
       "</g>\n",
       "<!-- square_rootreturnvalue_functionsquare_rootat0x7fe246b782f0_64 -->\n",
       "<g id=\"node8\" class=\"node\">\n",
       "<title>square_rootreturnvalue_functionsquare_rootat0x7fe246b782f0_64</title>\n",
       "<g id=\"a_node8\"><a xlink:title=\"square_root:64\">\n",
       "<polygon fill=\"#ffdab9\" stroke=\"#000000\" points=\"310.5,-40 58.5,-40 58.5,0 310.5,0 310.5,-40\"/>\n",
       "<text text-anchor=\"start\" x=\"66.5\" y=\"-25.8\" font-family=\"Fira Mono, Courier, monospace\" font-weight=\"bold\" font-style=\"italic\" font-size=\"14.00\" fill=\"#000000\">&lt;square_root() return value&gt;</text>\n",
       "<text text-anchor=\"start\" x=\"149\" y=\"-6.8\" font-family=\"Fira Mono, Courier, monospace\" font-size=\"9.00\" fill=\"#000000\">return approx</text>\n",
       "</a>\n",
       "</g>\n",
       "</g>\n",
       "<!-- approx_functionsquare_rootat0x7fe246b782f0_60&#45;&gt;square_rootreturnvalue_functionsquare_rootat0x7fe246b782f0_64 -->\n",
       "<g id=\"edge9\" class=\"edge\">\n",
       "<title>approx_functionsquare_rootat0x7fe246b782f0_60&#45;&gt;square_rootreturnvalue_functionsquare_rootat0x7fe246b782f0_64</title>\n",
       "<path fill=\"none\" stroke=\"#000000\" d=\"M254.3972,-151.8598C252.602,-131.6952 247.886,-100.2603 235.5,-76 230.2811,-65.7778 222.6926,-56.0165 214.9569,-47.59\"/>\n",
       "<polygon fill=\"#000000\" stroke=\"#000000\" points=\"217.3378,-45.0169 207.875,-40.2516 212.3008,-49.8779 217.3378,-45.0169\"/>\n",
       "</g>\n",
       "<!-- approx_functionsquare_rootat0x7fe246b782f0_60&#45;&gt;assertion_functionsquare_rootat0x7fe246b782f0_63 -->\n",
       "<g id=\"edge10\" class=\"edge\">\n",
       "<title>approx_functionsquare_rootat0x7fe246b782f0_60&#45;&gt;assertion_functionsquare_rootat0x7fe246b782f0_63</title>\n",
       "<path fill=\"none\" stroke=\"#000000\" d=\"M217.8194,-151.8329C200.1669,-142.3851 178.9606,-131.0352 160.2912,-121.0432\"/>\n",
       "<polygon fill=\"#000000\" stroke=\"#000000\" points=\"161.8249,-117.8943 151.3567,-116.2613 158.5217,-124.066 161.8249,-117.8943\"/>\n",
       "</g>\n",
       "<!-- test_functionsquare_rootat0x7fe246b782f0_59&#45;&gt;guess_functionsquare_rootat0x7fe246b782f0_61 -->\n",
       "<g id=\"edge3\" class=\"edge\">\n",
       "<title>test_functionsquare_rootat0x7fe246b782f0_59&#45;&gt;guess_functionsquare_rootat0x7fe246b782f0_61</title>\n",
       "<path fill=\"none\" stroke=\"#c0c0c0\" stroke-dasharray=\"5,2\" d=\"M352.8401,-116.2766C348.8789,-136.8334 337.2347,-168.8302 319.5,-192 310.977,-203.135 299.7582,-213.3171 288.38,-221.8557\"/>\n",
       "<polygon fill=\"#c0c0c0\" stroke=\"#c0c0c0\" points=\"286.2027,-219.1098 280.1031,-227.7727 290.2736,-224.8043 286.2027,-219.1098\"/>\n",
       "</g>\n",
       "<!-- test_functionsquare_rootat0x7fe246b782f0_59&#45;&gt;approx_functionsquare_rootat0x7fe246b782f0_60 -->\n",
       "<g id=\"edge8\" class=\"edge\">\n",
       "<title>test_functionsquare_rootat0x7fe246b782f0_59&#45;&gt;approx_functionsquare_rootat0x7fe246b782f0_60</title>\n",
       "<path fill=\"none\" stroke=\"#c0c0c0\" stroke-dasharray=\"5,2\" d=\"M325.9068,-116.2613C314.6086,-125.2057 301.175,-135.8406 289.086,-145.4111\"/>\n",
       "<polygon fill=\"#c0c0c0\" stroke=\"#c0c0c0\" points=\"286.6422,-142.8817 280.9742,-151.8329 290.9872,-148.37 286.6422,-142.8817\"/>\n",
       "</g>\n",
       "<!-- test_functionsquare_rootat0x7fe246b782f0_59&#45;&gt;approx_functionsquare_rootat0x7fe246b782f0_60 -->\n",
       "<!-- approx_functionsquare_rootat0x7fe246b782f0_57 -->\n",
       "<g id=\"node5\" class=\"node\">\n",
       "<title>approx_functionsquare_rootat0x7fe246b782f0_57</title>\n",
       "<g id=\"a_node5\"><a xlink:title=\"square_root:57\">\n",
       "<polygon fill=\"#ffdab9\" stroke=\"#000000\" points=\"442,-344 355,-344 355,-304 442,-304 442,-344\"/>\n",
       "<text text-anchor=\"start\" x=\"373\" y=\"-329.8\" font-family=\"Fira Mono, Courier, monospace\" font-weight=\"bold\" font-size=\"14.00\" fill=\"#000000\">approx</text>\n",
       "<text text-anchor=\"start\" x=\"363\" y=\"-310.8\" font-family=\"Fira Mono, Courier, monospace\" font-size=\"9.00\" fill=\"#000000\">approx = None</text>\n",
       "</a>\n",
       "</g>\n",
       "</g>\n",
       "<!-- approx_functionsquare_rootat0x7fe246b782f0_57&#45;&gt;test_functionsquare_rootat0x7fe246b782f0_59 -->\n",
       "<g id=\"edge15\" class=\"edge\">\n",
       "<title>approx_functionsquare_rootat0x7fe246b782f0_57&#45;&gt;test_functionsquare_rootat0x7fe246b782f0_59</title>\n",
       "<path fill=\"none\" stroke=\"#000000\" d=\"M424.6783,-303.9988C435.1159,-294.3887 445.9538,-281.9288 451.5,-268 458.0767,-251.4834 456.9043,-244.9364 451.5,-228 438.2728,-186.5473 405.735,-147.973 381.3418,-123.3615\"/>\n",
       "<polygon fill=\"#000000\" stroke=\"#000000\" points=\"383.6412,-120.7134 374.0633,-116.184 378.7261,-125.6976 383.6412,-120.7134\"/>\n",
       "</g>\n",
       "<!-- approx_functionsquare_rootat0x7fe246b782f0_57&#45;&gt;guess_functionsquare_rootat0x7fe246b782f0_58 -->\n",
       "<!-- assertion_functionsquare_rootat0x7fe246b782f0_55&#45;&gt;approx_functionsquare_rootat0x7fe246b782f0_57 -->\n",
       "<!-- guess_functionsquare_rootat0x7fe246b782f0_58&#45;&gt;approx_functionsquare_rootat0x7fe246b782f0_60 -->\n",
       "<g id=\"edge6\" class=\"edge\">\n",
       "<title>guess_functionsquare_rootat0x7fe246b782f0_58&#45;&gt;approx_functionsquare_rootat0x7fe246b782f0_60</title>\n",
       "<path fill=\"none\" stroke=\"#000000\" d=\"M360.5541,-227.8329C342.7772,-218.3851 321.4216,-207.0352 302.6207,-197.0432\"/>\n",
       "<polygon fill=\"#000000\" stroke=\"#000000\" points=\"304.0962,-193.8638 293.6233,-192.2613 300.811,-200.0451 304.0962,-193.8638\"/>\n",
       "</g>\n",
       "<!-- guess_functionsquare_rootat0x7fe246b782f0_58&#45;&gt;test_functionsquare_rootat0x7fe246b782f0_59 -->\n",
       "<g id=\"edge12\" class=\"edge\">\n",
       "<title>guess_functionsquare_rootat0x7fe246b782f0_58&#45;&gt;test_functionsquare_rootat0x7fe246b782f0_59</title>\n",
       "<path fill=\"none\" stroke=\"#000000\" d=\"M387.4988,-227.8156C377.0862,-201.8097 362.7841,-156.3713 355.3321,-126.2331\"/>\n",
       "<polygon fill=\"#000000\" stroke=\"#000000\" points=\"358.6865,-125.207 352.9995,-116.2679 351.8708,-126.8024 358.6865,-125.207\"/>\n",
       "</g>\n",
       "<!-- guess_functionsquare_rootat0x7fe246b782f0_58&#45;&gt;test_functionsquare_rootat0x7fe246b782f0_59 -->\n",
       "<!-- assertion_functionsquare_rootat0x7fe246b782f0_63&#45;&gt;square_rootreturnvalue_functionsquare_rootat0x7fe246b782f0_64 -->\n",
       "</g>\n",
       "</svg>\n"
      ],
      "text/plain": [
       "<__main__.Slicer at 0x7fe246a1e550>"
      ]
     },
     "execution_count": 1,
     "metadata": {},
     "output_type": "execute_result"
    }
   ],
   "source": [
    "root_slicer"
   ]
  },
  {
   "cell_type": "markdown",
   "metadata": {
    "slideshow": {
     "slide_type": "fragment"
    }
   },
   "source": [
    "Again, we can show the code annotated with dependencies:"
   ]
  },
  {
   "cell_type": "code",
   "execution_count": 203,
   "metadata": {
    "execution": {
     "iopub.execute_input": "2021-05-11T17:08:06.675747Z",
     "iopub.status.busy": "2021-05-11T17:08:06.674131Z",
     "iopub.status.idle": "2021-05-11T17:08:06.729880Z",
     "shell.execute_reply": "2021-05-11T17:08:06.730545Z"
    },
    "slideshow": {
     "slide_type": "subslide"
    }
   },
   "outputs": [
    {
     "name": "stdout",
     "output_type": "stream",
     "text": [
      "*   54 \u001b[34mdef\u001b[39;49;00m \u001b[32msquare_root\u001b[39;49;00m(x):  \u001b[37m# type: ignore\u001b[39;49;00m\n",
      "*   55     \u001b[34massert\u001b[39;49;00m x >= \u001b[34m0\u001b[39;49;00m  \u001b[37m# precondition  # <= x (54)\u001b[39;49;00m\n",
      "    56 \n",
      "*   57     approx = \u001b[34mNone\u001b[39;49;00m\n",
      "*   58     guess = x / \u001b[34m2\u001b[39;49;00m  \u001b[37m# <= x (54)\u001b[39;49;00m\n",
      "*   59     \u001b[34mwhile\u001b[39;49;00m approx != guess:  \u001b[37m# <= guess (58), guess (61), approx (60), approx (57)\u001b[39;49;00m\n",
      "*   60         approx = guess  \u001b[37m# <= guess (58), guess (61); <- <test> (59)\u001b[39;49;00m\n",
      "*   61         guess = (approx + x / approx) / \u001b[34m2\u001b[39;49;00m  \u001b[37m# <= approx (60), x (54); <- <test> (59)\u001b[39;49;00m\n",
      "    62 \n",
      "*   63     \u001b[34massert\u001b[39;49;00m math.isclose(approx * approx, x)  \u001b[37m# <= approx (60), x (54)\u001b[39;49;00m\n",
      "*   64     \u001b[34mreturn\u001b[39;49;00m approx  \u001b[37m# <= approx (60)\u001b[39;49;00m\n"
     ]
    }
   ],
   "source": [
    "root_slicer.code()"
   ]
  },
  {
   "cell_type": "markdown",
   "metadata": {
    "slideshow": {
     "slide_type": "subslide"
    }
   },
   "source": [
    "The astute reader may find that a statement `assert p` does not control the following code, although it would be equivalent to `if not p: raise Exception`. Why is that?"
   ]
  },
  {
   "cell_type": "code",
   "execution_count": 204,
   "metadata": {
    "execution": {
     "iopub.execute_input": "2021-05-11T17:08:06.738253Z",
     "iopub.status.busy": "2021-05-11T17:08:06.737613Z",
     "iopub.status.idle": "2021-05-11T17:08:06.740328Z",
     "shell.execute_reply": "2021-05-11T17:08:06.740836Z"
    },
    "slideshow": {
     "slide_type": "fragment"
    }
   },
   "outputs": [
    {
     "data": {
      "text/html": [
       "\n",
       "    \n",
       "    <script>\n",
       "    var bad_answers = new Map();\n",
       "\n",
       "    function answer(quiz_id) {\n",
       "        ans = 0;\n",
       "        for (i = 1;; i++) {\n",
       "            checkbox = document.getElementById(quiz_id + \"-\" + i.toString());\n",
       "            if (!checkbox)\n",
       "                break;\n",
       "            if (checkbox.checked)\n",
       "                ans |= (1 << i);\n",
       "        }\n",
       "        return ans;\n",
       "    }\n",
       "    function check_selection(quiz_id, correct_answer, multiple_choice, hint) {\n",
       "        given_answer = answer(quiz_id);\n",
       "        if (given_answer == correct_answer)\n",
       "        {\n",
       "            document.getElementById(quiz_id + \"-submit\").value = \"Correct!\";\n",
       "            document.getElementById(quiz_id + \"-hint\").innerHTML = \"\";\n",
       "\n",
       "            for (i = 1;; i++) {\n",
       "                checkbox = document.getElementById(quiz_id + \"-\" + i.toString());\n",
       "                label = document.getElementById(quiz_id + \"-\" + i.toString() + \"-label\")\n",
       "                if (!checkbox)\n",
       "                    break;\n",
       "    \n",
       "                if (checkbox.checked) {\n",
       "                    label.style.fontWeight = \"bold\";\n",
       "                }\n",
       "                else {\n",
       "                    label.style.textDecoration = \"line-through\";\n",
       "                }\n",
       "            }\n",
       "        }\n",
       "        else \n",
       "        {\n",
       "            document.getElementById(quiz_id + \"-submit\").value = \"Try again\";\n",
       "            \n",
       "            if (!bad_answers.has(quiz_id)) {\n",
       "                bad_answers.set(quiz_id, 1);\n",
       "            }\n",
       "            else {\n",
       "                bad_answers.set(quiz_id, bad_answers.get(quiz_id) + 1);\n",
       "            }\n",
       "\n",
       "            if (bad_answers.get(quiz_id) >= 2 && hint.length > 0) {\n",
       "                document.getElementById(quiz_id + \"-hint\").innerHTML = \n",
       "                    \"&nbsp;&nbsp;(Hint: <code>\" + hint + \"</code>)\";\n",
       "            }\n",
       "\n",
       "            if (!multiple_choice) {\n",
       "                for (i = 1;; i++) {\n",
       "                    checkbox = document.getElementById(quiz_id + \"-\" + i.toString());\n",
       "                    label = document.getElementById(quiz_id + \"-\" + i.toString() + \"-label\")\n",
       "\n",
       "                    if (!checkbox)\n",
       "                        break;\n",
       "                    if (checkbox.checked) {\n",
       "                        label.style.textDecoration = \"line-through\";\n",
       "                    }\n",
       "                }\n",
       "            }\n",
       "        }\n",
       "    }\n",
       "    function clear_selection(quiz_id) {\n",
       "        document.getElementById(quiz_id + \"-submit\").value = \"Submit\";\n",
       "        document.getElementById(quiz_id + \"-hint\").innerHTML = \"\";\n",
       "    }\n",
       "    </script>\n",
       "    \n",
       "    <div class=\"quiz\">\n",
       "    <h3 class=\"quiz_title\">Quiz</h3>\n",
       "    <p>\n",
       "    <div class=\"quiz_question\">Why don't <code>assert</code> statements induce control dependencies?</div>\n",
       "    </p>\n",
       "    <p>\n",
       "    <div class=\"quiz_options\" title=\"Pick a choice.\">\n",
       "    \n",
       "        <input type=\"radio\" name=\"74545206-b27b-11eb-b36c-acde48001122\" id=\"74545206-b27b-11eb-b36c-acde48001122-1\" onclick=\"clear_selection('74545206-b27b-11eb-b36c-acde48001122')\">\n",
       "        <label id=\"74545206-b27b-11eb-b36c-acde48001122-1-label\" for=\"74545206-b27b-11eb-b36c-acde48001122-1\">We have no special handling of <code>raise</code> statements</label><br>\n",
       "    \n",
       "        <input type=\"radio\" name=\"74545206-b27b-11eb-b36c-acde48001122\" id=\"74545206-b27b-11eb-b36c-acde48001122-2\" onclick=\"clear_selection('74545206-b27b-11eb-b36c-acde48001122')\">\n",
       "        <label id=\"74545206-b27b-11eb-b36c-acde48001122-2-label\" for=\"74545206-b27b-11eb-b36c-acde48001122-2\">We have no special handling of exceptions</label><br>\n",
       "    \n",
       "        <input type=\"radio\" name=\"74545206-b27b-11eb-b36c-acde48001122\" id=\"74545206-b27b-11eb-b36c-acde48001122-3\" onclick=\"clear_selection('74545206-b27b-11eb-b36c-acde48001122')\">\n",
       "        <label id=\"74545206-b27b-11eb-b36c-acde48001122-3-label\" for=\"74545206-b27b-11eb-b36c-acde48001122-3\">Assertions are not supposed to act as controlling mechanisms</label><br>\n",
       "    \n",
       "        <input type=\"radio\" name=\"74545206-b27b-11eb-b36c-acde48001122\" id=\"74545206-b27b-11eb-b36c-acde48001122-4\" onclick=\"clear_selection('74545206-b27b-11eb-b36c-acde48001122')\">\n",
       "        <label id=\"74545206-b27b-11eb-b36c-acde48001122-4-label\" for=\"74545206-b27b-11eb-b36c-acde48001122-4\">All of the above</label><br>\n",
       "    \n",
       "    </div>\n",
       "    </p>\n",
       "    <input id=\"74545206-b27b-11eb-b36c-acde48001122-submit\" type=\"submit\" value=\"Submit\" onclick=\"check_selection('74545206-b27b-11eb-b36c-acde48001122', 16, 0, '(1 * 1 &lt;&lt; 1 * 1 &lt;&lt; 1 * 1)')\">\n",
       "    <span class=\"quiz_hint\" id=\"74545206-b27b-11eb-b36c-acde48001122-hint\"></span>\n",
       "    </div>\n",
       "    "
      ],
      "text/plain": [
       "<IPython.core.display.HTML object>"
      ]
     },
     "execution_count": 1,
     "metadata": {},
     "output_type": "execute_result"
    }
   ],
   "source": [
    "quiz(\"Why don't `assert` statements induce control dependencies?\",\n",
    "     [\n",
    "         \"We have no special handling of `raise` statements\",\n",
    "         \"We have no special handling of exceptions\",\n",
    "         \"Assertions are not supposed to act as controlling mechanisms\",\n",
    "         \"All of the above\",\n",
    "     ], '(1 * 1 << 1 * 1 << 1 * 1)')"
   ]
  },
  {
   "cell_type": "markdown",
   "metadata": {
    "slideshow": {
     "slide_type": "subslide"
    }
   },
   "source": [
    "Indeed: we treat assertions as \"neutral\" in the sense that they do not affect the remainder of the program – if they are turned off, they have no effect; and if they are turned on, the remaining program logic should not depend on them. (Our instrumentation also has no special treatment of `raise` or even `return` statements; they should be handled by our `with` blocks, though.)"
   ]
  },
  {
   "cell_type": "code",
   "execution_count": 205,
   "metadata": {
    "execution": {
     "iopub.execute_input": "2021-05-11T17:08:06.744534Z",
     "iopub.status.busy": "2021-05-11T17:08:06.743973Z",
     "iopub.status.idle": "2021-05-11T17:08:06.745837Z",
     "shell.execute_reply": "2021-05-11T17:08:06.746487Z"
    },
    "slideshow": {
     "slide_type": "fragment"
    }
   },
   "outputs": [],
   "source": [
    "# print(repr(root_slicer))"
   ]
  },
  {
   "cell_type": "markdown",
   "metadata": {
    "slideshow": {
     "slide_type": "subslide"
    }
   },
   "source": [
    "### Removing HTML Markup"
   ]
  },
  {
   "cell_type": "markdown",
   "metadata": {
    "slideshow": {
     "slide_type": "fragment"
    }
   },
   "source": [
    "Let us come to our ongoing example, `remove_html_markup()`. This is how its instrumented code looks like:"
   ]
  },
  {
   "cell_type": "code",
   "execution_count": 206,
   "metadata": {
    "execution": {
     "iopub.execute_input": "2021-05-11T17:08:06.768125Z",
     "iopub.status.busy": "2021-05-11T17:08:06.762055Z",
     "iopub.status.idle": "2021-05-11T17:08:06.769739Z",
     "shell.execute_reply": "2021-05-11T17:08:06.770123Z"
    },
    "slideshow": {
     "slide_type": "fragment"
    }
   },
   "outputs": [],
   "source": [
    "with Slicer(remove_html_markup) as rhm_slicer:\n",
    "    s = remove_html_markup(\"<foo>bar</foo>\")"
   ]
  },
  {
   "cell_type": "markdown",
   "metadata": {
    "slideshow": {
     "slide_type": "fragment"
    }
   },
   "source": [
    "The graph is as discussed in the introduction to this chapter:"
   ]
  },
  {
   "cell_type": "code",
   "execution_count": 207,
   "metadata": {
    "execution": {
     "iopub.execute_input": "2021-05-11T17:08:06.776235Z",
     "iopub.status.busy": "2021-05-11T17:08:06.775205Z",
     "iopub.status.idle": "2021-05-11T17:08:07.671953Z",
     "shell.execute_reply": "2021-05-11T17:08:07.672418Z"
    },
    "slideshow": {
     "slide_type": "fragment"
    }
   },
   "outputs": [
    {
     "data": {
      "image/svg+xml": [
       "<?xml version=\"1.0\" encoding=\"UTF-8\" standalone=\"no\"?>\n",
       "<!DOCTYPE svg PUBLIC \"-//W3C//DTD SVG 1.1//EN\"\n",
       " \"http://www.w3.org/Graphics/SVG/1.1/DTD/svg11.dtd\">\n",
       "<!-- Generated by graphviz version 2.40.1 (20161225.0304)\n",
       " -->\n",
       "<!-- Title: dependencies Pages: 1 -->\n",
       "<svg width=\"580pt\" height=\"960pt\"\n",
       " viewBox=\"0.00 0.00 580.00 960.00\" xmlns=\"http://www.w3.org/2000/svg\" xmlns:xlink=\"http://www.w3.org/1999/xlink\">\n",
       "<g id=\"graph0\" class=\"graph\" transform=\"scale(1 1) rotate(0) translate(4 956)\">\n",
       "<title>dependencies</title>\n",
       "<polygon fill=\"#ffffff\" stroke=\"transparent\" points=\"-4,4 -4,-956 576,-956 576,4 -4,4\"/>\n",
       "<!-- test_functionremove_html_markupat0x7fe245d7ec80_246 -->\n",
       "<g id=\"node1\" class=\"node\">\n",
       "<title>test_functionremove_html_markupat0x7fe245d7ec80_246</title>\n",
       "<g id=\"a_node1\"><a xlink:title=\"remove_html_markup:246\">\n",
       "<polygon fill=\"#ffdab9\" stroke=\"#000000\" points=\"426.5,-572 269.5,-572 269.5,-532 426.5,-532 426.5,-572\"/>\n",
       "<text text-anchor=\"start\" x=\"322.5\" y=\"-557.8\" font-family=\"Fira Mono, Courier, monospace\" font-weight=\"bold\" font-style=\"italic\" font-size=\"14.00\" fill=\"#000000\">&lt;test&gt;</text>\n",
       "<text text-anchor=\"start\" x=\"277.5\" y=\"-538.8\" font-family=\"Fira Mono, Courier, monospace\" font-size=\"9.00\" fill=\"#000000\">if c == &#39;&lt;&#39; and not quote:</text>\n",
       "</a>\n",
       "</g>\n",
       "</g>\n",
       "<!-- test_functionremove_html_markupat0x7fe245d7ec80_248 -->\n",
       "<g id=\"node9\" class=\"node\">\n",
       "<title>test_functionremove_html_markupat0x7fe245d7ec80_248</title>\n",
       "<g id=\"a_node9\"><a xlink:title=\"remove_html_markup:248\">\n",
       "<polygon fill=\"#ffdab9\" stroke=\"#000000\" points=\"316,-420 148,-420 148,-380 316,-380 316,-420\"/>\n",
       "<text text-anchor=\"start\" x=\"206.5\" y=\"-405.8\" font-family=\"Fira Mono, Courier, monospace\" font-weight=\"bold\" font-style=\"italic\" font-size=\"14.00\" fill=\"#000000\">&lt;test&gt;</text>\n",
       "<text text-anchor=\"start\" x=\"156\" y=\"-386.8\" font-family=\"Fira Mono, Courier, monospace\" font-size=\"9.00\" fill=\"#000000\">elif c == &#39;&gt;&#39; and not quote:</text>\n",
       "</a>\n",
       "</g>\n",
       "</g>\n",
       "<!-- test_functionremove_html_markupat0x7fe245d7ec80_246&#45;&gt;test_functionremove_html_markupat0x7fe245d7ec80_248 -->\n",
       "<g id=\"edge22\" class=\"edge\">\n",
       "<title>test_functionremove_html_markupat0x7fe245d7ec80_246&#45;&gt;test_functionremove_html_markupat0x7fe245d7ec80_248</title>\n",
       "<path fill=\"none\" stroke=\"#c0c0c0\" stroke-dasharray=\"5,2\" d=\"M332.0045,-531.8675C323.6091,-521.2442 313.1856,-507.9651 304,-496 286.6498,-473.3999 267.2889,-447.5488 253.0173,-428.3702\"/>\n",
       "<polygon fill=\"#c0c0c0\" stroke=\"#c0c0c0\" points=\"255.8132,-426.2646 247.0388,-420.3265 250.195,-430.4403 255.8132,-426.2646\"/>\n",
       "</g>\n",
       "<!-- tag_functionremove_html_markupat0x7fe245d7ec80_247 -->\n",
       "<g id=\"node12\" class=\"node\">\n",
       "<title>tag_functionremove_html_markupat0x7fe245d7ec80_247</title>\n",
       "<g id=\"a_node12\"><a xlink:title=\"remove_html_markup:247\">\n",
       "<polygon fill=\"#ffdab9\" stroke=\"#000000\" points=\"383.5,-496 312.5,-496 312.5,-456 383.5,-456 383.5,-496\"/>\n",
       "<text text-anchor=\"start\" x=\"335\" y=\"-481.8\" font-family=\"Fira Mono, Courier, monospace\" font-weight=\"bold\" font-size=\"14.00\" fill=\"#000000\">tag</text>\n",
       "<text text-anchor=\"start\" x=\"320.5\" y=\"-462.8\" font-family=\"Fira Mono, Courier, monospace\" font-size=\"9.00\" fill=\"#000000\">tag = True</text>\n",
       "</a>\n",
       "</g>\n",
       "</g>\n",
       "<!-- test_functionremove_html_markupat0x7fe245d7ec80_246&#45;&gt;tag_functionremove_html_markupat0x7fe245d7ec80_247 -->\n",
       "<g id=\"edge9\" class=\"edge\">\n",
       "<title>test_functionremove_html_markupat0x7fe245d7ec80_246&#45;&gt;tag_functionremove_html_markupat0x7fe245d7ec80_247</title>\n",
       "<path fill=\"none\" stroke=\"#c0c0c0\" stroke-dasharray=\"5,2\" d=\"M341.9426,-531.6334C341.2819,-523.8186 341.0939,-514.7253 341.3786,-506.183\"/>\n",
       "<polygon fill=\"#c0c0c0\" stroke=\"#c0c0c0\" points=\"344.875,-506.3453 341.9602,-496.1593 337.8867,-505.9397 344.875,-506.3453\"/>\n",
       "</g>\n",
       "<!-- test_functionremove_html_markupat0x7fe245d7ec80_246&#45;&gt;tag_functionremove_html_markupat0x7fe245d7ec80_247 -->\n",
       "<!-- c_functionremove_html_markupat0x7fe245d7ec80_243 -->\n",
       "<g id=\"node2\" class=\"node\">\n",
       "<title>c_functionremove_html_markupat0x7fe245d7ec80_243</title>\n",
       "<g id=\"a_node2\"><a xlink:title=\"remove_html_markup:243\">\n",
       "<polygon fill=\"#ffdab9\" stroke=\"#000000\" points=\"386,-648 310,-648 310,-608 386,-608 386,-648\"/>\n",
       "<text text-anchor=\"start\" x=\"343.5\" y=\"-633.8\" font-family=\"Fira Mono, Courier, monospace\" font-weight=\"bold\" font-size=\"14.00\" fill=\"#000000\">c</text>\n",
       "<text text-anchor=\"start\" x=\"318\" y=\"-614.8\" font-family=\"Fira Mono, Courier, monospace\" font-size=\"9.00\" fill=\"#000000\">for c in s:</text>\n",
       "</a>\n",
       "</g>\n",
       "</g>\n",
       "<!-- c_functionremove_html_markupat0x7fe245d7ec80_243&#45;&gt;test_functionremove_html_markupat0x7fe245d7ec80_246 -->\n",
       "<g id=\"edge1\" class=\"edge\">\n",
       "<title>c_functionremove_html_markupat0x7fe245d7ec80_243&#45;&gt;test_functionremove_html_markupat0x7fe245d7ec80_246</title>\n",
       "<path fill=\"none\" stroke=\"#000000\" d=\"M348,-607.6334C348,-599.8186 348,-590.7253 348,-582.183\"/>\n",
       "<polygon fill=\"#000000\" stroke=\"#000000\" points=\"351.5001,-582.1593 348,-572.1593 344.5001,-582.1593 351.5001,-582.1593\"/>\n",
       "</g>\n",
       "<!-- out_functionremove_html_markupat0x7fe245d7ec80_253 -->\n",
       "<g id=\"node4\" class=\"node\">\n",
       "<title>out_functionremove_html_markupat0x7fe245d7ec80_253</title>\n",
       "<g id=\"a_node4\"><a xlink:title=\"remove_html_markup:253\">\n",
       "<polygon fill=\"#ffdab9\" stroke=\"#000000\" points=\"282.5,-116 195.5,-116 195.5,-76 282.5,-76 282.5,-116\"/>\n",
       "<text text-anchor=\"start\" x=\"226\" y=\"-101.8\" font-family=\"Fira Mono, Courier, monospace\" font-weight=\"bold\" font-size=\"14.00\" fill=\"#000000\">out</text>\n",
       "<text text-anchor=\"start\" x=\"203.5\" y=\"-82.8\" font-family=\"Fira Mono, Courier, monospace\" font-size=\"9.00\" fill=\"#000000\">out = out + c</text>\n",
       "</a>\n",
       "</g>\n",
       "</g>\n",
       "<!-- c_functionremove_html_markupat0x7fe245d7ec80_243&#45;&gt;out_functionremove_html_markupat0x7fe245d7ec80_253 -->\n",
       "<g id=\"edge4\" class=\"edge\">\n",
       "<title>c_functionremove_html_markupat0x7fe245d7ec80_243&#45;&gt;out_functionremove_html_markupat0x7fe245d7ec80_253</title>\n",
       "<path fill=\"none\" stroke=\"#000000\" d=\"M309.782,-623.8971C265.53,-617.8371 191.6062,-603.5926 136,-572 82.9871,-541.8808 38,-536.9716 38,-476 38,-476 38,-476 38,-248 38,-173.8167 126.1791,-131.2207 185.7272,-110.9129\"/>\n",
       "<polygon fill=\"#000000\" stroke=\"#000000\" points=\"186.9857,-114.1834 195.386,-107.7269 184.7929,-107.5357 186.9857,-114.1834\"/>\n",
       "</g>\n",
       "<!-- c_functionremove_html_markupat0x7fe245d7ec80_243&#45;&gt;test_functionremove_html_markupat0x7fe245d7ec80_248 -->\n",
       "<g id=\"edge20\" class=\"edge\">\n",
       "<title>c_functionremove_html_markupat0x7fe245d7ec80_243&#45;&gt;test_functionremove_html_markupat0x7fe245d7ec80_248</title>\n",
       "<path fill=\"none\" stroke=\"#000000\" d=\"M309.5847,-612.1515C292.0641,-602.9756 272.6682,-589.6952 261,-572 232.5513,-528.8568 229.1444,-466.8003 230.0347,-430.2184\"/>\n",
       "<polygon fill=\"#000000\" stroke=\"#000000\" points=\"233.5342,-430.2944 230.4041,-420.1725 226.5389,-430.0372 233.5342,-430.2944\"/>\n",
       "</g>\n",
       "<!-- assertion_functionremove_html_markupat0x7fe245d7ec80_244 -->\n",
       "<g id=\"node13\" class=\"node\">\n",
       "<title>assertion_functionremove_html_markupat0x7fe245d7ec80_244</title>\n",
       "<g id=\"a_node13\"><a xlink:title=\"remove_html_markup:244\">\n",
       "<polygon fill=\"#ffdab9\" stroke=\"#000000\" points=\"521.5,-268 380.5,-268 380.5,-228 521.5,-228 521.5,-268\"/>\n",
       "<text text-anchor=\"start\" x=\"404.5\" y=\"-253.8\" font-family=\"Fira Mono, Courier, monospace\" font-weight=\"bold\" font-style=\"italic\" font-size=\"14.00\" fill=\"#000000\">&lt;assertion&gt;</text>\n",
       "<text text-anchor=\"start\" x=\"388.5\" y=\"-234.8\" font-family=\"Fira Mono, Courier, monospace\" font-size=\"9.00\" fill=\"#000000\">assert tag or not quote</text>\n",
       "</a>\n",
       "</g>\n",
       "</g>\n",
       "<!-- c_functionremove_html_markupat0x7fe245d7ec80_243&#45;&gt;assertion_functionremove_html_markupat0x7fe245d7ec80_244 -->\n",
       "<!-- test_functionremove_html_markupat0x7fe245d7ec80_250 -->\n",
       "<g id=\"node14\" class=\"node\">\n",
       "<title>test_functionremove_html_markupat0x7fe245d7ec80_250</title>\n",
       "<g id=\"a_node14\"><a xlink:title=\"remove_html_markup:250\">\n",
       "<polygon fill=\"#ffdab9\" stroke=\"#000000\" points=\"277.5,-268 66.5,-268 66.5,-228 277.5,-228 277.5,-268\"/>\n",
       "<text text-anchor=\"start\" x=\"146.5\" y=\"-253.8\" font-family=\"Fira Mono, Courier, monospace\" font-weight=\"bold\" font-style=\"italic\" font-size=\"14.00\" fill=\"#000000\">&lt;test&gt;</text>\n",
       "<text text-anchor=\"start\" x=\"74.5\" y=\"-234.8\" font-family=\"Fira Mono, Courier, monospace\" font-size=\"9.00\" fill=\"#000000\">elif (c == &#39;&quot;&#39; or c == &quot;&#39;&quot;) and tag:</text>\n",
       "</a>\n",
       "</g>\n",
       "</g>\n",
       "<!-- c_functionremove_html_markupat0x7fe245d7ec80_243&#45;&gt;test_functionremove_html_markupat0x7fe245d7ec80_250 -->\n",
       "<g id=\"edge18\" class=\"edge\">\n",
       "<title>c_functionremove_html_markupat0x7fe245d7ec80_243&#45;&gt;test_functionremove_html_markupat0x7fe245d7ec80_250</title>\n",
       "<path fill=\"none\" stroke=\"#000000\" d=\"M309.8379,-620.8084C244.9319,-606.1244 120,-566.1513 120,-476 120,-476 120,-476 120,-400 120,-355.4549 140.2402,-307.3284 155.4654,-277.4277\"/>\n",
       "<polygon fill=\"#000000\" stroke=\"#000000\" points=\"158.6609,-278.8702 160.2004,-268.3878 152.46,-275.6222 158.6609,-278.8702\"/>\n",
       "</g>\n",
       "<!-- quote_functionremove_html_markupat0x7fe245d7ec80_240 -->\n",
       "<g id=\"node3\" class=\"node\">\n",
       "<title>quote_functionremove_html_markupat0x7fe245d7ec80_240</title>\n",
       "<g id=\"a_node3\"><a xlink:title=\"remove_html_markup:240\">\n",
       "<polygon fill=\"#ffdab9\" stroke=\"#000000\" points=\"481.5,-800 394.5,-800 394.5,-760 481.5,-760 481.5,-800\"/>\n",
       "<text text-anchor=\"start\" x=\"416.5\" y=\"-785.8\" font-family=\"Fira Mono, Courier, monospace\" font-weight=\"bold\" font-size=\"14.00\" fill=\"#000000\">quote</text>\n",
       "<text text-anchor=\"start\" x=\"402.5\" y=\"-766.8\" font-family=\"Fira Mono, Courier, monospace\" font-size=\"9.00\" fill=\"#000000\">quote = False</text>\n",
       "</a>\n",
       "</g>\n",
       "</g>\n",
       "<!-- quote_functionremove_html_markupat0x7fe245d7ec80_240&#45;&gt;test_functionremove_html_markupat0x7fe245d7ec80_246 -->\n",
       "<g id=\"edge2\" class=\"edge\">\n",
       "<title>quote_functionremove_html_markupat0x7fe245d7ec80_240&#45;&gt;test_functionremove_html_markupat0x7fe245d7ec80_246</title>\n",
       "<path fill=\"none\" stroke=\"#000000\" d=\"M435.9474,-759.8924C431.9238,-726.689 421.0103,-659.0014 395,-608 389.9309,-598.0604 382.8012,-588.3439 375.6237,-579.8693\"/>\n",
       "<polygon fill=\"#000000\" stroke=\"#000000\" points=\"378.0439,-577.323 368.7934,-572.1579 372.8039,-581.9643 378.0439,-577.323\"/>\n",
       "</g>\n",
       "<!-- out_functionremove_html_markupat0x7fe245d7ec80_241 -->\n",
       "<g id=\"node5\" class=\"node\">\n",
       "<title>out_functionremove_html_markupat0x7fe245d7ec80_241</title>\n",
       "<g id=\"a_node5\"><a xlink:title=\"remove_html_markup:241\">\n",
       "<polygon fill=\"#ffdab9\" stroke=\"#000000\" points=\"544,-724 484,-724 484,-684 544,-684 544,-724\"/>\n",
       "<text text-anchor=\"start\" x=\"501\" y=\"-709.8\" font-family=\"Fira Mono, Courier, monospace\" font-weight=\"bold\" font-size=\"14.00\" fill=\"#000000\">out</text>\n",
       "<text text-anchor=\"start\" x=\"492\" y=\"-690.8\" font-family=\"Fira Mono, Courier, monospace\" font-size=\"9.00\" fill=\"#000000\">out = &quot;&quot;</text>\n",
       "</a>\n",
       "</g>\n",
       "</g>\n",
       "<!-- quote_functionremove_html_markupat0x7fe245d7ec80_240&#45;&gt;out_functionremove_html_markupat0x7fe245d7ec80_241 -->\n",
       "<!-- quote_functionremove_html_markupat0x7fe245d7ec80_240&#45;&gt;test_functionremove_html_markupat0x7fe245d7ec80_248 -->\n",
       "<g id=\"edge21\" class=\"edge\">\n",
       "<title>quote_functionremove_html_markupat0x7fe245d7ec80_240&#45;&gt;test_functionremove_html_markupat0x7fe245d7ec80_248</title>\n",
       "<path fill=\"none\" stroke=\"#000000\" d=\"M394.4016,-774.3577C283.6146,-758.8082 0,-710.9051 0,-628 0,-628 0,-628 0,-552 0,-482.4964 73.7536,-443.0478 138.092,-421.8578\"/>\n",
       "<polygon fill=\"#000000\" stroke=\"#000000\" points=\"139.4438,-425.1008 147.9147,-418.7373 137.3243,-418.4294 139.4438,-425.1008\"/>\n",
       "</g>\n",
       "<!-- quote_functionremove_html_markupat0x7fe245d7ec80_240&#45;&gt;assertion_functionremove_html_markupat0x7fe245d7ec80_244 -->\n",
       "<g id=\"edge12\" class=\"edge\">\n",
       "<title>quote_functionremove_html_markupat0x7fe245d7ec80_240&#45;&gt;assertion_functionremove_html_markupat0x7fe245d7ec80_244</title>\n",
       "<path fill=\"none\" stroke=\"#000000\" d=\"M444.5406,-759.974C459.7091,-711.6907 496,-584.8028 496,-476 496,-476 496,-476 496,-400 496,-355.9878 478.439,-307.647 465.2576,-277.5611\"/>\n",
       "<polygon fill=\"#000000\" stroke=\"#000000\" points=\"468.2884,-275.7678 460.987,-268.0905 461.9072,-278.6454 468.2884,-275.7678\"/>\n",
       "</g>\n",
       "<!-- out_functionremove_html_markupat0x7fe245d7ec80_253&#45;&gt;out_functionremove_html_markupat0x7fe245d7ec80_253 -->\n",
       "<g id=\"edge5\" class=\"edge\">\n",
       "<title>out_functionremove_html_markupat0x7fe245d7ec80_253&#45;&gt;out_functionremove_html_markupat0x7fe245d7ec80_253</title>\n",
       "<path fill=\"none\" stroke=\"#000000\" d=\"M282.6694,-109.9682C292.9301,-108.8201 300.5,-104.1641 300.5,-96 300.5,-90.7699 297.3933,-86.9795 292.4627,-84.6287\"/>\n",
       "<polygon fill=\"#000000\" stroke=\"#000000\" points=\"293.2324,-81.212 282.6694,-82.0318 291.4382,-87.9781 293.2324,-81.212\"/>\n",
       "</g>\n",
       "<!-- remove_html_markupreturnvalue_functionremove_html_markupat0x7fe245d7ec80_255 -->\n",
       "<g id=\"node7\" class=\"node\">\n",
       "<title>remove_html_markupreturnvalue_functionremove_html_markupat0x7fe245d7ec80_255</title>\n",
       "<g id=\"a_node7\"><a xlink:title=\"remove_html_markup:255\">\n",
       "<polygon fill=\"#ffdab9\" stroke=\"#000000\" points=\"394.5,-40 83.5,-40 83.5,0 394.5,0 394.5,-40\"/>\n",
       "<text text-anchor=\"start\" x=\"91.5\" y=\"-25.8\" font-family=\"Fira Mono, Courier, monospace\" font-weight=\"bold\" font-style=\"italic\" font-size=\"14.00\" fill=\"#000000\">&lt;remove_html_markup() return value&gt;</text>\n",
       "<text text-anchor=\"start\" x=\"211.5\" y=\"-6.8\" font-family=\"Fira Mono, Courier, monospace\" font-size=\"9.00\" fill=\"#000000\">return out</text>\n",
       "</a>\n",
       "</g>\n",
       "</g>\n",
       "<!-- out_functionremove_html_markupat0x7fe245d7ec80_253&#45;&gt;remove_html_markupreturnvalue_functionremove_html_markupat0x7fe245d7ec80_255 -->\n",
       "<g id=\"edge7\" class=\"edge\">\n",
       "<title>out_functionremove_html_markupat0x7fe245d7ec80_253&#45;&gt;remove_html_markupreturnvalue_functionremove_html_markupat0x7fe245d7ec80_255</title>\n",
       "<path fill=\"none\" stroke=\"#000000\" d=\"M232.9426,-75.6334C232.2819,-67.8186 232.0939,-58.7253 232.3786,-50.183\"/>\n",
       "<polygon fill=\"#000000\" stroke=\"#000000\" points=\"235.875,-50.3453 232.9602,-40.1593 228.8867,-49.9397 235.875,-50.3453\"/>\n",
       "</g>\n",
       "<!-- out_functionremove_html_markupat0x7fe245d7ec80_253&#45;&gt;remove_html_markupreturnvalue_functionremove_html_markupat0x7fe245d7ec80_255 -->\n",
       "<!-- out_functionremove_html_markupat0x7fe245d7ec80_241&#45;&gt;c_functionremove_html_markupat0x7fe245d7ec80_243 -->\n",
       "<!-- out_functionremove_html_markupat0x7fe245d7ec80_241&#45;&gt;out_functionremove_html_markupat0x7fe245d7ec80_253 -->\n",
       "<g id=\"edge3\" class=\"edge\">\n",
       "<title>out_functionremove_html_markupat0x7fe245d7ec80_241&#45;&gt;out_functionremove_html_markupat0x7fe245d7ec80_253</title>\n",
       "<path fill=\"none\" stroke=\"#000000\" d=\"M518.3397,-683.949C524.2219,-654.9742 534,-599.6433 534,-552 534,-552 534,-552 534,-476 534,-365.7697 591.3319,-320.2539 531,-228 477.8531,-146.7326 361.4416,-114.9211 292.7379,-102.9047\"/>\n",
       "<polygon fill=\"#000000\" stroke=\"#000000\" points=\"292.9888,-99.3983 282.5495,-101.2066 291.838,-106.3031 292.9888,-99.3983\"/>\n",
       "</g>\n",
       "<!-- test_functionremove_html_markupat0x7fe245d7ec80_252 -->\n",
       "<g id=\"node6\" class=\"node\">\n",
       "<title>test_functionremove_html_markupat0x7fe245d7ec80_252</title>\n",
       "<g id=\"a_node6\"><a xlink:title=\"remove_html_markup:252\">\n",
       "<polygon fill=\"#ffdab9\" stroke=\"#000000\" points=\"282.5,-192 195.5,-192 195.5,-152 282.5,-152 282.5,-192\"/>\n",
       "<text text-anchor=\"start\" x=\"213.5\" y=\"-177.8\" font-family=\"Fira Mono, Courier, monospace\" font-weight=\"bold\" font-style=\"italic\" font-size=\"14.00\" fill=\"#000000\">&lt;test&gt;</text>\n",
       "<text text-anchor=\"start\" x=\"203.5\" y=\"-158.8\" font-family=\"Fira Mono, Courier, monospace\" font-size=\"9.00\" fill=\"#000000\">elif not tag:</text>\n",
       "</a>\n",
       "</g>\n",
       "</g>\n",
       "<!-- test_functionremove_html_markupat0x7fe245d7ec80_252&#45;&gt;out_functionremove_html_markupat0x7fe245d7ec80_253 -->\n",
       "<g id=\"edge6\" class=\"edge\">\n",
       "<title>test_functionremove_html_markupat0x7fe245d7ec80_252&#45;&gt;out_functionremove_html_markupat0x7fe245d7ec80_253</title>\n",
       "<path fill=\"none\" stroke=\"#c0c0c0\" stroke-dasharray=\"5,2\" d=\"M232.9426,-151.6334C232.2819,-143.8186 232.0939,-134.7253 232.3786,-126.183\"/>\n",
       "<polygon fill=\"#c0c0c0\" stroke=\"#c0c0c0\" points=\"235.875,-126.3453 232.9602,-116.1593 228.8867,-125.9397 235.875,-126.3453\"/>\n",
       "</g>\n",
       "<!-- test_functionremove_html_markupat0x7fe245d7ec80_252&#45;&gt;out_functionremove_html_markupat0x7fe245d7ec80_253 -->\n",
       "<!-- tag_functionremove_html_markupat0x7fe245d7ec80_249 -->\n",
       "<g id=\"node8\" class=\"node\">\n",
       "<title>tag_functionremove_html_markupat0x7fe245d7ec80_249</title>\n",
       "<g id=\"a_node8\"><a xlink:title=\"remove_html_markup:249\">\n",
       "<polygon fill=\"#ffdab9\" stroke=\"#000000\" points=\"276,-344 200,-344 200,-304 276,-304 276,-344\"/>\n",
       "<text text-anchor=\"start\" x=\"225\" y=\"-329.8\" font-family=\"Fira Mono, Courier, monospace\" font-weight=\"bold\" font-size=\"14.00\" fill=\"#000000\">tag</text>\n",
       "<text text-anchor=\"start\" x=\"208\" y=\"-310.8\" font-family=\"Fira Mono, Courier, monospace\" font-size=\"9.00\" fill=\"#000000\">tag = False</text>\n",
       "</a>\n",
       "</g>\n",
       "</g>\n",
       "<!-- tag_functionremove_html_markupat0x7fe245d7ec80_249&#45;&gt;test_functionremove_html_markupat0x7fe245d7ec80_252 -->\n",
       "<g id=\"edge15\" class=\"edge\">\n",
       "<title>tag_functionremove_html_markupat0x7fe245d7ec80_249&#45;&gt;test_functionremove_html_markupat0x7fe245d7ec80_252</title>\n",
       "<path fill=\"none\" stroke=\"#000000\" d=\"M261.9806,-303.8924C271.7167,-294.1776 281.8655,-281.6652 287,-268 293.2529,-251.3582 293.1679,-244.6735 287,-228 283.1957,-217.7159 276.5656,-208.0459 269.426,-199.73\"/>\n",
       "<polygon fill=\"#000000\" stroke=\"#000000\" points=\"271.8446,-197.1893 262.5002,-192.196 266.6912,-201.9267 271.8446,-197.1893\"/>\n",
       "</g>\n",
       "<!-- tag_functionremove_html_markupat0x7fe245d7ec80_249&#45;&gt;assertion_functionremove_html_markupat0x7fe245d7ec80_244 -->\n",
       "<g id=\"edge10\" class=\"edge\">\n",
       "<title>tag_functionremove_html_markupat0x7fe245d7ec80_249&#45;&gt;assertion_functionremove_html_markupat0x7fe245d7ec80_244</title>\n",
       "<path fill=\"none\" stroke=\"#000000\" d=\"M276.0801,-310.4127C306.3973,-299.5953 349.5425,-284.2008 385.3963,-271.4079\"/>\n",
       "<polygon fill=\"#000000\" stroke=\"#000000\" points=\"386.5769,-274.7028 394.8191,-268.0458 384.2245,-268.1099 386.5769,-274.7028\"/>\n",
       "</g>\n",
       "<!-- tag_functionremove_html_markupat0x7fe245d7ec80_249&#45;&gt;test_functionremove_html_markupat0x7fe245d7ec80_250 -->\n",
       "<!-- test_functionremove_html_markupat0x7fe245d7ec80_248&#45;&gt;tag_functionremove_html_markupat0x7fe245d7ec80_249 -->\n",
       "<g id=\"edge8\" class=\"edge\">\n",
       "<title>test_functionremove_html_markupat0x7fe245d7ec80_248&#45;&gt;tag_functionremove_html_markupat0x7fe245d7ec80_249</title>\n",
       "<path fill=\"none\" stroke=\"#c0c0c0\" stroke-dasharray=\"5,2\" d=\"M227.5504,-379.6334C227.5068,-371.8186 228.0367,-362.7253 228.9957,-354.183\"/>\n",
       "<polygon fill=\"#c0c0c0\" stroke=\"#c0c0c0\" points=\"232.4792,-354.5418 230.3687,-344.1593 225.5439,-353.5918 232.4792,-354.5418\"/>\n",
       "</g>\n",
       "<!-- test_functionremove_html_markupat0x7fe245d7ec80_248&#45;&gt;tag_functionremove_html_markupat0x7fe245d7ec80_249 -->\n",
       "<!-- test_functionremove_html_markupat0x7fe245d7ec80_248&#45;&gt;test_functionremove_html_markupat0x7fe245d7ec80_250 -->\n",
       "<g id=\"edge19\" class=\"edge\">\n",
       "<title>test_functionremove_html_markupat0x7fe245d7ec80_248&#45;&gt;test_functionremove_html_markupat0x7fe245d7ec80_250</title>\n",
       "<path fill=\"none\" stroke=\"#c0c0c0\" stroke-dasharray=\"5,2\" d=\"M213.8762,-379.8165C205.7181,-369.7151 196.6671,-356.9086 191,-344 181.8375,-323.1296 177.0603,-297.7693 174.5884,-278.3564\"/>\n",
       "<polygon fill=\"#c0c0c0\" stroke=\"#c0c0c0\" points=\"178.0467,-277.7902 173.4391,-268.2497 171.0915,-278.5811 178.0467,-277.7902\"/>\n",
       "</g>\n",
       "<!-- tag_functionremove_html_markupat0x7fe245d7ec80_239 -->\n",
       "<g id=\"node10\" class=\"node\">\n",
       "<title>tag_functionremove_html_markupat0x7fe245d7ec80_239</title>\n",
       "<g id=\"a_node10\"><a xlink:title=\"remove_html_markup:239\">\n",
       "<polygon fill=\"#ffdab9\" stroke=\"#000000\" points=\"476,-876 400,-876 400,-836 476,-836 476,-876\"/>\n",
       "<text text-anchor=\"start\" x=\"425\" y=\"-861.8\" font-family=\"Fira Mono, Courier, monospace\" font-weight=\"bold\" font-size=\"14.00\" fill=\"#000000\">tag</text>\n",
       "<text text-anchor=\"start\" x=\"408\" y=\"-842.8\" font-family=\"Fira Mono, Courier, monospace\" font-size=\"9.00\" fill=\"#000000\">tag = False</text>\n",
       "</a>\n",
       "</g>\n",
       "</g>\n",
       "<!-- tag_functionremove_html_markupat0x7fe245d7ec80_239&#45;&gt;quote_functionremove_html_markupat0x7fe245d7ec80_240 -->\n",
       "<!-- tag_functionremove_html_markupat0x7fe245d7ec80_239&#45;&gt;assertion_functionremove_html_markupat0x7fe245d7ec80_244 -->\n",
       "<g id=\"edge13\" class=\"edge\">\n",
       "<title>tag_functionremove_html_markupat0x7fe245d7ec80_239&#45;&gt;assertion_functionremove_html_markupat0x7fe245d7ec80_244</title>\n",
       "<path fill=\"none\" stroke=\"#000000\" d=\"M473.9095,-835.8661C513.602,-810.652 572,-763.453 572,-704 572,-704 572,-704 572,-476 572,-395.7582 512.801,-316.2201 477.2179,-275.6594\"/>\n",
       "<polygon fill=\"#000000\" stroke=\"#000000\" points=\"479.7149,-273.201 470.4407,-268.0784 474.4961,-277.8663 479.7149,-273.201\"/>\n",
       "</g>\n",
       "<!-- s_functionremove_html_markupat0x7fe245d7ec80_238 -->\n",
       "<g id=\"node11\" class=\"node\">\n",
       "<title>s_functionremove_html_markupat0x7fe245d7ec80_238</title>\n",
       "<g id=\"a_node11\"><a xlink:title=\"remove_html_markup:238\">\n",
       "<polygon fill=\"#ffdab9\" stroke=\"#000000\" points=\"521.5,-952 278.5,-952 278.5,-912 521.5,-912 521.5,-952\"/>\n",
       "<text text-anchor=\"start\" x=\"395.5\" y=\"-937.8\" font-family=\"Fira Mono, Courier, monospace\" font-weight=\"bold\" font-size=\"14.00\" fill=\"#000000\">s</text>\n",
       "<text text-anchor=\"start\" x=\"286.5\" y=\"-918.8\" font-family=\"Fira Mono, Courier, monospace\" font-size=\"9.00\" fill=\"#000000\">def remove_html_markup(s): &#160;# type: ignore</text>\n",
       "</a>\n",
       "</g>\n",
       "</g>\n",
       "<!-- s_functionremove_html_markupat0x7fe245d7ec80_238&#45;&gt;c_functionremove_html_markupat0x7fe245d7ec80_243 -->\n",
       "<g id=\"edge14\" class=\"edge\">\n",
       "<title>s_functionremove_html_markupat0x7fe245d7ec80_238&#45;&gt;c_functionremove_html_markupat0x7fe245d7ec80_243</title>\n",
       "<path fill=\"none\" stroke=\"#000000\" d=\"M396.5074,-911.5817C387.5525,-859.2298 363.7377,-720.0052 353.1726,-658.2396\"/>\n",
       "<polygon fill=\"#000000\" stroke=\"#000000\" points=\"356.6134,-657.5962 351.4774,-648.3295 349.7136,-658.7765 356.6134,-657.5962\"/>\n",
       "</g>\n",
       "<!-- s_functionremove_html_markupat0x7fe245d7ec80_238&#45;&gt;tag_functionremove_html_markupat0x7fe245d7ec80_239 -->\n",
       "<!-- tag_functionremove_html_markupat0x7fe245d7ec80_247&#45;&gt;test_functionremove_html_markupat0x7fe245d7ec80_252 -->\n",
       "<g id=\"edge16\" class=\"edge\">\n",
       "<title>tag_functionremove_html_markupat0x7fe245d7ec80_247&#45;&gt;test_functionremove_html_markupat0x7fe245d7ec80_252</title>\n",
       "<path fill=\"none\" stroke=\"#000000\" d=\"M348.6879,-455.8572C349.3159,-411.5912 345.9453,-303.7533 303,-228 296.6801,-216.852 287.2886,-206.826 277.6349,-198.4427\"/>\n",
       "<polygon fill=\"#000000\" stroke=\"#000000\" points=\"279.8393,-195.724 269.8902,-192.0815 275.3963,-201.1333 279.8393,-195.724\"/>\n",
       "</g>\n",
       "<!-- tag_functionremove_html_markupat0x7fe245d7ec80_247&#45;&gt;test_functionremove_html_markupat0x7fe245d7ec80_248 -->\n",
       "<!-- tag_functionremove_html_markupat0x7fe245d7ec80_247&#45;&gt;assertion_functionremove_html_markupat0x7fe245d7ec80_244 -->\n",
       "<g id=\"edge11\" class=\"edge\">\n",
       "<title>tag_functionremove_html_markupat0x7fe245d7ec80_247&#45;&gt;assertion_functionremove_html_markupat0x7fe245d7ec80_244</title>\n",
       "<path fill=\"none\" stroke=\"#000000\" d=\"M352.3225,-455.9838C359.9841,-422.9118 377.8434,-355.4088 406,-304 411.3575,-294.2182 418.4628,-284.4372 425.4412,-275.8501\"/>\n",
       "<polygon fill=\"#000000\" stroke=\"#000000\" points=\"428.2688,-277.9259 432.0318,-268.0218 422.9139,-273.4176 428.2688,-277.9259\"/>\n",
       "</g>\n",
       "<!-- assertion_functionremove_html_markupat0x7fe245d7ec80_244&#45;&gt;test_functionremove_html_markupat0x7fe245d7ec80_246 -->\n",
       "<!-- test_functionremove_html_markupat0x7fe245d7ec80_250&#45;&gt;test_functionremove_html_markupat0x7fe245d7ec80_252 -->\n",
       "<g id=\"edge17\" class=\"edge\">\n",
       "<title>test_functionremove_html_markupat0x7fe245d7ec80_250&#45;&gt;test_functionremove_html_markupat0x7fe245d7ec80_252</title>\n",
       "<path fill=\"none\" stroke=\"#c0c0c0\" stroke-dasharray=\"5,2\" d=\"M183.8973,-227.6334C190.7421,-219.0457 199.5186,-208.9142 208.0868,-199.6663\"/>\n",
       "<polygon fill=\"#c0c0c0\" stroke=\"#c0c0c0\" points=\"210.8588,-201.8292 215.1882,-192.1593 205.7735,-197.0187 210.8588,-201.8292\"/>\n",
       "</g>\n",
       "<!-- test_functionremove_html_markupat0x7fe245d7ec80_250&#45;&gt;test_functionremove_html_markupat0x7fe245d7ec80_252 -->\n",
       "</g>\n",
       "</svg>\n"
      ],
      "text/plain": [
       "<__main__.Slicer at 0x7fe246579400>"
      ]
     },
     "execution_count": 1,
     "metadata": {},
     "output_type": "execute_result"
    }
   ],
   "source": [
    "rhm_slicer"
   ]
  },
  {
   "cell_type": "code",
   "execution_count": 208,
   "metadata": {
    "execution": {
     "iopub.execute_input": "2021-05-11T17:08:07.677180Z",
     "iopub.status.busy": "2021-05-11T17:08:07.676629Z",
     "iopub.status.idle": "2021-05-11T17:08:07.678408Z",
     "shell.execute_reply": "2021-05-11T17:08:07.678845Z"
    },
    "slideshow": {
     "slide_type": "fragment"
    }
   },
   "outputs": [],
   "source": [
    "# print(repr(rhm_slicer.dependencies()))"
   ]
  },
  {
   "cell_type": "code",
   "execution_count": 209,
   "metadata": {
    "execution": {
     "iopub.execute_input": "2021-05-11T17:08:07.685167Z",
     "iopub.status.busy": "2021-05-11T17:08:07.682928Z",
     "iopub.status.idle": "2021-05-11T17:08:07.769920Z",
     "shell.execute_reply": "2021-05-11T17:08:07.770378Z"
    },
    "slideshow": {
     "slide_type": "subslide"
    }
   },
   "outputs": [
    {
     "name": "stdout",
     "output_type": "stream",
     "text": [
      "*  238 \u001b[34mdef\u001b[39;49;00m \u001b[32mremove_html_markup\u001b[39;49;00m(s):  \u001b[37m# type: ignore\u001b[39;49;00m\n",
      "*  239     tag = \u001b[34mFalse\u001b[39;49;00m\n",
      "*  240     quote = \u001b[34mFalse\u001b[39;49;00m\n",
      "*  241     out = \u001b[33m\"\u001b[39;49;00m\u001b[33m\"\u001b[39;49;00m\n",
      "   242 \n",
      "*  243     \u001b[34mfor\u001b[39;49;00m c \u001b[35min\u001b[39;49;00m s:  \u001b[37m# <= s (238)\u001b[39;49;00m\n",
      "*  244         \u001b[34massert\u001b[39;49;00m tag \u001b[35mor\u001b[39;49;00m \u001b[35mnot\u001b[39;49;00m quote  \u001b[37m# <= tag (249), tag (247), quote (240), tag (239)\u001b[39;49;00m\n",
      "   245 \n",
      "*  246         \u001b[34mif\u001b[39;49;00m c == \u001b[33m'\u001b[39;49;00m\u001b[33m<\u001b[39;49;00m\u001b[33m'\u001b[39;49;00m \u001b[35mand\u001b[39;49;00m \u001b[35mnot\u001b[39;49;00m quote:  \u001b[37m# <= c (243), quote (240)\u001b[39;49;00m\n",
      "*  247             tag = \u001b[34mTrue\u001b[39;49;00m  \u001b[37m# <- <test> (246)\u001b[39;49;00m\n",
      "*  248         \u001b[34melif\u001b[39;49;00m c == \u001b[33m'\u001b[39;49;00m\u001b[33m>\u001b[39;49;00m\u001b[33m'\u001b[39;49;00m \u001b[35mand\u001b[39;49;00m \u001b[35mnot\u001b[39;49;00m quote:  \u001b[37m# <= c (243), quote (240); <- <test> (246)\u001b[39;49;00m\n",
      "*  249             tag = \u001b[34mFalse\u001b[39;49;00m  \u001b[37m# <- <test> (248)\u001b[39;49;00m\n",
      "*  250         \u001b[34melif\u001b[39;49;00m (c == \u001b[33m'\u001b[39;49;00m\u001b[33m\"\u001b[39;49;00m\u001b[33m'\u001b[39;49;00m \u001b[35mor\u001b[39;49;00m c == \u001b[33m\"\u001b[39;49;00m\u001b[33m'\u001b[39;49;00m\u001b[33m\"\u001b[39;49;00m) \u001b[35mand\u001b[39;49;00m tag:  \u001b[37m# <= c (243); <- <test> (248)\u001b[39;49;00m\n",
      "   251             quote = \u001b[35mnot\u001b[39;49;00m quote\n",
      "*  252         \u001b[34melif\u001b[39;49;00m \u001b[35mnot\u001b[39;49;00m tag:  \u001b[37m# <= tag (249), tag (247); <- <test> (250)\u001b[39;49;00m\n",
      "*  253             out = out + c  \u001b[37m# <= out (241), c (243), out (253); <- <test> (252)\u001b[39;49;00m\n",
      "   254 \n",
      "*  255     \u001b[34mreturn\u001b[39;49;00m out  \u001b[37m# <= out (253)\u001b[39;49;00m\n"
     ]
    }
   ],
   "source": [
    "rhm_slicer.code()"
   ]
  },
  {
   "cell_type": "markdown",
   "metadata": {
    "slideshow": {
     "slide_type": "subslide"
    }
   },
   "source": [
    "We can also compute slices over the dependencies:"
   ]
  },
  {
   "cell_type": "code",
   "execution_count": 210,
   "metadata": {
    "execution": {
     "iopub.execute_input": "2021-05-11T17:08:07.775402Z",
     "iopub.status.busy": "2021-05-11T17:08:07.774019Z",
     "iopub.status.idle": "2021-05-11T17:08:07.777985Z",
     "shell.execute_reply": "2021-05-11T17:08:07.778401Z"
    },
    "slideshow": {
     "slide_type": "fragment"
    }
   },
   "outputs": [
    {
     "data": {
      "text/plain": [
       "238"
      ]
     },
     "execution_count": 1,
     "metadata": {},
     "output_type": "execute_result"
    }
   ],
   "source": [
    "_, start_remove_html_markup = inspect.getsourcelines(remove_html_markup)\n",
    "start_remove_html_markup"
   ]
  },
  {
   "cell_type": "code",
   "execution_count": 211,
   "metadata": {
    "execution": {
     "iopub.execute_input": "2021-05-11T17:08:07.784014Z",
     "iopub.status.busy": "2021-05-11T17:08:07.782297Z",
     "iopub.status.idle": "2021-05-11T17:08:08.655292Z",
     "shell.execute_reply": "2021-05-11T17:08:08.655860Z"
    },
    "slideshow": {
     "slide_type": "subslide"
    }
   },
   "outputs": [
    {
     "data": {
      "image/svg+xml": [
       "<?xml version=\"1.0\" encoding=\"UTF-8\" standalone=\"no\"?>\n",
       "<!DOCTYPE svg PUBLIC \"-//W3C//DTD SVG 1.1//EN\"\n",
       " \"http://www.w3.org/Graphics/SVG/1.1/DTD/svg11.dtd\">\n",
       "<!-- Generated by graphviz version 2.40.1 (20161225.0304)\n",
       " -->\n",
       "<!-- Title: dependencies Pages: 1 -->\n",
       "<svg width=\"251pt\" height=\"352pt\"\n",
       " viewBox=\"0.00 0.00 251.00 352.00\" xmlns=\"http://www.w3.org/2000/svg\" xmlns:xlink=\"http://www.w3.org/1999/xlink\">\n",
       "<g id=\"graph0\" class=\"graph\" transform=\"scale(1 1) rotate(0) translate(4 348)\">\n",
       "<title>dependencies</title>\n",
       "<polygon fill=\"#ffffff\" stroke=\"transparent\" points=\"-4,4 -4,-348 247,-348 247,4 -4,4\"/>\n",
       "<!-- test_functionremove_html_markupat0x7fe245d7ec80_246 -->\n",
       "<g id=\"node1\" class=\"node\">\n",
       "<title>test_functionremove_html_markupat0x7fe245d7ec80_246</title>\n",
       "<g id=\"a_node1\"><a xlink:title=\"remove_html_markup:246\">\n",
       "<polygon fill=\"#ffdab9\" stroke=\"#000000\" points=\"170,-116 13,-116 13,-76 170,-76 170,-116\"/>\n",
       "<text text-anchor=\"start\" x=\"66\" y=\"-101.8\" font-family=\"Fira Mono, Courier, monospace\" font-weight=\"bold\" font-style=\"italic\" font-size=\"14.00\" fill=\"#000000\">&lt;test&gt;</text>\n",
       "<text text-anchor=\"start\" x=\"21\" y=\"-82.8\" font-family=\"Fira Mono, Courier, monospace\" font-size=\"9.00\" fill=\"#000000\">if c == &#39;&lt;&#39; and not quote:</text>\n",
       "</a>\n",
       "</g>\n",
       "</g>\n",
       "<!-- tag_functionremove_html_markupat0x7fe245d7ec80_247 -->\n",
       "<g id=\"node5\" class=\"node\">\n",
       "<title>tag_functionremove_html_markupat0x7fe245d7ec80_247</title>\n",
       "<g id=\"a_node5\"><a xlink:title=\"remove_html_markup:247\">\n",
       "<polygon fill=\"#ffdab9\" stroke=\"#000000\" points=\"127,-40 56,-40 56,0 127,0 127,-40\"/>\n",
       "<text text-anchor=\"start\" x=\"78.5\" y=\"-25.8\" font-family=\"Fira Mono, Courier, monospace\" font-weight=\"bold\" font-size=\"14.00\" fill=\"#000000\">tag</text>\n",
       "<text text-anchor=\"start\" x=\"64\" y=\"-6.8\" font-family=\"Fira Mono, Courier, monospace\" font-size=\"9.00\" fill=\"#000000\">tag = True</text>\n",
       "</a>\n",
       "</g>\n",
       "</g>\n",
       "<!-- test_functionremove_html_markupat0x7fe245d7ec80_246&#45;&gt;tag_functionremove_html_markupat0x7fe245d7ec80_247 -->\n",
       "<g id=\"edge3\" class=\"edge\">\n",
       "<title>test_functionremove_html_markupat0x7fe245d7ec80_246&#45;&gt;tag_functionremove_html_markupat0x7fe245d7ec80_247</title>\n",
       "<path fill=\"none\" stroke=\"#c0c0c0\" stroke-dasharray=\"5,2\" d=\"M85.4426,-75.6334C84.7819,-67.8186 84.5939,-58.7253 84.8786,-50.183\"/>\n",
       "<polygon fill=\"#c0c0c0\" stroke=\"#c0c0c0\" points=\"88.375,-50.3453 85.4602,-40.1593 81.3867,-49.9397 88.375,-50.3453\"/>\n",
       "</g>\n",
       "<!-- test_functionremove_html_markupat0x7fe245d7ec80_246&#45;&gt;tag_functionremove_html_markupat0x7fe245d7ec80_247 -->\n",
       "<!-- c_functionremove_html_markupat0x7fe245d7ec80_243 -->\n",
       "<g id=\"node2\" class=\"node\">\n",
       "<title>c_functionremove_html_markupat0x7fe245d7ec80_243</title>\n",
       "<g id=\"a_node2\"><a xlink:title=\"remove_html_markup:243\">\n",
       "<polygon fill=\"#ffdab9\" stroke=\"#000000\" points=\"129.5,-192 53.5,-192 53.5,-152 129.5,-152 129.5,-192\"/>\n",
       "<text text-anchor=\"start\" x=\"87\" y=\"-177.8\" font-family=\"Fira Mono, Courier, monospace\" font-weight=\"bold\" font-size=\"14.00\" fill=\"#000000\">c</text>\n",
       "<text text-anchor=\"start\" x=\"61.5\" y=\"-158.8\" font-family=\"Fira Mono, Courier, monospace\" font-size=\"9.00\" fill=\"#000000\">for c in s:</text>\n",
       "</a>\n",
       "</g>\n",
       "</g>\n",
       "<!-- c_functionremove_html_markupat0x7fe245d7ec80_243&#45;&gt;test_functionremove_html_markupat0x7fe245d7ec80_246 -->\n",
       "<g id=\"edge1\" class=\"edge\">\n",
       "<title>c_functionremove_html_markupat0x7fe245d7ec80_243&#45;&gt;test_functionremove_html_markupat0x7fe245d7ec80_246</title>\n",
       "<path fill=\"none\" stroke=\"#000000\" d=\"M85.4426,-151.6334C84.7819,-143.8186 84.5939,-134.7253 84.8786,-126.183\"/>\n",
       "<polygon fill=\"#000000\" stroke=\"#000000\" points=\"88.375,-126.3453 85.4602,-116.1593 81.3867,-125.9397 88.375,-126.3453\"/>\n",
       "</g>\n",
       "<!-- c_functionremove_html_markupat0x7fe245d7ec80_243&#45;&gt;test_functionremove_html_markupat0x7fe245d7ec80_246 -->\n",
       "<!-- quote_functionremove_html_markupat0x7fe245d7ec80_240 -->\n",
       "<g id=\"node3\" class=\"node\">\n",
       "<title>quote_functionremove_html_markupat0x7fe245d7ec80_240</title>\n",
       "<g id=\"a_node3\"><a xlink:title=\"remove_html_markup:240\">\n",
       "<polygon fill=\"#ffdab9\" stroke=\"#000000\" points=\"201,-268 114,-268 114,-228 201,-228 201,-268\"/>\n",
       "<text text-anchor=\"start\" x=\"136\" y=\"-253.8\" font-family=\"Fira Mono, Courier, monospace\" font-weight=\"bold\" font-size=\"14.00\" fill=\"#000000\">quote</text>\n",
       "<text text-anchor=\"start\" x=\"122\" y=\"-234.8\" font-family=\"Fira Mono, Courier, monospace\" font-size=\"9.00\" fill=\"#000000\">quote = False</text>\n",
       "</a>\n",
       "</g>\n",
       "</g>\n",
       "<!-- quote_functionremove_html_markupat0x7fe245d7ec80_240&#45;&gt;test_functionremove_html_markupat0x7fe245d7ec80_246 -->\n",
       "<g id=\"edge2\" class=\"edge\">\n",
       "<title>quote_functionremove_html_markupat0x7fe245d7ec80_240&#45;&gt;test_functionremove_html_markupat0x7fe245d7ec80_246</title>\n",
       "<path fill=\"none\" stroke=\"#000000\" d=\"M156.4437,-227.9674C154.7314,-207.8864 150.2461,-176.5152 138.5,-152 133.6788,-141.9378 126.6268,-132.1828 119.4445,-123.7107\"/>\n",
       "<polygon fill=\"#000000\" stroke=\"#000000\" points=\"121.8521,-121.1515 112.587,-116.0127 116.6253,-125.8078 121.8521,-121.1515\"/>\n",
       "</g>\n",
       "<!-- quote_functionremove_html_markupat0x7fe245d7ec80_240&#45;&gt;c_functionremove_html_markupat0x7fe245d7ec80_243 -->\n",
       "<!-- s_functionremove_html_markupat0x7fe245d7ec80_238 -->\n",
       "<g id=\"node4\" class=\"node\">\n",
       "<title>s_functionremove_html_markupat0x7fe245d7ec80_238</title>\n",
       "<g id=\"a_node4\"><a xlink:title=\"remove_html_markup:238\">\n",
       "<polygon fill=\"#ffdab9\" stroke=\"#000000\" points=\"243,-344 0,-344 0,-304 243,-304 243,-344\"/>\n",
       "<text text-anchor=\"start\" x=\"117\" y=\"-329.8\" font-family=\"Fira Mono, Courier, monospace\" font-weight=\"bold\" font-size=\"14.00\" fill=\"#000000\">s</text>\n",
       "<text text-anchor=\"start\" x=\"8\" y=\"-310.8\" font-family=\"Fira Mono, Courier, monospace\" font-size=\"9.00\" fill=\"#000000\">def remove_html_markup(s): &#160;# type: ignore</text>\n",
       "</a>\n",
       "</g>\n",
       "</g>\n",
       "<!-- s_functionremove_html_markupat0x7fe245d7ec80_238&#45;&gt;c_functionremove_html_markupat0x7fe245d7ec80_243 -->\n",
       "<g id=\"edge4\" class=\"edge\">\n",
       "<title>s_functionremove_html_markupat0x7fe245d7ec80_238&#45;&gt;c_functionremove_html_markupat0x7fe245d7ec80_243</title>\n",
       "<path fill=\"none\" stroke=\"#000000\" d=\"M114.5732,-303.9875C111.1252,-293.3971 107.1405,-280.1111 104.5,-268 99.7459,-246.1945 96.4275,-221.2013 94.3337,-202.1837\"/>\n",
       "<polygon fill=\"#000000\" stroke=\"#000000\" points=\"97.7918,-201.5999 93.268,-192.0194 90.8299,-202.3299 97.7918,-201.5999\"/>\n",
       "</g>\n",
       "<!-- s_functionremove_html_markupat0x7fe245d7ec80_238&#45;&gt;quote_functionremove_html_markupat0x7fe245d7ec80_240 -->\n",
       "</g>\n",
       "</svg>\n"
      ],
      "text/plain": [
       "Dependencies(\n",
       "    data={\n",
       "        ('tag', (remove_html_markup, 247)): set(),\n",
       "        ('<test>', (remove_html_markup, 246)): {('c', (remove_html_markup, 243)), ('quote', (remove_html_markup, 240))},\n",
       "        ('c', (remove_html_markup, 243)): {('s', (remove_html_markup, 238))},\n",
       "        ('quote', (remove_html_markup, 240)): set(),\n",
       "        ('s', (remove_html_markup, 238)): set()},\n",
       " control={\n",
       "        ('tag', (remove_html_markup, 247)): {('<test>', (remove_html_markup, 246))},\n",
       "        ('<test>', (remove_html_markup, 246)): set(),\n",
       "        ('c', (remove_html_markup, 243)): set(),\n",
       "        ('quote', (remove_html_markup, 240)): set(),\n",
       "        ('s', (remove_html_markup, 238)): set()})"
      ]
     },
     "execution_count": 1,
     "metadata": {},
     "output_type": "execute_result"
    }
   ],
   "source": [
    "slicing_criterion = ('tag', (remove_html_markup,\n",
    "                             start_remove_html_markup + 9))\n",
    "tag_deps = rhm_slicer.dependencies().backward_slice(slicing_criterion)  # type: ignore\n",
    "tag_deps"
   ]
  },
  {
   "cell_type": "code",
   "execution_count": 212,
   "metadata": {
    "execution": {
     "iopub.execute_input": "2021-05-11T17:08:08.660456Z",
     "iopub.status.busy": "2021-05-11T17:08:08.659844Z",
     "iopub.status.idle": "2021-05-11T17:08:08.661621Z",
     "shell.execute_reply": "2021-05-11T17:08:08.662013Z"
    },
    "slideshow": {
     "slide_type": "subslide"
    }
   },
   "outputs": [],
   "source": [
    "# repr(tag_deps)"
   ]
  },
  {
   "cell_type": "markdown",
   "metadata": {
    "slideshow": {
     "slide_type": "subslide"
    }
   },
   "source": [
    "### Calls and Augmented Assign"
   ]
  },
  {
   "cell_type": "markdown",
   "metadata": {
    "slideshow": {
     "slide_type": "fragment"
    }
   },
   "source": [
    "Our last example covers augmented assigns and data flow across function calls. We introduce two simple functions `add_to()` and `mul_with()`:"
   ]
  },
  {
   "cell_type": "code",
   "execution_count": 213,
   "metadata": {
    "execution": {
     "iopub.execute_input": "2021-05-11T17:08:08.666644Z",
     "iopub.status.busy": "2021-05-11T17:08:08.665880Z",
     "iopub.status.idle": "2021-05-11T17:08:08.667651Z",
     "shell.execute_reply": "2021-05-11T17:08:08.668073Z"
    },
    "slideshow": {
     "slide_type": "fragment"
    }
   },
   "outputs": [],
   "source": [
    "def add_to(n, m):  # type: ignore\n",
    "    n += m\n",
    "    return n"
   ]
  },
  {
   "cell_type": "code",
   "execution_count": 214,
   "metadata": {
    "execution": {
     "iopub.execute_input": "2021-05-11T17:08:08.672006Z",
     "iopub.status.busy": "2021-05-11T17:08:08.671301Z",
     "iopub.status.idle": "2021-05-11T17:08:08.673092Z",
     "shell.execute_reply": "2021-05-11T17:08:08.673617Z"
    },
    "slideshow": {
     "slide_type": "fragment"
    }
   },
   "outputs": [],
   "source": [
    "def mul_with(x, y):  # type: ignore\n",
    "    x *= y\n",
    "    return x"
   ]
  },
  {
   "cell_type": "markdown",
   "metadata": {
    "slideshow": {
     "slide_type": "fragment"
    }
   },
   "source": [
    "And we put these two together in a single call:"
   ]
  },
  {
   "cell_type": "code",
   "execution_count": 215,
   "metadata": {
    "execution": {
     "iopub.execute_input": "2021-05-11T17:08:08.677471Z",
     "iopub.status.busy": "2021-05-11T17:08:08.676930Z",
     "iopub.status.idle": "2021-05-11T17:08:08.678653Z",
     "shell.execute_reply": "2021-05-11T17:08:08.679076Z"
    },
    "slideshow": {
     "slide_type": "fragment"
    }
   },
   "outputs": [],
   "source": [
    "def test_math() -> None:\n",
    "    return mul_with(1, add_to(2, 3))"
   ]
  },
  {
   "cell_type": "code",
   "execution_count": 216,
   "metadata": {
    "execution": {
     "iopub.execute_input": "2021-05-11T17:08:08.685746Z",
     "iopub.status.busy": "2021-05-11T17:08:08.684660Z",
     "iopub.status.idle": "2021-05-11T17:08:08.693029Z",
     "shell.execute_reply": "2021-05-11T17:08:08.693470Z"
    },
    "slideshow": {
     "slide_type": "fragment"
    }
   },
   "outputs": [],
   "source": [
    "with Slicer(add_to, mul_with, test_math) as math_slicer:\n",
    "    test_math()"
   ]
  },
  {
   "cell_type": "markdown",
   "metadata": {
    "slideshow": {
     "slide_type": "subslide"
    }
   },
   "source": [
    "The resulting dependence graph nicely captures the data flow between these calls, notably arguments and parameters:"
   ]
  },
  {
   "cell_type": "code",
   "execution_count": 217,
   "metadata": {
    "execution": {
     "iopub.execute_input": "2021-05-11T17:08:08.697953Z",
     "iopub.status.busy": "2021-05-11T17:08:08.696930Z",
     "iopub.status.idle": "2021-05-11T17:08:09.567000Z",
     "shell.execute_reply": "2021-05-11T17:08:09.567492Z"
    },
    "slideshow": {
     "slide_type": "fragment"
    }
   },
   "outputs": [
    {
     "data": {
      "image/svg+xml": [
       "<?xml version=\"1.0\" encoding=\"UTF-8\" standalone=\"no\"?>\n",
       "<!DOCTYPE svg PUBLIC \"-//W3C//DTD SVG 1.1//EN\"\n",
       " \"http://www.w3.org/Graphics/SVG/1.1/DTD/svg11.dtd\">\n",
       "<!-- Generated by graphviz version 2.40.1 (20161225.0304)\n",
       " -->\n",
       "<!-- Title: dependencies Pages: 1 -->\n",
       "<svg width=\"453pt\" height=\"504pt\"\n",
       " viewBox=\"0.00 0.00 452.50 504.00\" xmlns=\"http://www.w3.org/2000/svg\" xmlns:xlink=\"http://www.w3.org/1999/xlink\">\n",
       "<g id=\"graph0\" class=\"graph\" transform=\"scale(1 1) rotate(0) translate(4 500)\">\n",
       "<title>dependencies</title>\n",
       "<polygon fill=\"#ffffff\" stroke=\"transparent\" points=\"-4,4 -4,-500 448.5,-500 448.5,4 -4,4\"/>\n",
       "<!-- add_toreturnvalue_functionadd_toat0x7fe245d7e400_3 -->\n",
       "<g id=\"node1\" class=\"node\">\n",
       "<title>add_toreturnvalue_functionadd_toat0x7fe245d7e400_3</title>\n",
       "<g id=\"a_node1\"><a xlink:title=\"add_to:3\">\n",
       "<polygon fill=\"#ffdab9\" stroke=\"#000000\" points=\"432,-344 222,-344 222,-304 432,-304 432,-344\"/>\n",
       "<text text-anchor=\"start\" x=\"230\" y=\"-329.8\" font-family=\"Fira Mono, Courier, monospace\" font-weight=\"bold\" font-style=\"italic\" font-size=\"14.00\" fill=\"#000000\">&lt;add_to() return value&gt;</text>\n",
       "<text text-anchor=\"start\" x=\"305\" y=\"-310.8\" font-family=\"Fira Mono, Courier, monospace\" font-size=\"9.00\" fill=\"#000000\">return n</text>\n",
       "</a>\n",
       "</g>\n",
       "</g>\n",
       "<!-- y_functionmul_withat0x7fe245d7eea0_1 -->\n",
       "<g id=\"node5\" class=\"node\">\n",
       "<title>y_functionmul_withat0x7fe245d7eea0_1</title>\n",
       "<g id=\"a_node5\"><a xlink:title=\"mul_with:1\">\n",
       "<polygon fill=\"#ffdab9\" stroke=\"#000000\" points=\"430,-268 224,-268 224,-228 430,-228 430,-268\"/>\n",
       "<text text-anchor=\"start\" x=\"322.5\" y=\"-253.8\" font-family=\"Fira Mono, Courier, monospace\" font-weight=\"bold\" font-size=\"14.00\" fill=\"#000000\">y</text>\n",
       "<text text-anchor=\"start\" x=\"232\" y=\"-234.8\" font-family=\"Fira Mono, Courier, monospace\" font-size=\"9.00\" fill=\"#000000\">def mul_with(x, y): &#160;# type: ignore</text>\n",
       "</a>\n",
       "</g>\n",
       "</g>\n",
       "<!-- add_toreturnvalue_functionadd_toat0x7fe245d7e400_3&#45;&gt;y_functionmul_withat0x7fe245d7eea0_1 -->\n",
       "<g id=\"edge2\" class=\"edge\">\n",
       "<title>add_toreturnvalue_functionadd_toat0x7fe245d7e400_3&#45;&gt;y_functionmul_withat0x7fe245d7eea0_1</title>\n",
       "<path fill=\"none\" stroke=\"#000000\" d=\"M327,-303.6334C327,-295.8186 327,-286.7253 327,-278.183\"/>\n",
       "<polygon fill=\"#000000\" stroke=\"#000000\" points=\"330.5001,-278.1593 327,-268.1593 323.5001,-278.1593 330.5001,-278.1593\"/>\n",
       "</g>\n",
       "<!-- n_functionadd_toat0x7fe245d7e400_2 -->\n",
       "<g id=\"node2\" class=\"node\">\n",
       "<title>n_functionadd_toat0x7fe245d7e400_2</title>\n",
       "<g id=\"a_node2\"><a xlink:title=\"add_to:2\">\n",
       "<polygon fill=\"#ffdab9\" stroke=\"#000000\" points=\"354,-420 300,-420 300,-380 354,-380 354,-420\"/>\n",
       "<text text-anchor=\"start\" x=\"322.5\" y=\"-405.8\" font-family=\"Fira Mono, Courier, monospace\" font-weight=\"bold\" font-size=\"14.00\" fill=\"#000000\">n</text>\n",
       "<text text-anchor=\"start\" x=\"310.5\" y=\"-386.8\" font-family=\"Fira Mono, Courier, monospace\" font-size=\"9.00\" fill=\"#000000\">n += m</text>\n",
       "</a>\n",
       "</g>\n",
       "</g>\n",
       "<!-- n_functionadd_toat0x7fe245d7e400_2&#45;&gt;add_toreturnvalue_functionadd_toat0x7fe245d7e400_3 -->\n",
       "<g id=\"edge1\" class=\"edge\">\n",
       "<title>n_functionadd_toat0x7fe245d7e400_2&#45;&gt;add_toreturnvalue_functionadd_toat0x7fe245d7e400_3</title>\n",
       "<path fill=\"none\" stroke=\"#000000\" d=\"M320.9426,-379.6334C320.2819,-371.8186 320.0939,-362.7253 320.3786,-354.183\"/>\n",
       "<polygon fill=\"#000000\" stroke=\"#000000\" points=\"323.875,-354.3453 320.9602,-344.1593 316.8867,-353.9397 323.875,-354.3453\"/>\n",
       "</g>\n",
       "<!-- n_functionadd_toat0x7fe245d7e400_2&#45;&gt;add_toreturnvalue_functionadd_toat0x7fe245d7e400_3 -->\n",
       "<!-- x_functionmul_withat0x7fe245d7eea0_1 -->\n",
       "<g id=\"node3\" class=\"node\">\n",
       "<title>x_functionmul_withat0x7fe245d7eea0_1</title>\n",
       "<g id=\"a_node3\"><a xlink:title=\"mul_with:1\">\n",
       "<polygon fill=\"#ffdab9\" stroke=\"#000000\" points=\"206,-268 0,-268 0,-228 206,-228 206,-268\"/>\n",
       "<text text-anchor=\"start\" x=\"98.5\" y=\"-253.8\" font-family=\"Fira Mono, Courier, monospace\" font-weight=\"bold\" font-size=\"14.00\" fill=\"#000000\">x</text>\n",
       "<text text-anchor=\"start\" x=\"8\" y=\"-234.8\" font-family=\"Fira Mono, Courier, monospace\" font-size=\"9.00\" fill=\"#000000\">def mul_with(x, y): &#160;# type: ignore</text>\n",
       "</a>\n",
       "</g>\n",
       "</g>\n",
       "<!-- x_functionmul_withat0x7fe245d7eea0_2 -->\n",
       "<g id=\"node7\" class=\"node\">\n",
       "<title>x_functionmul_withat0x7fe245d7eea0_2</title>\n",
       "<g id=\"a_node7\"><a xlink:title=\"mul_with:2\">\n",
       "<polygon fill=\"#ffdab9\" stroke=\"#000000\" points=\"354,-192 300,-192 300,-152 354,-152 354,-192\"/>\n",
       "<text text-anchor=\"start\" x=\"322.5\" y=\"-177.8\" font-family=\"Fira Mono, Courier, monospace\" font-weight=\"bold\" font-size=\"14.00\" fill=\"#000000\">x</text>\n",
       "<text text-anchor=\"start\" x=\"310.5\" y=\"-158.8\" font-family=\"Fira Mono, Courier, monospace\" font-size=\"9.00\" fill=\"#000000\">x *= y</text>\n",
       "</a>\n",
       "</g>\n",
       "</g>\n",
       "<!-- x_functionmul_withat0x7fe245d7eea0_1&#45;&gt;x_functionmul_withat0x7fe245d7eea0_2 -->\n",
       "<g id=\"edge6\" class=\"edge\">\n",
       "<title>x_functionmul_withat0x7fe245d7eea0_1&#45;&gt;x_functionmul_withat0x7fe245d7eea0_2</title>\n",
       "<path fill=\"none\" stroke=\"#000000\" d=\"M162.1464,-227.9325C202.7291,-214.1633 255.3246,-196.3184 290.0652,-184.5314\"/>\n",
       "<polygon fill=\"#000000\" stroke=\"#000000\" points=\"291.4573,-187.7552 299.8025,-181.2277 289.2082,-181.1263 291.4573,-187.7552\"/>\n",
       "</g>\n",
       "<!-- m_functionadd_toat0x7fe245d7e400_1 -->\n",
       "<g id=\"node4\" class=\"node\">\n",
       "<title>m_functionadd_toat0x7fe245d7e400_1</title>\n",
       "<g id=\"a_node4\"><a xlink:title=\"add_to:1\">\n",
       "<polygon fill=\"#ffdab9\" stroke=\"#000000\" points=\"211.5,-496 16.5,-496 16.5,-456 211.5,-456 211.5,-496\"/>\n",
       "<text text-anchor=\"start\" x=\"109.5\" y=\"-481.8\" font-family=\"Fira Mono, Courier, monospace\" font-weight=\"bold\" font-size=\"14.00\" fill=\"#000000\">m</text>\n",
       "<text text-anchor=\"start\" x=\"24.5\" y=\"-462.8\" font-family=\"Fira Mono, Courier, monospace\" font-size=\"9.00\" fill=\"#000000\">def add_to(n, m): &#160;# type: ignore</text>\n",
       "</a>\n",
       "</g>\n",
       "</g>\n",
       "<!-- m_functionadd_toat0x7fe245d7e400_1&#45;&gt;n_functionadd_toat0x7fe245d7e400_2 -->\n",
       "<g id=\"edge8\" class=\"edge\">\n",
       "<title>m_functionadd_toat0x7fe245d7e400_1&#45;&gt;n_functionadd_toat0x7fe245d7e400_2</title>\n",
       "<path fill=\"none\" stroke=\"#000000\" d=\"M170.2419,-455.9325C208.1076,-442.4217 256.9715,-424.9867 290.0016,-413.2013\"/>\n",
       "<polygon fill=\"#000000\" stroke=\"#000000\" points=\"291.4721,-416.3928 299.7143,-409.7357 289.1197,-409.7999 291.4721,-416.3928\"/>\n",
       "</g>\n",
       "<!-- y_functionmul_withat0x7fe245d7eea0_1&#45;&gt;x_functionmul_withat0x7fe245d7eea0_2 -->\n",
       "<g id=\"edge5\" class=\"edge\">\n",
       "<title>y_functionmul_withat0x7fe245d7eea0_1&#45;&gt;x_functionmul_withat0x7fe245d7eea0_2</title>\n",
       "<path fill=\"none\" stroke=\"#000000\" d=\"M320.9426,-227.6334C320.2819,-219.8186 320.0939,-210.7253 320.3786,-202.183\"/>\n",
       "<polygon fill=\"#000000\" stroke=\"#000000\" points=\"323.875,-202.3453 320.9602,-192.1593 316.8867,-201.9397 323.875,-202.3453\"/>\n",
       "</g>\n",
       "<!-- y_functionmul_withat0x7fe245d7eea0_1&#45;&gt;x_functionmul_withat0x7fe245d7eea0_2 -->\n",
       "<!-- mul_withreturnvalue_functionmul_withat0x7fe245d7eea0_3 -->\n",
       "<g id=\"node6\" class=\"node\">\n",
       "<title>mul_withreturnvalue_functionmul_withat0x7fe245d7eea0_3</title>\n",
       "<g id=\"a_node6\"><a xlink:title=\"mul_with:3\">\n",
       "<polygon fill=\"#ffdab9\" stroke=\"#000000\" points=\"440.5,-116 213.5,-116 213.5,-76 440.5,-76 440.5,-116\"/>\n",
       "<text text-anchor=\"start\" x=\"221.5\" y=\"-101.8\" font-family=\"Fira Mono, Courier, monospace\" font-weight=\"bold\" font-style=\"italic\" font-size=\"14.00\" fill=\"#000000\">&lt;mul_with() return value&gt;</text>\n",
       "<text text-anchor=\"start\" x=\"305\" y=\"-82.8\" font-family=\"Fira Mono, Courier, monospace\" font-size=\"9.00\" fill=\"#000000\">return x</text>\n",
       "</a>\n",
       "</g>\n",
       "</g>\n",
       "<!-- test_mathreturnvalue_functiontest_mathat0x7fe246b78950_2 -->\n",
       "<g id=\"node8\" class=\"node\">\n",
       "<title>test_mathreturnvalue_functiontest_mathat0x7fe246b78950_2</title>\n",
       "<g id=\"a_node8\"><a xlink:title=\"test_math:2\">\n",
       "<polygon fill=\"#ffdab9\" stroke=\"#000000\" points=\"444.5,-40 209.5,-40 209.5,0 444.5,0 444.5,-40\"/>\n",
       "<text text-anchor=\"start\" x=\"217.5\" y=\"-25.8\" font-family=\"Fira Mono, Courier, monospace\" font-weight=\"bold\" font-style=\"italic\" font-size=\"14.00\" fill=\"#000000\">&lt;test_math() return value&gt;</text>\n",
       "<text text-anchor=\"start\" x=\"240.5\" y=\"-6.8\" font-family=\"Fira Mono, Courier, monospace\" font-size=\"9.00\" fill=\"#000000\">return mul_with(1, add_to(2, 3))</text>\n",
       "</a>\n",
       "</g>\n",
       "</g>\n",
       "<!-- mul_withreturnvalue_functionmul_withat0x7fe245d7eea0_3&#45;&gt;test_mathreturnvalue_functiontest_mathat0x7fe246b78950_2 -->\n",
       "<g id=\"edge4\" class=\"edge\">\n",
       "<title>mul_withreturnvalue_functionmul_withat0x7fe245d7eea0_3&#45;&gt;test_mathreturnvalue_functiontest_mathat0x7fe246b78950_2</title>\n",
       "<path fill=\"none\" stroke=\"#000000\" d=\"M327,-75.6334C327,-67.8186 327,-58.7253 327,-50.183\"/>\n",
       "<polygon fill=\"#000000\" stroke=\"#000000\" points=\"330.5001,-50.1593 327,-40.1593 323.5001,-50.1593 330.5001,-50.1593\"/>\n",
       "</g>\n",
       "<!-- x_functionmul_withat0x7fe245d7eea0_2&#45;&gt;mul_withreturnvalue_functionmul_withat0x7fe245d7eea0_3 -->\n",
       "<g id=\"edge3\" class=\"edge\">\n",
       "<title>x_functionmul_withat0x7fe245d7eea0_2&#45;&gt;mul_withreturnvalue_functionmul_withat0x7fe245d7eea0_3</title>\n",
       "<path fill=\"none\" stroke=\"#000000\" d=\"M320.9426,-151.6334C320.2819,-143.8186 320.0939,-134.7253 320.3786,-126.183\"/>\n",
       "<polygon fill=\"#000000\" stroke=\"#000000\" points=\"323.875,-126.3453 320.9602,-116.1593 316.8867,-125.9397 323.875,-126.3453\"/>\n",
       "</g>\n",
       "<!-- x_functionmul_withat0x7fe245d7eea0_2&#45;&gt;mul_withreturnvalue_functionmul_withat0x7fe245d7eea0_3 -->\n",
       "<!-- n_functionadd_toat0x7fe245d7e400_1 -->\n",
       "<g id=\"node9\" class=\"node\">\n",
       "<title>n_functionadd_toat0x7fe245d7e400_1</title>\n",
       "<g id=\"a_node9\"><a xlink:title=\"add_to:1\">\n",
       "<polygon fill=\"#ffdab9\" stroke=\"#000000\" points=\"424.5,-496 229.5,-496 229.5,-456 424.5,-456 424.5,-496\"/>\n",
       "<text text-anchor=\"start\" x=\"322.5\" y=\"-481.8\" font-family=\"Fira Mono, Courier, monospace\" font-weight=\"bold\" font-size=\"14.00\" fill=\"#000000\">n</text>\n",
       "<text text-anchor=\"start\" x=\"237.5\" y=\"-462.8\" font-family=\"Fira Mono, Courier, monospace\" font-size=\"9.00\" fill=\"#000000\">def add_to(n, m): &#160;# type: ignore</text>\n",
       "</a>\n",
       "</g>\n",
       "</g>\n",
       "<!-- n_functionadd_toat0x7fe245d7e400_1&#45;&gt;n_functionadd_toat0x7fe245d7e400_2 -->\n",
       "<g id=\"edge7\" class=\"edge\">\n",
       "<title>n_functionadd_toat0x7fe245d7e400_1&#45;&gt;n_functionadd_toat0x7fe245d7e400_2</title>\n",
       "<path fill=\"none\" stroke=\"#000000\" d=\"M320.9426,-455.6334C320.2819,-447.8186 320.0939,-438.7253 320.3786,-430.183\"/>\n",
       "<polygon fill=\"#000000\" stroke=\"#000000\" points=\"323.875,-430.3453 320.9602,-420.1593 316.8867,-429.9397 323.875,-430.3453\"/>\n",
       "</g>\n",
       "<!-- n_functionadd_toat0x7fe245d7e400_1&#45;&gt;n_functionadd_toat0x7fe245d7e400_2 -->\n",
       "</g>\n",
       "</svg>\n"
      ],
      "text/plain": [
       "<__main__.Slicer at 0x7fe2462758d0>"
      ]
     },
     "execution_count": 1,
     "metadata": {},
     "output_type": "execute_result"
    }
   ],
   "source": [
    "math_slicer"
   ]
  },
  {
   "cell_type": "markdown",
   "metadata": {
    "slideshow": {
     "slide_type": "fragment"
    }
   },
   "source": [
    "These are also reflected in the code view:"
   ]
  },
  {
   "cell_type": "code",
   "execution_count": 218,
   "metadata": {
    "execution": {
     "iopub.execute_input": "2021-05-11T17:08:09.572033Z",
     "iopub.status.busy": "2021-05-11T17:08:09.571342Z",
     "iopub.status.idle": "2021-05-11T17:08:09.617587Z",
     "shell.execute_reply": "2021-05-11T17:08:09.617971Z"
    },
    "slideshow": {
     "slide_type": "subslide"
    }
   },
   "outputs": [
    {
     "name": "stdout",
     "output_type": "stream",
     "text": [
      "     1 \u001b[34mdef\u001b[39;49;00m \u001b[32mtest_math\u001b[39;49;00m() -> \u001b[34mNone\u001b[39;49;00m:\n",
      "*    2     \u001b[34mreturn\u001b[39;49;00m mul_with(\u001b[34m1\u001b[39;49;00m, add_to(\u001b[34m2\u001b[39;49;00m, \u001b[34m3\u001b[39;49;00m))  \u001b[37m# <= <mul_with() return value> (mul_with:3)\u001b[39;49;00m\n",
      "\n",
      "*    1 \u001b[34mdef\u001b[39;49;00m \u001b[32madd_to\u001b[39;49;00m(n, m):  \u001b[37m# type: ignore\u001b[39;49;00m\n",
      "*    2     n += m  \u001b[37m# <= n (1), m (1)\u001b[39;49;00m\n",
      "*    3     \u001b[34mreturn\u001b[39;49;00m n  \u001b[37m# <= n (2)\u001b[39;49;00m\n",
      "\n",
      "*    1 \u001b[34mdef\u001b[39;49;00m \u001b[32mmul_with\u001b[39;49;00m(x, y):  \u001b[37m# type: ignore  # <= <add_to() return value> (add_to:3)\u001b[39;49;00m\n",
      "*    2     x *= y  \u001b[37m# <= y (1), x (1)\u001b[39;49;00m\n",
      "*    3     \u001b[34mreturn\u001b[39;49;00m x  \u001b[37m# <= x (2)\u001b[39;49;00m\n"
     ]
    }
   ],
   "source": [
    "math_slicer.code()"
   ]
  },
  {
   "cell_type": "markdown",
   "metadata": {
    "slideshow": {
     "slide_type": "slide"
    }
   },
   "source": [
    "## Dynamic Instrumentation\n",
    "\n",
    "When initializing `Slicer()`, one has to provide the set of functions to be instrumented. This is because the instrumentation has to take place _before_ the code in the `with` block is executed. Can we determine this list on the fly – while `Slicer()` is executed? \n",
    "\n",
    "The answer is: Yes, but the solution is a bit hacky – even more so than what we have seen above. In essence, we proceed in two steps:\n",
    "\n",
    "1. When `DynamicSlicer.__init__()` is called:\n",
    "    * Use the `inspect` module to determine the source code of the call\n",
    "    * Analyze the enclosed `with` block for function calls\n",
    "    * Instrument these functions\n",
    "2. Whenever a function is about to be called (`DataTracker.call()`)\n",
    "    * Create an instrumented version of that function\n",
    "    * Have the `call()` method return the instrumented function instead"
   ]
  },
  {
   "cell_type": "markdown",
   "metadata": {
    "slideshow": {
     "slide_type": "subslide"
    }
   },
   "source": [
    "### Excursion: Implementing Dynamic Instrumentation"
   ]
  },
  {
   "cell_type": "markdown",
   "metadata": {
    "slideshow": {
     "slide_type": "fragment"
    }
   },
   "source": [
    "We start with the aim of determining the `with` block to which our slicer is applied. The `our_with_block()` method inspects the source code of the `Slicer()` caller, and returns the one `with` block (as an AST) whose source line is currently active."
   ]
  },
  {
   "cell_type": "code",
   "execution_count": 219,
   "metadata": {
    "execution": {
     "iopub.execute_input": "2021-05-11T17:08:09.623046Z",
     "iopub.status.busy": "2021-05-11T17:08:09.622211Z",
     "iopub.status.idle": "2021-05-11T17:08:09.624433Z",
     "shell.execute_reply": "2021-05-11T17:08:09.624876Z"
    },
    "slideshow": {
     "slide_type": "fragment"
    }
   },
   "outputs": [],
   "source": [
    "class WithVisitor(NodeVisitor):\n",
    "    def __init__(self) -> None:\n",
    "        self.withs: List[ast.With] = []\n",
    "    \n",
    "    def visit_With(self, node: ast.With) -> AST:\n",
    "        self.withs.append(node)\n",
    "        return self.generic_visit(node)"
   ]
  },
  {
   "cell_type": "code",
   "execution_count": 220,
   "metadata": {
    "execution": {
     "iopub.execute_input": "2021-05-11T17:08:09.631371Z",
     "iopub.status.busy": "2021-05-11T17:08:09.630487Z",
     "iopub.status.idle": "2021-05-11T17:08:09.632826Z",
     "shell.execute_reply": "2021-05-11T17:08:09.633288Z"
    },
    "slideshow": {
     "slide_type": "subslide"
    }
   },
   "outputs": [],
   "source": [
    "class Slicer(Slicer):\n",
    "    def our_with_block(self) -> ast.With:\n",
    "        \"\"\"Return the currently active `with` block.\"\"\"\n",
    "        frame = self.caller_frame()\n",
    "        source_lines, starting_lineno = inspect.getsourcelines(frame)\n",
    "        source_ast = ast.parse(''.join(source_lines))\n",
    "        wv = WithVisitor()\n",
    "        wv.visit(source_ast)\n",
    "        for with_ast in wv.withs:\n",
    "            if with_ast.lineno == frame.f_lineno:\n",
    "                return with_ast\n",
    "\n",
    "        raise ValueError(\"Cannot find with block\")"
   ]
  },
  {
   "cell_type": "markdown",
   "metadata": {
    "slideshow": {
     "slide_type": "fragment"
    }
   },
   "source": [
    "Within the `with` AST, we can identify all calls:"
   ]
  },
  {
   "cell_type": "code",
   "execution_count": 221,
   "metadata": {
    "execution": {
     "iopub.execute_input": "2021-05-11T17:08:09.638026Z",
     "iopub.status.busy": "2021-05-11T17:08:09.637483Z",
     "iopub.status.idle": "2021-05-11T17:08:09.639255Z",
     "shell.execute_reply": "2021-05-11T17:08:09.639771Z"
    },
    "slideshow": {
     "slide_type": "subslide"
    }
   },
   "outputs": [],
   "source": [
    "class CallCollector(NodeVisitor):\n",
    "    def __init__(self) -> None:\n",
    "        self.calls: Set[str] = set()\n",
    "\n",
    "    def visit_Call(self, node: ast.Call) -> AST:\n",
    "        caller_id = astor.to_source(node.func).strip()\n",
    "        self.calls.add(caller_id)\n",
    "        return self.generic_visit(node)"
   ]
  },
  {
   "cell_type": "code",
   "execution_count": 222,
   "metadata": {
    "execution": {
     "iopub.execute_input": "2021-05-11T17:08:09.644845Z",
     "iopub.status.busy": "2021-05-11T17:08:09.644219Z",
     "iopub.status.idle": "2021-05-11T17:08:09.645934Z",
     "shell.execute_reply": "2021-05-11T17:08:09.646372Z"
    },
    "slideshow": {
     "slide_type": "subslide"
    }
   },
   "outputs": [],
   "source": [
    "class Slicer(Slicer):\n",
    "    def calls_in_our_with_block(self) -> Set[str]:\n",
    "        \"\"\"Return a set of function names called in the `with` block.\"\"\"\n",
    "        block_ast = self.our_with_block()\n",
    "        cc = CallCollector()\n",
    "        for stmt in block_ast.body:\n",
    "            cc.visit(stmt)\n",
    "        return cc.calls"
   ]
  },
  {
   "cell_type": "markdown",
   "metadata": {
    "slideshow": {
     "slide_type": "fragment"
    }
   },
   "source": [
    "The method `funcs_in_our_with_block()` finally returns a list of all functions used in the `with` block. This is the list of functions we will instrument upfront."
   ]
  },
  {
   "cell_type": "code",
   "execution_count": 223,
   "metadata": {
    "execution": {
     "iopub.execute_input": "2021-05-11T17:08:09.651896Z",
     "iopub.status.busy": "2021-05-11T17:08:09.651137Z",
     "iopub.status.idle": "2021-05-11T17:08:09.652794Z",
     "shell.execute_reply": "2021-05-11T17:08:09.653246Z"
    },
    "slideshow": {
     "slide_type": "subslide"
    }
   },
   "outputs": [],
   "source": [
    "class Slicer(Slicer):\n",
    "    def funcs_in_our_with_block(self) -> List[Callable]:\n",
    "        funcs = []\n",
    "        for id in self.calls_in_our_with_block():\n",
    "            func = self.search_func(id)\n",
    "            if func:\n",
    "                funcs.append(func)\n",
    "\n",
    "        return funcs"
   ]
  },
  {
   "cell_type": "markdown",
   "metadata": {
    "slideshow": {
     "slide_type": "subslide"
    }
   },
   "source": [
    "The method `default_items_to_instrument()` is already provided for dynamic instrumentation – it is invoked whenever no list of functions to instrument is provided. So we have it return the list of functions as computed above.\n",
    "\n",
    "However, `default_items_to_instrument()` does one more thing: Using the (also provided) `instrument_call()` hook in our dependency tracker, we ensure that all (later) calls are redirected to instrumented functions! This way, if further functions are called, these will be instrumented on the fly."
   ]
  },
  {
   "cell_type": "code",
   "execution_count": 224,
   "metadata": {
    "execution": {
     "iopub.execute_input": "2021-05-11T17:08:09.657658Z",
     "iopub.status.busy": "2021-05-11T17:08:09.656975Z",
     "iopub.status.idle": "2021-05-11T17:08:09.659100Z",
     "shell.execute_reply": "2021-05-11T17:08:09.659567Z"
    },
    "slideshow": {
     "slide_type": "subslide"
    }
   },
   "outputs": [],
   "source": [
    "class Slicer(Slicer):\n",
    "    def default_items_to_instrument(self) -> List[Callable]:\n",
    "        # In _data.call(), return instrumented function\n",
    "        self.dependency_tracker.instrument_call = self.instrument  # type: ignore\n",
    "\n",
    "        # Start instrumenting the functions in our `with` block\n",
    "        return self.funcs_in_our_with_block()"
   ]
  },
  {
   "cell_type": "markdown",
   "metadata": {
    "slideshow": {
     "slide_type": "subslide"
    }
   },
   "source": [
    "### End of Excursion"
   ]
  },
  {
   "cell_type": "markdown",
   "metadata": {
    "slideshow": {
     "slide_type": "fragment"
    }
   },
   "source": [
    "Both these hacks are effective, as shown in the following example. We use the `Slicer()` constructor without arguments; it automatically identifies `fun_2()` as a function in the `with` block. As the instrumented `fun2()` is invoked, its `_data.call()` method instruments the call to `fun_1()` (and ensures the instrumented version is called)."
   ]
  },
  {
   "cell_type": "code",
   "execution_count": 225,
   "metadata": {
    "execution": {
     "iopub.execute_input": "2021-05-11T17:08:09.663177Z",
     "iopub.status.busy": "2021-05-11T17:08:09.662504Z",
     "iopub.status.idle": "2021-05-11T17:08:09.664285Z",
     "shell.execute_reply": "2021-05-11T17:08:09.664888Z"
    },
    "slideshow": {
     "slide_type": "fragment"
    }
   },
   "outputs": [],
   "source": [
    "def fun_1(x: int) -> int:\n",
    "    return x"
   ]
  },
  {
   "cell_type": "code",
   "execution_count": 226,
   "metadata": {
    "execution": {
     "iopub.execute_input": "2021-05-11T17:08:09.668621Z",
     "iopub.status.busy": "2021-05-11T17:08:09.667901Z",
     "iopub.status.idle": "2021-05-11T17:08:09.669595Z",
     "shell.execute_reply": "2021-05-11T17:08:09.670060Z"
    },
    "slideshow": {
     "slide_type": "fragment"
    }
   },
   "outputs": [],
   "source": [
    "def fun_2(x: int) -> int:\n",
    "    return fun_1(x)"
   ]
  },
  {
   "cell_type": "code",
   "execution_count": 227,
   "metadata": {
    "execution": {
     "iopub.execute_input": "2021-05-11T17:08:09.674509Z",
     "iopub.status.busy": "2021-05-11T17:08:09.673659Z",
     "iopub.status.idle": "2021-05-11T17:08:09.699163Z",
     "shell.execute_reply": "2021-05-11T17:08:09.699651Z"
    },
    "slideshow": {
     "slide_type": "subslide"
    }
   },
   "outputs": [
    {
     "name": "stdout",
     "output_type": "stream",
     "text": [
      "Instrumenting <function fun_2 at 0x7fe246b78730>\n",
      "\u001b[34mdef\u001b[39;49;00m \u001b[32mfun_2\u001b[39;49;00m(x: \u001b[36mint\u001b[39;49;00m) ->\u001b[36mint\u001b[39;49;00m:\n",
      "    _data.param(\u001b[33m'\u001b[39;49;00m\u001b[33mx\u001b[39;49;00m\u001b[33m'\u001b[39;49;00m, x, pos=\u001b[34m1\u001b[39;49;00m, last=\u001b[34mTrue\u001b[39;49;00m)\n",
      "    \u001b[34mreturn\u001b[39;49;00m _data.set(\u001b[33m'\u001b[39;49;00m\u001b[33m<fun_2() return value>\u001b[39;49;00m\u001b[33m'\u001b[39;49;00m, _data.ret(_data.call(_data.\n",
      "        get(\u001b[33m'\u001b[39;49;00m\u001b[33mfun_1\u001b[39;49;00m\u001b[33m'\u001b[39;49;00m, fun_1))(_data.arg(_data.get(\u001b[33m'\u001b[39;49;00m\u001b[33mx\u001b[39;49;00m\u001b[33m'\u001b[39;49;00m, x), pos=\u001b[34m1\u001b[39;49;00m))))\n",
      "\n",
      "Instrumenting <function fun_1 at 0x7fe246b78d08>\n",
      "\u001b[34mdef\u001b[39;49;00m \u001b[32mfun_1\u001b[39;49;00m(x: \u001b[36mint\u001b[39;49;00m) ->\u001b[36mint\u001b[39;49;00m:\n",
      "    _data.param(\u001b[33m'\u001b[39;49;00m\u001b[33mx\u001b[39;49;00m\u001b[33m'\u001b[39;49;00m, x, pos=\u001b[34m1\u001b[39;49;00m, last=\u001b[34mTrue\u001b[39;49;00m)\n",
      "    \u001b[34mreturn\u001b[39;49;00m _data.set(\u001b[33m'\u001b[39;49;00m\u001b[33m<fun_1() return value>\u001b[39;49;00m\u001b[33m'\u001b[39;49;00m, _data.get(\u001b[33m'\u001b[39;49;00m\u001b[33mx\u001b[39;49;00m\u001b[33m'\u001b[39;49;00m, x))\n",
      "\n"
     ]
    }
   ],
   "source": [
    "with Slicer(log=True) as slicer:\n",
    "    fun_2(10)"
   ]
  },
  {
   "cell_type": "code",
   "execution_count": 228,
   "metadata": {
    "execution": {
     "iopub.execute_input": "2021-05-11T17:08:09.705380Z",
     "iopub.status.busy": "2021-05-11T17:08:09.704711Z",
     "iopub.status.idle": "2021-05-11T17:08:10.559889Z",
     "shell.execute_reply": "2021-05-11T17:08:10.560414Z"
    },
    "slideshow": {
     "slide_type": "subslide"
    }
   },
   "outputs": [
    {
     "data": {
      "image/svg+xml": [
       "<?xml version=\"1.0\" encoding=\"UTF-8\" standalone=\"no\"?>\n",
       "<!DOCTYPE svg PUBLIC \"-//W3C//DTD SVG 1.1//EN\"\n",
       " \"http://www.w3.org/Graphics/SVG/1.1/DTD/svg11.dtd\">\n",
       "<!-- Generated by graphviz version 2.40.1 (20161225.0304)\n",
       " -->\n",
       "<!-- Title: dependencies Pages: 1 -->\n",
       "<svg width=\"273pt\" height=\"276pt\"\n",
       " viewBox=\"0.00 0.00 273.00 276.00\" xmlns=\"http://www.w3.org/2000/svg\" xmlns:xlink=\"http://www.w3.org/1999/xlink\">\n",
       "<g id=\"graph0\" class=\"graph\" transform=\"scale(1 1) rotate(0) translate(4 272)\">\n",
       "<title>dependencies</title>\n",
       "<polygon fill=\"#ffffff\" stroke=\"transparent\" points=\"-4,4 -4,-272 269,-272 269,4 -4,4\"/>\n",
       "<!-- fun_1returnvalue_functionfun_1at0x7fe245e32510_2 -->\n",
       "<g id=\"node1\" class=\"node\">\n",
       "<title>fun_1returnvalue_functionfun_1at0x7fe245e32510_2</title>\n",
       "<g id=\"a_node1\"><a xlink:title=\"fun_1:2\">\n",
       "<polygon fill=\"#ffdab9\" stroke=\"#000000\" points=\"201,-116 0,-116 0,-76 201,-76 201,-116\"/>\n",
       "<text text-anchor=\"start\" x=\"8\" y=\"-101.8\" font-family=\"Fira Mono, Courier, monospace\" font-weight=\"bold\" font-style=\"italic\" font-size=\"14.00\" fill=\"#000000\">&lt;fun_1() return value&gt;</text>\n",
       "<text text-anchor=\"start\" x=\"78.5\" y=\"-82.8\" font-family=\"Fira Mono, Courier, monospace\" font-size=\"9.00\" fill=\"#000000\">return x</text>\n",
       "</a>\n",
       "</g>\n",
       "</g>\n",
       "<!-- fun_2returnvalue_functionfun_2at0x7fe245d7e1e0_2 -->\n",
       "<g id=\"node4\" class=\"node\">\n",
       "<title>fun_2returnvalue_functionfun_2at0x7fe245d7e1e0_2</title>\n",
       "<g id=\"a_node4\"><a xlink:title=\"fun_2:2\">\n",
       "<polygon fill=\"#ffdab9\" stroke=\"#000000\" points=\"265,-40 64,-40 64,0 265,0 265,-40\"/>\n",
       "<text text-anchor=\"start\" x=\"72\" y=\"-25.8\" font-family=\"Fira Mono, Courier, monospace\" font-weight=\"bold\" font-style=\"italic\" font-size=\"14.00\" fill=\"#000000\">&lt;fun_2() return value&gt;</text>\n",
       "<text text-anchor=\"start\" x=\"123.5\" y=\"-6.8\" font-family=\"Fira Mono, Courier, monospace\" font-size=\"9.00\" fill=\"#000000\">return fun_1(x)</text>\n",
       "</a>\n",
       "</g>\n",
       "</g>\n",
       "<!-- fun_1returnvalue_functionfun_1at0x7fe245e32510_2&#45;&gt;fun_2returnvalue_functionfun_2at0x7fe245d7e1e0_2 -->\n",
       "<g id=\"edge3\" class=\"edge\">\n",
       "<title>fun_1returnvalue_functionfun_1at0x7fe245e32510_2&#45;&gt;fun_2returnvalue_functionfun_2at0x7fe245d7e1e0_2</title>\n",
       "<path fill=\"none\" stroke=\"#000000\" d=\"M117.6508,-75.6334C124.8102,-67.1316 133.2439,-57.1167 140.9682,-47.944\"/>\n",
       "<polygon fill=\"#000000\" stroke=\"#000000\" points=\"143.7596,-50.0629 147.5238,-40.1593 138.4052,-45.5539 143.7596,-50.0629\"/>\n",
       "</g>\n",
       "<!-- x_functionfun_1at0x7fe245e32510_1 -->\n",
       "<g id=\"node2\" class=\"node\">\n",
       "<title>x_functionfun_1at0x7fe245e32510_1</title>\n",
       "<g id=\"a_node2\"><a xlink:title=\"fun_1:1\">\n",
       "<polygon fill=\"#ffdab9\" stroke=\"#000000\" points=\"176.5,-192 24.5,-192 24.5,-152 176.5,-152 176.5,-192\"/>\n",
       "<text text-anchor=\"start\" x=\"96\" y=\"-177.8\" font-family=\"Fira Mono, Courier, monospace\" font-weight=\"bold\" font-size=\"14.00\" fill=\"#000000\">x</text>\n",
       "<text text-anchor=\"start\" x=\"32.5\" y=\"-158.8\" font-family=\"Fira Mono, Courier, monospace\" font-size=\"9.00\" fill=\"#000000\">def fun_1(x: int) &#45;&gt; int:</text>\n",
       "</a>\n",
       "</g>\n",
       "</g>\n",
       "<!-- x_functionfun_1at0x7fe245e32510_1&#45;&gt;fun_1returnvalue_functionfun_1at0x7fe245e32510_2 -->\n",
       "<g id=\"edge1\" class=\"edge\">\n",
       "<title>x_functionfun_1at0x7fe245e32510_1&#45;&gt;fun_1returnvalue_functionfun_1at0x7fe245e32510_2</title>\n",
       "<path fill=\"none\" stroke=\"#000000\" d=\"M94.4426,-151.6334C93.7819,-143.8186 93.5939,-134.7253 93.8786,-126.183\"/>\n",
       "<polygon fill=\"#000000\" stroke=\"#000000\" points=\"97.375,-126.3453 94.4602,-116.1593 90.3867,-125.9397 97.375,-126.3453\"/>\n",
       "</g>\n",
       "<!-- x_functionfun_1at0x7fe245e32510_1&#45;&gt;fun_1returnvalue_functionfun_1at0x7fe245e32510_2 -->\n",
       "<!-- x_functionfun_2at0x7fe245d7e1e0_1 -->\n",
       "<g id=\"node3\" class=\"node\">\n",
       "<title>x_functionfun_2at0x7fe245d7e1e0_1</title>\n",
       "<g id=\"a_node3\"><a xlink:title=\"fun_2:1\">\n",
       "<polygon fill=\"#ffdab9\" stroke=\"#000000\" points=\"240.5,-268 88.5,-268 88.5,-228 240.5,-228 240.5,-268\"/>\n",
       "<text text-anchor=\"start\" x=\"160\" y=\"-253.8\" font-family=\"Fira Mono, Courier, monospace\" font-weight=\"bold\" font-size=\"14.00\" fill=\"#000000\">x</text>\n",
       "<text text-anchor=\"start\" x=\"96.5\" y=\"-234.8\" font-family=\"Fira Mono, Courier, monospace\" font-size=\"9.00\" fill=\"#000000\">def fun_2(x: int) &#45;&gt; int:</text>\n",
       "</a>\n",
       "</g>\n",
       "</g>\n",
       "<!-- x_functionfun_2at0x7fe245d7e1e0_1&#45;&gt;x_functionfun_1at0x7fe245e32510_1 -->\n",
       "<g id=\"edge2\" class=\"edge\">\n",
       "<title>x_functionfun_2at0x7fe245d7e1e0_1&#45;&gt;x_functionfun_1at0x7fe245e32510_1</title>\n",
       "<path fill=\"none\" stroke=\"#000000\" d=\"M147.3492,-227.6334C140.1898,-219.1316 131.7561,-209.1167 124.0318,-199.944\"/>\n",
       "<polygon fill=\"#000000\" stroke=\"#000000\" points=\"126.5948,-197.5539 117.4762,-192.1593 121.2404,-202.0629 126.5948,-197.5539\"/>\n",
       "</g>\n",
       "<!-- x_functionfun_2at0x7fe245d7e1e0_1&#45;&gt;fun_2returnvalue_functionfun_2at0x7fe245d7e1e0_2 -->\n",
       "</g>\n",
       "</svg>\n"
      ],
      "text/plain": [
       "<__main__.Slicer at 0x7fe245cfff98>"
      ]
     },
     "execution_count": 1,
     "metadata": {},
     "output_type": "execute_result"
    }
   ],
   "source": [
    "slicer"
   ]
  },
  {
   "cell_type": "markdown",
   "metadata": {
    "slideshow": {
     "slide_type": "slide"
    }
   },
   "source": [
    "## More Applications\n",
    "\n",
    "The main use of dynamic slices is for _debugging tools_, where they show the origins of individual values. However, beyond facilitating debugging, tracking information flows has a number of additional applications, some of which we briefly sketch here."
   ]
  },
  {
   "cell_type": "markdown",
   "metadata": {
    "slideshow": {
     "slide_type": "subslide"
    }
   },
   "source": [
    "### Verifying Information Flows\n",
    "\n",
    "Using dynamic slices, we can check all the locations where (potentially sensitive) information is used. As an example, consider the following function `password_checker()`, which requests a password from the user and returns `True` if it is the correct one:"
   ]
  },
  {
   "cell_type": "code",
   "execution_count": 229,
   "metadata": {
    "execution": {
     "iopub.execute_input": "2021-05-11T17:08:10.564960Z",
     "iopub.status.busy": "2021-05-11T17:08:10.564026Z",
     "iopub.status.idle": "2021-05-11T17:08:10.566429Z",
     "shell.execute_reply": "2021-05-11T17:08:10.565987Z"
    },
    "slideshow": {
     "slide_type": "skip"
    }
   },
   "outputs": [],
   "source": [
    "import hashlib"
   ]
  },
  {
   "cell_type": "code",
   "execution_count": 230,
   "metadata": {
    "execution": {
     "iopub.execute_input": "2021-05-11T17:08:10.570028Z",
     "iopub.status.busy": "2021-05-11T17:08:10.569349Z",
     "iopub.status.idle": "2021-05-11T17:08:10.571648Z",
     "shell.execute_reply": "2021-05-11T17:08:10.572171Z"
    },
    "slideshow": {
     "slide_type": "skip"
    }
   },
   "outputs": [],
   "source": [
    "from bookutils import input, next_inputs"
   ]
  },
  {
   "cell_type": "code",
   "execution_count": 231,
   "metadata": {
    "execution": {
     "iopub.execute_input": "2021-05-11T17:08:10.576192Z",
     "iopub.status.busy": "2021-05-11T17:08:10.575285Z",
     "iopub.status.idle": "2021-05-11T17:08:10.577130Z",
     "shell.execute_reply": "2021-05-11T17:08:10.577616Z"
    },
    "slideshow": {
     "slide_type": "fragment"
    }
   },
   "outputs": [],
   "source": [
    "SECRET_HASH_DIGEST = '59f2da35bcc39525b87932b4cc1f3d68'"
   ]
  },
  {
   "cell_type": "code",
   "execution_count": 232,
   "metadata": {
    "execution": {
     "iopub.execute_input": "2021-05-11T17:08:10.583194Z",
     "iopub.status.busy": "2021-05-11T17:08:10.582436Z",
     "iopub.status.idle": "2021-05-11T17:08:10.584192Z",
     "shell.execute_reply": "2021-05-11T17:08:10.584622Z"
    },
    "slideshow": {
     "slide_type": "subslide"
    }
   },
   "outputs": [],
   "source": [
    "def password_checker() -> bool:\n",
    "    \"\"\"Request a password. Return True if correct.\"\"\"\n",
    "    secret_password = input(\"Enter secret password: \")\n",
    "    password_digest = hashlib.md5(secret_password.encode('utf-8')).hexdigest()\n",
    "\n",
    "    if password_digest == SECRET_HASH_DIGEST:\n",
    "        return True\n",
    "    else:\n",
    "        return False"
   ]
  },
  {
   "cell_type": "markdown",
   "metadata": {
    "slideshow": {
     "slide_type": "fragment"
    }
   },
   "source": [
    "(Note that this is a very naive implementation: A true password checker would use the Python `getpass` module to read in a password without echoing it in the clear, and possibly also use a more sophisticated hash function than `md5`.)"
   ]
  },
  {
   "cell_type": "markdown",
   "metadata": {
    "slideshow": {
     "slide_type": "subslide"
    }
   },
   "source": [
    "From a security perspective, the interesting question we can ask using slicing is: _Is the entered password stored in the clear somewhere_? For this, we can simply run our slicer to see where the inputs are going:"
   ]
  },
  {
   "cell_type": "code",
   "execution_count": 233,
   "metadata": {
    "execution": {
     "iopub.execute_input": "2021-05-11T17:08:10.588966Z",
     "iopub.status.busy": "2021-05-11T17:08:10.588188Z",
     "iopub.status.idle": "2021-05-11T17:08:10.591050Z",
     "shell.execute_reply": "2021-05-11T17:08:10.591933Z"
    },
    "slideshow": {
     "slide_type": "fragment"
    }
   },
   "outputs": [
    {
     "data": {
      "text/plain": [
       "['secret123']"
      ]
     },
     "execution_count": 1,
     "metadata": {},
     "output_type": "execute_result"
    }
   ],
   "source": [
    "# ignore\n",
    "next_inputs(['secret123'])"
   ]
  },
  {
   "cell_type": "code",
   "execution_count": 234,
   "metadata": {
    "execution": {
     "iopub.execute_input": "2021-05-11T17:08:10.595806Z",
     "iopub.status.busy": "2021-05-11T17:08:10.595136Z",
     "iopub.status.idle": "2021-05-11T17:08:10.610418Z",
     "shell.execute_reply": "2021-05-11T17:08:10.610878Z"
    },
    "slideshow": {
     "slide_type": "fragment"
    }
   },
   "outputs": [
    {
     "data": {
      "text/html": [
       "<samp>Enter secret password: <b>secret123</b></samp>"
      ],
      "text/plain": [
       "<IPython.core.display.HTML object>"
      ]
     },
     "metadata": {},
     "output_type": "display_data"
    }
   ],
   "source": [
    "with Slicer() as slicer:\n",
    "    valid_pwd = password_checker()"
   ]
  },
  {
   "cell_type": "code",
   "execution_count": 235,
   "metadata": {
    "execution": {
     "iopub.execute_input": "2021-05-11T17:08:10.615264Z",
     "iopub.status.busy": "2021-05-11T17:08:10.614450Z",
     "iopub.status.idle": "2021-05-11T17:08:11.463990Z",
     "shell.execute_reply": "2021-05-11T17:08:11.465114Z"
    },
    "slideshow": {
     "slide_type": "fragment"
    }
   },
   "outputs": [
    {
     "data": {
      "image/svg+xml": [
       "<?xml version=\"1.0\" encoding=\"UTF-8\" standalone=\"no\"?>\n",
       "<!DOCTYPE svg PUBLIC \"-//W3C//DTD SVG 1.1//EN\"\n",
       " \"http://www.w3.org/Graphics/SVG/1.1/DTD/svg11.dtd\">\n",
       "<!-- Generated by graphviz version 2.40.1 (20161225.0304)\n",
       " -->\n",
       "<!-- Title: dependencies Pages: 1 -->\n",
       "<svg width=\"424pt\" height=\"276pt\"\n",
       " viewBox=\"0.00 0.00 424.00 276.00\" xmlns=\"http://www.w3.org/2000/svg\" xmlns:xlink=\"http://www.w3.org/1999/xlink\">\n",
       "<g id=\"graph0\" class=\"graph\" transform=\"scale(1 1) rotate(0) translate(4 272)\">\n",
       "<title>dependencies</title>\n",
       "<polygon fill=\"#ffffff\" stroke=\"transparent\" points=\"-4,4 -4,-272 420,-272 420,4 -4,4\"/>\n",
       "<!-- password_checkerreturnvalue_functionpassword_checkerat0x7fe245e328c8_9 -->\n",
       "<g id=\"node1\" class=\"node\">\n",
       "<title>password_checkerreturnvalue_functionpassword_checkerat0x7fe245e328c8_9</title>\n",
       "<g id=\"a_node1\"><a xlink:title=\"password_checker:9\">\n",
       "<polygon fill=\"#ffdab9\" stroke=\"#000000\" points=\"355,-40 61,-40 61,0 355,0 355,-40\"/>\n",
       "<text text-anchor=\"start\" x=\"69\" y=\"-25.8\" font-family=\"Fira Mono, Courier, monospace\" font-weight=\"bold\" font-style=\"italic\" font-size=\"14.00\" fill=\"#000000\">&lt;password_checker() return value&gt;</text>\n",
       "<text text-anchor=\"start\" x=\"175.5\" y=\"-6.8\" font-family=\"Fira Mono, Courier, monospace\" font-size=\"9.00\" fill=\"#000000\">return False</text>\n",
       "</a>\n",
       "</g>\n",
       "</g>\n",
       "<!-- test_functionpassword_checkerat0x7fe245e328c8_6 -->\n",
       "<g id=\"node2\" class=\"node\">\n",
       "<title>test_functionpassword_checkerat0x7fe245e328c8_6</title>\n",
       "<g id=\"a_node2\"><a xlink:title=\"password_checker:6\">\n",
       "<polygon fill=\"#ffdab9\" stroke=\"#000000\" points=\"327,-116 89,-116 89,-76 327,-76 327,-116\"/>\n",
       "<text text-anchor=\"start\" x=\"182.5\" y=\"-101.8\" font-family=\"Fira Mono, Courier, monospace\" font-weight=\"bold\" font-style=\"italic\" font-size=\"14.00\" fill=\"#000000\">&lt;test&gt;</text>\n",
       "<text text-anchor=\"start\" x=\"97\" y=\"-82.8\" font-family=\"Fira Mono, Courier, monospace\" font-size=\"9.00\" fill=\"#000000\">if password_digest == SECRET_HASH_DIGEST:</text>\n",
       "</a>\n",
       "</g>\n",
       "</g>\n",
       "<!-- test_functionpassword_checkerat0x7fe245e328c8_6&#45;&gt;password_checkerreturnvalue_functionpassword_checkerat0x7fe245e328c8_9 -->\n",
       "<g id=\"edge1\" class=\"edge\">\n",
       "<title>test_functionpassword_checkerat0x7fe245e328c8_6&#45;&gt;password_checkerreturnvalue_functionpassword_checkerat0x7fe245e328c8_9</title>\n",
       "<path fill=\"none\" stroke=\"#c0c0c0\" stroke-dasharray=\"5,2\" d=\"M201.9426,-75.6334C201.2819,-67.8186 201.0939,-58.7253 201.3786,-50.183\"/>\n",
       "<polygon fill=\"#c0c0c0\" stroke=\"#c0c0c0\" points=\"204.875,-50.3453 201.9602,-40.1593 197.8867,-49.9397 204.875,-50.3453\"/>\n",
       "</g>\n",
       "<!-- test_functionpassword_checkerat0x7fe245e328c8_6&#45;&gt;password_checkerreturnvalue_functionpassword_checkerat0x7fe245e328c8_9 -->\n",
       "<!-- secret_password_functionpassword_checkerat0x7fe245e328c8_3 -->\n",
       "<g id=\"node3\" class=\"node\">\n",
       "<title>secret_password_functionpassword_checkerat0x7fe245e328c8_3</title>\n",
       "<g id=\"a_node3\"><a xlink:title=\"password_checker:3\">\n",
       "<polygon fill=\"#ffdab9\" stroke=\"#000000\" points=\"351.5,-268 64.5,-268 64.5,-228 351.5,-228 351.5,-268\"/>\n",
       "<text text-anchor=\"start\" x=\"144.5\" y=\"-253.8\" font-family=\"Fira Mono, Courier, monospace\" font-weight=\"bold\" font-size=\"14.00\" fill=\"#000000\">secret_password</text>\n",
       "<text text-anchor=\"start\" x=\"72.5\" y=\"-234.8\" font-family=\"Fira Mono, Courier, monospace\" font-size=\"9.00\" fill=\"#000000\">secret_password = input(&quot;Enter secret password: &quot;)</text>\n",
       "</a>\n",
       "</g>\n",
       "</g>\n",
       "<!-- password_digest_functionpassword_checkerat0x7fe245e328c8_4 -->\n",
       "<g id=\"node4\" class=\"node\">\n",
       "<title>password_digest_functionpassword_checkerat0x7fe245e328c8_4</title>\n",
       "<g id=\"a_node4\"><a xlink:title=\"password_checker:4\">\n",
       "<polygon fill=\"#ffdab9\" stroke=\"#000000\" points=\"416,-192 0,-192 0,-152 416,-152 416,-192\"/>\n",
       "<text text-anchor=\"start\" x=\"144.5\" y=\"-177.8\" font-family=\"Fira Mono, Courier, monospace\" font-weight=\"bold\" font-size=\"14.00\" fill=\"#000000\">password_digest</text>\n",
       "<text text-anchor=\"start\" x=\"8\" y=\"-158.8\" font-family=\"Fira Mono, Courier, monospace\" font-size=\"9.00\" fill=\"#000000\">password_digest = hashlib.md5(secret_password.encode(&#39;utf&#45;8&#39;)).hexdigest()</text>\n",
       "</a>\n",
       "</g>\n",
       "</g>\n",
       "<!-- secret_password_functionpassword_checkerat0x7fe245e328c8_3&#45;&gt;password_digest_functionpassword_checkerat0x7fe245e328c8_4 -->\n",
       "<g id=\"edge3\" class=\"edge\">\n",
       "<title>secret_password_functionpassword_checkerat0x7fe245e328c8_3&#45;&gt;password_digest_functionpassword_checkerat0x7fe245e328c8_4</title>\n",
       "<path fill=\"none\" stroke=\"#000000\" d=\"M201.9426,-227.6334C201.2819,-219.8186 201.0939,-210.7253 201.3786,-202.183\"/>\n",
       "<polygon fill=\"#000000\" stroke=\"#000000\" points=\"204.875,-202.3453 201.9602,-192.1593 197.8867,-201.9397 204.875,-202.3453\"/>\n",
       "</g>\n",
       "<!-- secret_password_functionpassword_checkerat0x7fe245e328c8_3&#45;&gt;password_digest_functionpassword_checkerat0x7fe245e328c8_4 -->\n",
       "<!-- password_digest_functionpassword_checkerat0x7fe245e328c8_4&#45;&gt;test_functionpassword_checkerat0x7fe245e328c8_6 -->\n",
       "<g id=\"edge2\" class=\"edge\">\n",
       "<title>password_digest_functionpassword_checkerat0x7fe245e328c8_4&#45;&gt;test_functionpassword_checkerat0x7fe245e328c8_6</title>\n",
       "<path fill=\"none\" stroke=\"#000000\" d=\"M201.9426,-151.6334C201.2819,-143.8186 201.0939,-134.7253 201.3786,-126.183\"/>\n",
       "<polygon fill=\"#000000\" stroke=\"#000000\" points=\"204.875,-126.3453 201.9602,-116.1593 197.8867,-125.9397 204.875,-126.3453\"/>\n",
       "</g>\n",
       "<!-- password_digest_functionpassword_checkerat0x7fe245e328c8_4&#45;&gt;test_functionpassword_checkerat0x7fe245e328c8_6 -->\n",
       "</g>\n",
       "</svg>\n"
      ],
      "text/plain": [
       "<__main__.Slicer at 0x7fe245cff198>"
      ]
     },
     "execution_count": 1,
     "metadata": {},
     "output_type": "execute_result"
    }
   ],
   "source": [
    "slicer"
   ]
  },
  {
   "cell_type": "markdown",
   "metadata": {
    "slideshow": {
     "slide_type": "fragment"
    }
   },
   "source": [
    "We see that the password only flows into `password_digest`, where it is already encrypted. If the password were flowing into some other function or variable, we would see this in our slice."
   ]
  },
  {
   "cell_type": "markdown",
   "metadata": {
    "slideshow": {
     "slide_type": "subslide"
    }
   },
   "source": [
    "(Note that an attacker may still be able to find out which password was entered, for instance, by checking memory contents.)"
   ]
  },
  {
   "cell_type": "code",
   "execution_count": 236,
   "metadata": {
    "execution": {
     "iopub.execute_input": "2021-05-11T17:08:11.474912Z",
     "iopub.status.busy": "2021-05-11T17:08:11.474209Z",
     "iopub.status.idle": "2021-05-11T17:08:11.477706Z",
     "shell.execute_reply": "2021-05-11T17:08:11.478082Z"
    },
    "slideshow": {
     "slide_type": "subslide"
    }
   },
   "outputs": [
    {
     "data": {
      "text/html": [
       "\n",
       "    \n",
       "    <script>\n",
       "    var bad_answers = new Map();\n",
       "\n",
       "    function answer(quiz_id) {\n",
       "        ans = 0;\n",
       "        for (i = 1;; i++) {\n",
       "            checkbox = document.getElementById(quiz_id + \"-\" + i.toString());\n",
       "            if (!checkbox)\n",
       "                break;\n",
       "            if (checkbox.checked)\n",
       "                ans |= (1 << i);\n",
       "        }\n",
       "        return ans;\n",
       "    }\n",
       "    function check_selection(quiz_id, correct_answer, multiple_choice, hint) {\n",
       "        given_answer = answer(quiz_id);\n",
       "        if (given_answer == correct_answer)\n",
       "        {\n",
       "            document.getElementById(quiz_id + \"-submit\").value = \"Correct!\";\n",
       "            document.getElementById(quiz_id + \"-hint\").innerHTML = \"\";\n",
       "\n",
       "            for (i = 1;; i++) {\n",
       "                checkbox = document.getElementById(quiz_id + \"-\" + i.toString());\n",
       "                label = document.getElementById(quiz_id + \"-\" + i.toString() + \"-label\")\n",
       "                if (!checkbox)\n",
       "                    break;\n",
       "    \n",
       "                if (checkbox.checked) {\n",
       "                    label.style.fontWeight = \"bold\";\n",
       "                }\n",
       "                else {\n",
       "                    label.style.textDecoration = \"line-through\";\n",
       "                }\n",
       "            }\n",
       "        }\n",
       "        else \n",
       "        {\n",
       "            document.getElementById(quiz_id + \"-submit\").value = \"Try again\";\n",
       "            \n",
       "            if (!bad_answers.has(quiz_id)) {\n",
       "                bad_answers.set(quiz_id, 1);\n",
       "            }\n",
       "            else {\n",
       "                bad_answers.set(quiz_id, bad_answers.get(quiz_id) + 1);\n",
       "            }\n",
       "\n",
       "            if (bad_answers.get(quiz_id) >= 2 && hint.length > 0) {\n",
       "                document.getElementById(quiz_id + \"-hint\").innerHTML = \n",
       "                    \"&nbsp;&nbsp;(Hint: <code>\" + hint + \"</code>)\";\n",
       "            }\n",
       "\n",
       "            if (!multiple_choice) {\n",
       "                for (i = 1;; i++) {\n",
       "                    checkbox = document.getElementById(quiz_id + \"-\" + i.toString());\n",
       "                    label = document.getElementById(quiz_id + \"-\" + i.toString() + \"-label\")\n",
       "\n",
       "                    if (!checkbox)\n",
       "                        break;\n",
       "                    if (checkbox.checked) {\n",
       "                        label.style.textDecoration = \"line-through\";\n",
       "                    }\n",
       "                }\n",
       "            }\n",
       "        }\n",
       "    }\n",
       "    function clear_selection(quiz_id) {\n",
       "        document.getElementById(quiz_id + \"-submit\").value = \"Submit\";\n",
       "        document.getElementById(quiz_id + \"-hint\").innerHTML = \"\";\n",
       "    }\n",
       "    </script>\n",
       "    \n",
       "    <div class=\"quiz\">\n",
       "    <h3 class=\"quiz_title\">Quiz</h3>\n",
       "    <p>\n",
       "    <div class=\"quiz_question\">What is the secret password, actually?</div>\n",
       "    </p>\n",
       "    <p>\n",
       "    <div class=\"quiz_options\" title=\"Pick a choice.\">\n",
       "    \n",
       "        <input type=\"radio\" name=\"7726f5cc-b27b-11eb-835f-acde48001122\" id=\"7726f5cc-b27b-11eb-835f-acde48001122-1\" onclick=\"clear_selection('7726f5cc-b27b-11eb-835f-acde48001122')\">\n",
       "        <label id=\"7726f5cc-b27b-11eb-835f-acde48001122-1-label\" for=\"7726f5cc-b27b-11eb-835f-acde48001122-1\"><code>'automated'</code></label><br>\n",
       "    \n",
       "        <input type=\"radio\" name=\"7726f5cc-b27b-11eb-835f-acde48001122\" id=\"7726f5cc-b27b-11eb-835f-acde48001122-2\" onclick=\"clear_selection('7726f5cc-b27b-11eb-835f-acde48001122')\">\n",
       "        <label id=\"7726f5cc-b27b-11eb-835f-acde48001122-2-label\" for=\"7726f5cc-b27b-11eb-835f-acde48001122-2\"><code>'debugging'</code></label><br>\n",
       "    \n",
       "        <input type=\"radio\" name=\"7726f5cc-b27b-11eb-835f-acde48001122\" id=\"7726f5cc-b27b-11eb-835f-acde48001122-3\" onclick=\"clear_selection('7726f5cc-b27b-11eb-835f-acde48001122')\">\n",
       "        <label id=\"7726f5cc-b27b-11eb-835f-acde48001122-3-label\" for=\"7726f5cc-b27b-11eb-835f-acde48001122-3\"><code>'is'</code></label><br>\n",
       "    \n",
       "        <input type=\"radio\" name=\"7726f5cc-b27b-11eb-835f-acde48001122\" id=\"7726f5cc-b27b-11eb-835f-acde48001122-4\" onclick=\"clear_selection('7726f5cc-b27b-11eb-835f-acde48001122')\">\n",
       "        <label id=\"7726f5cc-b27b-11eb-835f-acde48001122-4-label\" for=\"7726f5cc-b27b-11eb-835f-acde48001122-4\"><code>'fun'</code></label><br>\n",
       "    \n",
       "    </div>\n",
       "    </p>\n",
       "    <input id=\"7726f5cc-b27b-11eb-835f-acde48001122-submit\" type=\"submit\" value=\"Submit\" onclick=\"check_selection('7726f5cc-b27b-11eb-835f-acde48001122', 4, 0, '')\">\n",
       "    <span class=\"quiz_hint\" id=\"7726f5cc-b27b-11eb-835f-acde48001122-hint\"></span>\n",
       "    </div>\n",
       "    "
      ],
      "text/plain": [
       "<IPython.core.display.HTML object>"
      ]
     },
     "execution_count": 1,
     "metadata": {},
     "output_type": "execute_result"
    }
   ],
   "source": [
    "# ignore\n",
    "secret_answers = [\n",
    "    'automated',\n",
    "    'debugging',\n",
    "    'is',\n",
    "    'fun'\n",
    "]\n",
    "\n",
    "quiz(\"What is the secret password, actually?\", \n",
    "     [f\"`{repr(s)}`\" for s in secret_answers],\n",
    "     min([i + 1 for i, ans in enumerate(secret_answers) \n",
    "          if hashlib.md5(ans.encode('utf-8')).hexdigest() == \n",
    "              SECRET_HASH_DIGEST])\n",
    "    )"
   ]
  },
  {
   "cell_type": "markdown",
   "metadata": {
    "slideshow": {
     "slide_type": "subslide"
    }
   },
   "source": [
    "### Assessing Test Quality"
   ]
  },
  {
   "cell_type": "markdown",
   "metadata": {
    "slideshow": {
     "slide_type": "fragment"
    }
   },
   "source": [
    "Another interesting usage of dynamic slices is to _assess test quality_. With our `square_root()` function, we have seen that the included assertions well test the arguments and the result for correctness:"
   ]
  },
  {
   "cell_type": "code",
   "execution_count": 237,
   "metadata": {
    "execution": {
     "iopub.execute_input": "2021-05-11T17:08:11.482382Z",
     "iopub.status.busy": "2021-05-11T17:08:11.481672Z",
     "iopub.status.idle": "2021-05-11T17:08:11.483512Z",
     "shell.execute_reply": "2021-05-11T17:08:11.483947Z"
    },
    "slideshow": {
     "slide_type": "fragment"
    }
   },
   "outputs": [],
   "source": [
    "# ignore\n",
    "_, start_square_root = inspect.getsourcelines(square_root)"
   ]
  },
  {
   "cell_type": "code",
   "execution_count": 238,
   "metadata": {
    "execution": {
     "iopub.execute_input": "2021-05-11T17:08:11.494495Z",
     "iopub.status.busy": "2021-05-11T17:08:11.493796Z",
     "iopub.status.idle": "2021-05-11T17:08:11.496082Z",
     "shell.execute_reply": "2021-05-11T17:08:11.496506Z"
    },
    "slideshow": {
     "slide_type": "subslide"
    }
   },
   "outputs": [
    {
     "name": "stdout",
     "output_type": "stream",
     "text": [
      "54  \u001b[34mdef\u001b[39;49;00m \u001b[32msquare_root\u001b[39;49;00m(x):  \u001b[37m# type: ignore\u001b[39;49;00m\n",
      "55      \u001b[34massert\u001b[39;49;00m x >= \u001b[34m0\u001b[39;49;00m  \u001b[37m# precondition\u001b[39;49;00m\n",
      "56  \n",
      "57      approx = \u001b[34mNone\u001b[39;49;00m\n",
      "58      guess = x / \u001b[34m2\u001b[39;49;00m\n",
      "59      \u001b[34mwhile\u001b[39;49;00m approx != guess:\n",
      "60          approx = guess\n",
      "61          guess = (approx + x / approx) / \u001b[34m2\u001b[39;49;00m\n",
      "62  \n",
      "63      \u001b[34massert\u001b[39;49;00m math.isclose(approx * approx, x)\n",
      "64      \u001b[34mreturn\u001b[39;49;00m approx"
     ]
    }
   ],
   "source": [
    "# ignore\n",
    "print_content(inspect.getsource(square_root), '.py',\n",
    "              start_line_number=start_square_root)"
   ]
  },
  {
   "cell_type": "markdown",
   "metadata": {
    "slideshow": {
     "slide_type": "subslide"
    }
   },
   "source": [
    "However, a lazy programmer could also omit these tests – or worse yet, include tests that always pass:"
   ]
  },
  {
   "cell_type": "code",
   "execution_count": 239,
   "metadata": {
    "execution": {
     "iopub.execute_input": "2021-05-11T17:08:11.500803Z",
     "iopub.status.busy": "2021-05-11T17:08:11.500156Z",
     "iopub.status.idle": "2021-05-11T17:08:11.501801Z",
     "shell.execute_reply": "2021-05-11T17:08:11.502174Z"
    },
    "slideshow": {
     "slide_type": "fragment"
    }
   },
   "outputs": [],
   "source": [
    "def square_root_unchecked(x):  # type: ignore\n",
    "    assert True  # <-- new \"precondition\"\n",
    "\n",
    "    approx = None\n",
    "    guess = x / 2\n",
    "    while approx != guess:\n",
    "        approx = guess\n",
    "        guess = (approx + x / approx) / 2\n",
    "\n",
    "    assert True  # <-- new \"postcondition\"\n",
    "    return approx"
   ]
  },
  {
   "cell_type": "markdown",
   "metadata": {
    "slideshow": {
     "slide_type": "subslide"
    }
   },
   "source": [
    "How can one check that the tests supplied actually are effective? This is a problem of \"Who watches the watchmen\" – we need to find a way to ensure that the tests do their job."
   ]
  },
  {
   "cell_type": "markdown",
   "metadata": {
    "slideshow": {
     "slide_type": "fragment"
    }
   },
   "source": [
    "The \"classical\" way of testing tests is so-called *mutation testing* – that is,  introducing _artificial errors_ into the code to see whether the tests catch them. Mutation testing is effective: The above \"weak\" tests would not catch any change to the `square_root()` computation code, and hence quickly be determined as ineffective. However, mutation testing is also _costly_, as tests have to be ran again and again for every small code mutation."
   ]
  },
  {
   "cell_type": "markdown",
   "metadata": {
    "slideshow": {
     "slide_type": "fragment"
    }
   },
   "source": [
    "Slices offer a cost-effective alternative to determine the quality of tests. The idea is that if there are statements in the code whose result does _not_ flow into an assertion, then any errors in these statements will go unnoticed. In consequence, the larger the backward slice of an assertion, the higher its ability to catch errors."
   ]
  },
  {
   "cell_type": "markdown",
   "metadata": {
    "slideshow": {
     "slide_type": "subslide"
    }
   },
   "source": [
    "We can easily validate this assumption using the two examples, above. Here is the backward slice for the \"full\" postcondition in `square_root()`. We see that the entire computation code flows into the final postcondition:"
   ]
  },
  {
   "cell_type": "code",
   "execution_count": 240,
   "metadata": {
    "execution": {
     "iopub.execute_input": "2021-05-11T17:08:11.505568Z",
     "iopub.status.busy": "2021-05-11T17:08:11.505040Z",
     "iopub.status.idle": "2021-05-11T17:08:11.507311Z",
     "shell.execute_reply": "2021-05-11T17:08:11.507731Z"
    },
    "slideshow": {
     "slide_type": "fragment"
    }
   },
   "outputs": [
    {
     "data": {
      "text/plain": [
       "63"
      ]
     },
     "execution_count": 1,
     "metadata": {},
     "output_type": "execute_result"
    }
   ],
   "source": [
    "postcondition_lineno = start_square_root + 9\n",
    "postcondition_lineno"
   ]
  },
  {
   "cell_type": "code",
   "execution_count": 241,
   "metadata": {
    "execution": {
     "iopub.execute_input": "2021-05-11T17:08:11.513982Z",
     "iopub.status.busy": "2021-05-11T17:08:11.511488Z",
     "iopub.status.idle": "2021-05-11T17:08:12.385225Z",
     "shell.execute_reply": "2021-05-11T17:08:12.385699Z"
    },
    "slideshow": {
     "slide_type": "subslide"
    }
   },
   "outputs": [
    {
     "data": {
      "image/svg+xml": [
       "<?xml version=\"1.0\" encoding=\"UTF-8\" standalone=\"no\"?>\n",
       "<!DOCTYPE svg PUBLIC \"-//W3C//DTD SVG 1.1//EN\"\n",
       " \"http://www.w3.org/Graphics/SVG/1.1/DTD/svg11.dtd\">\n",
       "<!-- Generated by graphviz version 2.40.1 (20161225.0304)\n",
       " -->\n",
       "<!-- Title: dependencies Pages: 1 -->\n",
       "<svg width=\"371pt\" height=\"504pt\"\n",
       " viewBox=\"0.00 0.00 370.93 504.00\" xmlns=\"http://www.w3.org/2000/svg\" xmlns:xlink=\"http://www.w3.org/1999/xlink\">\n",
       "<g id=\"graph0\" class=\"graph\" transform=\"scale(1 1) rotate(0) translate(4 500)\">\n",
       "<title>dependencies</title>\n",
       "<polygon fill=\"#ffffff\" stroke=\"transparent\" points=\"-4,4 -4,-500 366.9326,-500 366.9326,4 -4,4\"/>\n",
       "<!-- assertion_functionsquare_rootat0x7fe245e32bf8_63 -->\n",
       "<g id=\"node1\" class=\"node\">\n",
       "<title>assertion_functionsquare_rootat0x7fe245e32bf8_63</title>\n",
       "<g id=\"a_node1\"><a xlink:title=\"square_root:63\">\n",
       "<polygon fill=\"#ffdab9\" stroke=\"#000000\" points=\"227,-40 0,-40 0,0 227,0 227,-40\"/>\n",
       "<text text-anchor=\"start\" x=\"67\" y=\"-25.8\" font-family=\"Fira Mono, Courier, monospace\" font-weight=\"bold\" font-style=\"italic\" font-size=\"14.00\" fill=\"#000000\">&lt;assertion&gt;</text>\n",
       "<text text-anchor=\"start\" x=\"8\" y=\"-6.8\" font-family=\"Fira Mono, Courier, monospace\" font-size=\"9.00\" fill=\"#000000\">assert math.isclose(approx * approx, x)</text>\n",
       "</a>\n",
       "</g>\n",
       "</g>\n",
       "<!-- approx_functionsquare_rootat0x7fe245e32bf8_60 -->\n",
       "<g id=\"node2\" class=\"node\">\n",
       "<title>approx_functionsquare_rootat0x7fe245e32bf8_60</title>\n",
       "<g id=\"a_node2\"><a xlink:title=\"square_root:60\">\n",
       "<polygon fill=\"#ffdab9\" stroke=\"#000000\" points=\"217.5,-268 125.5,-268 125.5,-228 217.5,-228 217.5,-268\"/>\n",
       "<text text-anchor=\"start\" x=\"146\" y=\"-253.8\" font-family=\"Fira Mono, Courier, monospace\" font-weight=\"bold\" font-size=\"14.00\" fill=\"#000000\">approx</text>\n",
       "<text text-anchor=\"start\" x=\"133.5\" y=\"-234.8\" font-family=\"Fira Mono, Courier, monospace\" font-size=\"9.00\" fill=\"#000000\">approx = guess</text>\n",
       "</a>\n",
       "</g>\n",
       "</g>\n",
       "<!-- approx_functionsquare_rootat0x7fe245e32bf8_60&#45;&gt;assertion_functionsquare_rootat0x7fe245e32bf8_63 -->\n",
       "<g id=\"edge1\" class=\"edge\">\n",
       "<title>approx_functionsquare_rootat0x7fe245e32bf8_60&#45;&gt;assertion_functionsquare_rootat0x7fe245e32bf8_63</title>\n",
       "<path fill=\"none\" stroke=\"#000000\" d=\"M166.3529,-227.7665C156.1203,-187.5418 133.1752,-97.3439 121.1632,-50.1241\"/>\n",
       "<polygon fill=\"#000000\" stroke=\"#000000\" points=\"124.493,-49.0166 118.6356,-40.1881 117.709,-50.7424 124.493,-49.0166\"/>\n",
       "</g>\n",
       "<!-- test_functionsquare_rootat0x7fe245e32bf8_59 -->\n",
       "<g id=\"node4\" class=\"node\">\n",
       "<title>test_functionsquare_rootat0x7fe245e32bf8_59</title>\n",
       "<g id=\"a_node4\"><a xlink:title=\"square_root:59\">\n",
       "<polygon fill=\"#ffdab9\" stroke=\"#000000\" points=\"333,-192 198,-192 198,-152 333,-152 333,-192\"/>\n",
       "<text text-anchor=\"start\" x=\"240\" y=\"-177.8\" font-family=\"Fira Mono, Courier, monospace\" font-weight=\"bold\" font-style=\"italic\" font-size=\"14.00\" fill=\"#000000\">&lt;test&gt;</text>\n",
       "<text text-anchor=\"start\" x=\"206\" y=\"-158.8\" font-family=\"Fira Mono, Courier, monospace\" font-size=\"9.00\" fill=\"#000000\">while approx != guess:</text>\n",
       "</a>\n",
       "</g>\n",
       "</g>\n",
       "<!-- approx_functionsquare_rootat0x7fe245e32bf8_60&#45;&gt;test_functionsquare_rootat0x7fe245e32bf8_59 -->\n",
       "<g id=\"edge5\" class=\"edge\">\n",
       "<title>approx_functionsquare_rootat0x7fe245e32bf8_60&#45;&gt;test_functionsquare_rootat0x7fe245e32bf8_59</title>\n",
       "<path fill=\"none\" stroke=\"#000000\" d=\"M184.5754,-227.6334C194.2035,-218.6163 207.1954,-207.8972 220.0753,-198.2861\"/>\n",
       "<polygon fill=\"#000000\" stroke=\"#000000\" points=\"222.4642,-200.8761 228.4866,-192.1593 218.3428,-195.218 222.4642,-200.8761\"/>\n",
       "</g>\n",
       "<!-- guess_functionsquare_rootat0x7fe245e32bf8_61 -->\n",
       "<g id=\"node6\" class=\"node\">\n",
       "<title>guess_functionsquare_rootat0x7fe245e32bf8_61</title>\n",
       "<g id=\"a_node6\"><a xlink:title=\"square_root:61\">\n",
       "<polygon fill=\"#ffdab9\" stroke=\"#000000\" points=\"350,-116 155,-116 155,-76 350,-76 350,-116\"/>\n",
       "<text text-anchor=\"start\" x=\"231\" y=\"-101.8\" font-family=\"Fira Mono, Courier, monospace\" font-weight=\"bold\" font-size=\"14.00\" fill=\"#000000\">guess</text>\n",
       "<text text-anchor=\"start\" x=\"163\" y=\"-82.8\" font-family=\"Fira Mono, Courier, monospace\" font-size=\"9.00\" fill=\"#000000\">guess = (approx + x / approx) / 2</text>\n",
       "</a>\n",
       "</g>\n",
       "</g>\n",
       "<!-- approx_functionsquare_rootat0x7fe245e32bf8_60&#45;&gt;guess_functionsquare_rootat0x7fe245e32bf8_61 -->\n",
       "<g id=\"edge8\" class=\"edge\">\n",
       "<title>approx_functionsquare_rootat0x7fe245e32bf8_60&#45;&gt;guess_functionsquare_rootat0x7fe245e32bf8_61</title>\n",
       "<path fill=\"none\" stroke=\"#000000\" d=\"M164.493,-227.9568C162.8389,-207.5858 166.1109,-175.7347 179.5,-152 185.7963,-140.8387 195.1802,-130.8084 205.185,-122.4252\"/>\n",
       "<polygon fill=\"#000000\" stroke=\"#000000\" points=\"207.5858,-124.9903 213.2946,-116.065 203.266,-119.4822 207.5858,-124.9903\"/>\n",
       "</g>\n",
       "<!-- approx_functionsquare_rootat0x7fe245e32bf8_60&#45;&gt;guess_functionsquare_rootat0x7fe245e32bf8_61 -->\n",
       "<!-- x_functionsquare_rootat0x7fe245e32bf8_54 -->\n",
       "<g id=\"node3\" class=\"node\">\n",
       "<title>x_functionsquare_rootat0x7fe245e32bf8_54</title>\n",
       "<g id=\"a_node3\"><a xlink:title=\"square_root:54\">\n",
       "<polygon fill=\"#ffdab9\" stroke=\"#000000\" points=\"356.5,-496 150.5,-496 150.5,-456 356.5,-456 356.5,-496\"/>\n",
       "<text text-anchor=\"start\" x=\"249\" y=\"-481.8\" font-family=\"Fira Mono, Courier, monospace\" font-weight=\"bold\" font-size=\"14.00\" fill=\"#000000\">x</text>\n",
       "<text text-anchor=\"start\" x=\"158.5\" y=\"-462.8\" font-family=\"Fira Mono, Courier, monospace\" font-size=\"9.00\" fill=\"#000000\">def square_root(x): &#160;# type: ignore</text>\n",
       "</a>\n",
       "</g>\n",
       "</g>\n",
       "<!-- x_functionsquare_rootat0x7fe245e32bf8_54&#45;&gt;assertion_functionsquare_rootat0x7fe245e32bf8_63 -->\n",
       "<g id=\"edge2\" class=\"edge\">\n",
       "<title>x_functionsquare_rootat0x7fe245e32bf8_54&#45;&gt;assertion_functionsquare_rootat0x7fe245e32bf8_63</title>\n",
       "<path fill=\"none\" stroke=\"#000000\" d=\"M198.6417,-455.9833C146.3411,-432.9458 75.5,-389.6285 75.5,-324 75.5,-324 75.5,-324 75.5,-172 75.5,-128.4996 90.3293,-80.0311 101.4603,-49.7774\"/>\n",
       "<polygon fill=\"#000000\" stroke=\"#000000\" points=\"104.8001,-50.8407 105.0666,-40.2492 98.2533,-48.3628 104.8001,-50.8407\"/>\n",
       "</g>\n",
       "<!-- guess_functionsquare_rootat0x7fe245e32bf8_58 -->\n",
       "<g id=\"node5\" class=\"node\">\n",
       "<title>guess_functionsquare_rootat0x7fe245e32bf8_58</title>\n",
       "<g id=\"a_node5\"><a xlink:title=\"square_root:58\">\n",
       "<polygon fill=\"#ffdab9\" stroke=\"#000000\" points=\"273,-344 186,-344 186,-304 273,-304 273,-344\"/>\n",
       "<text text-anchor=\"start\" x=\"208\" y=\"-329.8\" font-family=\"Fira Mono, Courier, monospace\" font-weight=\"bold\" font-size=\"14.00\" fill=\"#000000\">guess</text>\n",
       "<text text-anchor=\"start\" x=\"194\" y=\"-310.8\" font-family=\"Fira Mono, Courier, monospace\" font-size=\"9.00\" fill=\"#000000\">guess = x / 2</text>\n",
       "</a>\n",
       "</g>\n",
       "</g>\n",
       "<!-- x_functionsquare_rootat0x7fe245e32bf8_54&#45;&gt;guess_functionsquare_rootat0x7fe245e32bf8_58 -->\n",
       "<g id=\"edge7\" class=\"edge\">\n",
       "<title>x_functionsquare_rootat0x7fe245e32bf8_54&#45;&gt;guess_functionsquare_rootat0x7fe245e32bf8_58</title>\n",
       "<path fill=\"none\" stroke=\"#000000\" d=\"M246.679,-455.7462C243.3938,-445.2042 239.699,-432.0354 237.5,-420 233.5111,-398.1689 231.508,-373.1766 230.5038,-354.1659\"/>\n",
       "<polygon fill=\"#000000\" stroke=\"#000000\" points=\"233.9922,-353.8326 230.0314,-344.006 226.9998,-354.1578 233.9922,-353.8326\"/>\n",
       "</g>\n",
       "<!-- x_functionsquare_rootat0x7fe245e32bf8_54&#45;&gt;guess_functionsquare_rootat0x7fe245e32bf8_61 -->\n",
       "<g id=\"edge9\" class=\"edge\">\n",
       "<title>x_functionsquare_rootat0x7fe245e32bf8_54&#45;&gt;guess_functionsquare_rootat0x7fe245e32bf8_61</title>\n",
       "<path fill=\"none\" stroke=\"#000000\" d=\"M300.3833,-455.9819C315.9977,-447.1155 332.0543,-435.1939 342.5,-420 367.1406,-384.1588 361.5,-367.4943 361.5,-324 361.5,-324 361.5,-324 361.5,-248 361.5,-204.5057 367.2305,-187.7792 342.5,-152 333.9983,-139.7 321.8273,-129.5666 309.1725,-121.4636\"/>\n",
       "<polygon fill=\"#000000\" stroke=\"#000000\" points=\"310.7477,-118.3269 300.3734,-116.1765 307.1424,-124.327 310.7477,-118.3269\"/>\n",
       "</g>\n",
       "<!-- approx_functionsquare_rootat0x7fe245e32bf8_57 -->\n",
       "<g id=\"node7\" class=\"node\">\n",
       "<title>approx_functionsquare_rootat0x7fe245e32bf8_57</title>\n",
       "<g id=\"a_node7\"><a xlink:title=\"square_root:57\">\n",
       "<polygon fill=\"#ffdab9\" stroke=\"#000000\" points=\"333,-420 246,-420 246,-380 333,-380 333,-420\"/>\n",
       "<text text-anchor=\"start\" x=\"264\" y=\"-405.8\" font-family=\"Fira Mono, Courier, monospace\" font-weight=\"bold\" font-size=\"14.00\" fill=\"#000000\">approx</text>\n",
       "<text text-anchor=\"start\" x=\"254\" y=\"-386.8\" font-family=\"Fira Mono, Courier, monospace\" font-size=\"9.00\" fill=\"#000000\">approx = None</text>\n",
       "</a>\n",
       "</g>\n",
       "</g>\n",
       "<!-- x_functionsquare_rootat0x7fe245e32bf8_54&#45;&gt;approx_functionsquare_rootat0x7fe245e32bf8_57 -->\n",
       "<!-- test_functionsquare_rootat0x7fe245e32bf8_59&#45;&gt;approx_functionsquare_rootat0x7fe245e32bf8_60 -->\n",
       "<g id=\"edge12\" class=\"edge\">\n",
       "<title>test_functionsquare_rootat0x7fe245e32bf8_59&#45;&gt;approx_functionsquare_rootat0x7fe245e32bf8_60</title>\n",
       "<path fill=\"none\" stroke=\"#c0c0c0\" stroke-dasharray=\"5,2\" d=\"M240.5661,-192.1593C229.5519,-201.0644 216.4461,-211.6606 204.6263,-221.217\"/>\n",
       "<polygon fill=\"#c0c0c0\" stroke=\"#c0c0c0\" points=\"202.2661,-218.6244 196.6903,-227.6334 206.6671,-224.0678 202.2661,-218.6244\"/>\n",
       "</g>\n",
       "<!-- test_functionsquare_rootat0x7fe245e32bf8_59&#45;&gt;approx_functionsquare_rootat0x7fe245e32bf8_60 -->\n",
       "<!-- test_functionsquare_rootat0x7fe245e32bf8_59&#45;&gt;guess_functionsquare_rootat0x7fe245e32bf8_61 -->\n",
       "<g id=\"edge10\" class=\"edge\">\n",
       "<title>test_functionsquare_rootat0x7fe245e32bf8_59&#45;&gt;guess_functionsquare_rootat0x7fe245e32bf8_61</title>\n",
       "<path fill=\"none\" stroke=\"#c0c0c0\" stroke-dasharray=\"5,2\" d=\"M255.9588,-151.6334C253.9614,-143.8186 252.218,-134.7253 251.0415,-126.183\"/>\n",
       "<polygon fill=\"#c0c0c0\" stroke=\"#c0c0c0\" points=\"254.5096,-125.7029 249.9085,-116.1593 247.5539,-126.4891 254.5096,-125.7029\"/>\n",
       "</g>\n",
       "<!-- guess_functionsquare_rootat0x7fe245e32bf8_58&#45;&gt;approx_functionsquare_rootat0x7fe245e32bf8_60 -->\n",
       "<g id=\"edge11\" class=\"edge\">\n",
       "<title>guess_functionsquare_rootat0x7fe245e32bf8_58&#45;&gt;approx_functionsquare_rootat0x7fe245e32bf8_60</title>\n",
       "<path fill=\"none\" stroke=\"#000000\" d=\"M213.9571,-303.6334C207.5344,-295.2175 199.9802,-285.3188 193.038,-276.2223\"/>\n",
       "<polygon fill=\"#000000\" stroke=\"#000000\" points=\"195.7338,-273.9855 186.8847,-268.1593 190.1692,-278.2322 195.7338,-273.9855\"/>\n",
       "</g>\n",
       "<!-- guess_functionsquare_rootat0x7fe245e32bf8_58&#45;&gt;test_functionsquare_rootat0x7fe245e32bf8_59 -->\n",
       "<g id=\"edge3\" class=\"edge\">\n",
       "<title>guess_functionsquare_rootat0x7fe245e32bf8_58&#45;&gt;test_functionsquare_rootat0x7fe245e32bf8_59</title>\n",
       "<path fill=\"none\" stroke=\"#000000\" d=\"M229.5205,-303.8156C233.3251,-277.6961 243.9101,-231.9741 252.9411,-201.8392\"/>\n",
       "<polygon fill=\"#000000\" stroke=\"#000000\" points=\"256.2899,-202.8567 255.9321,-192.2679 249.6086,-200.7687 256.2899,-202.8567\"/>\n",
       "</g>\n",
       "<!-- guess_functionsquare_rootat0x7fe245e32bf8_58&#45;&gt;test_functionsquare_rootat0x7fe245e32bf8_59 -->\n",
       "<!-- guess_functionsquare_rootat0x7fe245e32bf8_61&#45;&gt;assertion_functionsquare_rootat0x7fe245e32bf8_63 -->\n",
       "<!-- guess_functionsquare_rootat0x7fe245e32bf8_61&#45;&gt;test_functionsquare_rootat0x7fe245e32bf8_59 -->\n",
       "<g id=\"edge4\" class=\"edge\">\n",
       "<title>guess_functionsquare_rootat0x7fe245e32bf8_61&#45;&gt;test_functionsquare_rootat0x7fe245e32bf8_59</title>\n",
       "<path fill=\"none\" stroke=\"#000000\" d=\"M261.9881,-116.1593C263.9899,-123.9513 265.7406,-133.038 266.9272,-141.59\"/>\n",
       "<polygon fill=\"#000000\" stroke=\"#000000\" points=\"263.462,-142.0949 268.0737,-151.6334 270.4168,-141.3009 263.462,-142.0949\"/>\n",
       "</g>\n",
       "<!-- approx_functionsquare_rootat0x7fe245e32bf8_57&#45;&gt;test_functionsquare_rootat0x7fe245e32bf8_59 -->\n",
       "<g id=\"edge6\" class=\"edge\">\n",
       "<title>approx_functionsquare_rootat0x7fe245e32bf8_57&#45;&gt;test_functionsquare_rootat0x7fe245e32bf8_59</title>\n",
       "<path fill=\"none\" stroke=\"#000000\" d=\"M288.3493,-379.745C287.1674,-360.2967 285.1306,-330.1039 282.5,-304 278.9774,-269.0443 273.6421,-229.0461 269.8901,-202.3269\"/>\n",
       "<polygon fill=\"#000000\" stroke=\"#000000\" points=\"273.3075,-201.4967 268.4383,-192.087 266.3768,-202.4794 273.3075,-201.4967\"/>\n",
       "</g>\n",
       "<!-- approx_functionsquare_rootat0x7fe245e32bf8_57&#45;&gt;guess_functionsquare_rootat0x7fe245e32bf8_58 -->\n",
       "</g>\n",
       "</svg>\n"
      ],
      "text/plain": [
       "Dependencies(\n",
       "    data={\n",
       "        ('<assertion>', (square_root, 63)): {('approx', (square_root, 60)), ('x', (square_root, 54))},\n",
       "        ('approx', (square_root, 60)): {('guess', (square_root, 58))},\n",
       "        ('x', (square_root, 54)): set(),\n",
       "        ('guess', (square_root, 58)): {('x', (square_root, 54))},\n",
       "        ('<test>', (square_root, 59)): {('guess', (square_root, 58)), ('guess', (square_root, 61)), ('approx', (square_root, 60)), ('approx', (square_root, 57))},\n",
       "        ('guess', (square_root, 61)): {('approx', (square_root, 60)), ('x', (square_root, 54))},\n",
       "        ('approx', (square_root, 57)): set()},\n",
       " control={\n",
       "        ('<assertion>', (square_root, 63)): set(),\n",
       "        ('approx', (square_root, 60)): {('<test>', (square_root, 59))},\n",
       "        ('x', (square_root, 54)): set(),\n",
       "        ('guess', (square_root, 58)): set(),\n",
       "        ('<test>', (square_root, 59)): set(),\n",
       "        ('guess', (square_root, 61)): {('<test>', (square_root, 59))},\n",
       "        ('approx', (square_root, 57)): set()})"
      ]
     },
     "execution_count": 1,
     "metadata": {},
     "output_type": "execute_result"
    }
   ],
   "source": [
    "with Slicer() as slicer:\n",
    "    y = square_root(4)\n",
    "\n",
    "slicer.dependencies().backward_slice((square_root, postcondition_lineno))"
   ]
  },
  {
   "cell_type": "markdown",
   "metadata": {
    "slideshow": {
     "slide_type": "subslide"
    }
   },
   "source": [
    "In contrast, the \"lazy\" assertion in `square_root_unchecked()` has an empty backward slice, showing that it depends on no other value at all:"
   ]
  },
  {
   "cell_type": "code",
   "execution_count": 242,
   "metadata": {
    "execution": {
     "iopub.execute_input": "2021-05-11T17:08:12.390760Z",
     "iopub.status.busy": "2021-05-11T17:08:12.389891Z",
     "iopub.status.idle": "2021-05-11T17:08:12.431961Z",
     "shell.execute_reply": "2021-05-11T17:08:12.432652Z"
    },
    "slideshow": {
     "slide_type": "fragment"
    }
   },
   "outputs": [
    {
     "data": {
      "image/svg+xml": [
       "<?xml version=\"1.0\" encoding=\"UTF-8\" standalone=\"no\"?>\n",
       "<!DOCTYPE svg PUBLIC \"-//W3C//DTD SVG 1.1//EN\"\n",
       " \"http://www.w3.org/Graphics/SVG/1.1/DTD/svg11.dtd\">\n",
       "<!-- Generated by graphviz version 2.40.1 (20161225.0304)\n",
       " -->\n",
       "<!-- Title: dependencies Pages: 1 -->\n",
       "<svg width=\"8pt\" height=\"8pt\"\n",
       " viewBox=\"0.00 0.00 8.00 8.00\" xmlns=\"http://www.w3.org/2000/svg\" xmlns:xlink=\"http://www.w3.org/1999/xlink\">\n",
       "<g id=\"graph0\" class=\"graph\" transform=\"scale(1 1) rotate(0) translate(4 4)\">\n",
       "<title>dependencies</title>\n",
       "<polygon fill=\"#ffffff\" stroke=\"transparent\" points=\"-4,4 -4,-4 4,-4 4,4 -4,4\"/>\n",
       "</g>\n",
       "</svg>\n"
      ],
      "text/plain": [
       "Dependencies(\n",
       "    data={\n",
       "        },\n",
       " control={\n",
       "        })"
      ]
     },
     "execution_count": 1,
     "metadata": {},
     "output_type": "execute_result"
    }
   ],
   "source": [
    "with Slicer() as slicer:\n",
    "    y = square_root_unchecked(4)\n",
    "\n",
    "slicer.dependencies().backward_slice((square_root, postcondition_lineno))"
   ]
  },
  {
   "cell_type": "markdown",
   "metadata": {
    "slideshow": {
     "slide_type": "subslide"
    }
   },
   "source": [
    "In \\cite{Schuler2011}, Schuler et al. have tried out this technique and found their \"checked coverage\" to be a sure indicator for the quality of the checks in tests. Using our dynamic slices, you may wish to try this out on Python code."
   ]
  },
  {
   "cell_type": "markdown",
   "metadata": {
    "slideshow": {
     "slide_type": "subslide"
    }
   },
   "source": [
    "### Use in Statistical Debugging"
   ]
  },
  {
   "cell_type": "markdown",
   "metadata": {
    "slideshow": {
     "slide_type": "fragment"
    }
   },
   "source": [
    "Collecting dynamic slices over several different runs allows for _correlating dependencies with other execution features_, notably _failures_: \"The program fails whenever the value of `weekday` comes from `calendar()`.\" We will revisit this idea in [the chapter on statistical debugging](StatisticalDebugger.ipynb)."
   ]
  },
  {
   "cell_type": "markdown",
   "metadata": {
    "slideshow": {
     "slide_type": "slide"
    }
   },
   "source": [
    "## Synopsis"
   ]
  },
  {
   "cell_type": "markdown",
   "metadata": {
    "slideshow": {
     "slide_type": "fragment"
    }
   },
   "source": [
    "This chapter provides a `Slicer` class to automatically determine and visualize dynamic flows and dependencies. When we say that a variable $x$ _depends_ on a variable $y$ (and that $y$ _flows_ into $x$), we distinguish two kinds of dependencies:\n",
    "\n",
    "* **Data dependency**: $x$ is assigned a value computed from $y$.\n",
    "* **Control dependency**: A statement involving $x$ is executed _only_ because a _condition_ involving $y$ was evaluated, influencing the execution path.\n",
    "\n",
    "Such dependencies are crucial for debugging, as they allow to determine the origins of individual values (and notably incorrect values). "
   ]
  },
  {
   "cell_type": "markdown",
   "metadata": {
    "slideshow": {
     "slide_type": "subslide"
    }
   },
   "source": [
    "To determine dynamic dependencies in a function `func`, use\n",
    "\n",
    "```python\n",
    "with Slicer() as slicer:\n",
    "    <Some call to func()>\n",
    "```\n",
    "\n",
    "and then `slicer.graph()` or `slicer.code()` to examine dependencies."
   ]
  },
  {
   "cell_type": "markdown",
   "metadata": {
    "slideshow": {
     "slide_type": "subslide"
    }
   },
   "source": [
    "You can also explicitly specify the functions to be instrumented, as in \n",
    "\n",
    "```python\n",
    "with Slicer(func, func_1, func_2) as slicer:\n",
    "    <Some call to func()>\n",
    "```"
   ]
  },
  {
   "cell_type": "markdown",
   "metadata": {
    "slideshow": {
     "slide_type": "fragment"
    }
   },
   "source": [
    "Here is an example. The `demo()` function computes some number from `x`:"
   ]
  },
  {
   "cell_type": "code",
   "execution_count": 243,
   "metadata": {
    "execution": {
     "iopub.execute_input": "2021-05-11T17:08:12.437614Z",
     "iopub.status.busy": "2021-05-11T17:08:12.437002Z",
     "iopub.status.idle": "2021-05-11T17:08:12.439069Z",
     "shell.execute_reply": "2021-05-11T17:08:12.438598Z"
    },
    "slideshow": {
     "slide_type": "fragment"
    }
   },
   "outputs": [],
   "source": [
    "def demo(x: int) -> int:\n",
    "    z = x\n",
    "    while x <= z <= 64:\n",
    "        z *= 2\n",
    "    return z"
   ]
  },
  {
   "cell_type": "markdown",
   "metadata": {
    "slideshow": {
     "slide_type": "subslide"
    }
   },
   "source": [
    "By using `with Slicer()`, we first instrument `demo()` and then execute it:"
   ]
  },
  {
   "cell_type": "code",
   "execution_count": 244,
   "metadata": {
    "execution": {
     "iopub.execute_input": "2021-05-11T17:08:12.445821Z",
     "iopub.status.busy": "2021-05-11T17:08:12.442283Z",
     "iopub.status.idle": "2021-05-11T17:08:12.452978Z",
     "shell.execute_reply": "2021-05-11T17:08:12.453365Z"
    },
    "slideshow": {
     "slide_type": "fragment"
    }
   },
   "outputs": [],
   "source": [
    "with Slicer() as slicer:\n",
    "    demo(10)"
   ]
  },
  {
   "cell_type": "markdown",
   "metadata": {
    "slideshow": {
     "slide_type": "fragment"
    }
   },
   "source": [
    "After execution is complete, you can output `slicer` to visualize the dependencies and flows as graph. Data dependencies are shown as black solid edges; control dependencies are shown as grey dashed edges. The arrows indicate influence: If $y$ depends on $x$ (and thus $x$ flows into $y$), then we have an arrow $x \\rightarrow y$.\n",
    "We see how the parameter `x` flows into `z`, which is returned after some computation that is control dependent on a `<test>` involving `z`."
   ]
  },
  {
   "cell_type": "code",
   "execution_count": 245,
   "metadata": {
    "execution": {
     "iopub.execute_input": "2021-05-11T17:08:12.457714Z",
     "iopub.status.busy": "2021-05-11T17:08:12.457066Z",
     "iopub.status.idle": "2021-05-11T17:08:13.314360Z",
     "shell.execute_reply": "2021-05-11T17:08:13.315022Z"
    },
    "slideshow": {
     "slide_type": "fragment"
    }
   },
   "outputs": [
    {
     "data": {
      "image/svg+xml": [
       "<?xml version=\"1.0\" encoding=\"UTF-8\" standalone=\"no\"?>\n",
       "<!DOCTYPE svg PUBLIC \"-//W3C//DTD SVG 1.1//EN\"\n",
       " \"http://www.w3.org/Graphics/SVG/1.1/DTD/svg11.dtd\">\n",
       "<!-- Generated by graphviz version 2.40.1 (20161225.0304)\n",
       " -->\n",
       "<!-- Title: dependencies Pages: 1 -->\n",
       "<svg width=\"348pt\" height=\"276pt\"\n",
       " viewBox=\"0.00 0.00 347.50 276.00\" xmlns=\"http://www.w3.org/2000/svg\" xmlns:xlink=\"http://www.w3.org/1999/xlink\">\n",
       "<g id=\"graph0\" class=\"graph\" transform=\"scale(1 1) rotate(0) translate(4 272)\">\n",
       "<title>dependencies</title>\n",
       "<polygon fill=\"#ffffff\" stroke=\"transparent\" points=\"-4,4 -4,-272 343.5,-272 343.5,4 -4,4\"/>\n",
       "<!-- z_functiondemoat0x7fe245d7e488_4 -->\n",
       "<g id=\"node1\" class=\"node\">\n",
       "<title>z_functiondemoat0x7fe245d7e488_4</title>\n",
       "<g id=\"a_node1\"><a xlink:title=\"demo:4\">\n",
       "<polygon fill=\"#ffdab9\" stroke=\"#000000\" points=\"160,-116 106,-116 106,-76 160,-76 160,-116\"/>\n",
       "<text text-anchor=\"start\" x=\"128.5\" y=\"-101.8\" font-family=\"Fira Mono, Courier, monospace\" font-weight=\"bold\" font-size=\"14.00\" fill=\"#000000\">z</text>\n",
       "<text text-anchor=\"start\" x=\"116.5\" y=\"-82.8\" font-family=\"Fira Mono, Courier, monospace\" font-size=\"9.00\" fill=\"#000000\">z *= 2</text>\n",
       "</a>\n",
       "</g>\n",
       "</g>\n",
       "<!-- z_functiondemoat0x7fe245d7e488_4&#45;&gt;z_functiondemoat0x7fe245d7e488_4 -->\n",
       "<g id=\"edge2\" class=\"edge\">\n",
       "<title>z_functiondemoat0x7fe245d7e488_4&#45;&gt;z_functiondemoat0x7fe245d7e488_4</title>\n",
       "<path fill=\"none\" stroke=\"#000000\" d=\"M160.2408,-110.2361C170.0239,-110.5422 178,-105.7969 178,-96 178,-89.877 174.8843,-85.7272 170.1591,-83.5506\"/>\n",
       "<polygon fill=\"#000000\" stroke=\"#000000\" points=\"170.7029,-80.0923 160.2408,-81.7639 169.4618,-86.9814 170.7029,-80.0923\"/>\n",
       "</g>\n",
       "<!-- test_functiondemoat0x7fe245d7e488_3 -->\n",
       "<g id=\"node3\" class=\"node\">\n",
       "<title>test_functiondemoat0x7fe245d7e488_3</title>\n",
       "<g id=\"a_node3\"><a xlink:title=\"demo:3\">\n",
       "<polygon fill=\"#ffdab9\" stroke=\"#000000\" points=\"128.5,-40 9.5,-40 9.5,0 128.5,0 128.5,-40\"/>\n",
       "<text text-anchor=\"start\" x=\"43.5\" y=\"-25.8\" font-family=\"Fira Mono, Courier, monospace\" font-weight=\"bold\" font-style=\"italic\" font-size=\"14.00\" fill=\"#000000\">&lt;test&gt;</text>\n",
       "<text text-anchor=\"start\" x=\"17.5\" y=\"-6.8\" font-family=\"Fira Mono, Courier, monospace\" font-size=\"9.00\" fill=\"#000000\">while x &lt;= z &lt;= 64:</text>\n",
       "</a>\n",
       "</g>\n",
       "</g>\n",
       "<!-- z_functiondemoat0x7fe245d7e488_4&#45;&gt;test_functiondemoat0x7fe245d7e488_3 -->\n",
       "<g id=\"edge6\" class=\"edge\">\n",
       "<title>z_functiondemoat0x7fe245d7e488_4&#45;&gt;test_functiondemoat0x7fe245d7e488_3</title>\n",
       "<path fill=\"none\" stroke=\"#000000\" d=\"M105.7509,-77.6025C96.6553,-68.8363 87.2088,-58.1535 79.7908,-48.3797\"/>\n",
       "<polygon fill=\"#000000\" stroke=\"#000000\" points=\"82.524,-46.185 73.8539,-40.0955 76.8342,-50.2626 82.524,-46.185\"/>\n",
       "</g>\n",
       "<!-- demoreturnvalue_functiondemoat0x7fe245d7e488_5 -->\n",
       "<g id=\"node4\" class=\"node\">\n",
       "<title>demoreturnvalue_functiondemoat0x7fe245d7e488_5</title>\n",
       "<g id=\"a_node4\"><a xlink:title=\"demo:5\">\n",
       "<polygon fill=\"#ffdab9\" stroke=\"#000000\" points=\"339.5,-40 146.5,-40 146.5,0 339.5,0 339.5,-40\"/>\n",
       "<text text-anchor=\"start\" x=\"154.5\" y=\"-25.8\" font-family=\"Fira Mono, Courier, monospace\" font-weight=\"bold\" font-style=\"italic\" font-size=\"14.00\" fill=\"#000000\">&lt;demo() return value&gt;</text>\n",
       "<text text-anchor=\"start\" x=\"221\" y=\"-6.8\" font-family=\"Fira Mono, Courier, monospace\" font-size=\"9.00\" fill=\"#000000\">return z</text>\n",
       "</a>\n",
       "</g>\n",
       "</g>\n",
       "<!-- z_functiondemoat0x7fe245d7e488_4&#45;&gt;demoreturnvalue_functiondemoat0x7fe245d7e488_5 -->\n",
       "<g id=\"edge4\" class=\"edge\">\n",
       "<title>z_functiondemoat0x7fe245d7e488_4&#45;&gt;demoreturnvalue_functiondemoat0x7fe245d7e488_5</title>\n",
       "<path fill=\"none\" stroke=\"#000000\" d=\"M156.1487,-75.8329C168.6617,-66.6428 184.4368,-55.6529 199.1315,-45.8637\"/>\n",
       "<polygon fill=\"#000000\" stroke=\"#000000\" points=\"201.205,-48.6888 207.6259,-40.2613 197.351,-42.8453 201.205,-48.6888\"/>\n",
       "</g>\n",
       "<!-- z_functiondemoat0x7fe245d7e488_4&#45;&gt;demoreturnvalue_functiondemoat0x7fe245d7e488_5 -->\n",
       "<!-- z_functiondemoat0x7fe245d7e488_2 -->\n",
       "<g id=\"node2\" class=\"node\">\n",
       "<title>z_functiondemoat0x7fe245d7e488_2</title>\n",
       "<g id=\"a_node2\"><a xlink:title=\"demo:2\">\n",
       "<polygon fill=\"#ffdab9\" stroke=\"#000000\" points=\"100,-192 46,-192 46,-152 100,-152 100,-192\"/>\n",
       "<text text-anchor=\"start\" x=\"68.5\" y=\"-177.8\" font-family=\"Fira Mono, Courier, monospace\" font-weight=\"bold\" font-size=\"14.00\" fill=\"#000000\">z</text>\n",
       "<text text-anchor=\"start\" x=\"59\" y=\"-158.8\" font-family=\"Fira Mono, Courier, monospace\" font-size=\"9.00\" fill=\"#000000\">z = x</text>\n",
       "</a>\n",
       "</g>\n",
       "</g>\n",
       "<!-- z_functiondemoat0x7fe245d7e488_2&#45;&gt;z_functiondemoat0x7fe245d7e488_4 -->\n",
       "<g id=\"edge1\" class=\"edge\">\n",
       "<title>z_functiondemoat0x7fe245d7e488_2&#45;&gt;z_functiondemoat0x7fe245d7e488_4</title>\n",
       "<path fill=\"none\" stroke=\"#000000\" d=\"M89.0789,-151.6334C95.7231,-143.2175 103.5378,-133.3188 110.7193,-124.2223\"/>\n",
       "<polygon fill=\"#000000\" stroke=\"#000000\" points=\"113.6354,-126.1769 117.0848,-116.1593 108.1412,-121.8394 113.6354,-126.1769\"/>\n",
       "</g>\n",
       "<!-- z_functiondemoat0x7fe245d7e488_2&#45;&gt;test_functiondemoat0x7fe245d7e488_3 -->\n",
       "<g id=\"edge7\" class=\"edge\">\n",
       "<title>z_functiondemoat0x7fe245d7e488_2&#45;&gt;test_functiondemoat0x7fe245d7e488_3</title>\n",
       "<path fill=\"none\" stroke=\"#000000\" d=\"M67.7088,-151.8156C64.6666,-125.9232 63.2181,-80.7677 64.2653,-50.6288\"/>\n",
       "<polygon fill=\"#000000\" stroke=\"#000000\" points=\"67.7792,-50.4251 64.7658,-40.2679 60.7873,-50.0874 67.7792,-50.4251\"/>\n",
       "</g>\n",
       "<!-- z_functiondemoat0x7fe245d7e488_2&#45;&gt;test_functiondemoat0x7fe245d7e488_3 -->\n",
       "<!-- test_functiondemoat0x7fe245d7e488_3&#45;&gt;z_functiondemoat0x7fe245d7e488_4 -->\n",
       "<g id=\"edge3\" class=\"edge\">\n",
       "<title>test_functiondemoat0x7fe245d7e488_3&#45;&gt;z_functiondemoat0x7fe245d7e488_4</title>\n",
       "<path fill=\"none\" stroke=\"#c0c0c0\" stroke-dasharray=\"5,2\" d=\"M85.9762,-40.1593C93.1148,-48.6363 101.5437,-58.6456 109.2794,-67.8318\"/>\n",
       "<polygon fill=\"#c0c0c0\" stroke=\"#c0c0c0\" points=\"106.7306,-70.2387 115.8492,-75.6334 112.085,-65.7298 106.7306,-70.2387\"/>\n",
       "</g>\n",
       "<!-- test_functiondemoat0x7fe245d7e488_3&#45;&gt;z_functiondemoat0x7fe245d7e488_4 -->\n",
       "<!-- x_functiondemoat0x7fe245d7e488_1 -->\n",
       "<g id=\"node5\" class=\"node\">\n",
       "<title>x_functiondemoat0x7fe245d7e488_1</title>\n",
       "<g id=\"a_node5\"><a xlink:title=\"demo:1\">\n",
       "<polygon fill=\"#ffdab9\" stroke=\"#000000\" points=\"146,-268 0,-268 0,-228 146,-228 146,-268\"/>\n",
       "<text text-anchor=\"start\" x=\"68.5\" y=\"-253.8\" font-family=\"Fira Mono, Courier, monospace\" font-weight=\"bold\" font-size=\"14.00\" fill=\"#000000\">x</text>\n",
       "<text text-anchor=\"start\" x=\"8\" y=\"-234.8\" font-family=\"Fira Mono, Courier, monospace\" font-size=\"9.00\" fill=\"#000000\">def demo(x: int) &#45;&gt; int:</text>\n",
       "</a>\n",
       "</g>\n",
       "</g>\n",
       "<!-- x_functiondemoat0x7fe245d7e488_1&#45;&gt;z_functiondemoat0x7fe245d7e488_2 -->\n",
       "<g id=\"edge5\" class=\"edge\">\n",
       "<title>x_functiondemoat0x7fe245d7e488_1&#45;&gt;z_functiondemoat0x7fe245d7e488_2</title>\n",
       "<path fill=\"none\" stroke=\"#000000\" d=\"M66.9426,-227.6334C66.2819,-219.8186 66.0939,-210.7253 66.3786,-202.183\"/>\n",
       "<polygon fill=\"#000000\" stroke=\"#000000\" points=\"69.875,-202.3453 66.9602,-192.1593 62.8867,-201.9397 69.875,-202.3453\"/>\n",
       "</g>\n",
       "<!-- x_functiondemoat0x7fe245d7e488_1&#45;&gt;z_functiondemoat0x7fe245d7e488_2 -->\n",
       "<!-- x_functiondemoat0x7fe245d7e488_1&#45;&gt;test_functiondemoat0x7fe245d7e488_3 -->\n",
       "<g id=\"edge8\" class=\"edge\">\n",
       "<title>x_functiondemoat0x7fe245d7e488_1&#45;&gt;test_functiondemoat0x7fe245d7e488_3</title>\n",
       "<path fill=\"none\" stroke=\"#000000\" d=\"M56.0557,-227.8749C48.6578,-217.7868 40.8107,-204.9747 37,-192 22.627,-143.0627 40.8788,-84.3194 55.139,-49.6911\"/>\n",
       "<polygon fill=\"#000000\" stroke=\"#000000\" points=\"58.4951,-50.7446 59.2101,-40.1739 52.0592,-47.9915 58.4951,-50.7446\"/>\n",
       "</g>\n",
       "</g>\n",
       "</svg>\n"
      ],
      "text/plain": [
       "<__main__.Slicer at 0x7fe2462752b0>"
      ]
     },
     "execution_count": 1,
     "metadata": {},
     "output_type": "execute_result"
    }
   ],
   "source": [
    "slicer"
   ]
  },
  {
   "cell_type": "markdown",
   "metadata": {
    "slideshow": {
     "slide_type": "subslide"
    }
   },
   "source": [
    "An alternate representation is `slicer.code()`, annotating the instrumented source code with (backward) dependencies. Data dependencies are shown with `<=`, control dependencies with `<-`; locations (lines) are shown in parentheses."
   ]
  },
  {
   "cell_type": "code",
   "execution_count": 246,
   "metadata": {
    "execution": {
     "iopub.execute_input": "2021-05-11T17:08:13.321133Z",
     "iopub.status.busy": "2021-05-11T17:08:13.320102Z",
     "iopub.status.idle": "2021-05-11T17:08:13.346171Z",
     "shell.execute_reply": "2021-05-11T17:08:13.346683Z"
    },
    "slideshow": {
     "slide_type": "fragment"
    }
   },
   "outputs": [
    {
     "name": "stdout",
     "output_type": "stream",
     "text": [
      "*    1 \u001b[34mdef\u001b[39;49;00m \u001b[32mdemo\u001b[39;49;00m(x: \u001b[36mint\u001b[39;49;00m) -> \u001b[36mint\u001b[39;49;00m:\n",
      "*    2     z = x  \u001b[37m# <= x (1)\u001b[39;49;00m\n",
      "*    3     \u001b[34mwhile\u001b[39;49;00m x <= z <= \u001b[34m64\u001b[39;49;00m:  \u001b[37m# <= z (4), z (2), x (1)\u001b[39;49;00m\n",
      "*    4         z *= \u001b[34m2\u001b[39;49;00m  \u001b[37m# <= z (2), z (4); <- <test> (3)\u001b[39;49;00m\n",
      "*    5     \u001b[34mreturn\u001b[39;49;00m z  \u001b[37m# <= z (4)\u001b[39;49;00m\n"
     ]
    }
   ],
   "source": [
    "slicer.code()"
   ]
  },
  {
   "cell_type": "markdown",
   "metadata": {
    "slideshow": {
     "slide_type": "fragment"
    }
   },
   "source": [
    "Dependencies can also be retrieved programmatically. The `dependencies()` method returns a `Dependencies` object encapsulating the dependency graph."
   ]
  },
  {
   "cell_type": "markdown",
   "metadata": {
    "slideshow": {
     "slide_type": "subslide"
    }
   },
   "source": [
    "The method `all_vars()` returns all variables in the dependency graph. Each variable is encoded as a pair (_name_, _location_) where _location_ is a pair (_codename_, _lineno_)."
   ]
  },
  {
   "cell_type": "code",
   "execution_count": 247,
   "metadata": {
    "execution": {
     "iopub.execute_input": "2021-05-11T17:08:13.352774Z",
     "iopub.status.busy": "2021-05-11T17:08:13.350828Z",
     "iopub.status.idle": "2021-05-11T17:08:13.355054Z",
     "shell.execute_reply": "2021-05-11T17:08:13.355655Z"
    },
    "slideshow": {
     "slide_type": "fragment"
    }
   },
   "outputs": [
    {
     "data": {
      "text/plain": [
       "{('<demo() return value>', (<function __main__.demo(x:int) -> int>, 5)),\n",
       " ('<test>', (<function __main__.demo(x:int) -> int>, 3)),\n",
       " ('x', (<function __main__.demo(x:int) -> int>, 1)),\n",
       " ('z', (<function __main__.demo(x:int) -> int>, 2)),\n",
       " ('z', (<function __main__.demo(x:int) -> int>, 4))}"
      ]
     },
     "execution_count": 1,
     "metadata": {},
     "output_type": "execute_result"
    }
   ],
   "source": [
    "slicer.dependencies().all_vars()"
   ]
  },
  {
   "cell_type": "markdown",
   "metadata": {
    "slideshow": {
     "slide_type": "fragment"
    }
   },
   "source": [
    "`code()` and `graph()` methods can also be applied on dependencies. The method `backward_slice(var)` returns a backward slice for the given variable (again given as a pair (_name_, _location_). To retrieve where `z` in Line 2 came from, use:"
   ]
  },
  {
   "cell_type": "code",
   "execution_count": 248,
   "metadata": {
    "execution": {
     "iopub.execute_input": "2021-05-11T17:08:13.361181Z",
     "iopub.status.busy": "2021-05-11T17:08:13.359812Z",
     "iopub.status.idle": "2021-05-11T17:08:13.362986Z",
     "shell.execute_reply": "2021-05-11T17:08:13.363425Z"
    },
    "slideshow": {
     "slide_type": "subslide"
    }
   },
   "outputs": [
    {
     "data": {
      "text/plain": [
       "1"
      ]
     },
     "execution_count": 1,
     "metadata": {},
     "output_type": "execute_result"
    }
   ],
   "source": [
    "_, start_demo = inspect.getsourcelines(demo)\n",
    "start_demo"
   ]
  },
  {
   "cell_type": "code",
   "execution_count": 249,
   "metadata": {
    "execution": {
     "iopub.execute_input": "2021-05-11T17:08:13.369032Z",
     "iopub.status.busy": "2021-05-11T17:08:13.368098Z",
     "iopub.status.idle": "2021-05-11T17:08:14.235497Z",
     "shell.execute_reply": "2021-05-11T17:08:14.236035Z"
    },
    "slideshow": {
     "slide_type": "fragment"
    }
   },
   "outputs": [
    {
     "data": {
      "image/svg+xml": [
       "<?xml version=\"1.0\" encoding=\"UTF-8\" standalone=\"no\"?>\n",
       "<!DOCTYPE svg PUBLIC \"-//W3C//DTD SVG 1.1//EN\"\n",
       " \"http://www.w3.org/Graphics/SVG/1.1/DTD/svg11.dtd\">\n",
       "<!-- Generated by graphviz version 2.40.1 (20161225.0304)\n",
       " -->\n",
       "<!-- Title: dependencies Pages: 1 -->\n",
       "<svg width=\"154pt\" height=\"124pt\"\n",
       " viewBox=\"0.00 0.00 154.00 124.00\" xmlns=\"http://www.w3.org/2000/svg\" xmlns:xlink=\"http://www.w3.org/1999/xlink\">\n",
       "<g id=\"graph0\" class=\"graph\" transform=\"scale(1 1) rotate(0) translate(4 120)\">\n",
       "<title>dependencies</title>\n",
       "<polygon fill=\"#ffffff\" stroke=\"transparent\" points=\"-4,4 -4,-120 150,-120 150,4 -4,4\"/>\n",
       "<!-- z_functiondemoat0x7fe245d7e488_2 -->\n",
       "<g id=\"node1\" class=\"node\">\n",
       "<title>z_functiondemoat0x7fe245d7e488_2</title>\n",
       "<g id=\"a_node1\"><a xlink:title=\"demo:2\">\n",
       "<polygon fill=\"#ffdab9\" stroke=\"#000000\" points=\"100,-40 46,-40 46,0 100,0 100,-40\"/>\n",
       "<text text-anchor=\"start\" x=\"68.5\" y=\"-25.8\" font-family=\"Fira Mono, Courier, monospace\" font-weight=\"bold\" font-size=\"14.00\" fill=\"#000000\">z</text>\n",
       "<text text-anchor=\"start\" x=\"59\" y=\"-6.8\" font-family=\"Fira Mono, Courier, monospace\" font-size=\"9.00\" fill=\"#000000\">z = x</text>\n",
       "</a>\n",
       "</g>\n",
       "</g>\n",
       "<!-- x_functiondemoat0x7fe245d7e488_1 -->\n",
       "<g id=\"node2\" class=\"node\">\n",
       "<title>x_functiondemoat0x7fe245d7e488_1</title>\n",
       "<g id=\"a_node2\"><a xlink:title=\"demo:1\">\n",
       "<polygon fill=\"#ffdab9\" stroke=\"#000000\" points=\"146,-116 0,-116 0,-76 146,-76 146,-116\"/>\n",
       "<text text-anchor=\"start\" x=\"68.5\" y=\"-101.8\" font-family=\"Fira Mono, Courier, monospace\" font-weight=\"bold\" font-size=\"14.00\" fill=\"#000000\">x</text>\n",
       "<text text-anchor=\"start\" x=\"8\" y=\"-82.8\" font-family=\"Fira Mono, Courier, monospace\" font-size=\"9.00\" fill=\"#000000\">def demo(x: int) &#45;&gt; int:</text>\n",
       "</a>\n",
       "</g>\n",
       "</g>\n",
       "<!-- x_functiondemoat0x7fe245d7e488_1&#45;&gt;z_functiondemoat0x7fe245d7e488_2 -->\n",
       "<g id=\"edge1\" class=\"edge\">\n",
       "<title>x_functiondemoat0x7fe245d7e488_1&#45;&gt;z_functiondemoat0x7fe245d7e488_2</title>\n",
       "<path fill=\"none\" stroke=\"#000000\" d=\"M66.9426,-75.6334C66.2819,-67.8186 66.0939,-58.7253 66.3786,-50.183\"/>\n",
       "<polygon fill=\"#000000\" stroke=\"#000000\" points=\"69.875,-50.3453 66.9602,-40.1593 62.8867,-49.9397 69.875,-50.3453\"/>\n",
       "</g>\n",
       "<!-- x_functiondemoat0x7fe245d7e488_1&#45;&gt;z_functiondemoat0x7fe245d7e488_2 -->\n",
       "</g>\n",
       "</svg>\n"
      ],
      "text/plain": [
       "<graphviz.dot.Digraph at 0x7fe245e9af98>"
      ]
     },
     "execution_count": 1,
     "metadata": {},
     "output_type": "execute_result"
    }
   ],
   "source": [
    "slicer.dependencies().backward_slice(('z', (demo, start_demo + 1))).graph()  # type: ignore"
   ]
  },
  {
   "cell_type": "markdown",
   "metadata": {
    "slideshow": {
     "slide_type": "fragment"
    }
   },
   "source": [
    "Here are the classes defined in this chapter. A `Slicer` instruments a program, using a `DependencyTracker` at run time to collect `Dependencies`."
   ]
  },
  {
   "cell_type": "code",
   "execution_count": 250,
   "metadata": {
    "execution": {
     "iopub.execute_input": "2021-05-11T17:08:14.240334Z",
     "iopub.status.busy": "2021-05-11T17:08:14.239466Z",
     "iopub.status.idle": "2021-05-11T17:08:14.241957Z",
     "shell.execute_reply": "2021-05-11T17:08:14.241482Z"
    },
    "slideshow": {
     "slide_type": "fragment"
    }
   },
   "outputs": [],
   "source": [
    "# ignore\n",
    "from ClassDiagram import display_class_hierarchy, class_tree"
   ]
  },
  {
   "cell_type": "code",
   "execution_count": 251,
   "metadata": {
    "execution": {
     "iopub.execute_input": "2021-05-11T17:08:14.246323Z",
     "iopub.status.busy": "2021-05-11T17:08:14.245729Z",
     "iopub.status.idle": "2021-05-11T17:08:14.248005Z",
     "shell.execute_reply": "2021-05-11T17:08:14.247415Z"
    },
    "slideshow": {
     "slide_type": "fragment"
    }
   },
   "outputs": [],
   "source": [
    "# ignore\n",
    "assert class_tree(Slicer)[0][0] == Slicer"
   ]
  },
  {
   "cell_type": "code",
   "execution_count": 252,
   "metadata": {
    "execution": {
     "iopub.execute_input": "2021-05-11T17:08:14.284809Z",
     "iopub.status.busy": "2021-05-11T17:08:14.266407Z",
     "iopub.status.idle": "2021-05-11T17:08:15.250299Z",
     "shell.execute_reply": "2021-05-11T17:08:15.251317Z"
    },
    "slideshow": {
     "slide_type": "subslide"
    }
   },
   "outputs": [
    {
     "data": {
      "image/svg+xml": [
       "<?xml version=\"1.0\" encoding=\"UTF-8\" standalone=\"no\"?>\n",
       "<!DOCTYPE svg PUBLIC \"-//W3C//DTD SVG 1.1//EN\"\n",
       " \"http://www.w3.org/Graphics/SVG/1.1/DTD/svg11.dtd\">\n",
       "<!-- Generated by graphviz version 2.40.1 (20161225.0304)\n",
       " -->\n",
       "<!-- Title: %3 Pages: 1 -->\n",
       "<svg width=\"545pt\" height=\"838pt\"\n",
       " viewBox=\"0.00 0.00 544.50 838.00\" xmlns=\"http://www.w3.org/2000/svg\" xmlns:xlink=\"http://www.w3.org/1999/xlink\">\n",
       "<g id=\"graph0\" class=\"graph\" transform=\"scale(1 1) rotate(0) translate(4 834)\">\n",
       "<title>%3</title>\n",
       "<g id=\"a_graph0\"><a xlink:title=\"Slicer class hierarchy\">\n",
       "<polygon fill=\"#ffffff\" stroke=\"transparent\" points=\"-4,4 -4,-834 540.5,-834 540.5,4 -4,4\"/>\n",
       "</a>\n",
       "</g>\n",
       "<!-- Slicer -->\n",
       "<g id=\"node1\" class=\"node\">\n",
       "<title>Slicer</title>\n",
       "<g id=\"a_node1\"><a xlink:href=\"#\" xlink:title=\"class Slicer:&#10;Track dependencies in an execution\">\n",
       "<polygon fill=\"none\" stroke=\"#000000\" points=\"0,-26.5 0,-222.5 191,-222.5 191,-26.5 0,-26.5\"/>\n",
       "<text text-anchor=\"start\" x=\"76\" y=\"-208.3\" font-family=\"Raleway, Helvetica, Arial, sans-serif\" font-weight=\"bold\" font-size=\"14.00\" fill=\"#6a0dad\">Slicer</text>\n",
       "<polyline fill=\"none\" stroke=\"#000000\" points=\"0,-199.5 191,-199.5 \"/>\n",
       "<g id=\"a_node1_0\"><a xlink:href=\"#\" xlink:title=\"Slicer\">\n",
       "<g id=\"a_node1_1\"><a xlink:href=\"#\" xlink:title=\"__init__(self, *items_to_instrument:Any, dependency_tracker:Union[__main__.DependencyTracker, NoneType]=None, globals:Union[Dict[str, Any], NoneType]=None, log:int=False):&#10;Create a slicer.&#10;`items_to_instrument` are Python functions or modules with source code.&#10;`dependency_tracker` is the tracker to be used (default: DependencyTracker).&#10;`globals` is the namespace to be used(default: caller&#39;s `globals()`)&#10;`log`=True or `log` &gt; 0 turns on logging\">\n",
       "<text text-anchor=\"start\" x=\"8.5\" y=\"-188\" font-family=\"'Fira Mono', 'Source Code Pro', 'Courier', monospace\" font-weight=\"bold\" font-style=\"italic\" font-size=\"10.00\" fill=\"#000000\">__init__()</text>\n",
       "</a>\n",
       "</g>\n",
       "<g id=\"a_node1_2\"><a xlink:href=\"#\" xlink:title=\"_repr_svg_(self) &#45;&gt; Any:&#10;If the object is output in Jupyter, render dependencies as a SVG graph\">\n",
       "<text text-anchor=\"start\" x=\"8.5\" y=\"-177\" font-family=\"'Fira Mono', 'Source Code Pro', 'Courier', monospace\" font-weight=\"bold\" font-size=\"10.00\" fill=\"#000000\">_repr_svg_()</text>\n",
       "</a>\n",
       "</g>\n",
       "<g id=\"a_node1_3\"><a xlink:href=\"#\" xlink:title=\"code(self, *args:Any, **kwargs:Any) &#45;&gt; None:&#10;Show code of instrumented items, annotated with dependencies.\">\n",
       "<text text-anchor=\"start\" x=\"8.5\" y=\"-166\" font-family=\"'Fira Mono', 'Source Code Pro', 'Courier', monospace\" font-weight=\"bold\" font-size=\"10.00\" fill=\"#000000\">code()</text>\n",
       "</a>\n",
       "</g>\n",
       "<g id=\"a_node1_4\"><a xlink:href=\"#\" xlink:title=\"dependencies(self) &#45;&gt; __main__.Dependencies:&#10;Return collected dependencies.\">\n",
       "<text text-anchor=\"start\" x=\"8.5\" y=\"-155\" font-family=\"'Fira Mono', 'Source Code Pro', 'Courier', monospace\" font-weight=\"bold\" font-size=\"10.00\" fill=\"#000000\">dependencies()</text>\n",
       "</a>\n",
       "</g>\n",
       "<g id=\"a_node1_5\"><a xlink:href=\"#\" xlink:title=\"graph(self, *args:Any, **kwargs:Any) &#45;&gt; graphviz.dot.Digraph:&#10;Show dependency graph.\">\n",
       "<text text-anchor=\"start\" x=\"8.5\" y=\"-144\" font-family=\"'Fira Mono', 'Source Code Pro', 'Courier', monospace\" font-weight=\"bold\" font-size=\"10.00\" fill=\"#000000\">graph()</text>\n",
       "</a>\n",
       "</g>\n",
       "<g id=\"a_node1_6\"><a xlink:href=\"#\" xlink:title=\"calls_in_our_with_block(self) &#45;&gt; Set[str]:&#10;Return a set of function names called in the `with` block.\">\n",
       "<text text-anchor=\"start\" x=\"8.5\" y=\"-132\" font-family=\"'Fira Mono', 'Source Code Pro', 'Courier', monospace\" font-size=\"10.00\" fill=\"#000000\">calls_in_our_with_block()</text>\n",
       "</a>\n",
       "</g>\n",
       "<g id=\"a_node1_7\"><a xlink:href=\"#\" xlink:title=\"default_items_to_instrument(self) &#45;&gt; List[Callable]\">\n",
       "<text text-anchor=\"start\" x=\"8.5\" y=\"-122\" font-family=\"'Fira Mono', 'Source Code Pro', 'Courier', monospace\" font-style=\"italic\" font-size=\"10.00\" fill=\"#000000\">default_items_to_instrument()</text>\n",
       "</a>\n",
       "</g>\n",
       "<g id=\"a_node1_8\"><a xlink:href=\"#\" xlink:title=\"execute(self, tree:_ast.AST, item:Any) &#45;&gt; None:&#10;Compile and execute `tree`. May be extended in subclasses.\">\n",
       "<text text-anchor=\"start\" x=\"8.5\" y=\"-111\" font-family=\"'Fira Mono', 'Source Code Pro', 'Courier', monospace\" font-style=\"italic\" font-size=\"10.00\" fill=\"#000000\">execute()</text>\n",
       "</a>\n",
       "</g>\n",
       "<g id=\"a_node1_9\"><a xlink:href=\"#\" xlink:title=\"funcs_in_our_with_block(self) &#45;&gt; List[Callable]\">\n",
       "<text text-anchor=\"start\" x=\"8.5\" y=\"-99\" font-family=\"'Fira Mono', 'Source Code Pro', 'Courier', monospace\" font-size=\"10.00\" fill=\"#000000\">funcs_in_our_with_block()</text>\n",
       "</a>\n",
       "</g>\n",
       "<g id=\"a_node1_10\"><a xlink:href=\"#\" xlink:title=\"instrument(self, item:Any) &#45;&gt; Any:&#10;Instrument `item`, transforming its source code, and re&#45;defining it.\">\n",
       "<text text-anchor=\"start\" x=\"8.5\" y=\"-89\" font-family=\"'Fira Mono', 'Source Code Pro', 'Courier', monospace\" font-style=\"italic\" font-size=\"10.00\" fill=\"#000000\">instrument()</text>\n",
       "</a>\n",
       "</g>\n",
       "<g id=\"a_node1_11\"><a xlink:href=\"#\" xlink:title=\"our_with_block(self) &#45;&gt; _ast.With:&#10;Return the currently active `with` block.\">\n",
       "<text text-anchor=\"start\" x=\"8.5\" y=\"-77\" font-family=\"'Fira Mono', 'Source Code Pro', 'Courier', monospace\" font-size=\"10.00\" fill=\"#000000\">our_with_block()</text>\n",
       "</a>\n",
       "</g>\n",
       "<g id=\"a_node1_12\"><a xlink:href=\"#\" xlink:title=\"parse(self, item:Any) &#45;&gt; _ast.AST:&#10;Parse `item`, returning its AST\">\n",
       "<text text-anchor=\"start\" x=\"8.5\" y=\"-66\" font-family=\"'Fira Mono', 'Source Code Pro', 'Courier', monospace\" font-size=\"10.00\" fill=\"#000000\">parse()</text>\n",
       "</a>\n",
       "</g>\n",
       "<g id=\"a_node1_13\"><a xlink:href=\"#\" xlink:title=\"restore(self) &#45;&gt; None:&#10;Restore original code.\">\n",
       "<text text-anchor=\"start\" x=\"8.5\" y=\"-56\" font-family=\"'Fira Mono', 'Source Code Pro', 'Courier', monospace\" font-style=\"italic\" font-size=\"10.00\" fill=\"#000000\">restore()</text>\n",
       "</a>\n",
       "</g>\n",
       "<g id=\"a_node1_14\"><a xlink:href=\"#\" xlink:title=\"transform(self, tree:_ast.AST) &#45;&gt; _ast.AST:&#10;Apply transformers on `tree`. May be extended in subclasses.\">\n",
       "<text text-anchor=\"start\" x=\"8.5\" y=\"-45\" font-family=\"'Fira Mono', 'Source Code Pro', 'Courier', monospace\" font-style=\"italic\" font-size=\"10.00\" fill=\"#000000\">transform()</text>\n",
       "</a>\n",
       "</g>\n",
       "<g id=\"a_node1_15\"><a xlink:href=\"#\" xlink:title=\"transformers(self) &#45;&gt; List[ast.NodeTransformer]:&#10;List of transformers to apply. To be extended in subclasses.\">\n",
       "<text text-anchor=\"start\" x=\"8.5\" y=\"-34\" font-family=\"'Fira Mono', 'Source Code Pro', 'Courier', monospace\" font-style=\"italic\" font-size=\"10.00\" fill=\"#000000\">transformers()</text>\n",
       "</a>\n",
       "</g>\n",
       "</a>\n",
       "</g>\n",
       "</a>\n",
       "</g>\n",
       "</g>\n",
       "<!-- Instrumenter -->\n",
       "<g id=\"node2\" class=\"node\">\n",
       "<title>Instrumenter</title>\n",
       "<g id=\"a_node2\"><a xlink:href=\"#\" xlink:title=\"class Instrumenter:&#10;Instrument functions for dynamic tracking\">\n",
       "<polygon fill=\"none\" stroke=\"#000000\" points=\"18,-405 18,-502 209,-502 209,-405 18,-405\"/>\n",
       "<text text-anchor=\"start\" x=\"71\" y=\"-487.8\" font-family=\"Raleway, Helvetica, Arial, sans-serif\" font-weight=\"bold\" font-style=\"italic\" font-size=\"14.00\" fill=\"#6a0dad\">Instrumenter</text>\n",
       "<polyline fill=\"none\" stroke=\"#000000\" points=\"18,-479 209,-479 \"/>\n",
       "<g id=\"a_node2_16\"><a xlink:href=\"#\" xlink:title=\"Instrumenter\">\n",
       "<g id=\"a_node2_17\"><a xlink:href=\"#\" xlink:title=\"__enter__(self) &#45;&gt; Any:&#10;Instrument sources\">\n",
       "<text text-anchor=\"start\" x=\"26.5\" y=\"-468\" font-family=\"'Fira Mono', 'Source Code Pro', 'Courier', monospace\" font-weight=\"bold\" font-size=\"10.00\" fill=\"#000000\">__enter__()</text>\n",
       "</a>\n",
       "</g>\n",
       "<g id=\"a_node2_18\"><a xlink:href=\"#\" xlink:title=\"__exit__(self, exc_type:Type, exc_value:BaseException, traceback:traceback) &#45;&gt; Union[bool, NoneType]:&#10;Restore sources\">\n",
       "<text text-anchor=\"start\" x=\"26.5\" y=\"-457\" font-family=\"'Fira Mono', 'Source Code Pro', 'Courier', monospace\" font-weight=\"bold\" font-size=\"10.00\" fill=\"#000000\">__exit__()</text>\n",
       "</a>\n",
       "</g>\n",
       "<g id=\"a_node2_19\"><a xlink:href=\"#\" xlink:title=\"__init__(self, *items_to_instrument:Callable, globals:Union[Dict[str, Any], NoneType]=None, log:int=False) &#45;&gt; None:&#10;Create an instrumenter.&#10;`items_to_instrument` is a list of items to instrument.&#10;`globals` is a namespace to use (default: caller&#39;s globals())\">\n",
       "<text text-anchor=\"start\" x=\"26.5\" y=\"-446\" font-family=\"'Fira Mono', 'Source Code Pro', 'Courier', monospace\" font-weight=\"bold\" font-style=\"italic\" font-size=\"10.00\" fill=\"#000000\">__init__()</text>\n",
       "</a>\n",
       "</g>\n",
       "<g id=\"a_node2_20\"><a xlink:href=\"#\" xlink:title=\"instrument(self, item:Any) &#45;&gt; Any:&#10;Instrument `item`. To be overloaded in subclasses.\">\n",
       "<text text-anchor=\"start\" x=\"26.5\" y=\"-435\" font-family=\"'Fira Mono', 'Source Code Pro', 'Courier', monospace\" font-weight=\"bold\" font-style=\"italic\" font-size=\"10.00\" fill=\"#000000\">instrument()</text>\n",
       "</a>\n",
       "</g>\n",
       "<g id=\"a_node2_21\"><a xlink:href=\"#\" xlink:title=\"default_items_to_instrument(self) &#45;&gt; List[Callable]\">\n",
       "<text text-anchor=\"start\" x=\"26.5\" y=\"-424\" font-family=\"'Fira Mono', 'Source Code Pro', 'Courier', monospace\" font-style=\"italic\" font-size=\"10.00\" fill=\"#000000\">default_items_to_instrument()</text>\n",
       "</a>\n",
       "</g>\n",
       "<g id=\"a_node2_22\"><a xlink:href=\"#\" xlink:title=\"restore(self) &#45;&gt; None\">\n",
       "<text text-anchor=\"start\" x=\"26.5\" y=\"-413\" font-family=\"'Fira Mono', 'Source Code Pro', 'Courier', monospace\" font-style=\"italic\" font-size=\"10.00\" fill=\"#000000\">restore()</text>\n",
       "</a>\n",
       "</g>\n",
       "</a>\n",
       "</g>\n",
       "</a>\n",
       "</g>\n",
       "</g>\n",
       "<!-- Slicer&#45;&gt;Instrumenter -->\n",
       "<g id=\"edge1\" class=\"edge\">\n",
       "<title>Slicer&#45;&gt;Instrumenter</title>\n",
       "<path fill=\"none\" stroke=\"#000000\" d=\"M100.8762,-222.7652C103.9356,-278.6848 107.6658,-346.8632 110.2749,-394.5528\"/>\n",
       "<polygon fill=\"none\" stroke=\"#000000\" points=\"106.7893,-394.9128 110.8305,-404.7066 113.7788,-394.5303 106.7893,-394.9128\"/>\n",
       "</g>\n",
       "<!-- StackInspector -->\n",
       "<g id=\"node3\" class=\"node\">\n",
       "<title>StackInspector</title>\n",
       "<g id=\"a_node3\"><a xlink:href=\"StackInspector.ipynb\" xlink:title=\"class StackInspector:&#10;Provide functions to inspect the stack\">\n",
       "<polygon fill=\"none\" stroke=\"#000000\" points=\"212,-658.5 212,-829.5 379,-829.5 379,-658.5 212,-658.5\"/>\n",
       "<text text-anchor=\"start\" x=\"245.5\" y=\"-815.3\" font-family=\"Raleway, Helvetica, Arial, sans-serif\" font-weight=\"bold\" font-style=\"italic\" font-size=\"14.00\" fill=\"#6a0dad\">StackInspector</text>\n",
       "<polyline fill=\"none\" stroke=\"#000000\" points=\"212,-806.5 379,-806.5 \"/>\n",
       "<g id=\"a_node3_23\"><a xlink:href=\"#\" xlink:title=\"StackInspector\">\n",
       "<g id=\"a_node3_24\"><a xlink:href=\"StackInspector.ipynb\" xlink:title=\"_generated_function_cache = {(&#39;&lt;module&gt;&#39;, 2): &lt;function &lt;module&gt; at 0x7fe245cd9d90&gt;, (&#39;&lt;module&gt;&#39;, 1): &lt;function &lt;module&gt; at 0x7fe245cd9488&gt;, (&#39;&lt;module&gt;&#39;, 3): &lt;function &lt;module&gt; at 0x7fe245f68c80&gt;, (&#39;&lt;module&gt;&#39;, 4): &lt;function &lt;module&gt; at 0x7fe245f68950&gt;, (&#39;&lt;listcomp&gt;&#39;, 18): &lt;bound method StackInspector.unknown of &lt;__main__.DependencyTracker object at 0x7fe246a18630&gt;&gt;}\">\n",
       "<text text-anchor=\"start\" x=\"220.5\" y=\"-794\" font-family=\"'Fira Mono', 'Source Code Pro', 'Courier', monospace\" font-size=\"10.00\" fill=\"#000000\">_generated_function_cache</text>\n",
       "</a>\n",
       "</g>\n",
       "</a>\n",
       "</g>\n",
       "<polyline fill=\"none\" stroke=\"#000000\" points=\"212,-787.5 379,-787.5 \"/>\n",
       "<g id=\"a_node3_25\"><a xlink:href=\"#\" xlink:title=\"StackInspector\">\n",
       "<g id=\"a_node3_26\"><a xlink:href=\"StackInspector.ipynb\" xlink:title=\"caller_frame(self) &#45;&gt; frame:&#10;Return the frame of the caller.\">\n",
       "<text text-anchor=\"start\" x=\"238.5\" y=\"-776\" font-family=\"'Fira Mono', 'Source Code Pro', 'Courier', monospace\" font-weight=\"bold\" font-size=\"10.00\" fill=\"#000000\">caller_frame()</text>\n",
       "</a>\n",
       "</g>\n",
       "<g id=\"a_node3_27\"><a xlink:href=\"StackInspector.ipynb\" xlink:title=\"caller_function(self) &#45;&gt; Callable:&#10;Return the calling function\">\n",
       "<text text-anchor=\"start\" x=\"238.5\" y=\"-765\" font-family=\"'Fira Mono', 'Source Code Pro', 'Courier', monospace\" font-weight=\"bold\" font-size=\"10.00\" fill=\"#000000\">caller_function()</text>\n",
       "</a>\n",
       "</g>\n",
       "<g id=\"a_node3_28\"><a xlink:href=\"StackInspector.ipynb\" xlink:title=\"caller_globals(self) &#45;&gt; Dict[str, Any]:&#10;Return the globals() environment of the caller.\">\n",
       "<text text-anchor=\"start\" x=\"238.5\" y=\"-754\" font-family=\"'Fira Mono', 'Source Code Pro', 'Courier', monospace\" font-weight=\"bold\" font-size=\"10.00\" fill=\"#000000\">caller_globals()</text>\n",
       "</a>\n",
       "</g>\n",
       "<g id=\"a_node3_29\"><a xlink:href=\"StackInspector.ipynb\" xlink:title=\"caller_locals(self) &#45;&gt; Dict[str, Any]:&#10;Return the locals() environment of the caller.\">\n",
       "<text text-anchor=\"start\" x=\"238.5\" y=\"-743\" font-family=\"'Fira Mono', 'Source Code Pro', 'Courier', monospace\" font-weight=\"bold\" font-size=\"10.00\" fill=\"#000000\">caller_locals()</text>\n",
       "</a>\n",
       "</g>\n",
       "<g id=\"a_node3_30\"><a xlink:href=\"StackInspector.ipynb\" xlink:title=\"caller_location(self) &#45;&gt; Tuple[Callable, int]:&#10;Return the location (func, lineno) of the caller.\">\n",
       "<text text-anchor=\"start\" x=\"238.5\" y=\"-732\" font-family=\"'Fira Mono', 'Source Code Pro', 'Courier', monospace\" font-weight=\"bold\" font-size=\"10.00\" fill=\"#000000\">caller_location()</text>\n",
       "</a>\n",
       "</g>\n",
       "<g id=\"a_node3_31\"><a xlink:href=\"StackInspector.ipynb\" xlink:title=\"search_frame(self, name:str, frame:Union[frame, NoneType]=None) &#45;&gt; Tuple[Union[frame, NoneType], Union[Callable, NoneType]]:&#10;Return a pair (`frame`, `item`)&#10;in which the function `name` is defined as `item`.\">\n",
       "<text text-anchor=\"start\" x=\"238.5\" y=\"-721\" font-family=\"'Fira Mono', 'Source Code Pro', 'Courier', monospace\" font-weight=\"bold\" font-size=\"10.00\" fill=\"#000000\">search_frame()</text>\n",
       "</a>\n",
       "</g>\n",
       "<g id=\"a_node3_32\"><a xlink:href=\"StackInspector.ipynb\" xlink:title=\"search_func(self, name:str, frame:Union[frame, NoneType]=None) &#45;&gt; Union[Callable, NoneType]:&#10;Search in callers for a definition of the function `name`\">\n",
       "<text text-anchor=\"start\" x=\"238.5\" y=\"-710\" font-family=\"'Fira Mono', 'Source Code Pro', 'Courier', monospace\" font-weight=\"bold\" font-size=\"10.00\" fill=\"#000000\">search_func()</text>\n",
       "</a>\n",
       "</g>\n",
       "<g id=\"a_node3_33\"><a xlink:href=\"StackInspector.ipynb\" xlink:title=\"create_function(self, frame:frame) &#45;&gt; Callable:&#10;Create function for given frame\">\n",
       "<text text-anchor=\"start\" x=\"238.5\" y=\"-698\" font-family=\"'Fira Mono', 'Source Code Pro', 'Courier', monospace\" font-size=\"10.00\" fill=\"#000000\">create_function()</text>\n",
       "</a>\n",
       "</g>\n",
       "<g id=\"a_node3_34\"><a xlink:href=\"StackInspector.ipynb\" xlink:title=\"is_internal_error(self, exc_tp:Type, exc_value:BaseException, exc_traceback:traceback) &#45;&gt; bool:&#10;Return True if exception was raised from `StackInspector` or a subclass.\">\n",
       "<text text-anchor=\"start\" x=\"238.5\" y=\"-687\" font-family=\"'Fira Mono', 'Source Code Pro', 'Courier', monospace\" font-size=\"10.00\" fill=\"#000000\">is_internal_error()</text>\n",
       "</a>\n",
       "</g>\n",
       "<g id=\"a_node3_35\"><a xlink:href=\"StackInspector.ipynb\" xlink:title=\"our_frame(self, frame:frame) &#45;&gt; bool:&#10;Return true if `frame` is in the current (inspecting) class.\">\n",
       "<text text-anchor=\"start\" x=\"238.5\" y=\"-676\" font-family=\"'Fira Mono', 'Source Code Pro', 'Courier', monospace\" font-size=\"10.00\" fill=\"#000000\">our_frame()</text>\n",
       "</a>\n",
       "</g>\n",
       "<g id=\"a_node3_36\"><a xlink:href=\"StackInspector.ipynb\" xlink:title=\"unknown(self) &#45;&gt; None\">\n",
       "<text text-anchor=\"start\" x=\"238.5\" y=\"-665\" font-family=\"'Fira Mono', 'Source Code Pro', 'Courier', monospace\" font-size=\"10.00\" fill=\"#000000\">unknown()</text>\n",
       "</a>\n",
       "</g>\n",
       "</a>\n",
       "</g>\n",
       "</a>\n",
       "</g>\n",
       "</g>\n",
       "<!-- Instrumenter&#45;&gt;StackInspector -->\n",
       "<g id=\"edge2\" class=\"edge\">\n",
       "<title>Instrumenter&#45;&gt;StackInspector</title>\n",
       "<path fill=\"none\" stroke=\"#000000\" d=\"M143.9627,-502.1232C169.1168,-542.273 205.5651,-600.45 236.4118,-649.6861\"/>\n",
       "<polygon fill=\"none\" stroke=\"#000000\" points=\"233.6286,-651.8362 241.9038,-658.4522 239.5606,-648.1197 233.6286,-651.8362\"/>\n",
       "</g>\n",
       "<!-- DependencyTracker -->\n",
       "<g id=\"node4\" class=\"node\">\n",
       "<title>DependencyTracker</title>\n",
       "<g id=\"a_node4\"><a xlink:href=\"#\" xlink:title=\"class DependencyTracker:&#10;Track dependencies during execution\">\n",
       "<polygon fill=\"none\" stroke=\"#000000\" points=\"209,-.5 209,-248.5 400,-248.5 400,-.5 209,-.5\"/>\n",
       "<text text-anchor=\"start\" x=\"235.5\" y=\"-234.3\" font-family=\"Raleway, Helvetica, Arial, sans-serif\" font-weight=\"bold\" font-size=\"14.00\" fill=\"#6a0dad\">DependencyTracker</text>\n",
       "<polyline fill=\"none\" stroke=\"#000000\" points=\"209,-225.5 400,-225.5 \"/>\n",
       "<g id=\"a_node4_37\"><a xlink:href=\"#\" xlink:title=\"DependencyTracker\">\n",
       "<g id=\"a_node4_38\"><a xlink:href=\"#\" xlink:title=\"TEST = &#39;&lt;test&gt;&#39;\">\n",
       "<text text-anchor=\"start\" x=\"292.5\" y=\"-213\" font-family=\"'Fira Mono', 'Source Code Pro', 'Courier', monospace\" font-size=\"10.00\" fill=\"#000000\">TEST</text>\n",
       "</a>\n",
       "</g>\n",
       "</a>\n",
       "</g>\n",
       "<polyline fill=\"none\" stroke=\"#000000\" points=\"209,-206.5 400,-206.5 \"/>\n",
       "<g id=\"a_node4_39\"><a xlink:href=\"#\" xlink:title=\"DependencyTracker\">\n",
       "<g id=\"a_node4_40\"><a xlink:href=\"#\" xlink:title=\"__enter__(self) &#45;&gt; Any:&#10;Track entering an if/while/for block\">\n",
       "<text text-anchor=\"start\" x=\"217.5\" y=\"-195.5\" font-family=\"'Fira Mono', 'Source Code Pro', 'Courier', monospace\" font-weight=\"bold\" font-style=\"italic\" font-size=\"10.00\" fill=\"#000000\">__enter__()</text>\n",
       "</a>\n",
       "</g>\n",
       "<g id=\"a_node4_41\"><a xlink:href=\"#\" xlink:title=\"__exit__(self, exc_type:Type, exc_value:BaseException, traceback:traceback) &#45;&gt; Union[bool, NoneType]:&#10;Track exiting an if/while/for block\">\n",
       "<text text-anchor=\"start\" x=\"217.5\" y=\"-184.5\" font-family=\"'Fira Mono', 'Source Code Pro', 'Courier', monospace\" font-weight=\"bold\" font-style=\"italic\" font-size=\"10.00\" fill=\"#000000\">__exit__()</text>\n",
       "</a>\n",
       "</g>\n",
       "<g id=\"a_node4_42\"><a xlink:href=\"#\" xlink:title=\"__init__(self, *args:Any, **kwargs:Any) &#45;&gt; None:&#10;Constructor. Arguments are passed to DataTracker.__init__()\">\n",
       "<text text-anchor=\"start\" x=\"217.5\" y=\"-173.5\" font-family=\"'Fira Mono', 'Source Code Pro', 'Courier', monospace\" font-weight=\"bold\" font-style=\"italic\" font-size=\"10.00\" fill=\"#000000\">__init__()</text>\n",
       "</a>\n",
       "</g>\n",
       "<g id=\"a_node4_43\"><a xlink:href=\"#\" xlink:title=\"arg(self, value:Any, pos:Union[int, NoneType]=None, kw:Union[str, NoneType]=None) &#45;&gt; Any:&#10;Track passing an argument `value`&#10;(with given position `pos` 1..n or keyword `kw`)\">\n",
       "<text text-anchor=\"start\" x=\"217.5\" y=\"-162.5\" font-family=\"'Fira Mono', 'Source Code Pro', 'Courier', monospace\" font-weight=\"bold\" font-style=\"italic\" font-size=\"10.00\" fill=\"#000000\">arg()</text>\n",
       "</a>\n",
       "</g>\n",
       "<g id=\"a_node4_44\"><a xlink:href=\"#\" xlink:title=\"call(self, func:Callable) &#45;&gt; Callable:&#10;Track a call of function `func`\">\n",
       "<text text-anchor=\"start\" x=\"217.5\" y=\"-151.5\" font-family=\"'Fira Mono', 'Source Code Pro', 'Courier', monospace\" font-weight=\"bold\" font-style=\"italic\" font-size=\"10.00\" fill=\"#000000\">call()</text>\n",
       "</a>\n",
       "</g>\n",
       "<g id=\"a_node4_45\"><a xlink:href=\"#\" xlink:title=\"get(self, name:str, value:Any) &#45;&gt; Any:&#10;Track a read access for variable `name` with value `value`\">\n",
       "<text text-anchor=\"start\" x=\"217.5\" y=\"-140.5\" font-family=\"'Fira Mono', 'Source Code Pro', 'Courier', monospace\" font-weight=\"bold\" font-style=\"italic\" font-size=\"10.00\" fill=\"#000000\">get()</text>\n",
       "</a>\n",
       "</g>\n",
       "<g id=\"a_node4_46\"><a xlink:href=\"#\" xlink:title=\"param(self, name:str, value:Any, pos:Union[int, NoneType]=None, vararg:str=&#39;&#39;, last:bool=False) &#45;&gt; Any:&#10;Track getting a parameter `name` with value `value`&#10;(with given position `pos`).&#10;vararg parameters are indicated by setting `varargs` to&#10;&#39;*&#39; (*args) or &#39;**&#39; (**kwargs)\">\n",
       "<text text-anchor=\"start\" x=\"217.5\" y=\"-129.5\" font-family=\"'Fira Mono', 'Source Code Pro', 'Courier', monospace\" font-weight=\"bold\" font-style=\"italic\" font-size=\"10.00\" fill=\"#000000\">param()</text>\n",
       "</a>\n",
       "</g>\n",
       "<g id=\"a_node4_47\"><a xlink:href=\"#\" xlink:title=\"ret(self, value:Any) &#45;&gt; Any:&#10;Track a function return\">\n",
       "<text text-anchor=\"start\" x=\"217.5\" y=\"-118.5\" font-family=\"'Fira Mono', 'Source Code Pro', 'Courier', monospace\" font-weight=\"bold\" font-style=\"italic\" font-size=\"10.00\" fill=\"#000000\">ret()</text>\n",
       "</a>\n",
       "</g>\n",
       "<g id=\"a_node4_48\"><a xlink:href=\"#\" xlink:title=\"set(self, name:str, value:Any, loads:Union[Set[str], NoneType]=None) &#45;&gt; Any:&#10;Add a dependency for `name` = `value`\">\n",
       "<text text-anchor=\"start\" x=\"217.5\" y=\"-107.5\" font-family=\"'Fira Mono', 'Source Code Pro', 'Courier', monospace\" font-weight=\"bold\" font-style=\"italic\" font-size=\"10.00\" fill=\"#000000\">set()</text>\n",
       "</a>\n",
       "</g>\n",
       "<g id=\"a_node4_49\"><a xlink:href=\"#\" xlink:title=\"test(self, value:Any) &#45;&gt; Any:&#10;Track a test for condition `value`\">\n",
       "<text text-anchor=\"start\" x=\"217.5\" y=\"-96.5\" font-family=\"'Fira Mono', 'Source Code Pro', 'Courier', monospace\" font-weight=\"bold\" font-style=\"italic\" font-size=\"10.00\" fill=\"#000000\">test()</text>\n",
       "</a>\n",
       "</g>\n",
       "<g id=\"a_node4_50\"><a xlink:href=\"#\" xlink:title=\"call_generator(self, func:Callable) &#45;&gt; Callable:&#10;Track a call of a generator function\">\n",
       "<text text-anchor=\"start\" x=\"217.5\" y=\"-84.5\" font-family=\"'Fira Mono', 'Source Code Pro', 'Courier', monospace\" font-size=\"10.00\" fill=\"#000000\">call_generator()</text>\n",
       "</a>\n",
       "</g>\n",
       "<g id=\"a_node4_51\"><a xlink:href=\"#\" xlink:title=\"check_location(self) &#45;&gt; None:&#10;If we are in a new location, clear set of read variables\">\n",
       "<text text-anchor=\"start\" x=\"217.5\" y=\"-73.5\" font-family=\"'Fira Mono', 'Source Code Pro', 'Courier', monospace\" font-size=\"10.00\" fill=\"#000000\">check_location()</text>\n",
       "</a>\n",
       "</g>\n",
       "<g id=\"a_node4_52\"><a xlink:href=\"#\" xlink:title=\"clear_read(self) &#45;&gt; None:&#10;Clear set of read variables\">\n",
       "<text text-anchor=\"start\" x=\"217.5\" y=\"-62.5\" font-family=\"'Fira Mono', 'Source Code Pro', 'Courier', monospace\" font-size=\"10.00\" fill=\"#000000\">clear_read()</text>\n",
       "</a>\n",
       "</g>\n",
       "<g id=\"a_node4_53\"><a xlink:href=\"#\" xlink:title=\"dependencies(self) &#45;&gt; __main__.Dependencies:&#10;Return dependencies\">\n",
       "<text text-anchor=\"start\" x=\"217.5\" y=\"-51.5\" font-family=\"'Fira Mono', 'Source Code Pro', 'Courier', monospace\" font-size=\"10.00\" fill=\"#000000\">dependencies()</text>\n",
       "</a>\n",
       "</g>\n",
       "<g id=\"a_node4_54\"><a xlink:href=\"#\" xlink:title=\"ignore_location_change(self) &#45;&gt; None\">\n",
       "<text text-anchor=\"start\" x=\"217.5\" y=\"-40.5\" font-family=\"'Fira Mono', 'Source Code Pro', 'Courier', monospace\" font-size=\"10.00\" fill=\"#000000\">ignore_location_change()</text>\n",
       "</a>\n",
       "</g>\n",
       "<g id=\"a_node4_55\"><a xlink:href=\"#\" xlink:title=\"ignore_next_location_change(self) &#45;&gt; None\">\n",
       "<text text-anchor=\"start\" x=\"217.5\" y=\"-29.5\" font-family=\"'Fira Mono', 'Source Code Pro', 'Courier', monospace\" font-size=\"10.00\" fill=\"#000000\">ignore_next_location_change()</text>\n",
       "</a>\n",
       "</g>\n",
       "<g id=\"a_node4_56\"><a xlink:href=\"#\" xlink:title=\"in_generator(self) &#45;&gt; bool:&#10;True if we are calling a generator function\">\n",
       "<text text-anchor=\"start\" x=\"217.5\" y=\"-18.5\" font-family=\"'Fira Mono', 'Source Code Pro', 'Courier', monospace\" font-size=\"10.00\" fill=\"#000000\">in_generator()</text>\n",
       "</a>\n",
       "</g>\n",
       "<g id=\"a_node4_57\"><a xlink:href=\"#\" xlink:title=\"ret_generator(self, generator:Any) &#45;&gt; Any:&#10;Track the return of a generator function\">\n",
       "<text text-anchor=\"start\" x=\"217.5\" y=\"-7.5\" font-family=\"'Fira Mono', 'Source Code Pro', 'Courier', monospace\" font-size=\"10.00\" fill=\"#000000\">ret_generator()</text>\n",
       "</a>\n",
       "</g>\n",
       "</a>\n",
       "</g>\n",
       "</a>\n",
       "</g>\n",
       "</g>\n",
       "<!-- DataTracker -->\n",
       "<g id=\"node5\" class=\"node\">\n",
       "<title>DataTracker</title>\n",
       "<g id=\"a_node5\"><a xlink:href=\"#\" xlink:title=\"class DataTracker:&#10;Track data accesses during execution\">\n",
       "<polygon fill=\"none\" stroke=\"#000000\" points=\"236,-372 236,-535 355,-535 355,-372 236,-372\"/>\n",
       "<text text-anchor=\"start\" x=\"253.5\" y=\"-520.8\" font-family=\"Raleway, Helvetica, Arial, sans-serif\" font-weight=\"bold\" font-size=\"14.00\" fill=\"#6a0dad\">DataTracker</text>\n",
       "<polyline fill=\"none\" stroke=\"#000000\" points=\"236,-512 355,-512 \"/>\n",
       "<g id=\"a_node5_58\"><a xlink:href=\"#\" xlink:title=\"DataTracker\">\n",
       "<g id=\"a_node5_59\"><a xlink:href=\"#\" xlink:title=\"__enter__(self) &#45;&gt; Any:&#10;Enter `with` block. To be overloaded in subclasses.\">\n",
       "<text text-anchor=\"start\" x=\"244.5\" y=\"-501\" font-family=\"'Fira Mono', 'Source Code Pro', 'Courier', monospace\" font-weight=\"bold\" font-style=\"italic\" font-size=\"10.00\" fill=\"#000000\">__enter__()</text>\n",
       "</a>\n",
       "</g>\n",
       "<g id=\"a_node5_60\"><a xlink:href=\"#\" xlink:title=\"__exit__(self, exc_type:Type, exc_value:BaseException, traceback:traceback) &#45;&gt; Union[bool, NoneType]:&#10;Exit `with` block. To be overloaded in subclasses.\">\n",
       "<text text-anchor=\"start\" x=\"244.5\" y=\"-490\" font-family=\"'Fira Mono', 'Source Code Pro', 'Courier', monospace\" font-weight=\"bold\" font-style=\"italic\" font-size=\"10.00\" fill=\"#000000\">__exit__()</text>\n",
       "</a>\n",
       "</g>\n",
       "<g id=\"a_node5_61\"><a xlink:href=\"#\" xlink:title=\"__init__(self, log:bool=False) &#45;&gt; None:&#10;Constructor. If `log` is set, turn on logging.\">\n",
       "<text text-anchor=\"start\" x=\"244.5\" y=\"-479\" font-family=\"'Fira Mono', 'Source Code Pro', 'Courier', monospace\" font-weight=\"bold\" font-style=\"italic\" font-size=\"10.00\" fill=\"#000000\">__init__()</text>\n",
       "</a>\n",
       "</g>\n",
       "<g id=\"a_node5_62\"><a xlink:href=\"#\" xlink:title=\"arg(self, value:Any, pos:Union[int, NoneType]=None, kw:Union[str, NoneType]=None) &#45;&gt; Any:&#10;Track `value` being passed as argument.&#10;`pos` (if given) is the argument position (starting with 1).&#10;`kw` (if given) is the argument keyword.\">\n",
       "<text text-anchor=\"start\" x=\"244.5\" y=\"-468\" font-family=\"'Fira Mono', 'Source Code Pro', 'Courier', monospace\" font-weight=\"bold\" font-style=\"italic\" font-size=\"10.00\" fill=\"#000000\">arg()</text>\n",
       "</a>\n",
       "</g>\n",
       "<g id=\"a_node5_63\"><a xlink:href=\"#\" xlink:title=\"augment(self, name:str, value:Any) &#45;&gt; Any:&#10;Track augmenting `name` with `value`.&#10;To be overloaded in subclasses.\">\n",
       "<text text-anchor=\"start\" x=\"244.5\" y=\"-457\" font-family=\"'Fira Mono', 'Source Code Pro', 'Courier', monospace\" font-weight=\"bold\" font-style=\"italic\" font-size=\"10.00\" fill=\"#000000\">augment()</text>\n",
       "</a>\n",
       "</g>\n",
       "<g id=\"a_node5_64\"><a xlink:href=\"#\" xlink:title=\"call(self, func:Callable) &#45;&gt; Callable:&#10;Track a call to `func`.\">\n",
       "<text text-anchor=\"start\" x=\"244.5\" y=\"-446\" font-family=\"'Fira Mono', 'Source Code Pro', 'Courier', monospace\" font-weight=\"bold\" font-style=\"italic\" font-size=\"10.00\" fill=\"#000000\">call()</text>\n",
       "</a>\n",
       "</g>\n",
       "<g id=\"a_node5_65\"><a xlink:href=\"#\" xlink:title=\"get(self, name:str, value:Any) &#45;&gt; Any:&#10;Track getting `value` from `name`.\">\n",
       "<text text-anchor=\"start\" x=\"244.5\" y=\"-435\" font-family=\"'Fira Mono', 'Source Code Pro', 'Courier', monospace\" font-weight=\"bold\" font-style=\"italic\" font-size=\"10.00\" fill=\"#000000\">get()</text>\n",
       "</a>\n",
       "</g>\n",
       "<g id=\"a_node5_66\"><a xlink:href=\"#\" xlink:title=\"param(self, name:str, value:Any, pos:Union[int, NoneType]=None, vararg:str=&#39;&#39;, last:bool=False) &#45;&gt; Any:&#10;At the beginning of a function, track parameter `name` being set to `value`.&#10;`pos` is the position of the argument (starting with 1).&#10;`vararg` is &quot;*&quot; if `name` is a vararg parameter (as in *args),&#10;and &quot;**&quot; is `name` is a kwargs parameter (as in *kwargs).&#10;`last` is True if `name` is the last parameter.\">\n",
       "<text text-anchor=\"start\" x=\"244.5\" y=\"-424\" font-family=\"'Fira Mono', 'Source Code Pro', 'Courier', monospace\" font-weight=\"bold\" font-style=\"italic\" font-size=\"10.00\" fill=\"#000000\">param()</text>\n",
       "</a>\n",
       "</g>\n",
       "<g id=\"a_node5_67\"><a xlink:href=\"#\" xlink:title=\"ret(self, value:Any) &#45;&gt; Any:&#10;Track `value` being used as return value.\">\n",
       "<text text-anchor=\"start\" x=\"244.5\" y=\"-413\" font-family=\"'Fira Mono', 'Source Code Pro', 'Courier', monospace\" font-weight=\"bold\" font-style=\"italic\" font-size=\"10.00\" fill=\"#000000\">ret()</text>\n",
       "</a>\n",
       "</g>\n",
       "<g id=\"a_node5_68\"><a xlink:href=\"#\" xlink:title=\"set(self, name:str, value:Any, loads:Union[Set[str], NoneType]=None) &#45;&gt; Any:&#10;Track setting `name` to `value`.\">\n",
       "<text text-anchor=\"start\" x=\"244.5\" y=\"-402\" font-family=\"'Fira Mono', 'Source Code Pro', 'Courier', monospace\" font-weight=\"bold\" font-style=\"italic\" font-size=\"10.00\" fill=\"#000000\">set()</text>\n",
       "</a>\n",
       "</g>\n",
       "<g id=\"a_node5_69\"><a xlink:href=\"#\" xlink:title=\"test(self, cond:_ast.AST) &#45;&gt; _ast.AST:&#10;Test condition `cond`. To be overloaded in subclasses.\">\n",
       "<text text-anchor=\"start\" x=\"244.5\" y=\"-391\" font-family=\"'Fira Mono', 'Source Code Pro', 'Courier', monospace\" font-weight=\"bold\" font-style=\"italic\" font-size=\"10.00\" fill=\"#000000\">test()</text>\n",
       "</a>\n",
       "</g>\n",
       "<g id=\"a_node5_70\"><a xlink:href=\"#\" xlink:title=\"instrument_call(self, func:Callable) &#45;&gt; Callable:&#10;Instrument a call to `func`. To be implemented in subclasses.\">\n",
       "<text text-anchor=\"start\" x=\"244.5\" y=\"-380\" font-family=\"'Fira Mono', 'Source Code Pro', 'Courier', monospace\" font-style=\"italic\" font-size=\"10.00\" fill=\"#000000\">instrument_call()</text>\n",
       "</a>\n",
       "</g>\n",
       "</a>\n",
       "</g>\n",
       "</a>\n",
       "</g>\n",
       "</g>\n",
       "<!-- DependencyTracker&#45;&gt;DataTracker -->\n",
       "<g id=\"edge3\" class=\"edge\">\n",
       "<title>DependencyTracker&#45;&gt;DataTracker</title>\n",
       "<path fill=\"none\" stroke=\"#000000\" d=\"M301.0975,-248.8808C300.0736,-286.3105 298.9689,-326.6915 298.0137,-361.6112\"/>\n",
       "<polygon fill=\"none\" stroke=\"#000000\" points=\"294.5102,-361.6925 297.7354,-371.7845 301.5076,-361.884 294.5102,-361.6925\"/>\n",
       "</g>\n",
       "<!-- DataTracker&#45;&gt;StackInspector -->\n",
       "<g id=\"edge4\" class=\"edge\">\n",
       "<title>DataTracker&#45;&gt;StackInspector</title>\n",
       "<path fill=\"none\" stroke=\"#000000\" d=\"M295.5,-535.1935C295.5,-570.3212 295.5,-611.6266 295.5,-648.1871\"/>\n",
       "<polygon fill=\"none\" stroke=\"#000000\" points=\"292.0001,-648.3641 295.5,-658.3642 299.0001,-648.3642 292.0001,-648.3641\"/>\n",
       "</g>\n",
       "<!-- Dependencies -->\n",
       "<g id=\"node6\" class=\"node\">\n",
       "<title>Dependencies</title>\n",
       "<g id=\"a_node6\"><a xlink:href=\"#\" xlink:title=\"class Dependencies:&#10;A dependency graph\">\n",
       "<polygon fill=\"none\" stroke=\"#000000\" points=\"373,-285.5 373,-621.5 504,-621.5 504,-285.5 373,-285.5\"/>\n",
       "<text text-anchor=\"start\" x=\"390\" y=\"-607.3\" font-family=\"Raleway, Helvetica, Arial, sans-serif\" font-weight=\"bold\" font-size=\"14.00\" fill=\"#6a0dad\">Dependencies</text>\n",
       "<polyline fill=\"none\" stroke=\"#000000\" points=\"373,-598.5 504,-598.5 \"/>\n",
       "<g id=\"a_node6_71\"><a xlink:href=\"#\" xlink:title=\"Dependencies\">\n",
       "<g id=\"a_node6_72\"><a xlink:href=\"#\" xlink:title=\"FONT_NAME = &#39;Fira Mono, Courier, monospace&#39;\">\n",
       "<text text-anchor=\"start\" x=\"408.5\" y=\"-586.5\" font-family=\"'Fira Mono', 'Source Code Pro', 'Courier', monospace\" font-size=\"10.00\" fill=\"#000000\">FONT_NAME</text>\n",
       "</a>\n",
       "</g>\n",
       "<g id=\"a_node6_73\"><a xlink:href=\"#\" xlink:title=\"NODE_COLOR = &#39;peachpuff&#39;\">\n",
       "<text text-anchor=\"start\" x=\"408.5\" y=\"-575.5\" font-family=\"'Fira Mono', 'Source Code Pro', 'Courier', monospace\" font-size=\"10.00\" fill=\"#000000\">NODE_COLOR</text>\n",
       "</a>\n",
       "</g>\n",
       "</a>\n",
       "</g>\n",
       "<polyline fill=\"none\" stroke=\"#000000\" points=\"373,-568.5 504,-568.5 \"/>\n",
       "<g id=\"a_node6_74\"><a xlink:href=\"#\" xlink:title=\"Dependencies\">\n",
       "<g id=\"a_node6_75\"><a xlink:href=\"#\" xlink:title=\"__init__(self, data:Union[Dict[Tuple[str, Tuple[Callable, int]], Set[Tuple[str, Tuple[Callable, int]]]], NoneType]=None, control:Union[Dict[Tuple[str, Tuple[Callable, int]], Set[Tuple[str, Tuple[Callable, int]]]], NoneType]=None) &#45;&gt; None:&#10;Create a dependency graph from `data` and `control`.&#10;Both `data` and `control` are dictionaries&#10;holding _nodes_ as keys and sets of nodes as values.&#10;Each node comes as a tuple (variable_name, location)&#10;where `variable_name` is a string&#10;and `location` is a pair (function, lineno)&#10;where `function` is a callable and `lineno` is a line number&#10;denoting a unique location in the code.\">\n",
       "<text text-anchor=\"start\" x=\"381.5\" y=\"-557\" font-family=\"'Fira Mono', 'Source Code Pro', 'Courier', monospace\" font-weight=\"bold\" font-size=\"10.00\" fill=\"#000000\">__init__()</text>\n",
       "</a>\n",
       "</g>\n",
       "<g id=\"a_node6_76\"><a xlink:href=\"#\" xlink:title=\"__repr__(self) &#45;&gt; str:&#10;Represent dependencies as a Python expression\">\n",
       "<text text-anchor=\"start\" x=\"381.5\" y=\"-546\" font-family=\"'Fira Mono', 'Source Code Pro', 'Courier', monospace\" font-weight=\"bold\" font-size=\"10.00\" fill=\"#000000\">__repr__()</text>\n",
       "</a>\n",
       "</g>\n",
       "<g id=\"a_node6_77\"><a xlink:href=\"#\" xlink:title=\"__str__(self) &#45;&gt; str:&#10;Return string representation of dependencies\">\n",
       "<text text-anchor=\"start\" x=\"381.5\" y=\"-535\" font-family=\"'Fira Mono', 'Source Code Pro', 'Courier', monospace\" font-weight=\"bold\" font-size=\"10.00\" fill=\"#000000\">__str__()</text>\n",
       "</a>\n",
       "</g>\n",
       "<g id=\"a_node6_78\"><a xlink:href=\"#\" xlink:title=\"_repr_svg_(self) &#45;&gt; Any:&#10;If the object is output in Jupyter, render dependencies as a SVG graph\">\n",
       "<text text-anchor=\"start\" x=\"381.5\" y=\"-524\" font-family=\"'Fira Mono', 'Source Code Pro', 'Courier', monospace\" font-weight=\"bold\" font-size=\"10.00\" fill=\"#000000\">_repr_svg_()</text>\n",
       "</a>\n",
       "</g>\n",
       "<g id=\"a_node6_79\"><a xlink:href=\"#\" xlink:title=\"all_functions(self) &#45;&gt; Dict[Callable, List[Tuple[int, Tuple[str, Tuple[Callable, int]]]]]:&#10;Return mapping&#10;{`function`: [(`lineno`, `var`), (`lineno`, `var`), ...], ...}&#10;for all functions in the dependencies.\">\n",
       "<text text-anchor=\"start\" x=\"381.5\" y=\"-513\" font-family=\"'Fira Mono', 'Source Code Pro', 'Courier', monospace\" font-weight=\"bold\" font-size=\"10.00\" fill=\"#000000\">all_functions()</text>\n",
       "</a>\n",
       "</g>\n",
       "<g id=\"a_node6_80\"><a xlink:href=\"#\" xlink:title=\"all_vars(self) &#45;&gt; Set[Tuple[str, Tuple[Callable, int]]]:&#10;Return a set of all variables (as `var_name`, `location`) in the dependencies\">\n",
       "<text text-anchor=\"start\" x=\"381.5\" y=\"-502\" font-family=\"'Fira Mono', 'Source Code Pro', 'Courier', monospace\" font-weight=\"bold\" font-size=\"10.00\" fill=\"#000000\">all_vars()</text>\n",
       "</a>\n",
       "</g>\n",
       "<g id=\"a_node6_81\"><a xlink:href=\"#\" xlink:title=\"backward_slice(self, *criteria:Union[str, Tuple[Callable, int], Tuple[str, Tuple[Callable, int]]], mode:str=&#39;cd&#39;, depth:int=&#45;1) &#45;&gt; __main__.Dependencies:&#10;Create a backward slice from nodes `criteria`.&#10;`mode` can contain &#39;c&#39; (draw control dependencies)&#10;and &#39;d&#39; (draw data dependencies) (default: &#39;cd&#39;)\">\n",
       "<text text-anchor=\"start\" x=\"381.5\" y=\"-491\" font-family=\"'Fira Mono', 'Source Code Pro', 'Courier', monospace\" font-weight=\"bold\" font-size=\"10.00\" fill=\"#000000\">backward_slice()</text>\n",
       "</a>\n",
       "</g>\n",
       "<g id=\"a_node6_82\"><a xlink:href=\"#\" xlink:title=\"code(self, *items:Callable, mode:str=&#39;cd&#39;) &#45;&gt; None:&#10;List `items` on standard output, including dependencies as comments.&#10;If `items` is empty, all included functions are listed.&#10;`mode` can contain &#39;c&#39; (draw control dependencies) and &#39;d&#39; (draw data dependencies)&#10;(default: &#39;cd&#39;).\">\n",
       "<text text-anchor=\"start\" x=\"381.5\" y=\"-480\" font-family=\"'Fira Mono', 'Source Code Pro', 'Courier', monospace\" font-weight=\"bold\" font-size=\"10.00\" fill=\"#000000\">code()</text>\n",
       "</a>\n",
       "</g>\n",
       "<g id=\"a_node6_83\"><a xlink:href=\"#\" xlink:title=\"graph(self, *, mode:str=&#39;flow&#39;) &#45;&gt; graphviz.dot.Digraph:&#10;Draw dependencies. `mode` is either&#10;* `&#39;flow&#39;`: arrows indicate information flow (from A to B); or&#10;* `&#39;depend&#39;`: arrows indicate dependencies (B depends on A)\">\n",
       "<text text-anchor=\"start\" x=\"381.5\" y=\"-469\" font-family=\"'Fira Mono', 'Source Code Pro', 'Courier', monospace\" font-weight=\"bold\" font-size=\"10.00\" fill=\"#000000\">graph()</text>\n",
       "</a>\n",
       "</g>\n",
       "<g id=\"a_node6_84\"><a xlink:href=\"#\" xlink:title=\"_code(self, item:Callable, mode:str) &#45;&gt; None\">\n",
       "<text text-anchor=\"start\" x=\"381.5\" y=\"-457\" font-family=\"'Fira Mono', 'Source Code Pro', 'Courier', monospace\" font-size=\"10.00\" fill=\"#000000\">_code()</text>\n",
       "</a>\n",
       "</g>\n",
       "<g id=\"a_node6_85\"><a xlink:href=\"#\" xlink:title=\"_source(self, node:Tuple[str, Tuple[Callable, int]]) &#45;&gt; str\">\n",
       "<text text-anchor=\"start\" x=\"381.5\" y=\"-446\" font-family=\"'Fira Mono', 'Source Code Pro', 'Courier', monospace\" font-size=\"10.00\" fill=\"#000000\">_source()</text>\n",
       "</a>\n",
       "</g>\n",
       "<g id=\"a_node6_86\"><a xlink:href=\"#\" xlink:title=\"add_hierarchy(self, g:graphviz.dot.Digraph) &#45;&gt; graphviz.dot.Digraph:&#10;Add invisible edges for a proper hierarchy.\">\n",
       "<text text-anchor=\"start\" x=\"381.5\" y=\"-435\" font-family=\"'Fira Mono', 'Source Code Pro', 'Courier', monospace\" font-size=\"10.00\" fill=\"#000000\">add_hierarchy()</text>\n",
       "</a>\n",
       "</g>\n",
       "<g id=\"a_node6_87\"><a xlink:href=\"#\" xlink:title=\"draw_dependencies(self, g:graphviz.dot.Digraph, mode:str) &#45;&gt; None\">\n",
       "<text text-anchor=\"start\" x=\"381.5\" y=\"-424\" font-family=\"'Fira Mono', 'Source Code Pro', 'Courier', monospace\" font-size=\"10.00\" fill=\"#000000\">draw_dependencies()</text>\n",
       "</a>\n",
       "</g>\n",
       "<g id=\"a_node6_88\"><a xlink:href=\"#\" xlink:title=\"draw_edge(self, g:graphviz.dot.Digraph, mode:str, node_from:str, node_to:str, **kwargs:Any) &#45;&gt; None\">\n",
       "<text text-anchor=\"start\" x=\"381.5\" y=\"-413\" font-family=\"'Fira Mono', 'Source Code Pro', 'Courier', monospace\" font-size=\"10.00\" fill=\"#000000\">draw_edge()</text>\n",
       "</a>\n",
       "</g>\n",
       "<g id=\"a_node6_89\"><a xlink:href=\"#\" xlink:title=\"expand_criteria(self, criteria:List[Union[str, Tuple[Callable, int], Tuple[str, Tuple[Callable, int]]]]) &#45;&gt; List[Tuple[str, Tuple[Callable, int]]]:&#10;Return list of vars matched by `criteria`.\">\n",
       "<text text-anchor=\"start\" x=\"381.5\" y=\"-402\" font-family=\"'Fira Mono', 'Source Code Pro', 'Courier', monospace\" font-size=\"10.00\" fill=\"#000000\">expand_criteria()</text>\n",
       "</a>\n",
       "</g>\n",
       "<g id=\"a_node6_90\"><a xlink:href=\"#\" xlink:title=\"format_var(self, var:Tuple[str, Tuple[Callable, int]], current_func:Union[Callable, NoneType]=None) &#45;&gt; str:&#10;Return string for `var` in `current_func`.\">\n",
       "<text text-anchor=\"start\" x=\"381.5\" y=\"-391\" font-family=\"'Fira Mono', 'Source Code Pro', 'Courier', monospace\" font-size=\"10.00\" fill=\"#000000\">format_var()</text>\n",
       "</a>\n",
       "</g>\n",
       "<g id=\"a_node6_91\"><a xlink:href=\"#\" xlink:title=\"id(self, var:Tuple[str, Tuple[Callable, int]]) &#45;&gt; str:&#10;Return a unique ID for `var`.\">\n",
       "<text text-anchor=\"start\" x=\"381.5\" y=\"-380\" font-family=\"'Fira Mono', 'Source Code Pro', 'Courier', monospace\" font-size=\"10.00\" fill=\"#000000\">id()</text>\n",
       "</a>\n",
       "</g>\n",
       "<g id=\"a_node6_92\"><a xlink:href=\"#\" xlink:title=\"label(self, var:Tuple[str, Tuple[Callable, int]]) &#45;&gt; str:&#10;Render node `var` using HTML style.\">\n",
       "<text text-anchor=\"start\" x=\"381.5\" y=\"-369\" font-family=\"'Fira Mono', 'Source Code Pro', 'Courier', monospace\" font-size=\"10.00\" fill=\"#000000\">label()</text>\n",
       "</a>\n",
       "</g>\n",
       "<g id=\"a_node6_93\"><a xlink:href=\"#\" xlink:title=\"make_graph(self, name:str=&#39;dependencies&#39;, comment:str=&#39;Dependencies&#39;) &#45;&gt; graphviz.dot.Digraph\">\n",
       "<text text-anchor=\"start\" x=\"381.5\" y=\"-358\" font-family=\"'Fira Mono', 'Source Code Pro', 'Courier', monospace\" font-size=\"10.00\" fill=\"#000000\">make_graph()</text>\n",
       "</a>\n",
       "</g>\n",
       "<g id=\"a_node6_94\"><a xlink:href=\"#\" xlink:title=\"repr_dependencies(self, vars:Dict[Tuple[str, Tuple[Callable, int]], Set[Tuple[str, Tuple[Callable, int]]]]) &#45;&gt; str\">\n",
       "<text text-anchor=\"start\" x=\"381.5\" y=\"-347\" font-family=\"'Fira Mono', 'Source Code Pro', 'Courier', monospace\" font-size=\"10.00\" fill=\"#000000\">repr_dependencies()</text>\n",
       "</a>\n",
       "</g>\n",
       "<g id=\"a_node6_95\"><a xlink:href=\"#\" xlink:title=\"repr_deps(self, var_set:Set[Tuple[str, Tuple[Callable, int]]]) &#45;&gt; str\">\n",
       "<text text-anchor=\"start\" x=\"381.5\" y=\"-336\" font-family=\"'Fira Mono', 'Source Code Pro', 'Courier', monospace\" font-size=\"10.00\" fill=\"#000000\">repr_deps()</text>\n",
       "</a>\n",
       "</g>\n",
       "<g id=\"a_node6_96\"><a xlink:href=\"#\" xlink:title=\"repr_var(self, var:Tuple[str, Tuple[Callable, int]]) &#45;&gt; str\">\n",
       "<text text-anchor=\"start\" x=\"381.5\" y=\"-325\" font-family=\"'Fira Mono', 'Source Code Pro', 'Courier', monospace\" font-size=\"10.00\" fill=\"#000000\">repr_var()</text>\n",
       "</a>\n",
       "</g>\n",
       "<g id=\"a_node6_97\"><a xlink:href=\"#\" xlink:title=\"source(self, node:Tuple[str, Tuple[Callable, int]]) &#45;&gt; str:&#10;Return the source code for a given node.\">\n",
       "<text text-anchor=\"start\" x=\"381.5\" y=\"-314\" font-family=\"'Fira Mono', 'Source Code Pro', 'Courier', monospace\" font-size=\"10.00\" fill=\"#000000\">source()</text>\n",
       "</a>\n",
       "</g>\n",
       "<g id=\"a_node6_98\"><a xlink:href=\"#\" xlink:title=\"tooltip(self, var:Tuple[str, Tuple[Callable, int]]) &#45;&gt; str:&#10;Return a tooltip for node `var`.\">\n",
       "<text text-anchor=\"start\" x=\"381.5\" y=\"-303\" font-family=\"'Fira Mono', 'Source Code Pro', 'Courier', monospace\" font-size=\"10.00\" fill=\"#000000\">tooltip()</text>\n",
       "</a>\n",
       "</g>\n",
       "<g id=\"a_node6_99\"><a xlink:href=\"#\" xlink:title=\"validate(self) &#45;&gt; None:&#10;Perform a simple syntactic validation of dependencies\">\n",
       "<text text-anchor=\"start\" x=\"381.5\" y=\"-292\" font-family=\"'Fira Mono', 'Source Code Pro', 'Courier', monospace\" font-size=\"10.00\" fill=\"#000000\">validate()</text>\n",
       "</a>\n",
       "</g>\n",
       "</a>\n",
       "</g>\n",
       "</a>\n",
       "</g>\n",
       "</g>\n",
       "<!-- Dependencies&#45;&gt;StackInspector -->\n",
       "<g id=\"edge5\" class=\"edge\">\n",
       "<title>Dependencies&#45;&gt;StackInspector</title>\n",
       "<path fill=\"none\" stroke=\"#000000\" d=\"M372.9628,-602.6874C369.813,-609.2369 366.6503,-615.6992 363.5,-622 359.0676,-630.8652 354.317,-640.0097 349.4628,-649.1183\"/>\n",
       "<polygon fill=\"none\" stroke=\"#000000\" points=\"346.2315,-647.7375 344.5821,-658.2032 352.398,-651.0504 346.2315,-647.7375\"/>\n",
       "</g>\n",
       "<!-- Legend -->\n",
       "<g id=\"node7\" class=\"node\">\n",
       "<title>Legend</title>\n",
       "<text text-anchor=\"start\" x=\"418.5\" y=\"-142\" font-family=\"Raleway, Helvetica, Arial, sans-serif\" font-weight=\"bold\" font-size=\"10.00\" fill=\"#6a0dad\">Legend</text>\n",
       "<text text-anchor=\"start\" x=\"418.5\" y=\"-132\" font-family=\"Raleway, Helvetica, Arial, sans-serif\" font-size=\"10.00\" fill=\"#000000\">• </text>\n",
       "<text text-anchor=\"start\" x=\"425.5\" y=\"-132\" font-family=\"'Fira Mono', 'Source Code Pro', 'Courier', monospace\" font-weight=\"bold\" font-size=\"8.00\" fill=\"#000000\">public_method()</text>\n",
       "<text text-anchor=\"start\" x=\"418.5\" y=\"-122\" font-family=\"Raleway, Helvetica, Arial, sans-serif\" font-size=\"10.00\" fill=\"#000000\">• </text>\n",
       "<text text-anchor=\"start\" x=\"425.5\" y=\"-122\" font-family=\"'Fira Mono', 'Source Code Pro', 'Courier', monospace\" font-size=\"8.00\" fill=\"#000000\">private_method()</text>\n",
       "<text text-anchor=\"start\" x=\"418.5\" y=\"-112\" font-family=\"Raleway, Helvetica, Arial, sans-serif\" font-size=\"10.00\" fill=\"#000000\">• </text>\n",
       "<text text-anchor=\"start\" x=\"425.5\" y=\"-112\" font-family=\"'Fira Mono', 'Source Code Pro', 'Courier', monospace\" font-style=\"italic\" font-size=\"8.00\" fill=\"#000000\">overloaded_method()</text>\n",
       "<text text-anchor=\"start\" x=\"418.5\" y=\"-102.8\" font-family=\"Helvetica,sans-Serif\" font-size=\"9.00\" fill=\"#000000\">Hover over names to see doc</text>\n",
       "</g>\n",
       "</g>\n",
       "</svg>\n"
      ],
      "text/plain": [
       "<graphviz.dot.Digraph at 0x7fe246a18828>"
      ]
     },
     "execution_count": 1,
     "metadata": {},
     "output_type": "execute_result"
    }
   ],
   "source": [
    "# ignore\n",
    "display_class_hierarchy([Slicer, DependencyTracker, \n",
    "                         StackInspector, Dependencies],\n",
    "                        abstract_classes=[\n",
    "                            StackInspector,\n",
    "                            Instrumenter\n",
    "                        ],\n",
    "                        public_methods=[\n",
    "                            StackInspector.caller_frame,\n",
    "                            StackInspector.caller_function,\n",
    "                            StackInspector.caller_globals,\n",
    "                            StackInspector.caller_locals,\n",
    "                            StackInspector.caller_location,\n",
    "                            StackInspector.search_frame,\n",
    "                            StackInspector.search_func,\n",
    "                            Instrumenter.__init__,\n",
    "                            Instrumenter.__enter__,\n",
    "                            Instrumenter.__exit__,\n",
    "                            Instrumenter.instrument,\n",
    "                            Slicer.__init__,\n",
    "                            Slicer.code,\n",
    "                            Slicer.dependencies,\n",
    "                            Slicer.graph,\n",
    "                            Slicer._repr_svg_,\n",
    "                            DataTracker.__init__,\n",
    "                            DataTracker.__enter__,\n",
    "                            DataTracker.__exit__,\n",
    "                            DataTracker.arg,\n",
    "                            DataTracker.augment,\n",
    "                            DataTracker.call,\n",
    "                            DataTracker.get,\n",
    "                            DataTracker.param,\n",
    "                            DataTracker.ret,\n",
    "                            DataTracker.set,\n",
    "                            DataTracker.test,\n",
    "                            DataTracker.__repr__,\n",
    "                            DependencyTracker.__init__,\n",
    "                            DependencyTracker.__enter__,\n",
    "                            DependencyTracker.__exit__,\n",
    "                            DependencyTracker.arg,\n",
    "                            # DependencyTracker.augment,\n",
    "                            DependencyTracker.call,\n",
    "                            DependencyTracker.get,\n",
    "                            DependencyTracker.param,\n",
    "                            DependencyTracker.ret,\n",
    "                            DependencyTracker.set,\n",
    "                            DependencyTracker.test,\n",
    "                            DependencyTracker.__repr__,\n",
    "                            Dependencies.__init__,\n",
    "                            Dependencies.__repr__,\n",
    "                            Dependencies.__str__,\n",
    "                            Dependencies._repr_svg_,\n",
    "                            Dependencies.code,\n",
    "                            Dependencies.graph,\n",
    "                            Dependencies.backward_slice,\n",
    "                            Dependencies.all_functions,\n",
    "                            Dependencies.all_vars,\n",
    "                        ],\n",
    "                        project='debuggingbook')"
   ]
  },
  {
   "cell_type": "markdown",
   "metadata": {
    "slideshow": {
     "slide_type": "slide"
    }
   },
   "source": [
    "## Things that do not Work"
   ]
  },
  {
   "cell_type": "markdown",
   "metadata": {
    "slideshow": {
     "slide_type": "subslide"
    }
   },
   "source": [
    "Our slicer (and especially the underlying dependency tracker) is still a proof of concept. A number of Python features are not or only partially supported, and/or hardly tested:\n",
    "\n",
    "* __Exceptions__ can lead to missing or erroneous dependencies. The code assumes that for every `call()`, there is a matching `ret()`; when exceptions break this, dependencies across function calls and arguments may be missing or be assigned incorrectly.\n",
    "* __Multiple definitions on a single line__  as in `x = y; x = 1` can lead to missing or erroneous dependencies. Our implementation assumes that there is one statement per line.\n",
    "* __If-Expressions__ (`y = 1 if x else 0`) do not create control dependencies, as there are no statements to control. Neither do `if` clauses in comprehensions.\n",
    "* __Asynchronous functions__ (`async`, `await`) are not tested.\n",
    "\n",
    "In these cases, the instrumentation and the underlying dependency tracker may fail to identify control and/or data flows. The semantics of the code, however, should always stay unchanged."
   ]
  },
  {
   "cell_type": "markdown",
   "metadata": {
    "button": false,
    "new_sheet": true,
    "run_control": {
     "read_only": false
    },
    "slideshow": {
     "slide_type": "slide"
    }
   },
   "source": [
    "## Lessons Learned\n",
    "\n",
    "* To track the origin of some incorrect value, follow back its _dependencies_:\n",
    "    * _Data dependencies_ indicate where the value came from.\n",
    "    * _Control dependencies_ show why a statement was executed.\n",
    "* A _slice_ is a subset of the code that could have influenced a specific value. It can be computed by transitively following all dependencies.\n",
    "* _Instrument code_ to automatically determine and visualize dependencies."
   ]
  },
  {
   "cell_type": "markdown",
   "metadata": {
    "button": false,
    "new_sheet": false,
    "run_control": {
     "read_only": false
    },
    "slideshow": {
     "slide_type": "slide"
    }
   },
   "source": [
    "## Next Steps\n",
    "\n",
    "In the [next chapter](StatisticalDebugger.ipynb), we will explore how to make use of _multiple_ passing and failing executions."
   ]
  },
  {
   "cell_type": "markdown",
   "metadata": {
    "slideshow": {
     "slide_type": "slide"
    }
   },
   "source": [
    "## Background\n",
    "\n",
    "Slicing as computing a subset of a program by means of data and control dependencies was invented by Mark Weiser \\cite{Weiser1981}. In his seminal work \"Programmers use Slices when Debugging\", \\cite{Weiser1982}, Weiser demonstrated how such dependencies are crucial for systematic debugging:\n",
    "\n",
    "> When debugging unfamiliar programs programmers use program pieces called _slices_ which are sets of statements related by their flow of data. The statements in a slice are not necessarily textually contiguous, but may be scattered through a program."
   ]
  },
  {
   "cell_type": "markdown",
   "metadata": {
    "slideshow": {
     "slide_type": "subslide"
    }
   },
   "source": [
    "Weiser's slices (and dependencies) were determined _statically_ from program code. Both Korel and Laski \\cite{Korel1988} as well as Agrawal and Horgan \\cite{Agrawal1990} introduced _dynamic_ program slicing, building on _dynamic_ dependencies, which would be more specific to a given (failing) run. (The `Slicer` we implement in this chapter is a dynamic slicer.) Tip \\cite{Tip1995} gives a survey on program slicing techniques. Chen et al. \\cite{Chen2014} describe and evaluate the first dynamic slicer for Python programs (which is independent from our implementation)."
   ]
  },
  {
   "cell_type": "markdown",
   "metadata": {
    "slideshow": {
     "slide_type": "fragment"
    }
   },
   "source": [
    "One exemplary application of program slices is [the Whyline](https://github.com/amyjko/whyline) by Ko and Myers \\cite{Ko2004}. The Whyline is a debugging interface for asking questions about program behavior. It allows to interactively query where a particular variable came from (a data dependency) and why or why not specific things took place (control dependencies)."
   ]
  },
  {
   "cell_type": "markdown",
   "metadata": {
    "slideshow": {
     "slide_type": "subslide"
    }
   },
   "source": [
    "In \\cite{Soremekun2021}, Soremekun et al. evaluated the performance of slicing as a fault localization mechanism and found that following dependencies was one of the most successful strategies to determine fault locations. Notably, if programmers first examine at most the top five most suspicious locations from [statistical debugging](StatisticalDebugger.ipynb), and then switch to dynamic slices, on average, they will need to examine only 15% (12 lines) of the code. "
   ]
  },
  {
   "cell_type": "markdown",
   "metadata": {
    "button": false,
    "new_sheet": true,
    "run_control": {
     "read_only": false
    },
    "slideshow": {
     "slide_type": "slide"
    }
   },
   "source": [
    "## Exercises\n"
   ]
  },
  {
   "cell_type": "markdown",
   "metadata": {
    "slideshow": {
     "slide_type": "subslide"
    }
   },
   "source": [
    "### Exercise 1: Control Slices\n",
    "\n",
    "Augment the `Slicer` class with two keyword arguments, `include` and `exclude`, each taking a list of functions to instrument or not to instrument, respectively. These can be helpful when using \"automatic\" instrumentation."
   ]
  },
  {
   "cell_type": "markdown",
   "metadata": {
    "slideshow": {
     "slide_type": "subslide"
    }
   },
   "source": [
    "### Exercise 2: Incremental Exploration\n",
    "\n",
    "This is more of a programming project than a simple exercise. Rather than showing all dependencies as a whole, as we do, build a system that allows the user to _explore_ dependencies interactively."
   ]
  },
  {
   "cell_type": "markdown",
   "metadata": {
    "button": false,
    "new_sheet": false,
    "run_control": {
     "read_only": false
    },
    "slideshow": {
     "slide_type": "subslide"
    }
   },
   "source": [
    "### Exercise 3: Forward Slicing\n",
    "\n",
    "Extend `Dependencies` with a variant of `backward_slice()` named `forward_slice()` that, instead of computing the dependencies that go _into_ a a location, computes the dependencies that go _out_ of a location."
   ]
  },
  {
   "cell_type": "markdown",
   "metadata": {
    "button": false,
    "new_sheet": false,
    "run_control": {
     "read_only": false
    },
    "slideshow": {
     "slide_type": "subslide"
    }
   },
   "source": [
    "### Exercise 4: Code with Forward Dependencies\n",
    "\n",
    "Create a variant of `Dependencies.code()` that, for each statement `s`, instead of showing a \"passive\" view (which variables and locations influenced `s`?), shows an \"active\" view (which variables and locations were influenced by `s`?). For `middle()`, for instance, the first line should show which lines are influenced by `x`, `y`, and `z`, respectively. Use `->` for control flows and `=>` for data flows."
   ]
  },
  {
   "cell_type": "markdown",
   "metadata": {
    "slideshow": {
     "slide_type": "subslide"
    }
   },
   "source": [
    "### Exercise 5: Flow Assertions\n",
    "\n",
    "In line with [Verifying Flows at Runtime](#Verifying-Flows-at-Runtime), above, implement a function `assert_flow(target, source)` that checks at runtime that the data flowing into `target` only comes from the variables named in `source`. "
   ]
  },
  {
   "cell_type": "code",
   "execution_count": 253,
   "metadata": {
    "execution": {
     "iopub.execute_input": "2021-05-11T17:08:15.257176Z",
     "iopub.status.busy": "2021-05-11T17:08:15.256549Z",
     "iopub.status.idle": "2021-05-11T17:08:15.258347Z",
     "shell.execute_reply": "2021-05-11T17:08:15.258886Z"
    },
    "slideshow": {
     "slide_type": "fragment"
    }
   },
   "outputs": [],
   "source": [
    "def assert_flow(target: Any, source: List[Any]) -> bool:\n",
    "    \"\"\"\n",
    "    Raise an `AssertionError` if the dependencies of `target`\n",
    "    are not equal to `source`.\n",
    "    \"\"\"\n",
    "    ...\n",
    "    return True"
   ]
  },
  {
   "cell_type": "markdown",
   "metadata": {
    "slideshow": {
     "slide_type": "fragment"
    }
   },
   "source": [
    "`assert_flow()` would be used in conjunction with `Slicer()` as follows:"
   ]
  },
  {
   "cell_type": "code",
   "execution_count": 254,
   "metadata": {
    "execution": {
     "iopub.execute_input": "2021-05-11T17:08:15.263307Z",
     "iopub.status.busy": "2021-05-11T17:08:15.262595Z",
     "iopub.status.idle": "2021-05-11T17:08:15.264109Z",
     "shell.execute_reply": "2021-05-11T17:08:15.264675Z"
    },
    "slideshow": {
     "slide_type": "subslide"
    }
   },
   "outputs": [],
   "source": [
    "def demo4() -> int:\n",
    "    x = 25\n",
    "    y = 26\n",
    "    assert_flow(y, [x])  # ensures that `y` depends on `x` only\n",
    "    return y"
   ]
  },
  {
   "cell_type": "code",
   "execution_count": 255,
   "metadata": {
    "execution": {
     "iopub.execute_input": "2021-05-11T17:08:15.269391Z",
     "iopub.status.busy": "2021-05-11T17:08:15.268759Z",
     "iopub.status.idle": "2021-05-11T17:08:15.280575Z",
     "shell.execute_reply": "2021-05-11T17:08:15.281081Z"
    },
    "slideshow": {
     "slide_type": "fragment"
    }
   },
   "outputs": [],
   "source": [
    "with Slicer() as slicer:\n",
    "    demo4()"
   ]
  },
  {
   "cell_type": "markdown",
   "metadata": {
    "slideshow": {
     "slide_type": "fragment"
    }
   },
   "source": [
    "To check dependencies, have `assert_flow()` check the contents of the `_data` dependency collector as set up by the slicer."
   ]
  },
  {
   "cell_type": "markdown",
   "metadata": {
    "slideshow": {
     "slide_type": "subslide"
    }
   },
   "source": [
    "### Exercise 6: Checked Coverage\n",
    "\n",
    "Implement checked coverage, as sketched in [Assessing Test Quality](#Assessing-Test-Quality) above. For every `assert` statement encountered during a run, produce the number of statements it depends upon."
   ]
  }
 ],
 "metadata": {
  "ipub": {
   "bibliography": "fuzzingbook.bib",
   "toc": true
  },
  "kernelspec": {
   "display_name": "Python 3",
   "language": "python",
   "name": "python3"
  },
  "language_info": {
   "codemirror_mode": {
    "name": "ipython",
    "version": 3
   },
   "file_extension": ".py",
   "mimetype": "text/x-python",
   "name": "python",
   "nbconvert_exporter": "python",
   "pygments_lexer": "ipython3",
   "version": "3.6.10"
  },
  "toc": {
   "base_numbering": 1,
   "nav_menu": {},
   "number_sections": true,
   "sideBar": true,
   "skip_h1_title": true,
   "title_cell": "",
   "title_sidebar": "Contents",
   "toc_cell": false,
   "toc_position": {},
   "toc_section_display": true,
   "toc_window_display": true
  },
  "toc-autonumbering": false
 },
 "nbformat": 4,
 "nbformat_minor": 4
}