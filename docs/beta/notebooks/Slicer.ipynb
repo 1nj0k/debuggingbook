{
 "cells": [
  {
   "cell_type": "markdown",
   "metadata": {
    "button": false,
    "new_sheet": false,
    "run_control": {
     "read_only": false
    },
    "slideshow": {
     "slide_type": "slide"
    }
   },
   "source": [
    "# Tracking Failure Origins\n",
    "\n",
    "To identify the origin of a failure, one proceeds along _dependencies_: Which earlier variables could possibly have influenced the current erroneous state? And how did their values come to be? In this chapter, we show how to identify these dependencies, and how to automatically compute them."
   ]
  },
  {
   "cell_type": "code",
   "execution_count": 1,
   "metadata": {
    "slideshow": {
     "slide_type": "skip"
    }
   },
   "outputs": [],
   "source": [
    "from bookutils import YouTubeVideo\n",
    "# YouTubeVideo(\"w4u5gCgPlmg\")"
   ]
  },
  {
   "cell_type": "markdown",
   "metadata": {
    "button": false,
    "new_sheet": false,
    "run_control": {
     "read_only": false
    },
    "slideshow": {
     "slide_type": "subslide"
    }
   },
   "source": [
    "**Prerequisites**\n",
    "\n",
    "* You should have read the [Introduction to Debugging](Intro_Debugging).\n",
    "* To understand how to compute dependencies automatically, advanced knowledge of Python is required."
   ]
  },
  {
   "cell_type": "code",
   "execution_count": 2,
   "metadata": {
    "button": false,
    "new_sheet": false,
    "run_control": {
     "read_only": false
    },
    "slideshow": {
     "slide_type": "skip"
    }
   },
   "outputs": [],
   "source": [
    "import bookutils"
   ]
  },
  {
   "cell_type": "markdown",
   "metadata": {
    "slideshow": {
     "slide_type": "slide"
    }
   },
   "source": [
    "## Synopsis\n",
    "<!-- Automatically generated. Do not edit. -->\n",
    "\n",
    "To [use the code provided in this chapter](Importing.ipynb), write\n",
    "\n",
    "```python\n",
    ">>> from debuggingbook.Slicer import <identifier>\n",
    "```\n",
    "\n",
    "and then make use of the following features.\n",
    "\n",
    "\n",
    "_For those only interested in using the code in this chapter (without wanting to know how it works), give an example.  This will be copied to the beginning of the chapter (before the first section) as text with rendered input and output._\n",
    "\n"
   ]
  },
  {
   "cell_type": "markdown",
   "metadata": {
    "button": false,
    "new_sheet": true,
    "run_control": {
     "read_only": false
    },
    "slideshow": {
     "slide_type": "slide"
    }
   },
   "source": [
    "## Dependencies\n",
    "\n",
    "We start with a simple program. The `middle()` function is supposed to return the \"middle\" number of three values `x`, `y`, and `z` – that is, the one number that neither is the minimum nor the maximum."
   ]
  },
  {
   "cell_type": "code",
   "execution_count": 3,
   "metadata": {
    "slideshow": {
     "slide_type": "subslide"
    }
   },
   "outputs": [],
   "source": [
    "def middle(x, y, z):\n",
    "    if y < z:\n",
    "        if x < y:\n",
    "            return y\n",
    "        elif x < z:\n",
    "            return y\n",
    "    else:\n",
    "        if x > y:\n",
    "            return y\n",
    "        elif x > z:\n",
    "            return x\n",
    "    return z"
   ]
  },
  {
   "cell_type": "markdown",
   "metadata": {
    "slideshow": {
     "slide_type": "fragment"
    }
   },
   "source": [
    "In most cases, `middle()` runs just fine:"
   ]
  },
  {
   "cell_type": "code",
   "execution_count": 4,
   "metadata": {
    "slideshow": {
     "slide_type": "subslide"
    }
   },
   "outputs": [
    {
     "data": {
      "text/plain": [
       "2"
      ]
     },
     "execution_count": 4,
     "metadata": {},
     "output_type": "execute_result"
    }
   ],
   "source": [
    "m = middle(1, 2, 3)\n",
    "m"
   ]
  },
  {
   "cell_type": "markdown",
   "metadata": {
    "slideshow": {
     "slide_type": "fragment"
    }
   },
   "source": [
    "In others, however, it returns the wrong value:"
   ]
  },
  {
   "cell_type": "code",
   "execution_count": 5,
   "metadata": {
    "slideshow": {
     "slide_type": "fragment"
    }
   },
   "outputs": [
    {
     "data": {
      "text/plain": [
       "1"
      ]
     },
     "execution_count": 5,
     "metadata": {},
     "output_type": "execute_result"
    }
   ],
   "source": [
    "m = middle(2, 1, 3)\n",
    "m"
   ]
  },
  {
   "cell_type": "markdown",
   "metadata": {
    "slideshow": {
     "slide_type": "fragment"
    }
   },
   "source": [
    "This is a typical debugging situation: You see a value that is erroneous; and you want to find out where it came from."
   ]
  },
  {
   "cell_type": "markdown",
   "metadata": {
    "slideshow": {
     "slide_type": "fragment"
    }
   },
   "source": [
    "To determine the origins of a value, you need to know its _dependencies_. A variable $x$ _depends_ on the value of a variable $y$ if a change in $y$ could affect the value of $x$."
   ]
  },
  {
   "cell_type": "markdown",
   "metadata": {
    "slideshow": {
     "slide_type": "subslide"
    }
   },
   "source": [
    "We distinguish two kinds of dependencies:\n",
    "\n",
    "* **Data dependency**: $x$ obtains its value from a computation involving the value of $y$.\n",
    "* **Control dependency**: $x$ obtains its value because of a computation involving the value of $y$."
   ]
  },
  {
   "cell_type": "markdown",
   "metadata": {
    "slideshow": {
     "slide_type": "subslide"
    }
   },
   "source": [
    "### Excursion: Visualizing Dependencies"
   ]
  },
  {
   "cell_type": "markdown",
   "metadata": {
    "slideshow": {
     "slide_type": "fragment"
    }
   },
   "source": [
    "To illustrate our examples, we introduce a `Dependencies` class that captures dependencies between variables at specific locations."
   ]
  },
  {
   "cell_type": "markdown",
   "metadata": {
    "slideshow": {
     "slide_type": "fragment"
    }
   },
   "source": [
    "If you are reading this in a notebook, feel free to skip this excursion and directly go to \"End of Excursion\", below."
   ]
  },
  {
   "cell_type": "markdown",
   "metadata": {
    "slideshow": {
     "slide_type": "subslide"
    }
   },
   "source": [
    "#### A Class for Dependencies"
   ]
  },
  {
   "cell_type": "markdown",
   "metadata": {
    "slideshow": {
     "slide_type": "fragment"
    }
   },
   "source": [
    "`Dependencies` holds two dependency graphs. `data` holds data dependencies, `control` holds control dependencies."
   ]
  },
  {
   "cell_type": "code",
   "execution_count": 6,
   "metadata": {
    "slideshow": {
     "slide_type": "subslide"
    }
   },
   "outputs": [],
   "source": [
    "class Dependencies(object):\n",
    "    def __init__(self, data=None, control=None):\n",
    "        \"\"\"\n",
    "Create a dependency graph from data and control. Both are dictionaries\n",
    "holding _nodes_ as keys and lists of nodes as values.\n",
    "Each node comes as a tuple (variable_name, location)\n",
    "where `variable_name` is a string \n",
    "and `location` is a pair (code_name, lineno)\n",
    "denoting a unique location in the code.\n",
    "        \"\"\"\n",
    "        if data is None:\n",
    "            data = {}\n",
    "        if control is None:\n",
    "            control = {}\n",
    "            \n",
    "        self.data = data\n",
    "        self.control = control\n",
    "\n",
    "        for var in self.data:\n",
    "            self.control.setdefault(var, set())\n",
    "        for var in self.control:\n",
    "            self.data.setdefault(var, set())\n",
    "\n",
    "        self.validate()"
   ]
  },
  {
   "cell_type": "markdown",
   "metadata": {
    "slideshow": {
     "slide_type": "subslide"
    }
   },
   "source": [
    "Each of the two is organized as a dictionary holding _nodes_ as keys and lists of nodes as values. Each node comes as a tuple\n",
    "\n",
    "```python\n",
    "(variable_name, location)\n",
    " ```\n",
    " \n",
    "where `variable_name` is a string and `location` is a pair\n",
    "\n",
    "\n",
    "```python\n",
    "(code_name, lineno)\n",
    " ```\n",
    " \n",
    "denoting a unique location in the code."
   ]
  },
  {
   "cell_type": "code",
   "execution_count": 7,
   "metadata": {
    "slideshow": {
     "slide_type": "subslide"
    }
   },
   "outputs": [],
   "source": [
    "class Dependencies(Dependencies):\n",
    "    def validate(self):\n",
    "        \"\"\"Check dependency structure.\"\"\"\n",
    "        assert isinstance(self.data, dict)\n",
    "        assert isinstance(self.control, dict)\n",
    "        \n",
    "        for node in (self.data.keys()) | set(self.control.keys()):\n",
    "            var_name, location = node\n",
    "            assert isinstance(var_name, str)\n",
    "            func_name, lineno = location\n",
    "            assert isinstance(func_name, str)\n",
    "            assert isinstance(lineno, int)"
   ]
  },
  {
   "cell_type": "markdown",
   "metadata": {
    "slideshow": {
     "slide_type": "fragment"
    }
   },
   "source": [
    "The `source()` method returns the source code for a given node."
   ]
  },
  {
   "cell_type": "code",
   "execution_count": 8,
   "metadata": {
    "slideshow": {
     "slide_type": "skip"
    }
   },
   "outputs": [],
   "source": [
    "import inspect"
   ]
  },
  {
   "cell_type": "code",
   "execution_count": 9,
   "metadata": {
    "ipub": {
     "ignore": true
    },
    "slideshow": {
     "slide_type": "subslide"
    }
   },
   "outputs": [],
   "source": [
    "class Dependencies(Dependencies):\n",
    "    def source(self, node):\n",
    "        \"\"\"Return the source code for a given node.\"\"\"\n",
    "        (name, location) = node\n",
    "        code_name, lineno = location\n",
    "        if code_name not in globals():\n",
    "            return ''\n",
    "\n",
    "        fun = globals()[code_name]\n",
    "        source_lines, first_lineno = inspect.getsourcelines(fun)\n",
    "\n",
    "        try:\n",
    "            line = source_lines[lineno - first_lineno].strip()\n",
    "        except IndexError:\n",
    "            line = ''\n",
    "\n",
    "        return line"
   ]
  },
  {
   "cell_type": "code",
   "execution_count": 10,
   "metadata": {
    "slideshow": {
     "slide_type": "subslide"
    }
   },
   "outputs": [
    {
     "data": {
      "text/plain": [
       "'def middle(x, y, z):'"
      ]
     },
     "execution_count": 10,
     "metadata": {},
     "output_type": "execute_result"
    }
   ],
   "source": [
    "test_deps = Dependencies()\n",
    "test_deps.source(('z', ('middle', 1)))"
   ]
  },
  {
   "cell_type": "markdown",
   "metadata": {
    "slideshow": {
     "slide_type": "subslide"
    }
   },
   "source": [
    "#### Drawing Dependencies"
   ]
  },
  {
   "cell_type": "markdown",
   "metadata": {
    "slideshow": {
     "slide_type": "fragment"
    }
   },
   "source": [
    "Both data and control form a graph between nodes, and cam be visualized as such. We use the `graphviz` package for creating such visualizations."
   ]
  },
  {
   "cell_type": "code",
   "execution_count": 11,
   "metadata": {
    "ipub": {
     "ignore": true
    },
    "slideshow": {
     "slide_type": "skip"
    }
   },
   "outputs": [],
   "source": [
    "from graphviz import Digraph, nohtml"
   ]
  },
  {
   "cell_type": "markdown",
   "metadata": {
    "slideshow": {
     "slide_type": "fragment"
    }
   },
   "source": [
    "`make_graph()` sets the basic graph attributes."
   ]
  },
  {
   "cell_type": "code",
   "execution_count": 12,
   "metadata": {
    "slideshow": {
     "slide_type": "skip"
    }
   },
   "outputs": [],
   "source": [
    "import html"
   ]
  },
  {
   "cell_type": "code",
   "execution_count": 13,
   "metadata": {
    "slideshow": {
     "slide_type": "subslide"
    }
   },
   "outputs": [],
   "source": [
    "class Dependencies(Dependencies):\n",
    "    NODE_COLOR = 'peachpuff'\n",
    "    FONT_NAME = 'Fira Mono'\n",
    "\n",
    "    def make_graph(self, name=\"dependencies\", comment=\"Dependencies\"):\n",
    "        return Digraph(name=name, comment=comment, \n",
    "            graph_attr={\n",
    "            },\n",
    "            node_attr={\n",
    "                'style': 'filled',\n",
    "                'shape': 'box',\n",
    "                'fillcolor': self.NODE_COLOR,\n",
    "                'fontname': self.FONT_NAME\n",
    "            },\n",
    "            edge_attr={\n",
    "                'fontname': self.FONT_NAME\n",
    "            })"
   ]
  },
  {
   "cell_type": "markdown",
   "metadata": {
    "slideshow": {
     "slide_type": "subslide"
    }
   },
   "source": [
    "`graph()` returns a graph visualization."
   ]
  },
  {
   "cell_type": "code",
   "execution_count": 14,
   "metadata": {
    "slideshow": {
     "slide_type": "fragment"
    }
   },
   "outputs": [],
   "source": [
    "class Dependencies(Dependencies):\n",
    "    def graph(self):\n",
    "        \"\"\"Draw dependencies.\"\"\"\n",
    "        self.validate()\n",
    "\n",
    "        g = self.make_graph()\n",
    "        self.draw_dependencies(g)\n",
    "        self.add_hierarchy(g)\n",
    "        return g"
   ]
  },
  {
   "cell_type": "markdown",
   "metadata": {
    "slideshow": {
     "slide_type": "fragment"
    }
   },
   "source": [
    "The main part of graph drawing takes place in two methods, `draw_dependencies()` and `add_hierarchy()`."
   ]
  },
  {
   "cell_type": "markdown",
   "metadata": {
    "slideshow": {
     "slide_type": "fragment"
    }
   },
   "source": [
    "`draw_dependencies()` processes through the graph, adding nodes and edges from the dependencies."
   ]
  },
  {
   "cell_type": "code",
   "execution_count": 15,
   "metadata": {
    "slideshow": {
     "slide_type": "subslide"
    }
   },
   "outputs": [],
   "source": [
    "class Dependencies(Dependencies):\n",
    "    def all_vars(self):\n",
    "        all_vars = set()\n",
    "        for var in self.data:\n",
    "            all_vars.add(var)\n",
    "            for source in self.data[var]:\n",
    "                all_vars.add(source)\n",
    "\n",
    "        for var in self.control:\n",
    "            all_vars.add(var)\n",
    "            for source in self.control[var]:\n",
    "                all_vars.add(source)\n",
    "\n",
    "        return all_vars"
   ]
  },
  {
   "cell_type": "code",
   "execution_count": 16,
   "metadata": {
    "slideshow": {
     "slide_type": "subslide"
    }
   },
   "outputs": [],
   "source": [
    "class Dependencies(Dependencies):\n",
    "    def draw_dependencies(self, g):\n",
    "        for var in self.all_vars():\n",
    "            g.node(self.id(var),\n",
    "                   label=self.label(var),\n",
    "                   tooltip=self.tooltip(var))\n",
    "\n",
    "            if var in self.data:\n",
    "                for source in self.data[var]:\n",
    "                    g.edge(self.id(source), self.id(var))\n",
    "\n",
    "            if var in self.control:\n",
    "                for source in self.control[var]:\n",
    "                    g.edge(self.id(source), self.id(var),\n",
    "                           style='dashed', color='grey')"
   ]
  },
  {
   "cell_type": "markdown",
   "metadata": {
    "slideshow": {
     "slide_type": "subslide"
    }
   },
   "source": [
    "`draw_dependencies()` makes use of a few helper functions."
   ]
  },
  {
   "cell_type": "code",
   "execution_count": 17,
   "metadata": {
    "slideshow": {
     "slide_type": "subslide"
    }
   },
   "outputs": [],
   "source": [
    "class Dependencies(Dependencies):\n",
    "    def id(self, var):\n",
    "        \"\"\"Return a unique ID for VAR.\"\"\"\n",
    "        id = \"\"\n",
    "        # Avoid non-identifier characters\n",
    "        for c in repr(var):\n",
    "            if c.isalnum() or c == '_':\n",
    "                id += c\n",
    "            if c == ':' or c == ',':\n",
    "                id += '_'\n",
    "        return id\n",
    "\n",
    "    def label(self, var):\n",
    "        \"\"\"Render node VAR using HTML style.\"\"\"\n",
    "        (name, location) = var\n",
    "        source = self.source(var)\n",
    "\n",
    "        title = html.escape(name)\n",
    "        if name.startswith('<'):\n",
    "            title = f'<I>{title}</I>'\n",
    "\n",
    "        label = f'<B>{title}</B>'\n",
    "        if source:\n",
    "            label += (f'<FONT POINT-SIZE=\"9.0\"><BR/><BR/>'\n",
    "                    f'{html.escape(source)}'\n",
    "                    f'</FONT>')\n",
    "        label = f'<{label}>'\n",
    "        return label\n",
    "\n",
    "    def tooltip(self, var):\n",
    "        \"\"\"Return a tooltip for node VAR.\"\"\"\n",
    "        (name, location) = var\n",
    "        code_name, lineno = location\n",
    "        return f\"{code_name}:{lineno}\""
   ]
  },
  {
   "cell_type": "markdown",
   "metadata": {
    "slideshow": {
     "slide_type": "subslide"
    }
   },
   "source": [
    "In the second part of graph drawing, `add_hierarchy()` adds invisible edges to ensure that nodes with lower line numbers are drawn above nodes with higher line numbers."
   ]
  },
  {
   "cell_type": "code",
   "execution_count": 18,
   "metadata": {
    "slideshow": {
     "slide_type": "subslide"
    }
   },
   "outputs": [],
   "source": [
    "class Dependencies(Dependencies):\n",
    "    def add_hierarchy(self, g):\n",
    "        \"\"\"Add invisible edges for a proper hierarchy.\"\"\"\n",
    "        code_names = self.all_codes()\n",
    "        for code_name in code_names:\n",
    "            last_var = None\n",
    "            last_lineno = 0\n",
    "            for (lineno, var) in code_names[code_name]:\n",
    "                if last_var is not None and lineno > last_lineno:\n",
    "                    g.edge(self.id(last_var),\n",
    "                           self.id(var),\n",
    "                           style='invis')\n",
    "\n",
    "                last_var = var\n",
    "                last_lineno = lineno\n",
    "\n",
    "        return g"
   ]
  },
  {
   "cell_type": "code",
   "execution_count": 19,
   "metadata": {
    "slideshow": {
     "slide_type": "subslide"
    }
   },
   "outputs": [],
   "source": [
    "class Dependencies(Dependencies):\n",
    "    def all_codes(self):\n",
    "        code_names = {}\n",
    "        for var in self.all_vars():\n",
    "            (name, location) = var\n",
    "            code_name, lineno = location\n",
    "            if code_name not in code_names:\n",
    "                code_names[code_name] = []\n",
    "            code_names[code_name].append((lineno, var))\n",
    "\n",
    "        for code_name in code_names:\n",
    "            code_names[code_name].sort()\n",
    "\n",
    "        return code_names"
   ]
  },
  {
   "cell_type": "markdown",
   "metadata": {
    "slideshow": {
     "slide_type": "fragment"
    }
   },
   "source": [
    "Here comes the graph in all its glory:"
   ]
  },
  {
   "cell_type": "code",
   "execution_count": 20,
   "metadata": {
    "slideshow": {
     "slide_type": "subslide"
    }
   },
   "outputs": [],
   "source": [
    "def middle_deps():\n",
    "    return Dependencies({('z', ('middle', 1)): set(), ('y', ('middle', 1)): set(), ('x', ('middle', 1)): set(), ('<test>', ('middle', 2)): {('y', ('middle', 1)), ('z', ('middle', 1))}, ('<test>', ('middle', 3)): {('y', ('middle', 1)), ('x', ('middle', 1))}, ('<test>', ('middle', 5)): {('z', ('middle', 1)), ('x', ('middle', 1))}, ('<middle() return value>', ('middle', 6)): {('y', ('middle', 1))}}, {('z', ('middle', 1)): set(), ('y', ('middle', 1)): set(), ('x', ('middle', 1)): set(), ('<test>', ('middle', 2)): set(), ('<test>', ('middle', 3)): {('<test>', ('middle', 2))}, ('<test>', ('middle', 5)): {('<test>', ('middle', 3))}, ('<middle() return value>', ('middle', 6)): {('<test>', ('middle', 5))}})"
   ]
  },
  {
   "cell_type": "code",
   "execution_count": 21,
   "metadata": {
    "slideshow": {
     "slide_type": "fragment"
    }
   },
   "outputs": [
    {
     "data": {
      "image/svg+xml": [
       "<?xml version=\"1.0\" encoding=\"UTF-8\" standalone=\"no\"?>\n",
       "<!DOCTYPE svg PUBLIC \"-//W3C//DTD SVG 1.1//EN\"\n",
       " \"http://www.w3.org/Graphics/SVG/1.1/DTD/svg11.dtd\">\n",
       "<!-- Generated by graphviz version 2.40.1 (20161225.0304)\n",
       " -->\n",
       "<!-- Title: dependencies Pages: 1 -->\n",
       "<svg width=\"332pt\" height=\"352pt\"\n",
       " viewBox=\"0.00 0.00 332.38 352.00\" xmlns=\"http://www.w3.org/2000/svg\" xmlns:xlink=\"http://www.w3.org/1999/xlink\">\n",
       "<g id=\"graph0\" class=\"graph\" transform=\"scale(1 1) rotate(0) translate(4 348)\">\n",
       "<title>dependencies</title>\n",
       "<polygon fill=\"#ffffff\" stroke=\"transparent\" points=\"-4,4 -4,-348 328.3796,-348 328.3796,4 -4,4\"/>\n",
       "<!-- x_middle_1 -->\n",
       "<g id=\"node1\" class=\"node\">\n",
       "<title>x_middle_1</title>\n",
       "<g id=\"a_node1\"><a xlink:title=\"middle:1\">\n",
       "<polygon fill=\"#ffdab9\" stroke=\"#000000\" points=\"309,-268 184,-268 184,-228 309,-228 309,-268\"/>\n",
       "<text text-anchor=\"start\" x=\"242\" y=\"-253.8\" font-family=\"Fira Mono\" font-weight=\"bold\" font-size=\"14.00\" fill=\"#000000\">x</text>\n",
       "<text text-anchor=\"start\" x=\"192\" y=\"-234.8\" font-family=\"Fira Mono\" font-size=\"9.00\" fill=\"#000000\">def middle(x, y, z):</text>\n",
       "</a>\n",
       "</g>\n",
       "</g>\n",
       "<!-- test_middle_5 -->\n",
       "<g id=\"node3\" class=\"node\">\n",
       "<title>test_middle_5</title>\n",
       "<g id=\"a_node3\"><a xlink:title=\"middle:5\">\n",
       "<polygon fill=\"#ffdab9\" stroke=\"#000000\" points=\"193.5,-116 117.5,-116 117.5,-76 193.5,-76 193.5,-116\"/>\n",
       "<text text-anchor=\"start\" x=\"130\" y=\"-101.8\" font-family=\"Fira Mono\" font-weight=\"bold\" font-style=\"italic\" font-size=\"14.00\" fill=\"#000000\">&lt;test&gt;</text>\n",
       "<text text-anchor=\"start\" x=\"125.5\" y=\"-82.8\" font-family=\"Fira Mono\" font-size=\"9.00\" fill=\"#000000\">elif x &lt; z:</text>\n",
       "</a>\n",
       "</g>\n",
       "</g>\n",
       "<!-- x_middle_1&#45;&gt;test_middle_5 -->\n",
       "<g id=\"edge1\" class=\"edge\">\n",
       "<title>x_middle_1&#45;&gt;test_middle_5</title>\n",
       "<path fill=\"none\" stroke=\"#000000\" d=\"M237.8185,-227.9136C228.9283,-208.0647 214.2188,-177.1143 198.5,-152 192.5861,-142.5513 185.4478,-132.749 178.7012,-124.0367\"/>\n",
       "<polygon fill=\"#000000\" stroke=\"#000000\" points=\"181.35,-121.7435 172.4056,-116.0648 175.8565,-126.0819 181.35,-121.7435\"/>\n",
       "</g>\n",
       "<!-- test_middle_3 -->\n",
       "<g id=\"node5\" class=\"node\">\n",
       "<title>test_middle_3</title>\n",
       "<g id=\"a_node5\"><a xlink:title=\"middle:3\">\n",
       "<polygon fill=\"#ffdab9\" stroke=\"#000000\" points=\"189,-192 122,-192 122,-152 189,-152 189,-192\"/>\n",
       "<text text-anchor=\"start\" x=\"130\" y=\"-177.8\" font-family=\"Fira Mono\" font-weight=\"bold\" font-style=\"italic\" font-size=\"14.00\" fill=\"#000000\">&lt;test&gt;</text>\n",
       "<text text-anchor=\"start\" x=\"131\" y=\"-158.8\" font-family=\"Fira Mono\" font-size=\"9.00\" fill=\"#000000\">if x &lt; y:</text>\n",
       "</a>\n",
       "</g>\n",
       "</g>\n",
       "<!-- x_middle_1&#45;&gt;test_middle_3 -->\n",
       "<g id=\"edge4\" class=\"edge\">\n",
       "<title>x_middle_1&#45;&gt;test_middle_3</title>\n",
       "<path fill=\"none\" stroke=\"#000000\" d=\"M222.1137,-227.6334C211.5226,-218.7881 198.9703,-208.3049 187.6332,-198.8365\"/>\n",
       "<polygon fill=\"#000000\" stroke=\"#000000\" points=\"189.557,-195.8831 179.6381,-192.1593 185.0699,-201.2558 189.557,-195.8831\"/>\n",
       "</g>\n",
       "<!-- y_middle_1 -->\n",
       "<g id=\"node2\" class=\"node\">\n",
       "<title>y_middle_1</title>\n",
       "<g id=\"a_node2\"><a xlink:title=\"middle:1\">\n",
       "<polygon fill=\"#ffdab9\" stroke=\"#000000\" points=\"268,-344 143,-344 143,-304 268,-304 268,-344\"/>\n",
       "<text text-anchor=\"start\" x=\"201\" y=\"-329.8\" font-family=\"Fira Mono\" font-weight=\"bold\" font-size=\"14.00\" fill=\"#000000\">y</text>\n",
       "<text text-anchor=\"start\" x=\"151\" y=\"-310.8\" font-family=\"Fira Mono\" font-size=\"9.00\" fill=\"#000000\">def middle(x, y, z):</text>\n",
       "</a>\n",
       "</g>\n",
       "</g>\n",
       "<!-- y_middle_1&#45;&gt;test_middle_3 -->\n",
       "<g id=\"edge5\" class=\"edge\">\n",
       "<title>y_middle_1&#45;&gt;test_middle_3</title>\n",
       "<path fill=\"none\" stroke=\"#000000\" d=\"M192.9234,-303.9105C186.8953,-293.5214 180.021,-280.4392 175.5,-268 167.7475,-246.6693 162.6456,-221.5211 159.536,-202.3158\"/>\n",
       "<polygon fill=\"#000000\" stroke=\"#000000\" points=\"162.9791,-201.6765 158.0093,-192.3196 156.0593,-202.7335 162.9791,-201.6765\"/>\n",
       "</g>\n",
       "<!-- test_middle_2 -->\n",
       "<g id=\"node6\" class=\"node\">\n",
       "<title>test_middle_2</title>\n",
       "<g id=\"a_node6\"><a xlink:title=\"middle:2\">\n",
       "<polygon fill=\"#ffdab9\" stroke=\"#000000\" points=\"127,-268 60,-268 60,-228 127,-228 127,-268\"/>\n",
       "<text text-anchor=\"start\" x=\"68\" y=\"-253.8\" font-family=\"Fira Mono\" font-weight=\"bold\" font-style=\"italic\" font-size=\"14.00\" fill=\"#000000\">&lt;test&gt;</text>\n",
       "<text text-anchor=\"start\" x=\"69\" y=\"-234.8\" font-family=\"Fira Mono\" font-size=\"9.00\" fill=\"#000000\">if y &lt; z:</text>\n",
       "</a>\n",
       "</g>\n",
       "</g>\n",
       "<!-- y_middle_1&#45;&gt;test_middle_2 -->\n",
       "<g id=\"edge10\" class=\"edge\">\n",
       "<title>y_middle_1&#45;&gt;test_middle_2</title>\n",
       "<path fill=\"none\" stroke=\"#000000\" d=\"M175.7801,-303.8329C162.3633,-294.7287 146.3436,-283.8582 132.0198,-274.1384\"/>\n",
       "<polygon fill=\"#000000\" stroke=\"#000000\" points=\"133.5988,-270.9802 123.3588,-268.2613 129.6683,-276.7725 133.5988,-270.9802\"/>\n",
       "</g>\n",
       "<!-- middlereturnvalue_middle_6 -->\n",
       "<g id=\"node7\" class=\"node\">\n",
       "<title>middlereturnvalue_middle_6</title>\n",
       "<g id=\"a_node7\"><a xlink:title=\"middle:6\">\n",
       "<polygon fill=\"#ffdab9\" stroke=\"#000000\" points=\"260.5,-40 50.5,-40 50.5,0 260.5,0 260.5,-40\"/>\n",
       "<text text-anchor=\"start\" x=\"58.5\" y=\"-25.8\" font-family=\"Fira Mono\" font-weight=\"bold\" font-style=\"italic\" font-size=\"14.00\" fill=\"#000000\">&lt;middle() return value&gt;</text>\n",
       "<text text-anchor=\"start\" x=\"133.5\" y=\"-6.8\" font-family=\"Fira Mono\" font-size=\"9.00\" fill=\"#000000\">return y</text>\n",
       "</a>\n",
       "</g>\n",
       "</g>\n",
       "<!-- y_middle_1&#45;&gt;middlereturnvalue_middle_6 -->\n",
       "<g id=\"edge7\" class=\"edge\">\n",
       "<title>y_middle_1&#45;&gt;middlereturnvalue_middle_6</title>\n",
       "<path fill=\"none\" stroke=\"#000000\" d=\"M268.2745,-307.301C287.7797,-298.8394 307.1293,-286.3255 318.5,-268 327.8731,-252.8939 324.1923,-244.8418 318.5,-228 292.8843,-152.2115 226.5381,-83.1646 186.8337,-46.8386\"/>\n",
       "<polygon fill=\"#000000\" stroke=\"#000000\" points=\"189.0387,-44.1142 179.268,-40.0174 184.3514,-49.3131 189.0387,-44.1142\"/>\n",
       "</g>\n",
       "<!-- test_middle_5&#45;&gt;middlereturnvalue_middle_6 -->\n",
       "<g id=\"edge8\" class=\"edge\">\n",
       "<title>test_middle_5&#45;&gt;middlereturnvalue_middle_6</title>\n",
       "<path fill=\"none\" stroke=\"#c0c0c0\" stroke-dasharray=\"5,2\" d=\"M149.4426,-75.6334C148.7819,-67.8186 148.5939,-58.7253 148.8786,-50.183\"/>\n",
       "<polygon fill=\"#c0c0c0\" stroke=\"#c0c0c0\" points=\"152.375,-50.3453 149.4602,-40.1593 145.3867,-49.9397 152.375,-50.3453\"/>\n",
       "</g>\n",
       "<!-- test_middle_5&#45;&gt;middlereturnvalue_middle_6 -->\n",
       "<!-- z_middle_1 -->\n",
       "<g id=\"node4\" class=\"node\">\n",
       "<title>z_middle_1</title>\n",
       "<g id=\"a_node4\"><a xlink:title=\"middle:1\">\n",
       "<polygon fill=\"#ffdab9\" stroke=\"#000000\" points=\"125,-344 0,-344 0,-304 125,-304 125,-344\"/>\n",
       "<text text-anchor=\"start\" x=\"58\" y=\"-329.8\" font-family=\"Fira Mono\" font-weight=\"bold\" font-size=\"14.00\" fill=\"#000000\">z</text>\n",
       "<text text-anchor=\"start\" x=\"8\" y=\"-310.8\" font-family=\"Fira Mono\" font-size=\"9.00\" fill=\"#000000\">def middle(x, y, z):</text>\n",
       "</a>\n",
       "</g>\n",
       "</g>\n",
       "<!-- z_middle_1&#45;&gt;test_middle_5 -->\n",
       "<g id=\"edge2\" class=\"edge\">\n",
       "<title>z_middle_1&#45;&gt;test_middle_5</title>\n",
       "<path fill=\"none\" stroke=\"#000000\" d=\"M54.8447,-303.9561C48.4566,-284.1394 41.6951,-253.213 50.5,-228 65.1113,-186.1604 99.1443,-147.6566 124.5286,-123.1675\"/>\n",
       "<polygon fill=\"#000000\" stroke=\"#000000\" points=\"127.2239,-125.4365 132.0977,-116.0291 122.4212,-120.3439 127.2239,-125.4365\"/>\n",
       "</g>\n",
       "<!-- z_middle_1&#45;&gt;test_middle_2 -->\n",
       "<g id=\"edge9\" class=\"edge\">\n",
       "<title>z_middle_1&#45;&gt;test_middle_2</title>\n",
       "<path fill=\"none\" stroke=\"#000000\" d=\"M64.75,-303.6334C67.3603,-295.561 71.0313,-286.1244 74.9407,-277.34\"/>\n",
       "<polygon fill=\"#000000\" stroke=\"#000000\" points=\"78.1684,-278.7001 79.2373,-268.1593 71.8284,-275.7328 78.1684,-278.7001\"/>\n",
       "</g>\n",
       "<!-- z_middle_1&#45;&gt;test_middle_2 -->\n",
       "<!-- test_middle_3&#45;&gt;test_middle_5 -->\n",
       "<g id=\"edge3\" class=\"edge\">\n",
       "<title>test_middle_3&#45;&gt;test_middle_5</title>\n",
       "<path fill=\"none\" stroke=\"#c0c0c0\" stroke-dasharray=\"5,2\" d=\"M149.4426,-151.6334C148.7819,-143.8186 148.5939,-134.7253 148.8786,-126.183\"/>\n",
       "<polygon fill=\"#c0c0c0\" stroke=\"#c0c0c0\" points=\"152.375,-126.3453 149.4602,-116.1593 145.3867,-125.9397 152.375,-126.3453\"/>\n",
       "</g>\n",
       "<!-- test_middle_3&#45;&gt;test_middle_5 -->\n",
       "<!-- test_middle_2&#45;&gt;test_middle_3 -->\n",
       "<g id=\"edge6\" class=\"edge\">\n",
       "<title>test_middle_2&#45;&gt;test_middle_3</title>\n",
       "<path fill=\"none\" stroke=\"#c0c0c0\" stroke-dasharray=\"5,2\" d=\"M104.0574,-227.6334C110.3372,-219.0457 118.4472,-208.9142 126.407,-199.6663\"/>\n",
       "<polygon fill=\"#c0c0c0\" stroke=\"#c0c0c0\" points=\"129.0347,-201.9783 133.0145,-192.1593 123.7802,-197.3534 129.0347,-201.9783\"/>\n",
       "</g>\n",
       "<!-- test_middle_2&#45;&gt;test_middle_3 -->\n",
       "</g>\n",
       "</svg>\n"
      ],
      "text/plain": [
       "<graphviz.dot.Digraph at 0x7fbb1cd95320>"
      ]
     },
     "execution_count": 21,
     "metadata": {},
     "output_type": "execute_result"
    }
   ],
   "source": [
    "middle_deps().graph()"
   ]
  },
  {
   "cell_type": "markdown",
   "metadata": {
    "slideshow": {
     "slide_type": "subslide"
    }
   },
   "source": [
    "#### Slices\n",
    "\n",
    "The method `backward_slice(*items, mode='cd')` returns a subset of dependencies, following dependencies backward from the given `items`. The extra parameter `mode` controls which dependencies are to be included:\n",
    "\n",
    "* **`d`** = data dependencies\n",
    "* **`c`** = control dependencies"
   ]
  },
  {
   "cell_type": "code",
   "execution_count": 22,
   "metadata": {
    "slideshow": {
     "slide_type": "subslide"
    }
   },
   "outputs": [],
   "source": [
    "class Dependencies(Dependencies):\n",
    "    def expand_items(self, items):\n",
    "        all_items = []\n",
    "        for item in items:\n",
    "            if isinstance(item, str):\n",
    "                for var in self.all_vars():\n",
    "                    (name, location) = var\n",
    "                    if name == item:\n",
    "                        all_items.append(var)\n",
    "            else:\n",
    "                all_items.append(item)\n",
    "\n",
    "        return all_items\n",
    "\n",
    "    def backward_slice(self, *items, mode=\"cd\", depth=-1):\n",
    "        \"\"\"Create a backward slice from nodes ITEMS.\"\"\"\n",
    "        data = {}\n",
    "        control = {}\n",
    "        queue = self.expand_items(items)\n",
    "        seen = set()\n",
    "\n",
    "        while len(queue) > 0 and depth != 0:\n",
    "            var = queue[0]\n",
    "            queue = queue[1:]\n",
    "            seen.add(var)\n",
    "\n",
    "            if 'd' in mode:\n",
    "                # Follow data dependencies\n",
    "                data[var] = self.data[var]\n",
    "                for next_var in data[var]:\n",
    "                    if next_var not in seen:\n",
    "                        queue.append(next_var)\n",
    "            else:\n",
    "                data[var] = set()\n",
    "\n",
    "            if 'c' in mode:\n",
    "                # Follow control dependencies\n",
    "                control[var] = self.control[var]\n",
    "                for next_var in control[var]:\n",
    "                    if next_var not in seen:\n",
    "                        queue.append(next_var)\n",
    "            else:\n",
    "                control[var] = set()\n",
    "                \n",
    "            depth = depth - 1\n",
    "\n",
    "        return Dependencies(data, control)"
   ]
  },
  {
   "cell_type": "markdown",
   "metadata": {
    "slideshow": {
     "slide_type": "subslide"
    }
   },
   "source": [
    "### End of Excursion"
   ]
  },
  {
   "cell_type": "markdown",
   "metadata": {
    "slideshow": {
     "slide_type": "subslide"
    }
   },
   "source": [
    "### Data Dependencies\n",
    "\n",
    "Here is an example of a data dependency in our `middle()` program. The value `y` returned by `middle()` comes from the value `y` as originally passed as argument. We use arrows $x \\leftarrow y$ to indicate that a variable $x$ depends on an earlier variable $y$:"
   ]
  },
  {
   "cell_type": "code",
   "execution_count": 23,
   "metadata": {
    "slideshow": {
     "slide_type": "fragment"
    }
   },
   "outputs": [
    {
     "data": {
      "image/svg+xml": [
       "<?xml version=\"1.0\" encoding=\"UTF-8\" standalone=\"no\"?>\n",
       "<!DOCTYPE svg PUBLIC \"-//W3C//DTD SVG 1.1//EN\"\n",
       " \"http://www.w3.org/Graphics/SVG/1.1/DTD/svg11.dtd\">\n",
       "<!-- Generated by graphviz version 2.40.1 (20161225.0304)\n",
       " -->\n",
       "<!-- Title: dependencies Pages: 1 -->\n",
       "<svg width=\"218pt\" height=\"124pt\"\n",
       " viewBox=\"0.00 0.00 218.00 124.00\" xmlns=\"http://www.w3.org/2000/svg\" xmlns:xlink=\"http://www.w3.org/1999/xlink\">\n",
       "<g id=\"graph0\" class=\"graph\" transform=\"scale(1 1) rotate(0) translate(4 120)\">\n",
       "<title>dependencies</title>\n",
       "<polygon fill=\"#ffffff\" stroke=\"transparent\" points=\"-4,4 -4,-120 214,-120 214,4 -4,4\"/>\n",
       "<!-- y_middle_1 -->\n",
       "<g id=\"node1\" class=\"node\">\n",
       "<title>y_middle_1</title>\n",
       "<g id=\"a_node1\"><a xlink:title=\"middle:1\">\n",
       "<polygon fill=\"#ffdab9\" stroke=\"#000000\" points=\"167.5,-116 42.5,-116 42.5,-76 167.5,-76 167.5,-116\"/>\n",
       "<text text-anchor=\"start\" x=\"100.5\" y=\"-101.8\" font-family=\"Fira Mono\" font-weight=\"bold\" font-size=\"14.00\" fill=\"#000000\">y</text>\n",
       "<text text-anchor=\"start\" x=\"50.5\" y=\"-82.8\" font-family=\"Fira Mono\" font-size=\"9.00\" fill=\"#000000\">def middle(x, y, z):</text>\n",
       "</a>\n",
       "</g>\n",
       "</g>\n",
       "<!-- middlereturnvalue_middle_6 -->\n",
       "<g id=\"node2\" class=\"node\">\n",
       "<title>middlereturnvalue_middle_6</title>\n",
       "<g id=\"a_node2\"><a xlink:title=\"middle:6\">\n",
       "<polygon fill=\"#ffdab9\" stroke=\"#000000\" points=\"210,-40 0,-40 0,0 210,0 210,-40\"/>\n",
       "<text text-anchor=\"start\" x=\"8\" y=\"-25.8\" font-family=\"Fira Mono\" font-weight=\"bold\" font-style=\"italic\" font-size=\"14.00\" fill=\"#000000\">&lt;middle() return value&gt;</text>\n",
       "<text text-anchor=\"start\" x=\"83\" y=\"-6.8\" font-family=\"Fira Mono\" font-size=\"9.00\" fill=\"#000000\">return y</text>\n",
       "</a>\n",
       "</g>\n",
       "</g>\n",
       "<!-- y_middle_1&#45;&gt;middlereturnvalue_middle_6 -->\n",
       "<g id=\"edge1\" class=\"edge\">\n",
       "<title>y_middle_1&#45;&gt;middlereturnvalue_middle_6</title>\n",
       "<path fill=\"none\" stroke=\"#000000\" d=\"M98.9426,-75.6334C98.2819,-67.8186 98.0939,-58.7253 98.3786,-50.183\"/>\n",
       "<polygon fill=\"#000000\" stroke=\"#000000\" points=\"101.875,-50.3453 98.9602,-40.1593 94.8867,-49.9397 101.875,-50.3453\"/>\n",
       "</g>\n",
       "<!-- y_middle_1&#45;&gt;middlereturnvalue_middle_6 -->\n",
       "</g>\n",
       "</svg>\n"
      ],
      "text/plain": [
       "<graphviz.dot.Digraph at 0x7fbb1cd84470>"
      ]
     },
     "execution_count": 23,
     "metadata": {},
     "output_type": "execute_result"
    }
   ],
   "source": [
    "# ignore\n",
    "middle_deps().backward_slice('<middle() return value>', mode='d').graph()"
   ]
  },
  {
   "cell_type": "markdown",
   "metadata": {
    "slideshow": {
     "slide_type": "fragment"
    }
   },
   "source": [
    "Here, we can see that the value `y` in the return statement is data dependent on the value of `y` as passed to `middle()`. An alternate interpretation of this graph is a *data flow*: The value of `y` in the upper node _flows_ into the value of `y` in the lower node."
   ]
  },
  {
   "cell_type": "markdown",
   "metadata": {
    "slideshow": {
     "slide_type": "subslide"
    }
   },
   "source": [
    "Since we consider the values of variables at specific locations in the program, such data dependencies can also be interpreted as dependencies between _statements_ – the above `return` statement thus is data dependent on the initialization of `y` in the upper node."
   ]
  },
  {
   "cell_type": "markdown",
   "metadata": {
    "slideshow": {
     "slide_type": "subslide"
    }
   },
   "source": [
    "### Control Dependencies\n",
    "\n",
    "Here is an example of a control dependency. The execution of the above `return` statement is controlled by the earlier test `x < z`. We use grey dashed lines to indicate control dependencies:"
   ]
  },
  {
   "cell_type": "code",
   "execution_count": 24,
   "metadata": {
    "slideshow": {
     "slide_type": "fragment"
    }
   },
   "outputs": [
    {
     "data": {
      "image/svg+xml": [
       "<?xml version=\"1.0\" encoding=\"UTF-8\" standalone=\"no\"?>\n",
       "<!DOCTYPE svg PUBLIC \"-//W3C//DTD SVG 1.1//EN\"\n",
       " \"http://www.w3.org/Graphics/SVG/1.1/DTD/svg11.dtd\">\n",
       "<!-- Generated by graphviz version 2.40.1 (20161225.0304)\n",
       " -->\n",
       "<!-- Title: dependencies Pages: 1 -->\n",
       "<svg width=\"218pt\" height=\"124pt\"\n",
       " viewBox=\"0.00 0.00 218.00 124.00\" xmlns=\"http://www.w3.org/2000/svg\" xmlns:xlink=\"http://www.w3.org/1999/xlink\">\n",
       "<g id=\"graph0\" class=\"graph\" transform=\"scale(1 1) rotate(0) translate(4 120)\">\n",
       "<title>dependencies</title>\n",
       "<polygon fill=\"#ffffff\" stroke=\"transparent\" points=\"-4,4 -4,-120 214,-120 214,4 -4,4\"/>\n",
       "<!-- test_middle_5 -->\n",
       "<g id=\"node1\" class=\"node\">\n",
       "<title>test_middle_5</title>\n",
       "<g id=\"a_node1\"><a xlink:title=\"middle:5\">\n",
       "<polygon fill=\"#ffdab9\" stroke=\"#000000\" points=\"143,-116 67,-116 67,-76 143,-76 143,-116\"/>\n",
       "<text text-anchor=\"start\" x=\"79.5\" y=\"-101.8\" font-family=\"Fira Mono\" font-weight=\"bold\" font-style=\"italic\" font-size=\"14.00\" fill=\"#000000\">&lt;test&gt;</text>\n",
       "<text text-anchor=\"start\" x=\"75\" y=\"-82.8\" font-family=\"Fira Mono\" font-size=\"9.00\" fill=\"#000000\">elif x &lt; z:</text>\n",
       "</a>\n",
       "</g>\n",
       "</g>\n",
       "<!-- middlereturnvalue_middle_6 -->\n",
       "<g id=\"node2\" class=\"node\">\n",
       "<title>middlereturnvalue_middle_6</title>\n",
       "<g id=\"a_node2\"><a xlink:title=\"middle:6\">\n",
       "<polygon fill=\"#ffdab9\" stroke=\"#000000\" points=\"210,-40 0,-40 0,0 210,0 210,-40\"/>\n",
       "<text text-anchor=\"start\" x=\"8\" y=\"-25.8\" font-family=\"Fira Mono\" font-weight=\"bold\" font-style=\"italic\" font-size=\"14.00\" fill=\"#000000\">&lt;middle() return value&gt;</text>\n",
       "<text text-anchor=\"start\" x=\"83\" y=\"-6.8\" font-family=\"Fira Mono\" font-size=\"9.00\" fill=\"#000000\">return y</text>\n",
       "</a>\n",
       "</g>\n",
       "</g>\n",
       "<!-- test_middle_5&#45;&gt;middlereturnvalue_middle_6 -->\n",
       "<g id=\"edge1\" class=\"edge\">\n",
       "<title>test_middle_5&#45;&gt;middlereturnvalue_middle_6</title>\n",
       "<path fill=\"none\" stroke=\"#c0c0c0\" stroke-dasharray=\"5,2\" d=\"M98.9426,-75.6334C98.2819,-67.8186 98.0939,-58.7253 98.3786,-50.183\"/>\n",
       "<polygon fill=\"#c0c0c0\" stroke=\"#c0c0c0\" points=\"101.875,-50.3453 98.9602,-40.1593 94.8867,-49.9397 101.875,-50.3453\"/>\n",
       "</g>\n",
       "<!-- test_middle_5&#45;&gt;middlereturnvalue_middle_6 -->\n",
       "</g>\n",
       "</svg>\n"
      ],
      "text/plain": [
       "<graphviz.dot.Digraph at 0x7fbb1cd84278>"
      ]
     },
     "execution_count": 24,
     "metadata": {},
     "output_type": "execute_result"
    }
   ],
   "source": [
    "# ignore\n",
    "middle_deps().backward_slice('<middle() return value>', mode='c', depth=1).graph()"
   ]
  },
  {
   "cell_type": "markdown",
   "metadata": {
    "slideshow": {
     "slide_type": "fragment"
    }
   },
   "source": [
    "This test in turn is controlled by earlier tests, so the full chain of control dependencies looks like this:"
   ]
  },
  {
   "cell_type": "code",
   "execution_count": 25,
   "metadata": {
    "slideshow": {
     "slide_type": "fragment"
    }
   },
   "outputs": [
    {
     "data": {
      "image/svg+xml": [
       "<?xml version=\"1.0\" encoding=\"UTF-8\" standalone=\"no\"?>\n",
       "<!DOCTYPE svg PUBLIC \"-//W3C//DTD SVG 1.1//EN\"\n",
       " \"http://www.w3.org/Graphics/SVG/1.1/DTD/svg11.dtd\">\n",
       "<!-- Generated by graphviz version 2.40.1 (20161225.0304)\n",
       " -->\n",
       "<!-- Title: dependencies Pages: 1 -->\n",
       "<svg width=\"218pt\" height=\"276pt\"\n",
       " viewBox=\"0.00 0.00 218.00 276.00\" xmlns=\"http://www.w3.org/2000/svg\" xmlns:xlink=\"http://www.w3.org/1999/xlink\">\n",
       "<g id=\"graph0\" class=\"graph\" transform=\"scale(1 1) rotate(0) translate(4 272)\">\n",
       "<title>dependencies</title>\n",
       "<polygon fill=\"#ffffff\" stroke=\"transparent\" points=\"-4,4 -4,-272 214,-272 214,4 -4,4\"/>\n",
       "<!-- test_middle_5 -->\n",
       "<g id=\"node1\" class=\"node\">\n",
       "<title>test_middle_5</title>\n",
       "<g id=\"a_node1\"><a xlink:title=\"middle:5\">\n",
       "<polygon fill=\"#ffdab9\" stroke=\"#000000\" points=\"143,-116 67,-116 67,-76 143,-76 143,-116\"/>\n",
       "<text text-anchor=\"start\" x=\"79.5\" y=\"-101.8\" font-family=\"Fira Mono\" font-weight=\"bold\" font-style=\"italic\" font-size=\"14.00\" fill=\"#000000\">&lt;test&gt;</text>\n",
       "<text text-anchor=\"start\" x=\"75\" y=\"-82.8\" font-family=\"Fira Mono\" font-size=\"9.00\" fill=\"#000000\">elif x &lt; z:</text>\n",
       "</a>\n",
       "</g>\n",
       "</g>\n",
       "<!-- middlereturnvalue_middle_6 -->\n",
       "<g id=\"node3\" class=\"node\">\n",
       "<title>middlereturnvalue_middle_6</title>\n",
       "<g id=\"a_node3\"><a xlink:title=\"middle:6\">\n",
       "<polygon fill=\"#ffdab9\" stroke=\"#000000\" points=\"210,-40 0,-40 0,0 210,0 210,-40\"/>\n",
       "<text text-anchor=\"start\" x=\"8\" y=\"-25.8\" font-family=\"Fira Mono\" font-weight=\"bold\" font-style=\"italic\" font-size=\"14.00\" fill=\"#000000\">&lt;middle() return value&gt;</text>\n",
       "<text text-anchor=\"start\" x=\"83\" y=\"-6.8\" font-family=\"Fira Mono\" font-size=\"9.00\" fill=\"#000000\">return y</text>\n",
       "</a>\n",
       "</g>\n",
       "</g>\n",
       "<!-- test_middle_5&#45;&gt;middlereturnvalue_middle_6 -->\n",
       "<g id=\"edge2\" class=\"edge\">\n",
       "<title>test_middle_5&#45;&gt;middlereturnvalue_middle_6</title>\n",
       "<path fill=\"none\" stroke=\"#c0c0c0\" stroke-dasharray=\"5,2\" d=\"M98.9426,-75.6334C98.2819,-67.8186 98.0939,-58.7253 98.3786,-50.183\"/>\n",
       "<polygon fill=\"#c0c0c0\" stroke=\"#c0c0c0\" points=\"101.875,-50.3453 98.9602,-40.1593 94.8867,-49.9397 101.875,-50.3453\"/>\n",
       "</g>\n",
       "<!-- test_middle_5&#45;&gt;middlereturnvalue_middle_6 -->\n",
       "<!-- test_middle_3 -->\n",
       "<g id=\"node2\" class=\"node\">\n",
       "<title>test_middle_3</title>\n",
       "<g id=\"a_node2\"><a xlink:title=\"middle:3\">\n",
       "<polygon fill=\"#ffdab9\" stroke=\"#000000\" points=\"138.5,-192 71.5,-192 71.5,-152 138.5,-152 138.5,-192\"/>\n",
       "<text text-anchor=\"start\" x=\"79.5\" y=\"-177.8\" font-family=\"Fira Mono\" font-weight=\"bold\" font-style=\"italic\" font-size=\"14.00\" fill=\"#000000\">&lt;test&gt;</text>\n",
       "<text text-anchor=\"start\" x=\"80.5\" y=\"-158.8\" font-family=\"Fira Mono\" font-size=\"9.00\" fill=\"#000000\">if x &lt; y:</text>\n",
       "</a>\n",
       "</g>\n",
       "</g>\n",
       "<!-- test_middle_3&#45;&gt;test_middle_5 -->\n",
       "<g id=\"edge1\" class=\"edge\">\n",
       "<title>test_middle_3&#45;&gt;test_middle_5</title>\n",
       "<path fill=\"none\" stroke=\"#c0c0c0\" stroke-dasharray=\"5,2\" d=\"M98.9426,-151.6334C98.2819,-143.8186 98.0939,-134.7253 98.3786,-126.183\"/>\n",
       "<polygon fill=\"#c0c0c0\" stroke=\"#c0c0c0\" points=\"101.875,-126.3453 98.9602,-116.1593 94.8867,-125.9397 101.875,-126.3453\"/>\n",
       "</g>\n",
       "<!-- test_middle_3&#45;&gt;test_middle_5 -->\n",
       "<!-- test_middle_2 -->\n",
       "<g id=\"node4\" class=\"node\">\n",
       "<title>test_middle_2</title>\n",
       "<g id=\"a_node4\"><a xlink:title=\"middle:2\">\n",
       "<polygon fill=\"#ffdab9\" stroke=\"#000000\" points=\"138.5,-268 71.5,-268 71.5,-228 138.5,-228 138.5,-268\"/>\n",
       "<text text-anchor=\"start\" x=\"79.5\" y=\"-253.8\" font-family=\"Fira Mono\" font-weight=\"bold\" font-style=\"italic\" font-size=\"14.00\" fill=\"#000000\">&lt;test&gt;</text>\n",
       "<text text-anchor=\"start\" x=\"80.5\" y=\"-234.8\" font-family=\"Fira Mono\" font-size=\"9.00\" fill=\"#000000\">if y &lt; z:</text>\n",
       "</a>\n",
       "</g>\n",
       "</g>\n",
       "<!-- test_middle_2&#45;&gt;test_middle_3 -->\n",
       "<g id=\"edge3\" class=\"edge\">\n",
       "<title>test_middle_2&#45;&gt;test_middle_3</title>\n",
       "<path fill=\"none\" stroke=\"#c0c0c0\" stroke-dasharray=\"5,2\" d=\"M98.9426,-227.6334C98.2819,-219.8186 98.0939,-210.7253 98.3786,-202.183\"/>\n",
       "<polygon fill=\"#c0c0c0\" stroke=\"#c0c0c0\" points=\"101.875,-202.3453 98.9602,-192.1593 94.8867,-201.9397 101.875,-202.3453\"/>\n",
       "</g>\n",
       "<!-- test_middle_2&#45;&gt;test_middle_3 -->\n",
       "</g>\n",
       "</svg>\n"
      ],
      "text/plain": [
       "<graphviz.dot.Digraph at 0x7fbb1cd84cf8>"
      ]
     },
     "execution_count": 25,
     "metadata": {},
     "output_type": "execute_result"
    }
   ],
   "source": [
    "# ignore\n",
    "middle_deps().backward_slice('<middle() return value>', mode='c').graph()"
   ]
  },
  {
   "cell_type": "markdown",
   "metadata": {
    "slideshow": {
     "slide_type": "subslide"
    }
   },
   "source": [
    "### Dependency Graphs\n",
    "\n",
    "As the above `<test>` values (and their statements) are in turn also dependent on earlier data, namely the `x`, `y`, and `z` values as originally passed. We can draw all data and control dependencies in a single graph, called a _program dependency graph_:"
   ]
  },
  {
   "cell_type": "code",
   "execution_count": 26,
   "metadata": {
    "slideshow": {
     "slide_type": "fragment"
    }
   },
   "outputs": [
    {
     "data": {
      "image/svg+xml": [
       "<?xml version=\"1.0\" encoding=\"UTF-8\" standalone=\"no\"?>\n",
       "<!DOCTYPE svg PUBLIC \"-//W3C//DTD SVG 1.1//EN\"\n",
       " \"http://www.w3.org/Graphics/SVG/1.1/DTD/svg11.dtd\">\n",
       "<!-- Generated by graphviz version 2.40.1 (20161225.0304)\n",
       " -->\n",
       "<!-- Title: dependencies Pages: 1 -->\n",
       "<svg width=\"332pt\" height=\"352pt\"\n",
       " viewBox=\"0.00 0.00 332.38 352.00\" xmlns=\"http://www.w3.org/2000/svg\" xmlns:xlink=\"http://www.w3.org/1999/xlink\">\n",
       "<g id=\"graph0\" class=\"graph\" transform=\"scale(1 1) rotate(0) translate(4 348)\">\n",
       "<title>dependencies</title>\n",
       "<polygon fill=\"#ffffff\" stroke=\"transparent\" points=\"-4,4 -4,-348 328.3796,-348 328.3796,4 -4,4\"/>\n",
       "<!-- x_middle_1 -->\n",
       "<g id=\"node1\" class=\"node\">\n",
       "<title>x_middle_1</title>\n",
       "<g id=\"a_node1\"><a xlink:title=\"middle:1\">\n",
       "<polygon fill=\"#ffdab9\" stroke=\"#000000\" points=\"309,-268 184,-268 184,-228 309,-228 309,-268\"/>\n",
       "<text text-anchor=\"start\" x=\"242\" y=\"-253.8\" font-family=\"Fira Mono\" font-weight=\"bold\" font-size=\"14.00\" fill=\"#000000\">x</text>\n",
       "<text text-anchor=\"start\" x=\"192\" y=\"-234.8\" font-family=\"Fira Mono\" font-size=\"9.00\" fill=\"#000000\">def middle(x, y, z):</text>\n",
       "</a>\n",
       "</g>\n",
       "</g>\n",
       "<!-- test_middle_5 -->\n",
       "<g id=\"node3\" class=\"node\">\n",
       "<title>test_middle_5</title>\n",
       "<g id=\"a_node3\"><a xlink:title=\"middle:5\">\n",
       "<polygon fill=\"#ffdab9\" stroke=\"#000000\" points=\"193.5,-116 117.5,-116 117.5,-76 193.5,-76 193.5,-116\"/>\n",
       "<text text-anchor=\"start\" x=\"130\" y=\"-101.8\" font-family=\"Fira Mono\" font-weight=\"bold\" font-style=\"italic\" font-size=\"14.00\" fill=\"#000000\">&lt;test&gt;</text>\n",
       "<text text-anchor=\"start\" x=\"125.5\" y=\"-82.8\" font-family=\"Fira Mono\" font-size=\"9.00\" fill=\"#000000\">elif x &lt; z:</text>\n",
       "</a>\n",
       "</g>\n",
       "</g>\n",
       "<!-- x_middle_1&#45;&gt;test_middle_5 -->\n",
       "<g id=\"edge1\" class=\"edge\">\n",
       "<title>x_middle_1&#45;&gt;test_middle_5</title>\n",
       "<path fill=\"none\" stroke=\"#000000\" d=\"M237.8185,-227.9136C228.9283,-208.0647 214.2188,-177.1143 198.5,-152 192.5861,-142.5513 185.4478,-132.749 178.7012,-124.0367\"/>\n",
       "<polygon fill=\"#000000\" stroke=\"#000000\" points=\"181.35,-121.7435 172.4056,-116.0648 175.8565,-126.0819 181.35,-121.7435\"/>\n",
       "</g>\n",
       "<!-- test_middle_3 -->\n",
       "<g id=\"node5\" class=\"node\">\n",
       "<title>test_middle_3</title>\n",
       "<g id=\"a_node5\"><a xlink:title=\"middle:3\">\n",
       "<polygon fill=\"#ffdab9\" stroke=\"#000000\" points=\"189,-192 122,-192 122,-152 189,-152 189,-192\"/>\n",
       "<text text-anchor=\"start\" x=\"130\" y=\"-177.8\" font-family=\"Fira Mono\" font-weight=\"bold\" font-style=\"italic\" font-size=\"14.00\" fill=\"#000000\">&lt;test&gt;</text>\n",
       "<text text-anchor=\"start\" x=\"131\" y=\"-158.8\" font-family=\"Fira Mono\" font-size=\"9.00\" fill=\"#000000\">if x &lt; y:</text>\n",
       "</a>\n",
       "</g>\n",
       "</g>\n",
       "<!-- x_middle_1&#45;&gt;test_middle_3 -->\n",
       "<g id=\"edge4\" class=\"edge\">\n",
       "<title>x_middle_1&#45;&gt;test_middle_3</title>\n",
       "<path fill=\"none\" stroke=\"#000000\" d=\"M222.1137,-227.6334C211.5226,-218.7881 198.9703,-208.3049 187.6332,-198.8365\"/>\n",
       "<polygon fill=\"#000000\" stroke=\"#000000\" points=\"189.557,-195.8831 179.6381,-192.1593 185.0699,-201.2558 189.557,-195.8831\"/>\n",
       "</g>\n",
       "<!-- y_middle_1 -->\n",
       "<g id=\"node2\" class=\"node\">\n",
       "<title>y_middle_1</title>\n",
       "<g id=\"a_node2\"><a xlink:title=\"middle:1\">\n",
       "<polygon fill=\"#ffdab9\" stroke=\"#000000\" points=\"268,-344 143,-344 143,-304 268,-304 268,-344\"/>\n",
       "<text text-anchor=\"start\" x=\"201\" y=\"-329.8\" font-family=\"Fira Mono\" font-weight=\"bold\" font-size=\"14.00\" fill=\"#000000\">y</text>\n",
       "<text text-anchor=\"start\" x=\"151\" y=\"-310.8\" font-family=\"Fira Mono\" font-size=\"9.00\" fill=\"#000000\">def middle(x, y, z):</text>\n",
       "</a>\n",
       "</g>\n",
       "</g>\n",
       "<!-- y_middle_1&#45;&gt;test_middle_3 -->\n",
       "<g id=\"edge5\" class=\"edge\">\n",
       "<title>y_middle_1&#45;&gt;test_middle_3</title>\n",
       "<path fill=\"none\" stroke=\"#000000\" d=\"M192.9234,-303.9105C186.8953,-293.5214 180.021,-280.4392 175.5,-268 167.7475,-246.6693 162.6456,-221.5211 159.536,-202.3158\"/>\n",
       "<polygon fill=\"#000000\" stroke=\"#000000\" points=\"162.9791,-201.6765 158.0093,-192.3196 156.0593,-202.7335 162.9791,-201.6765\"/>\n",
       "</g>\n",
       "<!-- test_middle_2 -->\n",
       "<g id=\"node6\" class=\"node\">\n",
       "<title>test_middle_2</title>\n",
       "<g id=\"a_node6\"><a xlink:title=\"middle:2\">\n",
       "<polygon fill=\"#ffdab9\" stroke=\"#000000\" points=\"127,-268 60,-268 60,-228 127,-228 127,-268\"/>\n",
       "<text text-anchor=\"start\" x=\"68\" y=\"-253.8\" font-family=\"Fira Mono\" font-weight=\"bold\" font-style=\"italic\" font-size=\"14.00\" fill=\"#000000\">&lt;test&gt;</text>\n",
       "<text text-anchor=\"start\" x=\"69\" y=\"-234.8\" font-family=\"Fira Mono\" font-size=\"9.00\" fill=\"#000000\">if y &lt; z:</text>\n",
       "</a>\n",
       "</g>\n",
       "</g>\n",
       "<!-- y_middle_1&#45;&gt;test_middle_2 -->\n",
       "<g id=\"edge10\" class=\"edge\">\n",
       "<title>y_middle_1&#45;&gt;test_middle_2</title>\n",
       "<path fill=\"none\" stroke=\"#000000\" d=\"M175.7801,-303.8329C162.3633,-294.7287 146.3436,-283.8582 132.0198,-274.1384\"/>\n",
       "<polygon fill=\"#000000\" stroke=\"#000000\" points=\"133.5988,-270.9802 123.3588,-268.2613 129.6683,-276.7725 133.5988,-270.9802\"/>\n",
       "</g>\n",
       "<!-- middlereturnvalue_middle_6 -->\n",
       "<g id=\"node7\" class=\"node\">\n",
       "<title>middlereturnvalue_middle_6</title>\n",
       "<g id=\"a_node7\"><a xlink:title=\"middle:6\">\n",
       "<polygon fill=\"#ffdab9\" stroke=\"#000000\" points=\"260.5,-40 50.5,-40 50.5,0 260.5,0 260.5,-40\"/>\n",
       "<text text-anchor=\"start\" x=\"58.5\" y=\"-25.8\" font-family=\"Fira Mono\" font-weight=\"bold\" font-style=\"italic\" font-size=\"14.00\" fill=\"#000000\">&lt;middle() return value&gt;</text>\n",
       "<text text-anchor=\"start\" x=\"133.5\" y=\"-6.8\" font-family=\"Fira Mono\" font-size=\"9.00\" fill=\"#000000\">return y</text>\n",
       "</a>\n",
       "</g>\n",
       "</g>\n",
       "<!-- y_middle_1&#45;&gt;middlereturnvalue_middle_6 -->\n",
       "<g id=\"edge7\" class=\"edge\">\n",
       "<title>y_middle_1&#45;&gt;middlereturnvalue_middle_6</title>\n",
       "<path fill=\"none\" stroke=\"#000000\" d=\"M268.2745,-307.301C287.7797,-298.8394 307.1293,-286.3255 318.5,-268 327.8731,-252.8939 324.1923,-244.8418 318.5,-228 292.8843,-152.2115 226.5381,-83.1646 186.8337,-46.8386\"/>\n",
       "<polygon fill=\"#000000\" stroke=\"#000000\" points=\"189.0387,-44.1142 179.268,-40.0174 184.3514,-49.3131 189.0387,-44.1142\"/>\n",
       "</g>\n",
       "<!-- test_middle_5&#45;&gt;middlereturnvalue_middle_6 -->\n",
       "<g id=\"edge8\" class=\"edge\">\n",
       "<title>test_middle_5&#45;&gt;middlereturnvalue_middle_6</title>\n",
       "<path fill=\"none\" stroke=\"#c0c0c0\" stroke-dasharray=\"5,2\" d=\"M149.4426,-75.6334C148.7819,-67.8186 148.5939,-58.7253 148.8786,-50.183\"/>\n",
       "<polygon fill=\"#c0c0c0\" stroke=\"#c0c0c0\" points=\"152.375,-50.3453 149.4602,-40.1593 145.3867,-49.9397 152.375,-50.3453\"/>\n",
       "</g>\n",
       "<!-- test_middle_5&#45;&gt;middlereturnvalue_middle_6 -->\n",
       "<!-- z_middle_1 -->\n",
       "<g id=\"node4\" class=\"node\">\n",
       "<title>z_middle_1</title>\n",
       "<g id=\"a_node4\"><a xlink:title=\"middle:1\">\n",
       "<polygon fill=\"#ffdab9\" stroke=\"#000000\" points=\"125,-344 0,-344 0,-304 125,-304 125,-344\"/>\n",
       "<text text-anchor=\"start\" x=\"58\" y=\"-329.8\" font-family=\"Fira Mono\" font-weight=\"bold\" font-size=\"14.00\" fill=\"#000000\">z</text>\n",
       "<text text-anchor=\"start\" x=\"8\" y=\"-310.8\" font-family=\"Fira Mono\" font-size=\"9.00\" fill=\"#000000\">def middle(x, y, z):</text>\n",
       "</a>\n",
       "</g>\n",
       "</g>\n",
       "<!-- z_middle_1&#45;&gt;test_middle_5 -->\n",
       "<g id=\"edge2\" class=\"edge\">\n",
       "<title>z_middle_1&#45;&gt;test_middle_5</title>\n",
       "<path fill=\"none\" stroke=\"#000000\" d=\"M54.8447,-303.9561C48.4566,-284.1394 41.6951,-253.213 50.5,-228 65.1113,-186.1604 99.1443,-147.6566 124.5286,-123.1675\"/>\n",
       "<polygon fill=\"#000000\" stroke=\"#000000\" points=\"127.2239,-125.4365 132.0977,-116.0291 122.4212,-120.3439 127.2239,-125.4365\"/>\n",
       "</g>\n",
       "<!-- z_middle_1&#45;&gt;test_middle_2 -->\n",
       "<g id=\"edge9\" class=\"edge\">\n",
       "<title>z_middle_1&#45;&gt;test_middle_2</title>\n",
       "<path fill=\"none\" stroke=\"#000000\" d=\"M64.75,-303.6334C67.3603,-295.561 71.0313,-286.1244 74.9407,-277.34\"/>\n",
       "<polygon fill=\"#000000\" stroke=\"#000000\" points=\"78.1684,-278.7001 79.2373,-268.1593 71.8284,-275.7328 78.1684,-278.7001\"/>\n",
       "</g>\n",
       "<!-- z_middle_1&#45;&gt;test_middle_2 -->\n",
       "<!-- test_middle_3&#45;&gt;test_middle_5 -->\n",
       "<g id=\"edge3\" class=\"edge\">\n",
       "<title>test_middle_3&#45;&gt;test_middle_5</title>\n",
       "<path fill=\"none\" stroke=\"#c0c0c0\" stroke-dasharray=\"5,2\" d=\"M149.4426,-151.6334C148.7819,-143.8186 148.5939,-134.7253 148.8786,-126.183\"/>\n",
       "<polygon fill=\"#c0c0c0\" stroke=\"#c0c0c0\" points=\"152.375,-126.3453 149.4602,-116.1593 145.3867,-125.9397 152.375,-126.3453\"/>\n",
       "</g>\n",
       "<!-- test_middle_3&#45;&gt;test_middle_5 -->\n",
       "<!-- test_middle_2&#45;&gt;test_middle_3 -->\n",
       "<g id=\"edge6\" class=\"edge\">\n",
       "<title>test_middle_2&#45;&gt;test_middle_3</title>\n",
       "<path fill=\"none\" stroke=\"#c0c0c0\" stroke-dasharray=\"5,2\" d=\"M104.0574,-227.6334C110.3372,-219.0457 118.4472,-208.9142 126.407,-199.6663\"/>\n",
       "<polygon fill=\"#c0c0c0\" stroke=\"#c0c0c0\" points=\"129.0347,-201.9783 133.0145,-192.1593 123.7802,-197.3534 129.0347,-201.9783\"/>\n",
       "</g>\n",
       "<!-- test_middle_2&#45;&gt;test_middle_3 -->\n",
       "</g>\n",
       "</svg>\n"
      ],
      "text/plain": [
       "<graphviz.dot.Digraph at 0x7fbb1cd84860>"
      ]
     },
     "execution_count": 26,
     "metadata": {},
     "output_type": "execute_result"
    }
   ],
   "source": [
    "# ignore\n",
    "middle_deps().graph()"
   ]
  },
  {
   "cell_type": "markdown",
   "metadata": {
    "slideshow": {
     "slide_type": "fragment"
    }
   },
   "source": [
    "This graph now gives us an idea on how to proceed to track the origins of the `middle()` return value at the bottom. Its value can come from any of the dependences – namely the initialization of `y` at the function call, or from the `<test>` that controls it. This test in turn depends on `x` and `z` and their associated statements, which we now can check one after the other."
   ]
  },
  {
   "cell_type": "markdown",
   "metadata": {
    "slideshow": {
     "slide_type": "subslide"
    }
   },
   "source": [
    "Note that all these dependencies in the graph are _dynamic_ dependencies – that is, they refer to statements actually evaluated in the run at hand, as well as the decisions made in that very run. There also are _static_ dependency graphs coming from static analysis of the code; but for debugging, _dynamic_ dependencies specific to the failing run are more useful."
   ]
  },
  {
   "cell_type": "markdown",
   "metadata": {
    "slideshow": {
     "slide_type": "subslide"
    }
   },
   "source": [
    "### Showing Dependencies with Code\n",
    "\n",
    "While a graph gives us a representation about which possible data and control flows to track, integrating dependencies with actual program code results in a compact representation that is easy to reason about."
   ]
  },
  {
   "cell_type": "markdown",
   "metadata": {
    "slideshow": {
     "slide_type": "subslide"
    }
   },
   "source": [
    "#### Excursion: Listing Dependencies"
   ]
  },
  {
   "cell_type": "markdown",
   "metadata": {
    "slideshow": {
     "slide_type": "subslide"
    }
   },
   "source": [
    "To show dependencies as text, we introduce a method `format_var()` that shows a single node (a variable) as text. By default, a node is referenced as\n",
    "\n",
    "```python\n",
    "NAME (FUNCTION:LINENO)\n",
    "```\n",
    "\n",
    "However, within a given function, it makes no sense to re-state the function name again and again, so we have a shorthand\n",
    "\n",
    "```python\n",
    "NAME (LINENO)\n",
    "```\n",
    "\n",
    "to state a dependency to variable `NAME` in line `LINENO`."
   ]
  },
  {
   "cell_type": "code",
   "execution_count": 27,
   "metadata": {
    "slideshow": {
     "slide_type": "subslide"
    }
   },
   "outputs": [],
   "source": [
    "class Dependencies(Dependencies):\n",
    "    def format_var(self, var, current_location=None):\n",
    "        \"\"\"Return string for VAR in CURRENT_LOCATION.\"\"\"\n",
    "        name, location = var\n",
    "        location_name, lineno = location\n",
    "        if location_name != current_location:\n",
    "            return f\"{name} ({location_name}:{lineno})\"\n",
    "        else:\n",
    "            return f\"{name} ({lineno})\""
   ]
  },
  {
   "cell_type": "markdown",
   "metadata": {
    "slideshow": {
     "slide_type": "fragment"
    }
   },
   "source": [
    "`format_var()` is used extensively in this string representation of dependencies, listing all nodes and their data (`<=`) and control (`<-`) dependencies."
   ]
  },
  {
   "cell_type": "code",
   "execution_count": 28,
   "metadata": {
    "slideshow": {
     "slide_type": "subslide"
    }
   },
   "outputs": [],
   "source": [
    "class Dependencies(Dependencies):\n",
    "    def __str__(self):\n",
    "        self.validate()\n",
    "\n",
    "        out = \"\"\n",
    "        for code_name in self.all_codes():\n",
    "            if out != \"\":\n",
    "                out += \"\\n\"\n",
    "            out += f\"{code_name}():\\n\"\n",
    "\n",
    "            all_vars = list(set(self.data.keys()) | set(self.control.keys()))\n",
    "            all_vars.sort(key=lambda var: var[1][1])\n",
    "\n",
    "            for var in all_vars:\n",
    "                (name, location) = var\n",
    "                var_code, var_lineno = location\n",
    "                if var_code != code_name:\n",
    "                    continue\n",
    "\n",
    "                all_deps = \"\"\n",
    "                for (source, arrow) in [(self.data, \"<=\"), (self.control, \"<-\")]:\n",
    "                    deps = \"\"\n",
    "                    for data_dep in source[var]:\n",
    "                        if deps == \"\":\n",
    "                            deps = f\" {arrow} \"\n",
    "                        else:\n",
    "                            deps += \", \"\n",
    "                        deps += self.format_var(data_dep, code_name)\n",
    "\n",
    "                    if deps != \"\":\n",
    "                        if all_deps != \"\":\n",
    "                            all_deps += \";\"\n",
    "                        all_deps += deps\n",
    "\n",
    "                if all_deps == \"\":\n",
    "                    continue\n",
    "\n",
    "                out += (\"    \" + \n",
    "                        self.format_var(var, code_name) +\n",
    "                        all_deps + \"\\n\")\n",
    "\n",
    "        return out\n",
    "\n",
    "    def __repr__(self):\n",
    "        # Useful for saving and restoring values\n",
    "        return f\"Dependencies({self.data}, {self.control})\""
   ]
  },
  {
   "cell_type": "markdown",
   "metadata": {
    "slideshow": {
     "slide_type": "subslide"
    }
   },
   "source": [
    "Here is a compact string representation of dependencies. We see how the (last) `middle() return value` has a data dependency to `y` in Line 1, and to the `<test>` in Line 5."
   ]
  },
  {
   "cell_type": "code",
   "execution_count": 29,
   "metadata": {
    "slideshow": {
     "slide_type": "fragment"
    }
   },
   "outputs": [
    {
     "name": "stdout",
     "output_type": "stream",
     "text": [
      "middle():\n",
      "    <test> (2) <= z (1), y (1)\n",
      "    <test> (3) <= x (1), y (1); <- <test> (2)\n",
      "    <test> (5) <= x (1), z (1); <- <test> (3)\n",
      "    <middle() return value> (6) <= y (1); <- <test> (5)\n",
      "\n"
     ]
    }
   ],
   "source": [
    "print(middle_deps())"
   ]
  },
  {
   "cell_type": "markdown",
   "metadata": {
    "slideshow": {
     "slide_type": "fragment"
    }
   },
   "source": [
    "An even more useful representation comes when integrating these dependencies as comments into the code. The method `code(item)` lists the given (function) item, including its dependencies."
   ]
  },
  {
   "cell_type": "code",
   "execution_count": 30,
   "metadata": {
    "slideshow": {
     "slide_type": "skip"
    }
   },
   "outputs": [],
   "source": [
    "from bookutils import print_content"
   ]
  },
  {
   "cell_type": "code",
   "execution_count": 31,
   "metadata": {
    "slideshow": {
     "slide_type": "subslide"
    }
   },
   "outputs": [],
   "source": [
    "class Dependencies(Dependencies):\n",
    "    def code(self, item, mode='cd'):\n",
    "        \"\"\"List ITEM on standard output, including dependencies as comments.\"\"\"\n",
    "        all_vars = self.all_vars()\n",
    "        slice_locations = set(location for name, location in all_vars)\n",
    "\n",
    "        source_lines, first_lineno = inspect.getsourcelines(item)\n",
    "\n",
    "        n = first_lineno\n",
    "        for line in source_lines:\n",
    "            line_location = (item.__name__, n)\n",
    "            if line_location in slice_locations:\n",
    "                prefix = \"* \"\n",
    "            else:\n",
    "                prefix = \"  \"\n",
    "\n",
    "            print(f\"{prefix}{n:4} \", end=\"\")\n",
    "\n",
    "            comment = \"\"\n",
    "            for (mode_control, source, arrow) in [\n",
    "                ('d', self.data, '<='),\n",
    "                ('c', self.control, '<-')\n",
    "            ]:\n",
    "                if mode_control not in mode:\n",
    "                    continue\n",
    "\n",
    "                deps = \"\"\n",
    "                for var in source:\n",
    "                    name, location = var\n",
    "                    if location == line_location:\n",
    "                        for dep_var in source[var]:\n",
    "                            if deps == \"\":\n",
    "                                deps = arrow + \" \"\n",
    "                            else:\n",
    "                                deps += \", \"\n",
    "                            deps += self.format_var(dep_var, item.__name__)\n",
    "\n",
    "                if deps != \"\":\n",
    "                    if comment != \"\":\n",
    "                        comment += \"; \"\n",
    "                    comment += deps\n",
    "\n",
    "            if comment != \"\":\n",
    "                line = line.rstrip() + \"  # \" + comment\n",
    "\n",
    "            print_content(line.rstrip(), '.py')\n",
    "            print()\n",
    "            n += 1"
   ]
  },
  {
   "cell_type": "markdown",
   "metadata": {
    "slideshow": {
     "slide_type": "subslide"
    }
   },
   "source": [
    "#### End of Excursion"
   ]
  },
  {
   "cell_type": "markdown",
   "metadata": {
    "slideshow": {
     "slide_type": "subslide"
    }
   },
   "source": [
    "The following listing shows such an integration. For each executed line (`*`), we see its data (`<=`) and control (`<-`) dependencies, listing the associated variables and line numbers. The comment\n",
    "\n",
    "```python\n",
    "# <= y (1); <- <test> (5)\n",
    "```\n",
    "\n",
    "for Line 6, for instance, states that the return value is data dependent on the value of `y` in Line 1, and control dependent on the test in Line 5.\n",
    "\n",
    "Again, one can easily follow these dependencies back to track where a value came from (data dependencies) and why a statement was executed (control dependency)."
   ]
  },
  {
   "cell_type": "code",
   "execution_count": 32,
   "metadata": {
    "slideshow": {
     "slide_type": "subslide"
    }
   },
   "outputs": [
    {
     "name": "stdout",
     "output_type": "stream",
     "text": [
      "*    1 \u001b[34mdef\u001b[39;49;00m \u001b[32mmiddle\u001b[39;49;00m(x, y, z):\n",
      "*    2     \u001b[34mif\u001b[39;49;00m y < z:  \u001b[37m# <= z (1), y (1)\u001b[39;49;00m\n",
      "*    3         \u001b[34mif\u001b[39;49;00m x < y:  \u001b[37m# <= x (1), y (1); <- <test> (2)\u001b[39;49;00m\n",
      "     4             \u001b[34mreturn\u001b[39;49;00m y\n",
      "*    5         \u001b[34melif\u001b[39;49;00m x < z:  \u001b[37m# <= x (1), z (1); <- <test> (3)\u001b[39;49;00m\n",
      "*    6             \u001b[34mreturn\u001b[39;49;00m y  \u001b[37m# <= y (1); <- <test> (5)\u001b[39;49;00m\n",
      "     7     \u001b[34melse\u001b[39;49;00m:\n",
      "     8         \u001b[34mif\u001b[39;49;00m x > y:\n",
      "     9             \u001b[34mreturn\u001b[39;49;00m y\n",
      "    10         \u001b[34melif\u001b[39;49;00m x > z:\n",
      "    11             \u001b[34mreturn\u001b[39;49;00m x\n",
      "    12     \u001b[34mreturn\u001b[39;49;00m z\n"
     ]
    }
   ],
   "source": [
    "# ignore\n",
    "middle_deps().code(middle)"
   ]
  },
  {
   "cell_type": "markdown",
   "metadata": {
    "slideshow": {
     "slide_type": "subslide"
    }
   },
   "source": [
    "One important aspect of dependencies is that they not only point to specific sources and causes of failures – but that they also _rule out_ parts of program and state as failures. \n",
    "\n",
    "* In the above code, Lines 8 and later have no influence on the output, simply because they were not executed.\n",
    "* Furthermore, we see that we can start our investigation with Line 6, because that is the last one executed.\n",
    "* The data dependencies tell us that no statement has interfered with the value of `y` between the function call and its return.\n",
    "* Hence, the error must be in the conditions and the final `return` statement.\n",
    "\n",
    "With this in mind, recall that our original invocation was `middle(2, 1, 3)`. Why and how is the above code wrong?"
   ]
  },
  {
   "cell_type": "code",
   "execution_count": 33,
   "metadata": {
    "slideshow": {
     "slide_type": "skip"
    }
   },
   "outputs": [],
   "source": [
    "from bookutils import quiz"
   ]
  },
  {
   "cell_type": "code",
   "execution_count": 34,
   "metadata": {
    "slideshow": {
     "slide_type": "subslide"
    }
   },
   "outputs": [
    {
     "data": {
      "text/html": [
       "\n",
       "    \n",
       "    <script>\n",
       "    function answer(quiz_id) {\n",
       "        ans = 0;\n",
       "        for (i = 1;; i++) {\n",
       "            checkbox = document.getElementById(quiz_id + \"-\" + i.toString());\n",
       "            if (!checkbox)\n",
       "                break;\n",
       "            if (checkbox.checked)\n",
       "                ans |= (1 << i);\n",
       "        }\n",
       "        return ans;\n",
       "    }\n",
       "    function check_selection(quiz_id, correct_answer, multiple_choice) {\n",
       "        given_answer = answer(quiz_id);\n",
       "        if (given_answer == correct_answer)\n",
       "        {\n",
       "            document.getElementById(quiz_id + \"-submit\").value = \"Correct!\";\n",
       "            for (i = 1;; i++) {\n",
       "                checkbox = document.getElementById(quiz_id + \"-\" + i.toString());\n",
       "                label = document.getElementById(quiz_id + \"-\" + i.toString() + \"-label\")\n",
       "                if (!checkbox)\n",
       "                    break;\n",
       "    \n",
       "                if (checkbox.checked) {\n",
       "                    label.style.fontWeight = \"bold\";\n",
       "                }\n",
       "                else {\n",
       "                    label.style.textDecoration = \"line-through\";\n",
       "                }\n",
       "            }\n",
       "        }\n",
       "        else \n",
       "        {\n",
       "            document.getElementById(quiz_id + \"-submit\").value = \"Try again\";\n",
       "            if (!multiple_choice) {\n",
       "                for (i = 1;; i++) {\n",
       "                    checkbox = document.getElementById(quiz_id + \"-\" + i.toString());\n",
       "                    label = document.getElementById(quiz_id + \"-\" + i.toString() + \"-label\")\n",
       "\n",
       "                    if (!checkbox)\n",
       "                        break;\n",
       "                    if (checkbox.checked) {\n",
       "                        label.style.textDecoration = \"line-through\";\n",
       "                    }\n",
       "                }\n",
       "            }\n",
       "        }\n",
       "    }\n",
       "    function clear_selection(quiz_id) {\n",
       "        document.getElementById(quiz_id + \"-submit\").value = \"Submit\";\n",
       "    }\n",
       "    </script>\n",
       "    \n",
       "    <div class=\"quiz\">\n",
       "    <h3 class=\"quiz_title\">Quiz</h3>\n",
       "    <p>\n",
       "    <div class=\"quiz_question\">Which of the following <samp>middle()</samp> code lines should be fixed?</div>\n",
       "    </p>\n",
       "    <p>\n",
       "    <div class=\"quiz_options\" title=\"Pick a choice.\">\n",
       "    \n",
       "        <input type=\"radio\" name=\"a95e7f88-4388-11eb-a588-acde48001122\" id=\"a95e7f88-4388-11eb-a588-acde48001122-1\" onclick=\"clear_selection('a95e7f88-4388-11eb-a588-acde48001122')\">\n",
       "        <label id=\"a95e7f88-4388-11eb-a588-acde48001122-1-label\" for=\"a95e7f88-4388-11eb-a588-acde48001122-1\">Line 2: <samp>if y < z:</samp></label><br>\n",
       "    \n",
       "        <input type=\"radio\" name=\"a95e7f88-4388-11eb-a588-acde48001122\" id=\"a95e7f88-4388-11eb-a588-acde48001122-2\" onclick=\"clear_selection('a95e7f88-4388-11eb-a588-acde48001122')\">\n",
       "        <label id=\"a95e7f88-4388-11eb-a588-acde48001122-2-label\" for=\"a95e7f88-4388-11eb-a588-acde48001122-2\">Line 3: <samp>if x < y:</samp></label><br>\n",
       "    \n",
       "        <input type=\"radio\" name=\"a95e7f88-4388-11eb-a588-acde48001122\" id=\"a95e7f88-4388-11eb-a588-acde48001122-3\" onclick=\"clear_selection('a95e7f88-4388-11eb-a588-acde48001122')\">\n",
       "        <label id=\"a95e7f88-4388-11eb-a588-acde48001122-3-label\" for=\"a95e7f88-4388-11eb-a588-acde48001122-3\">Line 5: <samp>elif x < z:</samp></label><br>\n",
       "    \n",
       "        <input type=\"radio\" name=\"a95e7f88-4388-11eb-a588-acde48001122\" id=\"a95e7f88-4388-11eb-a588-acde48001122-4\" onclick=\"clear_selection('a95e7f88-4388-11eb-a588-acde48001122')\">\n",
       "        <label id=\"a95e7f88-4388-11eb-a588-acde48001122-4-label\" for=\"a95e7f88-4388-11eb-a588-acde48001122-4\">Line 6: <samp>return z</samp></label><br>\n",
       "    \n",
       "    </div>\n",
       "    </p>\n",
       "    <input id=\"a95e7f88-4388-11eb-a588-acde48001122-submit\" type=\"submit\" value=\"Submit\" onclick=\"check_selection('a95e7f88-4388-11eb-a588-acde48001122', 16, 0)\">\n",
       "    </div>\n",
       "    "
      ],
      "text/plain": [
       "<IPython.core.display.HTML object>"
      ]
     },
     "execution_count": 34,
     "metadata": {},
     "output_type": "execute_result"
    }
   ],
   "source": [
    "quiz(\"Which of the following <samp>middle()</samp> code lines should be fixed?\",\n",
    "    [\n",
    "        \"Line 2: <samp>if y < z:</samp>\",\n",
    "        \"Line 3: <samp>if x < y:</samp>\",\n",
    "        \"Line 5: <samp>elif x < z:</samp>\",\n",
    "        \"Line 6: <samp>return z</samp>\",\n",
    "    ], (1 ** 0 + 1 ** 1) ** (1 ** 2 + 1 ** 3))"
   ]
  },
  {
   "cell_type": "markdown",
   "metadata": {
    "slideshow": {
     "slide_type": "fragment"
    }
   },
   "source": [
    "Indeed, from the controlling conditions, we see that `y < z`, `x >= y`, and `x < z` all hold. Hence, `y <= x < z` holds, and it is `x`, not `y`, that should be returned."
   ]
  },
  {
   "cell_type": "markdown",
   "metadata": {
    "slideshow": {
     "slide_type": "slide"
    }
   },
   "source": [
    "## Tracking Techniques\n",
    "\n",
    "The question of \"Where does this value come from?\" is fundamental for debugging. When programmers read code during debugging, they scan it for potential data and control dependencies. This can be a tedious experience, notably if the data and control flow is spread across multiple separate locations, possibly even in different modules.\n",
    "\n",
    "In this chapter, we thus investigate means to _determine such dependencies_ automatically – by _collecting_ them during program execution. This means that for every variable, we need to keep track of its _origins_ – where it obtained its value, and which tests controlled its assignments."
   ]
  },
  {
   "cell_type": "markdown",
   "metadata": {
    "slideshow": {
     "slide_type": "subslide"
    }
   },
   "source": [
    "### Wrapping Data Objects"
   ]
  },
  {
   "cell_type": "markdown",
   "metadata": {
    "slideshow": {
     "slide_type": "subslide"
    }
   },
   "source": [
    "There are multiple ways to track such origins. One way is to _wrap_ each value in a class that stores both a value and the origin of the value. If a variable `x` is initialized to zero in Line 3, for instance, we could store it as\n",
    "```\n",
    "x = (value=0, origin=<Line 3>)\n",
    "```\n",
    "and if it is copied in, say, Line 5 to another variable `y`, we could store this as\n",
    "```\n",
    "y = (value=0, origin=<Line 3, Line 5>)\n",
    "```\n",
    "Such a scheme would allow us to track origins and dependencies right within the variable."
   ]
  },
  {
   "cell_type": "markdown",
   "metadata": {
    "slideshow": {
     "slide_type": "subslide"
    }
   },
   "source": [
    "In a language like Python, it is actually possibly to subclass from basic types. Here's how we create a `MyInt` subclass of `int`:"
   ]
  },
  {
   "cell_type": "code",
   "execution_count": 35,
   "metadata": {
    "slideshow": {
     "slide_type": "fragment"
    }
   },
   "outputs": [],
   "source": [
    "class MyInt(int):\n",
    "    def __new__(cls, value, *args, **kwargs):\n",
    "        return super(cls, cls).__new__(cls, value)\n",
    "\n",
    "    def __repr__(self):\n",
    "        return f\"{int(self)}\""
   ]
  },
  {
   "cell_type": "code",
   "execution_count": 36,
   "metadata": {
    "slideshow": {
     "slide_type": "fragment"
    }
   },
   "outputs": [],
   "source": [
    "x = MyInt(5)"
   ]
  },
  {
   "cell_type": "markdown",
   "metadata": {
    "slideshow": {
     "slide_type": "fragment"
    }
   },
   "source": [
    "We can access `x` just like any integer:"
   ]
  },
  {
   "cell_type": "code",
   "execution_count": 37,
   "metadata": {
    "slideshow": {
     "slide_type": "fragment"
    }
   },
   "outputs": [
    {
     "data": {
      "text/plain": [
       "(5, 6)"
      ]
     },
     "execution_count": 37,
     "metadata": {},
     "output_type": "execute_result"
    }
   ],
   "source": [
    "x, x + 1"
   ]
  },
  {
   "cell_type": "markdown",
   "metadata": {
    "slideshow": {
     "slide_type": "fragment"
    }
   },
   "source": [
    "However, we can also add extra attributes to it:"
   ]
  },
  {
   "cell_type": "code",
   "execution_count": 38,
   "metadata": {
    "slideshow": {
     "slide_type": "fragment"
    }
   },
   "outputs": [],
   "source": [
    "x.origin = \"Line 5\""
   ]
  },
  {
   "cell_type": "code",
   "execution_count": 39,
   "metadata": {
    "slideshow": {
     "slide_type": "subslide"
    }
   },
   "outputs": [
    {
     "data": {
      "text/plain": [
       "'Line 5'"
      ]
     },
     "execution_count": 39,
     "metadata": {},
     "output_type": "execute_result"
    }
   ],
   "source": [
    "x.origin"
   ]
  },
  {
   "cell_type": "markdown",
   "metadata": {
    "slideshow": {
     "slide_type": "subslide"
    }
   },
   "source": [
    "Such a \"wrapping\" scheme has the advantage of _leaving program code untouched_ – simply pass \"wrapped\" objects instead of the original values. However, it also has a number of drawbacks.\n",
    "\n",
    "* First, we must make sure that the \"wrapper\" objects are still compatible with the original values – notably by converting them back whenever needed. (What happens if an internal Python function expects an `int` and gets a `MyInt` instead?)\n",
    "* Second, we have to make sure that origins do not get lost during computations – which involves overloading operators such as `+`, `-`, `*`, and so on. (Right now, `MyInt(1) + 1` gives us an `int` object, not a `MyInt`.)\n",
    "* Third, we have to do this for _all_ data types of a language, which is pretty tedious.\n",
    "* Fourth and last, however, we want to track whenever a value is assigned to another variable. Python has no support for this, and thus our dependencies will necessarily be incomplete."
   ]
  },
  {
   "cell_type": "markdown",
   "metadata": {
    "slideshow": {
     "slide_type": "subslide"
    }
   },
   "source": [
    "### Wrapping Data Accesses"
   ]
  },
  {
   "cell_type": "markdown",
   "metadata": {
    "slideshow": {
     "slide_type": "subslide"
    }
   },
   "source": [
    "An alternate way of tracking origins is to _instrument_ the source code such that all _data read and write operations are tracked_. That is, the original data stays unchanged, but we change the code instead.\n",
    "\n",
    "In essence, for every occurrence of a variable `x` being _read_, we replace it with\n",
    "\n",
    "```python\n",
    "_data.get('x', x)  # returns x\n",
    "```\n",
    "\n",
    "and for every occurrence of a value being _written_ to `x`, we replace the value with\n",
    "\n",
    "```python\n",
    "_data.set('x', value)  # returns value\n",
    "```\n",
    "\n",
    "and let the `_data` object track these reads and writes.\n",
    "\n",
    "Hence, an assignment such as \n",
    "\n",
    "```python\n",
    "a = b + c\n",
    "```\n",
    "\n",
    "would get rewritten to\n",
    "\n",
    "```python\n",
    "a = _data.set('a', _data.get('b', b) + _data.get('c', c))\n",
    "```\n",
    "\n",
    "and with every access to `_data`, we would track \n",
    "\n",
    "1. the current _location_ in the code, and \n",
    "2. whether the respective variable was read or written.\n",
    "\n",
    "For the above statement, we could deduce that `b` and `c` were read, and `a` was written – which makes `a` data dependent on `b` and `c`."
   ]
  },
  {
   "cell_type": "markdown",
   "metadata": {
    "slideshow": {
     "slide_type": "subslide"
    }
   },
   "source": [
    "The advantage of such instrumentation is that it works with _arbitrary objects_ (in Python, that is) – we do not case whether `a`, `b`, and `c` would be integers, floats, strings, lists. or any other type for which `+` would be defined. Also, the code semantics remain entirely unchanged.\n",
    "\n",
    "The disadvantage, however, is that it takes a bit of effort to exactly separate reads and writes into individual groups, and that a number of language features have to be handled separately. This is what we do in the remainder of this chapter."
   ]
  },
  {
   "cell_type": "markdown",
   "metadata": {
    "slideshow": {
     "slide_type": "slide"
    }
   },
   "source": [
    "## A Data Tracker\n",
    "\n",
    "To implement `_data` accesses as shown above, we introduce the `DataTracker` class. As its name suggests, it keeps track of variables being read and written, and provides methods to determine the code location where this tool place."
   ]
  },
  {
   "cell_type": "code",
   "execution_count": 40,
   "metadata": {
    "slideshow": {
     "slide_type": "fragment"
    }
   },
   "outputs": [],
   "source": [
    "class DataTracker(object):\n",
    "    def __init__(self, log=False):\n",
    "        \"\"\"Initialize. If LOG is set, turn on logging.\"\"\"\n",
    "        self.log = log"
   ]
  },
  {
   "cell_type": "markdown",
   "metadata": {
    "slideshow": {
     "slide_type": "fragment"
    }
   },
   "source": [
    "The method `caller_frame()` walks up the current call stack until it finds a method or function that is not part of `DataTracker`. `caller_location()` returns its location."
   ]
  },
  {
   "cell_type": "code",
   "execution_count": 41,
   "metadata": {
    "slideshow": {
     "slide_type": "subslide"
    }
   },
   "outputs": [],
   "source": [
    "class DataTracker(DataTracker):\n",
    "    def caller_frame(self):\n",
    "        \"\"\"Return the frame of the caller.\"\"\"\n",
    "        frame = inspect.currentframe()\n",
    "        while ('self' in frame.f_locals and \n",
    "               isinstance(frame.f_locals['self'], self.__class__)):\n",
    "               frame = frame.f_back\n",
    "        return frame\n",
    "\n",
    "    def caller_location(self):\n",
    "        \"\"\"Return the location (code name, lineno) of the caller.\"\"\"\n",
    "        frame = self.caller_frame()\n",
    "        if frame.f_code.co_name in globals():\n",
    "            return frame.f_code.co_name, frame.f_lineno\n",
    "        else:\n",
    "            return frame.f_code.co_filename, frame.f_lineno"
   ]
  },
  {
   "cell_type": "markdown",
   "metadata": {
    "slideshow": {
     "slide_type": "subslide"
    }
   },
   "source": [
    "`set()` is invoked when a variable is set, as in\n",
    "\n",
    "```python\n",
    "pi = _data.set('pi', 3.1415)\n",
    "```\n",
    "\n",
    "By default, we simply log the access."
   ]
  },
  {
   "cell_type": "code",
   "execution_count": 42,
   "metadata": {
    "slideshow": {
     "slide_type": "subslide"
    }
   },
   "outputs": [],
   "source": [
    "class DataTracker(DataTracker):\n",
    "    def set(self, name, value):\n",
    "        \"\"\"Track setting NAME to VALUE.\"\"\"\n",
    "        if self.log:\n",
    "            code_name, lineno = self.caller_location()\n",
    "            print(f\"{code_name}:{lineno}: setting {name}\")\n",
    "\n",
    "        return value"
   ]
  },
  {
   "cell_type": "markdown",
   "metadata": {
    "slideshow": {
     "slide_type": "fragment"
    }
   },
   "source": [
    "`get()` is invoked when a variable is retrieved, as in\n",
    "\n",
    "```python\n",
    "print(_data.get('pi', pi))\n",
    "```\n",
    "By default, we simply log the access."
   ]
  },
  {
   "cell_type": "code",
   "execution_count": 43,
   "metadata": {
    "slideshow": {
     "slide_type": "subslide"
    }
   },
   "outputs": [],
   "source": [
    "class DataTracker(DataTracker):\n",
    "    def get(self, name, value):\n",
    "        \"\"\"Track getting VALUE from NAME.\"\"\"\n",
    "\n",
    "        if self.log:\n",
    "            code_name, lineno = self.caller_location()\n",
    "            print(f\"{code_name}:{lineno}: getting {name}\")\n",
    "            \n",
    "        return value"
   ]
  },
  {
   "cell_type": "code",
   "execution_count": 44,
   "metadata": {
    "slideshow": {
     "slide_type": "fragment"
    }
   },
   "outputs": [],
   "source": [
    "class DataTracker(DataTracker):\n",
    "    def __repr__(self):\n",
    "        return super().__repr__()"
   ]
  },
  {
   "cell_type": "markdown",
   "metadata": {
    "slideshow": {
     "slide_type": "fragment"
    }
   },
   "source": [
    "Here's an example of a logging `DataTracker`:"
   ]
  },
  {
   "cell_type": "code",
   "execution_count": 45,
   "metadata": {
    "slideshow": {
     "slide_type": "subslide"
    }
   },
   "outputs": [
    {
     "name": "stdout",
     "output_type": "stream",
     "text": [
      "<ipython-input-45-6b3e9b941320>:2: setting x\n"
     ]
    }
   ],
   "source": [
    "_test_data = DataTracker(log=True)\n",
    "x = _test_data.set('x', 1)"
   ]
  },
  {
   "cell_type": "code",
   "execution_count": 46,
   "metadata": {
    "slideshow": {
     "slide_type": "fragment"
    }
   },
   "outputs": [
    {
     "name": "stdout",
     "output_type": "stream",
     "text": [
      "<ipython-input-46-06cdcf804da2>:1: getting x\n"
     ]
    },
    {
     "data": {
      "text/plain": [
       "1"
      ]
     },
     "execution_count": 46,
     "metadata": {},
     "output_type": "execute_result"
    }
   ],
   "source": [
    "_test_data.get('x', x)"
   ]
  },
  {
   "cell_type": "markdown",
   "metadata": {
    "slideshow": {
     "slide_type": "slide"
    }
   },
   "source": [
    "## Instrumenting Source Code\n",
    "\n",
    "How do we transform source code such that read and write accesses to variables would be automatically rewritten?  To this end, we inspect the internal representation of source code, namely the _abstract syntax trees_ (ASTs). An AST represents the code as a tree, with specific node types for each syntactical element."
   ]
  },
  {
   "cell_type": "code",
   "execution_count": 47,
   "metadata": {
    "slideshow": {
     "slide_type": "skip"
    }
   },
   "outputs": [],
   "source": [
    "import ast\n",
    "import astor"
   ]
  },
  {
   "cell_type": "markdown",
   "metadata": {
    "slideshow": {
     "slide_type": "fragment"
    }
   },
   "source": [
    "Here is the tree representation for our `middle()` function. It starts with a `FunctionDef` node at the top (with the name `\"middle\"` and the three arguments `x`, `y`, `z` as children), followed by a subtree for each of the `If` statements, each of which contains a branch for when their condition evaluates to`True` and a branch for when their condition evaluates to `False`."
   ]
  },
  {
   "cell_type": "code",
   "execution_count": 48,
   "metadata": {
    "slideshow": {
     "slide_type": "skip"
    }
   },
   "outputs": [],
   "source": [
    "from bookutils import rich_output"
   ]
  },
  {
   "cell_type": "code",
   "execution_count": 49,
   "metadata": {
    "slideshow": {
     "slide_type": "subslide"
    }
   },
   "outputs": [],
   "source": [
    "if rich_output():\n",
    "    from showast import show_ast\n",
    "else:\n",
    "    def show_ast(tree):\n",
    "        ast.dump(tree)"
   ]
  },
  {
   "cell_type": "code",
   "execution_count": 50,
   "metadata": {
    "slideshow": {
     "slide_type": "fragment"
    }
   },
   "outputs": [
    {
     "data": {
      "image/svg+xml": [
       "<svg height=\"476pt\" viewBox=\"0.00 0.00 1862.00 476.00\" width=\"1862pt\" xmlns=\"http://www.w3.org/2000/svg\" xmlns:xlink=\"http://www.w3.org/1999/xlink\">\n",
       "<g class=\"graph\" id=\"graph0\" transform=\"scale(1 1) rotate(0) translate(4 472)\">\n",
       "<title>%3</title>\n",
       "<polygon fill=\"#ffffff\" points=\"-4,4 -4,-472 1858,-472 1858,4 -4,4\" stroke=\"transparent\"/>\n",
       "<!-- 0 -->\n",
       "<g class=\"node\" id=\"node1\">\n",
       "<title>0</title>\n",
       "<text fill=\"#004080\" font-family=\"Courier,monospace\" font-size=\"14.00\" font-weight=\"bold\" text-anchor=\"start\" x=\"196.5\" y=\"-447.3\">FunctionDef</text>\n",
       "</g>\n",
       "<!-- 1 -->\n",
       "<g class=\"node\" id=\"node2\">\n",
       "<title>1</title>\n",
       "<text fill=\"#008040\" font-family=\"Courier,monospace\" font-size=\"14.00\" text-anchor=\"middle\" x=\"65\" y=\"-374.3\">&quot;middle&quot;</text>\n",
       "</g>\n",
       "<!-- 0&#45;&#45;1 -->\n",
       "<g class=\"edge\" id=\"edge1\">\n",
       "<title>0--1</title>\n",
       "<path d=\"M247,-432C247,-432 173.6167,-414.0594 116,-396 113.1329,-395.1013 110.1857,-394.1461 107.2233,-393.1625\" fill=\"none\" stroke=\"#000000\"/>\n",
       "</g>\n",
       "<!-- 2 -->\n",
       "<g class=\"node\" id=\"node3\">\n",
       "<title>2</title>\n",
       "<text fill=\"#004080\" font-family=\"Courier,monospace\" font-size=\"14.00\" font-weight=\"bold\" text-anchor=\"start\" x=\"133\" y=\"-375.3\">arguments</text>\n",
       "</g>\n",
       "<!-- 0&#45;&#45;2 -->\n",
       "<g class=\"edge\" id=\"edge2\">\n",
       "<title>0--2</title>\n",
       "<path d=\"M247,-432C247,-432 218.7783,-411.9478 196.7301,-396.2819\" fill=\"none\" stroke=\"#000000\"/>\n",
       "</g>\n",
       "<!-- 9 -->\n",
       "<g class=\"node\" id=\"node10\">\n",
       "<title>9</title>\n",
       "<text fill=\"#004080\" font-family=\"Courier,monospace\" font-size=\"14.00\" font-weight=\"bold\" text-anchor=\"start\" x=\"464.5\" y=\"-375.3\">If</text>\n",
       "</g>\n",
       "<!-- 0&#45;&#45;9 -->\n",
       "<g class=\"edge\" id=\"edge9\">\n",
       "<title>0--9</title>\n",
       "<path d=\"M247,-432C247,-432 385.63,-398.876 445.7391,-384.5137\" fill=\"none\" stroke=\"#000000\"/>\n",
       "</g>\n",
       "<!-- 70 -->\n",
       "<g class=\"node\" id=\"node71\">\n",
       "<title>70</title>\n",
       "<text fill=\"#004080\" font-family=\"Courier,monospace\" font-size=\"14.00\" font-weight=\"bold\" text-anchor=\"start\" x=\"1129.5\" y=\"-375.3\">Return</text>\n",
       "</g>\n",
       "<!-- 0&#45;&#45;70 -->\n",
       "<g class=\"edge\" id=\"edge70\">\n",
       "<title>0--70</title>\n",
       "<path d=\"M247,-432C247,-432 957.0073,-389.7749 1121.3352,-380.0021\" fill=\"none\" stroke=\"#000000\"/>\n",
       "</g>\n",
       "<!-- 3 -->\n",
       "<g class=\"node\" id=\"node4\">\n",
       "<title>3</title>\n",
       "<text fill=\"#004080\" font-family=\"Courier,monospace\" font-size=\"14.00\" font-weight=\"bold\" text-anchor=\"start\" x=\"14\" y=\"-303.3\">arg</text>\n",
       "</g>\n",
       "<!-- 2&#45;&#45;3 -->\n",
       "<g class=\"edge\" id=\"edge3\">\n",
       "<title>2--3</title>\n",
       "<path d=\"M157,-360C157,-360 103.9448,-342.025 63,-324 60.186,-322.7612 57.2759,-321.4165 54.3857,-320.0389\" fill=\"none\" stroke=\"#000000\"/>\n",
       "</g>\n",
       "<!-- 5 -->\n",
       "<g class=\"node\" id=\"node6\">\n",
       "<title>5</title>\n",
       "<text fill=\"#004080\" font-family=\"Courier,monospace\" font-size=\"14.00\" font-weight=\"bold\" text-anchor=\"start\" x=\"86\" y=\"-303.3\">arg</text>\n",
       "</g>\n",
       "<!-- 2&#45;&#45;5 -->\n",
       "<g class=\"edge\" id=\"edge5\">\n",
       "<title>2--5</title>\n",
       "<path d=\"M157,-360C157,-360 135.4624,-339.9478 118.6362,-324.2819\" fill=\"none\" stroke=\"#000000\"/>\n",
       "</g>\n",
       "<!-- 7 -->\n",
       "<g class=\"node\" id=\"node8\">\n",
       "<title>7</title>\n",
       "<text fill=\"#004080\" font-family=\"Courier,monospace\" font-size=\"14.00\" font-weight=\"bold\" text-anchor=\"start\" x=\"158\" y=\"-303.3\">arg</text>\n",
       "</g>\n",
       "<!-- 2&#45;&#45;7 -->\n",
       "<g class=\"edge\" id=\"edge7\">\n",
       "<title>2--7</title>\n",
       "<path d=\"M157,-360C157,-360 162.1987,-339.9478 166.2602,-324.2819\" fill=\"none\" stroke=\"#000000\"/>\n",
       "</g>\n",
       "<!-- 4 -->\n",
       "<g class=\"node\" id=\"node5\">\n",
       "<title>4</title>\n",
       "<text fill=\"#008040\" font-family=\"Courier,monospace\" font-size=\"14.00\" text-anchor=\"middle\" x=\"27\" y=\"-230.3\">&quot;x&quot;</text>\n",
       "</g>\n",
       "<!-- 3&#45;&#45;4 -->\n",
       "<g class=\"edge\" id=\"edge4\">\n",
       "<title>3--4</title>\n",
       "<path d=\"M27,-287.8314C27,-277 27,-263.2876 27,-252.4133\" fill=\"none\" stroke=\"#000000\"/>\n",
       "</g>\n",
       "<!-- 6 -->\n",
       "<g class=\"node\" id=\"node7\">\n",
       "<title>6</title>\n",
       "<text fill=\"#008040\" font-family=\"Courier,monospace\" font-size=\"14.00\" text-anchor=\"middle\" x=\"99\" y=\"-230.3\">&quot;y&quot;</text>\n",
       "</g>\n",
       "<!-- 5&#45;&#45;6 -->\n",
       "<g class=\"edge\" id=\"edge6\">\n",
       "<title>5--6</title>\n",
       "<path d=\"M99,-287.8314C99,-277 99,-263.2876 99,-252.4133\" fill=\"none\" stroke=\"#000000\"/>\n",
       "</g>\n",
       "<!-- 8 -->\n",
       "<g class=\"node\" id=\"node9\">\n",
       "<title>8</title>\n",
       "<text fill=\"#008040\" font-family=\"Courier,monospace\" font-size=\"14.00\" text-anchor=\"middle\" x=\"171\" y=\"-230.3\">&quot;z&quot;</text>\n",
       "</g>\n",
       "<!-- 7&#45;&#45;8 -->\n",
       "<g class=\"edge\" id=\"edge8\">\n",
       "<title>7--8</title>\n",
       "<path d=\"M171,-287.8314C171,-277 171,-263.2876 171,-252.4133\" fill=\"none\" stroke=\"#000000\"/>\n",
       "</g>\n",
       "<!-- 10 -->\n",
       "<g class=\"node\" id=\"node11\">\n",
       "<title>10</title>\n",
       "<text fill=\"#004080\" font-family=\"Courier,monospace\" font-size=\"14.00\" font-weight=\"bold\" text-anchor=\"start\" x=\"321.5\" y=\"-303.3\">Compare</text>\n",
       "</g>\n",
       "<!-- 9&#45;&#45;10 -->\n",
       "<g class=\"edge\" id=\"edge10\">\n",
       "<title>9--10</title>\n",
       "<path d=\"M490,-360C490,-360 429.7808,-336.6055 388.6154,-320.6132\" fill=\"none\" stroke=\"#000000\"/>\n",
       "</g>\n",
       "<!-- 18 -->\n",
       "<g class=\"node\" id=\"node19\">\n",
       "<title>18</title>\n",
       "<text fill=\"#004080\" font-family=\"Courier,monospace\" font-size=\"14.00\" font-weight=\"bold\" text-anchor=\"start\" x=\"594.5\" y=\"-303.3\">If</text>\n",
       "</g>\n",
       "<!-- 9&#45;&#45;18 -->\n",
       "<g class=\"edge\" id=\"edge18\">\n",
       "<title>9--18</title>\n",
       "<path d=\"M490,-360C490,-360 542.5036,-334.9098 575.9337,-318.9343\" fill=\"none\" stroke=\"#000000\"/>\n",
       "</g>\n",
       "<!-- 44 -->\n",
       "<g class=\"node\" id=\"node45\">\n",
       "<title>44</title>\n",
       "<text fill=\"#004080\" font-family=\"Courier,monospace\" font-size=\"14.00\" font-weight=\"bold\" text-anchor=\"start\" x=\"1314.5\" y=\"-303.3\">If</text>\n",
       "</g>\n",
       "<!-- 9&#45;&#45;44 -->\n",
       "<g class=\"edge\" id=\"edge44\">\n",
       "<title>9--44</title>\n",
       "<path d=\"M490,-360C490,-360 1152.1961,-317.0725 1295.7582,-307.766\" fill=\"none\" stroke=\"#000000\"/>\n",
       "</g>\n",
       "<!-- 11 -->\n",
       "<g class=\"node\" id=\"node12\">\n",
       "<title>11</title>\n",
       "<text fill=\"#004080\" font-family=\"Courier,monospace\" font-size=\"14.00\" font-weight=\"bold\" text-anchor=\"start\" x=\"226\" y=\"-231.3\">Name</text>\n",
       "</g>\n",
       "<!-- 10&#45;&#45;11 -->\n",
       "<g class=\"edge\" id=\"edge11\">\n",
       "<title>10--11</title>\n",
       "<path d=\"M345,-288C345,-288 300.2843,-264.327 270.0663,-248.3292\" fill=\"none\" stroke=\"#000000\"/>\n",
       "</g>\n",
       "<!-- 14 -->\n",
       "<g class=\"node\" id=\"node15\">\n",
       "<title>14</title>\n",
       "<text fill=\"#008040\" font-family=\"Courier,monospace\" font-size=\"14.00\" text-anchor=\"middle\" x=\"315\" y=\"-230.3\">Lt</text>\n",
       "</g>\n",
       "<!-- 10&#45;&#45;14 -->\n",
       "<g class=\"edge\" id=\"edge14\">\n",
       "<title>10--14</title>\n",
       "<path d=\"M345,-288C345,-288 333.8599,-267.9478 325.1566,-252.2819\" fill=\"none\" stroke=\"#000000\"/>\n",
       "</g>\n",
       "<!-- 15 -->\n",
       "<g class=\"node\" id=\"node16\">\n",
       "<title>15</title>\n",
       "<text fill=\"#004080\" font-family=\"Courier,monospace\" font-size=\"14.00\" font-weight=\"bold\" text-anchor=\"start\" x=\"370\" y=\"-231.3\">Name</text>\n",
       "</g>\n",
       "<!-- 10&#45;&#45;15 -->\n",
       "<g class=\"edge\" id=\"edge15\">\n",
       "<title>10--15</title>\n",
       "<path d=\"M345,-288C345,-288 360.5962,-267.9478 372.7807,-252.2819\" fill=\"none\" stroke=\"#000000\"/>\n",
       "</g>\n",
       "<!-- 12 -->\n",
       "<g class=\"node\" id=\"node13\">\n",
       "<title>12</title>\n",
       "<text fill=\"#008040\" font-family=\"Courier,monospace\" font-size=\"14.00\" text-anchor=\"middle\" x=\"171\" y=\"-158.3\">&quot;y&quot;</text>\n",
       "</g>\n",
       "<!-- 11&#45;&#45;12 -->\n",
       "<g class=\"edge\" id=\"edge12\">\n",
       "<title>11--12</title>\n",
       "<path d=\"M235,-216C235,-216 211.2344,-195.9478 192.6675,-180.2819\" fill=\"none\" stroke=\"#000000\"/>\n",
       "</g>\n",
       "<!-- 13 -->\n",
       "<g class=\"node\" id=\"node14\">\n",
       "<title>13</title>\n",
       "<text fill=\"#008040\" font-family=\"Courier,monospace\" font-size=\"14.00\" text-anchor=\"middle\" x=\"243\" y=\"-158.3\">Load</text>\n",
       "</g>\n",
       "<!-- 11&#45;&#45;13 -->\n",
       "<g class=\"edge\" id=\"edge13\">\n",
       "<title>11--13</title>\n",
       "<path d=\"M235,-216C235,-216 237.9707,-195.9478 240.2916,-180.2819\" fill=\"none\" stroke=\"#000000\"/>\n",
       "</g>\n",
       "<!-- 16 -->\n",
       "<g class=\"node\" id=\"node17\">\n",
       "<title>16</title>\n",
       "<text fill=\"#008040\" font-family=\"Courier,monospace\" font-size=\"14.00\" text-anchor=\"middle\" x=\"315\" y=\"-158.3\">&quot;z&quot;</text>\n",
       "</g>\n",
       "<!-- 15&#45;&#45;16 -->\n",
       "<g class=\"edge\" id=\"edge16\">\n",
       "<title>15--16</title>\n",
       "<path d=\"M379,-216C379,-216 355.2344,-195.9478 336.6675,-180.2819\" fill=\"none\" stroke=\"#000000\"/>\n",
       "</g>\n",
       "<!-- 17 -->\n",
       "<g class=\"node\" id=\"node18\">\n",
       "<title>17</title>\n",
       "<text fill=\"#008040\" font-family=\"Courier,monospace\" font-size=\"14.00\" text-anchor=\"middle\" x=\"387\" y=\"-158.3\">Load</text>\n",
       "</g>\n",
       "<!-- 15&#45;&#45;17 -->\n",
       "<g class=\"edge\" id=\"edge17\">\n",
       "<title>15--17</title>\n",
       "<path d=\"M379,-216C379,-216 381.9707,-195.9478 384.2916,-180.2819\" fill=\"none\" stroke=\"#000000\"/>\n",
       "</g>\n",
       "<!-- 19 -->\n",
       "<g class=\"node\" id=\"node20\">\n",
       "<title>19</title>\n",
       "<text fill=\"#004080\" font-family=\"Courier,monospace\" font-size=\"14.00\" font-weight=\"bold\" text-anchor=\"start\" x=\"515.5\" y=\"-231.3\">Compare</text>\n",
       "</g>\n",
       "<!-- 18&#45;&#45;19 -->\n",
       "<g class=\"edge\" id=\"edge19\">\n",
       "<title>18--19</title>\n",
       "<path d=\"M613,-288C613,-288 587.749,-267.9478 568.0217,-252.2819\" fill=\"none\" stroke=\"#000000\"/>\n",
       "</g>\n",
       "<!-- 27 -->\n",
       "<g class=\"node\" id=\"node28\">\n",
       "<title>27</title>\n",
       "<text fill=\"#004080\" font-family=\"Courier,monospace\" font-size=\"14.00\" font-weight=\"bold\" text-anchor=\"start\" x=\"635.5\" y=\"-231.3\">Return</text>\n",
       "</g>\n",
       "<!-- 18&#45;&#45;27 -->\n",
       "<g class=\"edge\" id=\"edge27\">\n",
       "<title>18--27</title>\n",
       "<path d=\"M613,-288C613,-288 630.8242,-267.9478 644.7494,-252.2819\" fill=\"none\" stroke=\"#000000\"/>\n",
       "</g>\n",
       "<!-- 31 -->\n",
       "<g class=\"node\" id=\"node32\">\n",
       "<title>31</title>\n",
       "<text fill=\"#004080\" font-family=\"Courier,monospace\" font-size=\"14.00\" font-weight=\"bold\" text-anchor=\"start\" x=\"882.5\" y=\"-231.3\">If</text>\n",
       "</g>\n",
       "<!-- 18&#45;&#45;31 -->\n",
       "<g class=\"edge\" id=\"edge31\">\n",
       "<title>18--31</title>\n",
       "<path d=\"M613,-288C613,-288 793.886,-252.8639 863.838,-239.2761\" fill=\"none\" stroke=\"#000000\"/>\n",
       "</g>\n",
       "<!-- 20 -->\n",
       "<g class=\"node\" id=\"node21\">\n",
       "<title>20</title>\n",
       "<text fill=\"#004080\" font-family=\"Courier,monospace\" font-size=\"14.00\" font-weight=\"bold\" text-anchor=\"start\" x=\"442\" y=\"-159.3\">Name</text>\n",
       "</g>\n",
       "<!-- 19&#45;&#45;20 -->\n",
       "<g class=\"edge\" id=\"edge20\">\n",
       "<title>19--20</title>\n",
       "<path d=\"M542,-216C542,-216 510.3836,-195.4303 486.1773,-179.6816\" fill=\"none\" stroke=\"#000000\"/>\n",
       "</g>\n",
       "<!-- 23 -->\n",
       "<g class=\"node\" id=\"node24\">\n",
       "<title>23</title>\n",
       "<text fill=\"#008040\" font-family=\"Courier,monospace\" font-size=\"14.00\" text-anchor=\"middle\" x=\"531\" y=\"-158.3\">Lt</text>\n",
       "</g>\n",
       "<!-- 19&#45;&#45;23 -->\n",
       "<g class=\"edge\" id=\"edge23\">\n",
       "<title>19--23</title>\n",
       "<path d=\"M542,-216C542,-216 537.9153,-195.9478 534.7241,-180.2819\" fill=\"none\" stroke=\"#000000\"/>\n",
       "</g>\n",
       "<!-- 24 -->\n",
       "<g class=\"node\" id=\"node25\">\n",
       "<title>24</title>\n",
       "<text fill=\"#004080\" font-family=\"Courier,monospace\" font-size=\"14.00\" font-weight=\"bold\" text-anchor=\"start\" x=\"586\" y=\"-159.3\">Name</text>\n",
       "</g>\n",
       "<!-- 19&#45;&#45;24 -->\n",
       "<g class=\"edge\" id=\"edge24\">\n",
       "<title>19--24</title>\n",
       "<path d=\"M542,-216C542,-216 564.6516,-195.9478 582.3482,-180.2819\" fill=\"none\" stroke=\"#000000\"/>\n",
       "</g>\n",
       "<!-- 21 -->\n",
       "<g class=\"node\" id=\"node22\">\n",
       "<title>21</title>\n",
       "<text fill=\"#008040\" font-family=\"Courier,monospace\" font-size=\"14.00\" text-anchor=\"middle\" x=\"387\" y=\"-86.3\">&quot;x&quot;</text>\n",
       "</g>\n",
       "<!-- 20&#45;&#45;21 -->\n",
       "<g class=\"edge\" id=\"edge21\">\n",
       "<title>20--21</title>\n",
       "<path d=\"M451,-144C451,-144 427.2344,-123.9478 408.6675,-108.2819\" fill=\"none\" stroke=\"#000000\"/>\n",
       "</g>\n",
       "<!-- 22 -->\n",
       "<g class=\"node\" id=\"node23\">\n",
       "<title>22</title>\n",
       "<text fill=\"#008040\" font-family=\"Courier,monospace\" font-size=\"14.00\" text-anchor=\"middle\" x=\"459\" y=\"-86.3\">Load</text>\n",
       "</g>\n",
       "<!-- 20&#45;&#45;22 -->\n",
       "<g class=\"edge\" id=\"edge22\">\n",
       "<title>20--22</title>\n",
       "<path d=\"M451,-144C451,-144 453.9707,-123.9478 456.2916,-108.2819\" fill=\"none\" stroke=\"#000000\"/>\n",
       "</g>\n",
       "<!-- 25 -->\n",
       "<g class=\"node\" id=\"node26\">\n",
       "<title>25</title>\n",
       "<text fill=\"#008040\" font-family=\"Courier,monospace\" font-size=\"14.00\" text-anchor=\"middle\" x=\"531\" y=\"-86.3\">&quot;y&quot;</text>\n",
       "</g>\n",
       "<!-- 24&#45;&#45;25 -->\n",
       "<g class=\"edge\" id=\"edge25\">\n",
       "<title>24--25</title>\n",
       "<path d=\"M595,-144C595,-144 571.2344,-123.9478 552.6675,-108.2819\" fill=\"none\" stroke=\"#000000\"/>\n",
       "</g>\n",
       "<!-- 26 -->\n",
       "<g class=\"node\" id=\"node27\">\n",
       "<title>26</title>\n",
       "<text fill=\"#008040\" font-family=\"Courier,monospace\" font-size=\"14.00\" text-anchor=\"middle\" x=\"603\" y=\"-86.3\">Load</text>\n",
       "</g>\n",
       "<!-- 24&#45;&#45;26 -->\n",
       "<g class=\"edge\" id=\"edge26\">\n",
       "<title>24--26</title>\n",
       "<path d=\"M595,-144C595,-144 597.9707,-123.9478 600.2916,-108.2819\" fill=\"none\" stroke=\"#000000\"/>\n",
       "</g>\n",
       "<!-- 28 -->\n",
       "<g class=\"node\" id=\"node29\">\n",
       "<title>28</title>\n",
       "<text fill=\"#004080\" font-family=\"Courier,monospace\" font-size=\"14.00\" font-weight=\"bold\" text-anchor=\"start\" x=\"658\" y=\"-159.3\">Name</text>\n",
       "</g>\n",
       "<!-- 27&#45;&#45;28 -->\n",
       "<g class=\"edge\" id=\"edge28\">\n",
       "<title>27--28</title>\n",
       "<path d=\"M664.5328,-215.8314C666.6389,-205 669.3052,-191.2876 671.4196,-180.4133\" fill=\"none\" stroke=\"#000000\"/>\n",
       "</g>\n",
       "<!-- 29 -->\n",
       "<g class=\"node\" id=\"node30\">\n",
       "<title>29</title>\n",
       "<text fill=\"#008040\" font-family=\"Courier,monospace\" font-size=\"14.00\" text-anchor=\"middle\" x=\"675\" y=\"-86.3\">&quot;y&quot;</text>\n",
       "</g>\n",
       "<!-- 28&#45;&#45;29 -->\n",
       "<g class=\"edge\" id=\"edge29\">\n",
       "<title>28--29</title>\n",
       "<path d=\"M683,-144C683,-144 680.0293,-123.9478 677.7084,-108.2819\" fill=\"none\" stroke=\"#000000\"/>\n",
       "</g>\n",
       "<!-- 30 -->\n",
       "<g class=\"node\" id=\"node31\">\n",
       "<title>30</title>\n",
       "<text fill=\"#008040\" font-family=\"Courier,monospace\" font-size=\"14.00\" text-anchor=\"middle\" x=\"747\" y=\"-86.3\">Load</text>\n",
       "</g>\n",
       "<!-- 28&#45;&#45;30 -->\n",
       "<g class=\"edge\" id=\"edge30\">\n",
       "<title>28--30</title>\n",
       "<path d=\"M683,-144C683,-144 706.7656,-123.9478 725.3325,-108.2819\" fill=\"none\" stroke=\"#000000\"/>\n",
       "</g>\n",
       "<!-- 32 -->\n",
       "<g class=\"node\" id=\"node33\">\n",
       "<title>32</title>\n",
       "<text fill=\"#004080\" font-family=\"Courier,monospace\" font-size=\"14.00\" font-weight=\"bold\" text-anchor=\"start\" x=\"861.5\" y=\"-159.3\">Compare</text>\n",
       "</g>\n",
       "<!-- 31&#45;&#45;32 -->\n",
       "<g class=\"edge\" id=\"edge32\">\n",
       "<title>31--32</title>\n",
       "<path d=\"M901,-216C901,-216 897.2866,-195.9478 894.3855,-180.2819\" fill=\"none\" stroke=\"#000000\"/>\n",
       "</g>\n",
       "<!-- 40 -->\n",
       "<g class=\"node\" id=\"node41\">\n",
       "<title>40</title>\n",
       "<text fill=\"#004080\" font-family=\"Courier,monospace\" font-size=\"14.00\" font-weight=\"bold\" text-anchor=\"start\" x=\"982.5\" y=\"-159.3\">Return</text>\n",
       "</g>\n",
       "<!-- 31&#45;&#45;40 -->\n",
       "<g class=\"edge\" id=\"edge40\">\n",
       "<title>31--40</title>\n",
       "<path d=\"M901,-216C901,-216 943.0585,-194.7742 974.4381,-178.9378\" fill=\"none\" stroke=\"#000000\"/>\n",
       "</g>\n",
       "<!-- 33 -->\n",
       "<g class=\"node\" id=\"node34\">\n",
       "<title>33</title>\n",
       "<text fill=\"#004080\" font-family=\"Courier,monospace\" font-size=\"14.00\" font-weight=\"bold\" text-anchor=\"start\" x=\"802\" y=\"-87.3\">Name</text>\n",
       "</g>\n",
       "<!-- 32&#45;&#45;33 -->\n",
       "<g class=\"edge\" id=\"edge33\">\n",
       "<title>32--33</title>\n",
       "<path d=\"M891,-144C891,-144 864.2637,-123.9478 843.3759,-108.2819\" fill=\"none\" stroke=\"#000000\"/>\n",
       "</g>\n",
       "<!-- 36 -->\n",
       "<g class=\"node\" id=\"node37\">\n",
       "<title>36</title>\n",
       "<text fill=\"#008040\" font-family=\"Courier,monospace\" font-size=\"14.00\" text-anchor=\"middle\" x=\"891\" y=\"-86.3\">Lt</text>\n",
       "</g>\n",
       "<!-- 32&#45;&#45;36 -->\n",
       "<g class=\"edge\" id=\"edge36\">\n",
       "<title>32--36</title>\n",
       "<path d=\"M891,-144C891,-144 891,-123.9478 891,-108.2819\" fill=\"none\" stroke=\"#000000\"/>\n",
       "</g>\n",
       "<!-- 37 -->\n",
       "<g class=\"node\" id=\"node38\">\n",
       "<title>37</title>\n",
       "<text fill=\"#004080\" font-family=\"Courier,monospace\" font-size=\"14.00\" font-weight=\"bold\" text-anchor=\"start\" x=\"946\" y=\"-87.3\">Name</text>\n",
       "</g>\n",
       "<!-- 32&#45;&#45;37 -->\n",
       "<g class=\"edge\" id=\"edge37\">\n",
       "<title>32--37</title>\n",
       "<path d=\"M891,-144C891,-144 917.7363,-123.9478 938.6241,-108.2819\" fill=\"none\" stroke=\"#000000\"/>\n",
       "</g>\n",
       "<!-- 34 -->\n",
       "<g class=\"node\" id=\"node35\">\n",
       "<title>34</title>\n",
       "<text fill=\"#008040\" font-family=\"Courier,monospace\" font-size=\"14.00\" text-anchor=\"middle\" x=\"747\" y=\"-14.3\">&quot;x&quot;</text>\n",
       "</g>\n",
       "<!-- 33&#45;&#45;34 -->\n",
       "<g class=\"edge\" id=\"edge34\">\n",
       "<title>33--34</title>\n",
       "<path d=\"M811,-72C811,-72 787.2344,-51.9478 768.6675,-36.2819\" fill=\"none\" stroke=\"#000000\"/>\n",
       "</g>\n",
       "<!-- 35 -->\n",
       "<g class=\"node\" id=\"node36\">\n",
       "<title>35</title>\n",
       "<text fill=\"#008040\" font-family=\"Courier,monospace\" font-size=\"14.00\" text-anchor=\"middle\" x=\"819\" y=\"-14.3\">Load</text>\n",
       "</g>\n",
       "<!-- 33&#45;&#45;35 -->\n",
       "<g class=\"edge\" id=\"edge35\">\n",
       "<title>33--35</title>\n",
       "<path d=\"M811,-72C811,-72 813.9707,-51.9478 816.2916,-36.2819\" fill=\"none\" stroke=\"#000000\"/>\n",
       "</g>\n",
       "<!-- 38 -->\n",
       "<g class=\"node\" id=\"node39\">\n",
       "<title>38</title>\n",
       "<text fill=\"#008040\" font-family=\"Courier,monospace\" font-size=\"14.00\" text-anchor=\"middle\" x=\"891\" y=\"-14.3\">&quot;z&quot;</text>\n",
       "</g>\n",
       "<!-- 37&#45;&#45;38 -->\n",
       "<g class=\"edge\" id=\"edge38\">\n",
       "<title>37--38</title>\n",
       "<path d=\"M955,-72C955,-72 931.2344,-51.9478 912.6675,-36.2819\" fill=\"none\" stroke=\"#000000\"/>\n",
       "</g>\n",
       "<!-- 39 -->\n",
       "<g class=\"node\" id=\"node40\">\n",
       "<title>39</title>\n",
       "<text fill=\"#008040\" font-family=\"Courier,monospace\" font-size=\"14.00\" text-anchor=\"middle\" x=\"963\" y=\"-14.3\">Load</text>\n",
       "</g>\n",
       "<!-- 37&#45;&#45;39 -->\n",
       "<g class=\"edge\" id=\"edge39\">\n",
       "<title>37--39</title>\n",
       "<path d=\"M955,-72C955,-72 957.9707,-51.9478 960.2916,-36.2819\" fill=\"none\" stroke=\"#000000\"/>\n",
       "</g>\n",
       "<!-- 41 -->\n",
       "<g class=\"node\" id=\"node42\">\n",
       "<title>41</title>\n",
       "<text fill=\"#004080\" font-family=\"Courier,monospace\" font-size=\"14.00\" font-weight=\"bold\" text-anchor=\"start\" x=\"1018\" y=\"-87.3\">Name</text>\n",
       "</g>\n",
       "<!-- 40&#45;&#45;41 -->\n",
       "<g class=\"edge\" id=\"edge41\">\n",
       "<title>40--41</title>\n",
       "<path d=\"M1014.8132,-143.8314C1018.875,-133 1024.0172,-119.2876 1028.095,-108.4133\" fill=\"none\" stroke=\"#000000\"/>\n",
       "</g>\n",
       "<!-- 42 -->\n",
       "<g class=\"node\" id=\"node43\">\n",
       "<title>42</title>\n",
       "<text fill=\"#008040\" font-family=\"Courier,monospace\" font-size=\"14.00\" text-anchor=\"middle\" x=\"1035\" y=\"-14.3\">&quot;y&quot;</text>\n",
       "</g>\n",
       "<!-- 41&#45;&#45;42 -->\n",
       "<g class=\"edge\" id=\"edge42\">\n",
       "<title>41--42</title>\n",
       "<path d=\"M1043,-72C1043,-72 1040.0293,-51.9478 1037.7084,-36.2819\" fill=\"none\" stroke=\"#000000\"/>\n",
       "</g>\n",
       "<!-- 43 -->\n",
       "<g class=\"node\" id=\"node44\">\n",
       "<title>43</title>\n",
       "<text fill=\"#008040\" font-family=\"Courier,monospace\" font-size=\"14.00\" text-anchor=\"middle\" x=\"1107\" y=\"-14.3\">Load</text>\n",
       "</g>\n",
       "<!-- 41&#45;&#45;43 -->\n",
       "<g class=\"edge\" id=\"edge43\">\n",
       "<title>41--43</title>\n",
       "<path d=\"M1043,-72C1043,-72 1066.7656,-51.9478 1085.3325,-36.2819\" fill=\"none\" stroke=\"#000000\"/>\n",
       "</g>\n",
       "<!-- 45 -->\n",
       "<g class=\"node\" id=\"node46\">\n",
       "<title>45</title>\n",
       "<text fill=\"#004080\" font-family=\"Courier,monospace\" font-size=\"14.00\" font-weight=\"bold\" text-anchor=\"start\" x=\"1235.5\" y=\"-231.3\">Compare</text>\n",
       "</g>\n",
       "<!-- 44&#45;&#45;45 -->\n",
       "<g class=\"edge\" id=\"edge45\">\n",
       "<title>44--45</title>\n",
       "<path d=\"M1332,-288C1332,-288 1307.1204,-267.9478 1287.6831,-252.2819\" fill=\"none\" stroke=\"#000000\"/>\n",
       "</g>\n",
       "<!-- 53 -->\n",
       "<g class=\"node\" id=\"node54\">\n",
       "<title>53</title>\n",
       "<text fill=\"#004080\" font-family=\"Courier,monospace\" font-size=\"14.00\" font-weight=\"bold\" text-anchor=\"start\" x=\"1355.5\" y=\"-231.3\">Return</text>\n",
       "</g>\n",
       "<!-- 44&#45;&#45;53 -->\n",
       "<g class=\"edge\" id=\"edge53\">\n",
       "<title>44--53</title>\n",
       "<path d=\"M1332,-288C1332,-288 1350.1956,-267.9478 1364.4108,-252.2819\" fill=\"none\" stroke=\"#000000\"/>\n",
       "</g>\n",
       "<!-- 57 -->\n",
       "<g class=\"node\" id=\"node58\">\n",
       "<title>57</title>\n",
       "<text fill=\"#004080\" font-family=\"Courier,monospace\" font-size=\"14.00\" font-weight=\"bold\" text-anchor=\"start\" x=\"1533.5\" y=\"-231.3\">If</text>\n",
       "</g>\n",
       "<!-- 44&#45;&#45;57 -->\n",
       "<g class=\"edge\" id=\"edge57\">\n",
       "<title>44--57</title>\n",
       "<path d=\"M1332,-288C1332,-288 1458.2584,-255.5335 1514.9761,-240.949\" fill=\"none\" stroke=\"#000000\"/>\n",
       "</g>\n",
       "<!-- 46 -->\n",
       "<g class=\"node\" id=\"node47\">\n",
       "<title>46</title>\n",
       "<text fill=\"#004080\" font-family=\"Courier,monospace\" font-size=\"14.00\" font-weight=\"bold\" text-anchor=\"start\" x=\"1162\" y=\"-159.3\">Name</text>\n",
       "</g>\n",
       "<!-- 45&#45;&#45;46 -->\n",
       "<g class=\"edge\" id=\"edge46\">\n",
       "<title>45--46</title>\n",
       "<path d=\"M1262,-216C1262,-216 1230.3836,-195.4303 1206.1773,-179.6816\" fill=\"none\" stroke=\"#000000\"/>\n",
       "</g>\n",
       "<!-- 49 -->\n",
       "<g class=\"node\" id=\"node50\">\n",
       "<title>49</title>\n",
       "<text fill=\"#008040\" font-family=\"Courier,monospace\" font-size=\"14.00\" text-anchor=\"middle\" x=\"1251\" y=\"-158.3\">Gt</text>\n",
       "</g>\n",
       "<!-- 45&#45;&#45;49 -->\n",
       "<g class=\"edge\" id=\"edge49\">\n",
       "<title>45--49</title>\n",
       "<path d=\"M1262,-216C1262,-216 1257.9153,-195.9478 1254.7241,-180.2819\" fill=\"none\" stroke=\"#000000\"/>\n",
       "</g>\n",
       "<!-- 50 -->\n",
       "<g class=\"node\" id=\"node51\">\n",
       "<title>50</title>\n",
       "<text fill=\"#004080\" font-family=\"Courier,monospace\" font-size=\"14.00\" font-weight=\"bold\" text-anchor=\"start\" x=\"1306\" y=\"-159.3\">Name</text>\n",
       "</g>\n",
       "<!-- 45&#45;&#45;50 -->\n",
       "<g class=\"edge\" id=\"edge50\">\n",
       "<title>45--50</title>\n",
       "<path d=\"M1262,-216C1262,-216 1284.6516,-195.9478 1302.3482,-180.2819\" fill=\"none\" stroke=\"#000000\"/>\n",
       "</g>\n",
       "<!-- 47 -->\n",
       "<g class=\"node\" id=\"node48\">\n",
       "<title>47</title>\n",
       "<text fill=\"#008040\" font-family=\"Courier,monospace\" font-size=\"14.00\" text-anchor=\"middle\" x=\"1107\" y=\"-86.3\">&quot;x&quot;</text>\n",
       "</g>\n",
       "<!-- 46&#45;&#45;47 -->\n",
       "<g class=\"edge\" id=\"edge47\">\n",
       "<title>46--47</title>\n",
       "<path d=\"M1171,-144C1171,-144 1147.2344,-123.9478 1128.6675,-108.2819\" fill=\"none\" stroke=\"#000000\"/>\n",
       "</g>\n",
       "<!-- 48 -->\n",
       "<g class=\"node\" id=\"node49\">\n",
       "<title>48</title>\n",
       "<text fill=\"#008040\" font-family=\"Courier,monospace\" font-size=\"14.00\" text-anchor=\"middle\" x=\"1179\" y=\"-86.3\">Load</text>\n",
       "</g>\n",
       "<!-- 46&#45;&#45;48 -->\n",
       "<g class=\"edge\" id=\"edge48\">\n",
       "<title>46--48</title>\n",
       "<path d=\"M1171,-144C1171,-144 1173.9707,-123.9478 1176.2916,-108.2819\" fill=\"none\" stroke=\"#000000\"/>\n",
       "</g>\n",
       "<!-- 51 -->\n",
       "<g class=\"node\" id=\"node52\">\n",
       "<title>51</title>\n",
       "<text fill=\"#008040\" font-family=\"Courier,monospace\" font-size=\"14.00\" text-anchor=\"middle\" x=\"1251\" y=\"-86.3\">&quot;y&quot;</text>\n",
       "</g>\n",
       "<!-- 50&#45;&#45;51 -->\n",
       "<g class=\"edge\" id=\"edge51\">\n",
       "<title>50--51</title>\n",
       "<path d=\"M1315,-144C1315,-144 1291.2344,-123.9478 1272.6675,-108.2819\" fill=\"none\" stroke=\"#000000\"/>\n",
       "</g>\n",
       "<!-- 52 -->\n",
       "<g class=\"node\" id=\"node53\">\n",
       "<title>52</title>\n",
       "<text fill=\"#008040\" font-family=\"Courier,monospace\" font-size=\"14.00\" text-anchor=\"middle\" x=\"1323\" y=\"-86.3\">Load</text>\n",
       "</g>\n",
       "<!-- 50&#45;&#45;52 -->\n",
       "<g class=\"edge\" id=\"edge52\">\n",
       "<title>50--52</title>\n",
       "<path d=\"M1315,-144C1315,-144 1317.9707,-123.9478 1320.2916,-108.2819\" fill=\"none\" stroke=\"#000000\"/>\n",
       "</g>\n",
       "<!-- 54 -->\n",
       "<g class=\"node\" id=\"node55\">\n",
       "<title>54</title>\n",
       "<text fill=\"#004080\" font-family=\"Courier,monospace\" font-size=\"14.00\" font-weight=\"bold\" text-anchor=\"start\" x=\"1378\" y=\"-159.3\">Name</text>\n",
       "</g>\n",
       "<!-- 53&#45;&#45;54 -->\n",
       "<g class=\"edge\" id=\"edge54\">\n",
       "<title>53--54</title>\n",
       "<path d=\"M1384.5328,-215.8314C1386.6389,-205 1389.3052,-191.2876 1391.4196,-180.4133\" fill=\"none\" stroke=\"#000000\"/>\n",
       "</g>\n",
       "<!-- 55 -->\n",
       "<g class=\"node\" id=\"node56\">\n",
       "<title>55</title>\n",
       "<text fill=\"#008040\" font-family=\"Courier,monospace\" font-size=\"14.00\" text-anchor=\"middle\" x=\"1395\" y=\"-86.3\">&quot;y&quot;</text>\n",
       "</g>\n",
       "<!-- 54&#45;&#45;55 -->\n",
       "<g class=\"edge\" id=\"edge55\">\n",
       "<title>54--55</title>\n",
       "<path d=\"M1403,-144C1403,-144 1400.0293,-123.9478 1397.7084,-108.2819\" fill=\"none\" stroke=\"#000000\"/>\n",
       "</g>\n",
       "<!-- 56 -->\n",
       "<g class=\"node\" id=\"node57\">\n",
       "<title>56</title>\n",
       "<text fill=\"#008040\" font-family=\"Courier,monospace\" font-size=\"14.00\" text-anchor=\"middle\" x=\"1467\" y=\"-86.3\">Load</text>\n",
       "</g>\n",
       "<!-- 54&#45;&#45;56 -->\n",
       "<g class=\"edge\" id=\"edge56\">\n",
       "<title>54--56</title>\n",
       "<path d=\"M1403,-144C1403,-144 1426.7656,-123.9478 1445.3325,-108.2819\" fill=\"none\" stroke=\"#000000\"/>\n",
       "</g>\n",
       "<!-- 58 -->\n",
       "<g class=\"node\" id=\"node59\">\n",
       "<title>58</title>\n",
       "<text fill=\"#004080\" font-family=\"Courier,monospace\" font-size=\"14.00\" font-weight=\"bold\" text-anchor=\"start\" x=\"1547.5\" y=\"-159.3\">Compare</text>\n",
       "</g>\n",
       "<!-- 57&#45;&#45;58 -->\n",
       "<g class=\"edge\" id=\"edge58\">\n",
       "<title>57--58</title>\n",
       "<path d=\"M1561,-216C1561,-216 1566.9414,-195.9478 1571.5831,-180.2819\" fill=\"none\" stroke=\"#000000\"/>\n",
       "</g>\n",
       "<!-- 66 -->\n",
       "<g class=\"node\" id=\"node67\">\n",
       "<title>66</title>\n",
       "<text fill=\"#004080\" font-family=\"Courier,monospace\" font-size=\"14.00\" font-weight=\"bold\" text-anchor=\"start\" x=\"1685.5\" y=\"-159.3\">Return</text>\n",
       "</g>\n",
       "<!-- 57&#45;&#45;66 -->\n",
       "<g class=\"edge\" id=\"edge66\">\n",
       "<title>57--66</title>\n",
       "<path d=\"M1561,-216C1561,-216 1633.1121,-190.0396 1677.3371,-174.1187\" fill=\"none\" stroke=\"#000000\"/>\n",
       "</g>\n",
       "<!-- 59 -->\n",
       "<g class=\"node\" id=\"node60\">\n",
       "<title>59</title>\n",
       "<text fill=\"#004080\" font-family=\"Courier,monospace\" font-size=\"14.00\" font-weight=\"bold\" text-anchor=\"start\" x=\"1522\" y=\"-87.3\">Name</text>\n",
       "</g>\n",
       "<!-- 58&#45;&#45;59 -->\n",
       "<g class=\"edge\" id=\"edge59\">\n",
       "<title>58--59</title>\n",
       "<path d=\"M1583,-144C1583,-144 1566.6611,-123.9478 1553.8964,-108.2819\" fill=\"none\" stroke=\"#000000\"/>\n",
       "</g>\n",
       "<!-- 62 -->\n",
       "<g class=\"node\" id=\"node63\">\n",
       "<title>62</title>\n",
       "<text fill=\"#008040\" font-family=\"Courier,monospace\" font-size=\"14.00\" text-anchor=\"middle\" x=\"1611\" y=\"-86.3\">Gt</text>\n",
       "</g>\n",
       "<!-- 58&#45;&#45;62 -->\n",
       "<g class=\"edge\" id=\"edge62\">\n",
       "<title>58--62</title>\n",
       "<path d=\"M1583,-144C1583,-144 1593.3975,-123.9478 1601.5205,-108.2819\" fill=\"none\" stroke=\"#000000\"/>\n",
       "</g>\n",
       "<!-- 63 -->\n",
       "<g class=\"node\" id=\"node64\">\n",
       "<title>63</title>\n",
       "<text fill=\"#004080\" font-family=\"Courier,monospace\" font-size=\"14.00\" font-weight=\"bold\" text-anchor=\"start\" x=\"1666\" y=\"-87.3\">Name</text>\n",
       "</g>\n",
       "<!-- 58&#45;&#45;63 -->\n",
       "<g class=\"edge\" id=\"edge63\">\n",
       "<title>58--63</title>\n",
       "<path d=\"M1583,-144C1583,-144 1626.3231,-120.6055 1655.9386,-104.6132\" fill=\"none\" stroke=\"#000000\"/>\n",
       "</g>\n",
       "<!-- 60 -->\n",
       "<g class=\"node\" id=\"node61\">\n",
       "<title>60</title>\n",
       "<text fill=\"#008040\" font-family=\"Courier,monospace\" font-size=\"14.00\" text-anchor=\"middle\" x=\"1467\" y=\"-14.3\">&quot;x&quot;</text>\n",
       "</g>\n",
       "<!-- 59&#45;&#45;60 -->\n",
       "<g class=\"edge\" id=\"edge60\">\n",
       "<title>59--60</title>\n",
       "<path d=\"M1531,-72C1531,-72 1507.2344,-51.9478 1488.6675,-36.2819\" fill=\"none\" stroke=\"#000000\"/>\n",
       "</g>\n",
       "<!-- 61 -->\n",
       "<g class=\"node\" id=\"node62\">\n",
       "<title>61</title>\n",
       "<text fill=\"#008040\" font-family=\"Courier,monospace\" font-size=\"14.00\" text-anchor=\"middle\" x=\"1539\" y=\"-14.3\">Load</text>\n",
       "</g>\n",
       "<!-- 59&#45;&#45;61 -->\n",
       "<g class=\"edge\" id=\"edge61\">\n",
       "<title>59--61</title>\n",
       "<path d=\"M1531,-72C1531,-72 1533.9707,-51.9478 1536.2916,-36.2819\" fill=\"none\" stroke=\"#000000\"/>\n",
       "</g>\n",
       "<!-- 64 -->\n",
       "<g class=\"node\" id=\"node65\">\n",
       "<title>64</title>\n",
       "<text fill=\"#008040\" font-family=\"Courier,monospace\" font-size=\"14.00\" text-anchor=\"middle\" x=\"1611\" y=\"-14.3\">&quot;z&quot;</text>\n",
       "</g>\n",
       "<!-- 63&#45;&#45;64 -->\n",
       "<g class=\"edge\" id=\"edge64\">\n",
       "<title>63--64</title>\n",
       "<path d=\"M1675,-72C1675,-72 1651.2344,-51.9478 1632.6675,-36.2819\" fill=\"none\" stroke=\"#000000\"/>\n",
       "</g>\n",
       "<!-- 65 -->\n",
       "<g class=\"node\" id=\"node66\">\n",
       "<title>65</title>\n",
       "<text fill=\"#008040\" font-family=\"Courier,monospace\" font-size=\"14.00\" text-anchor=\"middle\" x=\"1683\" y=\"-14.3\">Load</text>\n",
       "</g>\n",
       "<!-- 63&#45;&#45;65 -->\n",
       "<g class=\"edge\" id=\"edge65\">\n",
       "<title>63--65</title>\n",
       "<path d=\"M1675,-72C1675,-72 1677.9707,-51.9478 1680.2916,-36.2819\" fill=\"none\" stroke=\"#000000\"/>\n",
       "</g>\n",
       "<!-- 67 -->\n",
       "<g class=\"node\" id=\"node68\">\n",
       "<title>67</title>\n",
       "<text fill=\"#004080\" font-family=\"Courier,monospace\" font-size=\"14.00\" font-weight=\"bold\" text-anchor=\"start\" x=\"1738\" y=\"-87.3\">Name</text>\n",
       "</g>\n",
       "<!-- 66&#45;&#45;67 -->\n",
       "<g class=\"edge\" id=\"edge67\">\n",
       "<title>66--67</title>\n",
       "<path d=\"M1722.1031,-143.8314C1728.7222,-133 1737.102,-119.2876 1743.7474,-108.4133\" fill=\"none\" stroke=\"#000000\"/>\n",
       "</g>\n",
       "<!-- 68 -->\n",
       "<g class=\"node\" id=\"node69\">\n",
       "<title>68</title>\n",
       "<text fill=\"#008040\" font-family=\"Courier,monospace\" font-size=\"14.00\" text-anchor=\"middle\" x=\"1755\" y=\"-14.3\">&quot;x&quot;</text>\n",
       "</g>\n",
       "<!-- 67&#45;&#45;68 -->\n",
       "<g class=\"edge\" id=\"edge68\">\n",
       "<title>67--68</title>\n",
       "<path d=\"M1763,-72C1763,-72 1760.0293,-51.9478 1757.7084,-36.2819\" fill=\"none\" stroke=\"#000000\"/>\n",
       "</g>\n",
       "<!-- 69 -->\n",
       "<g class=\"node\" id=\"node70\">\n",
       "<title>69</title>\n",
       "<text fill=\"#008040\" font-family=\"Courier,monospace\" font-size=\"14.00\" text-anchor=\"middle\" x=\"1827\" y=\"-14.3\">Load</text>\n",
       "</g>\n",
       "<!-- 67&#45;&#45;69 -->\n",
       "<g class=\"edge\" id=\"edge69\">\n",
       "<title>67--69</title>\n",
       "<path d=\"M1763,-72C1763,-72 1786.7656,-51.9478 1805.3325,-36.2819\" fill=\"none\" stroke=\"#000000\"/>\n",
       "</g>\n",
       "<!-- 71 -->\n",
       "<g class=\"node\" id=\"node72\">\n",
       "<title>71</title>\n",
       "<text fill=\"#004080\" font-family=\"Courier,monospace\" font-size=\"14.00\" font-weight=\"bold\" text-anchor=\"start\" x=\"1597\" y=\"-303.3\">Name</text>\n",
       "</g>\n",
       "<!-- 70&#45;&#45;71 -->\n",
       "<g class=\"edge\" id=\"edge71\">\n",
       "<title>70--71</title>\n",
       "<path d=\"M1188.7514,-372.7057C1275.9118,-359.0334 1507.2536,-322.7445 1586.735,-310.2769\" fill=\"none\" stroke=\"#000000\"/>\n",
       "</g>\n",
       "<!-- 72 -->\n",
       "<g class=\"node\" id=\"node73\">\n",
       "<title>72</title>\n",
       "<text fill=\"#008040\" font-family=\"Courier,monospace\" font-size=\"14.00\" text-anchor=\"middle\" x=\"1614\" y=\"-230.3\">&quot;z&quot;</text>\n",
       "</g>\n",
       "<!-- 71&#45;&#45;72 -->\n",
       "<g class=\"edge\" id=\"edge72\">\n",
       "<title>71--72</title>\n",
       "<path d=\"M1622,-288C1622,-288 1619.0293,-267.9478 1616.7084,-252.2819\" fill=\"none\" stroke=\"#000000\"/>\n",
       "</g>\n",
       "<!-- 73 -->\n",
       "<g class=\"node\" id=\"node74\">\n",
       "<title>73</title>\n",
       "<text fill=\"#008040\" font-family=\"Courier,monospace\" font-size=\"14.00\" text-anchor=\"middle\" x=\"1686\" y=\"-230.3\">Load</text>\n",
       "</g>\n",
       "<!-- 71&#45;&#45;73 -->\n",
       "<g class=\"edge\" id=\"edge73\">\n",
       "<title>71--73</title>\n",
       "<path d=\"M1622,-288C1622,-288 1645.7656,-267.9478 1664.3325,-252.2819\" fill=\"none\" stroke=\"#000000\"/>\n",
       "</g>\n",
       "</g>\n",
       "</svg>"
      ],
      "text/plain": [
       "<IPython.core.display.SVG object>"
      ]
     },
     "metadata": {},
     "output_type": "display_data"
    }
   ],
   "source": [
    "middle_tree = ast.parse(inspect.getsource(middle))\n",
    "show_ast(middle_tree)"
   ]
  },
  {
   "cell_type": "markdown",
   "metadata": {
    "slideshow": {
     "slide_type": "fragment"
    }
   },
   "source": [
    "At the very bottom of the tree, you can see a number of `Name` nodes, referring individual variables. These are the ones we want to transform."
   ]
  },
  {
   "cell_type": "markdown",
   "metadata": {
    "slideshow": {
     "slide_type": "subslide"
    }
   },
   "source": [
    "### Tracking Variable Access\n",
    "\n",
    "Our goal is to _traverse_ the tree, identify all `Name` nodes, and convert them to respective `_data` accesses.\n",
    "To this end, we manipulate the AST through the Python modules `ast` and `astor`. The [official Python `ast` reference](http://docs.python.org/3/library/ast) is complete, but a bit brief; the documentation [\"Green Tree Snakes - the missing Python AST docs\"](https://greentreesnakes.readthedocs.io/en/latest/) provides an excellent introduction."
   ]
  },
  {
   "cell_type": "markdown",
   "metadata": {
    "slideshow": {
     "slide_type": "fragment"
    }
   },
   "source": [
    "The Python `ast` class provides a class `NodeTransformer` that allows such transformations. Subclassing from it, we provide a method `visit_Name()` that will be invoked for all `Name` nodes – and replace it by a new subtree from `make_get_data()`:"
   ]
  },
  {
   "cell_type": "code",
   "execution_count": 51,
   "metadata": {
    "slideshow": {
     "slide_type": "skip"
    }
   },
   "outputs": [],
   "source": [
    "from ast import NodeTransformer"
   ]
  },
  {
   "cell_type": "code",
   "execution_count": 52,
   "metadata": {
    "slideshow": {
     "slide_type": "fragment"
    }
   },
   "outputs": [],
   "source": [
    "DATA_TRACKER = '_data'"
   ]
  },
  {
   "cell_type": "code",
   "execution_count": 53,
   "metadata": {
    "slideshow": {
     "slide_type": "subslide"
    }
   },
   "outputs": [],
   "source": [
    "class TrackGetTransformer(NodeTransformer):\n",
    "    def visit_Name(self, node):\n",
    "        self.generic_visit(node)\n",
    "\n",
    "        if node.id in dir(__builtins__):\n",
    "            # Do not change built-in names\n",
    "            return node\n",
    "        \n",
    "        if node.id == DATA_TRACKER:\n",
    "            # Do not change own accesses\n",
    "            return node\n",
    "        \n",
    "        if isinstance(node.ctx, Store):\n",
    "            # Do not change stores\n",
    "            return node\n",
    "\n",
    "        return make_get_data(node.id)"
   ]
  },
  {
   "cell_type": "markdown",
   "metadata": {
    "slideshow": {
     "slide_type": "subslide"
    }
   },
   "source": [
    "Our function `make_get_data(id, method)` returns a new subtree equivalent to the Python code `_data.method('id', id)`."
   ]
  },
  {
   "cell_type": "code",
   "execution_count": 54,
   "metadata": {
    "slideshow": {
     "slide_type": "skip"
    }
   },
   "outputs": [],
   "source": [
    "from ast import Module, Subscript, Name, Load, Store, \\\n",
    "    Assign, AugAssign, Attribute, Constant, \\\n",
    "    With, withitem, Return, Index, Str, Call, Expr"
   ]
  },
  {
   "cell_type": "code",
   "execution_count": 55,
   "metadata": {
    "slideshow": {
     "slide_type": "fragment"
    }
   },
   "outputs": [],
   "source": [
    "def make_get_data(id, method='get'):\n",
    "    return Call(func=Attribute(value=Name(id=DATA_TRACKER, ctx=Load()), \n",
    "                               attr=method, ctx=Load()),\n",
    "                args=[Str(s=id), Name(id=id, ctx=Load())],\n",
    "                keywords=[])"
   ]
  },
  {
   "cell_type": "markdown",
   "metadata": {
    "slideshow": {
     "slide_type": "fragment"
    }
   },
   "source": [
    "This is the tree that `make_get_data()` produces:"
   ]
  },
  {
   "cell_type": "code",
   "execution_count": 56,
   "metadata": {
    "slideshow": {
     "slide_type": "fragment"
    }
   },
   "outputs": [
    {
     "data": {
      "image/svg+xml": [
       "<svg height=\"260pt\" viewBox=\"0.00 0.00 479.50 260.00\" width=\"480pt\" xmlns=\"http://www.w3.org/2000/svg\" xmlns:xlink=\"http://www.w3.org/1999/xlink\">\n",
       "<g class=\"graph\" id=\"graph0\" transform=\"scale(1 1) rotate(0) translate(4 256)\">\n",
       "<title>%3</title>\n",
       "<polygon fill=\"#ffffff\" points=\"-4,4 -4,-256 475.5,-256 475.5,4 -4,4\" stroke=\"transparent\"/>\n",
       "<!-- 0 -->\n",
       "<g class=\"node\" id=\"node1\">\n",
       "<title>0</title>\n",
       "<text fill=\"#004080\" font-family=\"Courier,monospace\" font-size=\"14.00\" font-weight=\"bold\" text-anchor=\"start\" x=\"283.5\" y=\"-231.3\">Call</text>\n",
       "</g>\n",
       "<!-- 1 -->\n",
       "<g class=\"node\" id=\"node2\">\n",
       "<title>1</title>\n",
       "<text fill=\"#004080\" font-family=\"Courier,monospace\" font-size=\"14.00\" font-weight=\"bold\" text-anchor=\"start\" x=\"143.5\" y=\"-159.3\">Attribute</text>\n",
       "</g>\n",
       "<!-- 0&#45;&#45;1 -->\n",
       "<g class=\"edge\" id=\"edge1\">\n",
       "<title>0--1</title>\n",
       "<path d=\"M299.5,-216C299.5,-216 255.4008,-195.819 221.1206,-180.1314\" fill=\"none\" stroke=\"#000000\"/>\n",
       "</g>\n",
       "<!-- 7 -->\n",
       "<g class=\"node\" id=\"node8\">\n",
       "<title>7</title>\n",
       "<text fill=\"#004080\" font-family=\"Courier,monospace\" font-size=\"14.00\" font-weight=\"bold\" text-anchor=\"start\" x=\"287.5\" y=\"-159.3\">Str</text>\n",
       "</g>\n",
       "<!-- 0&#45;&#45;7 -->\n",
       "<g class=\"edge\" id=\"edge7\">\n",
       "<title>0--7</title>\n",
       "<path d=\"M299.5,-216C299.5,-216 299.8713,-195.9478 300.1614,-180.2819\" fill=\"none\" stroke=\"#000000\"/>\n",
       "</g>\n",
       "<!-- 9 -->\n",
       "<g class=\"node\" id=\"node10\">\n",
       "<title>9</title>\n",
       "<text fill=\"#004080\" font-family=\"Courier,monospace\" font-size=\"14.00\" font-weight=\"bold\" text-anchor=\"start\" x=\"355.5\" y=\"-159.3\">Name</text>\n",
       "</g>\n",
       "<!-- 0&#45;&#45;9 -->\n",
       "<g class=\"edge\" id=\"edge9\">\n",
       "<title>0--9</title>\n",
       "<path d=\"M299.5,-216C299.5,-216 326.6077,-195.9478 347.7855,-180.2819\" fill=\"none\" stroke=\"#000000\"/>\n",
       "</g>\n",
       "<!-- 2 -->\n",
       "<g class=\"node\" id=\"node3\">\n",
       "<title>2</title>\n",
       "<text fill=\"#004080\" font-family=\"Courier,monospace\" font-size=\"14.00\" font-weight=\"bold\" text-anchor=\"start\" x=\"61.5\" y=\"-87.3\">Name</text>\n",
       "</g>\n",
       "<!-- 1&#45;&#45;2 -->\n",
       "<g class=\"edge\" id=\"edge2\">\n",
       "<title>1--2</title>\n",
       "<path d=\"M176.5,-144C176.5,-144 134.5458,-120.8824 105.5384,-104.8987\" fill=\"none\" stroke=\"#000000\"/>\n",
       "</g>\n",
       "<!-- 5 -->\n",
       "<g class=\"node\" id=\"node6\">\n",
       "<title>5</title>\n",
       "<text fill=\"#008040\" font-family=\"Courier,monospace\" font-size=\"14.00\" text-anchor=\"middle\" x=\"153.5\" y=\"-86.3\">&quot;get&quot;</text>\n",
       "</g>\n",
       "<!-- 1&#45;&#45;5 -->\n",
       "<g class=\"edge\" id=\"edge5\">\n",
       "<title>1--5</title>\n",
       "<path d=\"M176.5,-144C176.5,-144 167.9592,-123.9478 161.2868,-108.2819\" fill=\"none\" stroke=\"#000000\"/>\n",
       "</g>\n",
       "<!-- 6 -->\n",
       "<g class=\"node\" id=\"node7\">\n",
       "<title>6</title>\n",
       "<text fill=\"#008040\" font-family=\"Courier,monospace\" font-size=\"14.00\" text-anchor=\"middle\" x=\"228.5\" y=\"-86.3\">Load</text>\n",
       "</g>\n",
       "<!-- 1&#45;&#45;6 -->\n",
       "<g class=\"edge\" id=\"edge6\">\n",
       "<title>1--6</title>\n",
       "<path d=\"M176.5,-144C176.5,-144 195.8096,-123.9478 210.8952,-108.2819\" fill=\"none\" stroke=\"#000000\"/>\n",
       "</g>\n",
       "<!-- 3 -->\n",
       "<g class=\"node\" id=\"node4\">\n",
       "<title>3</title>\n",
       "<text fill=\"#008040\" font-family=\"Courier,monospace\" font-size=\"14.00\" text-anchor=\"middle\" x=\"37.5\" y=\"-14.3\">&quot;_data&quot;</text>\n",
       "</g>\n",
       "<!-- 2&#45;&#45;3 -->\n",
       "<g class=\"edge\" id=\"edge3\">\n",
       "<title>2--3</title>\n",
       "<path d=\"M78.5,-72C78.5,-72 63.2751,-51.9478 51.3807,-36.2819\" fill=\"none\" stroke=\"#000000\"/>\n",
       "</g>\n",
       "<!-- 4 -->\n",
       "<g class=\"node\" id=\"node5\">\n",
       "<title>4</title>\n",
       "<text fill=\"#008040\" font-family=\"Courier,monospace\" font-size=\"14.00\" text-anchor=\"middle\" x=\"120.5\" y=\"-14.3\">Load</text>\n",
       "</g>\n",
       "<!-- 2&#45;&#45;4 -->\n",
       "<g class=\"edge\" id=\"edge4\">\n",
       "<title>2--4</title>\n",
       "<path d=\"M78.5,-72C78.5,-72 94.0962,-51.9478 106.2807,-36.2819\" fill=\"none\" stroke=\"#000000\"/>\n",
       "</g>\n",
       "<!-- 8 -->\n",
       "<g class=\"node\" id=\"node9\">\n",
       "<title>8</title>\n",
       "<text fill=\"#008040\" font-family=\"Courier,monospace\" font-size=\"14.00\" text-anchor=\"middle\" x=\"300.5\" y=\"-86.3\">&quot;x&quot;</text>\n",
       "</g>\n",
       "<!-- 7&#45;&#45;8 -->\n",
       "<g class=\"edge\" id=\"edge8\">\n",
       "<title>7--8</title>\n",
       "<path d=\"M300.5,-143.8314C300.5,-133 300.5,-119.2876 300.5,-108.4133\" fill=\"none\" stroke=\"#000000\"/>\n",
       "</g>\n",
       "<!-- 10 -->\n",
       "<g class=\"node\" id=\"node11\">\n",
       "<title>10</title>\n",
       "<text fill=\"#008040\" font-family=\"Courier,monospace\" font-size=\"14.00\" text-anchor=\"middle\" x=\"372.5\" y=\"-86.3\">&quot;x&quot;</text>\n",
       "</g>\n",
       "<!-- 9&#45;&#45;10 -->\n",
       "<g class=\"edge\" id=\"edge10\">\n",
       "<title>9--10</title>\n",
       "<path d=\"M380.5,-144C380.5,-144 377.5293,-123.9478 375.2084,-108.2819\" fill=\"none\" stroke=\"#000000\"/>\n",
       "</g>\n",
       "<!-- 11 -->\n",
       "<g class=\"node\" id=\"node12\">\n",
       "<title>11</title>\n",
       "<text fill=\"#008040\" font-family=\"Courier,monospace\" font-size=\"14.00\" text-anchor=\"middle\" x=\"444.5\" y=\"-86.3\">Load</text>\n",
       "</g>\n",
       "<!-- 9&#45;&#45;11 -->\n",
       "<g class=\"edge\" id=\"edge11\">\n",
       "<title>9--11</title>\n",
       "<path d=\"M380.5,-144C380.5,-144 404.2656,-123.9478 422.8325,-108.2819\" fill=\"none\" stroke=\"#000000\"/>\n",
       "</g>\n",
       "</g>\n",
       "</svg>"
      ],
      "text/plain": [
       "<IPython.core.display.SVG object>"
      ]
     },
     "metadata": {},
     "output_type": "display_data"
    }
   ],
   "source": [
    "show_ast(Module(body=[make_get_data(\"x\")]))"
   ]
  },
  {
   "cell_type": "markdown",
   "metadata": {
    "slideshow": {
     "slide_type": "subslide"
    }
   },
   "source": [
    "How do we know that this is a correct subtree? We can carefully read the [official Python `ast` reference](http://docs.python.org/3/library/ast) and then proceed by trial and error (and apply [delta debugging](DeltaDebugger.ipynb) to determine error causes). Or – pro tip! – we can simply take a piece of Python code, parse it and use `ast.dump()` to print out how to construct the resulting AST:"
   ]
  },
  {
   "cell_type": "code",
   "execution_count": 57,
   "metadata": {
    "slideshow": {
     "slide_type": "fragment"
    }
   },
   "outputs": [
    {
     "name": "stdout",
     "output_type": "stream",
     "text": [
      "Module(body=[Expr(value=Call(func=Attribute(value=Name(id='_data', ctx=Load()), attr='get', ctx=Load()), args=[Str(s='x'), Name(id='x', ctx=Load())], keywords=[]))])\n"
     ]
    }
   ],
   "source": [
    "print(ast.dump(ast.parse(\"_data.get('x', x)\")))"
   ]
  },
  {
   "cell_type": "markdown",
   "metadata": {
    "slideshow": {
     "slide_type": "fragment"
    }
   },
   "source": [
    "If you compare the above output with the code of `make_get_data()`, above, you will find out where the source of `make_get_data()` comes from."
   ]
  },
  {
   "cell_type": "markdown",
   "metadata": {
    "slideshow": {
     "slide_type": "fragment"
    }
   },
   "source": [
    "Let us put `TrackGetTransformer` to action. Its `visit()` method calls `visit_Name()`, which then in turn transforms the `Name` nodes as we want it. This happens in place."
   ]
  },
  {
   "cell_type": "code",
   "execution_count": 58,
   "metadata": {
    "slideshow": {
     "slide_type": "subslide"
    }
   },
   "outputs": [],
   "source": [
    "TrackGetTransformer().visit(middle_tree);"
   ]
  },
  {
   "cell_type": "markdown",
   "metadata": {
    "slideshow": {
     "slide_type": "fragment"
    }
   },
   "source": [
    "To see the effect of our transformations, we introduce a method `dump_tree()` which outputs the tree – and also compiles it to check for any inconsistencies."
   ]
  },
  {
   "cell_type": "code",
   "execution_count": 59,
   "metadata": {
    "slideshow": {
     "slide_type": "fragment"
    }
   },
   "outputs": [],
   "source": [
    "def dump_tree(tree):\n",
    "    print(astor.to_source(tree))\n",
    "    ast.fix_missing_locations(tree)  # Must run this before compiling\n",
    "    _ = compile(tree, '<string>', 'exec')"
   ]
  },
  {
   "cell_type": "markdown",
   "metadata": {
    "slideshow": {
     "slide_type": "fragment"
    }
   },
   "source": [
    "We see that our transformer has properly replaced all "
   ]
  },
  {
   "cell_type": "code",
   "execution_count": 60,
   "metadata": {
    "slideshow": {
     "slide_type": "subslide"
    }
   },
   "outputs": [
    {
     "name": "stdout",
     "output_type": "stream",
     "text": [
      "def middle(x, y, z):\n",
      "    if _data.get('y', y) < _data.get('z', z):\n",
      "        if _data.get('x', x) < _data.get('y', y):\n",
      "            return _data.get('y', y)\n",
      "        elif _data.get('x', x) < _data.get('z', z):\n",
      "            return _data.get('y', y)\n",
      "    elif _data.get('x', x) > _data.get('y', y):\n",
      "        return _data.get('y', y)\n",
      "    elif _data.get('x', x) > _data.get('z', z):\n",
      "        return _data.get('x', x)\n",
      "    return _data.get('z', z)\n",
      "\n"
     ]
    }
   ],
   "source": [
    "dump_tree(middle_tree)"
   ]
  },
  {
   "cell_type": "markdown",
   "metadata": {
    "slideshow": {
     "slide_type": "subslide"
    }
   },
   "source": [
    "Let us now execute this code together with the `DataTracker()` class we previously introduced. The class `DataTrackerTester()` takes a (transformed) tree and a function. Using it as\n",
    "\n",
    "```python\n",
    "with DataTrackerTester(tree, func):\n",
    "    func(...)\n",
    "```\n",
    "\n",
    "first executes the code in _tree_ (possibly instrumenting `func`) and then the `with` body. At the end, `func` is restored to its previous (non-instrumented) version."
   ]
  },
  {
   "cell_type": "code",
   "execution_count": 61,
   "metadata": {
    "slideshow": {
     "slide_type": "subslide"
    }
   },
   "outputs": [],
   "source": [
    "class DataTrackerTester(object):\n",
    "    def __init__(self, tree, func, log=True):\n",
    "        self.code = compile(tree, '<string>', 'exec')\n",
    "        self.func = func\n",
    "        self.log = log\n",
    "        \n",
    "    def make_data_tracker(self):\n",
    "        return DataTracker(log=self.log)\n",
    "\n",
    "    def __enter__(self):\n",
    "        \"\"\"Rewrite function\"\"\"\n",
    "        tracker = self.make_data_tracker()\n",
    "        globals()[DATA_TRACKER] = tracker\n",
    "        exec(self.code, globals())\n",
    "        return tracker\n",
    "\n",
    "    def __exit__(self, exc_type, exc_value, traceback):\n",
    "        \"\"\"Restore function\"\"\"\n",
    "        globals()[self.func.__name__] = self.func\n",
    "        del globals()[DATA_TRACKER]"
   ]
  },
  {
   "cell_type": "markdown",
   "metadata": {
    "slideshow": {
     "slide_type": "subslide"
    }
   },
   "source": [
    "Here is our `middle()` function:"
   ]
  },
  {
   "cell_type": "code",
   "execution_count": 62,
   "metadata": {
    "slideshow": {
     "slide_type": "fragment"
    }
   },
   "outputs": [
    {
     "name": "stdout",
     "output_type": "stream",
     "text": [
      " 1  \u001b[34mdef\u001b[39;49;00m \u001b[32mmiddle\u001b[39;49;00m(x, y, z):\n",
      " 2      \u001b[34mif\u001b[39;49;00m y < z:\n",
      " 3          \u001b[34mif\u001b[39;49;00m x < y:\n",
      " 4              \u001b[34mreturn\u001b[39;49;00m y\n",
      " 5          \u001b[34melif\u001b[39;49;00m x < z:\n",
      " 6              \u001b[34mreturn\u001b[39;49;00m y\n",
      " 7      \u001b[34melse\u001b[39;49;00m:\n",
      " 8          \u001b[34mif\u001b[39;49;00m x > y:\n",
      " 9              \u001b[34mreturn\u001b[39;49;00m y\n",
      "10          \u001b[34melif\u001b[39;49;00m x > z:\n",
      "11              \u001b[34mreturn\u001b[39;49;00m x\n",
      "12      \u001b[34mreturn\u001b[39;49;00m z"
     ]
    }
   ],
   "source": [
    "print_content(inspect.getsource(middle), '.py', start_line_number=1)"
   ]
  },
  {
   "cell_type": "markdown",
   "metadata": {
    "slideshow": {
     "slide_type": "subslide"
    }
   },
   "source": [
    "And here is our instrumented `middle_tree` executed with a `DataTracker` object. We see how the `middle()` tests access one argument after another."
   ]
  },
  {
   "cell_type": "code",
   "execution_count": 63,
   "metadata": {
    "slideshow": {
     "slide_type": "fragment"
    }
   },
   "outputs": [
    {
     "name": "stdout",
     "output_type": "stream",
     "text": [
      "middle:2: getting y\n",
      "middle:2: getting z\n",
      "middle:3: getting x\n",
      "middle:3: getting y\n",
      "middle:5: getting x\n",
      "middle:5: getting z\n",
      "middle:6: getting y\n"
     ]
    }
   ],
   "source": [
    "with DataTrackerTester(middle_tree, middle):\n",
    "    middle(2, 1, 3)"
   ]
  },
  {
   "cell_type": "markdown",
   "metadata": {
    "slideshow": {
     "slide_type": "fragment"
    }
   },
   "source": [
    "After `DataTrackerTester` is done, `middle` is reverted to its non-instrumented version:"
   ]
  },
  {
   "cell_type": "code",
   "execution_count": 64,
   "metadata": {
    "slideshow": {
     "slide_type": "subslide"
    }
   },
   "outputs": [
    {
     "data": {
      "text/plain": [
       "1"
      ]
     },
     "execution_count": 64,
     "metadata": {},
     "output_type": "execute_result"
    }
   ],
   "source": [
    "middle(2, 1, 3)"
   ]
  },
  {
   "cell_type": "markdown",
   "metadata": {
    "slideshow": {
     "slide_type": "fragment"
    }
   },
   "source": [
    "For a complete picture of what happens during executions, we implement a number of additional code transformers."
   ]
  },
  {
   "cell_type": "markdown",
   "metadata": {
    "slideshow": {
     "slide_type": "fragment"
    }
   },
   "source": [
    "For each assignment statement `x = y`, we change it to `x = _data.set('x', y)`. This allows to __track assignments__."
   ]
  },
  {
   "cell_type": "markdown",
   "metadata": {
    "slideshow": {
     "slide_type": "subslide"
    }
   },
   "source": [
    "### Excursion: Tracking Assignments"
   ]
  },
  {
   "cell_type": "markdown",
   "metadata": {
    "slideshow": {
     "slide_type": "fragment"
    }
   },
   "source": [
    "For the remaining transformers, we follow the same steps as for `TrackGetTransformer`, except that our `visit_...()` methods focus on different nodes, and return different subtrees. Here, we focus on assignment nodes."
   ]
  },
  {
   "cell_type": "markdown",
   "metadata": {
    "slideshow": {
     "slide_type": "fragment"
    }
   },
   "source": [
    "We want to transform assignments `x = value` into `_data.set('x', value)`. Using `ast.dump()`, we reveal what the corresponding syntax tree has to look like:"
   ]
  },
  {
   "cell_type": "code",
   "execution_count": 65,
   "metadata": {
    "slideshow": {
     "slide_type": "fragment"
    }
   },
   "outputs": [
    {
     "name": "stdout",
     "output_type": "stream",
     "text": [
      "Module(body=[Expr(value=Call(func=Attribute(value=Name(id='_data', ctx=Load()), attr='set', ctx=Load()), args=[Str(s='x'), Name(id='value', ctx=Load())], keywords=[]))])\n"
     ]
    }
   ],
   "source": [
    "print(ast.dump(ast.parse(\"_data.set('x', value)\")))"
   ]
  },
  {
   "cell_type": "markdown",
   "metadata": {
    "slideshow": {
     "slide_type": "fragment"
    }
   },
   "source": [
    "Using this structure, we can write a function `make_set_data()` which constructs such a subtree."
   ]
  },
  {
   "cell_type": "code",
   "execution_count": 66,
   "metadata": {
    "slideshow": {
     "slide_type": "subslide"
    }
   },
   "outputs": [],
   "source": [
    "def make_set_data(id, value, method='set'):\n",
    "    \"\"\"Construct a subtree _data.METHOD('ID', VALUE)\"\"\"\n",
    "    return Call(func=Attribute(value=Name(id=DATA_TRACKER, ctx=Load()), \n",
    "                               attr=method, ctx=Load()), \n",
    "                args=[Str(s=id), value], \n",
    "                keywords=[])"
   ]
  },
  {
   "cell_type": "markdown",
   "metadata": {
    "slideshow": {
     "slide_type": "fragment"
    }
   },
   "source": [
    "Here's our transformer for regular assignments:"
   ]
  },
  {
   "cell_type": "code",
   "execution_count": 67,
   "metadata": {
    "slideshow": {
     "slide_type": "subslide"
    }
   },
   "outputs": [],
   "source": [
    "class TrackSetTransformer(NodeTransformer):\n",
    "    def visit_Assign(self, node):\n",
    "        value = astor.to_source(node.value)\n",
    "        if value.startswith(DATA_TRACKER):\n",
    "            return node  # Do not apply twice\n",
    "        \n",
    "        id = astor.to_source(node).split(' = ')[0].strip()\n",
    "        node.value = make_set_data(id, node.value)\n",
    "        return node"
   ]
  },
  {
   "cell_type": "markdown",
   "metadata": {
    "slideshow": {
     "slide_type": "fragment"
    }
   },
   "source": [
    "The special form of \"augmented assign\" needs special treatment. We change statements of the form `x += y` to `x += _data.augment('x', y)`."
   ]
  },
  {
   "cell_type": "code",
   "execution_count": 68,
   "metadata": {
    "slideshow": {
     "slide_type": "subslide"
    }
   },
   "outputs": [],
   "source": [
    "class TrackSetTransformer(TrackSetTransformer):\n",
    "    def visit_AugAssign(self, node):\n",
    "        value = astor.to_source(node.value)\n",
    "        if value.startswith(DATA_TRACKER):\n",
    "            return node  # Do not apply twice\n",
    "        \n",
    "        id = astor.to_source(node.target).strip()\n",
    "        node.value = make_set_data(id, node.value, method='augment')\n",
    "        return node"
   ]
  },
  {
   "cell_type": "markdown",
   "metadata": {
    "slideshow": {
     "slide_type": "fragment"
    }
   },
   "source": [
    "The corresponding `augment()` method uses a combination of `set()` and `get()` to reflect the semantics."
   ]
  },
  {
   "cell_type": "code",
   "execution_count": 69,
   "metadata": {
    "slideshow": {
     "slide_type": "subslide"
    }
   },
   "outputs": [],
   "source": [
    "class DataTracker(DataTracker):\n",
    "    def augment(self, name, value):\n",
    "        \"\"\"Track augmenting NAME with VALUE.\"\"\"\n",
    "        self.set(name, self.get(name, value))\n",
    "        return value"
   ]
  },
  {
   "cell_type": "markdown",
   "metadata": {
    "slideshow": {
     "slide_type": "fragment"
    }
   },
   "source": [
    "Here's both of these transformers in action. Our original function has a number of assignments:"
   ]
  },
  {
   "cell_type": "code",
   "execution_count": 70,
   "metadata": {
    "slideshow": {
     "slide_type": "fragment"
    }
   },
   "outputs": [],
   "source": [
    "def assign_test(x):\n",
    "    forty_two = 42\n",
    "    a, b, c = 1, 2, 3\n",
    "    c[x] = 47\n",
    "    foo *= bar + 1"
   ]
  },
  {
   "cell_type": "code",
   "execution_count": 71,
   "metadata": {
    "slideshow": {
     "slide_type": "fragment"
    }
   },
   "outputs": [],
   "source": [
    "assign_tree = ast.parse(inspect.getsource(assign_test))"
   ]
  },
  {
   "cell_type": "code",
   "execution_count": 72,
   "metadata": {
    "slideshow": {
     "slide_type": "subslide"
    }
   },
   "outputs": [
    {
     "name": "stdout",
     "output_type": "stream",
     "text": [
      "def assign_test(x):\n",
      "    forty_two = _data.set('forty_two', 42)\n",
      "    a, b, c = _data.set('a, b, c', (1, 2, 3))\n",
      "    c[x] = _data.set('c[x]', 47)\n",
      "    foo *= _data.augment('foo', bar + 1)\n",
      "\n"
     ]
    }
   ],
   "source": [
    "TrackSetTransformer().visit(assign_tree)\n",
    "dump_tree(assign_tree)"
   ]
  },
  {
   "cell_type": "markdown",
   "metadata": {
    "slideshow": {
     "slide_type": "fragment"
    }
   },
   "source": [
    "Note that we have no special support for composite assignment targets, such as `a, b, c` or `c[x]` in the example above. From the standpoint of the data tracker, these make separate named variables."
   ]
  },
  {
   "cell_type": "markdown",
   "metadata": {
    "slideshow": {
     "slide_type": "fragment"
    }
   },
   "source": [
    "If we later apply our transformer for data accesses, we can see that we track all variable reads and writes."
   ]
  },
  {
   "cell_type": "code",
   "execution_count": 73,
   "metadata": {
    "slideshow": {
     "slide_type": "subslide"
    }
   },
   "outputs": [
    {
     "name": "stdout",
     "output_type": "stream",
     "text": [
      "def assign_test(x):\n",
      "    forty_two = _data.set('forty_two', 42)\n",
      "    a, b, c = _data.set('a, b, c', (1, 2, 3))\n",
      "    _data.get('c', c)[_data.get('x', x)] = _data.set('c[x]', 47)\n",
      "    foo *= _data.augment('foo', _data.get('bar', bar) + 1)\n",
      "\n"
     ]
    }
   ],
   "source": [
    "TrackGetTransformer().visit(assign_tree)\n",
    "dump_tree(assign_tree)"
   ]
  },
  {
   "cell_type": "markdown",
   "metadata": {
    "slideshow": {
     "slide_type": "subslide"
    }
   },
   "source": [
    "### End of Excursion"
   ]
  },
  {
   "cell_type": "markdown",
   "metadata": {
    "slideshow": {
     "slide_type": "fragment"
    }
   },
   "source": [
    "Each return statement `return x` is transformed to `return _data.set('<return_value>', x)`. This allows to __track return values__."
   ]
  },
  {
   "cell_type": "markdown",
   "metadata": {
    "slideshow": {
     "slide_type": "subslide"
    }
   },
   "source": [
    "### Excursion: Tracking Return Values"
   ]
  },
  {
   "cell_type": "markdown",
   "metadata": {
    "slideshow": {
     "slide_type": "fragment"
    }
   },
   "source": [
    "Our `TrackReturnTransformer` also makes use of `make_set_data()`."
   ]
  },
  {
   "cell_type": "code",
   "execution_count": 74,
   "metadata": {
    "slideshow": {
     "slide_type": "subslide"
    }
   },
   "outputs": [],
   "source": [
    "class TrackReturnTransformer(NodeTransformer):\n",
    "    def __init__(self):\n",
    "        self.function_name = None\n",
    "        super().__init__()\n",
    "\n",
    "    def visit_FunctionDef(self, node):\n",
    "        outer_name = self.function_name\n",
    "        self.function_name = node.name  # Save current name\n",
    "        self.generic_visit(node)\n",
    "        self.function_name = outer_name\n",
    "        return node\n",
    "\n",
    "    def return_value(self):\n",
    "        if self.function_name is None:\n",
    "            return \"<return value>\"\n",
    "        else:\n",
    "            return f\"<{self.function_name}() return value>\"\n",
    "\n",
    "    def visit_Return(self, node):\n",
    "        if node.value is not None:\n",
    "            value = astor.to_source(node.value)\n",
    "            if not value.startswith(DATA_TRACKER + '.set'):\n",
    "                node.value = make_set_data(self.return_value(), node.value)\n",
    "        return node"
   ]
  },
  {
   "cell_type": "markdown",
   "metadata": {
    "slideshow": {
     "slide_type": "subslide"
    }
   },
   "source": [
    "This is the effect of `TrackReturnTransformer`. We see that all return values are saved, and thus all locations of the corresponding return statements are tracked."
   ]
  },
  {
   "cell_type": "code",
   "execution_count": 75,
   "metadata": {
    "slideshow": {
     "slide_type": "subslide"
    }
   },
   "outputs": [
    {
     "name": "stdout",
     "output_type": "stream",
     "text": [
      "def middle(x, y, z):\n",
      "    if _data.get('y', y) < _data.get('z', z):\n",
      "        if _data.get('x', x) < _data.get('y', y):\n",
      "            return _data.set('<middle() return value>', _data.get('y', y))\n",
      "        elif _data.get('x', x) < _data.get('z', z):\n",
      "            return _data.set('<middle() return value>', _data.get('y', y))\n",
      "    elif _data.get('x', x) > _data.get('y', y):\n",
      "        return _data.set('<middle() return value>', _data.get('y', y))\n",
      "    elif _data.get('x', x) > _data.get('z', z):\n",
      "        return _data.set('<middle() return value>', _data.get('x', x))\n",
      "    return _data.set('<middle() return value>', _data.get('z', z))\n",
      "\n"
     ]
    }
   ],
   "source": [
    "TrackReturnTransformer().visit(middle_tree)\n",
    "dump_tree(middle_tree)"
   ]
  },
  {
   "cell_type": "code",
   "execution_count": 76,
   "metadata": {
    "slideshow": {
     "slide_type": "subslide"
    }
   },
   "outputs": [
    {
     "name": "stdout",
     "output_type": "stream",
     "text": [
      "middle:2: getting y\n",
      "middle:2: getting z\n",
      "middle:3: getting x\n",
      "middle:3: getting y\n",
      "middle:5: getting x\n",
      "middle:5: getting z\n",
      "middle:6: getting y\n",
      "middle:6: setting <middle() return value>\n"
     ]
    }
   ],
   "source": [
    "with DataTrackerTester(middle_tree, middle):\n",
    "    middle(2, 1, 3)"
   ]
  },
  {
   "cell_type": "markdown",
   "metadata": {
    "slideshow": {
     "slide_type": "subslide"
    }
   },
   "source": [
    "### End of Excursion"
   ]
  },
  {
   "cell_type": "markdown",
   "metadata": {
    "slideshow": {
     "slide_type": "subslide"
    }
   },
   "source": [
    "To track __control dependencies__, for every block controlled by an `if`, `while`, or `for`:\n",
    "\n",
    "1. We wrap their tests in a `_data.test()` wrapper. This allows us to assign pseudo-variables like `<test>` which hold the conditions.\n",
    "2. We wrap their controlled blocks in a `with` statement. This allows us to track the variables read right before the `with` (= the controlling variables), and to restore the current controlling variables when the block is left.\n",
    "\n",
    "A statement\n",
    "\n",
    "```python\n",
    "if cond:\n",
    "    body\n",
    "```\n",
    "\n",
    "thus becomes\n",
    "\n",
    "```python\n",
    "if _data.test(cond):\n",
    "    with _data:\n",
    "        body\n",
    "```"
   ]
  },
  {
   "cell_type": "markdown",
   "metadata": {
    "slideshow": {
     "slide_type": "subslide"
    }
   },
   "source": [
    "### Excursion: Tracking Control"
   ]
  },
  {
   "cell_type": "markdown",
   "metadata": {
    "slideshow": {
     "slide_type": "fragment"
    }
   },
   "source": [
    "To modify control statements, we traverse the tree, looking for `If` nodes:"
   ]
  },
  {
   "cell_type": "code",
   "execution_count": 77,
   "metadata": {
    "slideshow": {
     "slide_type": "fragment"
    }
   },
   "outputs": [],
   "source": [
    "class TrackControlTransformer(NodeTransformer):\n",
    "    def visit_If(self, node):\n",
    "        self.generic_visit(node)\n",
    "        node.test = self.make_test(node.test)\n",
    "        node.body = self.make_with(node.body)\n",
    "        node.orelse = self.make_with(node.orelse)\n",
    "        return node"
   ]
  },
  {
   "cell_type": "markdown",
   "metadata": {
    "slideshow": {
     "slide_type": "fragment"
    }
   },
   "source": [
    "The subtrees come from helper functions `make_with()` and `make_test()`. Again, all these subtrees are obtained via `ast.dump()`."
   ]
  },
  {
   "cell_type": "code",
   "execution_count": 78,
   "metadata": {
    "slideshow": {
     "slide_type": "subslide"
    }
   },
   "outputs": [],
   "source": [
    "class TrackControlTransformer(TrackControlTransformer):\n",
    "    def make_with(self, block):\n",
    "        \"\"\"Create a subtree 'with _data: BLOCK'\"\"\"\n",
    "        if len(block) == 0:\n",
    "            return []\n",
    "        \n",
    "        block_as_text = astor.to_source(block[0])\n",
    "        if block_as_text.startswith('with ' + DATA_TRACKER):\n",
    "            return block  # Do not apply twice\n",
    "\n",
    "        return [With(\n",
    "            items=[\n",
    "                withitem(\n",
    "                    context_expr=Name(id=DATA_TRACKER, ctx=Load()),\n",
    "                    optional_vars=None)\n",
    "            ],\n",
    "            body=block\n",
    "        )]"
   ]
  },
  {
   "cell_type": "code",
   "execution_count": 79,
   "metadata": {
    "slideshow": {
     "slide_type": "subslide"
    }
   },
   "outputs": [],
   "source": [
    "class TrackControlTransformer(TrackControlTransformer):\n",
    "    def make_test(self, test):\n",
    "        test_as_text = astor.to_source(test)\n",
    "        if test_as_text.startswith(DATA_TRACKER + '.test'):\n",
    "            return test\n",
    "\n",
    "        return Call(func=Attribute(value=Name(id=DATA_TRACKER, ctx=Load()),\n",
    "                                   attr='test',\n",
    "                                   ctx=Load()),\n",
    "                     args=[test],\n",
    "                     keywords=[])"
   ]
  },
  {
   "cell_type": "markdown",
   "metadata": {
    "slideshow": {
     "slide_type": "fragment"
    }
   },
   "source": [
    "`while` loops are handled just like `if` constructs."
   ]
  },
  {
   "cell_type": "code",
   "execution_count": 80,
   "metadata": {
    "slideshow": {
     "slide_type": "subslide"
    }
   },
   "outputs": [],
   "source": [
    "class TrackControlTransformer(TrackControlTransformer):\n",
    "    def visit_While(self, node):\n",
    "        self.generic_visit(node)\n",
    "        node.test = self.make_test(node.test)\n",
    "        node.body = self.make_with(node.body)\n",
    "        node.orelse = self.make_with(node.orelse)\n",
    "        return node"
   ]
  },
  {
   "cell_type": "markdown",
   "metadata": {
    "slideshow": {
     "slide_type": "fragment"
    }
   },
   "source": [
    "`for` loops gets a different treatment, as there is no condition that would control the body. Still, we ensure that setting the iterator variable is properly tracked."
   ]
  },
  {
   "cell_type": "code",
   "execution_count": 81,
   "metadata": {
    "slideshow": {
     "slide_type": "subslide"
    }
   },
   "outputs": [],
   "source": [
    "class TrackControlTransformer(TrackControlTransformer):\n",
    "    def visit_For(self, node):\n",
    "        self.generic_visit(node)\n",
    "        id = astor.to_source(node.target).strip()\n",
    "        node.iter = make_set_data(id, node.iter)\n",
    "\n",
    "        # Uncomment if you want iterators to control their bodies\n",
    "        # node.body = self.make_with(node.body)\n",
    "        # node.orelse = self.make_with(node.orelse)\n",
    "        return node"
   ]
  },
  {
   "cell_type": "markdown",
   "metadata": {
    "slideshow": {
     "slide_type": "fragment"
    }
   },
   "source": [
    "Here is the effect of `TrackControlTransformer`:"
   ]
  },
  {
   "cell_type": "code",
   "execution_count": 82,
   "metadata": {
    "slideshow": {
     "slide_type": "subslide"
    }
   },
   "outputs": [
    {
     "name": "stdout",
     "output_type": "stream",
     "text": [
      "def middle(x, y, z):\n",
      "    if _data.test(_data.get('y', y) < _data.get('z', z)):\n",
      "        with _data:\n",
      "            if _data.test(_data.get('x', x) < _data.get('y', y)):\n",
      "                with _data:\n",
      "                    return _data.set('<middle() return value>', _data.get(\n",
      "                        'y', y))\n",
      "            else:\n",
      "                with _data:\n",
      "                    if _data.test(_data.get('x', x) < _data.get('z', z)):\n",
      "                        with _data:\n",
      "                            return _data.set('<middle() return value>',\n",
      "                                _data.get('y', y))\n",
      "    else:\n",
      "        with _data:\n",
      "            if _data.test(_data.get('x', x) > _data.get('y', y)):\n",
      "                with _data:\n",
      "                    return _data.set('<middle() return value>', _data.get(\n",
      "                        'y', y))\n",
      "            else:\n",
      "                with _data:\n",
      "                    if _data.test(_data.get('x', x) > _data.get('z', z)):\n",
      "                        with _data:\n",
      "                            return _data.set('<middle() return value>',\n",
      "                                _data.get('x', x))\n",
      "    return _data.set('<middle() return value>', _data.get('z', z))\n",
      "\n"
     ]
    }
   ],
   "source": [
    "TrackControlTransformer().visit(middle_tree)\n",
    "dump_tree(middle_tree)"
   ]
  },
  {
   "cell_type": "markdown",
   "metadata": {
    "slideshow": {
     "slide_type": "subslide"
    }
   },
   "source": [
    "We extend `DataTracker` to also log these events:"
   ]
  },
  {
   "cell_type": "code",
   "execution_count": 83,
   "metadata": {
    "slideshow": {
     "slide_type": "fragment"
    }
   },
   "outputs": [],
   "source": [
    "class DataTracker(DataTracker):\n",
    "    def test(self, cond):\n",
    "        if self.log:\n",
    "            code_name, lineno = self.caller_location()\n",
    "            print(f\"{code_name}:{lineno}: testing condition\")\n",
    "\n",
    "        return cond"
   ]
  },
  {
   "cell_type": "code",
   "execution_count": 84,
   "metadata": {
    "slideshow": {
     "slide_type": "subslide"
    }
   },
   "outputs": [],
   "source": [
    "class DataTracker(DataTracker):\n",
    "    def __enter__(self):\n",
    "        if self.log:\n",
    "            code_name, lineno = self.caller_location()\n",
    "            print(f\"{code_name}:{lineno}: entering block\")\n",
    "\n",
    "    def __exit__(self, exc_type, exc_value, traceback):\n",
    "        if self.log:\n",
    "            code_name, lineno = self.caller_location()\n",
    "            print(f\"{code_name}:{lineno}: exiting block\")"
   ]
  },
  {
   "cell_type": "code",
   "execution_count": 85,
   "metadata": {
    "slideshow": {
     "slide_type": "subslide"
    }
   },
   "outputs": [
    {
     "name": "stdout",
     "output_type": "stream",
     "text": [
      "middle:2: getting y\n",
      "middle:2: getting z\n",
      "middle:2: testing condition\n",
      "middle:2: entering block\n",
      "middle:3: getting x\n",
      "middle:3: getting y\n",
      "middle:3: testing condition\n",
      "middle:3: entering block\n",
      "middle:5: getting x\n",
      "middle:5: getting z\n",
      "middle:5: testing condition\n",
      "middle:5: entering block\n",
      "middle:6: getting y\n",
      "middle:6: setting <middle() return value>\n",
      "middle:6: exiting block\n",
      "middle:6: exiting block\n",
      "middle:6: exiting block\n"
     ]
    }
   ],
   "source": [
    "with DataTrackerTester(middle_tree, middle):\n",
    "    middle(2, 1, 3)"
   ]
  },
  {
   "cell_type": "markdown",
   "metadata": {
    "slideshow": {
     "slide_type": "subslide"
    }
   },
   "source": [
    "### End of Excursion"
   ]
  },
  {
   "cell_type": "markdown",
   "metadata": {
    "slideshow": {
     "slide_type": "subslide"
    }
   },
   "source": [
    "We also want to be able to __track calls__ across multiple functions. To this end, we wrap each call\n",
    "\n",
    "```python\n",
    "func(arg1, arg2, ...)\n",
    "```\n",
    "\n",
    "into\n",
    "\n",
    "```python\n",
    "_data.ret(_data.call(func)(_data.arg(arg1), _data.arg(arg2), ...))\n",
    "```\n",
    "\n",
    "each of which simply pass through their given argument, but which allow to track the beginning of calls (`call()`), the computation of arguments (`arg()`), and the return of the call (`ret()`), respectively."
   ]
  },
  {
   "cell_type": "markdown",
   "metadata": {
    "slideshow": {
     "slide_type": "subslide"
    }
   },
   "source": [
    "### Excursion: Tracking Calls and Arguments"
   ]
  },
  {
   "cell_type": "markdown",
   "metadata": {
    "slideshow": {
     "slide_type": "fragment"
    }
   },
   "source": [
    "Our `TrackCallTransformer` visits all `Call` nodes, applying the transformations as shown above."
   ]
  },
  {
   "cell_type": "code",
   "execution_count": 86,
   "metadata": {
    "slideshow": {
     "slide_type": "subslide"
    }
   },
   "outputs": [],
   "source": [
    "class TrackCallTransformer(NodeTransformer):\n",
    "    def make_call(self, node, func):\n",
    "        \"\"\"Return _data.call(FUNC)(NODE)\"\"\"\n",
    "        return Call(func=Attribute(value=Name(id=DATA_TRACKER,\n",
    "                                              ctx=Load()),\n",
    "                                   attr=func,\n",
    "                                   ctx=Load()),\n",
    "                     args=[node],\n",
    "                     keywords=[])\n",
    "\n",
    "    def visit_Call(self, node):\n",
    "        self.generic_visit(node)\n",
    "\n",
    "        call_as_text = astor.to_source(node)\n",
    "        if call_as_text.startswith(DATA_TRACKER + '.ret'):\n",
    "            return node  # Already applied\n",
    "        \n",
    "        func_as_text = astor.to_source(node)\n",
    "        if func_as_text.startswith(DATA_TRACKER + '.'):\n",
    "            return node  # Own function\n",
    "\n",
    "        new_args = []\n",
    "        for arg in node.args:\n",
    "            new_args.append(self.make_call(arg, 'arg'))\n",
    "        node.args = new_args\n",
    "\n",
    "        for kw in node.keywords:\n",
    "            kw.value = self.make_call(kw.value, 'arg')\n",
    "\n",
    "        node.func = self.make_call(node.func, 'call')\n",
    "        return self.make_call(node, 'ret')"
   ]
  },
  {
   "cell_type": "markdown",
   "metadata": {
    "slideshow": {
     "slide_type": "subslide"
    }
   },
   "source": [
    "Our example function `middle()` does not contain any calls, but here is a function that invokes `middle()` twice:"
   ]
  },
  {
   "cell_type": "code",
   "execution_count": 87,
   "metadata": {
    "slideshow": {
     "slide_type": "fragment"
    }
   },
   "outputs": [],
   "source": [
    "def test_call():\n",
    "    x = middle(1, 2, middle(1, 2, 3))"
   ]
  },
  {
   "cell_type": "code",
   "execution_count": 88,
   "metadata": {
    "slideshow": {
     "slide_type": "fragment"
    }
   },
   "outputs": [
    {
     "name": "stdout",
     "output_type": "stream",
     "text": [
      "def test_call():\n",
      "    x = middle(1, 2, middle(1, 2, 3))\n",
      "\n"
     ]
    }
   ],
   "source": [
    "call_tree = ast.parse(inspect.getsource(test_call))\n",
    "dump_tree(call_tree)"
   ]
  },
  {
   "cell_type": "markdown",
   "metadata": {
    "slideshow": {
     "slide_type": "fragment"
    }
   },
   "source": [
    "If we invoke `TrackCallTransformer` on this testing function, we get the following transformed code:"
   ]
  },
  {
   "cell_type": "code",
   "execution_count": 89,
   "metadata": {
    "slideshow": {
     "slide_type": "fragment"
    }
   },
   "outputs": [],
   "source": [
    "TrackGetTransformer().visit(call_tree);"
   ]
  },
  {
   "cell_type": "code",
   "execution_count": 90,
   "metadata": {
    "slideshow": {
     "slide_type": "subslide"
    }
   },
   "outputs": [
    {
     "name": "stdout",
     "output_type": "stream",
     "text": [
      "def test_call():\n",
      "    x = _data.get('middle', middle)(1, 2, _data.get('middle', middle)(1, 2, 3))\n",
      "\n"
     ]
    }
   ],
   "source": [
    "dump_tree(call_tree)"
   ]
  },
  {
   "cell_type": "code",
   "execution_count": 91,
   "metadata": {
    "slideshow": {
     "slide_type": "fragment"
    }
   },
   "outputs": [],
   "source": [
    "def f():\n",
    "    return math.isclose(1, 1.0)"
   ]
  },
  {
   "cell_type": "code",
   "execution_count": 92,
   "metadata": {
    "slideshow": {
     "slide_type": "fragment"
    }
   },
   "outputs": [
    {
     "name": "stdout",
     "output_type": "stream",
     "text": [
      "def f():\n",
      "    return math.isclose(1, 1.0)\n",
      "\n"
     ]
    }
   ],
   "source": [
    "f_tree = ast.parse(inspect.getsource(f))\n",
    "dump_tree(f_tree)"
   ]
  },
  {
   "cell_type": "code",
   "execution_count": 93,
   "metadata": {
    "slideshow": {
     "slide_type": "fragment"
    }
   },
   "outputs": [],
   "source": [
    "TrackCallTransformer().visit(f_tree);"
   ]
  },
  {
   "cell_type": "code",
   "execution_count": 94,
   "metadata": {
    "slideshow": {
     "slide_type": "subslide"
    }
   },
   "outputs": [
    {
     "name": "stdout",
     "output_type": "stream",
     "text": [
      "def f():\n",
      "    return _data.ret(_data.call(math.isclose)(_data.arg(1), _data.arg(1.0)))\n",
      "\n"
     ]
    }
   ],
   "source": [
    "dump_tree(f_tree)"
   ]
  },
  {
   "cell_type": "markdown",
   "metadata": {
    "slideshow": {
     "slide_type": "fragment"
    }
   },
   "source": [
    "As before, our default `arg()`, `ret()`, and `call()` methods simply log the event and pass through the given value."
   ]
  },
  {
   "cell_type": "code",
   "execution_count": 95,
   "metadata": {
    "slideshow": {
     "slide_type": "fragment"
    }
   },
   "outputs": [],
   "source": [
    "class DataTracker(DataTracker):\n",
    "    def arg(self, value):\n",
    "        if self.log:\n",
    "            code_name, lineno = self.caller_location()\n",
    "            print(f\"{code_name}:{lineno}: pushing arg\")\n",
    "\n",
    "        return value"
   ]
  },
  {
   "cell_type": "code",
   "execution_count": 96,
   "metadata": {
    "slideshow": {
     "slide_type": "subslide"
    }
   },
   "outputs": [],
   "source": [
    "class DataTracker(DataTracker):\n",
    "    def ret(self, value):\n",
    "        if self.log:\n",
    "            code_name, lineno = self.caller_location()\n",
    "            print(f\"{code_name}:{lineno}: returned from call\")\n",
    "\n",
    "        return value"
   ]
  },
  {
   "cell_type": "code",
   "execution_count": 97,
   "metadata": {
    "slideshow": {
     "slide_type": "fragment"
    }
   },
   "outputs": [],
   "source": [
    "class DataTracker(DataTracker):\n",
    "    def call(self, func):\n",
    "        if self.log:\n",
    "            code_name, lineno = self.caller_location()\n",
    "            print(f\"{code_name}:{lineno}: calling {func}\")\n",
    "\n",
    "        return func"
   ]
  },
  {
   "cell_type": "code",
   "execution_count": 98,
   "metadata": {
    "slideshow": {
     "slide_type": "subslide"
    }
   },
   "outputs": [
    {
     "name": "stdout",
     "output_type": "stream",
     "text": [
      "test_call:2: getting middle\n",
      "test_call:2: getting middle\n"
     ]
    }
   ],
   "source": [
    "with DataTrackerTester(call_tree, test_call):\n",
    "    test_call()"
   ]
  },
  {
   "cell_type": "markdown",
   "metadata": {
    "slideshow": {
     "slide_type": "subslide"
    }
   },
   "source": [
    "### End of Excursion"
   ]
  },
  {
   "cell_type": "markdown",
   "metadata": {
    "slideshow": {
     "slide_type": "fragment"
    }
   },
   "source": [
    "On the receiving end, for each function argument `x`, we insert a call `_data.param('x', x)` to initialize `x`. This is useful for __tracking parameters across function calls.__"
   ]
  },
  {
   "cell_type": "markdown",
   "metadata": {
    "slideshow": {
     "slide_type": "subslide"
    }
   },
   "source": [
    "### Excursion: Tracking Parameters"
   ]
  },
  {
   "cell_type": "markdown",
   "metadata": {
    "slideshow": {
     "slide_type": "fragment"
    }
   },
   "source": [
    "Again, we use `ast.dump()` to determine the correct syntax tree:"
   ]
  },
  {
   "cell_type": "code",
   "execution_count": 99,
   "metadata": {
    "slideshow": {
     "slide_type": "fragment"
    }
   },
   "outputs": [
    {
     "name": "stdout",
     "output_type": "stream",
     "text": [
      "Module(body=[Expr(value=Call(func=Attribute(value=Name(id='_data', ctx=Load()), attr='param', ctx=Load()), args=[Str(s='x'), Name(id='x', ctx=Load())], keywords=[]))])\n"
     ]
    }
   ],
   "source": [
    "print(ast.dump(ast.parse(\"_data.param('x', x)\")))"
   ]
  },
  {
   "cell_type": "code",
   "execution_count": 100,
   "metadata": {
    "slideshow": {
     "slide_type": "subslide"
    }
   },
   "outputs": [],
   "source": [
    "class TrackParamsTransformer(NodeTransformer):\n",
    "    def visit_FunctionDef(self, node):\n",
    "        self.generic_visit(node)\n",
    "\n",
    "        named_args = []\n",
    "        for child in ast.iter_child_nodes(node.args):\n",
    "            if isinstance(child, ast.arg):\n",
    "                named_args.append(child.arg)\n",
    "\n",
    "        create_stmts = []\n",
    "        for arg in named_args:\n",
    "            create_stmt = Expr(\n",
    "                value=Call(\n",
    "                    func=Attribute(value=Name(id=DATA_TRACKER, ctx=Load()),\n",
    "                                   attr='param', ctx=Load()),\n",
    "                    args=[Str(s=arg), Name(id=arg, ctx=Load())],\n",
    "                    keywords=[]\n",
    "                )\n",
    "            )\n",
    "            create_stmts.append(create_stmt)\n",
    "            \n",
    "        # Reverse parameters such that we can later easily match them\n",
    "        # with passed arguments (evaluated left to right)\n",
    "        create_stmts.reverse()\n",
    "\n",
    "        node.body = create_stmts + node.body\n",
    "        return node"
   ]
  },
  {
   "cell_type": "markdown",
   "metadata": {
    "slideshow": {
     "slide_type": "subslide"
    }
   },
   "source": [
    "This is the effect of `TrackParamsTransformer()`. You see how the first three parameters are all initialized."
   ]
  },
  {
   "cell_type": "code",
   "execution_count": 101,
   "metadata": {
    "slideshow": {
     "slide_type": "subslide"
    }
   },
   "outputs": [
    {
     "name": "stdout",
     "output_type": "stream",
     "text": [
      "def middle(x, y, z):\n",
      "    _data.param('z', z)\n",
      "    _data.param('y', y)\n",
      "    _data.param('x', x)\n",
      "    if _data.test(_data.get('y', y) < _data.get('z', z)):\n",
      "        with _data:\n",
      "            if _data.test(_data.get('x', x) < _data.get('y', y)):\n",
      "                with _data:\n",
      "                    return _data.set('<middle() return value>', _data.get(\n",
      "                        'y', y))\n",
      "            else:\n",
      "                with _data:\n",
      "                    if _data.test(_data.get('x', x) < _data.get('z', z)):\n",
      "                        with _data:\n",
      "                            return _data.set('<middle() return value>',\n",
      "                                _data.get('y', y))\n",
      "    else:\n",
      "        with _data:\n",
      "            if _data.test(_data.get('x', x) > _data.get('y', y)):\n",
      "                with _data:\n",
      "                    return _data.set('<middle() return value>', _data.get(\n",
      "                        'y', y))\n",
      "            else:\n",
      "                with _data:\n",
      "                    if _data.test(_data.get('x', x) > _data.get('z', z)):\n",
      "                        with _data:\n",
      "                            return _data.set('<middle() return value>',\n",
      "                                _data.get('x', x))\n",
      "    return _data.set('<middle() return value>', _data.get('z', z))\n",
      "\n"
     ]
    }
   ],
   "source": [
    "TrackParamsTransformer().visit(middle_tree)\n",
    "dump_tree(middle_tree)"
   ]
  },
  {
   "cell_type": "markdown",
   "metadata": {
    "slideshow": {
     "slide_type": "subslide"
    }
   },
   "source": [
    "By default, the `DataTracker` `param()` method simply calls `set()` to set variables."
   ]
  },
  {
   "cell_type": "code",
   "execution_count": 102,
   "metadata": {
    "slideshow": {
     "slide_type": "fragment"
    }
   },
   "outputs": [],
   "source": [
    "class DataTracker(DataTracker):\n",
    "    def param(self, name, value):\n",
    "        if self.log:\n",
    "            code_name, lineno = self.caller_location()\n",
    "            print(f\"{code_name}:{lineno}: initializing {name}\")\n",
    "\n",
    "        return self.set(name, value)"
   ]
  },
  {
   "cell_type": "code",
   "execution_count": 103,
   "metadata": {
    "slideshow": {
     "slide_type": "subslide"
    }
   },
   "outputs": [
    {
     "name": "stdout",
     "output_type": "stream",
     "text": [
      "middle:1: initializing z\n",
      "middle:1: setting z\n",
      "middle:1: initializing y\n",
      "middle:1: setting y\n",
      "middle:1: initializing x\n",
      "middle:1: setting x\n",
      "middle:2: getting y\n",
      "middle:2: getting z\n",
      "middle:2: testing condition\n",
      "middle:2: entering block\n",
      "middle:3: getting x\n",
      "middle:3: getting y\n",
      "middle:3: testing condition\n",
      "middle:3: entering block\n",
      "middle:5: getting x\n",
      "middle:5: getting z\n",
      "middle:5: testing condition\n",
      "middle:5: entering block\n",
      "middle:6: getting y\n",
      "middle:6: setting <middle() return value>\n",
      "middle:6: exiting block\n",
      "middle:6: exiting block\n",
      "middle:6: exiting block\n"
     ]
    }
   ],
   "source": [
    "with DataTrackerTester(middle_tree, middle):\n",
    "    middle(2, 1, 3)"
   ]
  },
  {
   "cell_type": "markdown",
   "metadata": {
    "slideshow": {
     "slide_type": "subslide"
    }
   },
   "source": [
    "### End of Excursion"
   ]
  },
  {
   "cell_type": "markdown",
   "metadata": {
    "slideshow": {
     "slide_type": "fragment"
    }
   },
   "source": [
    "What do we obtain after we have applied all these transformers on `middle()`? We see that the code now contains quite a load of instrumentation."
   ]
  },
  {
   "cell_type": "code",
   "execution_count": 104,
   "metadata": {
    "slideshow": {
     "slide_type": "subslide"
    }
   },
   "outputs": [
    {
     "name": "stdout",
     "output_type": "stream",
     "text": [
      "def middle(x, y, z):\n",
      "    _data.param('z', z)\n",
      "    _data.param('y', y)\n",
      "    _data.param('x', x)\n",
      "    if _data.test(_data.get('y', y) < _data.get('z', z)):\n",
      "        with _data:\n",
      "            if _data.test(_data.get('x', x) < _data.get('y', y)):\n",
      "                with _data:\n",
      "                    return _data.set('<middle() return value>', _data.get(\n",
      "                        'y', y))\n",
      "            else:\n",
      "                with _data:\n",
      "                    if _data.test(_data.get('x', x) < _data.get('z', z)):\n",
      "                        with _data:\n",
      "                            return _data.set('<middle() return value>',\n",
      "                                _data.get('y', y))\n",
      "    else:\n",
      "        with _data:\n",
      "            if _data.test(_data.get('x', x) > _data.get('y', y)):\n",
      "                with _data:\n",
      "                    return _data.set('<middle() return value>', _data.get(\n",
      "                        'y', y))\n",
      "            else:\n",
      "                with _data:\n",
      "                    if _data.test(_data.get('x', x) > _data.get('z', z)):\n",
      "                        with _data:\n",
      "                            return _data.set('<middle() return value>',\n",
      "                                _data.get('x', x))\n",
      "    return _data.set('<middle() return value>', _data.get('z', z))\n",
      "\n"
     ]
    }
   ],
   "source": [
    "dump_tree(middle_tree)"
   ]
  },
  {
   "cell_type": "markdown",
   "metadata": {
    "slideshow": {
     "slide_type": "subslide"
    }
   },
   "source": [
    "And when we execute this code, we see that we can track quite a number of events, while the code semantics stay unchanged."
   ]
  },
  {
   "cell_type": "code",
   "execution_count": 105,
   "metadata": {
    "slideshow": {
     "slide_type": "subslide"
    }
   },
   "outputs": [
    {
     "name": "stdout",
     "output_type": "stream",
     "text": [
      "middle:1: initializing z\n",
      "middle:1: setting z\n",
      "middle:1: initializing y\n",
      "middle:1: setting y\n",
      "middle:1: initializing x\n",
      "middle:1: setting x\n",
      "middle:2: getting y\n",
      "middle:2: getting z\n",
      "middle:2: testing condition\n",
      "middle:2: entering block\n",
      "middle:3: getting x\n",
      "middle:3: getting y\n",
      "middle:3: testing condition\n",
      "middle:3: entering block\n",
      "middle:5: getting x\n",
      "middle:5: getting z\n",
      "middle:5: testing condition\n",
      "middle:5: entering block\n",
      "middle:6: getting y\n",
      "middle:6: setting <middle() return value>\n",
      "middle:6: exiting block\n",
      "middle:6: exiting block\n",
      "middle:6: exiting block\n"
     ]
    },
    {
     "data": {
      "text/plain": [
       "1"
      ]
     },
     "execution_count": 105,
     "metadata": {},
     "output_type": "execute_result"
    }
   ],
   "source": [
    "with DataTrackerTester(middle_tree, middle):\n",
    "    m = middle(2, 1, 3)\n",
    "m"
   ]
  },
  {
   "cell_type": "markdown",
   "metadata": {
    "slideshow": {
     "slide_type": "subslide"
    }
   },
   "source": [
    "Our next step will now be not only to _log_ these events, but to actually construct _dependencies_ from them."
   ]
  },
  {
   "cell_type": "markdown",
   "metadata": {
    "slideshow": {
     "slide_type": "slide"
    }
   },
   "source": [
    "## Tracking Dependencies"
   ]
  },
  {
   "cell_type": "markdown",
   "metadata": {
    "slideshow": {
     "slide_type": "fragment"
    }
   },
   "source": [
    "To construct dependencies from variable accesses, we subclass `DataTracker` into `DependencyTracker` – a class that actually keeps track of all these dependencies.  Its constructor initializes a number of variables we will discuss below."
   ]
  },
  {
   "cell_type": "code",
   "execution_count": 106,
   "metadata": {
    "slideshow": {
     "slide_type": "subslide"
    }
   },
   "outputs": [],
   "source": [
    "class DependencyTracker(DataTracker):\n",
    "    def __init__(self, *args, **kwargs):\n",
    "        super().__init__(*args, **kwargs)\n",
    "\n",
    "        self.origins = {}  # Where current variables were last set\n",
    "        self.data_dependencies = {}  # As with Dependencies, above\n",
    "        self.control_dependencies = {}\n",
    "\n",
    "        self.last_read = []  # List of last read variables\n",
    "        self.last_checked_location = None\n",
    "        self._ignore_location_change = False\n",
    "\n",
    "        self.data = [[]]  # Data stack\n",
    "        self.control = [[]]  # Control stack\n",
    "\n",
    "        self.args = []  # Argument stack"
   ]
  },
  {
   "cell_type": "markdown",
   "metadata": {
    "slideshow": {
     "slide_type": "subslide"
    }
   },
   "source": [
    "### Data Dependencies\n",
    "\n",
    "The first job of our `DependencyTracker` is to construct dependencies between _read_ and _written_ variables."
   ]
  },
  {
   "cell_type": "markdown",
   "metadata": {
    "slideshow": {
     "slide_type": "subslide"
    }
   },
   "source": [
    "#### Reading Variables\n",
    "\n",
    "As in `DataTracker`, the key method of `DependencyTracker` again is `get()`, invoked as `_data.get('x', x)` whenever a variable `x` is read. First and foremost, it appends the name of the read variable to the list `last_read`."
   ]
  },
  {
   "cell_type": "code",
   "execution_count": 107,
   "metadata": {
    "slideshow": {
     "slide_type": "fragment"
    }
   },
   "outputs": [],
   "source": [
    "class DependencyTracker(DependencyTracker):\n",
    "    def get(self, name, value):\n",
    "        self.check_location()\n",
    "        self.last_read.append(name)\n",
    "        return super().get(name, value)\n",
    "    \n",
    "    def check_location(self):\n",
    "        pass  # More on that below"
   ]
  },
  {
   "cell_type": "code",
   "execution_count": 108,
   "metadata": {
    "slideshow": {
     "slide_type": "subslide"
    }
   },
   "outputs": [],
   "source": [
    "x = 5\n",
    "y = 3"
   ]
  },
  {
   "cell_type": "code",
   "execution_count": 109,
   "metadata": {
    "slideshow": {
     "slide_type": "fragment"
    }
   },
   "outputs": [
    {
     "name": "stdout",
     "output_type": "stream",
     "text": [
      "<ipython-input-109-a6f2ae88f7b4>:2: getting x\n",
      "<ipython-input-109-a6f2ae88f7b4>:2: getting y\n"
     ]
    },
    {
     "data": {
      "text/plain": [
       "8"
      ]
     },
     "execution_count": 109,
     "metadata": {},
     "output_type": "execute_result"
    }
   ],
   "source": [
    "_test_data = DependencyTracker(log=True)\n",
    "_test_data.get('x', x) + _test_data.get('y', y)"
   ]
  },
  {
   "cell_type": "code",
   "execution_count": 110,
   "metadata": {
    "slideshow": {
     "slide_type": "fragment"
    }
   },
   "outputs": [
    {
     "data": {
      "text/plain": [
       "['x', 'y']"
      ]
     },
     "execution_count": 110,
     "metadata": {},
     "output_type": "execute_result"
    }
   ],
   "source": [
    "_test_data.last_read"
   ]
  },
  {
   "cell_type": "markdown",
   "metadata": {
    "slideshow": {
     "slide_type": "subslide"
    }
   },
   "source": [
    "#### Checking Locations"
   ]
  },
  {
   "cell_type": "markdown",
   "metadata": {
    "slideshow": {
     "slide_type": "fragment"
    }
   },
   "source": [
    "However, before appending the read variable to `last_read`, `_data.get()` does one more thing. By invoking `check_location()`, it clears the `last_read` list if we have reached a new line in the execution. This avoids situations such as\n",
    "\n",
    "```python\n",
    "x\n",
    "y\n",
    "z = a + b\n",
    "```\n",
    "where `x` and `y` are, well, read, but do not affect the last line. Therefore, with every new line, the list of last read lines is cleared."
   ]
  },
  {
   "cell_type": "code",
   "execution_count": 111,
   "metadata": {
    "slideshow": {
     "slide_type": "subslide"
    }
   },
   "outputs": [],
   "source": [
    "class DependencyTracker(DependencyTracker):\n",
    "    def clear_read(self):\n",
    "        if self.log:\n",
    "            direct_caller = inspect.currentframe().f_back.f_code.co_name\n",
    "            code_name, lineno = self.caller_location()\n",
    "            print(f\"{code_name}:{lineno}: \"\n",
    "                  f\"clearing read variables {self.last_read} \"\n",
    "                  f\"(from {direct_caller})\")\n",
    "\n",
    "        self.last_read = []\n",
    "\n",
    "    def check_location(self):\n",
    "        location = self.caller_location()\n",
    "        if self.last_checked_location != location:\n",
    "            if self._ignore_location_change:\n",
    "                self._ignore_location_change = False\n",
    "            else:\n",
    "                self.clear_read()\n",
    "\n",
    "        self.last_checked_location = location"
   ]
  },
  {
   "cell_type": "markdown",
   "metadata": {
    "slideshow": {
     "slide_type": "subslide"
    }
   },
   "source": [
    "Two methods can suppress this reset of the `last_read` list: \n",
    "\n",
    "* `ignore_next_location_change()` suppresses the reset for the next line. This is useful when returning from a function, when the return value is still in the list of \"read\" variables.\n",
    "* `ignore_location_change()` suppresses the reset for the current line. This is useful if we already have returned from a function call."
   ]
  },
  {
   "cell_type": "code",
   "execution_count": 112,
   "metadata": {
    "slideshow": {
     "slide_type": "fragment"
    }
   },
   "outputs": [],
   "source": [
    "class DependencyTracker(DependencyTracker):\n",
    "    def ignore_next_location_change(self):\n",
    "        self._ignore_location_change = True\n",
    "\n",
    "    def ignore_location_change(self):\n",
    "        self.last_checked_location = self.caller_location()"
   ]
  },
  {
   "cell_type": "markdown",
   "metadata": {
    "slideshow": {
     "slide_type": "subslide"
    }
   },
   "source": [
    "Watch how `DependencyTracker` resets `last_read` when a new line is executed:"
   ]
  },
  {
   "cell_type": "code",
   "execution_count": 113,
   "metadata": {
    "slideshow": {
     "slide_type": "fragment"
    }
   },
   "outputs": [],
   "source": [
    "_test_data = DependencyTracker()"
   ]
  },
  {
   "cell_type": "code",
   "execution_count": 114,
   "metadata": {
    "slideshow": {
     "slide_type": "fragment"
    }
   },
   "outputs": [
    {
     "data": {
      "text/plain": [
       "8"
      ]
     },
     "execution_count": 114,
     "metadata": {},
     "output_type": "execute_result"
    }
   ],
   "source": [
    "_test_data.get('x', x) + _test_data.get('y', y)"
   ]
  },
  {
   "cell_type": "code",
   "execution_count": 115,
   "metadata": {
    "slideshow": {
     "slide_type": "fragment"
    }
   },
   "outputs": [
    {
     "data": {
      "text/plain": [
       "['x', 'y']"
      ]
     },
     "execution_count": 115,
     "metadata": {},
     "output_type": "execute_result"
    }
   ],
   "source": [
    "_test_data.last_read"
   ]
  },
  {
   "cell_type": "code",
   "execution_count": 116,
   "metadata": {
    "slideshow": {
     "slide_type": "fragment"
    }
   },
   "outputs": [
    {
     "data": {
      "text/plain": [
       "41"
      ]
     },
     "execution_count": 116,
     "metadata": {},
     "output_type": "execute_result"
    }
   ],
   "source": [
    "a = 42\n",
    "b = -1\n",
    "_test_data.get('a', a) + _test_data.get('b', b)"
   ]
  },
  {
   "cell_type": "code",
   "execution_count": 117,
   "metadata": {
    "slideshow": {
     "slide_type": "fragment"
    }
   },
   "outputs": [
    {
     "data": {
      "text/plain": [
       "['a', 'b']"
      ]
     },
     "execution_count": 117,
     "metadata": {},
     "output_type": "execute_result"
    }
   ],
   "source": [
    "_test_data.last_read"
   ]
  },
  {
   "cell_type": "markdown",
   "metadata": {
    "slideshow": {
     "slide_type": "subslide"
    }
   },
   "source": [
    "#### Setting Variables\n",
    "\n",
    "The method `set()` creates dependencies. It is invoked as  `_data.set('x', value)` whenever a variable `x` is set. \n",
    "\n",
    "First and foremost, it takes the list of variables read `last_read`, and for each of the variables $v$, it takes their origin $o$ (the place where they were last set) and appends the pair ($v$, $o$) to the list of data dependencies. It then does a similar thing with control dependencies (more on these below), and finally marks (in `self.origins`) the current location of $v$."
   ]
  },
  {
   "cell_type": "code",
   "execution_count": 118,
   "metadata": {
    "slideshow": {
     "slide_type": "skip"
    }
   },
   "outputs": [],
   "source": [
    "import itertools"
   ]
  },
  {
   "cell_type": "code",
   "execution_count": 119,
   "metadata": {
    "slideshow": {
     "slide_type": "subslide"
    }
   },
   "outputs": [],
   "source": [
    "class DependencyTracker(DependencyTracker):\n",
    "    def set(self, name, value):\n",
    "\n",
    "        def add_dependencies(dependencies, vars_read, tp):\n",
    "            \"\"\"Add origins of VARS_READ to DEPENDENCIES.\"\"\"\n",
    "            for var_read in vars_read:\n",
    "                if var_read in self.origins:\n",
    "                    origin = self.origins[var_read]\n",
    "                    dependencies.add((var_read, origin))\n",
    "\n",
    "                    if self.log:\n",
    "                        origin_name, origin_lineno = origin\n",
    "                        code_name, lineno = self.caller_location()\n",
    "                        print(f\"{code_name}:{lineno}: \"\n",
    "                              f\"new {tp} dependency: \"\n",
    "                              f\"{name} <= {var_read} \"\n",
    "                              f\"({origin_name}:{origin_lineno})\")\n",
    "\n",
    "        self.check_location()\n",
    "        ret = super().set(name, value)\n",
    "        location = self.caller_location()\n",
    "\n",
    "        add_dependencies(self.data_dependencies.setdefault\n",
    "                         ((name, location), set()),\n",
    "                         self.last_read, tp=\"data\")\n",
    "        add_dependencies(self.control_dependencies.setdefault\n",
    "                         ((name, location), set()),\n",
    "                         itertools.chain.from_iterable(self.control),\n",
    "                         tp=\"control\")\n",
    "\n",
    "        self.origins[name] = location\n",
    "\n",
    "        # Reset read info for next line\n",
    "        # self.clear_read()\n",
    "        self.last_read = [name]\n",
    "\n",
    "        return ret\n",
    "\n",
    "    def dependencies(self):\n",
    "        return Dependencies(self.data_dependencies,\n",
    "                            self.control_dependencies)"
   ]
  },
  {
   "cell_type": "markdown",
   "metadata": {
    "slideshow": {
     "slide_type": "subslide"
    }
   },
   "source": [
    "Let us illustrate `set()` by example. Here's a set of variables read and written:"
   ]
  },
  {
   "cell_type": "code",
   "execution_count": 120,
   "metadata": {
    "slideshow": {
     "slide_type": "fragment"
    }
   },
   "outputs": [],
   "source": [
    "_test_data = DependencyTracker()\n",
    "x = _test_data.set('x', 1)\n",
    "y = _test_data.set('y', _test_data.get('x', x))\n",
    "z = _test_data.set('z', _test_data.get('x', x) + _test_data.get('y', y))"
   ]
  },
  {
   "cell_type": "markdown",
   "metadata": {
    "slideshow": {
     "slide_type": "fragment"
    }
   },
   "source": [
    "The attribute `origins` saves for each variable where it was last written:"
   ]
  },
  {
   "cell_type": "code",
   "execution_count": 121,
   "metadata": {
    "slideshow": {
     "slide_type": "fragment"
    }
   },
   "outputs": [
    {
     "data": {
      "text/plain": [
       "{'x': ('<ipython-input-120-c8d253a8d900>', 2),\n",
       " 'y': ('<ipython-input-120-c8d253a8d900>', 3),\n",
       " 'z': ('<ipython-input-120-c8d253a8d900>', 4)}"
      ]
     },
     "execution_count": 121,
     "metadata": {},
     "output_type": "execute_result"
    }
   ],
   "source": [
    "_test_data.origins"
   ]
  },
  {
   "cell_type": "markdown",
   "metadata": {
    "slideshow": {
     "slide_type": "fragment"
    }
   },
   "source": [
    "The attribute `data_dependencies` tracks for each variable the variables it was read from:"
   ]
  },
  {
   "cell_type": "code",
   "execution_count": 122,
   "metadata": {
    "slideshow": {
     "slide_type": "subslide"
    }
   },
   "outputs": [
    {
     "data": {
      "text/plain": [
       "{('x', ('<ipython-input-120-c8d253a8d900>', 2)): set(),\n",
       " ('y',\n",
       "  ('<ipython-input-120-c8d253a8d900>', 3)): {('x',\n",
       "   ('<ipython-input-120-c8d253a8d900>', 2))},\n",
       " ('z',\n",
       "  ('<ipython-input-120-c8d253a8d900>', 4)): {('x',\n",
       "   ('<ipython-input-120-c8d253a8d900>', 2)), ('y',\n",
       "   ('<ipython-input-120-c8d253a8d900>', 3))}}"
      ]
     },
     "execution_count": 122,
     "metadata": {},
     "output_type": "execute_result"
    }
   ],
   "source": [
    "_test_data.data_dependencies"
   ]
  },
  {
   "cell_type": "markdown",
   "metadata": {
    "slideshow": {
     "slide_type": "fragment"
    }
   },
   "source": [
    "Hence, the above code already gives us a small dependency graph:"
   ]
  },
  {
   "cell_type": "code",
   "execution_count": 123,
   "metadata": {
    "slideshow": {
     "slide_type": "fragment"
    }
   },
   "outputs": [
    {
     "data": {
      "image/svg+xml": [
       "<?xml version=\"1.0\" encoding=\"UTF-8\" standalone=\"no\"?>\n",
       "<!DOCTYPE svg PUBLIC \"-//W3C//DTD SVG 1.1//EN\"\n",
       " \"http://www.w3.org/Graphics/SVG/1.1/DTD/svg11.dtd\">\n",
       "<!-- Generated by graphviz version 2.40.1 (20161225.0304)\n",
       " -->\n",
       "<!-- Title: dependencies Pages: 1 -->\n",
       "<svg width=\"74pt\" height=\"188pt\"\n",
       " viewBox=\"0.00 0.00 74.48 188.00\" xmlns=\"http://www.w3.org/2000/svg\" xmlns:xlink=\"http://www.w3.org/1999/xlink\">\n",
       "<g id=\"graph0\" class=\"graph\" transform=\"scale(1 1) rotate(0) translate(4 184)\">\n",
       "<title>dependencies</title>\n",
       "<polygon fill=\"#ffffff\" stroke=\"transparent\" points=\"-4,4 -4,-184 70.4774,-184 70.4774,4 -4,4\"/>\n",
       "<!-- y_ipythoninput120c8d253a8d900_3 -->\n",
       "<g id=\"node1\" class=\"node\">\n",
       "<title>y_ipythoninput120c8d253a8d900_3</title>\n",
       "<g id=\"a_node1\"><a xlink:title=\"&lt;ipython&#45;input&#45;120&#45;c8d253a8d900&gt;:3\">\n",
       "<polygon fill=\"#ffdab9\" stroke=\"#000000\" points=\"54,-108 0,-108 0,-72 54,-72 54,-108\"/>\n",
       "<text text-anchor=\"start\" x=\"22.5\" y=\"-87.3\" font-family=\"Fira Mono\" font-weight=\"bold\" font-size=\"14.00\" fill=\"#000000\">y</text>\n",
       "</a>\n",
       "</g>\n",
       "</g>\n",
       "<!-- z_ipythoninput120c8d253a8d900_4 -->\n",
       "<g id=\"node3\" class=\"node\">\n",
       "<title>z_ipythoninput120c8d253a8d900_4</title>\n",
       "<g id=\"a_node3\"><a xlink:title=\"&lt;ipython&#45;input&#45;120&#45;c8d253a8d900&gt;:4\">\n",
       "<polygon fill=\"#ffdab9\" stroke=\"#000000\" points=\"54,-36 0,-36 0,0 54,0 54,-36\"/>\n",
       "<text text-anchor=\"start\" x=\"22.5\" y=\"-15.3\" font-family=\"Fira Mono\" font-weight=\"bold\" font-size=\"14.00\" fill=\"#000000\">z</text>\n",
       "</a>\n",
       "</g>\n",
       "</g>\n",
       "<!-- y_ipythoninput120c8d253a8d900_3&#45;&gt;z_ipythoninput120c8d253a8d900_4 -->\n",
       "<g id=\"edge2\" class=\"edge\">\n",
       "<title>y_ipythoninput120c8d253a8d900_3&#45;&gt;z_ipythoninput120c8d253a8d900_4</title>\n",
       "<path fill=\"none\" stroke=\"#000000\" d=\"M21.0476,-71.8314C20.2972,-64.131 20.0763,-54.9743 20.3849,-46.4166\"/>\n",
       "<polygon fill=\"#000000\" stroke=\"#000000\" points=\"23.8792,-46.6161 21.024,-36.4133 16.8935,-46.1697 23.8792,-46.6161\"/>\n",
       "</g>\n",
       "<!-- y_ipythoninput120c8d253a8d900_3&#45;&gt;z_ipythoninput120c8d253a8d900_4 -->\n",
       "<!-- x_ipythoninput120c8d253a8d900_2 -->\n",
       "<g id=\"node2\" class=\"node\">\n",
       "<title>x_ipythoninput120c8d253a8d900_2</title>\n",
       "<g id=\"a_node2\"><a xlink:title=\"&lt;ipython&#45;input&#45;120&#45;c8d253a8d900&gt;:2\">\n",
       "<polygon fill=\"#ffdab9\" stroke=\"#000000\" points=\"54,-180 0,-180 0,-144 54,-144 54,-180\"/>\n",
       "<text text-anchor=\"start\" x=\"22.5\" y=\"-159.3\" font-family=\"Fira Mono\" font-weight=\"bold\" font-size=\"14.00\" fill=\"#000000\">x</text>\n",
       "</a>\n",
       "</g>\n",
       "</g>\n",
       "<!-- x_ipythoninput120c8d253a8d900_2&#45;&gt;y_ipythoninput120c8d253a8d900_3 -->\n",
       "<g id=\"edge1\" class=\"edge\">\n",
       "<title>x_ipythoninput120c8d253a8d900_2&#45;&gt;y_ipythoninput120c8d253a8d900_3</title>\n",
       "<path fill=\"none\" stroke=\"#000000\" d=\"M21.0476,-143.8314C20.2972,-136.131 20.0763,-126.9743 20.3849,-118.4166\"/>\n",
       "<polygon fill=\"#000000\" stroke=\"#000000\" points=\"23.8792,-118.6161 21.024,-108.4133 16.8935,-118.1697 23.8792,-118.6161\"/>\n",
       "</g>\n",
       "<!-- x_ipythoninput120c8d253a8d900_2&#45;&gt;y_ipythoninput120c8d253a8d900_3 -->\n",
       "<!-- x_ipythoninput120c8d253a8d900_2&#45;&gt;z_ipythoninput120c8d253a8d900_4 -->\n",
       "<g id=\"edge3\" class=\"edge\">\n",
       "<title>x_ipythoninput120c8d253a8d900_2&#45;&gt;z_ipythoninput120c8d253a8d900_4</title>\n",
       "<path fill=\"none\" stroke=\"#000000\" d=\"M42.9905,-143.9169C50.6538,-134.0371 59.0166,-121.1563 63,-108 67.6365,-92.6865 67.6365,-87.3135 63,-72 60.0436,-62.2355 54.6748,-52.6229 48.97,-44.2762\"/>\n",
       "<polygon fill=\"#000000\" stroke=\"#000000\" points=\"51.7129,-42.0973 42.9905,-36.0831 46.0586,-46.2239 51.7129,-42.0973\"/>\n",
       "</g>\n",
       "</g>\n",
       "</svg>\n"
      ],
      "text/plain": [
       "<graphviz.dot.Digraph at 0x7fbb1d4e8a90>"
      ]
     },
     "execution_count": 123,
     "metadata": {},
     "output_type": "execute_result"
    }
   ],
   "source": [
    "# ignore\n",
    "_test_data.dependencies().graph()"
   ]
  },
  {
   "cell_type": "markdown",
   "metadata": {
    "slideshow": {
     "slide_type": "subslide"
    }
   },
   "source": [
    "### Control Dependencies"
   ]
  },
  {
   "cell_type": "markdown",
   "metadata": {
    "slideshow": {
     "slide_type": "fragment"
    }
   },
   "source": [
    "Let us now switch over to control dependencies. As discussed above, we invoke `test()` methods for all control conditions, and place the controlled blocks into `with` clauses."
   ]
  },
  {
   "cell_type": "markdown",
   "metadata": {
    "slideshow": {
     "slide_type": "fragment"
    }
   },
   "source": [
    "The `test()` method simply sets a `<test>` variable; this also places it in `last_read`."
   ]
  },
  {
   "cell_type": "code",
   "execution_count": 124,
   "metadata": {
    "slideshow": {
     "slide_type": "fragment"
    }
   },
   "outputs": [],
   "source": [
    "class DependencyTracker(DependencyTracker):\n",
    "    TEST = '<test>'\n",
    "\n",
    "    def test(self, value):\n",
    "        self.set(self.TEST, value)\n",
    "        return super().test(value)"
   ]
  },
  {
   "cell_type": "markdown",
   "metadata": {
    "slideshow": {
     "slide_type": "subslide"
    }
   },
   "source": [
    "When entering a `with` block, the set of `last_read` variables holds the `<test>` variable read. We save it in the `control` stack, with the effect of any further variables written now being marked as  controlled by `<test>`."
   ]
  },
  {
   "cell_type": "code",
   "execution_count": 125,
   "metadata": {
    "slideshow": {
     "slide_type": "fragment"
    }
   },
   "outputs": [],
   "source": [
    "class DependencyTracker(DependencyTracker):\n",
    "    def __enter__(self):\n",
    "        self.control.append(self.last_read)\n",
    "        self.clear_read()\n",
    "        super().__enter__()"
   ]
  },
  {
   "cell_type": "markdown",
   "metadata": {
    "slideshow": {
     "slide_type": "fragment"
    }
   },
   "source": [
    "When we exit the `with` block, we restore earlier `last_read` values, preparing for `else` blocks."
   ]
  },
  {
   "cell_type": "code",
   "execution_count": 126,
   "metadata": {
    "slideshow": {
     "slide_type": "subslide"
    }
   },
   "outputs": [],
   "source": [
    "class DependencyTracker(DependencyTracker):\n",
    "    def __exit__(self, exc_type, exc_value, traceback):\n",
    "        self.clear_read()\n",
    "        self.last_read = self.control.pop()\n",
    "        self.ignore_next_location_change()\n",
    "        super().__exit__(exc_type, exc_value, traceback)"
   ]
  },
  {
   "cell_type": "markdown",
   "metadata": {
    "slideshow": {
     "slide_type": "fragment"
    }
   },
   "source": [
    "Here's an example of all these parts in action:"
   ]
  },
  {
   "cell_type": "code",
   "execution_count": 127,
   "metadata": {
    "slideshow": {
     "slide_type": "fragment"
    }
   },
   "outputs": [],
   "source": [
    "_test_data = DependencyTracker()\n",
    "x = _test_data.set('x', 1)\n",
    "y = _test_data.set('y', _test_data.get('x', x))"
   ]
  },
  {
   "cell_type": "code",
   "execution_count": 128,
   "metadata": {
    "slideshow": {
     "slide_type": "fragment"
    }
   },
   "outputs": [],
   "source": [
    "if _test_data.test(_test_data.get('x', x) >= _test_data.get('y', y)):\n",
    "    with _test_data:\n",
    "        z = _test_data.set('z',\n",
    "                           _test_data.get('x', x) + _test_data.get('y', y))"
   ]
  },
  {
   "cell_type": "code",
   "execution_count": 129,
   "metadata": {
    "slideshow": {
     "slide_type": "subslide"
    }
   },
   "outputs": [
    {
     "data": {
      "text/plain": [
       "{('x', ('<ipython-input-127-f0b6e1574f1c>', 2)): set(),\n",
       " ('y', ('<ipython-input-127-f0b6e1574f1c>', 3)): set(),\n",
       " ('<test>', ('<ipython-input-128-9dbb328efb5b>', 1)): set(),\n",
       " ('z',\n",
       "  ('<ipython-input-128-9dbb328efb5b>', 4)): {('<test>',\n",
       "   ('<ipython-input-128-9dbb328efb5b>', 1))}}"
      ]
     },
     "execution_count": 129,
     "metadata": {},
     "output_type": "execute_result"
    }
   ],
   "source": [
    "_test_data.control_dependencies"
   ]
  },
  {
   "cell_type": "markdown",
   "metadata": {
    "slideshow": {
     "slide_type": "fragment"
    }
   },
   "source": [
    "The control dependency for `z` is reflected in the dependency graph:"
   ]
  },
  {
   "cell_type": "code",
   "execution_count": 130,
   "metadata": {
    "slideshow": {
     "slide_type": "fragment"
    }
   },
   "outputs": [
    {
     "data": {
      "image/svg+xml": [
       "<?xml version=\"1.0\" encoding=\"UTF-8\" standalone=\"no\"?>\n",
       "<!DOCTYPE svg PUBLIC \"-//W3C//DTD SVG 1.1//EN\"\n",
       " \"http://www.w3.org/Graphics/SVG/1.1/DTD/svg11.dtd\">\n",
       "<!-- Generated by graphviz version 2.40.1 (20161225.0304)\n",
       " -->\n",
       "<!-- Title: dependencies Pages: 1 -->\n",
       "<svg width=\"131pt\" height=\"260pt\"\n",
       " viewBox=\"0.00 0.00 130.64 260.00\" xmlns=\"http://www.w3.org/2000/svg\" xmlns:xlink=\"http://www.w3.org/1999/xlink\">\n",
       "<g id=\"graph0\" class=\"graph\" transform=\"scale(1 1) rotate(0) translate(4 256)\">\n",
       "<title>dependencies</title>\n",
       "<polygon fill=\"#ffffff\" stroke=\"transparent\" points=\"-4,4 -4,-256 126.6356,-256 126.6356,4 -4,4\"/>\n",
       "<!-- z_ipythoninput1289dbb328efb5b_4 -->\n",
       "<g id=\"node1\" class=\"node\">\n",
       "<title>z_ipythoninput1289dbb328efb5b_4</title>\n",
       "<g id=\"a_node1\"><a xlink:title=\"&lt;ipython&#45;input&#45;128&#45;9dbb328efb5b&gt;:4\">\n",
       "<polygon fill=\"#ffdab9\" stroke=\"#000000\" points=\"85.1356,-36 31.1356,-36 31.1356,0 85.1356,0 85.1356,-36\"/>\n",
       "<text text-anchor=\"start\" x=\"53.6356\" y=\"-15.3\" font-family=\"Fira Mono\" font-weight=\"bold\" font-size=\"14.00\" fill=\"#000000\">z</text>\n",
       "</a>\n",
       "</g>\n",
       "</g>\n",
       "<!-- y_ipythoninput127f0b6e1574f1c_3 -->\n",
       "<g id=\"node2\" class=\"node\">\n",
       "<title>y_ipythoninput127f0b6e1574f1c_3</title>\n",
       "<g id=\"a_node2\"><a xlink:title=\"&lt;ipython&#45;input&#45;127&#45;f0b6e1574f1c&gt;:3\">\n",
       "<polygon fill=\"#ffdab9\" stroke=\"#000000\" points=\"66.1356,-180 12.1356,-180 12.1356,-144 66.1356,-144 66.1356,-180\"/>\n",
       "<text text-anchor=\"start\" x=\"34.6356\" y=\"-159.3\" font-family=\"Fira Mono\" font-weight=\"bold\" font-size=\"14.00\" fill=\"#000000\">y</text>\n",
       "</a>\n",
       "</g>\n",
       "</g>\n",
       "<!-- y_ipythoninput127f0b6e1574f1c_3&#45;&gt;z_ipythoninput1289dbb328efb5b_4 -->\n",
       "<g id=\"edge1\" class=\"edge\">\n",
       "<title>y_ipythoninput127f0b6e1574f1c_3&#45;&gt;z_ipythoninput1289dbb328efb5b_4</title>\n",
       "<path fill=\"none\" stroke=\"#000000\" d=\"M39.789,-143.9863C40.6253,-125.7569 42.4344,-96.8008 46.1356,-72 47.3915,-63.5849 49.2153,-54.527 51.0635,-46.279\"/>\n",
       "<polygon fill=\"#000000\" stroke=\"#000000\" points=\"54.5107,-46.908 53.3768,-36.374 47.6942,-45.3159 54.5107,-46.908\"/>\n",
       "</g>\n",
       "<!-- test_ipythoninput1289dbb328efb5b_1 -->\n",
       "<g id=\"node4\" class=\"node\">\n",
       "<title>test_ipythoninput1289dbb328efb5b_1</title>\n",
       "<g id=\"a_node4\"><a xlink:title=\"&lt;ipython&#45;input&#45;128&#45;9dbb328efb5b&gt;:1\">\n",
       "<polygon fill=\"#ffdab9\" stroke=\"#000000\" points=\"122.6356,-108 55.6356,-108 55.6356,-72 122.6356,-72 122.6356,-108\"/>\n",
       "<text text-anchor=\"start\" x=\"63.6356\" y=\"-87.3\" font-family=\"Fira Mono\" font-weight=\"bold\" font-style=\"italic\" font-size=\"14.00\" fill=\"#000000\">&lt;test&gt;</text>\n",
       "</a>\n",
       "</g>\n",
       "</g>\n",
       "<!-- y_ipythoninput127f0b6e1574f1c_3&#45;&gt;test_ipythoninput1289dbb328efb5b_1 -->\n",
       "<g id=\"edge5\" class=\"edge\">\n",
       "<title>y_ipythoninput127f0b6e1574f1c_3&#45;&gt;test_ipythoninput1289dbb328efb5b_1</title>\n",
       "<path fill=\"none\" stroke=\"#000000\" d=\"M51.7527,-143.8314C57.4528,-135.6232 64.3019,-125.7606 70.5715,-116.7323\"/>\n",
       "<polygon fill=\"#000000\" stroke=\"#000000\" points=\"73.5194,-118.6234 76.3486,-108.4133 67.7698,-114.6306 73.5194,-118.6234\"/>\n",
       "</g>\n",
       "<!-- x_ipythoninput127f0b6e1574f1c_2 -->\n",
       "<g id=\"node3\" class=\"node\">\n",
       "<title>x_ipythoninput127f0b6e1574f1c_2</title>\n",
       "<g id=\"a_node3\"><a xlink:title=\"&lt;ipython&#45;input&#45;127&#45;f0b6e1574f1c&gt;:2\">\n",
       "<polygon fill=\"#ffdab9\" stroke=\"#000000\" points=\"66.1356,-252 12.1356,-252 12.1356,-216 66.1356,-216 66.1356,-252\"/>\n",
       "<text text-anchor=\"start\" x=\"34.6356\" y=\"-231.3\" font-family=\"Fira Mono\" font-weight=\"bold\" font-size=\"14.00\" fill=\"#000000\">x</text>\n",
       "</a>\n",
       "</g>\n",
       "</g>\n",
       "<!-- x_ipythoninput127f0b6e1574f1c_2&#45;&gt;z_ipythoninput1289dbb328efb5b_4 -->\n",
       "<g id=\"edge2\" class=\"edge\">\n",
       "<title>x_ipythoninput127f0b6e1574f1c_2&#45;&gt;z_ipythoninput1289dbb328efb5b_4</title>\n",
       "<path fill=\"none\" stroke=\"#000000\" d=\"M23.1451,-215.9169C15.4818,-206.0371 7.1191,-193.1563 3.1356,-180 -1.5009,-164.6865 -.1338,-159.6624 3.1356,-144 10.6174,-108.1582 28.8817,-70.0278 42.3196,-45.2216\"/>\n",
       "<polygon fill=\"#000000\" stroke=\"#000000\" points=\"45.4221,-46.8437 47.2009,-36.3993 39.2971,-43.4547 45.4221,-46.8437\"/>\n",
       "</g>\n",
       "<!-- x_ipythoninput127f0b6e1574f1c_2&#45;&gt;y_ipythoninput127f0b6e1574f1c_3 -->\n",
       "<g id=\"edge4\" class=\"edge\">\n",
       "<title>x_ipythoninput127f0b6e1574f1c_2&#45;&gt;y_ipythoninput127f0b6e1574f1c_3</title>\n",
       "<path fill=\"none\" stroke=\"#000000\" d=\"M33.1832,-215.8314C32.4328,-208.131 32.2119,-198.9743 32.5205,-190.4166\"/>\n",
       "<polygon fill=\"#000000\" stroke=\"#000000\" points=\"36.0148,-190.6161 33.1596,-180.4133 29.0291,-190.1697 36.0148,-190.6161\"/>\n",
       "</g>\n",
       "<!-- x_ipythoninput127f0b6e1574f1c_2&#45;&gt;y_ipythoninput127f0b6e1574f1c_3 -->\n",
       "<!-- x_ipythoninput127f0b6e1574f1c_2&#45;&gt;test_ipythoninput1289dbb328efb5b_1 -->\n",
       "<g id=\"edge6\" class=\"edge\">\n",
       "<title>x_ipythoninput127f0b6e1574f1c_2&#45;&gt;test_ipythoninput1289dbb328efb5b_1</title>\n",
       "<path fill=\"none\" stroke=\"#000000\" d=\"M54.3023,-215.6324C61.7402,-205.6747 70.1499,-192.8101 75.1356,-180 82.8185,-160.2599 86.2943,-136.5356 87.8622,-118.4017\"/>\n",
       "<polygon fill=\"#000000\" stroke=\"#000000\" points=\"91.3708,-118.407 88.5975,-108.1816 84.3888,-117.9046 91.3708,-118.407\"/>\n",
       "</g>\n",
       "<!-- test_ipythoninput1289dbb328efb5b_1&#45;&gt;z_ipythoninput1289dbb328efb5b_4 -->\n",
       "<g id=\"edge3\" class=\"edge\">\n",
       "<title>test_ipythoninput1289dbb328efb5b_1&#45;&gt;z_ipythoninput1289dbb328efb5b_4</title>\n",
       "<path fill=\"none\" stroke=\"#c0c0c0\" stroke-dasharray=\"5,2\" d=\"M75.3606,-71.8314C71.2054,-63.9617 66.9484,-54.5712 63.534,-45.8533\"/>\n",
       "<polygon fill=\"#c0c0c0\" stroke=\"#c0c0c0\" points=\"66.8049,-44.6065 60.0876,-36.4133 60.2294,-47.0072 66.8049,-44.6065\"/>\n",
       "</g>\n",
       "<!-- test_ipythoninput1289dbb328efb5b_1&#45;&gt;z_ipythoninput1289dbb328efb5b_4 -->\n",
       "</g>\n",
       "</svg>\n"
      ],
      "text/plain": [
       "<graphviz.dot.Digraph at 0x7fbb1d508390>"
      ]
     },
     "execution_count": 130,
     "metadata": {},
     "output_type": "execute_result"
    }
   ],
   "source": [
    "# ignore\n",
    "_test_data.dependencies().graph()"
   ]
  },
  {
   "cell_type": "markdown",
   "metadata": {
    "slideshow": {
     "slide_type": "subslide"
    }
   },
   "source": [
    "### Calls and Returns"
   ]
  },
  {
   "cell_type": "markdown",
   "metadata": {
    "slideshow": {
     "slide_type": "fragment"
    }
   },
   "source": [
    "To handle complex expressions involving functions, we introduce a _data stack_. Every time we invoke a function `func` (`call()` is invoked), we save the list of current variables read `last_read` on the `data` stack; when we return (`ret()` is invoked), we restore `last_read`. This also ensures that only those variables read while evaluating arguments will flow into the function call."
   ]
  },
  {
   "cell_type": "code",
   "execution_count": 131,
   "metadata": {
    "slideshow": {
     "slide_type": "subslide"
    }
   },
   "outputs": [],
   "source": [
    "class DependencyTracker(DependencyTracker):\n",
    "    def call(self, fun):\n",
    "        # Save context\n",
    "        if self.log:\n",
    "            code_name, lineno = self.caller_location()\n",
    "            print(f\"{code_name}:{lineno}: \"\n",
    "                  f\"saving read variables {self.last_read}\")\n",
    "\n",
    "        self.data.append(self.last_read)\n",
    "        self.clear_read()\n",
    "        self.ignore_next_location_change()\n",
    "\n",
    "        return super().call(fun)\n",
    "\n",
    "    def ret(self, value):\n",
    "        super().ret(value)\n",
    "\n",
    "        # Restore old context and add return value\n",
    "        ret_name = None\n",
    "        for var in self.last_read:\n",
    "            if var.startswith(\"<\"):  # \"<return value>\"\n",
    "                ret_name = var\n",
    "\n",
    "        self.last_read = self.data.pop()\n",
    "        if ret_name is not None:\n",
    "            self.last_read.append(ret_name)\n",
    "        self.ignore_location_change()\n",
    "\n",
    "        if self.log:\n",
    "            code_name, lineno = self.caller_location()\n",
    "            print(f\"{code_name}:{lineno}: \"\n",
    "                  f\"restored read variables {self.last_read}\")\n",
    "\n",
    "        return value"
   ]
  },
  {
   "cell_type": "markdown",
   "metadata": {
    "slideshow": {
     "slide_type": "subslide"
    }
   },
   "source": [
    "We see an example of how these work in conjunction with function arguments, discussed in the next section."
   ]
  },
  {
   "cell_type": "markdown",
   "metadata": {
    "slideshow": {
     "slide_type": "subslide"
    }
   },
   "source": [
    "### Function Arguments"
   ]
  },
  {
   "cell_type": "markdown",
   "metadata": {
    "slideshow": {
     "slide_type": "fragment"
    }
   },
   "source": [
    "Finally, we handle parameters and arguments. The `args` stack holds the current stack of function arguments, holding the `last_read` variable for each argument. When accessing the arguments (with `param()`), we can retrieve this set of read variables for each argument."
   ]
  },
  {
   "cell_type": "code",
   "execution_count": 132,
   "metadata": {
    "slideshow": {
     "slide_type": "subslide"
    }
   },
   "outputs": [],
   "source": [
    "class DependencyTracker(DependencyTracker):\n",
    "    def arg(self, value):\n",
    "        if self.log:\n",
    "            code_name, lineno = self.caller_location()\n",
    "            print(f\"{code_name}:{lineno}: \"\n",
    "                  f\"saving arg reads {self.last_read}\")\n",
    "\n",
    "        self.args.append(self.last_read)\n",
    "        self.clear_read()\n",
    "        return super().arg(value)\n",
    "\n",
    "    def param(self, name, value):\n",
    "        self.clear_read()\n",
    "        if self.args:\n",
    "            self.last_read = self.args.pop()\n",
    "            self.ignore_location_change()\n",
    "\n",
    "        if self.log:\n",
    "            code_name, lineno = self.caller_location()\n",
    "            print(f\"{code_name}:{lineno}: \"\n",
    "                  f\"restored param {self.last_read}\")\n",
    "\n",
    "        return super().param(name, value)"
   ]
  },
  {
   "cell_type": "markdown",
   "metadata": {
    "slideshow": {
     "slide_type": "subslide"
    }
   },
   "source": [
    "Let us illustrate all these on a small example."
   ]
  },
  {
   "cell_type": "code",
   "execution_count": 133,
   "metadata": {
    "slideshow": {
     "slide_type": "fragment"
    }
   },
   "outputs": [],
   "source": [
    "def call_test():\n",
    "    def just_x(x, y):\n",
    "        return x\n",
    "\n",
    "    a = 42\n",
    "    b = 47\n",
    "    return just_x(a, b)"
   ]
  },
  {
   "cell_type": "markdown",
   "metadata": {
    "slideshow": {
     "slide_type": "fragment"
    }
   },
   "source": [
    "We apply all our transformers on this code:"
   ]
  },
  {
   "cell_type": "code",
   "execution_count": 134,
   "metadata": {
    "slideshow": {
     "slide_type": "subslide"
    }
   },
   "outputs": [
    {
     "name": "stdout",
     "output_type": "stream",
     "text": [
      "def call_test():\n",
      "\n",
      "    def just_x(x, y):\n",
      "        _data.param('y', y)\n",
      "        _data.param('x', x)\n",
      "        return _data.set('<just_x() return value>', _data.get('x', x))\n",
      "    a = _data.set('a', 42)\n",
      "    b = _data.set('b', 47)\n",
      "    return _data.set('<call_test() return value>', _data.ret(_data.call(\n",
      "        _data.get('just_x', just_x))(_data.arg(_data.get('a', a)), _data.\n",
      "        arg(_data.get('b', b)))))\n",
      "\n"
     ]
    }
   ],
   "source": [
    "call_tree = ast.parse(inspect.getsource(call_test))\n",
    "TrackCallTransformer().visit(call_tree)\n",
    "TrackSetTransformer().visit(call_tree)\n",
    "TrackGetTransformer().visit(call_tree)\n",
    "TrackControlTransformer().visit(call_tree)\n",
    "TrackReturnTransformer().visit(call_tree)\n",
    "TrackParamsTransformer().visit(call_tree)\n",
    "dump_tree(call_tree)"
   ]
  },
  {
   "cell_type": "markdown",
   "metadata": {
    "slideshow": {
     "slide_type": "subslide"
    }
   },
   "source": [
    "Again, we capture the dependencies:"
   ]
  },
  {
   "cell_type": "code",
   "execution_count": 135,
   "metadata": {
    "slideshow": {
     "slide_type": "fragment"
    }
   },
   "outputs": [],
   "source": [
    "class DependencyTrackerTester(DataTrackerTester):\n",
    "    def make_data_tracker(self):\n",
    "        return DependencyTracker(log=self.log)"
   ]
  },
  {
   "cell_type": "code",
   "execution_count": 136,
   "metadata": {
    "slideshow": {
     "slide_type": "fragment"
    }
   },
   "outputs": [],
   "source": [
    "with DependencyTrackerTester(call_tree, call_test, log=False) as deps:\n",
    "    call_test()"
   ]
  },
  {
   "cell_type": "markdown",
   "metadata": {
    "slideshow": {
     "slide_type": "fragment"
    }
   },
   "source": [
    "We see how `a` and `b` properly flow into `x`, and `y`, respectively, and that only `x` flows into the return value of `just_x()`."
   ]
  },
  {
   "cell_type": "code",
   "execution_count": 137,
   "metadata": {
    "slideshow": {
     "slide_type": "fragment"
    }
   },
   "outputs": [
    {
     "data": {
      "image/svg+xml": [
       "<?xml version=\"1.0\" encoding=\"UTF-8\" standalone=\"no\"?>\n",
       "<!DOCTYPE svg PUBLIC \"-//W3C//DTD SVG 1.1//EN\"\n",
       " \"http://www.w3.org/Graphics/SVG/1.1/DTD/svg11.dtd\">\n",
       "<!-- Generated by graphviz version 2.40.1 (20161225.0304)\n",
       " -->\n",
       "<!-- Title: dependencies Pages: 1 -->\n",
       "<svg width=\"298pt\" height=\"344pt\"\n",
       " viewBox=\"0.00 0.00 297.50 344.00\" xmlns=\"http://www.w3.org/2000/svg\" xmlns:xlink=\"http://www.w3.org/1999/xlink\">\n",
       "<g id=\"graph0\" class=\"graph\" transform=\"scale(1 1) rotate(0) translate(4 340)\">\n",
       "<title>dependencies</title>\n",
       "<polygon fill=\"#ffffff\" stroke=\"transparent\" points=\"-4,4 -4,-340 293.5,-340 293.5,4 -4,4\"/>\n",
       "<!-- call_testreturnvalue_call_test_7 -->\n",
       "<g id=\"node1\" class=\"node\">\n",
       "<title>call_testreturnvalue_call_test_7</title>\n",
       "<g id=\"a_node1\"><a xlink:title=\"call_test:7\">\n",
       "<polygon fill=\"#ffdab9\" stroke=\"#000000\" points=\"235,-40 0,-40 0,0 235,0 235,-40\"/>\n",
       "<text text-anchor=\"start\" x=\"8\" y=\"-25.8\" font-family=\"Fira Mono\" font-weight=\"bold\" font-style=\"italic\" font-size=\"14.00\" fill=\"#000000\">&lt;call_test() return value&gt;</text>\n",
       "<text text-anchor=\"start\" x=\"66\" y=\"-6.8\" font-family=\"Fira Mono\" font-size=\"9.00\" fill=\"#000000\">return just_x(a, b)</text>\n",
       "</a>\n",
       "</g>\n",
       "</g>\n",
       "<!-- just_xreturnvalue_string_3 -->\n",
       "<g id=\"node2\" class=\"node\">\n",
       "<title>just_xreturnvalue_string_3</title>\n",
       "<g id=\"a_node2\"><a xlink:title=\"&lt;string&gt;:3\">\n",
       "<polygon fill=\"#ffdab9\" stroke=\"#000000\" points=\"289.5,-112 79.5,-112 79.5,-76 289.5,-76 289.5,-112\"/>\n",
       "<text text-anchor=\"start\" x=\"87.5\" y=\"-91.3\" font-family=\"Fira Mono\" font-weight=\"bold\" font-style=\"italic\" font-size=\"14.00\" fill=\"#000000\">&lt;just_x() return value&gt;</text>\n",
       "</a>\n",
       "</g>\n",
       "</g>\n",
       "<!-- just_xreturnvalue_string_3&#45;&gt;call_testreturnvalue_call_test_7 -->\n",
       "<g id=\"edge1\" class=\"edge\">\n",
       "<title>just_xreturnvalue_string_3&#45;&gt;call_testreturnvalue_call_test_7</title>\n",
       "<path fill=\"none\" stroke=\"#000000\" d=\"M167.9382,-75.7079C160.3091,-67.2816 151.0894,-57.0988 142.6305,-47.756\"/>\n",
       "<polygon fill=\"#000000\" stroke=\"#000000\" points=\"145.0618,-45.2267 135.7555,-40.1628 139.8727,-49.9249 145.0618,-45.2267\"/>\n",
       "</g>\n",
       "<!-- b_call_test_6 -->\n",
       "<g id=\"node3\" class=\"node\">\n",
       "<title>b_call_test_6</title>\n",
       "<g id=\"a_node3\"><a xlink:title=\"call_test:6\">\n",
       "<polygon fill=\"#ffdab9\" stroke=\"#000000\" points=\"139.5,-260 85.5,-260 85.5,-220 139.5,-220 139.5,-260\"/>\n",
       "<text text-anchor=\"start\" x=\"108\" y=\"-245.8\" font-family=\"Fira Mono\" font-weight=\"bold\" font-size=\"14.00\" fill=\"#000000\">b</text>\n",
       "<text text-anchor=\"start\" x=\"96\" y=\"-226.8\" font-family=\"Fira Mono\" font-size=\"9.00\" fill=\"#000000\">b = 47</text>\n",
       "</a>\n",
       "</g>\n",
       "</g>\n",
       "<!-- b_call_test_6&#45;&gt;call_testreturnvalue_call_test_7 -->\n",
       "<!-- y_string_2 -->\n",
       "<g id=\"node4\" class=\"node\">\n",
       "<title>y_string_2</title>\n",
       "<g id=\"a_node4\"><a xlink:title=\"&lt;string&gt;:2\">\n",
       "<polygon fill=\"#ffdab9\" stroke=\"#000000\" points=\"139.5,-184 85.5,-184 85.5,-148 139.5,-148 139.5,-184\"/>\n",
       "<text text-anchor=\"start\" x=\"108\" y=\"-163.3\" font-family=\"Fira Mono\" font-weight=\"bold\" font-size=\"14.00\" fill=\"#000000\">y</text>\n",
       "</a>\n",
       "</g>\n",
       "</g>\n",
       "<!-- b_call_test_6&#45;&gt;y_string_2 -->\n",
       "<g id=\"edge2\" class=\"edge\">\n",
       "<title>b_call_test_6&#45;&gt;y_string_2</title>\n",
       "<path fill=\"none\" stroke=\"#000000\" d=\"M112.5,-219.7792C112.5,-211.9561 112.5,-202.8633 112.5,-194.4049\"/>\n",
       "<polygon fill=\"#000000\" stroke=\"#000000\" points=\"116.0001,-194.1735 112.5,-184.1735 109.0001,-194.1735 116.0001,-194.1735\"/>\n",
       "</g>\n",
       "<!-- y_string_2&#45;&gt;just_xreturnvalue_string_3 -->\n",
       "<!-- x_string_2 -->\n",
       "<g id=\"node5\" class=\"node\">\n",
       "<title>x_string_2</title>\n",
       "<g id=\"a_node5\"><a xlink:title=\"&lt;string&gt;:2\">\n",
       "<polygon fill=\"#ffdab9\" stroke=\"#000000\" points=\"211.5,-184 157.5,-184 157.5,-148 211.5,-148 211.5,-184\"/>\n",
       "<text text-anchor=\"start\" x=\"180\" y=\"-163.3\" font-family=\"Fira Mono\" font-weight=\"bold\" font-size=\"14.00\" fill=\"#000000\">x</text>\n",
       "</a>\n",
       "</g>\n",
       "</g>\n",
       "<!-- x_string_2&#45;&gt;just_xreturnvalue_string_3 -->\n",
       "<g id=\"edge4\" class=\"edge\">\n",
       "<title>x_string_2&#45;&gt;just_xreturnvalue_string_3</title>\n",
       "<path fill=\"none\" stroke=\"#000000\" d=\"M184.5,-147.8314C184.5,-140.131 184.5,-130.9743 184.5,-122.4166\"/>\n",
       "<polygon fill=\"#000000\" stroke=\"#000000\" points=\"188.0001,-122.4132 184.5,-112.4133 181.0001,-122.4133 188.0001,-122.4132\"/>\n",
       "</g>\n",
       "<!-- a_call_test_5 -->\n",
       "<g id=\"node6\" class=\"node\">\n",
       "<title>a_call_test_5</title>\n",
       "<g id=\"a_node6\"><a xlink:title=\"call_test:5\">\n",
       "<polygon fill=\"#ffdab9\" stroke=\"#000000\" points=\"166.5,-336 112.5,-336 112.5,-296 166.5,-296 166.5,-336\"/>\n",
       "<text text-anchor=\"start\" x=\"135\" y=\"-321.8\" font-family=\"Fira Mono\" font-weight=\"bold\" font-size=\"14.00\" fill=\"#000000\">a</text>\n",
       "<text text-anchor=\"start\" x=\"123\" y=\"-302.8\" font-family=\"Fira Mono\" font-size=\"9.00\" fill=\"#000000\">a = 42</text>\n",
       "</a>\n",
       "</g>\n",
       "</g>\n",
       "<!-- a_call_test_5&#45;&gt;b_call_test_6 -->\n",
       "<!-- a_call_test_5&#45;&gt;x_string_2 -->\n",
       "<g id=\"edge3\" class=\"edge\">\n",
       "<title>a_call_test_5&#45;&gt;x_string_2</title>\n",
       "<path fill=\"none\" stroke=\"#000000\" d=\"M145.5689,-295.7703C153.4662,-269.4459 167.3017,-223.3276 176.175,-193.7501\"/>\n",
       "<polygon fill=\"#000000\" stroke=\"#000000\" points=\"179.5676,-194.6216 179.0887,-184.0376 172.8628,-192.6101 179.5676,-194.6216\"/>\n",
       "</g>\n",
       "</g>\n",
       "</svg>\n"
      ],
      "text/plain": [
       "<graphviz.dot.Digraph at 0x7fbb1d4afb38>"
      ]
     },
     "execution_count": 137,
     "metadata": {},
     "output_type": "execute_result"
    }
   ],
   "source": [
    "deps.dependencies().graph()"
   ]
  },
  {
   "cell_type": "markdown",
   "metadata": {
    "slideshow": {
     "slide_type": "fragment"
    }
   },
   "source": [
    "(Note that the Python `inspect` module cannot get the source code of \"inner\" functions such as `just_x()`; hence, the variables and return values of `just_x()` are listed without locations.)"
   ]
  },
  {
   "cell_type": "markdown",
   "metadata": {
    "slideshow": {
     "slide_type": "subslide"
    }
   },
   "source": [
    "### Diagnostics"
   ]
  },
  {
   "cell_type": "markdown",
   "metadata": {
    "slideshow": {
     "slide_type": "fragment"
    }
   },
   "source": [
    "To check the dependencies we obtain, we perform some minimal checks on whether a referenced variable actually also occurs in the source code."
   ]
  },
  {
   "cell_type": "code",
   "execution_count": 138,
   "metadata": {
    "slideshow": {
     "slide_type": "skip"
    }
   },
   "outputs": [],
   "source": [
    "import re\n",
    "import sys"
   ]
  },
  {
   "cell_type": "code",
   "execution_count": 139,
   "metadata": {
    "ipub": {
     "ignore": true
    },
    "slideshow": {
     "slide_type": "subslide"
    }
   },
   "outputs": [],
   "source": [
    "class Dependencies(Dependencies):\n",
    "    def validate(self):\n",
    "        super().validate()\n",
    "\n",
    "        for var in self.all_vars():\n",
    "            source = self.source(var)\n",
    "            if not source:\n",
    "                continue\n",
    "\n",
    "            for dep_var in self.data[var] | self.control[var]:\n",
    "                dep_name, dep_location = dep_var\n",
    "\n",
    "                if dep_name == DependencyTracker.TEST:\n",
    "                    continue\n",
    "\n",
    "                if dep_name.endswith('return value>'):\n",
    "                    if source.find('(') < 0:\n",
    "                        print(f\"Warning: {self.format_var(var)} \"\n",
    "                              f\"depends on {self.format_var(dep_var)}, \"\n",
    "                              f\"but {repr(source)} does not \"\n",
    "                              f\"seem to have a call\",\n",
    "                              file=sys.stderr\n",
    "                             )\n",
    "                    continue\n",
    "\n",
    "                if source.startswith('def'):\n",
    "                    continue   # function call\n",
    "\n",
    "                rx = re.compile(r'\\b' + dep_name + r'\\b')\n",
    "                if rx.search(source) is None:\n",
    "                    print(f\"Warning: {self.format_var(var)} \"\n",
    "                          f\"depends on {self.format_var(dep_var)}, \"\n",
    "                          f\"but {repr(dep_name)} does not occur \"\n",
    "                          f\"in {repr(source)}\",\n",
    "                          file=sys.stderr\n",
    "                         )"
   ]
  },
  {
   "cell_type": "markdown",
   "metadata": {
    "slideshow": {
     "slide_type": "slide"
    }
   },
   "source": [
    "## Slicing Code"
   ]
  },
  {
   "cell_type": "markdown",
   "metadata": {
    "slideshow": {
     "slide_type": "fragment"
    }
   },
   "source": [
    "Let us now put all these pieces together. We have a means to instrument the source code (our various `NodeTransformer` classes) and a means to track dependencies (the `DependencyTracker` class).\n",
    "\n",
    "TODO: Discuss things."
   ]
  },
  {
   "cell_type": "code",
   "execution_count": 140,
   "metadata": {
    "slideshow": {
     "slide_type": "subslide"
    }
   },
   "outputs": [],
   "source": [
    "class Instrumenter(object):\n",
    "    def __init__(self, *items_to_instrument, log=False):\n",
    "        self.log = log\n",
    "        self.items_to_instrument = items_to_instrument\n",
    "\n",
    "    def __enter__(self):\n",
    "        \"\"\"Instrument sources\"\"\"\n",
    "        for item in self.items_to_instrument:\n",
    "            self.instrument(item)\n",
    "        return self\n",
    "\n",
    "    def instrument(self, item):\n",
    "        if self.log:\n",
    "            print(\"Instrumenting\", item)"
   ]
  },
  {
   "cell_type": "code",
   "execution_count": 141,
   "metadata": {
    "slideshow": {
     "slide_type": "subslide"
    }
   },
   "outputs": [],
   "source": [
    "class Instrumenter(Instrumenter):\n",
    "    def __exit__(self, exc_type, exc_value, traceback):\n",
    "        \"\"\"Restore sources\"\"\"\n",
    "        self.restore()\n",
    "\n",
    "    def restore(self):\n",
    "        for item in self.items_to_instrument:\n",
    "            globals()[item.__name__] = item"
   ]
  },
  {
   "cell_type": "code",
   "execution_count": 142,
   "metadata": {
    "slideshow": {
     "slide_type": "fragment"
    }
   },
   "outputs": [],
   "source": [
    "with Instrumenter(middle) as ins:\n",
    "    pass"
   ]
  },
  {
   "cell_type": "code",
   "execution_count": 143,
   "metadata": {
    "slideshow": {
     "slide_type": "subslide"
    }
   },
   "outputs": [],
   "source": [
    "class Slicer(Instrumenter):\n",
    "    def __init__(self, *items_to_instrument, \n",
    "                 dependency_tracker=None,\n",
    "                 log=False):\n",
    "        super().__init__(*items_to_instrument, log=log)\n",
    "        if len(items_to_instrument) == 0:\n",
    "            raise ValueError(\"Need one or more items to instrument\")\n",
    "\n",
    "        if dependency_tracker is None:\n",
    "            dependency_tracker = DependencyTracker(log=(log > 1))\n",
    "        self.dependency_tracker = dependency_tracker\n",
    "        self.saved_dependencies = None"
   ]
  },
  {
   "cell_type": "code",
   "execution_count": 144,
   "metadata": {
    "slideshow": {
     "slide_type": "subslide"
    }
   },
   "outputs": [],
   "source": [
    "class Slicer(Slicer):\n",
    "    def transformers(self):\n",
    "        \"\"\"List of transformers to apply. To be extended in subclasses.\"\"\"\n",
    "        return [\n",
    "            TrackCallTransformer(),\n",
    "            TrackSetTransformer(),\n",
    "            TrackGetTransformer(),\n",
    "            TrackControlTransformer(),\n",
    "            TrackReturnTransformer(),\n",
    "            TrackParamsTransformer()\n",
    "        ]\n",
    "\n",
    "    def instrument(self, item):\n",
    "        \"\"\"Instrument ITEM, transforming its source code using.\"\"\"\n",
    "        source_lines, lineno = inspect.getsourcelines(item)\n",
    "        tree = ast.parse(\"\".join(source_lines))\n",
    "        ast.increment_lineno(tree, lineno - 1)\n",
    "\n",
    "        if self.log:\n",
    "            print(f\"Instrumenting {item}:\")\n",
    "\n",
    "            if self.log >= 2:\n",
    "                n = lineno\n",
    "                for line in source_lines:\n",
    "                    print(f\"{n:4} {line.rstrip()}\")\n",
    "                    n += 1\n",
    "                print()\n",
    "\n",
    "        for transformer in self.transformers():\n",
    "            if self.log >= 3:\n",
    "                print(transformer.__class__.__name__ + ':')\n",
    "\n",
    "            transformer.visit(tree)\n",
    "            ast.fix_missing_locations(tree)\n",
    "            if self.log >= 3:\n",
    "                print(astor.to_source(tree))\n",
    "\n",
    "        if self.log:\n",
    "            print(astor.to_source(tree))\n",
    "\n",
    "        code = compile(tree, '<string>', 'exec')\n",
    "        exec(code, globals())\n",
    "        globals()[DATA_TRACKER] = self.dependency_tracker\n",
    "\n",
    "    def restore(self):\n",
    "        \"\"\"Restore original code.\"\"\"\n",
    "        if DATA_TRACKER in globals():\n",
    "            self.saved_dependencies = globals()[DATA_TRACKER]\n",
    "            del globals()[DATA_TRACKER]\n",
    "        super().restore()"
   ]
  },
  {
   "cell_type": "code",
   "execution_count": 145,
   "metadata": {
    "slideshow": {
     "slide_type": "subslide"
    }
   },
   "outputs": [],
   "source": [
    "class Slicer(Slicer):\n",
    "    def dependencies(self):\n",
    "        if self.saved_dependencies is None:\n",
    "            return Dependencies({}, {})\n",
    "        return self.saved_dependencies.dependencies()\n",
    "\n",
    "    def code(self, *args, **kwargs):\n",
    "        first = True\n",
    "        for item in self.items_to_instrument:\n",
    "            if not first:\n",
    "                print()\n",
    "            self.dependencies().code(item, *args, **kwargs)\n",
    "            first = False\n",
    "\n",
    "    def graph(self, *args, **kwargs):\n",
    "        return self.dependencies().graph(*args, **kwargs)"
   ]
  },
  {
   "cell_type": "code",
   "execution_count": 146,
   "metadata": {
    "slideshow": {
     "slide_type": "subslide"
    }
   },
   "outputs": [
    {
     "data": {
      "text/plain": [
       "1"
      ]
     },
     "execution_count": 146,
     "metadata": {},
     "output_type": "execute_result"
    }
   ],
   "source": [
    "with Slicer(middle) as slicer:\n",
    "    m = middle(2, 1, 3)\n",
    "m"
   ]
  },
  {
   "cell_type": "code",
   "execution_count": 147,
   "metadata": {
    "slideshow": {
     "slide_type": "fragment"
    }
   },
   "outputs": [
    {
     "name": "stdout",
     "output_type": "stream",
     "text": [
      "middle():\n",
      "    <test> (2) <= z (1), y (1)\n",
      "    <test> (3) <= x (1), y (1); <- <test> (2)\n",
      "    <test> (5) <= x (1), z (1); <- <test> (3)\n",
      "    <middle() return value> (6) <= y (1); <- <test> (5)\n",
      "\n"
     ]
    }
   ],
   "source": [
    "print(slicer.dependencies())"
   ]
  },
  {
   "cell_type": "code",
   "execution_count": 148,
   "metadata": {
    "slideshow": {
     "slide_type": "fragment"
    }
   },
   "outputs": [
    {
     "data": {
      "text/plain": [
       "Dependencies({('z', ('middle', 1)): set(), ('y', ('middle', 1)): set(), ('x', ('middle', 1)): set(), ('<test>', ('middle', 2)): {('z', ('middle', 1)), ('y', ('middle', 1))}, ('<test>', ('middle', 3)): {('x', ('middle', 1)), ('y', ('middle', 1))}, ('<test>', ('middle', 5)): {('x', ('middle', 1)), ('z', ('middle', 1))}, ('<middle() return value>', ('middle', 6)): {('y', ('middle', 1))}}, {('z', ('middle', 1)): set(), ('y', ('middle', 1)): set(), ('x', ('middle', 1)): set(), ('<test>', ('middle', 2)): set(), ('<test>', ('middle', 3)): {('<test>', ('middle', 2))}, ('<test>', ('middle', 5)): {('<test>', ('middle', 3))}, ('<middle() return value>', ('middle', 6)): {('<test>', ('middle', 5))}})"
      ]
     },
     "execution_count": 148,
     "metadata": {},
     "output_type": "execute_result"
    }
   ],
   "source": [
    "slicer.dependencies()"
   ]
  },
  {
   "cell_type": "code",
   "execution_count": 149,
   "metadata": {
    "slideshow": {
     "slide_type": "subslide"
    }
   },
   "outputs": [
    {
     "name": "stdout",
     "output_type": "stream",
     "text": [
      "*    1 \u001b[34mdef\u001b[39;49;00m \u001b[32mmiddle\u001b[39;49;00m(x, y, z):\n",
      "*    2     \u001b[34mif\u001b[39;49;00m y < z:  \u001b[37m# <= z (1), y (1)\u001b[39;49;00m\n",
      "*    3         \u001b[34mif\u001b[39;49;00m x < y:  \u001b[37m# <= x (1), y (1); <- <test> (2)\u001b[39;49;00m\n",
      "     4             \u001b[34mreturn\u001b[39;49;00m y\n",
      "*    5         \u001b[34melif\u001b[39;49;00m x < z:  \u001b[37m# <= x (1), z (1); <- <test> (3)\u001b[39;49;00m\n",
      "*    6             \u001b[34mreturn\u001b[39;49;00m y  \u001b[37m# <= y (1); <- <test> (5)\u001b[39;49;00m\n",
      "     7     \u001b[34melse\u001b[39;49;00m:\n",
      "     8         \u001b[34mif\u001b[39;49;00m x > y:\n",
      "     9             \u001b[34mreturn\u001b[39;49;00m y\n",
      "    10         \u001b[34melif\u001b[39;49;00m x > z:\n",
      "    11             \u001b[34mreturn\u001b[39;49;00m x\n",
      "    12     \u001b[34mreturn\u001b[39;49;00m z\n"
     ]
    }
   ],
   "source": [
    "slicer.code()"
   ]
  },
  {
   "cell_type": "code",
   "execution_count": 150,
   "metadata": {
    "slideshow": {
     "slide_type": "subslide"
    }
   },
   "outputs": [
    {
     "data": {
      "text/plain": [
       "1"
      ]
     },
     "execution_count": 150,
     "metadata": {},
     "output_type": "execute_result"
    }
   ],
   "source": [
    "middle(2, 1, 3)"
   ]
  },
  {
   "cell_type": "code",
   "execution_count": 151,
   "metadata": {
    "slideshow": {
     "slide_type": "fragment"
    }
   },
   "outputs": [],
   "source": [
    "with Slicer(middle) as middle_slicer:\n",
    "    y = middle(2, 1, 3)"
   ]
  },
  {
   "cell_type": "code",
   "execution_count": 152,
   "metadata": {
    "slideshow": {
     "slide_type": "fragment"
    }
   },
   "outputs": [
    {
     "data": {
      "image/svg+xml": [
       "<?xml version=\"1.0\" encoding=\"UTF-8\" standalone=\"no\"?>\n",
       "<!DOCTYPE svg PUBLIC \"-//W3C//DTD SVG 1.1//EN\"\n",
       " \"http://www.w3.org/Graphics/SVG/1.1/DTD/svg11.dtd\">\n",
       "<!-- Generated by graphviz version 2.40.1 (20161225.0304)\n",
       " -->\n",
       "<!-- Title: dependencies Pages: 1 -->\n",
       "<svg width=\"332pt\" height=\"352pt\"\n",
       " viewBox=\"0.00 0.00 332.38 352.00\" xmlns=\"http://www.w3.org/2000/svg\" xmlns:xlink=\"http://www.w3.org/1999/xlink\">\n",
       "<g id=\"graph0\" class=\"graph\" transform=\"scale(1 1) rotate(0) translate(4 348)\">\n",
       "<title>dependencies</title>\n",
       "<polygon fill=\"#ffffff\" stroke=\"transparent\" points=\"-4,4 -4,-348 328.3796,-348 328.3796,4 -4,4\"/>\n",
       "<!-- x_middle_1 -->\n",
       "<g id=\"node1\" class=\"node\">\n",
       "<title>x_middle_1</title>\n",
       "<g id=\"a_node1\"><a xlink:title=\"middle:1\">\n",
       "<polygon fill=\"#ffdab9\" stroke=\"#000000\" points=\"309,-268 184,-268 184,-228 309,-228 309,-268\"/>\n",
       "<text text-anchor=\"start\" x=\"242\" y=\"-253.8\" font-family=\"Fira Mono\" font-weight=\"bold\" font-size=\"14.00\" fill=\"#000000\">x</text>\n",
       "<text text-anchor=\"start\" x=\"192\" y=\"-234.8\" font-family=\"Fira Mono\" font-size=\"9.00\" fill=\"#000000\">def middle(x, y, z):</text>\n",
       "</a>\n",
       "</g>\n",
       "</g>\n",
       "<!-- test_middle_5 -->\n",
       "<g id=\"node3\" class=\"node\">\n",
       "<title>test_middle_5</title>\n",
       "<g id=\"a_node3\"><a xlink:title=\"middle:5\">\n",
       "<polygon fill=\"#ffdab9\" stroke=\"#000000\" points=\"193.5,-116 117.5,-116 117.5,-76 193.5,-76 193.5,-116\"/>\n",
       "<text text-anchor=\"start\" x=\"130\" y=\"-101.8\" font-family=\"Fira Mono\" font-weight=\"bold\" font-style=\"italic\" font-size=\"14.00\" fill=\"#000000\">&lt;test&gt;</text>\n",
       "<text text-anchor=\"start\" x=\"125.5\" y=\"-82.8\" font-family=\"Fira Mono\" font-size=\"9.00\" fill=\"#000000\">elif x &lt; z:</text>\n",
       "</a>\n",
       "</g>\n",
       "</g>\n",
       "<!-- x_middle_1&#45;&gt;test_middle_5 -->\n",
       "<g id=\"edge1\" class=\"edge\">\n",
       "<title>x_middle_1&#45;&gt;test_middle_5</title>\n",
       "<path fill=\"none\" stroke=\"#000000\" d=\"M237.8185,-227.9136C228.9283,-208.0647 214.2188,-177.1143 198.5,-152 192.5861,-142.5513 185.4478,-132.749 178.7012,-124.0367\"/>\n",
       "<polygon fill=\"#000000\" stroke=\"#000000\" points=\"181.35,-121.7435 172.4056,-116.0648 175.8565,-126.0819 181.35,-121.7435\"/>\n",
       "</g>\n",
       "<!-- test_middle_3 -->\n",
       "<g id=\"node5\" class=\"node\">\n",
       "<title>test_middle_3</title>\n",
       "<g id=\"a_node5\"><a xlink:title=\"middle:3\">\n",
       "<polygon fill=\"#ffdab9\" stroke=\"#000000\" points=\"189,-192 122,-192 122,-152 189,-152 189,-192\"/>\n",
       "<text text-anchor=\"start\" x=\"130\" y=\"-177.8\" font-family=\"Fira Mono\" font-weight=\"bold\" font-style=\"italic\" font-size=\"14.00\" fill=\"#000000\">&lt;test&gt;</text>\n",
       "<text text-anchor=\"start\" x=\"131\" y=\"-158.8\" font-family=\"Fira Mono\" font-size=\"9.00\" fill=\"#000000\">if x &lt; y:</text>\n",
       "</a>\n",
       "</g>\n",
       "</g>\n",
       "<!-- x_middle_1&#45;&gt;test_middle_3 -->\n",
       "<g id=\"edge4\" class=\"edge\">\n",
       "<title>x_middle_1&#45;&gt;test_middle_3</title>\n",
       "<path fill=\"none\" stroke=\"#000000\" d=\"M222.1137,-227.6334C211.5226,-218.7881 198.9703,-208.3049 187.6332,-198.8365\"/>\n",
       "<polygon fill=\"#000000\" stroke=\"#000000\" points=\"189.557,-195.8831 179.6381,-192.1593 185.0699,-201.2558 189.557,-195.8831\"/>\n",
       "</g>\n",
       "<!-- y_middle_1 -->\n",
       "<g id=\"node2\" class=\"node\">\n",
       "<title>y_middle_1</title>\n",
       "<g id=\"a_node2\"><a xlink:title=\"middle:1\">\n",
       "<polygon fill=\"#ffdab9\" stroke=\"#000000\" points=\"268,-344 143,-344 143,-304 268,-304 268,-344\"/>\n",
       "<text text-anchor=\"start\" x=\"201\" y=\"-329.8\" font-family=\"Fira Mono\" font-weight=\"bold\" font-size=\"14.00\" fill=\"#000000\">y</text>\n",
       "<text text-anchor=\"start\" x=\"151\" y=\"-310.8\" font-family=\"Fira Mono\" font-size=\"9.00\" fill=\"#000000\">def middle(x, y, z):</text>\n",
       "</a>\n",
       "</g>\n",
       "</g>\n",
       "<!-- y_middle_1&#45;&gt;test_middle_3 -->\n",
       "<g id=\"edge5\" class=\"edge\">\n",
       "<title>y_middle_1&#45;&gt;test_middle_3</title>\n",
       "<path fill=\"none\" stroke=\"#000000\" d=\"M192.9234,-303.9105C186.8953,-293.5214 180.021,-280.4392 175.5,-268 167.7475,-246.6693 162.6456,-221.5211 159.536,-202.3158\"/>\n",
       "<polygon fill=\"#000000\" stroke=\"#000000\" points=\"162.9791,-201.6765 158.0093,-192.3196 156.0593,-202.7335 162.9791,-201.6765\"/>\n",
       "</g>\n",
       "<!-- test_middle_2 -->\n",
       "<g id=\"node6\" class=\"node\">\n",
       "<title>test_middle_2</title>\n",
       "<g id=\"a_node6\"><a xlink:title=\"middle:2\">\n",
       "<polygon fill=\"#ffdab9\" stroke=\"#000000\" points=\"127,-268 60,-268 60,-228 127,-228 127,-268\"/>\n",
       "<text text-anchor=\"start\" x=\"68\" y=\"-253.8\" font-family=\"Fira Mono\" font-weight=\"bold\" font-style=\"italic\" font-size=\"14.00\" fill=\"#000000\">&lt;test&gt;</text>\n",
       "<text text-anchor=\"start\" x=\"69\" y=\"-234.8\" font-family=\"Fira Mono\" font-size=\"9.00\" fill=\"#000000\">if y &lt; z:</text>\n",
       "</a>\n",
       "</g>\n",
       "</g>\n",
       "<!-- y_middle_1&#45;&gt;test_middle_2 -->\n",
       "<g id=\"edge10\" class=\"edge\">\n",
       "<title>y_middle_1&#45;&gt;test_middle_2</title>\n",
       "<path fill=\"none\" stroke=\"#000000\" d=\"M175.7801,-303.8329C162.3633,-294.7287 146.3436,-283.8582 132.0198,-274.1384\"/>\n",
       "<polygon fill=\"#000000\" stroke=\"#000000\" points=\"133.5988,-270.9802 123.3588,-268.2613 129.6683,-276.7725 133.5988,-270.9802\"/>\n",
       "</g>\n",
       "<!-- middlereturnvalue_middle_6 -->\n",
       "<g id=\"node7\" class=\"node\">\n",
       "<title>middlereturnvalue_middle_6</title>\n",
       "<g id=\"a_node7\"><a xlink:title=\"middle:6\">\n",
       "<polygon fill=\"#ffdab9\" stroke=\"#000000\" points=\"260.5,-40 50.5,-40 50.5,0 260.5,0 260.5,-40\"/>\n",
       "<text text-anchor=\"start\" x=\"58.5\" y=\"-25.8\" font-family=\"Fira Mono\" font-weight=\"bold\" font-style=\"italic\" font-size=\"14.00\" fill=\"#000000\">&lt;middle() return value&gt;</text>\n",
       "<text text-anchor=\"start\" x=\"133.5\" y=\"-6.8\" font-family=\"Fira Mono\" font-size=\"9.00\" fill=\"#000000\">return y</text>\n",
       "</a>\n",
       "</g>\n",
       "</g>\n",
       "<!-- y_middle_1&#45;&gt;middlereturnvalue_middle_6 -->\n",
       "<g id=\"edge7\" class=\"edge\">\n",
       "<title>y_middle_1&#45;&gt;middlereturnvalue_middle_6</title>\n",
       "<path fill=\"none\" stroke=\"#000000\" d=\"M268.2745,-307.301C287.7797,-298.8394 307.1293,-286.3255 318.5,-268 327.8731,-252.8939 324.1923,-244.8418 318.5,-228 292.8843,-152.2115 226.5381,-83.1646 186.8337,-46.8386\"/>\n",
       "<polygon fill=\"#000000\" stroke=\"#000000\" points=\"189.0387,-44.1142 179.268,-40.0174 184.3514,-49.3131 189.0387,-44.1142\"/>\n",
       "</g>\n",
       "<!-- test_middle_5&#45;&gt;middlereturnvalue_middle_6 -->\n",
       "<g id=\"edge8\" class=\"edge\">\n",
       "<title>test_middle_5&#45;&gt;middlereturnvalue_middle_6</title>\n",
       "<path fill=\"none\" stroke=\"#c0c0c0\" stroke-dasharray=\"5,2\" d=\"M149.4426,-75.6334C148.7819,-67.8186 148.5939,-58.7253 148.8786,-50.183\"/>\n",
       "<polygon fill=\"#c0c0c0\" stroke=\"#c0c0c0\" points=\"152.375,-50.3453 149.4602,-40.1593 145.3867,-49.9397 152.375,-50.3453\"/>\n",
       "</g>\n",
       "<!-- test_middle_5&#45;&gt;middlereturnvalue_middle_6 -->\n",
       "<!-- z_middle_1 -->\n",
       "<g id=\"node4\" class=\"node\">\n",
       "<title>z_middle_1</title>\n",
       "<g id=\"a_node4\"><a xlink:title=\"middle:1\">\n",
       "<polygon fill=\"#ffdab9\" stroke=\"#000000\" points=\"125,-344 0,-344 0,-304 125,-304 125,-344\"/>\n",
       "<text text-anchor=\"start\" x=\"58\" y=\"-329.8\" font-family=\"Fira Mono\" font-weight=\"bold\" font-size=\"14.00\" fill=\"#000000\">z</text>\n",
       "<text text-anchor=\"start\" x=\"8\" y=\"-310.8\" font-family=\"Fira Mono\" font-size=\"9.00\" fill=\"#000000\">def middle(x, y, z):</text>\n",
       "</a>\n",
       "</g>\n",
       "</g>\n",
       "<!-- z_middle_1&#45;&gt;test_middle_5 -->\n",
       "<g id=\"edge2\" class=\"edge\">\n",
       "<title>z_middle_1&#45;&gt;test_middle_5</title>\n",
       "<path fill=\"none\" stroke=\"#000000\" d=\"M54.8447,-303.9561C48.4566,-284.1394 41.6951,-253.213 50.5,-228 65.1113,-186.1604 99.1443,-147.6566 124.5286,-123.1675\"/>\n",
       "<polygon fill=\"#000000\" stroke=\"#000000\" points=\"127.2239,-125.4365 132.0977,-116.0291 122.4212,-120.3439 127.2239,-125.4365\"/>\n",
       "</g>\n",
       "<!-- z_middle_1&#45;&gt;test_middle_2 -->\n",
       "<g id=\"edge9\" class=\"edge\">\n",
       "<title>z_middle_1&#45;&gt;test_middle_2</title>\n",
       "<path fill=\"none\" stroke=\"#000000\" d=\"M64.75,-303.6334C67.3603,-295.561 71.0313,-286.1244 74.9407,-277.34\"/>\n",
       "<polygon fill=\"#000000\" stroke=\"#000000\" points=\"78.1684,-278.7001 79.2373,-268.1593 71.8284,-275.7328 78.1684,-278.7001\"/>\n",
       "</g>\n",
       "<!-- z_middle_1&#45;&gt;test_middle_2 -->\n",
       "<!-- test_middle_3&#45;&gt;test_middle_5 -->\n",
       "<g id=\"edge3\" class=\"edge\">\n",
       "<title>test_middle_3&#45;&gt;test_middle_5</title>\n",
       "<path fill=\"none\" stroke=\"#c0c0c0\" stroke-dasharray=\"5,2\" d=\"M149.4426,-151.6334C148.7819,-143.8186 148.5939,-134.7253 148.8786,-126.183\"/>\n",
       "<polygon fill=\"#c0c0c0\" stroke=\"#c0c0c0\" points=\"152.375,-126.3453 149.4602,-116.1593 145.3867,-125.9397 152.375,-126.3453\"/>\n",
       "</g>\n",
       "<!-- test_middle_3&#45;&gt;test_middle_5 -->\n",
       "<!-- test_middle_2&#45;&gt;test_middle_3 -->\n",
       "<g id=\"edge6\" class=\"edge\">\n",
       "<title>test_middle_2&#45;&gt;test_middle_3</title>\n",
       "<path fill=\"none\" stroke=\"#c0c0c0\" stroke-dasharray=\"5,2\" d=\"M104.0574,-227.6334C110.3372,-219.0457 118.4472,-208.9142 126.407,-199.6663\"/>\n",
       "<polygon fill=\"#c0c0c0\" stroke=\"#c0c0c0\" points=\"129.0347,-201.9783 133.0145,-192.1593 123.7802,-197.3534 129.0347,-201.9783\"/>\n",
       "</g>\n",
       "<!-- test_middle_2&#45;&gt;test_middle_3 -->\n",
       "</g>\n",
       "</svg>\n"
      ],
      "text/plain": [
       "<graphviz.dot.Digraph at 0x7fbb1d4e8b70>"
      ]
     },
     "execution_count": 152,
     "metadata": {},
     "output_type": "execute_result"
    }
   ],
   "source": [
    "middle_slicer.graph()"
   ]
  },
  {
   "cell_type": "code",
   "execution_count": 153,
   "metadata": {
    "slideshow": {
     "slide_type": "fragment"
    }
   },
   "outputs": [
    {
     "name": "stdout",
     "output_type": "stream",
     "text": [
      "middle():\n",
      "    <test> (2) <= z (1), y (1)\n",
      "    <test> (3) <= x (1), y (1); <- <test> (2)\n",
      "    <test> (5) <= x (1), z (1); <- <test> (3)\n",
      "    <middle() return value> (6) <= y (1); <- <test> (5)\n",
      "\n"
     ]
    }
   ],
   "source": [
    "print(middle_slicer.dependencies())"
   ]
  },
  {
   "cell_type": "markdown",
   "metadata": {
    "slideshow": {
     "slide_type": "slide"
    }
   },
   "source": [
    "## More Examples"
   ]
  },
  {
   "cell_type": "code",
   "execution_count": 154,
   "metadata": {
    "slideshow": {
     "slide_type": "skip"
    }
   },
   "outputs": [],
   "source": [
    "import math"
   ]
  },
  {
   "cell_type": "code",
   "execution_count": 155,
   "metadata": {
    "slideshow": {
     "slide_type": "fragment"
    }
   },
   "outputs": [],
   "source": [
    "def f():\n",
    "    math.isclose"
   ]
  },
  {
   "cell_type": "code",
   "execution_count": 156,
   "metadata": {
    "slideshow": {
     "slide_type": "fragment"
    }
   },
   "outputs": [
    {
     "name": "stdout",
     "output_type": "stream",
     "text": [
      "Instrumenting <function f at 0x7fbb1d5492f0>:\n",
      "   1 def f():\n",
      "   2     math.isclose\n",
      "\n",
      "def f():\n",
      "    _data.get('math', math).isclose\n",
      "\n",
      "f:2: clearing read variables [] (from check_location)\n",
      "f:2: getting math\n"
     ]
    }
   ],
   "source": [
    "with Slicer(f, log=2) as f_slicer:\n",
    "    f()"
   ]
  },
  {
   "cell_type": "code",
   "execution_count": 157,
   "metadata": {
    "slideshow": {
     "slide_type": "skip"
    }
   },
   "outputs": [],
   "source": [
    "from Assertions import square_root"
   ]
  },
  {
   "cell_type": "code",
   "execution_count": 158,
   "metadata": {
    "slideshow": {
     "slide_type": "subslide"
    }
   },
   "outputs": [
    {
     "name": "stdout",
     "output_type": "stream",
     "text": [
      "Instrumenting <function square_root at 0x7fbb1d50fa60>:\n",
      "def square_root(x):\n",
      "    _data.param('x', x)\n",
      "    assert _data.get('x', x) >= 0\n",
      "    approx = _data.set('approx', None)\n",
      "    guess = _data.set('guess', _data.get('x', x) / 2)\n",
      "    while _data.test(_data.get('approx', approx) != _data.get('guess', guess)):\n",
      "        with _data:\n",
      "            approx = _data.set('approx', _data.get('guess', guess))\n",
      "            guess = _data.set('guess', (_data.get('approx', approx) + _data\n",
      "                .get('x', x) / _data.get('approx', approx)) / 2)\n",
      "    assert _data.ret(_data.call(_data.get('math', math).isclose)(_data.arg(\n",
      "        _data.get('approx', approx) * _data.get('approx', approx)), _data.\n",
      "        arg(_data.get('x', x))))\n",
      "    return _data.set('<square_root() return value>', _data.get('approx',\n",
      "        approx))\n",
      "\n"
     ]
    }
   ],
   "source": [
    "with Slicer(square_root, log=True) as root_slicer:\n",
    "    y = square_root(2.0)"
   ]
  },
  {
   "cell_type": "code",
   "execution_count": 159,
   "metadata": {
    "slideshow": {
     "slide_type": "subslide"
    }
   },
   "outputs": [
    {
     "data": {
      "image/svg+xml": [
       "<?xml version=\"1.0\" encoding=\"UTF-8\" standalone=\"no\"?>\n",
       "<!DOCTYPE svg PUBLIC \"-//W3C//DTD SVG 1.1//EN\"\n",
       " \"http://www.w3.org/Graphics/SVG/1.1/DTD/svg11.dtd\">\n",
       "<!-- Generated by graphviz version 2.40.1 (20161225.0304)\n",
       " -->\n",
       "<!-- Title: dependencies Pages: 1 -->\n",
       "<svg width=\"504pt\" height=\"428pt\"\n",
       " viewBox=\"0.00 0.00 503.50 428.00\" xmlns=\"http://www.w3.org/2000/svg\" xmlns:xlink=\"http://www.w3.org/1999/xlink\">\n",
       "<g id=\"graph0\" class=\"graph\" transform=\"scale(1 1) rotate(0) translate(4 424)\">\n",
       "<title>dependencies</title>\n",
       "<polygon fill=\"#ffffff\" stroke=\"transparent\" points=\"-4,4 -4,-424 499.5,-424 499.5,4 -4,4\"/>\n",
       "<!-- x_square_root_51 -->\n",
       "<g id=\"node1\" class=\"node\">\n",
       "<title>x_square_root_51</title>\n",
       "<g id=\"a_node1\"><a xlink:title=\"square_root:51\">\n",
       "<polygon fill=\"#ffdab9\" stroke=\"#000000\" points=\"175,-420 56,-420 56,-380 175,-380 175,-420\"/>\n",
       "<text text-anchor=\"start\" x=\"111\" y=\"-405.8\" font-family=\"Fira Mono\" font-weight=\"bold\" font-size=\"14.00\" fill=\"#000000\">x</text>\n",
       "<text text-anchor=\"start\" x=\"64\" y=\"-386.8\" font-family=\"Fira Mono\" font-size=\"9.00\" fill=\"#000000\">def square_root(x):</text>\n",
       "</a>\n",
       "</g>\n",
       "</g>\n",
       "<!-- approx_square_root_54 -->\n",
       "<g id=\"node2\" class=\"node\">\n",
       "<title>approx_square_root_54</title>\n",
       "<g id=\"a_node2\"><a xlink:title=\"square_root:54\">\n",
       "<polygon fill=\"#ffdab9\" stroke=\"#000000\" points=\"87,-344 0,-344 0,-304 87,-304 87,-344\"/>\n",
       "<text text-anchor=\"start\" x=\"18\" y=\"-329.8\" font-family=\"Fira Mono\" font-weight=\"bold\" font-size=\"14.00\" fill=\"#000000\">approx</text>\n",
       "<text text-anchor=\"start\" x=\"8\" y=\"-310.8\" font-family=\"Fira Mono\" font-size=\"9.00\" fill=\"#000000\">approx = None</text>\n",
       "</a>\n",
       "</g>\n",
       "</g>\n",
       "<!-- x_square_root_51&#45;&gt;approx_square_root_54 -->\n",
       "<!-- guess_square_root_55 -->\n",
       "<g id=\"node3\" class=\"node\">\n",
       "<title>guess_square_root_55</title>\n",
       "<g id=\"a_node3\"><a xlink:title=\"square_root:55\">\n",
       "<polygon fill=\"#ffdab9\" stroke=\"#000000\" points=\"123,-268 36,-268 36,-228 123,-228 123,-268\"/>\n",
       "<text text-anchor=\"start\" x=\"58\" y=\"-253.8\" font-family=\"Fira Mono\" font-weight=\"bold\" font-size=\"14.00\" fill=\"#000000\">guess</text>\n",
       "<text text-anchor=\"start\" x=\"44\" y=\"-234.8\" font-family=\"Fira Mono\" font-size=\"9.00\" fill=\"#000000\">guess = x / 2</text>\n",
       "</a>\n",
       "</g>\n",
       "</g>\n",
       "<!-- x_square_root_51&#45;&gt;guess_square_root_55 -->\n",
       "<g id=\"edge1\" class=\"edge\">\n",
       "<title>x_square_root_51&#45;&gt;guess_square_root_55</title>\n",
       "<path fill=\"none\" stroke=\"#000000\" d=\"M111.7123,-379.6762C107.9734,-360.1781 101.9014,-329.9506 95.5,-304 93.3996,-295.4853 90.8859,-286.312 88.4799,-277.9039\"/>\n",
       "<polygon fill=\"#000000\" stroke=\"#000000\" points=\"91.7884,-276.7467 85.6337,-268.1229 85.0672,-278.7026 91.7884,-276.7467\"/>\n",
       "</g>\n",
       "<!-- guess_square_root_58 -->\n",
       "<g id=\"node5\" class=\"node\">\n",
       "<title>guess_square_root_58</title>\n",
       "<g id=\"a_node5\"><a xlink:title=\"square_root:58\">\n",
       "<polygon fill=\"#ffdab9\" stroke=\"#000000\" points=\"361,-116 166,-116 166,-76 361,-76 361,-116\"/>\n",
       "<text text-anchor=\"start\" x=\"242\" y=\"-101.8\" font-family=\"Fira Mono\" font-weight=\"bold\" font-size=\"14.00\" fill=\"#000000\">guess</text>\n",
       "<text text-anchor=\"start\" x=\"174\" y=\"-82.8\" font-family=\"Fira Mono\" font-size=\"9.00\" fill=\"#000000\">guess = (approx + x / approx) / 2</text>\n",
       "</a>\n",
       "</g>\n",
       "</g>\n",
       "<!-- x_square_root_51&#45;&gt;guess_square_root_58 -->\n",
       "<g id=\"edge6\" class=\"edge\">\n",
       "<title>x_square_root_51&#45;&gt;guess_square_root_58</title>\n",
       "<path fill=\"none\" stroke=\"#000000\" d=\"M125.5866,-379.9909C144.1971,-342.9934 185.0874,-261.3347 218.5,-192 229.1834,-169.8308 240.9815,-144.6339 249.8161,-125.6183\"/>\n",
       "<polygon fill=\"#000000\" stroke=\"#000000\" points=\"253.1117,-126.8309 254.1443,-116.2865 246.7615,-123.8856 253.1117,-126.8309\"/>\n",
       "</g>\n",
       "<!-- approx_square_root_54&#45;&gt;guess_square_root_55 -->\n",
       "<!-- test_square_root_56 -->\n",
       "<g id=\"node6\" class=\"node\">\n",
       "<title>test_square_root_56</title>\n",
       "<g id=\"a_node6\"><a xlink:title=\"square_root:56\">\n",
       "<polygon fill=\"#ffdab9\" stroke=\"#000000\" points=\"187,-40 52,-40 52,0 187,0 187,-40\"/>\n",
       "<text text-anchor=\"start\" x=\"94\" y=\"-25.8\" font-family=\"Fira Mono\" font-weight=\"bold\" font-style=\"italic\" font-size=\"14.00\" fill=\"#000000\">&lt;test&gt;</text>\n",
       "<text text-anchor=\"start\" x=\"60\" y=\"-6.8\" font-family=\"Fira Mono\" font-size=\"9.00\" fill=\"#000000\">while approx != guess:</text>\n",
       "</a>\n",
       "</g>\n",
       "</g>\n",
       "<!-- approx_square_root_54&#45;&gt;test_square_root_56 -->\n",
       "<g id=\"edge9\" class=\"edge\">\n",
       "<title>approx_square_root_54&#45;&gt;test_square_root_56</title>\n",
       "<path fill=\"none\" stroke=\"#000000\" d=\"M35.3513,-303.6933C28.6049,-284.2076 20.9546,-253.9887 26.5,-228 40.9434,-160.3111 79.0884,-87.9831 101.7882,-48.9786\"/>\n",
       "<polygon fill=\"#000000\" stroke=\"#000000\" points=\"104.8649,-50.6516 106.9297,-40.2599 98.8352,-47.0958 104.8649,-50.6516\"/>\n",
       "</g>\n",
       "<!-- approx_square_root_57 -->\n",
       "<g id=\"node4\" class=\"node\">\n",
       "<title>approx_square_root_57</title>\n",
       "<g id=\"a_node4\"><a xlink:title=\"square_root:57\">\n",
       "<polygon fill=\"#ffdab9\" stroke=\"#000000\" points=\"209.5,-192 117.5,-192 117.5,-152 209.5,-152 209.5,-192\"/>\n",
       "<text text-anchor=\"start\" x=\"138\" y=\"-177.8\" font-family=\"Fira Mono\" font-weight=\"bold\" font-size=\"14.00\" fill=\"#000000\">approx</text>\n",
       "<text text-anchor=\"start\" x=\"125.5\" y=\"-158.8\" font-family=\"Fira Mono\" font-size=\"9.00\" fill=\"#000000\">approx = guess</text>\n",
       "</a>\n",
       "</g>\n",
       "</g>\n",
       "<!-- guess_square_root_55&#45;&gt;approx_square_root_57 -->\n",
       "<g id=\"edge2\" class=\"edge\">\n",
       "<title>guess_square_root_55&#45;&gt;approx_square_root_57</title>\n",
       "<path fill=\"none\" stroke=\"#000000\" d=\"M102.0105,-227.6334C111.692,-218.8739 123.1487,-208.5083 133.5335,-199.1125\"/>\n",
       "<polygon fill=\"#000000\" stroke=\"#000000\" points=\"136.1515,-201.4638 141.2187,-192.1593 131.4551,-196.2731 136.1515,-201.4638\"/>\n",
       "</g>\n",
       "<!-- guess_square_root_55&#45;&gt;test_square_root_56 -->\n",
       "<g id=\"edge10\" class=\"edge\">\n",
       "<title>guess_square_root_55&#45;&gt;test_square_root_56</title>\n",
       "<path fill=\"none\" stroke=\"#000000\" d=\"M79.0028,-227.7665C82.7079,-187.5418 98.2975,-97.3439 109.4644,-50.1241\"/>\n",
       "<polygon fill=\"#000000\" stroke=\"#000000\" points=\"112.9184,-50.7353 111.9151,-40.1881 106.1221,-49.059 112.9184,-50.7353\"/>\n",
       "</g>\n",
       "<!-- guess_square_root_55&#45;&gt;test_square_root_56 -->\n",
       "<!-- approx_square_root_57&#45;&gt;guess_square_root_58 -->\n",
       "<g id=\"edge7\" class=\"edge\">\n",
       "<title>approx_square_root_57&#45;&gt;guess_square_root_58</title>\n",
       "<path fill=\"none\" stroke=\"#000000\" d=\"M178.1833,-151.6334C188.6218,-142.5304 202.6253,-131.6928 216.3897,-122.0118\"/>\n",
       "<polygon fill=\"#000000\" stroke=\"#000000\" points=\"218.6409,-124.7113 224.895,-116.1593 214.6729,-118.9446 218.6409,-124.7113\"/>\n",
       "</g>\n",
       "<!-- approx_square_root_57&#45;&gt;guess_square_root_58 -->\n",
       "<!-- approx_square_root_57&#45;&gt;test_square_root_56 -->\n",
       "<g id=\"edge11\" class=\"edge\">\n",
       "<title>approx_square_root_57&#45;&gt;test_square_root_56</title>\n",
       "<path fill=\"none\" stroke=\"#000000\" d=\"M148.1371,-151.8156C135.8667,-125.8097 122.2092,-80.3713 117.219,-50.2331\"/>\n",
       "<polygon fill=\"#000000\" stroke=\"#000000\" points=\"120.6772,-49.6898 115.8318,-40.2679 113.7441,-50.655 120.6772,-49.6898\"/>\n",
       "</g>\n",
       "<!-- square_rootreturnvalue_square_root_61 -->\n",
       "<g id=\"node7\" class=\"node\">\n",
       "<title>square_rootreturnvalue_square_root_61</title>\n",
       "<g id=\"a_node7\"><a xlink:title=\"square_root:61\">\n",
       "<polygon fill=\"#ffdab9\" stroke=\"#000000\" points=\"495.5,-40 243.5,-40 243.5,0 495.5,0 495.5,-40\"/>\n",
       "<text text-anchor=\"start\" x=\"251.5\" y=\"-25.8\" font-family=\"Fira Mono\" font-weight=\"bold\" font-style=\"italic\" font-size=\"14.00\" fill=\"#000000\">&lt;square_root() return value&gt;</text>\n",
       "<text text-anchor=\"start\" x=\"334\" y=\"-6.8\" font-family=\"Fira Mono\" font-size=\"9.00\" fill=\"#000000\">return approx</text>\n",
       "</a>\n",
       "</g>\n",
       "</g>\n",
       "<!-- approx_square_root_57&#45;&gt;square_rootreturnvalue_square_root_61 -->\n",
       "<g id=\"edge5\" class=\"edge\">\n",
       "<title>approx_square_root_57&#45;&gt;square_rootreturnvalue_square_root_61</title>\n",
       "<path fill=\"none\" stroke=\"#000000\" d=\"M209.9282,-166.0099C264.7899,-157.8678 351.0963,-141.3505 370.5,-116 384.6263,-97.5443 383.0669,-70.7117 378.7185,-50.1035\"/>\n",
       "<polygon fill=\"#000000\" stroke=\"#000000\" points=\"382.0909,-49.1584 376.3378,-40.2617 375.2871,-50.8043 382.0909,-49.1584\"/>\n",
       "</g>\n",
       "<!-- guess_square_root_58&#45;&gt;approx_square_root_57 -->\n",
       "<g id=\"edge3\" class=\"edge\">\n",
       "<title>guess_square_root_58&#45;&gt;approx_square_root_57</title>\n",
       "<path fill=\"none\" stroke=\"#000000\" d=\"M236.8404,-116.2613C224.9583,-125.2917 210.8088,-136.0453 198.1225,-145.6869\"/>\n",
       "<polygon fill=\"#000000\" stroke=\"#000000\" points=\"195.8795,-142.9955 190.0356,-151.8329 200.1151,-148.5686 195.8795,-142.9955\"/>\n",
       "</g>\n",
       "<!-- guess_square_root_58&#45;&gt;test_square_root_56 -->\n",
       "<g id=\"edge12\" class=\"edge\">\n",
       "<title>guess_square_root_58&#45;&gt;test_square_root_56</title>\n",
       "<path fill=\"none\" stroke=\"#000000\" d=\"M219.2482,-75.8329C200.6214,-66.428 179.1119,-55.1384 160.8123,-45.1795\"/>\n",
       "<polygon fill=\"#000000\" stroke=\"#000000\" points=\"162.2926,-41.9996 151.8413,-40.2613 158.9275,-48.1377 162.2926,-41.9996\"/>\n",
       "</g>\n",
       "<!-- guess_square_root_58&#45;&gt;square_rootreturnvalue_square_root_61 -->\n",
       "<!-- test_square_root_56&#45;&gt;approx_square_root_57 -->\n",
       "<g id=\"edge4\" class=\"edge\">\n",
       "<title>test_square_root_56&#45;&gt;approx_square_root_57</title>\n",
       "<path fill=\"none\" stroke=\"#c0c0c0\" stroke-dasharray=\"5,2\" d=\"M125.367,-40.2679C132.9071,-66.3153 146.0616,-111.7581 154.7763,-141.8635\"/>\n",
       "<polygon fill=\"#c0c0c0\" stroke=\"#c0c0c0\" points=\"151.5145,-143.1832 157.6571,-151.8156 158.2385,-141.2367 151.5145,-143.1832\"/>\n",
       "</g>\n",
       "<!-- test_square_root_56&#45;&gt;approx_square_root_57 -->\n",
       "<!-- test_square_root_56&#45;&gt;guess_square_root_58 -->\n",
       "<g id=\"edge8\" class=\"edge\">\n",
       "<title>test_square_root_56&#45;&gt;guess_square_root_58</title>\n",
       "<path fill=\"none\" stroke=\"#c0c0c0\" stroke-dasharray=\"5,2\" d=\"M163.677,-40.1293C182.3706,-49.5668 203.9782,-60.9084 222.3338,-70.9\"/>\n",
       "<polygon fill=\"#c0c0c0\" stroke=\"#c0c0c0\" points=\"220.8781,-74.0934 231.3292,-75.8329 224.244,-67.9557 220.8781,-74.0934\"/>\n",
       "</g>\n",
       "<!-- test_square_root_56&#45;&gt;test_square_root_56 -->\n",
       "<g id=\"edge13\" class=\"edge\">\n",
       "<title>test_square_root_56&#45;&gt;test_square_root_56</title>\n",
       "<path fill=\"none\" stroke=\"#000000\" d=\"M187.2331,-33.0593C197.7976,-31.107 205,-26.7539 205,-20 205,-15.6733 202.0441,-12.3318 197.1421,-9.9757\"/>\n",
       "<polygon fill=\"#000000\" stroke=\"#000000\" points=\"197.8197,-6.5228 187.2331,-6.9407 195.7696,-13.2159 197.8197,-6.5228\"/>\n",
       "</g>\n",
       "</g>\n",
       "</svg>\n"
      ],
      "text/plain": [
       "<graphviz.dot.Digraph at 0x7fbb1d5253c8>"
      ]
     },
     "execution_count": 159,
     "metadata": {},
     "output_type": "execute_result"
    }
   ],
   "source": [
    "root_slicer.graph()"
   ]
  },
  {
   "cell_type": "markdown",
   "metadata": {
    "slideshow": {
     "slide_type": "fragment"
    }
   },
   "source": [
    "FIXME: How does `<test>` control itself? (Because it's a `while` loop)"
   ]
  },
  {
   "cell_type": "code",
   "execution_count": 160,
   "metadata": {
    "slideshow": {
     "slide_type": "subslide"
    }
   },
   "outputs": [
    {
     "name": "stdout",
     "output_type": "stream",
     "text": [
      "*   51 \u001b[34mdef\u001b[39;49;00m \u001b[32msquare_root\u001b[39;49;00m(x):\n",
      "    52     \u001b[34massert\u001b[39;49;00m x >= \u001b[34m0\u001b[39;49;00m  \u001b[37m# precondition\u001b[39;49;00m\n",
      "    53 \n",
      "*   54     approx = \u001b[34mNone\u001b[39;49;00m\n",
      "*   55     guess = x / \u001b[34m2\u001b[39;49;00m  \u001b[37m# <= x (51)\u001b[39;49;00m\n",
      "*   56     \u001b[34mwhile\u001b[39;49;00m approx != guess:  \u001b[37m# <= approx (54), guess (55), approx (57), guess (58), <test> (56)\u001b[39;49;00m\n",
      "*   57         approx = guess  \u001b[37m# <= guess (55), guess (58); <- <test> (56)\u001b[39;49;00m\n",
      "*   58         guess = (approx + x / approx) / \u001b[34m2\u001b[39;49;00m  \u001b[37m# <= x (51), approx (57); <- <test> (56)\u001b[39;49;00m\n",
      "    59 \n",
      "    60     \u001b[34massert\u001b[39;49;00m math.isclose(approx * approx, x)\n",
      "*   61     \u001b[34mreturn\u001b[39;49;00m approx  \u001b[37m# <= approx (57)\u001b[39;49;00m\n"
     ]
    }
   ],
   "source": [
    "root_slicer.code()"
   ]
  },
  {
   "cell_type": "code",
   "execution_count": 161,
   "metadata": {
    "slideshow": {
     "slide_type": "fragment"
    }
   },
   "outputs": [
    {
     "data": {
      "text/plain": [
       "Dependencies({('x', ('square_root', 51)): set(), ('approx', ('square_root', 54)): set(), ('guess', ('square_root', 55)): {('x', ('square_root', 51))}, ('<test>', ('square_root', 56)): {('approx', ('square_root', 54)), ('guess', ('square_root', 55)), ('approx', ('square_root', 57)), ('guess', ('square_root', 58)), ('<test>', ('square_root', 56))}, ('approx', ('square_root', 57)): {('guess', ('square_root', 55)), ('guess', ('square_root', 58))}, ('guess', ('square_root', 58)): {('x', ('square_root', 51)), ('approx', ('square_root', 57))}, ('<square_root() return value>', ('square_root', 61)): {('approx', ('square_root', 57))}}, {('x', ('square_root', 51)): set(), ('approx', ('square_root', 54)): set(), ('guess', ('square_root', 55)): set(), ('<test>', ('square_root', 56)): set(), ('approx', ('square_root', 57)): {('<test>', ('square_root', 56))}, ('guess', ('square_root', 58)): {('<test>', ('square_root', 56))}, ('<square_root() return value>', ('square_root', 61)): set()})"
      ]
     },
     "execution_count": 161,
     "metadata": {},
     "output_type": "execute_result"
    }
   ],
   "source": [
    "root_slicer.dependencies()"
   ]
  },
  {
   "cell_type": "code",
   "execution_count": 162,
   "metadata": {
    "slideshow": {
     "slide_type": "skip"
    }
   },
   "outputs": [],
   "source": [
    "from Intro_Debugging import remove_html_markup"
   ]
  },
  {
   "cell_type": "code",
   "execution_count": 163,
   "metadata": {
    "slideshow": {
     "slide_type": "subslide"
    }
   },
   "outputs": [
    {
     "name": "stdout",
     "output_type": "stream",
     "text": [
      "Instrumenting <function remove_html_markup at 0x7fbb1d549d90>:\n",
      "def remove_html_markup(s):\n",
      "    _data.param('s', s)\n",
      "    tag = _data.set('tag', False)\n",
      "    quote = _data.set('quote', False)\n",
      "    out = _data.set('out', '')\n",
      "    for c in _data.set('c', _data.get('s', s)):\n",
      "        assert _data.get('tag', tag) or not _data.get('quote', quote)\n",
      "        if _data.test(_data.get('c', c) == '<' and not _data.get('quote',\n",
      "            quote)):\n",
      "            with _data:\n",
      "                tag = _data.set('tag', True)\n",
      "        else:\n",
      "            with _data:\n",
      "                if _data.test(_data.get('c', c) == '>' and not _data.get(\n",
      "                    'quote', quote)):\n",
      "                    with _data:\n",
      "                        tag = _data.set('tag', False)\n",
      "                else:\n",
      "                    with _data:\n",
      "                        if _data.test((_data.get('c', c) == '\"' or _data.\n",
      "                            get('c', c) == \"'\") and _data.get('tag', tag)):\n",
      "                            with _data:\n",
      "                                quote = _data.set('quote', not _data.get(\n",
      "                                    'quote', quote))\n",
      "                        else:\n",
      "                            with _data:\n",
      "                                if _data.test(not _data.get('tag', tag)):\n",
      "                                    with _data:\n",
      "                                        out = _data.set('out', _data.get('out',\n",
      "                                            out) + _data.get('c', c))\n",
      "    return _data.set('<remove_html_markup() return value>', _data.get('out',\n",
      "        out))\n",
      "\n"
     ]
    }
   ],
   "source": [
    "with Slicer(remove_html_markup, log=True) as rhm_slicer:\n",
    "    s = remove_html_markup(\"<foo>bar</foo>\")"
   ]
  },
  {
   "cell_type": "code",
   "execution_count": 164,
   "metadata": {
    "slideshow": {
     "slide_type": "subslide"
    }
   },
   "outputs": [
    {
     "data": {
      "image/svg+xml": [
       "<?xml version=\"1.0\" encoding=\"UTF-8\" standalone=\"no\"?>\n",
       "<!DOCTYPE svg PUBLIC \"-//W3C//DTD SVG 1.1//EN\"\n",
       " \"http://www.w3.org/Graphics/SVG/1.1/DTD/svg11.dtd\">\n",
       "<!-- Generated by graphviz version 2.40.1 (20161225.0304)\n",
       " -->\n",
       "<!-- Title: dependencies Pages: 1 -->\n",
       "<svg width=\"538pt\" height=\"960pt\"\n",
       " viewBox=\"0.00 0.00 537.50 960.00\" xmlns=\"http://www.w3.org/2000/svg\" xmlns:xlink=\"http://www.w3.org/1999/xlink\">\n",
       "<g id=\"graph0\" class=\"graph\" transform=\"scale(1 1) rotate(0) translate(4 956)\">\n",
       "<title>dependencies</title>\n",
       "<polygon fill=\"#ffffff\" stroke=\"transparent\" points=\"-4,4 -4,-956 533.5,-956 533.5,4 -4,4\"/>\n",
       "<!-- quote_remove_html_markup_138 -->\n",
       "<g id=\"node1\" class=\"node\">\n",
       "<title>quote_remove_html_markup_138</title>\n",
       "<g id=\"a_node1\"><a xlink:title=\"remove_html_markup:138\">\n",
       "<polygon fill=\"#ffdab9\" stroke=\"#000000\" points=\"150.5,-800 63.5,-800 63.5,-760 150.5,-760 150.5,-800\"/>\n",
       "<text text-anchor=\"start\" x=\"85.5\" y=\"-785.8\" font-family=\"Fira Mono\" font-weight=\"bold\" font-size=\"14.00\" fill=\"#000000\">quote</text>\n",
       "<text text-anchor=\"start\" x=\"71.5\" y=\"-766.8\" font-family=\"Fira Mono\" font-size=\"9.00\" fill=\"#000000\">quote = False</text>\n",
       "</a>\n",
       "</g>\n",
       "</g>\n",
       "<!-- test_remove_html_markup_144 -->\n",
       "<g id=\"node3\" class=\"node\">\n",
       "<title>test_remove_html_markup_144</title>\n",
       "<g id=\"a_node3\"><a xlink:title=\"remove_html_markup:144\">\n",
       "<polygon fill=\"#ffdab9\" stroke=\"#000000\" points=\"185.5,-572 28.5,-572 28.5,-532 185.5,-532 185.5,-572\"/>\n",
       "<text text-anchor=\"start\" x=\"81.5\" y=\"-557.8\" font-family=\"Fira Mono\" font-weight=\"bold\" font-style=\"italic\" font-size=\"14.00\" fill=\"#000000\">&lt;test&gt;</text>\n",
       "<text text-anchor=\"start\" x=\"36.5\" y=\"-538.8\" font-family=\"Fira Mono\" font-size=\"9.00\" fill=\"#000000\">if c == &#39;&lt;&#39; and not quote:</text>\n",
       "</a>\n",
       "</g>\n",
       "</g>\n",
       "<!-- quote_remove_html_markup_138&#45;&gt;test_remove_html_markup_144 -->\n",
       "<g id=\"edge18\" class=\"edge\">\n",
       "<title>quote_remove_html_markup_138&#45;&gt;test_remove_html_markup_144</title>\n",
       "<path fill=\"none\" stroke=\"#000000\" d=\"M107,-759.7665C107,-719.6263 107,-629.7226 107,-582.4223\"/>\n",
       "<polygon fill=\"#000000\" stroke=\"#000000\" points=\"110.5001,-582.1881 107,-572.1881 103.5001,-582.1882 110.5001,-582.1881\"/>\n",
       "</g>\n",
       "<!-- test_remove_html_markup_146 -->\n",
       "<g id=\"node6\" class=\"node\">\n",
       "<title>test_remove_html_markup_146</title>\n",
       "<g id=\"a_node6\"><a xlink:title=\"remove_html_markup:146\">\n",
       "<polygon fill=\"#ffdab9\" stroke=\"#000000\" points=\"197,-420 29,-420 29,-380 197,-380 197,-420\"/>\n",
       "<text text-anchor=\"start\" x=\"87.5\" y=\"-405.8\" font-family=\"Fira Mono\" font-weight=\"bold\" font-style=\"italic\" font-size=\"14.00\" fill=\"#000000\">&lt;test&gt;</text>\n",
       "<text text-anchor=\"start\" x=\"37\" y=\"-386.8\" font-family=\"Fira Mono\" font-size=\"9.00\" fill=\"#000000\">elif c == &#39;&gt;&#39; and not quote:</text>\n",
       "</a>\n",
       "</g>\n",
       "</g>\n",
       "<!-- quote_remove_html_markup_138&#45;&gt;test_remove_html_markup_146 -->\n",
       "<g id=\"edge8\" class=\"edge\">\n",
       "<title>quote_remove_html_markup_138&#45;&gt;test_remove_html_markup_146</title>\n",
       "<path fill=\"none\" stroke=\"#000000\" d=\"M80.2754,-759.8035C48.5827,-733.3297 0,-683.6685 0,-628 0,-628 0,-628 0,-552 0,-499.8611 43.351,-453.9974 76.3512,-426.6378\"/>\n",
       "<polygon fill=\"#000000\" stroke=\"#000000\" points=\"78.8915,-429.0859 84.4853,-420.0881 74.5014,-423.6337 78.8915,-429.0859\"/>\n",
       "</g>\n",
       "<!-- out_remove_html_markup_139 -->\n",
       "<g id=\"node8\" class=\"node\">\n",
       "<title>out_remove_html_markup_139</title>\n",
       "<g id=\"a_node8\"><a xlink:title=\"remove_html_markup:139\">\n",
       "<polygon fill=\"#ffdab9\" stroke=\"#000000\" points=\"267,-724 207,-724 207,-684 267,-684 267,-724\"/>\n",
       "<text text-anchor=\"start\" x=\"224\" y=\"-709.8\" font-family=\"Fira Mono\" font-weight=\"bold\" font-size=\"14.00\" fill=\"#000000\">out</text>\n",
       "<text text-anchor=\"start\" x=\"215\" y=\"-690.8\" font-family=\"Fira Mono\" font-size=\"9.00\" fill=\"#000000\">out = &quot;&quot;</text>\n",
       "</a>\n",
       "</g>\n",
       "</g>\n",
       "<!-- quote_remove_html_markup_138&#45;&gt;out_remove_html_markup_139 -->\n",
       "<!-- tag_remove_html_markup_145 -->\n",
       "<g id=\"node2\" class=\"node\">\n",
       "<title>tag_remove_html_markup_145</title>\n",
       "<g id=\"a_node2\"><a xlink:title=\"remove_html_markup:145\">\n",
       "<polygon fill=\"#ffdab9\" stroke=\"#000000\" points=\"130.5,-496 59.5,-496 59.5,-456 130.5,-456 130.5,-496\"/>\n",
       "<text text-anchor=\"start\" x=\"82\" y=\"-481.8\" font-family=\"Fira Mono\" font-weight=\"bold\" font-size=\"14.00\" fill=\"#000000\">tag</text>\n",
       "<text text-anchor=\"start\" x=\"67.5\" y=\"-462.8\" font-family=\"Fira Mono\" font-size=\"9.00\" fill=\"#000000\">tag = True</text>\n",
       "</a>\n",
       "</g>\n",
       "</g>\n",
       "<!-- tag_remove_html_markup_145&#45;&gt;test_remove_html_markup_146 -->\n",
       "<!-- test_remove_html_markup_150 -->\n",
       "<g id=\"node9\" class=\"node\">\n",
       "<title>test_remove_html_markup_150</title>\n",
       "<g id=\"a_node9\"><a xlink:title=\"remove_html_markup:150\">\n",
       "<polygon fill=\"#ffdab9\" stroke=\"#000000\" points=\"211.5,-192 124.5,-192 124.5,-152 211.5,-152 211.5,-192\"/>\n",
       "<text text-anchor=\"start\" x=\"142.5\" y=\"-177.8\" font-family=\"Fira Mono\" font-weight=\"bold\" font-style=\"italic\" font-size=\"14.00\" fill=\"#000000\">&lt;test&gt;</text>\n",
       "<text text-anchor=\"start\" x=\"132.5\" y=\"-158.8\" font-family=\"Fira Mono\" font-size=\"9.00\" fill=\"#000000\">elif not tag:</text>\n",
       "</a>\n",
       "</g>\n",
       "</g>\n",
       "<!-- tag_remove_html_markup_145&#45;&gt;test_remove_html_markup_150 -->\n",
       "<g id=\"edge14\" class=\"edge\">\n",
       "<title>tag_remove_html_markup_145&#45;&gt;test_remove_html_markup_150</title>\n",
       "<path fill=\"none\" stroke=\"#000000\" d=\"M59.4288,-458.9526C44.3606,-449.703 28.3752,-436.7057 20,-420 -2.8856,-374.3508 -11.6287,-299.8767 43,-228 60.3523,-205.169 89.0946,-191.4212 114.6454,-183.2653\"/>\n",
       "<polygon fill=\"#000000\" stroke=\"#000000\" points=\"115.6655,-186.6136 124.2513,-180.406 113.6684,-179.9045 115.6655,-186.6136\"/>\n",
       "</g>\n",
       "<!-- test_remove_html_markup_144&#45;&gt;tag_remove_html_markup_145 -->\n",
       "<g id=\"edge1\" class=\"edge\">\n",
       "<title>test_remove_html_markup_144&#45;&gt;tag_remove_html_markup_145</title>\n",
       "<path fill=\"none\" stroke=\"#c0c0c0\" stroke-dasharray=\"5,2\" d=\"M97.7268,-531.6334C95.8322,-523.8186 94.2084,-514.7253 93.1443,-506.183\"/>\n",
       "<polygon fill=\"#c0c0c0\" stroke=\"#c0c0c0\" points=\"96.6198,-505.762 92.1433,-496.1593 89.6544,-506.4576 96.6198,-505.762\"/>\n",
       "</g>\n",
       "<!-- test_remove_html_markup_144&#45;&gt;tag_remove_html_markup_145 -->\n",
       "<!-- test_remove_html_markup_144&#45;&gt;test_remove_html_markup_146 -->\n",
       "<g id=\"edge10\" class=\"edge\">\n",
       "<title>test_remove_html_markup_144&#45;&gt;test_remove_html_markup_146</title>\n",
       "<path fill=\"none\" stroke=\"#c0c0c0\" stroke-dasharray=\"5,2\" d=\"M122.3753,-531.9248C129.2113,-521.7484 136.4963,-508.8468 140,-496 144.6776,-478.8486 143.9599,-473.3311 140,-456 137.9213,-446.9025 134.167,-437.5624 130.1059,-429.1813\"/>\n",
       "<polygon fill=\"#c0c0c0\" stroke=\"#c0c0c0\" points=\"133.1613,-427.4699 125.4634,-420.1903 126.9415,-430.6815 133.1613,-427.4699\"/>\n",
       "</g>\n",
       "<!-- test_remove_html_markup_148 -->\n",
       "<g id=\"node4\" class=\"node\">\n",
       "<title>test_remove_html_markup_148</title>\n",
       "<g id=\"a_node4\"><a xlink:title=\"remove_html_markup:148\">\n",
       "<polygon fill=\"#ffdab9\" stroke=\"#000000\" points=\"273.5,-268 62.5,-268 62.5,-228 273.5,-228 273.5,-268\"/>\n",
       "<text text-anchor=\"start\" x=\"142.5\" y=\"-253.8\" font-family=\"Fira Mono\" font-weight=\"bold\" font-style=\"italic\" font-size=\"14.00\" fill=\"#000000\">&lt;test&gt;</text>\n",
       "<text text-anchor=\"start\" x=\"70.5\" y=\"-234.8\" font-family=\"Fira Mono\" font-size=\"9.00\" fill=\"#000000\">elif (c == &#39;&quot;&#39; or c == &quot;&#39;&quot;) and tag:</text>\n",
       "</a>\n",
       "</g>\n",
       "</g>\n",
       "<!-- test_remove_html_markup_148&#45;&gt;test_remove_html_markup_150 -->\n",
       "<g id=\"edge15\" class=\"edge\">\n",
       "<title>test_remove_html_markup_148&#45;&gt;test_remove_html_markup_150</title>\n",
       "<path fill=\"none\" stroke=\"#c0c0c0\" stroke-dasharray=\"5,2\" d=\"M161.9426,-227.6334C161.2819,-219.8186 161.0939,-210.7253 161.3786,-202.183\"/>\n",
       "<polygon fill=\"#c0c0c0\" stroke=\"#c0c0c0\" points=\"164.875,-202.3453 161.9602,-192.1593 157.8867,-201.9397 164.875,-202.3453\"/>\n",
       "</g>\n",
       "<!-- test_remove_html_markup_148&#45;&gt;test_remove_html_markup_150 -->\n",
       "<!-- c_remove_html_markup_141 -->\n",
       "<g id=\"node5\" class=\"node\">\n",
       "<title>c_remove_html_markup_141</title>\n",
       "<g id=\"a_node5\"><a xlink:title=\"remove_html_markup:141\">\n",
       "<polygon fill=\"#ffdab9\" stroke=\"#000000\" points=\"252,-648 176,-648 176,-608 252,-608 252,-648\"/>\n",
       "<text text-anchor=\"start\" x=\"209.5\" y=\"-633.8\" font-family=\"Fira Mono\" font-weight=\"bold\" font-size=\"14.00\" fill=\"#000000\">c</text>\n",
       "<text text-anchor=\"start\" x=\"184\" y=\"-614.8\" font-family=\"Fira Mono\" font-size=\"9.00\" fill=\"#000000\">for c in s:</text>\n",
       "</a>\n",
       "</g>\n",
       "</g>\n",
       "<!-- c_remove_html_markup_141&#45;&gt;test_remove_html_markup_144 -->\n",
       "<g id=\"edge19\" class=\"edge\">\n",
       "<title>c_remove_html_markup_141&#45;&gt;test_remove_html_markup_144</title>\n",
       "<path fill=\"none\" stroke=\"#000000\" d=\"M179.5664,-607.8329C166.0956,-598.8145 150.8179,-588.0631 137.7249,-578.4138\"/>\n",
       "<polygon fill=\"#000000\" stroke=\"#000000\" points=\"139.5855,-575.4353 129.4773,-572.2613 135.4,-581.0461 139.5855,-575.4353\"/>\n",
       "</g>\n",
       "<!-- c_remove_html_markup_141&#45;&gt;test_remove_html_markup_144 -->\n",
       "<!-- c_remove_html_markup_141&#45;&gt;test_remove_html_markup_148 -->\n",
       "<g id=\"edge2\" class=\"edge\">\n",
       "<title>c_remove_html_markup_141&#45;&gt;test_remove_html_markup_148</title>\n",
       "<path fill=\"none\" stroke=\"#000000\" d=\"M222.4334,-607.7508C233.6285,-578.9905 252,-524.4179 252,-476 252,-476 252,-476 252,-400 252,-351.7711 219.2035,-304.4676 194.5962,-275.7633\"/>\n",
       "<polygon fill=\"#000000\" stroke=\"#000000\" points=\"197.1452,-273.362 187.9068,-268.175 191.8942,-277.991 197.1452,-273.362\"/>\n",
       "</g>\n",
       "<!-- c_remove_html_markup_141&#45;&gt;test_remove_html_markup_146 -->\n",
       "<g id=\"edge9\" class=\"edge\">\n",
       "<title>c_remove_html_markup_141&#45;&gt;test_remove_html_markup_146</title>\n",
       "<path fill=\"none\" stroke=\"#000000\" d=\"M211.7137,-607.6923C209.0902,-587.9448 203.9505,-557.308 195,-532 182.273,-496.0137 175.4045,-488.259 155,-456 149.0923,-446.6601 142.082,-436.8894 135.4979,-428.1725\"/>\n",
       "<polygon fill=\"#000000\" stroke=\"#000000\" points=\"138.232,-425.9864 129.3657,-420.1864 132.68,-430.2496 138.232,-425.9864\"/>\n",
       "</g>\n",
       "<!-- out_remove_html_markup_151 -->\n",
       "<g id=\"node7\" class=\"node\">\n",
       "<title>out_remove_html_markup_151</title>\n",
       "<g id=\"a_node7\"><a xlink:title=\"remove_html_markup:151\">\n",
       "<polygon fill=\"#ffdab9\" stroke=\"#000000\" points=\"417.5,-116 330.5,-116 330.5,-76 417.5,-76 417.5,-116\"/>\n",
       "<text text-anchor=\"start\" x=\"361\" y=\"-101.8\" font-family=\"Fira Mono\" font-weight=\"bold\" font-size=\"14.00\" fill=\"#000000\">out</text>\n",
       "<text text-anchor=\"start\" x=\"338.5\" y=\"-82.8\" font-family=\"Fira Mono\" font-size=\"9.00\" fill=\"#000000\">out = out + c</text>\n",
       "</a>\n",
       "</g>\n",
       "</g>\n",
       "<!-- c_remove_html_markup_141&#45;&gt;out_remove_html_markup_151 -->\n",
       "<g id=\"edge5\" class=\"edge\">\n",
       "<title>c_remove_html_markup_141&#45;&gt;out_remove_html_markup_151</title>\n",
       "<path fill=\"none\" stroke=\"#000000\" d=\"M247.105,-607.7919C284.4366,-582.1792 340,-534.2703 340,-476 340,-476 340,-476 340,-248 340,-204.7555 353.2683,-156.2232 363.2276,-125.8855\"/>\n",
       "<polygon fill=\"#000000\" stroke=\"#000000\" points=\"366.5715,-126.9227 366.4543,-116.3285 359.9393,-124.6835 366.5715,-126.9227\"/>\n",
       "</g>\n",
       "<!-- test_remove_html_markup_146&#45;&gt;test_remove_html_markup_148 -->\n",
       "<g id=\"edge3\" class=\"edge\">\n",
       "<title>test_remove_html_markup_146&#45;&gt;test_remove_html_markup_148</title>\n",
       "<path fill=\"none\" stroke=\"#c0c0c0\" stroke-dasharray=\"5,2\" d=\"M131.4141,-379.9396C139.6383,-369.8662 148.6611,-357.0478 154,-344 162.5571,-323.0871 165.9903,-297.7288 167.32,-278.3275\"/>\n",
       "<polygon fill=\"#c0c0c0\" stroke=\"#c0c0c0\" points=\"170.8209,-278.4011 167.8614,-268.228 163.831,-278.0263 170.8209,-278.4011\"/>\n",
       "</g>\n",
       "<!-- tag_remove_html_markup_147 -->\n",
       "<g id=\"node11\" class=\"node\">\n",
       "<title>tag_remove_html_markup_147</title>\n",
       "<g id=\"a_node11\"><a xlink:title=\"remove_html_markup:147\">\n",
       "<polygon fill=\"#ffdab9\" stroke=\"#000000\" points=\"145,-344 69,-344 69,-304 145,-304 145,-344\"/>\n",
       "<text text-anchor=\"start\" x=\"94\" y=\"-329.8\" font-family=\"Fira Mono\" font-weight=\"bold\" font-size=\"14.00\" fill=\"#000000\">tag</text>\n",
       "<text text-anchor=\"start\" x=\"77\" y=\"-310.8\" font-family=\"Fira Mono\" font-size=\"9.00\" fill=\"#000000\">tag = False</text>\n",
       "</a>\n",
       "</g>\n",
       "</g>\n",
       "<!-- test_remove_html_markup_146&#45;&gt;tag_remove_html_markup_147 -->\n",
       "<g id=\"edge12\" class=\"edge\">\n",
       "<title>test_remove_html_markup_146&#45;&gt;tag_remove_html_markup_147</title>\n",
       "<path fill=\"none\" stroke=\"#c0c0c0\" stroke-dasharray=\"5,2\" d=\"M105.3347,-379.6334C104.0571,-371.8186 103.1512,-362.7253 102.7614,-354.183\"/>\n",
       "<polygon fill=\"#c0c0c0\" stroke=\"#c0c0c0\" points=\"106.2602,-354.0839 102.5517,-344.1593 99.2618,-354.2303 106.2602,-354.0839\"/>\n",
       "</g>\n",
       "<!-- test_remove_html_markup_146&#45;&gt;tag_remove_html_markup_147 -->\n",
       "<!-- remove_html_markupreturnvalue_remove_html_markup_153 -->\n",
       "<g id=\"node12\" class=\"node\">\n",
       "<title>remove_html_markupreturnvalue_remove_html_markup_153</title>\n",
       "<g id=\"a_node12\"><a xlink:title=\"remove_html_markup:153\">\n",
       "<polygon fill=\"#ffdab9\" stroke=\"#000000\" points=\"529.5,-40 218.5,-40 218.5,0 529.5,0 529.5,-40\"/>\n",
       "<text text-anchor=\"start\" x=\"226.5\" y=\"-25.8\" font-family=\"Fira Mono\" font-weight=\"bold\" font-style=\"italic\" font-size=\"14.00\" fill=\"#000000\">&lt;remove_html_markup() return value&gt;</text>\n",
       "<text text-anchor=\"start\" x=\"346.5\" y=\"-6.8\" font-family=\"Fira Mono\" font-size=\"9.00\" fill=\"#000000\">return out</text>\n",
       "</a>\n",
       "</g>\n",
       "</g>\n",
       "<!-- test_remove_html_markup_146&#45;&gt;remove_html_markupreturnvalue_remove_html_markup_153 -->\n",
       "<g id=\"edge17\" class=\"edge\">\n",
       "<title>test_remove_html_markup_146&#45;&gt;remove_html_markupreturnvalue_remove_html_markup_153</title>\n",
       "<path fill=\"none\" stroke=\"#000000\" d=\"M173.8411,-379.9059C229.0918,-357.3713 302,-314.9508 302,-248 302,-248 302,-248 302,-172 302,-128.4172 301.9948,-114.7202 322,-76 327.3154,-65.7121 335.0508,-55.9298 342.9383,-47.5043\"/>\n",
       "<polygon fill=\"#000000\" stroke=\"#000000\" points=\"345.636,-49.753 350.1596,-40.1724 340.6488,-44.841 345.636,-49.753\"/>\n",
       "</g>\n",
       "<!-- out_remove_html_markup_151&#45;&gt;out_remove_html_markup_151 -->\n",
       "<g id=\"edge4\" class=\"edge\">\n",
       "<title>out_remove_html_markup_151&#45;&gt;out_remove_html_markup_151</title>\n",
       "<path fill=\"none\" stroke=\"#000000\" d=\"M417.6694,-109.9682C427.9301,-108.8201 435.5,-104.1641 435.5,-96 435.5,-90.7699 432.3933,-86.9795 427.4627,-84.6287\"/>\n",
       "<polygon fill=\"#000000\" stroke=\"#000000\" points=\"428.2324,-81.212 417.6694,-82.0318 426.4382,-87.9781 428.2324,-81.212\"/>\n",
       "</g>\n",
       "<!-- out_remove_html_markup_151&#45;&gt;remove_html_markupreturnvalue_remove_html_markup_153 -->\n",
       "<g id=\"edge16\" class=\"edge\">\n",
       "<title>out_remove_html_markup_151&#45;&gt;remove_html_markupreturnvalue_remove_html_markup_153</title>\n",
       "<path fill=\"none\" stroke=\"#000000\" d=\"M367.9426,-75.6334C367.2819,-67.8186 367.0939,-58.7253 367.3786,-50.183\"/>\n",
       "<polygon fill=\"#000000\" stroke=\"#000000\" points=\"370.875,-50.3453 367.9602,-40.1593 363.8867,-49.9397 370.875,-50.3453\"/>\n",
       "</g>\n",
       "<!-- out_remove_html_markup_151&#45;&gt;remove_html_markupreturnvalue_remove_html_markup_153 -->\n",
       "<!-- out_remove_html_markup_139&#45;&gt;c_remove_html_markup_141 -->\n",
       "<!-- out_remove_html_markup_139&#45;&gt;out_remove_html_markup_151 -->\n",
       "<g id=\"edge6\" class=\"edge\">\n",
       "<title>out_remove_html_markup_139&#45;&gt;out_remove_html_markup_151</title>\n",
       "<path fill=\"none\" stroke=\"#000000\" d=\"M267.248,-688.7009C308.6785,-665.3442 378,-616.6101 378,-552 378,-552 378,-552 378,-248 378,-205.7312 376.4351,-156.8735 375.263,-126.2055\"/>\n",
       "<polygon fill=\"#000000\" stroke=\"#000000\" points=\"378.7582,-126.0118 374.8679,-116.157 371.7636,-126.2868 378.7582,-126.0118\"/>\n",
       "</g>\n",
       "<!-- test_remove_html_markup_150&#45;&gt;out_remove_html_markup_151 -->\n",
       "<g id=\"edge7\" class=\"edge\">\n",
       "<title>test_remove_html_markup_150&#45;&gt;out_remove_html_markup_151</title>\n",
       "<path fill=\"none\" stroke=\"#c0c0c0\" stroke-dasharray=\"5,2\" d=\"M211.7355,-153.6994C243.5843,-141.5066 286.7962,-125.5738 320.6634,-113.5408\"/>\n",
       "<polygon fill=\"#c0c0c0\" stroke=\"#c0c0c0\" points=\"322.1382,-116.7318 330.3997,-110.0987 319.8049,-110.132 322.1382,-116.7318\"/>\n",
       "</g>\n",
       "<!-- test_remove_html_markup_150&#45;&gt;out_remove_html_markup_151 -->\n",
       "<!-- s_remove_html_markup_136 -->\n",
       "<g id=\"node10\" class=\"node\">\n",
       "<title>s_remove_html_markup_136</title>\n",
       "<g id=\"a_node10\"><a xlink:title=\"remove_html_markup:136\">\n",
       "<polygon fill=\"#ffdab9\" stroke=\"#000000\" points=\"221.5,-952 64.5,-952 64.5,-912 221.5,-912 221.5,-952\"/>\n",
       "<text text-anchor=\"start\" x=\"138.5\" y=\"-937.8\" font-family=\"Fira Mono\" font-weight=\"bold\" font-size=\"14.00\" fill=\"#000000\">s</text>\n",
       "<text text-anchor=\"start\" x=\"72.5\" y=\"-918.8\" font-family=\"Fira Mono\" font-size=\"9.00\" fill=\"#000000\">def remove_html_markup(s):</text>\n",
       "</a>\n",
       "</g>\n",
       "</g>\n",
       "<!-- s_remove_html_markup_136&#45;&gt;c_remove_html_markup_141 -->\n",
       "<g id=\"edge11\" class=\"edge\">\n",
       "<title>s_remove_html_markup_136&#45;&gt;c_remove_html_markup_141</title>\n",
       "<path fill=\"none\" stroke=\"#000000\" d=\"M148.2235,-911.8228C150.9314,-901.1872 154.2403,-887.9106 157,-876 176.6956,-790.9946 176.891,-768.6654 198,-684 200.1216,-675.4906 202.6422,-666.319 205.0479,-657.9108\"/>\n",
       "<polygon fill=\"#000000\" stroke=\"#000000\" points=\"208.4608,-658.7085 207.8908,-648.129 201.739,-656.7548 208.4608,-658.7085\"/>\n",
       "</g>\n",
       "<!-- tag_remove_html_markup_137 -->\n",
       "<g id=\"node13\" class=\"node\">\n",
       "<title>tag_remove_html_markup_137</title>\n",
       "<g id=\"a_node13\"><a xlink:title=\"remove_html_markup:137\">\n",
       "<polygon fill=\"#ffdab9\" stroke=\"#000000\" points=\"148,-876 72,-876 72,-836 148,-836 148,-876\"/>\n",
       "<text text-anchor=\"start\" x=\"97\" y=\"-861.8\" font-family=\"Fira Mono\" font-weight=\"bold\" font-size=\"14.00\" fill=\"#000000\">tag</text>\n",
       "<text text-anchor=\"start\" x=\"80\" y=\"-842.8\" font-family=\"Fira Mono\" font-size=\"9.00\" fill=\"#000000\">tag = False</text>\n",
       "</a>\n",
       "</g>\n",
       "</g>\n",
       "<!-- s_remove_html_markup_136&#45;&gt;tag_remove_html_markup_137 -->\n",
       "<!-- tag_remove_html_markup_147&#45;&gt;test_remove_html_markup_148 -->\n",
       "<!-- tag_remove_html_markup_147&#45;&gt;test_remove_html_markup_150 -->\n",
       "<g id=\"edge13\" class=\"edge\">\n",
       "<title>tag_remove_html_markup_147&#45;&gt;test_remove_html_markup_150</title>\n",
       "<path fill=\"none\" stroke=\"#000000\" d=\"M80.8217,-303.9988C70.3841,-294.3887 59.5462,-281.9288 54,-268 47.4233,-251.4834 44.6005,-243.0897 54,-228 67.4148,-206.4644 91.8006,-192.9747 114.5853,-184.6489\"/>\n",
       "<polygon fill=\"#000000\" stroke=\"#000000\" points=\"115.866,-187.9105 124.2155,-181.3884 113.6212,-181.2802 115.866,-187.9105\"/>\n",
       "</g>\n",
       "<!-- tag_remove_html_markup_137&#45;&gt;quote_remove_html_markup_138 -->\n",
       "</g>\n",
       "</svg>\n"
      ],
      "text/plain": [
       "<graphviz.dot.Digraph at 0x7fbb1d6246a0>"
      ]
     },
     "execution_count": 164,
     "metadata": {},
     "output_type": "execute_result"
    }
   ],
   "source": [
    "rhm_slicer.graph()"
   ]
  },
  {
   "cell_type": "code",
   "execution_count": 165,
   "metadata": {
    "slideshow": {
     "slide_type": "subslide"
    }
   },
   "outputs": [
    {
     "name": "stdout",
     "output_type": "stream",
     "text": [
      "*  136 \u001b[34mdef\u001b[39;49;00m \u001b[32mremove_html_markup\u001b[39;49;00m(s):\n",
      "*  137     tag = \u001b[34mFalse\u001b[39;49;00m\n",
      "*  138     quote = \u001b[34mFalse\u001b[39;49;00m\n",
      "*  139     out = \u001b[33m\"\u001b[39;49;00m\u001b[33m\"\u001b[39;49;00m\n",
      "   140 \n",
      "*  141     \u001b[34mfor\u001b[39;49;00m c \u001b[35min\u001b[39;49;00m s:  \u001b[37m# <= s (136)\u001b[39;49;00m\n",
      "   142         \u001b[34massert\u001b[39;49;00m tag \u001b[35mor\u001b[39;49;00m \u001b[35mnot\u001b[39;49;00m quote\n",
      "   143 \n",
      "*  144         \u001b[34mif\u001b[39;49;00m c == \u001b[33m'\u001b[39;49;00m\u001b[33m<\u001b[39;49;00m\u001b[33m'\u001b[39;49;00m \u001b[35mand\u001b[39;49;00m \u001b[35mnot\u001b[39;49;00m quote:  \u001b[37m# <= quote (138), c (141)\u001b[39;49;00m\n",
      "*  145             tag = \u001b[34mTrue\u001b[39;49;00m  \u001b[37m# <- <test> (144)\u001b[39;49;00m\n",
      "*  146         \u001b[34melif\u001b[39;49;00m c == \u001b[33m'\u001b[39;49;00m\u001b[33m>\u001b[39;49;00m\u001b[33m'\u001b[39;49;00m \u001b[35mand\u001b[39;49;00m \u001b[35mnot\u001b[39;49;00m quote:  \u001b[37m# <= quote (138), c (141); <- <test> (144)\u001b[39;49;00m\n",
      "*  147             tag = \u001b[34mFalse\u001b[39;49;00m  \u001b[37m# <- <test> (146)\u001b[39;49;00m\n",
      "*  148         \u001b[34melif\u001b[39;49;00m (c == \u001b[33m'\u001b[39;49;00m\u001b[33m\"\u001b[39;49;00m\u001b[33m'\u001b[39;49;00m \u001b[35mor\u001b[39;49;00m c == \u001b[33m\"\u001b[39;49;00m\u001b[33m'\u001b[39;49;00m\u001b[33m\"\u001b[39;49;00m) \u001b[35mand\u001b[39;49;00m tag:  \u001b[37m# <= c (141); <- <test> (146)\u001b[39;49;00m\n",
      "   149             quote = \u001b[35mnot\u001b[39;49;00m quote\n",
      "*  150         \u001b[34melif\u001b[39;49;00m \u001b[35mnot\u001b[39;49;00m tag:  \u001b[37m# <= tag (147), tag (145); <- <test> (148)\u001b[39;49;00m\n",
      "*  151             out = out + c  \u001b[37m# <= out (151), c (141), out (139); <- <test> (150)\u001b[39;49;00m\n",
      "   152 \n",
      "*  153     \u001b[34mreturn\u001b[39;49;00m out  \u001b[37m# <= out (151), <test> (146)\u001b[39;49;00m\n"
     ]
    }
   ],
   "source": [
    "rhm_slicer.code()"
   ]
  },
  {
   "cell_type": "code",
   "execution_count": 166,
   "metadata": {
    "slideshow": {
     "slide_type": "subslide"
    }
   },
   "outputs": [
    {
     "data": {
      "image/svg+xml": [
       "<?xml version=\"1.0\" encoding=\"UTF-8\" standalone=\"no\"?>\n",
       "<!DOCTYPE svg PUBLIC \"-//W3C//DTD SVG 1.1//EN\"\n",
       " \"http://www.w3.org/Graphics/SVG/1.1/DTD/svg11.dtd\">\n",
       "<!-- Generated by graphviz version 2.40.1 (20161225.0304)\n",
       " -->\n",
       "<!-- Title: dependencies Pages: 1 -->\n",
       "<svg width=\"203pt\" height=\"352pt\"\n",
       " viewBox=\"0.00 0.00 202.50 352.00\" xmlns=\"http://www.w3.org/2000/svg\" xmlns:xlink=\"http://www.w3.org/1999/xlink\">\n",
       "<g id=\"graph0\" class=\"graph\" transform=\"scale(1 1) rotate(0) translate(4 348)\">\n",
       "<title>dependencies</title>\n",
       "<polygon fill=\"#ffffff\" stroke=\"transparent\" points=\"-4,4 -4,-348 198.5,-348 198.5,4 -4,4\"/>\n",
       "<!-- tag_remove_html_markup_145 -->\n",
       "<g id=\"node1\" class=\"node\">\n",
       "<title>tag_remove_html_markup_145</title>\n",
       "<g id=\"a_node1\"><a xlink:title=\"remove_html_markup:145\">\n",
       "<polygon fill=\"#ffdab9\" stroke=\"#000000\" points=\"114,-192 43,-192 43,-152 114,-152 114,-192\"/>\n",
       "<text text-anchor=\"start\" x=\"65.5\" y=\"-177.8\" font-family=\"Fira Mono\" font-weight=\"bold\" font-size=\"14.00\" fill=\"#000000\">tag</text>\n",
       "<text text-anchor=\"start\" x=\"51\" y=\"-158.8\" font-family=\"Fira Mono\" font-size=\"9.00\" fill=\"#000000\">tag = True</text>\n",
       "</a>\n",
       "</g>\n",
       "</g>\n",
       "<!-- test_remove_html_markup_146 -->\n",
       "<g id=\"node3\" class=\"node\">\n",
       "<title>test_remove_html_markup_146</title>\n",
       "<g id=\"a_node3\"><a xlink:title=\"remove_html_markup:146\">\n",
       "<polygon fill=\"#ffdab9\" stroke=\"#000000\" points=\"194.5,-116 26.5,-116 26.5,-76 194.5,-76 194.5,-116\"/>\n",
       "<text text-anchor=\"start\" x=\"85\" y=\"-101.8\" font-family=\"Fira Mono\" font-weight=\"bold\" font-style=\"italic\" font-size=\"14.00\" fill=\"#000000\">&lt;test&gt;</text>\n",
       "<text text-anchor=\"start\" x=\"34.5\" y=\"-82.8\" font-family=\"Fira Mono\" font-size=\"9.00\" fill=\"#000000\">elif c == &#39;&gt;&#39; and not quote:</text>\n",
       "</a>\n",
       "</g>\n",
       "</g>\n",
       "<!-- tag_remove_html_markup_145&#45;&gt;test_remove_html_markup_146 -->\n",
       "<!-- test_remove_html_markup_144 -->\n",
       "<g id=\"node2\" class=\"node\">\n",
       "<title>test_remove_html_markup_144</title>\n",
       "<g id=\"a_node2\"><a xlink:title=\"remove_html_markup:144\">\n",
       "<polygon fill=\"#ffdab9\" stroke=\"#000000\" points=\"157,-268 0,-268 0,-228 157,-228 157,-268\"/>\n",
       "<text text-anchor=\"start\" x=\"53\" y=\"-253.8\" font-family=\"Fira Mono\" font-weight=\"bold\" font-style=\"italic\" font-size=\"14.00\" fill=\"#000000\">&lt;test&gt;</text>\n",
       "<text text-anchor=\"start\" x=\"8\" y=\"-234.8\" font-family=\"Fira Mono\" font-size=\"9.00\" fill=\"#000000\">if c == &#39;&lt;&#39; and not quote:</text>\n",
       "</a>\n",
       "</g>\n",
       "</g>\n",
       "<!-- test_remove_html_markup_144&#45;&gt;tag_remove_html_markup_145 -->\n",
       "<g id=\"edge1\" class=\"edge\">\n",
       "<title>test_remove_html_markup_144&#45;&gt;tag_remove_html_markup_145</title>\n",
       "<path fill=\"none\" stroke=\"#c0c0c0\" stroke-dasharray=\"5,2\" d=\"M72.4426,-227.6334C71.7819,-219.8186 71.5939,-210.7253 71.8786,-202.183\"/>\n",
       "<polygon fill=\"#c0c0c0\" stroke=\"#c0c0c0\" points=\"75.375,-202.3453 72.4602,-192.1593 68.3867,-201.9397 75.375,-202.3453\"/>\n",
       "</g>\n",
       "<!-- test_remove_html_markup_144&#45;&gt;tag_remove_html_markup_145 -->\n",
       "<!-- test_remove_html_markup_144&#45;&gt;test_remove_html_markup_146 -->\n",
       "<g id=\"edge2\" class=\"edge\">\n",
       "<title>test_remove_html_markup_144&#45;&gt;test_remove_html_markup_146</title>\n",
       "<path fill=\"none\" stroke=\"#c0c0c0\" stroke-dasharray=\"5,2\" d=\"M100.3191,-227.804C109.339,-217.9836 118.779,-205.4117 123.5,-192 131.0265,-170.6181 127.0247,-145.1414 121.5472,-125.8081\"/>\n",
       "<polygon fill=\"#c0c0c0\" stroke=\"#c0c0c0\" points=\"124.8209,-124.5485 118.5092,-116.0389 118.1366,-126.6272 124.8209,-124.5485\"/>\n",
       "</g>\n",
       "<!-- tag_remove_html_markup_147 -->\n",
       "<g id=\"node4\" class=\"node\">\n",
       "<title>tag_remove_html_markup_147</title>\n",
       "<g id=\"a_node4\"><a xlink:title=\"remove_html_markup:147\">\n",
       "<polygon fill=\"#ffdab9\" stroke=\"#000000\" points=\"148.5,-40 72.5,-40 72.5,0 148.5,0 148.5,-40\"/>\n",
       "<text text-anchor=\"start\" x=\"97.5\" y=\"-25.8\" font-family=\"Fira Mono\" font-weight=\"bold\" font-size=\"14.00\" fill=\"#000000\">tag</text>\n",
       "<text text-anchor=\"start\" x=\"80.5\" y=\"-6.8\" font-family=\"Fira Mono\" font-size=\"9.00\" fill=\"#000000\">tag = False</text>\n",
       "</a>\n",
       "</g>\n",
       "</g>\n",
       "<!-- test_remove_html_markup_146&#45;&gt;tag_remove_html_markup_147 -->\n",
       "<g id=\"edge3\" class=\"edge\">\n",
       "<title>test_remove_html_markup_146&#45;&gt;tag_remove_html_markup_147</title>\n",
       "<path fill=\"none\" stroke=\"#c0c0c0\" stroke-dasharray=\"5,2\" d=\"M104.4426,-75.6334C103.7819,-67.8186 103.5939,-58.7253 103.8786,-50.183\"/>\n",
       "<polygon fill=\"#c0c0c0\" stroke=\"#c0c0c0\" points=\"107.375,-50.3453 104.4602,-40.1593 100.3867,-49.9397 107.375,-50.3453\"/>\n",
       "</g>\n",
       "<!-- test_remove_html_markup_146&#45;&gt;tag_remove_html_markup_147 -->\n",
       "<!-- tag_remove_html_markup_137 -->\n",
       "<g id=\"node5\" class=\"node\">\n",
       "<title>tag_remove_html_markup_137</title>\n",
       "<g id=\"a_node5\"><a xlink:title=\"remove_html_markup:137\">\n",
       "<polygon fill=\"#ffdab9\" stroke=\"#000000\" points=\"116.5,-344 40.5,-344 40.5,-304 116.5,-304 116.5,-344\"/>\n",
       "<text text-anchor=\"start\" x=\"65.5\" y=\"-329.8\" font-family=\"Fira Mono\" font-weight=\"bold\" font-size=\"14.00\" fill=\"#000000\">tag</text>\n",
       "<text text-anchor=\"start\" x=\"48.5\" y=\"-310.8\" font-family=\"Fira Mono\" font-size=\"9.00\" fill=\"#000000\">tag = False</text>\n",
       "</a>\n",
       "</g>\n",
       "</g>\n",
       "<!-- tag_remove_html_markup_137&#45;&gt;test_remove_html_markup_144 -->\n",
       "</g>\n",
       "</svg>\n"
      ],
      "text/plain": [
       "<graphviz.dot.Digraph at 0x7fbb1d501f28>"
      ]
     },
     "execution_count": 166,
     "metadata": {},
     "output_type": "execute_result"
    }
   ],
   "source": [
    "rhm_slicer.dependencies().backward_slice('tag', mode='c').graph()"
   ]
  },
  {
   "cell_type": "code",
   "execution_count": 167,
   "metadata": {
    "slideshow": {
     "slide_type": "fragment"
    }
   },
   "outputs": [],
   "source": [
    "def add_to(n, m):\n",
    "    n += m\n",
    "    return n"
   ]
  },
  {
   "cell_type": "code",
   "execution_count": 168,
   "metadata": {
    "slideshow": {
     "slide_type": "fragment"
    }
   },
   "outputs": [],
   "source": [
    "def mul_with(x, y):\n",
    "    x *= y\n",
    "    return x"
   ]
  },
  {
   "cell_type": "code",
   "execution_count": 169,
   "metadata": {
    "slideshow": {
     "slide_type": "fragment"
    }
   },
   "outputs": [],
   "source": [
    "def test_math():\n",
    "    return mul_with(1, add_to(2, 2))"
   ]
  },
  {
   "cell_type": "code",
   "execution_count": 170,
   "metadata": {
    "slideshow": {
     "slide_type": "fragment"
    }
   },
   "outputs": [],
   "source": [
    "with Slicer(add_to, mul_with, test_math) as math_slicer:\n",
    "    test_math()"
   ]
  },
  {
   "cell_type": "code",
   "execution_count": 171,
   "metadata": {
    "slideshow": {
     "slide_type": "fragment"
    }
   },
   "outputs": [
    {
     "data": {
      "image/svg+xml": [
       "<?xml version=\"1.0\" encoding=\"UTF-8\" standalone=\"no\"?>\n",
       "<!DOCTYPE svg PUBLIC \"-//W3C//DTD SVG 1.1//EN\"\n",
       " \"http://www.w3.org/Graphics/SVG/1.1/DTD/svg11.dtd\">\n",
       "<!-- Generated by graphviz version 2.40.1 (20161225.0304)\n",
       " -->\n",
       "<!-- Title: dependencies Pages: 1 -->\n",
       "<svg width=\"385pt\" height=\"504pt\"\n",
       " viewBox=\"0.00 0.00 384.50 504.00\" xmlns=\"http://www.w3.org/2000/svg\" xmlns:xlink=\"http://www.w3.org/1999/xlink\">\n",
       "<g id=\"graph0\" class=\"graph\" transform=\"scale(1 1) rotate(0) translate(4 500)\">\n",
       "<title>dependencies</title>\n",
       "<polygon fill=\"#ffffff\" stroke=\"transparent\" points=\"-4,4 -4,-500 380.5,-500 380.5,4 -4,4\"/>\n",
       "<!-- x_mul_with_1 -->\n",
       "<g id=\"node1\" class=\"node\">\n",
       "<title>x_mul_with_1</title>\n",
       "<g id=\"a_node1\"><a xlink:title=\"mul_with:1\">\n",
       "<polygon fill=\"#ffdab9\" stroke=\"#000000\" points=\"119,-268 0,-268 0,-228 119,-228 119,-268\"/>\n",
       "<text text-anchor=\"start\" x=\"55\" y=\"-253.8\" font-family=\"Fira Mono\" font-weight=\"bold\" font-size=\"14.00\" fill=\"#000000\">x</text>\n",
       "<text text-anchor=\"start\" x=\"8\" y=\"-234.8\" font-family=\"Fira Mono\" font-size=\"9.00\" fill=\"#000000\">def mul_with(x, y):</text>\n",
       "</a>\n",
       "</g>\n",
       "</g>\n",
       "<!-- x_mul_with_2 -->\n",
       "<g id=\"node3\" class=\"node\">\n",
       "<title>x_mul_with_2</title>\n",
       "<g id=\"a_node3\"><a xlink:title=\"mul_with:2\">\n",
       "<polygon fill=\"#ffdab9\" stroke=\"#000000\" points=\"223.5,-192 169.5,-192 169.5,-152 223.5,-152 223.5,-192\"/>\n",
       "<text text-anchor=\"start\" x=\"192\" y=\"-177.8\" font-family=\"Fira Mono\" font-weight=\"bold\" font-size=\"14.00\" fill=\"#000000\">x</text>\n",
       "<text text-anchor=\"start\" x=\"180\" y=\"-158.8\" font-family=\"Fira Mono\" font-size=\"9.00\" fill=\"#000000\">x *= y</text>\n",
       "</a>\n",
       "</g>\n",
       "</g>\n",
       "<!-- x_mul_with_1&#45;&gt;x_mul_with_2 -->\n",
       "<g id=\"edge8\" class=\"edge\">\n",
       "<title>x_mul_with_1&#45;&gt;x_mul_with_2</title>\n",
       "<path fill=\"none\" stroke=\"#000000\" d=\"M95.8538,-227.8329C115.7893,-216.7738 140.4227,-203.1086 160.3293,-192.0655\"/>\n",
       "<polygon fill=\"#000000\" stroke=\"#000000\" points=\"162.0624,-195.1066 169.1091,-187.1949 158.6667,-188.9854 162.0624,-195.1066\"/>\n",
       "</g>\n",
       "<!-- mul_withreturnvalue_mul_with_3 -->\n",
       "<g id=\"node2\" class=\"node\">\n",
       "<title>mul_withreturnvalue_mul_with_3</title>\n",
       "<g id=\"a_node2\"><a xlink:title=\"mul_with:3\">\n",
       "<polygon fill=\"#ffdab9\" stroke=\"#000000\" points=\"310,-116 83,-116 83,-76 310,-76 310,-116\"/>\n",
       "<text text-anchor=\"start\" x=\"91\" y=\"-101.8\" font-family=\"Fira Mono\" font-weight=\"bold\" font-style=\"italic\" font-size=\"14.00\" fill=\"#000000\">&lt;mul_with() return value&gt;</text>\n",
       "<text text-anchor=\"start\" x=\"174.5\" y=\"-82.8\" font-family=\"Fira Mono\" font-size=\"9.00\" fill=\"#000000\">return x</text>\n",
       "</a>\n",
       "</g>\n",
       "</g>\n",
       "<!-- test_mathreturnvalue_test_math_2 -->\n",
       "<g id=\"node4\" class=\"node\">\n",
       "<title>test_mathreturnvalue_test_math_2</title>\n",
       "<g id=\"a_node4\"><a xlink:title=\"test_math:2\">\n",
       "<polygon fill=\"#ffdab9\" stroke=\"#000000\" points=\"314,-40 79,-40 79,0 314,0 314,-40\"/>\n",
       "<text text-anchor=\"start\" x=\"87\" y=\"-25.8\" font-family=\"Fira Mono\" font-weight=\"bold\" font-style=\"italic\" font-size=\"14.00\" fill=\"#000000\">&lt;test_math() return value&gt;</text>\n",
       "<text text-anchor=\"start\" x=\"110\" y=\"-6.8\" font-family=\"Fira Mono\" font-size=\"9.00\" fill=\"#000000\">return mul_with(1, add_to(2, 2))</text>\n",
       "</a>\n",
       "</g>\n",
       "</g>\n",
       "<!-- mul_withreturnvalue_mul_with_3&#45;&gt;test_mathreturnvalue_test_math_2 -->\n",
       "<g id=\"edge2\" class=\"edge\">\n",
       "<title>mul_withreturnvalue_mul_with_3&#45;&gt;test_mathreturnvalue_test_math_2</title>\n",
       "<path fill=\"none\" stroke=\"#000000\" d=\"M196.5,-75.6334C196.5,-67.8186 196.5,-58.7253 196.5,-50.183\"/>\n",
       "<polygon fill=\"#000000\" stroke=\"#000000\" points=\"200.0001,-50.1593 196.5,-40.1593 193.0001,-50.1593 200.0001,-50.1593\"/>\n",
       "</g>\n",
       "<!-- x_mul_with_2&#45;&gt;mul_withreturnvalue_mul_with_3 -->\n",
       "<g id=\"edge1\" class=\"edge\">\n",
       "<title>x_mul_with_2&#45;&gt;mul_withreturnvalue_mul_with_3</title>\n",
       "<path fill=\"none\" stroke=\"#000000\" d=\"M190.4426,-151.6334C189.7819,-143.8186 189.5939,-134.7253 189.8786,-126.183\"/>\n",
       "<polygon fill=\"#000000\" stroke=\"#000000\" points=\"193.375,-126.3453 190.4602,-116.1593 186.3867,-125.9397 193.375,-126.3453\"/>\n",
       "</g>\n",
       "<!-- x_mul_with_2&#45;&gt;mul_withreturnvalue_mul_with_3 -->\n",
       "<!-- n_add_to_1 -->\n",
       "<g id=\"node5\" class=\"node\">\n",
       "<title>n_add_to_1</title>\n",
       "<g id=\"a_node5\"><a xlink:title=\"add_to:1\">\n",
       "<polygon fill=\"#ffdab9\" stroke=\"#000000\" points=\"250.5,-496 142.5,-496 142.5,-456 250.5,-456 250.5,-496\"/>\n",
       "<text text-anchor=\"start\" x=\"192\" y=\"-481.8\" font-family=\"Fira Mono\" font-weight=\"bold\" font-size=\"14.00\" fill=\"#000000\">n</text>\n",
       "<text text-anchor=\"start\" x=\"150.5\" y=\"-462.8\" font-family=\"Fira Mono\" font-size=\"9.00\" fill=\"#000000\">def add_to(n, m):</text>\n",
       "</a>\n",
       "</g>\n",
       "</g>\n",
       "<!-- n_add_to_2 -->\n",
       "<g id=\"node6\" class=\"node\">\n",
       "<title>n_add_to_2</title>\n",
       "<g id=\"a_node6\"><a xlink:title=\"add_to:2\">\n",
       "<polygon fill=\"#ffdab9\" stroke=\"#000000\" points=\"223.5,-420 169.5,-420 169.5,-380 223.5,-380 223.5,-420\"/>\n",
       "<text text-anchor=\"start\" x=\"192\" y=\"-405.8\" font-family=\"Fira Mono\" font-weight=\"bold\" font-size=\"14.00\" fill=\"#000000\">n</text>\n",
       "<text text-anchor=\"start\" x=\"180\" y=\"-386.8\" font-family=\"Fira Mono\" font-size=\"9.00\" fill=\"#000000\">n += m</text>\n",
       "</a>\n",
       "</g>\n",
       "</g>\n",
       "<!-- n_add_to_1&#45;&gt;n_add_to_2 -->\n",
       "<g id=\"edge4\" class=\"edge\">\n",
       "<title>n_add_to_1&#45;&gt;n_add_to_2</title>\n",
       "<path fill=\"none\" stroke=\"#000000\" d=\"M190.4426,-455.6334C189.7819,-447.8186 189.5939,-438.7253 189.8786,-430.183\"/>\n",
       "<polygon fill=\"#000000\" stroke=\"#000000\" points=\"193.375,-430.3453 190.4602,-420.1593 186.3867,-429.9397 193.375,-430.3453\"/>\n",
       "</g>\n",
       "<!-- n_add_to_1&#45;&gt;n_add_to_2 -->\n",
       "<!-- add_toreturnvalue_add_to_3 -->\n",
       "<g id=\"node8\" class=\"node\">\n",
       "<title>add_toreturnvalue_add_to_3</title>\n",
       "<g id=\"a_node8\"><a xlink:title=\"add_to:3\">\n",
       "<polygon fill=\"#ffdab9\" stroke=\"#000000\" points=\"301.5,-344 91.5,-344 91.5,-304 301.5,-304 301.5,-344\"/>\n",
       "<text text-anchor=\"start\" x=\"99.5\" y=\"-329.8\" font-family=\"Fira Mono\" font-weight=\"bold\" font-style=\"italic\" font-size=\"14.00\" fill=\"#000000\">&lt;add_to() return value&gt;</text>\n",
       "<text text-anchor=\"start\" x=\"174.5\" y=\"-310.8\" font-family=\"Fira Mono\" font-size=\"9.00\" fill=\"#000000\">return n</text>\n",
       "</a>\n",
       "</g>\n",
       "</g>\n",
       "<!-- n_add_to_2&#45;&gt;add_toreturnvalue_add_to_3 -->\n",
       "<g id=\"edge5\" class=\"edge\">\n",
       "<title>n_add_to_2&#45;&gt;add_toreturnvalue_add_to_3</title>\n",
       "<path fill=\"none\" stroke=\"#000000\" d=\"M190.4426,-379.6334C189.7819,-371.8186 189.5939,-362.7253 189.8786,-354.183\"/>\n",
       "<polygon fill=\"#000000\" stroke=\"#000000\" points=\"193.375,-354.3453 190.4602,-344.1593 186.3867,-353.9397 193.375,-354.3453\"/>\n",
       "</g>\n",
       "<!-- n_add_to_2&#45;&gt;add_toreturnvalue_add_to_3 -->\n",
       "<!-- m_add_to_1 -->\n",
       "<g id=\"node7\" class=\"node\">\n",
       "<title>m_add_to_1</title>\n",
       "<g id=\"a_node7\"><a xlink:title=\"add_to:1\">\n",
       "<polygon fill=\"#ffdab9\" stroke=\"#000000\" points=\"376.5,-496 268.5,-496 268.5,-456 376.5,-456 376.5,-496\"/>\n",
       "<text text-anchor=\"start\" x=\"318\" y=\"-481.8\" font-family=\"Fira Mono\" font-weight=\"bold\" font-size=\"14.00\" fill=\"#000000\">m</text>\n",
       "<text text-anchor=\"start\" x=\"276.5\" y=\"-462.8\" font-family=\"Fira Mono\" font-size=\"9.00\" fill=\"#000000\">def add_to(n, m):</text>\n",
       "</a>\n",
       "</g>\n",
       "</g>\n",
       "<!-- m_add_to_1&#45;&gt;n_add_to_2 -->\n",
       "<g id=\"edge3\" class=\"edge\">\n",
       "<title>m_add_to_1&#45;&gt;n_add_to_2</title>\n",
       "<path fill=\"none\" stroke=\"#000000\" d=\"M289.0651,-455.8329C271.6815,-445.3476 250.4138,-432.5195 232.6498,-421.8047\"/>\n",
       "<polygon fill=\"#000000\" stroke=\"#000000\" points=\"234.0896,-418.5857 223.7189,-416.4178 230.4741,-424.5798 234.0896,-418.5857\"/>\n",
       "</g>\n",
       "<!-- y_mul_with_1 -->\n",
       "<g id=\"node9\" class=\"node\">\n",
       "<title>y_mul_with_1</title>\n",
       "<g id=\"a_node9\"><a xlink:title=\"mul_with:1\">\n",
       "<polygon fill=\"#ffdab9\" stroke=\"#000000\" points=\"256,-268 137,-268 137,-228 256,-228 256,-268\"/>\n",
       "<text text-anchor=\"start\" x=\"192\" y=\"-253.8\" font-family=\"Fira Mono\" font-weight=\"bold\" font-size=\"14.00\" fill=\"#000000\">y</text>\n",
       "<text text-anchor=\"start\" x=\"145\" y=\"-234.8\" font-family=\"Fira Mono\" font-size=\"9.00\" fill=\"#000000\">def mul_with(x, y):</text>\n",
       "</a>\n",
       "</g>\n",
       "</g>\n",
       "<!-- add_toreturnvalue_add_to_3&#45;&gt;y_mul_with_1 -->\n",
       "<g id=\"edge6\" class=\"edge\">\n",
       "<title>add_toreturnvalue_add_to_3&#45;&gt;y_mul_with_1</title>\n",
       "<path fill=\"none\" stroke=\"#000000\" d=\"M196.5,-303.6334C196.5,-295.8186 196.5,-286.7253 196.5,-278.183\"/>\n",
       "<polygon fill=\"#000000\" stroke=\"#000000\" points=\"200.0001,-278.1593 196.5,-268.1593 193.0001,-278.1593 200.0001,-278.1593\"/>\n",
       "</g>\n",
       "<!-- y_mul_with_1&#45;&gt;x_mul_with_2 -->\n",
       "<g id=\"edge7\" class=\"edge\">\n",
       "<title>y_mul_with_1&#45;&gt;x_mul_with_2</title>\n",
       "<path fill=\"none\" stroke=\"#000000\" d=\"M190.4426,-227.6334C189.7819,-219.8186 189.5939,-210.7253 189.8786,-202.183\"/>\n",
       "<polygon fill=\"#000000\" stroke=\"#000000\" points=\"193.375,-202.3453 190.4602,-192.1593 186.3867,-201.9397 193.375,-202.3453\"/>\n",
       "</g>\n",
       "<!-- y_mul_with_1&#45;&gt;x_mul_with_2 -->\n",
       "</g>\n",
       "</svg>\n"
      ],
      "text/plain": [
       "<graphviz.dot.Digraph at 0x7fbb1d4af278>"
      ]
     },
     "execution_count": 171,
     "metadata": {},
     "output_type": "execute_result"
    }
   ],
   "source": [
    "math_slicer.graph()"
   ]
  },
  {
   "cell_type": "code",
   "execution_count": 172,
   "metadata": {
    "slideshow": {
     "slide_type": "subslide"
    }
   },
   "outputs": [
    {
     "name": "stdout",
     "output_type": "stream",
     "text": [
      "*    1 \u001b[34mdef\u001b[39;49;00m \u001b[32madd_to\u001b[39;49;00m(n, m):\n",
      "*    2     n += m  \u001b[37m# <= m (1), n (1)\u001b[39;49;00m\n",
      "*    3     \u001b[34mreturn\u001b[39;49;00m n  \u001b[37m# <= n (2)\u001b[39;49;00m\n",
      "\n",
      "*    1 \u001b[34mdef\u001b[39;49;00m \u001b[32mmul_with\u001b[39;49;00m(x, y):  \u001b[37m# <= <add_to() return value> (add_to:3)\u001b[39;49;00m\n",
      "*    2     x *= y  \u001b[37m# <= y (1), x (1)\u001b[39;49;00m\n",
      "*    3     \u001b[34mreturn\u001b[39;49;00m x  \u001b[37m# <= x (2)\u001b[39;49;00m\n",
      "\n",
      "     1 \u001b[34mdef\u001b[39;49;00m \u001b[32mtest_math\u001b[39;49;00m():\n",
      "*    2     \u001b[34mreturn\u001b[39;49;00m mul_with(\u001b[34m1\u001b[39;49;00m, add_to(\u001b[34m2\u001b[39;49;00m, \u001b[34m2\u001b[39;49;00m))  \u001b[37m# <= <mul_with() return value> (mul_with:3)\u001b[39;49;00m\n"
     ]
    }
   ],
   "source": [
    "math_slicer.code()"
   ]
  },
  {
   "cell_type": "code",
   "execution_count": 173,
   "metadata": {
    "slideshow": {
     "slide_type": "subslide"
    }
   },
   "outputs": [
    {
     "name": "stdout",
     "output_type": "stream",
     "text": [
      "mul_with():\n",
      "    y (1) <= <add_to() return value> (add_to:3)\n",
      "    x (2) <= y (1), x (1)\n",
      "    <mul_with() return value> (3) <= x (2)\n",
      "\n",
      "test_math():\n",
      "    <test_math() return value> (2) <= <mul_with() return value> (mul_with:3)\n",
      "\n",
      "add_to():\n",
      "    n (2) <= m (1), n (1)\n",
      "    <add_to() return value> (3) <= n (2)\n",
      "\n"
     ]
    }
   ],
   "source": [
    "print(math_slicer.dependencies())"
   ]
  },
  {
   "cell_type": "markdown",
   "metadata": {
    "slideshow": {
     "slide_type": "slide"
    }
   },
   "source": [
    "## Things that do not Work"
   ]
  },
  {
   "cell_type": "markdown",
   "metadata": {
    "slideshow": {
     "slide_type": "subslide"
    }
   },
   "source": [
    "### Data Structures"
   ]
  },
  {
   "cell_type": "code",
   "execution_count": 174,
   "metadata": {
    "slideshow": {
     "slide_type": "fragment"
    }
   },
   "outputs": [],
   "source": [
    "def test_array():\n",
    "    x = [1, 2, 3]\n",
    "    y = 4\n",
    "    x[2] = y\n",
    "    return x[2]"
   ]
  },
  {
   "cell_type": "code",
   "execution_count": 175,
   "metadata": {
    "slideshow": {
     "slide_type": "subslide"
    }
   },
   "outputs": [
    {
     "name": "stdout",
     "output_type": "stream",
     "text": [
      "Instrumenting <function test_array at 0x7fbb1d5760d0>:\n",
      "def test_array():\n",
      "    x = _data.set('x', [1, 2, 3])\n",
      "    y = _data.set('y', 4)\n",
      "    _data.get('x', x)[2] = _data.set('x[2]', _data.get('y', y))\n",
      "    return _data.set('<test_array() return value>', _data.get('x', x)[2])\n",
      "\n"
     ]
    }
   ],
   "source": [
    "with Slicer(test_array, log=True) as array_slicer:\n",
    "    test_array()"
   ]
  },
  {
   "cell_type": "code",
   "execution_count": 176,
   "metadata": {
    "slideshow": {
     "slide_type": "fragment"
    }
   },
   "outputs": [
    {
     "data": {
      "image/svg+xml": [
       "<?xml version=\"1.0\" encoding=\"UTF-8\" standalone=\"no\"?>\n",
       "<!DOCTYPE svg PUBLIC \"-//W3C//DTD SVG 1.1//EN\"\n",
       " \"http://www.w3.org/Graphics/SVG/1.1/DTD/svg11.dtd\">\n",
       "<!-- Generated by graphviz version 2.40.1 (20161225.0304)\n",
       " -->\n",
       "<!-- Title: dependencies Pages: 1 -->\n",
       "<svg width=\"251pt\" height=\"276pt\"\n",
       " viewBox=\"0.00 0.00 251.00 276.00\" xmlns=\"http://www.w3.org/2000/svg\" xmlns:xlink=\"http://www.w3.org/1999/xlink\">\n",
       "<g id=\"graph0\" class=\"graph\" transform=\"scale(1 1) rotate(0) translate(4 272)\">\n",
       "<title>dependencies</title>\n",
       "<polygon fill=\"#ffffff\" stroke=\"transparent\" points=\"-4,4 -4,-272 247,-272 247,4 -4,4\"/>\n",
       "<!-- x_test_array_2 -->\n",
       "<g id=\"node1\" class=\"node\">\n",
       "<title>x_test_array_2</title>\n",
       "<g id=\"a_node1\"><a xlink:title=\"test_array:2\">\n",
       "<polygon fill=\"#ffdab9\" stroke=\"#000000\" points=\"165,-268 78,-268 78,-228 165,-228 165,-268\"/>\n",
       "<text text-anchor=\"start\" x=\"117\" y=\"-253.8\" font-family=\"Fira Mono\" font-weight=\"bold\" font-size=\"14.00\" fill=\"#000000\">x</text>\n",
       "<text text-anchor=\"start\" x=\"86\" y=\"-234.8\" font-family=\"Fira Mono\" font-size=\"9.00\" fill=\"#000000\">x = [1, 2, 3]</text>\n",
       "</a>\n",
       "</g>\n",
       "</g>\n",
       "<!-- y_test_array_3 -->\n",
       "<g id=\"node3\" class=\"node\">\n",
       "<title>y_test_array_3</title>\n",
       "<g id=\"a_node3\"><a xlink:title=\"test_array:3\">\n",
       "<polygon fill=\"#ffdab9\" stroke=\"#000000\" points=\"119.5,-192 65.5,-192 65.5,-152 119.5,-152 119.5,-192\"/>\n",
       "<text text-anchor=\"start\" x=\"88\" y=\"-177.8\" font-family=\"Fira Mono\" font-weight=\"bold\" font-size=\"14.00\" fill=\"#000000\">y</text>\n",
       "<text text-anchor=\"start\" x=\"78.5\" y=\"-158.8\" font-family=\"Fira Mono\" font-size=\"9.00\" fill=\"#000000\">y = 4</text>\n",
       "</a>\n",
       "</g>\n",
       "</g>\n",
       "<!-- x_test_array_2&#45;&gt;y_test_array_3 -->\n",
       "<!-- test_arrayreturnvalue_test_array_5 -->\n",
       "<g id=\"node4\" class=\"node\">\n",
       "<title>test_arrayreturnvalue_test_array_5</title>\n",
       "<g id=\"a_node4\"><a xlink:title=\"test_array:5\">\n",
       "<polygon fill=\"#ffdab9\" stroke=\"#000000\" points=\"243,-40 0,-40 0,0 243,0 243,-40\"/>\n",
       "<text text-anchor=\"start\" x=\"8\" y=\"-25.8\" font-family=\"Fira Mono\" font-weight=\"bold\" font-style=\"italic\" font-size=\"14.00\" fill=\"#000000\">&lt;test_array() return value&gt;</text>\n",
       "<text text-anchor=\"start\" x=\"91.5\" y=\"-6.8\" font-family=\"Fira Mono\" font-size=\"9.00\" fill=\"#000000\">return x[2]</text>\n",
       "</a>\n",
       "</g>\n",
       "</g>\n",
       "<!-- x_test_array_2&#45;&gt;test_arrayreturnvalue_test_array_5 -->\n",
       "<g id=\"edge2\" class=\"edge\">\n",
       "<title>x_test_array_2&#45;&gt;test_arrayreturnvalue_test_array_5</title>\n",
       "<path fill=\"none\" stroke=\"#000000\" d=\"M124.5806,-227.8463C129.0657,-195.6931 136.3565,-130.8225 131.5,-76 130.7525,-67.5613 129.3831,-58.4902 127.8925,-50.158\"/>\n",
       "<polygon fill=\"#000000\" stroke=\"#000000\" points=\"131.2866,-49.2709 125.9774,-40.1024 124.4102,-50.5806 131.2866,-49.2709\"/>\n",
       "</g>\n",
       "<!-- x2_test_array_4 -->\n",
       "<g id=\"node2\" class=\"node\">\n",
       "<title>x2_test_array_4</title>\n",
       "<g id=\"a_node2\"><a xlink:title=\"test_array:4\">\n",
       "<polygon fill=\"#ffdab9\" stroke=\"#000000\" points=\"122.5,-116 62.5,-116 62.5,-76 122.5,-76 122.5,-116\"/>\n",
       "<text text-anchor=\"start\" x=\"75.5\" y=\"-101.8\" font-family=\"Fira Mono\" font-weight=\"bold\" font-size=\"14.00\" fill=\"#000000\">x[2]</text>\n",
       "<text text-anchor=\"start\" x=\"70.5\" y=\"-82.8\" font-family=\"Fira Mono\" font-size=\"9.00\" fill=\"#000000\">x[2] = y</text>\n",
       "</a>\n",
       "</g>\n",
       "</g>\n",
       "<!-- x2_test_array_4&#45;&gt;test_arrayreturnvalue_test_array_5 -->\n",
       "<!-- y_test_array_3&#45;&gt;x2_test_array_4 -->\n",
       "<g id=\"edge1\" class=\"edge\">\n",
       "<title>y_test_array_3&#45;&gt;x2_test_array_4</title>\n",
       "<path fill=\"none\" stroke=\"#000000\" d=\"M86.4426,-151.6334C85.7819,-143.8186 85.5939,-134.7253 85.8786,-126.183\"/>\n",
       "<polygon fill=\"#000000\" stroke=\"#000000\" points=\"89.375,-126.3453 86.4602,-116.1593 82.3867,-125.9397 89.375,-126.3453\"/>\n",
       "</g>\n",
       "<!-- y_test_array_3&#45;&gt;x2_test_array_4 -->\n",
       "</g>\n",
       "</svg>\n"
      ],
      "text/plain": [
       "<graphviz.dot.Digraph at 0x7fbb1d51d6d8>"
      ]
     },
     "execution_count": 176,
     "metadata": {},
     "output_type": "execute_result"
    }
   ],
   "source": [
    "array_slicer.graph()"
   ]
  },
  {
   "cell_type": "markdown",
   "metadata": {
    "slideshow": {
     "slide_type": "subslide"
    }
   },
   "source": [
    "### Attributes"
   ]
  },
  {
   "cell_type": "code",
   "execution_count": 177,
   "metadata": {
    "slideshow": {
     "slide_type": "fragment"
    }
   },
   "outputs": [],
   "source": [
    "class X(object):\n",
    "    pass"
   ]
  },
  {
   "cell_type": "code",
   "execution_count": 178,
   "metadata": {
    "slideshow": {
     "slide_type": "fragment"
    }
   },
   "outputs": [],
   "source": [
    "def test_attributes(y):\n",
    "    x = X()\n",
    "    x.attr = y\n",
    "    return x.attr"
   ]
  },
  {
   "cell_type": "code",
   "execution_count": 179,
   "metadata": {
    "slideshow": {
     "slide_type": "subslide"
    }
   },
   "outputs": [
    {
     "name": "stdout",
     "output_type": "stream",
     "text": [
      "Instrumenting <function test_attributes at 0x7fbb1d576158>:\n",
      "def test_attributes(y):\n",
      "    _data.param('y', y)\n",
      "    x = _data.ret(_data.call(_data.get('X', X))())\n",
      "    _data.get('x', x).attr = _data.set('x.attr', _data.get('y', y))\n",
      "    return _data.set('<test_attributes() return value>', _data.get('x', x).attr\n",
      "        )\n",
      "\n"
     ]
    }
   ],
   "source": [
    "with Slicer(test_attributes, log=True) as attr_slicer:\n",
    "    test_attributes(10)"
   ]
  },
  {
   "cell_type": "code",
   "execution_count": 180,
   "metadata": {
    "slideshow": {
     "slide_type": "fragment"
    }
   },
   "outputs": [
    {
     "data": {
      "image/svg+xml": [
       "<?xml version=\"1.0\" encoding=\"UTF-8\" standalone=\"no\"?>\n",
       "<!DOCTYPE svg PUBLIC \"-//W3C//DTD SVG 1.1//EN\"\n",
       " \"http://www.w3.org/Graphics/SVG/1.1/DTD/svg11.dtd\">\n",
       "<!-- Generated by graphviz version 2.40.1 (20161225.0304)\n",
       " -->\n",
       "<!-- Title: dependencies Pages: 1 -->\n",
       "<svg width=\"293pt\" height=\"200pt\"\n",
       " viewBox=\"0.00 0.00 293.00 200.00\" xmlns=\"http://www.w3.org/2000/svg\" xmlns:xlink=\"http://www.w3.org/1999/xlink\">\n",
       "<g id=\"graph0\" class=\"graph\" transform=\"scale(1 1) rotate(0) translate(4 196)\">\n",
       "<title>dependencies</title>\n",
       "<polygon fill=\"#ffffff\" stroke=\"transparent\" points=\"-4,4 -4,-196 289,-196 289,4 -4,4\"/>\n",
       "<!-- test_attributesreturnvalue_test_attributes_4 -->\n",
       "<g id=\"node1\" class=\"node\">\n",
       "<title>test_attributesreturnvalue_test_attributes_4</title>\n",
       "<g id=\"a_node1\"><a xlink:title=\"test_attributes:4\">\n",
       "<polygon fill=\"#ffdab9\" stroke=\"#000000\" points=\"285,-40 0,-40 0,0 285,0 285,-40\"/>\n",
       "<text text-anchor=\"start\" x=\"8\" y=\"-25.8\" font-family=\"Fira Mono\" font-weight=\"bold\" font-style=\"italic\" font-size=\"14.00\" fill=\"#000000\">&lt;test_attributes() return value&gt;</text>\n",
       "<text text-anchor=\"start\" x=\"107\" y=\"-6.8\" font-family=\"Fira Mono\" font-size=\"9.00\" fill=\"#000000\">return x.attr</text>\n",
       "</a>\n",
       "</g>\n",
       "</g>\n",
       "<!-- y_test_attributes_1 -->\n",
       "<g id=\"node2\" class=\"node\">\n",
       "<title>y_test_attributes_1</title>\n",
       "<g id=\"a_node2\"><a xlink:title=\"test_attributes:1\">\n",
       "<polygon fill=\"#ffdab9\" stroke=\"#000000\" points=\"213,-192 72,-192 72,-152 213,-152 213,-192\"/>\n",
       "<text text-anchor=\"start\" x=\"138\" y=\"-177.8\" font-family=\"Fira Mono\" font-weight=\"bold\" font-size=\"14.00\" fill=\"#000000\">y</text>\n",
       "<text text-anchor=\"start\" x=\"80\" y=\"-158.8\" font-family=\"Fira Mono\" font-size=\"9.00\" fill=\"#000000\">def test_attributes(y):</text>\n",
       "</a>\n",
       "</g>\n",
       "</g>\n",
       "<!-- xattr_test_attributes_3 -->\n",
       "<g id=\"node3\" class=\"node\">\n",
       "<title>xattr_test_attributes_3</title>\n",
       "<g id=\"a_node3\"><a xlink:title=\"test_attributes:3\">\n",
       "<polygon fill=\"#ffdab9\" stroke=\"#000000\" points=\"178,-116 107,-116 107,-76 178,-76 178,-116\"/>\n",
       "<text text-anchor=\"start\" x=\"117\" y=\"-101.8\" font-family=\"Fira Mono\" font-weight=\"bold\" font-size=\"14.00\" fill=\"#000000\">x.attr</text>\n",
       "<text text-anchor=\"start\" x=\"115\" y=\"-82.8\" font-family=\"Fira Mono\" font-size=\"9.00\" fill=\"#000000\">x.attr = y</text>\n",
       "</a>\n",
       "</g>\n",
       "</g>\n",
       "<!-- y_test_attributes_1&#45;&gt;xattr_test_attributes_3 -->\n",
       "<g id=\"edge1\" class=\"edge\">\n",
       "<title>y_test_attributes_1&#45;&gt;xattr_test_attributes_3</title>\n",
       "<path fill=\"none\" stroke=\"#000000\" d=\"M136.4426,-151.6334C135.7819,-143.8186 135.5939,-134.7253 135.8786,-126.183\"/>\n",
       "<polygon fill=\"#000000\" stroke=\"#000000\" points=\"139.375,-126.3453 136.4602,-116.1593 132.3867,-125.9397 139.375,-126.3453\"/>\n",
       "</g>\n",
       "<!-- y_test_attributes_1&#45;&gt;xattr_test_attributes_3 -->\n",
       "<!-- xattr_test_attributes_3&#45;&gt;test_attributesreturnvalue_test_attributes_4 -->\n",
       "</g>\n",
       "</svg>\n"
      ],
      "text/plain": [
       "<graphviz.dot.Digraph at 0x7fbb1d5574a8>"
      ]
     },
     "execution_count": 180,
     "metadata": {},
     "output_type": "execute_result"
    }
   ],
   "source": [
    "attr_slicer.graph()"
   ]
  },
  {
   "cell_type": "markdown",
   "metadata": {
    "slideshow": {
     "slide_type": "subslide"
    }
   },
   "source": [
    "TODO: Auto-slice things – in \n",
    "\n",
    "```python\n",
    "with Slicer():\n",
    "   foo()\n",
    "```\n",
    "identify all calls in the code and add them to the instrumentation.\n",
    "\n",
    "1. Get source code - won't work; will not contain body\n",
    "2. Use a decorator? (works only for functions...)\n",
    "3. Replace on the fly – won't work (or will it?), as we cannot change code once it executes"
   ]
  },
  {
   "cell_type": "code",
   "execution_count": 181,
   "metadata": {
    "slideshow": {
     "slide_type": "skip"
    }
   },
   "outputs": [],
   "source": [
    "from ExpectError import ExpectError"
   ]
  },
  {
   "cell_type": "code",
   "execution_count": 182,
   "metadata": {
    "slideshow": {
     "slide_type": "subslide"
    }
   },
   "outputs": [
    {
     "name": "stderr",
     "output_type": "stream",
     "text": [
      "Traceback (most recent call last):\n",
      "  File \"<ipython-input-182-04fc5ccbc736>\", line 2, in <module>\n",
      "    with Slicer() as slicer:\n",
      "  File \"<ipython-input-143-e3781941df31>\", line 7, in __init__\n",
      "    raise ValueError(\"Need one or more items to instrument\")\n",
      "ValueError: Need one or more items to instrument (expected)\n"
     ]
    }
   ],
   "source": [
    "with ExpectError():\n",
    "    with Slicer() as slicer:\n",
    "        y = square_root(9)"
   ]
  },
  {
   "cell_type": "markdown",
   "metadata": {
    "slideshow": {
     "slide_type": "fragment"
    }
   },
   "source": [
    "TODO: Create a probabilistic dependence graph for statistical debugging :-)"
   ]
  },
  {
   "cell_type": "markdown",
   "metadata": {
    "slideshow": {
     "slide_type": "slide"
    }
   },
   "source": [
    "## Synopsis"
   ]
  },
  {
   "cell_type": "markdown",
   "metadata": {
    "slideshow": {
     "slide_type": "fragment"
    }
   },
   "source": [
    "_For those only interested in using the code in this chapter (without wanting to know how it works), give an example.  This will be copied to the beginning of the chapter (before the first section) as text with rendered input and output._"
   ]
  },
  {
   "cell_type": "markdown",
   "metadata": {
    "button": false,
    "new_sheet": true,
    "run_control": {
     "read_only": false
    },
    "slideshow": {
     "slide_type": "slide"
    }
   },
   "source": [
    "## Lessons Learned\n",
    "\n",
    "* _Lesson one_\n",
    "* _Lesson two_\n",
    "* _Lesson three_"
   ]
  },
  {
   "cell_type": "markdown",
   "metadata": {
    "button": false,
    "new_sheet": false,
    "run_control": {
     "read_only": false
    },
    "slideshow": {
     "slide_type": "slide"
    }
   },
   "source": [
    "## Next Steps\n",
    "\n",
    "_Link to subsequent chapters (notebooks) here, as in:_\n",
    "\n",
    "* [use _mutations_ on existing inputs to get more valid inputs](MutationFuzzer.ipynb)\n",
    "* [use _grammars_ (i.e., a specification of the input format) to get even more valid inputs](Grammars.ipynb)\n",
    "* [reduce _failing inputs_ for efficient debugging](Reducer.ipynb)\n"
   ]
  },
  {
   "cell_type": "markdown",
   "metadata": {
    "slideshow": {
     "slide_type": "slide"
    }
   },
   "source": [
    "## Background\n",
    "\n",
    "_Cite relevant works in the literature and put them into context, as in:_\n",
    "\n",
    "The idea of ensuring that each expansion in the grammar is used at least once goes back to Burkhardt \\cite{Burkhardt1967}, to be later rediscovered by Paul Purdom \\cite{Purdom1972}.\n",
    "\n",
    "@INPROCEEDINGS{6899220,\n",
    "  author={Z. {Chen} and L. {Chen} and Y. {Zhou} and Z. {Xu} and W. C. {Chu} and B. {Xu}},\n",
    "  booktitle={2014 IEEE 38th Annual Computer Software and Applications Conference}, \n",
    "  title={Dynamic Slicing of Python Programs}, \n",
    "  year={2014},\n",
    "  volume={},\n",
    "  number={},\n",
    "  pages={219-228},\n",
    "  doi={10.1109/COMPSAC.2014.30}\n",
    "}\n",
    "\n"
   ]
  },
  {
   "cell_type": "markdown",
   "metadata": {
    "button": false,
    "new_sheet": true,
    "run_control": {
     "read_only": false
    },
    "slideshow": {
     "slide_type": "slide"
    }
   },
   "source": [
    "## Exercises\n",
    "\n",
    "_Close the chapter with a few exercises such that people have things to do.  To make the solutions hidden (to be revealed by the user), have them start with_\n",
    "\n",
    "```\n",
    "**Solution.**\n",
    "```\n",
    "\n",
    "_Your solution can then extend up to the next title (i.e., any markdown cell starting with `#`)._\n",
    "\n",
    "_Running `make metadata` will automatically add metadata to the cells such that the cells will be hidden by default, and can be uncovered by the user.  The button will be introduced above the solution._"
   ]
  },
  {
   "cell_type": "markdown",
   "metadata": {
    "button": false,
    "new_sheet": false,
    "run_control": {
     "read_only": false
    },
    "slideshow": {
     "slide_type": "subslide"
    }
   },
   "source": [
    "### Exercise 1: _Title_\n",
    "\n",
    "_Text of the exercise_"
   ]
  },
  {
   "cell_type": "code",
   "execution_count": 183,
   "metadata": {
    "cell_style": "center",
    "slideshow": {
     "slide_type": "fragment"
    }
   },
   "outputs": [],
   "source": [
    "# Some code that is part of the exercise\n",
    "pass"
   ]
  },
  {
   "cell_type": "markdown",
   "metadata": {
    "slideshow": {
     "slide_type": "fragment"
    },
    "solution2": "hidden",
    "solution2_first": true
   },
   "source": [
    "_Some more text for the exercise_"
   ]
  },
  {
   "cell_type": "markdown",
   "metadata": {
    "slideshow": {
     "slide_type": "skip"
    },
    "solution2": "hidden"
   },
   "source": [
    "**Solution.** _Some text for the solution_"
   ]
  },
  {
   "cell_type": "code",
   "execution_count": 184,
   "metadata": {
    "cell_style": "split",
    "slideshow": {
     "slide_type": "skip"
    },
    "solution2": "hidden"
   },
   "outputs": [
    {
     "data": {
      "text/plain": [
       "4"
      ]
     },
     "execution_count": 184,
     "metadata": {},
     "output_type": "execute_result"
    }
   ],
   "source": [
    "# Some code for the solution\n",
    "2 + 2"
   ]
  },
  {
   "cell_type": "markdown",
   "metadata": {
    "slideshow": {
     "slide_type": "skip"
    },
    "solution2": "hidden"
   },
   "source": [
    "_Some more text for the solution_"
   ]
  },
  {
   "cell_type": "markdown",
   "metadata": {
    "button": false,
    "new_sheet": false,
    "run_control": {
     "read_only": false
    },
    "slideshow": {
     "slide_type": "subslide"
    },
    "solution": "hidden",
    "solution2": "hidden",
    "solution2_first": true,
    "solution_first": true
   },
   "source": [
    "### Exercise 2: _Title_\n",
    "\n",
    "_Text of the exercise_"
   ]
  },
  {
   "cell_type": "markdown",
   "metadata": {
    "button": false,
    "new_sheet": false,
    "run_control": {
     "read_only": false
    },
    "slideshow": {
     "slide_type": "skip"
    },
    "solution": "hidden",
    "solution2": "hidden"
   },
   "source": [
    "**Solution.** _Solution for the exercise_"
   ]
  }
 ],
 "metadata": {
  "ipub": {
   "bibliography": "fuzzingbook.bib",
   "toc": true
  },
  "kernelspec": {
   "display_name": "Python 3",
   "language": "python",
   "name": "python3"
  },
  "language_info": {
   "codemirror_mode": {
    "name": "ipython",
    "version": 3
   },
   "file_extension": ".py",
   "mimetype": "text/x-python",
   "name": "python",
   "nbconvert_exporter": "python",
   "pygments_lexer": "ipython3",
   "version": "3.6.10"
  },
  "toc": {
   "base_numbering": 1,
   "nav_menu": {},
   "number_sections": true,
   "sideBar": true,
   "skip_h1_title": true,
   "title_cell": "",
   "title_sidebar": "Contents",
   "toc_cell": false,
   "toc_position": {},
   "toc_section_display": true,
   "toc_window_display": true
  },
  "toc-autonumbering": false
 },
 "nbformat": 4,
 "nbformat_minor": 4
}