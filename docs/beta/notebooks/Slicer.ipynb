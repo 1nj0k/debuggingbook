{
 "cells": [
  {
   "cell_type": "markdown",
   "metadata": {
    "button": false,
    "new_sheet": false,
    "run_control": {
     "read_only": false
    },
    "slideshow": {
     "slide_type": "slide"
    }
   },
   "source": [
    "# Tracking Failure Origins\n",
    "\n",
    "The question of \"Where does this value come from?\" is fundamental for debugging. Which earlier variables could possibly have influenced the current erroneous state? And how did their values come to be?\n",
    "\n",
    "When programmers read code during debugging, they scan it for potential _origins_ of given values. This can be a tedious experience, notably, if the origins spread across multiple separate locations, possibly even in different modules. In this chapter, we thus investigate means to _determine such origins_ automatically – by collecting data and control dependencies during program execution."
   ]
  },
  {
   "cell_type": "code",
   "execution_count": 1,
   "metadata": {
    "execution": {
     "iopub.execute_input": "2021-03-05T23:37:07.465306Z",
     "iopub.status.busy": "2021-03-05T23:37:07.464456Z",
     "iopub.status.idle": "2021-03-05T23:37:07.607235Z",
     "shell.execute_reply": "2021-03-05T23:37:07.607610Z"
    },
    "slideshow": {
     "slide_type": "skip"
    }
   },
   "outputs": [
    {
     "data": {
      "text/html": [
       "\n",
       "        <iframe\n",
       "            width=\"640\"\n",
       "            height=\"360\"\n",
       "            src=\"https://www.youtube-nocookie.com/embed/sjf3cOR0lcI\"\n",
       "            frameborder=\"0\"\n",
       "            allowfullscreen\n",
       "        ></iframe>\n",
       "        "
      ],
      "text/plain": [
       "<IPython.lib.display.IFrame at 0x7fe1d59fa9b0>"
      ]
     },
     "execution_count": 1,
     "metadata": {},
     "output_type": "execute_result"
    }
   ],
   "source": [
    "from bookutils import YouTubeVideo\n",
    "YouTubeVideo(\"sjf3cOR0lcI\")"
   ]
  },
  {
   "cell_type": "markdown",
   "metadata": {
    "button": false,
    "new_sheet": false,
    "run_control": {
     "read_only": false
    },
    "slideshow": {
     "slide_type": "subslide"
    }
   },
   "source": [
    "**Prerequisites**\n",
    "\n",
    "* You should have read the [Introduction to Debugging](Intro_Debugging).\n",
    "* To understand how to compute dependencies automatically (the second half of this chapter), you will need\n",
    "    * advanced knowledge of Python semantics\n",
    "    * knowledge on how to instrument and transform code\n",
    "    * knowledge on how an interpreter works"
   ]
  },
  {
   "cell_type": "code",
   "execution_count": 2,
   "metadata": {
    "button": false,
    "execution": {
     "iopub.execute_input": "2021-03-05T23:37:07.610945Z",
     "iopub.status.busy": "2021-03-05T23:37:07.610425Z",
     "iopub.status.idle": "2021-03-05T23:37:07.611956Z",
     "shell.execute_reply": "2021-03-05T23:37:07.612319Z"
    },
    "new_sheet": false,
    "run_control": {
     "read_only": false
    },
    "slideshow": {
     "slide_type": "skip"
    }
   },
   "outputs": [],
   "source": [
    "import bookutils"
   ]
  },
  {
   "cell_type": "code",
   "execution_count": 3,
   "metadata": {
    "execution": {
     "iopub.execute_input": "2021-03-05T23:37:07.615470Z",
     "iopub.status.busy": "2021-03-05T23:37:07.614810Z",
     "iopub.status.idle": "2021-03-05T23:37:07.616705Z",
     "shell.execute_reply": "2021-03-05T23:37:07.617103Z"
    },
    "slideshow": {
     "slide_type": "skip"
    }
   },
   "outputs": [],
   "source": [
    "from bookutils import quiz, next_inputs, print_content"
   ]
  },
  {
   "cell_type": "markdown",
   "metadata": {
    "slideshow": {
     "slide_type": "skip"
    }
   },
   "source": [
    "## Synopsis\n",
    "<!-- Automatically generated. Do not edit. -->\n",
    "\n",
    "To [use the code provided in this chapter](Importing.ipynb), write\n",
    "\n",
    "```python\n",
    ">>> from debuggingbook.Slicer import <identifier>\n",
    "```\n",
    "\n",
    "and then make use of the following features.\n",
    "\n",
    "\n",
    "This chapter provides a `Slicer` class to automatically determine and visualize dynamic dependencies. When we say that a variable $x$ depends on a variable $y$ (written $x \\leftarrow y$), we distinguish two kinds of dependencies:\n",
    "\n",
    "* **data dependencies**: $x$ obtains its value from a computation involving the value of $y$.\n",
    "* **control dependencies**: $x$ obtains its value because of a computation involving the value of $y$.\n",
    "\n",
    "Such dependencies are crucial for debugging, as they allow to determine the origins of individual values (and notably incorrect values).\n",
    "\n",
    "To determine dynamic dependencies in a function `func` and its callees `func1`, `func2`, etc., use\n",
    "\n",
    "```python\n",
    "with Slicer(func, func1, func2) as slicer:\n",
    "    <Some code involving func()>\n",
    "```\n",
    "\n",
    "and then `slicer.graph()` or `slicer.code()` to examine dependencies.\n",
    "\n",
    "Here is an example. The `demo()` function computes some number from `x`:\n",
    "\n",
    "```python\n",
    ">>> def demo(x: int) -> int:\n",
    ">>>     z = x\n",
    ">>>     while x <= z <= 64:\n",
    ">>>         z *= 2\n",
    ">>>     return z\n",
    "```\n",
    "By using `with Slicer(demo)`, we first instrument `demo()` and then execute it:\n",
    "\n",
    "```python\n",
    ">>> with Slicer(demo) as slicer:\n",
    ">>>     demo(10)\n",
    "```\n",
    "After execution is complete, you can output `slicer` to visualize the dependencies as graph. Data dependencies are shown as black solid edges; control dependencies are shown as grey dashed edges. We see how the parameter `x` flows into `z`, which is returned after some computation that is control dependent on a `<test>` involving `z`.\n",
    "\n",
    "```python\n",
    ">>> slicer\n",
    "```\n",
    "\n",
    "![](PICS/Slicer-synopsis-1.svg)\n",
    "\n",
    "An alternate representation is `slicer.code()`, annotating the instrumented source code with (backward) dependencies. Data dependencies are shown with `<=`, control dependencies with `<-`; locations (lines) are shown in parentheses.\n",
    "\n",
    "```python\n",
    ">>> slicer.code()\n",
    "\n",
    "*    1 def demo(x: int) -> int:\n",
    "*    2     z = x  # <= x (1)\n",
    "*    3     while x <= z <= 64:  # <= z (2), x (1), z (4)\n",
    "*    4         z *= 2  # <= z (2), z (4); <- <test> (3)\n",
    "*    5     return z  # <= z (4)\n",
    "```\n",
    "Dependencies can also be retrieved programmatically. The `dependencies()` method returns a `Dependencies` object encapsulating the dependency graph.\n",
    "\n",
    "The method `all_vars()` returns all variables in the dependency graph. Each variable is encoded as a pair (_name_, _location_) where _location_ is a pair (_codename_, _lineno_).\n",
    "\n",
    "```python\n",
    ">>> slicer.dependencies().all_vars()\n",
    "\n",
    "{('<demo() return value>', (<function __main__.demo(x:int) -> int>, 5)),\n",
    " ('<test>', (<function __main__.demo(x:int) -> int>, 3)),\n",
    " ('x', (<function __main__.demo(x:int) -> int>, 1)),\n",
    " ('z', (<function __main__.demo(x:int) -> int>, 2)),\n",
    " ('z', (<function __main__.demo(x:int) -> int>, 4))}\n",
    "```\n",
    "`code()` and `graph()` methods can also be applied on dependencies. The method `backward_slice(var)` returns a backward slice for the given variable. To retrieve where `z` in Line 2 came from, use:\n",
    "\n",
    "```python\n",
    ">>> _, start_demo = inspect.getsourcelines(demo)\n",
    ">>> start_demo\n",
    "\n",
    "1\n",
    "\n",
    ">>> slicer.dependencies().backward_slice(('z', (demo, start_demo + 1))).graph()  # type: ignore\n",
    "```\n",
    "\n",
    "![](PICS/Slicer-synopsis-2.svg)\n",
    "\n",
    "Here are the classes defined in this chapter. A `Slicer` instruments a program, using a `DependencyTracker` at run time to collect `Dependencies`.\n",
    "\n",
    "\n",
    "![](PICS/Slicer-synopsis-3.svg)\n",
    "\n",
    "\\todo{Use slices to enforce (lack of) specific information flows}\n",
    "\n",
    "\\todo{Use slices in statistical debugging}\n",
    "\n"
   ]
  },
  {
   "cell_type": "code",
   "execution_count": 4,
   "metadata": {
    "execution": {
     "iopub.execute_input": "2021-03-05T23:37:07.620645Z",
     "iopub.status.busy": "2021-03-05T23:37:07.620107Z",
     "iopub.status.idle": "2021-03-05T23:37:07.621670Z",
     "shell.execute_reply": "2021-03-05T23:37:07.622112Z"
    },
    "slideshow": {
     "slide_type": "skip"
    }
   },
   "outputs": [],
   "source": [
    "from typing import Set, List, Tuple, Any, Callable, Dict, Optional, Union, Type\n",
    "from typing import Generator, Generator"
   ]
  },
  {
   "cell_type": "code",
   "execution_count": 5,
   "metadata": {
    "execution": {
     "iopub.execute_input": "2021-03-05T23:37:07.625203Z",
     "iopub.status.busy": "2021-03-05T23:37:07.624667Z",
     "iopub.status.idle": "2021-03-05T23:37:07.626443Z",
     "shell.execute_reply": "2021-03-05T23:37:07.626957Z"
    },
    "slideshow": {
     "slide_type": "skip"
    }
   },
   "outputs": [],
   "source": [
    "import inspect\n",
    "import warnings"
   ]
  },
  {
   "cell_type": "markdown",
   "metadata": {
    "button": false,
    "new_sheet": true,
    "run_control": {
     "read_only": false
    },
    "slideshow": {
     "slide_type": "slide"
    }
   },
   "source": [
    "## Dependencies\n",
    "\n",
    "In the [Introduction to debugging](Intro_Debugging.ipynb), we have seen how faults in a program state propagate to eventually become visible as failures. This induces a debugging strategy called _tracking origins_:"
   ]
  },
  {
   "cell_type": "markdown",
   "metadata": {
    "button": false,
    "new_sheet": true,
    "run_control": {
     "read_only": false
    },
    "slideshow": {
     "slide_type": "subslide"
    }
   },
   "source": [
    "1. We start with a single faulty state _f_ – the failure\n",
    "2. We determine f's _origins_ – the parts of earlier states that could have caused the faulty state _f_\n",
    "3. For each of these origins _e_, we determine whether they are faulty or not\n",
    "4. For each of the faulty origins, we in turn determine _their_ origins.\n",
    "5. If we find a part of the state that is faulty, yet has only correct origins, we have found the defect."
   ]
  },
  {
   "cell_type": "markdown",
   "metadata": {
    "button": false,
    "new_sheet": true,
    "run_control": {
     "read_only": false
    },
    "slideshow": {
     "slide_type": "subslide"
    }
   },
   "source": [
    "In all generality, a \"part of the state\" can be anything that can influence the program – some configuration setting, some database content, or the state of a device. Almost always, though, it is through _individual variables_ that a part of the state manifests itself.\n",
    "\n",
    "The good news is that variables do not take arbitrary values at arbitrary times – instead, they are set and accessed at precise moments in time, as determined by the program's semantics. This allows us to determine their _origins_ by reading program code."
   ]
  },
  {
   "cell_type": "markdown",
   "metadata": {
    "button": false,
    "new_sheet": true,
    "run_control": {
     "read_only": false
    },
    "slideshow": {
     "slide_type": "fragment"
    }
   },
   "source": [
    "Let us assume you have a piece of code that reads as follows. The `middle()` function is supposed to return the \"middle\" number of three values `x`, `y`, and `z` – that is, the one number that neither is the minimum nor the maximum."
   ]
  },
  {
   "cell_type": "code",
   "execution_count": 6,
   "metadata": {
    "execution": {
     "iopub.execute_input": "2021-03-05T23:37:07.631793Z",
     "iopub.status.busy": "2021-03-05T23:37:07.631117Z",
     "iopub.status.idle": "2021-03-05T23:37:07.632901Z",
     "shell.execute_reply": "2021-03-05T23:37:07.633287Z"
    },
    "slideshow": {
     "slide_type": "subslide"
    }
   },
   "outputs": [],
   "source": [
    "def middle(x, y, z):  # type: ignore\n",
    "    if y < z:\n",
    "        if x < y:\n",
    "            return y\n",
    "        elif x < z:\n",
    "            return y\n",
    "    else:\n",
    "        if x > y:\n",
    "            return y\n",
    "        elif x > z:\n",
    "            return x\n",
    "    return z"
   ]
  },
  {
   "cell_type": "markdown",
   "metadata": {
    "slideshow": {
     "slide_type": "fragment"
    }
   },
   "source": [
    "In most cases, `middle()` runs just fine:"
   ]
  },
  {
   "cell_type": "code",
   "execution_count": 7,
   "metadata": {
    "execution": {
     "iopub.execute_input": "2021-03-05T23:37:07.636763Z",
     "iopub.status.busy": "2021-03-05T23:37:07.636185Z",
     "iopub.status.idle": "2021-03-05T23:37:07.638270Z",
     "shell.execute_reply": "2021-03-05T23:37:07.638832Z"
    },
    "slideshow": {
     "slide_type": "subslide"
    }
   },
   "outputs": [
    {
     "data": {
      "text/plain": [
       "2"
      ]
     },
     "execution_count": 1,
     "metadata": {},
     "output_type": "execute_result"
    }
   ],
   "source": [
    "m = middle(1, 2, 3)\n",
    "m"
   ]
  },
  {
   "cell_type": "markdown",
   "metadata": {
    "slideshow": {
     "slide_type": "fragment"
    }
   },
   "source": [
    "In others, however, it returns the wrong value:"
   ]
  },
  {
   "cell_type": "code",
   "execution_count": 8,
   "metadata": {
    "execution": {
     "iopub.execute_input": "2021-03-05T23:37:07.642346Z",
     "iopub.status.busy": "2021-03-05T23:37:07.641766Z",
     "iopub.status.idle": "2021-03-05T23:37:07.643758Z",
     "shell.execute_reply": "2021-03-05T23:37:07.644123Z"
    },
    "slideshow": {
     "slide_type": "fragment"
    }
   },
   "outputs": [
    {
     "data": {
      "text/plain": [
       "1"
      ]
     },
     "execution_count": 1,
     "metadata": {},
     "output_type": "execute_result"
    }
   ],
   "source": [
    "m = middle(2, 1, 3)\n",
    "m"
   ]
  },
  {
   "cell_type": "markdown",
   "metadata": {
    "slideshow": {
     "slide_type": "subslide"
    }
   },
   "source": [
    "This is a typical debugging situation: You see a value that is erroneous; and you want to find out where it came from. \n",
    "\n",
    "* In our case, we see that the erroneous value was returned from `middle()`, so we identify the five `return` statements in `middle()` that the value could have come from.\n",
    "* The value returned is the value of `y`, and neither `x`, `y`, nor `z` are altered during the execution of `middle()`. Hence, it must be one of the three `return y` statements that is the origin of `m`. But which one?\n",
    "\n",
    "For our small example, we can fire up an interactive debugger and simply step through the function; this reveals us the conditions evaluated and the `return` statement executed."
   ]
  },
  {
   "cell_type": "code",
   "execution_count": 9,
   "metadata": {
    "execution": {
     "iopub.execute_input": "2021-03-05T23:37:07.646923Z",
     "iopub.status.busy": "2021-03-05T23:37:07.646343Z",
     "iopub.status.idle": "2021-03-05T23:37:07.940413Z",
     "shell.execute_reply": "2021-03-05T23:37:07.940801Z"
    },
    "slideshow": {
     "slide_type": "skip"
    }
   },
   "outputs": [],
   "source": [
    "import Debugger  # minor dependency"
   ]
  },
  {
   "cell_type": "code",
   "execution_count": 10,
   "metadata": {
    "execution": {
     "iopub.execute_input": "2021-03-05T23:37:07.945072Z",
     "iopub.status.busy": "2021-03-05T23:37:07.944517Z",
     "iopub.status.idle": "2021-03-05T23:37:07.947077Z",
     "shell.execute_reply": "2021-03-05T23:37:07.946721Z"
    },
    "slideshow": {
     "slide_type": "subslide"
    }
   },
   "outputs": [
    {
     "data": {
      "text/plain": [
       "['step', 'step', 'step', 'step', 'quit']"
      ]
     },
     "execution_count": 1,
     "metadata": {},
     "output_type": "execute_result"
    }
   ],
   "source": [
    "# ignore\n",
    "next_inputs([\"step\", \"step\", \"step\", \"step\", \"quit\"]);"
   ]
  },
  {
   "cell_type": "code",
   "execution_count": 11,
   "metadata": {
    "execution": {
     "iopub.execute_input": "2021-03-05T23:37:07.950566Z",
     "iopub.status.busy": "2021-03-05T23:37:07.949753Z",
     "iopub.status.idle": "2021-03-05T23:37:08.069275Z",
     "shell.execute_reply": "2021-03-05T23:37:08.069691Z"
    },
    "slideshow": {
     "slide_type": "subslide"
    }
   },
   "outputs": [
    {
     "name": "stdout",
     "output_type": "stream",
     "text": [
      "Calling middle(z = 3, y = 1, x = 2)\n"
     ]
    },
    {
     "data": {
      "text/html": [
       "<samp>(debugger) <b>step</b></samp>"
      ],
      "text/plain": [
       "<IPython.core.display.HTML object>"
      ]
     },
     "metadata": {},
     "output_type": "display_data"
    },
    {
     "name": "stdout",
     "output_type": "stream",
     "text": [
      "2     if y < z:\n"
     ]
    },
    {
     "data": {
      "text/html": [
       "<samp>(debugger) <b>step</b></samp>"
      ],
      "text/plain": [
       "<IPython.core.display.HTML object>"
      ]
     },
     "metadata": {},
     "output_type": "display_data"
    },
    {
     "name": "stdout",
     "output_type": "stream",
     "text": [
      "3         if x < y:\n"
     ]
    },
    {
     "data": {
      "text/html": [
       "<samp>(debugger) <b>step</b></samp>"
      ],
      "text/plain": [
       "<IPython.core.display.HTML object>"
      ]
     },
     "metadata": {},
     "output_type": "display_data"
    },
    {
     "name": "stdout",
     "output_type": "stream",
     "text": [
      "5         elif x < z:\n"
     ]
    },
    {
     "data": {
      "text/html": [
       "<samp>(debugger) <b>step</b></samp>"
      ],
      "text/plain": [
       "<IPython.core.display.HTML object>"
      ]
     },
     "metadata": {},
     "output_type": "display_data"
    },
    {
     "name": "stdout",
     "output_type": "stream",
     "text": [
      "6             return y\n"
     ]
    },
    {
     "data": {
      "text/html": [
       "<samp>(debugger) <b>quit</b></samp>"
      ],
      "text/plain": [
       "<IPython.core.display.HTML object>"
      ]
     },
     "metadata": {},
     "output_type": "display_data"
    }
   ],
   "source": [
    "with Debugger.Debugger():\n",
    "    middle(2, 1, 3)"
   ]
  },
  {
   "cell_type": "markdown",
   "metadata": {
    "slideshow": {
     "slide_type": "subslide"
    }
   },
   "source": [
    "We now see that it was the second `return` statement that returned the incorrect value. But why was it executed after all? To this end, we can resort to the `middle()` source code and have a look at those conditions that caused the `return y` statement to be executed. Indeed, the conditions `y < z`, `x > y`, and finally `x < z`again are _origins_ of the returned value – and in turn have `x`, `y`, and `z` as origins."
   ]
  },
  {
   "cell_type": "markdown",
   "metadata": {
    "slideshow": {
     "slide_type": "subslide"
    }
   },
   "source": [
    "In our above reasoning about origins, we have encountered two kinds of origins:\n",
    "\n",
    "* earlier _data values_ (such as the value of `y` being returned) and\n",
    "* earlier _control conditions_ (such as the `if` conditions governing the `return y` statement).\n",
    "\n",
    "The later parts of the state that can be influenced by such origins are said to be _dependent_ on these origins. Speaking of variables, a variable $x$ _depends_ on the value of a variable $y$ (written as $x \\leftarrow y$) if a change in $y$ could affect the value of $x$."
   ]
  },
  {
   "cell_type": "markdown",
   "metadata": {
    "slideshow": {
     "slide_type": "subslide"
    }
   },
   "source": [
    "We distinguish two kinds of dependencies $x \\leftarrow y$, aligned with the two kinds of origins as outlined above:\n",
    "\n",
    "* **Data dependency**: $x$ obtains its value from a computation involving the value of $y$. In our example, `m` is data dependent on the return value of `middle()`.\n",
    "* **Control dependency**: $x$ obtains its value because of a computation involving the value of $y$. In our example, the value returned by `return y` is control dependent on the several conditions along its path, which involve `x`, `y`, and `z`."
   ]
  },
  {
   "cell_type": "markdown",
   "metadata": {
    "slideshow": {
     "slide_type": "fragment"
    }
   },
   "source": [
    "Let us examine these dependencies in more detail."
   ]
  },
  {
   "cell_type": "markdown",
   "metadata": {
    "slideshow": {
     "slide_type": "subslide"
    }
   },
   "source": [
    "### Excursion: Visualizing Dependencies"
   ]
  },
  {
   "cell_type": "markdown",
   "metadata": {
    "slideshow": {
     "slide_type": "fragment"
    }
   },
   "source": [
    "Note: This is an excursion, diverting away from the main flow of the chapter. Unless you know what you are doing, you are encouraged to skip this part."
   ]
  },
  {
   "cell_type": "markdown",
   "metadata": {
    "slideshow": {
     "slide_type": "fragment"
    }
   },
   "source": [
    "To illustrate our examples, we introduce a `Dependencies` class that captures dependencies between variables at specific locations."
   ]
  },
  {
   "cell_type": "markdown",
   "metadata": {
    "slideshow": {
     "slide_type": "subslide"
    }
   },
   "source": [
    "#### A Class for Dependencies"
   ]
  },
  {
   "cell_type": "markdown",
   "metadata": {
    "slideshow": {
     "slide_type": "fragment"
    }
   },
   "source": [
    "`Dependencies` holds two dependency graphs. `data` holds data dependencies, `control` holds control dependencies."
   ]
  },
  {
   "cell_type": "markdown",
   "metadata": {
    "slideshow": {
     "slide_type": "subslide"
    }
   },
   "source": [
    "Each of the two is organized as a dictionary holding _nodes_ as keys and sets of nodes as values. Each node comes as a tuple\n",
    "\n",
    "```python\n",
    "(variable_name, location)\n",
    " ```\n",
    " \n",
    "where `variable_name` is a string and `location` is a pair\n",
    "\n",
    "\n",
    "```python\n",
    "(func, lineno)\n",
    " ```\n",
    " \n",
    "denoting a unique location in the code."
   ]
  },
  {
   "cell_type": "markdown",
   "metadata": {
    "slideshow": {
     "slide_type": "subslide"
    }
   },
   "source": [
    "This is also reflected in the following type definitions:"
   ]
  },
  {
   "cell_type": "code",
   "execution_count": 12,
   "metadata": {
    "execution": {
     "iopub.execute_input": "2021-03-05T23:37:08.074734Z",
     "iopub.status.busy": "2021-03-05T23:37:08.073868Z",
     "iopub.status.idle": "2021-03-05T23:37:08.075889Z",
     "shell.execute_reply": "2021-03-05T23:37:08.076432Z"
    },
    "slideshow": {
     "slide_type": "fragment"
    }
   },
   "outputs": [],
   "source": [
    "Location = Tuple[Callable, int]\n",
    "Node = Tuple[str, Location]\n",
    "Dependency = Dict[Node, Set[Node]]"
   ]
  },
  {
   "cell_type": "markdown",
   "metadata": {
    "slideshow": {
     "slide_type": "fragment"
    }
   },
   "source": [
    "In this chapter, for many purposes, we need to lookup a function's location, source code, or simply definition. The class `StackInspector` provides a number of convenience functions for this purpose."
   ]
  },
  {
   "cell_type": "code",
   "execution_count": 13,
   "metadata": {
    "execution": {
     "iopub.execute_input": "2021-03-05T23:37:08.080045Z",
     "iopub.status.busy": "2021-03-05T23:37:08.079513Z",
     "iopub.status.idle": "2021-03-05T23:37:08.081358Z",
     "shell.execute_reply": "2021-03-05T23:37:08.081814Z"
    },
    "slideshow": {
     "slide_type": "skip"
    }
   },
   "outputs": [],
   "source": [
    "from StackInspector import StackInspector"
   ]
  },
  {
   "cell_type": "markdown",
   "metadata": {
    "slideshow": {
     "slide_type": "fragment"
    }
   },
   "source": [
    "The `Dependencies` class builds on `StackInspector` to capture dependencies."
   ]
  },
  {
   "cell_type": "code",
   "execution_count": 14,
   "metadata": {
    "execution": {
     "iopub.execute_input": "2021-03-05T23:37:08.087917Z",
     "iopub.status.busy": "2021-03-05T23:37:08.087265Z",
     "iopub.status.idle": "2021-03-05T23:37:08.089027Z",
     "shell.execute_reply": "2021-03-05T23:37:08.089412Z"
    },
    "slideshow": {
     "slide_type": "subslide"
    }
   },
   "outputs": [],
   "source": [
    "class Dependencies(StackInspector):\n",
    "    \"\"\"A dependency graph\"\"\"\n",
    "\n",
    "    def __init__(self, \n",
    "                 data: Optional[Dependency] = None,\n",
    "                 control: Optional[Dependency] = None) -> None:\n",
    "        \"\"\"\n",
    "        Create a dependency graph from `data` and `control`.\n",
    "        Both `data` and `control` are dictionaries\n",
    "        holding _nodes_ as keys and sets of nodes as values.\n",
    "        Each node comes as a tuple (variable_name, location)\n",
    "        where `variable_name` is a string \n",
    "        and `location` is a pair (function, lineno)\n",
    "        where `function` is a callable and `lineno` is a line number\n",
    "        denoting a unique location in the code.\n",
    "        \"\"\"\n",
    "\n",
    "        if data is None:\n",
    "            data = {}\n",
    "        if control is None:\n",
    "            control = {}\n",
    "\n",
    "        self.data = data\n",
    "        self.control = control\n",
    "\n",
    "        for var in self.data:\n",
    "            self.control.setdefault(var, set())\n",
    "        for var in self.control:\n",
    "            self.data.setdefault(var, set())\n",
    "\n",
    "        self.validate()"
   ]
  },
  {
   "cell_type": "markdown",
   "metadata": {
    "slideshow": {
     "slide_type": "subslide"
    }
   },
   "source": [
    "The `validate()` method checks for consistency."
   ]
  },
  {
   "cell_type": "code",
   "execution_count": 15,
   "metadata": {
    "execution": {
     "iopub.execute_input": "2021-03-05T23:37:08.094819Z",
     "iopub.status.busy": "2021-03-05T23:37:08.094164Z",
     "iopub.status.idle": "2021-03-05T23:37:08.096145Z",
     "shell.execute_reply": "2021-03-05T23:37:08.096698Z"
    },
    "slideshow": {
     "slide_type": "fragment"
    }
   },
   "outputs": [],
   "source": [
    "class Dependencies(Dependencies):\n",
    "    def validate(self) -> None:\n",
    "        \"\"\"Check dependency structure.\"\"\"\n",
    "        assert isinstance(self.data, dict)\n",
    "        assert isinstance(self.control, dict)\n",
    "\n",
    "        for node in (self.data.keys()) | set(self.control.keys()):\n",
    "            var_name, location = node\n",
    "            assert isinstance(var_name, str)\n",
    "            func, lineno = location\n",
    "            assert callable(func)\n",
    "            assert isinstance(lineno, int)"
   ]
  },
  {
   "cell_type": "markdown",
   "metadata": {
    "slideshow": {
     "slide_type": "fragment"
    }
   },
   "source": [
    "The `source()` method returns the source code for a given node."
   ]
  },
  {
   "cell_type": "code",
   "execution_count": 16,
   "metadata": {
    "execution": {
     "iopub.execute_input": "2021-03-05T23:37:08.104426Z",
     "iopub.status.busy": "2021-03-05T23:37:08.103730Z",
     "iopub.status.idle": "2021-03-05T23:37:08.105398Z",
     "shell.execute_reply": "2021-03-05T23:37:08.105904Z"
    },
    "ipub": {
     "ignore": true
    },
    "slideshow": {
     "slide_type": "subslide"
    }
   },
   "outputs": [],
   "source": [
    "class Dependencies(Dependencies):\n",
    "    def _source(self, node: Node) -> str:\n",
    "        # Return source line, or ''\n",
    "        (name, location) = node\n",
    "        func, lineno = location\n",
    "        if not func:\n",
    "            # No source\n",
    "            return ''\n",
    "\n",
    "        try:\n",
    "            source_lines, first_lineno = inspect.getsourcelines(func)\n",
    "        except OSError:\n",
    "            warnings.warn(f\"Couldn't find source \"\n",
    "                          f\"for {func} ({func.__name__})\")\n",
    "            return ''\n",
    "\n",
    "        try:\n",
    "            line = source_lines[lineno - first_lineno].strip()\n",
    "        except IndexError:\n",
    "            return ''\n",
    "\n",
    "        return line\n",
    "\n",
    "    def source(self, node: Node) -> str:\n",
    "        \"\"\"Return the source code for a given node.\"\"\"\n",
    "        line = self._source(node)\n",
    "        if line:\n",
    "            return line\n",
    "\n",
    "        (name, location) = node\n",
    "        func, lineno = location\n",
    "        code_name = func.__name__\n",
    "\n",
    "        if code_name.startswith('<'):\n",
    "            return code_name\n",
    "        else:\n",
    "            return f'<{code_name}()>'"
   ]
  },
  {
   "cell_type": "code",
   "execution_count": 17,
   "metadata": {
    "execution": {
     "iopub.execute_input": "2021-03-05T23:37:08.109515Z",
     "iopub.status.busy": "2021-03-05T23:37:08.108794Z",
     "iopub.status.idle": "2021-03-05T23:37:08.112315Z",
     "shell.execute_reply": "2021-03-05T23:37:08.112890Z"
    },
    "slideshow": {
     "slide_type": "subslide"
    }
   },
   "outputs": [
    {
     "data": {
      "text/plain": [
       "'def middle(x, y, z):  # type: ignore'"
      ]
     },
     "execution_count": 1,
     "metadata": {},
     "output_type": "execute_result"
    }
   ],
   "source": [
    "test_deps = Dependencies()\n",
    "test_deps.source(('z', (middle, 1)))"
   ]
  },
  {
   "cell_type": "markdown",
   "metadata": {
    "slideshow": {
     "slide_type": "subslide"
    }
   },
   "source": [
    "#### Drawing Dependencies"
   ]
  },
  {
   "cell_type": "markdown",
   "metadata": {
    "slideshow": {
     "slide_type": "fragment"
    }
   },
   "source": [
    "Both data and control form a graph between nodes, and cam be visualized as such. We use the `graphviz` package for creating such visualizations."
   ]
  },
  {
   "cell_type": "code",
   "execution_count": 18,
   "metadata": {
    "execution": {
     "iopub.execute_input": "2021-03-05T23:37:08.116680Z",
     "iopub.status.busy": "2021-03-05T23:37:08.115996Z",
     "iopub.status.idle": "2021-03-05T23:37:08.118112Z",
     "shell.execute_reply": "2021-03-05T23:37:08.118807Z"
    },
    "ipub": {
     "ignore": true
    },
    "slideshow": {
     "slide_type": "skip"
    }
   },
   "outputs": [],
   "source": [
    "from graphviz import Digraph, nohtml"
   ]
  },
  {
   "cell_type": "markdown",
   "metadata": {
    "slideshow": {
     "slide_type": "fragment"
    }
   },
   "source": [
    "`make_graph()` sets the basic graph attributes."
   ]
  },
  {
   "cell_type": "code",
   "execution_count": 19,
   "metadata": {
    "execution": {
     "iopub.execute_input": "2021-03-05T23:37:08.122619Z",
     "iopub.status.busy": "2021-03-05T23:37:08.121866Z",
     "iopub.status.idle": "2021-03-05T23:37:08.123493Z",
     "shell.execute_reply": "2021-03-05T23:37:08.123866Z"
    },
    "slideshow": {
     "slide_type": "skip"
    }
   },
   "outputs": [],
   "source": [
    "import html"
   ]
  },
  {
   "cell_type": "code",
   "execution_count": 20,
   "metadata": {
    "execution": {
     "iopub.execute_input": "2021-03-05T23:37:08.128955Z",
     "iopub.status.busy": "2021-03-05T23:37:08.128083Z",
     "iopub.status.idle": "2021-03-05T23:37:08.130202Z",
     "shell.execute_reply": "2021-03-05T23:37:08.130841Z"
    },
    "slideshow": {
     "slide_type": "subslide"
    }
   },
   "outputs": [],
   "source": [
    "class Dependencies(Dependencies):\n",
    "    NODE_COLOR = 'peachpuff'\n",
    "    FONT_NAME = 'Fira Mono, Courier, monospace'\n",
    "\n",
    "    def make_graph(self, name: str = \"dependencies\", comment: str = \"Dependencies\") -> Digraph:\n",
    "        return Digraph(name=name, comment=comment, \n",
    "            graph_attr={\n",
    "            },\n",
    "            node_attr={\n",
    "                'style': 'filled',\n",
    "                'shape': 'box',\n",
    "                'fillcolor': self.NODE_COLOR,\n",
    "                'fontname': self.FONT_NAME\n",
    "            },\n",
    "            edge_attr={\n",
    "                'fontname': self.FONT_NAME\n",
    "            })"
   ]
  },
  {
   "cell_type": "markdown",
   "metadata": {
    "slideshow": {
     "slide_type": "subslide"
    }
   },
   "source": [
    "`graph()` returns a graph visualization."
   ]
  },
  {
   "cell_type": "code",
   "execution_count": 21,
   "metadata": {
    "execution": {
     "iopub.execute_input": "2021-03-05T23:37:08.135275Z",
     "iopub.status.busy": "2021-03-05T23:37:08.134746Z",
     "iopub.status.idle": "2021-03-05T23:37:08.136447Z",
     "shell.execute_reply": "2021-03-05T23:37:08.136873Z"
    },
    "slideshow": {
     "slide_type": "fragment"
    }
   },
   "outputs": [],
   "source": [
    "class Dependencies(Dependencies):\n",
    "    def graph(self) -> Digraph:\n",
    "        \"\"\"Draw dependencies.\"\"\"\n",
    "        self.validate()\n",
    "\n",
    "        g = self.make_graph()\n",
    "        self.draw_dependencies(g)\n",
    "        self.add_hierarchy(g)\n",
    "        return g\n",
    "\n",
    "    def _repr_svg_(self) -> Any:\n",
    "        \"\"\"If the object is output in Jupyter, render dependencies as a SVG graph\"\"\"\n",
    "        return self.graph()._repr_svg_()"
   ]
  },
  {
   "cell_type": "markdown",
   "metadata": {
    "slideshow": {
     "slide_type": "subslide"
    }
   },
   "source": [
    "The main part of graph drawing takes place in two methods, `draw_dependencies()` and `add_hierarchy()`."
   ]
  },
  {
   "cell_type": "markdown",
   "metadata": {
    "slideshow": {
     "slide_type": "fragment"
    }
   },
   "source": [
    "`draw_dependencies()` processes through the graph, adding nodes and edges from the dependencies."
   ]
  },
  {
   "cell_type": "code",
   "execution_count": 22,
   "metadata": {
    "execution": {
     "iopub.execute_input": "2021-03-05T23:37:08.141622Z",
     "iopub.status.busy": "2021-03-05T23:37:08.141033Z",
     "iopub.status.idle": "2021-03-05T23:37:08.142781Z",
     "shell.execute_reply": "2021-03-05T23:37:08.143162Z"
    },
    "slideshow": {
     "slide_type": "subslide"
    }
   },
   "outputs": [],
   "source": [
    "class Dependencies(Dependencies):\n",
    "    def all_vars(self) -> Set[Node]:\n",
    "        \"\"\"Return a set of all variables (as `var_name`, `location`) in the dependencies\"\"\"\n",
    "        all_vars = set()\n",
    "        for var in self.data:\n",
    "            all_vars.add(var)\n",
    "            for source in self.data[var]:\n",
    "                all_vars.add(source)\n",
    "\n",
    "        for var in self.control:\n",
    "            all_vars.add(var)\n",
    "            for source in self.control[var]:\n",
    "                all_vars.add(source)\n",
    "\n",
    "        return all_vars"
   ]
  },
  {
   "cell_type": "code",
   "execution_count": 23,
   "metadata": {
    "execution": {
     "iopub.execute_input": "2021-03-05T23:37:08.148851Z",
     "iopub.status.busy": "2021-03-05T23:37:08.148306Z",
     "iopub.status.idle": "2021-03-05T23:37:08.149886Z",
     "shell.execute_reply": "2021-03-05T23:37:08.150388Z"
    },
    "slideshow": {
     "slide_type": "subslide"
    }
   },
   "outputs": [],
   "source": [
    "class Dependencies(Dependencies):\n",
    "    def draw_dependencies(self, g: Digraph) -> None:\n",
    "        for var in self.all_vars():\n",
    "            g.node(self.id(var),\n",
    "                   label=self.label(var),\n",
    "                   tooltip=self.tooltip(var))\n",
    "\n",
    "            if var in self.data:\n",
    "                for source in self.data[var]:\n",
    "                    g.edge(self.id(source), self.id(var))\n",
    "\n",
    "            if var in self.control:\n",
    "                for source in self.control[var]:\n",
    "                    g.edge(self.id(source), self.id(var),\n",
    "                           style='dashed', color='grey')"
   ]
  },
  {
   "cell_type": "markdown",
   "metadata": {
    "slideshow": {
     "slide_type": "subslide"
    }
   },
   "source": [
    "`draw_dependencies()` makes use of a few helper functions."
   ]
  },
  {
   "cell_type": "code",
   "execution_count": 24,
   "metadata": {
    "execution": {
     "iopub.execute_input": "2021-03-05T23:37:08.156827Z",
     "iopub.status.busy": "2021-03-05T23:37:08.156183Z",
     "iopub.status.idle": "2021-03-05T23:37:08.157743Z",
     "shell.execute_reply": "2021-03-05T23:37:08.158184Z"
    },
    "slideshow": {
     "slide_type": "subslide"
    }
   },
   "outputs": [],
   "source": [
    "class Dependencies(Dependencies):\n",
    "    def id(self, var: Node) -> str:\n",
    "        \"\"\"Return a unique ID for `var`.\"\"\"\n",
    "        id = \"\"\n",
    "        # Avoid non-identifier characters\n",
    "        for c in repr(var):\n",
    "            if c.isalnum() or c == '_':\n",
    "                id += c\n",
    "            if c == ':' or c == ',':\n",
    "                id += '_'\n",
    "        return id\n",
    "\n",
    "    def label(self, var: Node) -> str:\n",
    "        \"\"\"Render node `var` using HTML style.\"\"\"\n",
    "        (name, location) = var\n",
    "        source = self.source(var)\n",
    "\n",
    "        title = html.escape(name)\n",
    "        if name.startswith('<'):\n",
    "            title = f'<I>{title}</I>'\n",
    "\n",
    "        label = f'<B>{title}</B>'\n",
    "        if source:\n",
    "            label += (f'<FONT POINT-SIZE=\"9.0\"><BR/><BR/>'\n",
    "                    f'{html.escape(source)}'\n",
    "                    f'</FONT>')\n",
    "        label = f'<{label}>'\n",
    "        return label\n",
    "\n",
    "    def tooltip(self, var: Node) -> str:\n",
    "        \"\"\"Return a tooltip for node `var`.\"\"\"\n",
    "        (name, location) = var\n",
    "        func, lineno = location\n",
    "        return f\"{func.__name__}:{lineno}\""
   ]
  },
  {
   "cell_type": "markdown",
   "metadata": {
    "slideshow": {
     "slide_type": "subslide"
    }
   },
   "source": [
    "In the second part of graph drawing, `add_hierarchy()` adds invisible edges to ensure that nodes with lower line numbers are drawn above nodes with higher line numbers."
   ]
  },
  {
   "cell_type": "code",
   "execution_count": 25,
   "metadata": {
    "execution": {
     "iopub.execute_input": "2021-03-05T23:37:08.163198Z",
     "iopub.status.busy": "2021-03-05T23:37:08.162625Z",
     "iopub.status.idle": "2021-03-05T23:37:08.164231Z",
     "shell.execute_reply": "2021-03-05T23:37:08.164604Z"
    },
    "slideshow": {
     "slide_type": "subslide"
    }
   },
   "outputs": [],
   "source": [
    "class Dependencies(Dependencies):\n",
    "    def add_hierarchy(self, g: Digraph) -> Digraph:\n",
    "        \"\"\"Add invisible edges for a proper hierarchy.\"\"\"\n",
    "        functions = self.all_functions()\n",
    "        for func in functions:\n",
    "            last_var = None\n",
    "            last_lineno = 0\n",
    "            for (lineno, var) in functions[func]:\n",
    "                if last_var is not None and lineno > last_lineno:\n",
    "                    g.edge(self.id(last_var),\n",
    "                           self.id(var),\n",
    "                           style='invis')\n",
    "\n",
    "                last_var = var\n",
    "                last_lineno = lineno\n",
    "\n",
    "        return g"
   ]
  },
  {
   "cell_type": "code",
   "execution_count": 26,
   "metadata": {
    "execution": {
     "iopub.execute_input": "2021-03-05T23:37:08.170593Z",
     "iopub.status.busy": "2021-03-05T23:37:08.170051Z",
     "iopub.status.idle": "2021-03-05T23:37:08.171517Z",
     "shell.execute_reply": "2021-03-05T23:37:08.171887Z"
    },
    "slideshow": {
     "slide_type": "subslide"
    }
   },
   "outputs": [],
   "source": [
    "class Dependencies(Dependencies):\n",
    "    def all_functions(self) -> Dict[Callable, List[Tuple[int, Node]]]:\n",
    "        \"\"\"\n",
    "        Return mapping \n",
    "        {`function`: [(`lineno`, `var`), (`lineno`, `var`), ...], ...}\n",
    "        for all functions in the dependencies.\n",
    "        \"\"\"\n",
    "        functions: Dict[Callable, List[Tuple[int, Node]]] = {}\n",
    "        for var in self.all_vars():\n",
    "            (name, location) = var\n",
    "            func, lineno = location\n",
    "            if func not in functions:\n",
    "                functions[func] = []\n",
    "            functions[func].append((lineno, var))\n",
    "\n",
    "        for func in functions:\n",
    "            functions[func].sort()\n",
    "\n",
    "        return functions"
   ]
  },
  {
   "cell_type": "markdown",
   "metadata": {
    "slideshow": {
     "slide_type": "subslide"
    }
   },
   "source": [
    "Here comes the graph in all its glory:"
   ]
  },
  {
   "cell_type": "code",
   "execution_count": 27,
   "metadata": {
    "execution": {
     "iopub.execute_input": "2021-03-05T23:37:08.180134Z",
     "iopub.status.busy": "2021-03-05T23:37:08.179120Z",
     "iopub.status.idle": "2021-03-05T23:37:08.181046Z",
     "shell.execute_reply": "2021-03-05T23:37:08.181499Z"
    },
    "slideshow": {
     "slide_type": "fragment"
    }
   },
   "outputs": [],
   "source": [
    "def middle_deps() -> Dependencies:\n",
    "    return Dependencies({('z', (middle, 1)): set(), ('y', (middle, 1)): set(), ('x', (middle, 1)): set(), ('<test>', (middle, 2)): {('y', (middle, 1)), ('z', (middle, 1))}, ('<test>', (middle, 3)): {('y', (middle, 1)), ('x', (middle, 1))}, ('<test>', (middle, 5)): {('z', (middle, 1)), ('x', (middle, 1))}, ('<middle() return value>', (middle, 6)): {('y', (middle, 1))}}, {('z', (middle, 1)): set(), ('y', (middle, 1)): set(), ('x', (middle, 1)): set(), ('<test>', (middle, 2)): set(), ('<test>', (middle, 3)): {('<test>', (middle, 2))}, ('<test>', (middle, 5)): {('<test>', (middle, 3))}, ('<middle() return value>', (middle, 6)): {('<test>', (middle, 5))}})"
   ]
  },
  {
   "cell_type": "code",
   "execution_count": 28,
   "metadata": {
    "execution": {
     "iopub.execute_input": "2021-03-05T23:37:08.189267Z",
     "iopub.status.busy": "2021-03-05T23:37:08.184578Z",
     "iopub.status.idle": "2021-03-05T23:37:08.862880Z",
     "shell.execute_reply": "2021-03-05T23:37:08.863255Z"
    },
    "slideshow": {
     "slide_type": "fragment"
    }
   },
   "outputs": [
    {
     "data": {
      "image/svg+xml": [
       "<?xml version=\"1.0\" encoding=\"UTF-8\" standalone=\"no\"?>\n",
       "<!DOCTYPE svg PUBLIC \"-//W3C//DTD SVG 1.1//EN\"\n",
       " \"http://www.w3.org/Graphics/SVG/1.1/DTD/svg11.dtd\">\n",
       "<!-- Generated by graphviz version 2.40.1 (20161225.0304)\n",
       " -->\n",
       "<!-- Title: dependencies Pages: 1 -->\n",
       "<svg width=\"462pt\" height=\"352pt\"\n",
       " viewBox=\"0.00 0.00 461.95 352.00\" xmlns=\"http://www.w3.org/2000/svg\" xmlns:xlink=\"http://www.w3.org/1999/xlink\">\n",
       "<g id=\"graph0\" class=\"graph\" transform=\"scale(1 1) rotate(0) translate(4 348)\">\n",
       "<title>dependencies</title>\n",
       "<polygon fill=\"#ffffff\" stroke=\"transparent\" points=\"-4,4 -4,-348 457.9542,-348 457.9542,4 -4,4\"/>\n",
       "<!-- x_functionmiddleat0x7fe1d5ddbd08_1 -->\n",
       "<g id=\"node1\" class=\"node\">\n",
       "<title>x_functionmiddleat0x7fe1d5ddbd08_1</title>\n",
       "<g id=\"a_node1\"><a xlink:title=\"middle:1\">\n",
       "<polygon fill=\"#ffdab9\" stroke=\"#000000\" points=\"438,-268 227,-268 227,-228 438,-228 438,-268\"/>\n",
       "<text text-anchor=\"start\" x=\"328\" y=\"-253.8\" font-family=\"Fira Mono, Courier, monospace\" font-weight=\"bold\" font-size=\"14.00\" fill=\"#000000\">x</text>\n",
       "<text text-anchor=\"start\" x=\"235\" y=\"-234.8\" font-family=\"Fira Mono, Courier, monospace\" font-size=\"9.00\" fill=\"#000000\">def middle(x, y, z): &#160;# type: ignore</text>\n",
       "</a>\n",
       "</g>\n",
       "</g>\n",
       "<!-- test_functionmiddleat0x7fe1d5ddbd08_3 -->\n",
       "<g id=\"node5\" class=\"node\">\n",
       "<title>test_functionmiddleat0x7fe1d5ddbd08_3</title>\n",
       "<g id=\"a_node5\"><a xlink:title=\"middle:3\">\n",
       "<polygon fill=\"#ffdab9\" stroke=\"#000000\" points=\"232,-192 165,-192 165,-152 232,-152 232,-192\"/>\n",
       "<text text-anchor=\"start\" x=\"173\" y=\"-177.8\" font-family=\"Fira Mono, Courier, monospace\" font-weight=\"bold\" font-style=\"italic\" font-size=\"14.00\" fill=\"#000000\">&lt;test&gt;</text>\n",
       "<text text-anchor=\"start\" x=\"174\" y=\"-158.8\" font-family=\"Fira Mono, Courier, monospace\" font-size=\"9.00\" fill=\"#000000\">if x &lt; y:</text>\n",
       "</a>\n",
       "</g>\n",
       "</g>\n",
       "<!-- x_functionmiddleat0x7fe1d5ddbd08_1&#45;&gt;test_functionmiddleat0x7fe1d5ddbd08_3 -->\n",
       "<g id=\"edge3\" class=\"edge\">\n",
       "<title>x_functionmiddleat0x7fe1d5ddbd08_1&#45;&gt;test_functionmiddleat0x7fe1d5ddbd08_3</title>\n",
       "<path fill=\"none\" stroke=\"#000000\" d=\"M296.9423,-227.8329C279.9075,-218.1714 259.3657,-206.5208 241.4634,-196.3673\"/>\n",
       "<polygon fill=\"#000000\" stroke=\"#000000\" points=\"242.7998,-193.1015 232.3747,-191.2125 239.3464,-199.1904 242.7998,-193.1015\"/>\n",
       "</g>\n",
       "<!-- test_functionmiddleat0x7fe1d5ddbd08_5 -->\n",
       "<g id=\"node6\" class=\"node\">\n",
       "<title>test_functionmiddleat0x7fe1d5ddbd08_5</title>\n",
       "<g id=\"a_node6\"><a xlink:title=\"middle:5\">\n",
       "<polygon fill=\"#ffdab9\" stroke=\"#000000\" points=\"236.5,-116 160.5,-116 160.5,-76 236.5,-76 236.5,-116\"/>\n",
       "<text text-anchor=\"start\" x=\"173\" y=\"-101.8\" font-family=\"Fira Mono, Courier, monospace\" font-weight=\"bold\" font-style=\"italic\" font-size=\"14.00\" fill=\"#000000\">&lt;test&gt;</text>\n",
       "<text text-anchor=\"start\" x=\"168.5\" y=\"-82.8\" font-family=\"Fira Mono, Courier, monospace\" font-size=\"9.00\" fill=\"#000000\">elif x &lt; z:</text>\n",
       "</a>\n",
       "</g>\n",
       "</g>\n",
       "<!-- x_functionmiddleat0x7fe1d5ddbd08_1&#45;&gt;test_functionmiddleat0x7fe1d5ddbd08_5 -->\n",
       "<g id=\"edge6\" class=\"edge\">\n",
       "<title>x_functionmiddleat0x7fe1d5ddbd08_1&#45;&gt;test_functionmiddleat0x7fe1d5ddbd08_5</title>\n",
       "<path fill=\"none\" stroke=\"#000000\" d=\"M314.7058,-227.8156C291.1789,-201.1283 249.6112,-153.9769 223.0928,-123.8963\"/>\n",
       "<polygon fill=\"#000000\" stroke=\"#000000\" points=\"225.6062,-121.4546 216.3678,-116.2679 220.3553,-126.0837 225.6062,-121.4546\"/>\n",
       "</g>\n",
       "<!-- test_functionmiddleat0x7fe1d5ddbd08_2 -->\n",
       "<g id=\"node2\" class=\"node\">\n",
       "<title>test_functionmiddleat0x7fe1d5ddbd08_2</title>\n",
       "<g id=\"a_node2\"><a xlink:title=\"middle:2\">\n",
       "<polygon fill=\"#ffdab9\" stroke=\"#000000\" points=\"170,-268 103,-268 103,-228 170,-228 170,-268\"/>\n",
       "<text text-anchor=\"start\" x=\"111\" y=\"-253.8\" font-family=\"Fira Mono, Courier, monospace\" font-weight=\"bold\" font-style=\"italic\" font-size=\"14.00\" fill=\"#000000\">&lt;test&gt;</text>\n",
       "<text text-anchor=\"start\" x=\"112\" y=\"-234.8\" font-family=\"Fira Mono, Courier, monospace\" font-size=\"9.00\" fill=\"#000000\">if y &lt; z:</text>\n",
       "</a>\n",
       "</g>\n",
       "</g>\n",
       "<!-- test_functionmiddleat0x7fe1d5ddbd08_2&#45;&gt;test_functionmiddleat0x7fe1d5ddbd08_3 -->\n",
       "<g id=\"edge5\" class=\"edge\">\n",
       "<title>test_functionmiddleat0x7fe1d5ddbd08_2&#45;&gt;test_functionmiddleat0x7fe1d5ddbd08_3</title>\n",
       "<path fill=\"none\" stroke=\"#c0c0c0\" stroke-dasharray=\"5,2\" d=\"M147.0574,-227.6334C153.3372,-219.0457 161.4472,-208.9142 169.407,-199.6663\"/>\n",
       "<polygon fill=\"#c0c0c0\" stroke=\"#c0c0c0\" points=\"172.0347,-201.9783 176.0145,-192.1593 166.7802,-197.3534 172.0347,-201.9783\"/>\n",
       "</g>\n",
       "<!-- test_functionmiddleat0x7fe1d5ddbd08_2&#45;&gt;test_functionmiddleat0x7fe1d5ddbd08_3 -->\n",
       "<!-- z_functionmiddleat0x7fe1d5ddbd08_1 -->\n",
       "<g id=\"node3\" class=\"node\">\n",
       "<title>z_functionmiddleat0x7fe1d5ddbd08_1</title>\n",
       "<g id=\"a_node3\"><a xlink:title=\"middle:1\">\n",
       "<polygon fill=\"#ffdab9\" stroke=\"#000000\" points=\"211,-344 0,-344 0,-304 211,-304 211,-344\"/>\n",
       "<text text-anchor=\"start\" x=\"101\" y=\"-329.8\" font-family=\"Fira Mono, Courier, monospace\" font-weight=\"bold\" font-size=\"14.00\" fill=\"#000000\">z</text>\n",
       "<text text-anchor=\"start\" x=\"8\" y=\"-310.8\" font-family=\"Fira Mono, Courier, monospace\" font-size=\"9.00\" fill=\"#000000\">def middle(x, y, z): &#160;# type: ignore</text>\n",
       "</a>\n",
       "</g>\n",
       "</g>\n",
       "<!-- z_functionmiddleat0x7fe1d5ddbd08_1&#45;&gt;test_functionmiddleat0x7fe1d5ddbd08_2 -->\n",
       "<g id=\"edge1\" class=\"edge\">\n",
       "<title>z_functionmiddleat0x7fe1d5ddbd08_1&#45;&gt;test_functionmiddleat0x7fe1d5ddbd08_2</title>\n",
       "<path fill=\"none\" stroke=\"#000000\" d=\"M107.75,-303.6334C110.3603,-295.561 114.0313,-286.1244 117.9407,-277.34\"/>\n",
       "<polygon fill=\"#000000\" stroke=\"#000000\" points=\"121.1684,-278.7001 122.2373,-268.1593 114.8284,-275.7328 121.1684,-278.7001\"/>\n",
       "</g>\n",
       "<!-- z_functionmiddleat0x7fe1d5ddbd08_1&#45;&gt;test_functionmiddleat0x7fe1d5ddbd08_2 -->\n",
       "<!-- z_functionmiddleat0x7fe1d5ddbd08_1&#45;&gt;test_functionmiddleat0x7fe1d5ddbd08_5 -->\n",
       "<g id=\"edge7\" class=\"edge\">\n",
       "<title>z_functionmiddleat0x7fe1d5ddbd08_1&#45;&gt;test_functionmiddleat0x7fe1d5ddbd08_5</title>\n",
       "<path fill=\"none\" stroke=\"#000000\" d=\"M97.8447,-303.9561C91.4566,-284.1394 84.6951,-253.213 93.5,-228 108.1113,-186.1604 142.1443,-147.6566 167.5286,-123.1675\"/>\n",
       "<polygon fill=\"#000000\" stroke=\"#000000\" points=\"170.2239,-125.4365 175.0977,-116.0291 165.4212,-120.3439 170.2239,-125.4365\"/>\n",
       "</g>\n",
       "<!-- y_functionmiddleat0x7fe1d5ddbd08_1 -->\n",
       "<g id=\"node4\" class=\"node\">\n",
       "<title>y_functionmiddleat0x7fe1d5ddbd08_1</title>\n",
       "<g id=\"a_node4\"><a xlink:title=\"middle:1\">\n",
       "<polygon fill=\"#ffdab9\" stroke=\"#000000\" points=\"440,-344 229,-344 229,-304 440,-304 440,-344\"/>\n",
       "<text text-anchor=\"start\" x=\"330\" y=\"-329.8\" font-family=\"Fira Mono, Courier, monospace\" font-weight=\"bold\" font-size=\"14.00\" fill=\"#000000\">y</text>\n",
       "<text text-anchor=\"start\" x=\"237\" y=\"-310.8\" font-family=\"Fira Mono, Courier, monospace\" font-size=\"9.00\" fill=\"#000000\">def middle(x, y, z): &#160;# type: ignore</text>\n",
       "</a>\n",
       "</g>\n",
       "</g>\n",
       "<!-- y_functionmiddleat0x7fe1d5ddbd08_1&#45;&gt;test_functionmiddleat0x7fe1d5ddbd08_2 -->\n",
       "<g id=\"edge2\" class=\"edge\">\n",
       "<title>y_functionmiddleat0x7fe1d5ddbd08_1&#45;&gt;test_functionmiddleat0x7fe1d5ddbd08_2</title>\n",
       "<path fill=\"none\" stroke=\"#000000\" d=\"M279.1006,-303.8807C250.7149,-293.4295 215.6552,-280.3013 184.5,-268 182.8836,-267.3618 181.2389,-266.7064 179.5792,-266.0402\"/>\n",
       "<polygon fill=\"#000000\" stroke=\"#000000\" points=\"180.586,-262.6714 170.0041,-262.148 177.95,-269.1561 180.586,-262.6714\"/>\n",
       "</g>\n",
       "<!-- y_functionmiddleat0x7fe1d5ddbd08_1&#45;&gt;test_functionmiddleat0x7fe1d5ddbd08_3 -->\n",
       "<g id=\"edge4\" class=\"edge\">\n",
       "<title>y_functionmiddleat0x7fe1d5ddbd08_1&#45;&gt;test_functionmiddleat0x7fe1d5ddbd08_3</title>\n",
       "<path fill=\"none\" stroke=\"#000000\" d=\"M266.0818,-303.9554C247.8723,-295.5577 229.8555,-283.9235 217.5,-268 203.043,-249.3681 198.6776,-222.7181 197.7105,-202.2225\"/>\n",
       "<polygon fill=\"#000000\" stroke=\"#000000\" points=\"201.2077,-202.0576 197.4791,-192.1406 194.2096,-202.2183 201.2077,-202.0576\"/>\n",
       "</g>\n",
       "<!-- middlereturnvalue_functionmiddleat0x7fe1d5ddbd08_6 -->\n",
       "<g id=\"node7\" class=\"node\">\n",
       "<title>middlereturnvalue_functionmiddleat0x7fe1d5ddbd08_6</title>\n",
       "<g id=\"a_node7\"><a xlink:title=\"middle:6\">\n",
       "<polygon fill=\"#ffdab9\" stroke=\"#000000\" points=\"303.5,-40 93.5,-40 93.5,0 303.5,0 303.5,-40\"/>\n",
       "<text text-anchor=\"start\" x=\"101.5\" y=\"-25.8\" font-family=\"Fira Mono, Courier, monospace\" font-weight=\"bold\" font-style=\"italic\" font-size=\"14.00\" fill=\"#000000\">&lt;middle() return value&gt;</text>\n",
       "<text text-anchor=\"start\" x=\"176.5\" y=\"-6.8\" font-family=\"Fira Mono, Courier, monospace\" font-size=\"9.00\" fill=\"#000000\">return y</text>\n",
       "</a>\n",
       "</g>\n",
       "</g>\n",
       "<!-- y_functionmiddleat0x7fe1d5ddbd08_1&#45;&gt;middlereturnvalue_functionmiddleat0x7fe1d5ddbd08_6 -->\n",
       "<g id=\"edge9\" class=\"edge\">\n",
       "<title>y_functionmiddleat0x7fe1d5ddbd08_1&#45;&gt;middlereturnvalue_functionmiddleat0x7fe1d5ddbd08_6</title>\n",
       "<path fill=\"none\" stroke=\"#000000\" d=\"M404.6768,-303.8802C421.5622,-295.5697 437.5723,-283.9999 447.5,-268 456.8731,-252.8939 455.031,-244.1038 447.5,-228 406.7602,-140.8847 309.6062,-77.451 249.4084,-44.8598\"/>\n",
       "<polygon fill=\"#000000\" stroke=\"#000000\" points=\"250.9142,-41.6964 240.4425,-40.0854 247.624,-47.875 250.9142,-41.6964\"/>\n",
       "</g>\n",
       "<!-- test_functionmiddleat0x7fe1d5ddbd08_3&#45;&gt;test_functionmiddleat0x7fe1d5ddbd08_5 -->\n",
       "<g id=\"edge8\" class=\"edge\">\n",
       "<title>test_functionmiddleat0x7fe1d5ddbd08_3&#45;&gt;test_functionmiddleat0x7fe1d5ddbd08_5</title>\n",
       "<path fill=\"none\" stroke=\"#c0c0c0\" stroke-dasharray=\"5,2\" d=\"M192.4426,-151.6334C191.7819,-143.8186 191.5939,-134.7253 191.8786,-126.183\"/>\n",
       "<polygon fill=\"#c0c0c0\" stroke=\"#c0c0c0\" points=\"195.375,-126.3453 192.4602,-116.1593 188.3867,-125.9397 195.375,-126.3453\"/>\n",
       "</g>\n",
       "<!-- test_functionmiddleat0x7fe1d5ddbd08_3&#45;&gt;test_functionmiddleat0x7fe1d5ddbd08_5 -->\n",
       "<!-- test_functionmiddleat0x7fe1d5ddbd08_5&#45;&gt;middlereturnvalue_functionmiddleat0x7fe1d5ddbd08_6 -->\n",
       "<g id=\"edge10\" class=\"edge\">\n",
       "<title>test_functionmiddleat0x7fe1d5ddbd08_5&#45;&gt;middlereturnvalue_functionmiddleat0x7fe1d5ddbd08_6</title>\n",
       "<path fill=\"none\" stroke=\"#c0c0c0\" stroke-dasharray=\"5,2\" d=\"M192.4426,-75.6334C191.7819,-67.8186 191.5939,-58.7253 191.8786,-50.183\"/>\n",
       "<polygon fill=\"#c0c0c0\" stroke=\"#c0c0c0\" points=\"195.375,-50.3453 192.4602,-40.1593 188.3867,-49.9397 195.375,-50.3453\"/>\n",
       "</g>\n",
       "<!-- test_functionmiddleat0x7fe1d5ddbd08_5&#45;&gt;middlereturnvalue_functionmiddleat0x7fe1d5ddbd08_6 -->\n",
       "</g>\n",
       "</svg>\n"
      ],
      "text/plain": [
       "<__main__.Dependencies at 0x7fe1d5e6def0>"
      ]
     },
     "execution_count": 1,
     "metadata": {},
     "output_type": "execute_result"
    }
   ],
   "source": [
    "middle_deps()"
   ]
  },
  {
   "cell_type": "markdown",
   "metadata": {
    "slideshow": {
     "slide_type": "subslide"
    }
   },
   "source": [
    "#### Slices\n",
    "\n",
    "The method `backward_slice(*critera, mode='cd')` returns a subset of dependencies, following dependencies backward from the given *slicing criteria* `criteria`. These criteria can be\n",
    "\n",
    "* variable names (such as `<test>`); or\n",
    "* `(function, lineno)` pairs (such as `(middle, 3)`); or\n",
    "* `(var_name, (function, lineno))` (such as `(`x`, (middle, 1))`) locations.\n",
    "\n",
    "The extra parameter `mode` controls which dependencies are to be followed:\n",
    "\n",
    "* **`d`** = data dependencies\n",
    "* **`c`** = control dependencies"
   ]
  },
  {
   "cell_type": "code",
   "execution_count": 29,
   "metadata": {
    "execution": {
     "iopub.execute_input": "2021-03-05T23:37:08.867675Z",
     "iopub.status.busy": "2021-03-05T23:37:08.867092Z",
     "iopub.status.idle": "2021-03-05T23:37:08.868727Z",
     "shell.execute_reply": "2021-03-05T23:37:08.869200Z"
    },
    "slideshow": {
     "slide_type": "subslide"
    }
   },
   "outputs": [],
   "source": [
    "Criterion = Union[str, Location, Node]"
   ]
  },
  {
   "cell_type": "code",
   "execution_count": 30,
   "metadata": {
    "execution": {
     "iopub.execute_input": "2021-03-05T23:37:08.880766Z",
     "iopub.status.busy": "2021-03-05T23:37:08.880198Z",
     "iopub.status.idle": "2021-03-05T23:37:08.881820Z",
     "shell.execute_reply": "2021-03-05T23:37:08.882194Z"
    },
    "slideshow": {
     "slide_type": "subslide"
    }
   },
   "outputs": [],
   "source": [
    "class Dependencies(Dependencies):\n",
    "    def expand_criteria(self, criteria: List[Criterion]) -> List[Node]:\n",
    "        \"\"\"Return list of vars matched by `criteria`.\"\"\"\n",
    "        all_vars = []\n",
    "        for criterion in criteria:\n",
    "            criterion_var = None\n",
    "            criterion_func = None\n",
    "            criterion_lineno = None\n",
    "\n",
    "            if isinstance(criterion, str):\n",
    "                criterion_var = criterion\n",
    "            elif len(criterion) == 2 and callable(criterion[0]):\n",
    "                criterion_func, criterion_lineno = criterion\n",
    "            elif len(criterion) == 2 and isinstance(criterion[0], str):\n",
    "                criterion_var = criterion[0]\n",
    "                criterion_func, criterion_lineno = criterion[1]\n",
    "            else:\n",
    "                raise ValueError(\"Invalid argument\")\n",
    "\n",
    "            for var in self.all_vars():\n",
    "                (var_name, location) = var\n",
    "                func, lineno = location\n",
    "\n",
    "                name_matches = (criterion_func is None or\n",
    "                                criterion_func == func or\n",
    "                                criterion_func.__name__ == func.__name__)\n",
    "\n",
    "                location_matches = (criterion_lineno is None or\n",
    "                                    criterion_lineno == lineno)\n",
    "\n",
    "                var_matches = (criterion_var is None or\n",
    "                               criterion_var == var_name)\n",
    "\n",
    "                if name_matches and location_matches and var_matches:\n",
    "                    all_vars.append(var)\n",
    "\n",
    "        return all_vars\n",
    "\n",
    "    def backward_slice(self, *criteria: Criterion, \n",
    "                       mode: str = 'cd', depth: int = -1) -> Dependencies:\n",
    "        \"\"\"\n",
    "        Create a backward slice from nodes `criteria`.\n",
    "        `mode` can contain 'c' (draw control dependencies)\n",
    "        and 'd' (draw data dependencies) (default: 'cd')\n",
    "        \"\"\"\n",
    "        data = {}\n",
    "        control = {}\n",
    "        queue = self.expand_criteria(criteria)  # type: ignore\n",
    "        seen = set()\n",
    "\n",
    "        while len(queue) > 0 and depth != 0:\n",
    "            var = queue[0]\n",
    "            queue = queue[1:]\n",
    "            seen.add(var)\n",
    "\n",
    "            if 'd' in mode:\n",
    "                # Follow data dependencies\n",
    "                data[var] = self.data[var]\n",
    "                for next_var in data[var]:\n",
    "                    if next_var not in seen:\n",
    "                        queue.append(next_var)\n",
    "            else:\n",
    "                data[var] = set()\n",
    "\n",
    "            if 'c' in mode:\n",
    "                # Follow control dependencies\n",
    "                control[var] = self.control[var]\n",
    "                for next_var in control[var]:\n",
    "                    if next_var not in seen:\n",
    "                        queue.append(next_var)\n",
    "            else:\n",
    "                control[var] = set()\n",
    "\n",
    "            depth -= 1\n",
    "\n",
    "        return Dependencies(data, control)"
   ]
  },
  {
   "cell_type": "markdown",
   "metadata": {
    "slideshow": {
     "slide_type": "subslide"
    }
   },
   "source": [
    "### End of Excursion"
   ]
  },
  {
   "cell_type": "markdown",
   "metadata": {
    "slideshow": {
     "slide_type": "subslide"
    }
   },
   "source": [
    "### Data Dependencies\n",
    "\n",
    "Here is an example of a data dependency in our `middle()` program. The value `y` returned by `middle()` comes from the value `y` as originally passed as argument. We use arrows $x \\leftarrow y$ to indicate that a variable $x$ depends on an earlier variable $y$:"
   ]
  },
  {
   "cell_type": "code",
   "execution_count": 31,
   "metadata": {
    "execution": {
     "iopub.execute_input": "2021-03-05T23:37:08.885816Z",
     "iopub.status.busy": "2021-03-05T23:37:08.885302Z",
     "iopub.status.idle": "2021-03-05T23:37:09.550318Z",
     "shell.execute_reply": "2021-03-05T23:37:09.550774Z"
    },
    "slideshow": {
     "slide_type": "fragment"
    }
   },
   "outputs": [
    {
     "data": {
      "image/svg+xml": [
       "<?xml version=\"1.0\" encoding=\"UTF-8\" standalone=\"no\"?>\n",
       "<!DOCTYPE svg PUBLIC \"-//W3C//DTD SVG 1.1//EN\"\n",
       " \"http://www.w3.org/Graphics/SVG/1.1/DTD/svg11.dtd\">\n",
       "<!-- Generated by graphviz version 2.40.1 (20161225.0304)\n",
       " -->\n",
       "<!-- Title: dependencies Pages: 1 -->\n",
       "<svg width=\"219pt\" height=\"124pt\"\n",
       " viewBox=\"0.00 0.00 219.00 124.00\" xmlns=\"http://www.w3.org/2000/svg\" xmlns:xlink=\"http://www.w3.org/1999/xlink\">\n",
       "<g id=\"graph0\" class=\"graph\" transform=\"scale(1 1) rotate(0) translate(4 120)\">\n",
       "<title>dependencies</title>\n",
       "<polygon fill=\"#ffffff\" stroke=\"transparent\" points=\"-4,4 -4,-120 215,-120 215,4 -4,4\"/>\n",
       "<!-- y_functionmiddleat0x7fe1d5ddbd08_1 -->\n",
       "<g id=\"node1\" class=\"node\">\n",
       "<title>y_functionmiddleat0x7fe1d5ddbd08_1</title>\n",
       "<g id=\"a_node1\"><a xlink:title=\"middle:1\">\n",
       "<polygon fill=\"#ffdab9\" stroke=\"#000000\" points=\"211,-116 0,-116 0,-76 211,-76 211,-116\"/>\n",
       "<text text-anchor=\"start\" x=\"101\" y=\"-101.8\" font-family=\"Fira Mono, Courier, monospace\" font-weight=\"bold\" font-size=\"14.00\" fill=\"#000000\">y</text>\n",
       "<text text-anchor=\"start\" x=\"8\" y=\"-82.8\" font-family=\"Fira Mono, Courier, monospace\" font-size=\"9.00\" fill=\"#000000\">def middle(x, y, z): &#160;# type: ignore</text>\n",
       "</a>\n",
       "</g>\n",
       "</g>\n",
       "<!-- middlereturnvalue_functionmiddleat0x7fe1d5ddbd08_6 -->\n",
       "<g id=\"node2\" class=\"node\">\n",
       "<title>middlereturnvalue_functionmiddleat0x7fe1d5ddbd08_6</title>\n",
       "<g id=\"a_node2\"><a xlink:title=\"middle:6\">\n",
       "<polygon fill=\"#ffdab9\" stroke=\"#000000\" points=\"210.5,-40 .5,-40 .5,0 210.5,0 210.5,-40\"/>\n",
       "<text text-anchor=\"start\" x=\"8.5\" y=\"-25.8\" font-family=\"Fira Mono, Courier, monospace\" font-weight=\"bold\" font-style=\"italic\" font-size=\"14.00\" fill=\"#000000\">&lt;middle() return value&gt;</text>\n",
       "<text text-anchor=\"start\" x=\"83.5\" y=\"-6.8\" font-family=\"Fira Mono, Courier, monospace\" font-size=\"9.00\" fill=\"#000000\">return y</text>\n",
       "</a>\n",
       "</g>\n",
       "</g>\n",
       "<!-- y_functionmiddleat0x7fe1d5ddbd08_1&#45;&gt;middlereturnvalue_functionmiddleat0x7fe1d5ddbd08_6 -->\n",
       "<g id=\"edge1\" class=\"edge\">\n",
       "<title>y_functionmiddleat0x7fe1d5ddbd08_1&#45;&gt;middlereturnvalue_functionmiddleat0x7fe1d5ddbd08_6</title>\n",
       "<path fill=\"none\" stroke=\"#000000\" d=\"M99.4426,-75.6334C98.7819,-67.8186 98.5939,-58.7253 98.8786,-50.183\"/>\n",
       "<polygon fill=\"#000000\" stroke=\"#000000\" points=\"102.375,-50.3453 99.4602,-40.1593 95.3867,-49.9397 102.375,-50.3453\"/>\n",
       "</g>\n",
       "<!-- y_functionmiddleat0x7fe1d5ddbd08_1&#45;&gt;middlereturnvalue_functionmiddleat0x7fe1d5ddbd08_6 -->\n",
       "</g>\n",
       "</svg>\n"
      ],
      "text/plain": [
       "<__main__.Dependencies at 0x7fe1d5e335f8>"
      ]
     },
     "execution_count": 1,
     "metadata": {},
     "output_type": "execute_result"
    }
   ],
   "source": [
    "# ignore\n",
    "middle_deps().backward_slice('<middle() return value>', mode='d')  # type: ignore"
   ]
  },
  {
   "cell_type": "markdown",
   "metadata": {
    "slideshow": {
     "slide_type": "fragment"
    }
   },
   "source": [
    "Here, we can see that the value `y` in the return statement is data dependent on the value of `y` as passed to `middle()`. An alternate interpretation of this graph is a *data flow*: The value of `y` in the upper node _flows_ into the value of `y` in the lower node."
   ]
  },
  {
   "cell_type": "markdown",
   "metadata": {
    "slideshow": {
     "slide_type": "subslide"
    }
   },
   "source": [
    "Since we consider the values of variables at specific locations in the program, such data dependencies can also be interpreted as dependencies between _statements_ – the above `return` statement thus is data dependent on the initialization of `y` in the upper node."
   ]
  },
  {
   "cell_type": "markdown",
   "metadata": {
    "slideshow": {
     "slide_type": "subslide"
    }
   },
   "source": [
    "### Control Dependencies\n",
    "\n",
    "Here is an example of a control dependency. The execution of the above `return` statement is controlled by the earlier test `x < z`. We use grey dashed lines to indicate control dependencies:"
   ]
  },
  {
   "cell_type": "code",
   "execution_count": 32,
   "metadata": {
    "execution": {
     "iopub.execute_input": "2021-03-05T23:37:09.555409Z",
     "iopub.status.busy": "2021-03-05T23:37:09.554858Z",
     "iopub.status.idle": "2021-03-05T23:37:10.228219Z",
     "shell.execute_reply": "2021-03-05T23:37:10.228672Z"
    },
    "slideshow": {
     "slide_type": "fragment"
    }
   },
   "outputs": [
    {
     "data": {
      "image/svg+xml": [
       "<?xml version=\"1.0\" encoding=\"UTF-8\" standalone=\"no\"?>\n",
       "<!DOCTYPE svg PUBLIC \"-//W3C//DTD SVG 1.1//EN\"\n",
       " \"http://www.w3.org/Graphics/SVG/1.1/DTD/svg11.dtd\">\n",
       "<!-- Generated by graphviz version 2.40.1 (20161225.0304)\n",
       " -->\n",
       "<!-- Title: dependencies Pages: 1 -->\n",
       "<svg width=\"218pt\" height=\"124pt\"\n",
       " viewBox=\"0.00 0.00 218.00 124.00\" xmlns=\"http://www.w3.org/2000/svg\" xmlns:xlink=\"http://www.w3.org/1999/xlink\">\n",
       "<g id=\"graph0\" class=\"graph\" transform=\"scale(1 1) rotate(0) translate(4 120)\">\n",
       "<title>dependencies</title>\n",
       "<polygon fill=\"#ffffff\" stroke=\"transparent\" points=\"-4,4 -4,-120 214,-120 214,4 -4,4\"/>\n",
       "<!-- test_functionmiddleat0x7fe1d5ddbd08_5 -->\n",
       "<g id=\"node1\" class=\"node\">\n",
       "<title>test_functionmiddleat0x7fe1d5ddbd08_5</title>\n",
       "<g id=\"a_node1\"><a xlink:title=\"middle:5\">\n",
       "<polygon fill=\"#ffdab9\" stroke=\"#000000\" points=\"143,-116 67,-116 67,-76 143,-76 143,-116\"/>\n",
       "<text text-anchor=\"start\" x=\"79.5\" y=\"-101.8\" font-family=\"Fira Mono, Courier, monospace\" font-weight=\"bold\" font-style=\"italic\" font-size=\"14.00\" fill=\"#000000\">&lt;test&gt;</text>\n",
       "<text text-anchor=\"start\" x=\"75\" y=\"-82.8\" font-family=\"Fira Mono, Courier, monospace\" font-size=\"9.00\" fill=\"#000000\">elif x &lt; z:</text>\n",
       "</a>\n",
       "</g>\n",
       "</g>\n",
       "<!-- middlereturnvalue_functionmiddleat0x7fe1d5ddbd08_6 -->\n",
       "<g id=\"node2\" class=\"node\">\n",
       "<title>middlereturnvalue_functionmiddleat0x7fe1d5ddbd08_6</title>\n",
       "<g id=\"a_node2\"><a xlink:title=\"middle:6\">\n",
       "<polygon fill=\"#ffdab9\" stroke=\"#000000\" points=\"210,-40 0,-40 0,0 210,0 210,-40\"/>\n",
       "<text text-anchor=\"start\" x=\"8\" y=\"-25.8\" font-family=\"Fira Mono, Courier, monospace\" font-weight=\"bold\" font-style=\"italic\" font-size=\"14.00\" fill=\"#000000\">&lt;middle() return value&gt;</text>\n",
       "<text text-anchor=\"start\" x=\"83\" y=\"-6.8\" font-family=\"Fira Mono, Courier, monospace\" font-size=\"9.00\" fill=\"#000000\">return y</text>\n",
       "</a>\n",
       "</g>\n",
       "</g>\n",
       "<!-- test_functionmiddleat0x7fe1d5ddbd08_5&#45;&gt;middlereturnvalue_functionmiddleat0x7fe1d5ddbd08_6 -->\n",
       "<g id=\"edge1\" class=\"edge\">\n",
       "<title>test_functionmiddleat0x7fe1d5ddbd08_5&#45;&gt;middlereturnvalue_functionmiddleat0x7fe1d5ddbd08_6</title>\n",
       "<path fill=\"none\" stroke=\"#c0c0c0\" stroke-dasharray=\"5,2\" d=\"M98.9426,-75.6334C98.2819,-67.8186 98.0939,-58.7253 98.3786,-50.183\"/>\n",
       "<polygon fill=\"#c0c0c0\" stroke=\"#c0c0c0\" points=\"101.875,-50.3453 98.9602,-40.1593 94.8867,-49.9397 101.875,-50.3453\"/>\n",
       "</g>\n",
       "<!-- test_functionmiddleat0x7fe1d5ddbd08_5&#45;&gt;middlereturnvalue_functionmiddleat0x7fe1d5ddbd08_6 -->\n",
       "</g>\n",
       "</svg>\n"
      ],
      "text/plain": [
       "<__main__.Dependencies at 0x7fe1d5e33ef0>"
      ]
     },
     "execution_count": 1,
     "metadata": {},
     "output_type": "execute_result"
    }
   ],
   "source": [
    "# ignore\n",
    "middle_deps().backward_slice('<middle() return value>', mode='c', depth=1)  # type: ignore"
   ]
  },
  {
   "cell_type": "markdown",
   "metadata": {
    "slideshow": {
     "slide_type": "fragment"
    }
   },
   "source": [
    "This test in turn is controlled by earlier tests, so the full chain of control dependencies looks like this:"
   ]
  },
  {
   "cell_type": "code",
   "execution_count": 33,
   "metadata": {
    "execution": {
     "iopub.execute_input": "2021-03-05T23:37:10.232728Z",
     "iopub.status.busy": "2021-03-05T23:37:10.232192Z",
     "iopub.status.idle": "2021-03-05T23:37:10.886400Z",
     "shell.execute_reply": "2021-03-05T23:37:10.886932Z"
    },
    "slideshow": {
     "slide_type": "fragment"
    }
   },
   "outputs": [
    {
     "data": {
      "image/svg+xml": [
       "<?xml version=\"1.0\" encoding=\"UTF-8\" standalone=\"no\"?>\n",
       "<!DOCTYPE svg PUBLIC \"-//W3C//DTD SVG 1.1//EN\"\n",
       " \"http://www.w3.org/Graphics/SVG/1.1/DTD/svg11.dtd\">\n",
       "<!-- Generated by graphviz version 2.40.1 (20161225.0304)\n",
       " -->\n",
       "<!-- Title: dependencies Pages: 1 -->\n",
       "<svg width=\"218pt\" height=\"276pt\"\n",
       " viewBox=\"0.00 0.00 218.00 276.00\" xmlns=\"http://www.w3.org/2000/svg\" xmlns:xlink=\"http://www.w3.org/1999/xlink\">\n",
       "<g id=\"graph0\" class=\"graph\" transform=\"scale(1 1) rotate(0) translate(4 272)\">\n",
       "<title>dependencies</title>\n",
       "<polygon fill=\"#ffffff\" stroke=\"transparent\" points=\"-4,4 -4,-272 214,-272 214,4 -4,4\"/>\n",
       "<!-- test_functionmiddleat0x7fe1d5ddbd08_3 -->\n",
       "<g id=\"node1\" class=\"node\">\n",
       "<title>test_functionmiddleat0x7fe1d5ddbd08_3</title>\n",
       "<g id=\"a_node1\"><a xlink:title=\"middle:3\">\n",
       "<polygon fill=\"#ffdab9\" stroke=\"#000000\" points=\"138.5,-192 71.5,-192 71.5,-152 138.5,-152 138.5,-192\"/>\n",
       "<text text-anchor=\"start\" x=\"79.5\" y=\"-177.8\" font-family=\"Fira Mono, Courier, monospace\" font-weight=\"bold\" font-style=\"italic\" font-size=\"14.00\" fill=\"#000000\">&lt;test&gt;</text>\n",
       "<text text-anchor=\"start\" x=\"80.5\" y=\"-158.8\" font-family=\"Fira Mono, Courier, monospace\" font-size=\"9.00\" fill=\"#000000\">if x &lt; y:</text>\n",
       "</a>\n",
       "</g>\n",
       "</g>\n",
       "<!-- test_functionmiddleat0x7fe1d5ddbd08_5 -->\n",
       "<g id=\"node3\" class=\"node\">\n",
       "<title>test_functionmiddleat0x7fe1d5ddbd08_5</title>\n",
       "<g id=\"a_node3\"><a xlink:title=\"middle:5\">\n",
       "<polygon fill=\"#ffdab9\" stroke=\"#000000\" points=\"143,-116 67,-116 67,-76 143,-76 143,-116\"/>\n",
       "<text text-anchor=\"start\" x=\"79.5\" y=\"-101.8\" font-family=\"Fira Mono, Courier, monospace\" font-weight=\"bold\" font-style=\"italic\" font-size=\"14.00\" fill=\"#000000\">&lt;test&gt;</text>\n",
       "<text text-anchor=\"start\" x=\"75\" y=\"-82.8\" font-family=\"Fira Mono, Courier, monospace\" font-size=\"9.00\" fill=\"#000000\">elif x &lt; z:</text>\n",
       "</a>\n",
       "</g>\n",
       "</g>\n",
       "<!-- test_functionmiddleat0x7fe1d5ddbd08_3&#45;&gt;test_functionmiddleat0x7fe1d5ddbd08_5 -->\n",
       "<g id=\"edge2\" class=\"edge\">\n",
       "<title>test_functionmiddleat0x7fe1d5ddbd08_3&#45;&gt;test_functionmiddleat0x7fe1d5ddbd08_5</title>\n",
       "<path fill=\"none\" stroke=\"#c0c0c0\" stroke-dasharray=\"5,2\" d=\"M98.9426,-151.6334C98.2819,-143.8186 98.0939,-134.7253 98.3786,-126.183\"/>\n",
       "<polygon fill=\"#c0c0c0\" stroke=\"#c0c0c0\" points=\"101.875,-126.3453 98.9602,-116.1593 94.8867,-125.9397 101.875,-126.3453\"/>\n",
       "</g>\n",
       "<!-- test_functionmiddleat0x7fe1d5ddbd08_3&#45;&gt;test_functionmiddleat0x7fe1d5ddbd08_5 -->\n",
       "<!-- test_functionmiddleat0x7fe1d5ddbd08_2 -->\n",
       "<g id=\"node2\" class=\"node\">\n",
       "<title>test_functionmiddleat0x7fe1d5ddbd08_2</title>\n",
       "<g id=\"a_node2\"><a xlink:title=\"middle:2\">\n",
       "<polygon fill=\"#ffdab9\" stroke=\"#000000\" points=\"138.5,-268 71.5,-268 71.5,-228 138.5,-228 138.5,-268\"/>\n",
       "<text text-anchor=\"start\" x=\"79.5\" y=\"-253.8\" font-family=\"Fira Mono, Courier, monospace\" font-weight=\"bold\" font-style=\"italic\" font-size=\"14.00\" fill=\"#000000\">&lt;test&gt;</text>\n",
       "<text text-anchor=\"start\" x=\"80.5\" y=\"-234.8\" font-family=\"Fira Mono, Courier, monospace\" font-size=\"9.00\" fill=\"#000000\">if y &lt; z:</text>\n",
       "</a>\n",
       "</g>\n",
       "</g>\n",
       "<!-- test_functionmiddleat0x7fe1d5ddbd08_2&#45;&gt;test_functionmiddleat0x7fe1d5ddbd08_3 -->\n",
       "<g id=\"edge1\" class=\"edge\">\n",
       "<title>test_functionmiddleat0x7fe1d5ddbd08_2&#45;&gt;test_functionmiddleat0x7fe1d5ddbd08_3</title>\n",
       "<path fill=\"none\" stroke=\"#c0c0c0\" stroke-dasharray=\"5,2\" d=\"M98.9426,-227.6334C98.2819,-219.8186 98.0939,-210.7253 98.3786,-202.183\"/>\n",
       "<polygon fill=\"#c0c0c0\" stroke=\"#c0c0c0\" points=\"101.875,-202.3453 98.9602,-192.1593 94.8867,-201.9397 101.875,-202.3453\"/>\n",
       "</g>\n",
       "<!-- test_functionmiddleat0x7fe1d5ddbd08_2&#45;&gt;test_functionmiddleat0x7fe1d5ddbd08_3 -->\n",
       "<!-- middlereturnvalue_functionmiddleat0x7fe1d5ddbd08_6 -->\n",
       "<g id=\"node4\" class=\"node\">\n",
       "<title>middlereturnvalue_functionmiddleat0x7fe1d5ddbd08_6</title>\n",
       "<g id=\"a_node4\"><a xlink:title=\"middle:6\">\n",
       "<polygon fill=\"#ffdab9\" stroke=\"#000000\" points=\"210,-40 0,-40 0,0 210,0 210,-40\"/>\n",
       "<text text-anchor=\"start\" x=\"8\" y=\"-25.8\" font-family=\"Fira Mono, Courier, monospace\" font-weight=\"bold\" font-style=\"italic\" font-size=\"14.00\" fill=\"#000000\">&lt;middle() return value&gt;</text>\n",
       "<text text-anchor=\"start\" x=\"83\" y=\"-6.8\" font-family=\"Fira Mono, Courier, monospace\" font-size=\"9.00\" fill=\"#000000\">return y</text>\n",
       "</a>\n",
       "</g>\n",
       "</g>\n",
       "<!-- test_functionmiddleat0x7fe1d5ddbd08_5&#45;&gt;middlereturnvalue_functionmiddleat0x7fe1d5ddbd08_6 -->\n",
       "<g id=\"edge3\" class=\"edge\">\n",
       "<title>test_functionmiddleat0x7fe1d5ddbd08_5&#45;&gt;middlereturnvalue_functionmiddleat0x7fe1d5ddbd08_6</title>\n",
       "<path fill=\"none\" stroke=\"#c0c0c0\" stroke-dasharray=\"5,2\" d=\"M98.9426,-75.6334C98.2819,-67.8186 98.0939,-58.7253 98.3786,-50.183\"/>\n",
       "<polygon fill=\"#c0c0c0\" stroke=\"#c0c0c0\" points=\"101.875,-50.3453 98.9602,-40.1593 94.8867,-49.9397 101.875,-50.3453\"/>\n",
       "</g>\n",
       "<!-- test_functionmiddleat0x7fe1d5ddbd08_5&#45;&gt;middlereturnvalue_functionmiddleat0x7fe1d5ddbd08_6 -->\n",
       "</g>\n",
       "</svg>\n"
      ],
      "text/plain": [
       "<__main__.Dependencies at 0x7fe1d5e33940>"
      ]
     },
     "execution_count": 1,
     "metadata": {},
     "output_type": "execute_result"
    }
   ],
   "source": [
    "# ignore\n",
    "middle_deps().backward_slice('<middle() return value>', mode='c')  # type: ignore"
   ]
  },
  {
   "cell_type": "markdown",
   "metadata": {
    "slideshow": {
     "slide_type": "subslide"
    }
   },
   "source": [
    "### Dependency Graphs\n",
    "\n",
    "As the above `<test>` values (and their statements) are in turn also dependent on earlier data, namely the `x`, `y`, and `z` values as originally passed. We can draw all data and control dependencies in a single graph, called a _program dependency graph_:"
   ]
  },
  {
   "cell_type": "code",
   "execution_count": 34,
   "metadata": {
    "execution": {
     "iopub.execute_input": "2021-03-05T23:37:10.891649Z",
     "iopub.status.busy": "2021-03-05T23:37:10.890835Z",
     "iopub.status.idle": "2021-03-05T23:37:11.561458Z",
     "shell.execute_reply": "2021-03-05T23:37:11.561833Z"
    },
    "slideshow": {
     "slide_type": "fragment"
    }
   },
   "outputs": [
    {
     "data": {
      "image/svg+xml": [
       "<?xml version=\"1.0\" encoding=\"UTF-8\" standalone=\"no\"?>\n",
       "<!DOCTYPE svg PUBLIC \"-//W3C//DTD SVG 1.1//EN\"\n",
       " \"http://www.w3.org/Graphics/SVG/1.1/DTD/svg11.dtd\">\n",
       "<!-- Generated by graphviz version 2.40.1 (20161225.0304)\n",
       " -->\n",
       "<!-- Title: dependencies Pages: 1 -->\n",
       "<svg width=\"462pt\" height=\"352pt\"\n",
       " viewBox=\"0.00 0.00 461.95 352.00\" xmlns=\"http://www.w3.org/2000/svg\" xmlns:xlink=\"http://www.w3.org/1999/xlink\">\n",
       "<g id=\"graph0\" class=\"graph\" transform=\"scale(1 1) rotate(0) translate(4 348)\">\n",
       "<title>dependencies</title>\n",
       "<polygon fill=\"#ffffff\" stroke=\"transparent\" points=\"-4,4 -4,-348 457.9542,-348 457.9542,4 -4,4\"/>\n",
       "<!-- x_functionmiddleat0x7fe1d5ddbd08_1 -->\n",
       "<g id=\"node1\" class=\"node\">\n",
       "<title>x_functionmiddleat0x7fe1d5ddbd08_1</title>\n",
       "<g id=\"a_node1\"><a xlink:title=\"middle:1\">\n",
       "<polygon fill=\"#ffdab9\" stroke=\"#000000\" points=\"438,-268 227,-268 227,-228 438,-228 438,-268\"/>\n",
       "<text text-anchor=\"start\" x=\"328\" y=\"-253.8\" font-family=\"Fira Mono, Courier, monospace\" font-weight=\"bold\" font-size=\"14.00\" fill=\"#000000\">x</text>\n",
       "<text text-anchor=\"start\" x=\"235\" y=\"-234.8\" font-family=\"Fira Mono, Courier, monospace\" font-size=\"9.00\" fill=\"#000000\">def middle(x, y, z): &#160;# type: ignore</text>\n",
       "</a>\n",
       "</g>\n",
       "</g>\n",
       "<!-- test_functionmiddleat0x7fe1d5ddbd08_3 -->\n",
       "<g id=\"node5\" class=\"node\">\n",
       "<title>test_functionmiddleat0x7fe1d5ddbd08_3</title>\n",
       "<g id=\"a_node5\"><a xlink:title=\"middle:3\">\n",
       "<polygon fill=\"#ffdab9\" stroke=\"#000000\" points=\"232,-192 165,-192 165,-152 232,-152 232,-192\"/>\n",
       "<text text-anchor=\"start\" x=\"173\" y=\"-177.8\" font-family=\"Fira Mono, Courier, monospace\" font-weight=\"bold\" font-style=\"italic\" font-size=\"14.00\" fill=\"#000000\">&lt;test&gt;</text>\n",
       "<text text-anchor=\"start\" x=\"174\" y=\"-158.8\" font-family=\"Fira Mono, Courier, monospace\" font-size=\"9.00\" fill=\"#000000\">if x &lt; y:</text>\n",
       "</a>\n",
       "</g>\n",
       "</g>\n",
       "<!-- x_functionmiddleat0x7fe1d5ddbd08_1&#45;&gt;test_functionmiddleat0x7fe1d5ddbd08_3 -->\n",
       "<g id=\"edge3\" class=\"edge\">\n",
       "<title>x_functionmiddleat0x7fe1d5ddbd08_1&#45;&gt;test_functionmiddleat0x7fe1d5ddbd08_3</title>\n",
       "<path fill=\"none\" stroke=\"#000000\" d=\"M296.9423,-227.8329C279.9075,-218.1714 259.3657,-206.5208 241.4634,-196.3673\"/>\n",
       "<polygon fill=\"#000000\" stroke=\"#000000\" points=\"242.7998,-193.1015 232.3747,-191.2125 239.3464,-199.1904 242.7998,-193.1015\"/>\n",
       "</g>\n",
       "<!-- test_functionmiddleat0x7fe1d5ddbd08_5 -->\n",
       "<g id=\"node6\" class=\"node\">\n",
       "<title>test_functionmiddleat0x7fe1d5ddbd08_5</title>\n",
       "<g id=\"a_node6\"><a xlink:title=\"middle:5\">\n",
       "<polygon fill=\"#ffdab9\" stroke=\"#000000\" points=\"236.5,-116 160.5,-116 160.5,-76 236.5,-76 236.5,-116\"/>\n",
       "<text text-anchor=\"start\" x=\"173\" y=\"-101.8\" font-family=\"Fira Mono, Courier, monospace\" font-weight=\"bold\" font-style=\"italic\" font-size=\"14.00\" fill=\"#000000\">&lt;test&gt;</text>\n",
       "<text text-anchor=\"start\" x=\"168.5\" y=\"-82.8\" font-family=\"Fira Mono, Courier, monospace\" font-size=\"9.00\" fill=\"#000000\">elif x &lt; z:</text>\n",
       "</a>\n",
       "</g>\n",
       "</g>\n",
       "<!-- x_functionmiddleat0x7fe1d5ddbd08_1&#45;&gt;test_functionmiddleat0x7fe1d5ddbd08_5 -->\n",
       "<g id=\"edge6\" class=\"edge\">\n",
       "<title>x_functionmiddleat0x7fe1d5ddbd08_1&#45;&gt;test_functionmiddleat0x7fe1d5ddbd08_5</title>\n",
       "<path fill=\"none\" stroke=\"#000000\" d=\"M314.7058,-227.8156C291.1789,-201.1283 249.6112,-153.9769 223.0928,-123.8963\"/>\n",
       "<polygon fill=\"#000000\" stroke=\"#000000\" points=\"225.6062,-121.4546 216.3678,-116.2679 220.3553,-126.0837 225.6062,-121.4546\"/>\n",
       "</g>\n",
       "<!-- test_functionmiddleat0x7fe1d5ddbd08_2 -->\n",
       "<g id=\"node2\" class=\"node\">\n",
       "<title>test_functionmiddleat0x7fe1d5ddbd08_2</title>\n",
       "<g id=\"a_node2\"><a xlink:title=\"middle:2\">\n",
       "<polygon fill=\"#ffdab9\" stroke=\"#000000\" points=\"170,-268 103,-268 103,-228 170,-228 170,-268\"/>\n",
       "<text text-anchor=\"start\" x=\"111\" y=\"-253.8\" font-family=\"Fira Mono, Courier, monospace\" font-weight=\"bold\" font-style=\"italic\" font-size=\"14.00\" fill=\"#000000\">&lt;test&gt;</text>\n",
       "<text text-anchor=\"start\" x=\"112\" y=\"-234.8\" font-family=\"Fira Mono, Courier, monospace\" font-size=\"9.00\" fill=\"#000000\">if y &lt; z:</text>\n",
       "</a>\n",
       "</g>\n",
       "</g>\n",
       "<!-- test_functionmiddleat0x7fe1d5ddbd08_2&#45;&gt;test_functionmiddleat0x7fe1d5ddbd08_3 -->\n",
       "<g id=\"edge5\" class=\"edge\">\n",
       "<title>test_functionmiddleat0x7fe1d5ddbd08_2&#45;&gt;test_functionmiddleat0x7fe1d5ddbd08_3</title>\n",
       "<path fill=\"none\" stroke=\"#c0c0c0\" stroke-dasharray=\"5,2\" d=\"M147.0574,-227.6334C153.3372,-219.0457 161.4472,-208.9142 169.407,-199.6663\"/>\n",
       "<polygon fill=\"#c0c0c0\" stroke=\"#c0c0c0\" points=\"172.0347,-201.9783 176.0145,-192.1593 166.7802,-197.3534 172.0347,-201.9783\"/>\n",
       "</g>\n",
       "<!-- test_functionmiddleat0x7fe1d5ddbd08_2&#45;&gt;test_functionmiddleat0x7fe1d5ddbd08_3 -->\n",
       "<!-- z_functionmiddleat0x7fe1d5ddbd08_1 -->\n",
       "<g id=\"node3\" class=\"node\">\n",
       "<title>z_functionmiddleat0x7fe1d5ddbd08_1</title>\n",
       "<g id=\"a_node3\"><a xlink:title=\"middle:1\">\n",
       "<polygon fill=\"#ffdab9\" stroke=\"#000000\" points=\"211,-344 0,-344 0,-304 211,-304 211,-344\"/>\n",
       "<text text-anchor=\"start\" x=\"101\" y=\"-329.8\" font-family=\"Fira Mono, Courier, monospace\" font-weight=\"bold\" font-size=\"14.00\" fill=\"#000000\">z</text>\n",
       "<text text-anchor=\"start\" x=\"8\" y=\"-310.8\" font-family=\"Fira Mono, Courier, monospace\" font-size=\"9.00\" fill=\"#000000\">def middle(x, y, z): &#160;# type: ignore</text>\n",
       "</a>\n",
       "</g>\n",
       "</g>\n",
       "<!-- z_functionmiddleat0x7fe1d5ddbd08_1&#45;&gt;test_functionmiddleat0x7fe1d5ddbd08_2 -->\n",
       "<g id=\"edge1\" class=\"edge\">\n",
       "<title>z_functionmiddleat0x7fe1d5ddbd08_1&#45;&gt;test_functionmiddleat0x7fe1d5ddbd08_2</title>\n",
       "<path fill=\"none\" stroke=\"#000000\" d=\"M107.75,-303.6334C110.3603,-295.561 114.0313,-286.1244 117.9407,-277.34\"/>\n",
       "<polygon fill=\"#000000\" stroke=\"#000000\" points=\"121.1684,-278.7001 122.2373,-268.1593 114.8284,-275.7328 121.1684,-278.7001\"/>\n",
       "</g>\n",
       "<!-- z_functionmiddleat0x7fe1d5ddbd08_1&#45;&gt;test_functionmiddleat0x7fe1d5ddbd08_2 -->\n",
       "<!-- z_functionmiddleat0x7fe1d5ddbd08_1&#45;&gt;test_functionmiddleat0x7fe1d5ddbd08_5 -->\n",
       "<g id=\"edge7\" class=\"edge\">\n",
       "<title>z_functionmiddleat0x7fe1d5ddbd08_1&#45;&gt;test_functionmiddleat0x7fe1d5ddbd08_5</title>\n",
       "<path fill=\"none\" stroke=\"#000000\" d=\"M97.8447,-303.9561C91.4566,-284.1394 84.6951,-253.213 93.5,-228 108.1113,-186.1604 142.1443,-147.6566 167.5286,-123.1675\"/>\n",
       "<polygon fill=\"#000000\" stroke=\"#000000\" points=\"170.2239,-125.4365 175.0977,-116.0291 165.4212,-120.3439 170.2239,-125.4365\"/>\n",
       "</g>\n",
       "<!-- y_functionmiddleat0x7fe1d5ddbd08_1 -->\n",
       "<g id=\"node4\" class=\"node\">\n",
       "<title>y_functionmiddleat0x7fe1d5ddbd08_1</title>\n",
       "<g id=\"a_node4\"><a xlink:title=\"middle:1\">\n",
       "<polygon fill=\"#ffdab9\" stroke=\"#000000\" points=\"440,-344 229,-344 229,-304 440,-304 440,-344\"/>\n",
       "<text text-anchor=\"start\" x=\"330\" y=\"-329.8\" font-family=\"Fira Mono, Courier, monospace\" font-weight=\"bold\" font-size=\"14.00\" fill=\"#000000\">y</text>\n",
       "<text text-anchor=\"start\" x=\"237\" y=\"-310.8\" font-family=\"Fira Mono, Courier, monospace\" font-size=\"9.00\" fill=\"#000000\">def middle(x, y, z): &#160;# type: ignore</text>\n",
       "</a>\n",
       "</g>\n",
       "</g>\n",
       "<!-- y_functionmiddleat0x7fe1d5ddbd08_1&#45;&gt;test_functionmiddleat0x7fe1d5ddbd08_2 -->\n",
       "<g id=\"edge2\" class=\"edge\">\n",
       "<title>y_functionmiddleat0x7fe1d5ddbd08_1&#45;&gt;test_functionmiddleat0x7fe1d5ddbd08_2</title>\n",
       "<path fill=\"none\" stroke=\"#000000\" d=\"M279.1006,-303.8807C250.7149,-293.4295 215.6552,-280.3013 184.5,-268 182.8836,-267.3618 181.2389,-266.7064 179.5792,-266.0402\"/>\n",
       "<polygon fill=\"#000000\" stroke=\"#000000\" points=\"180.586,-262.6714 170.0041,-262.148 177.95,-269.1561 180.586,-262.6714\"/>\n",
       "</g>\n",
       "<!-- y_functionmiddleat0x7fe1d5ddbd08_1&#45;&gt;test_functionmiddleat0x7fe1d5ddbd08_3 -->\n",
       "<g id=\"edge4\" class=\"edge\">\n",
       "<title>y_functionmiddleat0x7fe1d5ddbd08_1&#45;&gt;test_functionmiddleat0x7fe1d5ddbd08_3</title>\n",
       "<path fill=\"none\" stroke=\"#000000\" d=\"M266.0818,-303.9554C247.8723,-295.5577 229.8555,-283.9235 217.5,-268 203.043,-249.3681 198.6776,-222.7181 197.7105,-202.2225\"/>\n",
       "<polygon fill=\"#000000\" stroke=\"#000000\" points=\"201.2077,-202.0576 197.4791,-192.1406 194.2096,-202.2183 201.2077,-202.0576\"/>\n",
       "</g>\n",
       "<!-- middlereturnvalue_functionmiddleat0x7fe1d5ddbd08_6 -->\n",
       "<g id=\"node7\" class=\"node\">\n",
       "<title>middlereturnvalue_functionmiddleat0x7fe1d5ddbd08_6</title>\n",
       "<g id=\"a_node7\"><a xlink:title=\"middle:6\">\n",
       "<polygon fill=\"#ffdab9\" stroke=\"#000000\" points=\"303.5,-40 93.5,-40 93.5,0 303.5,0 303.5,-40\"/>\n",
       "<text text-anchor=\"start\" x=\"101.5\" y=\"-25.8\" font-family=\"Fira Mono, Courier, monospace\" font-weight=\"bold\" font-style=\"italic\" font-size=\"14.00\" fill=\"#000000\">&lt;middle() return value&gt;</text>\n",
       "<text text-anchor=\"start\" x=\"176.5\" y=\"-6.8\" font-family=\"Fira Mono, Courier, monospace\" font-size=\"9.00\" fill=\"#000000\">return y</text>\n",
       "</a>\n",
       "</g>\n",
       "</g>\n",
       "<!-- y_functionmiddleat0x7fe1d5ddbd08_1&#45;&gt;middlereturnvalue_functionmiddleat0x7fe1d5ddbd08_6 -->\n",
       "<g id=\"edge9\" class=\"edge\">\n",
       "<title>y_functionmiddleat0x7fe1d5ddbd08_1&#45;&gt;middlereturnvalue_functionmiddleat0x7fe1d5ddbd08_6</title>\n",
       "<path fill=\"none\" stroke=\"#000000\" d=\"M404.6768,-303.8802C421.5622,-295.5697 437.5723,-283.9999 447.5,-268 456.8731,-252.8939 455.031,-244.1038 447.5,-228 406.7602,-140.8847 309.6062,-77.451 249.4084,-44.8598\"/>\n",
       "<polygon fill=\"#000000\" stroke=\"#000000\" points=\"250.9142,-41.6964 240.4425,-40.0854 247.624,-47.875 250.9142,-41.6964\"/>\n",
       "</g>\n",
       "<!-- test_functionmiddleat0x7fe1d5ddbd08_3&#45;&gt;test_functionmiddleat0x7fe1d5ddbd08_5 -->\n",
       "<g id=\"edge8\" class=\"edge\">\n",
       "<title>test_functionmiddleat0x7fe1d5ddbd08_3&#45;&gt;test_functionmiddleat0x7fe1d5ddbd08_5</title>\n",
       "<path fill=\"none\" stroke=\"#c0c0c0\" stroke-dasharray=\"5,2\" d=\"M192.4426,-151.6334C191.7819,-143.8186 191.5939,-134.7253 191.8786,-126.183\"/>\n",
       "<polygon fill=\"#c0c0c0\" stroke=\"#c0c0c0\" points=\"195.375,-126.3453 192.4602,-116.1593 188.3867,-125.9397 195.375,-126.3453\"/>\n",
       "</g>\n",
       "<!-- test_functionmiddleat0x7fe1d5ddbd08_3&#45;&gt;test_functionmiddleat0x7fe1d5ddbd08_5 -->\n",
       "<!-- test_functionmiddleat0x7fe1d5ddbd08_5&#45;&gt;middlereturnvalue_functionmiddleat0x7fe1d5ddbd08_6 -->\n",
       "<g id=\"edge10\" class=\"edge\">\n",
       "<title>test_functionmiddleat0x7fe1d5ddbd08_5&#45;&gt;middlereturnvalue_functionmiddleat0x7fe1d5ddbd08_6</title>\n",
       "<path fill=\"none\" stroke=\"#c0c0c0\" stroke-dasharray=\"5,2\" d=\"M192.4426,-75.6334C191.7819,-67.8186 191.5939,-58.7253 191.8786,-50.183\"/>\n",
       "<polygon fill=\"#c0c0c0\" stroke=\"#c0c0c0\" points=\"195.375,-50.3453 192.4602,-40.1593 188.3867,-49.9397 195.375,-50.3453\"/>\n",
       "</g>\n",
       "<!-- test_functionmiddleat0x7fe1d5ddbd08_5&#45;&gt;middlereturnvalue_functionmiddleat0x7fe1d5ddbd08_6 -->\n",
       "</g>\n",
       "</svg>\n"
      ],
      "text/plain": [
       "<__main__.Dependencies at 0x7fe1d5e33860>"
      ]
     },
     "execution_count": 1,
     "metadata": {},
     "output_type": "execute_result"
    }
   ],
   "source": [
    "# ignore\n",
    "middle_deps()"
   ]
  },
  {
   "cell_type": "markdown",
   "metadata": {
    "slideshow": {
     "slide_type": "fragment"
    }
   },
   "source": [
    "This graph now gives us an idea on how to proceed to track the origins of the `middle()` return value at the bottom. Its value can come from any of the origins – namely the initialization of `y` at the function call, or from the `<test>` that controls it. This test in turn depends on `x` and `z` and their associated statements, which we now can check one after the other."
   ]
  },
  {
   "cell_type": "markdown",
   "metadata": {
    "slideshow": {
     "slide_type": "subslide"
    }
   },
   "source": [
    "Note that all these dependencies in the graph are _dynamic_ dependencies – that is, they refer to statements actually evaluated in the run at hand, as well as the decisions made in that very run. There also are _static_ dependency graphs coming from static analysis of the code; but for debugging, _dynamic_ dependencies specific to the failing run are more useful."
   ]
  },
  {
   "cell_type": "markdown",
   "metadata": {
    "slideshow": {
     "slide_type": "subslide"
    }
   },
   "source": [
    "### Showing Dependencies with Code\n",
    "\n",
    "While a graph gives us a representation about which possible data and control flows to track, integrating dependencies with actual program code results in a compact representation that is easy to reason about."
   ]
  },
  {
   "cell_type": "markdown",
   "metadata": {
    "slideshow": {
     "slide_type": "subslide"
    }
   },
   "source": [
    "#### Excursion: Listing Dependencies"
   ]
  },
  {
   "cell_type": "markdown",
   "metadata": {
    "slideshow": {
     "slide_type": "subslide"
    }
   },
   "source": [
    "To show dependencies as text, we introduce a method `format_var()` that shows a single node (a variable) as text. By default, a node is referenced as\n",
    "\n",
    "```python\n",
    "NAME (FUNCTION:LINENO)\n",
    "```\n",
    "\n",
    "However, within a given function, it makes no sense to re-state the function name again and again, so we have a shorthand\n",
    "\n",
    "```python\n",
    "NAME (LINENO)\n",
    "```\n",
    "\n",
    "to state a dependency to variable `NAME` in line `LINENO`."
   ]
  },
  {
   "cell_type": "code",
   "execution_count": 35,
   "metadata": {
    "execution": {
     "iopub.execute_input": "2021-03-05T23:37:11.566949Z",
     "iopub.status.busy": "2021-03-05T23:37:11.566373Z",
     "iopub.status.idle": "2021-03-05T23:37:11.567893Z",
     "shell.execute_reply": "2021-03-05T23:37:11.568263Z"
    },
    "slideshow": {
     "slide_type": "subslide"
    }
   },
   "outputs": [],
   "source": [
    "class Dependencies(Dependencies):\n",
    "    def format_var(self, var: Node, current_func: Optional[Callable] = None) -> str:\n",
    "        \"\"\"Return string for `var` in `current_func`.\"\"\"\n",
    "        name, location = var\n",
    "        func, lineno = location\n",
    "        if current_func and (func == current_func or func.__name__ == current_func.__name__):\n",
    "            return f\"{name} ({lineno})\"\n",
    "        else:\n",
    "            return f\"{name} ({func.__name__}:{lineno})\""
   ]
  },
  {
   "cell_type": "markdown",
   "metadata": {
    "slideshow": {
     "slide_type": "fragment"
    }
   },
   "source": [
    "`format_var()` is used extensively in the `__str__()` string representation of dependencies, listing all nodes and their data (`<=`) and control (`<-`) dependencies."
   ]
  },
  {
   "cell_type": "code",
   "execution_count": 36,
   "metadata": {
    "execution": {
     "iopub.execute_input": "2021-03-05T23:37:11.576090Z",
     "iopub.status.busy": "2021-03-05T23:37:11.575488Z",
     "iopub.status.idle": "2021-03-05T23:37:11.577119Z",
     "shell.execute_reply": "2021-03-05T23:37:11.577549Z"
    },
    "slideshow": {
     "slide_type": "subslide"
    }
   },
   "outputs": [],
   "source": [
    "class Dependencies(Dependencies):\n",
    "    def __str__(self) -> str:\n",
    "        \"\"\"Return string representation of dependencies\"\"\"\n",
    "        self.validate()\n",
    "\n",
    "        out = \"\"\n",
    "        for func in self.all_functions():\n",
    "            code_name = func.__name__\n",
    "\n",
    "            if out != \"\":\n",
    "                out += \"\\n\"\n",
    "            out += f\"{code_name}():\\n\"\n",
    "\n",
    "            all_vars = list(set(self.data.keys()) | set(self.control.keys()))\n",
    "            all_vars.sort(key=lambda var: var[1][1])\n",
    "\n",
    "            for var in all_vars:\n",
    "                (name, location) = var\n",
    "                var_func, var_lineno = location\n",
    "                var_code_name = var_func.__name__\n",
    "\n",
    "                if var_code_name != code_name:\n",
    "                    continue\n",
    "\n",
    "                all_deps = \"\"\n",
    "                for (source, arrow) in [(self.data, \"<=\"), (self.control, \"<-\")]:\n",
    "                    deps = \"\"\n",
    "                    for data_dep in source[var]:\n",
    "                        if deps == \"\":\n",
    "                            deps = f\" {arrow} \"\n",
    "                        else:\n",
    "                            deps += \", \"\n",
    "                        deps += self.format_var(data_dep, func)\n",
    "\n",
    "                    if deps != \"\":\n",
    "                        if all_deps != \"\":\n",
    "                            all_deps += \";\"\n",
    "                        all_deps += deps\n",
    "\n",
    "                if all_deps == \"\":\n",
    "                    continue\n",
    "\n",
    "                out += (\"    \" + \n",
    "                        self.format_var(var, func) +\n",
    "                        all_deps + \"\\n\")\n",
    "\n",
    "        return out"
   ]
  },
  {
   "cell_type": "markdown",
   "metadata": {
    "slideshow": {
     "slide_type": "subslide"
    }
   },
   "source": [
    "Here is a compact string representation of dependencies. We see how the (last) `middle() return value` has a data dependency to `y` in Line 1, and to the `<test>` in Line 5."
   ]
  },
  {
   "cell_type": "code",
   "execution_count": 37,
   "metadata": {
    "execution": {
     "iopub.execute_input": "2021-03-05T23:37:11.580877Z",
     "iopub.status.busy": "2021-03-05T23:37:11.580341Z",
     "iopub.status.idle": "2021-03-05T23:37:11.582334Z",
     "shell.execute_reply": "2021-03-05T23:37:11.582706Z"
    },
    "slideshow": {
     "slide_type": "fragment"
    }
   },
   "outputs": [
    {
     "name": "stdout",
     "output_type": "stream",
     "text": [
      "middle():\n",
      "    <test> (2) <= z (1), y (1)\n",
      "    <test> (3) <= x (1), y (1); <- <test> (2)\n",
      "    <test> (5) <= x (1), z (1); <- <test> (3)\n",
      "    <middle() return value> (6) <= y (1); <- <test> (5)\n",
      "\n"
     ]
    }
   ],
   "source": [
    "print(middle_deps())"
   ]
  },
  {
   "cell_type": "markdown",
   "metadata": {
    "slideshow": {
     "slide_type": "fragment"
    }
   },
   "source": [
    "The `__repr__()` method shows a raw form of dependencies, useful for creating dependencies from scratch."
   ]
  },
  {
   "cell_type": "code",
   "execution_count": 38,
   "metadata": {
    "execution": {
     "iopub.execute_input": "2021-03-05T23:37:11.588300Z",
     "iopub.status.busy": "2021-03-05T23:37:11.587752Z",
     "iopub.status.idle": "2021-03-05T23:37:11.589288Z",
     "shell.execute_reply": "2021-03-05T23:37:11.589692Z"
    },
    "slideshow": {
     "slide_type": "subslide"
    }
   },
   "outputs": [],
   "source": [
    "class Dependencies(Dependencies):\n",
    "    def repr_var(self, var: Node) -> str:\n",
    "        name, location = var\n",
    "        func, lineno = location\n",
    "        return f\"({repr(name)}, ({func.__name__}, {lineno}))\"\n",
    "\n",
    "    def repr_deps(self, var_set: Set[Node]) -> str:\n",
    "        if len(var_set) == 0:\n",
    "            return \"set()\"\n",
    "\n",
    "        return (\"{\" +\n",
    "                \", \".join(f\"{self.repr_var(var)}\"\n",
    "                          for var in var_set) +\n",
    "                \"}\")\n",
    "\n",
    "    def repr_dependencies(self, vars: Dependency) -> str:\n",
    "        return (\"{\\n        \" +\n",
    "                \",\\n        \".join(\n",
    "                    f\"{self.repr_var(var)}: {self.repr_deps(vars[var])}\"\n",
    "                    for var in vars) +\n",
    "                \"}\")\n",
    "\n",
    "    def __repr__(self) -> str:\n",
    "        \"\"\"Represent dependencies as a Python expression\"\"\"\n",
    "        # Useful for saving and restoring values\n",
    "        return (f\"Dependencies(\\n\" +\n",
    "                f\"    data={self.repr_dependencies(self.data)},\\n\" +\n",
    "                f\" control={self.repr_dependencies(self.control)})\")"
   ]
  },
  {
   "cell_type": "code",
   "execution_count": 39,
   "metadata": {
    "execution": {
     "iopub.execute_input": "2021-03-05T23:37:11.592655Z",
     "iopub.status.busy": "2021-03-05T23:37:11.592136Z",
     "iopub.status.idle": "2021-03-05T23:37:11.594252Z",
     "shell.execute_reply": "2021-03-05T23:37:11.594637Z"
    },
    "slideshow": {
     "slide_type": "subslide"
    }
   },
   "outputs": [
    {
     "name": "stdout",
     "output_type": "stream",
     "text": [
      "Dependencies(\n",
      "    data={\n",
      "        ('z', (middle, 1)): set(),\n",
      "        ('y', (middle, 1)): set(),\n",
      "        ('x', (middle, 1)): set(),\n",
      "        ('<test>', (middle, 2)): {('z', (middle, 1)), ('y', (middle, 1))},\n",
      "        ('<test>', (middle, 3)): {('x', (middle, 1)), ('y', (middle, 1))},\n",
      "        ('<test>', (middle, 5)): {('x', (middle, 1)), ('z', (middle, 1))},\n",
      "        ('<middle() return value>', (middle, 6)): {('y', (middle, 1))}},\n",
      " control={\n",
      "        ('z', (middle, 1)): set(),\n",
      "        ('y', (middle, 1)): set(),\n",
      "        ('x', (middle, 1)): set(),\n",
      "        ('<test>', (middle, 2)): set(),\n",
      "        ('<test>', (middle, 3)): {('<test>', (middle, 2))},\n",
      "        ('<test>', (middle, 5)): {('<test>', (middle, 3))},\n",
      "        ('<middle() return value>', (middle, 6)): {('<test>', (middle, 5))}})\n"
     ]
    }
   ],
   "source": [
    "print(repr(middle_deps()))"
   ]
  },
  {
   "cell_type": "markdown",
   "metadata": {
    "slideshow": {
     "slide_type": "subslide"
    }
   },
   "source": [
    "An even more useful representation comes when integrating these dependencies as comments into the code. The method `code(item_1, item_2, ...)` lists the given (function) items, including their dependencies; `code()` lists _all_ functions contained in the dependencies."
   ]
  },
  {
   "cell_type": "code",
   "execution_count": 40,
   "metadata": {
    "execution": {
     "iopub.execute_input": "2021-03-05T23:37:11.597528Z",
     "iopub.status.busy": "2021-03-05T23:37:11.597015Z",
     "iopub.status.idle": "2021-03-05T23:37:11.598564Z",
     "shell.execute_reply": "2021-03-05T23:37:11.598931Z"
    },
    "slideshow": {
     "slide_type": "skip"
    }
   },
   "outputs": [],
   "source": [
    "from typing import cast"
   ]
  },
  {
   "cell_type": "code",
   "execution_count": 41,
   "metadata": {
    "execution": {
     "iopub.execute_input": "2021-03-05T23:37:11.608825Z",
     "iopub.status.busy": "2021-03-05T23:37:11.608271Z",
     "iopub.status.idle": "2021-03-05T23:37:11.611032Z",
     "shell.execute_reply": "2021-03-05T23:37:11.610676Z"
    },
    "slideshow": {
     "slide_type": "subslide"
    }
   },
   "outputs": [],
   "source": [
    "class Dependencies(Dependencies):\n",
    "    def code(self, *items: Callable, mode: str = 'cd') -> None:\n",
    "        \"\"\"\n",
    "        List `items` on standard output, including dependencies as comments. \n",
    "        If `items` is empty, all included functions are listed.\n",
    "        `mode` can contain 'c' (draw control dependencies) and 'd' (draw data dependencies)\n",
    "        (default: 'cd').\n",
    "        \"\"\"\n",
    "\n",
    "        if len(items) == 0:\n",
    "            items = cast(Tuple[Callable], self.all_functions().keys())\n",
    "\n",
    "        for i, item in enumerate(items):\n",
    "            if i > 0:\n",
    "                print()\n",
    "            self._code(item, mode)\n",
    "\n",
    "    def _code(self, item: Callable, mode: str) -> None:\n",
    "        # The functions in dependencies may be (instrumented) copies\n",
    "        # of the original function. Find the function with the same name.\n",
    "        func = item\n",
    "        for fn in self.all_functions():\n",
    "            if fn == item or fn.__name__ == item.__name__:\n",
    "                func = fn\n",
    "                break\n",
    "\n",
    "        all_vars = self.all_vars()\n",
    "        slice_locations = set(location for (name, location) in all_vars)\n",
    "\n",
    "        source_lines, first_lineno = inspect.getsourcelines(func)\n",
    "\n",
    "        n = first_lineno\n",
    "        for line in source_lines:\n",
    "            line_location = (func, n)\n",
    "            if line_location in slice_locations:\n",
    "                prefix = \"* \"\n",
    "            else:\n",
    "                prefix = \"  \"\n",
    "\n",
    "            print(f\"{prefix}{n:4} \", end=\"\")\n",
    "\n",
    "            comment = \"\"\n",
    "            for (mode_control, source, arrow) in [\n",
    "                ('d', self.data, '<='),\n",
    "                ('c', self.control, '<-')\n",
    "            ]:\n",
    "                if mode_control not in mode:\n",
    "                    continue\n",
    "\n",
    "                deps = \"\"\n",
    "                for var in source:\n",
    "                    name, location = var\n",
    "                    if location == line_location:\n",
    "                        for dep_var in source[var]:\n",
    "                            if deps == \"\":\n",
    "                                deps = arrow + \" \"\n",
    "                            else:\n",
    "                                deps += \", \"\n",
    "                            deps += self.format_var(dep_var, item)\n",
    "\n",
    "                if deps != \"\":\n",
    "                    if comment != \"\":\n",
    "                        comment += \"; \"\n",
    "                    comment += deps\n",
    "\n",
    "            if comment != \"\":\n",
    "                line = line.rstrip() + \"  # \" + comment\n",
    "\n",
    "            print_content(line.rstrip(), '.py')\n",
    "            print()\n",
    "            n += 1"
   ]
  },
  {
   "cell_type": "markdown",
   "metadata": {
    "slideshow": {
     "slide_type": "subslide"
    }
   },
   "source": [
    "#### End of Excursion"
   ]
  },
  {
   "cell_type": "markdown",
   "metadata": {
    "slideshow": {
     "slide_type": "subslide"
    }
   },
   "source": [
    "The following listing shows such an integration. For each executed line (`*`), we see its data (`<=`) and control (`<-`) dependencies, listing the associated variables and line numbers. The comment\n",
    "\n",
    "```python\n",
    "# <= y (1); <- <test> (5)\n",
    "```\n",
    "\n",
    "for Line 6, for instance, states that the return value is data dependent on the value of `y` in Line 1, and control dependent on the test in Line 5.\n",
    "\n",
    "Again, one can easily follow these dependencies back to track where a value came from (data dependencies) and why a statement was executed (control dependency)."
   ]
  },
  {
   "cell_type": "code",
   "execution_count": 42,
   "metadata": {
    "execution": {
     "iopub.execute_input": "2021-03-05T23:37:11.614649Z",
     "iopub.status.busy": "2021-03-05T23:37:11.614082Z",
     "iopub.status.idle": "2021-03-05T23:37:12.037492Z",
     "shell.execute_reply": "2021-03-05T23:37:12.037875Z"
    },
    "slideshow": {
     "slide_type": "subslide"
    }
   },
   "outputs": [
    {
     "name": "stdout",
     "output_type": "stream",
     "text": [
      "*    1 \u001b[34mdef\u001b[39;49;00m \u001b[32mmiddle\u001b[39;49;00m(x, y, z):  \u001b[37m# type: ignore\u001b[39;49;00m\n",
      "*    2     \u001b[34mif\u001b[39;49;00m y < z:  \u001b[37m# <= z (1), y (1)\u001b[39;49;00m\n",
      "*    3         \u001b[34mif\u001b[39;49;00m x < y:  \u001b[37m# <= x (1), y (1); <- <test> (2)\u001b[39;49;00m\n",
      "     4             \u001b[34mreturn\u001b[39;49;00m y\n",
      "*    5         \u001b[34melif\u001b[39;49;00m x < z:  \u001b[37m# <= x (1), z (1); <- <test> (3)\u001b[39;49;00m\n",
      "*    6             \u001b[34mreturn\u001b[39;49;00m y  \u001b[37m# <= y (1); <- <test> (5)\u001b[39;49;00m\n",
      "     7     \u001b[34melse\u001b[39;49;00m:\n",
      "     8         \u001b[34mif\u001b[39;49;00m x > y:\n",
      "     9             \u001b[34mreturn\u001b[39;49;00m y\n",
      "    10         \u001b[34melif\u001b[39;49;00m x > z:\n",
      "    11             \u001b[34mreturn\u001b[39;49;00m x\n",
      "    12     \u001b[34mreturn\u001b[39;49;00m z\n"
     ]
    }
   ],
   "source": [
    "# ignore\n",
    "middle_deps().code()  # type: ignore"
   ]
  },
  {
   "cell_type": "markdown",
   "metadata": {
    "slideshow": {
     "slide_type": "subslide"
    }
   },
   "source": [
    "One important aspect of dependencies is that they not only point to specific sources and causes of failures – but that they also _rule out_ parts of program and state as failures.\n",
    "\n",
    "* In the above code, Lines 8 and later have no influence on the output, simply because they were not executed.\n",
    "* Furthermore, we see that we can start our investigation with Line 6, because that is the last one executed.\n",
    "* The data dependencies tell us that no statement has interfered with the value of `y` between the function call and its return.\n",
    "* Hence, the error must be in the conditions and the final `return` statement.\n",
    "\n",
    "With this in mind, recall that our original invocation was `middle(2, 1, 3)`. Why and how is the above code wrong?"
   ]
  },
  {
   "cell_type": "code",
   "execution_count": 43,
   "metadata": {
    "execution": {
     "iopub.execute_input": "2021-03-05T23:37:12.045411Z",
     "iopub.status.busy": "2021-03-05T23:37:12.044801Z",
     "iopub.status.idle": "2021-03-05T23:37:12.060951Z",
     "shell.execute_reply": "2021-03-05T23:37:12.061435Z"
    },
    "slideshow": {
     "slide_type": "subslide"
    }
   },
   "outputs": [
    {
     "data": {
      "text/html": [
       "\n",
       "    \n",
       "    <script>\n",
       "    var bad_answers = new Map();\n",
       "\n",
       "    function answer(quiz_id) {\n",
       "        ans = 0;\n",
       "        for (i = 1;; i++) {\n",
       "            checkbox = document.getElementById(quiz_id + \"-\" + i.toString());\n",
       "            if (!checkbox)\n",
       "                break;\n",
       "            if (checkbox.checked)\n",
       "                ans |= (1 << i);\n",
       "        }\n",
       "        return ans;\n",
       "    }\n",
       "    function check_selection(quiz_id, correct_answer, multiple_choice, hint) {\n",
       "        given_answer = answer(quiz_id);\n",
       "        if (given_answer == correct_answer)\n",
       "        {\n",
       "            document.getElementById(quiz_id + \"-submit\").value = \"Correct!\";\n",
       "            document.getElementById(quiz_id + \"-hint\").innerHTML = \"\";\n",
       "\n",
       "            for (i = 1;; i++) {\n",
       "                checkbox = document.getElementById(quiz_id + \"-\" + i.toString());\n",
       "                label = document.getElementById(quiz_id + \"-\" + i.toString() + \"-label\")\n",
       "                if (!checkbox)\n",
       "                    break;\n",
       "    \n",
       "                if (checkbox.checked) {\n",
       "                    label.style.fontWeight = \"bold\";\n",
       "                }\n",
       "                else {\n",
       "                    label.style.textDecoration = \"line-through\";\n",
       "                }\n",
       "            }\n",
       "        }\n",
       "        else \n",
       "        {\n",
       "            document.getElementById(quiz_id + \"-submit\").value = \"Try again\";\n",
       "            \n",
       "            if (!bad_answers.has(quiz_id)) {\n",
       "                bad_answers.set(quiz_id, 1);\n",
       "            }\n",
       "            else {\n",
       "                bad_answers.set(quiz_id, bad_answers.get(quiz_id) + 1);\n",
       "            }\n",
       "\n",
       "            if (bad_answers.get(quiz_id) >= 2 && hint.length > 0) {\n",
       "                document.getElementById(quiz_id + \"-hint\").innerHTML = \n",
       "                    \"&nbsp;&nbsp;(Hint: <code>\" + hint + \"</code>)\";\n",
       "            }\n",
       "\n",
       "            if (!multiple_choice) {\n",
       "                for (i = 1;; i++) {\n",
       "                    checkbox = document.getElementById(quiz_id + \"-\" + i.toString());\n",
       "                    label = document.getElementById(quiz_id + \"-\" + i.toString() + \"-label\")\n",
       "\n",
       "                    if (!checkbox)\n",
       "                        break;\n",
       "                    if (checkbox.checked) {\n",
       "                        label.style.textDecoration = \"line-through\";\n",
       "                    }\n",
       "                }\n",
       "            }\n",
       "        }\n",
       "    }\n",
       "    function clear_selection(quiz_id) {\n",
       "        document.getElementById(quiz_id + \"-submit\").value = \"Submit\";\n",
       "        document.getElementById(quiz_id + \"-hint\").innerHTML = \"\";\n",
       "    }\n",
       "    </script>\n",
       "    \n",
       "    <div class=\"quiz\">\n",
       "    <h3 class=\"quiz_title\">Quiz</h3>\n",
       "    <p>\n",
       "    <div class=\"quiz_question\">Which of the following <code>middle()</code> code lines should be fixed?</div>\n",
       "    </p>\n",
       "    <p>\n",
       "    <div class=\"quiz_options\" title=\"Pick a choice.\">\n",
       "    \n",
       "        <input type=\"radio\" name=\"b58ab908-7e0b-11eb-a588-f218984d6a0c\" id=\"b58ab908-7e0b-11eb-a588-f218984d6a0c-1\" onclick=\"clear_selection('b58ab908-7e0b-11eb-a588-f218984d6a0c')\">\n",
       "        <label id=\"b58ab908-7e0b-11eb-a588-f218984d6a0c-1-label\" for=\"b58ab908-7e0b-11eb-a588-f218984d6a0c-1\">Line 2: <code>if y &lt; z:</code></label><br>\n",
       "    \n",
       "        <input type=\"radio\" name=\"b58ab908-7e0b-11eb-a588-f218984d6a0c\" id=\"b58ab908-7e0b-11eb-a588-f218984d6a0c-2\" onclick=\"clear_selection('b58ab908-7e0b-11eb-a588-f218984d6a0c')\">\n",
       "        <label id=\"b58ab908-7e0b-11eb-a588-f218984d6a0c-2-label\" for=\"b58ab908-7e0b-11eb-a588-f218984d6a0c-2\">Line 3: <code>if x &lt; y:</code></label><br>\n",
       "    \n",
       "        <input type=\"radio\" name=\"b58ab908-7e0b-11eb-a588-f218984d6a0c\" id=\"b58ab908-7e0b-11eb-a588-f218984d6a0c-3\" onclick=\"clear_selection('b58ab908-7e0b-11eb-a588-f218984d6a0c')\">\n",
       "        <label id=\"b58ab908-7e0b-11eb-a588-f218984d6a0c-3-label\" for=\"b58ab908-7e0b-11eb-a588-f218984d6a0c-3\">Line 5: <code>elif x &lt; z:</code></label><br>\n",
       "    \n",
       "        <input type=\"radio\" name=\"b58ab908-7e0b-11eb-a588-f218984d6a0c\" id=\"b58ab908-7e0b-11eb-a588-f218984d6a0c-4\" onclick=\"clear_selection('b58ab908-7e0b-11eb-a588-f218984d6a0c')\">\n",
       "        <label id=\"b58ab908-7e0b-11eb-a588-f218984d6a0c-4-label\" for=\"b58ab908-7e0b-11eb-a588-f218984d6a0c-4\">Line 6: <code>return z</code></label><br>\n",
       "    \n",
       "    </div>\n",
       "    </p>\n",
       "    <input id=\"b58ab908-7e0b-11eb-a588-f218984d6a0c-submit\" type=\"submit\" value=\"Submit\" onclick=\"check_selection('b58ab908-7e0b-11eb-a588-f218984d6a0c', 16, 0, '(1 ** 0 + 1 ** 1) ** (1 ** 2 + 1 ** 3)')\">\n",
       "    <span class=\"quiz_hint\" id=\"b58ab908-7e0b-11eb-a588-f218984d6a0c-hint\"></span>\n",
       "    </div>\n",
       "    "
      ],
      "text/plain": [
       "<IPython.core.display.HTML object>"
      ]
     },
     "execution_count": 1,
     "metadata": {},
     "output_type": "execute_result"
    }
   ],
   "source": [
    "quiz(\"Which of the following `middle()` code lines should be fixed?\",\n",
    "    [\n",
    "        \"Line 2: `if y < z:`\",\n",
    "        \"Line 3: `if x < y:`\",\n",
    "        \"Line 5: `elif x < z:`\",\n",
    "        \"Line 6: `return z`\",\n",
    "    ], '(1 ** 0 + 1 ** 1) ** (1 ** 2 + 1 ** 3)')"
   ]
  },
  {
   "cell_type": "markdown",
   "metadata": {
    "slideshow": {
     "slide_type": "fragment"
    }
   },
   "source": [
    "Indeed, from the controlling conditions, we see that `y < z`, `x >= y`, and `x < z` all hold. Hence, `y <= x < z` holds, and it is `x`, not `y`, that should be returned."
   ]
  },
  {
   "cell_type": "markdown",
   "metadata": {
    "slideshow": {
     "slide_type": "slide"
    }
   },
   "source": [
    "## Slices\n",
    "\n",
    "Given a dependency graph for a particular variable, we can identify the subset of the program that could have influenced it – the so-called _slice_. In the above code listing, these code locations are highlighted with `*` characters. Only these locations are part of the slice."
   ]
  },
  {
   "cell_type": "markdown",
   "metadata": {
    "slideshow": {
     "slide_type": "subslide"
    }
   },
   "source": [
    "Slices are central to debugging for two reasons:\n",
    "\n",
    "* First, they _rule out_ those locations of the program that could _not_ have an effect on the failure. Hence, these locations need not be investigated as it comes to searching for the defect. Nor do they need to be considered for a fix, as any change outside of the program slice by construction cannot affect the failure.\n",
    "* Second, they bring together possible origins that may be scattered across the code. Many dependencies in program code are _non-local_, with references to functions, classes, and modules defined in other locations, files, or libraries. A slice brings together all those locations in a single whole."
   ]
  },
  {
   "cell_type": "markdown",
   "metadata": {
    "slideshow": {
     "slide_type": "subslide"
    }
   },
   "source": [
    "Here is an example of a slice – this time for our well-known `remove_html_markup()` function from [the introduction to debugging](Intro_Debugging.ipynb):"
   ]
  },
  {
   "cell_type": "code",
   "execution_count": 44,
   "metadata": {
    "execution": {
     "iopub.execute_input": "2021-03-05T23:37:12.065475Z",
     "iopub.status.busy": "2021-03-05T23:37:12.064929Z",
     "iopub.status.idle": "2021-03-05T23:37:12.066296Z",
     "shell.execute_reply": "2021-03-05T23:37:12.066718Z"
    },
    "slideshow": {
     "slide_type": "skip"
    }
   },
   "outputs": [],
   "source": [
    "from Intro_Debugging import remove_html_markup"
   ]
  },
  {
   "cell_type": "code",
   "execution_count": 45,
   "metadata": {
    "execution": {
     "iopub.execute_input": "2021-03-05T23:37:12.080521Z",
     "iopub.status.busy": "2021-03-05T23:37:12.079655Z",
     "iopub.status.idle": "2021-03-05T23:37:12.082473Z",
     "shell.execute_reply": "2021-03-05T23:37:12.083144Z"
    },
    "slideshow": {
     "slide_type": "subslide"
    }
   },
   "outputs": [
    {
     "name": "stdout",
     "output_type": "stream",
     "text": [
      "\u001b[34mdef\u001b[39;49;00m \u001b[32mremove_html_markup\u001b[39;49;00m(s):  \u001b[37m# type: ignore\u001b[39;49;00m\n",
      "    tag = \u001b[34mFalse\u001b[39;49;00m\n",
      "    quote = \u001b[34mFalse\u001b[39;49;00m\n",
      "    out = \u001b[33m\"\u001b[39;49;00m\u001b[33m\"\u001b[39;49;00m\n",
      "\n",
      "    \u001b[34mfor\u001b[39;49;00m c \u001b[35min\u001b[39;49;00m s:\n",
      "        \u001b[34massert\u001b[39;49;00m tag \u001b[35mor\u001b[39;49;00m \u001b[35mnot\u001b[39;49;00m quote\n",
      "\n",
      "        \u001b[34mif\u001b[39;49;00m c == \u001b[33m'\u001b[39;49;00m\u001b[33m<\u001b[39;49;00m\u001b[33m'\u001b[39;49;00m \u001b[35mand\u001b[39;49;00m \u001b[35mnot\u001b[39;49;00m quote:\n",
      "            tag = \u001b[34mTrue\u001b[39;49;00m\n",
      "        \u001b[34melif\u001b[39;49;00m c == \u001b[33m'\u001b[39;49;00m\u001b[33m>\u001b[39;49;00m\u001b[33m'\u001b[39;49;00m \u001b[35mand\u001b[39;49;00m \u001b[35mnot\u001b[39;49;00m quote:\n",
      "            tag = \u001b[34mFalse\u001b[39;49;00m\n",
      "        \u001b[34melif\u001b[39;49;00m (c == \u001b[33m'\u001b[39;49;00m\u001b[33m\"\u001b[39;49;00m\u001b[33m'\u001b[39;49;00m \u001b[35mor\u001b[39;49;00m c == \u001b[33m\"\u001b[39;49;00m\u001b[33m'\u001b[39;49;00m\u001b[33m\"\u001b[39;49;00m) \u001b[35mand\u001b[39;49;00m tag:\n",
      "            quote = \u001b[35mnot\u001b[39;49;00m quote\n",
      "        \u001b[34melif\u001b[39;49;00m \u001b[35mnot\u001b[39;49;00m tag:\n",
      "            out = out + c\n",
      "\n",
      "    \u001b[34mreturn\u001b[39;49;00m out"
     ]
    }
   ],
   "source": [
    "print_content(inspect.getsource(remove_html_markup), '.py')"
   ]
  },
  {
   "cell_type": "markdown",
   "metadata": {
    "slideshow": {
     "slide_type": "subslide"
    }
   },
   "source": [
    "When we invoke `remove_html_markup()` as follows..."
   ]
  },
  {
   "cell_type": "code",
   "execution_count": 46,
   "metadata": {
    "execution": {
     "iopub.execute_input": "2021-03-05T23:37:12.086834Z",
     "iopub.status.busy": "2021-03-05T23:37:12.086289Z",
     "iopub.status.idle": "2021-03-05T23:37:12.088388Z",
     "shell.execute_reply": "2021-03-05T23:37:12.088797Z"
    },
    "slideshow": {
     "slide_type": "fragment"
    }
   },
   "outputs": [
    {
     "data": {
      "text/plain": [
       "'bar'"
      ]
     },
     "execution_count": 1,
     "metadata": {},
     "output_type": "execute_result"
    }
   ],
   "source": [
    "remove_html_markup('<foo>bar</foo>')"
   ]
  },
  {
   "cell_type": "markdown",
   "metadata": {
    "slideshow": {
     "slide_type": "fragment"
    }
   },
   "source": [
    "... we obtain the following dependencies:"
   ]
  },
  {
   "cell_type": "code",
   "execution_count": 47,
   "metadata": {
    "execution": {
     "iopub.execute_input": "2021-03-05T23:37:12.098943Z",
     "iopub.status.busy": "2021-03-05T23:37:12.098381Z",
     "iopub.status.idle": "2021-03-05T23:37:12.100201Z",
     "shell.execute_reply": "2021-03-05T23:37:12.100747Z"
    },
    "slideshow": {
     "slide_type": "fragment"
    }
   },
   "outputs": [],
   "source": [
    "# ignore\n",
    "def remove_html_markup_deps() -> Dependencies:\n",
    "    return Dependencies({('s', (remove_html_markup, 136)): set(), ('tag', (remove_html_markup, 137)): set(), ('quote', (remove_html_markup, 138)): set(), ('out', (remove_html_markup, 139)): set(), ('c', (remove_html_markup, 141)): {('s', (remove_html_markup, 136))}, ('<test>', (remove_html_markup, 144)): {('quote', (remove_html_markup, 138)), ('c', (remove_html_markup, 141))}, ('tag', (remove_html_markup, 145)): set(), ('<test>', (remove_html_markup, 146)): {('quote', (remove_html_markup, 138)), ('c', (remove_html_markup, 141))}, ('<test>', (remove_html_markup, 148)): {('c', (remove_html_markup, 141))}, ('<test>', (remove_html_markup, 150)): {('tag', (remove_html_markup, 147)), ('tag', (remove_html_markup, 145))}, ('tag', (remove_html_markup, 147)): set(), ('out', (remove_html_markup, 151)): {('out', (remove_html_markup, 151)), ('c', (remove_html_markup, 141)), ('out', (remove_html_markup, 139))}, ('<remove_html_markup() return value>', (remove_html_markup, 153)): {('<test>', (remove_html_markup, 146)), ('out', (remove_html_markup, 151))}}, {('s', (remove_html_markup, 136)): set(), ('tag', (remove_html_markup, 137)): set(), ('quote', (remove_html_markup, 138)): set(), ('out', (remove_html_markup, 139)): set(), ('c', (remove_html_markup, 141)): set(), ('<test>', (remove_html_markup, 144)): set(), ('tag', (remove_html_markup, 145)): {('<test>', (remove_html_markup, 144))}, ('<test>', (remove_html_markup, 146)): {('<test>', (remove_html_markup, 144))}, ('<test>', (remove_html_markup, 148)): {('<test>', (remove_html_markup, 146))}, ('<test>', (remove_html_markup, 150)): {('<test>', (remove_html_markup, 148))}, ('tag', (remove_html_markup, 147)): {('<test>', (remove_html_markup, 146))}, ('out', (remove_html_markup, 151)): {('<test>', (remove_html_markup, 150))}, ('<remove_html_markup() return value>', (remove_html_markup, 153)): set()})"
   ]
  },
  {
   "cell_type": "code",
   "execution_count": 48,
   "metadata": {
    "execution": {
     "iopub.execute_input": "2021-03-05T23:37:12.112209Z",
     "iopub.status.busy": "2021-03-05T23:37:12.104367Z",
     "iopub.status.idle": "2021-03-05T23:37:12.754093Z",
     "shell.execute_reply": "2021-03-05T23:37:12.754481Z"
    },
    "slideshow": {
     "slide_type": "fragment"
    }
   },
   "outputs": [
    {
     "data": {
      "image/svg+xml": [
       "<?xml version=\"1.0\" encoding=\"UTF-8\" standalone=\"no\"?>\n",
       "<!DOCTYPE svg PUBLIC \"-//W3C//DTD SVG 1.1//EN\"\n",
       " \"http://www.w3.org/Graphics/SVG/1.1/DTD/svg11.dtd\">\n",
       "<!-- Generated by graphviz version 2.40.1 (20161225.0304)\n",
       " -->\n",
       "<!-- Title: dependencies Pages: 1 -->\n",
       "<svg width=\"566pt\" height=\"960pt\"\n",
       " viewBox=\"0.00 0.00 565.63 960.00\" xmlns=\"http://www.w3.org/2000/svg\" xmlns:xlink=\"http://www.w3.org/1999/xlink\">\n",
       "<g id=\"graph0\" class=\"graph\" transform=\"scale(1 1) rotate(0) translate(4 956)\">\n",
       "<title>dependencies</title>\n",
       "<polygon fill=\"#ffffff\" stroke=\"transparent\" points=\"-4,4 -4,-956 561.6308,-956 561.6308,4 -4,4\"/>\n",
       "<!-- s_functionremove_html_markupat0x7fe1d5de3d90_136 -->\n",
       "<g id=\"node1\" class=\"node\">\n",
       "<title>s_functionremove_html_markupat0x7fe1d5de3d90_136</title>\n",
       "<g id=\"a_node1\"><a xlink:title=\"remove_html_markup:136\">\n",
       "<polygon fill=\"#ffdab9\" stroke=\"#000000\" points=\"251.6308,-952 116.6308,-952 116.6308,-912 251.6308,-912 251.6308,-952\"/>\n",
       "<text text-anchor=\"start\" x=\"179.6308\" y=\"-937.8\" font-family=\"Fira Mono, Courier, monospace\" font-weight=\"bold\" font-size=\"14.00\" fill=\"#000000\">s</text>\n",
       "<text text-anchor=\"start\" x=\"124.6308\" y=\"-918.8\" font-family=\"Fira Mono, Courier, monospace\" font-size=\"9.00\" fill=\"#000000\">&lt;remove_html_markup()&gt;</text>\n",
       "</a>\n",
       "</g>\n",
       "</g>\n",
       "<!-- c_functionremove_html_markupat0x7fe1d5de3d90_141 -->\n",
       "<g id=\"node3\" class=\"node\">\n",
       "<title>c_functionremove_html_markupat0x7fe1d5de3d90_141</title>\n",
       "<g id=\"a_node3\"><a xlink:title=\"remove_html_markup:141\">\n",
       "<polygon fill=\"#ffdab9\" stroke=\"#000000\" points=\"299.6308,-648 164.6308,-648 164.6308,-608 299.6308,-608 299.6308,-648\"/>\n",
       "<text text-anchor=\"start\" x=\"227.6308\" y=\"-633.8\" font-family=\"Fira Mono, Courier, monospace\" font-weight=\"bold\" font-size=\"14.00\" fill=\"#000000\">c</text>\n",
       "<text text-anchor=\"start\" x=\"172.6308\" y=\"-614.8\" font-family=\"Fira Mono, Courier, monospace\" font-size=\"9.00\" fill=\"#000000\">&lt;remove_html_markup()&gt;</text>\n",
       "</a>\n",
       "</g>\n",
       "</g>\n",
       "<!-- s_functionremove_html_markupat0x7fe1d5de3d90_136&#45;&gt;c_functionremove_html_markupat0x7fe1d5de3d90_141 -->\n",
       "<g id=\"edge18\" class=\"edge\">\n",
       "<title>s_functionremove_html_markupat0x7fe1d5de3d90_136&#45;&gt;c_functionremove_html_markupat0x7fe1d5de3d90_141</title>\n",
       "<path fill=\"none\" stroke=\"#000000\" d=\"M197.0948,-911.8186C203.049,-901.5131 209.566,-888.5316 213.1308,-876 234.7793,-799.8984 235.1719,-705.6899 233.6458,-658.2786\"/>\n",
       "<polygon fill=\"#000000\" stroke=\"#000000\" points=\"237.1358,-657.9437 233.2634,-648.0819 230.1407,-658.2061 237.1358,-657.9437\"/>\n",
       "</g>\n",
       "<!-- tag_functionremove_html_markupat0x7fe1d5de3d90_137 -->\n",
       "<g id=\"node5\" class=\"node\">\n",
       "<title>tag_functionremove_html_markupat0x7fe1d5de3d90_137</title>\n",
       "<g id=\"a_node5\"><a xlink:title=\"remove_html_markup:137\">\n",
       "<polygon fill=\"#ffdab9\" stroke=\"#000000\" points=\"203.6308,-876 68.6308,-876 68.6308,-836 203.6308,-836 203.6308,-876\"/>\n",
       "<text text-anchor=\"start\" x=\"123.1308\" y=\"-861.8\" font-family=\"Fira Mono, Courier, monospace\" font-weight=\"bold\" font-size=\"14.00\" fill=\"#000000\">tag</text>\n",
       "<text text-anchor=\"start\" x=\"76.6308\" y=\"-842.8\" font-family=\"Fira Mono, Courier, monospace\" font-size=\"9.00\" fill=\"#000000\">&lt;remove_html_markup()&gt;</text>\n",
       "</a>\n",
       "</g>\n",
       "</g>\n",
       "<!-- s_functionremove_html_markupat0x7fe1d5de3d90_136&#45;&gt;tag_functionremove_html_markupat0x7fe1d5de3d90_137 -->\n",
       "<!-- test_functionremove_html_markupat0x7fe1d5de3d90_144 -->\n",
       "<g id=\"node2\" class=\"node\">\n",
       "<title>test_functionremove_html_markupat0x7fe1d5de3d90_144</title>\n",
       "<g id=\"a_node2\"><a xlink:title=\"remove_html_markup:144\">\n",
       "<polygon fill=\"#ffdab9\" stroke=\"#000000\" points=\"203.6308,-572 68.6308,-572 68.6308,-532 203.6308,-532 203.6308,-572\"/>\n",
       "<text text-anchor=\"start\" x=\"110.6308\" y=\"-557.8\" font-family=\"Fira Mono, Courier, monospace\" font-weight=\"bold\" font-style=\"italic\" font-size=\"14.00\" fill=\"#000000\">&lt;test&gt;</text>\n",
       "<text text-anchor=\"start\" x=\"76.6308\" y=\"-538.8\" font-family=\"Fira Mono, Courier, monospace\" font-size=\"9.00\" fill=\"#000000\">&lt;remove_html_markup()&gt;</text>\n",
       "</a>\n",
       "</g>\n",
       "</g>\n",
       "<!-- test_functionremove_html_markupat0x7fe1d5de3d90_146 -->\n",
       "<g id=\"node6\" class=\"node\">\n",
       "<title>test_functionremove_html_markupat0x7fe1d5de3d90_146</title>\n",
       "<g id=\"a_node6\"><a xlink:title=\"remove_html_markup:146\">\n",
       "<polygon fill=\"#ffdab9\" stroke=\"#000000\" points=\"222.6308,-420 87.6308,-420 87.6308,-380 222.6308,-380 222.6308,-420\"/>\n",
       "<text text-anchor=\"start\" x=\"129.6308\" y=\"-405.8\" font-family=\"Fira Mono, Courier, monospace\" font-weight=\"bold\" font-style=\"italic\" font-size=\"14.00\" fill=\"#000000\">&lt;test&gt;</text>\n",
       "<text text-anchor=\"start\" x=\"95.6308\" y=\"-386.8\" font-family=\"Fira Mono, Courier, monospace\" font-size=\"9.00\" fill=\"#000000\">&lt;remove_html_markup()&gt;</text>\n",
       "</a>\n",
       "</g>\n",
       "</g>\n",
       "<!-- test_functionremove_html_markupat0x7fe1d5de3d90_144&#45;&gt;test_functionremove_html_markupat0x7fe1d5de3d90_146 -->\n",
       "<g id=\"edge5\" class=\"edge\">\n",
       "<title>test_functionremove_html_markupat0x7fe1d5de3d90_144&#45;&gt;test_functionremove_html_markupat0x7fe1d5de3d90_146</title>\n",
       "<path fill=\"none\" stroke=\"#c0c0c0\" stroke-dasharray=\"5,2\" d=\"M154.2034,-531.763C161.9504,-521.7475 170.1279,-509.028 174.1308,-496 180.8448,-474.1487 175.253,-448.7485 168.4361,-429.5657\"/>\n",
       "<polygon fill=\"#c0c0c0\" stroke=\"#c0c0c0\" points=\"171.673,-428.2315 164.8183,-420.1528 165.139,-430.7428 171.673,-428.2315\"/>\n",
       "</g>\n",
       "<!-- tag_functionremove_html_markupat0x7fe1d5de3d90_145 -->\n",
       "<g id=\"node9\" class=\"node\">\n",
       "<title>tag_functionremove_html_markupat0x7fe1d5de3d90_145</title>\n",
       "<g id=\"a_node9\"><a xlink:title=\"remove_html_markup:145\">\n",
       "<polygon fill=\"#ffdab9\" stroke=\"#000000\" points=\"165.6308,-496 30.6308,-496 30.6308,-456 165.6308,-456 165.6308,-496\"/>\n",
       "<text text-anchor=\"start\" x=\"85.1308\" y=\"-481.8\" font-family=\"Fira Mono, Courier, monospace\" font-weight=\"bold\" font-size=\"14.00\" fill=\"#000000\">tag</text>\n",
       "<text text-anchor=\"start\" x=\"38.6308\" y=\"-462.8\" font-family=\"Fira Mono, Courier, monospace\" font-size=\"9.00\" fill=\"#000000\">&lt;remove_html_markup()&gt;</text>\n",
       "</a>\n",
       "</g>\n",
       "</g>\n",
       "<!-- test_functionremove_html_markupat0x7fe1d5de3d90_144&#45;&gt;tag_functionremove_html_markupat0x7fe1d5de3d90_145 -->\n",
       "<g id=\"edge17\" class=\"edge\">\n",
       "<title>test_functionremove_html_markupat0x7fe1d5de3d90_144&#45;&gt;tag_functionremove_html_markupat0x7fe1d5de3d90_145</title>\n",
       "<path fill=\"none\" stroke=\"#c0c0c0\" stroke-dasharray=\"5,2\" d=\"M119.8901,-531.6334C115.1715,-523.561 110.2751,-514.1244 106.2091,-505.34\"/>\n",
       "<polygon fill=\"#c0c0c0\" stroke=\"#c0c0c0\" points=\"109.401,-503.9036 102.1707,-496.1593 102.9935,-506.7221 109.401,-503.9036\"/>\n",
       "</g>\n",
       "<!-- test_functionremove_html_markupat0x7fe1d5de3d90_144&#45;&gt;tag_functionremove_html_markupat0x7fe1d5de3d90_145 -->\n",
       "<!-- c_functionremove_html_markupat0x7fe1d5de3d90_141&#45;&gt;test_functionremove_html_markupat0x7fe1d5de3d90_144 -->\n",
       "<g id=\"edge1\" class=\"edge\">\n",
       "<title>c_functionremove_html_markupat0x7fe1d5de3d90_141&#45;&gt;test_functionremove_html_markupat0x7fe1d5de3d90_144</title>\n",
       "<path fill=\"none\" stroke=\"#000000\" d=\"M200.6162,-607.8329C188.5666,-598.9004 174.9903,-588.2678 163.3674,-578.6898\"/>\n",
       "<polygon fill=\"#000000\" stroke=\"#000000\" points=\"165.5931,-575.9886 155.6756,-572.2613 161.1041,-581.3598 165.5931,-575.9886\"/>\n",
       "</g>\n",
       "<!-- c_functionremove_html_markupat0x7fe1d5de3d90_141&#45;&gt;test_functionremove_html_markupat0x7fe1d5de3d90_144 -->\n",
       "<!-- c_functionremove_html_markupat0x7fe1d5de3d90_141&#45;&gt;test_functionremove_html_markupat0x7fe1d5de3d90_146 -->\n",
       "<g id=\"edge3\" class=\"edge\">\n",
       "<title>c_functionremove_html_markupat0x7fe1d5de3d90_141&#45;&gt;test_functionremove_html_markupat0x7fe1d5de3d90_146</title>\n",
       "<path fill=\"none\" stroke=\"#000000\" d=\"M229.6931,-607.8637C225.1677,-574.9057 213.7054,-507.9183 190.1308,-456 185.9092,-446.7026 180.3887,-437.0965 174.9842,-428.5216\"/>\n",
       "<polygon fill=\"#000000\" stroke=\"#000000\" points=\"177.8387,-426.491 169.4533,-420.0153 171.9702,-430.3068 177.8387,-426.491\"/>\n",
       "</g>\n",
       "<!-- test_functionremove_html_markupat0x7fe1d5de3d90_148 -->\n",
       "<g id=\"node7\" class=\"node\">\n",
       "<title>test_functionremove_html_markupat0x7fe1d5de3d90_148</title>\n",
       "<g id=\"a_node7\"><a xlink:title=\"remove_html_markup:148\">\n",
       "<polygon fill=\"#ffdab9\" stroke=\"#000000\" points=\"279.6308,-268 144.6308,-268 144.6308,-228 279.6308,-228 279.6308,-268\"/>\n",
       "<text text-anchor=\"start\" x=\"186.6308\" y=\"-253.8\" font-family=\"Fira Mono, Courier, monospace\" font-weight=\"bold\" font-style=\"italic\" font-size=\"14.00\" fill=\"#000000\">&lt;test&gt;</text>\n",
       "<text text-anchor=\"start\" x=\"152.6308\" y=\"-234.8\" font-family=\"Fira Mono, Courier, monospace\" font-size=\"9.00\" fill=\"#000000\">&lt;remove_html_markup()&gt;</text>\n",
       "</a>\n",
       "</g>\n",
       "</g>\n",
       "<!-- c_functionremove_html_markupat0x7fe1d5de3d90_141&#45;&gt;test_functionremove_html_markupat0x7fe1d5de3d90_148 -->\n",
       "<g id=\"edge6\" class=\"edge\">\n",
       "<title>c_functionremove_html_markupat0x7fe1d5de3d90_141&#45;&gt;test_functionremove_html_markupat0x7fe1d5de3d90_148</title>\n",
       "<path fill=\"none\" stroke=\"#000000\" d=\"M240.5643,-607.7508C251.7594,-578.9905 270.1308,-524.4179 270.1308,-476 270.1308,-476 270.1308,-476 270.1308,-400 270.1308,-354.8889 247.5553,-306.9026 230.5733,-277.1875\"/>\n",
       "<polygon fill=\"#000000\" stroke=\"#000000\" points=\"233.3788,-275.0536 225.2919,-268.2086 227.3451,-278.6026 233.3788,-275.0536\"/>\n",
       "</g>\n",
       "<!-- out_functionremove_html_markupat0x7fe1d5de3d90_151 -->\n",
       "<g id=\"node11\" class=\"node\">\n",
       "<title>out_functionremove_html_markupat0x7fe1d5de3d90_151</title>\n",
       "<g id=\"a_node11\"><a xlink:title=\"remove_html_markup:151\">\n",
       "<polygon fill=\"#ffdab9\" stroke=\"#000000\" points=\"469.6308,-116 334.6308,-116 334.6308,-76 469.6308,-76 469.6308,-116\"/>\n",
       "<text text-anchor=\"start\" x=\"389.1308\" y=\"-101.8\" font-family=\"Fira Mono, Courier, monospace\" font-weight=\"bold\" font-size=\"14.00\" fill=\"#000000\">out</text>\n",
       "<text text-anchor=\"start\" x=\"342.6308\" y=\"-82.8\" font-family=\"Fira Mono, Courier, monospace\" font-size=\"9.00\" fill=\"#000000\">&lt;remove_html_markup()&gt;</text>\n",
       "</a>\n",
       "</g>\n",
       "</g>\n",
       "<!-- c_functionremove_html_markupat0x7fe1d5de3d90_141&#45;&gt;out_functionremove_html_markupat0x7fe1d5de3d90_151 -->\n",
       "<g id=\"edge12\" class=\"edge\">\n",
       "<title>c_functionremove_html_markupat0x7fe1d5de3d90_141&#45;&gt;out_functionremove_html_markupat0x7fe1d5de3d90_151</title>\n",
       "<path fill=\"none\" stroke=\"#000000\" d=\"M264.3867,-607.8915C301.1273,-582.2097 356.1308,-534.0657 356.1308,-476 356.1308,-476 356.1308,-476 356.1308,-248 356.1308,-203.9082 374.082,-155.5872 387.5564,-125.5275\"/>\n",
       "<polygon fill=\"#000000\" stroke=\"#000000\" points=\"390.9104,-126.6123 391.9219,-116.0659 384.5543,-123.6796 390.9104,-126.6123\"/>\n",
       "</g>\n",
       "<!-- quote_functionremove_html_markupat0x7fe1d5de3d90_138 -->\n",
       "<g id=\"node4\" class=\"node\">\n",
       "<title>quote_functionremove_html_markupat0x7fe1d5de3d90_138</title>\n",
       "<g id=\"a_node4\"><a xlink:title=\"remove_html_markup:138\">\n",
       "<polygon fill=\"#ffdab9\" stroke=\"#000000\" points=\"203.6308,-800 68.6308,-800 68.6308,-760 203.6308,-760 203.6308,-800\"/>\n",
       "<text text-anchor=\"start\" x=\"114.6308\" y=\"-785.8\" font-family=\"Fira Mono, Courier, monospace\" font-weight=\"bold\" font-size=\"14.00\" fill=\"#000000\">quote</text>\n",
       "<text text-anchor=\"start\" x=\"76.6308\" y=\"-766.8\" font-family=\"Fira Mono, Courier, monospace\" font-size=\"9.00\" fill=\"#000000\">&lt;remove_html_markup()&gt;</text>\n",
       "</a>\n",
       "</g>\n",
       "</g>\n",
       "<!-- quote_functionremove_html_markupat0x7fe1d5de3d90_138&#45;&gt;test_functionremove_html_markupat0x7fe1d5de3d90_144 -->\n",
       "<g id=\"edge2\" class=\"edge\">\n",
       "<title>quote_functionremove_html_markupat0x7fe1d5de3d90_138&#45;&gt;test_functionremove_html_markupat0x7fe1d5de3d90_144</title>\n",
       "<path fill=\"none\" stroke=\"#000000\" d=\"M136.1308,-759.7665C136.1308,-719.6263 136.1308,-629.7226 136.1308,-582.4223\"/>\n",
       "<polygon fill=\"#000000\" stroke=\"#000000\" points=\"139.6309,-582.1881 136.1308,-572.1881 132.6309,-582.1882 139.6309,-582.1881\"/>\n",
       "</g>\n",
       "<!-- quote_functionremove_html_markupat0x7fe1d5de3d90_138&#45;&gt;test_functionremove_html_markupat0x7fe1d5de3d90_146 -->\n",
       "<g id=\"edge4\" class=\"edge\">\n",
       "<title>quote_functionremove_html_markupat0x7fe1d5de3d90_138&#45;&gt;test_functionremove_html_markupat0x7fe1d5de3d90_146</title>\n",
       "<path fill=\"none\" stroke=\"#000000\" d=\"M100.2213,-759.8661C60.5289,-734.652 2.1308,-687.453 2.1308,-628 2.1308,-628 2.1308,-628 2.1308,-552 2.1308,-508.5057 -6.3925,-489.6782 21.1308,-456 35.6548,-438.2281 56.7928,-426.0144 78.0046,-417.6531\"/>\n",
       "<polygon fill=\"#000000\" stroke=\"#000000\" points=\"79.2323,-420.9308 87.4051,-414.1887 76.8117,-414.3626 79.2323,-420.9308\"/>\n",
       "</g>\n",
       "<!-- out_functionremove_html_markupat0x7fe1d5de3d90_139 -->\n",
       "<g id=\"node12\" class=\"node\">\n",
       "<title>out_functionremove_html_markupat0x7fe1d5de3d90_139</title>\n",
       "<g id=\"a_node12\"><a xlink:title=\"remove_html_markup:139\">\n",
       "<polygon fill=\"#ffdab9\" stroke=\"#000000\" points=\"395.6308,-724 260.6308,-724 260.6308,-684 395.6308,-684 395.6308,-724\"/>\n",
       "<text text-anchor=\"start\" x=\"315.1308\" y=\"-709.8\" font-family=\"Fira Mono, Courier, monospace\" font-weight=\"bold\" font-size=\"14.00\" fill=\"#000000\">out</text>\n",
       "<text text-anchor=\"start\" x=\"268.6308\" y=\"-690.8\" font-family=\"Fira Mono, Courier, monospace\" font-size=\"9.00\" fill=\"#000000\">&lt;remove_html_markup()&gt;</text>\n",
       "</a>\n",
       "</g>\n",
       "</g>\n",
       "<!-- quote_functionremove_html_markupat0x7fe1d5de3d90_138&#45;&gt;out_functionremove_html_markupat0x7fe1d5de3d90_139 -->\n",
       "<!-- tag_functionremove_html_markupat0x7fe1d5de3d90_137&#45;&gt;quote_functionremove_html_markupat0x7fe1d5de3d90_138 -->\n",
       "<!-- test_functionremove_html_markupat0x7fe1d5de3d90_146&#45;&gt;test_functionremove_html_markupat0x7fe1d5de3d90_148 -->\n",
       "<g id=\"edge7\" class=\"edge\">\n",
       "<title>test_functionremove_html_markupat0x7fe1d5de3d90_146&#45;&gt;test_functionremove_html_markupat0x7fe1d5de3d90_148</title>\n",
       "<path fill=\"none\" stroke=\"#c0c0c0\" stroke-dasharray=\"5,2\" d=\"M184.3369,-379.9617C195.5595,-370.5048 207.1142,-358.1724 213.1308,-344 221.9644,-323.192 221.1575,-297.487 218.4456,-277.914\"/>\n",
       "<polygon fill=\"#c0c0c0\" stroke=\"#c0c0c0\" points=\"221.8969,-277.3311 216.8437,-268.019 214.9868,-278.4498 221.8969,-277.3311\"/>\n",
       "</g>\n",
       "<!-- tag_functionremove_html_markupat0x7fe1d5de3d90_147 -->\n",
       "<g id=\"node10\" class=\"node\">\n",
       "<title>tag_functionremove_html_markupat0x7fe1d5de3d90_147</title>\n",
       "<g id=\"a_node10\"><a xlink:title=\"remove_html_markup:147\">\n",
       "<polygon fill=\"#ffdab9\" stroke=\"#000000\" points=\"203.6308,-344 68.6308,-344 68.6308,-304 203.6308,-304 203.6308,-344\"/>\n",
       "<text text-anchor=\"start\" x=\"123.1308\" y=\"-329.8\" font-family=\"Fira Mono, Courier, monospace\" font-weight=\"bold\" font-size=\"14.00\" fill=\"#000000\">tag</text>\n",
       "<text text-anchor=\"start\" x=\"76.6308\" y=\"-310.8\" font-family=\"Fira Mono, Courier, monospace\" font-size=\"9.00\" fill=\"#000000\">&lt;remove_html_markup()&gt;</text>\n",
       "</a>\n",
       "</g>\n",
       "</g>\n",
       "<!-- test_functionremove_html_markupat0x7fe1d5de3d90_146&#45;&gt;tag_functionremove_html_markupat0x7fe1d5de3d90_147 -->\n",
       "<g id=\"edge19\" class=\"edge\">\n",
       "<title>test_functionremove_html_markupat0x7fe1d5de3d90_146&#45;&gt;tag_functionremove_html_markupat0x7fe1d5de3d90_147</title>\n",
       "<path fill=\"none\" stroke=\"#c0c0c0\" stroke-dasharray=\"5,2\" d=\"M143.9817,-379.6334C141.3674,-371.8186 138.9061,-362.7253 137.0552,-354.183\"/>\n",
       "<polygon fill=\"#c0c0c0\" stroke=\"#c0c0c0\" points=\"140.4535,-353.3201 135.1309,-344.1593 133.579,-354.6399 140.4535,-353.3201\"/>\n",
       "</g>\n",
       "<!-- test_functionremove_html_markupat0x7fe1d5de3d90_146&#45;&gt;tag_functionremove_html_markupat0x7fe1d5de3d90_147 -->\n",
       "<!-- remove_html_markupreturnvalue_functionremove_html_markupat0x7fe1d5de3d90_153 -->\n",
       "<g id=\"node13\" class=\"node\">\n",
       "<title>remove_html_markupreturnvalue_functionremove_html_markupat0x7fe1d5de3d90_153</title>\n",
       "<g id=\"a_node13\"><a xlink:title=\"remove_html_markup:153\">\n",
       "<polygon fill=\"#ffdab9\" stroke=\"#000000\" points=\"557.6308,-40 246.6308,-40 246.6308,0 557.6308,0 557.6308,-40\"/>\n",
       "<text text-anchor=\"start\" x=\"254.6308\" y=\"-25.8\" font-family=\"Fira Mono, Courier, monospace\" font-weight=\"bold\" font-style=\"italic\" font-size=\"14.00\" fill=\"#000000\">&lt;remove_html_markup() return value&gt;</text>\n",
       "<text text-anchor=\"start\" x=\"342.6308\" y=\"-6.8\" font-family=\"Fira Mono, Courier, monospace\" font-size=\"9.00\" fill=\"#000000\">&lt;remove_html_markup()&gt;</text>\n",
       "</a>\n",
       "</g>\n",
       "</g>\n",
       "<!-- test_functionremove_html_markupat0x7fe1d5de3d90_146&#45;&gt;remove_html_markupreturnvalue_functionremove_html_markupat0x7fe1d5de3d90_153 -->\n",
       "<g id=\"edge15\" class=\"edge\">\n",
       "<title>test_functionremove_html_markupat0x7fe1d5de3d90_146&#45;&gt;remove_html_markupreturnvalue_functionremove_html_markupat0x7fe1d5de3d90_153</title>\n",
       "<path fill=\"none\" stroke=\"#000000\" d=\"M186.3451,-379.8026C218.5542,-356.9904 267.104,-316.6364 289.1308,-268 324.9829,-188.8367 279.743,-149.4872 326.1308,-76 333.5206,-64.2933 344.3079,-54.2152 355.4462,-45.9655\"/>\n",
       "<polygon fill=\"#000000\" stroke=\"#000000\" points=\"357.779,-48.6059 363.9817,-40.0166 353.7764,-42.8631 357.779,-48.6059\"/>\n",
       "</g>\n",
       "<!-- test_functionremove_html_markupat0x7fe1d5de3d90_150 -->\n",
       "<g id=\"node8\" class=\"node\">\n",
       "<title>test_functionremove_html_markupat0x7fe1d5de3d90_150</title>\n",
       "<g id=\"a_node8\"><a xlink:title=\"remove_html_markup:150\">\n",
       "<polygon fill=\"#ffdab9\" stroke=\"#000000\" points=\"279.6308,-192 144.6308,-192 144.6308,-152 279.6308,-152 279.6308,-192\"/>\n",
       "<text text-anchor=\"start\" x=\"186.6308\" y=\"-177.8\" font-family=\"Fira Mono, Courier, monospace\" font-weight=\"bold\" font-style=\"italic\" font-size=\"14.00\" fill=\"#000000\">&lt;test&gt;</text>\n",
       "<text text-anchor=\"start\" x=\"152.6308\" y=\"-158.8\" font-family=\"Fira Mono, Courier, monospace\" font-size=\"9.00\" fill=\"#000000\">&lt;remove_html_markup()&gt;</text>\n",
       "</a>\n",
       "</g>\n",
       "</g>\n",
       "<!-- test_functionremove_html_markupat0x7fe1d5de3d90_148&#45;&gt;test_functionremove_html_markupat0x7fe1d5de3d90_150 -->\n",
       "<g id=\"edge10\" class=\"edge\">\n",
       "<title>test_functionremove_html_markupat0x7fe1d5de3d90_148&#45;&gt;test_functionremove_html_markupat0x7fe1d5de3d90_150</title>\n",
       "<path fill=\"none\" stroke=\"#c0c0c0\" stroke-dasharray=\"5,2\" d=\"M206.0734,-227.6334C205.4127,-219.8186 205.2248,-210.7253 205.5094,-202.183\"/>\n",
       "<polygon fill=\"#c0c0c0\" stroke=\"#c0c0c0\" points=\"209.0058,-202.3453 206.091,-192.1593 202.0175,-201.9397 209.0058,-202.3453\"/>\n",
       "</g>\n",
       "<!-- test_functionremove_html_markupat0x7fe1d5de3d90_148&#45;&gt;test_functionremove_html_markupat0x7fe1d5de3d90_150 -->\n",
       "<!-- test_functionremove_html_markupat0x7fe1d5de3d90_150&#45;&gt;out_functionremove_html_markupat0x7fe1d5de3d90_151 -->\n",
       "<g id=\"edge14\" class=\"edge\">\n",
       "<title>test_functionremove_html_markupat0x7fe1d5de3d90_150&#45;&gt;out_functionremove_html_markupat0x7fe1d5de3d90_151</title>\n",
       "<path fill=\"none\" stroke=\"#c0c0c0\" stroke-dasharray=\"5,2\" d=\"M256.5081,-151.8329C280.2409,-142.0024 309.874,-130.1126 336.2268,-119.8358\"/>\n",
       "<polygon fill=\"#c0c0c0\" stroke=\"#c0c0c0\" points=\"337.7157,-123.0123 345.7703,-116.1293 335.1815,-116.4871 337.7157,-123.0123\"/>\n",
       "</g>\n",
       "<!-- test_functionremove_html_markupat0x7fe1d5de3d90_150&#45;&gt;out_functionremove_html_markupat0x7fe1d5de3d90_151 -->\n",
       "<!-- tag_functionremove_html_markupat0x7fe1d5de3d90_145&#45;&gt;test_functionremove_html_markupat0x7fe1d5de3d90_146 -->\n",
       "<!-- tag_functionremove_html_markupat0x7fe1d5de3d90_145&#45;&gt;test_functionremove_html_markupat0x7fe1d5de3d90_150 -->\n",
       "<g id=\"edge8\" class=\"edge\">\n",
       "<title>tag_functionremove_html_markupat0x7fe1d5de3d90_145&#45;&gt;test_functionremove_html_markupat0x7fe1d5de3d90_150</title>\n",
       "<path fill=\"none\" stroke=\"#000000\" d=\"M86.3137,-455.9273C68.7255,-423.34 39.7101,-357.2121 59.1308,-304 76.7799,-255.6421 124.4639,-219.3526 161.953,-197.1844\"/>\n",
       "<polygon fill=\"#000000\" stroke=\"#000000\" points=\"163.8268,-200.1443 170.752,-192.1261 160.3381,-194.0756 163.8268,-200.1443\"/>\n",
       "</g>\n",
       "<!-- tag_functionremove_html_markupat0x7fe1d5de3d90_147&#45;&gt;test_functionremove_html_markupat0x7fe1d5de3d90_148 -->\n",
       "<!-- tag_functionremove_html_markupat0x7fe1d5de3d90_147&#45;&gt;test_functionremove_html_markupat0x7fe1d5de3d90_150 -->\n",
       "<g id=\"edge9\" class=\"edge\">\n",
       "<title>tag_functionremove_html_markupat0x7fe1d5de3d90_147&#45;&gt;test_functionremove_html_markupat0x7fe1d5de3d90_150</title>\n",
       "<path fill=\"none\" stroke=\"#000000\" d=\"M130.7092,-303.6506C126.4454,-283.3233 123.0294,-251.7644 135.1308,-228 141.2275,-216.0275 151.2151,-206.0123 162.0082,-197.9185\"/>\n",
       "<polygon fill=\"#000000\" stroke=\"#000000\" points=\"164.1574,-200.687 170.3676,-192.103 160.1599,-194.9407 164.1574,-200.687\"/>\n",
       "</g>\n",
       "<!-- out_functionremove_html_markupat0x7fe1d5de3d90_151&#45;&gt;out_functionremove_html_markupat0x7fe1d5de3d90_151 -->\n",
       "<g id=\"edge13\" class=\"edge\">\n",
       "<title>out_functionremove_html_markupat0x7fe1d5de3d90_151&#45;&gt;out_functionremove_html_markupat0x7fe1d5de3d90_151</title>\n",
       "<path fill=\"none\" stroke=\"#000000\" d=\"M469.864,-109.0593C480.4284,-107.107 487.6308,-102.7539 487.6308,-96 487.6308,-91.6733 484.675,-88.3318 479.7729,-85.9757\"/>\n",
       "<polygon fill=\"#000000\" stroke=\"#000000\" points=\"480.4506,-82.5228 469.864,-82.9407 478.4005,-89.2159 480.4506,-82.5228\"/>\n",
       "</g>\n",
       "<!-- out_functionremove_html_markupat0x7fe1d5de3d90_151&#45;&gt;remove_html_markupreturnvalue_functionremove_html_markupat0x7fe1d5de3d90_153 -->\n",
       "<g id=\"edge16\" class=\"edge\">\n",
       "<title>out_functionremove_html_markupat0x7fe1d5de3d90_151&#45;&gt;remove_html_markupreturnvalue_functionremove_html_markupat0x7fe1d5de3d90_153</title>\n",
       "<path fill=\"none\" stroke=\"#000000\" d=\"M396.0734,-75.6334C395.4127,-67.8186 395.2248,-58.7253 395.5094,-50.183\"/>\n",
       "<polygon fill=\"#000000\" stroke=\"#000000\" points=\"399.0058,-50.3453 396.091,-40.1593 392.0175,-49.9397 399.0058,-50.3453\"/>\n",
       "</g>\n",
       "<!-- out_functionremove_html_markupat0x7fe1d5de3d90_151&#45;&gt;remove_html_markupreturnvalue_functionremove_html_markupat0x7fe1d5de3d90_153 -->\n",
       "<!-- out_functionremove_html_markupat0x7fe1d5de3d90_139&#45;&gt;c_functionremove_html_markupat0x7fe1d5de3d90_141 -->\n",
       "<!-- out_functionremove_html_markupat0x7fe1d5de3d90_139&#45;&gt;out_functionremove_html_markupat0x7fe1d5de3d90_151 -->\n",
       "<g id=\"edge11\" class=\"edge\">\n",
       "<title>out_functionremove_html_markupat0x7fe1d5de3d90_139&#45;&gt;out_functionremove_html_markupat0x7fe1d5de3d90_151</title>\n",
       "<path fill=\"none\" stroke=\"#000000\" d=\"M344.5981,-683.7641C365.5722,-655.8822 399.1308,-603.2614 399.1308,-552 399.1308,-552 399.1308,-552 399.1308,-248 399.1308,-205.7376 400.3045,-156.8783 401.1836,-126.2082\"/>\n",
       "<polygon fill=\"#000000\" stroke=\"#000000\" points=\"404.6836,-126.2578 401.4799,-116.159 397.6866,-126.0515 404.6836,-126.2578\"/>\n",
       "</g>\n",
       "</g>\n",
       "</svg>\n"
      ],
      "text/plain": [
       "<graphviz.dot.Digraph at 0x7fe1d64ea828>"
      ]
     },
     "execution_count": 1,
     "metadata": {},
     "output_type": "execute_result"
    }
   ],
   "source": [
    "# ignore\n",
    "remove_html_markup_deps().graph()"
   ]
  },
  {
   "cell_type": "markdown",
   "metadata": {
    "slideshow": {
     "slide_type": "subslide"
    }
   },
   "source": [
    "Again, we can read such a graph _forward_ (starting from, say, `s`) or _backward_ (starting from the return value). Starting forward, we see how the passed string `s` flows into the `for` loop, breaking `s` into individual characters `c` that are then checked on various occasions, before flowing into the `out` return value. We also see how the various `if` conditions are all influenced by `c`, `tag`, and `quote`."
   ]
  },
  {
   "cell_type": "code",
   "execution_count": 49,
   "metadata": {
    "execution": {
     "iopub.execute_input": "2021-03-05T23:37:12.763290Z",
     "iopub.status.busy": "2021-03-05T23:37:12.762758Z",
     "iopub.status.idle": "2021-03-05T23:37:12.765554Z",
     "shell.execute_reply": "2021-03-05T23:37:12.765105Z"
    },
    "slideshow": {
     "slide_type": "fragment"
    }
   },
   "outputs": [
    {
     "data": {
      "text/html": [
       "\n",
       "    \n",
       "    <script>\n",
       "    var bad_answers = new Map();\n",
       "\n",
       "    function answer(quiz_id) {\n",
       "        ans = 0;\n",
       "        for (i = 1;; i++) {\n",
       "            checkbox = document.getElementById(quiz_id + \"-\" + i.toString());\n",
       "            if (!checkbox)\n",
       "                break;\n",
       "            if (checkbox.checked)\n",
       "                ans |= (1 << i);\n",
       "        }\n",
       "        return ans;\n",
       "    }\n",
       "    function check_selection(quiz_id, correct_answer, multiple_choice, hint) {\n",
       "        given_answer = answer(quiz_id);\n",
       "        if (given_answer == correct_answer)\n",
       "        {\n",
       "            document.getElementById(quiz_id + \"-submit\").value = \"Correct!\";\n",
       "            document.getElementById(quiz_id + \"-hint\").innerHTML = \"\";\n",
       "\n",
       "            for (i = 1;; i++) {\n",
       "                checkbox = document.getElementById(quiz_id + \"-\" + i.toString());\n",
       "                label = document.getElementById(quiz_id + \"-\" + i.toString() + \"-label\")\n",
       "                if (!checkbox)\n",
       "                    break;\n",
       "    \n",
       "                if (checkbox.checked) {\n",
       "                    label.style.fontWeight = \"bold\";\n",
       "                }\n",
       "                else {\n",
       "                    label.style.textDecoration = \"line-through\";\n",
       "                }\n",
       "            }\n",
       "        }\n",
       "        else \n",
       "        {\n",
       "            document.getElementById(quiz_id + \"-submit\").value = \"Try again\";\n",
       "            \n",
       "            if (!bad_answers.has(quiz_id)) {\n",
       "                bad_answers.set(quiz_id, 1);\n",
       "            }\n",
       "            else {\n",
       "                bad_answers.set(quiz_id, bad_answers.get(quiz_id) + 1);\n",
       "            }\n",
       "\n",
       "            if (bad_answers.get(quiz_id) >= 2 && hint.length > 0) {\n",
       "                document.getElementById(quiz_id + \"-hint\").innerHTML = \n",
       "                    \"&nbsp;&nbsp;(Hint: <code>\" + hint + \"</code>)\";\n",
       "            }\n",
       "\n",
       "            if (!multiple_choice) {\n",
       "                for (i = 1;; i++) {\n",
       "                    checkbox = document.getElementById(quiz_id + \"-\" + i.toString());\n",
       "                    label = document.getElementById(quiz_id + \"-\" + i.toString() + \"-label\")\n",
       "\n",
       "                    if (!checkbox)\n",
       "                        break;\n",
       "                    if (checkbox.checked) {\n",
       "                        label.style.textDecoration = \"line-through\";\n",
       "                    }\n",
       "                }\n",
       "            }\n",
       "        }\n",
       "    }\n",
       "    function clear_selection(quiz_id) {\n",
       "        document.getElementById(quiz_id + \"-submit\").value = \"Submit\";\n",
       "        document.getElementById(quiz_id + \"-hint\").innerHTML = \"\";\n",
       "    }\n",
       "    </script>\n",
       "    \n",
       "    <div class=\"quiz\">\n",
       "    <h3 class=\"quiz_title\">Quiz</h3>\n",
       "    <p>\n",
       "    <div class=\"quiz_question\">Why does the first line <code>tag = False</code> not influence anything?</div>\n",
       "    </p>\n",
       "    <p>\n",
       "    <div class=\"quiz_options\" title=\"Pick a choice.\">\n",
       "    \n",
       "        <input type=\"radio\" name=\"b5f77b4c-7e0b-11eb-8163-f218984d6a0c\" id=\"b5f77b4c-7e0b-11eb-8163-f218984d6a0c-1\" onclick=\"clear_selection('b5f77b4c-7e0b-11eb-8163-f218984d6a0c')\">\n",
       "        <label id=\"b5f77b4c-7e0b-11eb-8163-f218984d6a0c-1-label\" for=\"b5f77b4c-7e0b-11eb-8163-f218984d6a0c-1\">Because the input contains only tags</label><br>\n",
       "    \n",
       "        <input type=\"radio\" name=\"b5f77b4c-7e0b-11eb-8163-f218984d6a0c\" id=\"b5f77b4c-7e0b-11eb-8163-f218984d6a0c-2\" onclick=\"clear_selection('b5f77b4c-7e0b-11eb-8163-f218984d6a0c')\">\n",
       "        <label id=\"b5f77b4c-7e0b-11eb-8163-f218984d6a0c-2-label\" for=\"b5f77b4c-7e0b-11eb-8163-f218984d6a0c-2\">Because <code>tag</code> is set to True with the first character</label><br>\n",
       "    \n",
       "        <input type=\"radio\" name=\"b5f77b4c-7e0b-11eb-8163-f218984d6a0c\" id=\"b5f77b4c-7e0b-11eb-8163-f218984d6a0c-3\" onclick=\"clear_selection('b5f77b4c-7e0b-11eb-8163-f218984d6a0c')\">\n",
       "        <label id=\"b5f77b4c-7e0b-11eb-8163-f218984d6a0c-3-label\" for=\"b5f77b4c-7e0b-11eb-8163-f218984d6a0c-3\">Because <code>tag</code> is not read by any variable</label><br>\n",
       "    \n",
       "        <input type=\"radio\" name=\"b5f77b4c-7e0b-11eb-8163-f218984d6a0c\" id=\"b5f77b4c-7e0b-11eb-8163-f218984d6a0c-4\" onclick=\"clear_selection('b5f77b4c-7e0b-11eb-8163-f218984d6a0c')\">\n",
       "        <label id=\"b5f77b4c-7e0b-11eb-8163-f218984d6a0c-4-label\" for=\"b5f77b4c-7e0b-11eb-8163-f218984d6a0c-4\">Because the input contains no tags</label><br>\n",
       "    \n",
       "    </div>\n",
       "    </p>\n",
       "    <input id=\"b5f77b4c-7e0b-11eb-8163-f218984d6a0c-submit\" type=\"submit\" value=\"Submit\" onclick=\"check_selection('b5f77b4c-7e0b-11eb-8163-f218984d6a0c', 4, 0, '(1 &lt;&lt; 1 + 1 &gt;&gt; 1)')\">\n",
       "    <span class=\"quiz_hint\" id=\"b5f77b4c-7e0b-11eb-8163-f218984d6a0c-hint\"></span>\n",
       "    </div>\n",
       "    "
      ],
      "text/plain": [
       "<IPython.core.display.HTML object>"
      ]
     },
     "execution_count": 1,
     "metadata": {},
     "output_type": "execute_result"
    }
   ],
   "source": [
    "quiz(\"Why does the first line `tag = False` not influence anything?\",\n",
    "    [\n",
    "        \"Because the input contains only tags\",\n",
    "        \"Because `tag` is set to True with the first character\",\n",
    "        \"Because `tag` is not read by any variable\",\n",
    "        \"Because the input contains no tags\",\n",
    "    ], '(1 << 1 + 1 >> 1)')"
   ]
  },
  {
   "cell_type": "markdown",
   "metadata": {
    "slideshow": {
     "slide_type": "subslide"
    }
   },
   "source": [
    "Which are the locations that set `tag` to True? To this end, we compute the slice of `tag` at `tag = True`:"
   ]
  },
  {
   "cell_type": "code",
   "execution_count": 50,
   "metadata": {
    "execution": {
     "iopub.execute_input": "2021-03-05T23:37:12.772392Z",
     "iopub.status.busy": "2021-03-05T23:37:12.771794Z",
     "iopub.status.idle": "2021-03-05T23:37:13.407036Z",
     "shell.execute_reply": "2021-03-05T23:37:13.407476Z"
    },
    "slideshow": {
     "slide_type": "subslide"
    }
   },
   "outputs": [
    {
     "data": {
      "image/svg+xml": [
       "<?xml version=\"1.0\" encoding=\"UTF-8\" standalone=\"no\"?>\n",
       "<!DOCTYPE svg PUBLIC \"-//W3C//DTD SVG 1.1//EN\"\n",
       " \"http://www.w3.org/Graphics/SVG/1.1/DTD/svg11.dtd\">\n",
       "<!-- Generated by graphviz version 2.40.1 (20161225.0304)\n",
       " -->\n",
       "<!-- Title: dependencies Pages: 1 -->\n",
       "<svg width=\"239pt\" height=\"352pt\"\n",
       " viewBox=\"0.00 0.00 239.00 352.00\" xmlns=\"http://www.w3.org/2000/svg\" xmlns:xlink=\"http://www.w3.org/1999/xlink\">\n",
       "<g id=\"graph0\" class=\"graph\" transform=\"scale(1 1) rotate(0) translate(4 348)\">\n",
       "<title>dependencies</title>\n",
       "<polygon fill=\"#ffffff\" stroke=\"transparent\" points=\"-4,4 -4,-348 235,-348 235,4 -4,4\"/>\n",
       "<!-- s_functionremove_html_markupat0x7fe1d5de3d90_136 -->\n",
       "<g id=\"node1\" class=\"node\">\n",
       "<title>s_functionremove_html_markupat0x7fe1d5de3d90_136</title>\n",
       "<g id=\"a_node1\"><a xlink:title=\"remove_html_markup:136\">\n",
       "<polygon fill=\"#ffdab9\" stroke=\"#000000\" points=\"183,-344 48,-344 48,-304 183,-304 183,-344\"/>\n",
       "<text text-anchor=\"start\" x=\"111\" y=\"-329.8\" font-family=\"Fira Mono, Courier, monospace\" font-weight=\"bold\" font-size=\"14.00\" fill=\"#000000\">s</text>\n",
       "<text text-anchor=\"start\" x=\"56\" y=\"-310.8\" font-family=\"Fira Mono, Courier, monospace\" font-size=\"9.00\" fill=\"#000000\">&lt;remove_html_markup()&gt;</text>\n",
       "</a>\n",
       "</g>\n",
       "</g>\n",
       "<!-- c_functionremove_html_markupat0x7fe1d5de3d90_141 -->\n",
       "<g id=\"node3\" class=\"node\">\n",
       "<title>c_functionremove_html_markupat0x7fe1d5de3d90_141</title>\n",
       "<g id=\"a_node3\"><a xlink:title=\"remove_html_markup:141\">\n",
       "<polygon fill=\"#ffdab9\" stroke=\"#000000\" points=\"135,-192 0,-192 0,-152 135,-152 135,-192\"/>\n",
       "<text text-anchor=\"start\" x=\"63\" y=\"-177.8\" font-family=\"Fira Mono, Courier, monospace\" font-weight=\"bold\" font-size=\"14.00\" fill=\"#000000\">c</text>\n",
       "<text text-anchor=\"start\" x=\"8\" y=\"-158.8\" font-family=\"Fira Mono, Courier, monospace\" font-size=\"9.00\" fill=\"#000000\">&lt;remove_html_markup()&gt;</text>\n",
       "</a>\n",
       "</g>\n",
       "</g>\n",
       "<!-- s_functionremove_html_markupat0x7fe1d5de3d90_136&#45;&gt;c_functionremove_html_markupat0x7fe1d5de3d90_141 -->\n",
       "<g id=\"edge4\" class=\"edge\">\n",
       "<title>s_functionremove_html_markupat0x7fe1d5de3d90_136&#45;&gt;c_functionremove_html_markupat0x7fe1d5de3d90_141</title>\n",
       "<path fill=\"none\" stroke=\"#000000\" d=\"M103.3165,-303.878C97.4827,-293.4806 90.8394,-280.4009 86.5,-268 79.019,-246.6214 74.177,-221.4751 71.2542,-202.2828\"/>\n",
       "<polygon fill=\"#000000\" stroke=\"#000000\" points=\"74.7062,-201.6972 69.8233,-192.2947 67.7769,-202.69 74.7062,-201.6972\"/>\n",
       "</g>\n",
       "<!-- quote_functionremove_html_markupat0x7fe1d5de3d90_138 -->\n",
       "<g id=\"node4\" class=\"node\">\n",
       "<title>quote_functionremove_html_markupat0x7fe1d5de3d90_138</title>\n",
       "<g id=\"a_node4\"><a xlink:title=\"remove_html_markup:138\">\n",
       "<polygon fill=\"#ffdab9\" stroke=\"#000000\" points=\"231,-268 96,-268 96,-228 231,-228 231,-268\"/>\n",
       "<text text-anchor=\"start\" x=\"142\" y=\"-253.8\" font-family=\"Fira Mono, Courier, monospace\" font-weight=\"bold\" font-size=\"14.00\" fill=\"#000000\">quote</text>\n",
       "<text text-anchor=\"start\" x=\"104\" y=\"-234.8\" font-family=\"Fira Mono, Courier, monospace\" font-size=\"9.00\" fill=\"#000000\">&lt;remove_html_markup()&gt;</text>\n",
       "</a>\n",
       "</g>\n",
       "</g>\n",
       "<!-- s_functionremove_html_markupat0x7fe1d5de3d90_136&#45;&gt;quote_functionremove_html_markupat0x7fe1d5de3d90_138 -->\n",
       "<!-- test_functionremove_html_markupat0x7fe1d5de3d90_144 -->\n",
       "<g id=\"node2\" class=\"node\">\n",
       "<title>test_functionremove_html_markupat0x7fe1d5de3d90_144</title>\n",
       "<g id=\"a_node2\"><a xlink:title=\"remove_html_markup:144\">\n",
       "<polygon fill=\"#ffdab9\" stroke=\"#000000\" points=\"135,-116 0,-116 0,-76 135,-76 135,-116\"/>\n",
       "<text text-anchor=\"start\" x=\"42\" y=\"-101.8\" font-family=\"Fira Mono, Courier, monospace\" font-weight=\"bold\" font-style=\"italic\" font-size=\"14.00\" fill=\"#000000\">&lt;test&gt;</text>\n",
       "<text text-anchor=\"start\" x=\"8\" y=\"-82.8\" font-family=\"Fira Mono, Courier, monospace\" font-size=\"9.00\" fill=\"#000000\">&lt;remove_html_markup()&gt;</text>\n",
       "</a>\n",
       "</g>\n",
       "</g>\n",
       "<!-- tag_functionremove_html_markupat0x7fe1d5de3d90_145 -->\n",
       "<g id=\"node5\" class=\"node\">\n",
       "<title>tag_functionremove_html_markupat0x7fe1d5de3d90_145</title>\n",
       "<g id=\"a_node5\"><a xlink:title=\"remove_html_markup:145\">\n",
       "<polygon fill=\"#ffdab9\" stroke=\"#000000\" points=\"135,-40 0,-40 0,0 135,0 135,-40\"/>\n",
       "<text text-anchor=\"start\" x=\"54.5\" y=\"-25.8\" font-family=\"Fira Mono, Courier, monospace\" font-weight=\"bold\" font-size=\"14.00\" fill=\"#000000\">tag</text>\n",
       "<text text-anchor=\"start\" x=\"8\" y=\"-6.8\" font-family=\"Fira Mono, Courier, monospace\" font-size=\"9.00\" fill=\"#000000\">&lt;remove_html_markup()&gt;</text>\n",
       "</a>\n",
       "</g>\n",
       "</g>\n",
       "<!-- test_functionremove_html_markupat0x7fe1d5de3d90_144&#45;&gt;tag_functionremove_html_markupat0x7fe1d5de3d90_145 -->\n",
       "<g id=\"edge3\" class=\"edge\">\n",
       "<title>test_functionremove_html_markupat0x7fe1d5de3d90_144&#45;&gt;tag_functionremove_html_markupat0x7fe1d5de3d90_145</title>\n",
       "<path fill=\"none\" stroke=\"#c0c0c0\" stroke-dasharray=\"5,2\" d=\"M61.4426,-75.6334C60.7819,-67.8186 60.5939,-58.7253 60.8786,-50.183\"/>\n",
       "<polygon fill=\"#c0c0c0\" stroke=\"#c0c0c0\" points=\"64.375,-50.3453 61.4602,-40.1593 57.3867,-49.9397 64.375,-50.3453\"/>\n",
       "</g>\n",
       "<!-- test_functionremove_html_markupat0x7fe1d5de3d90_144&#45;&gt;tag_functionremove_html_markupat0x7fe1d5de3d90_145 -->\n",
       "<!-- c_functionremove_html_markupat0x7fe1d5de3d90_141&#45;&gt;test_functionremove_html_markupat0x7fe1d5de3d90_144 -->\n",
       "<g id=\"edge1\" class=\"edge\">\n",
       "<title>c_functionremove_html_markupat0x7fe1d5de3d90_141&#45;&gt;test_functionremove_html_markupat0x7fe1d5de3d90_144</title>\n",
       "<path fill=\"none\" stroke=\"#000000\" d=\"M61.4426,-151.6334C60.7819,-143.8186 60.5939,-134.7253 60.8786,-126.183\"/>\n",
       "<polygon fill=\"#000000\" stroke=\"#000000\" points=\"64.375,-126.3453 61.4602,-116.1593 57.3867,-125.9397 64.375,-126.3453\"/>\n",
       "</g>\n",
       "<!-- c_functionremove_html_markupat0x7fe1d5de3d90_141&#45;&gt;test_functionremove_html_markupat0x7fe1d5de3d90_144 -->\n",
       "<!-- quote_functionremove_html_markupat0x7fe1d5de3d90_138&#45;&gt;test_functionremove_html_markupat0x7fe1d5de3d90_144 -->\n",
       "<g id=\"edge2\" class=\"edge\">\n",
       "<title>quote_functionremove_html_markupat0x7fe1d5de3d90_138&#45;&gt;test_functionremove_html_markupat0x7fe1d5de3d90_144</title>\n",
       "<path fill=\"none\" stroke=\"#000000\" d=\"M163.3977,-227.6811C162.3982,-207.0906 158.3045,-175.0674 143.5,-152 136.0226,-140.3491 125.2054,-130.29 114.0665,-122.0407\"/>\n",
       "<polygon fill=\"#000000\" stroke=\"#000000\" points=\"115.7396,-118.9404 105.5357,-116.0888 111.7342,-124.6812 115.7396,-118.9404\"/>\n",
       "</g>\n",
       "<!-- quote_functionremove_html_markupat0x7fe1d5de3d90_138&#45;&gt;c_functionremove_html_markupat0x7fe1d5de3d90_141 -->\n",
       "</g>\n",
       "</svg>\n"
      ],
      "text/plain": [
       "Dependencies(\n",
       "    data={\n",
       "        ('tag', (remove_html_markup, 145)): set(),\n",
       "        ('<test>', (remove_html_markup, 144)): {('c', (remove_html_markup, 141)), ('quote', (remove_html_markup, 138))},\n",
       "        ('quote', (remove_html_markup, 138)): set(),\n",
       "        ('c', (remove_html_markup, 141)): {('s', (remove_html_markup, 136))},\n",
       "        ('s', (remove_html_markup, 136)): set()},\n",
       " control={\n",
       "        ('tag', (remove_html_markup, 145)): {('<test>', (remove_html_markup, 144))},\n",
       "        ('<test>', (remove_html_markup, 144)): set(),\n",
       "        ('quote', (remove_html_markup, 138)): set(),\n",
       "        ('c', (remove_html_markup, 141)): set(),\n",
       "        ('s', (remove_html_markup, 136)): set()})"
      ]
     },
     "execution_count": 1,
     "metadata": {},
     "output_type": "execute_result"
    }
   ],
   "source": [
    "# ignore\n",
    "tag_deps = Dependencies({('tag', (remove_html_markup, 145)): set(), ('<test>', (remove_html_markup, 144)): {('quote', (remove_html_markup, 138)), ('c', (remove_html_markup, 141))}, ('quote', (remove_html_markup, 138)): set(), ('c', (remove_html_markup, 141)): {('s', (remove_html_markup, 136))}, ('s', (remove_html_markup, 136)): set()}, {('tag', (remove_html_markup, 145)): {('<test>', (remove_html_markup, 144))}, ('<test>', (remove_html_markup, 144)): set(), ('quote', (remove_html_markup, 138)): set(), ('c', (remove_html_markup, 141)): set(), ('s', (remove_html_markup, 136)): set()})\n",
    "tag_deps"
   ]
  },
  {
   "cell_type": "markdown",
   "metadata": {
    "slideshow": {
     "slide_type": "subslide"
    }
   },
   "source": [
    "We see where the value of `tag` comes from: from the characters `c` in `s` as well as `quote`, which all cause it to be set. Again, we can combine these dependencies and the listing in a single, compact view. Note, again, that there are no other locations in the code that could possibly have affected `tag` in our run."
   ]
  },
  {
   "cell_type": "code",
   "execution_count": 51,
   "metadata": {
    "execution": {
     "iopub.execute_input": "2021-03-05T23:37:13.431146Z",
     "iopub.status.busy": "2021-03-05T23:37:13.410204Z",
     "iopub.status.idle": "2021-03-05T23:37:13.472139Z",
     "shell.execute_reply": "2021-03-05T23:37:13.472526Z"
    },
    "slideshow": {
     "slide_type": "subslide"
    }
   },
   "outputs": [
    {
     "name": "stdout",
     "output_type": "stream",
     "text": [
      "   238 \u001b[34mdef\u001b[39;49;00m \u001b[32mremove_html_markup\u001b[39;49;00m(s):  \u001b[37m# type: ignore\u001b[39;49;00m\n",
      "   239     tag = \u001b[34mFalse\u001b[39;49;00m\n",
      "   240     quote = \u001b[34mFalse\u001b[39;49;00m\n",
      "   241     out = \u001b[33m\"\u001b[39;49;00m\u001b[33m\"\u001b[39;49;00m\n",
      "   242 \n",
      "   243     \u001b[34mfor\u001b[39;49;00m c \u001b[35min\u001b[39;49;00m s:\n",
      "   244         \u001b[34massert\u001b[39;49;00m tag \u001b[35mor\u001b[39;49;00m \u001b[35mnot\u001b[39;49;00m quote\n",
      "   245 \n",
      "   246         \u001b[34mif\u001b[39;49;00m c == \u001b[33m'\u001b[39;49;00m\u001b[33m<\u001b[39;49;00m\u001b[33m'\u001b[39;49;00m \u001b[35mand\u001b[39;49;00m \u001b[35mnot\u001b[39;49;00m quote:\n",
      "   247             tag = \u001b[34mTrue\u001b[39;49;00m\n",
      "   248         \u001b[34melif\u001b[39;49;00m c == \u001b[33m'\u001b[39;49;00m\u001b[33m>\u001b[39;49;00m\u001b[33m'\u001b[39;49;00m \u001b[35mand\u001b[39;49;00m \u001b[35mnot\u001b[39;49;00m quote:\n",
      "   249             tag = \u001b[34mFalse\u001b[39;49;00m\n",
      "   250         \u001b[34melif\u001b[39;49;00m (c == \u001b[33m'\u001b[39;49;00m\u001b[33m\"\u001b[39;49;00m\u001b[33m'\u001b[39;49;00m \u001b[35mor\u001b[39;49;00m c == \u001b[33m\"\u001b[39;49;00m\u001b[33m'\u001b[39;49;00m\u001b[33m\"\u001b[39;49;00m) \u001b[35mand\u001b[39;49;00m tag:\n",
      "   251             quote = \u001b[35mnot\u001b[39;49;00m quote\n",
      "   252         \u001b[34melif\u001b[39;49;00m \u001b[35mnot\u001b[39;49;00m tag:\n",
      "   253             out = out + c\n",
      "   254 \n",
      "   255     \u001b[34mreturn\u001b[39;49;00m out\n"
     ]
    }
   ],
   "source": [
    "# ignore\n",
    "tag_deps.code()"
   ]
  },
  {
   "cell_type": "code",
   "execution_count": 52,
   "metadata": {
    "execution": {
     "iopub.execute_input": "2021-03-05T23:37:13.478653Z",
     "iopub.status.busy": "2021-03-05T23:37:13.477973Z",
     "iopub.status.idle": "2021-03-05T23:37:13.480259Z",
     "shell.execute_reply": "2021-03-05T23:37:13.480774Z"
    },
    "slideshow": {
     "slide_type": "subslide"
    }
   },
   "outputs": [
    {
     "data": {
      "text/html": [
       "\n",
       "    \n",
       "    <script>\n",
       "    var bad_answers = new Map();\n",
       "\n",
       "    function answer(quiz_id) {\n",
       "        ans = 0;\n",
       "        for (i = 1;; i++) {\n",
       "            checkbox = document.getElementById(quiz_id + \"-\" + i.toString());\n",
       "            if (!checkbox)\n",
       "                break;\n",
       "            if (checkbox.checked)\n",
       "                ans |= (1 << i);\n",
       "        }\n",
       "        return ans;\n",
       "    }\n",
       "    function check_selection(quiz_id, correct_answer, multiple_choice, hint) {\n",
       "        given_answer = answer(quiz_id);\n",
       "        if (given_answer == correct_answer)\n",
       "        {\n",
       "            document.getElementById(quiz_id + \"-submit\").value = \"Correct!\";\n",
       "            document.getElementById(quiz_id + \"-hint\").innerHTML = \"\";\n",
       "\n",
       "            for (i = 1;; i++) {\n",
       "                checkbox = document.getElementById(quiz_id + \"-\" + i.toString());\n",
       "                label = document.getElementById(quiz_id + \"-\" + i.toString() + \"-label\")\n",
       "                if (!checkbox)\n",
       "                    break;\n",
       "    \n",
       "                if (checkbox.checked) {\n",
       "                    label.style.fontWeight = \"bold\";\n",
       "                }\n",
       "                else {\n",
       "                    label.style.textDecoration = \"line-through\";\n",
       "                }\n",
       "            }\n",
       "        }\n",
       "        else \n",
       "        {\n",
       "            document.getElementById(quiz_id + \"-submit\").value = \"Try again\";\n",
       "            \n",
       "            if (!bad_answers.has(quiz_id)) {\n",
       "                bad_answers.set(quiz_id, 1);\n",
       "            }\n",
       "            else {\n",
       "                bad_answers.set(quiz_id, bad_answers.get(quiz_id) + 1);\n",
       "            }\n",
       "\n",
       "            if (bad_answers.get(quiz_id) >= 2 && hint.length > 0) {\n",
       "                document.getElementById(quiz_id + \"-hint\").innerHTML = \n",
       "                    \"&nbsp;&nbsp;(Hint: <code>\" + hint + \"</code>)\";\n",
       "            }\n",
       "\n",
       "            if (!multiple_choice) {\n",
       "                for (i = 1;; i++) {\n",
       "                    checkbox = document.getElementById(quiz_id + \"-\" + i.toString());\n",
       "                    label = document.getElementById(quiz_id + \"-\" + i.toString() + \"-label\")\n",
       "\n",
       "                    if (!checkbox)\n",
       "                        break;\n",
       "                    if (checkbox.checked) {\n",
       "                        label.style.textDecoration = \"line-through\";\n",
       "                    }\n",
       "                }\n",
       "            }\n",
       "        }\n",
       "    }\n",
       "    function clear_selection(quiz_id) {\n",
       "        document.getElementById(quiz_id + \"-submit\").value = \"Submit\";\n",
       "        document.getElementById(quiz_id + \"-hint\").innerHTML = \"\";\n",
       "    }\n",
       "    </script>\n",
       "    \n",
       "    <div class=\"quiz\">\n",
       "    <h3 class=\"quiz_title\">Quiz</h3>\n",
       "    <p>\n",
       "    <div class=\"quiz_question\">How does the slice of <code>tag = True</code> change for a different value of <code>s</code>?</div>\n",
       "    </p>\n",
       "    <p>\n",
       "    <div class=\"quiz_options\" title=\"Check all that apply.\">\n",
       "    \n",
       "        <input type=\"checkbox\" name=\"b66501c6-7e0b-11eb-9732-f218984d6a0c\" id=\"b66501c6-7e0b-11eb-9732-f218984d6a0c-1\" onclick=\"clear_selection('b66501c6-7e0b-11eb-9732-f218984d6a0c')\">\n",
       "        <label id=\"b66501c6-7e0b-11eb-9732-f218984d6a0c-1-label\" for=\"b66501c6-7e0b-11eb-9732-f218984d6a0c-1\">Not at all</label><br>\n",
       "    \n",
       "        <input type=\"checkbox\" name=\"b66501c6-7e0b-11eb-9732-f218984d6a0c\" id=\"b66501c6-7e0b-11eb-9732-f218984d6a0c-2\" onclick=\"clear_selection('b66501c6-7e0b-11eb-9732-f218984d6a0c')\">\n",
       "        <label id=\"b66501c6-7e0b-11eb-9732-f218984d6a0c-2-label\" for=\"b66501c6-7e0b-11eb-9732-f218984d6a0c-2\">If <code>s</code> contains a quote, the <code>quote</code> slice is included, too</label><br>\n",
       "    \n",
       "        <input type=\"checkbox\" name=\"b66501c6-7e0b-11eb-9732-f218984d6a0c\" id=\"b66501c6-7e0b-11eb-9732-f218984d6a0c-3\" onclick=\"clear_selection('b66501c6-7e0b-11eb-9732-f218984d6a0c')\">\n",
       "        <label id=\"b66501c6-7e0b-11eb-9732-f218984d6a0c-3-label\" for=\"b66501c6-7e0b-11eb-9732-f218984d6a0c-3\">If <code>s</code> contains no HTML tag, the slice will be empty</label><br>\n",
       "    \n",
       "    </div>\n",
       "    </p>\n",
       "    <input id=\"b66501c6-7e0b-11eb-9732-f218984d6a0c-submit\" type=\"submit\" value=\"Submit\" onclick=\"check_selection('b66501c6-7e0b-11eb-9732-f218984d6a0c', 12, 1, '[1, 2, 3][1:]')\">\n",
       "    <span class=\"quiz_hint\" id=\"b66501c6-7e0b-11eb-9732-f218984d6a0c-hint\"></span>\n",
       "    </div>\n",
       "    "
      ],
      "text/plain": [
       "<IPython.core.display.HTML object>"
      ]
     },
     "execution_count": 1,
     "metadata": {},
     "output_type": "execute_result"
    }
   ],
   "source": [
    "quiz(\"How does the slice of `tag = True` change \"\n",
    "     \"for a different value of `s`?\",\n",
    "    [\n",
    "        \"Not at all\",\n",
    "        \"If `s` contains a quote, the `quote` slice is included, too\",\n",
    "        \"If `s` contains no HTML tag, the slice will be empty\"\n",
    "    ], '[1, 2, 3][1:]')"
   ]
  },
  {
   "cell_type": "markdown",
   "metadata": {
    "slideshow": {
     "slide_type": "fragment"
    }
   },
   "source": [
    "Indeed, our dynamic slices reflect dependencies as they occurred within a single execution. As the execution changes, so do the dependencies."
   ]
  },
  {
   "cell_type": "markdown",
   "metadata": {
    "slideshow": {
     "slide_type": "slide"
    }
   },
   "source": [
    "## Tracking Techniques\n",
    "\n",
    "For the remainder of this chapter, let us investigate means to _determine such dependencies_ automatically – by _collecting_ them during program execution. The idea is that with a single Python call, we can collect the dependencies for some computation, and present them to programmers – as graphs or as code annotations, as shown above."
   ]
  },
  {
   "cell_type": "markdown",
   "metadata": {
    "slideshow": {
     "slide_type": "fragment"
    }
   },
   "source": [
    "To track dependencies, for every variable, we need to keep track of its _origins_ – where it obtained its value, and which tests controlled its assignments. There are two ways to do so:\n",
    "\n",
    "* Wrapping Data Objects\n",
    "* Wrapping Data Accesses"
   ]
  },
  {
   "cell_type": "markdown",
   "metadata": {
    "slideshow": {
     "slide_type": "subslide"
    }
   },
   "source": [
    "### Wrapping Data Objects"
   ]
  },
  {
   "cell_type": "markdown",
   "metadata": {
    "slideshow": {
     "slide_type": "subslide"
    }
   },
   "source": [
    "One way to track origins is to _wrap_ each value in a class that stores both a value and the origin of the value. If a variable `x` is initialized to zero in Line 3, for instance, we could store it as\n",
    "```\n",
    "x = (value=0, origin=<Line 3>)\n",
    "```\n",
    "and if it is copied in, say, Line 5 to another variable `y`, we could store this as\n",
    "```\n",
    "y = (value=0, origin=<Line 3, Line 5>)\n",
    "```\n",
    "Such a scheme would allow us to track origins and dependencies right within the variable."
   ]
  },
  {
   "cell_type": "markdown",
   "metadata": {
    "slideshow": {
     "slide_type": "subslide"
    }
   },
   "source": [
    "In a language like Python, it is actually possibly to subclass from basic types. Here's how we create a `MyInt` subclass of `int`:"
   ]
  },
  {
   "cell_type": "code",
   "execution_count": 53,
   "metadata": {
    "execution": {
     "iopub.execute_input": "2021-03-05T23:37:13.485328Z",
     "iopub.status.busy": "2021-03-05T23:37:13.484788Z",
     "iopub.status.idle": "2021-03-05T23:37:13.486319Z",
     "shell.execute_reply": "2021-03-05T23:37:13.486689Z"
    },
    "slideshow": {
     "slide_type": "fragment"
    }
   },
   "outputs": [],
   "source": [
    "class MyInt(int):\n",
    "    def __new__(cls: Type, value: Any, *args: Any, **kwargs: Any) -> Any:\n",
    "        return super(cls, cls).__new__(cls, value)\n",
    "\n",
    "    def __repr__(self) -> str:\n",
    "        return f\"{int(self)}\""
   ]
  },
  {
   "cell_type": "code",
   "execution_count": 54,
   "metadata": {
    "execution": {
     "iopub.execute_input": "2021-03-05T23:37:13.489778Z",
     "iopub.status.busy": "2021-03-05T23:37:13.489224Z",
     "iopub.status.idle": "2021-03-05T23:37:13.490940Z",
     "shell.execute_reply": "2021-03-05T23:37:13.491307Z"
    },
    "slideshow": {
     "slide_type": "fragment"
    }
   },
   "outputs": [],
   "source": [
    "n: MyInt = MyInt(5)"
   ]
  },
  {
   "cell_type": "markdown",
   "metadata": {
    "slideshow": {
     "slide_type": "fragment"
    }
   },
   "source": [
    "We can access `n` just like any integer:"
   ]
  },
  {
   "cell_type": "code",
   "execution_count": 55,
   "metadata": {
    "execution": {
     "iopub.execute_input": "2021-03-05T23:37:13.494344Z",
     "iopub.status.busy": "2021-03-05T23:37:13.493828Z",
     "iopub.status.idle": "2021-03-05T23:37:13.495764Z",
     "shell.execute_reply": "2021-03-05T23:37:13.496130Z"
    },
    "slideshow": {
     "slide_type": "fragment"
    }
   },
   "outputs": [
    {
     "data": {
      "text/plain": [
       "(5, 6)"
      ]
     },
     "execution_count": 1,
     "metadata": {},
     "output_type": "execute_result"
    }
   ],
   "source": [
    "n, n + 1"
   ]
  },
  {
   "cell_type": "markdown",
   "metadata": {
    "slideshow": {
     "slide_type": "fragment"
    }
   },
   "source": [
    "However, we can also add extra attributes to it:"
   ]
  },
  {
   "cell_type": "code",
   "execution_count": 56,
   "metadata": {
    "execution": {
     "iopub.execute_input": "2021-03-05T23:37:13.499137Z",
     "iopub.status.busy": "2021-03-05T23:37:13.498622Z",
     "iopub.status.idle": "2021-03-05T23:37:13.500147Z",
     "shell.execute_reply": "2021-03-05T23:37:13.500513Z"
    },
    "slideshow": {
     "slide_type": "fragment"
    }
   },
   "outputs": [],
   "source": [
    "n.origin = \"Line 5\"  # type: ignore"
   ]
  },
  {
   "cell_type": "code",
   "execution_count": 57,
   "metadata": {
    "execution": {
     "iopub.execute_input": "2021-03-05T23:37:13.503490Z",
     "iopub.status.busy": "2021-03-05T23:37:13.502949Z",
     "iopub.status.idle": "2021-03-05T23:37:13.505452Z",
     "shell.execute_reply": "2021-03-05T23:37:13.504991Z"
    },
    "slideshow": {
     "slide_type": "subslide"
    }
   },
   "outputs": [
    {
     "data": {
      "text/plain": [
       "'Line 5'"
      ]
     },
     "execution_count": 1,
     "metadata": {},
     "output_type": "execute_result"
    }
   ],
   "source": [
    "n.origin  # type: ignore"
   ]
  },
  {
   "cell_type": "markdown",
   "metadata": {
    "slideshow": {
     "slide_type": "subslide"
    }
   },
   "source": [
    "Such a \"wrapping\" scheme has the advantage of _leaving program code untouched_ – simply pass \"wrapped\" objects instead of the original values. However, it also has a number of drawbacks.\n",
    "\n",
    "* First, we must make sure that the \"wrapper\" objects are still compatible with the original values – notably by converting them back whenever needed. (What happens if an internal Python function expects an `int` and gets a `MyInt` instead?)\n",
    "* Second, we have to make sure that origins do not get lost during computations – which involves overloading operators such as `+`, `-`, `*`, and so on. (Right now, `MyInt(1) + 1` gives us an `int` object, not a `MyInt`.)\n",
    "* Third, we have to do this for _all_ data types of a language, which is pretty tedious.\n",
    "* Fourth and last, however, we want to track whenever a value is assigned to another variable. Python has no support for this, and thus our dependencies will necessarily be incomplete."
   ]
  },
  {
   "cell_type": "markdown",
   "metadata": {
    "slideshow": {
     "slide_type": "subslide"
    }
   },
   "source": [
    "### Wrapping Data Accesses"
   ]
  },
  {
   "cell_type": "markdown",
   "metadata": {
    "slideshow": {
     "slide_type": "subslide"
    }
   },
   "source": [
    "An alternate way of tracking origins is to _instrument_ the source code such that all _data read and write operations are tracked_. That is, the original data stays unchanged, but we change the code instead.\n",
    "\n",
    "In essence, for every occurrence of a variable `x` being _read_, we replace it with\n",
    "\n",
    "```python\n",
    "_data.get('x', x)  # returns x\n",
    "```\n",
    "\n",
    "and for every occurrence of a value being _written_ to `x`, we replace the value with\n",
    "\n",
    "```python\n",
    "_data.set('x', value)  # returns value\n",
    "```\n",
    "\n",
    "and let the `_data` object track these reads and writes.\n",
    "\n",
    "Hence, an assignment such as \n",
    "\n",
    "```python\n",
    "a = b + c\n",
    "```\n",
    "\n",
    "would get rewritten to\n",
    "\n",
    "```python\n",
    "a = _data.set('a', _data.get('b', b) + _data.get('c', c))\n",
    "```\n",
    "\n",
    "and with every access to `_data`, we would track \n",
    "\n",
    "1. the current _location_ in the code, and \n",
    "2. whether the respective variable was read or written.\n",
    "\n",
    "For the above statement, we could deduce that `b` and `c` were read, and `a` was written – which makes `a` data dependent on `b` and `c`."
   ]
  },
  {
   "cell_type": "markdown",
   "metadata": {
    "slideshow": {
     "slide_type": "subslide"
    }
   },
   "source": [
    "The advantage of such instrumentation is that it works with _arbitrary objects_ (in Python, that is) – we do not case whether `a`, `b`, and `c` would be integers, floats, strings, lists. or any other type for which `+` would be defined. Also, the code semantics remain entirely unchanged.\n",
    "\n",
    "The disadvantage, however, is that it takes a bit of effort to exactly separate reads and writes into individual groups, and that a number of language features have to be handled separately. This is what we do in the remainder of this chapter."
   ]
  },
  {
   "cell_type": "markdown",
   "metadata": {
    "slideshow": {
     "slide_type": "slide"
    }
   },
   "source": [
    "## A Data Tracker\n",
    "\n",
    "To implement `_data` accesses as shown above, we introduce the `DataTracker` class. As its name suggests, it keeps track of variables being read and written, and provides methods to determine the code location where this tool place."
   ]
  },
  {
   "cell_type": "code",
   "execution_count": 58,
   "metadata": {
    "execution": {
     "iopub.execute_input": "2021-03-05T23:37:13.509575Z",
     "iopub.status.busy": "2021-03-05T23:37:13.508997Z",
     "iopub.status.idle": "2021-03-05T23:37:13.510770Z",
     "shell.execute_reply": "2021-03-05T23:37:13.511140Z"
    },
    "slideshow": {
     "slide_type": "fragment"
    }
   },
   "outputs": [],
   "source": [
    "class DataTracker(StackInspector):\n",
    "    \"\"\"Track data accesses during execution\"\"\"\n",
    "\n",
    "    def __init__(self, log: bool = False) -> None:\n",
    "        \"\"\"Constructor. If `log` is set, turn on logging.\"\"\"\n",
    "        self.log = log"
   ]
  },
  {
   "cell_type": "markdown",
   "metadata": {
    "slideshow": {
     "slide_type": "subslide"
    }
   },
   "source": [
    "`set()` is invoked when a variable is set, as in\n",
    "\n",
    "```python\n",
    "pi = _data.set('pi', 3.1415)\n",
    "```\n",
    "\n",
    "By default, we simply log the access using name and value. (`loads` will be used later.)"
   ]
  },
  {
   "cell_type": "code",
   "execution_count": 59,
   "metadata": {
    "execution": {
     "iopub.execute_input": "2021-03-05T23:37:13.515317Z",
     "iopub.status.busy": "2021-03-05T23:37:13.514784Z",
     "iopub.status.idle": "2021-03-05T23:37:13.516421Z",
     "shell.execute_reply": "2021-03-05T23:37:13.516794Z"
    },
    "slideshow": {
     "slide_type": "subslide"
    }
   },
   "outputs": [],
   "source": [
    "class DataTracker(DataTracker):\n",
    "    def set(self, name: str, value: Any, loads: Optional[Set[str]] = None) -> Any:\n",
    "        \"\"\"Track setting `name` to `value`.\"\"\"\n",
    "        if self.log:\n",
    "            caller_func, lineno = self.caller_location()\n",
    "            print(f\"{caller_func.__name__}:{lineno}: setting {name}\")\n",
    "\n",
    "        return value"
   ]
  },
  {
   "cell_type": "markdown",
   "metadata": {
    "slideshow": {
     "slide_type": "fragment"
    }
   },
   "source": [
    "`get()` is invoked when a variable is retrieved, as in\n",
    "\n",
    "```python\n",
    "print(_data.get('pi', pi))\n",
    "```\n",
    "By default, we simply log the access."
   ]
  },
  {
   "cell_type": "code",
   "execution_count": 60,
   "metadata": {
    "execution": {
     "iopub.execute_input": "2021-03-05T23:37:13.520690Z",
     "iopub.status.busy": "2021-03-05T23:37:13.520109Z",
     "iopub.status.idle": "2021-03-05T23:37:13.521741Z",
     "shell.execute_reply": "2021-03-05T23:37:13.522114Z"
    },
    "slideshow": {
     "slide_type": "subslide"
    }
   },
   "outputs": [],
   "source": [
    "class DataTracker(DataTracker):\n",
    "    def get(self, name: str, value: Any) -> Any:\n",
    "        \"\"\"Track getting `value` from `name`.\"\"\"\n",
    "\n",
    "        if self.log:\n",
    "            caller_func, lineno = self.caller_location()\n",
    "            print(f\"{caller_func.__name__}:{lineno}: getting {name}\")\n",
    "\n",
    "        return value"
   ]
  },
  {
   "cell_type": "markdown",
   "metadata": {
    "slideshow": {
     "slide_type": "fragment"
    }
   },
   "source": [
    "Here's an example of a logging `DataTracker`:"
   ]
  },
  {
   "cell_type": "code",
   "execution_count": 61,
   "metadata": {
    "execution": {
     "iopub.execute_input": "2021-03-05T23:37:13.525408Z",
     "iopub.status.busy": "2021-03-05T23:37:13.524888Z",
     "iopub.status.idle": "2021-03-05T23:37:13.526691Z",
     "shell.execute_reply": "2021-03-05T23:37:13.527103Z"
    },
    "slideshow": {
     "slide_type": "fragment"
    }
   },
   "outputs": [
    {
     "name": "stdout",
     "output_type": "stream",
     "text": [
      "<module>:2: setting x\n"
     ]
    }
   ],
   "source": [
    "_test_data = DataTracker(log=True)\n",
    "x = _test_data.set('x', 1)"
   ]
  },
  {
   "cell_type": "code",
   "execution_count": 62,
   "metadata": {
    "execution": {
     "iopub.execute_input": "2021-03-05T23:37:13.530476Z",
     "iopub.status.busy": "2021-03-05T23:37:13.529882Z",
     "iopub.status.idle": "2021-03-05T23:37:13.532526Z",
     "shell.execute_reply": "2021-03-05T23:37:13.532903Z"
    },
    "slideshow": {
     "slide_type": "subslide"
    }
   },
   "outputs": [
    {
     "name": "stdout",
     "output_type": "stream",
     "text": [
      "<module>:1: getting x\n"
     ]
    },
    {
     "data": {
      "text/plain": [
       "1"
      ]
     },
     "execution_count": 1,
     "metadata": {},
     "output_type": "execute_result"
    }
   ],
   "source": [
    "_test_data.get('x', x)"
   ]
  },
  {
   "cell_type": "markdown",
   "metadata": {
    "slideshow": {
     "slide_type": "slide"
    }
   },
   "source": [
    "## Instrumenting Source Code\n",
    "\n",
    "How do we transform source code such that read and write accesses to variables would be automatically rewritten?  To this end, we inspect the internal representation of source code, namely the _abstract syntax trees_ (ASTs). An AST represents the code as a tree, with specific node types for each syntactical element."
   ]
  },
  {
   "cell_type": "code",
   "execution_count": 63,
   "metadata": {
    "execution": {
     "iopub.execute_input": "2021-03-05T23:37:13.535975Z",
     "iopub.status.busy": "2021-03-05T23:37:13.535452Z",
     "iopub.status.idle": "2021-03-05T23:37:13.537050Z",
     "shell.execute_reply": "2021-03-05T23:37:13.537421Z"
    },
    "slideshow": {
     "slide_type": "skip"
    }
   },
   "outputs": [],
   "source": [
    "import ast\n",
    "import astor"
   ]
  },
  {
   "cell_type": "code",
   "execution_count": 64,
   "metadata": {
    "execution": {
     "iopub.execute_input": "2021-03-05T23:37:13.540301Z",
     "iopub.status.busy": "2021-03-05T23:37:13.539788Z",
     "iopub.status.idle": "2021-03-05T23:37:13.541319Z",
     "shell.execute_reply": "2021-03-05T23:37:13.541685Z"
    },
    "slideshow": {
     "slide_type": "skip"
    }
   },
   "outputs": [],
   "source": [
    "from bookutils import show_ast"
   ]
  },
  {
   "cell_type": "markdown",
   "metadata": {
    "slideshow": {
     "slide_type": "fragment"
    }
   },
   "source": [
    "Here is the tree representation for our `middle()` function. It starts with a `FunctionDef` node at the top (with the name `\"middle\"` and the three arguments `x`, `y`, `z` as children), followed by a subtree for each of the `If` statements, each of which contains a branch for when their condition evaluates to`True` and a branch for when their condition evaluates to `False`."
   ]
  },
  {
   "cell_type": "code",
   "execution_count": 65,
   "metadata": {
    "execution": {
     "iopub.execute_input": "2021-03-05T23:37:13.544645Z",
     "iopub.status.busy": "2021-03-05T23:37:13.544088Z",
     "iopub.status.idle": "2021-03-05T23:37:14.220094Z",
     "shell.execute_reply": "2021-03-05T23:37:14.220692Z"
    },
    "slideshow": {
     "slide_type": "subslide"
    }
   },
   "outputs": [
    {
     "data": {
      "image/svg+xml": [
       "<svg height=\"476pt\" viewBox=\"0.00 0.00 1862.00 476.00\" width=\"1862pt\" xmlns=\"http://www.w3.org/2000/svg\" xmlns:xlink=\"http://www.w3.org/1999/xlink\">\n",
       "<g class=\"graph\" id=\"graph0\" transform=\"scale(1 1) rotate(0) translate(4 472)\">\n",
       "<title>%3</title>\n",
       "<polygon fill=\"#ffffff\" points=\"-4,4 -4,-472 1858,-472 1858,4 -4,4\" stroke=\"transparent\"/>\n",
       "<!-- 0 -->\n",
       "<g class=\"node\" id=\"node1\">\n",
       "<title>0</title>\n",
       "<text fill=\"#004080\" font-family=\"Courier,monospace\" font-size=\"14.00\" font-weight=\"bold\" text-anchor=\"start\" x=\"196.5\" y=\"-447.3\">FunctionDef</text>\n",
       "</g>\n",
       "<!-- 1 -->\n",
       "<g class=\"node\" id=\"node2\">\n",
       "<title>1</title>\n",
       "<text fill=\"#008040\" font-family=\"Courier,monospace\" font-size=\"14.00\" text-anchor=\"middle\" x=\"65\" y=\"-374.3\">&quot;middle&quot;</text>\n",
       "</g>\n",
       "<!-- 0&#45;&#45;1 -->\n",
       "<g class=\"edge\" id=\"edge1\">\n",
       "<title>0--1</title>\n",
       "<path d=\"M247,-432C247,-432 173.6167,-414.0594 116,-396 113.1329,-395.1013 110.1857,-394.1461 107.2233,-393.1625\" fill=\"none\" stroke=\"#000000\"/>\n",
       "</g>\n",
       "<!-- 2 -->\n",
       "<g class=\"node\" id=\"node3\">\n",
       "<title>2</title>\n",
       "<text fill=\"#004080\" font-family=\"Courier,monospace\" font-size=\"14.00\" font-weight=\"bold\" text-anchor=\"start\" x=\"133\" y=\"-375.3\">arguments</text>\n",
       "</g>\n",
       "<!-- 0&#45;&#45;2 -->\n",
       "<g class=\"edge\" id=\"edge2\">\n",
       "<title>0--2</title>\n",
       "<path d=\"M247,-432C247,-432 218.7783,-411.9478 196.7301,-396.2819\" fill=\"none\" stroke=\"#000000\"/>\n",
       "</g>\n",
       "<!-- 9 -->\n",
       "<g class=\"node\" id=\"node10\">\n",
       "<title>9</title>\n",
       "<text fill=\"#004080\" font-family=\"Courier,monospace\" font-size=\"14.00\" font-weight=\"bold\" text-anchor=\"start\" x=\"464.5\" y=\"-375.3\">If</text>\n",
       "</g>\n",
       "<!-- 0&#45;&#45;9 -->\n",
       "<g class=\"edge\" id=\"edge9\">\n",
       "<title>0--9</title>\n",
       "<path d=\"M247,-432C247,-432 385.63,-398.876 445.7391,-384.5137\" fill=\"none\" stroke=\"#000000\"/>\n",
       "</g>\n",
       "<!-- 70 -->\n",
       "<g class=\"node\" id=\"node71\">\n",
       "<title>70</title>\n",
       "<text fill=\"#004080\" font-family=\"Courier,monospace\" font-size=\"14.00\" font-weight=\"bold\" text-anchor=\"start\" x=\"1129.5\" y=\"-375.3\">Return</text>\n",
       "</g>\n",
       "<!-- 0&#45;&#45;70 -->\n",
       "<g class=\"edge\" id=\"edge70\">\n",
       "<title>0--70</title>\n",
       "<path d=\"M247,-432C247,-432 957.0073,-389.7749 1121.3352,-380.0021\" fill=\"none\" stroke=\"#000000\"/>\n",
       "</g>\n",
       "<!-- 3 -->\n",
       "<g class=\"node\" id=\"node4\">\n",
       "<title>3</title>\n",
       "<text fill=\"#004080\" font-family=\"Courier,monospace\" font-size=\"14.00\" font-weight=\"bold\" text-anchor=\"start\" x=\"14\" y=\"-303.3\">arg</text>\n",
       "</g>\n",
       "<!-- 2&#45;&#45;3 -->\n",
       "<g class=\"edge\" id=\"edge3\">\n",
       "<title>2--3</title>\n",
       "<path d=\"M157,-360C157,-360 103.9448,-342.025 63,-324 60.186,-322.7612 57.2759,-321.4165 54.3857,-320.0389\" fill=\"none\" stroke=\"#000000\"/>\n",
       "</g>\n",
       "<!-- 5 -->\n",
       "<g class=\"node\" id=\"node6\">\n",
       "<title>5</title>\n",
       "<text fill=\"#004080\" font-family=\"Courier,monospace\" font-size=\"14.00\" font-weight=\"bold\" text-anchor=\"start\" x=\"86\" y=\"-303.3\">arg</text>\n",
       "</g>\n",
       "<!-- 2&#45;&#45;5 -->\n",
       "<g class=\"edge\" id=\"edge5\">\n",
       "<title>2--5</title>\n",
       "<path d=\"M157,-360C157,-360 135.4624,-339.9478 118.6362,-324.2819\" fill=\"none\" stroke=\"#000000\"/>\n",
       "</g>\n",
       "<!-- 7 -->\n",
       "<g class=\"node\" id=\"node8\">\n",
       "<title>7</title>\n",
       "<text fill=\"#004080\" font-family=\"Courier,monospace\" font-size=\"14.00\" font-weight=\"bold\" text-anchor=\"start\" x=\"158\" y=\"-303.3\">arg</text>\n",
       "</g>\n",
       "<!-- 2&#45;&#45;7 -->\n",
       "<g class=\"edge\" id=\"edge7\">\n",
       "<title>2--7</title>\n",
       "<path d=\"M157,-360C157,-360 162.1987,-339.9478 166.2602,-324.2819\" fill=\"none\" stroke=\"#000000\"/>\n",
       "</g>\n",
       "<!-- 4 -->\n",
       "<g class=\"node\" id=\"node5\">\n",
       "<title>4</title>\n",
       "<text fill=\"#008040\" font-family=\"Courier,monospace\" font-size=\"14.00\" text-anchor=\"middle\" x=\"27\" y=\"-230.3\">&quot;x&quot;</text>\n",
       "</g>\n",
       "<!-- 3&#45;&#45;4 -->\n",
       "<g class=\"edge\" id=\"edge4\">\n",
       "<title>3--4</title>\n",
       "<path d=\"M27,-287.8314C27,-277 27,-263.2876 27,-252.4133\" fill=\"none\" stroke=\"#000000\"/>\n",
       "</g>\n",
       "<!-- 6 -->\n",
       "<g class=\"node\" id=\"node7\">\n",
       "<title>6</title>\n",
       "<text fill=\"#008040\" font-family=\"Courier,monospace\" font-size=\"14.00\" text-anchor=\"middle\" x=\"99\" y=\"-230.3\">&quot;y&quot;</text>\n",
       "</g>\n",
       "<!-- 5&#45;&#45;6 -->\n",
       "<g class=\"edge\" id=\"edge6\">\n",
       "<title>5--6</title>\n",
       "<path d=\"M99,-287.8314C99,-277 99,-263.2876 99,-252.4133\" fill=\"none\" stroke=\"#000000\"/>\n",
       "</g>\n",
       "<!-- 8 -->\n",
       "<g class=\"node\" id=\"node9\">\n",
       "<title>8</title>\n",
       "<text fill=\"#008040\" font-family=\"Courier,monospace\" font-size=\"14.00\" text-anchor=\"middle\" x=\"171\" y=\"-230.3\">&quot;z&quot;</text>\n",
       "</g>\n",
       "<!-- 7&#45;&#45;8 -->\n",
       "<g class=\"edge\" id=\"edge8\">\n",
       "<title>7--8</title>\n",
       "<path d=\"M171,-287.8314C171,-277 171,-263.2876 171,-252.4133\" fill=\"none\" stroke=\"#000000\"/>\n",
       "</g>\n",
       "<!-- 10 -->\n",
       "<g class=\"node\" id=\"node11\">\n",
       "<title>10</title>\n",
       "<text fill=\"#004080\" font-family=\"Courier,monospace\" font-size=\"14.00\" font-weight=\"bold\" text-anchor=\"start\" x=\"321.5\" y=\"-303.3\">Compare</text>\n",
       "</g>\n",
       "<!-- 9&#45;&#45;10 -->\n",
       "<g class=\"edge\" id=\"edge10\">\n",
       "<title>9--10</title>\n",
       "<path d=\"M490,-360C490,-360 429.7808,-336.6055 388.6154,-320.6132\" fill=\"none\" stroke=\"#000000\"/>\n",
       "</g>\n",
       "<!-- 18 -->\n",
       "<g class=\"node\" id=\"node19\">\n",
       "<title>18</title>\n",
       "<text fill=\"#004080\" font-family=\"Courier,monospace\" font-size=\"14.00\" font-weight=\"bold\" text-anchor=\"start\" x=\"594.5\" y=\"-303.3\">If</text>\n",
       "</g>\n",
       "<!-- 9&#45;&#45;18 -->\n",
       "<g class=\"edge\" id=\"edge18\">\n",
       "<title>9--18</title>\n",
       "<path d=\"M490,-360C490,-360 542.5036,-334.9098 575.9337,-318.9343\" fill=\"none\" stroke=\"#000000\"/>\n",
       "</g>\n",
       "<!-- 44 -->\n",
       "<g class=\"node\" id=\"node45\">\n",
       "<title>44</title>\n",
       "<text fill=\"#004080\" font-family=\"Courier,monospace\" font-size=\"14.00\" font-weight=\"bold\" text-anchor=\"start\" x=\"1314.5\" y=\"-303.3\">If</text>\n",
       "</g>\n",
       "<!-- 9&#45;&#45;44 -->\n",
       "<g class=\"edge\" id=\"edge44\">\n",
       "<title>9--44</title>\n",
       "<path d=\"M490,-360C490,-360 1152.1961,-317.0725 1295.7582,-307.766\" fill=\"none\" stroke=\"#000000\"/>\n",
       "</g>\n",
       "<!-- 11 -->\n",
       "<g class=\"node\" id=\"node12\">\n",
       "<title>11</title>\n",
       "<text fill=\"#004080\" font-family=\"Courier,monospace\" font-size=\"14.00\" font-weight=\"bold\" text-anchor=\"start\" x=\"226\" y=\"-231.3\">Name</text>\n",
       "</g>\n",
       "<!-- 10&#45;&#45;11 -->\n",
       "<g class=\"edge\" id=\"edge11\">\n",
       "<title>10--11</title>\n",
       "<path d=\"M345,-288C345,-288 300.2843,-264.327 270.0663,-248.3292\" fill=\"none\" stroke=\"#000000\"/>\n",
       "</g>\n",
       "<!-- 14 -->\n",
       "<g class=\"node\" id=\"node15\">\n",
       "<title>14</title>\n",
       "<text fill=\"#008040\" font-family=\"Courier,monospace\" font-size=\"14.00\" text-anchor=\"middle\" x=\"315\" y=\"-230.3\">Lt</text>\n",
       "</g>\n",
       "<!-- 10&#45;&#45;14 -->\n",
       "<g class=\"edge\" id=\"edge14\">\n",
       "<title>10--14</title>\n",
       "<path d=\"M345,-288C345,-288 333.8599,-267.9478 325.1566,-252.2819\" fill=\"none\" stroke=\"#000000\"/>\n",
       "</g>\n",
       "<!-- 15 -->\n",
       "<g class=\"node\" id=\"node16\">\n",
       "<title>15</title>\n",
       "<text fill=\"#004080\" font-family=\"Courier,monospace\" font-size=\"14.00\" font-weight=\"bold\" text-anchor=\"start\" x=\"370\" y=\"-231.3\">Name</text>\n",
       "</g>\n",
       "<!-- 10&#45;&#45;15 -->\n",
       "<g class=\"edge\" id=\"edge15\">\n",
       "<title>10--15</title>\n",
       "<path d=\"M345,-288C345,-288 360.5962,-267.9478 372.7807,-252.2819\" fill=\"none\" stroke=\"#000000\"/>\n",
       "</g>\n",
       "<!-- 12 -->\n",
       "<g class=\"node\" id=\"node13\">\n",
       "<title>12</title>\n",
       "<text fill=\"#008040\" font-family=\"Courier,monospace\" font-size=\"14.00\" text-anchor=\"middle\" x=\"171\" y=\"-158.3\">&quot;y&quot;</text>\n",
       "</g>\n",
       "<!-- 11&#45;&#45;12 -->\n",
       "<g class=\"edge\" id=\"edge12\">\n",
       "<title>11--12</title>\n",
       "<path d=\"M235,-216C235,-216 211.2344,-195.9478 192.6675,-180.2819\" fill=\"none\" stroke=\"#000000\"/>\n",
       "</g>\n",
       "<!-- 13 -->\n",
       "<g class=\"node\" id=\"node14\">\n",
       "<title>13</title>\n",
       "<text fill=\"#008040\" font-family=\"Courier,monospace\" font-size=\"14.00\" text-anchor=\"middle\" x=\"243\" y=\"-158.3\">Load</text>\n",
       "</g>\n",
       "<!-- 11&#45;&#45;13 -->\n",
       "<g class=\"edge\" id=\"edge13\">\n",
       "<title>11--13</title>\n",
       "<path d=\"M235,-216C235,-216 237.9707,-195.9478 240.2916,-180.2819\" fill=\"none\" stroke=\"#000000\"/>\n",
       "</g>\n",
       "<!-- 16 -->\n",
       "<g class=\"node\" id=\"node17\">\n",
       "<title>16</title>\n",
       "<text fill=\"#008040\" font-family=\"Courier,monospace\" font-size=\"14.00\" text-anchor=\"middle\" x=\"315\" y=\"-158.3\">&quot;z&quot;</text>\n",
       "</g>\n",
       "<!-- 15&#45;&#45;16 -->\n",
       "<g class=\"edge\" id=\"edge16\">\n",
       "<title>15--16</title>\n",
       "<path d=\"M379,-216C379,-216 355.2344,-195.9478 336.6675,-180.2819\" fill=\"none\" stroke=\"#000000\"/>\n",
       "</g>\n",
       "<!-- 17 -->\n",
       "<g class=\"node\" id=\"node18\">\n",
       "<title>17</title>\n",
       "<text fill=\"#008040\" font-family=\"Courier,monospace\" font-size=\"14.00\" text-anchor=\"middle\" x=\"387\" y=\"-158.3\">Load</text>\n",
       "</g>\n",
       "<!-- 15&#45;&#45;17 -->\n",
       "<g class=\"edge\" id=\"edge17\">\n",
       "<title>15--17</title>\n",
       "<path d=\"M379,-216C379,-216 381.9707,-195.9478 384.2916,-180.2819\" fill=\"none\" stroke=\"#000000\"/>\n",
       "</g>\n",
       "<!-- 19 -->\n",
       "<g class=\"node\" id=\"node20\">\n",
       "<title>19</title>\n",
       "<text fill=\"#004080\" font-family=\"Courier,monospace\" font-size=\"14.00\" font-weight=\"bold\" text-anchor=\"start\" x=\"515.5\" y=\"-231.3\">Compare</text>\n",
       "</g>\n",
       "<!-- 18&#45;&#45;19 -->\n",
       "<g class=\"edge\" id=\"edge19\">\n",
       "<title>18--19</title>\n",
       "<path d=\"M613,-288C613,-288 587.749,-267.9478 568.0217,-252.2819\" fill=\"none\" stroke=\"#000000\"/>\n",
       "</g>\n",
       "<!-- 27 -->\n",
       "<g class=\"node\" id=\"node28\">\n",
       "<title>27</title>\n",
       "<text fill=\"#004080\" font-family=\"Courier,monospace\" font-size=\"14.00\" font-weight=\"bold\" text-anchor=\"start\" x=\"635.5\" y=\"-231.3\">Return</text>\n",
       "</g>\n",
       "<!-- 18&#45;&#45;27 -->\n",
       "<g class=\"edge\" id=\"edge27\">\n",
       "<title>18--27</title>\n",
       "<path d=\"M613,-288C613,-288 630.8242,-267.9478 644.7494,-252.2819\" fill=\"none\" stroke=\"#000000\"/>\n",
       "</g>\n",
       "<!-- 31 -->\n",
       "<g class=\"node\" id=\"node32\">\n",
       "<title>31</title>\n",
       "<text fill=\"#004080\" font-family=\"Courier,monospace\" font-size=\"14.00\" font-weight=\"bold\" text-anchor=\"start\" x=\"882.5\" y=\"-231.3\">If</text>\n",
       "</g>\n",
       "<!-- 18&#45;&#45;31 -->\n",
       "<g class=\"edge\" id=\"edge31\">\n",
       "<title>18--31</title>\n",
       "<path d=\"M613,-288C613,-288 793.886,-252.8639 863.838,-239.2761\" fill=\"none\" stroke=\"#000000\"/>\n",
       "</g>\n",
       "<!-- 20 -->\n",
       "<g class=\"node\" id=\"node21\">\n",
       "<title>20</title>\n",
       "<text fill=\"#004080\" font-family=\"Courier,monospace\" font-size=\"14.00\" font-weight=\"bold\" text-anchor=\"start\" x=\"442\" y=\"-159.3\">Name</text>\n",
       "</g>\n",
       "<!-- 19&#45;&#45;20 -->\n",
       "<g class=\"edge\" id=\"edge20\">\n",
       "<title>19--20</title>\n",
       "<path d=\"M542,-216C542,-216 510.3836,-195.4303 486.1773,-179.6816\" fill=\"none\" stroke=\"#000000\"/>\n",
       "</g>\n",
       "<!-- 23 -->\n",
       "<g class=\"node\" id=\"node24\">\n",
       "<title>23</title>\n",
       "<text fill=\"#008040\" font-family=\"Courier,monospace\" font-size=\"14.00\" text-anchor=\"middle\" x=\"531\" y=\"-158.3\">Lt</text>\n",
       "</g>\n",
       "<!-- 19&#45;&#45;23 -->\n",
       "<g class=\"edge\" id=\"edge23\">\n",
       "<title>19--23</title>\n",
       "<path d=\"M542,-216C542,-216 537.9153,-195.9478 534.7241,-180.2819\" fill=\"none\" stroke=\"#000000\"/>\n",
       "</g>\n",
       "<!-- 24 -->\n",
       "<g class=\"node\" id=\"node25\">\n",
       "<title>24</title>\n",
       "<text fill=\"#004080\" font-family=\"Courier,monospace\" font-size=\"14.00\" font-weight=\"bold\" text-anchor=\"start\" x=\"586\" y=\"-159.3\">Name</text>\n",
       "</g>\n",
       "<!-- 19&#45;&#45;24 -->\n",
       "<g class=\"edge\" id=\"edge24\">\n",
       "<title>19--24</title>\n",
       "<path d=\"M542,-216C542,-216 564.6516,-195.9478 582.3482,-180.2819\" fill=\"none\" stroke=\"#000000\"/>\n",
       "</g>\n",
       "<!-- 21 -->\n",
       "<g class=\"node\" id=\"node22\">\n",
       "<title>21</title>\n",
       "<text fill=\"#008040\" font-family=\"Courier,monospace\" font-size=\"14.00\" text-anchor=\"middle\" x=\"387\" y=\"-86.3\">&quot;x&quot;</text>\n",
       "</g>\n",
       "<!-- 20&#45;&#45;21 -->\n",
       "<g class=\"edge\" id=\"edge21\">\n",
       "<title>20--21</title>\n",
       "<path d=\"M451,-144C451,-144 427.2344,-123.9478 408.6675,-108.2819\" fill=\"none\" stroke=\"#000000\"/>\n",
       "</g>\n",
       "<!-- 22 -->\n",
       "<g class=\"node\" id=\"node23\">\n",
       "<title>22</title>\n",
       "<text fill=\"#008040\" font-family=\"Courier,monospace\" font-size=\"14.00\" text-anchor=\"middle\" x=\"459\" y=\"-86.3\">Load</text>\n",
       "</g>\n",
       "<!-- 20&#45;&#45;22 -->\n",
       "<g class=\"edge\" id=\"edge22\">\n",
       "<title>20--22</title>\n",
       "<path d=\"M451,-144C451,-144 453.9707,-123.9478 456.2916,-108.2819\" fill=\"none\" stroke=\"#000000\"/>\n",
       "</g>\n",
       "<!-- 25 -->\n",
       "<g class=\"node\" id=\"node26\">\n",
       "<title>25</title>\n",
       "<text fill=\"#008040\" font-family=\"Courier,monospace\" font-size=\"14.00\" text-anchor=\"middle\" x=\"531\" y=\"-86.3\">&quot;y&quot;</text>\n",
       "</g>\n",
       "<!-- 24&#45;&#45;25 -->\n",
       "<g class=\"edge\" id=\"edge25\">\n",
       "<title>24--25</title>\n",
       "<path d=\"M595,-144C595,-144 571.2344,-123.9478 552.6675,-108.2819\" fill=\"none\" stroke=\"#000000\"/>\n",
       "</g>\n",
       "<!-- 26 -->\n",
       "<g class=\"node\" id=\"node27\">\n",
       "<title>26</title>\n",
       "<text fill=\"#008040\" font-family=\"Courier,monospace\" font-size=\"14.00\" text-anchor=\"middle\" x=\"603\" y=\"-86.3\">Load</text>\n",
       "</g>\n",
       "<!-- 24&#45;&#45;26 -->\n",
       "<g class=\"edge\" id=\"edge26\">\n",
       "<title>24--26</title>\n",
       "<path d=\"M595,-144C595,-144 597.9707,-123.9478 600.2916,-108.2819\" fill=\"none\" stroke=\"#000000\"/>\n",
       "</g>\n",
       "<!-- 28 -->\n",
       "<g class=\"node\" id=\"node29\">\n",
       "<title>28</title>\n",
       "<text fill=\"#004080\" font-family=\"Courier,monospace\" font-size=\"14.00\" font-weight=\"bold\" text-anchor=\"start\" x=\"658\" y=\"-159.3\">Name</text>\n",
       "</g>\n",
       "<!-- 27&#45;&#45;28 -->\n",
       "<g class=\"edge\" id=\"edge28\">\n",
       "<title>27--28</title>\n",
       "<path d=\"M664.5328,-215.8314C666.6389,-205 669.3052,-191.2876 671.4196,-180.4133\" fill=\"none\" stroke=\"#000000\"/>\n",
       "</g>\n",
       "<!-- 29 -->\n",
       "<g class=\"node\" id=\"node30\">\n",
       "<title>29</title>\n",
       "<text fill=\"#008040\" font-family=\"Courier,monospace\" font-size=\"14.00\" text-anchor=\"middle\" x=\"675\" y=\"-86.3\">&quot;y&quot;</text>\n",
       "</g>\n",
       "<!-- 28&#45;&#45;29 -->\n",
       "<g class=\"edge\" id=\"edge29\">\n",
       "<title>28--29</title>\n",
       "<path d=\"M683,-144C683,-144 680.0293,-123.9478 677.7084,-108.2819\" fill=\"none\" stroke=\"#000000\"/>\n",
       "</g>\n",
       "<!-- 30 -->\n",
       "<g class=\"node\" id=\"node31\">\n",
       "<title>30</title>\n",
       "<text fill=\"#008040\" font-family=\"Courier,monospace\" font-size=\"14.00\" text-anchor=\"middle\" x=\"747\" y=\"-86.3\">Load</text>\n",
       "</g>\n",
       "<!-- 28&#45;&#45;30 -->\n",
       "<g class=\"edge\" id=\"edge30\">\n",
       "<title>28--30</title>\n",
       "<path d=\"M683,-144C683,-144 706.7656,-123.9478 725.3325,-108.2819\" fill=\"none\" stroke=\"#000000\"/>\n",
       "</g>\n",
       "<!-- 32 -->\n",
       "<g class=\"node\" id=\"node33\">\n",
       "<title>32</title>\n",
       "<text fill=\"#004080\" font-family=\"Courier,monospace\" font-size=\"14.00\" font-weight=\"bold\" text-anchor=\"start\" x=\"861.5\" y=\"-159.3\">Compare</text>\n",
       "</g>\n",
       "<!-- 31&#45;&#45;32 -->\n",
       "<g class=\"edge\" id=\"edge32\">\n",
       "<title>31--32</title>\n",
       "<path d=\"M901,-216C901,-216 897.2866,-195.9478 894.3855,-180.2819\" fill=\"none\" stroke=\"#000000\"/>\n",
       "</g>\n",
       "<!-- 40 -->\n",
       "<g class=\"node\" id=\"node41\">\n",
       "<title>40</title>\n",
       "<text fill=\"#004080\" font-family=\"Courier,monospace\" font-size=\"14.00\" font-weight=\"bold\" text-anchor=\"start\" x=\"982.5\" y=\"-159.3\">Return</text>\n",
       "</g>\n",
       "<!-- 31&#45;&#45;40 -->\n",
       "<g class=\"edge\" id=\"edge40\">\n",
       "<title>31--40</title>\n",
       "<path d=\"M901,-216C901,-216 943.0585,-194.7742 974.4381,-178.9378\" fill=\"none\" stroke=\"#000000\"/>\n",
       "</g>\n",
       "<!-- 33 -->\n",
       "<g class=\"node\" id=\"node34\">\n",
       "<title>33</title>\n",
       "<text fill=\"#004080\" font-family=\"Courier,monospace\" font-size=\"14.00\" font-weight=\"bold\" text-anchor=\"start\" x=\"802\" y=\"-87.3\">Name</text>\n",
       "</g>\n",
       "<!-- 32&#45;&#45;33 -->\n",
       "<g class=\"edge\" id=\"edge33\">\n",
       "<title>32--33</title>\n",
       "<path d=\"M891,-144C891,-144 864.2637,-123.9478 843.3759,-108.2819\" fill=\"none\" stroke=\"#000000\"/>\n",
       "</g>\n",
       "<!-- 36 -->\n",
       "<g class=\"node\" id=\"node37\">\n",
       "<title>36</title>\n",
       "<text fill=\"#008040\" font-family=\"Courier,monospace\" font-size=\"14.00\" text-anchor=\"middle\" x=\"891\" y=\"-86.3\">Lt</text>\n",
       "</g>\n",
       "<!-- 32&#45;&#45;36 -->\n",
       "<g class=\"edge\" id=\"edge36\">\n",
       "<title>32--36</title>\n",
       "<path d=\"M891,-144C891,-144 891,-123.9478 891,-108.2819\" fill=\"none\" stroke=\"#000000\"/>\n",
       "</g>\n",
       "<!-- 37 -->\n",
       "<g class=\"node\" id=\"node38\">\n",
       "<title>37</title>\n",
       "<text fill=\"#004080\" font-family=\"Courier,monospace\" font-size=\"14.00\" font-weight=\"bold\" text-anchor=\"start\" x=\"946\" y=\"-87.3\">Name</text>\n",
       "</g>\n",
       "<!-- 32&#45;&#45;37 -->\n",
       "<g class=\"edge\" id=\"edge37\">\n",
       "<title>32--37</title>\n",
       "<path d=\"M891,-144C891,-144 917.7363,-123.9478 938.6241,-108.2819\" fill=\"none\" stroke=\"#000000\"/>\n",
       "</g>\n",
       "<!-- 34 -->\n",
       "<g class=\"node\" id=\"node35\">\n",
       "<title>34</title>\n",
       "<text fill=\"#008040\" font-family=\"Courier,monospace\" font-size=\"14.00\" text-anchor=\"middle\" x=\"747\" y=\"-14.3\">&quot;x&quot;</text>\n",
       "</g>\n",
       "<!-- 33&#45;&#45;34 -->\n",
       "<g class=\"edge\" id=\"edge34\">\n",
       "<title>33--34</title>\n",
       "<path d=\"M811,-72C811,-72 787.2344,-51.9478 768.6675,-36.2819\" fill=\"none\" stroke=\"#000000\"/>\n",
       "</g>\n",
       "<!-- 35 -->\n",
       "<g class=\"node\" id=\"node36\">\n",
       "<title>35</title>\n",
       "<text fill=\"#008040\" font-family=\"Courier,monospace\" font-size=\"14.00\" text-anchor=\"middle\" x=\"819\" y=\"-14.3\">Load</text>\n",
       "</g>\n",
       "<!-- 33&#45;&#45;35 -->\n",
       "<g class=\"edge\" id=\"edge35\">\n",
       "<title>33--35</title>\n",
       "<path d=\"M811,-72C811,-72 813.9707,-51.9478 816.2916,-36.2819\" fill=\"none\" stroke=\"#000000\"/>\n",
       "</g>\n",
       "<!-- 38 -->\n",
       "<g class=\"node\" id=\"node39\">\n",
       "<title>38</title>\n",
       "<text fill=\"#008040\" font-family=\"Courier,monospace\" font-size=\"14.00\" text-anchor=\"middle\" x=\"891\" y=\"-14.3\">&quot;z&quot;</text>\n",
       "</g>\n",
       "<!-- 37&#45;&#45;38 -->\n",
       "<g class=\"edge\" id=\"edge38\">\n",
       "<title>37--38</title>\n",
       "<path d=\"M955,-72C955,-72 931.2344,-51.9478 912.6675,-36.2819\" fill=\"none\" stroke=\"#000000\"/>\n",
       "</g>\n",
       "<!-- 39 -->\n",
       "<g class=\"node\" id=\"node40\">\n",
       "<title>39</title>\n",
       "<text fill=\"#008040\" font-family=\"Courier,monospace\" font-size=\"14.00\" text-anchor=\"middle\" x=\"963\" y=\"-14.3\">Load</text>\n",
       "</g>\n",
       "<!-- 37&#45;&#45;39 -->\n",
       "<g class=\"edge\" id=\"edge39\">\n",
       "<title>37--39</title>\n",
       "<path d=\"M955,-72C955,-72 957.9707,-51.9478 960.2916,-36.2819\" fill=\"none\" stroke=\"#000000\"/>\n",
       "</g>\n",
       "<!-- 41 -->\n",
       "<g class=\"node\" id=\"node42\">\n",
       "<title>41</title>\n",
       "<text fill=\"#004080\" font-family=\"Courier,monospace\" font-size=\"14.00\" font-weight=\"bold\" text-anchor=\"start\" x=\"1018\" y=\"-87.3\">Name</text>\n",
       "</g>\n",
       "<!-- 40&#45;&#45;41 -->\n",
       "<g class=\"edge\" id=\"edge41\">\n",
       "<title>40--41</title>\n",
       "<path d=\"M1014.8132,-143.8314C1018.875,-133 1024.0172,-119.2876 1028.095,-108.4133\" fill=\"none\" stroke=\"#000000\"/>\n",
       "</g>\n",
       "<!-- 42 -->\n",
       "<g class=\"node\" id=\"node43\">\n",
       "<title>42</title>\n",
       "<text fill=\"#008040\" font-family=\"Courier,monospace\" font-size=\"14.00\" text-anchor=\"middle\" x=\"1035\" y=\"-14.3\">&quot;y&quot;</text>\n",
       "</g>\n",
       "<!-- 41&#45;&#45;42 -->\n",
       "<g class=\"edge\" id=\"edge42\">\n",
       "<title>41--42</title>\n",
       "<path d=\"M1043,-72C1043,-72 1040.0293,-51.9478 1037.7084,-36.2819\" fill=\"none\" stroke=\"#000000\"/>\n",
       "</g>\n",
       "<!-- 43 -->\n",
       "<g class=\"node\" id=\"node44\">\n",
       "<title>43</title>\n",
       "<text fill=\"#008040\" font-family=\"Courier,monospace\" font-size=\"14.00\" text-anchor=\"middle\" x=\"1107\" y=\"-14.3\">Load</text>\n",
       "</g>\n",
       "<!-- 41&#45;&#45;43 -->\n",
       "<g class=\"edge\" id=\"edge43\">\n",
       "<title>41--43</title>\n",
       "<path d=\"M1043,-72C1043,-72 1066.7656,-51.9478 1085.3325,-36.2819\" fill=\"none\" stroke=\"#000000\"/>\n",
       "</g>\n",
       "<!-- 45 -->\n",
       "<g class=\"node\" id=\"node46\">\n",
       "<title>45</title>\n",
       "<text fill=\"#004080\" font-family=\"Courier,monospace\" font-size=\"14.00\" font-weight=\"bold\" text-anchor=\"start\" x=\"1235.5\" y=\"-231.3\">Compare</text>\n",
       "</g>\n",
       "<!-- 44&#45;&#45;45 -->\n",
       "<g class=\"edge\" id=\"edge45\">\n",
       "<title>44--45</title>\n",
       "<path d=\"M1332,-288C1332,-288 1307.1204,-267.9478 1287.6831,-252.2819\" fill=\"none\" stroke=\"#000000\"/>\n",
       "</g>\n",
       "<!-- 53 -->\n",
       "<g class=\"node\" id=\"node54\">\n",
       "<title>53</title>\n",
       "<text fill=\"#004080\" font-family=\"Courier,monospace\" font-size=\"14.00\" font-weight=\"bold\" text-anchor=\"start\" x=\"1355.5\" y=\"-231.3\">Return</text>\n",
       "</g>\n",
       "<!-- 44&#45;&#45;53 -->\n",
       "<g class=\"edge\" id=\"edge53\">\n",
       "<title>44--53</title>\n",
       "<path d=\"M1332,-288C1332,-288 1350.1956,-267.9478 1364.4108,-252.2819\" fill=\"none\" stroke=\"#000000\"/>\n",
       "</g>\n",
       "<!-- 57 -->\n",
       "<g class=\"node\" id=\"node58\">\n",
       "<title>57</title>\n",
       "<text fill=\"#004080\" font-family=\"Courier,monospace\" font-size=\"14.00\" font-weight=\"bold\" text-anchor=\"start\" x=\"1533.5\" y=\"-231.3\">If</text>\n",
       "</g>\n",
       "<!-- 44&#45;&#45;57 -->\n",
       "<g class=\"edge\" id=\"edge57\">\n",
       "<title>44--57</title>\n",
       "<path d=\"M1332,-288C1332,-288 1458.2584,-255.5335 1514.9761,-240.949\" fill=\"none\" stroke=\"#000000\"/>\n",
       "</g>\n",
       "<!-- 46 -->\n",
       "<g class=\"node\" id=\"node47\">\n",
       "<title>46</title>\n",
       "<text fill=\"#004080\" font-family=\"Courier,monospace\" font-size=\"14.00\" font-weight=\"bold\" text-anchor=\"start\" x=\"1162\" y=\"-159.3\">Name</text>\n",
       "</g>\n",
       "<!-- 45&#45;&#45;46 -->\n",
       "<g class=\"edge\" id=\"edge46\">\n",
       "<title>45--46</title>\n",
       "<path d=\"M1262,-216C1262,-216 1230.3836,-195.4303 1206.1773,-179.6816\" fill=\"none\" stroke=\"#000000\"/>\n",
       "</g>\n",
       "<!-- 49 -->\n",
       "<g class=\"node\" id=\"node50\">\n",
       "<title>49</title>\n",
       "<text fill=\"#008040\" font-family=\"Courier,monospace\" font-size=\"14.00\" text-anchor=\"middle\" x=\"1251\" y=\"-158.3\">Gt</text>\n",
       "</g>\n",
       "<!-- 45&#45;&#45;49 -->\n",
       "<g class=\"edge\" id=\"edge49\">\n",
       "<title>45--49</title>\n",
       "<path d=\"M1262,-216C1262,-216 1257.9153,-195.9478 1254.7241,-180.2819\" fill=\"none\" stroke=\"#000000\"/>\n",
       "</g>\n",
       "<!-- 50 -->\n",
       "<g class=\"node\" id=\"node51\">\n",
       "<title>50</title>\n",
       "<text fill=\"#004080\" font-family=\"Courier,monospace\" font-size=\"14.00\" font-weight=\"bold\" text-anchor=\"start\" x=\"1306\" y=\"-159.3\">Name</text>\n",
       "</g>\n",
       "<!-- 45&#45;&#45;50 -->\n",
       "<g class=\"edge\" id=\"edge50\">\n",
       "<title>45--50</title>\n",
       "<path d=\"M1262,-216C1262,-216 1284.6516,-195.9478 1302.3482,-180.2819\" fill=\"none\" stroke=\"#000000\"/>\n",
       "</g>\n",
       "<!-- 47 -->\n",
       "<g class=\"node\" id=\"node48\">\n",
       "<title>47</title>\n",
       "<text fill=\"#008040\" font-family=\"Courier,monospace\" font-size=\"14.00\" text-anchor=\"middle\" x=\"1107\" y=\"-86.3\">&quot;x&quot;</text>\n",
       "</g>\n",
       "<!-- 46&#45;&#45;47 -->\n",
       "<g class=\"edge\" id=\"edge47\">\n",
       "<title>46--47</title>\n",
       "<path d=\"M1171,-144C1171,-144 1147.2344,-123.9478 1128.6675,-108.2819\" fill=\"none\" stroke=\"#000000\"/>\n",
       "</g>\n",
       "<!-- 48 -->\n",
       "<g class=\"node\" id=\"node49\">\n",
       "<title>48</title>\n",
       "<text fill=\"#008040\" font-family=\"Courier,monospace\" font-size=\"14.00\" text-anchor=\"middle\" x=\"1179\" y=\"-86.3\">Load</text>\n",
       "</g>\n",
       "<!-- 46&#45;&#45;48 -->\n",
       "<g class=\"edge\" id=\"edge48\">\n",
       "<title>46--48</title>\n",
       "<path d=\"M1171,-144C1171,-144 1173.9707,-123.9478 1176.2916,-108.2819\" fill=\"none\" stroke=\"#000000\"/>\n",
       "</g>\n",
       "<!-- 51 -->\n",
       "<g class=\"node\" id=\"node52\">\n",
       "<title>51</title>\n",
       "<text fill=\"#008040\" font-family=\"Courier,monospace\" font-size=\"14.00\" text-anchor=\"middle\" x=\"1251\" y=\"-86.3\">&quot;y&quot;</text>\n",
       "</g>\n",
       "<!-- 50&#45;&#45;51 -->\n",
       "<g class=\"edge\" id=\"edge51\">\n",
       "<title>50--51</title>\n",
       "<path d=\"M1315,-144C1315,-144 1291.2344,-123.9478 1272.6675,-108.2819\" fill=\"none\" stroke=\"#000000\"/>\n",
       "</g>\n",
       "<!-- 52 -->\n",
       "<g class=\"node\" id=\"node53\">\n",
       "<title>52</title>\n",
       "<text fill=\"#008040\" font-family=\"Courier,monospace\" font-size=\"14.00\" text-anchor=\"middle\" x=\"1323\" y=\"-86.3\">Load</text>\n",
       "</g>\n",
       "<!-- 50&#45;&#45;52 -->\n",
       "<g class=\"edge\" id=\"edge52\">\n",
       "<title>50--52</title>\n",
       "<path d=\"M1315,-144C1315,-144 1317.9707,-123.9478 1320.2916,-108.2819\" fill=\"none\" stroke=\"#000000\"/>\n",
       "</g>\n",
       "<!-- 54 -->\n",
       "<g class=\"node\" id=\"node55\">\n",
       "<title>54</title>\n",
       "<text fill=\"#004080\" font-family=\"Courier,monospace\" font-size=\"14.00\" font-weight=\"bold\" text-anchor=\"start\" x=\"1378\" y=\"-159.3\">Name</text>\n",
       "</g>\n",
       "<!-- 53&#45;&#45;54 -->\n",
       "<g class=\"edge\" id=\"edge54\">\n",
       "<title>53--54</title>\n",
       "<path d=\"M1384.5328,-215.8314C1386.6389,-205 1389.3052,-191.2876 1391.4196,-180.4133\" fill=\"none\" stroke=\"#000000\"/>\n",
       "</g>\n",
       "<!-- 55 -->\n",
       "<g class=\"node\" id=\"node56\">\n",
       "<title>55</title>\n",
       "<text fill=\"#008040\" font-family=\"Courier,monospace\" font-size=\"14.00\" text-anchor=\"middle\" x=\"1395\" y=\"-86.3\">&quot;y&quot;</text>\n",
       "</g>\n",
       "<!-- 54&#45;&#45;55 -->\n",
       "<g class=\"edge\" id=\"edge55\">\n",
       "<title>54--55</title>\n",
       "<path d=\"M1403,-144C1403,-144 1400.0293,-123.9478 1397.7084,-108.2819\" fill=\"none\" stroke=\"#000000\"/>\n",
       "</g>\n",
       "<!-- 56 -->\n",
       "<g class=\"node\" id=\"node57\">\n",
       "<title>56</title>\n",
       "<text fill=\"#008040\" font-family=\"Courier,monospace\" font-size=\"14.00\" text-anchor=\"middle\" x=\"1467\" y=\"-86.3\">Load</text>\n",
       "</g>\n",
       "<!-- 54&#45;&#45;56 -->\n",
       "<g class=\"edge\" id=\"edge56\">\n",
       "<title>54--56</title>\n",
       "<path d=\"M1403,-144C1403,-144 1426.7656,-123.9478 1445.3325,-108.2819\" fill=\"none\" stroke=\"#000000\"/>\n",
       "</g>\n",
       "<!-- 58 -->\n",
       "<g class=\"node\" id=\"node59\">\n",
       "<title>58</title>\n",
       "<text fill=\"#004080\" font-family=\"Courier,monospace\" font-size=\"14.00\" font-weight=\"bold\" text-anchor=\"start\" x=\"1547.5\" y=\"-159.3\">Compare</text>\n",
       "</g>\n",
       "<!-- 57&#45;&#45;58 -->\n",
       "<g class=\"edge\" id=\"edge58\">\n",
       "<title>57--58</title>\n",
       "<path d=\"M1561,-216C1561,-216 1566.9414,-195.9478 1571.5831,-180.2819\" fill=\"none\" stroke=\"#000000\"/>\n",
       "</g>\n",
       "<!-- 66 -->\n",
       "<g class=\"node\" id=\"node67\">\n",
       "<title>66</title>\n",
       "<text fill=\"#004080\" font-family=\"Courier,monospace\" font-size=\"14.00\" font-weight=\"bold\" text-anchor=\"start\" x=\"1685.5\" y=\"-159.3\">Return</text>\n",
       "</g>\n",
       "<!-- 57&#45;&#45;66 -->\n",
       "<g class=\"edge\" id=\"edge66\">\n",
       "<title>57--66</title>\n",
       "<path d=\"M1561,-216C1561,-216 1633.1121,-190.0396 1677.3371,-174.1187\" fill=\"none\" stroke=\"#000000\"/>\n",
       "</g>\n",
       "<!-- 59 -->\n",
       "<g class=\"node\" id=\"node60\">\n",
       "<title>59</title>\n",
       "<text fill=\"#004080\" font-family=\"Courier,monospace\" font-size=\"14.00\" font-weight=\"bold\" text-anchor=\"start\" x=\"1522\" y=\"-87.3\">Name</text>\n",
       "</g>\n",
       "<!-- 58&#45;&#45;59 -->\n",
       "<g class=\"edge\" id=\"edge59\">\n",
       "<title>58--59</title>\n",
       "<path d=\"M1583,-144C1583,-144 1566.6611,-123.9478 1553.8964,-108.2819\" fill=\"none\" stroke=\"#000000\"/>\n",
       "</g>\n",
       "<!-- 62 -->\n",
       "<g class=\"node\" id=\"node63\">\n",
       "<title>62</title>\n",
       "<text fill=\"#008040\" font-family=\"Courier,monospace\" font-size=\"14.00\" text-anchor=\"middle\" x=\"1611\" y=\"-86.3\">Gt</text>\n",
       "</g>\n",
       "<!-- 58&#45;&#45;62 -->\n",
       "<g class=\"edge\" id=\"edge62\">\n",
       "<title>58--62</title>\n",
       "<path d=\"M1583,-144C1583,-144 1593.3975,-123.9478 1601.5205,-108.2819\" fill=\"none\" stroke=\"#000000\"/>\n",
       "</g>\n",
       "<!-- 63 -->\n",
       "<g class=\"node\" id=\"node64\">\n",
       "<title>63</title>\n",
       "<text fill=\"#004080\" font-family=\"Courier,monospace\" font-size=\"14.00\" font-weight=\"bold\" text-anchor=\"start\" x=\"1666\" y=\"-87.3\">Name</text>\n",
       "</g>\n",
       "<!-- 58&#45;&#45;63 -->\n",
       "<g class=\"edge\" id=\"edge63\">\n",
       "<title>58--63</title>\n",
       "<path d=\"M1583,-144C1583,-144 1626.3231,-120.6055 1655.9386,-104.6132\" fill=\"none\" stroke=\"#000000\"/>\n",
       "</g>\n",
       "<!-- 60 -->\n",
       "<g class=\"node\" id=\"node61\">\n",
       "<title>60</title>\n",
       "<text fill=\"#008040\" font-family=\"Courier,monospace\" font-size=\"14.00\" text-anchor=\"middle\" x=\"1467\" y=\"-14.3\">&quot;x&quot;</text>\n",
       "</g>\n",
       "<!-- 59&#45;&#45;60 -->\n",
       "<g class=\"edge\" id=\"edge60\">\n",
       "<title>59--60</title>\n",
       "<path d=\"M1531,-72C1531,-72 1507.2344,-51.9478 1488.6675,-36.2819\" fill=\"none\" stroke=\"#000000\"/>\n",
       "</g>\n",
       "<!-- 61 -->\n",
       "<g class=\"node\" id=\"node62\">\n",
       "<title>61</title>\n",
       "<text fill=\"#008040\" font-family=\"Courier,monospace\" font-size=\"14.00\" text-anchor=\"middle\" x=\"1539\" y=\"-14.3\">Load</text>\n",
       "</g>\n",
       "<!-- 59&#45;&#45;61 -->\n",
       "<g class=\"edge\" id=\"edge61\">\n",
       "<title>59--61</title>\n",
       "<path d=\"M1531,-72C1531,-72 1533.9707,-51.9478 1536.2916,-36.2819\" fill=\"none\" stroke=\"#000000\"/>\n",
       "</g>\n",
       "<!-- 64 -->\n",
       "<g class=\"node\" id=\"node65\">\n",
       "<title>64</title>\n",
       "<text fill=\"#008040\" font-family=\"Courier,monospace\" font-size=\"14.00\" text-anchor=\"middle\" x=\"1611\" y=\"-14.3\">&quot;z&quot;</text>\n",
       "</g>\n",
       "<!-- 63&#45;&#45;64 -->\n",
       "<g class=\"edge\" id=\"edge64\">\n",
       "<title>63--64</title>\n",
       "<path d=\"M1675,-72C1675,-72 1651.2344,-51.9478 1632.6675,-36.2819\" fill=\"none\" stroke=\"#000000\"/>\n",
       "</g>\n",
       "<!-- 65 -->\n",
       "<g class=\"node\" id=\"node66\">\n",
       "<title>65</title>\n",
       "<text fill=\"#008040\" font-family=\"Courier,monospace\" font-size=\"14.00\" text-anchor=\"middle\" x=\"1683\" y=\"-14.3\">Load</text>\n",
       "</g>\n",
       "<!-- 63&#45;&#45;65 -->\n",
       "<g class=\"edge\" id=\"edge65\">\n",
       "<title>63--65</title>\n",
       "<path d=\"M1675,-72C1675,-72 1677.9707,-51.9478 1680.2916,-36.2819\" fill=\"none\" stroke=\"#000000\"/>\n",
       "</g>\n",
       "<!-- 67 -->\n",
       "<g class=\"node\" id=\"node68\">\n",
       "<title>67</title>\n",
       "<text fill=\"#004080\" font-family=\"Courier,monospace\" font-size=\"14.00\" font-weight=\"bold\" text-anchor=\"start\" x=\"1738\" y=\"-87.3\">Name</text>\n",
       "</g>\n",
       "<!-- 66&#45;&#45;67 -->\n",
       "<g class=\"edge\" id=\"edge67\">\n",
       "<title>66--67</title>\n",
       "<path d=\"M1722.1031,-143.8314C1728.7222,-133 1737.102,-119.2876 1743.7474,-108.4133\" fill=\"none\" stroke=\"#000000\"/>\n",
       "</g>\n",
       "<!-- 68 -->\n",
       "<g class=\"node\" id=\"node69\">\n",
       "<title>68</title>\n",
       "<text fill=\"#008040\" font-family=\"Courier,monospace\" font-size=\"14.00\" text-anchor=\"middle\" x=\"1755\" y=\"-14.3\">&quot;x&quot;</text>\n",
       "</g>\n",
       "<!-- 67&#45;&#45;68 -->\n",
       "<g class=\"edge\" id=\"edge68\">\n",
       "<title>67--68</title>\n",
       "<path d=\"M1763,-72C1763,-72 1760.0293,-51.9478 1757.7084,-36.2819\" fill=\"none\" stroke=\"#000000\"/>\n",
       "</g>\n",
       "<!-- 69 -->\n",
       "<g class=\"node\" id=\"node70\">\n",
       "<title>69</title>\n",
       "<text fill=\"#008040\" font-family=\"Courier,monospace\" font-size=\"14.00\" text-anchor=\"middle\" x=\"1827\" y=\"-14.3\">Load</text>\n",
       "</g>\n",
       "<!-- 67&#45;&#45;69 -->\n",
       "<g class=\"edge\" id=\"edge69\">\n",
       "<title>67--69</title>\n",
       "<path d=\"M1763,-72C1763,-72 1786.7656,-51.9478 1805.3325,-36.2819\" fill=\"none\" stroke=\"#000000\"/>\n",
       "</g>\n",
       "<!-- 71 -->\n",
       "<g class=\"node\" id=\"node72\">\n",
       "<title>71</title>\n",
       "<text fill=\"#004080\" font-family=\"Courier,monospace\" font-size=\"14.00\" font-weight=\"bold\" text-anchor=\"start\" x=\"1597\" y=\"-303.3\">Name</text>\n",
       "</g>\n",
       "<!-- 70&#45;&#45;71 -->\n",
       "<g class=\"edge\" id=\"edge71\">\n",
       "<title>70--71</title>\n",
       "<path d=\"M1188.7514,-372.7057C1275.9118,-359.0334 1507.2536,-322.7445 1586.735,-310.2769\" fill=\"none\" stroke=\"#000000\"/>\n",
       "</g>\n",
       "<!-- 72 -->\n",
       "<g class=\"node\" id=\"node73\">\n",
       "<title>72</title>\n",
       "<text fill=\"#008040\" font-family=\"Courier,monospace\" font-size=\"14.00\" text-anchor=\"middle\" x=\"1614\" y=\"-230.3\">&quot;z&quot;</text>\n",
       "</g>\n",
       "<!-- 71&#45;&#45;72 -->\n",
       "<g class=\"edge\" id=\"edge72\">\n",
       "<title>71--72</title>\n",
       "<path d=\"M1622,-288C1622,-288 1619.0293,-267.9478 1616.7084,-252.2819\" fill=\"none\" stroke=\"#000000\"/>\n",
       "</g>\n",
       "<!-- 73 -->\n",
       "<g class=\"node\" id=\"node74\">\n",
       "<title>73</title>\n",
       "<text fill=\"#008040\" font-family=\"Courier,monospace\" font-size=\"14.00\" text-anchor=\"middle\" x=\"1686\" y=\"-230.3\">Load</text>\n",
       "</g>\n",
       "<!-- 71&#45;&#45;73 -->\n",
       "<g class=\"edge\" id=\"edge73\">\n",
       "<title>71--73</title>\n",
       "<path d=\"M1622,-288C1622,-288 1645.7656,-267.9478 1664.3325,-252.2819\" fill=\"none\" stroke=\"#000000\"/>\n",
       "</g>\n",
       "</g>\n",
       "</svg>"
      ],
      "text/plain": [
       "<IPython.core.display.SVG object>"
      ]
     },
     "metadata": {},
     "output_type": "display_data"
    }
   ],
   "source": [
    "middle_tree = ast.parse(inspect.getsource(middle))\n",
    "show_ast(middle_tree)"
   ]
  },
  {
   "cell_type": "markdown",
   "metadata": {
    "slideshow": {
     "slide_type": "fragment"
    }
   },
   "source": [
    "At the very bottom of the tree, you can see a number of `Name` nodes, referring individual variables. These are the ones we want to transform."
   ]
  },
  {
   "cell_type": "markdown",
   "metadata": {
    "slideshow": {
     "slide_type": "subslide"
    }
   },
   "source": [
    "### Tracking Variable Access\n",
    "\n",
    "Our goal is to _traverse_ the tree, identify all `Name` nodes, and convert them to respective `_data` accesses.\n",
    "To this end, we manipulate the AST through the Python modules `ast` and `astor`. The [official Python `ast` reference](http://docs.python.org/3/library/ast) is complete, but a bit brief; the documentation [\"Green Tree Snakes - the missing Python AST docs\"](https://greentreesnakes.readthedocs.io/en/latest/) provides an excellent introduction."
   ]
  },
  {
   "cell_type": "markdown",
   "metadata": {
    "slideshow": {
     "slide_type": "fragment"
    }
   },
   "source": [
    "The Python `ast` class provides a class `NodeTransformer` that allows such transformations. Subclassing from it, we provide a method `visit_Name()` that will be invoked for all `Name` nodes – and replace it by a new subtree from `make_get_data()`:"
   ]
  },
  {
   "cell_type": "code",
   "execution_count": 66,
   "metadata": {
    "execution": {
     "iopub.execute_input": "2021-03-05T23:37:14.224958Z",
     "iopub.status.busy": "2021-03-05T23:37:14.224276Z",
     "iopub.status.idle": "2021-03-05T23:37:14.226059Z",
     "shell.execute_reply": "2021-03-05T23:37:14.226438Z"
    },
    "slideshow": {
     "slide_type": "skip"
    }
   },
   "outputs": [],
   "source": [
    "from ast import NodeTransformer, NodeVisitor, Name, AST"
   ]
  },
  {
   "cell_type": "code",
   "execution_count": 67,
   "metadata": {
    "execution": {
     "iopub.execute_input": "2021-03-05T23:37:14.229787Z",
     "iopub.status.busy": "2021-03-05T23:37:14.229190Z",
     "iopub.status.idle": "2021-03-05T23:37:14.230973Z",
     "shell.execute_reply": "2021-03-05T23:37:14.231417Z"
    },
    "slideshow": {
     "slide_type": "fragment"
    }
   },
   "outputs": [],
   "source": [
    "DATA_TRACKER = '_data'"
   ]
  },
  {
   "cell_type": "code",
   "execution_count": 68,
   "metadata": {
    "execution": {
     "iopub.execute_input": "2021-03-05T23:37:14.236341Z",
     "iopub.status.busy": "2021-03-05T23:37:14.235782Z",
     "iopub.status.idle": "2021-03-05T23:37:14.237222Z",
     "shell.execute_reply": "2021-03-05T23:37:14.237591Z"
    },
    "slideshow": {
     "slide_type": "subslide"
    }
   },
   "outputs": [],
   "source": [
    "class TrackGetTransformer(NodeTransformer):\n",
    "    def visit_Name(self, node: Name) -> AST:\n",
    "        self.generic_visit(node)\n",
    "\n",
    "        if node.id in dir(__builtins__):\n",
    "            # Do not change built-in names\n",
    "            return node\n",
    "\n",
    "        if node.id == DATA_TRACKER:\n",
    "            # Do not change own accesses\n",
    "            return node\n",
    "\n",
    "        if not isinstance(node.ctx, Load):\n",
    "            # Only change loads (not stores, not deletions)\n",
    "            return node\n",
    "\n",
    "        new_node = make_get_data(node.id)\n",
    "        ast.copy_location(new_node, node)\n",
    "        return new_node"
   ]
  },
  {
   "cell_type": "markdown",
   "metadata": {
    "slideshow": {
     "slide_type": "subslide"
    }
   },
   "source": [
    "Our function `make_get_data(id, method)` returns a new subtree equivalent to the Python code `_data.method('id', id)`."
   ]
  },
  {
   "cell_type": "code",
   "execution_count": 69,
   "metadata": {
    "execution": {
     "iopub.execute_input": "2021-03-05T23:37:14.240690Z",
     "iopub.status.busy": "2021-03-05T23:37:14.240180Z",
     "iopub.status.idle": "2021-03-05T23:37:14.241863Z",
     "shell.execute_reply": "2021-03-05T23:37:14.242296Z"
    },
    "slideshow": {
     "slide_type": "skip"
    }
   },
   "outputs": [],
   "source": [
    "from ast import Module, Load, Store, \\\n",
    "    Attribute, With, withitem, keyword, Call, Expr, Assign, AugAssign"
   ]
  },
  {
   "cell_type": "code",
   "execution_count": 70,
   "metadata": {
    "execution": {
     "iopub.execute_input": "2021-03-05T23:37:14.245098Z",
     "iopub.status.busy": "2021-03-05T23:37:14.244520Z",
     "iopub.status.idle": "2021-03-05T23:37:14.245928Z",
     "shell.execute_reply": "2021-03-05T23:37:14.246298Z"
    },
    "slideshow": {
     "slide_type": "fragment"
    }
   },
   "outputs": [],
   "source": [
    "# Starting with Python 3.8, these will become Constant.\n",
    "# from ast import Num, Str, NameConstant\n",
    "# Use `ast.Num`, `ast.Str`, and `ast.NameConstant` for compatibility"
   ]
  },
  {
   "cell_type": "code",
   "execution_count": 71,
   "metadata": {
    "execution": {
     "iopub.execute_input": "2021-03-05T23:37:14.250653Z",
     "iopub.status.busy": "2021-03-05T23:37:14.250124Z",
     "iopub.status.idle": "2021-03-05T23:37:14.251808Z",
     "shell.execute_reply": "2021-03-05T23:37:14.252180Z"
    },
    "slideshow": {
     "slide_type": "fragment"
    }
   },
   "outputs": [],
   "source": [
    "def make_get_data(id: str, method: str = 'get') -> Call:\n",
    "    return Call(func=Attribute(value=Name(id=DATA_TRACKER, ctx=Load()), \n",
    "                               attr=method, ctx=Load()),\n",
    "                args=[ast.Str(s=id), Name(id=id, ctx=Load())],\n",
    "                keywords=[])"
   ]
  },
  {
   "cell_type": "markdown",
   "metadata": {
    "slideshow": {
     "slide_type": "fragment"
    }
   },
   "source": [
    "This is the tree that `make_get_data()` produces:"
   ]
  },
  {
   "cell_type": "code",
   "execution_count": 72,
   "metadata": {
    "execution": {
     "iopub.execute_input": "2021-03-05T23:37:14.255285Z",
     "iopub.status.busy": "2021-03-05T23:37:14.254721Z",
     "iopub.status.idle": "2021-03-05T23:37:14.933602Z",
     "shell.execute_reply": "2021-03-05T23:37:14.933996Z"
    },
    "slideshow": {
     "slide_type": "fragment"
    }
   },
   "outputs": [
    {
     "data": {
      "image/svg+xml": [
       "<svg height=\"260pt\" viewBox=\"0.00 0.00 479.50 260.00\" width=\"480pt\" xmlns=\"http://www.w3.org/2000/svg\" xmlns:xlink=\"http://www.w3.org/1999/xlink\">\n",
       "<g class=\"graph\" id=\"graph0\" transform=\"scale(1 1) rotate(0) translate(4 256)\">\n",
       "<title>%3</title>\n",
       "<polygon fill=\"#ffffff\" points=\"-4,4 -4,-256 475.5,-256 475.5,4 -4,4\" stroke=\"transparent\"/>\n",
       "<!-- 0 -->\n",
       "<g class=\"node\" id=\"node1\">\n",
       "<title>0</title>\n",
       "<text fill=\"#004080\" font-family=\"Courier,monospace\" font-size=\"14.00\" font-weight=\"bold\" text-anchor=\"start\" x=\"283.5\" y=\"-231.3\">Call</text>\n",
       "</g>\n",
       "<!-- 1 -->\n",
       "<g class=\"node\" id=\"node2\">\n",
       "<title>1</title>\n",
       "<text fill=\"#004080\" font-family=\"Courier,monospace\" font-size=\"14.00\" font-weight=\"bold\" text-anchor=\"start\" x=\"143.5\" y=\"-159.3\">Attribute</text>\n",
       "</g>\n",
       "<!-- 0&#45;&#45;1 -->\n",
       "<g class=\"edge\" id=\"edge1\">\n",
       "<title>0--1</title>\n",
       "<path d=\"M299.5,-216C299.5,-216 255.4008,-195.819 221.1206,-180.1314\" fill=\"none\" stroke=\"#000000\"/>\n",
       "</g>\n",
       "<!-- 7 -->\n",
       "<g class=\"node\" id=\"node8\">\n",
       "<title>7</title>\n",
       "<text fill=\"#004080\" font-family=\"Courier,monospace\" font-size=\"14.00\" font-weight=\"bold\" text-anchor=\"start\" x=\"287.5\" y=\"-159.3\">Str</text>\n",
       "</g>\n",
       "<!-- 0&#45;&#45;7 -->\n",
       "<g class=\"edge\" id=\"edge7\">\n",
       "<title>0--7</title>\n",
       "<path d=\"M299.5,-216C299.5,-216 299.8713,-195.9478 300.1614,-180.2819\" fill=\"none\" stroke=\"#000000\"/>\n",
       "</g>\n",
       "<!-- 9 -->\n",
       "<g class=\"node\" id=\"node10\">\n",
       "<title>9</title>\n",
       "<text fill=\"#004080\" font-family=\"Courier,monospace\" font-size=\"14.00\" font-weight=\"bold\" text-anchor=\"start\" x=\"355.5\" y=\"-159.3\">Name</text>\n",
       "</g>\n",
       "<!-- 0&#45;&#45;9 -->\n",
       "<g class=\"edge\" id=\"edge9\">\n",
       "<title>0--9</title>\n",
       "<path d=\"M299.5,-216C299.5,-216 326.6077,-195.9478 347.7855,-180.2819\" fill=\"none\" stroke=\"#000000\"/>\n",
       "</g>\n",
       "<!-- 2 -->\n",
       "<g class=\"node\" id=\"node3\">\n",
       "<title>2</title>\n",
       "<text fill=\"#004080\" font-family=\"Courier,monospace\" font-size=\"14.00\" font-weight=\"bold\" text-anchor=\"start\" x=\"61.5\" y=\"-87.3\">Name</text>\n",
       "</g>\n",
       "<!-- 1&#45;&#45;2 -->\n",
       "<g class=\"edge\" id=\"edge2\">\n",
       "<title>1--2</title>\n",
       "<path d=\"M176.5,-144C176.5,-144 134.5458,-120.8824 105.5384,-104.8987\" fill=\"none\" stroke=\"#000000\"/>\n",
       "</g>\n",
       "<!-- 5 -->\n",
       "<g class=\"node\" id=\"node6\">\n",
       "<title>5</title>\n",
       "<text fill=\"#008040\" font-family=\"Courier,monospace\" font-size=\"14.00\" text-anchor=\"middle\" x=\"153.5\" y=\"-86.3\">&quot;get&quot;</text>\n",
       "</g>\n",
       "<!-- 1&#45;&#45;5 -->\n",
       "<g class=\"edge\" id=\"edge5\">\n",
       "<title>1--5</title>\n",
       "<path d=\"M176.5,-144C176.5,-144 167.9592,-123.9478 161.2868,-108.2819\" fill=\"none\" stroke=\"#000000\"/>\n",
       "</g>\n",
       "<!-- 6 -->\n",
       "<g class=\"node\" id=\"node7\">\n",
       "<title>6</title>\n",
       "<text fill=\"#008040\" font-family=\"Courier,monospace\" font-size=\"14.00\" text-anchor=\"middle\" x=\"228.5\" y=\"-86.3\">Load</text>\n",
       "</g>\n",
       "<!-- 1&#45;&#45;6 -->\n",
       "<g class=\"edge\" id=\"edge6\">\n",
       "<title>1--6</title>\n",
       "<path d=\"M176.5,-144C176.5,-144 195.8096,-123.9478 210.8952,-108.2819\" fill=\"none\" stroke=\"#000000\"/>\n",
       "</g>\n",
       "<!-- 3 -->\n",
       "<g class=\"node\" id=\"node4\">\n",
       "<title>3</title>\n",
       "<text fill=\"#008040\" font-family=\"Courier,monospace\" font-size=\"14.00\" text-anchor=\"middle\" x=\"37.5\" y=\"-14.3\">&quot;_data&quot;</text>\n",
       "</g>\n",
       "<!-- 2&#45;&#45;3 -->\n",
       "<g class=\"edge\" id=\"edge3\">\n",
       "<title>2--3</title>\n",
       "<path d=\"M78.5,-72C78.5,-72 63.2751,-51.9478 51.3807,-36.2819\" fill=\"none\" stroke=\"#000000\"/>\n",
       "</g>\n",
       "<!-- 4 -->\n",
       "<g class=\"node\" id=\"node5\">\n",
       "<title>4</title>\n",
       "<text fill=\"#008040\" font-family=\"Courier,monospace\" font-size=\"14.00\" text-anchor=\"middle\" x=\"120.5\" y=\"-14.3\">Load</text>\n",
       "</g>\n",
       "<!-- 2&#45;&#45;4 -->\n",
       "<g class=\"edge\" id=\"edge4\">\n",
       "<title>2--4</title>\n",
       "<path d=\"M78.5,-72C78.5,-72 94.0962,-51.9478 106.2807,-36.2819\" fill=\"none\" stroke=\"#000000\"/>\n",
       "</g>\n",
       "<!-- 8 -->\n",
       "<g class=\"node\" id=\"node9\">\n",
       "<title>8</title>\n",
       "<text fill=\"#008040\" font-family=\"Courier,monospace\" font-size=\"14.00\" text-anchor=\"middle\" x=\"300.5\" y=\"-86.3\">&quot;x&quot;</text>\n",
       "</g>\n",
       "<!-- 7&#45;&#45;8 -->\n",
       "<g class=\"edge\" id=\"edge8\">\n",
       "<title>7--8</title>\n",
       "<path d=\"M300.5,-143.8314C300.5,-133 300.5,-119.2876 300.5,-108.4133\" fill=\"none\" stroke=\"#000000\"/>\n",
       "</g>\n",
       "<!-- 10 -->\n",
       "<g class=\"node\" id=\"node11\">\n",
       "<title>10</title>\n",
       "<text fill=\"#008040\" font-family=\"Courier,monospace\" font-size=\"14.00\" text-anchor=\"middle\" x=\"372.5\" y=\"-86.3\">&quot;x&quot;</text>\n",
       "</g>\n",
       "<!-- 9&#45;&#45;10 -->\n",
       "<g class=\"edge\" id=\"edge10\">\n",
       "<title>9--10</title>\n",
       "<path d=\"M380.5,-144C380.5,-144 377.5293,-123.9478 375.2084,-108.2819\" fill=\"none\" stroke=\"#000000\"/>\n",
       "</g>\n",
       "<!-- 11 -->\n",
       "<g class=\"node\" id=\"node12\">\n",
       "<title>11</title>\n",
       "<text fill=\"#008040\" font-family=\"Courier,monospace\" font-size=\"14.00\" text-anchor=\"middle\" x=\"444.5\" y=\"-86.3\">Load</text>\n",
       "</g>\n",
       "<!-- 9&#45;&#45;11 -->\n",
       "<g class=\"edge\" id=\"edge11\">\n",
       "<title>9--11</title>\n",
       "<path d=\"M380.5,-144C380.5,-144 404.2656,-123.9478 422.8325,-108.2819\" fill=\"none\" stroke=\"#000000\"/>\n",
       "</g>\n",
       "</g>\n",
       "</svg>"
      ],
      "text/plain": [
       "<IPython.core.display.SVG object>"
      ]
     },
     "metadata": {},
     "output_type": "display_data"
    }
   ],
   "source": [
    "show_ast(Module(body=[make_get_data(\"x\")]))"
   ]
  },
  {
   "cell_type": "markdown",
   "metadata": {
    "slideshow": {
     "slide_type": "subslide"
    }
   },
   "source": [
    "How do we know that this is a correct subtree? We can carefully read the [official Python `ast` reference](http://docs.python.org/3/library/ast) and then proceed by trial and error (and apply [delta debugging](DeltaDebugger.ipynb) to determine error causes). Or – pro tip! – we can simply take a piece of Python code, parse it and use `ast.dump()` to print out how to construct the resulting AST:"
   ]
  },
  {
   "cell_type": "code",
   "execution_count": 73,
   "metadata": {
    "execution": {
     "iopub.execute_input": "2021-03-05T23:37:14.937914Z",
     "iopub.status.busy": "2021-03-05T23:37:14.937332Z",
     "iopub.status.idle": "2021-03-05T23:37:14.939414Z",
     "shell.execute_reply": "2021-03-05T23:37:14.939784Z"
    },
    "slideshow": {
     "slide_type": "fragment"
    }
   },
   "outputs": [
    {
     "name": "stdout",
     "output_type": "stream",
     "text": [
      "Module(body=[Expr(value=Call(func=Attribute(value=Name(id='_data', ctx=Load()), attr='get', ctx=Load()), args=[Str(s='x'), Name(id='x', ctx=Load())], keywords=[]))])\n"
     ]
    }
   ],
   "source": [
    "print(ast.dump(ast.parse(\"_data.get('x', x)\")))"
   ]
  },
  {
   "cell_type": "markdown",
   "metadata": {
    "slideshow": {
     "slide_type": "fragment"
    }
   },
   "source": [
    "If you compare the above output with the code of `make_get_data()`, above, you will find out where the source of `make_get_data()` comes from."
   ]
  },
  {
   "cell_type": "markdown",
   "metadata": {
    "slideshow": {
     "slide_type": "fragment"
    }
   },
   "source": [
    "Let us put `TrackGetTransformer` to action. Its `visit()` method calls `visit_Name()`, which then in turn transforms the `Name` nodes as we want it. This happens in place."
   ]
  },
  {
   "cell_type": "code",
   "execution_count": 74,
   "metadata": {
    "execution": {
     "iopub.execute_input": "2021-03-05T23:37:14.943793Z",
     "iopub.status.busy": "2021-03-05T23:37:14.943259Z",
     "iopub.status.idle": "2021-03-05T23:37:14.945317Z",
     "shell.execute_reply": "2021-03-05T23:37:14.945689Z"
    },
    "slideshow": {
     "slide_type": "subslide"
    }
   },
   "outputs": [
    {
     "data": {
      "text/plain": [
       "<_ast.Module at 0x7fe1d64d55f8>"
      ]
     },
     "execution_count": 1,
     "metadata": {},
     "output_type": "execute_result"
    }
   ],
   "source": [
    "TrackGetTransformer().visit(middle_tree);"
   ]
  },
  {
   "cell_type": "markdown",
   "metadata": {
    "slideshow": {
     "slide_type": "fragment"
    }
   },
   "source": [
    "To see the effect of our transformations, we introduce a method `dump_tree()` which outputs the tree – and also compiles it to check for any inconsistencies."
   ]
  },
  {
   "cell_type": "code",
   "execution_count": 75,
   "metadata": {
    "execution": {
     "iopub.execute_input": "2021-03-05T23:37:14.949303Z",
     "iopub.status.busy": "2021-03-05T23:37:14.948785Z",
     "iopub.status.idle": "2021-03-05T23:37:14.950416Z",
     "shell.execute_reply": "2021-03-05T23:37:14.950797Z"
    },
    "slideshow": {
     "slide_type": "fragment"
    }
   },
   "outputs": [],
   "source": [
    "def dump_tree(tree: AST) -> None:\n",
    "    print_content(astor.to_source(tree), '.py')\n",
    "    ast.fix_missing_locations(tree)  # Must run this before compiling\n",
    "    _ = compile(tree, '<dump_tree>', 'exec')"
   ]
  },
  {
   "cell_type": "markdown",
   "metadata": {
    "slideshow": {
     "slide_type": "fragment"
    }
   },
   "source": [
    "We see that our transformer has properly replaced all "
   ]
  },
  {
   "cell_type": "code",
   "execution_count": 76,
   "metadata": {
    "execution": {
     "iopub.execute_input": "2021-03-05T23:37:14.960794Z",
     "iopub.status.busy": "2021-03-05T23:37:14.960239Z",
     "iopub.status.idle": "2021-03-05T23:37:14.962249Z",
     "shell.execute_reply": "2021-03-05T23:37:14.962649Z"
    },
    "slideshow": {
     "slide_type": "subslide"
    }
   },
   "outputs": [
    {
     "name": "stdout",
     "output_type": "stream",
     "text": [
      "\u001b[34mdef\u001b[39;49;00m \u001b[32mmiddle\u001b[39;49;00m(x, y, z):\n",
      "    \u001b[34mif\u001b[39;49;00m _data.get(\u001b[33m'\u001b[39;49;00m\u001b[33my\u001b[39;49;00m\u001b[33m'\u001b[39;49;00m, y) < _data.get(\u001b[33m'\u001b[39;49;00m\u001b[33mz\u001b[39;49;00m\u001b[33m'\u001b[39;49;00m, z):\n",
      "        \u001b[34mif\u001b[39;49;00m _data.get(\u001b[33m'\u001b[39;49;00m\u001b[33mx\u001b[39;49;00m\u001b[33m'\u001b[39;49;00m, x) < _data.get(\u001b[33m'\u001b[39;49;00m\u001b[33my\u001b[39;49;00m\u001b[33m'\u001b[39;49;00m, y):\n",
      "            \u001b[34mreturn\u001b[39;49;00m _data.get(\u001b[33m'\u001b[39;49;00m\u001b[33my\u001b[39;49;00m\u001b[33m'\u001b[39;49;00m, y)\n",
      "        \u001b[34melif\u001b[39;49;00m _data.get(\u001b[33m'\u001b[39;49;00m\u001b[33mx\u001b[39;49;00m\u001b[33m'\u001b[39;49;00m, x) < _data.get(\u001b[33m'\u001b[39;49;00m\u001b[33mz\u001b[39;49;00m\u001b[33m'\u001b[39;49;00m, z):\n",
      "            \u001b[34mreturn\u001b[39;49;00m _data.get(\u001b[33m'\u001b[39;49;00m\u001b[33my\u001b[39;49;00m\u001b[33m'\u001b[39;49;00m, y)\n",
      "    \u001b[34melif\u001b[39;49;00m _data.get(\u001b[33m'\u001b[39;49;00m\u001b[33mx\u001b[39;49;00m\u001b[33m'\u001b[39;49;00m, x) > _data.get(\u001b[33m'\u001b[39;49;00m\u001b[33my\u001b[39;49;00m\u001b[33m'\u001b[39;49;00m, y):\n",
      "        \u001b[34mreturn\u001b[39;49;00m _data.get(\u001b[33m'\u001b[39;49;00m\u001b[33my\u001b[39;49;00m\u001b[33m'\u001b[39;49;00m, y)\n",
      "    \u001b[34melif\u001b[39;49;00m _data.get(\u001b[33m'\u001b[39;49;00m\u001b[33mx\u001b[39;49;00m\u001b[33m'\u001b[39;49;00m, x) > _data.get(\u001b[33m'\u001b[39;49;00m\u001b[33mz\u001b[39;49;00m\u001b[33m'\u001b[39;49;00m, z):\n",
      "        \u001b[34mreturn\u001b[39;49;00m _data.get(\u001b[33m'\u001b[39;49;00m\u001b[33mx\u001b[39;49;00m\u001b[33m'\u001b[39;49;00m, x)\n",
      "    \u001b[34mreturn\u001b[39;49;00m _data.get(\u001b[33m'\u001b[39;49;00m\u001b[33mz\u001b[39;49;00m\u001b[33m'\u001b[39;49;00m, z)"
     ]
    }
   ],
   "source": [
    "dump_tree(middle_tree)"
   ]
  },
  {
   "cell_type": "markdown",
   "metadata": {
    "slideshow": {
     "slide_type": "subslide"
    }
   },
   "source": [
    "Let us now execute this code together with the `DataTracker()` class we previously introduced. The class `DataTrackerTester()` takes a (transformed) tree and a function. Using it as\n",
    "\n",
    "```python\n",
    "with DataTrackerTester(tree, func):\n",
    "    func(...)\n",
    "```\n",
    "\n",
    "first executes the code in _tree_ (possibly instrumenting `func`) and then the `with` body. At the end, `func` is restored to its previous (non-instrumented) version."
   ]
  },
  {
   "cell_type": "code",
   "execution_count": 77,
   "metadata": {
    "execution": {
     "iopub.execute_input": "2021-03-05T23:37:14.965840Z",
     "iopub.status.busy": "2021-03-05T23:37:14.965305Z",
     "iopub.status.idle": "2021-03-05T23:37:14.967047Z",
     "shell.execute_reply": "2021-03-05T23:37:14.967529Z"
    },
    "slideshow": {
     "slide_type": "skip"
    }
   },
   "outputs": [],
   "source": [
    "from types import TracebackType"
   ]
  },
  {
   "cell_type": "code",
   "execution_count": 78,
   "metadata": {
    "execution": {
     "iopub.execute_input": "2021-03-05T23:37:14.974237Z",
     "iopub.status.busy": "2021-03-05T23:37:14.973548Z",
     "iopub.status.idle": "2021-03-05T23:37:14.975252Z",
     "shell.execute_reply": "2021-03-05T23:37:14.975637Z"
    },
    "slideshow": {
     "slide_type": "subslide"
    }
   },
   "outputs": [],
   "source": [
    "class DataTrackerTester:\n",
    "    def __init__(self, tree: AST, func: Callable, log: bool = True) -> None:\n",
    "        \"\"\"Constructor. Execute the code in `tree` while instrumenting `func`.\"\"\"\n",
    "        # We pass the source file of `func` such that we can retrieve it\n",
    "        # when accessing the location of the new compiled code\n",
    "        source = cast(str, inspect.getsourcefile(func))\n",
    "        self.code = compile(tree, source, 'exec')\n",
    "        self.func = func\n",
    "        self.log = log\n",
    "\n",
    "    def make_data_tracker(self) -> Any:\n",
    "        return DataTracker(log=self.log)\n",
    "\n",
    "    def __enter__(self) -> Any:\n",
    "        \"\"\"Rewrite function\"\"\"\n",
    "        tracker = self.make_data_tracker()\n",
    "        globals()[DATA_TRACKER] = tracker\n",
    "        exec(self.code, globals())\n",
    "        return tracker\n",
    "\n",
    "    def __exit__(self, exc_type: Type, exc_value: BaseException,\n",
    "                 traceback: TracebackType) -> Optional[bool]:\n",
    "        \"\"\"Restore function\"\"\"\n",
    "        globals()[self.func.__name__] = self.func\n",
    "        del globals()[DATA_TRACKER]\n",
    "        return None"
   ]
  },
  {
   "cell_type": "markdown",
   "metadata": {
    "slideshow": {
     "slide_type": "subslide"
    }
   },
   "source": [
    "Here is our `middle()` function:"
   ]
  },
  {
   "cell_type": "code",
   "execution_count": 79,
   "metadata": {
    "execution": {
     "iopub.execute_input": "2021-03-05T23:37:14.983624Z",
     "iopub.status.busy": "2021-03-05T23:37:14.983014Z",
     "iopub.status.idle": "2021-03-05T23:37:14.985055Z",
     "shell.execute_reply": "2021-03-05T23:37:14.985502Z"
    },
    "slideshow": {
     "slide_type": "fragment"
    }
   },
   "outputs": [
    {
     "name": "stdout",
     "output_type": "stream",
     "text": [
      " 1  \u001b[34mdef\u001b[39;49;00m \u001b[32mmiddle\u001b[39;49;00m(x, y, z):  \u001b[37m# type: ignore\u001b[39;49;00m\n",
      " 2      \u001b[34mif\u001b[39;49;00m y < z:\n",
      " 3          \u001b[34mif\u001b[39;49;00m x < y:\n",
      " 4              \u001b[34mreturn\u001b[39;49;00m y\n",
      " 5          \u001b[34melif\u001b[39;49;00m x < z:\n",
      " 6              \u001b[34mreturn\u001b[39;49;00m y\n",
      " 7      \u001b[34melse\u001b[39;49;00m:\n",
      " 8          \u001b[34mif\u001b[39;49;00m x > y:\n",
      " 9              \u001b[34mreturn\u001b[39;49;00m y\n",
      "10          \u001b[34melif\u001b[39;49;00m x > z:\n",
      "11              \u001b[34mreturn\u001b[39;49;00m x\n",
      "12      \u001b[34mreturn\u001b[39;49;00m z"
     ]
    }
   ],
   "source": [
    "print_content(inspect.getsource(middle), '.py', start_line_number=1)"
   ]
  },
  {
   "cell_type": "markdown",
   "metadata": {
    "slideshow": {
     "slide_type": "subslide"
    }
   },
   "source": [
    "And here is our instrumented `middle_tree` executed with a `DataTracker` object. We see how the `middle()` tests access one argument after another."
   ]
  },
  {
   "cell_type": "code",
   "execution_count": 80,
   "metadata": {
    "execution": {
     "iopub.execute_input": "2021-03-05T23:37:14.988854Z",
     "iopub.status.busy": "2021-03-05T23:37:14.988262Z",
     "iopub.status.idle": "2021-03-05T23:37:14.990253Z",
     "shell.execute_reply": "2021-03-05T23:37:14.990687Z"
    },
    "slideshow": {
     "slide_type": "fragment"
    }
   },
   "outputs": [
    {
     "name": "stdout",
     "output_type": "stream",
     "text": [
      "middle:2: getting y\n",
      "middle:2: getting z\n",
      "middle:3: getting x\n",
      "middle:3: getting y\n",
      "middle:5: getting x\n",
      "middle:5: getting z\n",
      "middle:6: getting y\n"
     ]
    }
   ],
   "source": [
    "with DataTrackerTester(middle_tree, middle):\n",
    "    middle(2, 1, 3)"
   ]
  },
  {
   "cell_type": "markdown",
   "metadata": {
    "slideshow": {
     "slide_type": "fragment"
    }
   },
   "source": [
    "After `DataTrackerTester` is done, `middle` is reverted to its non-instrumented version:"
   ]
  },
  {
   "cell_type": "code",
   "execution_count": 81,
   "metadata": {
    "execution": {
     "iopub.execute_input": "2021-03-05T23:37:14.994673Z",
     "iopub.status.busy": "2021-03-05T23:37:14.993882Z",
     "iopub.status.idle": "2021-03-05T23:37:14.996184Z",
     "shell.execute_reply": "2021-03-05T23:37:14.996577Z"
    },
    "slideshow": {
     "slide_type": "subslide"
    }
   },
   "outputs": [
    {
     "data": {
      "text/plain": [
       "1"
      ]
     },
     "execution_count": 1,
     "metadata": {},
     "output_type": "execute_result"
    }
   ],
   "source": [
    "middle(2, 1, 3)"
   ]
  },
  {
   "cell_type": "markdown",
   "metadata": {
    "slideshow": {
     "slide_type": "fragment"
    }
   },
   "source": [
    "For a complete picture of what happens during executions, we implement a number of additional code transformers."
   ]
  },
  {
   "cell_type": "markdown",
   "metadata": {
    "slideshow": {
     "slide_type": "fragment"
    }
   },
   "source": [
    "For each assignment statement `x = y`, we change it to `x = _data.set('x', y)`. This allows to __track assignments__."
   ]
  },
  {
   "cell_type": "markdown",
   "metadata": {
    "slideshow": {
     "slide_type": "subslide"
    }
   },
   "source": [
    "### Excursion: Tracking Assignments"
   ]
  },
  {
   "cell_type": "markdown",
   "metadata": {
    "slideshow": {
     "slide_type": "fragment"
    }
   },
   "source": [
    "For the remaining transformers, we follow the same steps as for `TrackGetTransformer`, except that our `visit_...()` methods focus on different nodes, and return different subtrees. Here, we focus on assignment nodes."
   ]
  },
  {
   "cell_type": "markdown",
   "metadata": {
    "slideshow": {
     "slide_type": "fragment"
    }
   },
   "source": [
    "We want to transform assignments `x = value` into `_data.set('x', value)` to track assignments to `x`."
   ]
  },
  {
   "cell_type": "markdown",
   "metadata": {
    "slideshow": {
     "slide_type": "fragment"
    }
   },
   "source": [
    "If the left hand side of the assignment is more complex, as in `x[y] = value`, we want to ensure the read access to `x` and `y` is also tracked. By transforming `x[y] = value` into `_data.set('x', value, loads=(x, y))`, we ensure that `x` and `y` are marked as read (as the otherwise ignored `loads` argument would be changed to `_data.get()` calls for `x` and `y`)."
   ]
  },
  {
   "cell_type": "markdown",
   "metadata": {
    "slideshow": {
     "slide_type": "fragment"
    }
   },
   "source": [
    "Using `ast.dump()`, we reveal what the corresponding syntax tree has to look like:"
   ]
  },
  {
   "cell_type": "code",
   "execution_count": 82,
   "metadata": {
    "execution": {
     "iopub.execute_input": "2021-03-05T23:37:15.000424Z",
     "iopub.status.busy": "2021-03-05T23:37:14.999879Z",
     "iopub.status.idle": "2021-03-05T23:37:15.001860Z",
     "shell.execute_reply": "2021-03-05T23:37:15.002337Z"
    },
    "slideshow": {
     "slide_type": "subslide"
    }
   },
   "outputs": [
    {
     "name": "stdout",
     "output_type": "stream",
     "text": [
      "Module(body=[Expr(value=Call(func=Attribute(value=Name(id='_data', ctx=Load()), attr='set', ctx=Load()), args=[Str(s='x'), Name(id='value', ctx=Load())], keywords=[keyword(arg='loads', value=Tuple(elts=[Name(id='a', ctx=Load()), Name(id='b', ctx=Load())], ctx=Load()))]))])\n"
     ]
    }
   ],
   "source": [
    "print(ast.dump(ast.parse(\"_data.set('x', value, loads=(a, b))\")))"
   ]
  },
  {
   "cell_type": "markdown",
   "metadata": {
    "slideshow": {
     "slide_type": "fragment"
    }
   },
   "source": [
    "Using this structure, we can write a function `make_set_data()` which constructs such a subtree."
   ]
  },
  {
   "cell_type": "code",
   "execution_count": 83,
   "metadata": {
    "execution": {
     "iopub.execute_input": "2021-03-05T23:37:15.008806Z",
     "iopub.status.busy": "2021-03-05T23:37:15.008233Z",
     "iopub.status.idle": "2021-03-05T23:37:15.009951Z",
     "shell.execute_reply": "2021-03-05T23:37:15.010324Z"
    },
    "slideshow": {
     "slide_type": "subslide"
    }
   },
   "outputs": [],
   "source": [
    "def make_set_data(id: str, value: Any, \n",
    "                  loads: Optional[Set[str]] = None, method: str = 'set') -> Call:\n",
    "    \"\"\"\n",
    "    Construct a subtree _data.`method`('`id`', `value`). \n",
    "    If `loads` is set to [X1, X2, ...], make it\n",
    "    _data.`method`('`id`', `value`, loads=(X1, X2, ...))\n",
    "    \"\"\"\n",
    "\n",
    "    keywords=[]\n",
    "\n",
    "    if loads:\n",
    "        keywords = [\n",
    "            keyword(arg='loads',\n",
    "                    value=ast.Tuple(\n",
    "                        elts=[Name(id=load, ctx=Load()) for load in loads],\n",
    "                        ctx=Load()\n",
    "                    ))\n",
    "        ]\n",
    "\n",
    "    new_node = Call(func=Attribute(value=Name(id=DATA_TRACKER, ctx=Load()),\n",
    "                                   attr=method, ctx=Load()),\n",
    "                    args=[ast.Str(s=id), value],\n",
    "                    keywords=keywords)\n",
    "\n",
    "    ast.copy_location(new_node, value)\n",
    "\n",
    "    return new_node"
   ]
  },
  {
   "cell_type": "markdown",
   "metadata": {
    "slideshow": {
     "slide_type": "subslide"
    }
   },
   "source": [
    "The problem is, however: How do we get the name of the variable being assigned to? The left hand side of an assignment can be a complex expression such as `x[i]`. We use the leftmost name of the left hand side as name to be assigned to."
   ]
  },
  {
   "cell_type": "code",
   "execution_count": 84,
   "metadata": {
    "execution": {
     "iopub.execute_input": "2021-03-05T23:37:15.014657Z",
     "iopub.status.busy": "2021-03-05T23:37:15.014101Z",
     "iopub.status.idle": "2021-03-05T23:37:15.015562Z",
     "shell.execute_reply": "2021-03-05T23:37:15.016000Z"
    },
    "slideshow": {
     "slide_type": "fragment"
    }
   },
   "outputs": [],
   "source": [
    "class LeftmostNameVisitor(NodeVisitor):\n",
    "    def __init__(self) -> None:\n",
    "        super().__init__()\n",
    "        self.leftmost_name: Optional[str] = None\n",
    "\n",
    "    def visit_Name(self, node: Name) -> None:\n",
    "        if self.leftmost_name is None:\n",
    "            self.leftmost_name = node.id\n",
    "        self.generic_visit(node)"
   ]
  },
  {
   "cell_type": "code",
   "execution_count": 85,
   "metadata": {
    "execution": {
     "iopub.execute_input": "2021-03-05T23:37:15.019605Z",
     "iopub.status.busy": "2021-03-05T23:37:15.019067Z",
     "iopub.status.idle": "2021-03-05T23:37:15.020891Z",
     "shell.execute_reply": "2021-03-05T23:37:15.021320Z"
    },
    "slideshow": {
     "slide_type": "subslide"
    }
   },
   "outputs": [],
   "source": [
    "def leftmost_name(tree: AST) -> Optional[str]:\n",
    "    visitor = LeftmostNameVisitor()\n",
    "    visitor.visit(tree)\n",
    "    return visitor.leftmost_name"
   ]
  },
  {
   "cell_type": "code",
   "execution_count": 86,
   "metadata": {
    "execution": {
     "iopub.execute_input": "2021-03-05T23:37:15.025301Z",
     "iopub.status.busy": "2021-03-05T23:37:15.024530Z",
     "iopub.status.idle": "2021-03-05T23:37:15.027032Z",
     "shell.execute_reply": "2021-03-05T23:37:15.027410Z"
    },
    "slideshow": {
     "slide_type": "fragment"
    }
   },
   "outputs": [
    {
     "data": {
      "text/plain": [
       "'a'"
      ]
     },
     "execution_count": 1,
     "metadata": {},
     "output_type": "execute_result"
    }
   ],
   "source": [
    "leftmost_name(ast.parse('a[x] = 25'))"
   ]
  },
  {
   "cell_type": "markdown",
   "metadata": {
    "slideshow": {
     "slide_type": "fragment"
    }
   },
   "source": [
    "Python also allows _tuple assignments_, as in `(a, b, c) = (1, 2, 3)`. We extract all variables being stored (that is, expressions whose `ctx` attribute is `Store()`) and extract their (leftmost) names."
   ]
  },
  {
   "cell_type": "code",
   "execution_count": 87,
   "metadata": {
    "execution": {
     "iopub.execute_input": "2021-03-05T23:37:15.033543Z",
     "iopub.status.busy": "2021-03-05T23:37:15.032973Z",
     "iopub.status.idle": "2021-03-05T23:37:15.034724Z",
     "shell.execute_reply": "2021-03-05T23:37:15.035167Z"
    },
    "slideshow": {
     "slide_type": "subslide"
    }
   },
   "outputs": [],
   "source": [
    "class StoreVisitor(NodeVisitor):\n",
    "    def __init__(self) -> None:\n",
    "        super().__init__()\n",
    "        self.names: Set[str] = set()\n",
    "\n",
    "    def visit(self, node: AST) -> None:\n",
    "        if hasattr(node, 'ctx') and isinstance(node.ctx, Store):  # type: ignore\n",
    "            name = leftmost_name(node)\n",
    "            if name:\n",
    "                self.names.add(name)\n",
    "\n",
    "        self.generic_visit(node)"
   ]
  },
  {
   "cell_type": "code",
   "execution_count": 88,
   "metadata": {
    "execution": {
     "iopub.execute_input": "2021-03-05T23:37:15.038474Z",
     "iopub.status.busy": "2021-03-05T23:37:15.037935Z",
     "iopub.status.idle": "2021-03-05T23:37:15.039595Z",
     "shell.execute_reply": "2021-03-05T23:37:15.040032Z"
    },
    "slideshow": {
     "slide_type": "subslide"
    }
   },
   "outputs": [],
   "source": [
    "def store_names(tree: AST) -> Set[str]:\n",
    "    visitor = StoreVisitor()\n",
    "    visitor.visit(tree)\n",
    "    return visitor.names"
   ]
  },
  {
   "cell_type": "code",
   "execution_count": 89,
   "metadata": {
    "execution": {
     "iopub.execute_input": "2021-03-05T23:37:15.044570Z",
     "iopub.status.busy": "2021-03-05T23:37:15.043855Z",
     "iopub.status.idle": "2021-03-05T23:37:15.046809Z",
     "shell.execute_reply": "2021-03-05T23:37:15.047271Z"
    },
    "slideshow": {
     "slide_type": "fragment"
    }
   },
   "outputs": [
    {
     "data": {
      "text/plain": [
       "{'a', 'b', 'c'}"
      ]
     },
     "execution_count": 1,
     "metadata": {},
     "output_type": "execute_result"
    }
   ],
   "source": [
    "store_names(ast.parse('a[x], b[y], c = 1, 2, 3'))"
   ]
  },
  {
   "cell_type": "markdown",
   "metadata": {
    "slideshow": {
     "slide_type": "fragment"
    }
   },
   "source": [
    "For complex assignments, we also want to access the names read in the left hand side of an expression."
   ]
  },
  {
   "cell_type": "code",
   "execution_count": 90,
   "metadata": {
    "execution": {
     "iopub.execute_input": "2021-03-05T23:37:15.053166Z",
     "iopub.status.busy": "2021-03-05T23:37:15.052342Z",
     "iopub.status.idle": "2021-03-05T23:37:15.054810Z",
     "shell.execute_reply": "2021-03-05T23:37:15.054409Z"
    },
    "slideshow": {
     "slide_type": "subslide"
    }
   },
   "outputs": [],
   "source": [
    "class LoadVisitor(NodeVisitor):\n",
    "    def __init__(self) -> None:\n",
    "        super().__init__()\n",
    "        self.names: Set[str] = set()\n",
    "\n",
    "    def visit(self, node: AST) -> None:\n",
    "        if hasattr(node, 'ctx') and isinstance(node.ctx, Load):  # type: ignore\n",
    "            name = leftmost_name(node)\n",
    "            if name is not None:\n",
    "                self.names.add(name)\n",
    "\n",
    "        self.generic_visit(node)"
   ]
  },
  {
   "cell_type": "code",
   "execution_count": 91,
   "metadata": {
    "execution": {
     "iopub.execute_input": "2021-03-05T23:37:15.058624Z",
     "iopub.status.busy": "2021-03-05T23:37:15.057937Z",
     "iopub.status.idle": "2021-03-05T23:37:15.059518Z",
     "shell.execute_reply": "2021-03-05T23:37:15.059965Z"
    },
    "slideshow": {
     "slide_type": "subslide"
    }
   },
   "outputs": [],
   "source": [
    "def load_names(tree: AST) -> Set[str]:\n",
    "    visitor = LoadVisitor()\n",
    "    visitor.visit(tree)\n",
    "    return visitor.names"
   ]
  },
  {
   "cell_type": "code",
   "execution_count": 92,
   "metadata": {
    "execution": {
     "iopub.execute_input": "2021-03-05T23:37:15.064133Z",
     "iopub.status.busy": "2021-03-05T23:37:15.063344Z",
     "iopub.status.idle": "2021-03-05T23:37:15.065764Z",
     "shell.execute_reply": "2021-03-05T23:37:15.066147Z"
    },
    "slideshow": {
     "slide_type": "fragment"
    }
   },
   "outputs": [
    {
     "data": {
      "text/plain": [
       "{'a', 'b', 'x', 'y'}"
      ]
     },
     "execution_count": 1,
     "metadata": {},
     "output_type": "execute_result"
    }
   ],
   "source": [
    "load_names(ast.parse('a[x], b[y], c = 1, 2, 3'))"
   ]
  },
  {
   "cell_type": "markdown",
   "metadata": {
    "slideshow": {
     "slide_type": "fragment"
    }
   },
   "source": [
    "With this, we can now define `TrackSetTransformer` as a transformer for regular assignments. Note that in Python, an assignment can have multiple targets, as in `a = b = c`; we assign the data dependencies of `c` to them all."
   ]
  },
  {
   "cell_type": "code",
   "execution_count": 93,
   "metadata": {
    "execution": {
     "iopub.execute_input": "2021-03-05T23:37:15.072965Z",
     "iopub.status.busy": "2021-03-05T23:37:15.072138Z",
     "iopub.status.idle": "2021-03-05T23:37:15.074452Z",
     "shell.execute_reply": "2021-03-05T23:37:15.075157Z"
    },
    "slideshow": {
     "slide_type": "subslide"
    }
   },
   "outputs": [],
   "source": [
    "class TrackSetTransformer(NodeTransformer):\n",
    "    def visit_Assign(self, node: Assign) -> Assign:\n",
    "        value = astor.to_source(node.value)\n",
    "        if value.startswith(DATA_TRACKER + '.set'):\n",
    "            return node  # Do not apply twice\n",
    "\n",
    "        for target in node.targets:\n",
    "            loads = load_names(target)\n",
    "            for store_name in store_names(target):\n",
    "                node.value = make_set_data(store_name, node.value, \n",
    "                                           loads=loads)\n",
    "                loads = set()\n",
    "\n",
    "        return node"
   ]
  },
  {
   "cell_type": "markdown",
   "metadata": {
    "slideshow": {
     "slide_type": "subslide"
    }
   },
   "source": [
    "The special form of \"augmented assign\" needs special treatment. We change statements of the form `x += y` to `x += _data.augment('x', y)`."
   ]
  },
  {
   "cell_type": "code",
   "execution_count": 94,
   "metadata": {
    "execution": {
     "iopub.execute_input": "2021-03-05T23:37:15.080458Z",
     "iopub.status.busy": "2021-03-05T23:37:15.079764Z",
     "iopub.status.idle": "2021-03-05T23:37:15.081653Z",
     "shell.execute_reply": "2021-03-05T23:37:15.082152Z"
    },
    "slideshow": {
     "slide_type": "fragment"
    }
   },
   "outputs": [],
   "source": [
    "class TrackSetTransformer(TrackSetTransformer):\n",
    "    def visit_AugAssign(self, node: AugAssign) -> AugAssign:\n",
    "        value = astor.to_source(node.value)\n",
    "        if value.startswith(DATA_TRACKER):\n",
    "            return node  # Do not apply twice\n",
    "\n",
    "        id = cast(str, leftmost_name(node.target))\n",
    "        node.value = make_set_data(id, node.value, method='augment')\n",
    "\n",
    "        return node"
   ]
  },
  {
   "cell_type": "markdown",
   "metadata": {
    "slideshow": {
     "slide_type": "fragment"
    }
   },
   "source": [
    "The corresponding `augment()` method uses a combination of `set()` and `get()` to reflect the semantics."
   ]
  },
  {
   "cell_type": "code",
   "execution_count": 95,
   "metadata": {
    "execution": {
     "iopub.execute_input": "2021-03-05T23:37:15.086324Z",
     "iopub.status.busy": "2021-03-05T23:37:15.085587Z",
     "iopub.status.idle": "2021-03-05T23:37:15.087643Z",
     "shell.execute_reply": "2021-03-05T23:37:15.088020Z"
    },
    "slideshow": {
     "slide_type": "subslide"
    }
   },
   "outputs": [],
   "source": [
    "class DataTracker(DataTracker):\n",
    "    def augment(self, name: str, value: Any) -> Any:\n",
    "        \"\"\"Track augmenting `name` with `value`.\n",
    "        To be overloaded in subclasses.\"\"\"\n",
    "        self.set(name, self.get(name, value))\n",
    "        return value"
   ]
  },
  {
   "cell_type": "markdown",
   "metadata": {
    "slideshow": {
     "slide_type": "fragment"
    }
   },
   "source": [
    "Here's both of these transformers in action. Our original function has a number of assignments:"
   ]
  },
  {
   "cell_type": "code",
   "execution_count": 96,
   "metadata": {
    "execution": {
     "iopub.execute_input": "2021-03-05T23:37:15.091891Z",
     "iopub.status.busy": "2021-03-05T23:37:15.091360Z",
     "iopub.status.idle": "2021-03-05T23:37:15.093193Z",
     "shell.execute_reply": "2021-03-05T23:37:15.093624Z"
    },
    "slideshow": {
     "slide_type": "fragment"
    }
   },
   "outputs": [],
   "source": [
    "def assign_test(x):  # type: ignore\n",
    "    fourty_two = forty_two = 42\n",
    "    a, b, c = 1, 2, 3\n",
    "    c[d[x]].attr = 47\n",
    "    foo *= bar + 1"
   ]
  },
  {
   "cell_type": "code",
   "execution_count": 97,
   "metadata": {
    "execution": {
     "iopub.execute_input": "2021-03-05T23:37:15.097604Z",
     "iopub.status.busy": "2021-03-05T23:37:15.096793Z",
     "iopub.status.idle": "2021-03-05T23:37:15.098897Z",
     "shell.execute_reply": "2021-03-05T23:37:15.099401Z"
    },
    "slideshow": {
     "slide_type": "fragment"
    }
   },
   "outputs": [],
   "source": [
    "assign_tree = ast.parse(inspect.getsource(assign_test))"
   ]
  },
  {
   "cell_type": "code",
   "execution_count": 98,
   "metadata": {
    "execution": {
     "iopub.execute_input": "2021-03-05T23:37:15.109607Z",
     "iopub.status.busy": "2021-03-05T23:37:15.108836Z",
     "iopub.status.idle": "2021-03-05T23:37:15.111644Z",
     "shell.execute_reply": "2021-03-05T23:37:15.112039Z"
    },
    "slideshow": {
     "slide_type": "subslide"
    }
   },
   "outputs": [
    {
     "name": "stdout",
     "output_type": "stream",
     "text": [
      "\u001b[34mdef\u001b[39;49;00m \u001b[32massign_test\u001b[39;49;00m(x):\n",
      "    fourty_two = forty_two = _data.set(\u001b[33m'\u001b[39;49;00m\u001b[33mforty_two\u001b[39;49;00m\u001b[33m'\u001b[39;49;00m, _data.set(\u001b[33m'\u001b[39;49;00m\u001b[33mfourty_two\u001b[39;49;00m\u001b[33m'\u001b[39;49;00m, \u001b[34m42\u001b[39;49;00m)\n",
      "        )\n",
      "    a, b, c = _data.set(\u001b[33m'\u001b[39;49;00m\u001b[33ma\u001b[39;49;00m\u001b[33m'\u001b[39;49;00m, _data.set(\u001b[33m'\u001b[39;49;00m\u001b[33mb\u001b[39;49;00m\u001b[33m'\u001b[39;49;00m, _data.set(\u001b[33m'\u001b[39;49;00m\u001b[33mc\u001b[39;49;00m\u001b[33m'\u001b[39;49;00m, (\u001b[34m1\u001b[39;49;00m, \u001b[34m2\u001b[39;49;00m, \u001b[34m3\u001b[39;49;00m))))\n",
      "    c[d[x]].attr = _data.set(\u001b[33m'\u001b[39;49;00m\u001b[33mc\u001b[39;49;00m\u001b[33m'\u001b[39;49;00m, \u001b[34m47\u001b[39;49;00m, loads=(d, x, c))\n",
      "    foo *= _data.augment(\u001b[33m'\u001b[39;49;00m\u001b[33mfoo\u001b[39;49;00m\u001b[33m'\u001b[39;49;00m, bar + \u001b[34m1\u001b[39;49;00m)"
     ]
    }
   ],
   "source": [
    "TrackSetTransformer().visit(assign_tree)\n",
    "dump_tree(assign_tree)"
   ]
  },
  {
   "cell_type": "markdown",
   "metadata": {
    "slideshow": {
     "slide_type": "fragment"
    }
   },
   "source": [
    "If we later apply our transformer for data accesses, we can see that we track all variable reads and writes."
   ]
  },
  {
   "cell_type": "code",
   "execution_count": 99,
   "metadata": {
    "execution": {
     "iopub.execute_input": "2021-03-05T23:37:15.123148Z",
     "iopub.status.busy": "2021-03-05T23:37:15.122386Z",
     "iopub.status.idle": "2021-03-05T23:37:15.124478Z",
     "shell.execute_reply": "2021-03-05T23:37:15.124849Z"
    },
    "slideshow": {
     "slide_type": "subslide"
    }
   },
   "outputs": [
    {
     "name": "stdout",
     "output_type": "stream",
     "text": [
      "\u001b[34mdef\u001b[39;49;00m \u001b[32massign_test\u001b[39;49;00m(x):\n",
      "    fourty_two = forty_two = _data.set(\u001b[33m'\u001b[39;49;00m\u001b[33mforty_two\u001b[39;49;00m\u001b[33m'\u001b[39;49;00m, _data.set(\u001b[33m'\u001b[39;49;00m\u001b[33mfourty_two\u001b[39;49;00m\u001b[33m'\u001b[39;49;00m, \u001b[34m42\u001b[39;49;00m)\n",
      "        )\n",
      "    a, b, c = _data.set(\u001b[33m'\u001b[39;49;00m\u001b[33ma\u001b[39;49;00m\u001b[33m'\u001b[39;49;00m, _data.set(\u001b[33m'\u001b[39;49;00m\u001b[33mb\u001b[39;49;00m\u001b[33m'\u001b[39;49;00m, _data.set(\u001b[33m'\u001b[39;49;00m\u001b[33mc\u001b[39;49;00m\u001b[33m'\u001b[39;49;00m, (\u001b[34m1\u001b[39;49;00m, \u001b[34m2\u001b[39;49;00m, \u001b[34m3\u001b[39;49;00m))))\n",
      "    _data.get(\u001b[33m'\u001b[39;49;00m\u001b[33mc\u001b[39;49;00m\u001b[33m'\u001b[39;49;00m, c)[_data.get(\u001b[33m'\u001b[39;49;00m\u001b[33md\u001b[39;49;00m\u001b[33m'\u001b[39;49;00m, d)[_data.get(\u001b[33m'\u001b[39;49;00m\u001b[33mx\u001b[39;49;00m\u001b[33m'\u001b[39;49;00m, x)]].attr = _data.set(\n",
      "        \u001b[33m'\u001b[39;49;00m\u001b[33mc\u001b[39;49;00m\u001b[33m'\u001b[39;49;00m, \u001b[34m47\u001b[39;49;00m, loads=(_data.get(\u001b[33m'\u001b[39;49;00m\u001b[33md\u001b[39;49;00m\u001b[33m'\u001b[39;49;00m, d), _data.get(\u001b[33m'\u001b[39;49;00m\u001b[33mx\u001b[39;49;00m\u001b[33m'\u001b[39;49;00m, x), _data.get(\u001b[33m'\u001b[39;49;00m\u001b[33mc\u001b[39;49;00m\u001b[33m'\u001b[39;49;00m,\n",
      "        c)))\n",
      "    foo *= _data.augment(\u001b[33m'\u001b[39;49;00m\u001b[33mfoo\u001b[39;49;00m\u001b[33m'\u001b[39;49;00m, _data.get(\u001b[33m'\u001b[39;49;00m\u001b[33mbar\u001b[39;49;00m\u001b[33m'\u001b[39;49;00m, bar) + \u001b[34m1\u001b[39;49;00m)"
     ]
    }
   ],
   "source": [
    "TrackGetTransformer().visit(assign_tree)\n",
    "dump_tree(assign_tree)"
   ]
  },
  {
   "cell_type": "markdown",
   "metadata": {
    "slideshow": {
     "slide_type": "subslide"
    }
   },
   "source": [
    "### End of Excursion"
   ]
  },
  {
   "cell_type": "markdown",
   "metadata": {
    "slideshow": {
     "slide_type": "fragment"
    }
   },
   "source": [
    "Each return statement `return x` is transformed to `return _data.set('<return_value>', x)`. This allows to __track return values__."
   ]
  },
  {
   "cell_type": "markdown",
   "metadata": {
    "slideshow": {
     "slide_type": "subslide"
    }
   },
   "source": [
    "### Excursion: Tracking Return Values"
   ]
  },
  {
   "cell_type": "markdown",
   "metadata": {
    "slideshow": {
     "slide_type": "fragment"
    }
   },
   "source": [
    "Our `TrackReturnTransformer` also makes use of `make_set_data()`."
   ]
  },
  {
   "cell_type": "code",
   "execution_count": 100,
   "metadata": {
    "execution": {
     "iopub.execute_input": "2021-03-05T23:37:15.134865Z",
     "iopub.status.busy": "2021-03-05T23:37:15.134237Z",
     "iopub.status.idle": "2021-03-05T23:37:15.135780Z",
     "shell.execute_reply": "2021-03-05T23:37:15.136161Z"
    },
    "slideshow": {
     "slide_type": "subslide"
    }
   },
   "outputs": [],
   "source": [
    "class TrackReturnTransformer(NodeTransformer):\n",
    "    def __init__(self) -> None:\n",
    "        self.function_name: Optional[str] = None\n",
    "        super().__init__()\n",
    "\n",
    "    def visit_FunctionDef(self, node: Union[ast.FunctionDef, ast.AsyncFunctionDef]) -> AST:\n",
    "        outer_name = self.function_name\n",
    "        self.function_name = node.name  # Save current name\n",
    "        self.generic_visit(node)\n",
    "        self.function_name = outer_name\n",
    "        return node\n",
    "\n",
    "    def visit_AsyncFunctionDef(self, node: ast.AsyncFunctionDef) -> AST:\n",
    "        return self.visit_FunctionDef(node)\n",
    "\n",
    "    def return_value(self, tp: str = \"return\") -> str:\n",
    "        if self.function_name is None:\n",
    "            return f\"<{tp} value>\"\n",
    "        else:\n",
    "            return f\"<{self.function_name}() {tp} value>\"\n",
    "\n",
    "    def visit_return_or_yield(self, node: Union[ast.Return, ast.Yield, ast.YieldFrom],\n",
    "                              tp: str = \"return\") -> AST:\n",
    "\n",
    "        if node.value is not None:\n",
    "            value = astor.to_source(node.value)\n",
    "            if not value.startswith(DATA_TRACKER + '.set'):\n",
    "                node.value = make_set_data(self.return_value(tp), node.value)\n",
    "\n",
    "        return node\n",
    "\n",
    "    def visit_Return(self, node: ast.Return) -> AST:\n",
    "        return self.visit_return_or_yield(node, tp=\"return\")\n",
    "\n",
    "    def visit_Yield(self, node: ast.Yield) -> AST:\n",
    "        return self.visit_return_or_yield(node, tp=\"yield\")\n",
    "\n",
    "    def visit_YieldFrom(self, node: ast.YieldFrom) -> AST:\n",
    "        return self.visit_return_or_yield(node, tp=\"yield\")"
   ]
  },
  {
   "cell_type": "markdown",
   "metadata": {
    "slideshow": {
     "slide_type": "subslide"
    }
   },
   "source": [
    "This is the effect of `TrackReturnTransformer`. We see that all return values are saved, and thus all locations of the corresponding return statements are tracked."
   ]
  },
  {
   "cell_type": "code",
   "execution_count": 101,
   "metadata": {
    "execution": {
     "iopub.execute_input": "2021-03-05T23:37:15.147926Z",
     "iopub.status.busy": "2021-03-05T23:37:15.147360Z",
     "iopub.status.idle": "2021-03-05T23:37:15.149411Z",
     "shell.execute_reply": "2021-03-05T23:37:15.149930Z"
    },
    "slideshow": {
     "slide_type": "subslide"
    }
   },
   "outputs": [
    {
     "name": "stdout",
     "output_type": "stream",
     "text": [
      "\u001b[34mdef\u001b[39;49;00m \u001b[32mmiddle\u001b[39;49;00m(x, y, z):\n",
      "    \u001b[34mif\u001b[39;49;00m _data.get(\u001b[33m'\u001b[39;49;00m\u001b[33my\u001b[39;49;00m\u001b[33m'\u001b[39;49;00m, y) < _data.get(\u001b[33m'\u001b[39;49;00m\u001b[33mz\u001b[39;49;00m\u001b[33m'\u001b[39;49;00m, z):\n",
      "        \u001b[34mif\u001b[39;49;00m _data.get(\u001b[33m'\u001b[39;49;00m\u001b[33mx\u001b[39;49;00m\u001b[33m'\u001b[39;49;00m, x) < _data.get(\u001b[33m'\u001b[39;49;00m\u001b[33my\u001b[39;49;00m\u001b[33m'\u001b[39;49;00m, y):\n",
      "            \u001b[34mreturn\u001b[39;49;00m _data.set(\u001b[33m'\u001b[39;49;00m\u001b[33m<middle() return value>\u001b[39;49;00m\u001b[33m'\u001b[39;49;00m, _data.get(\u001b[33m'\u001b[39;49;00m\u001b[33my\u001b[39;49;00m\u001b[33m'\u001b[39;49;00m, y))\n",
      "        \u001b[34melif\u001b[39;49;00m _data.get(\u001b[33m'\u001b[39;49;00m\u001b[33mx\u001b[39;49;00m\u001b[33m'\u001b[39;49;00m, x) < _data.get(\u001b[33m'\u001b[39;49;00m\u001b[33mz\u001b[39;49;00m\u001b[33m'\u001b[39;49;00m, z):\n",
      "            \u001b[34mreturn\u001b[39;49;00m _data.set(\u001b[33m'\u001b[39;49;00m\u001b[33m<middle() return value>\u001b[39;49;00m\u001b[33m'\u001b[39;49;00m, _data.get(\u001b[33m'\u001b[39;49;00m\u001b[33my\u001b[39;49;00m\u001b[33m'\u001b[39;49;00m, y))\n",
      "    \u001b[34melif\u001b[39;49;00m _data.get(\u001b[33m'\u001b[39;49;00m\u001b[33mx\u001b[39;49;00m\u001b[33m'\u001b[39;49;00m, x) > _data.get(\u001b[33m'\u001b[39;49;00m\u001b[33my\u001b[39;49;00m\u001b[33m'\u001b[39;49;00m, y):\n",
      "        \u001b[34mreturn\u001b[39;49;00m _data.set(\u001b[33m'\u001b[39;49;00m\u001b[33m<middle() return value>\u001b[39;49;00m\u001b[33m'\u001b[39;49;00m, _data.get(\u001b[33m'\u001b[39;49;00m\u001b[33my\u001b[39;49;00m\u001b[33m'\u001b[39;49;00m, y))\n",
      "    \u001b[34melif\u001b[39;49;00m _data.get(\u001b[33m'\u001b[39;49;00m\u001b[33mx\u001b[39;49;00m\u001b[33m'\u001b[39;49;00m, x) > _data.get(\u001b[33m'\u001b[39;49;00m\u001b[33mz\u001b[39;49;00m\u001b[33m'\u001b[39;49;00m, z):\n",
      "        \u001b[34mreturn\u001b[39;49;00m _data.set(\u001b[33m'\u001b[39;49;00m\u001b[33m<middle() return value>\u001b[39;49;00m\u001b[33m'\u001b[39;49;00m, _data.get(\u001b[33m'\u001b[39;49;00m\u001b[33mx\u001b[39;49;00m\u001b[33m'\u001b[39;49;00m, x))\n",
      "    \u001b[34mreturn\u001b[39;49;00m _data.set(\u001b[33m'\u001b[39;49;00m\u001b[33m<middle() return value>\u001b[39;49;00m\u001b[33m'\u001b[39;49;00m, _data.get(\u001b[33m'\u001b[39;49;00m\u001b[33mz\u001b[39;49;00m\u001b[33m'\u001b[39;49;00m, z))"
     ]
    }
   ],
   "source": [
    "TrackReturnTransformer().visit(middle_tree)\n",
    "dump_tree(middle_tree)"
   ]
  },
  {
   "cell_type": "code",
   "execution_count": 102,
   "metadata": {
    "execution": {
     "iopub.execute_input": "2021-03-05T23:37:15.154023Z",
     "iopub.status.busy": "2021-03-05T23:37:15.153458Z",
     "iopub.status.idle": "2021-03-05T23:37:15.155604Z",
     "shell.execute_reply": "2021-03-05T23:37:15.156094Z"
    },
    "slideshow": {
     "slide_type": "subslide"
    }
   },
   "outputs": [
    {
     "name": "stdout",
     "output_type": "stream",
     "text": [
      "middle:2: getting y\n",
      "middle:2: getting z\n",
      "middle:3: getting x\n",
      "middle:3: getting y\n",
      "middle:5: getting x\n",
      "middle:5: getting z\n",
      "middle:6: getting y\n",
      "middle:6: setting <middle() return value>\n"
     ]
    }
   ],
   "source": [
    "with DataTrackerTester(middle_tree, middle):\n",
    "    middle(2, 1, 3)"
   ]
  },
  {
   "cell_type": "markdown",
   "metadata": {
    "slideshow": {
     "slide_type": "subslide"
    }
   },
   "source": [
    "### End of Excursion"
   ]
  },
  {
   "cell_type": "markdown",
   "metadata": {
    "slideshow": {
     "slide_type": "subslide"
    }
   },
   "source": [
    "To track __control dependencies__, for every block controlled by an `if`, `while`, or `for`:\n",
    "\n",
    "1. We wrap their tests in a `_data.test()` wrapper. This allows us to assign pseudo-variables like `<test>` which hold the conditions.\n",
    "2. We wrap their controlled blocks in a `with` statement. This allows us to track the variables read right before the `with` (= the controlling variables), and to restore the current controlling variables when the block is left.\n",
    "\n",
    "A statement\n",
    "\n",
    "```python\n",
    "if cond:\n",
    "    body\n",
    "```\n",
    "\n",
    "thus becomes\n",
    "\n",
    "```python\n",
    "if _data.test(cond):\n",
    "    with _data:\n",
    "        body\n",
    "```"
   ]
  },
  {
   "cell_type": "markdown",
   "metadata": {
    "slideshow": {
     "slide_type": "subslide"
    }
   },
   "source": [
    "### Excursion: Tracking Control"
   ]
  },
  {
   "cell_type": "markdown",
   "metadata": {
    "slideshow": {
     "slide_type": "fragment"
    }
   },
   "source": [
    "To modify control statements, we traverse the tree, looking for `If` nodes:"
   ]
  },
  {
   "cell_type": "code",
   "execution_count": 103,
   "metadata": {
    "execution": {
     "iopub.execute_input": "2021-03-05T23:37:15.160894Z",
     "iopub.status.busy": "2021-03-05T23:37:15.160356Z",
     "iopub.status.idle": "2021-03-05T23:37:15.161968Z",
     "shell.execute_reply": "2021-03-05T23:37:15.162341Z"
    },
    "slideshow": {
     "slide_type": "fragment"
    }
   },
   "outputs": [],
   "source": [
    "class TrackControlTransformer(NodeTransformer):\n",
    "    def visit_If(self, node: ast.If) -> ast.If:\n",
    "        self.generic_visit(node)\n",
    "        node.test = self.make_test(node.test)\n",
    "        node.body = self.make_with(node.body)\n",
    "        node.orelse = self.make_with(node.orelse)\n",
    "        return node"
   ]
  },
  {
   "cell_type": "markdown",
   "metadata": {
    "slideshow": {
     "slide_type": "fragment"
    }
   },
   "source": [
    "The subtrees come from helper functions `make_with()` and `make_test()`. Again, all these subtrees are obtained via `ast.dump()`."
   ]
  },
  {
   "cell_type": "code",
   "execution_count": 104,
   "metadata": {
    "execution": {
     "iopub.execute_input": "2021-03-05T23:37:15.168519Z",
     "iopub.status.busy": "2021-03-05T23:37:15.167727Z",
     "iopub.status.idle": "2021-03-05T23:37:15.169722Z",
     "shell.execute_reply": "2021-03-05T23:37:15.170578Z"
    },
    "slideshow": {
     "slide_type": "subslide"
    }
   },
   "outputs": [],
   "source": [
    "class TrackControlTransformer(TrackControlTransformer):\n",
    "    def make_with(self, block: List[ast.stmt]) -> List[ast.stmt]:\n",
    "        \"\"\"Create a subtree 'with _data: `block`'\"\"\"\n",
    "        if len(block) == 0:\n",
    "            return []\n",
    "\n",
    "        block_as_text = astor.to_source(block[0])\n",
    "        if block_as_text.startswith('with ' + DATA_TRACKER):\n",
    "            return block  # Do not apply twice\n",
    "\n",
    "        new_node = With(\n",
    "            items=[\n",
    "                withitem(\n",
    "                    context_expr=Name(id=DATA_TRACKER, ctx=Load()),\n",
    "                    optional_vars=None)\n",
    "            ],\n",
    "            body=block\n",
    "        )\n",
    "        ast.copy_location(new_node, block[0])\n",
    "        return [new_node]"
   ]
  },
  {
   "cell_type": "code",
   "execution_count": 105,
   "metadata": {
    "execution": {
     "iopub.execute_input": "2021-03-05T23:37:15.177574Z",
     "iopub.status.busy": "2021-03-05T23:37:15.176730Z",
     "iopub.status.idle": "2021-03-05T23:37:15.178916Z",
     "shell.execute_reply": "2021-03-05T23:37:15.179461Z"
    },
    "slideshow": {
     "slide_type": "subslide"
    }
   },
   "outputs": [],
   "source": [
    "class TrackControlTransformer(TrackControlTransformer):\n",
    "    def make_test(self, test: ast.expr) -> ast.expr:\n",
    "        test_as_text = astor.to_source(test)\n",
    "        if test_as_text.startswith(DATA_TRACKER + '.test'):\n",
    "            return test  # Do not apply twice\n",
    "\n",
    "        new_test = Call(func=Attribute(value=Name(id=DATA_TRACKER, ctx=Load()),\n",
    "                                       attr='test',\n",
    "                                       ctx=Load()),\n",
    "                         args=[test],\n",
    "                         keywords=[])\n",
    "        ast.copy_location(new_test, test)\n",
    "        return new_test"
   ]
  },
  {
   "cell_type": "markdown",
   "metadata": {
    "slideshow": {
     "slide_type": "fragment"
    }
   },
   "source": [
    "`while` loops are handled just like `if` constructs."
   ]
  },
  {
   "cell_type": "code",
   "execution_count": 106,
   "metadata": {
    "execution": {
     "iopub.execute_input": "2021-03-05T23:37:15.184802Z",
     "iopub.status.busy": "2021-03-05T23:37:15.184247Z",
     "iopub.status.idle": "2021-03-05T23:37:15.185646Z",
     "shell.execute_reply": "2021-03-05T23:37:15.186172Z"
    },
    "slideshow": {
     "slide_type": "subslide"
    }
   },
   "outputs": [],
   "source": [
    "class TrackControlTransformer(TrackControlTransformer):\n",
    "    def visit_While(self, node: ast.While) -> ast.While:\n",
    "        self.generic_visit(node)\n",
    "        node.test = self.make_test(node.test)\n",
    "        node.body = self.make_with(node.body)\n",
    "        node.orelse = self.make_with(node.orelse)\n",
    "        return node"
   ]
  },
  {
   "cell_type": "markdown",
   "metadata": {
    "slideshow": {
     "slide_type": "fragment"
    }
   },
   "source": [
    "`for` loops gets a different treatment, as there is no condition that would control the body. Still, we ensure that setting the iterator variable is properly tracked."
   ]
  },
  {
   "cell_type": "code",
   "execution_count": 107,
   "metadata": {
    "execution": {
     "iopub.execute_input": "2021-03-05T23:37:15.191465Z",
     "iopub.status.busy": "2021-03-05T23:37:15.190928Z",
     "iopub.status.idle": "2021-03-05T23:37:15.192642Z",
     "shell.execute_reply": "2021-03-05T23:37:15.193016Z"
    },
    "slideshow": {
     "slide_type": "subslide"
    }
   },
   "outputs": [],
   "source": [
    "class TrackControlTransformer(TrackControlTransformer):\n",
    "    # regular `for` loop\n",
    "    def visit_For(self, node: Union[ast.For, ast.AsyncFor]) -> AST:\n",
    "        self.generic_visit(node)\n",
    "        id = astor.to_source(node.target).strip()\n",
    "        node.iter = make_set_data(id, node.iter)\n",
    "\n",
    "        # Uncomment if you want iterators to control their bodies\n",
    "        # node.body = self.make_with(node.body)\n",
    "        # node.orelse = self.make_with(node.orelse)\n",
    "        return node\n",
    "\n",
    "    # `for` loops in async functions\n",
    "    def visit_AsyncFor(self, node: ast.AsyncFor) -> AST:\n",
    "        return self.visit_For(node)\n",
    "\n",
    "    # `for` clause in comprehensions\n",
    "    def visit_comprehension(self, node: ast.comprehension) -> AST:\n",
    "        self.generic_visit(node)\n",
    "        id = astor.to_source(node.target).strip()\n",
    "        node.iter = make_set_data(id, node.iter)\n",
    "        return node"
   ]
  },
  {
   "cell_type": "markdown",
   "metadata": {
    "slideshow": {
     "slide_type": "subslide"
    }
   },
   "source": [
    "Here is the effect of `TrackControlTransformer`:"
   ]
  },
  {
   "cell_type": "code",
   "execution_count": 108,
   "metadata": {
    "execution": {
     "iopub.execute_input": "2021-03-05T23:37:15.206468Z",
     "iopub.status.busy": "2021-03-05T23:37:15.205929Z",
     "iopub.status.idle": "2021-03-05T23:37:15.207955Z",
     "shell.execute_reply": "2021-03-05T23:37:15.208333Z"
    },
    "slideshow": {
     "slide_type": "subslide"
    }
   },
   "outputs": [
    {
     "name": "stdout",
     "output_type": "stream",
     "text": [
      "\u001b[34mdef\u001b[39;49;00m \u001b[32mmiddle\u001b[39;49;00m(x, y, z):\n",
      "    \u001b[34mif\u001b[39;49;00m _data.test(_data.get(\u001b[33m'\u001b[39;49;00m\u001b[33my\u001b[39;49;00m\u001b[33m'\u001b[39;49;00m, y) < _data.get(\u001b[33m'\u001b[39;49;00m\u001b[33mz\u001b[39;49;00m\u001b[33m'\u001b[39;49;00m, z)):\n",
      "        \u001b[34mwith\u001b[39;49;00m _data:\n",
      "            \u001b[34mif\u001b[39;49;00m _data.test(_data.get(\u001b[33m'\u001b[39;49;00m\u001b[33mx\u001b[39;49;00m\u001b[33m'\u001b[39;49;00m, x) < _data.get(\u001b[33m'\u001b[39;49;00m\u001b[33my\u001b[39;49;00m\u001b[33m'\u001b[39;49;00m, y)):\n",
      "                \u001b[34mwith\u001b[39;49;00m _data:\n",
      "                    \u001b[34mreturn\u001b[39;49;00m _data.set(\u001b[33m'\u001b[39;49;00m\u001b[33m<middle() return value>\u001b[39;49;00m\u001b[33m'\u001b[39;49;00m, _data.get(\n",
      "                        \u001b[33m'\u001b[39;49;00m\u001b[33my\u001b[39;49;00m\u001b[33m'\u001b[39;49;00m, y))\n",
      "            \u001b[34melse\u001b[39;49;00m:\n",
      "                \u001b[34mwith\u001b[39;49;00m _data:\n",
      "                    \u001b[34mif\u001b[39;49;00m _data.test(_data.get(\u001b[33m'\u001b[39;49;00m\u001b[33mx\u001b[39;49;00m\u001b[33m'\u001b[39;49;00m, x) < _data.get(\u001b[33m'\u001b[39;49;00m\u001b[33mz\u001b[39;49;00m\u001b[33m'\u001b[39;49;00m, z)):\n",
      "                        \u001b[34mwith\u001b[39;49;00m _data:\n",
      "                            \u001b[34mreturn\u001b[39;49;00m _data.set(\u001b[33m'\u001b[39;49;00m\u001b[33m<middle() return value>\u001b[39;49;00m\u001b[33m'\u001b[39;49;00m,\n",
      "                                _data.get(\u001b[33m'\u001b[39;49;00m\u001b[33my\u001b[39;49;00m\u001b[33m'\u001b[39;49;00m, y))\n",
      "    \u001b[34melse\u001b[39;49;00m:\n",
      "        \u001b[34mwith\u001b[39;49;00m _data:\n",
      "            \u001b[34mif\u001b[39;49;00m _data.test(_data.get(\u001b[33m'\u001b[39;49;00m\u001b[33mx\u001b[39;49;00m\u001b[33m'\u001b[39;49;00m, x) > _data.get(\u001b[33m'\u001b[39;49;00m\u001b[33my\u001b[39;49;00m\u001b[33m'\u001b[39;49;00m, y)):\n",
      "                \u001b[34mwith\u001b[39;49;00m _data:\n",
      "                    \u001b[34mreturn\u001b[39;49;00m _data.set(\u001b[33m'\u001b[39;49;00m\u001b[33m<middle() return value>\u001b[39;49;00m\u001b[33m'\u001b[39;49;00m, _data.get(\n",
      "                        \u001b[33m'\u001b[39;49;00m\u001b[33my\u001b[39;49;00m\u001b[33m'\u001b[39;49;00m, y))\n",
      "            \u001b[34melse\u001b[39;49;00m:\n",
      "                \u001b[34mwith\u001b[39;49;00m _data:\n",
      "                    \u001b[34mif\u001b[39;49;00m _data.test(_data.get(\u001b[33m'\u001b[39;49;00m\u001b[33mx\u001b[39;49;00m\u001b[33m'\u001b[39;49;00m, x) > _data.get(\u001b[33m'\u001b[39;49;00m\u001b[33mz\u001b[39;49;00m\u001b[33m'\u001b[39;49;00m, z)):\n",
      "                        \u001b[34mwith\u001b[39;49;00m _data:\n",
      "                            \u001b[34mreturn\u001b[39;49;00m _data.set(\u001b[33m'\u001b[39;49;00m\u001b[33m<middle() return value>\u001b[39;49;00m\u001b[33m'\u001b[39;49;00m,\n",
      "                                _data.get(\u001b[33m'\u001b[39;49;00m\u001b[33mx\u001b[39;49;00m\u001b[33m'\u001b[39;49;00m, x))\n",
      "    \u001b[34mreturn\u001b[39;49;00m _data.set(\u001b[33m'\u001b[39;49;00m\u001b[33m<middle() return value>\u001b[39;49;00m\u001b[33m'\u001b[39;49;00m, _data.get(\u001b[33m'\u001b[39;49;00m\u001b[33mz\u001b[39;49;00m\u001b[33m'\u001b[39;49;00m, z))"
     ]
    }
   ],
   "source": [
    "TrackControlTransformer().visit(middle_tree)\n",
    "dump_tree(middle_tree)"
   ]
  },
  {
   "cell_type": "markdown",
   "metadata": {
    "slideshow": {
     "slide_type": "subslide"
    }
   },
   "source": [
    "We extend `DataTracker` to also log these events:"
   ]
  },
  {
   "cell_type": "code",
   "execution_count": 109,
   "metadata": {
    "execution": {
     "iopub.execute_input": "2021-03-05T23:37:15.212460Z",
     "iopub.status.busy": "2021-03-05T23:37:15.211786Z",
     "iopub.status.idle": "2021-03-05T23:37:15.213603Z",
     "shell.execute_reply": "2021-03-05T23:37:15.214049Z"
    },
    "slideshow": {
     "slide_type": "fragment"
    }
   },
   "outputs": [],
   "source": [
    "class DataTracker(DataTracker):\n",
    "    def test(self, cond: AST) -> AST:\n",
    "        \"\"\"Test condition `cond`. To be overloaded in subclasses.\"\"\"\n",
    "        if self.log:\n",
    "            caller_func, lineno = self.caller_location()\n",
    "            print(f\"{caller_func.__name__}:{lineno}: testing condition\")\n",
    "\n",
    "        return cond"
   ]
  },
  {
   "cell_type": "code",
   "execution_count": 110,
   "metadata": {
    "execution": {
     "iopub.execute_input": "2021-03-05T23:37:15.220563Z",
     "iopub.status.busy": "2021-03-05T23:37:15.219451Z",
     "iopub.status.idle": "2021-03-05T23:37:15.222227Z",
     "shell.execute_reply": "2021-03-05T23:37:15.222850Z"
    },
    "slideshow": {
     "slide_type": "subslide"
    }
   },
   "outputs": [],
   "source": [
    "class DataTracker(DataTracker):\n",
    "    def __enter__(self) -> Any:\n",
    "        \"\"\"Enter `with` block. To be overloaded in subclasses.\"\"\"\n",
    "        if self.log:\n",
    "            caller_func, lineno = self.caller_location()\n",
    "            print(f\"{caller_func.__name__}:{lineno}: entering block\")\n",
    "        return self\n",
    "\n",
    "    def __exit__(self, exc_type: Type, exc_value: BaseException, \n",
    "                 traceback: TracebackType) -> Optional[bool]:\n",
    "        \"\"\"Exit `with` block. To be overloaded in subclasses.\"\"\"\n",
    "        if self.log:\n",
    "            caller_func, lineno = self.caller_location()\n",
    "            print(f\"{caller_func.__name__}:{lineno}: exiting block\")\n",
    "        return None"
   ]
  },
  {
   "cell_type": "code",
   "execution_count": 111,
   "metadata": {
    "execution": {
     "iopub.execute_input": "2021-03-05T23:37:15.228647Z",
     "iopub.status.busy": "2021-03-05T23:37:15.227830Z",
     "iopub.status.idle": "2021-03-05T23:37:15.230586Z",
     "shell.execute_reply": "2021-03-05T23:37:15.231006Z"
    },
    "slideshow": {
     "slide_type": "subslide"
    }
   },
   "outputs": [
    {
     "name": "stdout",
     "output_type": "stream",
     "text": [
      "middle:2: getting y\n",
      "middle:2: getting z\n",
      "middle:2: testing condition\n",
      "middle:3: entering block\n",
      "middle:3: getting x\n",
      "middle:3: getting y\n",
      "middle:3: testing condition\n",
      "middle:5: entering block\n",
      "middle:5: getting x\n",
      "middle:5: getting z\n",
      "middle:5: testing condition\n",
      "middle:6: entering block\n",
      "middle:6: getting y\n",
      "middle:6: setting <middle() return value>\n",
      "middle:6: exiting block\n",
      "middle:6: exiting block\n",
      "middle:6: exiting block\n"
     ]
    }
   ],
   "source": [
    "with DataTrackerTester(middle_tree, middle):\n",
    "    middle(2, 1, 3)"
   ]
  },
  {
   "cell_type": "markdown",
   "metadata": {
    "slideshow": {
     "slide_type": "subslide"
    }
   },
   "source": [
    "### End of Excursion"
   ]
  },
  {
   "cell_type": "markdown",
   "metadata": {
    "slideshow": {
     "slide_type": "subslide"
    }
   },
   "source": [
    "We also want to be able to __track calls__ across multiple functions. To this end, we wrap each call\n",
    "\n",
    "```python\n",
    "func(arg1, arg2, ...)\n",
    "```\n",
    "\n",
    "into\n",
    "\n",
    "```python\n",
    "_data.ret(_data.call(func)(_data.arg(arg1), _data.arg(arg2), ...))\n",
    "```\n",
    "\n",
    "each of which simply pass through their given argument, but which allow to track the beginning of calls (`call()`), the computation of arguments (`arg()`), and the return of the call (`ret()`), respectively."
   ]
  },
  {
   "cell_type": "markdown",
   "metadata": {
    "slideshow": {
     "slide_type": "subslide"
    }
   },
   "source": [
    "### Excursion: Tracking Calls and Arguments"
   ]
  },
  {
   "cell_type": "markdown",
   "metadata": {
    "slideshow": {
     "slide_type": "fragment"
    }
   },
   "source": [
    "Our `TrackCallTransformer` visits all `Call` nodes, applying the transformations as shown above."
   ]
  },
  {
   "cell_type": "code",
   "execution_count": 112,
   "metadata": {
    "execution": {
     "iopub.execute_input": "2021-03-05T23:37:15.241598Z",
     "iopub.status.busy": "2021-03-05T23:37:15.240656Z",
     "iopub.status.idle": "2021-03-05T23:37:15.242992Z",
     "shell.execute_reply": "2021-03-05T23:37:15.243923Z"
    },
    "slideshow": {
     "slide_type": "subslide"
    }
   },
   "outputs": [],
   "source": [
    "class TrackCallTransformer(NodeTransformer):\n",
    "    def make_call(self, node: AST, func: str, \n",
    "                  pos: Optional[int] = None, kw: Optional[str] = None) -> Call:\n",
    "        \"\"\"Return _data.call(`func`)(`node`)\"\"\"\n",
    "        keywords = []\n",
    "\n",
    "        # `Num()` and `Str()` are deprecated in favor of `Constant()`\n",
    "        if pos:\n",
    "            keywords.append(keyword(arg='pos', value=ast.Num(pos)))\n",
    "        if kw:\n",
    "            keywords.append(keyword(arg='kw', value=ast.Str(kw)))\n",
    "\n",
    "        return Call(func=Attribute(value=Name(id=DATA_TRACKER,\n",
    "                                              ctx=Load()),\n",
    "                                   attr=func,\n",
    "                                   ctx=Load()),\n",
    "                     args=[node],\n",
    "                     keywords=keywords)\n",
    "\n",
    "    def visit_Call(self, node: Call) -> Call:\n",
    "        self.generic_visit(node)\n",
    "\n",
    "        call_as_text = astor.to_source(node)\n",
    "        if call_as_text.startswith(DATA_TRACKER + '.ret'):\n",
    "            return node  # Already applied\n",
    "\n",
    "        func_as_text = astor.to_source(node)\n",
    "        if func_as_text.startswith(DATA_TRACKER + '.'):\n",
    "            return node  # Own function\n",
    "\n",
    "        new_args = []\n",
    "        for n, arg in enumerate(node.args):\n",
    "            new_args.append(self.make_call(arg, 'arg', pos=n + 1))\n",
    "        node.args = cast(List[ast.expr], new_args)\n",
    "\n",
    "        for kw in node.keywords:\n",
    "            id = kw.arg if hasattr(kw, 'arg') else None\n",
    "            kw.value = self.make_call(kw.value, 'arg', kw=id)\n",
    "\n",
    "        node.func = self.make_call(node.func, 'call')\n",
    "        return self.make_call(node, 'ret')"
   ]
  },
  {
   "cell_type": "markdown",
   "metadata": {
    "slideshow": {
     "slide_type": "subslide"
    }
   },
   "source": [
    "Our example function `middle()` does not contain any calls, but here is a function that invokes `middle()` twice:"
   ]
  },
  {
   "cell_type": "code",
   "execution_count": 113,
   "metadata": {
    "execution": {
     "iopub.execute_input": "2021-03-05T23:37:15.248526Z",
     "iopub.status.busy": "2021-03-05T23:37:15.247975Z",
     "iopub.status.idle": "2021-03-05T23:37:15.249613Z",
     "shell.execute_reply": "2021-03-05T23:37:15.249982Z"
    },
    "slideshow": {
     "slide_type": "fragment"
    }
   },
   "outputs": [],
   "source": [
    "def test_call() -> int:\n",
    "    x = middle(1, 2, z=middle(1, 2, 3))\n",
    "    return x"
   ]
  },
  {
   "cell_type": "code",
   "execution_count": 114,
   "metadata": {
    "execution": {
     "iopub.execute_input": "2021-03-05T23:37:15.257524Z",
     "iopub.status.busy": "2021-03-05T23:37:15.256984Z",
     "iopub.status.idle": "2021-03-05T23:37:15.258841Z",
     "shell.execute_reply": "2021-03-05T23:37:15.259217Z"
    },
    "slideshow": {
     "slide_type": "fragment"
    }
   },
   "outputs": [
    {
     "name": "stdout",
     "output_type": "stream",
     "text": [
      "\u001b[34mdef\u001b[39;49;00m \u001b[32mtest_call\u001b[39;49;00m() ->\u001b[36mint\u001b[39;49;00m:\n",
      "    x = middle(\u001b[34m1\u001b[39;49;00m, \u001b[34m2\u001b[39;49;00m, z=middle(\u001b[34m1\u001b[39;49;00m, \u001b[34m2\u001b[39;49;00m, \u001b[34m3\u001b[39;49;00m))\n",
      "    \u001b[34mreturn\u001b[39;49;00m x"
     ]
    }
   ],
   "source": [
    "call_tree = ast.parse(inspect.getsource(test_call))\n",
    "dump_tree(call_tree)"
   ]
  },
  {
   "cell_type": "markdown",
   "metadata": {
    "slideshow": {
     "slide_type": "fragment"
    }
   },
   "source": [
    "If we invoke `TrackCallTransformer` on this testing function, we get the following transformed code:"
   ]
  },
  {
   "cell_type": "code",
   "execution_count": 115,
   "metadata": {
    "execution": {
     "iopub.execute_input": "2021-03-05T23:37:15.263482Z",
     "iopub.status.busy": "2021-03-05T23:37:15.262948Z",
     "iopub.status.idle": "2021-03-05T23:37:15.265250Z",
     "shell.execute_reply": "2021-03-05T23:37:15.265643Z"
    },
    "slideshow": {
     "slide_type": "fragment"
    }
   },
   "outputs": [
    {
     "data": {
      "text/plain": [
       "<_ast.Module at 0x7fe1d6686a20>"
      ]
     },
     "execution_count": 1,
     "metadata": {},
     "output_type": "execute_result"
    }
   ],
   "source": [
    "TrackCallTransformer().visit(call_tree);"
   ]
  },
  {
   "cell_type": "code",
   "execution_count": 116,
   "metadata": {
    "execution": {
     "iopub.execute_input": "2021-03-05T23:37:15.274415Z",
     "iopub.status.busy": "2021-03-05T23:37:15.273703Z",
     "iopub.status.idle": "2021-03-05T23:37:15.276216Z",
     "shell.execute_reply": "2021-03-05T23:37:15.276689Z"
    },
    "slideshow": {
     "slide_type": "subslide"
    }
   },
   "outputs": [
    {
     "name": "stdout",
     "output_type": "stream",
     "text": [
      "\u001b[34mdef\u001b[39;49;00m \u001b[32mtest_call\u001b[39;49;00m() ->\u001b[36mint\u001b[39;49;00m:\n",
      "    x = _data.ret(_data.call(middle)(_data.arg(\u001b[34m1\u001b[39;49;00m, pos=\u001b[34m1\u001b[39;49;00m), _data.arg(\u001b[34m2\u001b[39;49;00m, pos=\n",
      "        \u001b[34m2\u001b[39;49;00m), z=_data.arg(_data.ret(_data.call(middle)(_data.arg(\u001b[34m1\u001b[39;49;00m, pos=\u001b[34m1\u001b[39;49;00m),\n",
      "        _data.arg(\u001b[34m2\u001b[39;49;00m, pos=\u001b[34m2\u001b[39;49;00m), _data.arg(\u001b[34m3\u001b[39;49;00m, pos=\u001b[34m3\u001b[39;49;00m))), kw=\u001b[33m'\u001b[39;49;00m\u001b[33mz\u001b[39;49;00m\u001b[33m'\u001b[39;49;00m)))\n",
      "    \u001b[34mreturn\u001b[39;49;00m x"
     ]
    }
   ],
   "source": [
    "dump_tree(call_tree)"
   ]
  },
  {
   "cell_type": "code",
   "execution_count": 117,
   "metadata": {
    "execution": {
     "iopub.execute_input": "2021-03-05T23:37:15.280444Z",
     "iopub.status.busy": "2021-03-05T23:37:15.279741Z",
     "iopub.status.idle": "2021-03-05T23:37:15.281610Z",
     "shell.execute_reply": "2021-03-05T23:37:15.281990Z"
    },
    "slideshow": {
     "slide_type": "fragment"
    }
   },
   "outputs": [],
   "source": [
    "def f() -> bool:\n",
    "    return math.isclose(1, 1.0)"
   ]
  },
  {
   "cell_type": "code",
   "execution_count": 118,
   "metadata": {
    "execution": {
     "iopub.execute_input": "2021-03-05T23:37:15.289103Z",
     "iopub.status.busy": "2021-03-05T23:37:15.288526Z",
     "iopub.status.idle": "2021-03-05T23:37:15.290594Z",
     "shell.execute_reply": "2021-03-05T23:37:15.291025Z"
    },
    "slideshow": {
     "slide_type": "fragment"
    }
   },
   "outputs": [
    {
     "name": "stdout",
     "output_type": "stream",
     "text": [
      "\u001b[34mdef\u001b[39;49;00m \u001b[32mf\u001b[39;49;00m() ->\u001b[36mbool\u001b[39;49;00m:\n",
      "    \u001b[34mreturn\u001b[39;49;00m math.isclose(\u001b[34m1\u001b[39;49;00m, \u001b[34m1.0\u001b[39;49;00m)"
     ]
    }
   ],
   "source": [
    "f_tree = ast.parse(inspect.getsource(f))\n",
    "dump_tree(f_tree)"
   ]
  },
  {
   "cell_type": "code",
   "execution_count": 119,
   "metadata": {
    "execution": {
     "iopub.execute_input": "2021-03-05T23:37:15.294626Z",
     "iopub.status.busy": "2021-03-05T23:37:15.294012Z",
     "iopub.status.idle": "2021-03-05T23:37:15.296072Z",
     "shell.execute_reply": "2021-03-05T23:37:15.296454Z"
    },
    "slideshow": {
     "slide_type": "fragment"
    }
   },
   "outputs": [
    {
     "data": {
      "text/plain": [
       "<_ast.Module at 0x7fe1d66a9860>"
      ]
     },
     "execution_count": 1,
     "metadata": {},
     "output_type": "execute_result"
    }
   ],
   "source": [
    "TrackCallTransformer().visit(f_tree);"
   ]
  },
  {
   "cell_type": "code",
   "execution_count": 120,
   "metadata": {
    "execution": {
     "iopub.execute_input": "2021-03-05T23:37:15.303696Z",
     "iopub.status.busy": "2021-03-05T23:37:15.303145Z",
     "iopub.status.idle": "2021-03-05T23:37:15.305072Z",
     "shell.execute_reply": "2021-03-05T23:37:15.305497Z"
    },
    "slideshow": {
     "slide_type": "subslide"
    }
   },
   "outputs": [
    {
     "name": "stdout",
     "output_type": "stream",
     "text": [
      "\u001b[34mdef\u001b[39;49;00m \u001b[32mf\u001b[39;49;00m() ->\u001b[36mbool\u001b[39;49;00m:\n",
      "    \u001b[34mreturn\u001b[39;49;00m _data.ret(_data.call(math.isclose)(_data.arg(\u001b[34m1\u001b[39;49;00m, pos=\u001b[34m1\u001b[39;49;00m), _data.\n",
      "        arg(\u001b[34m1.0\u001b[39;49;00m, pos=\u001b[34m2\u001b[39;49;00m)))"
     ]
    }
   ],
   "source": [
    "dump_tree(f_tree)"
   ]
  },
  {
   "cell_type": "markdown",
   "metadata": {
    "slideshow": {
     "slide_type": "fragment"
    }
   },
   "source": [
    "As before, our default `arg()`, `ret()`, and `call()` methods simply log the event and pass through the given value."
   ]
  },
  {
   "cell_type": "code",
   "execution_count": 121,
   "metadata": {
    "execution": {
     "iopub.execute_input": "2021-03-05T23:37:15.310027Z",
     "iopub.status.busy": "2021-03-05T23:37:15.309461Z",
     "iopub.status.idle": "2021-03-05T23:37:15.311067Z",
     "shell.execute_reply": "2021-03-05T23:37:15.311504Z"
    },
    "slideshow": {
     "slide_type": "subslide"
    }
   },
   "outputs": [],
   "source": [
    "class DataTracker(DataTracker):\n",
    "    def arg(self, value: Any, pos: Optional[int] = None, kw: Optional[str] = None) -> Any:\n",
    "        \"\"\"\n",
    "        Track `value` being passed as argument.\n",
    "        `pos` (if given) is the argument position (starting with 1).\n",
    "        `kw` (if given) is the argument keyword.\n",
    "        \"\"\"\n",
    "\n",
    "        if self.log:\n",
    "            caller_func, lineno = self.caller_location()\n",
    "            info = \"\"\n",
    "            if pos:\n",
    "                info += f\" #{pos}\"\n",
    "            if kw:\n",
    "                info += f\" {repr(kw)}\"\n",
    "\n",
    "            print(f\"{caller_func.__name__}:{lineno}: pushing arg{info}\")\n",
    "\n",
    "        return value"
   ]
  },
  {
   "cell_type": "code",
   "execution_count": 122,
   "metadata": {
    "execution": {
     "iopub.execute_input": "2021-03-05T23:37:15.315200Z",
     "iopub.status.busy": "2021-03-05T23:37:15.314679Z",
     "iopub.status.idle": "2021-03-05T23:37:15.316431Z",
     "shell.execute_reply": "2021-03-05T23:37:15.316805Z"
    },
    "slideshow": {
     "slide_type": "subslide"
    }
   },
   "outputs": [],
   "source": [
    "class DataTracker(DataTracker):\n",
    "    def ret(self, value: Any) -> Any:\n",
    "        \"\"\"Track `value` being used as return value.\"\"\"\n",
    "        if self.log:\n",
    "            caller_func, lineno = self.caller_location()\n",
    "            print(f\"{caller_func.__name__}:{lineno}: returned from call\")\n",
    "\n",
    "        return value"
   ]
  },
  {
   "cell_type": "code",
   "execution_count": 123,
   "metadata": {
    "execution": {
     "iopub.execute_input": "2021-03-05T23:37:15.321859Z",
     "iopub.status.busy": "2021-03-05T23:37:15.321151Z",
     "iopub.status.idle": "2021-03-05T23:37:15.323120Z",
     "shell.execute_reply": "2021-03-05T23:37:15.323893Z"
    },
    "slideshow": {
     "slide_type": "subslide"
    }
   },
   "outputs": [],
   "source": [
    "class DataTracker(DataTracker):\n",
    "    def call(self, func: Callable) -> Callable:\n",
    "        \"\"\"Track a call to `func`.\"\"\"\n",
    "        if self.log:\n",
    "            caller_func, lineno = self.caller_location()\n",
    "            print(f\"{caller_func.__name__}:{lineno}: calling {func}\")\n",
    "\n",
    "        return func"
   ]
  },
  {
   "cell_type": "code",
   "execution_count": 124,
   "metadata": {
    "execution": {
     "iopub.execute_input": "2021-03-05T23:37:15.333745Z",
     "iopub.status.busy": "2021-03-05T23:37:15.332911Z",
     "iopub.status.idle": "2021-03-05T23:37:15.335823Z",
     "shell.execute_reply": "2021-03-05T23:37:15.336291Z"
    },
    "slideshow": {
     "slide_type": "fragment"
    }
   },
   "outputs": [
    {
     "name": "stdout",
     "output_type": "stream",
     "text": [
      "\u001b[34mdef\u001b[39;49;00m \u001b[32mtest_call\u001b[39;49;00m() ->\u001b[36mint\u001b[39;49;00m:\n",
      "    x = _data.ret(_data.call(middle)(_data.arg(\u001b[34m1\u001b[39;49;00m, pos=\u001b[34m1\u001b[39;49;00m), _data.arg(\u001b[34m2\u001b[39;49;00m, pos=\n",
      "        \u001b[34m2\u001b[39;49;00m), z=_data.arg(_data.ret(_data.call(middle)(_data.arg(\u001b[34m1\u001b[39;49;00m, pos=\u001b[34m1\u001b[39;49;00m),\n",
      "        _data.arg(\u001b[34m2\u001b[39;49;00m, pos=\u001b[34m2\u001b[39;49;00m), _data.arg(\u001b[34m3\u001b[39;49;00m, pos=\u001b[34m3\u001b[39;49;00m))), kw=\u001b[33m'\u001b[39;49;00m\u001b[33mz\u001b[39;49;00m\u001b[33m'\u001b[39;49;00m)))\n",
      "    \u001b[34mreturn\u001b[39;49;00m x"
     ]
    }
   ],
   "source": [
    "dump_tree(call_tree)"
   ]
  },
  {
   "cell_type": "code",
   "execution_count": 125,
   "metadata": {
    "execution": {
     "iopub.execute_input": "2021-03-05T23:37:15.340316Z",
     "iopub.status.busy": "2021-03-05T23:37:15.339616Z",
     "iopub.status.idle": "2021-03-05T23:37:15.342094Z",
     "shell.execute_reply": "2021-03-05T23:37:15.342679Z"
    },
    "slideshow": {
     "slide_type": "subslide"
    }
   },
   "outputs": [
    {
     "name": "stdout",
     "output_type": "stream",
     "text": [
      "test_call:2: calling <function middle at 0x7fe1d5ddbd08>\n",
      "test_call:2: pushing arg #1\n",
      "test_call:2: pushing arg #2\n",
      "test_call:2: calling <function middle at 0x7fe1d5ddbd08>\n",
      "test_call:2: pushing arg #1\n",
      "test_call:2: pushing arg #2\n",
      "test_call:2: pushing arg #3\n",
      "test_call:2: returned from call\n",
      "test_call:2: pushing arg 'z'\n",
      "test_call:2: returned from call\n"
     ]
    }
   ],
   "source": [
    "with DataTrackerTester(call_tree, test_call):\n",
    "    test_call()"
   ]
  },
  {
   "cell_type": "code",
   "execution_count": 126,
   "metadata": {
    "execution": {
     "iopub.execute_input": "2021-03-05T23:37:15.346822Z",
     "iopub.status.busy": "2021-03-05T23:37:15.345989Z",
     "iopub.status.idle": "2021-03-05T23:37:15.348590Z",
     "shell.execute_reply": "2021-03-05T23:37:15.348965Z"
    },
    "slideshow": {
     "slide_type": "fragment"
    }
   },
   "outputs": [
    {
     "data": {
      "text/plain": [
       "2"
      ]
     },
     "execution_count": 1,
     "metadata": {},
     "output_type": "execute_result"
    }
   ],
   "source": [
    "test_call()"
   ]
  },
  {
   "cell_type": "markdown",
   "metadata": {
    "slideshow": {
     "slide_type": "subslide"
    }
   },
   "source": [
    "### End of Excursion"
   ]
  },
  {
   "cell_type": "markdown",
   "metadata": {
    "slideshow": {
     "slide_type": "fragment"
    }
   },
   "source": [
    "On the receiving end, for each function argument `x`, we insert a call `_data.param('x', x, [position info])` to initialize `x`. This is useful for __tracking parameters across function calls.__"
   ]
  },
  {
   "cell_type": "markdown",
   "metadata": {
    "slideshow": {
     "slide_type": "subslide"
    }
   },
   "source": [
    "### Excursion: Tracking Parameters"
   ]
  },
  {
   "cell_type": "markdown",
   "metadata": {
    "slideshow": {
     "slide_type": "fragment"
    }
   },
   "source": [
    "Again, we use `ast.dump()` to determine the correct syntax tree:"
   ]
  },
  {
   "cell_type": "code",
   "execution_count": 127,
   "metadata": {
    "execution": {
     "iopub.execute_input": "2021-03-05T23:37:15.352800Z",
     "iopub.status.busy": "2021-03-05T23:37:15.352251Z",
     "iopub.status.idle": "2021-03-05T23:37:15.354563Z",
     "shell.execute_reply": "2021-03-05T23:37:15.354941Z"
    },
    "slideshow": {
     "slide_type": "fragment"
    }
   },
   "outputs": [
    {
     "name": "stdout",
     "output_type": "stream",
     "text": [
      "Module(body=[Expr(value=Call(func=Attribute(value=Name(id='_data', ctx=Load()), attr='param', ctx=Load()), args=[Str(s='x'), Name(id='x', ctx=Load())], keywords=[keyword(arg='pos', value=Num(n=1)), keyword(arg='last', value=NameConstant(value=True))]))])\n"
     ]
    }
   ],
   "source": [
    "print(ast.dump(ast.parse(\"_data.param('x', x, pos=1, last=True)\")))"
   ]
  },
  {
   "cell_type": "code",
   "execution_count": 128,
   "metadata": {
    "execution": {
     "iopub.execute_input": "2021-03-05T23:37:15.363647Z",
     "iopub.status.busy": "2021-03-05T23:37:15.363096Z",
     "iopub.status.idle": "2021-03-05T23:37:15.365459Z",
     "shell.execute_reply": "2021-03-05T23:37:15.364978Z"
    },
    "slideshow": {
     "slide_type": "subslide"
    }
   },
   "outputs": [],
   "source": [
    "class TrackParamsTransformer(NodeTransformer):\n",
    "    def visit_FunctionDef(self, node: ast.FunctionDef) -> ast.FunctionDef:\n",
    "        self.generic_visit(node)\n",
    "\n",
    "        named_args = []\n",
    "        for child in ast.iter_child_nodes(node.args):\n",
    "            if isinstance(child, ast.arg):\n",
    "                named_args.append(child)\n",
    "\n",
    "        create_stmts = []\n",
    "        for n, child in enumerate(named_args):\n",
    "            keywords=[keyword(arg='pos', value=ast.Num(n=n + 1))]\n",
    "            if child is node.args.vararg:\n",
    "                keywords.append(keyword(arg='vararg', value=ast.Str(s='*')))\n",
    "            if child is node.args.kwarg:\n",
    "                keywords.append(keyword(arg='vararg', value=ast.Str(s='**')))\n",
    "            if n == len(named_args) - 1:\n",
    "                keywords.append(keyword(arg='last',\n",
    "                                        value=ast.NameConstant(value=True)))\n",
    "\n",
    "            create_stmt = Expr(\n",
    "                value=Call(\n",
    "                    func=Attribute(value=Name(id=DATA_TRACKER, ctx=Load()),\n",
    "                                   attr='param', ctx=Load()),\n",
    "                    args=[ast.Str(s=child.arg),\n",
    "                          Name(id=child.arg, ctx=Load())\n",
    "                         ],\n",
    "                    keywords=keywords\n",
    "                )\n",
    "            )\n",
    "            ast.copy_location(create_stmt, node)\n",
    "            create_stmts.append(create_stmt)\n",
    "\n",
    "        node.body = cast(List[ast.stmt], create_stmts) + node.body\n",
    "        return node"
   ]
  },
  {
   "cell_type": "markdown",
   "metadata": {
    "slideshow": {
     "slide_type": "subslide"
    }
   },
   "source": [
    "This is the effect of `TrackParamsTransformer()`. You see how the first three parameters are all initialized."
   ]
  },
  {
   "cell_type": "code",
   "execution_count": 129,
   "metadata": {
    "execution": {
     "iopub.execute_input": "2021-03-05T23:37:15.378912Z",
     "iopub.status.busy": "2021-03-05T23:37:15.378212Z",
     "iopub.status.idle": "2021-03-05T23:37:15.380893Z",
     "shell.execute_reply": "2021-03-05T23:37:15.381322Z"
    },
    "slideshow": {
     "slide_type": "subslide"
    }
   },
   "outputs": [
    {
     "name": "stdout",
     "output_type": "stream",
     "text": [
      "\u001b[34mdef\u001b[39;49;00m \u001b[32mmiddle\u001b[39;49;00m(x, y, z):\n",
      "    _data.param(\u001b[33m'\u001b[39;49;00m\u001b[33mx\u001b[39;49;00m\u001b[33m'\u001b[39;49;00m, x, pos=\u001b[34m1\u001b[39;49;00m)\n",
      "    _data.param(\u001b[33m'\u001b[39;49;00m\u001b[33my\u001b[39;49;00m\u001b[33m'\u001b[39;49;00m, y, pos=\u001b[34m2\u001b[39;49;00m)\n",
      "    _data.param(\u001b[33m'\u001b[39;49;00m\u001b[33mz\u001b[39;49;00m\u001b[33m'\u001b[39;49;00m, z, pos=\u001b[34m3\u001b[39;49;00m, last=\u001b[34mTrue\u001b[39;49;00m)\n",
      "    \u001b[34mif\u001b[39;49;00m _data.test(_data.get(\u001b[33m'\u001b[39;49;00m\u001b[33my\u001b[39;49;00m\u001b[33m'\u001b[39;49;00m, y) < _data.get(\u001b[33m'\u001b[39;49;00m\u001b[33mz\u001b[39;49;00m\u001b[33m'\u001b[39;49;00m, z)):\n",
      "        \u001b[34mwith\u001b[39;49;00m _data:\n",
      "            \u001b[34mif\u001b[39;49;00m _data.test(_data.get(\u001b[33m'\u001b[39;49;00m\u001b[33mx\u001b[39;49;00m\u001b[33m'\u001b[39;49;00m, x) < _data.get(\u001b[33m'\u001b[39;49;00m\u001b[33my\u001b[39;49;00m\u001b[33m'\u001b[39;49;00m, y)):\n",
      "                \u001b[34mwith\u001b[39;49;00m _data:\n",
      "                    \u001b[34mreturn\u001b[39;49;00m _data.set(\u001b[33m'\u001b[39;49;00m\u001b[33m<middle() return value>\u001b[39;49;00m\u001b[33m'\u001b[39;49;00m, _data.get(\n",
      "                        \u001b[33m'\u001b[39;49;00m\u001b[33my\u001b[39;49;00m\u001b[33m'\u001b[39;49;00m, y))\n",
      "            \u001b[34melse\u001b[39;49;00m:\n",
      "                \u001b[34mwith\u001b[39;49;00m _data:\n",
      "                    \u001b[34mif\u001b[39;49;00m _data.test(_data.get(\u001b[33m'\u001b[39;49;00m\u001b[33mx\u001b[39;49;00m\u001b[33m'\u001b[39;49;00m, x) < _data.get(\u001b[33m'\u001b[39;49;00m\u001b[33mz\u001b[39;49;00m\u001b[33m'\u001b[39;49;00m, z)):\n",
      "                        \u001b[34mwith\u001b[39;49;00m _data:\n",
      "                            \u001b[34mreturn\u001b[39;49;00m _data.set(\u001b[33m'\u001b[39;49;00m\u001b[33m<middle() return value>\u001b[39;49;00m\u001b[33m'\u001b[39;49;00m,\n",
      "                                _data.get(\u001b[33m'\u001b[39;49;00m\u001b[33my\u001b[39;49;00m\u001b[33m'\u001b[39;49;00m, y))\n",
      "    \u001b[34melse\u001b[39;49;00m:\n",
      "        \u001b[34mwith\u001b[39;49;00m _data:\n",
      "            \u001b[34mif\u001b[39;49;00m _data.test(_data.get(\u001b[33m'\u001b[39;49;00m\u001b[33mx\u001b[39;49;00m\u001b[33m'\u001b[39;49;00m, x) > _data.get(\u001b[33m'\u001b[39;49;00m\u001b[33my\u001b[39;49;00m\u001b[33m'\u001b[39;49;00m, y)):\n",
      "                \u001b[34mwith\u001b[39;49;00m _data:\n",
      "                    \u001b[34mreturn\u001b[39;49;00m _data.set(\u001b[33m'\u001b[39;49;00m\u001b[33m<middle() return value>\u001b[39;49;00m\u001b[33m'\u001b[39;49;00m, _data.get(\n",
      "                        \u001b[33m'\u001b[39;49;00m\u001b[33my\u001b[39;49;00m\u001b[33m'\u001b[39;49;00m, y))\n",
      "            \u001b[34melse\u001b[39;49;00m:\n",
      "                \u001b[34mwith\u001b[39;49;00m _data:\n",
      "                    \u001b[34mif\u001b[39;49;00m _data.test(_data.get(\u001b[33m'\u001b[39;49;00m\u001b[33mx\u001b[39;49;00m\u001b[33m'\u001b[39;49;00m, x) > _data.get(\u001b[33m'\u001b[39;49;00m\u001b[33mz\u001b[39;49;00m\u001b[33m'\u001b[39;49;00m, z)):\n",
      "                        \u001b[34mwith\u001b[39;49;00m _data:\n",
      "                            \u001b[34mreturn\u001b[39;49;00m _data.set(\u001b[33m'\u001b[39;49;00m\u001b[33m<middle() return value>\u001b[39;49;00m\u001b[33m'\u001b[39;49;00m,\n",
      "                                _data.get(\u001b[33m'\u001b[39;49;00m\u001b[33mx\u001b[39;49;00m\u001b[33m'\u001b[39;49;00m, x))\n",
      "    \u001b[34mreturn\u001b[39;49;00m _data.set(\u001b[33m'\u001b[39;49;00m\u001b[33m<middle() return value>\u001b[39;49;00m\u001b[33m'\u001b[39;49;00m, _data.get(\u001b[33m'\u001b[39;49;00m\u001b[33mz\u001b[39;49;00m\u001b[33m'\u001b[39;49;00m, z))"
     ]
    }
   ],
   "source": [
    "TrackParamsTransformer().visit(middle_tree)\n",
    "dump_tree(middle_tree)"
   ]
  },
  {
   "cell_type": "markdown",
   "metadata": {
    "slideshow": {
     "slide_type": "subslide"
    }
   },
   "source": [
    "By default, the `DataTracker` `param()` method simply calls `set()` to set variables."
   ]
  },
  {
   "cell_type": "code",
   "execution_count": 130,
   "metadata": {
    "execution": {
     "iopub.execute_input": "2021-03-05T23:37:15.386619Z",
     "iopub.status.busy": "2021-03-05T23:37:15.386000Z",
     "iopub.status.idle": "2021-03-05T23:37:15.387840Z",
     "shell.execute_reply": "2021-03-05T23:37:15.388210Z"
    },
    "slideshow": {
     "slide_type": "subslide"
    }
   },
   "outputs": [],
   "source": [
    "class DataTracker(DataTracker):\n",
    "    def param(self, name: str, value: Any, \n",
    "              pos: Optional[int] = None, vararg: str = '', last: bool = False) -> Any:\n",
    "        \"\"\"\n",
    "        At the beginning of a function, track parameter `name` being set to `value`.\n",
    "        `pos` is the position of the argument (starting with 1).\n",
    "        `vararg` is \"*\" if `name` is a vararg parameter (as in *args),\n",
    "        and \"**\" is `name` is a kwargs parameter (as in *kwargs).\n",
    "        `last` is True if `name` is the last parameter.\n",
    "        \"\"\"\n",
    "        if self.log:\n",
    "            caller_func, lineno = self.caller_location()\n",
    "            info = \"\"\n",
    "            if pos is not None:\n",
    "                info += f\" #{pos}\"\n",
    "\n",
    "            print(f\"{caller_func.__name__}:{lineno}: initializing {vararg}{name}{info}\")\n",
    "\n",
    "        return self.set(name, value)"
   ]
  },
  {
   "cell_type": "code",
   "execution_count": 131,
   "metadata": {
    "execution": {
     "iopub.execute_input": "2021-03-05T23:37:15.391438Z",
     "iopub.status.busy": "2021-03-05T23:37:15.390883Z",
     "iopub.status.idle": "2021-03-05T23:37:15.393454Z",
     "shell.execute_reply": "2021-03-05T23:37:15.393888Z"
    },
    "slideshow": {
     "slide_type": "subslide"
    }
   },
   "outputs": [
    {
     "name": "stdout",
     "output_type": "stream",
     "text": [
      "middle:1: initializing x #1\n",
      "middle:1: setting x\n",
      "middle:1: initializing y #2\n",
      "middle:1: setting y\n",
      "middle:1: initializing z #3\n",
      "middle:1: setting z\n",
      "middle:2: getting y\n",
      "middle:2: getting z\n",
      "middle:2: testing condition\n",
      "middle:3: entering block\n",
      "middle:3: getting x\n",
      "middle:3: getting y\n",
      "middle:3: testing condition\n",
      "middle:5: entering block\n",
      "middle:5: getting x\n",
      "middle:5: getting z\n",
      "middle:5: testing condition\n",
      "middle:6: entering block\n",
      "middle:6: getting y\n",
      "middle:6: setting <middle() return value>\n",
      "middle:6: exiting block\n",
      "middle:6: exiting block\n",
      "middle:6: exiting block\n"
     ]
    }
   ],
   "source": [
    "with DataTrackerTester(middle_tree, middle):\n",
    "    middle(2, 1, 3)"
   ]
  },
  {
   "cell_type": "code",
   "execution_count": 132,
   "metadata": {
    "execution": {
     "iopub.execute_input": "2021-03-05T23:37:15.397111Z",
     "iopub.status.busy": "2021-03-05T23:37:15.396499Z",
     "iopub.status.idle": "2021-03-05T23:37:15.398236Z",
     "shell.execute_reply": "2021-03-05T23:37:15.398717Z"
    },
    "slideshow": {
     "slide_type": "subslide"
    }
   },
   "outputs": [],
   "source": [
    "def args_test(x, *args, **kwargs):  # type: ignore\n",
    "    print(x, *args, **kwargs)"
   ]
  },
  {
   "cell_type": "code",
   "execution_count": 133,
   "metadata": {
    "execution": {
     "iopub.execute_input": "2021-03-05T23:37:15.406871Z",
     "iopub.status.busy": "2021-03-05T23:37:15.406296Z",
     "iopub.status.idle": "2021-03-05T23:37:15.408167Z",
     "shell.execute_reply": "2021-03-05T23:37:15.408665Z"
    },
    "slideshow": {
     "slide_type": "fragment"
    }
   },
   "outputs": [
    {
     "name": "stdout",
     "output_type": "stream",
     "text": [
      "\u001b[34mdef\u001b[39;49;00m \u001b[32margs_test\u001b[39;49;00m(x, *args, **kwargs):\n",
      "    _data.param(\u001b[33m'\u001b[39;49;00m\u001b[33mx\u001b[39;49;00m\u001b[33m'\u001b[39;49;00m, x, pos=\u001b[34m1\u001b[39;49;00m)\n",
      "    _data.param(\u001b[33m'\u001b[39;49;00m\u001b[33margs\u001b[39;49;00m\u001b[33m'\u001b[39;49;00m, args, pos=\u001b[34m2\u001b[39;49;00m, vararg=\u001b[33m'\u001b[39;49;00m\u001b[33m*\u001b[39;49;00m\u001b[33m'\u001b[39;49;00m)\n",
      "    _data.param(\u001b[33m'\u001b[39;49;00m\u001b[33mkwargs\u001b[39;49;00m\u001b[33m'\u001b[39;49;00m, kwargs, pos=\u001b[34m3\u001b[39;49;00m, vararg=\u001b[33m'\u001b[39;49;00m\u001b[33m**\u001b[39;49;00m\u001b[33m'\u001b[39;49;00m, last=\u001b[34mTrue\u001b[39;49;00m)\n",
      "    \u001b[36mprint\u001b[39;49;00m(x, *args, **kwargs)"
     ]
    }
   ],
   "source": [
    "args_tree = ast.parse(inspect.getsource(args_test))\n",
    "TrackParamsTransformer().visit(args_tree)\n",
    "dump_tree(args_tree)"
   ]
  },
  {
   "cell_type": "code",
   "execution_count": 134,
   "metadata": {
    "execution": {
     "iopub.execute_input": "2021-03-05T23:37:15.411989Z",
     "iopub.status.busy": "2021-03-05T23:37:15.411377Z",
     "iopub.status.idle": "2021-03-05T23:37:15.413378Z",
     "shell.execute_reply": "2021-03-05T23:37:15.413754Z"
    },
    "slideshow": {
     "slide_type": "subslide"
    }
   },
   "outputs": [
    {
     "name": "stdout",
     "output_type": "stream",
     "text": [
      "args_test:1: initializing x #1\n",
      "args_test:1: setting x\n",
      "args_test:1: initializing *args #2\n",
      "args_test:1: setting args\n",
      "args_test:1: initializing **kwargs #3\n",
      "args_test:1: setting kwargs\n",
      "1 2 3\n"
     ]
    }
   ],
   "source": [
    "with DataTrackerTester(args_tree, args_test):\n",
    "    args_test(1, 2, 3)"
   ]
  },
  {
   "cell_type": "markdown",
   "metadata": {
    "slideshow": {
     "slide_type": "subslide"
    }
   },
   "source": [
    "### End of Excursion"
   ]
  },
  {
   "cell_type": "markdown",
   "metadata": {
    "slideshow": {
     "slide_type": "fragment"
    }
   },
   "source": [
    "What do we obtain after we have applied all these transformers on `middle()`? We see that the code now contains quite a load of instrumentation."
   ]
  },
  {
   "cell_type": "code",
   "execution_count": 135,
   "metadata": {
    "execution": {
     "iopub.execute_input": "2021-03-05T23:37:15.425861Z",
     "iopub.status.busy": "2021-03-05T23:37:15.425157Z",
     "iopub.status.idle": "2021-03-05T23:37:15.427716Z",
     "shell.execute_reply": "2021-03-05T23:37:15.428134Z"
    },
    "slideshow": {
     "slide_type": "subslide"
    }
   },
   "outputs": [
    {
     "name": "stdout",
     "output_type": "stream",
     "text": [
      "\u001b[34mdef\u001b[39;49;00m \u001b[32mmiddle\u001b[39;49;00m(x, y, z):\n",
      "    _data.param(\u001b[33m'\u001b[39;49;00m\u001b[33mx\u001b[39;49;00m\u001b[33m'\u001b[39;49;00m, x, pos=\u001b[34m1\u001b[39;49;00m)\n",
      "    _data.param(\u001b[33m'\u001b[39;49;00m\u001b[33my\u001b[39;49;00m\u001b[33m'\u001b[39;49;00m, y, pos=\u001b[34m2\u001b[39;49;00m)\n",
      "    _data.param(\u001b[33m'\u001b[39;49;00m\u001b[33mz\u001b[39;49;00m\u001b[33m'\u001b[39;49;00m, z, pos=\u001b[34m3\u001b[39;49;00m, last=\u001b[34mTrue\u001b[39;49;00m)\n",
      "    \u001b[34mif\u001b[39;49;00m _data.test(_data.get(\u001b[33m'\u001b[39;49;00m\u001b[33my\u001b[39;49;00m\u001b[33m'\u001b[39;49;00m, y) < _data.get(\u001b[33m'\u001b[39;49;00m\u001b[33mz\u001b[39;49;00m\u001b[33m'\u001b[39;49;00m, z)):\n",
      "        \u001b[34mwith\u001b[39;49;00m _data:\n",
      "            \u001b[34mif\u001b[39;49;00m _data.test(_data.get(\u001b[33m'\u001b[39;49;00m\u001b[33mx\u001b[39;49;00m\u001b[33m'\u001b[39;49;00m, x) < _data.get(\u001b[33m'\u001b[39;49;00m\u001b[33my\u001b[39;49;00m\u001b[33m'\u001b[39;49;00m, y)):\n",
      "                \u001b[34mwith\u001b[39;49;00m _data:\n",
      "                    \u001b[34mreturn\u001b[39;49;00m _data.set(\u001b[33m'\u001b[39;49;00m\u001b[33m<middle() return value>\u001b[39;49;00m\u001b[33m'\u001b[39;49;00m, _data.get(\n",
      "                        \u001b[33m'\u001b[39;49;00m\u001b[33my\u001b[39;49;00m\u001b[33m'\u001b[39;49;00m, y))\n",
      "            \u001b[34melse\u001b[39;49;00m:\n",
      "                \u001b[34mwith\u001b[39;49;00m _data:\n",
      "                    \u001b[34mif\u001b[39;49;00m _data.test(_data.get(\u001b[33m'\u001b[39;49;00m\u001b[33mx\u001b[39;49;00m\u001b[33m'\u001b[39;49;00m, x) < _data.get(\u001b[33m'\u001b[39;49;00m\u001b[33mz\u001b[39;49;00m\u001b[33m'\u001b[39;49;00m, z)):\n",
      "                        \u001b[34mwith\u001b[39;49;00m _data:\n",
      "                            \u001b[34mreturn\u001b[39;49;00m _data.set(\u001b[33m'\u001b[39;49;00m\u001b[33m<middle() return value>\u001b[39;49;00m\u001b[33m'\u001b[39;49;00m,\n",
      "                                _data.get(\u001b[33m'\u001b[39;49;00m\u001b[33my\u001b[39;49;00m\u001b[33m'\u001b[39;49;00m, y))\n",
      "    \u001b[34melse\u001b[39;49;00m:\n",
      "        \u001b[34mwith\u001b[39;49;00m _data:\n",
      "            \u001b[34mif\u001b[39;49;00m _data.test(_data.get(\u001b[33m'\u001b[39;49;00m\u001b[33mx\u001b[39;49;00m\u001b[33m'\u001b[39;49;00m, x) > _data.get(\u001b[33m'\u001b[39;49;00m\u001b[33my\u001b[39;49;00m\u001b[33m'\u001b[39;49;00m, y)):\n",
      "                \u001b[34mwith\u001b[39;49;00m _data:\n",
      "                    \u001b[34mreturn\u001b[39;49;00m _data.set(\u001b[33m'\u001b[39;49;00m\u001b[33m<middle() return value>\u001b[39;49;00m\u001b[33m'\u001b[39;49;00m, _data.get(\n",
      "                        \u001b[33m'\u001b[39;49;00m\u001b[33my\u001b[39;49;00m\u001b[33m'\u001b[39;49;00m, y))\n",
      "            \u001b[34melse\u001b[39;49;00m:\n",
      "                \u001b[34mwith\u001b[39;49;00m _data:\n",
      "                    \u001b[34mif\u001b[39;49;00m _data.test(_data.get(\u001b[33m'\u001b[39;49;00m\u001b[33mx\u001b[39;49;00m\u001b[33m'\u001b[39;49;00m, x) > _data.get(\u001b[33m'\u001b[39;49;00m\u001b[33mz\u001b[39;49;00m\u001b[33m'\u001b[39;49;00m, z)):\n",
      "                        \u001b[34mwith\u001b[39;49;00m _data:\n",
      "                            \u001b[34mreturn\u001b[39;49;00m _data.set(\u001b[33m'\u001b[39;49;00m\u001b[33m<middle() return value>\u001b[39;49;00m\u001b[33m'\u001b[39;49;00m,\n",
      "                                _data.get(\u001b[33m'\u001b[39;49;00m\u001b[33mx\u001b[39;49;00m\u001b[33m'\u001b[39;49;00m, x))\n",
      "    \u001b[34mreturn\u001b[39;49;00m _data.set(\u001b[33m'\u001b[39;49;00m\u001b[33m<middle() return value>\u001b[39;49;00m\u001b[33m'\u001b[39;49;00m, _data.get(\u001b[33m'\u001b[39;49;00m\u001b[33mz\u001b[39;49;00m\u001b[33m'\u001b[39;49;00m, z))"
     ]
    }
   ],
   "source": [
    "dump_tree(middle_tree)"
   ]
  },
  {
   "cell_type": "markdown",
   "metadata": {
    "slideshow": {
     "slide_type": "subslide"
    }
   },
   "source": [
    "And when we execute this code, we see that we can track quite a number of events, while the code semantics stay unchanged."
   ]
  },
  {
   "cell_type": "code",
   "execution_count": 136,
   "metadata": {
    "execution": {
     "iopub.execute_input": "2021-03-05T23:37:15.431984Z",
     "iopub.status.busy": "2021-03-05T23:37:15.431429Z",
     "iopub.status.idle": "2021-03-05T23:37:15.434976Z",
     "shell.execute_reply": "2021-03-05T23:37:15.435361Z"
    },
    "slideshow": {
     "slide_type": "subslide"
    }
   },
   "outputs": [
    {
     "name": "stdout",
     "output_type": "stream",
     "text": [
      "middle:1: initializing x #1\n",
      "middle:1: setting x\n",
      "middle:1: initializing y #2\n",
      "middle:1: setting y\n",
      "middle:1: initializing z #3\n",
      "middle:1: setting z\n",
      "middle:2: getting y\n",
      "middle:2: getting z\n",
      "middle:2: testing condition\n",
      "middle:3: entering block\n",
      "middle:3: getting x\n",
      "middle:3: getting y\n",
      "middle:3: testing condition\n",
      "middle:5: entering block\n",
      "middle:5: getting x\n",
      "middle:5: getting z\n",
      "middle:5: testing condition\n",
      "middle:6: entering block\n",
      "middle:6: getting y\n",
      "middle:6: setting <middle() return value>\n",
      "middle:6: exiting block\n",
      "middle:6: exiting block\n",
      "middle:6: exiting block\n"
     ]
    },
    {
     "data": {
      "text/plain": [
       "1"
      ]
     },
     "execution_count": 1,
     "metadata": {},
     "output_type": "execute_result"
    }
   ],
   "source": [
    "with DataTrackerTester(middle_tree, middle):\n",
    "    m = middle(2, 1, 3)\n",
    "m"
   ]
  },
  {
   "cell_type": "markdown",
   "metadata": {
    "slideshow": {
     "slide_type": "subslide"
    }
   },
   "source": [
    "### Excursion: Transformer Stress Test"
   ]
  },
  {
   "cell_type": "markdown",
   "metadata": {
    "slideshow": {
     "slide_type": "fragment"
    }
   },
   "source": [
    "We stress test our transformers by instrumenting, transforming, and compiling a number of modules."
   ]
  },
  {
   "cell_type": "code",
   "execution_count": 137,
   "metadata": {
    "execution": {
     "iopub.execute_input": "2021-03-05T23:37:15.438520Z",
     "iopub.status.busy": "2021-03-05T23:37:15.437932Z",
     "iopub.status.idle": "2021-03-05T23:37:15.566735Z",
     "shell.execute_reply": "2021-03-05T23:37:15.567655Z"
    },
    "slideshow": {
     "slide_type": "skip"
    }
   },
   "outputs": [],
   "source": [
    "import Assertions  # minor dependency\n",
    "import Debugger  # minor dependency"
   ]
  },
  {
   "cell_type": "code",
   "execution_count": 138,
   "metadata": {
    "execution": {
     "iopub.execute_input": "2021-03-05T23:37:15.646561Z",
     "iopub.status.busy": "2021-03-05T23:37:15.608612Z",
     "iopub.status.idle": "2021-03-05T23:37:17.049871Z",
     "shell.execute_reply": "2021-03-05T23:37:17.050273Z"
    },
    "slideshow": {
     "slide_type": "subslide"
    }
   },
   "outputs": [
    {
     "name": "stdout",
     "output_type": "stream",
     "text": [
      "'Assertions' instrumented successfully.\n",
      "'Debugger' instrumented successfully.\n",
      "'inspect' instrumented successfully.\n",
      "'ast' instrumented successfully.\n",
      "'astor' instrumented successfully.\n"
     ]
    }
   ],
   "source": [
    "for module in [Assertions, Debugger, inspect, ast, astor]:\n",
    "    module_tree = ast.parse(inspect.getsource(module))\n",
    "    TrackCallTransformer().visit(module_tree)\n",
    "    TrackSetTransformer().visit(module_tree)\n",
    "    TrackGetTransformer().visit(module_tree)\n",
    "    TrackControlTransformer().visit(module_tree)\n",
    "    TrackReturnTransformer().visit(module_tree)\n",
    "    TrackParamsTransformer().visit(module_tree)\n",
    "    # dump_tree(module_tree)\n",
    "    ast.fix_missing_locations(module_tree)  # Must run this before compiling\n",
    "    module_code = compile(module_tree, '<stress_test>', 'exec')\n",
    "    print(f\"{repr(module.__name__)} instrumented successfully.\")"
   ]
  },
  {
   "cell_type": "markdown",
   "metadata": {
    "slideshow": {
     "slide_type": "subslide"
    }
   },
   "source": [
    "### End of Excursion"
   ]
  },
  {
   "cell_type": "markdown",
   "metadata": {
    "slideshow": {
     "slide_type": "fragment"
    }
   },
   "source": [
    "Our next step will now be not only to _log_ these events, but to actually construct _dependencies_ from them."
   ]
  },
  {
   "cell_type": "markdown",
   "metadata": {
    "slideshow": {
     "slide_type": "slide"
    }
   },
   "source": [
    "## Tracking Dependencies"
   ]
  },
  {
   "cell_type": "markdown",
   "metadata": {
    "slideshow": {
     "slide_type": "fragment"
    }
   },
   "source": [
    "To construct dependencies from variable accesses, we subclass `DataTracker` into `DependencyTracker` – a class that actually keeps track of all these dependencies.  Its constructor initializes a number of variables we will discuss below."
   ]
  },
  {
   "cell_type": "code",
   "execution_count": 139,
   "metadata": {
    "execution": {
     "iopub.execute_input": "2021-03-05T23:37:17.056411Z",
     "iopub.status.busy": "2021-03-05T23:37:17.055878Z",
     "iopub.status.idle": "2021-03-05T23:37:17.057552Z",
     "shell.execute_reply": "2021-03-05T23:37:17.057923Z"
    },
    "slideshow": {
     "slide_type": "subslide"
    }
   },
   "outputs": [],
   "source": [
    "class DependencyTracker(DataTracker):\n",
    "    \"\"\"Track dependencies during execution\"\"\"\n",
    "\n",
    "    def __init__(self, *args: Any, **kwargs: Any) -> None:\n",
    "        \"\"\"Constructor. Arguments are passed to DataTracker.__init__()\"\"\"\n",
    "        super().__init__(*args, **kwargs)\n",
    "\n",
    "        self.origins: Dict[str, Location] = {}  # Where current variables were last set\n",
    "        self.data_dependencies: Dependency = {}  # As with Dependencies, above\n",
    "        self.control_dependencies: Dependency = {}\n",
    "\n",
    "        self.last_read: List[str] = []  # List of last read variables\n",
    "        self.last_checked_location = (StackInspector.unknown, 1)\n",
    "        self._ignore_location_change = False\n",
    "\n",
    "        self.data: List[List[str]] = [[]]  # Data stack\n",
    "        self.control: List[List[str]] = [[]]  # Control stack\n",
    "\n",
    "        self.frames: List[Dict[Union[int, str], Any]] = [{}]  # Argument stack\n",
    "        self.args: Dict[Union[int, str], Any] = {}  # Current args"
   ]
  },
  {
   "cell_type": "markdown",
   "metadata": {
    "slideshow": {
     "slide_type": "subslide"
    }
   },
   "source": [
    "### Data Dependencies\n",
    "\n",
    "The first job of our `DependencyTracker` is to construct dependencies between _read_ and _written_ variables."
   ]
  },
  {
   "cell_type": "markdown",
   "metadata": {
    "slideshow": {
     "slide_type": "subslide"
    }
   },
   "source": [
    "#### Reading Variables\n",
    "\n",
    "As in `DataTracker`, the key method of `DependencyTracker` again is `get()`, invoked as `_data.get('x', x)` whenever a variable `x` is read. First and foremost, it appends the name of the read variable to the list `last_read`."
   ]
  },
  {
   "cell_type": "code",
   "execution_count": 140,
   "metadata": {
    "execution": {
     "iopub.execute_input": "2021-03-05T23:37:17.061743Z",
     "iopub.status.busy": "2021-03-05T23:37:17.061234Z",
     "iopub.status.idle": "2021-03-05T23:37:17.062793Z",
     "shell.execute_reply": "2021-03-05T23:37:17.063253Z"
    },
    "slideshow": {
     "slide_type": "fragment"
    }
   },
   "outputs": [],
   "source": [
    "class DependencyTracker(DependencyTracker):\n",
    "    def get(self, name: str, value: Any) -> Any:\n",
    "        \"\"\"Track a read access for variable `name` with value `value`\"\"\"\n",
    "        self.check_location()\n",
    "        self.last_read.append(name)\n",
    "        return super().get(name, value)\n",
    "\n",
    "    def check_location(self) -> None:\n",
    "        pass  # More on that below"
   ]
  },
  {
   "cell_type": "code",
   "execution_count": 141,
   "metadata": {
    "execution": {
     "iopub.execute_input": "2021-03-05T23:37:17.066083Z",
     "iopub.status.busy": "2021-03-05T23:37:17.065561Z",
     "iopub.status.idle": "2021-03-05T23:37:17.067177Z",
     "shell.execute_reply": "2021-03-05T23:37:17.067561Z"
    },
    "slideshow": {
     "slide_type": "subslide"
    }
   },
   "outputs": [],
   "source": [
    "x = 5\n",
    "y = 3"
   ]
  },
  {
   "cell_type": "code",
   "execution_count": 142,
   "metadata": {
    "execution": {
     "iopub.execute_input": "2021-03-05T23:37:17.071392Z",
     "iopub.status.busy": "2021-03-05T23:37:17.070771Z",
     "iopub.status.idle": "2021-03-05T23:37:17.073598Z",
     "shell.execute_reply": "2021-03-05T23:37:17.073970Z"
    },
    "slideshow": {
     "slide_type": "fragment"
    }
   },
   "outputs": [
    {
     "name": "stdout",
     "output_type": "stream",
     "text": [
      "<module>:2: getting x\n",
      "<module>:2: getting y\n"
     ]
    },
    {
     "data": {
      "text/plain": [
       "8"
      ]
     },
     "execution_count": 1,
     "metadata": {},
     "output_type": "execute_result"
    }
   ],
   "source": [
    "_test_data = DependencyTracker(log=True)\n",
    "_test_data.get('x', x) + _test_data.get('y', y)"
   ]
  },
  {
   "cell_type": "code",
   "execution_count": 143,
   "metadata": {
    "execution": {
     "iopub.execute_input": "2021-03-05T23:37:17.077123Z",
     "iopub.status.busy": "2021-03-05T23:37:17.076606Z",
     "iopub.status.idle": "2021-03-05T23:37:17.078501Z",
     "shell.execute_reply": "2021-03-05T23:37:17.078961Z"
    },
    "slideshow": {
     "slide_type": "fragment"
    }
   },
   "outputs": [
    {
     "data": {
      "text/plain": [
       "['x', 'y']"
      ]
     },
     "execution_count": 1,
     "metadata": {},
     "output_type": "execute_result"
    }
   ],
   "source": [
    "_test_data.last_read"
   ]
  },
  {
   "cell_type": "markdown",
   "metadata": {
    "slideshow": {
     "slide_type": "subslide"
    }
   },
   "source": [
    "#### Checking Locations"
   ]
  },
  {
   "cell_type": "markdown",
   "metadata": {
    "slideshow": {
     "slide_type": "fragment"
    }
   },
   "source": [
    "However, before appending the read variable to `last_read`, `_data.get()` does one more thing. By invoking `check_location()`, it clears the `last_read` list if we have reached a new line in the execution. This avoids situations such as\n",
    "\n",
    "```python\n",
    "x\n",
    "y\n",
    "z = a + b\n",
    "```\n",
    "where `x` and `y` are, well, read, but do not affect the last line. Therefore, with every new line, the list of last read lines is cleared."
   ]
  },
  {
   "cell_type": "code",
   "execution_count": 144,
   "metadata": {
    "execution": {
     "iopub.execute_input": "2021-03-05T23:37:17.084841Z",
     "iopub.status.busy": "2021-03-05T23:37:17.084268Z",
     "iopub.status.idle": "2021-03-05T23:37:17.085834Z",
     "shell.execute_reply": "2021-03-05T23:37:17.086269Z"
    },
    "slideshow": {
     "slide_type": "subslide"
    }
   },
   "outputs": [],
   "source": [
    "class DependencyTracker(DependencyTracker):\n",
    "    def clear_read(self) -> None:\n",
    "        \"\"\"Clear set of read variables\"\"\"\n",
    "        if self.log:\n",
    "            direct_caller = inspect.currentframe().f_back.f_code.co_name  # type: ignore\n",
    "            caller_func, lineno = self.caller_location()\n",
    "            print(f\"{caller_func.__name__}:{lineno}: \"\n",
    "                  f\"clearing read variables {self.last_read} \"\n",
    "                  f\"(from {direct_caller})\")\n",
    "\n",
    "        self.last_read = []\n",
    "\n",
    "    def check_location(self) -> None:\n",
    "        \"\"\"If we are in a new location, clear set of read variables\"\"\"\n",
    "        location = self.caller_location()\n",
    "        func, lineno = location\n",
    "        last_func, last_lineno = self.last_checked_location\n",
    "\n",
    "        if self.last_checked_location != location:\n",
    "            if self._ignore_location_change:\n",
    "                self._ignore_location_change = False\n",
    "            elif func.__name__.startswith('<'):\n",
    "                # Entering list comprehension, eval(), exec(), ...\n",
    "                pass\n",
    "            elif last_func.__name__.startswith('<'):\n",
    "                # Exiting list comprehension, eval(), exec(), ...\n",
    "                pass\n",
    "            else:\n",
    "                # Standard case\n",
    "                self.clear_read()\n",
    "\n",
    "        self.last_checked_location = location"
   ]
  },
  {
   "cell_type": "markdown",
   "metadata": {
    "slideshow": {
     "slide_type": "subslide"
    }
   },
   "source": [
    "Two methods can suppress this reset of the `last_read` list: \n",
    "\n",
    "* `ignore_next_location_change()` suppresses the reset for the next line. This is useful when returning from a function, when the return value is still in the list of \"read\" variables.\n",
    "* `ignore_location_change()` suppresses the reset for the current line. This is useful if we already have returned from a function call."
   ]
  },
  {
   "cell_type": "code",
   "execution_count": 145,
   "metadata": {
    "execution": {
     "iopub.execute_input": "2021-03-05T23:37:17.089832Z",
     "iopub.status.busy": "2021-03-05T23:37:17.089319Z",
     "iopub.status.idle": "2021-03-05T23:37:17.091011Z",
     "shell.execute_reply": "2021-03-05T23:37:17.091383Z"
    },
    "slideshow": {
     "slide_type": "fragment"
    }
   },
   "outputs": [],
   "source": [
    "class DependencyTracker(DependencyTracker):\n",
    "    def ignore_next_location_change(self) -> None:\n",
    "        self._ignore_location_change = True\n",
    "\n",
    "    def ignore_location_change(self) -> None:\n",
    "        self.last_checked_location = self.caller_location()"
   ]
  },
  {
   "cell_type": "markdown",
   "metadata": {
    "slideshow": {
     "slide_type": "subslide"
    }
   },
   "source": [
    "Watch how `DependencyTracker` resets `last_read` when a new line is executed:"
   ]
  },
  {
   "cell_type": "code",
   "execution_count": 146,
   "metadata": {
    "execution": {
     "iopub.execute_input": "2021-03-05T23:37:17.094292Z",
     "iopub.status.busy": "2021-03-05T23:37:17.093779Z",
     "iopub.status.idle": "2021-03-05T23:37:17.095306Z",
     "shell.execute_reply": "2021-03-05T23:37:17.095743Z"
    },
    "slideshow": {
     "slide_type": "fragment"
    }
   },
   "outputs": [],
   "source": [
    "_test_data = DependencyTracker()"
   ]
  },
  {
   "cell_type": "code",
   "execution_count": 147,
   "metadata": {
    "execution": {
     "iopub.execute_input": "2021-03-05T23:37:17.099291Z",
     "iopub.status.busy": "2021-03-05T23:37:17.098688Z",
     "iopub.status.idle": "2021-03-05T23:37:17.100961Z",
     "shell.execute_reply": "2021-03-05T23:37:17.101428Z"
    },
    "slideshow": {
     "slide_type": "fragment"
    }
   },
   "outputs": [
    {
     "data": {
      "text/plain": [
       "8"
      ]
     },
     "execution_count": 1,
     "metadata": {},
     "output_type": "execute_result"
    }
   ],
   "source": [
    "_test_data.get('x', x) + _test_data.get('y', y)"
   ]
  },
  {
   "cell_type": "code",
   "execution_count": 148,
   "metadata": {
    "execution": {
     "iopub.execute_input": "2021-03-05T23:37:17.104997Z",
     "iopub.status.busy": "2021-03-05T23:37:17.104424Z",
     "iopub.status.idle": "2021-03-05T23:37:17.106437Z",
     "shell.execute_reply": "2021-03-05T23:37:17.106822Z"
    },
    "slideshow": {
     "slide_type": "fragment"
    }
   },
   "outputs": [
    {
     "data": {
      "text/plain": [
       "['x', 'y']"
      ]
     },
     "execution_count": 1,
     "metadata": {},
     "output_type": "execute_result"
    }
   ],
   "source": [
    "_test_data.last_read"
   ]
  },
  {
   "cell_type": "code",
   "execution_count": 149,
   "metadata": {
    "execution": {
     "iopub.execute_input": "2021-03-05T23:37:17.110225Z",
     "iopub.status.busy": "2021-03-05T23:37:17.109707Z",
     "iopub.status.idle": "2021-03-05T23:37:17.111650Z",
     "shell.execute_reply": "2021-03-05T23:37:17.112016Z"
    },
    "slideshow": {
     "slide_type": "fragment"
    }
   },
   "outputs": [
    {
     "data": {
      "text/plain": [
       "41"
      ]
     },
     "execution_count": 1,
     "metadata": {},
     "output_type": "execute_result"
    }
   ],
   "source": [
    "a = 42\n",
    "b = -1\n",
    "_test_data.get('a', a) + _test_data.get('b', b)"
   ]
  },
  {
   "cell_type": "code",
   "execution_count": 150,
   "metadata": {
    "execution": {
     "iopub.execute_input": "2021-03-05T23:37:17.115289Z",
     "iopub.status.busy": "2021-03-05T23:37:17.114703Z",
     "iopub.status.idle": "2021-03-05T23:37:17.117290Z",
     "shell.execute_reply": "2021-03-05T23:37:17.116904Z"
    },
    "slideshow": {
     "slide_type": "fragment"
    }
   },
   "outputs": [
    {
     "data": {
      "text/plain": [
       "['x', 'y', 'a', 'b']"
      ]
     },
     "execution_count": 1,
     "metadata": {},
     "output_type": "execute_result"
    }
   ],
   "source": [
    "_test_data.last_read"
   ]
  },
  {
   "cell_type": "markdown",
   "metadata": {
    "slideshow": {
     "slide_type": "subslide"
    }
   },
   "source": [
    "#### Setting Variables\n",
    "\n",
    "The method `set()` creates dependencies. It is invoked as  `_data.set('x', value)` whenever a variable `x` is set. \n",
    "\n",
    "First and foremost, it takes the list of variables read `last_read`, and for each of the variables $v$, it takes their origin $o$ (the place where they were last set) and appends the pair ($v$, $o$) to the list of data dependencies. It then does a similar thing with control dependencies (more on these below), and finally marks (in `self.origins`) the current location of $v$."
   ]
  },
  {
   "cell_type": "code",
   "execution_count": 151,
   "metadata": {
    "execution": {
     "iopub.execute_input": "2021-03-05T23:37:17.120995Z",
     "iopub.status.busy": "2021-03-05T23:37:17.120292Z",
     "iopub.status.idle": "2021-03-05T23:37:17.121929Z",
     "shell.execute_reply": "2021-03-05T23:37:17.122304Z"
    },
    "slideshow": {
     "slide_type": "skip"
    }
   },
   "outputs": [],
   "source": [
    "import itertools"
   ]
  },
  {
   "cell_type": "code",
   "execution_count": 152,
   "metadata": {
    "execution": {
     "iopub.execute_input": "2021-03-05T23:37:17.131491Z",
     "iopub.status.busy": "2021-03-05T23:37:17.130766Z",
     "iopub.status.idle": "2021-03-05T23:37:17.133137Z",
     "shell.execute_reply": "2021-03-05T23:37:17.132661Z"
    },
    "slideshow": {
     "slide_type": "subslide"
    }
   },
   "outputs": [],
   "source": [
    "class DependencyTracker(DependencyTracker):\n",
    "    TEST = '<test>'  # Name of pseudo-variables for testing conditions\n",
    "\n",
    "    def set(self, name: str, value: Any, loads: Optional[Set[str]] = None) -> Any:\n",
    "        \"\"\"Add a dependency for `name` = `value`\"\"\"\n",
    "\n",
    "        def add_dependencies(dependencies: Set[Node], \n",
    "                             vars_read: List[str], tp: str) -> None:\n",
    "            \"\"\"Add origins of `vars_read` to `dependencies`.\"\"\"\n",
    "            for var_read in vars_read:\n",
    "                if var_read in self.origins:\n",
    "                    if var_read == self.TEST and tp == \"data\":\n",
    "                        # Can't have data dependencies on conditions\n",
    "                        continue\n",
    "\n",
    "                    origin = self.origins[var_read]\n",
    "                    dependencies.add((var_read, origin))\n",
    "\n",
    "                    if self.log:\n",
    "                        origin_func, origin_lineno = origin\n",
    "                        caller_func, lineno = self.caller_location()\n",
    "                        print(f\"{caller_func.__name__}:{lineno}: \"\n",
    "                              f\"new {tp} dependency: \"\n",
    "                              f\"{name} <= {var_read} \"\n",
    "                              f\"({origin_func.__name__}:{origin_lineno})\")\n",
    "\n",
    "        self.check_location()\n",
    "        ret = super().set(name, value)\n",
    "        location = self.caller_location()\n",
    "\n",
    "        add_dependencies(self.data_dependencies.setdefault\n",
    "                         ((name, location), set()),\n",
    "                         self.last_read, tp=\"data\")\n",
    "        add_dependencies(self.control_dependencies.setdefault\n",
    "                         ((name, location), set()),\n",
    "                         cast(List[str], itertools.chain.from_iterable(self.control)),\n",
    "                         tp=\"control\")\n",
    "\n",
    "        self.origins[name] = location\n",
    "\n",
    "        # Reset read info for next line\n",
    "        self.last_read = [name]\n",
    "\n",
    "        return ret\n",
    "\n",
    "    def dependencies(self) -> Dependencies:\n",
    "        \"\"\"Return dependencies\"\"\"\n",
    "        return Dependencies(self.data_dependencies,\n",
    "                            self.control_dependencies)"
   ]
  },
  {
   "cell_type": "markdown",
   "metadata": {
    "slideshow": {
     "slide_type": "subslide"
    }
   },
   "source": [
    "Let us illustrate `set()` by example. Here's a set of variables read and written:"
   ]
  },
  {
   "cell_type": "code",
   "execution_count": 153,
   "metadata": {
    "execution": {
     "iopub.execute_input": "2021-03-05T23:37:17.137988Z",
     "iopub.status.busy": "2021-03-05T23:37:17.137445Z",
     "iopub.status.idle": "2021-03-05T23:37:17.139216Z",
     "shell.execute_reply": "2021-03-05T23:37:17.139660Z"
    },
    "slideshow": {
     "slide_type": "fragment"
    }
   },
   "outputs": [],
   "source": [
    "_test_data = DependencyTracker()\n",
    "x = _test_data.set('x', 1)\n",
    "y = _test_data.set('y', _test_data.get('x', x))\n",
    "z = _test_data.set('z', _test_data.get('x', x) + _test_data.get('y', y))"
   ]
  },
  {
   "cell_type": "markdown",
   "metadata": {
    "slideshow": {
     "slide_type": "fragment"
    }
   },
   "source": [
    "The attribute `origins` saves for each variable where it was last written:"
   ]
  },
  {
   "cell_type": "code",
   "execution_count": 154,
   "metadata": {
    "execution": {
     "iopub.execute_input": "2021-03-05T23:37:17.143385Z",
     "iopub.status.busy": "2021-03-05T23:37:17.142797Z",
     "iopub.status.idle": "2021-03-05T23:37:17.144820Z",
     "shell.execute_reply": "2021-03-05T23:37:17.145197Z"
    },
    "slideshow": {
     "slide_type": "fragment"
    }
   },
   "outputs": [
    {
     "data": {
      "text/plain": [
       "{'x': (<function __main__.<module>()>, 2),\n",
       " 'y': (<function __main__.<module>()>, 3),\n",
       " 'z': (<function __main__.<module>()>, 4)}"
      ]
     },
     "execution_count": 1,
     "metadata": {},
     "output_type": "execute_result"
    }
   ],
   "source": [
    "_test_data.origins"
   ]
  },
  {
   "cell_type": "markdown",
   "metadata": {
    "slideshow": {
     "slide_type": "fragment"
    }
   },
   "source": [
    "The attribute `data_dependencies` tracks for each variable the variables it was read from:"
   ]
  },
  {
   "cell_type": "code",
   "execution_count": 155,
   "metadata": {
    "execution": {
     "iopub.execute_input": "2021-03-05T23:37:17.148956Z",
     "iopub.status.busy": "2021-03-05T23:37:17.148420Z",
     "iopub.status.idle": "2021-03-05T23:37:17.150401Z",
     "shell.execute_reply": "2021-03-05T23:37:17.150772Z"
    },
    "slideshow": {
     "slide_type": "subslide"
    }
   },
   "outputs": [
    {
     "data": {
      "text/plain": [
       "{('x', (<function __main__.<module>()>, 2)): set(),\n",
       " ('y',\n",
       "  (<function __main__.<module>()>, 3)): {('x',\n",
       "   (<function __main__.<module>()>, 2))},\n",
       " ('z',\n",
       "  (<function __main__.<module>()>, 4)): {('x',\n",
       "   (<function __main__.<module>()>, 2)), ('y',\n",
       "   (<function __main__.<module>()>, 3))}}"
      ]
     },
     "execution_count": 1,
     "metadata": {},
     "output_type": "execute_result"
    }
   ],
   "source": [
    "_test_data.data_dependencies"
   ]
  },
  {
   "cell_type": "markdown",
   "metadata": {
    "slideshow": {
     "slide_type": "fragment"
    }
   },
   "source": [
    "Hence, the above code already gives us a small dependency graph:"
   ]
  },
  {
   "cell_type": "code",
   "execution_count": 156,
   "metadata": {
    "execution": {
     "iopub.execute_input": "2021-03-05T23:37:17.154365Z",
     "iopub.status.busy": "2021-03-05T23:37:17.153787Z",
     "iopub.status.idle": "2021-03-05T23:37:17.785915Z",
     "shell.execute_reply": "2021-03-05T23:37:17.786289Z"
    },
    "slideshow": {
     "slide_type": "fragment"
    }
   },
   "outputs": [
    {
     "data": {
      "image/svg+xml": [
       "<?xml version=\"1.0\" encoding=\"UTF-8\" standalone=\"no\"?>\n",
       "<!DOCTYPE svg PUBLIC \"-//W3C//DTD SVG 1.1//EN\"\n",
       " \"http://www.w3.org/Graphics/SVG/1.1/DTD/svg11.dtd\">\n",
       "<!-- Generated by graphviz version 2.40.1 (20161225.0304)\n",
       " -->\n",
       "<!-- Title: dependencies Pages: 1 -->\n",
       "<svg width=\"97pt\" height=\"200pt\"\n",
       " viewBox=\"0.00 0.00 97.00 200.00\" xmlns=\"http://www.w3.org/2000/svg\" xmlns:xlink=\"http://www.w3.org/1999/xlink\">\n",
       "<g id=\"graph0\" class=\"graph\" transform=\"scale(1 1) rotate(0) translate(4 196)\">\n",
       "<title>dependencies</title>\n",
       "<polygon fill=\"#ffffff\" stroke=\"transparent\" points=\"-4,4 -4,-196 93,-196 93,4 -4,4\"/>\n",
       "<!-- z_functionmoduleat0x7fe1d7088950_4 -->\n",
       "<g id=\"node1\" class=\"node\">\n",
       "<title>z_functionmoduleat0x7fe1d7088950_4</title>\n",
       "<g id=\"a_node1\"><a xlink:title=\"&lt;module&gt;:4\">\n",
       "<polygon fill=\"#ffdab9\" stroke=\"#000000\" points=\"60,-40 0,-40 0,0 60,0 60,-40\"/>\n",
       "<text text-anchor=\"start\" x=\"25.5\" y=\"-25.8\" font-family=\"Fira Mono, Courier, monospace\" font-weight=\"bold\" font-size=\"14.00\" fill=\"#000000\">z</text>\n",
       "<text text-anchor=\"start\" x=\"8\" y=\"-6.8\" font-family=\"Fira Mono, Courier, monospace\" font-size=\"9.00\" fill=\"#000000\">&lt;module&gt;</text>\n",
       "</a>\n",
       "</g>\n",
       "</g>\n",
       "<!-- x_functionmoduleat0x7fe1d64c2a60_2 -->\n",
       "<g id=\"node2\" class=\"node\">\n",
       "<title>x_functionmoduleat0x7fe1d64c2a60_2</title>\n",
       "<g id=\"a_node2\"><a xlink:title=\"&lt;module&gt;:2\">\n",
       "<polygon fill=\"#ffdab9\" stroke=\"#000000\" points=\"60,-192 0,-192 0,-152 60,-152 60,-192\"/>\n",
       "<text text-anchor=\"start\" x=\"25.5\" y=\"-177.8\" font-family=\"Fira Mono, Courier, monospace\" font-weight=\"bold\" font-size=\"14.00\" fill=\"#000000\">x</text>\n",
       "<text text-anchor=\"start\" x=\"8\" y=\"-158.8\" font-family=\"Fira Mono, Courier, monospace\" font-size=\"9.00\" fill=\"#000000\">&lt;module&gt;</text>\n",
       "</a>\n",
       "</g>\n",
       "</g>\n",
       "<!-- x_functionmoduleat0x7fe1d64c2a60_2&#45;&gt;z_functionmoduleat0x7fe1d7088950_4 -->\n",
       "<g id=\"edge1\" class=\"edge\">\n",
       "<title>x_functionmoduleat0x7fe1d64c2a60_2&#45;&gt;z_functionmoduleat0x7fe1d7088950_4</title>\n",
       "<path fill=\"none\" stroke=\"#000000\" d=\"M25.5226,-151.8976C23.3841,-141.2826 21.0632,-128.0017 20,-116 18.4313,-98.2916 18.4313,-93.7084 20,-76 20.7475,-67.5613 22.1169,-58.4902 23.6075,-50.158\"/>\n",
       "<polygon fill=\"#000000\" stroke=\"#000000\" points=\"27.0898,-50.5806 25.5226,-40.1024 20.2134,-49.2709 27.0898,-50.5806\"/>\n",
       "</g>\n",
       "<!-- y_functionmoduleat0x7fe1d70881e0_3 -->\n",
       "<g id=\"node3\" class=\"node\">\n",
       "<title>y_functionmoduleat0x7fe1d70881e0_3</title>\n",
       "<g id=\"a_node3\"><a xlink:title=\"&lt;module&gt;:3\">\n",
       "<polygon fill=\"#ffdab9\" stroke=\"#000000\" points=\"89,-116 29,-116 29,-76 89,-76 89,-116\"/>\n",
       "<text text-anchor=\"start\" x=\"54.5\" y=\"-101.8\" font-family=\"Fira Mono, Courier, monospace\" font-weight=\"bold\" font-size=\"14.00\" fill=\"#000000\">y</text>\n",
       "<text text-anchor=\"start\" x=\"37\" y=\"-82.8\" font-family=\"Fira Mono, Courier, monospace\" font-size=\"9.00\" fill=\"#000000\">&lt;module&gt;</text>\n",
       "</a>\n",
       "</g>\n",
       "</g>\n",
       "<!-- x_functionmoduleat0x7fe1d64c2a60_2&#45;&gt;y_functionmoduleat0x7fe1d70881e0_3 -->\n",
       "<g id=\"edge3\" class=\"edge\">\n",
       "<title>x_functionmoduleat0x7fe1d64c2a60_2&#45;&gt;y_functionmoduleat0x7fe1d70881e0_3</title>\n",
       "<path fill=\"none\" stroke=\"#000000\" d=\"M37.7715,-151.6334C40.819,-143.6468 44.376,-134.325 47.6974,-125.6205\"/>\n",
       "<polygon fill=\"#000000\" stroke=\"#000000\" points=\"51.0125,-126.75 51.3076,-116.1593 44.4725,-124.2544 51.0125,-126.75\"/>\n",
       "</g>\n",
       "<!-- y_functionmoduleat0x7fe1d70881e0_3&#45;&gt;z_functionmoduleat0x7fe1d7088950_4 -->\n",
       "<g id=\"edge2\" class=\"edge\">\n",
       "<title>y_functionmoduleat0x7fe1d70881e0_3&#45;&gt;z_functionmoduleat0x7fe1d7088950_4</title>\n",
       "<path fill=\"none\" stroke=\"#000000\" d=\"M51.2285,-75.6334C48.181,-67.6468 44.624,-58.325 41.3026,-49.6205\"/>\n",
       "<polygon fill=\"#000000\" stroke=\"#000000\" points=\"44.5275,-48.2544 37.6924,-40.1593 37.9875,-50.75 44.5275,-48.2544\"/>\n",
       "</g>\n",
       "</g>\n",
       "</svg>\n"
      ],
      "text/plain": [
       "<graphviz.dot.Digraph at 0x7fe1d68bf7f0>"
      ]
     },
     "execution_count": 1,
     "metadata": {},
     "output_type": "execute_result"
    }
   ],
   "source": [
    "# ignore\n",
    "_test_data.dependencies().graph()"
   ]
  },
  {
   "cell_type": "markdown",
   "metadata": {
    "slideshow": {
     "slide_type": "subslide"
    }
   },
   "source": [
    "In the remainder of this section, we define methods to\n",
    "\n",
    "* track control dependencies (`test()`, `__enter__()`, `__exit__()`)\n",
    "* track function calls and returns (`call()`, `ret()`)\n",
    "* track function arguments (`arg()`, `param()`)\n",
    "* check the validity of our dependencies (`validate()`).\n",
    "\n",
    "Like our `get()` and `set()` methods above, these work by refining the appropriate methods defined in the `DataTracker` class, building on our `NodeTransformer` transformations."
   ]
  },
  {
   "cell_type": "markdown",
   "metadata": {
    "slideshow": {
     "slide_type": "subslide"
    }
   },
   "source": [
    "### Excursion: Control Dependencies"
   ]
  },
  {
   "cell_type": "markdown",
   "metadata": {
    "slideshow": {
     "slide_type": "fragment"
    }
   },
   "source": [
    "Let us detail control dependencies. As discussed with `DataTracker()`, we invoke `test()` methods for all control conditions, and place the controlled blocks into `with` clauses."
   ]
  },
  {
   "cell_type": "markdown",
   "metadata": {
    "slideshow": {
     "slide_type": "fragment"
    }
   },
   "source": [
    "The `test()` method simply sets a `<test>` variable; this also places it in `last_read`."
   ]
  },
  {
   "cell_type": "code",
   "execution_count": 157,
   "metadata": {
    "execution": {
     "iopub.execute_input": "2021-03-05T23:37:17.790747Z",
     "iopub.status.busy": "2021-03-05T23:37:17.790205Z",
     "iopub.status.idle": "2021-03-05T23:37:17.791761Z",
     "shell.execute_reply": "2021-03-05T23:37:17.792146Z"
    },
    "slideshow": {
     "slide_type": "fragment"
    }
   },
   "outputs": [],
   "source": [
    "class DependencyTracker(DependencyTracker):\n",
    "    def test(self, value: Any) -> Any:\n",
    "        \"\"\"Track a test for condition `value`\"\"\"\n",
    "        self.set(self.TEST, value)\n",
    "        return super().test(value)"
   ]
  },
  {
   "cell_type": "markdown",
   "metadata": {
    "slideshow": {
     "slide_type": "fragment"
    }
   },
   "source": [
    "When entering a `with` block, the set of `last_read` variables holds the `<test>` variable read. We save it in the `control` stack, with the effect of any further variables written now being marked as  controlled by `<test>`."
   ]
  },
  {
   "cell_type": "code",
   "execution_count": 158,
   "metadata": {
    "execution": {
     "iopub.execute_input": "2021-03-05T23:37:17.796427Z",
     "iopub.status.busy": "2021-03-05T23:37:17.795825Z",
     "iopub.status.idle": "2021-03-05T23:37:17.797420Z",
     "shell.execute_reply": "2021-03-05T23:37:17.797809Z"
    },
    "slideshow": {
     "slide_type": "subslide"
    }
   },
   "outputs": [],
   "source": [
    "class DependencyTracker(DependencyTracker):\n",
    "    def __enter__(self) -> Any:\n",
    "        \"\"\"Track entering an if/while/for block\"\"\"\n",
    "        self.control.append(self.last_read)\n",
    "        self.clear_read()\n",
    "        return super().__enter__()"
   ]
  },
  {
   "cell_type": "markdown",
   "metadata": {
    "slideshow": {
     "slide_type": "fragment"
    }
   },
   "source": [
    "When we exit the `with` block, we restore earlier `last_read` values, preparing for `else` blocks."
   ]
  },
  {
   "cell_type": "code",
   "execution_count": 159,
   "metadata": {
    "execution": {
     "iopub.execute_input": "2021-03-05T23:37:17.802236Z",
     "iopub.status.busy": "2021-03-05T23:37:17.801633Z",
     "iopub.status.idle": "2021-03-05T23:37:17.803347Z",
     "shell.execute_reply": "2021-03-05T23:37:17.803734Z"
    },
    "slideshow": {
     "slide_type": "subslide"
    }
   },
   "outputs": [],
   "source": [
    "class DependencyTracker(DependencyTracker):\n",
    "    def __exit__(self, exc_type: Type, exc_value: BaseException,\n",
    "                 traceback: TracebackType) -> Optional[bool]:\n",
    "        \"\"\"Track exiting an if/while/for block\"\"\"\n",
    "        self.clear_read()\n",
    "        self.last_read = self.control.pop()\n",
    "        self.ignore_next_location_change()\n",
    "        return super().__exit__(exc_type, exc_value, traceback)"
   ]
  },
  {
   "cell_type": "markdown",
   "metadata": {
    "slideshow": {
     "slide_type": "fragment"
    }
   },
   "source": [
    "Here's an example of all these parts in action:"
   ]
  },
  {
   "cell_type": "code",
   "execution_count": 160,
   "metadata": {
    "execution": {
     "iopub.execute_input": "2021-03-05T23:37:17.807481Z",
     "iopub.status.busy": "2021-03-05T23:37:17.806887Z",
     "iopub.status.idle": "2021-03-05T23:37:17.808591Z",
     "shell.execute_reply": "2021-03-05T23:37:17.808960Z"
    },
    "slideshow": {
     "slide_type": "fragment"
    }
   },
   "outputs": [],
   "source": [
    "_test_data = DependencyTracker()\n",
    "x = _test_data.set('x', 1)\n",
    "y = _test_data.set('y', _test_data.get('x', x))"
   ]
  },
  {
   "cell_type": "code",
   "execution_count": 161,
   "metadata": {
    "execution": {
     "iopub.execute_input": "2021-03-05T23:37:17.812631Z",
     "iopub.status.busy": "2021-03-05T23:37:17.812124Z",
     "iopub.status.idle": "2021-03-05T23:37:17.813938Z",
     "shell.execute_reply": "2021-03-05T23:37:17.814365Z"
    },
    "slideshow": {
     "slide_type": "subslide"
    }
   },
   "outputs": [],
   "source": [
    "if _test_data.test(_test_data.get('x', x) >= _test_data.get('y', y)):\n",
    "    with _test_data:\n",
    "        z = _test_data.set('z',\n",
    "                           _test_data.get('x', x) + _test_data.get('y', y))"
   ]
  },
  {
   "cell_type": "code",
   "execution_count": 162,
   "metadata": {
    "execution": {
     "iopub.execute_input": "2021-03-05T23:37:17.818314Z",
     "iopub.status.busy": "2021-03-05T23:37:17.817729Z",
     "iopub.status.idle": "2021-03-05T23:37:17.819930Z",
     "shell.execute_reply": "2021-03-05T23:37:17.820552Z"
    },
    "slideshow": {
     "slide_type": "fragment"
    }
   },
   "outputs": [
    {
     "data": {
      "text/plain": [
       "{('x', (<function __main__.<module>()>, 2)): set(),\n",
       " ('y', (<function __main__.<module>()>, 3)): set(),\n",
       " ('<test>', (<function __main__.<module>()>, 1)): set(),\n",
       " ('z',\n",
       "  (<function __main__.<module>()>, 4)): {('<test>',\n",
       "   (<function __main__.<module>()>, 1))}}"
      ]
     },
     "execution_count": 1,
     "metadata": {},
     "output_type": "execute_result"
    }
   ],
   "source": [
    "_test_data.control_dependencies"
   ]
  },
  {
   "cell_type": "markdown",
   "metadata": {
    "slideshow": {
     "slide_type": "fragment"
    }
   },
   "source": [
    "The control dependency for `z` is reflected in the dependency graph:"
   ]
  },
  {
   "cell_type": "code",
   "execution_count": 163,
   "metadata": {
    "execution": {
     "iopub.execute_input": "2021-03-05T23:37:17.823984Z",
     "iopub.status.busy": "2021-03-05T23:37:17.823421Z",
     "iopub.status.idle": "2021-03-05T23:37:18.462376Z",
     "shell.execute_reply": "2021-03-05T23:37:18.462763Z"
    },
    "slideshow": {
     "slide_type": "subslide"
    }
   },
   "outputs": [
    {
     "data": {
      "image/svg+xml": [
       "<?xml version=\"1.0\" encoding=\"UTF-8\" standalone=\"no\"?>\n",
       "<!DOCTYPE svg PUBLIC \"-//W3C//DTD SVG 1.1//EN\"\n",
       " \"http://www.w3.org/Graphics/SVG/1.1/DTD/svg11.dtd\">\n",
       "<!-- Generated by graphviz version 2.40.1 (20161225.0304)\n",
       " -->\n",
       "<!-- Title: dependencies Pages: 1 -->\n",
       "<svg width=\"202pt\" height=\"276pt\"\n",
       " viewBox=\"0.00 0.00 201.50 276.00\" xmlns=\"http://www.w3.org/2000/svg\" xmlns:xlink=\"http://www.w3.org/1999/xlink\">\n",
       "<g id=\"graph0\" class=\"graph\" transform=\"scale(1 1) rotate(0) translate(4 272)\">\n",
       "<title>dependencies</title>\n",
       "<polygon fill=\"#ffffff\" stroke=\"transparent\" points=\"-4,4 -4,-272 197.5,-272 197.5,4 -4,4\"/>\n",
       "<!-- test_functionmoduleat0x7fe1d64c21e0_1 -->\n",
       "<g id=\"node1\" class=\"node\">\n",
       "<title>test_functionmoduleat0x7fe1d64c21e0_1</title>\n",
       "<g id=\"a_node1\"><a xlink:title=\"&lt;module&gt;:1\">\n",
       "<polygon fill=\"#ffdab9\" stroke=\"#000000\" points=\"135,-116 0,-116 0,-76 135,-76 135,-116\"/>\n",
       "<text text-anchor=\"start\" x=\"42\" y=\"-101.8\" font-family=\"Fira Mono, Courier, monospace\" font-weight=\"bold\" font-style=\"italic\" font-size=\"14.00\" fill=\"#000000\">&lt;test&gt;</text>\n",
       "<text text-anchor=\"start\" x=\"8\" y=\"-82.8\" font-family=\"Fira Mono, Courier, monospace\" font-size=\"9.00\" fill=\"#000000\">_test_data.get(&#39;x&#39;, x)</text>\n",
       "</a>\n",
       "</g>\n",
       "</g>\n",
       "<!-- z_functionmoduleat0x7fe1d7088950_4 -->\n",
       "<g id=\"node4\" class=\"node\">\n",
       "<title>z_functionmoduleat0x7fe1d7088950_4</title>\n",
       "<g id=\"a_node4\"><a xlink:title=\"&lt;module&gt;:4\">\n",
       "<polygon fill=\"#ffdab9\" stroke=\"#000000\" points=\"193.5,-40 133.5,-40 133.5,0 193.5,0 193.5,-40\"/>\n",
       "<text text-anchor=\"start\" x=\"159\" y=\"-25.8\" font-family=\"Fira Mono, Courier, monospace\" font-weight=\"bold\" font-size=\"14.00\" fill=\"#000000\">z</text>\n",
       "<text text-anchor=\"start\" x=\"141.5\" y=\"-6.8\" font-family=\"Fira Mono, Courier, monospace\" font-size=\"9.00\" fill=\"#000000\">&lt;module&gt;</text>\n",
       "</a>\n",
       "</g>\n",
       "</g>\n",
       "<!-- test_functionmoduleat0x7fe1d64c21e0_1&#45;&gt;z_functionmoduleat0x7fe1d7088950_4 -->\n",
       "<g id=\"edge5\" class=\"edge\">\n",
       "<title>test_functionmoduleat0x7fe1d64c21e0_1&#45;&gt;z_functionmoduleat0x7fe1d7088950_4</title>\n",
       "<path fill=\"none\" stroke=\"#c0c0c0\" stroke-dasharray=\"5,2\" d=\"M92.9742,-75.8329C104.2573,-66.9004 117.6881,-56.2678 129.7865,-46.6898\"/>\n",
       "<polygon fill=\"#c0c0c0\" stroke=\"#c0c0c0\" points=\"132.2388,-49.2125 137.9068,-40.2613 127.8938,-43.7242 132.2388,-49.2125\"/>\n",
       "</g>\n",
       "<!-- x_functionmoduleat0x7fe1d64c2a60_2 -->\n",
       "<g id=\"node2\" class=\"node\">\n",
       "<title>x_functionmoduleat0x7fe1d64c2a60_2</title>\n",
       "<g id=\"a_node2\"><a xlink:title=\"&lt;module&gt;:2\">\n",
       "<polygon fill=\"#ffdab9\" stroke=\"#000000\" points=\"169.5,-268 109.5,-268 109.5,-228 169.5,-228 169.5,-268\"/>\n",
       "<text text-anchor=\"start\" x=\"135\" y=\"-253.8\" font-family=\"Fira Mono, Courier, monospace\" font-weight=\"bold\" font-size=\"14.00\" fill=\"#000000\">x</text>\n",
       "<text text-anchor=\"start\" x=\"117.5\" y=\"-234.8\" font-family=\"Fira Mono, Courier, monospace\" font-size=\"9.00\" fill=\"#000000\">&lt;module&gt;</text>\n",
       "</a>\n",
       "</g>\n",
       "</g>\n",
       "<!-- x_functionmoduleat0x7fe1d64c2a60_2&#45;&gt;test_functionmoduleat0x7fe1d64c21e0_1 -->\n",
       "<g id=\"edge1\" class=\"edge\">\n",
       "<title>x_functionmoduleat0x7fe1d64c2a60_2&#45;&gt;test_functionmoduleat0x7fe1d64c21e0_1</title>\n",
       "<path fill=\"none\" stroke=\"#000000\" d=\"M123.4295,-227.8531C115.7573,-217.5562 106.8814,-204.5718 100.5,-192 89.7487,-170.8195 81.1712,-145.3321 75.4586,-125.9436\"/>\n",
       "<polygon fill=\"#000000\" stroke=\"#000000\" points=\"78.7709,-124.7962 72.6601,-116.1412 72.0399,-126.7179 78.7709,-124.7962\"/>\n",
       "</g>\n",
       "<!-- y_functionmoduleat0x7fe1d70881e0_3 -->\n",
       "<g id=\"node3\" class=\"node\">\n",
       "<title>y_functionmoduleat0x7fe1d70881e0_3</title>\n",
       "<g id=\"a_node3\"><a xlink:title=\"&lt;module&gt;:3\">\n",
       "<polygon fill=\"#ffdab9\" stroke=\"#000000\" points=\"169.5,-192 109.5,-192 109.5,-152 169.5,-152 169.5,-192\"/>\n",
       "<text text-anchor=\"start\" x=\"135\" y=\"-177.8\" font-family=\"Fira Mono, Courier, monospace\" font-weight=\"bold\" font-size=\"14.00\" fill=\"#000000\">y</text>\n",
       "<text text-anchor=\"start\" x=\"117.5\" y=\"-158.8\" font-family=\"Fira Mono, Courier, monospace\" font-size=\"9.00\" fill=\"#000000\">&lt;module&gt;</text>\n",
       "</a>\n",
       "</g>\n",
       "</g>\n",
       "<!-- x_functionmoduleat0x7fe1d64c2a60_2&#45;&gt;y_functionmoduleat0x7fe1d70881e0_3 -->\n",
       "<g id=\"edge6\" class=\"edge\">\n",
       "<title>x_functionmoduleat0x7fe1d64c2a60_2&#45;&gt;y_functionmoduleat0x7fe1d70881e0_3</title>\n",
       "<path fill=\"none\" stroke=\"#000000\" d=\"M139.5,-227.6334C139.5,-219.8186 139.5,-210.7253 139.5,-202.183\"/>\n",
       "<polygon fill=\"#000000\" stroke=\"#000000\" points=\"143.0001,-202.1593 139.5,-192.1593 136.0001,-202.1593 143.0001,-202.1593\"/>\n",
       "</g>\n",
       "<!-- x_functionmoduleat0x7fe1d64c2a60_2&#45;&gt;z_functionmoduleat0x7fe1d7088950_4 -->\n",
       "<g id=\"edge3\" class=\"edge\">\n",
       "<title>x_functionmoduleat0x7fe1d64c2a60_2&#45;&gt;z_functionmoduleat0x7fe1d7088950_4</title>\n",
       "<path fill=\"none\" stroke=\"#000000\" d=\"M158.0412,-227.8387C165.9905,-217.8397 174.384,-205.1124 178.5,-192 193.5508,-144.0527 182.4543,-85.1361 173.0033,-50.1827\"/>\n",
       "<polygon fill=\"#000000\" stroke=\"#000000\" points=\"176.2512,-48.8074 170.1538,-40.1431 169.5172,-50.7188 176.2512,-48.8074\"/>\n",
       "</g>\n",
       "<!-- y_functionmoduleat0x7fe1d70881e0_3&#45;&gt;test_functionmoduleat0x7fe1d64c21e0_1 -->\n",
       "<g id=\"edge2\" class=\"edge\">\n",
       "<title>y_functionmoduleat0x7fe1d70881e0_3&#45;&gt;test_functionmoduleat0x7fe1d64c21e0_1</title>\n",
       "<path fill=\"none\" stroke=\"#000000\" d=\"M120.2053,-151.6334C112.0696,-143.0457 102.4713,-132.9142 93.7102,-123.6663\"/>\n",
       "<polygon fill=\"#000000\" stroke=\"#000000\" points=\"96.0166,-121.0117 86.5983,-116.1593 90.9349,-125.826 96.0166,-121.0117\"/>\n",
       "</g>\n",
       "<!-- y_functionmoduleat0x7fe1d70881e0_3&#45;&gt;z_functionmoduleat0x7fe1d7088950_4 -->\n",
       "<g id=\"edge4\" class=\"edge\">\n",
       "<title>y_functionmoduleat0x7fe1d70881e0_3&#45;&gt;z_functionmoduleat0x7fe1d7088950_4</title>\n",
       "<path fill=\"none\" stroke=\"#000000\" d=\"M142.687,-151.8156C146.7932,-125.8097 153.9677,-80.3713 158.7263,-50.2331\"/>\n",
       "<polygon fill=\"#000000\" stroke=\"#000000\" points=\"162.1973,-50.6914 160.2998,-40.2679 155.2829,-49.5996 162.1973,-50.6914\"/>\n",
       "</g>\n",
       "</g>\n",
       "</svg>\n"
      ],
      "text/plain": [
       "Dependencies(\n",
       "    data={\n",
       "        ('x', (<module>, 2)): set(),\n",
       "        ('y', (<module>, 3)): {('x', (<module>, 2))},\n",
       "        ('<test>', (<module>, 1)): {('x', (<module>, 2)), ('y', (<module>, 3))},\n",
       "        ('z', (<module>, 4)): {('x', (<module>, 2)), ('y', (<module>, 3))}},\n",
       " control={\n",
       "        ('x', (<module>, 2)): set(),\n",
       "        ('y', (<module>, 3)): set(),\n",
       "        ('<test>', (<module>, 1)): set(),\n",
       "        ('z', (<module>, 4)): {('<test>', (<module>, 1))}})"
      ]
     },
     "execution_count": 1,
     "metadata": {},
     "output_type": "execute_result"
    }
   ],
   "source": [
    "# ignore\n",
    "_test_data.dependencies()"
   ]
  },
  {
   "cell_type": "markdown",
   "metadata": {
    "slideshow": {
     "slide_type": "subslide"
    }
   },
   "source": [
    "### End of Excursion"
   ]
  },
  {
   "cell_type": "markdown",
   "metadata": {
    "slideshow": {
     "slide_type": "subslide"
    }
   },
   "source": [
    "### Excursion: Calls and Returns"
   ]
  },
  {
   "cell_type": "code",
   "execution_count": 164,
   "metadata": {
    "execution": {
     "iopub.execute_input": "2021-03-05T23:37:18.466572Z",
     "iopub.status.busy": "2021-03-05T23:37:18.465939Z",
     "iopub.status.idle": "2021-03-05T23:37:18.467652Z",
     "shell.execute_reply": "2021-03-05T23:37:18.468054Z"
    },
    "slideshow": {
     "slide_type": "skip"
    }
   },
   "outputs": [],
   "source": [
    "import copy"
   ]
  },
  {
   "cell_type": "markdown",
   "metadata": {
    "slideshow": {
     "slide_type": "fragment"
    }
   },
   "source": [
    "To handle complex expressions involving functions, we introduce a _data stack_. Every time we invoke a function `func` (`call()` is invoked), we save the list of current variables read `last_read` on the `data` stack; when we return (`ret()` is invoked), we restore `last_read`. This also ensures that only those variables read while evaluating arguments will flow into the function call."
   ]
  },
  {
   "cell_type": "code",
   "execution_count": 165,
   "metadata": {
    "execution": {
     "iopub.execute_input": "2021-03-05T23:37:18.473620Z",
     "iopub.status.busy": "2021-03-05T23:37:18.473023Z",
     "iopub.status.idle": "2021-03-05T23:37:18.474597Z",
     "shell.execute_reply": "2021-03-05T23:37:18.475016Z"
    },
    "slideshow": {
     "slide_type": "subslide"
    }
   },
   "outputs": [],
   "source": [
    "class DependencyTracker(DependencyTracker):\n",
    "    def call(self, func: Callable) -> Callable:\n",
    "        \"\"\"Track a call of function `func`\"\"\"\n",
    "        super().call(func)\n",
    "\n",
    "        if inspect.isgeneratorfunction(func):\n",
    "            return self.call_generator(func)\n",
    "\n",
    "        # Save context\n",
    "        if self.log:\n",
    "            caller_func, lineno = self.caller_location()\n",
    "            print(f\"{caller_func.__name__}:{lineno}: \"\n",
    "                  f\"saving read variables {self.last_read}\")\n",
    "\n",
    "        self.data.append(self.last_read)\n",
    "        self.clear_read()\n",
    "        self.ignore_next_location_change()\n",
    "\n",
    "        self.frames.append(self.args)\n",
    "        self.args = {}\n",
    "\n",
    "        return func"
   ]
  },
  {
   "cell_type": "code",
   "execution_count": 166,
   "metadata": {
    "execution": {
     "iopub.execute_input": "2021-03-05T23:37:18.480603Z",
     "iopub.status.busy": "2021-03-05T23:37:18.480077Z",
     "iopub.status.idle": "2021-03-05T23:37:18.481654Z",
     "shell.execute_reply": "2021-03-05T23:37:18.482064Z"
    },
    "slideshow": {
     "slide_type": "subslide"
    }
   },
   "outputs": [],
   "source": [
    "class DependencyTracker(DependencyTracker):\n",
    "    def ret(self, value: Any) -> Any:\n",
    "        \"\"\"Track a function return\"\"\"\n",
    "        super().ret(value)\n",
    "\n",
    "        if self.in_generator():\n",
    "            return self.ret_generator(value)\n",
    "\n",
    "        # Restore old context and add return value\n",
    "        ret_name = None\n",
    "        for var in self.last_read:\n",
    "            if var.startswith(\"<\"):  # \"<return value>\"\n",
    "                ret_name = var\n",
    "\n",
    "        self.last_read = self.data.pop()\n",
    "        if ret_name is not None:\n",
    "            self.last_read.append(ret_name)\n",
    "\n",
    "        self.ignore_location_change()\n",
    "\n",
    "        self.args = self.frames.pop()\n",
    "\n",
    "        if self.log:\n",
    "            caller_func, lineno = self.caller_location()\n",
    "            print(f\"{caller_func.__name__}:{lineno}: \"\n",
    "                  f\"restored read variables {self.last_read}\")\n",
    "\n",
    "        return value"
   ]
  },
  {
   "cell_type": "markdown",
   "metadata": {
    "slideshow": {
     "slide_type": "subslide"
    }
   },
   "source": [
    "Generator functions (those which `yield` a value) are not \"called\" in the sense that Python transfers control to them; instead, a \"call\" to a generator function creates a generator that is evaluated on demand. We mark generator function \"calls\" by saving `None` on the stacks. When the generator function returns the generator, we wrap the generator such that the arguments are being restored when it is invoked."
   ]
  },
  {
   "cell_type": "code",
   "execution_count": 167,
   "metadata": {
    "execution": {
     "iopub.execute_input": "2021-03-05T23:37:18.490194Z",
     "iopub.status.busy": "2021-03-05T23:37:18.489598Z",
     "iopub.status.idle": "2021-03-05T23:37:18.491074Z",
     "shell.execute_reply": "2021-03-05T23:37:18.491448Z"
    },
    "slideshow": {
     "slide_type": "subslide"
    }
   },
   "outputs": [],
   "source": [
    "class DependencyTracker(DependencyTracker):\n",
    "    def in_generator(self) -> bool:\n",
    "        \"\"\"True if we are calling a generator function\"\"\"\n",
    "        return len(self.data) > 0 and self.data[-1] is None\n",
    "\n",
    "    def call_generator(self, func: Callable) -> Callable:\n",
    "        \"\"\"Track a call of a generator function\"\"\"\n",
    "        # Mark the fact that we're in a generator with `None` values\n",
    "        self.data.append(None)  # type: ignore\n",
    "        self.frames.append(None)  # type: ignore\n",
    "        assert self.in_generator()\n",
    "\n",
    "        self.clear_read()\n",
    "        return func\n",
    "\n",
    "    def ret_generator(self, generator: Any) -> Any:\n",
    "        \"\"\"Track the return of a generator function\"\"\"\n",
    "        # Pop the two 'None' values pushed earlier\n",
    "        self.data.pop()\n",
    "        self.frames.pop()\n",
    "\n",
    "        if self.log:\n",
    "            caller_func, lineno = self.caller_location()\n",
    "            print(f\"{caller_func.__name__}:{lineno}: \"\n",
    "                  f\"wrapping generator {generator} (args={self.args})\")\n",
    "\n",
    "        # At this point, we already have collected the args.\n",
    "        # The returned generator depends on all of them.\n",
    "        for arg in self.args:\n",
    "            self.last_read += self.args[arg]\n",
    "\n",
    "        # Wrap the generator such that the args are restored \n",
    "        # when it is actually invoked, such that we can map them\n",
    "        # to parameters.\n",
    "        saved_args = copy.deepcopy(self.args)\n",
    "\n",
    "        def wrapper() -> Generator[Any, None, None]:\n",
    "            self.args = saved_args\n",
    "            if self.log:\n",
    "                caller_func, lineno = self.caller_location()\n",
    "                print(f\"{caller_func.__name__}:{lineno}: \"\n",
    "                  f\"calling generator (args={self.args})\")\n",
    "\n",
    "            self.ignore_next_location_change()\n",
    "            yield from generator\n",
    "\n",
    "        return wrapper()"
   ]
  },
  {
   "cell_type": "markdown",
   "metadata": {
    "slideshow": {
     "slide_type": "subslide"
    }
   },
   "source": [
    "We see an example of how function calls and returns work in conjunction with function arguments, discussed in the next section."
   ]
  },
  {
   "cell_type": "markdown",
   "metadata": {
    "slideshow": {
     "slide_type": "subslide"
    }
   },
   "source": [
    "### End of Excursion"
   ]
  },
  {
   "cell_type": "markdown",
   "metadata": {
    "slideshow": {
     "slide_type": "subslide"
    }
   },
   "source": [
    "### Excursion: Function Arguments"
   ]
  },
  {
   "cell_type": "markdown",
   "metadata": {
    "slideshow": {
     "slide_type": "fragment"
    }
   },
   "source": [
    "Finally, we handle parameters and arguments. The `args` stack holds the current stack of function arguments, holding the `last_read` variable for each argument."
   ]
  },
  {
   "cell_type": "code",
   "execution_count": 168,
   "metadata": {
    "execution": {
     "iopub.execute_input": "2021-03-05T23:37:18.497087Z",
     "iopub.status.busy": "2021-03-05T23:37:18.496465Z",
     "iopub.status.idle": "2021-03-05T23:37:18.498076Z",
     "shell.execute_reply": "2021-03-05T23:37:18.498447Z"
    },
    "slideshow": {
     "slide_type": "subslide"
    }
   },
   "outputs": [],
   "source": [
    "class DependencyTracker(DependencyTracker):\n",
    "    def arg(self, value: Any, pos: Optional[int] = None, kw: Optional[str] = None) -> Any:\n",
    "        \"\"\"\n",
    "        Track passing an argument `value`\n",
    "        (with given position `pos` 1..n or keyword `kw`)\n",
    "        \"\"\"\n",
    "        if self.log:\n",
    "            caller_func, lineno = self.caller_location()\n",
    "            print(f\"{caller_func.__name__}:{lineno}: \"\n",
    "                  f\"saving args read {self.last_read}\")\n",
    "\n",
    "        if pos:\n",
    "            self.args[pos] = self.last_read\n",
    "        if kw:\n",
    "            self.args[kw] = self.last_read\n",
    "\n",
    "        self.clear_read()\n",
    "        return super().arg(value, pos, kw)"
   ]
  },
  {
   "cell_type": "markdown",
   "metadata": {
    "slideshow": {
     "slide_type": "subslide"
    }
   },
   "source": [
    "When accessing the arguments (with `param()`), we can retrieve this set of read variables for each argument."
   ]
  },
  {
   "cell_type": "code",
   "execution_count": 169,
   "metadata": {
    "execution": {
     "iopub.execute_input": "2021-03-05T23:37:18.505403Z",
     "iopub.status.busy": "2021-03-05T23:37:18.504816Z",
     "iopub.status.idle": "2021-03-05T23:37:18.506917Z",
     "shell.execute_reply": "2021-03-05T23:37:18.507576Z"
    },
    "slideshow": {
     "slide_type": "subslide"
    }
   },
   "outputs": [],
   "source": [
    "class DependencyTracker(DependencyTracker):\n",
    "    def param(self, name: str, value: Any,\n",
    "              pos: Optional[int] = None, vararg: str = \"\", last: bool = False) -> Any:\n",
    "        \"\"\"\n",
    "        Track getting a parameter `name` with value `value`\n",
    "        (with given position `pos`).\n",
    "        vararg parameters are indicated by setting `varargs` to \n",
    "        '*' (*args) or '**' (**kwargs)\n",
    "        \"\"\"\n",
    "        self.clear_read()\n",
    "\n",
    "        if vararg == '*':\n",
    "            # We overapproximate by setting `args` to _all_ positional args\n",
    "            for index in self.args:\n",
    "                if isinstance(index, int) and pos is not None and index >= pos:\n",
    "                    self.last_read += self.args[index]\n",
    "        elif vararg == '**':\n",
    "            # We overapproximate by setting `kwargs` to _all_ passed keyword args\n",
    "            for index in self.args:\n",
    "                if isinstance(index, str):\n",
    "                    self.last_read += self.args[index]\n",
    "        elif name in self.args:\n",
    "            self.last_read = self.args[name]\n",
    "        elif pos in self.args:\n",
    "            self.last_read = self.args[pos]\n",
    "\n",
    "        if self.log:\n",
    "            caller_func, lineno = self.caller_location()\n",
    "            print(f\"{caller_func.__name__}:{lineno}: \"\n",
    "                  f\"restored params read {self.last_read}\")\n",
    "\n",
    "        self.ignore_location_change()\n",
    "        ret = super().param(name, value, pos)\n",
    "\n",
    "        if last:\n",
    "            self.clear_read()\n",
    "        return ret"
   ]
  },
  {
   "cell_type": "markdown",
   "metadata": {
    "slideshow": {
     "slide_type": "subslide"
    }
   },
   "source": [
    "Let us illustrate all these on a small example."
   ]
  },
  {
   "cell_type": "code",
   "execution_count": 170,
   "metadata": {
    "execution": {
     "iopub.execute_input": "2021-03-05T23:37:18.512805Z",
     "iopub.status.busy": "2021-03-05T23:37:18.512269Z",
     "iopub.status.idle": "2021-03-05T23:37:18.513992Z",
     "shell.execute_reply": "2021-03-05T23:37:18.514361Z"
    },
    "slideshow": {
     "slide_type": "subslide"
    }
   },
   "outputs": [],
   "source": [
    "def call_test() -> int:\n",
    "    c = 47\n",
    "\n",
    "    def sq(n: int) -> int:\n",
    "        return n * n\n",
    "\n",
    "    def gen(e: int) -> Generator[int, None, None]:\n",
    "        yield e * c\n",
    "\n",
    "    def just_x(x: Any, y: Any) -> Any:\n",
    "        return x\n",
    "\n",
    "    a = 42\n",
    "    b = gen(a)\n",
    "    d = list(b)[0]\n",
    "\n",
    "    xs = [1, 2, 3, 4]\n",
    "    ys = [sq(elem) for elem in xs if elem > 2]\n",
    "\n",
    "    return just_x(just_x(d, y=b), ys[0])"
   ]
  },
  {
   "cell_type": "code",
   "execution_count": 171,
   "metadata": {
    "execution": {
     "iopub.execute_input": "2021-03-05T23:37:18.518221Z",
     "iopub.status.busy": "2021-03-05T23:37:18.517550Z",
     "iopub.status.idle": "2021-03-05T23:37:18.519737Z",
     "shell.execute_reply": "2021-03-05T23:37:18.520068Z"
    },
    "slideshow": {
     "slide_type": "subslide"
    }
   },
   "outputs": [
    {
     "data": {
      "text/plain": [
       "1974"
      ]
     },
     "execution_count": 1,
     "metadata": {},
     "output_type": "execute_result"
    }
   ],
   "source": [
    "call_test()"
   ]
  },
  {
   "cell_type": "markdown",
   "metadata": {
    "slideshow": {
     "slide_type": "fragment"
    }
   },
   "source": [
    "We apply all our transformers on this code:"
   ]
  },
  {
   "cell_type": "code",
   "execution_count": 172,
   "metadata": {
    "execution": {
     "iopub.execute_input": "2021-03-05T23:37:18.545874Z",
     "iopub.status.busy": "2021-03-05T23:37:18.540339Z",
     "iopub.status.idle": "2021-03-05T23:37:18.547899Z",
     "shell.execute_reply": "2021-03-05T23:37:18.548275Z"
    },
    "slideshow": {
     "slide_type": "subslide"
    }
   },
   "outputs": [
    {
     "name": "stdout",
     "output_type": "stream",
     "text": [
      "\u001b[34mdef\u001b[39;49;00m \u001b[32mcall_test\u001b[39;49;00m() ->\u001b[36mint\u001b[39;49;00m:\n",
      "    c = _data.set(\u001b[33m'\u001b[39;49;00m\u001b[33mc\u001b[39;49;00m\u001b[33m'\u001b[39;49;00m, \u001b[34m47\u001b[39;49;00m)\n",
      "\n",
      "    \u001b[34mdef\u001b[39;49;00m \u001b[32msq\u001b[39;49;00m(n: \u001b[36mint\u001b[39;49;00m) ->\u001b[36mint\u001b[39;49;00m:\n",
      "        _data.param(\u001b[33m'\u001b[39;49;00m\u001b[33mn\u001b[39;49;00m\u001b[33m'\u001b[39;49;00m, n, pos=\u001b[34m1\u001b[39;49;00m, last=\u001b[34mTrue\u001b[39;49;00m)\n",
      "        \u001b[34mreturn\u001b[39;49;00m _data.set(\u001b[33m'\u001b[39;49;00m\u001b[33m<sq() return value>\u001b[39;49;00m\u001b[33m'\u001b[39;49;00m, _data.get(\u001b[33m'\u001b[39;49;00m\u001b[33mn\u001b[39;49;00m\u001b[33m'\u001b[39;49;00m, n) * _data.\n",
      "            get(\u001b[33m'\u001b[39;49;00m\u001b[33mn\u001b[39;49;00m\u001b[33m'\u001b[39;49;00m, n))\n",
      "\n",
      "    \u001b[34mdef\u001b[39;49;00m \u001b[32mgen\u001b[39;49;00m(e: \u001b[36mint\u001b[39;49;00m) ->_data.get(\u001b[33m'\u001b[39;49;00m\u001b[33mGenerator\u001b[39;49;00m\u001b[33m'\u001b[39;49;00m, Generator)[\u001b[36mint\u001b[39;49;00m, \u001b[34mNone\u001b[39;49;00m, \u001b[34mNone\u001b[39;49;00m]:\n",
      "        _data.param(\u001b[33m'\u001b[39;49;00m\u001b[33me\u001b[39;49;00m\u001b[33m'\u001b[39;49;00m, e, pos=\u001b[34m1\u001b[39;49;00m, last=\u001b[34mTrue\u001b[39;49;00m)\n",
      "        \u001b[34myield\u001b[39;49;00m _data.set(\u001b[33m'\u001b[39;49;00m\u001b[33m<gen() yield value>\u001b[39;49;00m\u001b[33m'\u001b[39;49;00m, _data.get(\u001b[33m'\u001b[39;49;00m\u001b[33me\u001b[39;49;00m\u001b[33m'\u001b[39;49;00m, e) * _data.\n",
      "            get(\u001b[33m'\u001b[39;49;00m\u001b[33mc\u001b[39;49;00m\u001b[33m'\u001b[39;49;00m, c))\n",
      "\n",
      "    \u001b[34mdef\u001b[39;49;00m \u001b[32mjust_x\u001b[39;49;00m(x: _data.get(\u001b[33m'\u001b[39;49;00m\u001b[33mAny\u001b[39;49;00m\u001b[33m'\u001b[39;49;00m, Any), y: _data.get(\u001b[33m'\u001b[39;49;00m\u001b[33mAny\u001b[39;49;00m\u001b[33m'\u001b[39;49;00m, Any)) ->_data.get(\n",
      "        \u001b[33m'\u001b[39;49;00m\u001b[33mAny\u001b[39;49;00m\u001b[33m'\u001b[39;49;00m, Any):\n",
      "        _data.param(\u001b[33m'\u001b[39;49;00m\u001b[33mx\u001b[39;49;00m\u001b[33m'\u001b[39;49;00m, x, pos=\u001b[34m1\u001b[39;49;00m)\n",
      "        _data.param(\u001b[33m'\u001b[39;49;00m\u001b[33my\u001b[39;49;00m\u001b[33m'\u001b[39;49;00m, y, pos=\u001b[34m2\u001b[39;49;00m, last=\u001b[34mTrue\u001b[39;49;00m)\n",
      "        \u001b[34mreturn\u001b[39;49;00m _data.set(\u001b[33m'\u001b[39;49;00m\u001b[33m<just_x() return value>\u001b[39;49;00m\u001b[33m'\u001b[39;49;00m, _data.get(\u001b[33m'\u001b[39;49;00m\u001b[33mx\u001b[39;49;00m\u001b[33m'\u001b[39;49;00m, x))\n",
      "    a = _data.set(\u001b[33m'\u001b[39;49;00m\u001b[33ma\u001b[39;49;00m\u001b[33m'\u001b[39;49;00m, \u001b[34m42\u001b[39;49;00m)\n",
      "    b = _data.set(\u001b[33m'\u001b[39;49;00m\u001b[33mb\u001b[39;49;00m\u001b[33m'\u001b[39;49;00m, _data.ret(_data.call(_data.get(\u001b[33m'\u001b[39;49;00m\u001b[33mgen\u001b[39;49;00m\u001b[33m'\u001b[39;49;00m, gen))(_data.\n",
      "        arg(_data.get(\u001b[33m'\u001b[39;49;00m\u001b[33ma\u001b[39;49;00m\u001b[33m'\u001b[39;49;00m, a), pos=\u001b[34m1\u001b[39;49;00m))))\n",
      "    d = _data.set(\u001b[33m'\u001b[39;49;00m\u001b[33md\u001b[39;49;00m\u001b[33m'\u001b[39;49;00m, _data.ret(_data.call(\u001b[36mlist\u001b[39;49;00m)(_data.arg(_data.get(\u001b[33m'\u001b[39;49;00m\u001b[33mb\u001b[39;49;00m\u001b[33m'\u001b[39;49;00m,\n",
      "        b), pos=\u001b[34m1\u001b[39;49;00m)))[\u001b[34m0\u001b[39;49;00m])\n",
      "    xs = _data.set(\u001b[33m'\u001b[39;49;00m\u001b[33mxs\u001b[39;49;00m\u001b[33m'\u001b[39;49;00m, [\u001b[34m1\u001b[39;49;00m, \u001b[34m2\u001b[39;49;00m, \u001b[34m3\u001b[39;49;00m, \u001b[34m4\u001b[39;49;00m])\n",
      "    ys = _data.set(\u001b[33m'\u001b[39;49;00m\u001b[33mys\u001b[39;49;00m\u001b[33m'\u001b[39;49;00m, [_data.ret(_data.call(_data.get(\u001b[33m'\u001b[39;49;00m\u001b[33msq\u001b[39;49;00m\u001b[33m'\u001b[39;49;00m, sq))(_data.\n",
      "        arg(_data.get(\u001b[33m'\u001b[39;49;00m\u001b[33melem\u001b[39;49;00m\u001b[33m'\u001b[39;49;00m, elem), pos=\u001b[34m1\u001b[39;49;00m))) \u001b[34mfor\u001b[39;49;00m elem \u001b[35min\u001b[39;49;00m _data.set(\u001b[33m'\u001b[39;49;00m\u001b[33melem\u001b[39;49;00m\u001b[33m'\u001b[39;49;00m,\n",
      "        _data.get(\u001b[33m'\u001b[39;49;00m\u001b[33mxs\u001b[39;49;00m\u001b[33m'\u001b[39;49;00m, xs)) \u001b[34mif\u001b[39;49;00m _data.get(\u001b[33m'\u001b[39;49;00m\u001b[33melem\u001b[39;49;00m\u001b[33m'\u001b[39;49;00m, elem) > \u001b[34m2\u001b[39;49;00m])\n",
      "    \u001b[34mreturn\u001b[39;49;00m _data.set(\u001b[33m'\u001b[39;49;00m\u001b[33m<call_test() return value>\u001b[39;49;00m\u001b[33m'\u001b[39;49;00m, _data.ret(_data.call(\n",
      "        _data.get(\u001b[33m'\u001b[39;49;00m\u001b[33mjust_x\u001b[39;49;00m\u001b[33m'\u001b[39;49;00m, just_x))(_data.arg(_data.ret(_data.call(_data.\n",
      "        get(\u001b[33m'\u001b[39;49;00m\u001b[33mjust_x\u001b[39;49;00m\u001b[33m'\u001b[39;49;00m, just_x))(_data.arg(_data.get(\u001b[33m'\u001b[39;49;00m\u001b[33md\u001b[39;49;00m\u001b[33m'\u001b[39;49;00m, d), pos=\u001b[34m1\u001b[39;49;00m), y=_data\n",
      "        .arg(_data.get(\u001b[33m'\u001b[39;49;00m\u001b[33mb\u001b[39;49;00m\u001b[33m'\u001b[39;49;00m, b), kw=\u001b[33m'\u001b[39;49;00m\u001b[33my\u001b[39;49;00m\u001b[33m'\u001b[39;49;00m))), pos=\u001b[34m1\u001b[39;49;00m), _data.arg(_data.get(\u001b[33m'\u001b[39;49;00m\u001b[33mys\u001b[39;49;00m\u001b[33m'\u001b[39;49;00m,\n",
      "        ys)[\u001b[34m0\u001b[39;49;00m], pos=\u001b[34m2\u001b[39;49;00m))))"
     ]
    }
   ],
   "source": [
    "call_tree = ast.parse(inspect.getsource(call_test))\n",
    "TrackCallTransformer().visit(call_tree)\n",
    "TrackSetTransformer().visit(call_tree)\n",
    "TrackGetTransformer().visit(call_tree)\n",
    "TrackControlTransformer().visit(call_tree)\n",
    "TrackReturnTransformer().visit(call_tree)\n",
    "TrackParamsTransformer().visit(call_tree)\n",
    "dump_tree(call_tree)"
   ]
  },
  {
   "cell_type": "markdown",
   "metadata": {
    "slideshow": {
     "slide_type": "subslide"
    }
   },
   "source": [
    "Again, we capture the dependencies:"
   ]
  },
  {
   "cell_type": "code",
   "execution_count": 173,
   "metadata": {
    "execution": {
     "iopub.execute_input": "2021-03-05T23:37:18.552551Z",
     "iopub.status.busy": "2021-03-05T23:37:18.551962Z",
     "iopub.status.idle": "2021-03-05T23:37:18.553630Z",
     "shell.execute_reply": "2021-03-05T23:37:18.554004Z"
    },
    "slideshow": {
     "slide_type": "fragment"
    }
   },
   "outputs": [],
   "source": [
    "class DependencyTrackerTester(DataTrackerTester):\n",
    "    def make_data_tracker(self) -> DependencyTracker:\n",
    "        return DependencyTracker(log=self.log)"
   ]
  },
  {
   "cell_type": "code",
   "execution_count": 174,
   "metadata": {
    "execution": {
     "iopub.execute_input": "2021-03-05T23:37:18.559604Z",
     "iopub.status.busy": "2021-03-05T23:37:18.559077Z",
     "iopub.status.idle": "2021-03-05T23:37:18.560793Z",
     "shell.execute_reply": "2021-03-05T23:37:18.561162Z"
    },
    "slideshow": {
     "slide_type": "fragment"
    }
   },
   "outputs": [],
   "source": [
    "with DependencyTrackerTester(call_tree, call_test, log=False) as call_deps:\n",
    "    call_test()"
   ]
  },
  {
   "cell_type": "markdown",
   "metadata": {
    "slideshow": {
     "slide_type": "fragment"
    }
   },
   "source": [
    "We see how \n",
    "\n",
    "* `a` flows into the generator `b` and into the parameter `e` of `gen()`.\n",
    "* `xs` flows into `elem` which in turn flows into the parameter `n` of `sq()`. Both flow into `ys`.\n",
    "* `just_x()` returns only its `x` argument."
   ]
  },
  {
   "cell_type": "code",
   "execution_count": 175,
   "metadata": {
    "execution": {
     "iopub.execute_input": "2021-03-05T23:37:18.574224Z",
     "iopub.status.busy": "2021-03-05T23:37:18.573108Z",
     "iopub.status.idle": "2021-03-05T23:37:19.241375Z",
     "shell.execute_reply": "2021-03-05T23:37:19.241778Z"
    },
    "slideshow": {
     "slide_type": "subslide"
    }
   },
   "outputs": [
    {
     "data": {
      "image/svg+xml": [
       "<?xml version=\"1.0\" encoding=\"UTF-8\" standalone=\"no\"?>\n",
       "<!DOCTYPE svg PUBLIC \"-//W3C//DTD SVG 1.1//EN\"\n",
       " \"http://www.w3.org/Graphics/SVG/1.1/DTD/svg11.dtd\">\n",
       "<!-- Generated by graphviz version 2.40.1 (20161225.0304)\n",
       " -->\n",
       "<!-- Title: dependencies Pages: 1 -->\n",
       "<svg width=\"792pt\" height=\"656pt\"\n",
       " viewBox=\"0.00 0.00 792.21 656.00\" xmlns=\"http://www.w3.org/2000/svg\" xmlns:xlink=\"http://www.w3.org/1999/xlink\">\n",
       "<g id=\"graph0\" class=\"graph\" transform=\"scale(1 1) rotate(0) translate(4 652)\">\n",
       "<title>dependencies</title>\n",
       "<polygon fill=\"#ffffff\" stroke=\"transparent\" points=\"-4,4 -4,-652 788.2056,-652 788.2056,4 -4,4\"/>\n",
       "<!-- just_xreturnvalue_functioncall_testlocalsjust_xat0x7fe1d66a89d8_11 -->\n",
       "<g id=\"node1\" class=\"node\">\n",
       "<title>just_xreturnvalue_functioncall_testlocalsjust_xat0x7fe1d66a89d8_11</title>\n",
       "<g id=\"a_node1\"><a xlink:title=\"just_x:11\">\n",
       "<polygon fill=\"#ffdab9\" stroke=\"#000000\" points=\"432.5,-344 222.5,-344 222.5,-304 432.5,-304 432.5,-344\"/>\n",
       "<text text-anchor=\"start\" x=\"230.5\" y=\"-329.8\" font-family=\"Fira Mono, Courier, monospace\" font-weight=\"bold\" font-style=\"italic\" font-size=\"14.00\" fill=\"#000000\">&lt;just_x() return value&gt;</text>\n",
       "<text text-anchor=\"start\" x=\"305.5\" y=\"-310.8\" font-family=\"Fira Mono, Courier, monospace\" font-size=\"9.00\" fill=\"#000000\">return x</text>\n",
       "</a>\n",
       "</g>\n",
       "</g>\n",
       "<!-- x_functioncall_testlocalsjust_xat0x7fe1d66a89d8_10 -->\n",
       "<g id=\"node2\" class=\"node\">\n",
       "<title>x_functioncall_testlocalsjust_xat0x7fe1d66a89d8_10</title>\n",
       "<g id=\"a_node2\"><a xlink:title=\"just_x:10\">\n",
       "<polygon fill=\"#ffdab9\" stroke=\"#000000\" points=\"453.5,-268 253.5,-268 253.5,-228 453.5,-228 453.5,-268\"/>\n",
       "<text text-anchor=\"start\" x=\"349\" y=\"-253.8\" font-family=\"Fira Mono, Courier, monospace\" font-weight=\"bold\" font-size=\"14.00\" fill=\"#000000\">x</text>\n",
       "<text text-anchor=\"start\" x=\"261.5\" y=\"-234.8\" font-family=\"Fira Mono, Courier, monospace\" font-size=\"9.00\" fill=\"#000000\">def just_x(x: Any, y: Any) &#45;&gt; Any:</text>\n",
       "</a>\n",
       "</g>\n",
       "</g>\n",
       "<!-- just_xreturnvalue_functioncall_testlocalsjust_xat0x7fe1d66a89d8_11&#45;&gt;x_functioncall_testlocalsjust_xat0x7fe1d66a89d8_10 -->\n",
       "<g id=\"edge14\" class=\"edge\">\n",
       "<title>just_xreturnvalue_functioncall_testlocalsjust_xat0x7fe1d66a89d8_11&#45;&gt;x_functioncall_testlocalsjust_xat0x7fe1d66a89d8_10</title>\n",
       "<path fill=\"none\" stroke=\"#000000\" d=\"M328.4101,-303.6334C330.4672,-295.6468 333.4747,-286.325 336.7647,-277.6205\"/>\n",
       "<polygon fill=\"#000000\" stroke=\"#000000\" points=\"340.0854,-278.7433 340.5636,-268.1593 333.5895,-276.135 340.0854,-278.7433\"/>\n",
       "</g>\n",
       "<!-- call_testreturnvalue_functioncall_testat0x7fe1d66a8378_20 -->\n",
       "<g id=\"node13\" class=\"node\">\n",
       "<title>call_testreturnvalue_functioncall_testat0x7fe1d66a8378_20</title>\n",
       "<g id=\"a_node13\"><a xlink:title=\"call_test:20\">\n",
       "<polygon fill=\"#ffdab9\" stroke=\"#000000\" points=\"235,-268 0,-268 0,-228 235,-228 235,-268\"/>\n",
       "<text text-anchor=\"start\" x=\"8\" y=\"-253.8\" font-family=\"Fira Mono, Courier, monospace\" font-weight=\"bold\" font-style=\"italic\" font-size=\"14.00\" fill=\"#000000\">&lt;call_test() return value&gt;</text>\n",
       "<text text-anchor=\"start\" x=\"20\" y=\"-234.8\" font-family=\"Fira Mono, Courier, monospace\" font-size=\"9.00\" fill=\"#000000\">return just_x(just_x(d, y=b), ys[0])</text>\n",
       "</a>\n",
       "</g>\n",
       "</g>\n",
       "<!-- just_xreturnvalue_functioncall_testlocalsjust_xat0x7fe1d66a89d8_11&#45;&gt;call_testreturnvalue_functioncall_testat0x7fe1d66a8378_20 -->\n",
       "<g id=\"edge9\" class=\"edge\">\n",
       "<title>just_xreturnvalue_functioncall_testlocalsjust_xat0x7fe1d66a89d8_11&#45;&gt;call_testreturnvalue_functioncall_testat0x7fe1d66a8378_20</title>\n",
       "<path fill=\"none\" stroke=\"#000000\" d=\"M272.0503,-303.9325C244.538,-293.9757 211.1367,-281.8876 182.4344,-271.5001\"/>\n",
       "<polygon fill=\"#000000\" stroke=\"#000000\" points=\"183.4903,-268.1601 172.896,-268.0481 181.1081,-274.7423 183.4903,-268.1601\"/>\n",
       "</g>\n",
       "<!-- x_functioncall_testlocalsjust_xat0x7fe1d66a89d8_10&#45;&gt;just_xreturnvalue_functioncall_testlocalsjust_xat0x7fe1d66a89d8_11 -->\n",
       "<g id=\"edge1\" class=\"edge\">\n",
       "<title>x_functioncall_testlocalsjust_xat0x7fe1d66a89d8_10&#45;&gt;just_xreturnvalue_functioncall_testlocalsjust_xat0x7fe1d66a89d8_11</title>\n",
       "<path fill=\"none\" stroke=\"#000000\" d=\"M352.6432,-268.1593C350.6026,-276.1226 347.6058,-285.438 344.3208,-294.153\"/>\n",
       "<polygon fill=\"#000000\" stroke=\"#000000\" points=\"340.9928,-293.0489 340.525,-303.6334 347.4913,-295.6508 340.9928,-293.0489\"/>\n",
       "</g>\n",
       "<!-- y_functioncall_testlocalsjust_xat0x7fe1d66a89d8_10 -->\n",
       "<g id=\"node3\" class=\"node\">\n",
       "<title>y_functioncall_testlocalsjust_xat0x7fe1d66a89d8_10</title>\n",
       "<g id=\"a_node3\"><a xlink:title=\"just_x:10\">\n",
       "<polygon fill=\"#ffdab9\" stroke=\"#000000\" points=\"427.5,-420 227.5,-420 227.5,-380 427.5,-380 427.5,-420\"/>\n",
       "<text text-anchor=\"start\" x=\"323\" y=\"-405.8\" font-family=\"Fira Mono, Courier, monospace\" font-weight=\"bold\" font-size=\"14.00\" fill=\"#000000\">y</text>\n",
       "<text text-anchor=\"start\" x=\"235.5\" y=\"-386.8\" font-family=\"Fira Mono, Courier, monospace\" font-size=\"9.00\" fill=\"#000000\">def just_x(x: Any, y: Any) &#45;&gt; Any:</text>\n",
       "</a>\n",
       "</g>\n",
       "</g>\n",
       "<!-- y_functioncall_testlocalsjust_xat0x7fe1d66a89d8_10&#45;&gt;just_xreturnvalue_functioncall_testlocalsjust_xat0x7fe1d66a89d8_11 -->\n",
       "<!-- ys_functioncall_testat0x7fe1d66a8378_18 -->\n",
       "<g id=\"node4\" class=\"node\">\n",
       "<title>ys_functioncall_testat0x7fe1d66a8378_18</title>\n",
       "<g id=\"a_node4\"><a xlink:title=\"call_test:18\">\n",
       "<polygon fill=\"#ffdab9\" stroke=\"#000000\" points=\"379,-496 136,-496 136,-456 379,-456 379,-496\"/>\n",
       "<text text-anchor=\"start\" x=\"249\" y=\"-481.8\" font-family=\"Fira Mono, Courier, monospace\" font-weight=\"bold\" font-size=\"14.00\" fill=\"#000000\">ys</text>\n",
       "<text text-anchor=\"start\" x=\"144\" y=\"-462.8\" font-family=\"Fira Mono, Courier, monospace\" font-size=\"9.00\" fill=\"#000000\">ys = [sq(elem) for elem in xs if elem &gt; 2]</text>\n",
       "</a>\n",
       "</g>\n",
       "</g>\n",
       "<!-- ys_functioncall_testat0x7fe1d66a8378_18&#45;&gt;y_functioncall_testlocalsjust_xat0x7fe1d66a89d8_10 -->\n",
       "<g id=\"edge2\" class=\"edge\">\n",
       "<title>ys_functioncall_testat0x7fe1d66a8378_18&#45;&gt;y_functioncall_testlocalsjust_xat0x7fe1d66a89d8_10</title>\n",
       "<path fill=\"none\" stroke=\"#000000\" d=\"M276.2587,-455.6334C284.1684,-447.0457 293.5001,-436.9142 302.0178,-427.6663\"/>\n",
       "<polygon fill=\"#000000\" stroke=\"#000000\" points=\"304.7319,-429.8859 308.9322,-420.1593 299.583,-425.1436 304.7319,-429.8859\"/>\n",
       "</g>\n",
       "<!-- ys_functioncall_testat0x7fe1d66a8378_18&#45;&gt;call_testreturnvalue_functioncall_testat0x7fe1d66a8378_20 -->\n",
       "<!-- b_functioncall_testat0x7fe1d66a8378_14 -->\n",
       "<g id=\"node5\" class=\"node\">\n",
       "<title>b_functioncall_testat0x7fe1d66a8378_14</title>\n",
       "<g id=\"a_node5\"><a xlink:title=\"call_test:14\">\n",
       "<polygon fill=\"#ffdab9\" stroke=\"#000000\" points=\"485,-496 414,-496 414,-456 485,-456 485,-496\"/>\n",
       "<text text-anchor=\"start\" x=\"445\" y=\"-481.8\" font-family=\"Fira Mono, Courier, monospace\" font-weight=\"bold\" font-size=\"14.00\" fill=\"#000000\">b</text>\n",
       "<text text-anchor=\"start\" x=\"422\" y=\"-462.8\" font-family=\"Fira Mono, Courier, monospace\" font-size=\"9.00\" fill=\"#000000\">b = gen(a)</text>\n",
       "</a>\n",
       "</g>\n",
       "</g>\n",
       "<!-- b_functioncall_testat0x7fe1d66a8378_14&#45;&gt;y_functioncall_testlocalsjust_xat0x7fe1d66a89d8_10 -->\n",
       "<g id=\"edge3\" class=\"edge\">\n",
       "<title>b_functioncall_testat0x7fe1d66a8378_14&#45;&gt;y_functioncall_testlocalsjust_xat0x7fe1d66a89d8_10</title>\n",
       "<path fill=\"none\" stroke=\"#000000\" d=\"M417.1265,-455.8329C402.236,-446.5569 384.4023,-435.4473 368.5779,-425.5895\"/>\n",
       "<polygon fill=\"#000000\" stroke=\"#000000\" points=\"370.3632,-422.5781 360.0247,-420.2613 366.6619,-428.5196 370.3632,-422.5781\"/>\n",
       "</g>\n",
       "<!-- d_functioncall_testat0x7fe1d66a8378_15 -->\n",
       "<g id=\"node14\" class=\"node\">\n",
       "<title>d_functioncall_testat0x7fe1d66a8378_15</title>\n",
       "<g id=\"a_node14\"><a xlink:title=\"call_test:15\">\n",
       "<polygon fill=\"#ffdab9\" stroke=\"#000000\" points=\"542.5,-344 450.5,-344 450.5,-304 542.5,-304 542.5,-344\"/>\n",
       "<text text-anchor=\"start\" x=\"492\" y=\"-329.8\" font-family=\"Fira Mono, Courier, monospace\" font-weight=\"bold\" font-size=\"14.00\" fill=\"#000000\">d</text>\n",
       "<text text-anchor=\"start\" x=\"458.5\" y=\"-310.8\" font-family=\"Fira Mono, Courier, monospace\" font-size=\"9.00\" fill=\"#000000\">d = list(b)[0]</text>\n",
       "</a>\n",
       "</g>\n",
       "</g>\n",
       "<!-- b_functioncall_testat0x7fe1d66a8378_14&#45;&gt;d_functioncall_testat0x7fe1d66a8378_15 -->\n",
       "<g id=\"edge11\" class=\"edge\">\n",
       "<title>b_functioncall_testat0x7fe1d66a8378_14&#45;&gt;d_functioncall_testat0x7fe1d66a8378_15</title>\n",
       "<path fill=\"none\" stroke=\"#000000\" d=\"M450.9812,-455.8156C456.6761,-429.6961 470.5699,-383.9741 481.7816,-353.8392\"/>\n",
       "<polygon fill=\"#000000\" stroke=\"#000000\" points=\"485.1398,-354.8577 485.4654,-344.2679 478.607,-352.3434 485.1398,-354.8577\"/>\n",
       "</g>\n",
       "<!-- b_functioncall_testat0x7fe1d66a8378_14&#45;&gt;d_functioncall_testat0x7fe1d66a8378_15 -->\n",
       "<!-- genyieldvalue_functioncall_testlocalsgenat0x7fe1d66a8950_8 -->\n",
       "<g id=\"node6\" class=\"node\">\n",
       "<title>genyieldvalue_functioncall_testlocalsgenat0x7fe1d66a8950_8</title>\n",
       "<g id=\"a_node6\"><a xlink:title=\"gen:8\">\n",
       "<polygon fill=\"#ffdab9\" stroke=\"#000000\" points=\"723.5,-420 547.5,-420 547.5,-380 723.5,-380 723.5,-420\"/>\n",
       "<text text-anchor=\"start\" x=\"555.5\" y=\"-405.8\" font-family=\"Fira Mono, Courier, monospace\" font-weight=\"bold\" font-style=\"italic\" font-size=\"14.00\" fill=\"#000000\">&lt;gen() yield value&gt;</text>\n",
       "<text text-anchor=\"start\" x=\"605.5\" y=\"-386.8\" font-family=\"Fira Mono, Courier, monospace\" font-size=\"9.00\" fill=\"#000000\">yield e * c</text>\n",
       "</a>\n",
       "</g>\n",
       "</g>\n",
       "<!-- genyieldvalue_functioncall_testlocalsgenat0x7fe1d66a8950_8&#45;&gt;d_functioncall_testat0x7fe1d66a8378_15 -->\n",
       "<g id=\"edge12\" class=\"edge\">\n",
       "<title>genyieldvalue_functioncall_testlocalsgenat0x7fe1d66a8950_8&#45;&gt;d_functioncall_testat0x7fe1d66a8378_15</title>\n",
       "<path fill=\"none\" stroke=\"#000000\" d=\"M598.6155,-379.8329C581.493,-370.471 560.9548,-359.2414 542.8016,-349.316\"/>\n",
       "<polygon fill=\"#000000\" stroke=\"#000000\" points=\"544.0101,-345.9878 533.5569,-344.2613 540.6519,-352.1297 544.0101,-345.9878\"/>\n",
       "</g>\n",
       "<!-- c_functioncall_testat0x7fe1d66a8378_2 -->\n",
       "<g id=\"node7\" class=\"node\">\n",
       "<title>c_functioncall_testat0x7fe1d66a8378_2</title>\n",
       "<g id=\"a_node7\"><a xlink:title=\"call_test:2\">\n",
       "<polygon fill=\"#ffdab9\" stroke=\"#000000\" points=\"649.5,-648 595.5,-648 595.5,-608 649.5,-608 649.5,-648\"/>\n",
       "<text text-anchor=\"start\" x=\"618\" y=\"-633.8\" font-family=\"Fira Mono, Courier, monospace\" font-weight=\"bold\" font-size=\"14.00\" fill=\"#000000\">c</text>\n",
       "<text text-anchor=\"start\" x=\"606\" y=\"-614.8\" font-family=\"Fira Mono, Courier, monospace\" font-size=\"9.00\" fill=\"#000000\">c = 47</text>\n",
       "</a>\n",
       "</g>\n",
       "</g>\n",
       "<!-- c_functioncall_testat0x7fe1d66a8378_2&#45;&gt;genyieldvalue_functioncall_testlocalsgenat0x7fe1d66a8950_8 -->\n",
       "<g id=\"edge4\" class=\"edge\">\n",
       "<title>c_functioncall_testat0x7fe1d66a8378_2&#45;&gt;genyieldvalue_functioncall_testlocalsgenat0x7fe1d66a8950_8</title>\n",
       "<path fill=\"none\" stroke=\"#000000\" d=\"M649.5524,-614.6122C686.488,-594.6223 751.1192,-553.117 777.5,-496 784.9544,-479.8606 787.5025,-470.6969 777.5,-456 769.6307,-444.4375 744.1094,-432.8894 716.8305,-423.3096\"/>\n",
       "<polygon fill=\"#000000\" stroke=\"#000000\" points=\"717.7288,-419.9181 707.1344,-420.0064 715.4715,-426.5442 717.7288,-419.9181\"/>\n",
       "</g>\n",
       "<!-- a_functioncall_testat0x7fe1d66a8378_13 -->\n",
       "<g id=\"node9\" class=\"node\">\n",
       "<title>a_functioncall_testat0x7fe1d66a8378_13</title>\n",
       "<g id=\"a_node9\"><a xlink:title=\"call_test:13\">\n",
       "<polygon fill=\"#ffdab9\" stroke=\"#000000\" points=\"569.5,-572 515.5,-572 515.5,-532 569.5,-532 569.5,-572\"/>\n",
       "<text text-anchor=\"start\" x=\"538\" y=\"-557.8\" font-family=\"Fira Mono, Courier, monospace\" font-weight=\"bold\" font-size=\"14.00\" fill=\"#000000\">a</text>\n",
       "<text text-anchor=\"start\" x=\"526\" y=\"-538.8\" font-family=\"Fira Mono, Courier, monospace\" font-size=\"9.00\" fill=\"#000000\">a = 42</text>\n",
       "</a>\n",
       "</g>\n",
       "</g>\n",
       "<!-- c_functioncall_testat0x7fe1d66a8378_2&#45;&gt;a_functioncall_testat0x7fe1d66a8378_13 -->\n",
       "<!-- e_functioncall_testlocalsgenat0x7fe1d66a8950_7 -->\n",
       "<g id=\"node8\" class=\"node\">\n",
       "<title>e_functioncall_testlocalsgenat0x7fe1d66a8950_7</title>\n",
       "<g id=\"a_node8\"><a xlink:title=\"gen:7\">\n",
       "<polygon fill=\"#ffdab9\" stroke=\"#000000\" points=\"768,-496 503,-496 503,-456 768,-456 768,-496\"/>\n",
       "<text text-anchor=\"start\" x=\"631\" y=\"-481.8\" font-family=\"Fira Mono, Courier, monospace\" font-weight=\"bold\" font-size=\"14.00\" fill=\"#000000\">e</text>\n",
       "<text text-anchor=\"start\" x=\"511\" y=\"-462.8\" font-family=\"Fira Mono, Courier, monospace\" font-size=\"9.00\" fill=\"#000000\">def gen(e: int) &#45;&gt; Generator[int, None, None]:</text>\n",
       "</a>\n",
       "</g>\n",
       "</g>\n",
       "<!-- e_functioncall_testlocalsgenat0x7fe1d66a8950_7&#45;&gt;genyieldvalue_functioncall_testlocalsgenat0x7fe1d66a8950_8 -->\n",
       "<g id=\"edge5\" class=\"edge\">\n",
       "<title>e_functioncall_testlocalsgenat0x7fe1d66a8950_7&#45;&gt;genyieldvalue_functioncall_testlocalsgenat0x7fe1d66a8950_8</title>\n",
       "<path fill=\"none\" stroke=\"#000000\" d=\"M629.4426,-455.6334C628.7819,-447.8186 628.5939,-438.7253 628.8786,-430.183\"/>\n",
       "<polygon fill=\"#000000\" stroke=\"#000000\" points=\"632.375,-430.3453 629.4602,-420.1593 625.3867,-429.9397 632.375,-430.3453\"/>\n",
       "</g>\n",
       "<!-- e_functioncall_testlocalsgenat0x7fe1d66a8950_7&#45;&gt;genyieldvalue_functioncall_testlocalsgenat0x7fe1d66a8950_8 -->\n",
       "<!-- a_functioncall_testat0x7fe1d66a8378_13&#45;&gt;b_functioncall_testat0x7fe1d66a8378_14 -->\n",
       "<g id=\"edge10\" class=\"edge\">\n",
       "<title>a_functioncall_testat0x7fe1d66a8378_13&#45;&gt;b_functioncall_testat0x7fe1d66a8378_14</title>\n",
       "<path fill=\"none\" stroke=\"#000000\" d=\"M515.383,-534.5641C502.8706,-525.1454 488.1604,-513.3147 475.7614,-502.7566\"/>\n",
       "<polygon fill=\"#000000\" stroke=\"#000000\" points=\"477.8472,-499.9332 467.9935,-496.0403 473.2689,-505.2284 477.8472,-499.9332\"/>\n",
       "</g>\n",
       "<!-- a_functioncall_testat0x7fe1d66a8378_13&#45;&gt;b_functioncall_testat0x7fe1d66a8378_14 -->\n",
       "<!-- a_functioncall_testat0x7fe1d66a8378_13&#45;&gt;e_functioncall_testlocalsgenat0x7fe1d66a8950_7 -->\n",
       "<g id=\"edge6\" class=\"edge\">\n",
       "<title>a_functioncall_testat0x7fe1d66a8378_13&#45;&gt;e_functioncall_testlocalsgenat0x7fe1d66a8950_7</title>\n",
       "<path fill=\"none\" stroke=\"#000000\" d=\"M567.4223,-531.6334C578.3513,-522.7022 591.3236,-512.1012 602.9977,-502.561\"/>\n",
       "<polygon fill=\"#000000\" stroke=\"#000000\" points=\"605.3028,-505.1973 610.8314,-496.1593 600.8733,-499.777 605.3028,-505.1973\"/>\n",
       "</g>\n",
       "<!-- sqreturnvalue_functioncall_testlocalssqat0x7fe1d66a8b70_5 -->\n",
       "<g id=\"node10\" class=\"node\">\n",
       "<title>sqreturnvalue_functioncall_testlocalssqat0x7fe1d66a8b70_5</title>\n",
       "<g id=\"a_node10\"><a xlink:title=\"sq:5\">\n",
       "<polygon fill=\"#ffdab9\" stroke=\"#000000\" points=\"613.5,-40 437.5,-40 437.5,0 613.5,0 613.5,-40\"/>\n",
       "<text text-anchor=\"start\" x=\"445.5\" y=\"-25.8\" font-family=\"Fira Mono, Courier, monospace\" font-weight=\"bold\" font-style=\"italic\" font-size=\"14.00\" fill=\"#000000\">&lt;sq() return value&gt;</text>\n",
       "<text text-anchor=\"start\" x=\"493\" y=\"-6.8\" font-family=\"Fira Mono, Courier, monospace\" font-size=\"9.00\" fill=\"#000000\">return n * n</text>\n",
       "</a>\n",
       "</g>\n",
       "</g>\n",
       "<!-- n_functioncall_testlocalssqat0x7fe1d66a8b70_4 -->\n",
       "<g id=\"node11\" class=\"node\">\n",
       "<title>n_functioncall_testlocalssqat0x7fe1d66a8b70_4</title>\n",
       "<g id=\"a_node11\"><a xlink:title=\"sq:4\">\n",
       "<polygon fill=\"#ffdab9\" stroke=\"#000000\" points=\"593,-116 458,-116 458,-76 593,-76 593,-116\"/>\n",
       "<text text-anchor=\"start\" x=\"521\" y=\"-101.8\" font-family=\"Fira Mono, Courier, monospace\" font-weight=\"bold\" font-size=\"14.00\" fill=\"#000000\">n</text>\n",
       "<text text-anchor=\"start\" x=\"466\" y=\"-82.8\" font-family=\"Fira Mono, Courier, monospace\" font-size=\"9.00\" fill=\"#000000\">def sq(n: int) &#45;&gt; int:</text>\n",
       "</a>\n",
       "</g>\n",
       "</g>\n",
       "<!-- n_functioncall_testlocalssqat0x7fe1d66a8b70_4&#45;&gt;sqreturnvalue_functioncall_testlocalssqat0x7fe1d66a8b70_5 -->\n",
       "<g id=\"edge7\" class=\"edge\">\n",
       "<title>n_functioncall_testlocalssqat0x7fe1d66a8b70_4&#45;&gt;sqreturnvalue_functioncall_testlocalssqat0x7fe1d66a8b70_5</title>\n",
       "<path fill=\"none\" stroke=\"#000000\" d=\"M519.4426,-75.6334C518.7819,-67.8186 518.5939,-58.7253 518.8786,-50.183\"/>\n",
       "<polygon fill=\"#000000\" stroke=\"#000000\" points=\"522.375,-50.3453 519.4602,-40.1593 515.3867,-49.9397 522.375,-50.3453\"/>\n",
       "</g>\n",
       "<!-- n_functioncall_testlocalssqat0x7fe1d66a8b70_4&#45;&gt;sqreturnvalue_functioncall_testlocalssqat0x7fe1d66a8b70_5 -->\n",
       "<!-- elem_functioncall_testat0x7fe1d66a8378_18 -->\n",
       "<g id=\"node12\" class=\"node\">\n",
       "<title>elem_functioncall_testat0x7fe1d66a8378_18</title>\n",
       "<g id=\"a_node12\"><a xlink:title=\"call_test:18\">\n",
       "<polygon fill=\"#ffdab9\" stroke=\"#000000\" points=\"647,-192 404,-192 404,-152 647,-152 647,-192\"/>\n",
       "<text text-anchor=\"start\" x=\"508.5\" y=\"-177.8\" font-family=\"Fira Mono, Courier, monospace\" font-weight=\"bold\" font-size=\"14.00\" fill=\"#000000\">elem</text>\n",
       "<text text-anchor=\"start\" x=\"412\" y=\"-158.8\" font-family=\"Fira Mono, Courier, monospace\" font-size=\"9.00\" fill=\"#000000\">ys = [sq(elem) for elem in xs if elem &gt; 2]</text>\n",
       "</a>\n",
       "</g>\n",
       "</g>\n",
       "<!-- elem_functioncall_testat0x7fe1d66a8378_18&#45;&gt;n_functioncall_testlocalssqat0x7fe1d66a8b70_4 -->\n",
       "<g id=\"edge8\" class=\"edge\">\n",
       "<title>elem_functioncall_testat0x7fe1d66a8378_18&#45;&gt;n_functioncall_testlocalssqat0x7fe1d66a8b70_4</title>\n",
       "<path fill=\"none\" stroke=\"#000000\" d=\"M525.5,-151.6334C525.5,-143.8186 525.5,-134.7253 525.5,-126.183\"/>\n",
       "<polygon fill=\"#000000\" stroke=\"#000000\" points=\"529.0001,-126.1593 525.5,-116.1593 522.0001,-126.1593 529.0001,-126.1593\"/>\n",
       "</g>\n",
       "<!-- d_functioncall_testat0x7fe1d66a8378_15&#45;&gt;x_functioncall_testlocalsjust_xat0x7fe1d66a89d8_10 -->\n",
       "<g id=\"edge15\" class=\"edge\">\n",
       "<title>d_functioncall_testat0x7fe1d66a8378_15&#45;&gt;x_functioncall_testlocalsjust_xat0x7fe1d66a89d8_10</title>\n",
       "<path fill=\"none\" stroke=\"#000000\" d=\"M458.5541,-303.8329C440.7772,-294.3851 419.4216,-283.0352 400.6207,-273.0432\"/>\n",
       "<polygon fill=\"#000000\" stroke=\"#000000\" points=\"402.0962,-269.8638 391.6233,-268.2613 398.811,-276.0451 402.0962,-269.8638\"/>\n",
       "</g>\n",
       "<!-- xs_functioncall_testat0x7fe1d66a8378_17 -->\n",
       "<g id=\"node15\" class=\"node\">\n",
       "<title>xs_functioncall_testat0x7fe1d66a8378_17</title>\n",
       "<g id=\"a_node15\"><a xlink:title=\"call_test:17\">\n",
       "<polygon fill=\"#ffdab9\" stroke=\"#000000\" points=\"579.5,-268 471.5,-268 471.5,-228 579.5,-228 579.5,-268\"/>\n",
       "<text text-anchor=\"start\" x=\"517\" y=\"-253.8\" font-family=\"Fira Mono, Courier, monospace\" font-weight=\"bold\" font-size=\"14.00\" fill=\"#000000\">xs</text>\n",
       "<text text-anchor=\"start\" x=\"479.5\" y=\"-234.8\" font-family=\"Fira Mono, Courier, monospace\" font-size=\"9.00\" fill=\"#000000\">xs = [1, 2, 3, 4]</text>\n",
       "</a>\n",
       "</g>\n",
       "</g>\n",
       "<!-- d_functioncall_testat0x7fe1d66a8378_15&#45;&gt;xs_functioncall_testat0x7fe1d66a8378_17 -->\n",
       "<!-- xs_functioncall_testat0x7fe1d66a8378_17&#45;&gt;elem_functioncall_testat0x7fe1d66a8378_18 -->\n",
       "<g id=\"edge13\" class=\"edge\">\n",
       "<title>xs_functioncall_testat0x7fe1d66a8378_17&#45;&gt;elem_functioncall_testat0x7fe1d66a8378_18</title>\n",
       "<path fill=\"none\" stroke=\"#000000\" d=\"M519.4426,-227.6334C518.7819,-219.8186 518.5939,-210.7253 518.8786,-202.183\"/>\n",
       "<polygon fill=\"#000000\" stroke=\"#000000\" points=\"522.375,-202.3453 519.4602,-192.1593 515.3867,-201.9397 522.375,-202.3453\"/>\n",
       "</g>\n",
       "<!-- xs_functioncall_testat0x7fe1d66a8378_17&#45;&gt;elem_functioncall_testat0x7fe1d66a8378_18 -->\n",
       "</g>\n",
       "</svg>\n"
      ],
      "text/plain": [
       "Dependencies(\n",
       "    data={\n",
       "        ('c', (call_test, 2)): set(),\n",
       "        ('a', (call_test, 13)): set(),\n",
       "        ('b', (call_test, 14)): {('a', (call_test, 13))},\n",
       "        ('e', (gen, 7)): {('a', (call_test, 13))},\n",
       "        ('<gen() yield value>', (gen, 8)): {('c', (call_test, 2)), ('e', (gen, 7))},\n",
       "        ('d', (call_test, 15)): {('b', (call_test, 14)), ('<gen() yield value>', (gen, 8))},\n",
       "        ('xs', (call_test, 17)): set(),\n",
       "        ('elem', (call_test, 18)): {('xs', (call_test, 17))},\n",
       "        ('n', (sq, 4)): {('elem', (call_test, 18))},\n",
       "        ('<sq() return value>', (sq, 5)): {('n', (sq, 4))},\n",
       "        ('ys', (call_test, 18)): set(),\n",
       "        ('x', (just_x, 10)): {('<just_x() return value>', (just_x, 11)), ('d', (call_test, 15))},\n",
       "        ('y', (just_x, 10)): {('ys', (call_test, 18)), ('b', (call_test, 14))},\n",
       "        ('<just_x() return value>', (just_x, 11)): {('x', (just_x, 10))},\n",
       "        ('<call_test() return value>', (call_test, 20)): {('<just_x() return value>', (just_x, 11))}},\n",
       " control={\n",
       "        ('c', (call_test, 2)): set(),\n",
       "        ('a', (call_test, 13)): set(),\n",
       "        ('b', (call_test, 14)): set(),\n",
       "        ('e', (gen, 7)): set(),\n",
       "        ('<gen() yield value>', (gen, 8)): set(),\n",
       "        ('d', (call_test, 15)): set(),\n",
       "        ('xs', (call_test, 17)): set(),\n",
       "        ('elem', (call_test, 18)): set(),\n",
       "        ('n', (sq, 4)): set(),\n",
       "        ('<sq() return value>', (sq, 5)): set(),\n",
       "        ('ys', (call_test, 18)): set(),\n",
       "        ('x', (just_x, 10)): set(),\n",
       "        ('y', (just_x, 10)): set(),\n",
       "        ('<just_x() return value>', (just_x, 11)): set(),\n",
       "        ('<call_test() return value>', (call_test, 20)): set()})"
      ]
     },
     "execution_count": 1,
     "metadata": {},
     "output_type": "execute_result"
    }
   ],
   "source": [
    "call_deps.dependencies()"
   ]
  },
  {
   "cell_type": "markdown",
   "metadata": {
    "slideshow": {
     "slide_type": "subslide"
    }
   },
   "source": [
    "The `code()` view lists each function separately:"
   ]
  },
  {
   "cell_type": "code",
   "execution_count": 176,
   "metadata": {
    "execution": {
     "iopub.execute_input": "2021-03-05T23:37:19.245408Z",
     "iopub.status.busy": "2021-03-05T23:37:19.244893Z",
     "iopub.status.idle": "2021-03-05T23:37:19.343077Z",
     "shell.execute_reply": "2021-03-05T23:37:19.343658Z"
    },
    "slideshow": {
     "slide_type": "subslide"
    }
   },
   "outputs": [
    {
     "name": "stdout",
     "output_type": "stream",
     "text": [
      "*   10     \u001b[34mdef\u001b[39;49;00m \u001b[32mjust_x\u001b[39;49;00m(x: Any, y: Any) -> Any:  \u001b[37m# <= <just_x() return value> (11), d (call_test:15), ys (call_test:18), b (call_test:14)\u001b[39;49;00m\n",
      "*   11         \u001b[34mreturn\u001b[39;49;00m x  \u001b[37m# <= x (10)\u001b[39;49;00m\n",
      "\n",
      "*    7     \u001b[34mdef\u001b[39;49;00m \u001b[32mgen\u001b[39;49;00m(e: \u001b[36mint\u001b[39;49;00m) -> Generator[\u001b[36mint\u001b[39;49;00m, \u001b[34mNone\u001b[39;49;00m, \u001b[34mNone\u001b[39;49;00m]:  \u001b[37m# <= a (call_test:13)\u001b[39;49;00m\n",
      "*    8         \u001b[34myield\u001b[39;49;00m e * c  \u001b[37m# <= c (call_test:2), e (7)\u001b[39;49;00m\n",
      "\n",
      "     1 \u001b[34mdef\u001b[39;49;00m \u001b[32mcall_test\u001b[39;49;00m() -> \u001b[36mint\u001b[39;49;00m:\n",
      "*    2     c = \u001b[34m47\u001b[39;49;00m\n",
      "     3 \n",
      "     4     \u001b[34mdef\u001b[39;49;00m \u001b[32msq\u001b[39;49;00m(n: \u001b[36mint\u001b[39;49;00m) -> \u001b[36mint\u001b[39;49;00m:\n",
      "     5         \u001b[34mreturn\u001b[39;49;00m n * n\n",
      "     6 \n",
      "     7     \u001b[34mdef\u001b[39;49;00m \u001b[32mgen\u001b[39;49;00m(e: \u001b[36mint\u001b[39;49;00m) -> Generator[\u001b[36mint\u001b[39;49;00m, \u001b[34mNone\u001b[39;49;00m, \u001b[34mNone\u001b[39;49;00m]:\n",
      "     8         \u001b[34myield\u001b[39;49;00m e * c\n",
      "     9 \n",
      "    10     \u001b[34mdef\u001b[39;49;00m \u001b[32mjust_x\u001b[39;49;00m(x: Any, y: Any) -> Any:\n",
      "    11         \u001b[34mreturn\u001b[39;49;00m x\n",
      "    12 \n",
      "*   13     a = \u001b[34m42\u001b[39;49;00m\n",
      "*   14     b = gen(a)  \u001b[37m# <= a (13)\u001b[39;49;00m\n",
      "*   15     d = \u001b[36mlist\u001b[39;49;00m(b)[\u001b[34m0\u001b[39;49;00m]  \u001b[37m# <= b (14), <gen() yield value> (gen:8)\u001b[39;49;00m\n",
      "    16 \n",
      "*   17     xs = [\u001b[34m1\u001b[39;49;00m, \u001b[34m2\u001b[39;49;00m, \u001b[34m3\u001b[39;49;00m, \u001b[34m4\u001b[39;49;00m]\n",
      "*   18     ys = [sq(elem) \u001b[34mfor\u001b[39;49;00m elem \u001b[35min\u001b[39;49;00m xs \u001b[34mif\u001b[39;49;00m elem > \u001b[34m2\u001b[39;49;00m]  \u001b[37m# <= xs (17)\u001b[39;49;00m\n",
      "    19 \n",
      "*   20     \u001b[34mreturn\u001b[39;49;00m just_x(just_x(d, y=b), ys[\u001b[34m0\u001b[39;49;00m])  \u001b[37m# <= <just_x() return value> (just_x:11)\u001b[39;49;00m\n",
      "\n",
      "*    4     \u001b[34mdef\u001b[39;49;00m \u001b[32msq\u001b[39;49;00m(n: \u001b[36mint\u001b[39;49;00m) -> \u001b[36mint\u001b[39;49;00m:  \u001b[37m# <= elem (call_test:18)\u001b[39;49;00m\n",
      "*    5         \u001b[34mreturn\u001b[39;49;00m n * n  \u001b[37m# <= n (4)\u001b[39;49;00m\n"
     ]
    }
   ],
   "source": [
    "call_deps.dependencies().code()"
   ]
  },
  {
   "cell_type": "markdown",
   "metadata": {
    "slideshow": {
     "slide_type": "subslide"
    }
   },
   "source": [
    "### End of Excursion"
   ]
  },
  {
   "cell_type": "markdown",
   "metadata": {
    "slideshow": {
     "slide_type": "subslide"
    }
   },
   "source": [
    "### Excursion: Diagnostics"
   ]
  },
  {
   "cell_type": "markdown",
   "metadata": {
    "slideshow": {
     "slide_type": "fragment"
    }
   },
   "source": [
    "To check the dependencies we obtain, we perform some minimal checks on whether a referenced variable actually also occurs in the source code."
   ]
  },
  {
   "cell_type": "code",
   "execution_count": 177,
   "metadata": {
    "execution": {
     "iopub.execute_input": "2021-03-05T23:37:19.346937Z",
     "iopub.status.busy": "2021-03-05T23:37:19.346299Z",
     "iopub.status.idle": "2021-03-05T23:37:19.347918Z",
     "shell.execute_reply": "2021-03-05T23:37:19.348345Z"
    },
    "slideshow": {
     "slide_type": "skip"
    }
   },
   "outputs": [],
   "source": [
    "import re"
   ]
  },
  {
   "cell_type": "code",
   "execution_count": 178,
   "metadata": {
    "execution": {
     "iopub.execute_input": "2021-03-05T23:37:19.355412Z",
     "iopub.status.busy": "2021-03-05T23:37:19.354747Z",
     "iopub.status.idle": "2021-03-05T23:37:19.356482Z",
     "shell.execute_reply": "2021-03-05T23:37:19.356859Z"
    },
    "ipub": {
     "ignore": true
    },
    "slideshow": {
     "slide_type": "subslide"
    }
   },
   "outputs": [],
   "source": [
    "class Dependencies(Dependencies):\n",
    "    def validate(self) -> None:\n",
    "        \"\"\"Perform a simple syntactic validation of dependencies\"\"\"\n",
    "        super().validate()\n",
    "\n",
    "        for var in self.all_vars():\n",
    "            source = self.source(var)\n",
    "            if not source:\n",
    "                continue\n",
    "            if source.startswith('<'):\n",
    "                continue   # no source\n",
    "\n",
    "            for dep_var in self.data[var] | self.control[var]:\n",
    "                dep_name, dep_location = dep_var\n",
    "\n",
    "                if dep_name == DependencyTracker.TEST:\n",
    "                    continue  # dependency on <test>\n",
    "\n",
    "                if dep_name.endswith(' value>'):\n",
    "                    if source.find('(') < 0:\n",
    "                        warnings.warn(f\"Warning: {self.format_var(var)} \"\n",
    "                                  f\"depends on {self.format_var(dep_var)}, \"\n",
    "                                  f\"but {repr(source)} does not \"\n",
    "                                  f\"seem to have a call\")\n",
    "                    continue\n",
    "\n",
    "                if source.startswith('def'):\n",
    "                    continue   # function call\n",
    "\n",
    "                rx = re.compile(r'\\b' + dep_name + r'\\b')\n",
    "                if rx.search(source) is None:\n",
    "                    warnings.warn(f\"{self.format_var(var)} \"\n",
    "                              f\"depends on {self.format_var(dep_var)}, \"\n",
    "                              f\"but {repr(dep_name)} does not occur \"\n",
    "                              f\"in {repr(source)}\")"
   ]
  },
  {
   "cell_type": "markdown",
   "metadata": {
    "slideshow": {
     "slide_type": "subslide"
    }
   },
   "source": [
    "`validate()` is automatically called whenever dependencies are output, so if you see any of its error messages, something may be wrong."
   ]
  },
  {
   "cell_type": "markdown",
   "metadata": {
    "slideshow": {
     "slide_type": "subslide"
    }
   },
   "source": [
    "### End of Excursion"
   ]
  },
  {
   "cell_type": "markdown",
   "metadata": {
    "slideshow": {
     "slide_type": "fragment"
    }
   },
   "source": [
    "At this point, `DependencyTracker` is complete; we have all in place to track even complex dependencies in instrumented code."
   ]
  },
  {
   "cell_type": "markdown",
   "metadata": {
    "slideshow": {
     "slide_type": "slide"
    }
   },
   "source": [
    "## Slicing Code"
   ]
  },
  {
   "cell_type": "markdown",
   "metadata": {
    "slideshow": {
     "slide_type": "subslide"
    }
   },
   "source": [
    "Let us now put all these pieces together. We have a means to instrument the source code (our various `NodeTransformer` classes) and a means to track dependencies (the `DependencyTracker` class). Now comes the time to put all these things together in a single tool, which we call `Slicer`.\n",
    "\n",
    "The basic idea of `Slicer` is that you can use it as follows:\n",
    "\n",
    "```python\n",
    "with Slicer(func_1, func_2, ...) as slicer:\n",
    "    func(...)\n",
    "```\n",
    "\n",
    "which first _instruments_ the functions given in the constructor (i.e., replaces their definitions with instrumented counterparts), and then runs the code in the body, calling instrumented functions, and allowing the slicer to collect dependencies. When the body returns, the original definition of the instrumented functions is restored."
   ]
  },
  {
   "cell_type": "markdown",
   "metadata": {
    "slideshow": {
     "slide_type": "subslide"
    }
   },
   "source": [
    "### An Instrumenter Base Class"
   ]
  },
  {
   "cell_type": "markdown",
   "metadata": {
    "slideshow": {
     "slide_type": "fragment"
    }
   },
   "source": [
    "The basic functionality of instrumenting a number of functions (and restoring them at the end of the `with` block) comes in a `Instrumenter` base class. It invokes `instrument()` on all items to instrument; this is to be overloaded in subclasses."
   ]
  },
  {
   "cell_type": "code",
   "execution_count": 179,
   "metadata": {
    "execution": {
     "iopub.execute_input": "2021-03-05T23:37:19.363426Z",
     "iopub.status.busy": "2021-03-05T23:37:19.362876Z",
     "iopub.status.idle": "2021-03-05T23:37:19.364581Z",
     "shell.execute_reply": "2021-03-05T23:37:19.365025Z"
    },
    "slideshow": {
     "slide_type": "subslide"
    }
   },
   "outputs": [],
   "source": [
    "class Instrumenter(StackInspector):\n",
    "    \"\"\"Instrument functions for dynamic tracking\"\"\"\n",
    "\n",
    "    def __init__(self, *items_to_instrument: Callable, \n",
    "                 globals: Optional[Dict[str, Any]] = None, \n",
    "                 log: Union[bool, int] = False) -> None:\n",
    "        \"\"\"\n",
    "        Create an instrumenter.\n",
    "        `items_to_instrument` is a list of items to instrument.\n",
    "        `globals` is a namespace to use (default: caller's globals())\n",
    "        \"\"\"\n",
    "\n",
    "        self.log = log\n",
    "        self.items_to_instrument = items_to_instrument\n",
    "\n",
    "        if globals is None:\n",
    "            globals = self.caller_globals()\n",
    "        self.globals = globals\n",
    "\n",
    "    def __enter__(self) -> Any:\n",
    "        \"\"\"Instrument sources\"\"\"\n",
    "        for item in self.items_to_instrument:\n",
    "            self.instrument(item)\n",
    "        return self\n",
    "\n",
    "    def instrument(self, item: Any) -> None:\n",
    "        \"\"\"Instrument `item`. To be overloaded in subclasses.\"\"\"\n",
    "        if self.log:\n",
    "            print(\"Instrumenting\", item)"
   ]
  },
  {
   "cell_type": "markdown",
   "metadata": {
    "slideshow": {
     "slide_type": "subslide"
    }
   },
   "source": [
    "At the end of the `with` block, we restore the given functions."
   ]
  },
  {
   "cell_type": "code",
   "execution_count": 180,
   "metadata": {
    "execution": {
     "iopub.execute_input": "2021-03-05T23:37:19.369273Z",
     "iopub.status.busy": "2021-03-05T23:37:19.368739Z",
     "iopub.status.idle": "2021-03-05T23:37:19.370331Z",
     "shell.execute_reply": "2021-03-05T23:37:19.370803Z"
    },
    "slideshow": {
     "slide_type": "fragment"
    }
   },
   "outputs": [],
   "source": [
    "class Instrumenter(Instrumenter):\n",
    "    def __exit__(self, exc_type: Type, exc_value: BaseException,\n",
    "                 traceback: TracebackType) -> Optional[bool]:\n",
    "        \"\"\"Restore sources\"\"\"\n",
    "        self.restore()\n",
    "        return None\n",
    "\n",
    "    def restore(self) -> None:\n",
    "        for item in self.items_to_instrument:\n",
    "            self.globals[item.__name__] = item"
   ]
  },
  {
   "cell_type": "markdown",
   "metadata": {
    "slideshow": {
     "slide_type": "fragment"
    }
   },
   "source": [
    "By default, an `Instrumenter` simply outputs a log message:"
   ]
  },
  {
   "cell_type": "code",
   "execution_count": 181,
   "metadata": {
    "execution": {
     "iopub.execute_input": "2021-03-05T23:37:19.374665Z",
     "iopub.status.busy": "2021-03-05T23:37:19.374097Z",
     "iopub.status.idle": "2021-03-05T23:37:19.376000Z",
     "shell.execute_reply": "2021-03-05T23:37:19.376382Z"
    },
    "slideshow": {
     "slide_type": "subslide"
    }
   },
   "outputs": [
    {
     "name": "stdout",
     "output_type": "stream",
     "text": [
      "Instrumenting <function middle at 0x7fe1d5ddbd08>\n"
     ]
    }
   ],
   "source": [
    "with Instrumenter(middle, log=True) as ins:\n",
    "    pass"
   ]
  },
  {
   "cell_type": "markdown",
   "metadata": {
    "slideshow": {
     "slide_type": "subslide"
    }
   },
   "source": [
    "### The Slicer Class"
   ]
  },
  {
   "cell_type": "markdown",
   "metadata": {
    "slideshow": {
     "slide_type": "fragment"
    }
   },
   "source": [
    "The `Slicer` class comes as a subclass of `Instrumenter`. It sets its own dependency tracker (which can be overwritten by setting the `dependency_tracker` keyword argument)."
   ]
  },
  {
   "cell_type": "code",
   "execution_count": 182,
   "metadata": {
    "execution": {
     "iopub.execute_input": "2021-03-05T23:37:19.381818Z",
     "iopub.status.busy": "2021-03-05T23:37:19.381277Z",
     "iopub.status.idle": "2021-03-05T23:37:19.382685Z",
     "shell.execute_reply": "2021-03-05T23:37:19.383198Z"
    },
    "slideshow": {
     "slide_type": "subslide"
    }
   },
   "outputs": [],
   "source": [
    "class Slicer(Instrumenter):\n",
    "    \"\"\"Track dependencies in an execution\"\"\"\n",
    "\n",
    "    def __init__(self, *items_to_instrument: Any,\n",
    "                 dependency_tracker: Optional[DependencyTracker] = None,\n",
    "                 globals: Optional[Dict[str, Any]] = None, log: Union[bool, int] = False):\n",
    "        \"\"\"Create a slicer.\n",
    "        `items_to_instrument` are Python functions or modules with source code.\n",
    "        `dependency_tracker` is the tracker to be used (default: DependencyTracker).\n",
    "        `globals` is the namespace to be used(default: caller's `globals()`)\n",
    "        `log`=True or `log` > 0 turns on logging\n",
    "        \"\"\"\n",
    "        super().__init__(*items_to_instrument, globals=globals, log=log)\n",
    "        if len(items_to_instrument) == 0:\n",
    "            raise ValueError(\"Need one or more items to instrument\")\n",
    "\n",
    "        if dependency_tracker is None:\n",
    "            dependency_tracker = DependencyTracker(log=(log > 1))\n",
    "        self.dependency_tracker = dependency_tracker\n",
    "\n",
    "        self.saved_dependencies = None"
   ]
  },
  {
   "cell_type": "markdown",
   "metadata": {
    "slideshow": {
     "slide_type": "subslide"
    }
   },
   "source": [
    "The `parse()` method parses a given item, returning its AST."
   ]
  },
  {
   "cell_type": "code",
   "execution_count": 183,
   "metadata": {
    "execution": {
     "iopub.execute_input": "2021-03-05T23:37:19.388115Z",
     "iopub.status.busy": "2021-03-05T23:37:19.387593Z",
     "iopub.status.idle": "2021-03-05T23:37:19.389302Z",
     "shell.execute_reply": "2021-03-05T23:37:19.389674Z"
    },
    "slideshow": {
     "slide_type": "fragment"
    }
   },
   "outputs": [],
   "source": [
    "class Slicer(Slicer):\n",
    "    def parse(self, item: Any) -> AST:\n",
    "        \"\"\"Parse `item`, returning its AST\"\"\"\n",
    "        source_lines, lineno = inspect.getsourcelines(item)\n",
    "        source = \"\".join(source_lines)\n",
    "\n",
    "        if self.log >= 2:\n",
    "            print_content(source, '.py', start_line_number=lineno)\n",
    "            print()\n",
    "            print()\n",
    "\n",
    "        tree = ast.parse(source)\n",
    "        ast.increment_lineno(tree, lineno - 1)\n",
    "        return tree"
   ]
  },
  {
   "cell_type": "markdown",
   "metadata": {
    "slideshow": {
     "slide_type": "subslide"
    }
   },
   "source": [
    "The `transform()` method applies the list of transformers defined earlier in this chapter."
   ]
  },
  {
   "cell_type": "code",
   "execution_count": 184,
   "metadata": {
    "execution": {
     "iopub.execute_input": "2021-03-05T23:37:19.396159Z",
     "iopub.status.busy": "2021-03-05T23:37:19.395552Z",
     "iopub.status.idle": "2021-03-05T23:37:19.397216Z",
     "shell.execute_reply": "2021-03-05T23:37:19.397588Z"
    },
    "slideshow": {
     "slide_type": "subslide"
    }
   },
   "outputs": [],
   "source": [
    "class Slicer(Slicer):\n",
    "    def transformers(self) -> List[NodeTransformer]:\n",
    "        \"\"\"List of transformers to apply. To be extended in subclasses.\"\"\"\n",
    "        return [\n",
    "            TrackCallTransformer(),\n",
    "            TrackSetTransformer(),\n",
    "            TrackGetTransformer(),\n",
    "            TrackControlTransformer(),\n",
    "            TrackReturnTransformer(),\n",
    "            TrackParamsTransformer()\n",
    "        ]\n",
    "\n",
    "    def transform(self, tree: AST) -> AST:\n",
    "        \"\"\"Apply transformers on `tree`. May be extended in subclasses.\"\"\"\n",
    "        # Apply transformers\n",
    "        for transformer in self.transformers():\n",
    "            if self.log >= 3:\n",
    "                print(transformer.__class__.__name__ + ':')\n",
    "\n",
    "            transformer.visit(tree)\n",
    "            ast.fix_missing_locations(tree)\n",
    "            if self.log >= 3:\n",
    "                print_content(\n",
    "                    astor.to_source(tree,\n",
    "                                    add_line_information=self.log >= 4),\n",
    "                              '.py')\n",
    "                print()\n",
    "                print()\n",
    "\n",
    "        if 0 < self.log < 3:\n",
    "            print_content(astor.to_source(tree), '.py')\n",
    "            print()\n",
    "            print()\n",
    "\n",
    "        return tree"
   ]
  },
  {
   "cell_type": "markdown",
   "metadata": {
    "slideshow": {
     "slide_type": "subslide"
    }
   },
   "source": [
    "The `execute()` method executes the transformed tree (such that we get the new definitions). We also make the dependency tracker available for the code in the `with` block."
   ]
  },
  {
   "cell_type": "code",
   "execution_count": 185,
   "metadata": {
    "execution": {
     "iopub.execute_input": "2021-03-05T23:37:19.401765Z",
     "iopub.status.busy": "2021-03-05T23:37:19.401240Z",
     "iopub.status.idle": "2021-03-05T23:37:19.402964Z",
     "shell.execute_reply": "2021-03-05T23:37:19.403336Z"
    },
    "slideshow": {
     "slide_type": "fragment"
    }
   },
   "outputs": [],
   "source": [
    "class Slicer(Slicer):\n",
    "    def execute(self, tree: AST, item: Any) -> None:\n",
    "        \"\"\"Compile and execute `tree`. May be extended in subclasses.\"\"\"\n",
    "\n",
    "        # We pass the source file of `item` such that we can retrieve it\n",
    "        # when accessing the location of the new compiled code\n",
    "        source = cast(str, inspect.getsourcefile(item))\n",
    "        code = compile(tree, source, 'exec')\n",
    "\n",
    "        # Execute the code, resulting in a redefinition of item\n",
    "        exec(code, self.globals)\n",
    "        self.globals[DATA_TRACKER] = self.dependency_tracker"
   ]
  },
  {
   "cell_type": "markdown",
   "metadata": {
    "slideshow": {
     "slide_type": "subslide"
    }
   },
   "source": [
    "The `instrument()` method puts all these together, first parsing the item into a tree, then transforming and executing the tree."
   ]
  },
  {
   "cell_type": "code",
   "execution_count": 186,
   "metadata": {
    "execution": {
     "iopub.execute_input": "2021-03-05T23:37:19.407748Z",
     "iopub.status.busy": "2021-03-05T23:37:19.407208Z",
     "iopub.status.idle": "2021-03-05T23:37:19.408811Z",
     "shell.execute_reply": "2021-03-05T23:37:19.409185Z"
    },
    "slideshow": {
     "slide_type": "fragment"
    }
   },
   "outputs": [],
   "source": [
    "class Slicer(Slicer):\n",
    "    def instrument(self, item: Any) -> None:\n",
    "        \"\"\"Instrument `item`, transforming its source code, and re-defining it.\"\"\"\n",
    "        super().instrument(item)\n",
    "        tree = self.parse(item)\n",
    "        tree = self.transform(tree)\n",
    "        self.execute(tree, item)"
   ]
  },
  {
   "cell_type": "markdown",
   "metadata": {
    "slideshow": {
     "slide_type": "fragment"
    }
   },
   "source": [
    "When we restore the original definition (after the `with` block), we save the dependency tracker again."
   ]
  },
  {
   "cell_type": "code",
   "execution_count": 187,
   "metadata": {
    "execution": {
     "iopub.execute_input": "2021-03-05T23:37:19.412937Z",
     "iopub.status.busy": "2021-03-05T23:37:19.412422Z",
     "iopub.status.idle": "2021-03-05T23:37:19.414072Z",
     "shell.execute_reply": "2021-03-05T23:37:19.414442Z"
    },
    "slideshow": {
     "slide_type": "subslide"
    }
   },
   "outputs": [],
   "source": [
    "class Slicer(Slicer):\n",
    "    def restore(self) -> None:\n",
    "        \"\"\"Restore original code.\"\"\"\n",
    "        if DATA_TRACKER in self.globals:\n",
    "            self.saved_dependencies = self.globals[DATA_TRACKER]\n",
    "            del self.globals[DATA_TRACKER]\n",
    "        super().restore()"
   ]
  },
  {
   "cell_type": "markdown",
   "metadata": {
    "slideshow": {
     "slide_type": "fragment"
    }
   },
   "source": [
    "Three convenience functions allow us to see the dependencies as (well) dependencies, as code, and as graph. These simply invoke the respective functions on the saved dependencies."
   ]
  },
  {
   "cell_type": "code",
   "execution_count": 188,
   "metadata": {
    "execution": {
     "iopub.execute_input": "2021-03-05T23:37:19.421499Z",
     "iopub.status.busy": "2021-03-05T23:37:19.420710Z",
     "iopub.status.idle": "2021-03-05T23:37:19.422558Z",
     "shell.execute_reply": "2021-03-05T23:37:19.422965Z"
    },
    "slideshow": {
     "slide_type": "subslide"
    }
   },
   "outputs": [],
   "source": [
    "class Slicer(Slicer):\n",
    "    def dependencies(self) -> Dependencies:\n",
    "        \"\"\"Return collected dependencies.\"\"\"\n",
    "        if self.saved_dependencies is None:\n",
    "            return Dependencies({}, {})\n",
    "        return self.saved_dependencies.dependencies()\n",
    "\n",
    "    def code(self, *args: Any, **kwargs: Any) -> None:\n",
    "        \"\"\"Show code of instrumented items, annotated with dependencies.\"\"\"\n",
    "        first = True\n",
    "        for item in self.items_to_instrument:\n",
    "            if not first:\n",
    "                print()\n",
    "            self.dependencies().code(item, *args, **kwargs)  # type: ignore\n",
    "            first = False\n",
    "\n",
    "    def graph(self, *args: Any, **kwargs: Any) -> Digraph:\n",
    "        \"\"\"Show dependency graph.\"\"\"\n",
    "        return self.dependencies().graph(*args, **kwargs)  # type: ignore\n",
    "\n",
    "    def _repr_svg_(self) -> Any:\n",
    "        \"\"\"If the object is output in Jupyter, render dependencies as a SVG graph\"\"\"\n",
    "        return self.graph()._repr_svg_()"
   ]
  },
  {
   "cell_type": "markdown",
   "metadata": {
    "slideshow": {
     "slide_type": "subslide"
    }
   },
   "source": [
    "Let us put `Slicer` into action. We track our `middle()` function:"
   ]
  },
  {
   "cell_type": "code",
   "execution_count": 189,
   "metadata": {
    "execution": {
     "iopub.execute_input": "2021-03-05T23:37:19.435427Z",
     "iopub.status.busy": "2021-03-05T23:37:19.434798Z",
     "iopub.status.idle": "2021-03-05T23:37:19.437090Z",
     "shell.execute_reply": "2021-03-05T23:37:19.437495Z"
    },
    "slideshow": {
     "slide_type": "fragment"
    }
   },
   "outputs": [
    {
     "data": {
      "text/plain": [
       "1"
      ]
     },
     "execution_count": 1,
     "metadata": {},
     "output_type": "execute_result"
    }
   ],
   "source": [
    "with Slicer(middle) as slicer:\n",
    "    m = middle(2, 1, 3)\n",
    "m"
   ]
  },
  {
   "cell_type": "markdown",
   "metadata": {
    "slideshow": {
     "slide_type": "fragment"
    }
   },
   "source": [
    "These are the dependencies in string form (used when printed):"
   ]
  },
  {
   "cell_type": "code",
   "execution_count": 190,
   "metadata": {
    "execution": {
     "iopub.execute_input": "2021-03-05T23:37:19.442965Z",
     "iopub.status.busy": "2021-03-05T23:37:19.442331Z",
     "iopub.status.idle": "2021-03-05T23:37:19.447987Z",
     "shell.execute_reply": "2021-03-05T23:37:19.448435Z"
    },
    "slideshow": {
     "slide_type": "fragment"
    }
   },
   "outputs": [
    {
     "name": "stdout",
     "output_type": "stream",
     "text": [
      "middle():\n",
      "    <test> (2) <= z (1), y (1)\n",
      "    <test> (3) <= x (1), y (1); <- <test> (2)\n",
      "    <test> (5) <= x (1), z (1); <- <test> (3)\n",
      "    <middle() return value> (6) <= y (1); <- <test> (5)\n",
      "\n"
     ]
    }
   ],
   "source": [
    "print(slicer.dependencies())"
   ]
  },
  {
   "cell_type": "markdown",
   "metadata": {
    "slideshow": {
     "slide_type": "fragment"
    }
   },
   "source": [
    "This is the code form:"
   ]
  },
  {
   "cell_type": "code",
   "execution_count": 191,
   "metadata": {
    "execution": {
     "iopub.execute_input": "2021-03-05T23:37:19.473056Z",
     "iopub.status.busy": "2021-03-05T23:37:19.452077Z",
     "iopub.status.idle": "2021-03-05T23:37:19.502820Z",
     "shell.execute_reply": "2021-03-05T23:37:19.503316Z"
    },
    "slideshow": {
     "slide_type": "subslide"
    }
   },
   "outputs": [
    {
     "name": "stdout",
     "output_type": "stream",
     "text": [
      "*    1 \u001b[34mdef\u001b[39;49;00m \u001b[32mmiddle\u001b[39;49;00m(x, y, z):  \u001b[37m# type: ignore\u001b[39;49;00m\n",
      "*    2     \u001b[34mif\u001b[39;49;00m y < z:  \u001b[37m# <= z (1), y (1)\u001b[39;49;00m\n",
      "*    3         \u001b[34mif\u001b[39;49;00m x < y:  \u001b[37m# <= x (1), y (1); <- <test> (2)\u001b[39;49;00m\n",
      "     4             \u001b[34mreturn\u001b[39;49;00m y\n",
      "*    5         \u001b[34melif\u001b[39;49;00m x < z:  \u001b[37m# <= x (1), z (1); <- <test> (3)\u001b[39;49;00m\n",
      "*    6             \u001b[34mreturn\u001b[39;49;00m y  \u001b[37m# <= y (1); <- <test> (5)\u001b[39;49;00m\n",
      "     7     \u001b[34melse\u001b[39;49;00m:\n",
      "     8         \u001b[34mif\u001b[39;49;00m x > y:\n",
      "     9             \u001b[34mreturn\u001b[39;49;00m y\n",
      "    10         \u001b[34melif\u001b[39;49;00m x > z:\n",
      "    11             \u001b[34mreturn\u001b[39;49;00m x\n",
      "    12     \u001b[34mreturn\u001b[39;49;00m z\n"
     ]
    }
   ],
   "source": [
    "slicer.code()"
   ]
  },
  {
   "cell_type": "markdown",
   "metadata": {
    "slideshow": {
     "slide_type": "fragment"
    }
   },
   "source": [
    "And this is the graph form:"
   ]
  },
  {
   "cell_type": "code",
   "execution_count": 192,
   "metadata": {
    "execution": {
     "iopub.execute_input": "2021-03-05T23:37:19.509093Z",
     "iopub.status.busy": "2021-03-05T23:37:19.508468Z",
     "iopub.status.idle": "2021-03-05T23:37:20.257106Z",
     "shell.execute_reply": "2021-03-05T23:37:20.257485Z"
    },
    "slideshow": {
     "slide_type": "subslide"
    }
   },
   "outputs": [
    {
     "data": {
      "image/svg+xml": [
       "<?xml version=\"1.0\" encoding=\"UTF-8\" standalone=\"no\"?>\n",
       "<!DOCTYPE svg PUBLIC \"-//W3C//DTD SVG 1.1//EN\"\n",
       " \"http://www.w3.org/Graphics/SVG/1.1/DTD/svg11.dtd\">\n",
       "<!-- Generated by graphviz version 2.40.1 (20161225.0304)\n",
       " -->\n",
       "<!-- Title: dependencies Pages: 1 -->\n",
       "<svg width=\"474pt\" height=\"352pt\"\n",
       " viewBox=\"0.00 0.00 473.67 352.00\" xmlns=\"http://www.w3.org/2000/svg\" xmlns:xlink=\"http://www.w3.org/1999/xlink\">\n",
       "<g id=\"graph0\" class=\"graph\" transform=\"scale(1 1) rotate(0) translate(4 348)\">\n",
       "<title>dependencies</title>\n",
       "<polygon fill=\"#ffffff\" stroke=\"transparent\" points=\"-4,4 -4,-348 469.6674,-348 469.6674,4 -4,4\"/>\n",
       "<!-- x_functionmiddleat0x7fe1d659da60_1 -->\n",
       "<g id=\"node1\" class=\"node\">\n",
       "<title>x_functionmiddleat0x7fe1d659da60_1</title>\n",
       "<g id=\"a_node1\"><a xlink:title=\"middle:1\">\n",
       "<polygon fill=\"#ffdab9\" stroke=\"#000000\" points=\"449,-268 238,-268 238,-228 449,-228 449,-268\"/>\n",
       "<text text-anchor=\"start\" x=\"339\" y=\"-253.8\" font-family=\"Fira Mono, Courier, monospace\" font-weight=\"bold\" font-size=\"14.00\" fill=\"#000000\">x</text>\n",
       "<text text-anchor=\"start\" x=\"246\" y=\"-234.8\" font-family=\"Fira Mono, Courier, monospace\" font-size=\"9.00\" fill=\"#000000\">def middle(x, y, z): &#160;# type: ignore</text>\n",
       "</a>\n",
       "</g>\n",
       "</g>\n",
       "<!-- test_functionmiddleat0x7fe1d659da60_5 -->\n",
       "<g id=\"node4\" class=\"node\">\n",
       "<title>test_functionmiddleat0x7fe1d659da60_5</title>\n",
       "<g id=\"a_node4\"><a xlink:title=\"middle:5\">\n",
       "<polygon fill=\"#ffdab9\" stroke=\"#000000\" points=\"224.5,-116 148.5,-116 148.5,-76 224.5,-76 224.5,-116\"/>\n",
       "<text text-anchor=\"start\" x=\"161\" y=\"-101.8\" font-family=\"Fira Mono, Courier, monospace\" font-weight=\"bold\" font-style=\"italic\" font-size=\"14.00\" fill=\"#000000\">&lt;test&gt;</text>\n",
       "<text text-anchor=\"start\" x=\"156.5\" y=\"-82.8\" font-family=\"Fira Mono, Courier, monospace\" font-size=\"9.00\" fill=\"#000000\">elif x &lt; z:</text>\n",
       "</a>\n",
       "</g>\n",
       "</g>\n",
       "<!-- x_functionmiddleat0x7fe1d659da60_1&#45;&gt;test_functionmiddleat0x7fe1d659da60_5 -->\n",
       "<g id=\"edge6\" class=\"edge\">\n",
       "<title>x_functionmiddleat0x7fe1d659da60_1&#45;&gt;test_functionmiddleat0x7fe1d659da60_5</title>\n",
       "<path fill=\"none\" stroke=\"#000000\" d=\"M322.6516,-227.8156C294.9692,-201.0147 245.9691,-153.5752 214.9183,-123.5132\"/>\n",
       "<polygon fill=\"#000000\" stroke=\"#000000\" points=\"217.0537,-120.7091 207.4346,-116.2679 212.1847,-125.7383 217.0537,-120.7091\"/>\n",
       "</g>\n",
       "<!-- test_functionmiddleat0x7fe1d659da60_3 -->\n",
       "<g id=\"node5\" class=\"node\">\n",
       "<title>test_functionmiddleat0x7fe1d659da60_3</title>\n",
       "<g id=\"a_node5\"><a xlink:title=\"middle:3\">\n",
       "<polygon fill=\"#ffdab9\" stroke=\"#000000\" points=\"220,-192 153,-192 153,-152 220,-152 220,-192\"/>\n",
       "<text text-anchor=\"start\" x=\"161\" y=\"-177.8\" font-family=\"Fira Mono, Courier, monospace\" font-weight=\"bold\" font-style=\"italic\" font-size=\"14.00\" fill=\"#000000\">&lt;test&gt;</text>\n",
       "<text text-anchor=\"start\" x=\"162\" y=\"-158.8\" font-family=\"Fira Mono, Courier, monospace\" font-size=\"9.00\" fill=\"#000000\">if x &lt; y:</text>\n",
       "</a>\n",
       "</g>\n",
       "</g>\n",
       "<!-- x_functionmiddleat0x7fe1d659da60_1&#45;&gt;test_functionmiddleat0x7fe1d659da60_3 -->\n",
       "<g id=\"edge3\" class=\"edge\">\n",
       "<title>x_functionmiddleat0x7fe1d659da60_1&#45;&gt;test_functionmiddleat0x7fe1d659da60_3</title>\n",
       "<path fill=\"none\" stroke=\"#000000\" d=\"M301.8391,-227.8329C279.4031,-216.9722 251.775,-203.5981 229.1841,-192.6623\"/>\n",
       "<polygon fill=\"#000000\" stroke=\"#000000\" points=\"230.686,-189.5009 220.1601,-188.2941 227.636,-195.8015 230.686,-189.5009\"/>\n",
       "</g>\n",
       "<!-- middlereturnvalue_functionmiddleat0x7fe1d659da60_6 -->\n",
       "<g id=\"node2\" class=\"node\">\n",
       "<title>middlereturnvalue_functionmiddleat0x7fe1d659da60_6</title>\n",
       "<g id=\"a_node2\"><a xlink:title=\"middle:6\">\n",
       "<polygon fill=\"#ffdab9\" stroke=\"#000000\" points=\"291.5,-40 81.5,-40 81.5,0 291.5,0 291.5,-40\"/>\n",
       "<text text-anchor=\"start\" x=\"89.5\" y=\"-25.8\" font-family=\"Fira Mono, Courier, monospace\" font-weight=\"bold\" font-style=\"italic\" font-size=\"14.00\" fill=\"#000000\">&lt;middle() return value&gt;</text>\n",
       "<text text-anchor=\"start\" x=\"164.5\" y=\"-6.8\" font-family=\"Fira Mono, Courier, monospace\" font-size=\"9.00\" fill=\"#000000\">return y</text>\n",
       "</a>\n",
       "</g>\n",
       "</g>\n",
       "<!-- y_functionmiddleat0x7fe1d659da60_1 -->\n",
       "<g id=\"node3\" class=\"node\">\n",
       "<title>y_functionmiddleat0x7fe1d659da60_1</title>\n",
       "<g id=\"a_node3\"><a xlink:title=\"middle:1\">\n",
       "<polygon fill=\"#ffdab9\" stroke=\"#000000\" points=\"211,-344 0,-344 0,-304 211,-304 211,-344\"/>\n",
       "<text text-anchor=\"start\" x=\"101\" y=\"-329.8\" font-family=\"Fira Mono, Courier, monospace\" font-weight=\"bold\" font-size=\"14.00\" fill=\"#000000\">y</text>\n",
       "<text text-anchor=\"start\" x=\"8\" y=\"-310.8\" font-family=\"Fira Mono, Courier, monospace\" font-size=\"9.00\" fill=\"#000000\">def middle(x, y, z): &#160;# type: ignore</text>\n",
       "</a>\n",
       "</g>\n",
       "</g>\n",
       "<!-- y_functionmiddleat0x7fe1d659da60_1&#45;&gt;middlereturnvalue_functionmiddleat0x7fe1d659da60_6 -->\n",
       "<g id=\"edge1\" class=\"edge\">\n",
       "<title>y_functionmiddleat0x7fe1d659da60_1&#45;&gt;middlereturnvalue_functionmiddleat0x7fe1d659da60_6</title>\n",
       "<path fill=\"none\" stroke=\"#000000\" d=\"M104.5752,-303.6921C103.3605,-260.0002 104.6299,-154.6654 139.5,-76 143.9826,-65.8875 150.8599,-56.1704 157.9821,-47.7513\"/>\n",
       "<polygon fill=\"#000000\" stroke=\"#000000\" points=\"160.7606,-49.8948 164.8155,-40.1066 155.5416,-45.2297 160.7606,-49.8948\"/>\n",
       "</g>\n",
       "<!-- y_functionmiddleat0x7fe1d659da60_1&#45;&gt;test_functionmiddleat0x7fe1d659da60_3 -->\n",
       "<g id=\"edge4\" class=\"edge\">\n",
       "<title>y_functionmiddleat0x7fe1d659da60_1&#45;&gt;test_functionmiddleat0x7fe1d659da60_3</title>\n",
       "<path fill=\"none\" stroke=\"#000000\" d=\"M111.6772,-303.7746C118.1871,-283.8201 129.4409,-252.7916 143.5,-228 148.9528,-218.3845 155.8999,-208.5944 162.6118,-199.9458\"/>\n",
       "<polygon fill=\"#000000\" stroke=\"#000000\" points=\"165.4143,-202.0453 168.9184,-192.0466 159.9439,-197.6777 165.4143,-202.0453\"/>\n",
       "</g>\n",
       "<!-- test_functionmiddleat0x7fe1d659da60_2 -->\n",
       "<g id=\"node6\" class=\"node\">\n",
       "<title>test_functionmiddleat0x7fe1d659da60_2</title>\n",
       "<g id=\"a_node6\"><a xlink:title=\"middle:2\">\n",
       "<polygon fill=\"#ffdab9\" stroke=\"#000000\" points=\"220,-268 153,-268 153,-228 220,-228 220,-268\"/>\n",
       "<text text-anchor=\"start\" x=\"161\" y=\"-253.8\" font-family=\"Fira Mono, Courier, monospace\" font-weight=\"bold\" font-style=\"italic\" font-size=\"14.00\" fill=\"#000000\">&lt;test&gt;</text>\n",
       "<text text-anchor=\"start\" x=\"162\" y=\"-234.8\" font-family=\"Fira Mono, Courier, monospace\" font-size=\"9.00\" fill=\"#000000\">if y &lt; z:</text>\n",
       "</a>\n",
       "</g>\n",
       "</g>\n",
       "<!-- y_functionmiddleat0x7fe1d659da60_1&#45;&gt;test_functionmiddleat0x7fe1d659da60_2 -->\n",
       "<g id=\"edge10\" class=\"edge\">\n",
       "<title>y_functionmiddleat0x7fe1d659da60_1&#45;&gt;test_functionmiddleat0x7fe1d659da60_2</title>\n",
       "<path fill=\"none\" stroke=\"#000000\" d=\"M127.2065,-303.6334C136.5422,-294.8739 147.5898,-284.5083 157.6037,-275.1125\"/>\n",
       "<polygon fill=\"#000000\" stroke=\"#000000\" points=\"160.1167,-277.5541 165.0144,-268.1593 155.327,-272.4493 160.1167,-277.5541\"/>\n",
       "</g>\n",
       "<!-- test_functionmiddleat0x7fe1d659da60_5&#45;&gt;middlereturnvalue_functionmiddleat0x7fe1d659da60_6 -->\n",
       "<g id=\"edge2\" class=\"edge\">\n",
       "<title>test_functionmiddleat0x7fe1d659da60_5&#45;&gt;middlereturnvalue_functionmiddleat0x7fe1d659da60_6</title>\n",
       "<path fill=\"none\" stroke=\"#c0c0c0\" stroke-dasharray=\"5,2\" d=\"M180.4426,-75.6334C179.7819,-67.8186 179.5939,-58.7253 179.8786,-50.183\"/>\n",
       "<polygon fill=\"#c0c0c0\" stroke=\"#c0c0c0\" points=\"183.375,-50.3453 180.4602,-40.1593 176.3867,-49.9397 183.375,-50.3453\"/>\n",
       "</g>\n",
       "<!-- test_functionmiddleat0x7fe1d659da60_5&#45;&gt;middlereturnvalue_functionmiddleat0x7fe1d659da60_6 -->\n",
       "<!-- test_functionmiddleat0x7fe1d659da60_3&#45;&gt;test_functionmiddleat0x7fe1d659da60_5 -->\n",
       "<g id=\"edge8\" class=\"edge\">\n",
       "<title>test_functionmiddleat0x7fe1d659da60_3&#45;&gt;test_functionmiddleat0x7fe1d659da60_5</title>\n",
       "<path fill=\"none\" stroke=\"#c0c0c0\" stroke-dasharray=\"5,2\" d=\"M180.4426,-151.6334C179.7819,-143.8186 179.5939,-134.7253 179.8786,-126.183\"/>\n",
       "<polygon fill=\"#c0c0c0\" stroke=\"#c0c0c0\" points=\"183.375,-126.3453 180.4602,-116.1593 176.3867,-125.9397 183.375,-126.3453\"/>\n",
       "</g>\n",
       "<!-- test_functionmiddleat0x7fe1d659da60_3&#45;&gt;test_functionmiddleat0x7fe1d659da60_5 -->\n",
       "<!-- test_functionmiddleat0x7fe1d659da60_2&#45;&gt;test_functionmiddleat0x7fe1d659da60_3 -->\n",
       "<g id=\"edge5\" class=\"edge\">\n",
       "<title>test_functionmiddleat0x7fe1d659da60_2&#45;&gt;test_functionmiddleat0x7fe1d659da60_3</title>\n",
       "<path fill=\"none\" stroke=\"#c0c0c0\" stroke-dasharray=\"5,2\" d=\"M180.4426,-227.6334C179.7819,-219.8186 179.5939,-210.7253 179.8786,-202.183\"/>\n",
       "<polygon fill=\"#c0c0c0\" stroke=\"#c0c0c0\" points=\"183.375,-202.3453 180.4602,-192.1593 176.3867,-201.9397 183.375,-202.3453\"/>\n",
       "</g>\n",
       "<!-- test_functionmiddleat0x7fe1d659da60_2&#45;&gt;test_functionmiddleat0x7fe1d659da60_3 -->\n",
       "<!-- z_functionmiddleat0x7fe1d659da60_1 -->\n",
       "<g id=\"node7\" class=\"node\">\n",
       "<title>z_functionmiddleat0x7fe1d659da60_1</title>\n",
       "<g id=\"a_node7\"><a xlink:title=\"middle:1\">\n",
       "<polygon fill=\"#ffdab9\" stroke=\"#000000\" points=\"440,-344 229,-344 229,-304 440,-304 440,-344\"/>\n",
       "<text text-anchor=\"start\" x=\"330\" y=\"-329.8\" font-family=\"Fira Mono, Courier, monospace\" font-weight=\"bold\" font-size=\"14.00\" fill=\"#000000\">z</text>\n",
       "<text text-anchor=\"start\" x=\"237\" y=\"-310.8\" font-family=\"Fira Mono, Courier, monospace\" font-size=\"9.00\" fill=\"#000000\">def middle(x, y, z): &#160;# type: ignore</text>\n",
       "</a>\n",
       "</g>\n",
       "</g>\n",
       "<!-- z_functionmiddleat0x7fe1d659da60_1&#45;&gt;test_functionmiddleat0x7fe1d659da60_5 -->\n",
       "<g id=\"edge7\" class=\"edge\">\n",
       "<title>z_functionmiddleat0x7fe1d659da60_1&#45;&gt;test_functionmiddleat0x7fe1d659da60_5</title>\n",
       "<path fill=\"none\" stroke=\"#000000\" d=\"M414.2436,-303.9575C431.6967,-295.7246 448.0579,-284.1734 458.5,-268 468.1428,-253.0646 467.9356,-243.0671 458.5,-228 409.3138,-149.4581 298.5976,-116.4672 234.6168,-103.5549\"/>\n",
       "<polygon fill=\"#000000\" stroke=\"#000000\" points=\"235.2486,-100.1123 224.7661,-101.6511 233.9202,-106.9851 235.2486,-100.1123\"/>\n",
       "</g>\n",
       "<!-- z_functionmiddleat0x7fe1d659da60_1&#45;&gt;test_functionmiddleat0x7fe1d659da60_2 -->\n",
       "<g id=\"edge9\" class=\"edge\">\n",
       "<title>z_functionmiddleat0x7fe1d659da60_1&#45;&gt;test_functionmiddleat0x7fe1d659da60_2</title>\n",
       "<path fill=\"none\" stroke=\"#000000\" d=\"M289.1868,-303.8329C269.9777,-294.3851 247.7594,-283.0352 228.8798,-273.0432\"/>\n",
       "<polygon fill=\"#000000\" stroke=\"#000000\" points=\"230.3788,-269.876 219.9077,-268.2613 227.0864,-276.0534 230.3788,-269.876\"/>\n",
       "</g>\n",
       "<!-- z_functionmiddleat0x7fe1d659da60_1&#45;&gt;test_functionmiddleat0x7fe1d659da60_2 -->\n",
       "</g>\n",
       "</svg>\n"
      ],
      "text/plain": [
       "<__main__.Slicer at 0x7fe1d6cc8ef0>"
      ]
     },
     "execution_count": 1,
     "metadata": {},
     "output_type": "execute_result"
    }
   ],
   "source": [
    "slicer"
   ]
  },
  {
   "cell_type": "markdown",
   "metadata": {
    "slideshow": {
     "slide_type": "fragment"
    }
   },
   "source": [
    "You can also access the raw `repr()` form, which allows you to reconstruct dependencies at any time. (This is how we showed off dependencies at the beginning of this chapter, before even introducing the code that computes them.)"
   ]
  },
  {
   "cell_type": "code",
   "execution_count": 193,
   "metadata": {
    "execution": {
     "iopub.execute_input": "2021-03-05T23:37:20.261420Z",
     "iopub.status.busy": "2021-03-05T23:37:20.260878Z",
     "iopub.status.idle": "2021-03-05T23:37:20.265147Z",
     "shell.execute_reply": "2021-03-05T23:37:20.265516Z"
    },
    "slideshow": {
     "slide_type": "subslide"
    }
   },
   "outputs": [
    {
     "name": "stdout",
     "output_type": "stream",
     "text": [
      "Dependencies(\n",
      "    data={\n",
      "        ('x', (middle, 1)): set(),\n",
      "        ('y', (middle, 1)): set(),\n",
      "        ('z', (middle, 1)): set(),\n",
      "        ('<test>', (middle, 2)): {('z', (middle, 1)), ('y', (middle, 1))},\n",
      "        ('<test>', (middle, 3)): {('x', (middle, 1)), ('y', (middle, 1))},\n",
      "        ('<test>', (middle, 5)): {('x', (middle, 1)), ('z', (middle, 1))},\n",
      "        ('<middle() return value>', (middle, 6)): {('y', (middle, 1))}},\n",
      " control={\n",
      "        ('x', (middle, 1)): set(),\n",
      "        ('y', (middle, 1)): set(),\n",
      "        ('z', (middle, 1)): set(),\n",
      "        ('<test>', (middle, 2)): set(),\n",
      "        ('<test>', (middle, 3)): {('<test>', (middle, 2))},\n",
      "        ('<test>', (middle, 5)): {('<test>', (middle, 3))},\n",
      "        ('<middle() return value>', (middle, 6)): {('<test>', (middle, 5))}})\n"
     ]
    }
   ],
   "source": [
    "print(repr(slicer.dependencies()))"
   ]
  },
  {
   "cell_type": "markdown",
   "metadata": {
    "slideshow": {
     "slide_type": "subslide"
    }
   },
   "source": [
    "### Diagnostics"
   ]
  },
  {
   "cell_type": "markdown",
   "metadata": {
    "slideshow": {
     "slide_type": "fragment"
    }
   },
   "source": [
    "The `Slicer` constructor accepts a `log` argument (default: False), which can be set to show various intermediate results:\n",
    "\n",
    "* `log=True` (or `log=1`): Show instrumented source code\n",
    "* `log=2`: Also log execution\n",
    "* `log=3`: Also log individual transformer steps\n",
    "* `log=4`: Also log source line numbers"
   ]
  },
  {
   "cell_type": "markdown",
   "metadata": {
    "slideshow": {
     "slide_type": "slide"
    }
   },
   "source": [
    "## More Examples"
   ]
  },
  {
   "cell_type": "markdown",
   "metadata": {
    "slideshow": {
     "slide_type": "fragment"
    }
   },
   "source": [
    "Let us demonstrate our `Slicer` class on a few more examples."
   ]
  },
  {
   "cell_type": "markdown",
   "metadata": {
    "slideshow": {
     "slide_type": "subslide"
    }
   },
   "source": [
    "### Square Root"
   ]
  },
  {
   "cell_type": "markdown",
   "metadata": {
    "slideshow": {
     "slide_type": "fragment"
    }
   },
   "source": [
    "The `square_root()` function from [the chapter on assertions](Assertions.ipynb) demonstrates a nice interplay between data and control dependencies."
   ]
  },
  {
   "cell_type": "code",
   "execution_count": 194,
   "metadata": {
    "execution": {
     "iopub.execute_input": "2021-03-05T23:37:20.268886Z",
     "iopub.status.busy": "2021-03-05T23:37:20.268359Z",
     "iopub.status.idle": "2021-03-05T23:37:20.270000Z",
     "shell.execute_reply": "2021-03-05T23:37:20.270368Z"
    },
    "slideshow": {
     "slide_type": "skip"
    }
   },
   "outputs": [],
   "source": [
    "import math"
   ]
  },
  {
   "cell_type": "code",
   "execution_count": 195,
   "metadata": {
    "execution": {
     "iopub.execute_input": "2021-03-05T23:37:20.273340Z",
     "iopub.status.busy": "2021-03-05T23:37:20.272785Z",
     "iopub.status.idle": "2021-03-05T23:37:20.274390Z",
     "shell.execute_reply": "2021-03-05T23:37:20.274767Z"
    },
    "slideshow": {
     "slide_type": "skip"
    }
   },
   "outputs": [],
   "source": [
    "from Assertions import square_root  # minor dependency"
   ]
  },
  {
   "cell_type": "markdown",
   "metadata": {
    "slideshow": {
     "slide_type": "fragment"
    }
   },
   "source": [
    "Here is the original source code:"
   ]
  },
  {
   "cell_type": "code",
   "execution_count": 196,
   "metadata": {
    "execution": {
     "iopub.execute_input": "2021-03-05T23:37:20.283587Z",
     "iopub.status.busy": "2021-03-05T23:37:20.283026Z",
     "iopub.status.idle": "2021-03-05T23:37:20.284977Z",
     "shell.execute_reply": "2021-03-05T23:37:20.285350Z"
    },
    "slideshow": {
     "slide_type": "subslide"
    }
   },
   "outputs": [
    {
     "name": "stdout",
     "output_type": "stream",
     "text": [
      "\u001b[34mdef\u001b[39;49;00m \u001b[32msquare_root\u001b[39;49;00m(x):  \u001b[37m# type: ignore\u001b[39;49;00m\n",
      "    \u001b[34massert\u001b[39;49;00m x >= \u001b[34m0\u001b[39;49;00m  \u001b[37m# precondition\u001b[39;49;00m\n",
      "\n",
      "    approx = \u001b[34mNone\u001b[39;49;00m\n",
      "    guess = x / \u001b[34m2\u001b[39;49;00m\n",
      "    \u001b[34mwhile\u001b[39;49;00m approx != guess:\n",
      "        approx = guess\n",
      "        guess = (approx + x / approx) / \u001b[34m2\u001b[39;49;00m\n",
      "\n",
      "    \u001b[34massert\u001b[39;49;00m math.isclose(approx * approx, x)\n",
      "    \u001b[34mreturn\u001b[39;49;00m approx"
     ]
    }
   ],
   "source": [
    "print_content(inspect.getsource(square_root), '.py')"
   ]
  },
  {
   "cell_type": "markdown",
   "metadata": {
    "slideshow": {
     "slide_type": "fragment"
    }
   },
   "source": [
    "Turning on logging shows the instrumented version:"
   ]
  },
  {
   "cell_type": "code",
   "execution_count": 197,
   "metadata": {
    "execution": {
     "iopub.execute_input": "2021-03-05T23:37:20.302794Z",
     "iopub.status.busy": "2021-03-05T23:37:20.302251Z",
     "iopub.status.idle": "2021-03-05T23:37:20.304487Z",
     "shell.execute_reply": "2021-03-05T23:37:20.304860Z"
    },
    "slideshow": {
     "slide_type": "subslide"
    }
   },
   "outputs": [
    {
     "name": "stdout",
     "output_type": "stream",
     "text": [
      "Instrumenting <function square_root at 0x7fe1d6697d90>\n",
      "\u001b[34mdef\u001b[39;49;00m \u001b[32msquare_root\u001b[39;49;00m(x):\n",
      "    _data.param(\u001b[33m'\u001b[39;49;00m\u001b[33mx\u001b[39;49;00m\u001b[33m'\u001b[39;49;00m, x, pos=\u001b[34m1\u001b[39;49;00m, last=\u001b[34mTrue\u001b[39;49;00m)\n",
      "    \u001b[34massert\u001b[39;49;00m _data.get(\u001b[33m'\u001b[39;49;00m\u001b[33mx\u001b[39;49;00m\u001b[33m'\u001b[39;49;00m, x) >= \u001b[34m0\u001b[39;49;00m\n",
      "    approx = _data.set(\u001b[33m'\u001b[39;49;00m\u001b[33mapprox\u001b[39;49;00m\u001b[33m'\u001b[39;49;00m, \u001b[34mNone\u001b[39;49;00m)\n",
      "    guess = _data.set(\u001b[33m'\u001b[39;49;00m\u001b[33mguess\u001b[39;49;00m\u001b[33m'\u001b[39;49;00m, _data.get(\u001b[33m'\u001b[39;49;00m\u001b[33mx\u001b[39;49;00m\u001b[33m'\u001b[39;49;00m, x) / \u001b[34m2\u001b[39;49;00m)\n",
      "    \u001b[34mwhile\u001b[39;49;00m _data.test(_data.get(\u001b[33m'\u001b[39;49;00m\u001b[33mapprox\u001b[39;49;00m\u001b[33m'\u001b[39;49;00m, approx) != _data.get(\u001b[33m'\u001b[39;49;00m\u001b[33mguess\u001b[39;49;00m\u001b[33m'\u001b[39;49;00m, guess)):\n",
      "        \u001b[34mwith\u001b[39;49;00m _data:\n",
      "            approx = _data.set(\u001b[33m'\u001b[39;49;00m\u001b[33mapprox\u001b[39;49;00m\u001b[33m'\u001b[39;49;00m, _data.get(\u001b[33m'\u001b[39;49;00m\u001b[33mguess\u001b[39;49;00m\u001b[33m'\u001b[39;49;00m, guess))\n",
      "            guess = _data.set(\u001b[33m'\u001b[39;49;00m\u001b[33mguess\u001b[39;49;00m\u001b[33m'\u001b[39;49;00m, (_data.get(\u001b[33m'\u001b[39;49;00m\u001b[33mapprox\u001b[39;49;00m\u001b[33m'\u001b[39;49;00m, approx) + _data\n",
      "                .get(\u001b[33m'\u001b[39;49;00m\u001b[33mx\u001b[39;49;00m\u001b[33m'\u001b[39;49;00m, x) / _data.get(\u001b[33m'\u001b[39;49;00m\u001b[33mapprox\u001b[39;49;00m\u001b[33m'\u001b[39;49;00m, approx)) / \u001b[34m2\u001b[39;49;00m)\n",
      "    \u001b[34massert\u001b[39;49;00m _data.ret(_data.call(_data.get(\u001b[33m'\u001b[39;49;00m\u001b[33mmath\u001b[39;49;00m\u001b[33m'\u001b[39;49;00m, math).isclose)(_data.arg(\n",
      "        _data.get(\u001b[33m'\u001b[39;49;00m\u001b[33mapprox\u001b[39;49;00m\u001b[33m'\u001b[39;49;00m, approx) * _data.get(\u001b[33m'\u001b[39;49;00m\u001b[33mapprox\u001b[39;49;00m\u001b[33m'\u001b[39;49;00m, approx), pos=\u001b[34m1\u001b[39;49;00m),\n",
      "        _data.arg(_data.get(\u001b[33m'\u001b[39;49;00m\u001b[33mx\u001b[39;49;00m\u001b[33m'\u001b[39;49;00m, x), pos=\u001b[34m2\u001b[39;49;00m)))\n",
      "    \u001b[34mreturn\u001b[39;49;00m _data.set(\u001b[33m'\u001b[39;49;00m\u001b[33m<square_root() return value>\u001b[39;49;00m\u001b[33m'\u001b[39;49;00m, _data.get(\u001b[33m'\u001b[39;49;00m\u001b[33mapprox\u001b[39;49;00m\u001b[33m'\u001b[39;49;00m,\n",
      "        approx))\n",
      "\n"
     ]
    }
   ],
   "source": [
    "with Slicer(square_root, log=True) as root_slicer:\n",
    "    y = square_root(2.0)"
   ]
  },
  {
   "cell_type": "markdown",
   "metadata": {
    "slideshow": {
     "slide_type": "subslide"
    }
   },
   "source": [
    "The dependency graph shows how `guess` and `approx` flow into each other until they are the same."
   ]
  },
  {
   "cell_type": "code",
   "execution_count": 198,
   "metadata": {
    "execution": {
     "iopub.execute_input": "2021-03-05T23:37:20.312782Z",
     "iopub.status.busy": "2021-03-05T23:37:20.312258Z",
     "iopub.status.idle": "2021-03-05T23:37:21.063505Z",
     "shell.execute_reply": "2021-03-05T23:37:21.063897Z"
    },
    "slideshow": {
     "slide_type": "fragment"
    }
   },
   "outputs": [
    {
     "data": {
      "image/svg+xml": [
       "<?xml version=\"1.0\" encoding=\"UTF-8\" standalone=\"no\"?>\n",
       "<!DOCTYPE svg PUBLIC \"-//W3C//DTD SVG 1.1//EN\"\n",
       " \"http://www.w3.org/Graphics/SVG/1.1/DTD/svg11.dtd\">\n",
       "<!-- Generated by graphviz version 2.40.1 (20161225.0304)\n",
       " -->\n",
       "<!-- Title: dependencies Pages: 1 -->\n",
       "<svg width=\"495pt\" height=\"428pt\"\n",
       " viewBox=\"0.00 0.00 494.50 428.00\" xmlns=\"http://www.w3.org/2000/svg\" xmlns:xlink=\"http://www.w3.org/1999/xlink\">\n",
       "<g id=\"graph0\" class=\"graph\" transform=\"scale(1 1) rotate(0) translate(4 424)\">\n",
       "<title>dependencies</title>\n",
       "<polygon fill=\"#ffffff\" stroke=\"transparent\" points=\"-4,4 -4,-424 490.5,-424 490.5,4 -4,4\"/>\n",
       "<!-- approx_functionsquare_rootat0x7fe1d659d048_60 -->\n",
       "<g id=\"node1\" class=\"node\">\n",
       "<title>approx_functionsquare_rootat0x7fe1d659d048_60</title>\n",
       "<g id=\"a_node1\"><a xlink:title=\"square_root:60\">\n",
       "<polygon fill=\"#ffdab9\" stroke=\"#000000\" points=\"209.5,-192 117.5,-192 117.5,-152 209.5,-152 209.5,-192\"/>\n",
       "<text text-anchor=\"start\" x=\"138\" y=\"-177.8\" font-family=\"Fira Mono, Courier, monospace\" font-weight=\"bold\" font-size=\"14.00\" fill=\"#000000\">approx</text>\n",
       "<text text-anchor=\"start\" x=\"125.5\" y=\"-158.8\" font-family=\"Fira Mono, Courier, monospace\" font-size=\"9.00\" fill=\"#000000\">approx = guess</text>\n",
       "</a>\n",
       "</g>\n",
       "</g>\n",
       "<!-- guess_functionsquare_rootat0x7fe1d659d048_61 -->\n",
       "<g id=\"node2\" class=\"node\">\n",
       "<title>guess_functionsquare_rootat0x7fe1d659d048_61</title>\n",
       "<g id=\"a_node2\"><a xlink:title=\"square_root:61\">\n",
       "<polygon fill=\"#ffdab9\" stroke=\"#000000\" points=\"361,-116 166,-116 166,-76 361,-76 361,-116\"/>\n",
       "<text text-anchor=\"start\" x=\"242\" y=\"-101.8\" font-family=\"Fira Mono, Courier, monospace\" font-weight=\"bold\" font-size=\"14.00\" fill=\"#000000\">guess</text>\n",
       "<text text-anchor=\"start\" x=\"174\" y=\"-82.8\" font-family=\"Fira Mono, Courier, monospace\" font-size=\"9.00\" fill=\"#000000\">guess = (approx + x / approx) / 2</text>\n",
       "</a>\n",
       "</g>\n",
       "</g>\n",
       "<!-- approx_functionsquare_rootat0x7fe1d659d048_60&#45;&gt;guess_functionsquare_rootat0x7fe1d659d048_61 -->\n",
       "<g id=\"edge10\" class=\"edge\">\n",
       "<title>approx_functionsquare_rootat0x7fe1d659d048_60&#45;&gt;guess_functionsquare_rootat0x7fe1d659d048_61</title>\n",
       "<path fill=\"none\" stroke=\"#000000\" d=\"M178.1833,-151.6334C188.6218,-142.5304 202.6253,-131.6928 216.3897,-122.0118\"/>\n",
       "<polygon fill=\"#000000\" stroke=\"#000000\" points=\"218.6409,-124.7113 224.895,-116.1593 214.6729,-118.9446 218.6409,-124.7113\"/>\n",
       "</g>\n",
       "<!-- approx_functionsquare_rootat0x7fe1d659d048_60&#45;&gt;guess_functionsquare_rootat0x7fe1d659d048_61 -->\n",
       "<!-- test_functionsquare_rootat0x7fe1d659d048_59 -->\n",
       "<g id=\"node4\" class=\"node\">\n",
       "<title>test_functionsquare_rootat0x7fe1d659d048_59</title>\n",
       "<g id=\"a_node4\"><a xlink:title=\"square_root:59\">\n",
       "<polygon fill=\"#ffdab9\" stroke=\"#000000\" points=\"187,-40 52,-40 52,0 187,0 187,-40\"/>\n",
       "<text text-anchor=\"start\" x=\"94\" y=\"-25.8\" font-family=\"Fira Mono, Courier, monospace\" font-weight=\"bold\" font-style=\"italic\" font-size=\"14.00\" fill=\"#000000\">&lt;test&gt;</text>\n",
       "<text text-anchor=\"start\" x=\"60\" y=\"-6.8\" font-family=\"Fira Mono, Courier, monospace\" font-size=\"9.00\" fill=\"#000000\">while approx != guess:</text>\n",
       "</a>\n",
       "</g>\n",
       "</g>\n",
       "<!-- approx_functionsquare_rootat0x7fe1d659d048_60&#45;&gt;test_functionsquare_rootat0x7fe1d659d048_59 -->\n",
       "<g id=\"edge4\" class=\"edge\">\n",
       "<title>approx_functionsquare_rootat0x7fe1d659d048_60&#45;&gt;test_functionsquare_rootat0x7fe1d659d048_59</title>\n",
       "<path fill=\"none\" stroke=\"#000000\" d=\"M148.1371,-151.8156C135.8667,-125.8097 122.2092,-80.3713 117.219,-50.2331\"/>\n",
       "<polygon fill=\"#000000\" stroke=\"#000000\" points=\"120.6772,-49.6898 115.8318,-40.2679 113.7441,-50.655 120.6772,-49.6898\"/>\n",
       "</g>\n",
       "<!-- square_rootreturnvalue_functionsquare_rootat0x7fe1d659d048_64 -->\n",
       "<g id=\"node7\" class=\"node\">\n",
       "<title>square_rootreturnvalue_functionsquare_rootat0x7fe1d659d048_64</title>\n",
       "<g id=\"a_node7\"><a xlink:title=\"square_root:64\">\n",
       "<polygon fill=\"#ffdab9\" stroke=\"#000000\" points=\"486.5,-40 234.5,-40 234.5,0 486.5,0 486.5,-40\"/>\n",
       "<text text-anchor=\"start\" x=\"242.5\" y=\"-25.8\" font-family=\"Fira Mono, Courier, monospace\" font-weight=\"bold\" font-style=\"italic\" font-size=\"14.00\" fill=\"#000000\">&lt;square_root() return value&gt;</text>\n",
       "<text text-anchor=\"start\" x=\"325\" y=\"-6.8\" font-family=\"Fira Mono, Courier, monospace\" font-size=\"9.00\" fill=\"#000000\">return approx</text>\n",
       "</a>\n",
       "</g>\n",
       "</g>\n",
       "<!-- approx_functionsquare_rootat0x7fe1d659d048_60&#45;&gt;square_rootreturnvalue_functionsquare_rootat0x7fe1d659d048_64 -->\n",
       "<g id=\"edge9\" class=\"edge\">\n",
       "<title>approx_functionsquare_rootat0x7fe1d659d048_60&#45;&gt;square_rootreturnvalue_functionsquare_rootat0x7fe1d659d048_64</title>\n",
       "<path fill=\"none\" stroke=\"#000000\" d=\"M209.9282,-166.0099C264.7899,-157.8678 351.0963,-141.3505 370.5,-116 384.7668,-97.3607 380.4265,-70.3765 373.5705,-49.7605\"/>\n",
       "<polygon fill=\"#000000\" stroke=\"#000000\" points=\"376.8,-48.4012 370.0732,-40.2159 370.2274,-50.8096 376.8,-48.4012\"/>\n",
       "</g>\n",
       "<!-- guess_functionsquare_rootat0x7fe1d659d048_61&#45;&gt;approx_functionsquare_rootat0x7fe1d659d048_60 -->\n",
       "<g id=\"edge1\" class=\"edge\">\n",
       "<title>guess_functionsquare_rootat0x7fe1d659d048_61&#45;&gt;approx_functionsquare_rootat0x7fe1d659d048_60</title>\n",
       "<path fill=\"none\" stroke=\"#000000\" d=\"M236.8404,-116.2613C224.9583,-125.2917 210.8088,-136.0453 198.1225,-145.6869\"/>\n",
       "<polygon fill=\"#000000\" stroke=\"#000000\" points=\"195.8795,-142.9955 190.0356,-151.8329 200.1151,-148.5686 195.8795,-142.9955\"/>\n",
       "</g>\n",
       "<!-- guess_functionsquare_rootat0x7fe1d659d048_61&#45;&gt;test_functionsquare_rootat0x7fe1d659d048_59 -->\n",
       "<g id=\"edge5\" class=\"edge\">\n",
       "<title>guess_functionsquare_rootat0x7fe1d659d048_61&#45;&gt;test_functionsquare_rootat0x7fe1d659d048_59</title>\n",
       "<path fill=\"none\" stroke=\"#000000\" d=\"M219.2482,-75.8329C200.6214,-66.428 179.1119,-55.1384 160.8123,-45.1795\"/>\n",
       "<polygon fill=\"#000000\" stroke=\"#000000\" points=\"162.2926,-41.9996 151.8413,-40.2613 158.9275,-48.1377 162.2926,-41.9996\"/>\n",
       "</g>\n",
       "<!-- guess_functionsquare_rootat0x7fe1d659d048_61&#45;&gt;square_rootreturnvalue_functionsquare_rootat0x7fe1d659d048_64 -->\n",
       "<!-- guess_functionsquare_rootat0x7fe1d659d048_58 -->\n",
       "<g id=\"node3\" class=\"node\">\n",
       "<title>guess_functionsquare_rootat0x7fe1d659d048_58</title>\n",
       "<g id=\"a_node3\"><a xlink:title=\"square_root:58\">\n",
       "<polygon fill=\"#ffdab9\" stroke=\"#000000\" points=\"123,-268 36,-268 36,-228 123,-228 123,-268\"/>\n",
       "<text text-anchor=\"start\" x=\"58\" y=\"-253.8\" font-family=\"Fira Mono, Courier, monospace\" font-weight=\"bold\" font-size=\"14.00\" fill=\"#000000\">guess</text>\n",
       "<text text-anchor=\"start\" x=\"44\" y=\"-234.8\" font-family=\"Fira Mono, Courier, monospace\" font-size=\"9.00\" fill=\"#000000\">guess = x / 2</text>\n",
       "</a>\n",
       "</g>\n",
       "</g>\n",
       "<!-- guess_functionsquare_rootat0x7fe1d659d048_58&#45;&gt;approx_functionsquare_rootat0x7fe1d659d048_60 -->\n",
       "<g id=\"edge2\" class=\"edge\">\n",
       "<title>guess_functionsquare_rootat0x7fe1d659d048_58&#45;&gt;approx_functionsquare_rootat0x7fe1d659d048_60</title>\n",
       "<path fill=\"none\" stroke=\"#000000\" d=\"M102.0105,-227.6334C111.692,-218.8739 123.1487,-208.5083 133.5335,-199.1125\"/>\n",
       "<polygon fill=\"#000000\" stroke=\"#000000\" points=\"136.1515,-201.4638 141.2187,-192.1593 131.4551,-196.2731 136.1515,-201.4638\"/>\n",
       "</g>\n",
       "<!-- guess_functionsquare_rootat0x7fe1d659d048_58&#45;&gt;test_functionsquare_rootat0x7fe1d659d048_59 -->\n",
       "<g id=\"edge6\" class=\"edge\">\n",
       "<title>guess_functionsquare_rootat0x7fe1d659d048_58&#45;&gt;test_functionsquare_rootat0x7fe1d659d048_59</title>\n",
       "<path fill=\"none\" stroke=\"#000000\" d=\"M79.0028,-227.7665C82.7079,-187.5418 98.2975,-97.3439 109.4644,-50.1241\"/>\n",
       "<polygon fill=\"#000000\" stroke=\"#000000\" points=\"112.9184,-50.7353 111.9151,-40.1881 106.1221,-49.059 112.9184,-50.7353\"/>\n",
       "</g>\n",
       "<!-- guess_functionsquare_rootat0x7fe1d659d048_58&#45;&gt;test_functionsquare_rootat0x7fe1d659d048_59 -->\n",
       "<!-- test_functionsquare_rootat0x7fe1d659d048_59&#45;&gt;approx_functionsquare_rootat0x7fe1d659d048_60 -->\n",
       "<g id=\"edge3\" class=\"edge\">\n",
       "<title>test_functionsquare_rootat0x7fe1d659d048_59&#45;&gt;approx_functionsquare_rootat0x7fe1d659d048_60</title>\n",
       "<path fill=\"none\" stroke=\"#c0c0c0\" stroke-dasharray=\"5,2\" d=\"M125.367,-40.2679C132.9071,-66.3153 146.0616,-111.7581 154.7763,-141.8635\"/>\n",
       "<polygon fill=\"#c0c0c0\" stroke=\"#c0c0c0\" points=\"151.5145,-143.1832 157.6571,-151.8156 158.2385,-141.2367 151.5145,-143.1832\"/>\n",
       "</g>\n",
       "<!-- test_functionsquare_rootat0x7fe1d659d048_59&#45;&gt;approx_functionsquare_rootat0x7fe1d659d048_60 -->\n",
       "<!-- test_functionsquare_rootat0x7fe1d659d048_59&#45;&gt;guess_functionsquare_rootat0x7fe1d659d048_61 -->\n",
       "<g id=\"edge12\" class=\"edge\">\n",
       "<title>test_functionsquare_rootat0x7fe1d659d048_59&#45;&gt;guess_functionsquare_rootat0x7fe1d659d048_61</title>\n",
       "<path fill=\"none\" stroke=\"#c0c0c0\" stroke-dasharray=\"5,2\" d=\"M163.677,-40.1293C182.3706,-49.5668 203.9782,-60.9084 222.3338,-70.9\"/>\n",
       "<polygon fill=\"#c0c0c0\" stroke=\"#c0c0c0\" points=\"220.8781,-74.0934 231.3292,-75.8329 224.244,-67.9557 220.8781,-74.0934\"/>\n",
       "</g>\n",
       "<!-- approx_functionsquare_rootat0x7fe1d659d048_57 -->\n",
       "<g id=\"node5\" class=\"node\">\n",
       "<title>approx_functionsquare_rootat0x7fe1d659d048_57</title>\n",
       "<g id=\"a_node5\"><a xlink:title=\"square_root:57\">\n",
       "<polygon fill=\"#ffdab9\" stroke=\"#000000\" points=\"87,-344 0,-344 0,-304 87,-304 87,-344\"/>\n",
       "<text text-anchor=\"start\" x=\"18\" y=\"-329.8\" font-family=\"Fira Mono, Courier, monospace\" font-weight=\"bold\" font-size=\"14.00\" fill=\"#000000\">approx</text>\n",
       "<text text-anchor=\"start\" x=\"8\" y=\"-310.8\" font-family=\"Fira Mono, Courier, monospace\" font-size=\"9.00\" fill=\"#000000\">approx = None</text>\n",
       "</a>\n",
       "</g>\n",
       "</g>\n",
       "<!-- approx_functionsquare_rootat0x7fe1d659d048_57&#45;&gt;guess_functionsquare_rootat0x7fe1d659d048_58 -->\n",
       "<!-- approx_functionsquare_rootat0x7fe1d659d048_57&#45;&gt;test_functionsquare_rootat0x7fe1d659d048_59 -->\n",
       "<g id=\"edge7\" class=\"edge\">\n",
       "<title>approx_functionsquare_rootat0x7fe1d659d048_57&#45;&gt;test_functionsquare_rootat0x7fe1d659d048_59</title>\n",
       "<path fill=\"none\" stroke=\"#000000\" d=\"M35.3513,-303.6933C28.6049,-284.2076 20.9546,-253.9887 26.5,-228 40.9434,-160.3111 79.0884,-87.9831 101.7882,-48.9786\"/>\n",
       "<polygon fill=\"#000000\" stroke=\"#000000\" points=\"104.8649,-50.6516 106.9297,-40.2599 98.8352,-47.0958 104.8649,-50.6516\"/>\n",
       "</g>\n",
       "<!-- x_functionsquare_rootat0x7fe1d659d048_54 -->\n",
       "<g id=\"node6\" class=\"node\">\n",
       "<title>x_functionsquare_rootat0x7fe1d659d048_54</title>\n",
       "<g id=\"a_node6\"><a xlink:title=\"square_root:54\">\n",
       "<polygon fill=\"#ffdab9\" stroke=\"#000000\" points=\"218.5,-420 12.5,-420 12.5,-380 218.5,-380 218.5,-420\"/>\n",
       "<text text-anchor=\"start\" x=\"111\" y=\"-405.8\" font-family=\"Fira Mono, Courier, monospace\" font-weight=\"bold\" font-size=\"14.00\" fill=\"#000000\">x</text>\n",
       "<text text-anchor=\"start\" x=\"20.5\" y=\"-386.8\" font-family=\"Fira Mono, Courier, monospace\" font-size=\"9.00\" fill=\"#000000\">def square_root(x): &#160;# type: ignore</text>\n",
       "</a>\n",
       "</g>\n",
       "</g>\n",
       "<!-- x_functionsquare_rootat0x7fe1d659d048_54&#45;&gt;guess_functionsquare_rootat0x7fe1d659d048_61 -->\n",
       "<g id=\"edge11\" class=\"edge\">\n",
       "<title>x_functionsquare_rootat0x7fe1d659d048_54&#45;&gt;guess_functionsquare_rootat0x7fe1d659d048_61</title>\n",
       "<path fill=\"none\" stroke=\"#000000\" d=\"M125.5866,-379.9909C144.1971,-342.9934 185.0874,-261.3347 218.5,-192 229.1834,-169.8308 240.9815,-144.6339 249.8161,-125.6183\"/>\n",
       "<polygon fill=\"#000000\" stroke=\"#000000\" points=\"253.1117,-126.8309 254.1443,-116.2865 246.7615,-123.8856 253.1117,-126.8309\"/>\n",
       "</g>\n",
       "<!-- x_functionsquare_rootat0x7fe1d659d048_54&#45;&gt;guess_functionsquare_rootat0x7fe1d659d048_58 -->\n",
       "<g id=\"edge8\" class=\"edge\">\n",
       "<title>x_functionsquare_rootat0x7fe1d659d048_54&#45;&gt;guess_functionsquare_rootat0x7fe1d659d048_58</title>\n",
       "<path fill=\"none\" stroke=\"#000000\" d=\"M111.7123,-379.6762C107.9734,-360.1781 101.9014,-329.9506 95.5,-304 93.3996,-295.4853 90.8859,-286.312 88.4799,-277.9039\"/>\n",
       "<polygon fill=\"#000000\" stroke=\"#000000\" points=\"91.7884,-276.7467 85.6337,-268.1229 85.0672,-278.7026 91.7884,-276.7467\"/>\n",
       "</g>\n",
       "<!-- x_functionsquare_rootat0x7fe1d659d048_54&#45;&gt;approx_functionsquare_rootat0x7fe1d659d048_57 -->\n",
       "</g>\n",
       "</svg>\n"
      ],
      "text/plain": [
       "<__main__.Slicer at 0x7fe1d6387e80>"
      ]
     },
     "execution_count": 1,
     "metadata": {},
     "output_type": "execute_result"
    }
   ],
   "source": [
    "root_slicer"
   ]
  },
  {
   "cell_type": "markdown",
   "metadata": {
    "slideshow": {
     "slide_type": "fragment"
    }
   },
   "source": [
    "Again, we can show the code annotated with dependencies:"
   ]
  },
  {
   "cell_type": "code",
   "execution_count": 199,
   "metadata": {
    "execution": {
     "iopub.execute_input": "2021-03-05T23:37:21.068909Z",
     "iopub.status.busy": "2021-03-05T23:37:21.067773Z",
     "iopub.status.idle": "2021-03-05T23:37:21.112056Z",
     "shell.execute_reply": "2021-03-05T23:37:21.112432Z"
    },
    "slideshow": {
     "slide_type": "subslide"
    }
   },
   "outputs": [
    {
     "name": "stdout",
     "output_type": "stream",
     "text": [
      "*   54 \u001b[34mdef\u001b[39;49;00m \u001b[32msquare_root\u001b[39;49;00m(x):  \u001b[37m# type: ignore\u001b[39;49;00m\n",
      "    55     \u001b[34massert\u001b[39;49;00m x >= \u001b[34m0\u001b[39;49;00m  \u001b[37m# precondition\u001b[39;49;00m\n",
      "    56 \n",
      "*   57     approx = \u001b[34mNone\u001b[39;49;00m\n",
      "*   58     guess = x / \u001b[34m2\u001b[39;49;00m  \u001b[37m# <= x (54)\u001b[39;49;00m\n",
      "*   59     \u001b[34mwhile\u001b[39;49;00m approx != guess:  \u001b[37m# <= approx (60), guess (61), guess (58), approx (57)\u001b[39;49;00m\n",
      "*   60         approx = guess  \u001b[37m# <= guess (61), guess (58); <- <test> (59)\u001b[39;49;00m\n",
      "*   61         guess = (approx + x / approx) / \u001b[34m2\u001b[39;49;00m  \u001b[37m# <= approx (60), x (54); <- <test> (59)\u001b[39;49;00m\n",
      "    62 \n",
      "    63     \u001b[34massert\u001b[39;49;00m math.isclose(approx * approx, x)\n",
      "*   64     \u001b[34mreturn\u001b[39;49;00m approx  \u001b[37m# <= approx (60)\u001b[39;49;00m\n"
     ]
    }
   ],
   "source": [
    "root_slicer.code()"
   ]
  },
  {
   "cell_type": "markdown",
   "metadata": {
    "slideshow": {
     "slide_type": "subslide"
    }
   },
   "source": [
    "The astute reader may find that an `assert p` statements do not control the following code, although it would be equivalent to `if not p: raise Exception`. Why is that?"
   ]
  },
  {
   "cell_type": "code",
   "execution_count": 200,
   "metadata": {
    "execution": {
     "iopub.execute_input": "2021-03-05T23:37:21.119806Z",
     "iopub.status.busy": "2021-03-05T23:37:21.119161Z",
     "iopub.status.idle": "2021-03-05T23:37:21.121402Z",
     "shell.execute_reply": "2021-03-05T23:37:21.121778Z"
    },
    "slideshow": {
     "slide_type": "fragment"
    }
   },
   "outputs": [
    {
     "data": {
      "text/html": [
       "\n",
       "    \n",
       "    <script>\n",
       "    var bad_answers = new Map();\n",
       "\n",
       "    function answer(quiz_id) {\n",
       "        ans = 0;\n",
       "        for (i = 1;; i++) {\n",
       "            checkbox = document.getElementById(quiz_id + \"-\" + i.toString());\n",
       "            if (!checkbox)\n",
       "                break;\n",
       "            if (checkbox.checked)\n",
       "                ans |= (1 << i);\n",
       "        }\n",
       "        return ans;\n",
       "    }\n",
       "    function check_selection(quiz_id, correct_answer, multiple_choice, hint) {\n",
       "        given_answer = answer(quiz_id);\n",
       "        if (given_answer == correct_answer)\n",
       "        {\n",
       "            document.getElementById(quiz_id + \"-submit\").value = \"Correct!\";\n",
       "            document.getElementById(quiz_id + \"-hint\").innerHTML = \"\";\n",
       "\n",
       "            for (i = 1;; i++) {\n",
       "                checkbox = document.getElementById(quiz_id + \"-\" + i.toString());\n",
       "                label = document.getElementById(quiz_id + \"-\" + i.toString() + \"-label\")\n",
       "                if (!checkbox)\n",
       "                    break;\n",
       "    \n",
       "                if (checkbox.checked) {\n",
       "                    label.style.fontWeight = \"bold\";\n",
       "                }\n",
       "                else {\n",
       "                    label.style.textDecoration = \"line-through\";\n",
       "                }\n",
       "            }\n",
       "        }\n",
       "        else \n",
       "        {\n",
       "            document.getElementById(quiz_id + \"-submit\").value = \"Try again\";\n",
       "            \n",
       "            if (!bad_answers.has(quiz_id)) {\n",
       "                bad_answers.set(quiz_id, 1);\n",
       "            }\n",
       "            else {\n",
       "                bad_answers.set(quiz_id, bad_answers.get(quiz_id) + 1);\n",
       "            }\n",
       "\n",
       "            if (bad_answers.get(quiz_id) >= 2 && hint.length > 0) {\n",
       "                document.getElementById(quiz_id + \"-hint\").innerHTML = \n",
       "                    \"&nbsp;&nbsp;(Hint: <code>\" + hint + \"</code>)\";\n",
       "            }\n",
       "\n",
       "            if (!multiple_choice) {\n",
       "                for (i = 1;; i++) {\n",
       "                    checkbox = document.getElementById(quiz_id + \"-\" + i.toString());\n",
       "                    label = document.getElementById(quiz_id + \"-\" + i.toString() + \"-label\")\n",
       "\n",
       "                    if (!checkbox)\n",
       "                        break;\n",
       "                    if (checkbox.checked) {\n",
       "                        label.style.textDecoration = \"line-through\";\n",
       "                    }\n",
       "                }\n",
       "            }\n",
       "        }\n",
       "    }\n",
       "    function clear_selection(quiz_id) {\n",
       "        document.getElementById(quiz_id + \"-submit\").value = \"Submit\";\n",
       "        document.getElementById(quiz_id + \"-hint\").innerHTML = \"\";\n",
       "    }\n",
       "    </script>\n",
       "    \n",
       "    <div class=\"quiz\">\n",
       "    <h3 class=\"quiz_title\">Quiz</h3>\n",
       "    <p>\n",
       "    <div class=\"quiz_question\">Why don't <code>assert</code> statements induce control dependencies?</div>\n",
       "    </p>\n",
       "    <p>\n",
       "    <div class=\"quiz_options\" title=\"Pick a choice.\">\n",
       "    \n",
       "        <input type=\"radio\" name=\"baf2c7a8-7e0b-11eb-b36c-f218984d6a0c\" id=\"baf2c7a8-7e0b-11eb-b36c-f218984d6a0c-1\" onclick=\"clear_selection('baf2c7a8-7e0b-11eb-b36c-f218984d6a0c')\">\n",
       "        <label id=\"baf2c7a8-7e0b-11eb-b36c-f218984d6a0c-1-label\" for=\"baf2c7a8-7e0b-11eb-b36c-f218984d6a0c-1\">We have no special handling of <code>assert</code> statements</label><br>\n",
       "    \n",
       "        <input type=\"radio\" name=\"baf2c7a8-7e0b-11eb-b36c-f218984d6a0c\" id=\"baf2c7a8-7e0b-11eb-b36c-f218984d6a0c-2\" onclick=\"clear_selection('baf2c7a8-7e0b-11eb-b36c-f218984d6a0c')\">\n",
       "        <label id=\"baf2c7a8-7e0b-11eb-b36c-f218984d6a0c-2-label\" for=\"baf2c7a8-7e0b-11eb-b36c-f218984d6a0c-2\">We have no special handling of <code>raise</code> statements</label><br>\n",
       "    \n",
       "        <input type=\"radio\" name=\"baf2c7a8-7e0b-11eb-b36c-f218984d6a0c\" id=\"baf2c7a8-7e0b-11eb-b36c-f218984d6a0c-3\" onclick=\"clear_selection('baf2c7a8-7e0b-11eb-b36c-f218984d6a0c')\">\n",
       "        <label id=\"baf2c7a8-7e0b-11eb-b36c-f218984d6a0c-3-label\" for=\"baf2c7a8-7e0b-11eb-b36c-f218984d6a0c-3\">Assertions are not supposed to act as controlling mechanisms</label><br>\n",
       "    \n",
       "        <input type=\"radio\" name=\"baf2c7a8-7e0b-11eb-b36c-f218984d6a0c\" id=\"baf2c7a8-7e0b-11eb-b36c-f218984d6a0c-4\" onclick=\"clear_selection('baf2c7a8-7e0b-11eb-b36c-f218984d6a0c')\">\n",
       "        <label id=\"baf2c7a8-7e0b-11eb-b36c-f218984d6a0c-4-label\" for=\"baf2c7a8-7e0b-11eb-b36c-f218984d6a0c-4\">All of the above</label><br>\n",
       "    \n",
       "    </div>\n",
       "    </p>\n",
       "    <input id=\"baf2c7a8-7e0b-11eb-b36c-f218984d6a0c-submit\" type=\"submit\" value=\"Submit\" onclick=\"check_selection('baf2c7a8-7e0b-11eb-b36c-f218984d6a0c', 16, 0, '(1 * 1 &lt;&lt; 1 * 1 &lt;&lt; 1 * 1)')\">\n",
       "    <span class=\"quiz_hint\" id=\"baf2c7a8-7e0b-11eb-b36c-f218984d6a0c-hint\"></span>\n",
       "    </div>\n",
       "    "
      ],
      "text/plain": [
       "<IPython.core.display.HTML object>"
      ]
     },
     "execution_count": 1,
     "metadata": {},
     "output_type": "execute_result"
    }
   ],
   "source": [
    "quiz(\"Why don't `assert` statements induce control dependencies?\",\n",
    "     [\n",
    "         \"We have no special handling of `assert` statements\",\n",
    "         \"We have no special handling of `raise` statements\",\n",
    "         \"Assertions are not supposed to act as controlling mechanisms\",\n",
    "         \"All of the above\",\n",
    "     ], '(1 * 1 << 1 * 1 << 1 * 1)')"
   ]
  },
  {
   "cell_type": "markdown",
   "metadata": {
    "slideshow": {
     "slide_type": "subslide"
    }
   },
   "source": [
    "Indeed: we treat assertions as \"neutral\" in the sense that they do not affect the remainder of the program – if they are turned off, they have no effect; and if they are turned on, the remaining program logic should not depend on them. (Our instrumentation also has no special treatment of `assert`, `raise`, or even `return` statements; the latter two should be handled by our `with` blocks.)"
   ]
  },
  {
   "cell_type": "code",
   "execution_count": 201,
   "metadata": {
    "execution": {
     "iopub.execute_input": "2021-03-05T23:37:21.124816Z",
     "iopub.status.busy": "2021-03-05T23:37:21.124211Z",
     "iopub.status.idle": "2021-03-05T23:37:21.125874Z",
     "shell.execute_reply": "2021-03-05T23:37:21.126243Z"
    },
    "slideshow": {
     "slide_type": "fragment"
    }
   },
   "outputs": [],
   "source": [
    "# print(repr(root_slicer))"
   ]
  },
  {
   "cell_type": "markdown",
   "metadata": {
    "slideshow": {
     "slide_type": "subslide"
    }
   },
   "source": [
    "### Removing HTML Markup"
   ]
  },
  {
   "cell_type": "markdown",
   "metadata": {
    "slideshow": {
     "slide_type": "fragment"
    }
   },
   "source": [
    "Let us come to our ongoing example, `remove_html_markup()`. This is how its instrumented code looks like:"
   ]
  },
  {
   "cell_type": "code",
   "execution_count": 202,
   "metadata": {
    "execution": {
     "iopub.execute_input": "2021-03-05T23:37:21.142389Z",
     "iopub.status.busy": "2021-03-05T23:37:21.141791Z",
     "iopub.status.idle": "2021-03-05T23:37:21.143482Z",
     "shell.execute_reply": "2021-03-05T23:37:21.143854Z"
    },
    "slideshow": {
     "slide_type": "fragment"
    }
   },
   "outputs": [],
   "source": [
    "with Slicer(remove_html_markup) as rhm_slicer:\n",
    "    s = remove_html_markup(\"<foo>bar</foo>\")"
   ]
  },
  {
   "cell_type": "markdown",
   "metadata": {
    "slideshow": {
     "slide_type": "fragment"
    }
   },
   "source": [
    "The graph is as discussed in the introduction to this chapter:"
   ]
  },
  {
   "cell_type": "code",
   "execution_count": 203,
   "metadata": {
    "execution": {
     "iopub.execute_input": "2021-03-05T23:37:21.151673Z",
     "iopub.status.busy": "2021-03-05T23:37:21.150975Z",
     "iopub.status.idle": "2021-03-05T23:37:21.814893Z",
     "shell.execute_reply": "2021-03-05T23:37:21.815321Z"
    },
    "slideshow": {
     "slide_type": "fragment"
    }
   },
   "outputs": [
    {
     "data": {
      "image/svg+xml": [
       "<?xml version=\"1.0\" encoding=\"UTF-8\" standalone=\"no\"?>\n",
       "<!DOCTYPE svg PUBLIC \"-//W3C//DTD SVG 1.1//EN\"\n",
       " \"http://www.w3.org/Graphics/SVG/1.1/DTD/svg11.dtd\">\n",
       "<!-- Generated by graphviz version 2.40.1 (20161225.0304)\n",
       " -->\n",
       "<!-- Title: dependencies Pages: 1 -->\n",
       "<svg width=\"409pt\" height=\"960pt\"\n",
       " viewBox=\"0.00 0.00 408.50 960.00\" xmlns=\"http://www.w3.org/2000/svg\" xmlns:xlink=\"http://www.w3.org/1999/xlink\">\n",
       "<g id=\"graph0\" class=\"graph\" transform=\"scale(1 1) rotate(0) translate(4 956)\">\n",
       "<title>dependencies</title>\n",
       "<polygon fill=\"#ffffff\" stroke=\"transparent\" points=\"-4,4 -4,-956 404.5,-956 404.5,4 -4,4\"/>\n",
       "<!-- test_functionremove_html_markupat0x7fe1d658da60_250 -->\n",
       "<g id=\"node1\" class=\"node\">\n",
       "<title>test_functionremove_html_markupat0x7fe1d658da60_250</title>\n",
       "<g id=\"a_node1\"><a xlink:title=\"remove_html_markup:250\">\n",
       "<polygon fill=\"#ffdab9\" stroke=\"#000000\" points=\"283.5,-268 72.5,-268 72.5,-228 283.5,-228 283.5,-268\"/>\n",
       "<text text-anchor=\"start\" x=\"152.5\" y=\"-253.8\" font-family=\"Fira Mono, Courier, monospace\" font-weight=\"bold\" font-style=\"italic\" font-size=\"14.00\" fill=\"#000000\">&lt;test&gt;</text>\n",
       "<text text-anchor=\"start\" x=\"80.5\" y=\"-234.8\" font-family=\"Fira Mono, Courier, monospace\" font-size=\"9.00\" fill=\"#000000\">elif (c == &#39;&quot;&#39; or c == &quot;&#39;&quot;) and tag:</text>\n",
       "</a>\n",
       "</g>\n",
       "</g>\n",
       "<!-- test_functionremove_html_markupat0x7fe1d658da60_252 -->\n",
       "<g id=\"node6\" class=\"node\">\n",
       "<title>test_functionremove_html_markupat0x7fe1d658da60_252</title>\n",
       "<g id=\"a_node6\"><a xlink:title=\"remove_html_markup:252\">\n",
       "<polygon fill=\"#ffdab9\" stroke=\"#000000\" points=\"221.5,-192 134.5,-192 134.5,-152 221.5,-152 221.5,-192\"/>\n",
       "<text text-anchor=\"start\" x=\"152.5\" y=\"-177.8\" font-family=\"Fira Mono, Courier, monospace\" font-weight=\"bold\" font-style=\"italic\" font-size=\"14.00\" fill=\"#000000\">&lt;test&gt;</text>\n",
       "<text text-anchor=\"start\" x=\"142.5\" y=\"-158.8\" font-family=\"Fira Mono, Courier, monospace\" font-size=\"9.00\" fill=\"#000000\">elif not tag:</text>\n",
       "</a>\n",
       "</g>\n",
       "</g>\n",
       "<!-- test_functionremove_html_markupat0x7fe1d658da60_250&#45;&gt;test_functionremove_html_markupat0x7fe1d658da60_252 -->\n",
       "<g id=\"edge14\" class=\"edge\">\n",
       "<title>test_functionremove_html_markupat0x7fe1d658da60_250&#45;&gt;test_functionremove_html_markupat0x7fe1d658da60_252</title>\n",
       "<path fill=\"none\" stroke=\"#c0c0c0\" stroke-dasharray=\"5,2\" d=\"M171.9426,-227.6334C171.2819,-219.8186 171.0939,-210.7253 171.3786,-202.183\"/>\n",
       "<polygon fill=\"#c0c0c0\" stroke=\"#c0c0c0\" points=\"174.875,-202.3453 171.9602,-192.1593 167.8867,-201.9397 174.875,-202.3453\"/>\n",
       "</g>\n",
       "<!-- test_functionremove_html_markupat0x7fe1d658da60_250&#45;&gt;test_functionremove_html_markupat0x7fe1d658da60_252 -->\n",
       "<!-- c_functionremove_html_markupat0x7fe1d658da60_243 -->\n",
       "<g id=\"node2\" class=\"node\">\n",
       "<title>c_functionremove_html_markupat0x7fe1d658da60_243</title>\n",
       "<g id=\"a_node2\"><a xlink:title=\"remove_html_markup:243\">\n",
       "<polygon fill=\"#ffdab9\" stroke=\"#000000\" points=\"252,-648 176,-648 176,-608 252,-608 252,-648\"/>\n",
       "<text text-anchor=\"start\" x=\"209.5\" y=\"-633.8\" font-family=\"Fira Mono, Courier, monospace\" font-weight=\"bold\" font-size=\"14.00\" fill=\"#000000\">c</text>\n",
       "<text text-anchor=\"start\" x=\"184\" y=\"-614.8\" font-family=\"Fira Mono, Courier, monospace\" font-size=\"9.00\" fill=\"#000000\">for c in s:</text>\n",
       "</a>\n",
       "</g>\n",
       "</g>\n",
       "<!-- c_functionremove_html_markupat0x7fe1d658da60_243&#45;&gt;test_functionremove_html_markupat0x7fe1d658da60_250 -->\n",
       "<g id=\"edge1\" class=\"edge\">\n",
       "<title>c_functionremove_html_markupat0x7fe1d658da60_243&#45;&gt;test_functionremove_html_markupat0x7fe1d658da60_250</title>\n",
       "<path fill=\"none\" stroke=\"#000000\" d=\"M222.4334,-607.7508C233.6285,-578.9905 252,-524.4179 252,-476 252,-476 252,-476 252,-400 252,-352.9849 223.026,-305.2933 201.3379,-276.1802\"/>\n",
       "<polygon fill=\"#000000\" stroke=\"#000000\" points=\"204.023,-273.9299 195.1631,-268.1203 198.4663,-278.1871 204.023,-273.9299\"/>\n",
       "</g>\n",
       "<!-- test_functionremove_html_markupat0x7fe1d658da60_248 -->\n",
       "<g id=\"node3\" class=\"node\">\n",
       "<title>test_functionremove_html_markupat0x7fe1d658da60_248</title>\n",
       "<g id=\"a_node3\"><a xlink:title=\"remove_html_markup:248\">\n",
       "<polygon fill=\"#ffdab9\" stroke=\"#000000\" points=\"202,-420 34,-420 34,-380 202,-380 202,-420\"/>\n",
       "<text text-anchor=\"start\" x=\"92.5\" y=\"-405.8\" font-family=\"Fira Mono, Courier, monospace\" font-weight=\"bold\" font-style=\"italic\" font-size=\"14.00\" fill=\"#000000\">&lt;test&gt;</text>\n",
       "<text text-anchor=\"start\" x=\"42\" y=\"-386.8\" font-family=\"Fira Mono, Courier, monospace\" font-size=\"9.00\" fill=\"#000000\">elif c == &#39;&gt;&#39; and not quote:</text>\n",
       "</a>\n",
       "</g>\n",
       "</g>\n",
       "<!-- c_functionremove_html_markupat0x7fe1d658da60_243&#45;&gt;test_functionremove_html_markupat0x7fe1d658da60_248 -->\n",
       "<g id=\"edge10\" class=\"edge\">\n",
       "<title>c_functionremove_html_markupat0x7fe1d658da60_243&#45;&gt;test_functionremove_html_markupat0x7fe1d658da60_248</title>\n",
       "<path fill=\"none\" stroke=\"#000000\" d=\"M212.0013,-607.9788C209.5742,-588.1795 204.5601,-557.2658 195,-532 180.722,-494.2656 156.2363,-454.7833 138.7084,-428.9449\"/>\n",
       "<polygon fill=\"#000000\" stroke=\"#000000\" points=\"141.3797,-426.6527 132.8269,-420.3997 135.6135,-430.6216 141.3797,-426.6527\"/>\n",
       "</g>\n",
       "<!-- out_functionremove_html_markupat0x7fe1d658da60_253 -->\n",
       "<g id=\"node4\" class=\"node\">\n",
       "<title>out_functionremove_html_markupat0x7fe1d658da60_253</title>\n",
       "<g id=\"a_node4\"><a xlink:title=\"remove_html_markup:253\">\n",
       "<polygon fill=\"#ffdab9\" stroke=\"#000000\" points=\"288.5,-116 201.5,-116 201.5,-76 288.5,-76 288.5,-116\"/>\n",
       "<text text-anchor=\"start\" x=\"232\" y=\"-101.8\" font-family=\"Fira Mono, Courier, monospace\" font-weight=\"bold\" font-size=\"14.00\" fill=\"#000000\">out</text>\n",
       "<text text-anchor=\"start\" x=\"209.5\" y=\"-82.8\" font-family=\"Fira Mono, Courier, monospace\" font-size=\"9.00\" fill=\"#000000\">out = out + c</text>\n",
       "</a>\n",
       "</g>\n",
       "</g>\n",
       "<!-- c_functionremove_html_markupat0x7fe1d658da60_243&#45;&gt;out_functionremove_html_markupat0x7fe1d658da60_253 -->\n",
       "<g id=\"edge5\" class=\"edge\">\n",
       "<title>c_functionremove_html_markupat0x7fe1d658da60_243&#45;&gt;out_functionremove_html_markupat0x7fe1d658da60_253</title>\n",
       "<path fill=\"none\" stroke=\"#000000\" d=\"M237.9735,-607.7894C266.9863,-580.9286 312,-530.4758 312,-476 312,-476 312,-476 312,-248 312,-202.0021 285.9914,-154.3174 266.3834,-124.9036\"/>\n",
       "<polygon fill=\"#000000\" stroke=\"#000000\" points=\"269.0823,-122.6506 260.5396,-116.3839 263.3098,-126.6102 269.0823,-122.6506\"/>\n",
       "</g>\n",
       "<!-- test_functionremove_html_markupat0x7fe1d658da60_246 -->\n",
       "<g id=\"node8\" class=\"node\">\n",
       "<title>test_functionremove_html_markupat0x7fe1d658da60_246</title>\n",
       "<g id=\"a_node8\"><a xlink:title=\"remove_html_markup:246\">\n",
       "<polygon fill=\"#ffdab9\" stroke=\"#000000\" points=\"185.5,-572 28.5,-572 28.5,-532 185.5,-532 185.5,-572\"/>\n",
       "<text text-anchor=\"start\" x=\"81.5\" y=\"-557.8\" font-family=\"Fira Mono, Courier, monospace\" font-weight=\"bold\" font-style=\"italic\" font-size=\"14.00\" fill=\"#000000\">&lt;test&gt;</text>\n",
       "<text text-anchor=\"start\" x=\"36.5\" y=\"-538.8\" font-family=\"Fira Mono, Courier, monospace\" font-size=\"9.00\" fill=\"#000000\">if c == &#39;&lt;&#39; and not quote:</text>\n",
       "</a>\n",
       "</g>\n",
       "</g>\n",
       "<!-- c_functionremove_html_markupat0x7fe1d658da60_243&#45;&gt;test_functionremove_html_markupat0x7fe1d658da60_246 -->\n",
       "<g id=\"edge16\" class=\"edge\">\n",
       "<title>c_functionremove_html_markupat0x7fe1d658da60_243&#45;&gt;test_functionremove_html_markupat0x7fe1d658da60_246</title>\n",
       "<path fill=\"none\" stroke=\"#000000\" d=\"M179.5664,-607.8329C166.0956,-598.8145 150.8179,-588.0631 137.7249,-578.4138\"/>\n",
       "<polygon fill=\"#000000\" stroke=\"#000000\" points=\"139.5855,-575.4353 129.4773,-572.2613 135.4,-581.0461 139.5855,-575.4353\"/>\n",
       "</g>\n",
       "<!-- c_functionremove_html_markupat0x7fe1d658da60_243&#45;&gt;test_functionremove_html_markupat0x7fe1d658da60_246 -->\n",
       "<!-- test_functionremove_html_markupat0x7fe1d658da60_248&#45;&gt;test_functionremove_html_markupat0x7fe1d658da60_250 -->\n",
       "<g id=\"edge2\" class=\"edge\">\n",
       "<title>test_functionremove_html_markupat0x7fe1d658da60_248&#45;&gt;test_functionremove_html_markupat0x7fe1d658da60_250</title>\n",
       "<path fill=\"none\" stroke=\"#c0c0c0\" stroke-dasharray=\"5,2\" d=\"M137.8897,-379.8472C146.6329,-369.85 156.2099,-357.1218 162,-344 171.151,-323.2614 175.1049,-297.8948 176.7957,-278.446\"/>\n",
       "<polygon fill=\"#c0c0c0\" stroke=\"#c0c0c0\" points=\"180.2977,-278.5414 177.5208,-268.317 173.3156,-278.0415 180.2977,-278.5414\"/>\n",
       "</g>\n",
       "<!-- tag_functionremove_html_markupat0x7fe1d658da60_249 -->\n",
       "<g id=\"node12\" class=\"node\">\n",
       "<title>tag_functionremove_html_markupat0x7fe1d658da60_249</title>\n",
       "<g id=\"a_node12\"><a xlink:title=\"remove_html_markup:249\">\n",
       "<polygon fill=\"#ffdab9\" stroke=\"#000000\" points=\"153,-344 77,-344 77,-304 153,-304 153,-344\"/>\n",
       "<text text-anchor=\"start\" x=\"102\" y=\"-329.8\" font-family=\"Fira Mono, Courier, monospace\" font-weight=\"bold\" font-size=\"14.00\" fill=\"#000000\">tag</text>\n",
       "<text text-anchor=\"start\" x=\"85\" y=\"-310.8\" font-family=\"Fira Mono, Courier, monospace\" font-size=\"9.00\" fill=\"#000000\">tag = False</text>\n",
       "</a>\n",
       "</g>\n",
       "</g>\n",
       "<!-- test_functionremove_html_markupat0x7fe1d658da60_248&#45;&gt;tag_functionremove_html_markupat0x7fe1d658da60_249 -->\n",
       "<g id=\"edge18\" class=\"edge\">\n",
       "<title>test_functionremove_html_markupat0x7fe1d658da60_248&#45;&gt;tag_functionremove_html_markupat0x7fe1d658da60_249</title>\n",
       "<path fill=\"none\" stroke=\"#c0c0c0\" stroke-dasharray=\"5,2\" d=\"M111.1386,-379.6334C110.1695,-371.8186 109.6226,-362.7253 109.57,-354.183\"/>\n",
       "<polygon fill=\"#c0c0c0\" stroke=\"#c0c0c0\" points=\"113.0698,-354.2225 109.756,-344.1593 106.071,-354.0926 113.0698,-354.2225\"/>\n",
       "</g>\n",
       "<!-- test_functionremove_html_markupat0x7fe1d658da60_248&#45;&gt;tag_functionremove_html_markupat0x7fe1d658da60_249 -->\n",
       "<!-- out_functionremove_html_markupat0x7fe1d658da60_253&#45;&gt;out_functionremove_html_markupat0x7fe1d658da60_253 -->\n",
       "<g id=\"edge4\" class=\"edge\">\n",
       "<title>out_functionremove_html_markupat0x7fe1d658da60_253&#45;&gt;out_functionremove_html_markupat0x7fe1d658da60_253</title>\n",
       "<path fill=\"none\" stroke=\"#000000\" d=\"M288.6694,-109.9682C298.9301,-108.8201 306.5,-104.1641 306.5,-96 306.5,-90.7699 303.3933,-86.9795 298.4627,-84.6287\"/>\n",
       "<polygon fill=\"#000000\" stroke=\"#000000\" points=\"299.2324,-81.212 288.6694,-82.0318 297.4382,-87.9781 299.2324,-81.212\"/>\n",
       "</g>\n",
       "<!-- remove_html_markupreturnvalue_functionremove_html_markupat0x7fe1d658da60_255 -->\n",
       "<g id=\"node13\" class=\"node\">\n",
       "<title>remove_html_markupreturnvalue_functionremove_html_markupat0x7fe1d658da60_255</title>\n",
       "<g id=\"a_node13\"><a xlink:title=\"remove_html_markup:255\">\n",
       "<polygon fill=\"#ffdab9\" stroke=\"#000000\" points=\"400.5,-40 89.5,-40 89.5,0 400.5,0 400.5,-40\"/>\n",
       "<text text-anchor=\"start\" x=\"97.5\" y=\"-25.8\" font-family=\"Fira Mono, Courier, monospace\" font-weight=\"bold\" font-style=\"italic\" font-size=\"14.00\" fill=\"#000000\">&lt;remove_html_markup() return value&gt;</text>\n",
       "<text text-anchor=\"start\" x=\"217.5\" y=\"-6.8\" font-family=\"Fira Mono, Courier, monospace\" font-size=\"9.00\" fill=\"#000000\">return out</text>\n",
       "</a>\n",
       "</g>\n",
       "</g>\n",
       "<!-- out_functionremove_html_markupat0x7fe1d658da60_253&#45;&gt;remove_html_markupreturnvalue_functionremove_html_markupat0x7fe1d658da60_255 -->\n",
       "<g id=\"edge17\" class=\"edge\">\n",
       "<title>out_functionremove_html_markupat0x7fe1d658da60_253&#45;&gt;remove_html_markupreturnvalue_functionremove_html_markupat0x7fe1d658da60_255</title>\n",
       "<path fill=\"none\" stroke=\"#000000\" d=\"M238.9426,-75.6334C238.2819,-67.8186 238.0939,-58.7253 238.3786,-50.183\"/>\n",
       "<polygon fill=\"#000000\" stroke=\"#000000\" points=\"241.875,-50.3453 238.9602,-40.1593 234.8867,-49.9397 241.875,-50.3453\"/>\n",
       "</g>\n",
       "<!-- out_functionremove_html_markupat0x7fe1d658da60_253&#45;&gt;remove_html_markupreturnvalue_functionremove_html_markupat0x7fe1d658da60_255 -->\n",
       "<!-- out_functionremove_html_markupat0x7fe1d658da60_241 -->\n",
       "<g id=\"node5\" class=\"node\">\n",
       "<title>out_functionremove_html_markupat0x7fe1d658da60_241</title>\n",
       "<g id=\"a_node5\"><a xlink:title=\"remove_html_markup:241\">\n",
       "<polygon fill=\"#ffdab9\" stroke=\"#000000\" points=\"267,-724 207,-724 207,-684 267,-684 267,-724\"/>\n",
       "<text text-anchor=\"start\" x=\"224\" y=\"-709.8\" font-family=\"Fira Mono, Courier, monospace\" font-weight=\"bold\" font-size=\"14.00\" fill=\"#000000\">out</text>\n",
       "<text text-anchor=\"start\" x=\"215\" y=\"-690.8\" font-family=\"Fira Mono, Courier, monospace\" font-size=\"9.00\" fill=\"#000000\">out = &quot;&quot;</text>\n",
       "</a>\n",
       "</g>\n",
       "</g>\n",
       "<!-- out_functionremove_html_markupat0x7fe1d658da60_241&#45;&gt;c_functionremove_html_markupat0x7fe1d658da60_243 -->\n",
       "<!-- out_functionremove_html_markupat0x7fe1d658da60_241&#45;&gt;out_functionremove_html_markupat0x7fe1d658da60_253 -->\n",
       "<g id=\"edge3\" class=\"edge\">\n",
       "<title>out_functionremove_html_markupat0x7fe1d658da60_241&#45;&gt;out_functionremove_html_markupat0x7fe1d658da60_253</title>\n",
       "<path fill=\"none\" stroke=\"#000000\" d=\"M265.5147,-683.9119C298.99,-657.7311 350,-608.5574 350,-552 350,-552 350,-552 350,-248 350,-196.8486 309.2483,-150.4375 278.5204,-122.7128\"/>\n",
       "<polygon fill=\"#000000\" stroke=\"#000000\" points=\"280.7803,-120.0395 270.9551,-116.0753 276.1637,-125.3013 280.7803,-120.0395\"/>\n",
       "</g>\n",
       "<!-- test_functionremove_html_markupat0x7fe1d658da60_252&#45;&gt;out_functionremove_html_markupat0x7fe1d658da60_253 -->\n",
       "<g id=\"edge6\" class=\"edge\">\n",
       "<title>test_functionremove_html_markupat0x7fe1d658da60_252&#45;&gt;out_functionremove_html_markupat0x7fe1d658da60_253</title>\n",
       "<path fill=\"none\" stroke=\"#c0c0c0\" stroke-dasharray=\"5,2\" d=\"M189.8973,-151.6334C196.7421,-143.0457 205.5186,-132.9142 214.0868,-123.6663\"/>\n",
       "<polygon fill=\"#c0c0c0\" stroke=\"#c0c0c0\" points=\"216.8588,-125.8292 221.1882,-116.1593 211.7735,-121.0187 216.8588,-125.8292\"/>\n",
       "</g>\n",
       "<!-- test_functionremove_html_markupat0x7fe1d658da60_252&#45;&gt;out_functionremove_html_markupat0x7fe1d658da60_253 -->\n",
       "<!-- tag_functionremove_html_markupat0x7fe1d658da60_247 -->\n",
       "<g id=\"node7\" class=\"node\">\n",
       "<title>tag_functionremove_html_markupat0x7fe1d658da60_247</title>\n",
       "<g id=\"a_node7\"><a xlink:title=\"remove_html_markup:247\">\n",
       "<polygon fill=\"#ffdab9\" stroke=\"#000000\" points=\"115.5,-496 44.5,-496 44.5,-456 115.5,-456 115.5,-496\"/>\n",
       "<text text-anchor=\"start\" x=\"67\" y=\"-481.8\" font-family=\"Fira Mono, Courier, monospace\" font-weight=\"bold\" font-size=\"14.00\" fill=\"#000000\">tag</text>\n",
       "<text text-anchor=\"start\" x=\"52.5\" y=\"-462.8\" font-family=\"Fira Mono, Courier, monospace\" font-size=\"9.00\" fill=\"#000000\">tag = True</text>\n",
       "</a>\n",
       "</g>\n",
       "</g>\n",
       "<!-- tag_functionremove_html_markupat0x7fe1d658da60_247&#45;&gt;test_functionremove_html_markupat0x7fe1d658da60_248 -->\n",
       "<!-- tag_functionremove_html_markupat0x7fe1d658da60_247&#45;&gt;test_functionremove_html_markupat0x7fe1d658da60_252 -->\n",
       "<g id=\"edge12\" class=\"edge\">\n",
       "<title>tag_functionremove_html_markupat0x7fe1d658da60_247&#45;&gt;test_functionremove_html_markupat0x7fe1d658da60_252</title>\n",
       "<path fill=\"none\" stroke=\"#000000\" d=\"M52.5642,-455.9295C41.8261,-446.3883 30.7255,-434.0006 25,-420 3.9121,-368.4336 12.0718,-280.0992 53,-228 70.5724,-205.6314 99.0153,-191.94 124.3331,-183.7007\"/>\n",
       "<polygon fill=\"#000000\" stroke=\"#000000\" points=\"125.6653,-186.954 134.2174,-180.7002 123.6319,-180.2558 125.6653,-186.954\"/>\n",
       "</g>\n",
       "<!-- test_functionremove_html_markupat0x7fe1d658da60_246&#45;&gt;test_functionremove_html_markupat0x7fe1d658da60_248 -->\n",
       "<g id=\"edge11\" class=\"edge\">\n",
       "<title>test_functionremove_html_markupat0x7fe1d658da60_246&#45;&gt;test_functionremove_html_markupat0x7fe1d658da60_248</title>\n",
       "<path fill=\"none\" stroke=\"#c0c0c0\" stroke-dasharray=\"5,2\" d=\"M114.6906,-531.8508C118.2983,-521.3364 122.1948,-508.1607 124,-496 127.2331,-474.2199 125.544,-449.4083 123.1454,-430.4661\"/>\n",
       "<polygon fill=\"#c0c0c0\" stroke=\"#c0c0c0\" points=\"126.5792,-429.7488 121.7251,-420.3314 119.6469,-430.7204 126.5792,-429.7488\"/>\n",
       "</g>\n",
       "<!-- test_functionremove_html_markupat0x7fe1d658da60_246&#45;&gt;tag_functionremove_html_markupat0x7fe1d658da60_247 -->\n",
       "<g id=\"edge7\" class=\"edge\">\n",
       "<title>test_functionremove_html_markupat0x7fe1d658da60_246&#45;&gt;tag_functionremove_html_markupat0x7fe1d658da60_247</title>\n",
       "<path fill=\"none\" stroke=\"#c0c0c0\" stroke-dasharray=\"5,2\" d=\"M93.707,-531.6334C90.2323,-523.7327 86.7765,-514.5253 84.0111,-505.9015\"/>\n",
       "<polygon fill=\"#c0c0c0\" stroke=\"#c0c0c0\" points=\"87.3208,-504.7515 81.1221,-496.1593 80.6096,-506.7417 87.3208,-504.7515\"/>\n",
       "</g>\n",
       "<!-- test_functionremove_html_markupat0x7fe1d658da60_246&#45;&gt;tag_functionremove_html_markupat0x7fe1d658da60_247 -->\n",
       "<!-- s_functionremove_html_markupat0x7fe1d658da60_238 -->\n",
       "<g id=\"node9\" class=\"node\">\n",
       "<title>s_functionremove_html_markupat0x7fe1d658da60_238</title>\n",
       "<g id=\"a_node9\"><a xlink:title=\"remove_html_markup:238\">\n",
       "<polygon fill=\"#ffdab9\" stroke=\"#000000\" points=\"264.5,-952 21.5,-952 21.5,-912 264.5,-912 264.5,-952\"/>\n",
       "<text text-anchor=\"start\" x=\"138.5\" y=\"-937.8\" font-family=\"Fira Mono, Courier, monospace\" font-weight=\"bold\" font-size=\"14.00\" fill=\"#000000\">s</text>\n",
       "<text text-anchor=\"start\" x=\"29.5\" y=\"-918.8\" font-family=\"Fira Mono, Courier, monospace\" font-size=\"9.00\" fill=\"#000000\">def remove_html_markup(s): &#160;# type: ignore</text>\n",
       "</a>\n",
       "</g>\n",
       "</g>\n",
       "<!-- s_functionremove_html_markupat0x7fe1d658da60_238&#45;&gt;c_functionremove_html_markupat0x7fe1d658da60_243 -->\n",
       "<g id=\"edge8\" class=\"edge\">\n",
       "<title>s_functionremove_html_markupat0x7fe1d658da60_238&#45;&gt;c_functionremove_html_markupat0x7fe1d658da60_243</title>\n",
       "<path fill=\"none\" stroke=\"#000000\" d=\"M148.2235,-911.8228C150.9314,-901.1872 154.2403,-887.9106 157,-876 176.6956,-790.9946 176.891,-768.6654 198,-684 200.1216,-675.4906 202.6422,-666.319 205.0479,-657.9108\"/>\n",
       "<polygon fill=\"#000000\" stroke=\"#000000\" points=\"208.4608,-658.7085 207.8908,-648.129 201.739,-656.7548 208.4608,-658.7085\"/>\n",
       "</g>\n",
       "<!-- tag_functionremove_html_markupat0x7fe1d658da60_239 -->\n",
       "<g id=\"node11\" class=\"node\">\n",
       "<title>tag_functionremove_html_markupat0x7fe1d658da60_239</title>\n",
       "<g id=\"a_node11\"><a xlink:title=\"remove_html_markup:239\">\n",
       "<polygon fill=\"#ffdab9\" stroke=\"#000000\" points=\"148,-876 72,-876 72,-836 148,-836 148,-876\"/>\n",
       "<text text-anchor=\"start\" x=\"97\" y=\"-861.8\" font-family=\"Fira Mono, Courier, monospace\" font-weight=\"bold\" font-size=\"14.00\" fill=\"#000000\">tag</text>\n",
       "<text text-anchor=\"start\" x=\"80\" y=\"-842.8\" font-family=\"Fira Mono, Courier, monospace\" font-size=\"9.00\" fill=\"#000000\">tag = False</text>\n",
       "</a>\n",
       "</g>\n",
       "</g>\n",
       "<!-- s_functionremove_html_markupat0x7fe1d658da60_238&#45;&gt;tag_functionremove_html_markupat0x7fe1d658da60_239 -->\n",
       "<!-- quote_functionremove_html_markupat0x7fe1d658da60_240 -->\n",
       "<g id=\"node10\" class=\"node\">\n",
       "<title>quote_functionremove_html_markupat0x7fe1d658da60_240</title>\n",
       "<g id=\"a_node10\"><a xlink:title=\"remove_html_markup:240\">\n",
       "<polygon fill=\"#ffdab9\" stroke=\"#000000\" points=\"150.5,-800 63.5,-800 63.5,-760 150.5,-760 150.5,-800\"/>\n",
       "<text text-anchor=\"start\" x=\"85.5\" y=\"-785.8\" font-family=\"Fira Mono, Courier, monospace\" font-weight=\"bold\" font-size=\"14.00\" fill=\"#000000\">quote</text>\n",
       "<text text-anchor=\"start\" x=\"71.5\" y=\"-766.8\" font-family=\"Fira Mono, Courier, monospace\" font-size=\"9.00\" fill=\"#000000\">quote = False</text>\n",
       "</a>\n",
       "</g>\n",
       "</g>\n",
       "<!-- quote_functionremove_html_markupat0x7fe1d658da60_240&#45;&gt;test_functionremove_html_markupat0x7fe1d658da60_248 -->\n",
       "<g id=\"edge9\" class=\"edge\">\n",
       "<title>quote_functionremove_html_markupat0x7fe1d658da60_240&#45;&gt;test_functionremove_html_markupat0x7fe1d658da60_248</title>\n",
       "<path fill=\"none\" stroke=\"#000000\" d=\"M80.2754,-759.8035C48.5827,-733.3297 0,-683.6685 0,-628 0,-628 0,-628 0,-552 0,-506.5861 7.0331,-491.7809 35,-456 44.2194,-444.2046 56.6297,-434.0076 69.0404,-425.6685\"/>\n",
       "<polygon fill=\"#000000\" stroke=\"#000000\" points=\"71.0568,-428.5334 77.5932,-420.1952 67.2836,-422.6374 71.0568,-428.5334\"/>\n",
       "</g>\n",
       "<!-- quote_functionremove_html_markupat0x7fe1d658da60_240&#45;&gt;out_functionremove_html_markupat0x7fe1d658da60_241 -->\n",
       "<!-- quote_functionremove_html_markupat0x7fe1d658da60_240&#45;&gt;test_functionremove_html_markupat0x7fe1d658da60_246 -->\n",
       "<g id=\"edge15\" class=\"edge\">\n",
       "<title>quote_functionremove_html_markupat0x7fe1d658da60_240&#45;&gt;test_functionremove_html_markupat0x7fe1d658da60_246</title>\n",
       "<path fill=\"none\" stroke=\"#000000\" d=\"M107,-759.7665C107,-719.6263 107,-629.7226 107,-582.4223\"/>\n",
       "<polygon fill=\"#000000\" stroke=\"#000000\" points=\"110.5001,-582.1881 107,-572.1881 103.5001,-582.1882 110.5001,-582.1881\"/>\n",
       "</g>\n",
       "<!-- tag_functionremove_html_markupat0x7fe1d658da60_239&#45;&gt;quote_functionremove_html_markupat0x7fe1d658da60_240 -->\n",
       "<!-- tag_functionremove_html_markupat0x7fe1d658da60_249&#45;&gt;test_functionremove_html_markupat0x7fe1d658da60_250 -->\n",
       "<!-- tag_functionremove_html_markupat0x7fe1d658da60_249&#45;&gt;test_functionremove_html_markupat0x7fe1d658da60_252 -->\n",
       "<g id=\"edge13\" class=\"edge\">\n",
       "<title>tag_functionremove_html_markupat0x7fe1d658da60_249&#45;&gt;test_functionremove_html_markupat0x7fe1d658da60_252</title>\n",
       "<path fill=\"none\" stroke=\"#000000\" d=\"M89.306,-303.9062C79.0634,-294.2789 68.4314,-281.8312 63,-268 56.5019,-251.4524 53.5745,-243.0735 63,-228 76.65,-206.1706 101.523,-192.6278 124.654,-184.3431\"/>\n",
       "<polygon fill=\"#000000\" stroke=\"#000000\" points=\"126.0316,-187.5738 134.4228,-181.1056 123.8294,-180.9292 126.0316,-187.5738\"/>\n",
       "</g>\n",
       "</g>\n",
       "</svg>\n"
      ],
      "text/plain": [
       "<__main__.Slicer at 0x7fe1d63e7908>"
      ]
     },
     "execution_count": 1,
     "metadata": {},
     "output_type": "execute_result"
    }
   ],
   "source": [
    "rhm_slicer"
   ]
  },
  {
   "cell_type": "code",
   "execution_count": 204,
   "metadata": {
    "execution": {
     "iopub.execute_input": "2021-03-05T23:37:21.819036Z",
     "iopub.status.busy": "2021-03-05T23:37:21.818334Z",
     "iopub.status.idle": "2021-03-05T23:37:21.820056Z",
     "shell.execute_reply": "2021-03-05T23:37:21.820468Z"
    },
    "slideshow": {
     "slide_type": "fragment"
    }
   },
   "outputs": [],
   "source": [
    "# print(repr(rhm_slicer.dependencies()))"
   ]
  },
  {
   "cell_type": "code",
   "execution_count": 205,
   "metadata": {
    "execution": {
     "iopub.execute_input": "2021-03-05T23:37:21.824227Z",
     "iopub.status.busy": "2021-03-05T23:37:21.823620Z",
     "iopub.status.idle": "2021-03-05T23:37:21.897387Z",
     "shell.execute_reply": "2021-03-05T23:37:21.897809Z"
    },
    "slideshow": {
     "slide_type": "subslide"
    }
   },
   "outputs": [
    {
     "name": "stdout",
     "output_type": "stream",
     "text": [
      "*  238 \u001b[34mdef\u001b[39;49;00m \u001b[32mremove_html_markup\u001b[39;49;00m(s):  \u001b[37m# type: ignore\u001b[39;49;00m\n",
      "*  239     tag = \u001b[34mFalse\u001b[39;49;00m\n",
      "*  240     quote = \u001b[34mFalse\u001b[39;49;00m\n",
      "*  241     out = \u001b[33m\"\u001b[39;49;00m\u001b[33m\"\u001b[39;49;00m\n",
      "   242 \n",
      "*  243     \u001b[34mfor\u001b[39;49;00m c \u001b[35min\u001b[39;49;00m s:  \u001b[37m# <= s (238)\u001b[39;49;00m\n",
      "   244         \u001b[34massert\u001b[39;49;00m tag \u001b[35mor\u001b[39;49;00m \u001b[35mnot\u001b[39;49;00m quote\n",
      "   245 \n",
      "*  246         \u001b[34mif\u001b[39;49;00m c == \u001b[33m'\u001b[39;49;00m\u001b[33m<\u001b[39;49;00m\u001b[33m'\u001b[39;49;00m \u001b[35mand\u001b[39;49;00m \u001b[35mnot\u001b[39;49;00m quote:  \u001b[37m# <= quote (240), c (243)\u001b[39;49;00m\n",
      "*  247             tag = \u001b[34mTrue\u001b[39;49;00m  \u001b[37m# <- <test> (246)\u001b[39;49;00m\n",
      "*  248         \u001b[34melif\u001b[39;49;00m c == \u001b[33m'\u001b[39;49;00m\u001b[33m>\u001b[39;49;00m\u001b[33m'\u001b[39;49;00m \u001b[35mand\u001b[39;49;00m \u001b[35mnot\u001b[39;49;00m quote:  \u001b[37m# <= quote (240), c (243); <- <test> (246)\u001b[39;49;00m\n",
      "*  249             tag = \u001b[34mFalse\u001b[39;49;00m  \u001b[37m# <- <test> (248)\u001b[39;49;00m\n",
      "*  250         \u001b[34melif\u001b[39;49;00m (c == \u001b[33m'\u001b[39;49;00m\u001b[33m\"\u001b[39;49;00m\u001b[33m'\u001b[39;49;00m \u001b[35mor\u001b[39;49;00m c == \u001b[33m\"\u001b[39;49;00m\u001b[33m'\u001b[39;49;00m\u001b[33m\"\u001b[39;49;00m) \u001b[35mand\u001b[39;49;00m tag:  \u001b[37m# <= c (243); <- <test> (248)\u001b[39;49;00m\n",
      "   251             quote = \u001b[35mnot\u001b[39;49;00m quote\n",
      "*  252         \u001b[34melif\u001b[39;49;00m \u001b[35mnot\u001b[39;49;00m tag:  \u001b[37m# <= tag (247), tag (249); <- <test> (250)\u001b[39;49;00m\n",
      "*  253             out = out + c  \u001b[37m# <= out (241), out (253), c (243); <- <test> (252)\u001b[39;49;00m\n",
      "   254 \n",
      "*  255     \u001b[34mreturn\u001b[39;49;00m out  \u001b[37m# <= out (253)\u001b[39;49;00m\n"
     ]
    }
   ],
   "source": [
    "rhm_slicer.code()"
   ]
  },
  {
   "cell_type": "markdown",
   "metadata": {
    "slideshow": {
     "slide_type": "subslide"
    }
   },
   "source": [
    "We can also compute slices over the dependencies:"
   ]
  },
  {
   "cell_type": "code",
   "execution_count": 206,
   "metadata": {
    "execution": {
     "iopub.execute_input": "2021-03-05T23:37:21.902057Z",
     "iopub.status.busy": "2021-03-05T23:37:21.901487Z",
     "iopub.status.idle": "2021-03-05T23:37:21.904143Z",
     "shell.execute_reply": "2021-03-05T23:37:21.904545Z"
    },
    "slideshow": {
     "slide_type": "fragment"
    }
   },
   "outputs": [
    {
     "data": {
      "text/plain": [
       "238"
      ]
     },
     "execution_count": 1,
     "metadata": {},
     "output_type": "execute_result"
    }
   ],
   "source": [
    "_, start_remove_html_markup = inspect.getsourcelines(remove_html_markup)\n",
    "start_remove_html_markup"
   ]
  },
  {
   "cell_type": "code",
   "execution_count": 207,
   "metadata": {
    "execution": {
     "iopub.execute_input": "2021-03-05T23:37:21.909138Z",
     "iopub.status.busy": "2021-03-05T23:37:21.907407Z",
     "iopub.status.idle": "2021-03-05T23:37:22.591100Z",
     "shell.execute_reply": "2021-03-05T23:37:22.591478Z"
    },
    "slideshow": {
     "slide_type": "subslide"
    }
   },
   "outputs": [
    {
     "data": {
      "image/svg+xml": [
       "<?xml version=\"1.0\" encoding=\"UTF-8\" standalone=\"no\"?>\n",
       "<!DOCTYPE svg PUBLIC \"-//W3C//DTD SVG 1.1//EN\"\n",
       " \"http://www.w3.org/Graphics/SVG/1.1/DTD/svg11.dtd\">\n",
       "<!-- Generated by graphviz version 2.40.1 (20161225.0304)\n",
       " -->\n",
       "<!-- Title: dependencies Pages: 1 -->\n",
       "<svg width=\"251pt\" height=\"352pt\"\n",
       " viewBox=\"0.00 0.00 251.00 352.00\" xmlns=\"http://www.w3.org/2000/svg\" xmlns:xlink=\"http://www.w3.org/1999/xlink\">\n",
       "<g id=\"graph0\" class=\"graph\" transform=\"scale(1 1) rotate(0) translate(4 348)\">\n",
       "<title>dependencies</title>\n",
       "<polygon fill=\"#ffffff\" stroke=\"transparent\" points=\"-4,4 -4,-348 247,-348 247,4 -4,4\"/>\n",
       "<!-- tag_functionremove_html_markupat0x7fe1d658da60_247 -->\n",
       "<g id=\"node1\" class=\"node\">\n",
       "<title>tag_functionremove_html_markupat0x7fe1d658da60_247</title>\n",
       "<g id=\"a_node1\"><a xlink:title=\"remove_html_markup:247\">\n",
       "<polygon fill=\"#ffdab9\" stroke=\"#000000\" points=\"127,-40 56,-40 56,0 127,0 127,-40\"/>\n",
       "<text text-anchor=\"start\" x=\"78.5\" y=\"-25.8\" font-family=\"Fira Mono, Courier, monospace\" font-weight=\"bold\" font-size=\"14.00\" fill=\"#000000\">tag</text>\n",
       "<text text-anchor=\"start\" x=\"64\" y=\"-6.8\" font-family=\"Fira Mono, Courier, monospace\" font-size=\"9.00\" fill=\"#000000\">tag = True</text>\n",
       "</a>\n",
       "</g>\n",
       "</g>\n",
       "<!-- test_functionremove_html_markupat0x7fe1d658da60_246 -->\n",
       "<g id=\"node2\" class=\"node\">\n",
       "<title>test_functionremove_html_markupat0x7fe1d658da60_246</title>\n",
       "<g id=\"a_node2\"><a xlink:title=\"remove_html_markup:246\">\n",
       "<polygon fill=\"#ffdab9\" stroke=\"#000000\" points=\"170,-116 13,-116 13,-76 170,-76 170,-116\"/>\n",
       "<text text-anchor=\"start\" x=\"66\" y=\"-101.8\" font-family=\"Fira Mono, Courier, monospace\" font-weight=\"bold\" font-style=\"italic\" font-size=\"14.00\" fill=\"#000000\">&lt;test&gt;</text>\n",
       "<text text-anchor=\"start\" x=\"21\" y=\"-82.8\" font-family=\"Fira Mono, Courier, monospace\" font-size=\"9.00\" fill=\"#000000\">if c == &#39;&lt;&#39; and not quote:</text>\n",
       "</a>\n",
       "</g>\n",
       "</g>\n",
       "<!-- test_functionremove_html_markupat0x7fe1d658da60_246&#45;&gt;tag_functionremove_html_markupat0x7fe1d658da60_247 -->\n",
       "<g id=\"edge1\" class=\"edge\">\n",
       "<title>test_functionremove_html_markupat0x7fe1d658da60_246&#45;&gt;tag_functionremove_html_markupat0x7fe1d658da60_247</title>\n",
       "<path fill=\"none\" stroke=\"#c0c0c0\" stroke-dasharray=\"5,2\" d=\"M85.4426,-75.6334C84.7819,-67.8186 84.5939,-58.7253 84.8786,-50.183\"/>\n",
       "<polygon fill=\"#c0c0c0\" stroke=\"#c0c0c0\" points=\"88.375,-50.3453 85.4602,-40.1593 81.3867,-49.9397 88.375,-50.3453\"/>\n",
       "</g>\n",
       "<!-- test_functionremove_html_markupat0x7fe1d658da60_246&#45;&gt;tag_functionremove_html_markupat0x7fe1d658da60_247 -->\n",
       "<!-- c_functionremove_html_markupat0x7fe1d658da60_243 -->\n",
       "<g id=\"node3\" class=\"node\">\n",
       "<title>c_functionremove_html_markupat0x7fe1d658da60_243</title>\n",
       "<g id=\"a_node3\"><a xlink:title=\"remove_html_markup:243\">\n",
       "<polygon fill=\"#ffdab9\" stroke=\"#000000\" points=\"129.5,-192 53.5,-192 53.5,-152 129.5,-152 129.5,-192\"/>\n",
       "<text text-anchor=\"start\" x=\"87\" y=\"-177.8\" font-family=\"Fira Mono, Courier, monospace\" font-weight=\"bold\" font-size=\"14.00\" fill=\"#000000\">c</text>\n",
       "<text text-anchor=\"start\" x=\"61.5\" y=\"-158.8\" font-family=\"Fira Mono, Courier, monospace\" font-size=\"9.00\" fill=\"#000000\">for c in s:</text>\n",
       "</a>\n",
       "</g>\n",
       "</g>\n",
       "<!-- c_functionremove_html_markupat0x7fe1d658da60_243&#45;&gt;test_functionremove_html_markupat0x7fe1d658da60_246 -->\n",
       "<g id=\"edge4\" class=\"edge\">\n",
       "<title>c_functionremove_html_markupat0x7fe1d658da60_243&#45;&gt;test_functionremove_html_markupat0x7fe1d658da60_246</title>\n",
       "<path fill=\"none\" stroke=\"#000000\" d=\"M85.4426,-151.6334C84.7819,-143.8186 84.5939,-134.7253 84.8786,-126.183\"/>\n",
       "<polygon fill=\"#000000\" stroke=\"#000000\" points=\"88.375,-126.3453 85.4602,-116.1593 81.3867,-125.9397 88.375,-126.3453\"/>\n",
       "</g>\n",
       "<!-- c_functionremove_html_markupat0x7fe1d658da60_243&#45;&gt;test_functionremove_html_markupat0x7fe1d658da60_246 -->\n",
       "<!-- s_functionremove_html_markupat0x7fe1d658da60_238 -->\n",
       "<g id=\"node4\" class=\"node\">\n",
       "<title>s_functionremove_html_markupat0x7fe1d658da60_238</title>\n",
       "<g id=\"a_node4\"><a xlink:title=\"remove_html_markup:238\">\n",
       "<polygon fill=\"#ffdab9\" stroke=\"#000000\" points=\"243,-344 0,-344 0,-304 243,-304 243,-344\"/>\n",
       "<text text-anchor=\"start\" x=\"117\" y=\"-329.8\" font-family=\"Fira Mono, Courier, monospace\" font-weight=\"bold\" font-size=\"14.00\" fill=\"#000000\">s</text>\n",
       "<text text-anchor=\"start\" x=\"8\" y=\"-310.8\" font-family=\"Fira Mono, Courier, monospace\" font-size=\"9.00\" fill=\"#000000\">def remove_html_markup(s): &#160;# type: ignore</text>\n",
       "</a>\n",
       "</g>\n",
       "</g>\n",
       "<!-- s_functionremove_html_markupat0x7fe1d658da60_238&#45;&gt;c_functionremove_html_markupat0x7fe1d658da60_243 -->\n",
       "<g id=\"edge2\" class=\"edge\">\n",
       "<title>s_functionremove_html_markupat0x7fe1d658da60_238&#45;&gt;c_functionremove_html_markupat0x7fe1d658da60_243</title>\n",
       "<path fill=\"none\" stroke=\"#000000\" d=\"M114.5732,-303.9875C111.1252,-293.3971 107.1405,-280.1111 104.5,-268 99.7459,-246.1945 96.4275,-221.2013 94.3337,-202.1837\"/>\n",
       "<polygon fill=\"#000000\" stroke=\"#000000\" points=\"97.7918,-201.5999 93.268,-192.0194 90.8299,-202.3299 97.7918,-201.5999\"/>\n",
       "</g>\n",
       "<!-- quote_functionremove_html_markupat0x7fe1d658da60_240 -->\n",
       "<g id=\"node5\" class=\"node\">\n",
       "<title>quote_functionremove_html_markupat0x7fe1d658da60_240</title>\n",
       "<g id=\"a_node5\"><a xlink:title=\"remove_html_markup:240\">\n",
       "<polygon fill=\"#ffdab9\" stroke=\"#000000\" points=\"201,-268 114,-268 114,-228 201,-228 201,-268\"/>\n",
       "<text text-anchor=\"start\" x=\"136\" y=\"-253.8\" font-family=\"Fira Mono, Courier, monospace\" font-weight=\"bold\" font-size=\"14.00\" fill=\"#000000\">quote</text>\n",
       "<text text-anchor=\"start\" x=\"122\" y=\"-234.8\" font-family=\"Fira Mono, Courier, monospace\" font-size=\"9.00\" fill=\"#000000\">quote = False</text>\n",
       "</a>\n",
       "</g>\n",
       "</g>\n",
       "<!-- s_functionremove_html_markupat0x7fe1d658da60_238&#45;&gt;quote_functionremove_html_markupat0x7fe1d658da60_240 -->\n",
       "<!-- quote_functionremove_html_markupat0x7fe1d658da60_240&#45;&gt;test_functionremove_html_markupat0x7fe1d658da60_246 -->\n",
       "<g id=\"edge3\" class=\"edge\">\n",
       "<title>quote_functionremove_html_markupat0x7fe1d658da60_240&#45;&gt;test_functionremove_html_markupat0x7fe1d658da60_246</title>\n",
       "<path fill=\"none\" stroke=\"#000000\" d=\"M156.4437,-227.9674C154.7314,-207.8864 150.2461,-176.5152 138.5,-152 133.6788,-141.9378 126.6268,-132.1828 119.4445,-123.7107\"/>\n",
       "<polygon fill=\"#000000\" stroke=\"#000000\" points=\"121.8521,-121.1515 112.587,-116.0127 116.6253,-125.8078 121.8521,-121.1515\"/>\n",
       "</g>\n",
       "<!-- quote_functionremove_html_markupat0x7fe1d658da60_240&#45;&gt;c_functionremove_html_markupat0x7fe1d658da60_243 -->\n",
       "</g>\n",
       "</svg>\n"
      ],
      "text/plain": [
       "Dependencies(\n",
       "    data={\n",
       "        ('tag', (remove_html_markup, 247)): set(),\n",
       "        ('<test>', (remove_html_markup, 246)): {('quote', (remove_html_markup, 240)), ('c', (remove_html_markup, 243))},\n",
       "        ('quote', (remove_html_markup, 240)): set(),\n",
       "        ('c', (remove_html_markup, 243)): {('s', (remove_html_markup, 238))},\n",
       "        ('s', (remove_html_markup, 238)): set()},\n",
       " control={\n",
       "        ('tag', (remove_html_markup, 247)): {('<test>', (remove_html_markup, 246))},\n",
       "        ('<test>', (remove_html_markup, 246)): set(),\n",
       "        ('quote', (remove_html_markup, 240)): set(),\n",
       "        ('c', (remove_html_markup, 243)): set(),\n",
       "        ('s', (remove_html_markup, 238)): set()})"
      ]
     },
     "execution_count": 1,
     "metadata": {},
     "output_type": "execute_result"
    }
   ],
   "source": [
    "slicing_criterion = ('tag', (remove_html_markup,\n",
    "                             start_remove_html_markup + 9))\n",
    "tag_deps = rhm_slicer.dependencies().backward_slice(slicing_criterion)  # type: ignore\n",
    "tag_deps"
   ]
  },
  {
   "cell_type": "code",
   "execution_count": 208,
   "metadata": {
    "execution": {
     "iopub.execute_input": "2021-03-05T23:37:22.594693Z",
     "iopub.status.busy": "2021-03-05T23:37:22.594176Z",
     "iopub.status.idle": "2021-03-05T23:37:22.595720Z",
     "shell.execute_reply": "2021-03-05T23:37:22.596093Z"
    },
    "slideshow": {
     "slide_type": "subslide"
    }
   },
   "outputs": [],
   "source": [
    "# repr(tag_deps)"
   ]
  },
  {
   "cell_type": "markdown",
   "metadata": {
    "slideshow": {
     "slide_type": "subslide"
    }
   },
   "source": [
    "### Calls and Augmented Assign"
   ]
  },
  {
   "cell_type": "markdown",
   "metadata": {
    "slideshow": {
     "slide_type": "fragment"
    }
   },
   "source": [
    "Our last example covers augmented assigns and data flow across function calls. We introduce two simple functions `add_to()` and `mul_with()`:"
   ]
  },
  {
   "cell_type": "code",
   "execution_count": 209,
   "metadata": {
    "execution": {
     "iopub.execute_input": "2021-03-05T23:37:22.599270Z",
     "iopub.status.busy": "2021-03-05T23:37:22.598758Z",
     "iopub.status.idle": "2021-03-05T23:37:22.600461Z",
     "shell.execute_reply": "2021-03-05T23:37:22.601050Z"
    },
    "slideshow": {
     "slide_type": "fragment"
    }
   },
   "outputs": [],
   "source": [
    "def add_to(n, m):  # type: ignore\n",
    "    n += m\n",
    "    return n"
   ]
  },
  {
   "cell_type": "code",
   "execution_count": 210,
   "metadata": {
    "execution": {
     "iopub.execute_input": "2021-03-05T23:37:22.604397Z",
     "iopub.status.busy": "2021-03-05T23:37:22.603877Z",
     "iopub.status.idle": "2021-03-05T23:37:22.605449Z",
     "shell.execute_reply": "2021-03-05T23:37:22.605851Z"
    },
    "slideshow": {
     "slide_type": "fragment"
    }
   },
   "outputs": [],
   "source": [
    "def mul_with(x, y):  # type: ignore\n",
    "    x *= y\n",
    "    return x"
   ]
  },
  {
   "cell_type": "markdown",
   "metadata": {
    "slideshow": {
     "slide_type": "fragment"
    }
   },
   "source": [
    "And we put these two together in a single call:"
   ]
  },
  {
   "cell_type": "code",
   "execution_count": 211,
   "metadata": {
    "execution": {
     "iopub.execute_input": "2021-03-05T23:37:22.609033Z",
     "iopub.status.busy": "2021-03-05T23:37:22.608478Z",
     "iopub.status.idle": "2021-03-05T23:37:22.609926Z",
     "shell.execute_reply": "2021-03-05T23:37:22.610355Z"
    },
    "slideshow": {
     "slide_type": "fragment"
    }
   },
   "outputs": [],
   "source": [
    "def test_math() -> None:\n",
    "    return mul_with(1, add_to(2, 3))"
   ]
  },
  {
   "cell_type": "code",
   "execution_count": 212,
   "metadata": {
    "execution": {
     "iopub.execute_input": "2021-03-05T23:37:22.615093Z",
     "iopub.status.busy": "2021-03-05T23:37:22.614562Z",
     "iopub.status.idle": "2021-03-05T23:37:22.621382Z",
     "shell.execute_reply": "2021-03-05T23:37:22.621783Z"
    },
    "slideshow": {
     "slide_type": "fragment"
    }
   },
   "outputs": [],
   "source": [
    "with Slicer(add_to, mul_with, test_math) as math_slicer:\n",
    "    test_math()"
   ]
  },
  {
   "cell_type": "markdown",
   "metadata": {
    "slideshow": {
     "slide_type": "subslide"
    }
   },
   "source": [
    "The resulting dependence graph nicely captures the data flow between these calls, notably arguments and parameters:"
   ]
  },
  {
   "cell_type": "code",
   "execution_count": 213,
   "metadata": {
    "execution": {
     "iopub.execute_input": "2021-03-05T23:37:22.626993Z",
     "iopub.status.busy": "2021-03-05T23:37:22.625385Z",
     "iopub.status.idle": "2021-03-05T23:37:23.279526Z",
     "shell.execute_reply": "2021-03-05T23:37:23.279907Z"
    },
    "slideshow": {
     "slide_type": "fragment"
    }
   },
   "outputs": [
    {
     "data": {
      "image/svg+xml": [
       "<?xml version=\"1.0\" encoding=\"UTF-8\" standalone=\"no\"?>\n",
       "<!DOCTYPE svg PUBLIC \"-//W3C//DTD SVG 1.1//EN\"\n",
       " \"http://www.w3.org/Graphics/SVG/1.1/DTD/svg11.dtd\">\n",
       "<!-- Generated by graphviz version 2.40.1 (20161225.0304)\n",
       " -->\n",
       "<!-- Title: dependencies Pages: 1 -->\n",
       "<svg width=\"453pt\" height=\"504pt\"\n",
       " viewBox=\"0.00 0.00 452.50 504.00\" xmlns=\"http://www.w3.org/2000/svg\" xmlns:xlink=\"http://www.w3.org/1999/xlink\">\n",
       "<g id=\"graph0\" class=\"graph\" transform=\"scale(1 1) rotate(0) translate(4 500)\">\n",
       "<title>dependencies</title>\n",
       "<polygon fill=\"#ffffff\" stroke=\"transparent\" points=\"-4,4 -4,-500 448.5,-500 448.5,4 -4,4\"/>\n",
       "<!-- n_functionadd_toat0x7fe1d658dd90_2 -->\n",
       "<g id=\"node1\" class=\"node\">\n",
       "<title>n_functionadd_toat0x7fe1d658dd90_2</title>\n",
       "<g id=\"a_node1\"><a xlink:title=\"add_to:2\">\n",
       "<polygon fill=\"#ffdab9\" stroke=\"#000000\" points=\"354,-420 300,-420 300,-380 354,-380 354,-420\"/>\n",
       "<text text-anchor=\"start\" x=\"322.5\" y=\"-405.8\" font-family=\"Fira Mono, Courier, monospace\" font-weight=\"bold\" font-size=\"14.00\" fill=\"#000000\">n</text>\n",
       "<text text-anchor=\"start\" x=\"310.5\" y=\"-386.8\" font-family=\"Fira Mono, Courier, monospace\" font-size=\"9.00\" fill=\"#000000\">n += m</text>\n",
       "</a>\n",
       "</g>\n",
       "</g>\n",
       "<!-- add_toreturnvalue_functionadd_toat0x7fe1d658dd90_3 -->\n",
       "<g id=\"node8\" class=\"node\">\n",
       "<title>add_toreturnvalue_functionadd_toat0x7fe1d658dd90_3</title>\n",
       "<g id=\"a_node8\"><a xlink:title=\"add_to:3\">\n",
       "<polygon fill=\"#ffdab9\" stroke=\"#000000\" points=\"432,-344 222,-344 222,-304 432,-304 432,-344\"/>\n",
       "<text text-anchor=\"start\" x=\"230\" y=\"-329.8\" font-family=\"Fira Mono, Courier, monospace\" font-weight=\"bold\" font-style=\"italic\" font-size=\"14.00\" fill=\"#000000\">&lt;add_to() return value&gt;</text>\n",
       "<text text-anchor=\"start\" x=\"305\" y=\"-310.8\" font-family=\"Fira Mono, Courier, monospace\" font-size=\"9.00\" fill=\"#000000\">return n</text>\n",
       "</a>\n",
       "</g>\n",
       "</g>\n",
       "<!-- n_functionadd_toat0x7fe1d658dd90_2&#45;&gt;add_toreturnvalue_functionadd_toat0x7fe1d658dd90_3 -->\n",
       "<g id=\"edge8\" class=\"edge\">\n",
       "<title>n_functionadd_toat0x7fe1d658dd90_2&#45;&gt;add_toreturnvalue_functionadd_toat0x7fe1d658dd90_3</title>\n",
       "<path fill=\"none\" stroke=\"#000000\" d=\"M320.9426,-379.6334C320.2819,-371.8186 320.0939,-362.7253 320.3786,-354.183\"/>\n",
       "<polygon fill=\"#000000\" stroke=\"#000000\" points=\"323.875,-354.3453 320.9602,-344.1593 316.8867,-353.9397 323.875,-354.3453\"/>\n",
       "</g>\n",
       "<!-- n_functionadd_toat0x7fe1d658dd90_2&#45;&gt;add_toreturnvalue_functionadd_toat0x7fe1d658dd90_3 -->\n",
       "<!-- m_functionadd_toat0x7fe1d658dd90_1 -->\n",
       "<g id=\"node2\" class=\"node\">\n",
       "<title>m_functionadd_toat0x7fe1d658dd90_1</title>\n",
       "<g id=\"a_node2\"><a xlink:title=\"add_to:1\">\n",
       "<polygon fill=\"#ffdab9\" stroke=\"#000000\" points=\"211.5,-496 16.5,-496 16.5,-456 211.5,-456 211.5,-496\"/>\n",
       "<text text-anchor=\"start\" x=\"109.5\" y=\"-481.8\" font-family=\"Fira Mono, Courier, monospace\" font-weight=\"bold\" font-size=\"14.00\" fill=\"#000000\">m</text>\n",
       "<text text-anchor=\"start\" x=\"24.5\" y=\"-462.8\" font-family=\"Fira Mono, Courier, monospace\" font-size=\"9.00\" fill=\"#000000\">def add_to(n, m): &#160;# type: ignore</text>\n",
       "</a>\n",
       "</g>\n",
       "</g>\n",
       "<!-- m_functionadd_toat0x7fe1d658dd90_1&#45;&gt;n_functionadd_toat0x7fe1d658dd90_2 -->\n",
       "<g id=\"edge1\" class=\"edge\">\n",
       "<title>m_functionadd_toat0x7fe1d658dd90_1&#45;&gt;n_functionadd_toat0x7fe1d658dd90_2</title>\n",
       "<path fill=\"none\" stroke=\"#000000\" d=\"M170.2419,-455.9325C208.1076,-442.4217 256.9715,-424.9867 290.0016,-413.2013\"/>\n",
       "<polygon fill=\"#000000\" stroke=\"#000000\" points=\"291.4721,-416.3928 299.7143,-409.7357 289.1197,-409.7999 291.4721,-416.3928\"/>\n",
       "</g>\n",
       "<!-- n_functionadd_toat0x7fe1d658dd90_1 -->\n",
       "<g id=\"node3\" class=\"node\">\n",
       "<title>n_functionadd_toat0x7fe1d658dd90_1</title>\n",
       "<g id=\"a_node3\"><a xlink:title=\"add_to:1\">\n",
       "<polygon fill=\"#ffdab9\" stroke=\"#000000\" points=\"424.5,-496 229.5,-496 229.5,-456 424.5,-456 424.5,-496\"/>\n",
       "<text text-anchor=\"start\" x=\"322.5\" y=\"-481.8\" font-family=\"Fira Mono, Courier, monospace\" font-weight=\"bold\" font-size=\"14.00\" fill=\"#000000\">n</text>\n",
       "<text text-anchor=\"start\" x=\"237.5\" y=\"-462.8\" font-family=\"Fira Mono, Courier, monospace\" font-size=\"9.00\" fill=\"#000000\">def add_to(n, m): &#160;# type: ignore</text>\n",
       "</a>\n",
       "</g>\n",
       "</g>\n",
       "<!-- n_functionadd_toat0x7fe1d658dd90_1&#45;&gt;n_functionadd_toat0x7fe1d658dd90_2 -->\n",
       "<g id=\"edge2\" class=\"edge\">\n",
       "<title>n_functionadd_toat0x7fe1d658dd90_1&#45;&gt;n_functionadd_toat0x7fe1d658dd90_2</title>\n",
       "<path fill=\"none\" stroke=\"#000000\" d=\"M320.9426,-455.6334C320.2819,-447.8186 320.0939,-438.7253 320.3786,-430.183\"/>\n",
       "<polygon fill=\"#000000\" stroke=\"#000000\" points=\"323.875,-430.3453 320.9602,-420.1593 316.8867,-429.9397 323.875,-430.3453\"/>\n",
       "</g>\n",
       "<!-- n_functionadd_toat0x7fe1d658dd90_1&#45;&gt;n_functionadd_toat0x7fe1d658dd90_2 -->\n",
       "<!-- x_functionmul_withat0x7fe1d656b488_2 -->\n",
       "<g id=\"node4\" class=\"node\">\n",
       "<title>x_functionmul_withat0x7fe1d656b488_2</title>\n",
       "<g id=\"a_node4\"><a xlink:title=\"mul_with:2\">\n",
       "<polygon fill=\"#ffdab9\" stroke=\"#000000\" points=\"354,-192 300,-192 300,-152 354,-152 354,-192\"/>\n",
       "<text text-anchor=\"start\" x=\"322.5\" y=\"-177.8\" font-family=\"Fira Mono, Courier, monospace\" font-weight=\"bold\" font-size=\"14.00\" fill=\"#000000\">x</text>\n",
       "<text text-anchor=\"start\" x=\"310.5\" y=\"-158.8\" font-family=\"Fira Mono, Courier, monospace\" font-size=\"9.00\" fill=\"#000000\">x *= y</text>\n",
       "</a>\n",
       "</g>\n",
       "</g>\n",
       "<!-- mul_withreturnvalue_functionmul_withat0x7fe1d656b488_3 -->\n",
       "<g id=\"node7\" class=\"node\">\n",
       "<title>mul_withreturnvalue_functionmul_withat0x7fe1d656b488_3</title>\n",
       "<g id=\"a_node7\"><a xlink:title=\"mul_with:3\">\n",
       "<polygon fill=\"#ffdab9\" stroke=\"#000000\" points=\"440.5,-116 213.5,-116 213.5,-76 440.5,-76 440.5,-116\"/>\n",
       "<text text-anchor=\"start\" x=\"221.5\" y=\"-101.8\" font-family=\"Fira Mono, Courier, monospace\" font-weight=\"bold\" font-style=\"italic\" font-size=\"14.00\" fill=\"#000000\">&lt;mul_with() return value&gt;</text>\n",
       "<text text-anchor=\"start\" x=\"305\" y=\"-82.8\" font-family=\"Fira Mono, Courier, monospace\" font-size=\"9.00\" fill=\"#000000\">return x</text>\n",
       "</a>\n",
       "</g>\n",
       "</g>\n",
       "<!-- x_functionmul_withat0x7fe1d656b488_2&#45;&gt;mul_withreturnvalue_functionmul_withat0x7fe1d656b488_3 -->\n",
       "<g id=\"edge5\" class=\"edge\">\n",
       "<title>x_functionmul_withat0x7fe1d656b488_2&#45;&gt;mul_withreturnvalue_functionmul_withat0x7fe1d656b488_3</title>\n",
       "<path fill=\"none\" stroke=\"#000000\" d=\"M320.9426,-151.6334C320.2819,-143.8186 320.0939,-134.7253 320.3786,-126.183\"/>\n",
       "<polygon fill=\"#000000\" stroke=\"#000000\" points=\"323.875,-126.3453 320.9602,-116.1593 316.8867,-125.9397 323.875,-126.3453\"/>\n",
       "</g>\n",
       "<!-- x_functionmul_withat0x7fe1d656b488_2&#45;&gt;mul_withreturnvalue_functionmul_withat0x7fe1d656b488_3 -->\n",
       "<!-- x_functionmul_withat0x7fe1d656b488_1 -->\n",
       "<g id=\"node5\" class=\"node\">\n",
       "<title>x_functionmul_withat0x7fe1d656b488_1</title>\n",
       "<g id=\"a_node5\"><a xlink:title=\"mul_with:1\">\n",
       "<polygon fill=\"#ffdab9\" stroke=\"#000000\" points=\"206,-268 0,-268 0,-228 206,-228 206,-268\"/>\n",
       "<text text-anchor=\"start\" x=\"98.5\" y=\"-253.8\" font-family=\"Fira Mono, Courier, monospace\" font-weight=\"bold\" font-size=\"14.00\" fill=\"#000000\">x</text>\n",
       "<text text-anchor=\"start\" x=\"8\" y=\"-234.8\" font-family=\"Fira Mono, Courier, monospace\" font-size=\"9.00\" fill=\"#000000\">def mul_with(x, y): &#160;# type: ignore</text>\n",
       "</a>\n",
       "</g>\n",
       "</g>\n",
       "<!-- x_functionmul_withat0x7fe1d656b488_1&#45;&gt;x_functionmul_withat0x7fe1d656b488_2 -->\n",
       "<g id=\"edge3\" class=\"edge\">\n",
       "<title>x_functionmul_withat0x7fe1d656b488_1&#45;&gt;x_functionmul_withat0x7fe1d656b488_2</title>\n",
       "<path fill=\"none\" stroke=\"#000000\" d=\"M162.1464,-227.9325C202.7291,-214.1633 255.3246,-196.3184 290.0652,-184.5314\"/>\n",
       "<polygon fill=\"#000000\" stroke=\"#000000\" points=\"291.4573,-187.7552 299.8025,-181.2277 289.2082,-181.1263 291.4573,-187.7552\"/>\n",
       "</g>\n",
       "<!-- y_functionmul_withat0x7fe1d656b488_1 -->\n",
       "<g id=\"node6\" class=\"node\">\n",
       "<title>y_functionmul_withat0x7fe1d656b488_1</title>\n",
       "<g id=\"a_node6\"><a xlink:title=\"mul_with:1\">\n",
       "<polygon fill=\"#ffdab9\" stroke=\"#000000\" points=\"430,-268 224,-268 224,-228 430,-228 430,-268\"/>\n",
       "<text text-anchor=\"start\" x=\"322.5\" y=\"-253.8\" font-family=\"Fira Mono, Courier, monospace\" font-weight=\"bold\" font-size=\"14.00\" fill=\"#000000\">y</text>\n",
       "<text text-anchor=\"start\" x=\"232\" y=\"-234.8\" font-family=\"Fira Mono, Courier, monospace\" font-size=\"9.00\" fill=\"#000000\">def mul_with(x, y): &#160;# type: ignore</text>\n",
       "</a>\n",
       "</g>\n",
       "</g>\n",
       "<!-- y_functionmul_withat0x7fe1d656b488_1&#45;&gt;x_functionmul_withat0x7fe1d656b488_2 -->\n",
       "<g id=\"edge4\" class=\"edge\">\n",
       "<title>y_functionmul_withat0x7fe1d656b488_1&#45;&gt;x_functionmul_withat0x7fe1d656b488_2</title>\n",
       "<path fill=\"none\" stroke=\"#000000\" d=\"M320.9426,-227.6334C320.2819,-219.8186 320.0939,-210.7253 320.3786,-202.183\"/>\n",
       "<polygon fill=\"#000000\" stroke=\"#000000\" points=\"323.875,-202.3453 320.9602,-192.1593 316.8867,-201.9397 323.875,-202.3453\"/>\n",
       "</g>\n",
       "<!-- y_functionmul_withat0x7fe1d656b488_1&#45;&gt;x_functionmul_withat0x7fe1d656b488_2 -->\n",
       "<!-- test_mathreturnvalue_functiontest_mathat0x7fe1d659d2f0_2 -->\n",
       "<g id=\"node9\" class=\"node\">\n",
       "<title>test_mathreturnvalue_functiontest_mathat0x7fe1d659d2f0_2</title>\n",
       "<g id=\"a_node9\"><a xlink:title=\"test_math:2\">\n",
       "<polygon fill=\"#ffdab9\" stroke=\"#000000\" points=\"444.5,-40 209.5,-40 209.5,0 444.5,0 444.5,-40\"/>\n",
       "<text text-anchor=\"start\" x=\"217.5\" y=\"-25.8\" font-family=\"Fira Mono, Courier, monospace\" font-weight=\"bold\" font-style=\"italic\" font-size=\"14.00\" fill=\"#000000\">&lt;test_math() return value&gt;</text>\n",
       "<text text-anchor=\"start\" x=\"240.5\" y=\"-6.8\" font-family=\"Fira Mono, Courier, monospace\" font-size=\"9.00\" fill=\"#000000\">return mul_with(1, add_to(2, 3))</text>\n",
       "</a>\n",
       "</g>\n",
       "</g>\n",
       "<!-- mul_withreturnvalue_functionmul_withat0x7fe1d656b488_3&#45;&gt;test_mathreturnvalue_functiontest_mathat0x7fe1d659d2f0_2 -->\n",
       "<g id=\"edge7\" class=\"edge\">\n",
       "<title>mul_withreturnvalue_functionmul_withat0x7fe1d656b488_3&#45;&gt;test_mathreturnvalue_functiontest_mathat0x7fe1d659d2f0_2</title>\n",
       "<path fill=\"none\" stroke=\"#000000\" d=\"M327,-75.6334C327,-67.8186 327,-58.7253 327,-50.183\"/>\n",
       "<polygon fill=\"#000000\" stroke=\"#000000\" points=\"330.5001,-50.1593 327,-40.1593 323.5001,-50.1593 330.5001,-50.1593\"/>\n",
       "</g>\n",
       "<!-- add_toreturnvalue_functionadd_toat0x7fe1d658dd90_3&#45;&gt;y_functionmul_withat0x7fe1d656b488_1 -->\n",
       "<g id=\"edge6\" class=\"edge\">\n",
       "<title>add_toreturnvalue_functionadd_toat0x7fe1d658dd90_3&#45;&gt;y_functionmul_withat0x7fe1d656b488_1</title>\n",
       "<path fill=\"none\" stroke=\"#000000\" d=\"M327,-303.6334C327,-295.8186 327,-286.7253 327,-278.183\"/>\n",
       "<polygon fill=\"#000000\" stroke=\"#000000\" points=\"330.5001,-278.1593 327,-268.1593 323.5001,-278.1593 330.5001,-278.1593\"/>\n",
       "</g>\n",
       "</g>\n",
       "</svg>\n"
      ],
      "text/plain": [
       "<__main__.Slicer at 0x7fe1d6768518>"
      ]
     },
     "execution_count": 1,
     "metadata": {},
     "output_type": "execute_result"
    }
   ],
   "source": [
    "math_slicer"
   ]
  },
  {
   "cell_type": "markdown",
   "metadata": {
    "slideshow": {
     "slide_type": "fragment"
    }
   },
   "source": [
    "These are also reflected in the code view:"
   ]
  },
  {
   "cell_type": "code",
   "execution_count": 214,
   "metadata": {
    "execution": {
     "iopub.execute_input": "2021-03-05T23:37:23.284316Z",
     "iopub.status.busy": "2021-03-05T23:37:23.283319Z",
     "iopub.status.idle": "2021-03-05T23:37:23.317224Z",
     "shell.execute_reply": "2021-03-05T23:37:23.317659Z"
    },
    "slideshow": {
     "slide_type": "subslide"
    }
   },
   "outputs": [
    {
     "name": "stdout",
     "output_type": "stream",
     "text": [
      "*    1 \u001b[34mdef\u001b[39;49;00m \u001b[32madd_to\u001b[39;49;00m(n, m):  \u001b[37m# type: ignore\u001b[39;49;00m\n",
      "*    2     n += m  \u001b[37m# <= m (1), n (1)\u001b[39;49;00m\n",
      "*    3     \u001b[34mreturn\u001b[39;49;00m n  \u001b[37m# <= n (2)\u001b[39;49;00m\n",
      "\n",
      "*    1 \u001b[34mdef\u001b[39;49;00m \u001b[32mmul_with\u001b[39;49;00m(x, y):  \u001b[37m# type: ignore  # <= <add_to() return value> (add_to:3)\u001b[39;49;00m\n",
      "*    2     x *= y  \u001b[37m# <= x (1), y (1)\u001b[39;49;00m\n",
      "*    3     \u001b[34mreturn\u001b[39;49;00m x  \u001b[37m# <= x (2)\u001b[39;49;00m\n",
      "\n",
      "     1 \u001b[34mdef\u001b[39;49;00m \u001b[32mtest_math\u001b[39;49;00m() -> \u001b[34mNone\u001b[39;49;00m:\n",
      "*    2     \u001b[34mreturn\u001b[39;49;00m mul_with(\u001b[34m1\u001b[39;49;00m, add_to(\u001b[34m2\u001b[39;49;00m, \u001b[34m3\u001b[39;49;00m))  \u001b[37m# <= <mul_with() return value> (mul_with:3)\u001b[39;49;00m\n"
     ]
    }
   ],
   "source": [
    "math_slicer.code()"
   ]
  },
  {
   "cell_type": "markdown",
   "metadata": {
    "slideshow": {
     "slide_type": "slide"
    }
   },
   "source": [
    "## More Applications"
   ]
  },
  {
   "cell_type": "markdown",
   "metadata": {
    "slideshow": {
     "slide_type": "fragment"
    }
   },
   "source": [
    "\\todo{Present some more applications}:\n",
    "\n",
    "* Learning across multiple (passing) runs\n",
    "* Detecting deviations\n",
    "* Statistical debugging with dependencies"
   ]
  },
  {
   "cell_type": "markdown",
   "metadata": {
    "slideshow": {
     "slide_type": "slide"
    }
   },
   "source": [
    "## Things that do not Work"
   ]
  },
  {
   "cell_type": "markdown",
   "metadata": {
    "slideshow": {
     "slide_type": "subslide"
    }
   },
   "source": [
    "Our slicer (and especially the underlying dependency tracker) is still a proof of concept. A number of Python features are not or only partially supported, and/or hardly tested:\n",
    "\n",
    "* __Exceptions__ are not handled. The code assumes that for every `call()`, there is a matching `ret()`; when exceptions break this, dependencies across function calls and arguments may be assigned incorrectly.\n",
    "* __Multiple definitions on a single line__  as in `x = y; x = 1` are not handled correctly. Our implementation assumes that there is one statement per line.\n",
    "* __If-Expressions__ (`y = 1 if x else 0`) do not create control dependencies, as there are no statements to control. Neither do `if` clauses in comprehensions.\n",
    "* __Asynchronous functions__ (`async`, `await`) are not tested.\n",
    "\n",
    "In these cases, the instrumentation and the underlying dependency tracker may fail to identify control and/or data flows. The semantics of the code, however, should always stay unchanged."
   ]
  },
  {
   "cell_type": "markdown",
   "metadata": {
    "slideshow": {
     "slide_type": "slide"
    }
   },
   "source": [
    "## Synopsis"
   ]
  },
  {
   "cell_type": "markdown",
   "metadata": {
    "slideshow": {
     "slide_type": "fragment"
    }
   },
   "source": [
    "This chapter provides a `Slicer` class to automatically determine and visualize dynamic dependencies. When we say that a variable $x$ depends on a variable $y$ (written $x \\leftarrow y$), we distinguish two kinds of dependencies:\n",
    "\n",
    "* **data dependencies**: $x$ obtains its value from a computation involving the value of $y$.\n",
    "* **control dependencies**: $x$ obtains its value because of a computation involving the value of $y$.\n",
    "\n",
    "Such dependencies are crucial for debugging, as they allow to determine the origins of individual values (and notably incorrect values)."
   ]
  },
  {
   "cell_type": "markdown",
   "metadata": {
    "slideshow": {
     "slide_type": "subslide"
    }
   },
   "source": [
    "To determine dynamic dependencies in a function `func` and its callees `func1`, `func2`, etc., use\n",
    "\n",
    "```python\n",
    "with Slicer(func, func1, func2) as slicer:\n",
    "    <Some code involving func()>\n",
    "```\n",
    "\n",
    "and then `slicer.graph()` or `slicer.code()` to examine dependencies."
   ]
  },
  {
   "cell_type": "markdown",
   "metadata": {
    "slideshow": {
     "slide_type": "fragment"
    }
   },
   "source": [
    "Here is an example. The `demo()` function computes some number from `x`:"
   ]
  },
  {
   "cell_type": "code",
   "execution_count": 215,
   "metadata": {
    "execution": {
     "iopub.execute_input": "2021-03-05T23:37:23.322636Z",
     "iopub.status.busy": "2021-03-05T23:37:23.321969Z",
     "iopub.status.idle": "2021-03-05T23:37:23.323808Z",
     "shell.execute_reply": "2021-03-05T23:37:23.324250Z"
    },
    "slideshow": {
     "slide_type": "subslide"
    }
   },
   "outputs": [],
   "source": [
    "def demo(x: int) -> int:\n",
    "    z = x\n",
    "    while x <= z <= 64:\n",
    "        z *= 2\n",
    "    return z"
   ]
  },
  {
   "cell_type": "markdown",
   "metadata": {
    "slideshow": {
     "slide_type": "fragment"
    }
   },
   "source": [
    "By using `with Slicer(demo)`, we first instrument `demo()` and then execute it:"
   ]
  },
  {
   "cell_type": "code",
   "execution_count": 216,
   "metadata": {
    "execution": {
     "iopub.execute_input": "2021-03-05T23:37:23.331115Z",
     "iopub.status.busy": "2021-03-05T23:37:23.330519Z",
     "iopub.status.idle": "2021-03-05T23:37:23.332435Z",
     "shell.execute_reply": "2021-03-05T23:37:23.332934Z"
    },
    "slideshow": {
     "slide_type": "fragment"
    }
   },
   "outputs": [],
   "source": [
    "with Slicer(demo) as slicer:\n",
    "    demo(10)"
   ]
  },
  {
   "cell_type": "markdown",
   "metadata": {
    "slideshow": {
     "slide_type": "fragment"
    }
   },
   "source": [
    "After execution is complete, you can output `slicer` to visualize the dependencies as graph. Data dependencies are shown as black solid edges; control dependencies are shown as grey dashed edges. We see how the parameter `x` flows into `z`, which is returned after some computation that is control dependent on a `<test>` involving `z`."
   ]
  },
  {
   "cell_type": "code",
   "execution_count": 217,
   "metadata": {
    "execution": {
     "iopub.execute_input": "2021-03-05T23:37:23.336380Z",
     "iopub.status.busy": "2021-03-05T23:37:23.335844Z",
     "iopub.status.idle": "2021-03-05T23:37:23.989660Z",
     "shell.execute_reply": "2021-03-05T23:37:23.990041Z"
    },
    "slideshow": {
     "slide_type": "subslide"
    }
   },
   "outputs": [
    {
     "data": {
      "image/svg+xml": [
       "<?xml version=\"1.0\" encoding=\"UTF-8\" standalone=\"no\"?>\n",
       "<!DOCTYPE svg PUBLIC \"-//W3C//DTD SVG 1.1//EN\"\n",
       " \"http://www.w3.org/Graphics/SVG/1.1/DTD/svg11.dtd\">\n",
       "<!-- Generated by graphviz version 2.40.1 (20161225.0304)\n",
       " -->\n",
       "<!-- Title: dependencies Pages: 1 -->\n",
       "<svg width=\"348pt\" height=\"276pt\"\n",
       " viewBox=\"0.00 0.00 347.50 276.00\" xmlns=\"http://www.w3.org/2000/svg\" xmlns:xlink=\"http://www.w3.org/1999/xlink\">\n",
       "<g id=\"graph0\" class=\"graph\" transform=\"scale(1 1) rotate(0) translate(4 272)\">\n",
       "<title>dependencies</title>\n",
       "<polygon fill=\"#ffffff\" stroke=\"transparent\" points=\"-4,4 -4,-272 343.5,-272 343.5,4 -4,4\"/>\n",
       "<!-- demoreturnvalue_functiondemoat0x7fe1d70882f0_5 -->\n",
       "<g id=\"node1\" class=\"node\">\n",
       "<title>demoreturnvalue_functiondemoat0x7fe1d70882f0_5</title>\n",
       "<g id=\"a_node1\"><a xlink:title=\"demo:5\">\n",
       "<polygon fill=\"#ffdab9\" stroke=\"#000000\" points=\"339.5,-40 146.5,-40 146.5,0 339.5,0 339.5,-40\"/>\n",
       "<text text-anchor=\"start\" x=\"154.5\" y=\"-25.8\" font-family=\"Fira Mono, Courier, monospace\" font-weight=\"bold\" font-style=\"italic\" font-size=\"14.00\" fill=\"#000000\">&lt;demo() return value&gt;</text>\n",
       "<text text-anchor=\"start\" x=\"221\" y=\"-6.8\" font-family=\"Fira Mono, Courier, monospace\" font-size=\"9.00\" fill=\"#000000\">return z</text>\n",
       "</a>\n",
       "</g>\n",
       "</g>\n",
       "<!-- z_functiondemoat0x7fe1d70882f0_4 -->\n",
       "<g id=\"node2\" class=\"node\">\n",
       "<title>z_functiondemoat0x7fe1d70882f0_4</title>\n",
       "<g id=\"a_node2\"><a xlink:title=\"demo:4\">\n",
       "<polygon fill=\"#ffdab9\" stroke=\"#000000\" points=\"160,-116 106,-116 106,-76 160,-76 160,-116\"/>\n",
       "<text text-anchor=\"start\" x=\"128.5\" y=\"-101.8\" font-family=\"Fira Mono, Courier, monospace\" font-weight=\"bold\" font-size=\"14.00\" fill=\"#000000\">z</text>\n",
       "<text text-anchor=\"start\" x=\"116.5\" y=\"-82.8\" font-family=\"Fira Mono, Courier, monospace\" font-size=\"9.00\" fill=\"#000000\">z *= 2</text>\n",
       "</a>\n",
       "</g>\n",
       "</g>\n",
       "<!-- z_functiondemoat0x7fe1d70882f0_4&#45;&gt;demoreturnvalue_functiondemoat0x7fe1d70882f0_5 -->\n",
       "<g id=\"edge1\" class=\"edge\">\n",
       "<title>z_functiondemoat0x7fe1d70882f0_4&#45;&gt;demoreturnvalue_functiondemoat0x7fe1d70882f0_5</title>\n",
       "<path fill=\"none\" stroke=\"#000000\" d=\"M156.1487,-75.8329C168.6617,-66.6428 184.4368,-55.6529 199.1315,-45.8637\"/>\n",
       "<polygon fill=\"#000000\" stroke=\"#000000\" points=\"201.205,-48.6888 207.6259,-40.2613 197.351,-42.8453 201.205,-48.6888\"/>\n",
       "</g>\n",
       "<!-- z_functiondemoat0x7fe1d70882f0_4&#45;&gt;demoreturnvalue_functiondemoat0x7fe1d70882f0_5 -->\n",
       "<!-- z_functiondemoat0x7fe1d70882f0_4&#45;&gt;z_functiondemoat0x7fe1d70882f0_4 -->\n",
       "<g id=\"edge7\" class=\"edge\">\n",
       "<title>z_functiondemoat0x7fe1d70882f0_4&#45;&gt;z_functiondemoat0x7fe1d70882f0_4</title>\n",
       "<path fill=\"none\" stroke=\"#000000\" d=\"M160.2408,-110.2361C170.0239,-110.5422 178,-105.7969 178,-96 178,-89.877 174.8843,-85.7272 170.1591,-83.5506\"/>\n",
       "<polygon fill=\"#000000\" stroke=\"#000000\" points=\"170.7029,-80.0923 160.2408,-81.7639 169.4618,-86.9814 170.7029,-80.0923\"/>\n",
       "</g>\n",
       "<!-- test_functiondemoat0x7fe1d70882f0_3 -->\n",
       "<g id=\"node3\" class=\"node\">\n",
       "<title>test_functiondemoat0x7fe1d70882f0_3</title>\n",
       "<g id=\"a_node3\"><a xlink:title=\"demo:3\">\n",
       "<polygon fill=\"#ffdab9\" stroke=\"#000000\" points=\"128.5,-40 9.5,-40 9.5,0 128.5,0 128.5,-40\"/>\n",
       "<text text-anchor=\"start\" x=\"43.5\" y=\"-25.8\" font-family=\"Fira Mono, Courier, monospace\" font-weight=\"bold\" font-style=\"italic\" font-size=\"14.00\" fill=\"#000000\">&lt;test&gt;</text>\n",
       "<text text-anchor=\"start\" x=\"17.5\" y=\"-6.8\" font-family=\"Fira Mono, Courier, monospace\" font-size=\"9.00\" fill=\"#000000\">while x &lt;= z &lt;= 64:</text>\n",
       "</a>\n",
       "</g>\n",
       "</g>\n",
       "<!-- z_functiondemoat0x7fe1d70882f0_4&#45;&gt;test_functiondemoat0x7fe1d70882f0_3 -->\n",
       "<g id=\"edge4\" class=\"edge\">\n",
       "<title>z_functiondemoat0x7fe1d70882f0_4&#45;&gt;test_functiondemoat0x7fe1d70882f0_3</title>\n",
       "<path fill=\"none\" stroke=\"#000000\" d=\"M105.7509,-77.6025C96.6553,-68.8363 87.2088,-58.1535 79.7908,-48.3797\"/>\n",
       "<polygon fill=\"#000000\" stroke=\"#000000\" points=\"82.524,-46.185 73.8539,-40.0955 76.8342,-50.2626 82.524,-46.185\"/>\n",
       "</g>\n",
       "<!-- test_functiondemoat0x7fe1d70882f0_3&#45;&gt;z_functiondemoat0x7fe1d70882f0_4 -->\n",
       "<g id=\"edge8\" class=\"edge\">\n",
       "<title>test_functiondemoat0x7fe1d70882f0_3&#45;&gt;z_functiondemoat0x7fe1d70882f0_4</title>\n",
       "<path fill=\"none\" stroke=\"#c0c0c0\" stroke-dasharray=\"5,2\" d=\"M85.9762,-40.1593C93.1148,-48.6363 101.5437,-58.6456 109.2794,-67.8318\"/>\n",
       "<polygon fill=\"#c0c0c0\" stroke=\"#c0c0c0\" points=\"106.7306,-70.2387 115.8492,-75.6334 112.085,-65.7298 106.7306,-70.2387\"/>\n",
       "</g>\n",
       "<!-- test_functiondemoat0x7fe1d70882f0_3&#45;&gt;z_functiondemoat0x7fe1d70882f0_4 -->\n",
       "<!-- z_functiondemoat0x7fe1d70882f0_2 -->\n",
       "<g id=\"node4\" class=\"node\">\n",
       "<title>z_functiondemoat0x7fe1d70882f0_2</title>\n",
       "<g id=\"a_node4\"><a xlink:title=\"demo:2\">\n",
       "<polygon fill=\"#ffdab9\" stroke=\"#000000\" points=\"100,-192 46,-192 46,-152 100,-152 100,-192\"/>\n",
       "<text text-anchor=\"start\" x=\"68.5\" y=\"-177.8\" font-family=\"Fira Mono, Courier, monospace\" font-weight=\"bold\" font-size=\"14.00\" fill=\"#000000\">z</text>\n",
       "<text text-anchor=\"start\" x=\"59\" y=\"-158.8\" font-family=\"Fira Mono, Courier, monospace\" font-size=\"9.00\" fill=\"#000000\">z = x</text>\n",
       "</a>\n",
       "</g>\n",
       "</g>\n",
       "<!-- z_functiondemoat0x7fe1d70882f0_2&#45;&gt;z_functiondemoat0x7fe1d70882f0_4 -->\n",
       "<g id=\"edge6\" class=\"edge\">\n",
       "<title>z_functiondemoat0x7fe1d70882f0_2&#45;&gt;z_functiondemoat0x7fe1d70882f0_4</title>\n",
       "<path fill=\"none\" stroke=\"#000000\" d=\"M89.0789,-151.6334C95.7231,-143.2175 103.5378,-133.3188 110.7193,-124.2223\"/>\n",
       "<polygon fill=\"#000000\" stroke=\"#000000\" points=\"113.6354,-126.1769 117.0848,-116.1593 108.1412,-121.8394 113.6354,-126.1769\"/>\n",
       "</g>\n",
       "<!-- z_functiondemoat0x7fe1d70882f0_2&#45;&gt;test_functiondemoat0x7fe1d70882f0_3 -->\n",
       "<g id=\"edge2\" class=\"edge\">\n",
       "<title>z_functiondemoat0x7fe1d70882f0_2&#45;&gt;test_functiondemoat0x7fe1d70882f0_3</title>\n",
       "<path fill=\"none\" stroke=\"#000000\" d=\"M67.7088,-151.8156C64.6666,-125.9232 63.2181,-80.7677 64.2653,-50.6288\"/>\n",
       "<polygon fill=\"#000000\" stroke=\"#000000\" points=\"67.7792,-50.4251 64.7658,-40.2679 60.7873,-50.0874 67.7792,-50.4251\"/>\n",
       "</g>\n",
       "<!-- z_functiondemoat0x7fe1d70882f0_2&#45;&gt;test_functiondemoat0x7fe1d70882f0_3 -->\n",
       "<!-- x_functiondemoat0x7fe1d70882f0_1 -->\n",
       "<g id=\"node5\" class=\"node\">\n",
       "<title>x_functiondemoat0x7fe1d70882f0_1</title>\n",
       "<g id=\"a_node5\"><a xlink:title=\"demo:1\">\n",
       "<polygon fill=\"#ffdab9\" stroke=\"#000000\" points=\"146,-268 0,-268 0,-228 146,-228 146,-268\"/>\n",
       "<text text-anchor=\"start\" x=\"68.5\" y=\"-253.8\" font-family=\"Fira Mono, Courier, monospace\" font-weight=\"bold\" font-size=\"14.00\" fill=\"#000000\">x</text>\n",
       "<text text-anchor=\"start\" x=\"8\" y=\"-234.8\" font-family=\"Fira Mono, Courier, monospace\" font-size=\"9.00\" fill=\"#000000\">def demo(x: int) &#45;&gt; int:</text>\n",
       "</a>\n",
       "</g>\n",
       "</g>\n",
       "<!-- x_functiondemoat0x7fe1d70882f0_1&#45;&gt;test_functiondemoat0x7fe1d70882f0_3 -->\n",
       "<g id=\"edge3\" class=\"edge\">\n",
       "<title>x_functiondemoat0x7fe1d70882f0_1&#45;&gt;test_functiondemoat0x7fe1d70882f0_3</title>\n",
       "<path fill=\"none\" stroke=\"#000000\" d=\"M56.0557,-227.8749C48.6578,-217.7868 40.8107,-204.9747 37,-192 22.627,-143.0627 40.8788,-84.3194 55.139,-49.6911\"/>\n",
       "<polygon fill=\"#000000\" stroke=\"#000000\" points=\"58.4951,-50.7446 59.2101,-40.1739 52.0592,-47.9915 58.4951,-50.7446\"/>\n",
       "</g>\n",
       "<!-- x_functiondemoat0x7fe1d70882f0_1&#45;&gt;z_functiondemoat0x7fe1d70882f0_2 -->\n",
       "<g id=\"edge5\" class=\"edge\">\n",
       "<title>x_functiondemoat0x7fe1d70882f0_1&#45;&gt;z_functiondemoat0x7fe1d70882f0_2</title>\n",
       "<path fill=\"none\" stroke=\"#000000\" d=\"M66.9426,-227.6334C66.2819,-219.8186 66.0939,-210.7253 66.3786,-202.183\"/>\n",
       "<polygon fill=\"#000000\" stroke=\"#000000\" points=\"69.875,-202.3453 66.9602,-192.1593 62.8867,-201.9397 69.875,-202.3453\"/>\n",
       "</g>\n",
       "<!-- x_functiondemoat0x7fe1d70882f0_1&#45;&gt;z_functiondemoat0x7fe1d70882f0_2 -->\n",
       "</g>\n",
       "</svg>\n"
      ],
      "text/plain": [
       "<__main__.Slicer at 0x7fe1d6768d68>"
      ]
     },
     "execution_count": 1,
     "metadata": {},
     "output_type": "execute_result"
    }
   ],
   "source": [
    "slicer"
   ]
  },
  {
   "cell_type": "markdown",
   "metadata": {
    "slideshow": {
     "slide_type": "fragment"
    }
   },
   "source": [
    "An alternate representation is `slicer.code()`, annotating the instrumented source code with (backward) dependencies. Data dependencies are shown with `<=`, control dependencies with `<-`; locations (lines) are shown in parentheses."
   ]
  },
  {
   "cell_type": "code",
   "execution_count": 218,
   "metadata": {
    "execution": {
     "iopub.execute_input": "2021-03-05T23:37:23.993738Z",
     "iopub.status.busy": "2021-03-05T23:37:23.993040Z",
     "iopub.status.idle": "2021-03-05T23:37:24.017086Z",
     "shell.execute_reply": "2021-03-05T23:37:24.017637Z"
    },
    "slideshow": {
     "slide_type": "fragment"
    }
   },
   "outputs": [
    {
     "name": "stdout",
     "output_type": "stream",
     "text": [
      "*    1 \u001b[34mdef\u001b[39;49;00m \u001b[32mdemo\u001b[39;49;00m(x: \u001b[36mint\u001b[39;49;00m) -> \u001b[36mint\u001b[39;49;00m:\n",
      "*    2     z = x  \u001b[37m# <= x (1)\u001b[39;49;00m\n",
      "*    3     \u001b[34mwhile\u001b[39;49;00m x <= z <= \u001b[34m64\u001b[39;49;00m:  \u001b[37m# <= z (2), x (1), z (4)\u001b[39;49;00m\n",
      "*    4         z *= \u001b[34m2\u001b[39;49;00m  \u001b[37m# <= z (2), z (4); <- <test> (3)\u001b[39;49;00m\n",
      "*    5     \u001b[34mreturn\u001b[39;49;00m z  \u001b[37m# <= z (4)\u001b[39;49;00m\n"
     ]
    }
   ],
   "source": [
    "slicer.code()"
   ]
  },
  {
   "cell_type": "markdown",
   "metadata": {
    "slideshow": {
     "slide_type": "subslide"
    }
   },
   "source": [
    "Dependencies can also be retrieved programmatically. The `dependencies()` method returns a `Dependencies` object encapsulating the dependency graph."
   ]
  },
  {
   "cell_type": "markdown",
   "metadata": {
    "slideshow": {
     "slide_type": "fragment"
    }
   },
   "source": [
    "The method `all_vars()` returns all variables in the dependency graph. Each variable is encoded as a pair (_name_, _location_) where _location_ is a pair (_codename_, _lineno_)."
   ]
  },
  {
   "cell_type": "code",
   "execution_count": 219,
   "metadata": {
    "execution": {
     "iopub.execute_input": "2021-03-05T23:37:24.023335Z",
     "iopub.status.busy": "2021-03-05T23:37:24.022724Z",
     "iopub.status.idle": "2021-03-05T23:37:24.024788Z",
     "shell.execute_reply": "2021-03-05T23:37:24.025366Z"
    },
    "slideshow": {
     "slide_type": "fragment"
    }
   },
   "outputs": [
    {
     "data": {
      "text/plain": [
       "{('<demo() return value>', (<function __main__.demo(x:int) -> int>, 5)),\n",
       " ('<test>', (<function __main__.demo(x:int) -> int>, 3)),\n",
       " ('x', (<function __main__.demo(x:int) -> int>, 1)),\n",
       " ('z', (<function __main__.demo(x:int) -> int>, 2)),\n",
       " ('z', (<function __main__.demo(x:int) -> int>, 4))}"
      ]
     },
     "execution_count": 1,
     "metadata": {},
     "output_type": "execute_result"
    }
   ],
   "source": [
    "slicer.dependencies().all_vars()"
   ]
  },
  {
   "cell_type": "markdown",
   "metadata": {
    "slideshow": {
     "slide_type": "fragment"
    }
   },
   "source": [
    "`code()` and `graph()` methods can also be applied on dependencies. The method `backward_slice(var)` returns a backward slice for the given variable. To retrieve where `z` in Line 2 came from, use:"
   ]
  },
  {
   "cell_type": "code",
   "execution_count": 220,
   "metadata": {
    "execution": {
     "iopub.execute_input": "2021-03-05T23:37:24.028948Z",
     "iopub.status.busy": "2021-03-05T23:37:24.028372Z",
     "iopub.status.idle": "2021-03-05T23:37:24.030941Z",
     "shell.execute_reply": "2021-03-05T23:37:24.031384Z"
    },
    "slideshow": {
     "slide_type": "subslide"
    }
   },
   "outputs": [
    {
     "data": {
      "text/plain": [
       "1"
      ]
     },
     "execution_count": 1,
     "metadata": {},
     "output_type": "execute_result"
    }
   ],
   "source": [
    "_, start_demo = inspect.getsourcelines(demo)\n",
    "start_demo"
   ]
  },
  {
   "cell_type": "code",
   "execution_count": 221,
   "metadata": {
    "execution": {
     "iopub.execute_input": "2021-03-05T23:37:24.035819Z",
     "iopub.status.busy": "2021-03-05T23:37:24.034647Z",
     "iopub.status.idle": "2021-03-05T23:37:24.720275Z",
     "shell.execute_reply": "2021-03-05T23:37:24.720713Z"
    },
    "slideshow": {
     "slide_type": "fragment"
    }
   },
   "outputs": [
    {
     "data": {
      "image/svg+xml": [
       "<?xml version=\"1.0\" encoding=\"UTF-8\" standalone=\"no\"?>\n",
       "<!DOCTYPE svg PUBLIC \"-//W3C//DTD SVG 1.1//EN\"\n",
       " \"http://www.w3.org/Graphics/SVG/1.1/DTD/svg11.dtd\">\n",
       "<!-- Generated by graphviz version 2.40.1 (20161225.0304)\n",
       " -->\n",
       "<!-- Title: dependencies Pages: 1 -->\n",
       "<svg width=\"154pt\" height=\"124pt\"\n",
       " viewBox=\"0.00 0.00 154.00 124.00\" xmlns=\"http://www.w3.org/2000/svg\" xmlns:xlink=\"http://www.w3.org/1999/xlink\">\n",
       "<g id=\"graph0\" class=\"graph\" transform=\"scale(1 1) rotate(0) translate(4 120)\">\n",
       "<title>dependencies</title>\n",
       "<polygon fill=\"#ffffff\" stroke=\"transparent\" points=\"-4,4 -4,-120 150,-120 150,4 -4,4\"/>\n",
       "<!-- z_functiondemoat0x7fe1d70882f0_2 -->\n",
       "<g id=\"node1\" class=\"node\">\n",
       "<title>z_functiondemoat0x7fe1d70882f0_2</title>\n",
       "<g id=\"a_node1\"><a xlink:title=\"demo:2\">\n",
       "<polygon fill=\"#ffdab9\" stroke=\"#000000\" points=\"100,-40 46,-40 46,0 100,0 100,-40\"/>\n",
       "<text text-anchor=\"start\" x=\"68.5\" y=\"-25.8\" font-family=\"Fira Mono, Courier, monospace\" font-weight=\"bold\" font-size=\"14.00\" fill=\"#000000\">z</text>\n",
       "<text text-anchor=\"start\" x=\"59\" y=\"-6.8\" font-family=\"Fira Mono, Courier, monospace\" font-size=\"9.00\" fill=\"#000000\">z = x</text>\n",
       "</a>\n",
       "</g>\n",
       "</g>\n",
       "<!-- x_functiondemoat0x7fe1d70882f0_1 -->\n",
       "<g id=\"node2\" class=\"node\">\n",
       "<title>x_functiondemoat0x7fe1d70882f0_1</title>\n",
       "<g id=\"a_node2\"><a xlink:title=\"demo:1\">\n",
       "<polygon fill=\"#ffdab9\" stroke=\"#000000\" points=\"146,-116 0,-116 0,-76 146,-76 146,-116\"/>\n",
       "<text text-anchor=\"start\" x=\"68.5\" y=\"-101.8\" font-family=\"Fira Mono, Courier, monospace\" font-weight=\"bold\" font-size=\"14.00\" fill=\"#000000\">x</text>\n",
       "<text text-anchor=\"start\" x=\"8\" y=\"-82.8\" font-family=\"Fira Mono, Courier, monospace\" font-size=\"9.00\" fill=\"#000000\">def demo(x: int) &#45;&gt; int:</text>\n",
       "</a>\n",
       "</g>\n",
       "</g>\n",
       "<!-- x_functiondemoat0x7fe1d70882f0_1&#45;&gt;z_functiondemoat0x7fe1d70882f0_2 -->\n",
       "<g id=\"edge1\" class=\"edge\">\n",
       "<title>x_functiondemoat0x7fe1d70882f0_1&#45;&gt;z_functiondemoat0x7fe1d70882f0_2</title>\n",
       "<path fill=\"none\" stroke=\"#000000\" d=\"M66.9426,-75.6334C66.2819,-67.8186 66.0939,-58.7253 66.3786,-50.183\"/>\n",
       "<polygon fill=\"#000000\" stroke=\"#000000\" points=\"69.875,-50.3453 66.9602,-40.1593 62.8867,-49.9397 69.875,-50.3453\"/>\n",
       "</g>\n",
       "<!-- x_functiondemoat0x7fe1d70882f0_1&#45;&gt;z_functiondemoat0x7fe1d70882f0_2 -->\n",
       "</g>\n",
       "</svg>\n"
      ],
      "text/plain": [
       "<graphviz.dot.Digraph at 0x7fe1d6768a90>"
      ]
     },
     "execution_count": 1,
     "metadata": {},
     "output_type": "execute_result"
    }
   ],
   "source": [
    "slicer.dependencies().backward_slice(('z', (demo, start_demo + 1))).graph()  # type: ignore"
   ]
  },
  {
   "cell_type": "markdown",
   "metadata": {
    "slideshow": {
     "slide_type": "fragment"
    }
   },
   "source": [
    "Here are the classes defined in this chapter. A `Slicer` instruments a program, using a `DependencyTracker` at run time to collect `Dependencies`."
   ]
  },
  {
   "cell_type": "code",
   "execution_count": 222,
   "metadata": {
    "execution": {
     "iopub.execute_input": "2021-03-05T23:37:24.724493Z",
     "iopub.status.busy": "2021-03-05T23:37:24.723888Z",
     "iopub.status.idle": "2021-03-05T23:37:24.725634Z",
     "shell.execute_reply": "2021-03-05T23:37:24.726071Z"
    },
    "slideshow": {
     "slide_type": "fragment"
    }
   },
   "outputs": [],
   "source": [
    "# ignore\n",
    "from ClassDiagram import display_class_hierarchy, class_tree"
   ]
  },
  {
   "cell_type": "code",
   "execution_count": 223,
   "metadata": {
    "execution": {
     "iopub.execute_input": "2021-03-05T23:37:24.729781Z",
     "iopub.status.busy": "2021-03-05T23:37:24.729226Z",
     "iopub.status.idle": "2021-03-05T23:37:24.730874Z",
     "shell.execute_reply": "2021-03-05T23:37:24.731308Z"
    },
    "slideshow": {
     "slide_type": "fragment"
    }
   },
   "outputs": [],
   "source": [
    "# ignore\n",
    "assert class_tree(Slicer)[0][0] == Slicer"
   ]
  },
  {
   "cell_type": "code",
   "execution_count": 224,
   "metadata": {
    "execution": {
     "iopub.execute_input": "2021-03-05T23:37:24.759374Z",
     "iopub.status.busy": "2021-03-05T23:37:24.756100Z",
     "iopub.status.idle": "2021-03-05T23:37:25.472678Z",
     "shell.execute_reply": "2021-03-05T23:37:25.473433Z"
    },
    "slideshow": {
     "slide_type": "subslide"
    }
   },
   "outputs": [
    {
     "data": {
      "image/svg+xml": [
       "<?xml version=\"1.0\" encoding=\"UTF-8\" standalone=\"no\"?>\n",
       "<!DOCTYPE svg PUBLIC \"-//W3C//DTD SVG 1.1//EN\"\n",
       " \"http://www.w3.org/Graphics/SVG/1.1/DTD/svg11.dtd\">\n",
       "<!-- Generated by graphviz version 2.40.1 (20161225.0304)\n",
       " -->\n",
       "<!-- Title: %3 Pages: 1 -->\n",
       "<svg width=\"455pt\" height=\"827pt\"\n",
       " viewBox=\"0.00 0.00 454.50 827.00\" xmlns=\"http://www.w3.org/2000/svg\" xmlns:xlink=\"http://www.w3.org/1999/xlink\">\n",
       "<g id=\"graph0\" class=\"graph\" transform=\"scale(1 1) rotate(0) translate(4 823)\">\n",
       "<title>%3</title>\n",
       "<g id=\"a_graph0\"><a xlink:title=\"Slicer class hierarchy\">\n",
       "<polygon fill=\"#ffffff\" stroke=\"transparent\" points=\"-4,4 -4,-823 450.5,-823 450.5,4 -4,4\"/>\n",
       "</a>\n",
       "</g>\n",
       "<!-- Slicer -->\n",
       "<g id=\"node1\" class=\"node\">\n",
       "<title>Slicer</title>\n",
       "<g id=\"a_node1\"><a xlink:href=\"#\" xlink:title=\"class Slicer:&#10;Track dependencies in an execution\">\n",
       "<polygon fill=\"none\" stroke=\"#000000\" points=\"0,-48.5 0,-200.5 101,-200.5 101,-48.5 0,-48.5\"/>\n",
       "<text text-anchor=\"start\" x=\"31\" y=\"-186.3\" font-family=\"Raleway, Helvetica, Arial, sans-serif\" font-weight=\"bold\" font-size=\"14.00\" fill=\"#6a0dad\">Slicer</text>\n",
       "<polyline fill=\"none\" stroke=\"#000000\" points=\"0,-177.5 101,-177.5 \"/>\n",
       "<g id=\"a_node1_0\"><a xlink:href=\"#\" xlink:title=\"Slicer\">\n",
       "<g id=\"a_node1_1\"><a xlink:href=\"#\" xlink:title=\"__init__(self, *items_to_instrument:Any, dependency_tracker:Union[__main__.DependencyTracker, NoneType]=None, globals:Union[Dict[str, Any], NoneType]=None, log:int=False):&#10;Create a slicer.&#10;`items_to_instrument` are Python functions or modules with source code.&#10;`dependency_tracker` is the tracker to be used (default: DependencyTracker).&#10;`globals` is the namespace to be used(default: caller&#39;s `globals()`)&#10;`log`=True or `log` &gt; 0 turns on logging\">\n",
       "<text text-anchor=\"start\" x=\"8.5\" y=\"-166\" font-family=\"'Fira Mono', 'Source Code Pro', 'Courier', monospace\" font-weight=\"bold\" font-style=\"italic\" font-size=\"10.00\" fill=\"#000000\">__init__()</text>\n",
       "</a>\n",
       "</g>\n",
       "<g id=\"a_node1_2\"><a xlink:href=\"#\" xlink:title=\"_repr_svg_(self) &#45;&gt; Any:&#10;If the object is output in Jupyter, render dependencies as a SVG graph\">\n",
       "<text text-anchor=\"start\" x=\"8.5\" y=\"-155\" font-family=\"'Fira Mono', 'Source Code Pro', 'Courier', monospace\" font-weight=\"bold\" font-size=\"10.00\" fill=\"#000000\">_repr_svg_()</text>\n",
       "</a>\n",
       "</g>\n",
       "<g id=\"a_node1_3\"><a xlink:href=\"#\" xlink:title=\"code(self, *args:Any, **kwargs:Any) &#45;&gt; None:&#10;Show code of instrumented items, annotated with dependencies.\">\n",
       "<text text-anchor=\"start\" x=\"8.5\" y=\"-144\" font-family=\"'Fira Mono', 'Source Code Pro', 'Courier', monospace\" font-weight=\"bold\" font-size=\"10.00\" fill=\"#000000\">code()</text>\n",
       "</a>\n",
       "</g>\n",
       "<g id=\"a_node1_4\"><a xlink:href=\"#\" xlink:title=\"dependencies(self) &#45;&gt; __main__.Dependencies:&#10;Return collected dependencies.\">\n",
       "<text text-anchor=\"start\" x=\"8.5\" y=\"-133\" font-family=\"'Fira Mono', 'Source Code Pro', 'Courier', monospace\" font-weight=\"bold\" font-size=\"10.00\" fill=\"#000000\">dependencies()</text>\n",
       "</a>\n",
       "</g>\n",
       "<g id=\"a_node1_5\"><a xlink:href=\"#\" xlink:title=\"graph(self, *args:Any, **kwargs:Any) &#45;&gt; graphviz.dot.Digraph:&#10;Show dependency graph.\">\n",
       "<text text-anchor=\"start\" x=\"8.5\" y=\"-122\" font-family=\"'Fira Mono', 'Source Code Pro', 'Courier', monospace\" font-weight=\"bold\" font-size=\"10.00\" fill=\"#000000\">graph()</text>\n",
       "</a>\n",
       "</g>\n",
       "<g id=\"a_node1_6\"><a xlink:href=\"#\" xlink:title=\"execute(self, tree:_ast.AST, item:Any) &#45;&gt; None:&#10;Compile and execute `tree`. May be extended in subclasses.\">\n",
       "<text text-anchor=\"start\" x=\"8.5\" y=\"-111\" font-family=\"'Fira Mono', 'Source Code Pro', 'Courier', monospace\" font-style=\"italic\" font-size=\"10.00\" fill=\"#000000\">execute()</text>\n",
       "</a>\n",
       "</g>\n",
       "<g id=\"a_node1_7\"><a xlink:href=\"#\" xlink:title=\"instrument(self, item:Any) &#45;&gt; None:&#10;Instrument `item`, transforming its source code, and re&#45;defining it.\">\n",
       "<text text-anchor=\"start\" x=\"8.5\" y=\"-100\" font-family=\"'Fira Mono', 'Source Code Pro', 'Courier', monospace\" font-style=\"italic\" font-size=\"10.00\" fill=\"#000000\">instrument()</text>\n",
       "</a>\n",
       "</g>\n",
       "<g id=\"a_node1_8\"><a xlink:href=\"#\" xlink:title=\"parse(self, item:Any) &#45;&gt; _ast.AST:&#10;Parse `item`, returning its AST\">\n",
       "<text text-anchor=\"start\" x=\"8.5\" y=\"-88\" font-family=\"'Fira Mono', 'Source Code Pro', 'Courier', monospace\" font-size=\"10.00\" fill=\"#000000\">parse()</text>\n",
       "</a>\n",
       "</g>\n",
       "<g id=\"a_node1_9\"><a xlink:href=\"#\" xlink:title=\"restore(self) &#45;&gt; None:&#10;Restore original code.\">\n",
       "<text text-anchor=\"start\" x=\"8.5\" y=\"-78\" font-family=\"'Fira Mono', 'Source Code Pro', 'Courier', monospace\" font-style=\"italic\" font-size=\"10.00\" fill=\"#000000\">restore()</text>\n",
       "</a>\n",
       "</g>\n",
       "<g id=\"a_node1_10\"><a xlink:href=\"#\" xlink:title=\"transform(self, tree:_ast.AST) &#45;&gt; _ast.AST:&#10;Apply transformers on `tree`. May be extended in subclasses.\">\n",
       "<text text-anchor=\"start\" x=\"8.5\" y=\"-67\" font-family=\"'Fira Mono', 'Source Code Pro', 'Courier', monospace\" font-style=\"italic\" font-size=\"10.00\" fill=\"#000000\">transform()</text>\n",
       "</a>\n",
       "</g>\n",
       "<g id=\"a_node1_11\"><a xlink:href=\"#\" xlink:title=\"transformers(self) &#45;&gt; List[ast.NodeTransformer]:&#10;List of transformers to apply. To be extended in subclasses.\">\n",
       "<text text-anchor=\"start\" x=\"8.5\" y=\"-56\" font-family=\"'Fira Mono', 'Source Code Pro', 'Courier', monospace\" font-style=\"italic\" font-size=\"10.00\" fill=\"#000000\">transformers()</text>\n",
       "</a>\n",
       "</g>\n",
       "</a>\n",
       "</g>\n",
       "</a>\n",
       "</g>\n",
       "</g>\n",
       "<!-- Instrumenter -->\n",
       "<g id=\"node2\" class=\"node\">\n",
       "<title>Instrumenter</title>\n",
       "<g id=\"a_node2\"><a xlink:href=\"#\" xlink:title=\"class Instrumenter:&#10;Instrument functions for dynamic tracking\">\n",
       "<polygon fill=\"none\" stroke=\"#000000\" points=\"22,-405 22,-491 123,-491 123,-405 22,-405\"/>\n",
       "<text text-anchor=\"start\" x=\"30\" y=\"-476.8\" font-family=\"Raleway, Helvetica, Arial, sans-serif\" font-weight=\"bold\" font-style=\"italic\" font-size=\"14.00\" fill=\"#6a0dad\">Instrumenter</text>\n",
       "<polyline fill=\"none\" stroke=\"#000000\" points=\"22,-468 123,-468 \"/>\n",
       "<g id=\"a_node2_12\"><a xlink:href=\"#\" xlink:title=\"Instrumenter\">\n",
       "<g id=\"a_node2_13\"><a xlink:href=\"#\" xlink:title=\"__enter__(self) &#45;&gt; Any:&#10;Instrument sources\">\n",
       "<text text-anchor=\"start\" x=\"36.5\" y=\"-456.5\" font-family=\"'Fira Mono', 'Source Code Pro', 'Courier', monospace\" font-weight=\"bold\" font-size=\"10.00\" fill=\"#000000\">__enter__()</text>\n",
       "</a>\n",
       "</g>\n",
       "<g id=\"a_node2_14\"><a xlink:href=\"#\" xlink:title=\"__exit__(self, exc_type:Type, exc_value:BaseException, traceback:traceback) &#45;&gt; Union[bool, NoneType]:&#10;Restore sources\">\n",
       "<text text-anchor=\"start\" x=\"36.5\" y=\"-445.5\" font-family=\"'Fira Mono', 'Source Code Pro', 'Courier', monospace\" font-weight=\"bold\" font-size=\"10.00\" fill=\"#000000\">__exit__()</text>\n",
       "</a>\n",
       "</g>\n",
       "<g id=\"a_node2_15\"><a xlink:href=\"#\" xlink:title=\"__init__(self, *items_to_instrument:Callable, globals:Union[Dict[str, Any], NoneType]=None, log:int=False) &#45;&gt; None:&#10;Create an instrumenter.&#10;`items_to_instrument` is a list of items to instrument.&#10;`globals` is a namespace to use (default: caller&#39;s globals())\">\n",
       "<text text-anchor=\"start\" x=\"36.5\" y=\"-434.5\" font-family=\"'Fira Mono', 'Source Code Pro', 'Courier', monospace\" font-weight=\"bold\" font-style=\"italic\" font-size=\"10.00\" fill=\"#000000\">__init__()</text>\n",
       "</a>\n",
       "</g>\n",
       "<g id=\"a_node2_16\"><a xlink:href=\"#\" xlink:title=\"instrument(self, item:Any) &#45;&gt; None:&#10;Instrument `item`. To be overloaded in subclasses.\">\n",
       "<text text-anchor=\"start\" x=\"36.5\" y=\"-423.5\" font-family=\"'Fira Mono', 'Source Code Pro', 'Courier', monospace\" font-weight=\"bold\" font-style=\"italic\" font-size=\"10.00\" fill=\"#000000\">instrument()</text>\n",
       "</a>\n",
       "</g>\n",
       "<g id=\"a_node2_17\"><a xlink:href=\"#\" xlink:title=\"restore(self) &#45;&gt; None\">\n",
       "<text text-anchor=\"start\" x=\"36.5\" y=\"-412.5\" font-family=\"'Fira Mono', 'Source Code Pro', 'Courier', monospace\" font-style=\"italic\" font-size=\"10.00\" fill=\"#000000\">restore()</text>\n",
       "</a>\n",
       "</g>\n",
       "</a>\n",
       "</g>\n",
       "</a>\n",
       "</g>\n",
       "</g>\n",
       "<!-- Slicer&#45;&gt;Instrumenter -->\n",
       "<g id=\"edge1\" class=\"edge\">\n",
       "<title>Slicer&#45;&gt;Instrumenter</title>\n",
       "<path fill=\"none\" stroke=\"#000000\" d=\"M55.6858,-200.7553C59.7351,-260.2973 65.2593,-341.5294 68.8527,-394.3677\"/>\n",
       "<polygon fill=\"none\" stroke=\"#000000\" points=\"65.3741,-394.8025 69.5446,-404.5419 72.3579,-394.3275 65.3741,-394.8025\"/>\n",
       "</g>\n",
       "<!-- StackInspector -->\n",
       "<g id=\"node3\" class=\"node\">\n",
       "<title>StackInspector</title>\n",
       "<g id=\"a_node3\"><a xlink:href=\"StackInspector.ipynb\" xlink:title=\"class StackInspector:&#10;Provide functions to inspect the stack\">\n",
       "<polygon fill=\"none\" stroke=\"#000000\" points=\"119,-647.5 119,-818.5 286,-818.5 286,-647.5 119,-647.5\"/>\n",
       "<text text-anchor=\"start\" x=\"152.5\" y=\"-804.3\" font-family=\"Raleway, Helvetica, Arial, sans-serif\" font-weight=\"bold\" font-style=\"italic\" font-size=\"14.00\" fill=\"#6a0dad\">StackInspector</text>\n",
       "<polyline fill=\"none\" stroke=\"#000000\" points=\"119,-795.5 286,-795.5 \"/>\n",
       "<g id=\"a_node3_18\"><a xlink:href=\"#\" xlink:title=\"StackInspector\">\n",
       "<g id=\"a_node3_19\"><a xlink:href=\"StackInspector.ipynb\" xlink:title=\"_generated_function_cache = {(&#39;&lt;module&gt;&#39;, 2): &lt;function &lt;module&gt; at 0x7fe1d64c2a60&gt;, (&#39;&lt;module&gt;&#39;, 1): &lt;function &lt;module&gt; at 0x7fe1d64c21e0&gt;, (&#39;&lt;module&gt;&#39;, 3): &lt;function &lt;module&gt; at 0x7fe1d70881e0&gt;, (&#39;&lt;module&gt;&#39;, 4): &lt;function &lt;module&gt; at 0x7fe1d7088950&gt;, (&#39;&lt;listcomp&gt;&#39;, 18): &lt;bound method StackInspector.unknown of &lt;__main__.DependencyTracker object at 0x7fe1d672ff60&gt;&gt;}\">\n",
       "<text text-anchor=\"start\" x=\"127.5\" y=\"-783\" font-family=\"'Fira Mono', 'Source Code Pro', 'Courier', monospace\" font-size=\"10.00\" fill=\"#000000\">_generated_function_cache</text>\n",
       "</a>\n",
       "</g>\n",
       "</a>\n",
       "</g>\n",
       "<polyline fill=\"none\" stroke=\"#000000\" points=\"119,-776.5 286,-776.5 \"/>\n",
       "<g id=\"a_node3_20\"><a xlink:href=\"#\" xlink:title=\"StackInspector\">\n",
       "<g id=\"a_node3_21\"><a xlink:href=\"StackInspector.ipynb\" xlink:title=\"caller_frame(self) &#45;&gt; frame:&#10;Return the frame of the caller.\">\n",
       "<text text-anchor=\"start\" x=\"145.5\" y=\"-765\" font-family=\"'Fira Mono', 'Source Code Pro', 'Courier', monospace\" font-weight=\"bold\" font-size=\"10.00\" fill=\"#000000\">caller_frame()</text>\n",
       "</a>\n",
       "</g>\n",
       "<g id=\"a_node3_22\"><a xlink:href=\"StackInspector.ipynb\" xlink:title=\"caller_function(self) &#45;&gt; Callable:&#10;Return the calling function\">\n",
       "<text text-anchor=\"start\" x=\"145.5\" y=\"-754\" font-family=\"'Fira Mono', 'Source Code Pro', 'Courier', monospace\" font-weight=\"bold\" font-size=\"10.00\" fill=\"#000000\">caller_function()</text>\n",
       "</a>\n",
       "</g>\n",
       "<g id=\"a_node3_23\"><a xlink:href=\"StackInspector.ipynb\" xlink:title=\"caller_globals(self) &#45;&gt; Dict[str, Any]:&#10;Return the globals() environment of the caller.\">\n",
       "<text text-anchor=\"start\" x=\"145.5\" y=\"-743\" font-family=\"'Fira Mono', 'Source Code Pro', 'Courier', monospace\" font-weight=\"bold\" font-size=\"10.00\" fill=\"#000000\">caller_globals()</text>\n",
       "</a>\n",
       "</g>\n",
       "<g id=\"a_node3_24\"><a xlink:href=\"StackInspector.ipynb\" xlink:title=\"caller_locals(self) &#45;&gt; Dict[str, Any]:&#10;Return the locals() environment of the caller.\">\n",
       "<text text-anchor=\"start\" x=\"145.5\" y=\"-732\" font-family=\"'Fira Mono', 'Source Code Pro', 'Courier', monospace\" font-weight=\"bold\" font-size=\"10.00\" fill=\"#000000\">caller_locals()</text>\n",
       "</a>\n",
       "</g>\n",
       "<g id=\"a_node3_25\"><a xlink:href=\"StackInspector.ipynb\" xlink:title=\"caller_location(self) &#45;&gt; Tuple[Callable, int]:&#10;Return the location (func, lineno) of the caller.\">\n",
       "<text text-anchor=\"start\" x=\"145.5\" y=\"-721\" font-family=\"'Fira Mono', 'Source Code Pro', 'Courier', monospace\" font-weight=\"bold\" font-size=\"10.00\" fill=\"#000000\">caller_location()</text>\n",
       "</a>\n",
       "</g>\n",
       "<g id=\"a_node3_26\"><a xlink:href=\"StackInspector.ipynb\" xlink:title=\"search_frame(self, name:str, frame:Union[frame, NoneType]=None) &#45;&gt; Tuple[Union[frame, NoneType], Union[Callable, NoneType]]:&#10;Return a pair (`frame`, `item`)&#10;in which the function `name` is defined as `item`.\">\n",
       "<text text-anchor=\"start\" x=\"145.5\" y=\"-710\" font-family=\"'Fira Mono', 'Source Code Pro', 'Courier', monospace\" font-weight=\"bold\" font-size=\"10.00\" fill=\"#000000\">search_frame()</text>\n",
       "</a>\n",
       "</g>\n",
       "<g id=\"a_node3_27\"><a xlink:href=\"StackInspector.ipynb\" xlink:title=\"search_func(self, name:str, frame:Union[frame, NoneType]=None) &#45;&gt; Union[Callable, NoneType]:&#10;Search in callers for a definition of the function `name`\">\n",
       "<text text-anchor=\"start\" x=\"145.5\" y=\"-699\" font-family=\"'Fira Mono', 'Source Code Pro', 'Courier', monospace\" font-weight=\"bold\" font-size=\"10.00\" fill=\"#000000\">search_func()</text>\n",
       "</a>\n",
       "</g>\n",
       "<g id=\"a_node3_28\"><a xlink:href=\"StackInspector.ipynb\" xlink:title=\"create_function(self, frame:frame) &#45;&gt; Callable:&#10;Create function for given frame\">\n",
       "<text text-anchor=\"start\" x=\"145.5\" y=\"-687\" font-family=\"'Fira Mono', 'Source Code Pro', 'Courier', monospace\" font-size=\"10.00\" fill=\"#000000\">create_function()</text>\n",
       "</a>\n",
       "</g>\n",
       "<g id=\"a_node3_29\"><a xlink:href=\"StackInspector.ipynb\" xlink:title=\"is_internal_error(self, exc_tp:Type, exc_value:BaseException, exc_traceback:traceback) &#45;&gt; bool:&#10;Return True if exception was raised from `StackInspector` or a subclass.\">\n",
       "<text text-anchor=\"start\" x=\"145.5\" y=\"-676\" font-family=\"'Fira Mono', 'Source Code Pro', 'Courier', monospace\" font-size=\"10.00\" fill=\"#000000\">is_internal_error()</text>\n",
       "</a>\n",
       "</g>\n",
       "<g id=\"a_node3_30\"><a xlink:href=\"StackInspector.ipynb\" xlink:title=\"our_frame(self, frame:frame) &#45;&gt; bool:&#10;Return true if `frame` is in the current (inspecting) class.\">\n",
       "<text text-anchor=\"start\" x=\"145.5\" y=\"-665\" font-family=\"'Fira Mono', 'Source Code Pro', 'Courier', monospace\" font-size=\"10.00\" fill=\"#000000\">our_frame()</text>\n",
       "</a>\n",
       "</g>\n",
       "<g id=\"a_node3_31\"><a xlink:href=\"StackInspector.ipynb\" xlink:title=\"unknown(self) &#45;&gt; None\">\n",
       "<text text-anchor=\"start\" x=\"145.5\" y=\"-654\" font-family=\"'Fira Mono', 'Source Code Pro', 'Courier', monospace\" font-size=\"10.00\" fill=\"#000000\">unknown()</text>\n",
       "</a>\n",
       "</g>\n",
       "</a>\n",
       "</g>\n",
       "</a>\n",
       "</g>\n",
       "</g>\n",
       "<!-- Instrumenter&#45;&gt;StackInspector -->\n",
       "<g id=\"edge2\" class=\"edge\">\n",
       "<title>Instrumenter&#45;&gt;StackInspector</title>\n",
       "<path fill=\"none\" stroke=\"#000000\" d=\"M90.7242,-491.1056C104.8002,-524.0844 124.9457,-570.6098 143.5,-611 147.5512,-619.819 151.8288,-628.9635 156.1545,-638.0997\"/>\n",
       "<polygon fill=\"none\" stroke=\"#000000\" points=\"153.0357,-639.6915 160.4897,-647.2207 159.358,-636.6865 153.0357,-639.6915\"/>\n",
       "</g>\n",
       "<!-- DependencyTracker -->\n",
       "<g id=\"node4\" class=\"node\">\n",
       "<title>DependencyTracker</title>\n",
       "<g id=\"a_node4\"><a xlink:href=\"#\" xlink:title=\"class DependencyTracker:&#10;Track dependencies during execution\">\n",
       "<polygon fill=\"none\" stroke=\"#000000\" points=\"119,-.5 119,-248.5 310,-248.5 310,-.5 119,-.5\"/>\n",
       "<text text-anchor=\"start\" x=\"145.5\" y=\"-234.3\" font-family=\"Raleway, Helvetica, Arial, sans-serif\" font-weight=\"bold\" font-size=\"14.00\" fill=\"#6a0dad\">DependencyTracker</text>\n",
       "<polyline fill=\"none\" stroke=\"#000000\" points=\"119,-225.5 310,-225.5 \"/>\n",
       "<g id=\"a_node4_32\"><a xlink:href=\"#\" xlink:title=\"DependencyTracker\">\n",
       "<g id=\"a_node4_33\"><a xlink:href=\"#\" xlink:title=\"TEST = &#39;&lt;test&gt;&#39;\">\n",
       "<text text-anchor=\"start\" x=\"202.5\" y=\"-213\" font-family=\"'Fira Mono', 'Source Code Pro', 'Courier', monospace\" font-size=\"10.00\" fill=\"#000000\">TEST</text>\n",
       "</a>\n",
       "</g>\n",
       "</a>\n",
       "</g>\n",
       "<polyline fill=\"none\" stroke=\"#000000\" points=\"119,-206.5 310,-206.5 \"/>\n",
       "<g id=\"a_node4_34\"><a xlink:href=\"#\" xlink:title=\"DependencyTracker\">\n",
       "<g id=\"a_node4_35\"><a xlink:href=\"#\" xlink:title=\"__enter__(self) &#45;&gt; Any:&#10;Track entering an if/while/for block\">\n",
       "<text text-anchor=\"start\" x=\"127.5\" y=\"-195.5\" font-family=\"'Fira Mono', 'Source Code Pro', 'Courier', monospace\" font-weight=\"bold\" font-style=\"italic\" font-size=\"10.00\" fill=\"#000000\">__enter__()</text>\n",
       "</a>\n",
       "</g>\n",
       "<g id=\"a_node4_36\"><a xlink:href=\"#\" xlink:title=\"__exit__(self, exc_type:Type, exc_value:BaseException, traceback:traceback) &#45;&gt; Union[bool, NoneType]:&#10;Track exiting an if/while/for block\">\n",
       "<text text-anchor=\"start\" x=\"127.5\" y=\"-184.5\" font-family=\"'Fira Mono', 'Source Code Pro', 'Courier', monospace\" font-weight=\"bold\" font-style=\"italic\" font-size=\"10.00\" fill=\"#000000\">__exit__()</text>\n",
       "</a>\n",
       "</g>\n",
       "<g id=\"a_node4_37\"><a xlink:href=\"#\" xlink:title=\"__init__(self, *args:Any, **kwargs:Any) &#45;&gt; None:&#10;Constructor. Arguments are passed to DataTracker.__init__()\">\n",
       "<text text-anchor=\"start\" x=\"127.5\" y=\"-173.5\" font-family=\"'Fira Mono', 'Source Code Pro', 'Courier', monospace\" font-weight=\"bold\" font-style=\"italic\" font-size=\"10.00\" fill=\"#000000\">__init__()</text>\n",
       "</a>\n",
       "</g>\n",
       "<g id=\"a_node4_38\"><a xlink:href=\"#\" xlink:title=\"arg(self, value:Any, pos:Union[int, NoneType]=None, kw:Union[str, NoneType]=None) &#45;&gt; Any:&#10;Track passing an argument `value`&#10;(with given position `pos` 1..n or keyword `kw`)\">\n",
       "<text text-anchor=\"start\" x=\"127.5\" y=\"-162.5\" font-family=\"'Fira Mono', 'Source Code Pro', 'Courier', monospace\" font-weight=\"bold\" font-style=\"italic\" font-size=\"10.00\" fill=\"#000000\">arg()</text>\n",
       "</a>\n",
       "</g>\n",
       "<g id=\"a_node4_39\"><a xlink:href=\"#\" xlink:title=\"call(self, func:Callable) &#45;&gt; Callable:&#10;Track a call of function `func`\">\n",
       "<text text-anchor=\"start\" x=\"127.5\" y=\"-151.5\" font-family=\"'Fira Mono', 'Source Code Pro', 'Courier', monospace\" font-weight=\"bold\" font-style=\"italic\" font-size=\"10.00\" fill=\"#000000\">call()</text>\n",
       "</a>\n",
       "</g>\n",
       "<g id=\"a_node4_40\"><a xlink:href=\"#\" xlink:title=\"get(self, name:str, value:Any) &#45;&gt; Any:&#10;Track a read access for variable `name` with value `value`\">\n",
       "<text text-anchor=\"start\" x=\"127.5\" y=\"-140.5\" font-family=\"'Fira Mono', 'Source Code Pro', 'Courier', monospace\" font-weight=\"bold\" font-style=\"italic\" font-size=\"10.00\" fill=\"#000000\">get()</text>\n",
       "</a>\n",
       "</g>\n",
       "<g id=\"a_node4_41\"><a xlink:href=\"#\" xlink:title=\"param(self, name:str, value:Any, pos:Union[int, NoneType]=None, vararg:str=&#39;&#39;, last:bool=False) &#45;&gt; Any:&#10;Track getting a parameter `name` with value `value`&#10;(with given position `pos`).&#10;vararg parameters are indicated by setting `varargs` to&#10;&#39;*&#39; (*args) or &#39;**&#39; (**kwargs)\">\n",
       "<text text-anchor=\"start\" x=\"127.5\" y=\"-129.5\" font-family=\"'Fira Mono', 'Source Code Pro', 'Courier', monospace\" font-weight=\"bold\" font-style=\"italic\" font-size=\"10.00\" fill=\"#000000\">param()</text>\n",
       "</a>\n",
       "</g>\n",
       "<g id=\"a_node4_42\"><a xlink:href=\"#\" xlink:title=\"ret(self, value:Any) &#45;&gt; Any:&#10;Track a function return\">\n",
       "<text text-anchor=\"start\" x=\"127.5\" y=\"-118.5\" font-family=\"'Fira Mono', 'Source Code Pro', 'Courier', monospace\" font-weight=\"bold\" font-style=\"italic\" font-size=\"10.00\" fill=\"#000000\">ret()</text>\n",
       "</a>\n",
       "</g>\n",
       "<g id=\"a_node4_43\"><a xlink:href=\"#\" xlink:title=\"set(self, name:str, value:Any, loads:Union[Set[str], NoneType]=None) &#45;&gt; Any:&#10;Add a dependency for `name` = `value`\">\n",
       "<text text-anchor=\"start\" x=\"127.5\" y=\"-107.5\" font-family=\"'Fira Mono', 'Source Code Pro', 'Courier', monospace\" font-weight=\"bold\" font-style=\"italic\" font-size=\"10.00\" fill=\"#000000\">set()</text>\n",
       "</a>\n",
       "</g>\n",
       "<g id=\"a_node4_44\"><a xlink:href=\"#\" xlink:title=\"test(self, value:Any) &#45;&gt; Any:&#10;Track a test for condition `value`\">\n",
       "<text text-anchor=\"start\" x=\"127.5\" y=\"-96.5\" font-family=\"'Fira Mono', 'Source Code Pro', 'Courier', monospace\" font-weight=\"bold\" font-style=\"italic\" font-size=\"10.00\" fill=\"#000000\">test()</text>\n",
       "</a>\n",
       "</g>\n",
       "<g id=\"a_node4_45\"><a xlink:href=\"#\" xlink:title=\"call_generator(self, func:Callable) &#45;&gt; Callable:&#10;Track a call of a generator function\">\n",
       "<text text-anchor=\"start\" x=\"127.5\" y=\"-84.5\" font-family=\"'Fira Mono', 'Source Code Pro', 'Courier', monospace\" font-size=\"10.00\" fill=\"#000000\">call_generator()</text>\n",
       "</a>\n",
       "</g>\n",
       "<g id=\"a_node4_46\"><a xlink:href=\"#\" xlink:title=\"check_location(self) &#45;&gt; None:&#10;If we are in a new location, clear set of read variables\">\n",
       "<text text-anchor=\"start\" x=\"127.5\" y=\"-73.5\" font-family=\"'Fira Mono', 'Source Code Pro', 'Courier', monospace\" font-size=\"10.00\" fill=\"#000000\">check_location()</text>\n",
       "</a>\n",
       "</g>\n",
       "<g id=\"a_node4_47\"><a xlink:href=\"#\" xlink:title=\"clear_read(self) &#45;&gt; None:&#10;Clear set of read variables\">\n",
       "<text text-anchor=\"start\" x=\"127.5\" y=\"-62.5\" font-family=\"'Fira Mono', 'Source Code Pro', 'Courier', monospace\" font-size=\"10.00\" fill=\"#000000\">clear_read()</text>\n",
       "</a>\n",
       "</g>\n",
       "<g id=\"a_node4_48\"><a xlink:href=\"#\" xlink:title=\"dependencies(self) &#45;&gt; __main__.Dependencies:&#10;Return dependencies\">\n",
       "<text text-anchor=\"start\" x=\"127.5\" y=\"-51.5\" font-family=\"'Fira Mono', 'Source Code Pro', 'Courier', monospace\" font-size=\"10.00\" fill=\"#000000\">dependencies()</text>\n",
       "</a>\n",
       "</g>\n",
       "<g id=\"a_node4_49\"><a xlink:href=\"#\" xlink:title=\"ignore_location_change(self) &#45;&gt; None\">\n",
       "<text text-anchor=\"start\" x=\"127.5\" y=\"-40.5\" font-family=\"'Fira Mono', 'Source Code Pro', 'Courier', monospace\" font-size=\"10.00\" fill=\"#000000\">ignore_location_change()</text>\n",
       "</a>\n",
       "</g>\n",
       "<g id=\"a_node4_50\"><a xlink:href=\"#\" xlink:title=\"ignore_next_location_change(self) &#45;&gt; None\">\n",
       "<text text-anchor=\"start\" x=\"127.5\" y=\"-29.5\" font-family=\"'Fira Mono', 'Source Code Pro', 'Courier', monospace\" font-size=\"10.00\" fill=\"#000000\">ignore_next_location_change()</text>\n",
       "</a>\n",
       "</g>\n",
       "<g id=\"a_node4_51\"><a xlink:href=\"#\" xlink:title=\"in_generator(self) &#45;&gt; bool:&#10;True if we are calling a generator function\">\n",
       "<text text-anchor=\"start\" x=\"127.5\" y=\"-18.5\" font-family=\"'Fira Mono', 'Source Code Pro', 'Courier', monospace\" font-size=\"10.00\" fill=\"#000000\">in_generator()</text>\n",
       "</a>\n",
       "</g>\n",
       "<g id=\"a_node4_52\"><a xlink:href=\"#\" xlink:title=\"ret_generator(self, generator:Any) &#45;&gt; Any:&#10;Track the return of a generator function\">\n",
       "<text text-anchor=\"start\" x=\"127.5\" y=\"-7.5\" font-family=\"'Fira Mono', 'Source Code Pro', 'Courier', monospace\" font-size=\"10.00\" fill=\"#000000\">ret_generator()</text>\n",
       "</a>\n",
       "</g>\n",
       "</a>\n",
       "</g>\n",
       "</a>\n",
       "</g>\n",
       "</g>\n",
       "<!-- DataTracker -->\n",
       "<g id=\"node5\" class=\"node\">\n",
       "<title>DataTracker</title>\n",
       "<g id=\"a_node5\"><a xlink:href=\"#\" xlink:title=\"class DataTracker:&#10;Track data accesses during execution\">\n",
       "<polygon fill=\"none\" stroke=\"#000000\" points=\"152.5,-372 152.5,-524 252.5,-524 252.5,-372 152.5,-372\"/>\n",
       "<text text-anchor=\"start\" x=\"160.5\" y=\"-509.8\" font-family=\"Raleway, Helvetica, Arial, sans-serif\" font-weight=\"bold\" font-size=\"14.00\" fill=\"#6a0dad\">DataTracker</text>\n",
       "<polyline fill=\"none\" stroke=\"#000000\" points=\"152.5,-501 252.5,-501 \"/>\n",
       "<g id=\"a_node5_53\"><a xlink:href=\"#\" xlink:title=\"DataTracker\">\n",
       "<g id=\"a_node5_54\"><a xlink:href=\"#\" xlink:title=\"__enter__(self) &#45;&gt; Any:&#10;Enter `with` block. To be overloaded in subclasses.\">\n",
       "<text text-anchor=\"start\" x=\"169.5\" y=\"-489.5\" font-family=\"'Fira Mono', 'Source Code Pro', 'Courier', monospace\" font-weight=\"bold\" font-style=\"italic\" font-size=\"10.00\" fill=\"#000000\">__enter__()</text>\n",
       "</a>\n",
       "</g>\n",
       "<g id=\"a_node5_55\"><a xlink:href=\"#\" xlink:title=\"__exit__(self, exc_type:Type, exc_value:BaseException, traceback:traceback) &#45;&gt; Union[bool, NoneType]:&#10;Exit `with` block. To be overloaded in subclasses.\">\n",
       "<text text-anchor=\"start\" x=\"169.5\" y=\"-478.5\" font-family=\"'Fira Mono', 'Source Code Pro', 'Courier', monospace\" font-weight=\"bold\" font-style=\"italic\" font-size=\"10.00\" fill=\"#000000\">__exit__()</text>\n",
       "</a>\n",
       "</g>\n",
       "<g id=\"a_node5_56\"><a xlink:href=\"#\" xlink:title=\"__init__(self, log:bool=False) &#45;&gt; None:&#10;Constructor. If `log` is set, turn on logging.\">\n",
       "<text text-anchor=\"start\" x=\"169.5\" y=\"-467.5\" font-family=\"'Fira Mono', 'Source Code Pro', 'Courier', monospace\" font-weight=\"bold\" font-style=\"italic\" font-size=\"10.00\" fill=\"#000000\">__init__()</text>\n",
       "</a>\n",
       "</g>\n",
       "<g id=\"a_node5_57\"><a xlink:href=\"#\" xlink:title=\"arg(self, value:Any, pos:Union[int, NoneType]=None, kw:Union[str, NoneType]=None) &#45;&gt; Any:&#10;Track `value` being passed as argument.&#10;`pos` (if given) is the argument position (starting with 1).&#10;`kw` (if given) is the argument keyword.\">\n",
       "<text text-anchor=\"start\" x=\"169.5\" y=\"-456.5\" font-family=\"'Fira Mono', 'Source Code Pro', 'Courier', monospace\" font-weight=\"bold\" font-style=\"italic\" font-size=\"10.00\" fill=\"#000000\">arg()</text>\n",
       "</a>\n",
       "</g>\n",
       "<g id=\"a_node5_58\"><a xlink:href=\"#\" xlink:title=\"augment(self, name:str, value:Any) &#45;&gt; Any:&#10;Track augmenting `name` with `value`.&#10;To be overloaded in subclasses.\">\n",
       "<text text-anchor=\"start\" x=\"169.5\" y=\"-445.5\" font-family=\"'Fira Mono', 'Source Code Pro', 'Courier', monospace\" font-weight=\"bold\" font-style=\"italic\" font-size=\"10.00\" fill=\"#000000\">augment()</text>\n",
       "</a>\n",
       "</g>\n",
       "<g id=\"a_node5_59\"><a xlink:href=\"#\" xlink:title=\"call(self, func:Callable) &#45;&gt; Callable:&#10;Track a call to `func`.\">\n",
       "<text text-anchor=\"start\" x=\"169.5\" y=\"-434.5\" font-family=\"'Fira Mono', 'Source Code Pro', 'Courier', monospace\" font-weight=\"bold\" font-style=\"italic\" font-size=\"10.00\" fill=\"#000000\">call()</text>\n",
       "</a>\n",
       "</g>\n",
       "<g id=\"a_node5_60\"><a xlink:href=\"#\" xlink:title=\"get(self, name:str, value:Any) &#45;&gt; Any:&#10;Track getting `value` from `name`.\">\n",
       "<text text-anchor=\"start\" x=\"169.5\" y=\"-423.5\" font-family=\"'Fira Mono', 'Source Code Pro', 'Courier', monospace\" font-weight=\"bold\" font-style=\"italic\" font-size=\"10.00\" fill=\"#000000\">get()</text>\n",
       "</a>\n",
       "</g>\n",
       "<g id=\"a_node5_61\"><a xlink:href=\"#\" xlink:title=\"param(self, name:str, value:Any, pos:Union[int, NoneType]=None, vararg:str=&#39;&#39;, last:bool=False) &#45;&gt; Any:&#10;At the beginning of a function, track parameter `name` being set to `value`.&#10;`pos` is the position of the argument (starting with 1).&#10;`vararg` is &quot;*&quot; if `name` is a vararg parameter (as in *args),&#10;and &quot;**&quot; is `name` is a kwargs parameter (as in *kwargs).&#10;`last` is True if `name` is the last parameter.\">\n",
       "<text text-anchor=\"start\" x=\"169.5\" y=\"-412.5\" font-family=\"'Fira Mono', 'Source Code Pro', 'Courier', monospace\" font-weight=\"bold\" font-style=\"italic\" font-size=\"10.00\" fill=\"#000000\">param()</text>\n",
       "</a>\n",
       "</g>\n",
       "<g id=\"a_node5_62\"><a xlink:href=\"#\" xlink:title=\"ret(self, value:Any) &#45;&gt; Any:&#10;Track `value` being used as return value.\">\n",
       "<text text-anchor=\"start\" x=\"169.5\" y=\"-401.5\" font-family=\"'Fira Mono', 'Source Code Pro', 'Courier', monospace\" font-weight=\"bold\" font-style=\"italic\" font-size=\"10.00\" fill=\"#000000\">ret()</text>\n",
       "</a>\n",
       "</g>\n",
       "<g id=\"a_node5_63\"><a xlink:href=\"#\" xlink:title=\"set(self, name:str, value:Any, loads:Union[Set[str], NoneType]=None) &#45;&gt; Any:&#10;Track setting `name` to `value`.\">\n",
       "<text text-anchor=\"start\" x=\"169.5\" y=\"-390.5\" font-family=\"'Fira Mono', 'Source Code Pro', 'Courier', monospace\" font-weight=\"bold\" font-style=\"italic\" font-size=\"10.00\" fill=\"#000000\">set()</text>\n",
       "</a>\n",
       "</g>\n",
       "<g id=\"a_node5_64\"><a xlink:href=\"#\" xlink:title=\"test(self, cond:_ast.AST) &#45;&gt; _ast.AST:&#10;Test condition `cond`. To be overloaded in subclasses.\">\n",
       "<text text-anchor=\"start\" x=\"169.5\" y=\"-379.5\" font-family=\"'Fira Mono', 'Source Code Pro', 'Courier', monospace\" font-weight=\"bold\" font-style=\"italic\" font-size=\"10.00\" fill=\"#000000\">test()</text>\n",
       "</a>\n",
       "</g>\n",
       "</a>\n",
       "</g>\n",
       "</a>\n",
       "</g>\n",
       "</g>\n",
       "<!-- DependencyTracker&#45;&gt;DataTracker -->\n",
       "<g id=\"edge3\" class=\"edge\">\n",
       "<title>DependencyTracker&#45;&gt;DataTracker</title>\n",
       "<path fill=\"none\" stroke=\"#000000\" d=\"M209.8948,-248.6484C208.4932,-286.4346 206.984,-327.1191 205.6968,-361.8186\"/>\n",
       "<polygon fill=\"none\" stroke=\"#000000\" points=\"202.1957,-361.788 205.3225,-371.9109 209.1908,-362.0475 202.1957,-361.788\"/>\n",
       "</g>\n",
       "<!-- DataTracker&#45;&gt;StackInspector -->\n",
       "<g id=\"edge4\" class=\"edge\">\n",
       "<title>DataTracker&#45;&gt;StackInspector</title>\n",
       "<path fill=\"none\" stroke=\"#000000\" d=\"M202.5,-524.0004C202.5,-558.7427 202.5,-600.2831 202.5,-637.1436\"/>\n",
       "<polygon fill=\"none\" stroke=\"#000000\" points=\"199.0001,-637.4064 202.5,-647.4065 206.0001,-637.4065 199.0001,-637.4064\"/>\n",
       "</g>\n",
       "<!-- Dependencies -->\n",
       "<g id=\"node6\" class=\"node\">\n",
       "<title>Dependencies</title>\n",
       "<g id=\"a_node6\"><a xlink:href=\"#\" xlink:title=\"class Dependencies:&#10;A dependency graph\">\n",
       "<polygon fill=\"none\" stroke=\"#000000\" points=\"271,-285.5 271,-610.5 402,-610.5 402,-285.5 271,-285.5\"/>\n",
       "<text text-anchor=\"start\" x=\"288\" y=\"-596.3\" font-family=\"Raleway, Helvetica, Arial, sans-serif\" font-weight=\"bold\" font-size=\"14.00\" fill=\"#6a0dad\">Dependencies</text>\n",
       "<polyline fill=\"none\" stroke=\"#000000\" points=\"271,-587.5 402,-587.5 \"/>\n",
       "<g id=\"a_node6_65\"><a xlink:href=\"#\" xlink:title=\"Dependencies\">\n",
       "<g id=\"a_node6_66\"><a xlink:href=\"#\" xlink:title=\"FONT_NAME = &#39;Fira Mono, Courier, monospace&#39;\">\n",
       "<text text-anchor=\"start\" x=\"306.5\" y=\"-575.5\" font-family=\"'Fira Mono', 'Source Code Pro', 'Courier', monospace\" font-size=\"10.00\" fill=\"#000000\">FONT_NAME</text>\n",
       "</a>\n",
       "</g>\n",
       "<g id=\"a_node6_67\"><a xlink:href=\"#\" xlink:title=\"NODE_COLOR = &#39;peachpuff&#39;\">\n",
       "<text text-anchor=\"start\" x=\"306.5\" y=\"-564.5\" font-family=\"'Fira Mono', 'Source Code Pro', 'Courier', monospace\" font-size=\"10.00\" fill=\"#000000\">NODE_COLOR</text>\n",
       "</a>\n",
       "</g>\n",
       "</a>\n",
       "</g>\n",
       "<polyline fill=\"none\" stroke=\"#000000\" points=\"271,-557.5 402,-557.5 \"/>\n",
       "<g id=\"a_node6_68\"><a xlink:href=\"#\" xlink:title=\"Dependencies\">\n",
       "<g id=\"a_node6_69\"><a xlink:href=\"#\" xlink:title=\"__init__(self, data:Union[Dict[Tuple[str, Tuple[Callable, int]], Set[Tuple[str, Tuple[Callable, int]]]], NoneType]=None, control:Union[Dict[Tuple[str, Tuple[Callable, int]], Set[Tuple[str, Tuple[Callable, int]]]], NoneType]=None) &#45;&gt; None:&#10;Create a dependency graph from `data` and `control`.&#10;Both `data` and `control` are dictionaries&#10;holding _nodes_ as keys and sets of nodes as values.&#10;Each node comes as a tuple (variable_name, location)&#10;where `variable_name` is a string&#10;and `location` is a pair (function, lineno)&#10;where `function` is a callable and `lineno` is a line number&#10;denoting a unique location in the code.\">\n",
       "<text text-anchor=\"start\" x=\"279.5\" y=\"-546.5\" font-family=\"'Fira Mono', 'Source Code Pro', 'Courier', monospace\" font-weight=\"bold\" font-size=\"10.00\" fill=\"#000000\">__init__()</text>\n",
       "</a>\n",
       "</g>\n",
       "<g id=\"a_node6_70\"><a xlink:href=\"#\" xlink:title=\"__repr__(self) &#45;&gt; str:&#10;Represent dependencies as a Python expression\">\n",
       "<text text-anchor=\"start\" x=\"279.5\" y=\"-535.5\" font-family=\"'Fira Mono', 'Source Code Pro', 'Courier', monospace\" font-weight=\"bold\" font-size=\"10.00\" fill=\"#000000\">__repr__()</text>\n",
       "</a>\n",
       "</g>\n",
       "<g id=\"a_node6_71\"><a xlink:href=\"#\" xlink:title=\"__str__(self) &#45;&gt; str:&#10;Return string representation of dependencies\">\n",
       "<text text-anchor=\"start\" x=\"279.5\" y=\"-524.5\" font-family=\"'Fira Mono', 'Source Code Pro', 'Courier', monospace\" font-weight=\"bold\" font-size=\"10.00\" fill=\"#000000\">__str__()</text>\n",
       "</a>\n",
       "</g>\n",
       "<g id=\"a_node6_72\"><a xlink:href=\"#\" xlink:title=\"_repr_svg_(self) &#45;&gt; Any:&#10;If the object is output in Jupyter, render dependencies as a SVG graph\">\n",
       "<text text-anchor=\"start\" x=\"279.5\" y=\"-513.5\" font-family=\"'Fira Mono', 'Source Code Pro', 'Courier', monospace\" font-weight=\"bold\" font-size=\"10.00\" fill=\"#000000\">_repr_svg_()</text>\n",
       "</a>\n",
       "</g>\n",
       "<g id=\"a_node6_73\"><a xlink:href=\"#\" xlink:title=\"all_functions(self) &#45;&gt; Dict[Callable, List[Tuple[int, Tuple[str, Tuple[Callable, int]]]]]:&#10;Return mapping&#10;{`function`: [(`lineno`, `var`), (`lineno`, `var`), ...], ...}&#10;for all functions in the dependencies.\">\n",
       "<text text-anchor=\"start\" x=\"279.5\" y=\"-502.5\" font-family=\"'Fira Mono', 'Source Code Pro', 'Courier', monospace\" font-weight=\"bold\" font-size=\"10.00\" fill=\"#000000\">all_functions()</text>\n",
       "</a>\n",
       "</g>\n",
       "<g id=\"a_node6_74\"><a xlink:href=\"#\" xlink:title=\"all_vars(self) &#45;&gt; Set[Tuple[str, Tuple[Callable, int]]]:&#10;Return a set of all variables (as `var_name`, `location`) in the dependencies\">\n",
       "<text text-anchor=\"start\" x=\"279.5\" y=\"-491.5\" font-family=\"'Fira Mono', 'Source Code Pro', 'Courier', monospace\" font-weight=\"bold\" font-size=\"10.00\" fill=\"#000000\">all_vars()</text>\n",
       "</a>\n",
       "</g>\n",
       "<g id=\"a_node6_75\"><a xlink:href=\"#\" xlink:title=\"backward_slice(self, *criteria:Union[str, Tuple[Callable, int], Tuple[str, Tuple[Callable, int]]], mode:str=&#39;cd&#39;, depth:int=&#45;1) &#45;&gt; __main__.Dependencies:&#10;Create a backward slice from nodes `criteria`.&#10;`mode` can contain &#39;c&#39; (draw control dependencies)&#10;and &#39;d&#39; (draw data dependencies) (default: &#39;cd&#39;)\">\n",
       "<text text-anchor=\"start\" x=\"279.5\" y=\"-480.5\" font-family=\"'Fira Mono', 'Source Code Pro', 'Courier', monospace\" font-weight=\"bold\" font-size=\"10.00\" fill=\"#000000\">backward_slice()</text>\n",
       "</a>\n",
       "</g>\n",
       "<g id=\"a_node6_76\"><a xlink:href=\"#\" xlink:title=\"code(self, *items:Callable, mode:str=&#39;cd&#39;) &#45;&gt; None:&#10;List `items` on standard output, including dependencies as comments.&#10;If `items` is empty, all included functions are listed.&#10;`mode` can contain &#39;c&#39; (draw control dependencies) and &#39;d&#39; (draw data dependencies)&#10;(default: &#39;cd&#39;).\">\n",
       "<text text-anchor=\"start\" x=\"279.5\" y=\"-469.5\" font-family=\"'Fira Mono', 'Source Code Pro', 'Courier', monospace\" font-weight=\"bold\" font-size=\"10.00\" fill=\"#000000\">code()</text>\n",
       "</a>\n",
       "</g>\n",
       "<g id=\"a_node6_77\"><a xlink:href=\"#\" xlink:title=\"graph(self) &#45;&gt; graphviz.dot.Digraph:&#10;Draw dependencies.\">\n",
       "<text text-anchor=\"start\" x=\"279.5\" y=\"-458.5\" font-family=\"'Fira Mono', 'Source Code Pro', 'Courier', monospace\" font-weight=\"bold\" font-size=\"10.00\" fill=\"#000000\">graph()</text>\n",
       "</a>\n",
       "</g>\n",
       "<g id=\"a_node6_78\"><a xlink:href=\"#\" xlink:title=\"_code(self, item:Callable, mode:str) &#45;&gt; None\">\n",
       "<text text-anchor=\"start\" x=\"279.5\" y=\"-446.5\" font-family=\"'Fira Mono', 'Source Code Pro', 'Courier', monospace\" font-size=\"10.00\" fill=\"#000000\">_code()</text>\n",
       "</a>\n",
       "</g>\n",
       "<g id=\"a_node6_79\"><a xlink:href=\"#\" xlink:title=\"_source(self, node:Tuple[str, Tuple[Callable, int]]) &#45;&gt; str\">\n",
       "<text text-anchor=\"start\" x=\"279.5\" y=\"-435.5\" font-family=\"'Fira Mono', 'Source Code Pro', 'Courier', monospace\" font-size=\"10.00\" fill=\"#000000\">_source()</text>\n",
       "</a>\n",
       "</g>\n",
       "<g id=\"a_node6_80\"><a xlink:href=\"#\" xlink:title=\"add_hierarchy(self, g:graphviz.dot.Digraph) &#45;&gt; graphviz.dot.Digraph:&#10;Add invisible edges for a proper hierarchy.\">\n",
       "<text text-anchor=\"start\" x=\"279.5\" y=\"-424.5\" font-family=\"'Fira Mono', 'Source Code Pro', 'Courier', monospace\" font-size=\"10.00\" fill=\"#000000\">add_hierarchy()</text>\n",
       "</a>\n",
       "</g>\n",
       "<g id=\"a_node6_81\"><a xlink:href=\"#\" xlink:title=\"draw_dependencies(self, g:graphviz.dot.Digraph) &#45;&gt; None\">\n",
       "<text text-anchor=\"start\" x=\"279.5\" y=\"-413.5\" font-family=\"'Fira Mono', 'Source Code Pro', 'Courier', monospace\" font-size=\"10.00\" fill=\"#000000\">draw_dependencies()</text>\n",
       "</a>\n",
       "</g>\n",
       "<g id=\"a_node6_82\"><a xlink:href=\"#\" xlink:title=\"expand_criteria(self, criteria:List[Union[str, Tuple[Callable, int], Tuple[str, Tuple[Callable, int]]]]) &#45;&gt; List[Tuple[str, Tuple[Callable, int]]]:&#10;Return list of vars matched by `criteria`.\">\n",
       "<text text-anchor=\"start\" x=\"279.5\" y=\"-402.5\" font-family=\"'Fira Mono', 'Source Code Pro', 'Courier', monospace\" font-size=\"10.00\" fill=\"#000000\">expand_criteria()</text>\n",
       "</a>\n",
       "</g>\n",
       "<g id=\"a_node6_83\"><a xlink:href=\"#\" xlink:title=\"format_var(self, var:Tuple[str, Tuple[Callable, int]], current_func:Union[Callable, NoneType]=None) &#45;&gt; str:&#10;Return string for `var` in `current_func`.\">\n",
       "<text text-anchor=\"start\" x=\"279.5\" y=\"-391.5\" font-family=\"'Fira Mono', 'Source Code Pro', 'Courier', monospace\" font-size=\"10.00\" fill=\"#000000\">format_var()</text>\n",
       "</a>\n",
       "</g>\n",
       "<g id=\"a_node6_84\"><a xlink:href=\"#\" xlink:title=\"id(self, var:Tuple[str, Tuple[Callable, int]]) &#45;&gt; str:&#10;Return a unique ID for `var`.\">\n",
       "<text text-anchor=\"start\" x=\"279.5\" y=\"-380.5\" font-family=\"'Fira Mono', 'Source Code Pro', 'Courier', monospace\" font-size=\"10.00\" fill=\"#000000\">id()</text>\n",
       "</a>\n",
       "</g>\n",
       "<g id=\"a_node6_85\"><a xlink:href=\"#\" xlink:title=\"label(self, var:Tuple[str, Tuple[Callable, int]]) &#45;&gt; str:&#10;Render node `var` using HTML style.\">\n",
       "<text text-anchor=\"start\" x=\"279.5\" y=\"-369.5\" font-family=\"'Fira Mono', 'Source Code Pro', 'Courier', monospace\" font-size=\"10.00\" fill=\"#000000\">label()</text>\n",
       "</a>\n",
       "</g>\n",
       "<g id=\"a_node6_86\"><a xlink:href=\"#\" xlink:title=\"make_graph(self, name:str=&#39;dependencies&#39;, comment:str=&#39;Dependencies&#39;) &#45;&gt; graphviz.dot.Digraph\">\n",
       "<text text-anchor=\"start\" x=\"279.5\" y=\"-358.5\" font-family=\"'Fira Mono', 'Source Code Pro', 'Courier', monospace\" font-size=\"10.00\" fill=\"#000000\">make_graph()</text>\n",
       "</a>\n",
       "</g>\n",
       "<g id=\"a_node6_87\"><a xlink:href=\"#\" xlink:title=\"repr_dependencies(self, vars:Dict[Tuple[str, Tuple[Callable, int]], Set[Tuple[str, Tuple[Callable, int]]]]) &#45;&gt; str\">\n",
       "<text text-anchor=\"start\" x=\"279.5\" y=\"-347.5\" font-family=\"'Fira Mono', 'Source Code Pro', 'Courier', monospace\" font-size=\"10.00\" fill=\"#000000\">repr_dependencies()</text>\n",
       "</a>\n",
       "</g>\n",
       "<g id=\"a_node6_88\"><a xlink:href=\"#\" xlink:title=\"repr_deps(self, var_set:Set[Tuple[str, Tuple[Callable, int]]]) &#45;&gt; str\">\n",
       "<text text-anchor=\"start\" x=\"279.5\" y=\"-336.5\" font-family=\"'Fira Mono', 'Source Code Pro', 'Courier', monospace\" font-size=\"10.00\" fill=\"#000000\">repr_deps()</text>\n",
       "</a>\n",
       "</g>\n",
       "<g id=\"a_node6_89\"><a xlink:href=\"#\" xlink:title=\"repr_var(self, var:Tuple[str, Tuple[Callable, int]]) &#45;&gt; str\">\n",
       "<text text-anchor=\"start\" x=\"279.5\" y=\"-325.5\" font-family=\"'Fira Mono', 'Source Code Pro', 'Courier', monospace\" font-size=\"10.00\" fill=\"#000000\">repr_var()</text>\n",
       "</a>\n",
       "</g>\n",
       "<g id=\"a_node6_90\"><a xlink:href=\"#\" xlink:title=\"source(self, node:Tuple[str, Tuple[Callable, int]]) &#45;&gt; str:&#10;Return the source code for a given node.\">\n",
       "<text text-anchor=\"start\" x=\"279.5\" y=\"-314.5\" font-family=\"'Fira Mono', 'Source Code Pro', 'Courier', monospace\" font-size=\"10.00\" fill=\"#000000\">source()</text>\n",
       "</a>\n",
       "</g>\n",
       "<g id=\"a_node6_91\"><a xlink:href=\"#\" xlink:title=\"tooltip(self, var:Tuple[str, Tuple[Callable, int]]) &#45;&gt; str:&#10;Return a tooltip for node `var`.\">\n",
       "<text text-anchor=\"start\" x=\"279.5\" y=\"-303.5\" font-family=\"'Fira Mono', 'Source Code Pro', 'Courier', monospace\" font-size=\"10.00\" fill=\"#000000\">tooltip()</text>\n",
       "</a>\n",
       "</g>\n",
       "<g id=\"a_node6_92\"><a xlink:href=\"#\" xlink:title=\"validate(self) &#45;&gt; None:&#10;Perform a simple syntactic validation of dependencies\">\n",
       "<text text-anchor=\"start\" x=\"279.5\" y=\"-292.5\" font-family=\"'Fira Mono', 'Source Code Pro', 'Courier', monospace\" font-size=\"10.00\" fill=\"#000000\">validate()</text>\n",
       "</a>\n",
       "</g>\n",
       "</a>\n",
       "</g>\n",
       "</a>\n",
       "</g>\n",
       "</g>\n",
       "<!-- Dependencies&#45;&gt;StackInspector -->\n",
       "<g id=\"edge5\" class=\"edge\">\n",
       "<title>Dependencies&#45;&gt;StackInspector</title>\n",
       "<path fill=\"none\" stroke=\"#000000\" d=\"M270.8049,-591.1864C267.6704,-597.8893 264.5572,-604.5204 261.5,-611 257.3212,-619.8569 252.9415,-629.0591 248.5367,-638.26\"/>\n",
       "<polygon fill=\"none\" stroke=\"#000000\" points=\"245.2988,-636.9175 244.13,-647.4477 251.6104,-639.9448 245.2988,-636.9175\"/>\n",
       "</g>\n",
       "<!-- Legend -->\n",
       "<g id=\"node7\" class=\"node\">\n",
       "<title>Legend</title>\n",
       "<text text-anchor=\"start\" x=\"328.5\" y=\"-142\" font-family=\"Raleway, Helvetica, Arial, sans-serif\" font-weight=\"bold\" font-size=\"10.00\" fill=\"#6a0dad\">Legend</text>\n",
       "<text text-anchor=\"start\" x=\"328.5\" y=\"-132\" font-family=\"Raleway, Helvetica, Arial, sans-serif\" font-size=\"10.00\" fill=\"#000000\">• </text>\n",
       "<text text-anchor=\"start\" x=\"335.5\" y=\"-132\" font-family=\"'Fira Mono', 'Source Code Pro', 'Courier', monospace\" font-weight=\"bold\" font-size=\"8.00\" fill=\"#000000\">public_method()</text>\n",
       "<text text-anchor=\"start\" x=\"328.5\" y=\"-122\" font-family=\"Raleway, Helvetica, Arial, sans-serif\" font-size=\"10.00\" fill=\"#000000\">• </text>\n",
       "<text text-anchor=\"start\" x=\"335.5\" y=\"-122\" font-family=\"'Fira Mono', 'Source Code Pro', 'Courier', monospace\" font-size=\"8.00\" fill=\"#000000\">private_method()</text>\n",
       "<text text-anchor=\"start\" x=\"328.5\" y=\"-112\" font-family=\"Raleway, Helvetica, Arial, sans-serif\" font-size=\"10.00\" fill=\"#000000\">• </text>\n",
       "<text text-anchor=\"start\" x=\"335.5\" y=\"-112\" font-family=\"'Fira Mono', 'Source Code Pro', 'Courier', monospace\" font-style=\"italic\" font-size=\"8.00\" fill=\"#000000\">overloaded_method()</text>\n",
       "<text text-anchor=\"start\" x=\"328.5\" y=\"-102.8\" font-family=\"Helvetica,sans-Serif\" font-size=\"9.00\" fill=\"#000000\">Hover over names to see doc</text>\n",
       "</g>\n",
       "</g>\n",
       "</svg>\n"
      ],
      "text/plain": [
       "<graphviz.dot.Digraph at 0x7fe1d72e4668>"
      ]
     },
     "execution_count": 1,
     "metadata": {},
     "output_type": "execute_result"
    }
   ],
   "source": [
    "# ignore\n",
    "display_class_hierarchy([Slicer, DependencyTracker, StackInspector, Dependencies],\n",
    "                        abstract_classes=[\n",
    "                            StackInspector,\n",
    "                            Instrumenter\n",
    "                        ],\n",
    "                        public_methods=[\n",
    "                            StackInspector.caller_frame,\n",
    "                            StackInspector.caller_function,\n",
    "                            StackInspector.caller_globals,\n",
    "                            StackInspector.caller_locals,\n",
    "                            StackInspector.caller_location,\n",
    "                            StackInspector.search_frame,\n",
    "                            StackInspector.search_func,\n",
    "                            Instrumenter.__init__,\n",
    "                            Instrumenter.__enter__,\n",
    "                            Instrumenter.__exit__,\n",
    "                            Instrumenter.instrument,\n",
    "                            Slicer.__init__,\n",
    "                            Slicer.code,\n",
    "                            Slicer.dependencies,\n",
    "                            Slicer.graph,\n",
    "                            Slicer._repr_svg_,\n",
    "                            DataTracker.__init__,\n",
    "                            DataTracker.__enter__,\n",
    "                            DataTracker.__exit__,\n",
    "                            DataTracker.arg,\n",
    "                            DataTracker.augment,\n",
    "                            DataTracker.call,\n",
    "                            DataTracker.get,\n",
    "                            DataTracker.param,\n",
    "                            DataTracker.ret,\n",
    "                            DataTracker.set,\n",
    "                            DataTracker.test,\n",
    "                            DataTracker.__repr__,\n",
    "                            DependencyTracker.__init__,\n",
    "                            DependencyTracker.__enter__,\n",
    "                            DependencyTracker.__exit__,\n",
    "                            DependencyTracker.arg,\n",
    "                            # DependencyTracker.augment,\n",
    "                            DependencyTracker.call,\n",
    "                            DependencyTracker.get,\n",
    "                            DependencyTracker.param,\n",
    "                            DependencyTracker.ret,\n",
    "                            DependencyTracker.set,\n",
    "                            DependencyTracker.test,\n",
    "                            DependencyTracker.__repr__,\n",
    "                            Dependencies.__init__,\n",
    "                            Dependencies.__repr__,\n",
    "                            Dependencies.__str__,\n",
    "                            Dependencies._repr_svg_,\n",
    "                            Dependencies.code,\n",
    "                            Dependencies.graph,\n",
    "                            Dependencies.backward_slice,\n",
    "                            Dependencies.all_functions,\n",
    "                            Dependencies.all_vars,\n",
    "                        ],\n",
    "                        project='debuggingbook')"
   ]
  },
  {
   "cell_type": "markdown",
   "metadata": {
    "slideshow": {
     "slide_type": "subslide"
    }
   },
   "source": [
    "\\todo{Use slices to enforce (lack of) specific information flows}"
   ]
  },
  {
   "cell_type": "markdown",
   "metadata": {
    "slideshow": {
     "slide_type": "fragment"
    }
   },
   "source": [
    "\\todo{Use slices in statistical debugging}"
   ]
  },
  {
   "cell_type": "markdown",
   "metadata": {
    "button": false,
    "new_sheet": true,
    "run_control": {
     "read_only": false
    },
    "slideshow": {
     "slide_type": "slide"
    }
   },
   "source": [
    "## Lessons Learned\n",
    "\n",
    "* To track the origin of some incorrect value, follow back its _dependencies_:\n",
    "    * _Data dependencies_ indicate where the value came from.\n",
    "    * _Control dependencies_ show why a statement was executed.\n",
    "* A _slice_ is a subset of the code that could have influenced a specific value. It can be computed by transitively following all dependencies.\n",
    "* _Instrument code_ to automatically determine and visualize dependencies."
   ]
  },
  {
   "cell_type": "markdown",
   "metadata": {
    "button": false,
    "new_sheet": false,
    "run_control": {
     "read_only": false
    },
    "slideshow": {
     "slide_type": "slide"
    }
   },
   "source": [
    "## Next Steps\n",
    "\n",
    "In the [next chapter](StatisticalDebugger.ipynb), we will explore how to make use of _multiple_ passing and failing executions."
   ]
  },
  {
   "cell_type": "markdown",
   "metadata": {
    "slideshow": {
     "slide_type": "slide"
    }
   },
   "source": [
    "## Background\n",
    "\n",
    "Slicing as computing a subset of a program by means of data and control dependencies was invented by Mark Weiser \\cite{Weiser1981}. In his seminal work \"Programmers use Slices when Debugging\", \\cite{Weiser1982}, Weiser demonstrated how such dependencies are crucial for systematic debugging:\n",
    "\n",
    "> When debugging unfamiliar programs programmers use program pieces called _slices_ which are sets of statements related by their flow of data. The statements in a slice are not necessarily textually contiguous, but may be scattered through a program.\n",
    "\n",
    "Weiser's slices (and dependencies) were determined _statically_ from program code. Both Korel and Laski \\cite{Korel1988} as well as Agrawal and Horgan \\cite{Agrawal1990} introduced _dynamic_ program slicing, building on _dynamic_ dependencies, which would be more specific to a given (failing) run. (The `Slicer` we implement in this chapter is a dynamic slicer.) Tip \\cite{tip1995} gives a survey on program slicing techniques. Chen et al. \\cite{Chen2014} describe and evaluate the first dynamic slicer for Python programs (which is independent from our implementation).\n",
    "\n",
    "One examplary application of program slices is [the Whyline](https://github.com/amyjko/whyline) by Ko and Myers \\cite{Ko2004}. The Whyline a debugging interface for asking questions about program behavior. It allows to interactively query where a particular variable came from (a data dependency) and why or why not specific things took place (control dependencies).\n",
    "\n",
    "In \\cite{Soremekun2021}, Soremekun et al. evaluated the performance of slicing as a fault localization mechanism and found that following dependencies was one of the most successful strategies to determine fault locations. Notably, if programmers first examine at most the top five most suspicious locations from [statistical debugging](StatisticalDebugger.ipynb), and then switch to dynamic slices, on average, they will need to examine only 15% (12 lines) of the code. "
   ]
  },
  {
   "cell_type": "markdown",
   "metadata": {
    "button": false,
    "new_sheet": true,
    "run_control": {
     "read_only": false
    },
    "slideshow": {
     "slide_type": "slide"
    }
   },
   "source": [
    "## Exercises\n"
   ]
  },
  {
   "cell_type": "markdown",
   "metadata": {
    "button": false,
    "new_sheet": false,
    "run_control": {
     "read_only": false
    },
    "slideshow": {
     "slide_type": "subslide"
    }
   },
   "source": [
    "### Exercise 1: Forward Slicing\n",
    "\n",
    "Extend `Dependencies` with a variant of `backward_slice()` named `forward_slice()` that, instead of computing the dependencies that go _into_ a a location, computes the dependencies that go _out_ of a location."
   ]
  },
  {
   "cell_type": "markdown",
   "metadata": {
    "button": false,
    "new_sheet": false,
    "run_control": {
     "read_only": false
    },
    "slideshow": {
     "slide_type": "subslide"
    }
   },
   "source": [
    "### Exercise 2: Code with Forward Dependencies\n",
    "\n",
    "Create a variant of `Dependencies.code()` that, for each statement `s`, instead of showing a \"passive\" view (which variables and locations influenced `s`?), shows an \"active\" view (which variables and locations were influenced by `s`?). For `middle()`, for instance, the first line should show which lines are influenced by `x`, `y`, and `z`, respectively. Use `->` for control flows and `=>` for data flows."
   ]
  },
  {
   "cell_type": "markdown",
   "metadata": {
    "button": false,
    "new_sheet": false,
    "run_control": {
     "read_only": false
    },
    "slideshow": {
     "slide_type": "subslide"
    },
    "solution": "hidden",
    "solution2": "hidden",
    "solution2_first": true,
    "solution_first": true
   },
   "source": [
    "### Exercise 3: Dynamic Instrumentation\n",
    "\n",
    "When initializing `Slicer()`, one has to provide the set of functions to be instrumented. This is because the instrumentation has to take place _before_ the code in the `with` block is executed.\n",
    "\n",
    "Create a subclass of `Slicer`, called `DynamicSlicer` that determines these functions dynamically. It would be used as\n",
    "\n",
    "```python\n",
    "with DynamicSlicer() as slicer:\n",
    "    func(...)\n",
    "```\n",
    "\n",
    "and proceed in two steps:\n",
    "\n",
    "1. When `DynamicSlicer.__init__()` is called:\n",
    "    * Use the `inspect` module to determine the source code of the call\n",
    "    * Analyze the enclosed `with` block for function calls\n",
    "    * Instrument these functions\n",
    "2. Whenever a function is about to be called (`DataTracker.call()`)\n",
    "    * Create an instrumented version of that function\n",
    "    * Have `call()` return the instrumented function instead\n",
    "    * Use subclasses `DynamicDataTracker`/`DynamicDependencyTracker` for this\n",
    "    \n",
    "\\todo{Implement this}"
   ]
  }
 ],
 "metadata": {
  "ipub": {
   "bibliography": "fuzzingbook.bib",
   "toc": true
  },
  "kernelspec": {
   "display_name": "Python 3",
   "language": "python",
   "name": "python3"
  },
  "language_info": {
   "codemirror_mode": {
    "name": "ipython",
    "version": 3
   },
   "file_extension": ".py",
   "mimetype": "text/x-python",
   "name": "python",
   "nbconvert_exporter": "python",
   "pygments_lexer": "ipython3",
   "version": "3.6.10"
  },
  "toc": {
   "base_numbering": 1,
   "nav_menu": {},
   "number_sections": true,
   "sideBar": true,
   "skip_h1_title": true,
   "title_cell": "",
   "title_sidebar": "Contents",
   "toc_cell": false,
   "toc_position": {},
   "toc_section_display": true,
   "toc_window_display": true
  },
  "toc-autonumbering": false
 },
 "nbformat": 4,
 "nbformat_minor": 4
}