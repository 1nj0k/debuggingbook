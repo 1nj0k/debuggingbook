{
 "cells": [
  {
   "cell_type": "markdown",
   "metadata": {
    "button": false,
    "new_sheet": false,
    "run_control": {
     "read_only": false
    },
    "slideshow": {
     "slide_type": "slide"
    }
   },
   "source": [
    "# Tracking Origins\n",
    "\n",
    "_Brief abstract/introduction/motivation.  State what the chapter is about in 1-2 paragraphs._\n",
    "_Then, have an introduction video:_"
   ]
  },
  {
   "cell_type": "code",
   "execution_count": 1,
   "metadata": {
    "slideshow": {
     "slide_type": "skip"
    }
   },
   "outputs": [
    {
     "data": {
      "text/html": [
       "\n",
       "        <iframe\n",
       "            width=\"640\"\n",
       "            height=\"360\"\n",
       "            src=\"https://www.youtube-nocookie.com/embed/w4u5gCgPlmg\"\n",
       "            frameborder=\"0\"\n",
       "            allowfullscreen\n",
       "        ></iframe>\n",
       "        "
      ],
      "text/plain": [
       "<IPython.lib.display.IFrame at 0x7f8001fd26a0>"
      ]
     },
     "execution_count": 1,
     "metadata": {},
     "output_type": "execute_result"
    }
   ],
   "source": [
    "from bookutils import YouTubeVideo\n",
    "YouTubeVideo(\"w4u5gCgPlmg\")"
   ]
  },
  {
   "cell_type": "markdown",
   "metadata": {
    "button": false,
    "new_sheet": false,
    "run_control": {
     "read_only": false
    },
    "slideshow": {
     "slide_type": "subslide"
    }
   },
   "source": [
    "**Prerequisites**\n",
    "\n",
    "* _Refer to earlier chapters as notebooks here, as here:_ [Earlier Chapter](Fuzzer.ipynb)."
   ]
  },
  {
   "cell_type": "code",
   "execution_count": 2,
   "metadata": {
    "button": false,
    "new_sheet": false,
    "run_control": {
     "read_only": false
    },
    "slideshow": {
     "slide_type": "skip"
    }
   },
   "outputs": [],
   "source": [
    "import bookutils"
   ]
  },
  {
   "cell_type": "markdown",
   "metadata": {
    "slideshow": {
     "slide_type": "slide"
    }
   },
   "source": [
    "## Synopsis\n",
    "<!-- Automatically generated. Do not edit. -->\n",
    "\n",
    "To [use the code provided in this chapter](Importing.ipynb), write\n",
    "\n",
    "```python\n",
    ">>> from debuggingbook.Slicer import <identifier>\n",
    "```\n",
    "\n",
    "and then make use of the following features.\n",
    "\n",
    "\n",
    "_For those only interested in using the code in this chapter (without wanting to know how it works), give an example.  This will be copied to the beginning of the chapter (before the first section) as text with rendered input and output._\n",
    "\n"
   ]
  },
  {
   "cell_type": "markdown",
   "metadata": {
    "button": false,
    "new_sheet": true,
    "run_control": {
     "read_only": false
    },
    "slideshow": {
     "slide_type": "slide"
    }
   },
   "source": [
    "## Dependencies"
   ]
  },
  {
   "cell_type": "code",
   "execution_count": 3,
   "metadata": {
    "slideshow": {
     "slide_type": "fragment"
    }
   },
   "outputs": [],
   "source": [
    "def middle(x, y, z):\n",
    "    if y < z:\n",
    "        if x < y:\n",
    "            return y\n",
    "        elif x < z:\n",
    "            return y\n",
    "    else:\n",
    "        if x > y:\n",
    "            return y\n",
    "        elif x > z:\n",
    "            return x\n",
    "    return z"
   ]
  },
  {
   "cell_type": "code",
   "execution_count": 4,
   "metadata": {
    "slideshow": {
     "slide_type": "subslide"
    }
   },
   "outputs": [
    {
     "data": {
      "text/plain": [
       "1"
      ]
     },
     "execution_count": 4,
     "metadata": {},
     "output_type": "execute_result"
    }
   ],
   "source": [
    "m = middle(2, 1, 3)\n",
    "m"
   ]
  },
  {
   "cell_type": "markdown",
   "metadata": {
    "button": false,
    "new_sheet": true,
    "run_control": {
     "read_only": false
    },
    "slideshow": {
     "slide_type": "slide"
    }
   },
   "source": [
    "## Instrumenting Code"
   ]
  },
  {
   "cell_type": "code",
   "execution_count": 5,
   "metadata": {
    "slideshow": {
     "slide_type": "skip"
    }
   },
   "outputs": [],
   "source": [
    "import ast\n",
    "import astor"
   ]
  },
  {
   "cell_type": "code",
   "execution_count": 6,
   "metadata": {
    "slideshow": {
     "slide_type": "skip"
    }
   },
   "outputs": [],
   "source": [
    "from bookutils import rich_output"
   ]
  },
  {
   "cell_type": "code",
   "execution_count": 7,
   "metadata": {
    "slideshow": {
     "slide_type": "fragment"
    }
   },
   "outputs": [],
   "source": [
    "if rich_output():\n",
    "    from showast import show_ast\n",
    "else:\n",
    "    def show_ast(tree):\n",
    "        ast.dump(tree)"
   ]
  },
  {
   "cell_type": "code",
   "execution_count": 8,
   "metadata": {
    "slideshow": {
     "slide_type": "skip"
    }
   },
   "outputs": [],
   "source": [
    "import math"
   ]
  },
  {
   "cell_type": "code",
   "execution_count": 9,
   "metadata": {
    "slideshow": {
     "slide_type": "skip"
    }
   },
   "outputs": [],
   "source": [
    "import inspect"
   ]
  },
  {
   "cell_type": "code",
   "execution_count": 10,
   "metadata": {
    "slideshow": {
     "slide_type": "fragment"
    }
   },
   "outputs": [
    {
     "data": {
      "image/svg+xml": [
       "<svg height=\"476pt\" viewBox=\"0.00 0.00 1862.00 476.00\" width=\"1862pt\" xmlns=\"http://www.w3.org/2000/svg\" xmlns:xlink=\"http://www.w3.org/1999/xlink\">\n",
       "<g class=\"graph\" id=\"graph0\" transform=\"scale(1 1) rotate(0) translate(4 472)\">\n",
       "<title>%3</title>\n",
       "<polygon fill=\"#ffffff\" points=\"-4,4 -4,-472 1858,-472 1858,4 -4,4\" stroke=\"transparent\"/>\n",
       "<!-- 0 -->\n",
       "<g class=\"node\" id=\"node1\">\n",
       "<title>0</title>\n",
       "<text fill=\"#004080\" font-family=\"Courier,monospace\" font-size=\"14.00\" font-weight=\"bold\" text-anchor=\"start\" x=\"196.5\" y=\"-447.3\">FunctionDef</text>\n",
       "</g>\n",
       "<!-- 1 -->\n",
       "<g class=\"node\" id=\"node2\">\n",
       "<title>1</title>\n",
       "<text fill=\"#008040\" font-family=\"Courier,monospace\" font-size=\"14.00\" text-anchor=\"middle\" x=\"65\" y=\"-374.3\">&quot;middle&quot;</text>\n",
       "</g>\n",
       "<!-- 0&#45;&#45;1 -->\n",
       "<g class=\"edge\" id=\"edge1\">\n",
       "<title>0--1</title>\n",
       "<path d=\"M247,-432C247,-432 173.6167,-414.0594 116,-396 113.1329,-395.1013 110.1857,-394.1461 107.2233,-393.1625\" fill=\"none\" stroke=\"#000000\"/>\n",
       "</g>\n",
       "<!-- 2 -->\n",
       "<g class=\"node\" id=\"node3\">\n",
       "<title>2</title>\n",
       "<text fill=\"#004080\" font-family=\"Courier,monospace\" font-size=\"14.00\" font-weight=\"bold\" text-anchor=\"start\" x=\"133\" y=\"-375.3\">arguments</text>\n",
       "</g>\n",
       "<!-- 0&#45;&#45;2 -->\n",
       "<g class=\"edge\" id=\"edge2\">\n",
       "<title>0--2</title>\n",
       "<path d=\"M247,-432C247,-432 218.7783,-411.9478 196.7301,-396.2819\" fill=\"none\" stroke=\"#000000\"/>\n",
       "</g>\n",
       "<!-- 9 -->\n",
       "<g class=\"node\" id=\"node10\">\n",
       "<title>9</title>\n",
       "<text fill=\"#004080\" font-family=\"Courier,monospace\" font-size=\"14.00\" font-weight=\"bold\" text-anchor=\"start\" x=\"464.5\" y=\"-375.3\">If</text>\n",
       "</g>\n",
       "<!-- 0&#45;&#45;9 -->\n",
       "<g class=\"edge\" id=\"edge9\">\n",
       "<title>0--9</title>\n",
       "<path d=\"M247,-432C247,-432 385.63,-398.876 445.7391,-384.5137\" fill=\"none\" stroke=\"#000000\"/>\n",
       "</g>\n",
       "<!-- 70 -->\n",
       "<g class=\"node\" id=\"node71\">\n",
       "<title>70</title>\n",
       "<text fill=\"#004080\" font-family=\"Courier,monospace\" font-size=\"14.00\" font-weight=\"bold\" text-anchor=\"start\" x=\"1129.5\" y=\"-375.3\">Return</text>\n",
       "</g>\n",
       "<!-- 0&#45;&#45;70 -->\n",
       "<g class=\"edge\" id=\"edge70\">\n",
       "<title>0--70</title>\n",
       "<path d=\"M247,-432C247,-432 957.0073,-389.7749 1121.3352,-380.0021\" fill=\"none\" stroke=\"#000000\"/>\n",
       "</g>\n",
       "<!-- 3 -->\n",
       "<g class=\"node\" id=\"node4\">\n",
       "<title>3</title>\n",
       "<text fill=\"#004080\" font-family=\"Courier,monospace\" font-size=\"14.00\" font-weight=\"bold\" text-anchor=\"start\" x=\"14\" y=\"-303.3\">arg</text>\n",
       "</g>\n",
       "<!-- 2&#45;&#45;3 -->\n",
       "<g class=\"edge\" id=\"edge3\">\n",
       "<title>2--3</title>\n",
       "<path d=\"M157,-360C157,-360 103.9448,-342.025 63,-324 60.186,-322.7612 57.2759,-321.4165 54.3857,-320.0389\" fill=\"none\" stroke=\"#000000\"/>\n",
       "</g>\n",
       "<!-- 5 -->\n",
       "<g class=\"node\" id=\"node6\">\n",
       "<title>5</title>\n",
       "<text fill=\"#004080\" font-family=\"Courier,monospace\" font-size=\"14.00\" font-weight=\"bold\" text-anchor=\"start\" x=\"86\" y=\"-303.3\">arg</text>\n",
       "</g>\n",
       "<!-- 2&#45;&#45;5 -->\n",
       "<g class=\"edge\" id=\"edge5\">\n",
       "<title>2--5</title>\n",
       "<path d=\"M157,-360C157,-360 135.4624,-339.9478 118.6362,-324.2819\" fill=\"none\" stroke=\"#000000\"/>\n",
       "</g>\n",
       "<!-- 7 -->\n",
       "<g class=\"node\" id=\"node8\">\n",
       "<title>7</title>\n",
       "<text fill=\"#004080\" font-family=\"Courier,monospace\" font-size=\"14.00\" font-weight=\"bold\" text-anchor=\"start\" x=\"158\" y=\"-303.3\">arg</text>\n",
       "</g>\n",
       "<!-- 2&#45;&#45;7 -->\n",
       "<g class=\"edge\" id=\"edge7\">\n",
       "<title>2--7</title>\n",
       "<path d=\"M157,-360C157,-360 162.1987,-339.9478 166.2602,-324.2819\" fill=\"none\" stroke=\"#000000\"/>\n",
       "</g>\n",
       "<!-- 4 -->\n",
       "<g class=\"node\" id=\"node5\">\n",
       "<title>4</title>\n",
       "<text fill=\"#008040\" font-family=\"Courier,monospace\" font-size=\"14.00\" text-anchor=\"middle\" x=\"27\" y=\"-230.3\">&quot;x&quot;</text>\n",
       "</g>\n",
       "<!-- 3&#45;&#45;4 -->\n",
       "<g class=\"edge\" id=\"edge4\">\n",
       "<title>3--4</title>\n",
       "<path d=\"M27,-287.8314C27,-277 27,-263.2876 27,-252.4133\" fill=\"none\" stroke=\"#000000\"/>\n",
       "</g>\n",
       "<!-- 6 -->\n",
       "<g class=\"node\" id=\"node7\">\n",
       "<title>6</title>\n",
       "<text fill=\"#008040\" font-family=\"Courier,monospace\" font-size=\"14.00\" text-anchor=\"middle\" x=\"99\" y=\"-230.3\">&quot;y&quot;</text>\n",
       "</g>\n",
       "<!-- 5&#45;&#45;6 -->\n",
       "<g class=\"edge\" id=\"edge6\">\n",
       "<title>5--6</title>\n",
       "<path d=\"M99,-287.8314C99,-277 99,-263.2876 99,-252.4133\" fill=\"none\" stroke=\"#000000\"/>\n",
       "</g>\n",
       "<!-- 8 -->\n",
       "<g class=\"node\" id=\"node9\">\n",
       "<title>8</title>\n",
       "<text fill=\"#008040\" font-family=\"Courier,monospace\" font-size=\"14.00\" text-anchor=\"middle\" x=\"171\" y=\"-230.3\">&quot;z&quot;</text>\n",
       "</g>\n",
       "<!-- 7&#45;&#45;8 -->\n",
       "<g class=\"edge\" id=\"edge8\">\n",
       "<title>7--8</title>\n",
       "<path d=\"M171,-287.8314C171,-277 171,-263.2876 171,-252.4133\" fill=\"none\" stroke=\"#000000\"/>\n",
       "</g>\n",
       "<!-- 10 -->\n",
       "<g class=\"node\" id=\"node11\">\n",
       "<title>10</title>\n",
       "<text fill=\"#004080\" font-family=\"Courier,monospace\" font-size=\"14.00\" font-weight=\"bold\" text-anchor=\"start\" x=\"321.5\" y=\"-303.3\">Compare</text>\n",
       "</g>\n",
       "<!-- 9&#45;&#45;10 -->\n",
       "<g class=\"edge\" id=\"edge10\">\n",
       "<title>9--10</title>\n",
       "<path d=\"M490,-360C490,-360 429.7808,-336.6055 388.6154,-320.6132\" fill=\"none\" stroke=\"#000000\"/>\n",
       "</g>\n",
       "<!-- 18 -->\n",
       "<g class=\"node\" id=\"node19\">\n",
       "<title>18</title>\n",
       "<text fill=\"#004080\" font-family=\"Courier,monospace\" font-size=\"14.00\" font-weight=\"bold\" text-anchor=\"start\" x=\"594.5\" y=\"-303.3\">If</text>\n",
       "</g>\n",
       "<!-- 9&#45;&#45;18 -->\n",
       "<g class=\"edge\" id=\"edge18\">\n",
       "<title>9--18</title>\n",
       "<path d=\"M490,-360C490,-360 542.5036,-334.9098 575.9337,-318.9343\" fill=\"none\" stroke=\"#000000\"/>\n",
       "</g>\n",
       "<!-- 44 -->\n",
       "<g class=\"node\" id=\"node45\">\n",
       "<title>44</title>\n",
       "<text fill=\"#004080\" font-family=\"Courier,monospace\" font-size=\"14.00\" font-weight=\"bold\" text-anchor=\"start\" x=\"1314.5\" y=\"-303.3\">If</text>\n",
       "</g>\n",
       "<!-- 9&#45;&#45;44 -->\n",
       "<g class=\"edge\" id=\"edge44\">\n",
       "<title>9--44</title>\n",
       "<path d=\"M490,-360C490,-360 1152.1961,-317.0725 1295.7582,-307.766\" fill=\"none\" stroke=\"#000000\"/>\n",
       "</g>\n",
       "<!-- 11 -->\n",
       "<g class=\"node\" id=\"node12\">\n",
       "<title>11</title>\n",
       "<text fill=\"#004080\" font-family=\"Courier,monospace\" font-size=\"14.00\" font-weight=\"bold\" text-anchor=\"start\" x=\"226\" y=\"-231.3\">Name</text>\n",
       "</g>\n",
       "<!-- 10&#45;&#45;11 -->\n",
       "<g class=\"edge\" id=\"edge11\">\n",
       "<title>10--11</title>\n",
       "<path d=\"M345,-288C345,-288 300.2843,-264.327 270.0663,-248.3292\" fill=\"none\" stroke=\"#000000\"/>\n",
       "</g>\n",
       "<!-- 14 -->\n",
       "<g class=\"node\" id=\"node15\">\n",
       "<title>14</title>\n",
       "<text fill=\"#008040\" font-family=\"Courier,monospace\" font-size=\"14.00\" text-anchor=\"middle\" x=\"315\" y=\"-230.3\">Lt</text>\n",
       "</g>\n",
       "<!-- 10&#45;&#45;14 -->\n",
       "<g class=\"edge\" id=\"edge14\">\n",
       "<title>10--14</title>\n",
       "<path d=\"M345,-288C345,-288 333.8599,-267.9478 325.1566,-252.2819\" fill=\"none\" stroke=\"#000000\"/>\n",
       "</g>\n",
       "<!-- 15 -->\n",
       "<g class=\"node\" id=\"node16\">\n",
       "<title>15</title>\n",
       "<text fill=\"#004080\" font-family=\"Courier,monospace\" font-size=\"14.00\" font-weight=\"bold\" text-anchor=\"start\" x=\"370\" y=\"-231.3\">Name</text>\n",
       "</g>\n",
       "<!-- 10&#45;&#45;15 -->\n",
       "<g class=\"edge\" id=\"edge15\">\n",
       "<title>10--15</title>\n",
       "<path d=\"M345,-288C345,-288 360.5962,-267.9478 372.7807,-252.2819\" fill=\"none\" stroke=\"#000000\"/>\n",
       "</g>\n",
       "<!-- 12 -->\n",
       "<g class=\"node\" id=\"node13\">\n",
       "<title>12</title>\n",
       "<text fill=\"#008040\" font-family=\"Courier,monospace\" font-size=\"14.00\" text-anchor=\"middle\" x=\"171\" y=\"-158.3\">&quot;y&quot;</text>\n",
       "</g>\n",
       "<!-- 11&#45;&#45;12 -->\n",
       "<g class=\"edge\" id=\"edge12\">\n",
       "<title>11--12</title>\n",
       "<path d=\"M235,-216C235,-216 211.2344,-195.9478 192.6675,-180.2819\" fill=\"none\" stroke=\"#000000\"/>\n",
       "</g>\n",
       "<!-- 13 -->\n",
       "<g class=\"node\" id=\"node14\">\n",
       "<title>13</title>\n",
       "<text fill=\"#008040\" font-family=\"Courier,monospace\" font-size=\"14.00\" text-anchor=\"middle\" x=\"243\" y=\"-158.3\">Load</text>\n",
       "</g>\n",
       "<!-- 11&#45;&#45;13 -->\n",
       "<g class=\"edge\" id=\"edge13\">\n",
       "<title>11--13</title>\n",
       "<path d=\"M235,-216C235,-216 237.9707,-195.9478 240.2916,-180.2819\" fill=\"none\" stroke=\"#000000\"/>\n",
       "</g>\n",
       "<!-- 16 -->\n",
       "<g class=\"node\" id=\"node17\">\n",
       "<title>16</title>\n",
       "<text fill=\"#008040\" font-family=\"Courier,monospace\" font-size=\"14.00\" text-anchor=\"middle\" x=\"315\" y=\"-158.3\">&quot;z&quot;</text>\n",
       "</g>\n",
       "<!-- 15&#45;&#45;16 -->\n",
       "<g class=\"edge\" id=\"edge16\">\n",
       "<title>15--16</title>\n",
       "<path d=\"M379,-216C379,-216 355.2344,-195.9478 336.6675,-180.2819\" fill=\"none\" stroke=\"#000000\"/>\n",
       "</g>\n",
       "<!-- 17 -->\n",
       "<g class=\"node\" id=\"node18\">\n",
       "<title>17</title>\n",
       "<text fill=\"#008040\" font-family=\"Courier,monospace\" font-size=\"14.00\" text-anchor=\"middle\" x=\"387\" y=\"-158.3\">Load</text>\n",
       "</g>\n",
       "<!-- 15&#45;&#45;17 -->\n",
       "<g class=\"edge\" id=\"edge17\">\n",
       "<title>15--17</title>\n",
       "<path d=\"M379,-216C379,-216 381.9707,-195.9478 384.2916,-180.2819\" fill=\"none\" stroke=\"#000000\"/>\n",
       "</g>\n",
       "<!-- 19 -->\n",
       "<g class=\"node\" id=\"node20\">\n",
       "<title>19</title>\n",
       "<text fill=\"#004080\" font-family=\"Courier,monospace\" font-size=\"14.00\" font-weight=\"bold\" text-anchor=\"start\" x=\"515.5\" y=\"-231.3\">Compare</text>\n",
       "</g>\n",
       "<!-- 18&#45;&#45;19 -->\n",
       "<g class=\"edge\" id=\"edge19\">\n",
       "<title>18--19</title>\n",
       "<path d=\"M613,-288C613,-288 587.749,-267.9478 568.0217,-252.2819\" fill=\"none\" stroke=\"#000000\"/>\n",
       "</g>\n",
       "<!-- 27 -->\n",
       "<g class=\"node\" id=\"node28\">\n",
       "<title>27</title>\n",
       "<text fill=\"#004080\" font-family=\"Courier,monospace\" font-size=\"14.00\" font-weight=\"bold\" text-anchor=\"start\" x=\"635.5\" y=\"-231.3\">Return</text>\n",
       "</g>\n",
       "<!-- 18&#45;&#45;27 -->\n",
       "<g class=\"edge\" id=\"edge27\">\n",
       "<title>18--27</title>\n",
       "<path d=\"M613,-288C613,-288 630.8242,-267.9478 644.7494,-252.2819\" fill=\"none\" stroke=\"#000000\"/>\n",
       "</g>\n",
       "<!-- 31 -->\n",
       "<g class=\"node\" id=\"node32\">\n",
       "<title>31</title>\n",
       "<text fill=\"#004080\" font-family=\"Courier,monospace\" font-size=\"14.00\" font-weight=\"bold\" text-anchor=\"start\" x=\"882.5\" y=\"-231.3\">If</text>\n",
       "</g>\n",
       "<!-- 18&#45;&#45;31 -->\n",
       "<g class=\"edge\" id=\"edge31\">\n",
       "<title>18--31</title>\n",
       "<path d=\"M613,-288C613,-288 793.886,-252.8639 863.838,-239.2761\" fill=\"none\" stroke=\"#000000\"/>\n",
       "</g>\n",
       "<!-- 20 -->\n",
       "<g class=\"node\" id=\"node21\">\n",
       "<title>20</title>\n",
       "<text fill=\"#004080\" font-family=\"Courier,monospace\" font-size=\"14.00\" font-weight=\"bold\" text-anchor=\"start\" x=\"442\" y=\"-159.3\">Name</text>\n",
       "</g>\n",
       "<!-- 19&#45;&#45;20 -->\n",
       "<g class=\"edge\" id=\"edge20\">\n",
       "<title>19--20</title>\n",
       "<path d=\"M542,-216C542,-216 510.3836,-195.4303 486.1773,-179.6816\" fill=\"none\" stroke=\"#000000\"/>\n",
       "</g>\n",
       "<!-- 23 -->\n",
       "<g class=\"node\" id=\"node24\">\n",
       "<title>23</title>\n",
       "<text fill=\"#008040\" font-family=\"Courier,monospace\" font-size=\"14.00\" text-anchor=\"middle\" x=\"531\" y=\"-158.3\">Lt</text>\n",
       "</g>\n",
       "<!-- 19&#45;&#45;23 -->\n",
       "<g class=\"edge\" id=\"edge23\">\n",
       "<title>19--23</title>\n",
       "<path d=\"M542,-216C542,-216 537.9153,-195.9478 534.7241,-180.2819\" fill=\"none\" stroke=\"#000000\"/>\n",
       "</g>\n",
       "<!-- 24 -->\n",
       "<g class=\"node\" id=\"node25\">\n",
       "<title>24</title>\n",
       "<text fill=\"#004080\" font-family=\"Courier,monospace\" font-size=\"14.00\" font-weight=\"bold\" text-anchor=\"start\" x=\"586\" y=\"-159.3\">Name</text>\n",
       "</g>\n",
       "<!-- 19&#45;&#45;24 -->\n",
       "<g class=\"edge\" id=\"edge24\">\n",
       "<title>19--24</title>\n",
       "<path d=\"M542,-216C542,-216 564.6516,-195.9478 582.3482,-180.2819\" fill=\"none\" stroke=\"#000000\"/>\n",
       "</g>\n",
       "<!-- 21 -->\n",
       "<g class=\"node\" id=\"node22\">\n",
       "<title>21</title>\n",
       "<text fill=\"#008040\" font-family=\"Courier,monospace\" font-size=\"14.00\" text-anchor=\"middle\" x=\"387\" y=\"-86.3\">&quot;x&quot;</text>\n",
       "</g>\n",
       "<!-- 20&#45;&#45;21 -->\n",
       "<g class=\"edge\" id=\"edge21\">\n",
       "<title>20--21</title>\n",
       "<path d=\"M451,-144C451,-144 427.2344,-123.9478 408.6675,-108.2819\" fill=\"none\" stroke=\"#000000\"/>\n",
       "</g>\n",
       "<!-- 22 -->\n",
       "<g class=\"node\" id=\"node23\">\n",
       "<title>22</title>\n",
       "<text fill=\"#008040\" font-family=\"Courier,monospace\" font-size=\"14.00\" text-anchor=\"middle\" x=\"459\" y=\"-86.3\">Load</text>\n",
       "</g>\n",
       "<!-- 20&#45;&#45;22 -->\n",
       "<g class=\"edge\" id=\"edge22\">\n",
       "<title>20--22</title>\n",
       "<path d=\"M451,-144C451,-144 453.9707,-123.9478 456.2916,-108.2819\" fill=\"none\" stroke=\"#000000\"/>\n",
       "</g>\n",
       "<!-- 25 -->\n",
       "<g class=\"node\" id=\"node26\">\n",
       "<title>25</title>\n",
       "<text fill=\"#008040\" font-family=\"Courier,monospace\" font-size=\"14.00\" text-anchor=\"middle\" x=\"531\" y=\"-86.3\">&quot;y&quot;</text>\n",
       "</g>\n",
       "<!-- 24&#45;&#45;25 -->\n",
       "<g class=\"edge\" id=\"edge25\">\n",
       "<title>24--25</title>\n",
       "<path d=\"M595,-144C595,-144 571.2344,-123.9478 552.6675,-108.2819\" fill=\"none\" stroke=\"#000000\"/>\n",
       "</g>\n",
       "<!-- 26 -->\n",
       "<g class=\"node\" id=\"node27\">\n",
       "<title>26</title>\n",
       "<text fill=\"#008040\" font-family=\"Courier,monospace\" font-size=\"14.00\" text-anchor=\"middle\" x=\"603\" y=\"-86.3\">Load</text>\n",
       "</g>\n",
       "<!-- 24&#45;&#45;26 -->\n",
       "<g class=\"edge\" id=\"edge26\">\n",
       "<title>24--26</title>\n",
       "<path d=\"M595,-144C595,-144 597.9707,-123.9478 600.2916,-108.2819\" fill=\"none\" stroke=\"#000000\"/>\n",
       "</g>\n",
       "<!-- 28 -->\n",
       "<g class=\"node\" id=\"node29\">\n",
       "<title>28</title>\n",
       "<text fill=\"#004080\" font-family=\"Courier,monospace\" font-size=\"14.00\" font-weight=\"bold\" text-anchor=\"start\" x=\"658\" y=\"-159.3\">Name</text>\n",
       "</g>\n",
       "<!-- 27&#45;&#45;28 -->\n",
       "<g class=\"edge\" id=\"edge28\">\n",
       "<title>27--28</title>\n",
       "<path d=\"M664.5328,-215.8314C666.6389,-205 669.3052,-191.2876 671.4196,-180.4133\" fill=\"none\" stroke=\"#000000\"/>\n",
       "</g>\n",
       "<!-- 29 -->\n",
       "<g class=\"node\" id=\"node30\">\n",
       "<title>29</title>\n",
       "<text fill=\"#008040\" font-family=\"Courier,monospace\" font-size=\"14.00\" text-anchor=\"middle\" x=\"675\" y=\"-86.3\">&quot;y&quot;</text>\n",
       "</g>\n",
       "<!-- 28&#45;&#45;29 -->\n",
       "<g class=\"edge\" id=\"edge29\">\n",
       "<title>28--29</title>\n",
       "<path d=\"M683,-144C683,-144 680.0293,-123.9478 677.7084,-108.2819\" fill=\"none\" stroke=\"#000000\"/>\n",
       "</g>\n",
       "<!-- 30 -->\n",
       "<g class=\"node\" id=\"node31\">\n",
       "<title>30</title>\n",
       "<text fill=\"#008040\" font-family=\"Courier,monospace\" font-size=\"14.00\" text-anchor=\"middle\" x=\"747\" y=\"-86.3\">Load</text>\n",
       "</g>\n",
       "<!-- 28&#45;&#45;30 -->\n",
       "<g class=\"edge\" id=\"edge30\">\n",
       "<title>28--30</title>\n",
       "<path d=\"M683,-144C683,-144 706.7656,-123.9478 725.3325,-108.2819\" fill=\"none\" stroke=\"#000000\"/>\n",
       "</g>\n",
       "<!-- 32 -->\n",
       "<g class=\"node\" id=\"node33\">\n",
       "<title>32</title>\n",
       "<text fill=\"#004080\" font-family=\"Courier,monospace\" font-size=\"14.00\" font-weight=\"bold\" text-anchor=\"start\" x=\"861.5\" y=\"-159.3\">Compare</text>\n",
       "</g>\n",
       "<!-- 31&#45;&#45;32 -->\n",
       "<g class=\"edge\" id=\"edge32\">\n",
       "<title>31--32</title>\n",
       "<path d=\"M901,-216C901,-216 897.2866,-195.9478 894.3855,-180.2819\" fill=\"none\" stroke=\"#000000\"/>\n",
       "</g>\n",
       "<!-- 40 -->\n",
       "<g class=\"node\" id=\"node41\">\n",
       "<title>40</title>\n",
       "<text fill=\"#004080\" font-family=\"Courier,monospace\" font-size=\"14.00\" font-weight=\"bold\" text-anchor=\"start\" x=\"982.5\" y=\"-159.3\">Return</text>\n",
       "</g>\n",
       "<!-- 31&#45;&#45;40 -->\n",
       "<g class=\"edge\" id=\"edge40\">\n",
       "<title>31--40</title>\n",
       "<path d=\"M901,-216C901,-216 943.0585,-194.7742 974.4381,-178.9378\" fill=\"none\" stroke=\"#000000\"/>\n",
       "</g>\n",
       "<!-- 33 -->\n",
       "<g class=\"node\" id=\"node34\">\n",
       "<title>33</title>\n",
       "<text fill=\"#004080\" font-family=\"Courier,monospace\" font-size=\"14.00\" font-weight=\"bold\" text-anchor=\"start\" x=\"802\" y=\"-87.3\">Name</text>\n",
       "</g>\n",
       "<!-- 32&#45;&#45;33 -->\n",
       "<g class=\"edge\" id=\"edge33\">\n",
       "<title>32--33</title>\n",
       "<path d=\"M891,-144C891,-144 864.2637,-123.9478 843.3759,-108.2819\" fill=\"none\" stroke=\"#000000\"/>\n",
       "</g>\n",
       "<!-- 36 -->\n",
       "<g class=\"node\" id=\"node37\">\n",
       "<title>36</title>\n",
       "<text fill=\"#008040\" font-family=\"Courier,monospace\" font-size=\"14.00\" text-anchor=\"middle\" x=\"891\" y=\"-86.3\">Lt</text>\n",
       "</g>\n",
       "<!-- 32&#45;&#45;36 -->\n",
       "<g class=\"edge\" id=\"edge36\">\n",
       "<title>32--36</title>\n",
       "<path d=\"M891,-144C891,-144 891,-123.9478 891,-108.2819\" fill=\"none\" stroke=\"#000000\"/>\n",
       "</g>\n",
       "<!-- 37 -->\n",
       "<g class=\"node\" id=\"node38\">\n",
       "<title>37</title>\n",
       "<text fill=\"#004080\" font-family=\"Courier,monospace\" font-size=\"14.00\" font-weight=\"bold\" text-anchor=\"start\" x=\"946\" y=\"-87.3\">Name</text>\n",
       "</g>\n",
       "<!-- 32&#45;&#45;37 -->\n",
       "<g class=\"edge\" id=\"edge37\">\n",
       "<title>32--37</title>\n",
       "<path d=\"M891,-144C891,-144 917.7363,-123.9478 938.6241,-108.2819\" fill=\"none\" stroke=\"#000000\"/>\n",
       "</g>\n",
       "<!-- 34 -->\n",
       "<g class=\"node\" id=\"node35\">\n",
       "<title>34</title>\n",
       "<text fill=\"#008040\" font-family=\"Courier,monospace\" font-size=\"14.00\" text-anchor=\"middle\" x=\"747\" y=\"-14.3\">&quot;x&quot;</text>\n",
       "</g>\n",
       "<!-- 33&#45;&#45;34 -->\n",
       "<g class=\"edge\" id=\"edge34\">\n",
       "<title>33--34</title>\n",
       "<path d=\"M811,-72C811,-72 787.2344,-51.9478 768.6675,-36.2819\" fill=\"none\" stroke=\"#000000\"/>\n",
       "</g>\n",
       "<!-- 35 -->\n",
       "<g class=\"node\" id=\"node36\">\n",
       "<title>35</title>\n",
       "<text fill=\"#008040\" font-family=\"Courier,monospace\" font-size=\"14.00\" text-anchor=\"middle\" x=\"819\" y=\"-14.3\">Load</text>\n",
       "</g>\n",
       "<!-- 33&#45;&#45;35 -->\n",
       "<g class=\"edge\" id=\"edge35\">\n",
       "<title>33--35</title>\n",
       "<path d=\"M811,-72C811,-72 813.9707,-51.9478 816.2916,-36.2819\" fill=\"none\" stroke=\"#000000\"/>\n",
       "</g>\n",
       "<!-- 38 -->\n",
       "<g class=\"node\" id=\"node39\">\n",
       "<title>38</title>\n",
       "<text fill=\"#008040\" font-family=\"Courier,monospace\" font-size=\"14.00\" text-anchor=\"middle\" x=\"891\" y=\"-14.3\">&quot;z&quot;</text>\n",
       "</g>\n",
       "<!-- 37&#45;&#45;38 -->\n",
       "<g class=\"edge\" id=\"edge38\">\n",
       "<title>37--38</title>\n",
       "<path d=\"M955,-72C955,-72 931.2344,-51.9478 912.6675,-36.2819\" fill=\"none\" stroke=\"#000000\"/>\n",
       "</g>\n",
       "<!-- 39 -->\n",
       "<g class=\"node\" id=\"node40\">\n",
       "<title>39</title>\n",
       "<text fill=\"#008040\" font-family=\"Courier,monospace\" font-size=\"14.00\" text-anchor=\"middle\" x=\"963\" y=\"-14.3\">Load</text>\n",
       "</g>\n",
       "<!-- 37&#45;&#45;39 -->\n",
       "<g class=\"edge\" id=\"edge39\">\n",
       "<title>37--39</title>\n",
       "<path d=\"M955,-72C955,-72 957.9707,-51.9478 960.2916,-36.2819\" fill=\"none\" stroke=\"#000000\"/>\n",
       "</g>\n",
       "<!-- 41 -->\n",
       "<g class=\"node\" id=\"node42\">\n",
       "<title>41</title>\n",
       "<text fill=\"#004080\" font-family=\"Courier,monospace\" font-size=\"14.00\" font-weight=\"bold\" text-anchor=\"start\" x=\"1018\" y=\"-87.3\">Name</text>\n",
       "</g>\n",
       "<!-- 40&#45;&#45;41 -->\n",
       "<g class=\"edge\" id=\"edge41\">\n",
       "<title>40--41</title>\n",
       "<path d=\"M1014.8132,-143.8314C1018.875,-133 1024.0172,-119.2876 1028.095,-108.4133\" fill=\"none\" stroke=\"#000000\"/>\n",
       "</g>\n",
       "<!-- 42 -->\n",
       "<g class=\"node\" id=\"node43\">\n",
       "<title>42</title>\n",
       "<text fill=\"#008040\" font-family=\"Courier,monospace\" font-size=\"14.00\" text-anchor=\"middle\" x=\"1035\" y=\"-14.3\">&quot;y&quot;</text>\n",
       "</g>\n",
       "<!-- 41&#45;&#45;42 -->\n",
       "<g class=\"edge\" id=\"edge42\">\n",
       "<title>41--42</title>\n",
       "<path d=\"M1043,-72C1043,-72 1040.0293,-51.9478 1037.7084,-36.2819\" fill=\"none\" stroke=\"#000000\"/>\n",
       "</g>\n",
       "<!-- 43 -->\n",
       "<g class=\"node\" id=\"node44\">\n",
       "<title>43</title>\n",
       "<text fill=\"#008040\" font-family=\"Courier,monospace\" font-size=\"14.00\" text-anchor=\"middle\" x=\"1107\" y=\"-14.3\">Load</text>\n",
       "</g>\n",
       "<!-- 41&#45;&#45;43 -->\n",
       "<g class=\"edge\" id=\"edge43\">\n",
       "<title>41--43</title>\n",
       "<path d=\"M1043,-72C1043,-72 1066.7656,-51.9478 1085.3325,-36.2819\" fill=\"none\" stroke=\"#000000\"/>\n",
       "</g>\n",
       "<!-- 45 -->\n",
       "<g class=\"node\" id=\"node46\">\n",
       "<title>45</title>\n",
       "<text fill=\"#004080\" font-family=\"Courier,monospace\" font-size=\"14.00\" font-weight=\"bold\" text-anchor=\"start\" x=\"1235.5\" y=\"-231.3\">Compare</text>\n",
       "</g>\n",
       "<!-- 44&#45;&#45;45 -->\n",
       "<g class=\"edge\" id=\"edge45\">\n",
       "<title>44--45</title>\n",
       "<path d=\"M1332,-288C1332,-288 1307.1204,-267.9478 1287.6831,-252.2819\" fill=\"none\" stroke=\"#000000\"/>\n",
       "</g>\n",
       "<!-- 53 -->\n",
       "<g class=\"node\" id=\"node54\">\n",
       "<title>53</title>\n",
       "<text fill=\"#004080\" font-family=\"Courier,monospace\" font-size=\"14.00\" font-weight=\"bold\" text-anchor=\"start\" x=\"1355.5\" y=\"-231.3\">Return</text>\n",
       "</g>\n",
       "<!-- 44&#45;&#45;53 -->\n",
       "<g class=\"edge\" id=\"edge53\">\n",
       "<title>44--53</title>\n",
       "<path d=\"M1332,-288C1332,-288 1350.1956,-267.9478 1364.4108,-252.2819\" fill=\"none\" stroke=\"#000000\"/>\n",
       "</g>\n",
       "<!-- 57 -->\n",
       "<g class=\"node\" id=\"node58\">\n",
       "<title>57</title>\n",
       "<text fill=\"#004080\" font-family=\"Courier,monospace\" font-size=\"14.00\" font-weight=\"bold\" text-anchor=\"start\" x=\"1533.5\" y=\"-231.3\">If</text>\n",
       "</g>\n",
       "<!-- 44&#45;&#45;57 -->\n",
       "<g class=\"edge\" id=\"edge57\">\n",
       "<title>44--57</title>\n",
       "<path d=\"M1332,-288C1332,-288 1458.2584,-255.5335 1514.9761,-240.949\" fill=\"none\" stroke=\"#000000\"/>\n",
       "</g>\n",
       "<!-- 46 -->\n",
       "<g class=\"node\" id=\"node47\">\n",
       "<title>46</title>\n",
       "<text fill=\"#004080\" font-family=\"Courier,monospace\" font-size=\"14.00\" font-weight=\"bold\" text-anchor=\"start\" x=\"1162\" y=\"-159.3\">Name</text>\n",
       "</g>\n",
       "<!-- 45&#45;&#45;46 -->\n",
       "<g class=\"edge\" id=\"edge46\">\n",
       "<title>45--46</title>\n",
       "<path d=\"M1262,-216C1262,-216 1230.3836,-195.4303 1206.1773,-179.6816\" fill=\"none\" stroke=\"#000000\"/>\n",
       "</g>\n",
       "<!-- 49 -->\n",
       "<g class=\"node\" id=\"node50\">\n",
       "<title>49</title>\n",
       "<text fill=\"#008040\" font-family=\"Courier,monospace\" font-size=\"14.00\" text-anchor=\"middle\" x=\"1251\" y=\"-158.3\">Gt</text>\n",
       "</g>\n",
       "<!-- 45&#45;&#45;49 -->\n",
       "<g class=\"edge\" id=\"edge49\">\n",
       "<title>45--49</title>\n",
       "<path d=\"M1262,-216C1262,-216 1257.9153,-195.9478 1254.7241,-180.2819\" fill=\"none\" stroke=\"#000000\"/>\n",
       "</g>\n",
       "<!-- 50 -->\n",
       "<g class=\"node\" id=\"node51\">\n",
       "<title>50</title>\n",
       "<text fill=\"#004080\" font-family=\"Courier,monospace\" font-size=\"14.00\" font-weight=\"bold\" text-anchor=\"start\" x=\"1306\" y=\"-159.3\">Name</text>\n",
       "</g>\n",
       "<!-- 45&#45;&#45;50 -->\n",
       "<g class=\"edge\" id=\"edge50\">\n",
       "<title>45--50</title>\n",
       "<path d=\"M1262,-216C1262,-216 1284.6516,-195.9478 1302.3482,-180.2819\" fill=\"none\" stroke=\"#000000\"/>\n",
       "</g>\n",
       "<!-- 47 -->\n",
       "<g class=\"node\" id=\"node48\">\n",
       "<title>47</title>\n",
       "<text fill=\"#008040\" font-family=\"Courier,monospace\" font-size=\"14.00\" text-anchor=\"middle\" x=\"1107\" y=\"-86.3\">&quot;x&quot;</text>\n",
       "</g>\n",
       "<!-- 46&#45;&#45;47 -->\n",
       "<g class=\"edge\" id=\"edge47\">\n",
       "<title>46--47</title>\n",
       "<path d=\"M1171,-144C1171,-144 1147.2344,-123.9478 1128.6675,-108.2819\" fill=\"none\" stroke=\"#000000\"/>\n",
       "</g>\n",
       "<!-- 48 -->\n",
       "<g class=\"node\" id=\"node49\">\n",
       "<title>48</title>\n",
       "<text fill=\"#008040\" font-family=\"Courier,monospace\" font-size=\"14.00\" text-anchor=\"middle\" x=\"1179\" y=\"-86.3\">Load</text>\n",
       "</g>\n",
       "<!-- 46&#45;&#45;48 -->\n",
       "<g class=\"edge\" id=\"edge48\">\n",
       "<title>46--48</title>\n",
       "<path d=\"M1171,-144C1171,-144 1173.9707,-123.9478 1176.2916,-108.2819\" fill=\"none\" stroke=\"#000000\"/>\n",
       "</g>\n",
       "<!-- 51 -->\n",
       "<g class=\"node\" id=\"node52\">\n",
       "<title>51</title>\n",
       "<text fill=\"#008040\" font-family=\"Courier,monospace\" font-size=\"14.00\" text-anchor=\"middle\" x=\"1251\" y=\"-86.3\">&quot;y&quot;</text>\n",
       "</g>\n",
       "<!-- 50&#45;&#45;51 -->\n",
       "<g class=\"edge\" id=\"edge51\">\n",
       "<title>50--51</title>\n",
       "<path d=\"M1315,-144C1315,-144 1291.2344,-123.9478 1272.6675,-108.2819\" fill=\"none\" stroke=\"#000000\"/>\n",
       "</g>\n",
       "<!-- 52 -->\n",
       "<g class=\"node\" id=\"node53\">\n",
       "<title>52</title>\n",
       "<text fill=\"#008040\" font-family=\"Courier,monospace\" font-size=\"14.00\" text-anchor=\"middle\" x=\"1323\" y=\"-86.3\">Load</text>\n",
       "</g>\n",
       "<!-- 50&#45;&#45;52 -->\n",
       "<g class=\"edge\" id=\"edge52\">\n",
       "<title>50--52</title>\n",
       "<path d=\"M1315,-144C1315,-144 1317.9707,-123.9478 1320.2916,-108.2819\" fill=\"none\" stroke=\"#000000\"/>\n",
       "</g>\n",
       "<!-- 54 -->\n",
       "<g class=\"node\" id=\"node55\">\n",
       "<title>54</title>\n",
       "<text fill=\"#004080\" font-family=\"Courier,monospace\" font-size=\"14.00\" font-weight=\"bold\" text-anchor=\"start\" x=\"1378\" y=\"-159.3\">Name</text>\n",
       "</g>\n",
       "<!-- 53&#45;&#45;54 -->\n",
       "<g class=\"edge\" id=\"edge54\">\n",
       "<title>53--54</title>\n",
       "<path d=\"M1384.5328,-215.8314C1386.6389,-205 1389.3052,-191.2876 1391.4196,-180.4133\" fill=\"none\" stroke=\"#000000\"/>\n",
       "</g>\n",
       "<!-- 55 -->\n",
       "<g class=\"node\" id=\"node56\">\n",
       "<title>55</title>\n",
       "<text fill=\"#008040\" font-family=\"Courier,monospace\" font-size=\"14.00\" text-anchor=\"middle\" x=\"1395\" y=\"-86.3\">&quot;y&quot;</text>\n",
       "</g>\n",
       "<!-- 54&#45;&#45;55 -->\n",
       "<g class=\"edge\" id=\"edge55\">\n",
       "<title>54--55</title>\n",
       "<path d=\"M1403,-144C1403,-144 1400.0293,-123.9478 1397.7084,-108.2819\" fill=\"none\" stroke=\"#000000\"/>\n",
       "</g>\n",
       "<!-- 56 -->\n",
       "<g class=\"node\" id=\"node57\">\n",
       "<title>56</title>\n",
       "<text fill=\"#008040\" font-family=\"Courier,monospace\" font-size=\"14.00\" text-anchor=\"middle\" x=\"1467\" y=\"-86.3\">Load</text>\n",
       "</g>\n",
       "<!-- 54&#45;&#45;56 -->\n",
       "<g class=\"edge\" id=\"edge56\">\n",
       "<title>54--56</title>\n",
       "<path d=\"M1403,-144C1403,-144 1426.7656,-123.9478 1445.3325,-108.2819\" fill=\"none\" stroke=\"#000000\"/>\n",
       "</g>\n",
       "<!-- 58 -->\n",
       "<g class=\"node\" id=\"node59\">\n",
       "<title>58</title>\n",
       "<text fill=\"#004080\" font-family=\"Courier,monospace\" font-size=\"14.00\" font-weight=\"bold\" text-anchor=\"start\" x=\"1547.5\" y=\"-159.3\">Compare</text>\n",
       "</g>\n",
       "<!-- 57&#45;&#45;58 -->\n",
       "<g class=\"edge\" id=\"edge58\">\n",
       "<title>57--58</title>\n",
       "<path d=\"M1561,-216C1561,-216 1566.9414,-195.9478 1571.5831,-180.2819\" fill=\"none\" stroke=\"#000000\"/>\n",
       "</g>\n",
       "<!-- 66 -->\n",
       "<g class=\"node\" id=\"node67\">\n",
       "<title>66</title>\n",
       "<text fill=\"#004080\" font-family=\"Courier,monospace\" font-size=\"14.00\" font-weight=\"bold\" text-anchor=\"start\" x=\"1685.5\" y=\"-159.3\">Return</text>\n",
       "</g>\n",
       "<!-- 57&#45;&#45;66 -->\n",
       "<g class=\"edge\" id=\"edge66\">\n",
       "<title>57--66</title>\n",
       "<path d=\"M1561,-216C1561,-216 1633.1121,-190.0396 1677.3371,-174.1187\" fill=\"none\" stroke=\"#000000\"/>\n",
       "</g>\n",
       "<!-- 59 -->\n",
       "<g class=\"node\" id=\"node60\">\n",
       "<title>59</title>\n",
       "<text fill=\"#004080\" font-family=\"Courier,monospace\" font-size=\"14.00\" font-weight=\"bold\" text-anchor=\"start\" x=\"1522\" y=\"-87.3\">Name</text>\n",
       "</g>\n",
       "<!-- 58&#45;&#45;59 -->\n",
       "<g class=\"edge\" id=\"edge59\">\n",
       "<title>58--59</title>\n",
       "<path d=\"M1583,-144C1583,-144 1566.6611,-123.9478 1553.8964,-108.2819\" fill=\"none\" stroke=\"#000000\"/>\n",
       "</g>\n",
       "<!-- 62 -->\n",
       "<g class=\"node\" id=\"node63\">\n",
       "<title>62</title>\n",
       "<text fill=\"#008040\" font-family=\"Courier,monospace\" font-size=\"14.00\" text-anchor=\"middle\" x=\"1611\" y=\"-86.3\">Gt</text>\n",
       "</g>\n",
       "<!-- 58&#45;&#45;62 -->\n",
       "<g class=\"edge\" id=\"edge62\">\n",
       "<title>58--62</title>\n",
       "<path d=\"M1583,-144C1583,-144 1593.3975,-123.9478 1601.5205,-108.2819\" fill=\"none\" stroke=\"#000000\"/>\n",
       "</g>\n",
       "<!-- 63 -->\n",
       "<g class=\"node\" id=\"node64\">\n",
       "<title>63</title>\n",
       "<text fill=\"#004080\" font-family=\"Courier,monospace\" font-size=\"14.00\" font-weight=\"bold\" text-anchor=\"start\" x=\"1666\" y=\"-87.3\">Name</text>\n",
       "</g>\n",
       "<!-- 58&#45;&#45;63 -->\n",
       "<g class=\"edge\" id=\"edge63\">\n",
       "<title>58--63</title>\n",
       "<path d=\"M1583,-144C1583,-144 1626.3231,-120.6055 1655.9386,-104.6132\" fill=\"none\" stroke=\"#000000\"/>\n",
       "</g>\n",
       "<!-- 60 -->\n",
       "<g class=\"node\" id=\"node61\">\n",
       "<title>60</title>\n",
       "<text fill=\"#008040\" font-family=\"Courier,monospace\" font-size=\"14.00\" text-anchor=\"middle\" x=\"1467\" y=\"-14.3\">&quot;x&quot;</text>\n",
       "</g>\n",
       "<!-- 59&#45;&#45;60 -->\n",
       "<g class=\"edge\" id=\"edge60\">\n",
       "<title>59--60</title>\n",
       "<path d=\"M1531,-72C1531,-72 1507.2344,-51.9478 1488.6675,-36.2819\" fill=\"none\" stroke=\"#000000\"/>\n",
       "</g>\n",
       "<!-- 61 -->\n",
       "<g class=\"node\" id=\"node62\">\n",
       "<title>61</title>\n",
       "<text fill=\"#008040\" font-family=\"Courier,monospace\" font-size=\"14.00\" text-anchor=\"middle\" x=\"1539\" y=\"-14.3\">Load</text>\n",
       "</g>\n",
       "<!-- 59&#45;&#45;61 -->\n",
       "<g class=\"edge\" id=\"edge61\">\n",
       "<title>59--61</title>\n",
       "<path d=\"M1531,-72C1531,-72 1533.9707,-51.9478 1536.2916,-36.2819\" fill=\"none\" stroke=\"#000000\"/>\n",
       "</g>\n",
       "<!-- 64 -->\n",
       "<g class=\"node\" id=\"node65\">\n",
       "<title>64</title>\n",
       "<text fill=\"#008040\" font-family=\"Courier,monospace\" font-size=\"14.00\" text-anchor=\"middle\" x=\"1611\" y=\"-14.3\">&quot;z&quot;</text>\n",
       "</g>\n",
       "<!-- 63&#45;&#45;64 -->\n",
       "<g class=\"edge\" id=\"edge64\">\n",
       "<title>63--64</title>\n",
       "<path d=\"M1675,-72C1675,-72 1651.2344,-51.9478 1632.6675,-36.2819\" fill=\"none\" stroke=\"#000000\"/>\n",
       "</g>\n",
       "<!-- 65 -->\n",
       "<g class=\"node\" id=\"node66\">\n",
       "<title>65</title>\n",
       "<text fill=\"#008040\" font-family=\"Courier,monospace\" font-size=\"14.00\" text-anchor=\"middle\" x=\"1683\" y=\"-14.3\">Load</text>\n",
       "</g>\n",
       "<!-- 63&#45;&#45;65 -->\n",
       "<g class=\"edge\" id=\"edge65\">\n",
       "<title>63--65</title>\n",
       "<path d=\"M1675,-72C1675,-72 1677.9707,-51.9478 1680.2916,-36.2819\" fill=\"none\" stroke=\"#000000\"/>\n",
       "</g>\n",
       "<!-- 67 -->\n",
       "<g class=\"node\" id=\"node68\">\n",
       "<title>67</title>\n",
       "<text fill=\"#004080\" font-family=\"Courier,monospace\" font-size=\"14.00\" font-weight=\"bold\" text-anchor=\"start\" x=\"1738\" y=\"-87.3\">Name</text>\n",
       "</g>\n",
       "<!-- 66&#45;&#45;67 -->\n",
       "<g class=\"edge\" id=\"edge67\">\n",
       "<title>66--67</title>\n",
       "<path d=\"M1722.1031,-143.8314C1728.7222,-133 1737.102,-119.2876 1743.7474,-108.4133\" fill=\"none\" stroke=\"#000000\"/>\n",
       "</g>\n",
       "<!-- 68 -->\n",
       "<g class=\"node\" id=\"node69\">\n",
       "<title>68</title>\n",
       "<text fill=\"#008040\" font-family=\"Courier,monospace\" font-size=\"14.00\" text-anchor=\"middle\" x=\"1755\" y=\"-14.3\">&quot;x&quot;</text>\n",
       "</g>\n",
       "<!-- 67&#45;&#45;68 -->\n",
       "<g class=\"edge\" id=\"edge68\">\n",
       "<title>67--68</title>\n",
       "<path d=\"M1763,-72C1763,-72 1760.0293,-51.9478 1757.7084,-36.2819\" fill=\"none\" stroke=\"#000000\"/>\n",
       "</g>\n",
       "<!-- 69 -->\n",
       "<g class=\"node\" id=\"node70\">\n",
       "<title>69</title>\n",
       "<text fill=\"#008040\" font-family=\"Courier,monospace\" font-size=\"14.00\" text-anchor=\"middle\" x=\"1827\" y=\"-14.3\">Load</text>\n",
       "</g>\n",
       "<!-- 67&#45;&#45;69 -->\n",
       "<g class=\"edge\" id=\"edge69\">\n",
       "<title>67--69</title>\n",
       "<path d=\"M1763,-72C1763,-72 1786.7656,-51.9478 1805.3325,-36.2819\" fill=\"none\" stroke=\"#000000\"/>\n",
       "</g>\n",
       "<!-- 71 -->\n",
       "<g class=\"node\" id=\"node72\">\n",
       "<title>71</title>\n",
       "<text fill=\"#004080\" font-family=\"Courier,monospace\" font-size=\"14.00\" font-weight=\"bold\" text-anchor=\"start\" x=\"1597\" y=\"-303.3\">Name</text>\n",
       "</g>\n",
       "<!-- 70&#45;&#45;71 -->\n",
       "<g class=\"edge\" id=\"edge71\">\n",
       "<title>70--71</title>\n",
       "<path d=\"M1188.7514,-372.7057C1275.9118,-359.0334 1507.2536,-322.7445 1586.735,-310.2769\" fill=\"none\" stroke=\"#000000\"/>\n",
       "</g>\n",
       "<!-- 72 -->\n",
       "<g class=\"node\" id=\"node73\">\n",
       "<title>72</title>\n",
       "<text fill=\"#008040\" font-family=\"Courier,monospace\" font-size=\"14.00\" text-anchor=\"middle\" x=\"1614\" y=\"-230.3\">&quot;z&quot;</text>\n",
       "</g>\n",
       "<!-- 71&#45;&#45;72 -->\n",
       "<g class=\"edge\" id=\"edge72\">\n",
       "<title>71--72</title>\n",
       "<path d=\"M1622,-288C1622,-288 1619.0293,-267.9478 1616.7084,-252.2819\" fill=\"none\" stroke=\"#000000\"/>\n",
       "</g>\n",
       "<!-- 73 -->\n",
       "<g class=\"node\" id=\"node74\">\n",
       "<title>73</title>\n",
       "<text fill=\"#008040\" font-family=\"Courier,monospace\" font-size=\"14.00\" text-anchor=\"middle\" x=\"1686\" y=\"-230.3\">Load</text>\n",
       "</g>\n",
       "<!-- 71&#45;&#45;73 -->\n",
       "<g class=\"edge\" id=\"edge73\">\n",
       "<title>71--73</title>\n",
       "<path d=\"M1622,-288C1622,-288 1645.7656,-267.9478 1664.3325,-252.2819\" fill=\"none\" stroke=\"#000000\"/>\n",
       "</g>\n",
       "</g>\n",
       "</svg>"
      ],
      "text/plain": [
       "<IPython.core.display.SVG object>"
      ]
     },
     "metadata": {},
     "output_type": "display_data"
    }
   ],
   "source": [
    "middle_tree = ast.parse(inspect.getsource(middle))\n",
    "show_ast(middle_tree)"
   ]
  },
  {
   "cell_type": "code",
   "execution_count": 11,
   "metadata": {
    "slideshow": {
     "slide_type": "skip"
    }
   },
   "outputs": [],
   "source": [
    "from ast import NodeTransformer, Subscript, Name, Load, Store, \\\n",
    "    Assign, Attribute, With, withitem, Return, Index, Str, Call"
   ]
  },
  {
   "cell_type": "code",
   "execution_count": 12,
   "metadata": {
    "slideshow": {
     "slide_type": "fragment"
    }
   },
   "outputs": [],
   "source": [
    "DATA_STORE = '_data'"
   ]
  },
  {
   "cell_type": "code",
   "execution_count": 13,
   "metadata": {
    "slideshow": {
     "slide_type": "fragment"
    }
   },
   "outputs": [
    {
     "name": "stdout",
     "output_type": "stream",
     "text": [
      "Module(body=[Expr(value=Subscript(value=Name(id='_data', ctx=Load()), slice=Index(value=Str(s='x')), ctx=Load()))])\n"
     ]
    }
   ],
   "source": [
    "print(ast.dump(ast.parse(f\"{DATA_STORE}['x']\")))"
   ]
  },
  {
   "cell_type": "code",
   "execution_count": 14,
   "metadata": {
    "slideshow": {
     "slide_type": "subslide"
    }
   },
   "outputs": [],
   "source": [
    "def make_data_access(id, ctx):\n",
    "    return Subscript(\n",
    "        value=Name(id=DATA_STORE, ctx=Load()),\n",
    "        slice=Index(value=Str(s=id)),\n",
    "        ctx=ctx\n",
    "    )"
   ]
  },
  {
   "cell_type": "code",
   "execution_count": 15,
   "metadata": {
    "slideshow": {
     "slide_type": "fragment"
    }
   },
   "outputs": [],
   "source": [
    "class AccessTransformer(NodeTransformer):\n",
    "    def visit_Name(self, node):\n",
    "        if node.id in dir(__builtins__):\n",
    "            return node  # Do not change built-in names\n",
    "        return make_data_access(node.id, node.ctx)"
   ]
  },
  {
   "cell_type": "code",
   "execution_count": 16,
   "metadata": {
    "slideshow": {
     "slide_type": "subslide"
    }
   },
   "outputs": [
    {
     "name": "stdout",
     "output_type": "stream",
     "text": [
      "def middle(x, y, z):\n",
      "    if _data['y'] < _data['z']:\n",
      "        if _data['x'] < _data['y']:\n",
      "            return _data['y']\n",
      "        elif _data['x'] < _data['z']:\n",
      "            return _data['y']\n",
      "    elif _data['x'] > _data['y']:\n",
      "        return _data['y']\n",
      "    elif _data['x'] > _data['z']:\n",
      "        return _data['x']\n",
      "    return _data['z']\n",
      "\n"
     ]
    }
   ],
   "source": [
    "AccessTransformer().visit(middle_tree)\n",
    "print(astor.to_source(middle_tree))"
   ]
  },
  {
   "cell_type": "code",
   "execution_count": 17,
   "metadata": {
    "slideshow": {
     "slide_type": "subslide"
    }
   },
   "outputs": [],
   "source": [
    "class SaveArgsTransformer(NodeTransformer):\n",
    "    def visit_FunctionDef(self, node):\n",
    "        named_args = []\n",
    "        for child in ast.iter_child_nodes(node.args):\n",
    "            if isinstance(child, ast.arg):\n",
    "                named_args.append(child.arg)\n",
    "\n",
    "        assign_stmts = []\n",
    "        for arg in named_args:\n",
    "            assign_stmt = Assign(\n",
    "                targets=[make_data_access(arg, Store())],\n",
    "                value=Name(id=arg, ctx=Load())\n",
    "            )\n",
    "            assign_stmts.append(assign_stmt)\n",
    "\n",
    "        node.body = assign_stmts + node.body\n",
    "        return node"
   ]
  },
  {
   "cell_type": "code",
   "execution_count": 18,
   "metadata": {
    "slideshow": {
     "slide_type": "subslide"
    }
   },
   "outputs": [
    {
     "name": "stdout",
     "output_type": "stream",
     "text": [
      "def middle(x, y, z):\n",
      "    _data['x'] = x\n",
      "    _data['y'] = y\n",
      "    _data['z'] = z\n",
      "    if _data['y'] < _data['z']:\n",
      "        if _data['x'] < _data['y']:\n",
      "            return _data['y']\n",
      "        elif _data['x'] < _data['z']:\n",
      "            return _data['y']\n",
      "    elif _data['x'] > _data['y']:\n",
      "        return _data['y']\n",
      "    elif _data['x'] > _data['z']:\n",
      "        return _data['x']\n",
      "    return _data['z']\n",
      "\n"
     ]
    }
   ],
   "source": [
    "SaveArgsTransformer().visit(middle_tree)\n",
    "print(astor.to_source(middle_tree))"
   ]
  },
  {
   "cell_type": "code",
   "execution_count": 19,
   "metadata": {
    "slideshow": {
     "slide_type": "subslide"
    }
   },
   "outputs": [],
   "source": [
    "class SaveReturnTransformer(NodeTransformer):\n",
    "    RETURN_VALUE = '<return value>'\n",
    "\n",
    "    def visit_Return(self, node):\n",
    "        assign_node = Assign(\n",
    "                targets=[make_data_access(self.RETURN_VALUE, Store())],\n",
    "                value=node.value\n",
    "            )\n",
    "        return_node = Return(\n",
    "                value=make_data_access(self.RETURN_VALUE, Load())\n",
    "            )\n",
    "        ast.copy_location(assign_node, node)\n",
    "        ast.copy_location(return_node, node)\n",
    "\n",
    "        return [\n",
    "            assign_node,\n",
    "            return_node\n",
    "        ]"
   ]
  },
  {
   "cell_type": "code",
   "execution_count": 20,
   "metadata": {
    "slideshow": {
     "slide_type": "subslide"
    }
   },
   "outputs": [
    {
     "name": "stdout",
     "output_type": "stream",
     "text": [
      "def middle(x, y, z):\n",
      "    _data['x'] = x\n",
      "    _data['y'] = y\n",
      "    _data['z'] = z\n",
      "    if _data['y'] < _data['z']:\n",
      "        if _data['x'] < _data['y']:\n",
      "            _data['<return value>'] = _data['y']\n",
      "            return _data['<return value>']\n",
      "        elif _data['x'] < _data['z']:\n",
      "            _data['<return value>'] = _data['y']\n",
      "            return _data['<return value>']\n",
      "    elif _data['x'] > _data['y']:\n",
      "        _data['<return value>'] = _data['y']\n",
      "        return _data['<return value>']\n",
      "    elif _data['x'] > _data['z']:\n",
      "        _data['<return value>'] = _data['x']\n",
      "        return _data['<return value>']\n",
      "    _data['<return value>'] = _data['z']\n",
      "    return _data['<return value>']\n",
      "\n"
     ]
    }
   ],
   "source": [
    "SaveReturnTransformer().visit(middle_tree)\n",
    "print(astor.to_source(middle_tree))"
   ]
  },
  {
   "cell_type": "code",
   "execution_count": 21,
   "metadata": {
    "slideshow": {
     "slide_type": "subslide"
    }
   },
   "outputs": [],
   "source": [
    "class ControlTransformer(NodeTransformer):\n",
    "    def make_with(self, block):\n",
    "        if len(block) == 0:\n",
    "            return []\n",
    "\n",
    "        return [With(\n",
    "            items=[\n",
    "                withitem(\n",
    "                    context_expr=Name(id=DATA_STORE, ctx=Load()),\n",
    "                    optional_vars=None)\n",
    "            ],\n",
    "            body=block\n",
    "        )]\n",
    "\n",
    "    def make_test(self, test):\n",
    "        return Call(func=Attribute(value=Name(id='_data', ctx=Load()),\n",
    "                                   attr='test',\n",
    "                                   ctx=Load()),\n",
    "                     args=[test],\n",
    "                     keywords=[])\n",
    "\n",
    "    def visit_If(self, node):\n",
    "        node.test = self.make_test(node.test)\n",
    "        node.body = self.make_with(node.body)\n",
    "        node.orelse = self.make_with(node.orelse)\n",
    "        return self.generic_visit(node)\n",
    "\n",
    "    def visit_While(self, node):\n",
    "        node.test = self.make_test(node.test)\n",
    "        node.body = self.make_with(node.body)\n",
    "        node.orelse = self.make_with(node.orelse)\n",
    "        return self.generic_visit(node)\n",
    "\n",
    "    def visit_For(self, node):\n",
    "        node.body = self.make_with(node.body)\n",
    "        node.orelse = self.make_with(node.orelse)\n",
    "        return self.generic_visit(node)"
   ]
  },
  {
   "cell_type": "code",
   "execution_count": 22,
   "metadata": {
    "slideshow": {
     "slide_type": "subslide"
    }
   },
   "outputs": [
    {
     "name": "stdout",
     "output_type": "stream",
     "text": [
      "def middle(x, y, z):\n",
      "    _data['x'] = x\n",
      "    _data['y'] = y\n",
      "    _data['z'] = z\n",
      "    if _data.test(_data['y'] < _data['z']):\n",
      "        with _data:\n",
      "            if _data.test(_data['x'] < _data['y']):\n",
      "                with _data:\n",
      "                    _data['<return value>'] = _data['y']\n",
      "                    return _data['<return value>']\n",
      "            else:\n",
      "                with _data:\n",
      "                    if _data.test(_data['x'] < _data['z']):\n",
      "                        with _data:\n",
      "                            _data['<return value>'] = _data['y']\n",
      "                            return _data['<return value>']\n",
      "    else:\n",
      "        with _data:\n",
      "            if _data.test(_data['x'] > _data['y']):\n",
      "                with _data:\n",
      "                    _data['<return value>'] = _data['y']\n",
      "                    return _data['<return value>']\n",
      "            else:\n",
      "                with _data:\n",
      "                    if _data.test(_data['x'] > _data['z']):\n",
      "                        with _data:\n",
      "                            _data['<return value>'] = _data['x']\n",
      "                            return _data['<return value>']\n",
      "    _data['<return value>'] = _data['z']\n",
      "    return _data['<return value>']\n",
      "\n"
     ]
    }
   ],
   "source": [
    "ControlTransformer().visit(middle_tree)\n",
    "print(astor.to_source(middle_tree))"
   ]
  },
  {
   "cell_type": "code",
   "execution_count": 23,
   "metadata": {
    "slideshow": {
     "slide_type": "subslide"
    }
   },
   "outputs": [],
   "source": [
    "def print_ast_ids(tree):\n",
    "    for node in ast.walk(tree):\n",
    "        print(node)\n",
    "        try:\n",
    "            print(astor.to_source(node))\n",
    "        except AttributeError:\n",
    "            print(\"(No source)\\n\")"
   ]
  },
  {
   "cell_type": "code",
   "execution_count": 24,
   "metadata": {
    "slideshow": {
     "slide_type": "fragment"
    }
   },
   "outputs": [],
   "source": [
    "# print_ast_ids(new_square_root_tree)"
   ]
  },
  {
   "cell_type": "markdown",
   "metadata": {
    "slideshow": {
     "slide_type": "slide"
    }
   },
   "source": [
    "## Tracking Data"
   ]
  },
  {
   "cell_type": "code",
   "execution_count": 25,
   "metadata": {
    "slideshow": {
     "slide_type": "subslide"
    }
   },
   "outputs": [],
   "source": [
    "class DataStore(dict):\n",
    "    def __init__(self, *args, log=False):\n",
    "        super().__init__(*args)\n",
    "        self.log = log\n",
    "\n",
    "    def caller_location(self):\n",
    "        frame = inspect.currentframe()\n",
    "        while ('self' in frame.f_locals and \n",
    "               isinstance(frame.f_locals['self'], self.__class__)):\n",
    "               frame = frame.f_back\n",
    "        return frame.f_code.co_name, frame.f_lineno\n",
    "\n",
    "    def __getitem__(self, name):\n",
    "        if self.log:\n",
    "            code_name, lineno = self.caller_location()\n",
    "            print(f\"{code_name}:{lineno}: setting {name}\")\n",
    "\n",
    "        if name in self:\n",
    "            return super().__getitem__(name)\n",
    "        else:\n",
    "            return globals()[name]\n",
    "\n",
    "    def __setitem__(self, name, value):\n",
    "        if self.log:\n",
    "            code_name, lineno = self.caller_location()\n",
    "            print(f\"{code_name}:{lineno}: setting {name}\")\n",
    "\n",
    "        return super().__setitem__(name, value)"
   ]
  },
  {
   "cell_type": "code",
   "execution_count": 26,
   "metadata": {
    "slideshow": {
     "slide_type": "subslide"
    }
   },
   "outputs": [],
   "source": [
    "class DataStore(DataStore):\n",
    "    def test(self, value):\n",
    "        if self.log:\n",
    "            code_name, lineno = self.caller_location()\n",
    "            print(f\"{code_name}:{lineno}: testing condition\")\n",
    "\n",
    "        return value\n",
    "\n",
    "    def __repr__(self):\n",
    "        return super().__repr__()\n",
    "\n",
    "    def __enter__(self):\n",
    "        pass\n",
    "\n",
    "    def __exit__(self, exc_type, exc_value, traceback):\n",
    "        pass"
   ]
  },
  {
   "cell_type": "markdown",
   "metadata": {
    "slideshow": {
     "slide_type": "slide"
    }
   },
   "source": [
    "## Tracking Dependencies"
   ]
  },
  {
   "cell_type": "code",
   "execution_count": 27,
   "metadata": {
    "slideshow": {
     "slide_type": "fragment"
    }
   },
   "outputs": [],
   "source": [
    "class Dependencies(object):\n",
    "    def __init__(self, data, control):\n",
    "        self.data = data\n",
    "        self.control = control"
   ]
  },
  {
   "cell_type": "code",
   "execution_count": 28,
   "metadata": {
    "slideshow": {
     "slide_type": "skip"
    }
   },
   "outputs": [],
   "source": [
    "import itertools"
   ]
  },
  {
   "cell_type": "code",
   "execution_count": 29,
   "metadata": {
    "slideshow": {
     "slide_type": "subslide"
    }
   },
   "outputs": [],
   "source": [
    "class DataTracker(DataStore):\n",
    "    def __init__(self, *args, **kwargs):\n",
    "        super().__init__(*args, **kwargs)\n",
    "        self.origins = {}\n",
    "        self.data_dependencies = {}\n",
    "        self.control_dependencies = {}\n",
    "        self.last_read = []\n",
    "        self.last_read_location = None\n",
    "        self.control = [[]]\n",
    "\n",
    "    def __getitem__(self, name):\n",
    "        location = self.caller_location()\n",
    "        if location != self.last_read_location:\n",
    "            self.last_read_location = location\n",
    "            self.last_read = []\n",
    "        self.last_read.append(name)\n",
    "        return super().__getitem__(name)\n",
    "\n",
    "    def __setitem__(self, name, value):\n",
    "        location = self.caller_location()\n",
    "\n",
    "        new_data_dependencies = self.data_dependencies[(name, location)] \\\n",
    "            if (name, location) in self.data_dependencies else set()\n",
    "\n",
    "        for var_read in self.last_read:\n",
    "            if var_read in self.origins:\n",
    "                new_data_dependencies.add((var_read, self.origins[var_read]))\n",
    "\n",
    "        new_control_dependencies = self.control_dependencies[(name, location)] \\\n",
    "            if (name, location) in self.control_dependencies else set()\n",
    "\n",
    "        for var_read in itertools.chain.from_iterable(self.control):\n",
    "            if var_read in self.origins:\n",
    "                new_control_dependencies.add((var_read, self.origins[var_read]))\n",
    "\n",
    "        self.data_dependencies[(name, location)] = new_data_dependencies\n",
    "        self.control_dependencies[(name, location)] = new_control_dependencies\n",
    "\n",
    "        self.origins[name] = location\n",
    "\n",
    "        # Reset read info for next line\n",
    "        self.last_read_location = None\n",
    "        self.last_read = []\n",
    "\n",
    "        return super().__setitem__(name, value)"
   ]
  },
  {
   "cell_type": "code",
   "execution_count": 30,
   "metadata": {
    "slideshow": {
     "slide_type": "subslide"
    }
   },
   "outputs": [],
   "source": [
    "class DataTracker(DataTracker):\n",
    "    TEST = '<test>'\n",
    "\n",
    "    def test(self, value):\n",
    "        self.__setitem__(self.TEST, value)\n",
    "        self.__getitem__(self.TEST)\n",
    "        return super().test(value)\n",
    "\n",
    "    def __enter__(self):\n",
    "        self.control.append(self.last_read)\n",
    "        self.last_read_location = None\n",
    "        self.last_read = []\n",
    "\n",
    "    def __exit__(self, exc_type, exc_value, traceback):\n",
    "        self.control.pop()\n",
    "        self.last_read_location = None\n",
    "        self.last_read = []\n",
    "\n",
    "    def dependencies(self):\n",
    "        return Dependencies(self.data_dependencies,\n",
    "                            self.control_dependencies)"
   ]
  },
  {
   "cell_type": "code",
   "execution_count": 31,
   "metadata": {
    "slideshow": {
     "slide_type": "subslide"
    }
   },
   "outputs": [],
   "source": [
    "class Dependencies(Dependencies):\n",
    "    def format_var(self, var):\n",
    "        name, location = var\n",
    "        location_name, lineno = location\n",
    "        return(f\"{name} ({location_name}:{lineno}):\")\n",
    "\n",
    "    def __repr__(self):\n",
    "        out = \"\"\n",
    "        for var in set(self.data.keys() | set(self.control.keys())):\n",
    "            out += self.format_var(var) + \"\\n\"\n",
    "            for data_dep in self.data[var]:\n",
    "                out += f\"    <= {self.format_var(data_dep)}\\n\"\n",
    "            for control_dep in self.control[var]:\n",
    "                out += f\"    <- {self.format_var(control_dep)}\\n\"\n",
    "\n",
    "        return out"
   ]
  },
  {
   "cell_type": "markdown",
   "metadata": {
    "slideshow": {
     "slide_type": "slide"
    }
   },
   "source": [
    "## Slicing Code"
   ]
  },
  {
   "cell_type": "code",
   "execution_count": 32,
   "metadata": {
    "slideshow": {
     "slide_type": "subslide"
    }
   },
   "outputs": [],
   "source": [
    "class Instrumenter(object):\n",
    "    def __init__(self, *items_to_instrument, log=False):\n",
    "        self.log = log\n",
    "        self.items_to_instrument = items_to_instrument\n",
    "\n",
    "    def __enter__(self):\n",
    "        \"\"\"Instrument sources\"\"\"\n",
    "        for item in self.items_to_instrument:\n",
    "            self.instrument(item)\n",
    "        return self\n",
    "\n",
    "    def __exit__(self, exc_type, exc_value, traceback):\n",
    "        \"\"\"Restore sources\"\"\"\n",
    "        self.restore()\n",
    "\n",
    "    def restore(self):\n",
    "        for item in self.items_to_instrument:\n",
    "            globals()[item.__name__] = item\n",
    "\n",
    "    def instrument(self, item):\n",
    "        if self.log:\n",
    "            print(\"Instrumenting\", item)"
   ]
  },
  {
   "cell_type": "code",
   "execution_count": 33,
   "metadata": {
    "slideshow": {
     "slide_type": "subslide"
    }
   },
   "outputs": [],
   "source": [
    "with Instrumenter(middle) as ins:\n",
    "    pass"
   ]
  },
  {
   "cell_type": "code",
   "execution_count": 34,
   "metadata": {
    "slideshow": {
     "slide_type": "subslide"
    }
   },
   "outputs": [],
   "source": [
    "class Slicer(Instrumenter):\n",
    "    def __init__(self, *items_to_instrument, data_tracker=None, log=False):\n",
    "        super().__init__(*items_to_instrument, log=log)\n",
    "        if len(items_to_instrument) == 0:\n",
    "            raise ValueError(\"Need one or more items to instrument\")\n",
    "\n",
    "        if data_tracker is None:\n",
    "            data_tracker = DataTracker()\n",
    "        self.data_tracker = data_tracker\n",
    "        self.data_store = None\n",
    "\n",
    "    def instrument(self, item):\n",
    "        source_lines, lineno = inspect.getsourcelines(item)\n",
    "        tree = ast.parse(\"\".join(source_lines))\n",
    "        ast.increment_lineno(tree, lineno - 1)\n",
    "\n",
    "        AccessTransformer().visit(tree)\n",
    "        SaveArgsTransformer().visit(tree)\n",
    "        SaveReturnTransformer().visit(tree)\n",
    "        ControlTransformer().visit(tree)\n",
    "\n",
    "        ast.fix_missing_locations(tree)\n",
    "        # print_ast_ids(tree)\n",
    "\n",
    "        if self.log:\n",
    "            print(f\"Instrumenting {item}:\")\n",
    "            print(astor.to_source(tree))\n",
    "\n",
    "        code = compile(tree, '<string>', 'exec')\n",
    "        exec(code, globals())\n",
    "        globals()[DATA_STORE] = self.data_tracker\n",
    "\n",
    "    def restore(self):\n",
    "        if DATA_STORE in globals():\n",
    "            self.data_store = globals()[DATA_STORE]\n",
    "            del globals()[DATA_STORE]\n",
    "        super().restore()\n",
    "\n",
    "    def dependencies(self):\n",
    "        if self.data_store is None:\n",
    "            return None\n",
    "        return self.data_store.dependencies()"
   ]
  },
  {
   "cell_type": "code",
   "execution_count": 35,
   "metadata": {
    "slideshow": {
     "slide_type": "subslide"
    }
   },
   "outputs": [
    {
     "data": {
      "text/plain": [
       "1"
      ]
     },
     "execution_count": 35,
     "metadata": {},
     "output_type": "execute_result"
    }
   ],
   "source": [
    "with Slicer(middle) as slicer:\n",
    "    m = middle(2, 1, 3)\n",
    "m"
   ]
  },
  {
   "cell_type": "code",
   "execution_count": 36,
   "metadata": {
    "slideshow": {
     "slide_type": "subslide"
    }
   },
   "outputs": [
    {
     "data": {
      "text/plain": [
       "<test> (middle:3):\n",
       "    <= x (middle:1):\n",
       "    <= y (middle:1):\n",
       "    <- <test> (middle:2):\n",
       "<return value> (middle:6):\n",
       "    <= y (middle:1):\n",
       "    <- <test> (middle:5):\n",
       "<test> (middle:5):\n",
       "    <= z (middle:1):\n",
       "    <= x (middle:1):\n",
       "    <- <test> (middle:3):\n",
       "x (middle:1):\n",
       "y (middle:1):\n",
       "z (middle:1):\n",
       "<test> (middle:2):\n",
       "    <= z (middle:1):\n",
       "    <= y (middle:1):"
      ]
     },
     "execution_count": 36,
     "metadata": {},
     "output_type": "execute_result"
    }
   ],
   "source": [
    "slicer.dependencies()"
   ]
  },
  {
   "cell_type": "code",
   "execution_count": 37,
   "metadata": {
    "slideshow": {
     "slide_type": "subslide"
    }
   },
   "outputs": [
    {
     "data": {
      "text/plain": [
       "1"
      ]
     },
     "execution_count": 37,
     "metadata": {},
     "output_type": "execute_result"
    }
   ],
   "source": [
    "middle(2, 1, 3)"
   ]
  },
  {
   "cell_type": "markdown",
   "metadata": {
    "slideshow": {
     "slide_type": "slide"
    }
   },
   "source": [
    "## Drawing Dependencies"
   ]
  },
  {
   "cell_type": "code",
   "execution_count": 38,
   "metadata": {
    "ipub": {
     "ignore": true
    },
    "slideshow": {
     "slide_type": "skip"
    }
   },
   "outputs": [],
   "source": [
    "from graphviz import Digraph, nohtml"
   ]
  },
  {
   "cell_type": "code",
   "execution_count": 39,
   "metadata": {
    "slideshow": {
     "slide_type": "skip"
    }
   },
   "outputs": [],
   "source": [
    "import html"
   ]
  },
  {
   "cell_type": "code",
   "execution_count": 40,
   "metadata": {
    "ipub": {
     "ignore": true
    },
    "slideshow": {
     "slide_type": "fragment"
    }
   },
   "outputs": [],
   "source": [
    "class Dependencies(Dependencies):\n",
    "    STEP_COLOR = 'peachpuff'\n",
    "    FONT_NAME = 'Fira Mono'"
   ]
  },
  {
   "cell_type": "code",
   "execution_count": 41,
   "metadata": {
    "ipub": {
     "ignore": true
    },
    "slideshow": {
     "slide_type": "subslide"
    }
   },
   "outputs": [],
   "source": [
    "class Dependencies(Dependencies):\n",
    "    def make_graph(self, name=\"dependencies\", comment=\"Dependencies\"):\n",
    "        return Digraph(name=name, comment=comment, \n",
    "            graph_attr={\n",
    "            },\n",
    "            node_attr={\n",
    "                'style': 'filled',\n",
    "                'shape': 'box',\n",
    "                'fillcolor': self.STEP_COLOR,\n",
    "                'fontname': self.FONT_NAME\n",
    "            },\n",
    "            edge_attr={\n",
    "                'fontname': self.FONT_NAME\n",
    "            })"
   ]
  },
  {
   "cell_type": "code",
   "execution_count": 42,
   "metadata": {
    "ipub": {
     "ignore": true
    },
    "slideshow": {
     "slide_type": "subslide"
    }
   },
   "outputs": [],
   "source": [
    "class Dependencies(Dependencies):\n",
    "    def id(self, node):\n",
    "        id = \"\"\n",
    "        for c in repr(node):\n",
    "            if c.isalnum() or c == '_':\n",
    "                id += c\n",
    "            if c == ':' or c == ',':\n",
    "                id += '_'\n",
    "        return id\n",
    "\n",
    "    def label(self, node):\n",
    "        (name, location) = node\n",
    "        code_name, lineno = location\n",
    "        fun = globals()[code_name]\n",
    "        source_lines, first_lineno = inspect.getsourcelines(fun)\n",
    "        source = source_lines[lineno - first_lineno].strip()\n",
    "        \n",
    "        title = html.escape(name)\n",
    "        if name.startswith('<'):\n",
    "            title = f\"<I>{title}</I>\"\n",
    "\n",
    "        return (f'<' +\n",
    "            f'<B>{title}</B>' +\n",
    "            f'<FONT POINT-SIZE=\"9.0\"><BR/><BR/>{html.escape(source)}</FONT>' +\n",
    "            '>')\n",
    "\n",
    "    def tooltip(self, node):\n",
    "        (name, location) = node\n",
    "        code_name, lineno = location\n",
    "        return f\"{code_name}:{lineno}\""
   ]
  },
  {
   "cell_type": "code",
   "execution_count": 43,
   "metadata": {
    "ipub": {
     "ignore": true
    },
    "slideshow": {
     "slide_type": "subslide"
    }
   },
   "outputs": [],
   "source": [
    "class Dependencies(Dependencies):\n",
    "    def graph(self):\n",
    "        \"\"\"Draw dependencies.\"\"\"\n",
    "        g = self.make_graph()\n",
    "        self.draw_dependencies(g)\n",
    "        self.add_hierarchy(g)\n",
    "        return g"
   ]
  },
  {
   "cell_type": "code",
   "execution_count": 44,
   "metadata": {
    "ipub": {
     "ignore": true
    },
    "slideshow": {
     "slide_type": "subslide"
    }
   },
   "outputs": [],
   "source": [
    "class Dependencies(Dependencies):\n",
    "    def draw_dependencies(self, g):\n",
    "        for node in self.data:\n",
    "            g.node(self.id(node), \n",
    "                   label=self.label(node),\n",
    "                   tooltip=self.tooltip(node))\n",
    "\n",
    "            for source in self.data[node]:\n",
    "                g.edge(self.id(source), self.id(node))\n",
    "\n",
    "            for source in self.control[node]:\n",
    "                g.edge(self.id(source), self.id(node),\n",
    "                       style='dashed', color='grey')"
   ]
  },
  {
   "cell_type": "code",
   "execution_count": 45,
   "metadata": {
    "ipub": {
     "ignore": true
    },
    "slideshow": {
     "slide_type": "subslide"
    }
   },
   "outputs": [],
   "source": [
    "class Dependencies(Dependencies):\n",
    "    def all_vars(self):\n",
    "        all_vars = set()\n",
    "        for node in self.data:\n",
    "            all_vars.add(node)\n",
    "\n",
    "            for source in self.data[node]:\n",
    "                all_vars.add(source)\n",
    "\n",
    "            for source in self.control[node]:\n",
    "                all_vars.add(source)\n",
    "\n",
    "        return all_vars\n",
    "\n",
    "    def all_codes(self):\n",
    "        code_names = {}\n",
    "        for node in self.all_vars():\n",
    "            (name, location) = node\n",
    "            code_name, lineno = location\n",
    "            if code_name not in code_names:\n",
    "                code_names[code_name] = []\n",
    "            code_names[code_name].append((lineno, node))\n",
    "\n",
    "        for code_name in code_names:\n",
    "            code_names[code_name].sort()\n",
    "\n",
    "        return code_names\n",
    "\n",
    "    def add_hierarchy(self, g):\n",
    "        \"\"\"Add invisible edges for a proper hierarchy.\"\"\"\n",
    "        code_names = self.all_codes()\n",
    "        for code_name in code_names:\n",
    "            last_node = None\n",
    "            last_lineno = 0\n",
    "            for (lineno, node) in code_names[code_name]:\n",
    "                if last_node is not None and lineno > last_lineno:\n",
    "                    g.edge(self.id(last_node),\n",
    "                           self.id(node),\n",
    "                           style='invis')\n",
    "\n",
    "                last_node = node\n",
    "                last_lineno = lineno\n",
    "\n",
    "        return g"
   ]
  },
  {
   "cell_type": "code",
   "execution_count": 46,
   "metadata": {
    "slideshow": {
     "slide_type": "subslide"
    }
   },
   "outputs": [],
   "source": [
    "with Slicer(middle) as middle_slicer:\n",
    "    y = middle(2, 1, 3)"
   ]
  },
  {
   "cell_type": "code",
   "execution_count": 47,
   "metadata": {
    "slideshow": {
     "slide_type": "fragment"
    }
   },
   "outputs": [
    {
     "data": {
      "image/svg+xml": [
       "<?xml version=\"1.0\" encoding=\"UTF-8\" standalone=\"no\"?>\n",
       "<!DOCTYPE svg PUBLIC \"-//W3C//DTD SVG 1.1//EN\"\n",
       " \"http://www.w3.org/Graphics/SVG/1.1/DTD/svg11.dtd\">\n",
       "<!-- Generated by graphviz version 2.40.1 (20161225.0304)\n",
       " -->\n",
       "<!-- Title: dependencies Pages: 1 -->\n",
       "<svg width=\"332pt\" height=\"352pt\"\n",
       " viewBox=\"0.00 0.00 332.38 352.00\" xmlns=\"http://www.w3.org/2000/svg\" xmlns:xlink=\"http://www.w3.org/1999/xlink\">\n",
       "<g id=\"graph0\" class=\"graph\" transform=\"scale(1 1) rotate(0) translate(4 348)\">\n",
       "<title>dependencies</title>\n",
       "<polygon fill=\"#ffffff\" stroke=\"transparent\" points=\"-4,4 -4,-348 328.3796,-348 328.3796,4 -4,4\"/>\n",
       "<!-- x_middle_1 -->\n",
       "<g id=\"node1\" class=\"node\">\n",
       "<title>x_middle_1</title>\n",
       "<g id=\"a_node1\"><a xlink:title=\"middle:1\">\n",
       "<polygon fill=\"#ffdab9\" stroke=\"#000000\" points=\"309,-268 184,-268 184,-228 309,-228 309,-268\"/>\n",
       "<text text-anchor=\"start\" x=\"242\" y=\"-253.8\" font-family=\"Fira Mono\" font-weight=\"bold\" font-size=\"14.00\" fill=\"#000000\">x</text>\n",
       "<text text-anchor=\"start\" x=\"192\" y=\"-234.8\" font-family=\"Fira Mono\" font-size=\"9.00\" fill=\"#000000\">def middle(x, y, z):</text>\n",
       "</a>\n",
       "</g>\n",
       "</g>\n",
       "<!-- test_middle_3 -->\n",
       "<g id=\"node5\" class=\"node\">\n",
       "<title>test_middle_3</title>\n",
       "<g id=\"a_node5\"><a xlink:title=\"middle:3\">\n",
       "<polygon fill=\"#ffdab9\" stroke=\"#000000\" points=\"189,-192 122,-192 122,-152 189,-152 189,-192\"/>\n",
       "<text text-anchor=\"start\" x=\"130\" y=\"-177.8\" font-family=\"Fira Mono\" font-weight=\"bold\" font-style=\"italic\" font-size=\"14.00\" fill=\"#000000\">&lt;test&gt;</text>\n",
       "<text text-anchor=\"start\" x=\"131\" y=\"-158.8\" font-family=\"Fira Mono\" font-size=\"9.00\" fill=\"#000000\">if x &lt; y:</text>\n",
       "</a>\n",
       "</g>\n",
       "</g>\n",
       "<!-- x_middle_1&#45;&gt;test_middle_3 -->\n",
       "<g id=\"edge3\" class=\"edge\">\n",
       "<title>x_middle_1&#45;&gt;test_middle_3</title>\n",
       "<path fill=\"none\" stroke=\"#000000\" d=\"M222.1137,-227.6334C211.5226,-218.7881 198.9703,-208.3049 187.6332,-198.8365\"/>\n",
       "<polygon fill=\"#000000\" stroke=\"#000000\" points=\"189.557,-195.8831 179.6381,-192.1593 185.0699,-201.2558 189.557,-195.8831\"/>\n",
       "</g>\n",
       "<!-- test_middle_5 -->\n",
       "<g id=\"node6\" class=\"node\">\n",
       "<title>test_middle_5</title>\n",
       "<g id=\"a_node6\"><a xlink:title=\"middle:5\">\n",
       "<polygon fill=\"#ffdab9\" stroke=\"#000000\" points=\"193.5,-116 117.5,-116 117.5,-76 193.5,-76 193.5,-116\"/>\n",
       "<text text-anchor=\"start\" x=\"130\" y=\"-101.8\" font-family=\"Fira Mono\" font-weight=\"bold\" font-style=\"italic\" font-size=\"14.00\" fill=\"#000000\">&lt;test&gt;</text>\n",
       "<text text-anchor=\"start\" x=\"125.5\" y=\"-82.8\" font-family=\"Fira Mono\" font-size=\"9.00\" fill=\"#000000\">elif x &lt; z:</text>\n",
       "</a>\n",
       "</g>\n",
       "</g>\n",
       "<!-- x_middle_1&#45;&gt;test_middle_5 -->\n",
       "<g id=\"edge7\" class=\"edge\">\n",
       "<title>x_middle_1&#45;&gt;test_middle_5</title>\n",
       "<path fill=\"none\" stroke=\"#000000\" d=\"M237.5086,-227.9693C228.3351,-208.1628 213.2466,-177.2438 197.5,-152 191.651,-142.6233 184.6576,-132.8419 178.071,-124.1266\"/>\n",
       "<polygon fill=\"#000000\" stroke=\"#000000\" points=\"180.8027,-121.9373 171.9312,-116.1453 175.2544,-126.2055 180.8027,-121.9373\"/>\n",
       "</g>\n",
       "<!-- y_middle_1 -->\n",
       "<g id=\"node2\" class=\"node\">\n",
       "<title>y_middle_1</title>\n",
       "<g id=\"a_node2\"><a xlink:title=\"middle:1\">\n",
       "<polygon fill=\"#ffdab9\" stroke=\"#000000\" points=\"268,-344 143,-344 143,-304 268,-304 268,-344\"/>\n",
       "<text text-anchor=\"start\" x=\"201\" y=\"-329.8\" font-family=\"Fira Mono\" font-weight=\"bold\" font-size=\"14.00\" fill=\"#000000\">y</text>\n",
       "<text text-anchor=\"start\" x=\"151\" y=\"-310.8\" font-family=\"Fira Mono\" font-size=\"9.00\" fill=\"#000000\">def middle(x, y, z):</text>\n",
       "</a>\n",
       "</g>\n",
       "</g>\n",
       "<!-- test_middle_2 -->\n",
       "<g id=\"node4\" class=\"node\">\n",
       "<title>test_middle_2</title>\n",
       "<g id=\"a_node4\"><a xlink:title=\"middle:2\">\n",
       "<polygon fill=\"#ffdab9\" stroke=\"#000000\" points=\"127,-268 60,-268 60,-228 127,-228 127,-268\"/>\n",
       "<text text-anchor=\"start\" x=\"68\" y=\"-253.8\" font-family=\"Fira Mono\" font-weight=\"bold\" font-style=\"italic\" font-size=\"14.00\" fill=\"#000000\">&lt;test&gt;</text>\n",
       "<text text-anchor=\"start\" x=\"69\" y=\"-234.8\" font-family=\"Fira Mono\" font-size=\"9.00\" fill=\"#000000\">if y &lt; z:</text>\n",
       "</a>\n",
       "</g>\n",
       "</g>\n",
       "<!-- y_middle_1&#45;&gt;test_middle_2 -->\n",
       "<g id=\"edge2\" class=\"edge\">\n",
       "<title>y_middle_1&#45;&gt;test_middle_2</title>\n",
       "<path fill=\"none\" stroke=\"#000000\" d=\"M175.7801,-303.8329C162.3633,-294.7287 146.3436,-283.8582 132.0198,-274.1384\"/>\n",
       "<polygon fill=\"#000000\" stroke=\"#000000\" points=\"133.5988,-270.9802 123.3588,-268.2613 129.6683,-276.7725 133.5988,-270.9802\"/>\n",
       "</g>\n",
       "<!-- y_middle_1&#45;&gt;test_middle_3 -->\n",
       "<g id=\"edge4\" class=\"edge\">\n",
       "<title>y_middle_1&#45;&gt;test_middle_3</title>\n",
       "<path fill=\"none\" stroke=\"#000000\" d=\"M192.4254,-303.9825C186.1763,-293.6117 179.0786,-280.5243 174.5,-268 166.7231,-246.7272 161.8934,-221.5766 159.0504,-202.3557\"/>\n",
       "<polygon fill=\"#000000\" stroke=\"#000000\" points=\"162.5038,-201.7773 157.6692,-192.3498 155.5695,-202.7345 162.5038,-201.7773\"/>\n",
       "</g>\n",
       "<!-- returnvalue_middle_6 -->\n",
       "<g id=\"node7\" class=\"node\">\n",
       "<title>returnvalue_middle_6</title>\n",
       "<g id=\"a_node7\"><a xlink:title=\"middle:6\">\n",
       "<polygon fill=\"#ffdab9\" stroke=\"#000000\" points=\"222.5,-40 88.5,-40 88.5,0 222.5,0 222.5,-40\"/>\n",
       "<text text-anchor=\"start\" x=\"96.5\" y=\"-25.8\" font-family=\"Fira Mono\" font-weight=\"bold\" font-style=\"italic\" font-size=\"14.00\" fill=\"#000000\">&lt;return value&gt;</text>\n",
       "<text text-anchor=\"start\" x=\"133.5\" y=\"-6.8\" font-family=\"Fira Mono\" font-size=\"9.00\" fill=\"#000000\">return y</text>\n",
       "</a>\n",
       "</g>\n",
       "</g>\n",
       "<!-- y_middle_1&#45;&gt;returnvalue_middle_6 -->\n",
       "<g id=\"edge9\" class=\"edge\">\n",
       "<title>y_middle_1&#45;&gt;returnvalue_middle_6</title>\n",
       "<path fill=\"none\" stroke=\"#000000\" d=\"M268.2745,-307.301C287.7797,-298.8394 307.1293,-286.3255 318.5,-268 327.8731,-252.8939 324.1923,-244.8418 318.5,-228 292.8843,-152.2115 226.5381,-83.1646 186.8337,-46.8386\"/>\n",
       "<polygon fill=\"#000000\" stroke=\"#000000\" points=\"189.0387,-44.1142 179.268,-40.0174 184.3514,-49.3131 189.0387,-44.1142\"/>\n",
       "</g>\n",
       "<!-- z_middle_1 -->\n",
       "<g id=\"node3\" class=\"node\">\n",
       "<title>z_middle_1</title>\n",
       "<g id=\"a_node3\"><a xlink:title=\"middle:1\">\n",
       "<polygon fill=\"#ffdab9\" stroke=\"#000000\" points=\"125,-344 0,-344 0,-304 125,-304 125,-344\"/>\n",
       "<text text-anchor=\"start\" x=\"58\" y=\"-329.8\" font-family=\"Fira Mono\" font-weight=\"bold\" font-size=\"14.00\" fill=\"#000000\">z</text>\n",
       "<text text-anchor=\"start\" x=\"8\" y=\"-310.8\" font-family=\"Fira Mono\" font-size=\"9.00\" fill=\"#000000\">def middle(x, y, z):</text>\n",
       "</a>\n",
       "</g>\n",
       "</g>\n",
       "<!-- z_middle_1&#45;&gt;test_middle_2 -->\n",
       "<g id=\"edge1\" class=\"edge\">\n",
       "<title>z_middle_1&#45;&gt;test_middle_2</title>\n",
       "<path fill=\"none\" stroke=\"#000000\" d=\"M64.75,-303.6334C67.3603,-295.561 71.0313,-286.1244 74.9407,-277.34\"/>\n",
       "<polygon fill=\"#000000\" stroke=\"#000000\" points=\"78.1684,-278.7001 79.2373,-268.1593 71.8284,-275.7328 78.1684,-278.7001\"/>\n",
       "</g>\n",
       "<!-- z_middle_1&#45;&gt;test_middle_2 -->\n",
       "<!-- z_middle_1&#45;&gt;test_middle_5 -->\n",
       "<g id=\"edge6\" class=\"edge\">\n",
       "<title>z_middle_1&#45;&gt;test_middle_5</title>\n",
       "<path fill=\"none\" stroke=\"#000000\" d=\"M54.8447,-303.9561C48.4566,-284.1394 41.6951,-253.213 50.5,-228 65.1113,-186.1604 99.1443,-147.6566 124.5286,-123.1675\"/>\n",
       "<polygon fill=\"#000000\" stroke=\"#000000\" points=\"127.2239,-125.4365 132.0977,-116.0291 122.4212,-120.3439 127.2239,-125.4365\"/>\n",
       "</g>\n",
       "<!-- test_middle_2&#45;&gt;test_middle_3 -->\n",
       "<g id=\"edge5\" class=\"edge\">\n",
       "<title>test_middle_2&#45;&gt;test_middle_3</title>\n",
       "<path fill=\"none\" stroke=\"#c0c0c0\" stroke-dasharray=\"5,2\" d=\"M104.0574,-227.6334C110.3372,-219.0457 118.4472,-208.9142 126.407,-199.6663\"/>\n",
       "<polygon fill=\"#c0c0c0\" stroke=\"#c0c0c0\" points=\"129.0347,-201.9783 133.0145,-192.1593 123.7802,-197.3534 129.0347,-201.9783\"/>\n",
       "</g>\n",
       "<!-- test_middle_2&#45;&gt;test_middle_3 -->\n",
       "<!-- test_middle_3&#45;&gt;test_middle_5 -->\n",
       "<g id=\"edge8\" class=\"edge\">\n",
       "<title>test_middle_3&#45;&gt;test_middle_5</title>\n",
       "<path fill=\"none\" stroke=\"#c0c0c0\" stroke-dasharray=\"5,2\" d=\"M149.4426,-151.6334C148.7819,-143.8186 148.5939,-134.7253 148.8786,-126.183\"/>\n",
       "<polygon fill=\"#c0c0c0\" stroke=\"#c0c0c0\" points=\"152.375,-126.3453 149.4602,-116.1593 145.3867,-125.9397 152.375,-126.3453\"/>\n",
       "</g>\n",
       "<!-- test_middle_3&#45;&gt;test_middle_5 -->\n",
       "<!-- test_middle_5&#45;&gt;returnvalue_middle_6 -->\n",
       "<g id=\"edge10\" class=\"edge\">\n",
       "<title>test_middle_5&#45;&gt;returnvalue_middle_6</title>\n",
       "<path fill=\"none\" stroke=\"#c0c0c0\" stroke-dasharray=\"5,2\" d=\"M149.4426,-75.6334C148.7819,-67.8186 148.5939,-58.7253 148.8786,-50.183\"/>\n",
       "<polygon fill=\"#c0c0c0\" stroke=\"#c0c0c0\" points=\"152.375,-50.3453 149.4602,-40.1593 145.3867,-49.9397 152.375,-50.3453\"/>\n",
       "</g>\n",
       "<!-- test_middle_5&#45;&gt;returnvalue_middle_6 -->\n",
       "</g>\n",
       "</svg>\n"
      ],
      "text/plain": [
       "<graphviz.dot.Digraph at 0x7f800238f438>"
      ]
     },
     "execution_count": 47,
     "metadata": {},
     "output_type": "execute_result"
    }
   ],
   "source": [
    "middle_slicer.dependencies().graph()"
   ]
  },
  {
   "cell_type": "code",
   "execution_count": 48,
   "metadata": {
    "ipub": {
     "ignore": true
    },
    "slideshow": {
     "slide_type": "subslide"
    }
   },
   "outputs": [],
   "source": [
    "class Dependencies(Dependencies):\n",
    "    def expand_items(self, items):\n",
    "        all_items = []\n",
    "        for item in items:\n",
    "            if isinstance(item, str):\n",
    "                for node in self.all_vars():\n",
    "                    (name, location) = node\n",
    "                    if name == item:\n",
    "                        all_items.append(node)\n",
    "            else:\n",
    "                all_items.append(item)\n",
    "                \n",
    "        return all_items\n",
    "\n",
    "    def backward_slice(self, *items, mode=\"cd\"):\n",
    "        data = {}\n",
    "        control = {}\n",
    "        queue = self.expand_items(items)\n",
    "        seen = set()\n",
    "\n",
    "        while len(queue) > 0:\n",
    "            var = queue[0]; queue = queue[1:]\n",
    "            seen.add(var)\n",
    "            \n",
    "            if 'd' in mode:\n",
    "                data[var] = self.data[var]\n",
    "                for next_var in data[var]:\n",
    "                    if next_var not in seen:\n",
    "                        queue.append(next_var)\n",
    "            else:\n",
    "                data[var] = set()\n",
    "\n",
    "            if 'c' in mode:\n",
    "                control[var] = self.control[var]\n",
    "                for next_var in control[var]:\n",
    "                    if next_var not in seen:\n",
    "                        queue.append(next_var)\n",
    "            else:\n",
    "                control[var] = set()\n",
    "        \n",
    "        return Dependencies(data, control)"
   ]
  },
  {
   "cell_type": "code",
   "execution_count": 49,
   "metadata": {
    "slideshow": {
     "slide_type": "subslide"
    }
   },
   "outputs": [
    {
     "data": {
      "image/svg+xml": [
       "<?xml version=\"1.0\" encoding=\"UTF-8\" standalone=\"no\"?>\n",
       "<!DOCTYPE svg PUBLIC \"-//W3C//DTD SVG 1.1//EN\"\n",
       " \"http://www.w3.org/Graphics/SVG/1.1/DTD/svg11.dtd\">\n",
       "<!-- Generated by graphviz version 2.40.1 (20161225.0304)\n",
       " -->\n",
       "<!-- Title: dependencies Pages: 1 -->\n",
       "<svg width=\"142pt\" height=\"124pt\"\n",
       " viewBox=\"0.00 0.00 142.00 124.00\" xmlns=\"http://www.w3.org/2000/svg\" xmlns:xlink=\"http://www.w3.org/1999/xlink\">\n",
       "<g id=\"graph0\" class=\"graph\" transform=\"scale(1 1) rotate(0) translate(4 120)\">\n",
       "<title>dependencies</title>\n",
       "<polygon fill=\"#ffffff\" stroke=\"transparent\" points=\"-4,4 -4,-120 138,-120 138,4 -4,4\"/>\n",
       "<!-- returnvalue_middle_6 -->\n",
       "<g id=\"node1\" class=\"node\">\n",
       "<title>returnvalue_middle_6</title>\n",
       "<g id=\"a_node1\"><a xlink:title=\"middle:6\">\n",
       "<polygon fill=\"#ffdab9\" stroke=\"#000000\" points=\"134,-40 0,-40 0,0 134,0 134,-40\"/>\n",
       "<text text-anchor=\"start\" x=\"8\" y=\"-25.8\" font-family=\"Fira Mono\" font-weight=\"bold\" font-style=\"italic\" font-size=\"14.00\" fill=\"#000000\">&lt;return value&gt;</text>\n",
       "<text text-anchor=\"start\" x=\"45\" y=\"-6.8\" font-family=\"Fira Mono\" font-size=\"9.00\" fill=\"#000000\">return y</text>\n",
       "</a>\n",
       "</g>\n",
       "</g>\n",
       "<!-- y_middle_1 -->\n",
       "<g id=\"node2\" class=\"node\">\n",
       "<title>y_middle_1</title>\n",
       "<g id=\"a_node2\"><a xlink:title=\"middle:1\">\n",
       "<polygon fill=\"#ffdab9\" stroke=\"#000000\" points=\"129.5,-116 4.5,-116 4.5,-76 129.5,-76 129.5,-116\"/>\n",
       "<text text-anchor=\"start\" x=\"62.5\" y=\"-101.8\" font-family=\"Fira Mono\" font-weight=\"bold\" font-size=\"14.00\" fill=\"#000000\">y</text>\n",
       "<text text-anchor=\"start\" x=\"12.5\" y=\"-82.8\" font-family=\"Fira Mono\" font-size=\"9.00\" fill=\"#000000\">def middle(x, y, z):</text>\n",
       "</a>\n",
       "</g>\n",
       "</g>\n",
       "<!-- y_middle_1&#45;&gt;returnvalue_middle_6 -->\n",
       "<g id=\"edge1\" class=\"edge\">\n",
       "<title>y_middle_1&#45;&gt;returnvalue_middle_6</title>\n",
       "<path fill=\"none\" stroke=\"#000000\" d=\"M60.9426,-75.6334C60.2819,-67.8186 60.0939,-58.7253 60.3786,-50.183\"/>\n",
       "<polygon fill=\"#000000\" stroke=\"#000000\" points=\"63.875,-50.3453 60.9602,-40.1593 56.8867,-49.9397 63.875,-50.3453\"/>\n",
       "</g>\n",
       "<!-- y_middle_1&#45;&gt;returnvalue_middle_6 -->\n",
       "</g>\n",
       "</svg>\n"
      ],
      "text/plain": [
       "<graphviz.dot.Digraph at 0x7f8002391898>"
      ]
     },
     "execution_count": 49,
     "metadata": {},
     "output_type": "execute_result"
    }
   ],
   "source": [
    "middle_slicer.dependencies().backward_slice('<return value>', mode='d').graph()"
   ]
  },
  {
   "cell_type": "code",
   "execution_count": 50,
   "metadata": {
    "slideshow": {
     "slide_type": "skip"
    }
   },
   "outputs": [],
   "source": [
    "from Assertions import square_root"
   ]
  },
  {
   "cell_type": "code",
   "execution_count": 51,
   "metadata": {
    "slideshow": {
     "slide_type": "fragment"
    }
   },
   "outputs": [],
   "source": [
    "with Slicer(square_root) as root_slicer:\n",
    "    y = square_root(2.0)"
   ]
  },
  {
   "cell_type": "code",
   "execution_count": 52,
   "metadata": {
    "slideshow": {
     "slide_type": "fragment"
    }
   },
   "outputs": [
    {
     "data": {
      "image/svg+xml": [
       "<?xml version=\"1.0\" encoding=\"UTF-8\" standalone=\"no\"?>\n",
       "<!DOCTYPE svg PUBLIC \"-//W3C//DTD SVG 1.1//EN\"\n",
       " \"http://www.w3.org/Graphics/SVG/1.1/DTD/svg11.dtd\">\n",
       "<!-- Generated by graphviz version 2.40.1 (20161225.0304)\n",
       " -->\n",
       "<!-- Title: dependencies Pages: 1 -->\n",
       "<svg width=\"254pt\" height=\"504pt\"\n",
       " viewBox=\"0.00 0.00 253.54 504.00\" xmlns=\"http://www.w3.org/2000/svg\" xmlns:xlink=\"http://www.w3.org/1999/xlink\">\n",
       "<g id=\"graph0\" class=\"graph\" transform=\"scale(1 1) rotate(0) translate(4 500)\">\n",
       "<title>dependencies</title>\n",
       "<polygon fill=\"#ffffff\" stroke=\"transparent\" points=\"-4,4 -4,-500 249.5409,-500 249.5409,4 -4,4\"/>\n",
       "<!-- x_square_root_51 -->\n",
       "<g id=\"node1\" class=\"node\">\n",
       "<title>x_square_root_51</title>\n",
       "<g id=\"a_node1\"><a xlink:title=\"square_root:51\">\n",
       "<polygon fill=\"#ffdab9\" stroke=\"#000000\" points=\"182.5409,-496 63.5409,-496 63.5409,-456 182.5409,-456 182.5409,-496\"/>\n",
       "<text text-anchor=\"start\" x=\"118.5409\" y=\"-481.8\" font-family=\"Fira Mono\" font-weight=\"bold\" font-size=\"14.00\" fill=\"#000000\">x</text>\n",
       "<text text-anchor=\"start\" x=\"71.5409\" y=\"-462.8\" font-family=\"Fira Mono\" font-size=\"9.00\" fill=\"#000000\">def square_root(x):</text>\n",
       "</a>\n",
       "</g>\n",
       "</g>\n",
       "<!-- approx_square_root_54 -->\n",
       "<g id=\"node2\" class=\"node\">\n",
       "<title>approx_square_root_54</title>\n",
       "<g id=\"a_node2\"><a xlink:title=\"square_root:54\">\n",
       "<polygon fill=\"#ffdab9\" stroke=\"#000000\" points=\"166.5409,-420 79.5409,-420 79.5409,-380 166.5409,-380 166.5409,-420\"/>\n",
       "<text text-anchor=\"start\" x=\"97.5409\" y=\"-405.8\" font-family=\"Fira Mono\" font-weight=\"bold\" font-size=\"14.00\" fill=\"#000000\">approx</text>\n",
       "<text text-anchor=\"start\" x=\"87.5409\" y=\"-386.8\" font-family=\"Fira Mono\" font-size=\"9.00\" fill=\"#000000\">approx = None</text>\n",
       "</a>\n",
       "</g>\n",
       "</g>\n",
       "<!-- x_square_root_51&#45;&gt;approx_square_root_54 -->\n",
       "<g id=\"edge1\" class=\"edge\">\n",
       "<title>x_square_root_51&#45;&gt;approx_square_root_54</title>\n",
       "<path fill=\"none\" stroke=\"#000000\" d=\"M116.9834,-455.6334C116.3228,-447.8186 116.1348,-438.7253 116.4195,-430.183\"/>\n",
       "<polygon fill=\"#000000\" stroke=\"#000000\" points=\"119.9158,-430.3453 117.0011,-420.1593 112.9276,-429.9397 119.9158,-430.3453\"/>\n",
       "</g>\n",
       "<!-- x_square_root_51&#45;&gt;approx_square_root_54 -->\n",
       "<!-- guess_square_root_55 -->\n",
       "<g id=\"node3\" class=\"node\">\n",
       "<title>guess_square_root_55</title>\n",
       "<g id=\"a_node3\"><a xlink:title=\"square_root:55\">\n",
       "<polygon fill=\"#ffdab9\" stroke=\"#000000\" points=\"94.5409,-344 7.5409,-344 7.5409,-304 94.5409,-304 94.5409,-344\"/>\n",
       "<text text-anchor=\"start\" x=\"29.5409\" y=\"-329.8\" font-family=\"Fira Mono\" font-weight=\"bold\" font-size=\"14.00\" fill=\"#000000\">guess</text>\n",
       "<text text-anchor=\"start\" x=\"15.5409\" y=\"-310.8\" font-family=\"Fira Mono\" font-size=\"9.00\" fill=\"#000000\">guess = x / 2</text>\n",
       "</a>\n",
       "</g>\n",
       "</g>\n",
       "<!-- x_square_root_51&#45;&gt;guess_square_root_55 -->\n",
       "<g id=\"edge2\" class=\"edge\">\n",
       "<title>x_square_root_51&#45;&gt;guess_square_root_55</title>\n",
       "<path fill=\"none\" stroke=\"#000000\" d=\"M98.673,-455.9403C88.318,-446.1473 77.0421,-433.5593 70.0409,-420 59.5178,-399.62 54.8095,-374.0377 52.7097,-354.4075\"/>\n",
       "<polygon fill=\"#000000\" stroke=\"#000000\" points=\"56.1721,-353.8316 51.7911,-344.185 49.2002,-354.4581 56.1721,-353.8316\"/>\n",
       "</g>\n",
       "<!-- guess_square_root_58 -->\n",
       "<g id=\"node6\" class=\"node\">\n",
       "<title>guess_square_root_58</title>\n",
       "<g id=\"a_node6\"><a xlink:title=\"square_root:58\">\n",
       "<polygon fill=\"#ffdab9\" stroke=\"#000000\" points=\"245.5409,-116 50.5409,-116 50.5409,-76 245.5409,-76 245.5409,-116\"/>\n",
       "<text text-anchor=\"start\" x=\"126.5409\" y=\"-101.8\" font-family=\"Fira Mono\" font-weight=\"bold\" font-size=\"14.00\" fill=\"#000000\">guess</text>\n",
       "<text text-anchor=\"start\" x=\"58.5409\" y=\"-82.8\" font-family=\"Fira Mono\" font-size=\"9.00\" fill=\"#000000\">guess = (approx + x / approx) / 2</text>\n",
       "</a>\n",
       "</g>\n",
       "</g>\n",
       "<!-- x_square_root_51&#45;&gt;guess_square_root_58 -->\n",
       "<g id=\"edge11\" class=\"edge\">\n",
       "<title>x_square_root_51&#45;&gt;guess_square_root_58</title>\n",
       "<path fill=\"none\" stroke=\"#000000\" d=\"M147.4088,-455.9403C157.7638,-446.1473 169.0396,-433.5593 176.0409,-420 195.9958,-381.3535 195.0409,-367.4943 195.0409,-324 195.0409,-324 195.0409,-324 195.0409,-248 195.0409,-203.6349 176.5396,-155.1062 162.7528,-125.1025\"/>\n",
       "<polygon fill=\"#000000\" stroke=\"#000000\" points=\"165.908,-123.5873 158.4717,-116.0407 159.5788,-126.5775 165.908,-123.5873\"/>\n",
       "</g>\n",
       "<!-- approx_square_root_54&#45;&gt;guess_square_root_55 -->\n",
       "<!-- test_square_root_56 -->\n",
       "<g id=\"node4\" class=\"node\">\n",
       "<title>test_square_root_56</title>\n",
       "<g id=\"a_node4\"><a xlink:title=\"square_root:56\">\n",
       "<polygon fill=\"#ffdab9\" stroke=\"#000000\" points=\"149.5409,-268 14.5409,-268 14.5409,-228 149.5409,-228 149.5409,-268\"/>\n",
       "<text text-anchor=\"start\" x=\"56.5409\" y=\"-253.8\" font-family=\"Fira Mono\" font-weight=\"bold\" font-style=\"italic\" font-size=\"14.00\" fill=\"#000000\">&lt;test&gt;</text>\n",
       "<text text-anchor=\"start\" x=\"22.5409\" y=\"-234.8\" font-family=\"Fira Mono\" font-size=\"9.00\" fill=\"#000000\">while approx != guess:</text>\n",
       "</a>\n",
       "</g>\n",
       "</g>\n",
       "<!-- approx_square_root_54&#45;&gt;test_square_root_56 -->\n",
       "<g id=\"edge6\" class=\"edge\">\n",
       "<title>approx_square_root_54&#45;&gt;test_square_root_56</title>\n",
       "<path fill=\"none\" stroke=\"#000000\" d=\"M119.7839,-379.9243C116.3919,-360.3488 110.5283,-329.8356 103.0409,-304 100.5272,-295.3266 97.2979,-286.0833 94.1291,-277.6583\"/>\n",
       "<polygon fill=\"#000000\" stroke=\"#000000\" points=\"97.3537,-276.2927 90.4837,-268.2272 90.8245,-278.8165 97.3537,-276.2927\"/>\n",
       "</g>\n",
       "<!-- guess_square_root_55&#45;&gt;test_square_root_56 -->\n",
       "<g id=\"edge4\" class=\"edge\">\n",
       "<title>guess_square_root_55&#45;&gt;test_square_root_56</title>\n",
       "<path fill=\"none\" stroke=\"#000000\" d=\"M53.2909,-303.6334C55.9011,-295.561 59.5722,-286.1244 63.4815,-277.34\"/>\n",
       "<polygon fill=\"#000000\" stroke=\"#000000\" points=\"66.7093,-278.7001 67.7782,-268.1593 60.3693,-275.7328 66.7093,-278.7001\"/>\n",
       "</g>\n",
       "<!-- guess_square_root_55&#45;&gt;test_square_root_56 -->\n",
       "<!-- approx_square_root_57 -->\n",
       "<g id=\"node5\" class=\"node\">\n",
       "<title>approx_square_root_57</title>\n",
       "<g id=\"a_node5\"><a xlink:title=\"square_root:57\">\n",
       "<polygon fill=\"#ffdab9\" stroke=\"#000000\" points=\"111.0409,-192 19.0409,-192 19.0409,-152 111.0409,-152 111.0409,-192\"/>\n",
       "<text text-anchor=\"start\" x=\"39.5409\" y=\"-177.8\" font-family=\"Fira Mono\" font-weight=\"bold\" font-size=\"14.00\" fill=\"#000000\">approx</text>\n",
       "<text text-anchor=\"start\" x=\"27.0409\" y=\"-158.8\" font-family=\"Fira Mono\" font-size=\"9.00\" fill=\"#000000\">approx = guess</text>\n",
       "</a>\n",
       "</g>\n",
       "</g>\n",
       "<!-- guess_square_root_55&#45;&gt;approx_square_root_57 -->\n",
       "<g id=\"edge8\" class=\"edge\">\n",
       "<title>guess_square_root_55&#45;&gt;approx_square_root_57</title>\n",
       "<path fill=\"none\" stroke=\"#000000\" d=\"M28.7454,-303.8889C19.5268,-294.0856 9.876,-281.5036 5.0409,-268 -.952,-251.2628 -2.0444,-244.3048 5.0409,-228 9.8284,-216.9828 17.9696,-207.1488 26.7365,-198.9134\"/>\n",
       "<polygon fill=\"#000000\" stroke=\"#000000\" points=\"29.3075,-201.3148 34.5332,-192.0983 24.7007,-196.0444 29.3075,-201.3148\"/>\n",
       "</g>\n",
       "<!-- test_square_root_56&#45;&gt;approx_square_root_57 -->\n",
       "<g id=\"edge9\" class=\"edge\">\n",
       "<title>test_square_root_56&#45;&gt;approx_square_root_57</title>\n",
       "<path fill=\"none\" stroke=\"#c0c0c0\" stroke-dasharray=\"5,2\" d=\"M65.3703,-227.6334C62.301,-219.8186 59.891,-210.7253 58.5495,-202.183\"/>\n",
       "<polygon fill=\"#c0c0c0\" stroke=\"#c0c0c0\" points=\"62.0208,-201.7273 57.4706,-192.1593 55.0609,-202.4764 62.0208,-201.7273\"/>\n",
       "</g>\n",
       "<!-- test_square_root_56&#45;&gt;approx_square_root_57 -->\n",
       "<!-- test_square_root_56&#45;&gt;guess_square_root_58 -->\n",
       "<g id=\"edge12\" class=\"edge\">\n",
       "<title>test_square_root_56&#45;&gt;guess_square_root_58</title>\n",
       "<path fill=\"none\" stroke=\"#c0c0c0\" stroke-dasharray=\"5,2\" d=\"M89.8288,-227.9202C96.4558,-217.6398 105.0856,-204.6499 111.0409,-192 121.0073,-170.8298 128.2405,-145.342 134.1693,-125.9505\"/>\n",
       "<polygon fill=\"#c0c0c0\" stroke=\"#c0c0c0\" points=\"137.5912,-126.7357 137.2478,-116.1465 130.9127,-124.6386 137.5912,-126.7357\"/>\n",
       "</g>\n",
       "<!-- approx_square_root_57&#45;&gt;test_square_root_56 -->\n",
       "<g id=\"edge3\" class=\"edge\">\n",
       "<title>approx_square_root_57&#45;&gt;test_square_root_56</title>\n",
       "<path fill=\"none\" stroke=\"#000000\" d=\"M69.5502,-192.1593C71.3123,-200.0369 73.3704,-209.2378 75.3017,-217.8717\"/>\n",
       "<polygon fill=\"#000000\" stroke=\"#000000\" points=\"71.8866,-218.6386 77.4852,-227.6334 78.7178,-217.1105 71.8866,-218.6386\"/>\n",
       "</g>\n",
       "<!-- approx_square_root_57&#45;&gt;guess_square_root_58 -->\n",
       "<g id=\"edge10\" class=\"edge\">\n",
       "<title>approx_square_root_57&#45;&gt;guess_square_root_58</title>\n",
       "<path fill=\"none\" stroke=\"#000000\" d=\"M75.1685,-151.6334C83.4122,-142.7022 94.7143,-132.1012 106.0925,-122.561\"/>\n",
       "<polygon fill=\"#000000\" stroke=\"#000000\" points=\"108.4059,-125.1907 113.9452,-116.1593 103.9829,-119.7652 108.4059,-125.1907\"/>\n",
       "</g>\n",
       "<!-- approx_square_root_57&#45;&gt;guess_square_root_58 -->\n",
       "<!-- returnvalue_square_root_61 -->\n",
       "<g id=\"node7\" class=\"node\">\n",
       "<title>returnvalue_square_root_61</title>\n",
       "<g id=\"a_node7\"><a xlink:title=\"square_root:61\">\n",
       "<polygon fill=\"#ffdab9\" stroke=\"#000000\" points=\"152.0409,-40 18.0409,-40 18.0409,0 152.0409,0 152.0409,-40\"/>\n",
       "<text text-anchor=\"start\" x=\"26.0409\" y=\"-25.8\" font-family=\"Fira Mono\" font-weight=\"bold\" font-style=\"italic\" font-size=\"14.00\" fill=\"#000000\">&lt;return value&gt;</text>\n",
       "<text text-anchor=\"start\" x=\"49.5409\" y=\"-6.8\" font-family=\"Fira Mono\" font-size=\"9.00\" fill=\"#000000\">return approx</text>\n",
       "</a>\n",
       "</g>\n",
       "</g>\n",
       "<!-- approx_square_root_57&#45;&gt;returnvalue_square_root_61 -->\n",
       "<g id=\"edge13\" class=\"edge\">\n",
       "<title>approx_square_root_57&#45;&gt;returnvalue_square_root_61</title>\n",
       "<path fill=\"none\" stroke=\"#000000\" d=\"M53.2818,-151.8439C43.3901,-132.2088 32.1685,-101.6528 41.0409,-76 44.5629,-65.8166 50.7861,-56.0768 57.4631,-47.6588\"/>\n",
       "<polygon fill=\"#000000\" stroke=\"#000000\" points=\"60.1391,-49.9147 63.9306,-40.0215 54.7972,-45.391 60.1391,-49.9147\"/>\n",
       "</g>\n",
       "<!-- guess_square_root_58&#45;&gt;test_square_root_56 -->\n",
       "<g id=\"edge5\" class=\"edge\">\n",
       "<title>guess_square_root_58&#45;&gt;test_square_root_56</title>\n",
       "<path fill=\"none\" stroke=\"#000000\" d=\"M150.9352,-116.1465C148.7522,-136.041 140.7985,-167.025 129.0409,-192 124.5744,-201.4874 118.6036,-211.1661 112.3388,-219.7495\"/>\n",
       "<polygon fill=\"#000000\" stroke=\"#000000\" points=\"109.3691,-217.8684 106.0209,-227.9202 114.9067,-222.1503 109.3691,-217.8684\"/>\n",
       "</g>\n",
       "<!-- guess_square_root_58&#45;&gt;approx_square_root_57 -->\n",
       "<g id=\"edge7\" class=\"edge\">\n",
       "<title>guess_square_root_58&#45;&gt;approx_square_root_57</title>\n",
       "<path fill=\"none\" stroke=\"#000000\" d=\"M126.0248,-116.1593C116.4865,-124.8932 105.1718,-135.2537 94.894,-144.6646\"/>\n",
       "<polygon fill=\"#000000\" stroke=\"#000000\" points=\"92.295,-142.2988 87.2834,-151.6334 97.0222,-147.4615 92.295,-142.2988\"/>\n",
       "</g>\n",
       "<!-- guess_square_root_58&#45;&gt;returnvalue_square_root_61 -->\n",
       "</g>\n",
       "</svg>\n"
      ],
      "text/plain": [
       "<graphviz.dot.Digraph at 0x7f80023a0be0>"
      ]
     },
     "execution_count": 52,
     "metadata": {},
     "output_type": "execute_result"
    }
   ],
   "source": [
    "root_slicer.dependencies().graph()"
   ]
  },
  {
   "cell_type": "code",
   "execution_count": 53,
   "metadata": {
    "slideshow": {
     "slide_type": "skip"
    }
   },
   "outputs": [],
   "source": [
    "from Intro_Debugging import remove_html_markup"
   ]
  },
  {
   "cell_type": "code",
   "execution_count": 54,
   "metadata": {
    "slideshow": {
     "slide_type": "fragment"
    }
   },
   "outputs": [],
   "source": [
    "with Slicer(remove_html_markup) as rhm_slicer:\n",
    "    s = remove_html_markup(\"<foo>bar</foo>\")"
   ]
  },
  {
   "cell_type": "code",
   "execution_count": 55,
   "metadata": {
    "slideshow": {
     "slide_type": "fragment"
    }
   },
   "outputs": [
    {
     "data": {
      "image/svg+xml": [
       "<?xml version=\"1.0\" encoding=\"UTF-8\" standalone=\"no\"?>\n",
       "<!DOCTYPE svg PUBLIC \"-//W3C//DTD SVG 1.1//EN\"\n",
       " \"http://www.w3.org/Graphics/SVG/1.1/DTD/svg11.dtd\">\n",
       "<!-- Generated by graphviz version 2.40.1 (20161225.0304)\n",
       " -->\n",
       "<!-- Title: dependencies Pages: 1 -->\n",
       "<svg width=\"405pt\" height=\"960pt\"\n",
       " viewBox=\"0.00 0.00 405.00 960.00\" xmlns=\"http://www.w3.org/2000/svg\" xmlns:xlink=\"http://www.w3.org/1999/xlink\">\n",
       "<g id=\"graph0\" class=\"graph\" transform=\"scale(1 1) rotate(0) translate(4 956)\">\n",
       "<title>dependencies</title>\n",
       "<polygon fill=\"#ffffff\" stroke=\"transparent\" points=\"-4,4 -4,-956 401,-956 401,4 -4,4\"/>\n",
       "<!-- s_remove_html_markup_136 -->\n",
       "<g id=\"node1\" class=\"node\">\n",
       "<title>s_remove_html_markup_136</title>\n",
       "<g id=\"a_node1\"><a xlink:title=\"remove_html_markup:136\">\n",
       "<polygon fill=\"#ffdab9\" stroke=\"#000000\" points=\"219.5,-952 62.5,-952 62.5,-912 219.5,-912 219.5,-952\"/>\n",
       "<text text-anchor=\"start\" x=\"136.5\" y=\"-937.8\" font-family=\"Fira Mono\" font-weight=\"bold\" font-size=\"14.00\" fill=\"#000000\">s</text>\n",
       "<text text-anchor=\"start\" x=\"70.5\" y=\"-918.8\" font-family=\"Fira Mono\" font-size=\"9.00\" fill=\"#000000\">def remove_html_markup(s):</text>\n",
       "</a>\n",
       "</g>\n",
       "</g>\n",
       "<!-- tag_remove_html_markup_137 -->\n",
       "<g id=\"node2\" class=\"node\">\n",
       "<title>tag_remove_html_markup_137</title>\n",
       "<g id=\"a_node2\"><a xlink:title=\"remove_html_markup:137\">\n",
       "<polygon fill=\"#ffdab9\" stroke=\"#000000\" points=\"146,-876 70,-876 70,-836 146,-836 146,-876\"/>\n",
       "<text text-anchor=\"start\" x=\"95\" y=\"-861.8\" font-family=\"Fira Mono\" font-weight=\"bold\" font-size=\"14.00\" fill=\"#000000\">tag</text>\n",
       "<text text-anchor=\"start\" x=\"78\" y=\"-842.8\" font-family=\"Fira Mono\" font-size=\"9.00\" fill=\"#000000\">tag = False</text>\n",
       "</a>\n",
       "</g>\n",
       "</g>\n",
       "<!-- s_remove_html_markup_136&#45;&gt;tag_remove_html_markup_137 -->\n",
       "<!-- c_remove_html_markup_141 -->\n",
       "<g id=\"node5\" class=\"node\">\n",
       "<title>c_remove_html_markup_141</title>\n",
       "<g id=\"a_node5\"><a xlink:title=\"remove_html_markup:141\">\n",
       "<polygon fill=\"#ffdab9\" stroke=\"#000000\" points=\"252,-648 176,-648 176,-608 252,-608 252,-648\"/>\n",
       "<text text-anchor=\"start\" x=\"209.5\" y=\"-633.8\" font-family=\"Fira Mono\" font-weight=\"bold\" font-size=\"14.00\" fill=\"#000000\">c</text>\n",
       "<text text-anchor=\"start\" x=\"184\" y=\"-614.8\" font-family=\"Fira Mono\" font-size=\"9.00\" fill=\"#000000\">for c in s:</text>\n",
       "</a>\n",
       "</g>\n",
       "</g>\n",
       "<!-- s_remove_html_markup_136&#45;&gt;c_remove_html_markup_141 -->\n",
       "<g id=\"edge1\" class=\"edge\">\n",
       "<title>s_remove_html_markup_136&#45;&gt;c_remove_html_markup_141</title>\n",
       "<path fill=\"none\" stroke=\"#000000\" d=\"M146.1102,-911.7958C148.7871,-901.1529 152.1025,-887.8778 155,-876 174.1611,-797.4527 196.0201,-704.7188 206.969,-658.0447\"/>\n",
       "<polygon fill=\"#000000\" stroke=\"#000000\" points=\"210.3853,-658.8062 209.2601,-648.2713 203.5701,-657.2085 210.3853,-658.8062\"/>\n",
       "</g>\n",
       "<!-- quote_remove_html_markup_138 -->\n",
       "<g id=\"node3\" class=\"node\">\n",
       "<title>quote_remove_html_markup_138</title>\n",
       "<g id=\"a_node3\"><a xlink:title=\"remove_html_markup:138\">\n",
       "<polygon fill=\"#ffdab9\" stroke=\"#000000\" points=\"110.5,-800 23.5,-800 23.5,-760 110.5,-760 110.5,-800\"/>\n",
       "<text text-anchor=\"start\" x=\"45.5\" y=\"-785.8\" font-family=\"Fira Mono\" font-weight=\"bold\" font-size=\"14.00\" fill=\"#000000\">quote</text>\n",
       "<text text-anchor=\"start\" x=\"31.5\" y=\"-766.8\" font-family=\"Fira Mono\" font-size=\"9.00\" fill=\"#000000\">quote = False</text>\n",
       "</a>\n",
       "</g>\n",
       "</g>\n",
       "<!-- tag_remove_html_markup_137&#45;&gt;quote_remove_html_markup_138 -->\n",
       "<!-- out_remove_html_markup_139 -->\n",
       "<g id=\"node4\" class=\"node\">\n",
       "<title>out_remove_html_markup_139</title>\n",
       "<g id=\"a_node4\"><a xlink:title=\"remove_html_markup:139\">\n",
       "<polygon fill=\"#ffdab9\" stroke=\"#000000\" points=\"126,-724 66,-724 66,-684 126,-684 126,-724\"/>\n",
       "<text text-anchor=\"start\" x=\"83\" y=\"-709.8\" font-family=\"Fira Mono\" font-weight=\"bold\" font-size=\"14.00\" fill=\"#000000\">out</text>\n",
       "<text text-anchor=\"start\" x=\"74\" y=\"-690.8\" font-family=\"Fira Mono\" font-size=\"9.00\" fill=\"#000000\">out = &quot;&quot;</text>\n",
       "</a>\n",
       "</g>\n",
       "</g>\n",
       "<!-- quote_remove_html_markup_138&#45;&gt;out_remove_html_markup_139 -->\n",
       "<!-- test_remove_html_markup_144 -->\n",
       "<g id=\"node6\" class=\"node\">\n",
       "<title>test_remove_html_markup_144</title>\n",
       "<g id=\"a_node6\"><a xlink:title=\"remove_html_markup:144\">\n",
       "<polygon fill=\"#ffdab9\" stroke=\"#000000\" points=\"292.5,-572 135.5,-572 135.5,-532 292.5,-532 292.5,-572\"/>\n",
       "<text text-anchor=\"start\" x=\"188.5\" y=\"-557.8\" font-family=\"Fira Mono\" font-weight=\"bold\" font-style=\"italic\" font-size=\"14.00\" fill=\"#000000\">&lt;test&gt;</text>\n",
       "<text text-anchor=\"start\" x=\"143.5\" y=\"-538.8\" font-family=\"Fira Mono\" font-size=\"9.00\" fill=\"#000000\">if c == &#39;&lt;&#39; and not quote:</text>\n",
       "</a>\n",
       "</g>\n",
       "</g>\n",
       "<!-- quote_remove_html_markup_138&#45;&gt;test_remove_html_markup_144 -->\n",
       "<g id=\"edge2\" class=\"edge\">\n",
       "<title>quote_remove_html_markup_138&#45;&gt;test_remove_html_markup_144</title>\n",
       "<path fill=\"none\" stroke=\"#000000\" d=\"M59.0608,-759.8785C52.417,-739.7284 45.6811,-708.3045 57,-684 79.1994,-636.3325 128.0239,-599.7377 165.3727,-577.3013\"/>\n",
       "<polygon fill=\"#000000\" stroke=\"#000000\" points=\"167.2554,-580.2548 174.1144,-572.1798 163.7169,-574.215 167.2554,-580.2548\"/>\n",
       "</g>\n",
       "<!-- test_remove_html_markup_146 -->\n",
       "<g id=\"node8\" class=\"node\">\n",
       "<title>test_remove_html_markup_146</title>\n",
       "<g id=\"a_node8\"><a xlink:title=\"remove_html_markup:146\">\n",
       "<polygon fill=\"#ffdab9\" stroke=\"#000000\" points=\"249,-420 81,-420 81,-380 249,-380 249,-420\"/>\n",
       "<text text-anchor=\"start\" x=\"139.5\" y=\"-405.8\" font-family=\"Fira Mono\" font-weight=\"bold\" font-style=\"italic\" font-size=\"14.00\" fill=\"#000000\">&lt;test&gt;</text>\n",
       "<text text-anchor=\"start\" x=\"89\" y=\"-386.8\" font-family=\"Fira Mono\" font-size=\"9.00\" fill=\"#000000\">elif c == &#39;&gt;&#39; and not quote:</text>\n",
       "</a>\n",
       "</g>\n",
       "</g>\n",
       "<!-- quote_remove_html_markup_138&#45;&gt;test_remove_html_markup_146 -->\n",
       "<g id=\"edge5\" class=\"edge\">\n",
       "<title>quote_remove_html_markup_138&#45;&gt;test_remove_html_markup_146</title>\n",
       "<path fill=\"none\" stroke=\"#000000\" d=\"M51.4604,-759.6161C31.668,-731.5664 0,-678.7563 0,-628 0,-628 0,-628 0,-552 0,-491.9925 59.7643,-449.1589 107.3562,-424.5626\"/>\n",
       "<polygon fill=\"#000000\" stroke=\"#000000\" points=\"109.0165,-427.6454 116.387,-420.0345 105.8789,-421.388 109.0165,-427.6454\"/>\n",
       "</g>\n",
       "<!-- out_remove_html_markup_139&#45;&gt;c_remove_html_markup_141 -->\n",
       "<!-- out_remove_html_markup_151 -->\n",
       "<g id=\"node12\" class=\"node\">\n",
       "<title>out_remove_html_markup_151</title>\n",
       "<g id=\"a_node12\"><a xlink:title=\"remove_html_markup:151\">\n",
       "<polygon fill=\"#ffdab9\" stroke=\"#000000\" points=\"268.5,-116 181.5,-116 181.5,-76 268.5,-76 268.5,-116\"/>\n",
       "<text text-anchor=\"start\" x=\"212\" y=\"-101.8\" font-family=\"Fira Mono\" font-weight=\"bold\" font-size=\"14.00\" fill=\"#000000\">out</text>\n",
       "<text text-anchor=\"start\" x=\"189.5\" y=\"-82.8\" font-family=\"Fira Mono\" font-size=\"9.00\" fill=\"#000000\">out = out + c</text>\n",
       "</a>\n",
       "</g>\n",
       "</g>\n",
       "<!-- out_remove_html_markup_139&#45;&gt;out_remove_html_markup_151 -->\n",
       "<g id=\"edge14\" class=\"edge\">\n",
       "<title>out_remove_html_markup_139&#45;&gt;out_remove_html_markup_151</title>\n",
       "<path fill=\"none\" stroke=\"#000000\" d=\"M92.1082,-683.9048C81.5234,-627.4374 53,-462.4299 53,-324 53,-324 53,-324 53,-248 53,-183.661 121.4118,-140.0182 171.945,-116.5572\"/>\n",
       "<polygon fill=\"#000000\" stroke=\"#000000\" points=\"173.4712,-119.7085 181.1521,-112.4109 170.5968,-113.3258 173.4712,-119.7085\"/>\n",
       "</g>\n",
       "<!-- c_remove_html_markup_141&#45;&gt;test_remove_html_markup_144 -->\n",
       "<g id=\"edge3\" class=\"edge\">\n",
       "<title>c_remove_html_markup_141&#45;&gt;test_remove_html_markup_144</title>\n",
       "<path fill=\"none\" stroke=\"#000000\" d=\"M207.9426,-607.6334C207.2819,-599.8186 207.0939,-590.7253 207.3786,-582.183\"/>\n",
       "<polygon fill=\"#000000\" stroke=\"#000000\" points=\"210.875,-582.3453 207.9602,-572.1593 203.8867,-581.9397 210.875,-582.3453\"/>\n",
       "</g>\n",
       "<!-- c_remove_html_markup_141&#45;&gt;test_remove_html_markup_144 -->\n",
       "<!-- c_remove_html_markup_141&#45;&gt;test_remove_html_markup_146 -->\n",
       "<g id=\"edge6\" class=\"edge\">\n",
       "<title>c_remove_html_markup_141&#45;&gt;test_remove_html_markup_146</title>\n",
       "<path fill=\"none\" stroke=\"#000000\" d=\"M175.647,-613.9514C157.1155,-604.9928 136.6313,-591.3667 126,-572 100.7749,-526.0481 126.7307,-464.6332 146.6939,-428.9885\"/>\n",
       "<polygon fill=\"#000000\" stroke=\"#000000\" points=\"149.8716,-430.4858 151.8614,-420.0795 143.8164,-426.9736 149.8716,-430.4858\"/>\n",
       "</g>\n",
       "<!-- test_remove_html_markup_148 -->\n",
       "<g id=\"node9\" class=\"node\">\n",
       "<title>test_remove_html_markup_148</title>\n",
       "<g id=\"a_node9\"><a xlink:title=\"remove_html_markup:148\">\n",
       "<polygon fill=\"#ffdab9\" stroke=\"#000000\" points=\"330.5,-268 119.5,-268 119.5,-228 330.5,-228 330.5,-268\"/>\n",
       "<text text-anchor=\"start\" x=\"199.5\" y=\"-253.8\" font-family=\"Fira Mono\" font-weight=\"bold\" font-style=\"italic\" font-size=\"14.00\" fill=\"#000000\">&lt;test&gt;</text>\n",
       "<text text-anchor=\"start\" x=\"127.5\" y=\"-234.8\" font-family=\"Fira Mono\" font-size=\"9.00\" fill=\"#000000\">elif (c == &#39;&quot;&#39; or c == &quot;&#39;&quot;) and tag:</text>\n",
       "</a>\n",
       "</g>\n",
       "</g>\n",
       "<!-- c_remove_html_markup_141&#45;&gt;test_remove_html_markup_148 -->\n",
       "<g id=\"edge8\" class=\"edge\">\n",
       "<title>c_remove_html_markup_141&#45;&gt;test_remove_html_markup_148</title>\n",
       "<path fill=\"none\" stroke=\"#000000\" d=\"M252.1828,-612.3356C269.9668,-603.1402 289.837,-589.7889 302,-572 326.549,-536.096 321,-519.4943 321,-476 321,-476 321,-476 321,-400 321,-350.1471 283.6281,-303.3316 255.5193,-275.1705\"/>\n",
       "<polygon fill=\"#000000\" stroke=\"#000000\" points=\"257.8445,-272.5494 248.2389,-268.079 252.9601,-277.5638 257.8445,-272.5494\"/>\n",
       "</g>\n",
       "<!-- c_remove_html_markup_141&#45;&gt;out_remove_html_markup_151 -->\n",
       "<g id=\"edge15\" class=\"edge\">\n",
       "<title>c_remove_html_markup_141&#45;&gt;out_remove_html_markup_151</title>\n",
       "<path fill=\"none\" stroke=\"#000000\" d=\"M252.3628,-615.5881C306.0243,-595.5362 397,-550.548 397,-476 397,-476 397,-476 397,-248 397,-183.661 328.5882,-140.0182 278.055,-116.5572\"/>\n",
       "<polygon fill=\"#000000\" stroke=\"#000000\" points=\"279.4032,-113.3258 268.8479,-112.4109 276.5288,-119.7085 279.4032,-113.3258\"/>\n",
       "</g>\n",
       "<!-- tag_remove_html_markup_145 -->\n",
       "<g id=\"node7\" class=\"node\">\n",
       "<title>tag_remove_html_markup_145</title>\n",
       "<g id=\"a_node7\"><a xlink:title=\"remove_html_markup:145\">\n",
       "<polygon fill=\"#ffdab9\" stroke=\"#000000\" points=\"257.5,-496 186.5,-496 186.5,-456 257.5,-456 257.5,-496\"/>\n",
       "<text text-anchor=\"start\" x=\"209\" y=\"-481.8\" font-family=\"Fira Mono\" font-weight=\"bold\" font-size=\"14.00\" fill=\"#000000\">tag</text>\n",
       "<text text-anchor=\"start\" x=\"194.5\" y=\"-462.8\" font-family=\"Fira Mono\" font-size=\"9.00\" fill=\"#000000\">tag = True</text>\n",
       "</a>\n",
       "</g>\n",
       "</g>\n",
       "<!-- test_remove_html_markup_144&#45;&gt;tag_remove_html_markup_145 -->\n",
       "<g id=\"edge4\" class=\"edge\">\n",
       "<title>test_remove_html_markup_144&#45;&gt;tag_remove_html_markup_145</title>\n",
       "<path fill=\"none\" stroke=\"#c0c0c0\" stroke-dasharray=\"5,2\" d=\"M210.0864,-531.6334C210.2484,-523.8186 211.0176,-514.7253 212.2014,-506.183\"/>\n",
       "<polygon fill=\"#c0c0c0\" stroke=\"#c0c0c0\" points=\"215.6808,-506.5927 213.8382,-496.1593 208.7723,-505.4645 215.6808,-506.5927\"/>\n",
       "</g>\n",
       "<!-- test_remove_html_markup_144&#45;&gt;tag_remove_html_markup_145 -->\n",
       "<!-- test_remove_html_markup_144&#45;&gt;test_remove_html_markup_146 -->\n",
       "<g id=\"edge7\" class=\"edge\">\n",
       "<title>test_remove_html_markup_144&#45;&gt;test_remove_html_markup_146</title>\n",
       "<path fill=\"none\" stroke=\"#c0c0c0\" stroke-dasharray=\"5,2\" d=\"M197.493,-531.9686C190.0016,-521.8025 181.768,-508.897 177,-496 169.1864,-474.8647 166.2667,-449.5171 165.2574,-430.1764\"/>\n",
       "<polygon fill=\"#c0c0c0\" stroke=\"#c0c0c0\" points=\"168.7523,-429.974 164.8743,-420.1145 161.7574,-430.2404 168.7523,-429.974\"/>\n",
       "</g>\n",
       "<!-- tag_remove_html_markup_145&#45;&gt;test_remove_html_markup_146 -->\n",
       "<!-- test_remove_html_markup_150 -->\n",
       "<g id=\"node10\" class=\"node\">\n",
       "<title>test_remove_html_markup_150</title>\n",
       "<g id=\"a_node10\"><a xlink:title=\"remove_html_markup:150\">\n",
       "<polygon fill=\"#ffdab9\" stroke=\"#000000\" points=\"268.5,-192 181.5,-192 181.5,-152 268.5,-152 268.5,-192\"/>\n",
       "<text text-anchor=\"start\" x=\"199.5\" y=\"-177.8\" font-family=\"Fira Mono\" font-weight=\"bold\" font-style=\"italic\" font-size=\"14.00\" fill=\"#000000\">&lt;test&gt;</text>\n",
       "<text text-anchor=\"start\" x=\"189.5\" y=\"-158.8\" font-family=\"Fira Mono\" font-size=\"9.00\" fill=\"#000000\">elif not tag:</text>\n",
       "</a>\n",
       "</g>\n",
       "</g>\n",
       "<!-- tag_remove_html_markup_145&#45;&gt;test_remove_html_markup_150 -->\n",
       "<g id=\"edge11\" class=\"edge\">\n",
       "<title>tag_remove_html_markup_145&#45;&gt;test_remove_html_markup_150</title>\n",
       "<path fill=\"none\" stroke=\"#000000\" d=\"M238.5088,-455.7877C266.2091,-420.3791 320.889,-343.6769 340,-268 344.3529,-250.7634 349.4255,-243.0735 340,-228 326.35,-206.1706 301.477,-192.6278 278.346,-184.3431\"/>\n",
       "<polygon fill=\"#000000\" stroke=\"#000000\" points=\"279.1706,-180.9292 268.5772,-181.1056 276.9684,-187.5738 279.1706,-180.9292\"/>\n",
       "</g>\n",
       "<!-- test_remove_html_markup_146&#45;&gt;test_remove_html_markup_148 -->\n",
       "<g id=\"edge9\" class=\"edge\">\n",
       "<title>test_remove_html_markup_146&#45;&gt;test_remove_html_markup_148</title>\n",
       "<path fill=\"none\" stroke=\"#c0c0c0\" stroke-dasharray=\"5,2\" d=\"M184.8897,-379.8472C193.6329,-369.85 203.2099,-357.1218 209,-344 218.151,-323.2614 222.1049,-297.8948 223.7957,-278.446\"/>\n",
       "<polygon fill=\"#c0c0c0\" stroke=\"#c0c0c0\" points=\"227.2977,-278.5414 224.5208,-268.317 220.3156,-278.0415 227.2977,-278.5414\"/>\n",
       "</g>\n",
       "<!-- tag_remove_html_markup_147 -->\n",
       "<g id=\"node11\" class=\"node\">\n",
       "<title>tag_remove_html_markup_147</title>\n",
       "<g id=\"a_node11\"><a xlink:title=\"remove_html_markup:147\">\n",
       "<polygon fill=\"#ffdab9\" stroke=\"#000000\" points=\"200,-344 124,-344 124,-304 200,-304 200,-344\"/>\n",
       "<text text-anchor=\"start\" x=\"149\" y=\"-329.8\" font-family=\"Fira Mono\" font-weight=\"bold\" font-size=\"14.00\" fill=\"#000000\">tag</text>\n",
       "<text text-anchor=\"start\" x=\"132\" y=\"-310.8\" font-family=\"Fira Mono\" font-size=\"9.00\" fill=\"#000000\">tag = False</text>\n",
       "</a>\n",
       "</g>\n",
       "</g>\n",
       "<!-- test_remove_html_markup_146&#45;&gt;tag_remove_html_markup_147 -->\n",
       "<g id=\"edge13\" class=\"edge\">\n",
       "<title>test_remove_html_markup_146&#45;&gt;tag_remove_html_markup_147</title>\n",
       "<path fill=\"none\" stroke=\"#c0c0c0\" stroke-dasharray=\"5,2\" d=\"M158.1386,-379.6334C157.1695,-371.8186 156.6226,-362.7253 156.57,-354.183\"/>\n",
       "<polygon fill=\"#c0c0c0\" stroke=\"#c0c0c0\" points=\"160.0698,-354.2225 156.756,-344.1593 153.071,-354.0926 160.0698,-354.2225\"/>\n",
       "</g>\n",
       "<!-- test_remove_html_markup_146&#45;&gt;tag_remove_html_markup_147 -->\n",
       "<!-- test_remove_html_markup_148&#45;&gt;test_remove_html_markup_150 -->\n",
       "<g id=\"edge12\" class=\"edge\">\n",
       "<title>test_remove_html_markup_148&#45;&gt;test_remove_html_markup_150</title>\n",
       "<path fill=\"none\" stroke=\"#c0c0c0\" stroke-dasharray=\"5,2\" d=\"M218.9426,-227.6334C218.2819,-219.8186 218.0939,-210.7253 218.3786,-202.183\"/>\n",
       "<polygon fill=\"#c0c0c0\" stroke=\"#c0c0c0\" points=\"221.875,-202.3453 218.9602,-192.1593 214.8867,-201.9397 221.875,-202.3453\"/>\n",
       "</g>\n",
       "<!-- test_remove_html_markup_148&#45;&gt;test_remove_html_markup_150 -->\n",
       "<!-- test_remove_html_markup_150&#45;&gt;out_remove_html_markup_151 -->\n",
       "<g id=\"edge17\" class=\"edge\">\n",
       "<title>test_remove_html_markup_150&#45;&gt;out_remove_html_markup_151</title>\n",
       "<path fill=\"none\" stroke=\"#c0c0c0\" stroke-dasharray=\"5,2\" d=\"M218.9426,-151.6334C218.2819,-143.8186 218.0939,-134.7253 218.3786,-126.183\"/>\n",
       "<polygon fill=\"#c0c0c0\" stroke=\"#c0c0c0\" points=\"221.875,-126.3453 218.9602,-116.1593 214.8867,-125.9397 221.875,-126.3453\"/>\n",
       "</g>\n",
       "<!-- test_remove_html_markup_150&#45;&gt;out_remove_html_markup_151 -->\n",
       "<!-- tag_remove_html_markup_147&#45;&gt;test_remove_html_markup_148 -->\n",
       "<!-- tag_remove_html_markup_147&#45;&gt;test_remove_html_markup_150 -->\n",
       "<g id=\"edge10\" class=\"edge\">\n",
       "<title>tag_remove_html_markup_147&#45;&gt;test_remove_html_markup_150</title>\n",
       "<path fill=\"none\" stroke=\"#000000\" d=\"M136.306,-303.9062C126.0634,-294.2789 115.4314,-281.8312 110,-268 103.5019,-251.4524 100.5745,-243.0735 110,-228 123.65,-206.1706 148.523,-192.6278 171.654,-184.3431\"/>\n",
       "<polygon fill=\"#000000\" stroke=\"#000000\" points=\"173.0316,-187.5738 181.4228,-181.1056 170.8294,-180.9292 173.0316,-187.5738\"/>\n",
       "</g>\n",
       "<!-- out_remove_html_markup_151&#45;&gt;out_remove_html_markup_151 -->\n",
       "<g id=\"edge16\" class=\"edge\">\n",
       "<title>out_remove_html_markup_151&#45;&gt;out_remove_html_markup_151</title>\n",
       "<path fill=\"none\" stroke=\"#000000\" d=\"M268.6694,-109.9682C278.9301,-108.8201 286.5,-104.1641 286.5,-96 286.5,-90.7699 283.3933,-86.9795 278.4627,-84.6287\"/>\n",
       "<polygon fill=\"#000000\" stroke=\"#000000\" points=\"279.2324,-81.212 268.6694,-82.0318 277.4382,-87.9781 279.2324,-81.212\"/>\n",
       "</g>\n",
       "<!-- returnvalue_remove_html_markup_153 -->\n",
       "<g id=\"node13\" class=\"node\">\n",
       "<title>returnvalue_remove_html_markup_153</title>\n",
       "<g id=\"a_node13\"><a xlink:title=\"remove_html_markup:153\">\n",
       "<polygon fill=\"#ffdab9\" stroke=\"#000000\" points=\"292,-40 158,-40 158,0 292,0 292,-40\"/>\n",
       "<text text-anchor=\"start\" x=\"166\" y=\"-25.8\" font-family=\"Fira Mono\" font-weight=\"bold\" font-style=\"italic\" font-size=\"14.00\" fill=\"#000000\">&lt;return value&gt;</text>\n",
       "<text text-anchor=\"start\" x=\"197.5\" y=\"-6.8\" font-family=\"Fira Mono\" font-size=\"9.00\" fill=\"#000000\">return out</text>\n",
       "</a>\n",
       "</g>\n",
       "</g>\n",
       "<!-- out_remove_html_markup_151&#45;&gt;returnvalue_remove_html_markup_153 -->\n",
       "<g id=\"edge18\" class=\"edge\">\n",
       "<title>out_remove_html_markup_151&#45;&gt;returnvalue_remove_html_markup_153</title>\n",
       "<path fill=\"none\" stroke=\"#000000\" d=\"M218.9426,-75.6334C218.2819,-67.8186 218.0939,-58.7253 218.3786,-50.183\"/>\n",
       "<polygon fill=\"#000000\" stroke=\"#000000\" points=\"221.875,-50.3453 218.9602,-40.1593 214.8867,-49.9397 221.875,-50.3453\"/>\n",
       "</g>\n",
       "<!-- out_remove_html_markup_151&#45;&gt;returnvalue_remove_html_markup_153 -->\n",
       "</g>\n",
       "</svg>\n"
      ],
      "text/plain": [
       "<graphviz.dot.Digraph at 0x7f80023a0438>"
      ]
     },
     "execution_count": 55,
     "metadata": {},
     "output_type": "execute_result"
    }
   ],
   "source": [
    "rhm_slicer.dependencies().graph()"
   ]
  },
  {
   "cell_type": "code",
   "execution_count": 56,
   "metadata": {
    "slideshow": {
     "slide_type": "fragment"
    }
   },
   "outputs": [
    {
     "data": {
      "image/svg+xml": [
       "<?xml version=\"1.0\" encoding=\"UTF-8\" standalone=\"no\"?>\n",
       "<!DOCTYPE svg PUBLIC \"-//W3C//DTD SVG 1.1//EN\"\n",
       " \"http://www.w3.org/Graphics/SVG/1.1/DTD/svg11.dtd\">\n",
       "<!-- Generated by graphviz version 2.40.1 (20161225.0304)\n",
       " -->\n",
       "<!-- Title: dependencies Pages: 1 -->\n",
       "<svg width=\"203pt\" height=\"352pt\"\n",
       " viewBox=\"0.00 0.00 202.50 352.00\" xmlns=\"http://www.w3.org/2000/svg\" xmlns:xlink=\"http://www.w3.org/1999/xlink\">\n",
       "<g id=\"graph0\" class=\"graph\" transform=\"scale(1 1) rotate(0) translate(4 348)\">\n",
       "<title>dependencies</title>\n",
       "<polygon fill=\"#ffffff\" stroke=\"transparent\" points=\"-4,4 -4,-348 198.5,-348 198.5,4 -4,4\"/>\n",
       "<!-- tag_remove_html_markup_137 -->\n",
       "<g id=\"node1\" class=\"node\">\n",
       "<title>tag_remove_html_markup_137</title>\n",
       "<g id=\"a_node1\"><a xlink:title=\"remove_html_markup:137\">\n",
       "<polygon fill=\"#ffdab9\" stroke=\"#000000\" points=\"116.5,-344 40.5,-344 40.5,-304 116.5,-304 116.5,-344\"/>\n",
       "<text text-anchor=\"start\" x=\"65.5\" y=\"-329.8\" font-family=\"Fira Mono\" font-weight=\"bold\" font-size=\"14.00\" fill=\"#000000\">tag</text>\n",
       "<text text-anchor=\"start\" x=\"48.5\" y=\"-310.8\" font-family=\"Fira Mono\" font-size=\"9.00\" fill=\"#000000\">tag = False</text>\n",
       "</a>\n",
       "</g>\n",
       "</g>\n",
       "<!-- test_remove_html_markup_144 -->\n",
       "<g id=\"node3\" class=\"node\">\n",
       "<title>test_remove_html_markup_144</title>\n",
       "<g id=\"a_node3\"><a xlink:title=\"remove_html_markup:144\">\n",
       "<polygon fill=\"#ffdab9\" stroke=\"#000000\" points=\"157,-268 0,-268 0,-228 157,-228 157,-268\"/>\n",
       "<text text-anchor=\"start\" x=\"53\" y=\"-253.8\" font-family=\"Fira Mono\" font-weight=\"bold\" font-style=\"italic\" font-size=\"14.00\" fill=\"#000000\">&lt;test&gt;</text>\n",
       "<text text-anchor=\"start\" x=\"8\" y=\"-234.8\" font-family=\"Fira Mono\" font-size=\"9.00\" fill=\"#000000\">if c == &#39;&lt;&#39; and not quote:</text>\n",
       "</a>\n",
       "</g>\n",
       "</g>\n",
       "<!-- tag_remove_html_markup_137&#45;&gt;test_remove_html_markup_144 -->\n",
       "<!-- tag_remove_html_markup_145 -->\n",
       "<g id=\"node2\" class=\"node\">\n",
       "<title>tag_remove_html_markup_145</title>\n",
       "<g id=\"a_node2\"><a xlink:title=\"remove_html_markup:145\">\n",
       "<polygon fill=\"#ffdab9\" stroke=\"#000000\" points=\"114,-192 43,-192 43,-152 114,-152 114,-192\"/>\n",
       "<text text-anchor=\"start\" x=\"65.5\" y=\"-177.8\" font-family=\"Fira Mono\" font-weight=\"bold\" font-size=\"14.00\" fill=\"#000000\">tag</text>\n",
       "<text text-anchor=\"start\" x=\"51\" y=\"-158.8\" font-family=\"Fira Mono\" font-size=\"9.00\" fill=\"#000000\">tag = True</text>\n",
       "</a>\n",
       "</g>\n",
       "</g>\n",
       "<!-- test_remove_html_markup_146 -->\n",
       "<g id=\"node5\" class=\"node\">\n",
       "<title>test_remove_html_markup_146</title>\n",
       "<g id=\"a_node5\"><a xlink:title=\"remove_html_markup:146\">\n",
       "<polygon fill=\"#ffdab9\" stroke=\"#000000\" points=\"194.5,-116 26.5,-116 26.5,-76 194.5,-76 194.5,-116\"/>\n",
       "<text text-anchor=\"start\" x=\"85\" y=\"-101.8\" font-family=\"Fira Mono\" font-weight=\"bold\" font-style=\"italic\" font-size=\"14.00\" fill=\"#000000\">&lt;test&gt;</text>\n",
       "<text text-anchor=\"start\" x=\"34.5\" y=\"-82.8\" font-family=\"Fira Mono\" font-size=\"9.00\" fill=\"#000000\">elif c == &#39;&gt;&#39; and not quote:</text>\n",
       "</a>\n",
       "</g>\n",
       "</g>\n",
       "<!-- tag_remove_html_markup_145&#45;&gt;test_remove_html_markup_146 -->\n",
       "<!-- test_remove_html_markup_144&#45;&gt;tag_remove_html_markup_145 -->\n",
       "<g id=\"edge1\" class=\"edge\">\n",
       "<title>test_remove_html_markup_144&#45;&gt;tag_remove_html_markup_145</title>\n",
       "<path fill=\"none\" stroke=\"#c0c0c0\" stroke-dasharray=\"5,2\" d=\"M72.4426,-227.6334C71.7819,-219.8186 71.5939,-210.7253 71.8786,-202.183\"/>\n",
       "<polygon fill=\"#c0c0c0\" stroke=\"#c0c0c0\" points=\"75.375,-202.3453 72.4602,-192.1593 68.3867,-201.9397 75.375,-202.3453\"/>\n",
       "</g>\n",
       "<!-- test_remove_html_markup_144&#45;&gt;tag_remove_html_markup_145 -->\n",
       "<!-- test_remove_html_markup_144&#45;&gt;test_remove_html_markup_146 -->\n",
       "<g id=\"edge3\" class=\"edge\">\n",
       "<title>test_remove_html_markup_144&#45;&gt;test_remove_html_markup_146</title>\n",
       "<path fill=\"none\" stroke=\"#c0c0c0\" stroke-dasharray=\"5,2\" d=\"M100.3191,-227.804C109.339,-217.9836 118.779,-205.4117 123.5,-192 131.0265,-170.6181 127.0247,-145.1414 121.5472,-125.8081\"/>\n",
       "<polygon fill=\"#c0c0c0\" stroke=\"#c0c0c0\" points=\"124.8209,-124.5485 118.5092,-116.0389 118.1366,-126.6272 124.8209,-124.5485\"/>\n",
       "</g>\n",
       "<!-- tag_remove_html_markup_147 -->\n",
       "<g id=\"node4\" class=\"node\">\n",
       "<title>tag_remove_html_markup_147</title>\n",
       "<g id=\"a_node4\"><a xlink:title=\"remove_html_markup:147\">\n",
       "<polygon fill=\"#ffdab9\" stroke=\"#000000\" points=\"148.5,-40 72.5,-40 72.5,0 148.5,0 148.5,-40\"/>\n",
       "<text text-anchor=\"start\" x=\"97.5\" y=\"-25.8\" font-family=\"Fira Mono\" font-weight=\"bold\" font-size=\"14.00\" fill=\"#000000\">tag</text>\n",
       "<text text-anchor=\"start\" x=\"80.5\" y=\"-6.8\" font-family=\"Fira Mono\" font-size=\"9.00\" fill=\"#000000\">tag = False</text>\n",
       "</a>\n",
       "</g>\n",
       "</g>\n",
       "<!-- test_remove_html_markup_146&#45;&gt;tag_remove_html_markup_147 -->\n",
       "<g id=\"edge2\" class=\"edge\">\n",
       "<title>test_remove_html_markup_146&#45;&gt;tag_remove_html_markup_147</title>\n",
       "<path fill=\"none\" stroke=\"#c0c0c0\" stroke-dasharray=\"5,2\" d=\"M104.4426,-75.6334C103.7819,-67.8186 103.5939,-58.7253 103.8786,-50.183\"/>\n",
       "<polygon fill=\"#c0c0c0\" stroke=\"#c0c0c0\" points=\"107.375,-50.3453 104.4602,-40.1593 100.3867,-49.9397 107.375,-50.3453\"/>\n",
       "</g>\n",
       "<!-- test_remove_html_markup_146&#45;&gt;tag_remove_html_markup_147 -->\n",
       "</g>\n",
       "</svg>\n"
      ],
      "text/plain": [
       "<graphviz.dot.Digraph at 0x7f8002391b38>"
      ]
     },
     "execution_count": 56,
     "metadata": {},
     "output_type": "execute_result"
    }
   ],
   "source": [
    "rhm_slicer.dependencies().backward_slice('tag', mode='c').graph()"
   ]
  },
  {
   "cell_type": "code",
   "execution_count": 57,
   "metadata": {
    "slideshow": {
     "slide_type": "fragment"
    }
   },
   "outputs": [],
   "source": [
    "def add_to(x, y):\n",
    "    x += y\n",
    "    return x"
   ]
  },
  {
   "cell_type": "code",
   "execution_count": 58,
   "metadata": {
    "slideshow": {
     "slide_type": "subslide"
    }
   },
   "outputs": [],
   "source": [
    "def mul_with(x, y):\n",
    "    x *= y\n",
    "    return x"
   ]
  },
  {
   "cell_type": "code",
   "execution_count": 59,
   "metadata": {
    "slideshow": {
     "slide_type": "fragment"
    }
   },
   "outputs": [],
   "source": [
    "with Slicer(add_to, mul_with) as math_slicer:\n",
    "    y = mul_with(3, add_to(2, 2))"
   ]
  },
  {
   "cell_type": "code",
   "execution_count": 60,
   "metadata": {
    "slideshow": {
     "slide_type": "fragment"
    }
   },
   "outputs": [
    {
     "data": {
      "image/svg+xml": [
       "<?xml version=\"1.0\" encoding=\"UTF-8\" standalone=\"no\"?>\n",
       "<!DOCTYPE svg PUBLIC \"-//W3C//DTD SVG 1.1//EN\"\n",
       " \"http://www.w3.org/Graphics/SVG/1.1/DTD/svg11.dtd\">\n",
       "<!-- Generated by graphviz version 2.40.1 (20161225.0304)\n",
       " -->\n",
       "<!-- Title: dependencies Pages: 1 -->\n",
       "<svg width=\"392pt\" height=\"428pt\"\n",
       " viewBox=\"0.00 0.00 392.00 428.00\" xmlns=\"http://www.w3.org/2000/svg\" xmlns:xlink=\"http://www.w3.org/1999/xlink\">\n",
       "<g id=\"graph0\" class=\"graph\" transform=\"scale(1 1) rotate(0) translate(4 424)\">\n",
       "<title>dependencies</title>\n",
       "<polygon fill=\"#ffffff\" stroke=\"transparent\" points=\"-4,4 -4,-424 388,-424 388,4 -4,4\"/>\n",
       "<!-- x_add_to_1 -->\n",
       "<g id=\"node1\" class=\"node\">\n",
       "<title>x_add_to_1</title>\n",
       "<g id=\"a_node1\"><a xlink:title=\"add_to:1\">\n",
       "<polygon fill=\"#ffdab9\" stroke=\"#000000\" points=\"108,-420 0,-420 0,-380 108,-380 108,-420\"/>\n",
       "<text text-anchor=\"start\" x=\"49.5\" y=\"-405.8\" font-family=\"Fira Mono\" font-weight=\"bold\" font-size=\"14.00\" fill=\"#000000\">x</text>\n",
       "<text text-anchor=\"start\" x=\"8\" y=\"-386.8\" font-family=\"Fira Mono\" font-size=\"9.00\" fill=\"#000000\">def add_to(x, y):</text>\n",
       "</a>\n",
       "</g>\n",
       "</g>\n",
       "<!-- x_add_to_2 -->\n",
       "<g id=\"node3\" class=\"node\">\n",
       "<title>x_add_to_2</title>\n",
       "<g id=\"a_node3\"><a xlink:title=\"add_to:2\">\n",
       "<polygon fill=\"#ffdab9\" stroke=\"#000000\" points=\"207,-344 153,-344 153,-304 207,-304 207,-344\"/>\n",
       "<text text-anchor=\"start\" x=\"175.5\" y=\"-329.8\" font-family=\"Fira Mono\" font-weight=\"bold\" font-size=\"14.00\" fill=\"#000000\">x</text>\n",
       "<text text-anchor=\"start\" x=\"163.5\" y=\"-310.8\" font-family=\"Fira Mono\" font-size=\"9.00\" fill=\"#000000\">x += y</text>\n",
       "</a>\n",
       "</g>\n",
       "</g>\n",
       "<!-- x_add_to_1&#45;&gt;x_add_to_2 -->\n",
       "<g id=\"edge2\" class=\"edge\">\n",
       "<title>x_add_to_1&#45;&gt;x_add_to_2</title>\n",
       "<path fill=\"none\" stroke=\"#000000\" d=\"M87.4349,-379.8329C104.8185,-369.3476 126.0862,-356.5195 143.8502,-345.8047\"/>\n",
       "<polygon fill=\"#000000\" stroke=\"#000000\" points=\"146.0259,-348.5798 152.7811,-340.4178 142.4104,-342.5857 146.0259,-348.5798\"/>\n",
       "</g>\n",
       "<!-- y_add_to_1 -->\n",
       "<g id=\"node2\" class=\"node\">\n",
       "<title>y_add_to_1</title>\n",
       "<g id=\"a_node2\"><a xlink:title=\"add_to:1\">\n",
       "<polygon fill=\"#ffdab9\" stroke=\"#000000\" points=\"234,-420 126,-420 126,-380 234,-380 234,-420\"/>\n",
       "<text text-anchor=\"start\" x=\"175.5\" y=\"-405.8\" font-family=\"Fira Mono\" font-weight=\"bold\" font-size=\"14.00\" fill=\"#000000\">y</text>\n",
       "<text text-anchor=\"start\" x=\"134\" y=\"-386.8\" font-family=\"Fira Mono\" font-size=\"9.00\" fill=\"#000000\">def add_to(x, y):</text>\n",
       "</a>\n",
       "</g>\n",
       "</g>\n",
       "<!-- y_add_to_1&#45;&gt;x_add_to_2 -->\n",
       "<g id=\"edge1\" class=\"edge\">\n",
       "<title>y_add_to_1&#45;&gt;x_add_to_2</title>\n",
       "<path fill=\"none\" stroke=\"#000000\" d=\"M173.9426,-379.6334C173.2819,-371.8186 173.0939,-362.7253 173.3786,-354.183\"/>\n",
       "<polygon fill=\"#000000\" stroke=\"#000000\" points=\"176.875,-354.3453 173.9602,-344.1593 169.8867,-353.9397 176.875,-354.3453\"/>\n",
       "</g>\n",
       "<!-- y_add_to_1&#45;&gt;x_add_to_2 -->\n",
       "<!-- returnvalue_add_to_3 -->\n",
       "<g id=\"node4\" class=\"node\">\n",
       "<title>returnvalue_add_to_3</title>\n",
       "<g id=\"a_node4\"><a xlink:title=\"add_to:3\">\n",
       "<polygon fill=\"#ffdab9\" stroke=\"#000000\" points=\"247,-268 113,-268 113,-228 247,-228 247,-268\"/>\n",
       "<text text-anchor=\"start\" x=\"121\" y=\"-253.8\" font-family=\"Fira Mono\" font-weight=\"bold\" font-style=\"italic\" font-size=\"14.00\" fill=\"#000000\">&lt;return value&gt;</text>\n",
       "<text text-anchor=\"start\" x=\"158\" y=\"-234.8\" font-family=\"Fira Mono\" font-size=\"9.00\" fill=\"#000000\">return x</text>\n",
       "</a>\n",
       "</g>\n",
       "</g>\n",
       "<!-- x_add_to_2&#45;&gt;returnvalue_add_to_3 -->\n",
       "<g id=\"edge3\" class=\"edge\">\n",
       "<title>x_add_to_2&#45;&gt;returnvalue_add_to_3</title>\n",
       "<path fill=\"none\" stroke=\"#000000\" d=\"M173.9426,-303.6334C173.2819,-295.8186 173.0939,-286.7253 173.3786,-278.183\"/>\n",
       "<polygon fill=\"#000000\" stroke=\"#000000\" points=\"176.875,-278.3453 173.9602,-268.1593 169.8867,-277.9397 176.875,-278.3453\"/>\n",
       "</g>\n",
       "<!-- x_add_to_2&#45;&gt;returnvalue_add_to_3 -->\n",
       "<!-- x_mul_with_1 -->\n",
       "<g id=\"node5\" class=\"node\">\n",
       "<title>x_mul_with_1</title>\n",
       "<g id=\"a_node5\"><a xlink:title=\"mul_with:1\">\n",
       "<polygon fill=\"#ffdab9\" stroke=\"#000000\" points=\"239.5,-192 120.5,-192 120.5,-152 239.5,-152 239.5,-192\"/>\n",
       "<text text-anchor=\"start\" x=\"175.5\" y=\"-177.8\" font-family=\"Fira Mono\" font-weight=\"bold\" font-size=\"14.00\" fill=\"#000000\">x</text>\n",
       "<text text-anchor=\"start\" x=\"128.5\" y=\"-158.8\" font-family=\"Fira Mono\" font-size=\"9.00\" fill=\"#000000\">def mul_with(x, y):</text>\n",
       "</a>\n",
       "</g>\n",
       "</g>\n",
       "<!-- returnvalue_add_to_3&#45;&gt;x_mul_with_1 -->\n",
       "<g id=\"edge4\" class=\"edge\">\n",
       "<title>returnvalue_add_to_3&#45;&gt;x_mul_with_1</title>\n",
       "<path fill=\"none\" stroke=\"#000000\" d=\"M180,-227.6334C180,-219.8186 180,-210.7253 180,-202.183\"/>\n",
       "<polygon fill=\"#000000\" stroke=\"#000000\" points=\"183.5001,-202.1593 180,-192.1593 176.5001,-202.1593 183.5001,-202.1593\"/>\n",
       "</g>\n",
       "<!-- x_mul_with_2 -->\n",
       "<g id=\"node7\" class=\"node\">\n",
       "<title>x_mul_with_2</title>\n",
       "<g id=\"a_node7\"><a xlink:title=\"mul_with:2\">\n",
       "<polygon fill=\"#ffdab9\" stroke=\"#000000\" points=\"344,-116 290,-116 290,-76 344,-76 344,-116\"/>\n",
       "<text text-anchor=\"start\" x=\"312.5\" y=\"-101.8\" font-family=\"Fira Mono\" font-weight=\"bold\" font-size=\"14.00\" fill=\"#000000\">x</text>\n",
       "<text text-anchor=\"start\" x=\"300.5\" y=\"-82.8\" font-family=\"Fira Mono\" font-size=\"9.00\" fill=\"#000000\">x *= y</text>\n",
       "</a>\n",
       "</g>\n",
       "</g>\n",
       "<!-- x_mul_with_1&#45;&gt;x_mul_with_2 -->\n",
       "<g id=\"edge6\" class=\"edge\">\n",
       "<title>x_mul_with_1&#45;&gt;x_mul_with_2</title>\n",
       "<path fill=\"none\" stroke=\"#000000\" d=\"M216.3538,-151.8329C236.2893,-140.7738 260.9227,-127.1086 280.8293,-116.0655\"/>\n",
       "<polygon fill=\"#000000\" stroke=\"#000000\" points=\"282.5624,-119.1066 289.6091,-111.1949 279.1667,-112.9854 282.5624,-119.1066\"/>\n",
       "</g>\n",
       "<!-- y_mul_with_1 -->\n",
       "<g id=\"node6\" class=\"node\">\n",
       "<title>y_mul_with_1</title>\n",
       "<g id=\"a_node6\"><a xlink:title=\"mul_with:1\">\n",
       "<polygon fill=\"#ffdab9\" stroke=\"#000000\" points=\"376.5,-192 257.5,-192 257.5,-152 376.5,-152 376.5,-192\"/>\n",
       "<text text-anchor=\"start\" x=\"312.5\" y=\"-177.8\" font-family=\"Fira Mono\" font-weight=\"bold\" font-size=\"14.00\" fill=\"#000000\">y</text>\n",
       "<text text-anchor=\"start\" x=\"265.5\" y=\"-158.8\" font-family=\"Fira Mono\" font-size=\"9.00\" fill=\"#000000\">def mul_with(x, y):</text>\n",
       "</a>\n",
       "</g>\n",
       "</g>\n",
       "<!-- y_mul_with_1&#45;&gt;x_mul_with_2 -->\n",
       "<g id=\"edge5\" class=\"edge\">\n",
       "<title>y_mul_with_1&#45;&gt;x_mul_with_2</title>\n",
       "<path fill=\"none\" stroke=\"#000000\" d=\"M310.9426,-151.6334C310.2819,-143.8186 310.0939,-134.7253 310.3786,-126.183\"/>\n",
       "<polygon fill=\"#000000\" stroke=\"#000000\" points=\"313.875,-126.3453 310.9602,-116.1593 306.8867,-125.9397 313.875,-126.3453\"/>\n",
       "</g>\n",
       "<!-- y_mul_with_1&#45;&gt;x_mul_with_2 -->\n",
       "<!-- returnvalue_mul_with_3 -->\n",
       "<g id=\"node8\" class=\"node\">\n",
       "<title>returnvalue_mul_with_3</title>\n",
       "<g id=\"a_node8\"><a xlink:title=\"mul_with:3\">\n",
       "<polygon fill=\"#ffdab9\" stroke=\"#000000\" points=\"384,-40 250,-40 250,0 384,0 384,-40\"/>\n",
       "<text text-anchor=\"start\" x=\"258\" y=\"-25.8\" font-family=\"Fira Mono\" font-weight=\"bold\" font-style=\"italic\" font-size=\"14.00\" fill=\"#000000\">&lt;return value&gt;</text>\n",
       "<text text-anchor=\"start\" x=\"295\" y=\"-6.8\" font-family=\"Fira Mono\" font-size=\"9.00\" fill=\"#000000\">return x</text>\n",
       "</a>\n",
       "</g>\n",
       "</g>\n",
       "<!-- x_mul_with_2&#45;&gt;returnvalue_mul_with_3 -->\n",
       "<g id=\"edge7\" class=\"edge\">\n",
       "<title>x_mul_with_2&#45;&gt;returnvalue_mul_with_3</title>\n",
       "<path fill=\"none\" stroke=\"#000000\" d=\"M310.9426,-75.6334C310.2819,-67.8186 310.0939,-58.7253 310.3786,-50.183\"/>\n",
       "<polygon fill=\"#000000\" stroke=\"#000000\" points=\"313.875,-50.3453 310.9602,-40.1593 306.8867,-49.9397 313.875,-50.3453\"/>\n",
       "</g>\n",
       "<!-- x_mul_with_2&#45;&gt;returnvalue_mul_with_3 -->\n",
       "</g>\n",
       "</svg>\n"
      ],
      "text/plain": [
       "<graphviz.dot.Digraph at 0x7f80023910b8>"
      ]
     },
     "execution_count": 60,
     "metadata": {},
     "output_type": "execute_result"
    }
   ],
   "source": [
    "math_slicer.dependencies().graph()"
   ]
  },
  {
   "cell_type": "markdown",
   "metadata": {
    "slideshow": {
     "slide_type": "subslide"
    }
   },
   "source": [
    "TODO: Auto-slice things – in \n",
    "\n",
    "```python\n",
    "with Slicer():\n",
    "   foo()\n",
    "```\n",
    "identify all calls in the code and add them to the instrumentation.\n",
    "\n",
    "1. Get source code - won't work; will not contain body\n",
    "2. Use a decorator? (works only for functions...)\n",
    "3. Replace on the fly – won't work (or will it?), as we cannot change code once it executes"
   ]
  },
  {
   "cell_type": "code",
   "execution_count": 61,
   "metadata": {
    "slideshow": {
     "slide_type": "skip"
    }
   },
   "outputs": [],
   "source": [
    "from ExpectError import ExpectError"
   ]
  },
  {
   "cell_type": "code",
   "execution_count": 62,
   "metadata": {
    "slideshow": {
     "slide_type": "subslide"
    }
   },
   "outputs": [
    {
     "name": "stderr",
     "output_type": "stream",
     "text": [
      "Traceback (most recent call last):\n",
      "  File \"<ipython-input-62-04fc5ccbc736>\", line 2, in <module>\n",
      "    with Slicer() as slicer:\n",
      "  File \"<ipython-input-34-d3351eb2f348>\", line 5, in __init__\n",
      "    raise ValueError(\"Need one or more items to instrument\")\n",
      "ValueError: Need one or more items to instrument (expected)\n"
     ]
    }
   ],
   "source": [
    "with ExpectError():\n",
    "    with Slicer() as slicer:\n",
    "        y = square_root(9)"
   ]
  },
  {
   "cell_type": "markdown",
   "metadata": {
    "slideshow": {
     "slide_type": "fragment"
    }
   },
   "source": [
    "TODO: Add method to `Dependencies`, obtaining the subset of a specific variable"
   ]
  },
  {
   "cell_type": "markdown",
   "metadata": {
    "slideshow": {
     "slide_type": "slide"
    }
   },
   "source": [
    "## Synopsis"
   ]
  },
  {
   "cell_type": "markdown",
   "metadata": {
    "slideshow": {
     "slide_type": "fragment"
    }
   },
   "source": [
    "_For those only interested in using the code in this chapter (without wanting to know how it works), give an example.  This will be copied to the beginning of the chapter (before the first section) as text with rendered input and output._"
   ]
  },
  {
   "cell_type": "markdown",
   "metadata": {
    "button": false,
    "new_sheet": true,
    "run_control": {
     "read_only": false
    },
    "slideshow": {
     "slide_type": "slide"
    }
   },
   "source": [
    "## Lessons Learned\n",
    "\n",
    "* _Lesson one_\n",
    "* _Lesson two_\n",
    "* _Lesson three_"
   ]
  },
  {
   "cell_type": "markdown",
   "metadata": {
    "button": false,
    "new_sheet": false,
    "run_control": {
     "read_only": false
    },
    "slideshow": {
     "slide_type": "slide"
    }
   },
   "source": [
    "## Next Steps\n",
    "\n",
    "_Link to subsequent chapters (notebooks) here, as in:_\n",
    "\n",
    "* [use _mutations_ on existing inputs to get more valid inputs](MutationFuzzer.ipynb)\n",
    "* [use _grammars_ (i.e., a specification of the input format) to get even more valid inputs](Grammars.ipynb)\n",
    "* [reduce _failing inputs_ for efficient debugging](Reducer.ipynb)\n"
   ]
  },
  {
   "cell_type": "markdown",
   "metadata": {
    "slideshow": {
     "slide_type": "slide"
    }
   },
   "source": [
    "## Background\n",
    "\n",
    "_Cite relevant works in the literature and put them into context, as in:_\n",
    "\n",
    "The idea of ensuring that each expansion in the grammar is used at least once goes back to Burkhardt \\cite{Burkhardt1967}, to be later rediscovered by Paul Purdom \\cite{Purdom1972}.\n",
    "\n",
    "@INPROCEEDINGS{6899220,\n",
    "  author={Z. {Chen} and L. {Chen} and Y. {Zhou} and Z. {Xu} and W. C. {Chu} and B. {Xu}},\n",
    "  booktitle={2014 IEEE 38th Annual Computer Software and Applications Conference}, \n",
    "  title={Dynamic Slicing of Python Programs}, \n",
    "  year={2014},\n",
    "  volume={},\n",
    "  number={},\n",
    "  pages={219-228},\n",
    "  doi={10.1109/COMPSAC.2014.30}\n",
    "}\n",
    "\n"
   ]
  },
  {
   "cell_type": "markdown",
   "metadata": {
    "button": false,
    "new_sheet": true,
    "run_control": {
     "read_only": false
    },
    "slideshow": {
     "slide_type": "slide"
    }
   },
   "source": [
    "## Exercises\n",
    "\n",
    "_Close the chapter with a few exercises such that people have things to do.  To make the solutions hidden (to be revealed by the user), have them start with_\n",
    "\n",
    "```\n",
    "**Solution.**\n",
    "```\n",
    "\n",
    "_Your solution can then extend up to the next title (i.e., any markdown cell starting with `#`)._\n",
    "\n",
    "_Running `make metadata` will automatically add metadata to the cells such that the cells will be hidden by default, and can be uncovered by the user.  The button will be introduced above the solution._"
   ]
  },
  {
   "cell_type": "markdown",
   "metadata": {
    "button": false,
    "new_sheet": false,
    "run_control": {
     "read_only": false
    },
    "slideshow": {
     "slide_type": "subslide"
    }
   },
   "source": [
    "### Exercise 1: _Title_\n",
    "\n",
    "_Text of the exercise_"
   ]
  },
  {
   "cell_type": "code",
   "execution_count": 63,
   "metadata": {
    "cell_style": "center",
    "slideshow": {
     "slide_type": "fragment"
    }
   },
   "outputs": [],
   "source": [
    "# Some code that is part of the exercise\n",
    "pass"
   ]
  },
  {
   "cell_type": "markdown",
   "metadata": {
    "slideshow": {
     "slide_type": "fragment"
    },
    "solution2": "hidden",
    "solution2_first": true
   },
   "source": [
    "_Some more text for the exercise_"
   ]
  },
  {
   "cell_type": "markdown",
   "metadata": {
    "slideshow": {
     "slide_type": "skip"
    },
    "solution2": "hidden"
   },
   "source": [
    "**Solution.** _Some text for the solution_"
   ]
  },
  {
   "cell_type": "code",
   "execution_count": 64,
   "metadata": {
    "cell_style": "split",
    "slideshow": {
     "slide_type": "skip"
    },
    "solution2": "hidden"
   },
   "outputs": [
    {
     "data": {
      "text/plain": [
       "4"
      ]
     },
     "execution_count": 64,
     "metadata": {},
     "output_type": "execute_result"
    }
   ],
   "source": [
    "# Some code for the solution\n",
    "2 + 2"
   ]
  },
  {
   "cell_type": "markdown",
   "metadata": {
    "slideshow": {
     "slide_type": "skip"
    },
    "solution2": "hidden"
   },
   "source": [
    "_Some more text for the solution_"
   ]
  },
  {
   "cell_type": "markdown",
   "metadata": {
    "button": false,
    "new_sheet": false,
    "run_control": {
     "read_only": false
    },
    "slideshow": {
     "slide_type": "subslide"
    },
    "solution": "hidden",
    "solution2": "hidden",
    "solution2_first": true,
    "solution_first": true
   },
   "source": [
    "### Exercise 2: _Title_\n",
    "\n",
    "_Text of the exercise_"
   ]
  },
  {
   "cell_type": "markdown",
   "metadata": {
    "button": false,
    "new_sheet": false,
    "run_control": {
     "read_only": false
    },
    "slideshow": {
     "slide_type": "skip"
    },
    "solution": "hidden",
    "solution2": "hidden"
   },
   "source": [
    "**Solution.** _Solution for the exercise_"
   ]
  },
  {
   "cell_type": "code",
   "execution_count": 65,
   "metadata": {
    "slideshow": {
     "slide_type": "skip"
    },
    "solution2": "hidden"
   },
   "outputs": [],
   "source": [
    "import traceback"
   ]
  },
  {
   "cell_type": "code",
   "execution_count": 66,
   "metadata": {
    "slideshow": {
     "slide_type": "skip"
    },
    "solution2": "hidden"
   },
   "outputs": [],
   "source": [
    "class tint(int):\n",
    "    def __new__(cls, value, *args, **kw):\n",
    "        return int.__new__(cls, value)\n",
    "\n",
    "    def __init__(self, value, slice=None, **kwargs):\n",
    "        self.slice = [self.current_location()]\n",
    "        if slice is not None:\n",
    "            self.slice += slice\n",
    "\n",
    "    def current_location(self):\n",
    "        frame = inspect.currentframe()\n",
    "        while ('self' in frame.f_locals and \n",
    "               isinstance(frame.f_locals['self'], tint)):\n",
    "            frame = frame.f_back\n",
    "\n",
    "        return (frame.f_code.co_name, frame.f_lineno)"
   ]
  },
  {
   "cell_type": "code",
   "execution_count": 67,
   "metadata": {
    "slideshow": {
     "slide_type": "skip"
    },
    "solution2": "hidden"
   },
   "outputs": [],
   "source": [
    "class tint(tint):\n",
    "    def __repr__(self):\n",
    "        return int.__repr__(self)"
   ]
  },
  {
   "cell_type": "code",
   "execution_count": 68,
   "metadata": {
    "slideshow": {
     "slide_type": "skip"
    },
    "solution2": "hidden"
   },
   "outputs": [],
   "source": [
    "class tint(tint):\n",
    "    def __str__(self):\n",
    "        return int.__str__(self)"
   ]
  },
  {
   "cell_type": "code",
   "execution_count": 69,
   "metadata": {
    "slideshow": {
     "slide_type": "skip"
    },
    "solution2": "hidden"
   },
   "outputs": [
    {
     "data": {
      "text/plain": [
       "2"
      ]
     },
     "execution_count": 69,
     "metadata": {},
     "output_type": "execute_result"
    }
   ],
   "source": [
    "x = tint(2)\n",
    "x"
   ]
  },
  {
   "cell_type": "code",
   "execution_count": 70,
   "metadata": {
    "slideshow": {
     "slide_type": "skip"
    },
    "solution2": "hidden"
   },
   "outputs": [
    {
     "data": {
      "text/plain": [
       "[('<module>', 1)]"
      ]
     },
     "execution_count": 70,
     "metadata": {},
     "output_type": "execute_result"
    }
   ],
   "source": [
    "x.slice"
   ]
  },
  {
   "cell_type": "code",
   "execution_count": 71,
   "metadata": {
    "slideshow": {
     "slide_type": "skip"
    },
    "solution2": "hidden"
   },
   "outputs": [
    {
     "data": {
      "text/plain": [
       "True"
      ]
     },
     "execution_count": 71,
     "metadata": {},
     "output_type": "execute_result"
    }
   ],
   "source": [
    "x == 2"
   ]
  },
  {
   "cell_type": "code",
   "execution_count": 72,
   "metadata": {
    "slideshow": {
     "slide_type": "skip"
    },
    "solution2": "hidden"
   },
   "outputs": [
    {
     "data": {
      "text/plain": [
       "__main__.tint"
      ]
     },
     "execution_count": 72,
     "metadata": {},
     "output_type": "execute_result"
    }
   ],
   "source": [
    "type(x)"
   ]
  },
  {
   "cell_type": "code",
   "execution_count": 73,
   "metadata": {
    "slideshow": {
     "slide_type": "skip"
    },
    "solution2": "hidden"
   },
   "outputs": [],
   "source": [
    "class tint(tint):\n",
    "    def create(self, x):\n",
    "        return tint(x, slice=self.slice)"
   ]
  },
  {
   "cell_type": "markdown",
   "metadata": {
    "slideshow": {
     "slide_type": "skip"
    },
    "solution2": "hidden"
   },
   "source": [
    "Operators are defined in the [Python data model](https://docs.python.org/3/reference/datamodel.html)"
   ]
  },
  {
   "cell_type": "code",
   "execution_count": 74,
   "metadata": {
    "slideshow": {
     "slide_type": "skip"
    },
    "solution2": "hidden"
   },
   "outputs": [],
   "source": [
    "class tint(tint):\n",
    "    def __add__(self, x):\n",
    "        return self.create(int(self) + x)\n",
    "    def __radd__(self, x):\n",
    "        return self.create(x + int(self))"
   ]
  },
  {
   "cell_type": "code",
   "execution_count": 75,
   "metadata": {
    "slideshow": {
     "slide_type": "skip"
    },
    "solution2": "hidden"
   },
   "outputs": [
    {
     "data": {
      "text/plain": [
       "__main__.tint"
      ]
     },
     "execution_count": 75,
     "metadata": {},
     "output_type": "execute_result"
    }
   ],
   "source": [
    "x = tint(2)\n",
    "x = x + 2\n",
    "type(x)"
   ]
  },
  {
   "cell_type": "code",
   "execution_count": 76,
   "metadata": {
    "slideshow": {
     "slide_type": "skip"
    },
    "solution2": "hidden"
   },
   "outputs": [
    {
     "data": {
      "text/plain": [
       "4"
      ]
     },
     "execution_count": 76,
     "metadata": {},
     "output_type": "execute_result"
    }
   ],
   "source": [
    "x"
   ]
  },
  {
   "cell_type": "code",
   "execution_count": 77,
   "metadata": {
    "slideshow": {
     "slide_type": "skip"
    },
    "solution2": "hidden"
   },
   "outputs": [],
   "source": [
    "class tint(tint):\n",
    "    def __sub__(self, x):\n",
    "        return self.create(int(self) - x)\n",
    "    def __rsub__(self, x):\n",
    "        return self.create(x - int(self))"
   ]
  },
  {
   "cell_type": "code",
   "execution_count": 78,
   "metadata": {
    "slideshow": {
     "slide_type": "skip"
    },
    "solution2": "hidden"
   },
   "outputs": [],
   "source": [
    "class tint(tint):\n",
    "    def __mul__(self, x):\n",
    "        return self.create(int(self) * x)\n",
    "    def __rmul__(self, x):\n",
    "        return self.create(x * int(self))"
   ]
  },
  {
   "cell_type": "code",
   "execution_count": 79,
   "metadata": {
    "slideshow": {
     "slide_type": "skip"
    },
    "solution2": "hidden"
   },
   "outputs": [],
   "source": [
    "class tint(tint):\n",
    "    def __matmul__(self, x):\n",
    "        return self.create(int(self) @ x)\n",
    "    def __rmatmul__(self, x):\n",
    "        return self.create(x @ int(self))"
   ]
  },
  {
   "cell_type": "code",
   "execution_count": 80,
   "metadata": {
    "slideshow": {
     "slide_type": "skip"
    },
    "solution2": "hidden"
   },
   "outputs": [],
   "source": [
    "class tint(tint):\n",
    "    def __truediv__(self, x):\n",
    "        return self.create(int(self) / x)\n",
    "    def __rtruediv__(self, x):\n",
    "        return self.create(x / int(self))"
   ]
  },
  {
   "cell_type": "code",
   "execution_count": 81,
   "metadata": {
    "slideshow": {
     "slide_type": "skip"
    },
    "solution2": "hidden"
   },
   "outputs": [],
   "source": [
    "class tint(tint):\n",
    "    def __floordiv__(self, x):\n",
    "        return self.create(int(self) // x)\n",
    "    def __rfloordiv__(self, x):\n",
    "        return self.create(x // int(self))"
   ]
  },
  {
   "cell_type": "code",
   "execution_count": 82,
   "metadata": {
    "slideshow": {
     "slide_type": "skip"
    },
    "solution2": "hidden"
   },
   "outputs": [],
   "source": [
    "class tint(tint):\n",
    "    def __mod__(self, x):\n",
    "        return self.create(int(self) % x)\n",
    "    def __rmod__(self, x):\n",
    "        return self.create(x % int(self))"
   ]
  },
  {
   "cell_type": "code",
   "execution_count": 83,
   "metadata": {
    "slideshow": {
     "slide_type": "skip"
    },
    "solution2": "hidden"
   },
   "outputs": [],
   "source": [
    "class tint(tint):\n",
    "    def __divmod__(self, x):\n",
    "        return self.create(divmod(int(self), x))\n",
    "    def __rdivmod__(self, x):\n",
    "        return self.create(divmod(x, int(self)))"
   ]
  },
  {
   "cell_type": "code",
   "execution_count": 84,
   "metadata": {
    "slideshow": {
     "slide_type": "skip"
    },
    "solution2": "hidden"
   },
   "outputs": [],
   "source": [
    "class tint(tint):\n",
    "    def __pow__(self, x):\n",
    "        return self.create(int(self) ** x)\n",
    "    def __rpow__(self, x):\n",
    "        return self.create(x ** int(self))"
   ]
  },
  {
   "cell_type": "code",
   "execution_count": 85,
   "metadata": {
    "slideshow": {
     "slide_type": "skip"
    },
    "solution2": "hidden"
   },
   "outputs": [],
   "source": [
    "class tint(tint):\n",
    "    def __lshift__(self, x):\n",
    "        return self.create(int(self) << x)\n",
    "    def __rlshift__(self, x):\n",
    "        return self.create(x << int(self))"
   ]
  },
  {
   "cell_type": "code",
   "execution_count": 86,
   "metadata": {
    "slideshow": {
     "slide_type": "skip"
    },
    "solution2": "hidden"
   },
   "outputs": [],
   "source": [
    "class tint(tint):\n",
    "    def __rshift__(self, x):\n",
    "        return self.create(int(self) >> x)\n",
    "    def __rrshift__(self, x):\n",
    "        return self.create(x >> int(self))"
   ]
  },
  {
   "cell_type": "code",
   "execution_count": 87,
   "metadata": {
    "slideshow": {
     "slide_type": "skip"
    },
    "solution2": "hidden"
   },
   "outputs": [],
   "source": [
    "class tint(tint):\n",
    "    def __and__(self, x):\n",
    "        return self.create(int(self) & x)\n",
    "    def __rand__(self, x):\n",
    "        return self.create(x & int(self))"
   ]
  },
  {
   "cell_type": "code",
   "execution_count": 88,
   "metadata": {
    "slideshow": {
     "slide_type": "skip"
    },
    "solution2": "hidden"
   },
   "outputs": [],
   "source": [
    "class tint(tint):\n",
    "    def __xor__(self, x):\n",
    "        return self.create(int(self) ^ x)\n",
    "    def __rxor__(self, x):\n",
    "        return self.create(x ^ int(self))"
   ]
  },
  {
   "cell_type": "code",
   "execution_count": 89,
   "metadata": {
    "slideshow": {
     "slide_type": "skip"
    },
    "solution2": "hidden"
   },
   "outputs": [],
   "source": [
    "class tint(tint):\n",
    "    def __or__(self, x):\n",
    "        return self.create(int(self) | x)\n",
    "    def __ror__(self, x):\n",
    "        return self.create(x | int(self))"
   ]
  },
  {
   "cell_type": "code",
   "execution_count": 90,
   "metadata": {
    "slideshow": {
     "slide_type": "skip"
    },
    "solution2": "hidden"
   },
   "outputs": [],
   "source": [
    "class tint(tint):\n",
    "    def __neg__(self):\n",
    "        return self.create(-int(self))\n",
    "    def __pos__(self):\n",
    "        return self.create(+int(self))\n",
    "    def __abs__(self):\n",
    "        return self.create(abs(int(self)))\n",
    "    def __invert__(self):\n",
    "        return self.create(-int(self))"
   ]
  },
  {
   "cell_type": "code",
   "execution_count": 91,
   "metadata": {
    "slideshow": {
     "slide_type": "skip"
    },
    "solution2": "hidden"
   },
   "outputs": [],
   "source": [
    "class tint(tint):\n",
    "    def __index__(self):\n",
    "        return int(self)"
   ]
  },
  {
   "cell_type": "code",
   "execution_count": 92,
   "metadata": {
    "slideshow": {
     "slide_type": "skip"
    },
    "solution2": "hidden"
   },
   "outputs": [],
   "source": [
    "x = tint(2)\n",
    "y = x + 3 - (3 + x)"
   ]
  },
  {
   "cell_type": "code",
   "execution_count": 93,
   "metadata": {
    "slideshow": {
     "slide_type": "skip"
    },
    "solution2": "hidden"
   },
   "outputs": [
    {
     "data": {
      "text/plain": [
       "(0, __main__.tint, [('<module>', 2), ('<module>', 2), ('<module>', 1)])"
      ]
     },
     "execution_count": 93,
     "metadata": {},
     "output_type": "execute_result"
    }
   ],
   "source": [
    "y, type(y), y.slice"
   ]
  },
  {
   "cell_type": "code",
   "execution_count": 94,
   "metadata": {
    "slideshow": {
     "slide_type": "skip"
    },
    "solution2": "hidden"
   },
   "outputs": [
    {
     "data": {
      "text/plain": [
       "(1, [('<module>', 2)])"
      ]
     },
     "execution_count": 94,
     "metadata": {},
     "output_type": "execute_result"
    }
   ],
   "source": [
    "x = tint(2)\n",
    "y = tint(1)\n",
    "z = tint(3)\n",
    "m = middle(x, y, z)\n",
    "m, m.slice"
   ]
  },
  {
   "cell_type": "code",
   "execution_count": 95,
   "metadata": {
    "slideshow": {
     "slide_type": "skip"
    },
    "solution2": "hidden"
   },
   "outputs": [],
   "source": [
    "x = tint(4)\n",
    "y = square_root(x)"
   ]
  },
  {
   "cell_type": "code",
   "execution_count": 96,
   "metadata": {
    "slideshow": {
     "slide_type": "skip"
    },
    "solution2": "hidden"
   },
   "outputs": [
    {
     "data": {
      "text/plain": [
       "[('square_root', 55), ('<module>', 1)]"
      ]
     },
     "execution_count": 96,
     "metadata": {},
     "output_type": "execute_result"
    }
   ],
   "source": [
    "y.slice"
   ]
  },
  {
   "cell_type": "code",
   "execution_count": 97,
   "metadata": {
    "slideshow": {
     "slide_type": "skip"
    },
    "solution2": "hidden"
   },
   "outputs": [],
   "source": [
    "from ExpectError import ExpectError"
   ]
  },
  {
   "cell_type": "code",
   "execution_count": 98,
   "metadata": {
    "slideshow": {
     "slide_type": "skip"
    },
    "solution2": "hidden"
   },
   "outputs": [
    {
     "name": "stderr",
     "output_type": "stream",
     "text": [
      "Traceback (most recent call last):\n",
      "  File \"<ipython-input-98-e37ffc83d5d9>\", line 2, in <module>\n",
      "    y = square_root(tint(2))\n",
      "  File \"Assertions.ipynb\", line 60, in square_root\n",
      "    assert math.isclose(approx * approx, x)\n",
      "AssertionError (expected)\n"
     ]
    }
   ],
   "source": [
    "with ExpectError():\n",
    "    y = square_root(tint(2))"
   ]
  },
  {
   "cell_type": "markdown",
   "metadata": {
    "slideshow": {
     "slide_type": "skip"
    },
    "solution2": "hidden"
   },
   "source": [
    "Next steps:\n",
    "\n",
    "* implement `tfloat`\n",
    "* instrument assignments"
   ]
  },
  {
   "cell_type": "markdown",
   "metadata": {
    "slideshow": {
     "slide_type": "skip"
    },
    "solution2": "hidden"
   },
   "source": [
    "```python\n",
    "with Slicer() as slicer:\n",
    "    x = foobar(blue)\n",
    "slicer\n",
    "```\n",
    "x was initialized from ...\n",
    "blue was just there :-)"
   ]
  },
  {
   "cell_type": "markdown",
   "metadata": {
    "slideshow": {
     "slide_type": "skip"
    },
    "solution2": "hidden"
   },
   "source": [
    "Maybe just collect; then place in error message"
   ]
  }
 ],
 "metadata": {
  "ipub": {
   "bibliography": "fuzzingbook.bib",
   "toc": true
  },
  "kernelspec": {
   "display_name": "Python 3",
   "language": "python",
   "name": "python3"
  },
  "language_info": {
   "codemirror_mode": {
    "name": "ipython",
    "version": 3
   },
   "file_extension": ".py",
   "mimetype": "text/x-python",
   "name": "python",
   "nbconvert_exporter": "python",
   "pygments_lexer": "ipython3",
   "version": "3.6.10"
  },
  "toc": {
   "base_numbering": 1,
   "nav_menu": {},
   "number_sections": true,
   "sideBar": true,
   "skip_h1_title": true,
   "title_cell": "",
   "title_sidebar": "Contents",
   "toc_cell": false,
   "toc_position": {},
   "toc_section_display": true,
   "toc_window_display": true
  },
  "toc-autonumbering": false
 },
 "nbformat": 4,
 "nbformat_minor": 4
}